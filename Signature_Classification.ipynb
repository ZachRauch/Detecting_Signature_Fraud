{
  "cells": [
    {
      "cell_type": "markdown",
      "metadata": {
        "id": "xqs8gLYQvXI9"
      },
      "source": [
        "# Signature Classification"
      ]
    },
    {
      "cell_type": "markdown",
      "metadata": {
        "id": "-Am7RU7fvXI_"
      },
      "source": [
        "![img](https://github.com/ZachRauch/Signature_Classification/blob/main/images/signature_banner.jpeg?raw=1)"
      ]
    },
    {
      "cell_type": "markdown",
      "metadata": {
        "id": "OKI812-cvXI_"
      },
      "source": [
        "## Overview"
      ]
    },
    {
      "cell_type": "markdown",
      "metadata": {
        "id": "M3OYrgxTvXI_"
      },
      "source": [
        "The aim of this analysis is to identify fraudulent signatures in a dataset. My audience here is Wells Fargo's Fraud and Financial Crimes Department. Using just a small dataset with only 300 sample I was able to create a classification model to predict whether a signature is genuine or forged. "
      ]
    },
    {
      "cell_type": "markdown",
      "metadata": {
        "id": "hz2QJomWvXI_"
      },
      "source": [
        "## Business Problem"
      ]
    },
    {
      "cell_type": "markdown",
      "metadata": {
        "id": "pb5MolLSvXI_"
      },
      "source": [
        "Currently institutions and businesses recognize signatures as the primary way of authenticating transactions. Signatures are used to sign checks, authorize documents and contracts, and validate credit card transactions. According to recent studies, check fraud costs banks about $900M a year with 22 percent of all fraudulent checks attributed to signature fraud. Therefor, creating an algorithm to identify signature fraud or flagging suspicious signatures for further investigation is a valuable asset. "
      ]
    },
    {
      "cell_type": "markdown",
      "metadata": {
        "id": "HV1Bpv-9vXJA"
      },
      "source": [
        "## Imports"
      ]
    },
    {
      "cell_type": "code",
      "execution_count": 4,
      "metadata": {
        "id": "D1db6ZOMvXJB"
      },
      "outputs": [],
      "source": [
        "import pandas as pd\n",
        "import numpy as np\n",
        "import matplotlib.pyplot as plt\n",
        "%matplotlib inline\n",
        "import seaborn as sns\n",
        "import zipfile\n",
        "\n",
        "import tensorflow as tf\n",
        "from tensorflow.keras.models import Sequential\n",
        "from tensorflow import keras\n",
        "from tensorflow.keras.preprocessing.image import ImageDataGenerator, array_to_img, img_to_array, load_img\n",
        "from tensorflow.keras import models, layers, metrics, regularizers, losses\n",
        "from tensorflow.keras.wrappers import scikit_learn\n",
        "from tensorflow.keras.callbacks import EarlyStopping\n",
        "from tensorflow.keras.regularizers import l2\n",
        "from tensorflow.keras.wrappers.scikit_learn import KerasClassifier\n",
        "from tensorflow.keras.callbacks import ModelCheckpoint\n",
        "from tensorflow.keras.applications import VGG16\n",
        "from tensorflow.keras.optimizers import SGD, Adam\n",
        "\n",
        "from sklearn.model_selection import train_test_split, cross_val_score\n",
        "from sklearn.dummy import DummyClassifier\n",
        "from sklearn.metrics import auc, recall_score, precision_score, \\\n",
        "                            confusion_matrix, plot_confusion_matrix, \\\n",
        "                            roc_auc_score, roc_curve\n",
        "import pickle\n",
        "\n",
        "seed = 777\n",
        "tf.random.set_seed(seed)\n",
        "np.random.seed(seed)"
      ]
    },
    {
      "cell_type": "markdown",
      "source": [
        "The function below will plot the fit results of each model to help determine which model to use."
      ],
      "metadata": {
        "id": "6X8Ro_ZUBqLg"
      }
    },
    {
      "cell_type": "code",
      "source": [
        "def plot_results(results):\n",
        "  train_loss = results.history['loss']\n",
        "  train_acc = results.history['accuracy']\n",
        "  val_loss = results.history['val_loss']\n",
        "  val_acc = results.history['val_accuracy']\n",
        "\n",
        "  fig, (ax1, ax2) = plt.subplots(1, 2, figsize=(10, 5))\n",
        "  sns.lineplot(x=results.epoch, y=train_loss, ax=ax1, label='train_loss')\n",
        "  sns.lineplot(x=results.epoch, y=train_acc, ax=ax2, label='train_accuracy')\n",
        "\n",
        "  sns.lineplot(x=results.epoch, y=val_loss, ax=ax1, label='val_loss')\n",
        "  sns.lineplot(x=results.epoch, y=val_acc, ax=ax2, label='val_accuracy')\n",
        "  ax1.set_title('Loss')\n",
        "  ax2.set_title('Accuracy')\n",
        "  ax1.legend();\n",
        "  return "
      ],
      "metadata": {
        "id": "l5XJ8WsPBqmp"
      },
      "execution_count": 5,
      "outputs": []
    },
    {
      "cell_type": "markdown",
      "source": [
        "The function below returns the maximum validation accuracy of a model's fit and it's associated validation loss score. This is necessary because the weights of a model are saved at the highest validation accuracy score."
      ],
      "metadata": {
        "id": "8_BJX7-mcdyP"
      }
    },
    {
      "cell_type": "code",
      "source": [
        "def validation_results(results):\n",
        "  val_acc = max(results.history['val_accuracy'])\n",
        "  val_loss = results.history['val_loss'][results.history['val_accuracy'].index(val_acc)]\n",
        "  return print(f'Maximum Validation Accuracy: {val_acc}. Loss at Max Validation Accuracy: {val_loss}')\n",
        "\n"
      ],
      "metadata": {
        "id": "IB_l2mJuccDO"
      },
      "execution_count": 67,
      "outputs": []
    },
    {
      "cell_type": "markdown",
      "metadata": {
        "id": "a8GO83KVvXJC"
      },
      "source": [
        "## Colab Necessary Code"
      ]
    },
    {
      "cell_type": "markdown",
      "metadata": {
        "id": "buZ96xGIvXJC"
      },
      "source": [
        "Google Colab was used to help streamline the modeling process. Modeling using Convolutional Neural Networks can be computationally expensive, so to run this notebook faster I created a Colab account and stored the data and my models in a Google Drive file. The code below allows Google Colab to connect to your Google Drive files."
      ]
    },
    {
      "cell_type": "code",
      "execution_count": 7,
      "metadata": {
        "ExecuteTime": {
          "start_time": "2022-05-23T21:38:09.941Z"
        },
        "id": "AoKog768vXJD",
        "outputId": "3bfa0456-f938-451d-df5c-afc861786078",
        "colab": {
          "base_uri": "https://localhost:8080/"
        }
      },
      "outputs": [
        {
          "output_type": "stream",
          "name": "stdout",
          "text": [
            "Mounted at /content/drive\n"
          ]
        }
      ],
      "source": [
        "from google.colab import drive\n",
        "drive.mount('/content/drive')"
      ]
    },
    {
      "cell_type": "markdown",
      "metadata": {
        "id": "_7spvOONvXJD"
      },
      "source": [
        "## Data"
      ]
    },
    {
      "cell_type": "markdown",
      "metadata": {
        "id": "BmCDyNC-vXJD"
      },
      "source": [
        "The data used in this notebook can be found [here](https://www.kaggle.com/datasets/divyanshrai/handwritten-signatures). The dataset contains just 300 samples of genuine and forged signatures from 30 people, of which 50 percent are genuine and 50 percent are forged. "
      ]
    },
    {
      "cell_type": "code",
      "execution_count": 8,
      "metadata": {
        "ExecuteTime": {
          "start_time": "2022-05-23T21:38:09.945Z"
        },
        "id": "oLN6KyiCvXJD"
      },
      "outputs": [],
      "source": [
        "# instantiate ImageDataGenerator scaling each pixel's values down to a scale of 1\n",
        "img = ImageDataGenerator(rescale=1/255)"
      ]
    },
    {
      "cell_type": "code",
      "execution_count": 9,
      "metadata": {
        "ExecuteTime": {
          "start_time": "2022-05-23T21:38:09.945Z"
        },
        "id": "vzGmIgUNvXJE"
      },
      "outputs": [],
      "source": [
        "# For locally run notebooks\n",
        "# data_path = './Data/sample_Signature/sample_Signature/'\n",
        "# For Colab \n",
        "data_path = '/content/drive/MyDrive/sample_Signature/sample_Signature/'"
      ]
    },
    {
      "cell_type": "code",
      "execution_count": 10,
      "metadata": {
        "ExecuteTime": {
          "start_time": "2022-05-23T21:38:09.947Z"
        },
        "scrolled": false,
        "id": "5YLPyT3jvXJE",
        "outputId": "52c98d72-c47c-4598-fcd3-54e85b9e97e8",
        "colab": {
          "base_uri": "https://localhost:8080/"
        }
      },
      "outputs": [
        {
          "output_type": "stream",
          "name": "stdout",
          "text": [
            "Found 300 images belonging to 2 classes.\n"
          ]
        }
      ],
      "source": [
        "# Importing the data\n",
        "data = img.flow_from_directory(data_path, color_mode='grayscale',\\\n",
        "                               batch_size=300, class_mode='binary')"
      ]
    },
    {
      "cell_type": "code",
      "execution_count": 11,
      "metadata": {
        "ExecuteTime": {
          "start_time": "2022-05-23T21:38:09.948Z"
        },
        "id": "3Pqc-LzpvXJE",
        "outputId": "e4d653c4-a8ea-408a-ada2-f4eec1658d69",
        "colab": {
          "base_uri": "https://localhost:8080/"
        }
      },
      "outputs": [
        {
          "output_type": "execute_result",
          "data": {
            "text/plain": [
              "{'forged': 0, 'genuine': 1}"
            ]
          },
          "metadata": {},
          "execution_count": 11
        }
      ],
      "source": [
        "data.class_indices"
      ]
    },
    {
      "cell_type": "code",
      "execution_count": 12,
      "metadata": {
        "ExecuteTime": {
          "start_time": "2022-05-23T21:38:09.949Z"
        },
        "id": "g5elCNMhvXJE"
      },
      "outputs": [],
      "source": [
        "data_images, data_labels = next(data)"
      ]
    },
    {
      "cell_type": "code",
      "execution_count": 13,
      "metadata": {
        "ExecuteTime": {
          "start_time": "2022-05-23T21:38:09.951Z"
        },
        "id": "u7ytuxUavXJE",
        "outputId": "6569ffcd-7f81-4563-9c0f-aa4a49c2c73d",
        "colab": {
          "base_uri": "https://localhost:8080/"
        }
      },
      "outputs": [
        {
          "output_type": "execute_result",
          "data": {
            "text/plain": [
              "(300, 256, 256, 1)"
            ]
          },
          "metadata": {},
          "execution_count": 13
        }
      ],
      "source": [
        "data_images.shape"
      ]
    },
    {
      "cell_type": "code",
      "execution_count": 14,
      "metadata": {
        "ExecuteTime": {
          "start_time": "2022-05-23T21:38:09.953Z"
        },
        "id": "kPdHqTndvXJF",
        "outputId": "dbf9d89c-ef6c-47c7-e91d-4c6fa3ab586d",
        "colab": {
          "base_uri": "https://localhost:8080/"
        }
      },
      "outputs": [
        {
          "output_type": "execute_result",
          "data": {
            "text/plain": [
              "(300,)"
            ]
          },
          "metadata": {},
          "execution_count": 14
        }
      ],
      "source": [
        "data_labels.shape"
      ]
    },
    {
      "cell_type": "code",
      "execution_count": 15,
      "metadata": {
        "ExecuteTime": {
          "start_time": "2022-05-23T21:38:09.957Z"
        },
        "id": "WZzSvkj8vXJF"
      },
      "outputs": [],
      "source": [
        "X_train, X_test, y_train, y_test = train_test_split( \\\n",
        "            data_images, data_labels, random_state=seed, test_size=.2)"
      ]
    },
    {
      "cell_type": "code",
      "execution_count": 16,
      "metadata": {
        "ExecuteTime": {
          "start_time": "2022-05-23T21:38:09.959Z"
        },
        "id": "4wZjDWZqvXJF",
        "outputId": "9e7e3189-aa6b-48cb-d1d3-b03aaf0a46e1",
        "colab": {
          "base_uri": "https://localhost:8080/"
        }
      },
      "outputs": [
        {
          "output_type": "execute_result",
          "data": {
            "text/plain": [
              "(240, 256, 256, 1)"
            ]
          },
          "metadata": {},
          "execution_count": 16
        }
      ],
      "source": [
        "X_train.shape"
      ]
    },
    {
      "cell_type": "code",
      "execution_count": 17,
      "metadata": {
        "ExecuteTime": {
          "start_time": "2022-05-23T21:38:09.961Z"
        },
        "scrolled": true,
        "id": "Rc501TY5vXJF",
        "outputId": "85e914d1-aa02-4502-b1f8-2cfc1ef1bf96",
        "colab": {
          "base_uri": "https://localhost:8080/"
        }
      },
      "outputs": [
        {
          "output_type": "execute_result",
          "data": {
            "text/plain": [
              "(240,)"
            ]
          },
          "metadata": {},
          "execution_count": 17
        }
      ],
      "source": [
        "y_train.shape"
      ]
    },
    {
      "cell_type": "markdown",
      "metadata": {
        "id": "tntkZFEyvXJF"
      },
      "source": [
        "Above we instantiate Keras' ImageDataGenerator which will scale each pixel's values down to a value from 0 to 1. Next we import the data and separate into images themselves and their respective classes or labels, to be used as our target variable. Finally we split it into a train and test dataset. We are left with an array for the images where the first number indicates the number of data points or images. The next two numbers are the shape of each image in pixels. and the final number is the number of channels. Channels indicate the colors, however in this case we are using 'grayscale' for black and white so we have a single channel. For our labels, we have an array with just each label that corresponds to each image."
      ]
    },
    {
      "cell_type": "markdown",
      "metadata": {
        "id": "UVdG-L_LvXJF"
      },
      "source": [
        "### Image Augmentation"
      ]
    },
    {
      "cell_type": "markdown",
      "metadata": {
        "id": "39FeLlXcvXJF"
      },
      "source": [
        "Because we have such a small dataset it is important to use image augmentation to artificially expand the training dataset. Below we do several forms of data augmentation individually before combining each techniques at the end."
      ]
    },
    {
      "cell_type": "markdown",
      "metadata": {
        "id": "mfPWWgIhvXJF"
      },
      "source": [
        "#### Zoom Augmentation"
      ]
    },
    {
      "cell_type": "markdown",
      "metadata": {
        "id": "QptJ-ri4vXJG"
      },
      "source": [
        "The first technique we explore is zoom range. Entering a range of values, .25 and 1 in this case, randomly applies a zoom to each image within that range."
      ]
    },
    {
      "cell_type": "code",
      "execution_count": 18,
      "metadata": {
        "ExecuteTime": {
          "start_time": "2022-05-23T21:38:09.964Z"
        },
        "id": "PZ6whQ3uvXJG"
      },
      "outputs": [],
      "source": [
        "aug = ImageDataGenerator(zoom_range=[.25,1])\n",
        "aug.fit(X_train)\n",
        "aug_data = aug.flow(X_train, y_train, batch_size=240)"
      ]
    },
    {
      "cell_type": "code",
      "execution_count": 19,
      "metadata": {
        "ExecuteTime": {
          "start_time": "2022-05-23T21:38:09.965Z"
        },
        "id": "DFqbojNOvXJG"
      },
      "outputs": [],
      "source": [
        "aug_images, aug_labels = next(aug_data)"
      ]
    },
    {
      "cell_type": "code",
      "execution_count": 20,
      "metadata": {
        "ExecuteTime": {
          "start_time": "2022-05-23T21:38:09.966Z"
        },
        "id": "qkXS6XkGvXJG",
        "outputId": "9c075ef3-3d96-47e9-b452-a4a82cfcb8c6",
        "colab": {
          "base_uri": "https://localhost:8080/"
        }
      },
      "outputs": [
        {
          "output_type": "execute_result",
          "data": {
            "text/plain": [
              "(240, 256, 256, 1)"
            ]
          },
          "metadata": {},
          "execution_count": 20
        }
      ],
      "source": [
        "aug_images.shape"
      ]
    },
    {
      "cell_type": "code",
      "execution_count": 21,
      "metadata": {
        "ExecuteTime": {
          "start_time": "2022-05-23T21:38:09.972Z"
        },
        "scrolled": false,
        "id": "UjJKT8SFvXJG",
        "outputId": "969d0ab2-890c-421c-91e3-1eddaba817f2",
        "colab": {
          "base_uri": "https://localhost:8080/"
        }
      },
      "outputs": [
        {
          "output_type": "execute_result",
          "data": {
            "text/plain": [
              "(240,)"
            ]
          },
          "metadata": {},
          "execution_count": 21
        }
      ],
      "source": [
        "aug_labels.shape"
      ]
    },
    {
      "cell_type": "code",
      "execution_count": 22,
      "metadata": {
        "ExecuteTime": {
          "start_time": "2022-05-23T21:38:09.973Z"
        },
        "scrolled": true,
        "id": "poSjeaj7vXJG",
        "outputId": "0c2ba467-7c36-4485-d0aa-af0d88c64309",
        "colab": {
          "base_uri": "https://localhost:8080/",
          "height": 0
        }
      },
      "outputs": [
        {
          "output_type": "execute_result",
          "data": {
            "text/plain": [
              "<PIL.Image.Image image mode=L size=256x256 at 0x7F448FCC9B50>"
            ],
            "image/png": "[encoded data removed]"
          },
          "metadata": {},
          "execution_count": 22
        }
      ],
      "source": [
        "array_to_img(aug_images[0])"
      ]
    },
    {
      "cell_type": "code",
      "execution_count": 23,
      "metadata": {
        "ExecuteTime": {
          "start_time": "2022-05-23T21:38:09.975Z"
        },
        "id": "MzswphG1vXJG"
      },
      "outputs": [],
      "source": [
        "new_images1 = np.concatenate([X_train, aug_images])\n",
        "new_labels1 = np.concatenate([y_train, aug_labels])"
      ]
    },
    {
      "cell_type": "code",
      "execution_count": 24,
      "metadata": {
        "ExecuteTime": {
          "start_time": "2022-05-23T21:38:09.976Z"
        },
        "id": "PN4ZC3mOvXJG",
        "outputId": "0a0c5c3e-a60e-46c6-ea62-49f587777144",
        "colab": {
          "base_uri": "https://localhost:8080/"
        }
      },
      "outputs": [
        {
          "output_type": "execute_result",
          "data": {
            "text/plain": [
              "(480, 256, 256, 1)"
            ]
          },
          "metadata": {},
          "execution_count": 24
        }
      ],
      "source": [
        "new_images1.shape"
      ]
    },
    {
      "cell_type": "code",
      "execution_count": 25,
      "metadata": {
        "ExecuteTime": {
          "start_time": "2022-05-23T21:38:09.978Z"
        },
        "scrolled": true,
        "id": "YDUYQaTqvXJG",
        "outputId": "16af2f15-0055-422b-ed13-32de3635eaa2",
        "colab": {
          "base_uri": "https://localhost:8080/"
        }
      },
      "outputs": [
        {
          "output_type": "execute_result",
          "data": {
            "text/plain": [
              "(480,)"
            ]
          },
          "metadata": {},
          "execution_count": 25
        }
      ],
      "source": [
        "new_labels1.shape"
      ]
    },
    {
      "cell_type": "markdown",
      "metadata": {
        "id": "Jet8xmUhvXJG"
      },
      "source": [
        "#### Width Augmentation"
      ]
    },
    {
      "cell_type": "markdown",
      "metadata": {
        "id": "YkwyS_qwvXJG"
      },
      "source": [
        "The next method for augmentation used was width shift range. With a range of .3 the images will be randomly assigned a width down to .3 of the original image size. "
      ]
    },
    {
      "cell_type": "code",
      "execution_count": 26,
      "metadata": {
        "ExecuteTime": {
          "start_time": "2022-05-23T21:38:09.979Z"
        },
        "id": "Yg3YiPGPvXJG"
      },
      "outputs": [],
      "source": [
        "aug = ImageDataGenerator(width_shift_range=.3)\n",
        "aug.fit(X_train)\n",
        "aug2_data = aug.flow(X_train, y_train, batch_size=240)"
      ]
    },
    {
      "cell_type": "code",
      "execution_count": 27,
      "metadata": {
        "ExecuteTime": {
          "start_time": "2022-05-23T21:38:09.980Z"
        },
        "id": "H0wIwUz6vXJG"
      },
      "outputs": [],
      "source": [
        "aug2_images, aug2_labels = next(aug2_data)"
      ]
    },
    {
      "cell_type": "code",
      "execution_count": 28,
      "metadata": {
        "ExecuteTime": {
          "start_time": "2022-05-23T21:38:09.981Z"
        },
        "id": "pEbzXXgEvXJG"
      },
      "outputs": [],
      "source": [
        "new_images2 = np.concatenate([new_images1, aug2_images])\n",
        "new_labels2 = np.concatenate([new_labels1, aug2_labels])"
      ]
    },
    {
      "cell_type": "markdown",
      "metadata": {
        "id": "kz2R0vZXvXJG"
      },
      "source": [
        "#### Height Augmentation"
      ]
    },
    {
      "cell_type": "markdown",
      "metadata": {
        "id": "apqjnq7FvXJG"
      },
      "source": [
        "The next method for augmentation used was height shift range. With a range of .3 the images will be randomly assigned a height down to .3 of the original image size."
      ]
    },
    {
      "cell_type": "code",
      "execution_count": 29,
      "metadata": {
        "ExecuteTime": {
          "start_time": "2022-05-23T21:38:09.987Z"
        },
        "id": "2rff4_8gvXJH"
      },
      "outputs": [],
      "source": [
        "aug = ImageDataGenerator(height_shift_range=.3)\n",
        "aug.fit(X_train)\n",
        "aug3_data = aug.flow(X_train, y_train, batch_size=240)"
      ]
    },
    {
      "cell_type": "code",
      "execution_count": 30,
      "metadata": {
        "ExecuteTime": {
          "start_time": "2022-05-23T21:38:09.991Z"
        },
        "id": "ashjDjFFvXJH"
      },
      "outputs": [],
      "source": [
        "aug3_images, aug3_labels = next(aug3_data)"
      ]
    },
    {
      "cell_type": "code",
      "execution_count": 31,
      "metadata": {
        "ExecuteTime": {
          "start_time": "2022-05-23T21:38:09.992Z"
        },
        "id": "fFIe-T3XvXJH"
      },
      "outputs": [],
      "source": [
        "new_images3 = np.concatenate([new_images2, aug3_images])\n",
        "new_labels3 = np.concatenate([new_labels2, aug3_labels])"
      ]
    },
    {
      "cell_type": "markdown",
      "metadata": {
        "ExecuteTime": {
          "end_time": "2022-05-18T18:10:53.996172Z",
          "start_time": "2022-05-18T18:10:53.989621Z"
        },
        "id": "B8XsmJ0EvXJH"
      },
      "source": [
        "#### Rotation Augmentation"
      ]
    },
    {
      "cell_type": "markdown",
      "metadata": {
        "ExecuteTime": {
          "end_time": "2022-05-20T18:31:05.497987Z",
          "start_time": "2022-05-20T18:31:05.418085Z"
        },
        "id": "jLSDBSO2vXJH"
      },
      "source": [
        "Next we apply a random rotation to each image up to 30 degrees."
      ]
    },
    {
      "cell_type": "code",
      "execution_count": 32,
      "metadata": {
        "ExecuteTime": {
          "start_time": "2022-05-23T21:38:09.995Z"
        },
        "id": "CK9KiDPhvXJH"
      },
      "outputs": [],
      "source": [
        "aug = ImageDataGenerator(rotation_range=30)\n",
        "aug.fit(X_train)\n",
        "aug4_data = aug.flow(X_train, y_train, batch_size=240)"
      ]
    },
    {
      "cell_type": "code",
      "execution_count": 33,
      "metadata": {
        "ExecuteTime": {
          "start_time": "2022-05-23T21:38:09.996Z"
        },
        "id": "I8LmKNd3vXJH"
      },
      "outputs": [],
      "source": [
        "aug4_images, aug4_labels = next(aug4_data)"
      ]
    },
    {
      "cell_type": "code",
      "execution_count": 34,
      "metadata": {
        "ExecuteTime": {
          "start_time": "2022-05-23T21:38:09.997Z"
        },
        "id": "aR0fca9VvXJH"
      },
      "outputs": [],
      "source": [
        "new_images4 = np.concatenate([new_images3, aug4_images])\n",
        "new_labels4 = np.concatenate([new_labels3, aug4_labels])"
      ]
    },
    {
      "cell_type": "markdown",
      "metadata": {
        "id": "LBzaMTfJvXJH"
      },
      "source": [
        "#### Shear Augmentation"
      ]
    },
    {
      "cell_type": "markdown",
      "metadata": {
        "id": "JbsT95-LvXJH"
      },
      "source": [
        "We then apply a random shear value to each image. This angles the corners of each image up to 30 degrees."
      ]
    },
    {
      "cell_type": "code",
      "execution_count": 35,
      "metadata": {
        "ExecuteTime": {
          "start_time": "2022-05-23T21:38:10.002Z"
        },
        "id": "mGMoQo95vXJH"
      },
      "outputs": [],
      "source": [
        "aug = ImageDataGenerator(shear_range=30)\n",
        "aug.fit(X_train)\n",
        "aug5_data = aug.flow(X_train, y_train, batch_size=240)"
      ]
    },
    {
      "cell_type": "code",
      "execution_count": 36,
      "metadata": {
        "ExecuteTime": {
          "start_time": "2022-05-23T21:38:10.004Z"
        },
        "id": "21MvEHi_vXJH"
      },
      "outputs": [],
      "source": [
        "aug5_images, aug5_labels = next(aug5_data)"
      ]
    },
    {
      "cell_type": "code",
      "execution_count": 37,
      "metadata": {
        "ExecuteTime": {
          "start_time": "2022-05-23T21:38:10.006Z"
        },
        "id": "3WFnt5WKvXJH"
      },
      "outputs": [],
      "source": [
        "new_images5 = np.concatenate([new_images4, aug5_images])\n",
        "new_labels5 = np.concatenate([new_labels4, aug5_labels])"
      ]
    },
    {
      "cell_type": "markdown",
      "metadata": {
        "id": "O3ezlH8GvXJH"
      },
      "source": [
        "#### Brightness Augmentation"
      ]
    },
    {
      "cell_type": "markdown",
      "metadata": {
        "ExecuteTime": {
          "end_time": "2022-05-20T18:49:59.247310Z",
          "start_time": "2022-05-20T18:49:59.202157Z"
        },
        "id": "da77Igg-vXJH"
      },
      "source": [
        "Finally we have brightness augmentation. This applies a random brightness shift within the provided range. "
      ]
    },
    {
      "cell_type": "code",
      "execution_count": 38,
      "metadata": {
        "ExecuteTime": {
          "start_time": "2022-05-23T21:38:10.007Z"
        },
        "id": "D7uxo593vXJH"
      },
      "outputs": [],
      "source": [
        "aug = ImageDataGenerator(brightness_range=(1,2))\n",
        "aug.fit(X_train)\n",
        "aug5_data = aug.flow(X_train, y_train, batch_size=240)"
      ]
    },
    {
      "cell_type": "code",
      "execution_count": 39,
      "metadata": {
        "ExecuteTime": {
          "start_time": "2022-05-23T21:38:10.009Z"
        },
        "id": "_3z1BKomvXJH"
      },
      "outputs": [],
      "source": [
        "aug6_images, aug6_labels = next(aug5_data)"
      ]
    },
    {
      "cell_type": "code",
      "execution_count": 40,
      "metadata": {
        "ExecuteTime": {
          "start_time": "2022-05-23T21:38:10.012Z"
        },
        "id": "BhNIrcZ0vXJH"
      },
      "outputs": [],
      "source": [
        "new_images6 = np.concatenate([new_images5, aug6_images])\n",
        "new_labels6 = np.concatenate([new_labels5, aug6_labels])"
      ]
    },
    {
      "cell_type": "code",
      "execution_count": 41,
      "metadata": {
        "ExecuteTime": {
          "start_time": "2022-05-23T21:38:10.015Z"
        },
        "id": "SWRdJsNavXJH",
        "outputId": "65aca035-606a-4bec-fc35-96873b361c07",
        "colab": {
          "base_uri": "https://localhost:8080/"
        }
      },
      "outputs": [
        {
          "output_type": "execute_result",
          "data": {
            "text/plain": [
              "(1680,)"
            ]
          },
          "metadata": {},
          "execution_count": 41
        }
      ],
      "source": [
        "new_labels6.shape"
      ]
    },
    {
      "cell_type": "markdown",
      "metadata": {
        "id": "Qy2mleSmvXJH"
      },
      "source": [
        "#### A little bit of everything Augmentation"
      ]
    },
    {
      "cell_type": "markdown",
      "metadata": {
        "id": "ZcnEYvsPvXJI"
      },
      "source": [
        "Now that we have augmented each image with a single augmentation, we will again augment all images with a combination of each augmentation. In the end we are left with 3360 images."
      ]
    },
    {
      "cell_type": "code",
      "execution_count": 42,
      "metadata": {
        "ExecuteTime": {
          "start_time": "2022-05-23T21:38:10.016Z"
        },
        "id": "3829IgOxvXJI"
      },
      "outputs": [],
      "source": [
        "aug = ImageDataGenerator(zoom_range=[.7,.9], width_shift_range=.15, height_shift_range=.15, rotation_range=15, shear_range=15, brightness_range=(1,1.5))\n",
        "aug.fit(new_images6)\n",
        "aug_data_final = aug.flow(new_images6, new_labels6, batch_size=1680)"
      ]
    },
    {
      "cell_type": "code",
      "execution_count": 43,
      "metadata": {
        "ExecuteTime": {
          "start_time": "2022-05-23T21:38:10.018Z"
        },
        "id": "JW4bL7CKvXJI"
      },
      "outputs": [],
      "source": [
        "aug_final_images, aug_final_labels = next(aug_data_final)"
      ]
    },
    {
      "cell_type": "code",
      "execution_count": 44,
      "metadata": {
        "ExecuteTime": {
          "start_time": "2022-05-23T21:38:10.020Z"
        },
        "id": "Q1bNJeMFvXJI"
      },
      "outputs": [],
      "source": [
        "final_images = np.concatenate([new_images6, aug_final_images])\n",
        "final_labels = np.concatenate([new_labels6, aug_final_labels])"
      ]
    },
    {
      "cell_type": "code",
      "execution_count": 45,
      "metadata": {
        "ExecuteTime": {
          "start_time": "2022-05-23T21:38:10.022Z"
        },
        "id": "HF0Bj5E6vXJI",
        "outputId": "f6e6de5d-ddbe-4b87-b09f-49b9e7c393bd",
        "colab": {
          "base_uri": "https://localhost:8080/"
        }
      },
      "outputs": [
        {
          "output_type": "execute_result",
          "data": {
            "text/plain": [
              "(3360, 256, 256, 1)"
            ]
          },
          "metadata": {},
          "execution_count": 45
        }
      ],
      "source": [
        "final_images.shape"
      ]
    },
    {
      "cell_type": "code",
      "execution_count": 46,
      "metadata": {
        "ExecuteTime": {
          "start_time": "2022-05-23T21:38:10.022Z"
        },
        "id": "FHuJpdYdvXJI",
        "outputId": "8f4ff39f-32e8-4c52-a19d-988111534eaa",
        "colab": {
          "base_uri": "https://localhost:8080/"
        }
      },
      "outputs": [
        {
          "output_type": "execute_result",
          "data": {
            "text/plain": [
              "(3360,)"
            ]
          },
          "metadata": {},
          "execution_count": 46
        }
      ],
      "source": [
        "final_labels.shape"
      ]
    },
    {
      "cell_type": "code",
      "execution_count": 47,
      "metadata": {
        "ExecuteTime": {
          "start_time": "2022-05-23T21:38:10.023Z"
        },
        "id": "KDHJ-M3KvXJI",
        "outputId": "e88bd906-0d02-4eb4-a377-6383e0020d25",
        "colab": {
          "base_uri": "https://localhost:8080/",
          "height": 0
        }
      },
      "outputs": [
        {
          "output_type": "execute_result",
          "data": {
            "text/plain": [
              "<PIL.Image.Image image mode=L size=256x256 at 0x7F448FC61850>"
            ],
            "image/png": "[encoded data removed]"
          },
          "metadata": {},
          "execution_count": 47
        }
      ],
      "source": [
        "array_to_img(final_images[0])"
      ]
    },
    {
      "cell_type": "code",
      "execution_count": 48,
      "metadata": {
        "ExecuteTime": {
          "start_time": "2022-05-23T21:38:10.024Z"
        },
        "id": "JYjdm_96vXJI",
        "outputId": "a8f3d7bd-d4c4-48ef-d850-e9c70765e39f",
        "colab": {
          "base_uri": "https://localhost:8080/"
        }
      },
      "outputs": [
        {
          "output_type": "execute_result",
          "data": {
            "text/plain": [
              "0.0"
            ]
          },
          "metadata": {},
          "execution_count": 48
        }
      ],
      "source": [
        "final_labels[0]"
      ]
    },
    {
      "cell_type": "markdown",
      "metadata": {
        "id": "39G3SketvXJI"
      },
      "source": [
        "## Modeling"
      ]
    },
    {
      "cell_type": "markdown",
      "source": [
        "I used a Keras wrapper in order to utilize scikit learns cross validation to assist in evaluating each model. I also used metrics of validation loss and validation accuracy in determining the final model by fitting each model with a validation split of 20%. I will only provide a few models here but there are more models in the [Workspace](https://github.com/ZachRauch/Signature_Classification/tree/main/Workspace) folder."
      ],
      "metadata": {
        "id": "qvS-owlCA9ov"
      }
    },
    {
      "cell_type": "markdown",
      "metadata": {
        "id": "R0nNsUasvXJI"
      },
      "source": [
        "### Dummy Model"
      ]
    },
    {
      "cell_type": "markdown",
      "metadata": {
        "id": "uexOQ9kSvXJI"
      },
      "source": [
        "Our first model will be a baseline model for comparison. We will utilize Sklearn's DummyClassifier which uses the most frequent class as it's prediction. "
      ]
    },
    {
      "cell_type": "code",
      "execution_count": 49,
      "metadata": {
        "ExecuteTime": {
          "start_time": "2022-05-23T21:38:10.025Z"
        },
        "id": "tey1PwCRvXJI",
        "outputId": "63c17c95-282c-4f19-d295-3ad0d90f9ec6",
        "colab": {
          "base_uri": "https://localhost:8080/"
        }
      },
      "outputs": [
        {
          "output_type": "execute_result",
          "data": {
            "text/plain": [
              "DummyClassifier(strategy='most_frequent')"
            ]
          },
          "metadata": {},
          "execution_count": 49
        }
      ],
      "source": [
        "dummy_model = DummyClassifier(strategy='most_frequent')\n",
        "dummy_model.fit(final_images, final_labels)"
      ]
    },
    {
      "cell_type": "code",
      "execution_count": 50,
      "metadata": {
        "ExecuteTime": {
          "start_time": "2022-05-23T21:38:10.026Z"
        },
        "id": "dHgh5LJfvXJJ"
      },
      "outputs": [],
      "source": [
        "dummy_acc = dummy_model.score(X_test, y_test)"
      ]
    },
    {
      "cell_type": "code",
      "execution_count": 51,
      "metadata": {
        "ExecuteTime": {
          "start_time": "2022-05-23T21:38:10.027Z"
        },
        "id": "RymtHseivXJJ",
        "outputId": "6c0ab53b-5b45-47be-948e-3e7e8198f003",
        "colab": {
          "base_uri": "https://localhost:8080/"
        }
      },
      "outputs": [
        {
          "output_type": "execute_result",
          "data": {
            "text/plain": [
              "0.45"
            ]
          },
          "metadata": {},
          "execution_count": 51
        }
      ],
      "source": [
        "dummy_acc"
      ]
    },
    {
      "cell_type": "markdown",
      "source": [
        "Our goal for each model is to beat this baseline score."
      ],
      "metadata": {
        "id": "SJyZklw99I0w"
      }
    },
    {
      "cell_type": "markdown",
      "metadata": {
        "id": "SCZViGanvXJJ"
      },
      "source": [
        "### Model 1"
      ]
    },
    {
      "cell_type": "markdown",
      "source": [
        "Model1 uses Adam as its optimizer with a lowered the learning rate. It has two 2D convolutional layers, a dense layer with a 25 percent dropout rate, a dense layer with L2 or Ridge regularization, and a dense layer with both a dropout and L2 regularization. Regularization and dropout were utilized to combat overfitting as CNN networks are prone to do. The architecture is provided but the crossvalidation and fit for the model were run in it's respective notebook in the [Workspace](https://github.com/ZachRauch/Signature_Classification/tree/main/Workspace) folder. Model1 was fit over 20 epochs with batch sizes of 32. In addition a ModelCheckpoint was used to save the weghts of the best Epoch in regards to validation accuracy."
      ],
      "metadata": {
        "id": "V2KjcZvR9aae"
      }
    },
    {
      "cell_type": "code",
      "execution_count": 52,
      "metadata": {
        "id": "1pZ2Yau8vXJJ",
        "outputId": "6d280423-a5e2-487a-8674-73cb527d67ef",
        "colab": {
          "base_uri": "https://localhost:8080/"
        }
      },
      "outputs": [
        {
          "output_type": "stream",
          "name": "stderr",
          "text": [
            "/usr/local/lib/python3.7/dist-packages/keras/optimizer_v2/adam.py:105: UserWarning: The `lr` argument is deprecated, use `learning_rate` instead.\n",
            "  super(Adam, self).__init__(name, **kwargs)\n"
          ]
        }
      ],
      "source": [
        "adam = Adam(lr=.0001)\n",
        "def build_model():\n",
        "    model1 = Sequential()\n",
        "    model1.add(layers.Conv2D(filters=64,\n",
        "                       kernel_size=(3,3),\n",
        "                       activation='relu',\n",
        "                       input_shape=(256,256,1)))\n",
        "\n",
        "    model1.add(layers.MaxPool2D())\n",
        "\n",
        "    model1.add(layers.Conv2D(128, (3,3), activation='relu'))\n",
        "\n",
        "    model1.add(layers.MaxPool2D())\n",
        "    \n",
        "    model1.add(layers.Flatten())\n",
        "    model1.add(layers.Dense(64, activation='relu'))\n",
        "    model1.add(layers.Dropout(.25))\n",
        "\n",
        "    model1.add(layers.Dense(32, activation='relu', kernel_regularizer=l2(0.05)))\n",
        "\n",
        "    model1.add(layers.Dense(16, activation='relu', kernel_regularizer=l2(0.01)))\n",
        "    model1.add(layers.Dropout(.25))\n",
        "    \n",
        "    model1.add(layers.Dense(1, activation='sigmoid'))\n",
        "\n",
        "    model1.compile(optimizer=adam,\n",
        "                  loss='binary_crossentropy',\n",
        "                  metrics=['accuracy'])\n",
        "    return model"
      ]
    },
    {
      "cell_type": "code",
      "execution_count": 53,
      "metadata": {
        "id": "_P_XnyYWvXJJ",
        "outputId": "ced919cf-cba0-45cf-b11b-555e8640380c",
        "colab": {
          "base_uri": "https://localhost:8080/"
        }
      },
      "outputs": [
        {
          "output_type": "stream",
          "name": "stderr",
          "text": [
            "/usr/local/lib/python3.7/dist-packages/ipykernel_launcher.py:4: DeprecationWarning: KerasClassifier is deprecated, use Sci-Keras (https://github.com/adriangb/scikeras) instead. See https://www.adriangb.com/scikeras/stable/migration.html for help migrating.\n",
            "  after removing the cwd from sys.path.\n"
          ]
        }
      ],
      "source": [
        "model1 = scikit_learn.KerasClassifier(build_model,\n",
        "                                          epochs=20, \n",
        "                                          batch_size=32, \n",
        "                                          verbose=2)"
      ]
    },
    {
      "cell_type": "code",
      "source": [
        "model1_filepath = '/content/drive/MyDrive/model1_checkpoint'\n",
        "model1_checkpoint_callback = ModelCheckpoint(filepath=model1_filepath,\n",
        "                                                 save_best_only=True,\n",
        "                                                 monitor='val_accuracy',\n",
        "                                                 mode='max')"
      ],
      "metadata": {
        "id": "w23NYq4o6SFp"
      },
      "execution_count": 54,
      "outputs": []
    },
    {
      "cell_type": "code",
      "execution_count": 55,
      "metadata": {
        "id": "vRJlg_C7vXJJ"
      },
      "outputs": [],
      "source": [
        "with open('drive/MyDrive/model1_cv_pickle.sav', 'rb') as f:\n",
        "    model1_cv_results = pickle.load(f)"
      ]
    },
    {
      "cell_type": "code",
      "execution_count": 56,
      "metadata": {
        "id": "xYNrawsGvXJJ",
        "outputId": "790476ac-ad22-4b8a-961a-e8b4c054c456",
        "colab": {
          "base_uri": "https://localhost:8080/"
        }
      },
      "outputs": [
        {
          "output_type": "execute_result",
          "data": {
            "text/plain": [
              "0.5895833373069763"
            ]
          },
          "metadata": {},
          "execution_count": 56
        }
      ],
      "source": [
        "model1_cv = model1_cv_results.mean()\n",
        "model1_cv"
      ]
    },
    {
      "cell_type": "code",
      "source": [
        "with open('drive/MyDrive/model1_results_pickle.sav', 'rb') as f:\n",
        "    model1_results = pickle.load(f)"
      ],
      "metadata": {
        "id": "edG_sehI6i0T"
      },
      "execution_count": 57,
      "outputs": []
    },
    {
      "cell_type": "code",
      "source": [
        "plot_results(model1_results)"
      ],
      "metadata": {
        "id": "eWxI4Pr56ix-",
        "outputId": "4af4e054-90b9-4f35-efec-bb4041794d2f",
        "colab": {
          "base_uri": "https://localhost:8080/",
          "height": 336
        }
      },
      "execution_count": 58,
      "outputs": [
        {
          "output_type": "display_data",
          "data": {
            "text/plain": [
              "<Figure size 720x360 with 2 Axes>"
            ],
            "image/png": "[encoded data removed]"
          },
          "metadata": {
            "needs_background": "light"
          }
        }
      ]
    },
    {
      "cell_type": "code",
      "source": [
        "validation_results(model1_results)"
      ],
      "metadata": {
        "id": "OnuFz6wRd5sY",
        "outputId": "989f48e4-d215-4f23-b4d0-0a1f722d52a3",
        "colab": {
          "base_uri": "https://localhost:8080/"
        }
      },
      "execution_count": 68,
      "outputs": [
        {
          "output_type": "stream",
          "name": "stdout",
          "text": [
            "Maximum Validation Accuracy: 0.538690447807312. Loss at Max Validation Accuracy: 2.1739375591278076\n"
          ]
        }
      ]
    },
    {
      "cell_type": "markdown",
      "source": [
        "Overall Model1 had a crossvalidation score of 59%. However, when fit, the maximum validation accuracy was 54% and the loss at this point was over 2. "
      ],
      "metadata": {
        "id": "tFQHiAHSkzdt"
      }
    },
    {
      "cell_type": "markdown",
      "metadata": {
        "id": "R_xtVGgrvXJJ"
      },
      "source": [
        "### Model 2"
      ]
    },
    {
      "cell_type": "code",
      "execution_count": 69,
      "metadata": {
        "id": "mxcX3w_RvXJJ",
        "outputId": "402eaeb2-0ecc-434b-f5c5-81a2be841010",
        "colab": {
          "base_uri": "https://localhost:8080/"
        }
      },
      "outputs": [
        {
          "output_type": "stream",
          "name": "stderr",
          "text": [
            "/usr/local/lib/python3.7/dist-packages/keras/optimizer_v2/gradient_descent.py:102: UserWarning: The `lr` argument is deprecated, use `learning_rate` instead.\n",
            "  super(SGD, self).__init__(name, **kwargs)\n"
          ]
        }
      ],
      "source": [
        "sgd = SGD(lr=.0001)\n",
        "def build_model():\n",
        "    model = Sequential()\n",
        "    model.add(layers.Conv2D(filters=64,\n",
        "                       kernel_size=(3,3),\n",
        "                       activation='relu',\n",
        "                       input_shape=(256,256,1)))\n",
        "\n",
        "    model.add(layers.MaxPool2D())\n",
        "    \n",
        "    model.add(layers.Flatten())\n",
        "    \n",
        "    model.add(layers.Dense(128, activation='relu'))\n",
        "    model.add(layers.Dropout(.05))\n",
        "    \n",
        "    model.add(layers.Dense(64, activation='relu'))\n",
        "    model.add(layers.Dropout(.25))\n",
        "\n",
        "    model.add(layers.Dense(16, activation='relu'))\n",
        "    \n",
        "    model.add(layers.Dense(1, activation='sigmoid'))\n",
        "\n",
        "    model.compile(optimizer=sgd,\n",
        "                  loss='binary_crossentropy',\n",
        "                  metrics=['accuracy'])\n",
        "    return model"
      ]
    },
    {
      "cell_type": "code",
      "execution_count": 70,
      "metadata": {
        "id": "PtGNSDIfvXJJ",
        "outputId": "249bf194-95f5-41bd-fa5a-082e02c221bd",
        "colab": {
          "base_uri": "https://localhost:8080/"
        }
      },
      "outputs": [
        {
          "output_type": "stream",
          "name": "stderr",
          "text": [
            "/usr/local/lib/python3.7/dist-packages/ipykernel_launcher.py:4: DeprecationWarning: KerasClassifier is deprecated, use Sci-Keras (https://github.com/adriangb/scikeras) instead. See https://www.adriangb.com/scikeras/stable/migration.html for help migrating.\n",
            "  after removing the cwd from sys.path.\n"
          ]
        }
      ],
      "source": [
        "model2 = scikit_learn.KerasClassifier(build_model,\n",
        "                                          epochs=10,\n",
        "                                          batch_size=24,\n",
        "                                          verbose=2)"
      ]
    },
    {
      "cell_type": "code",
      "source": [
        "model2_filepath = '/content/drive/MyDrive/model2_checkpoint'\n",
        "model2_checkpoint_callback = ModelCheckpoint(filepath=model2_filepath,\n",
        "                                                 save_best_only=True,\n",
        "                                                 monitor='val_accuracy',\n",
        "                                                 mode='max')"
      ],
      "metadata": {
        "id": "EPFBxpM3eR3e"
      },
      "execution_count": 71,
      "outputs": []
    },
    {
      "cell_type": "code",
      "execution_count": 72,
      "metadata": {
        "id": "KTYgcnjRvXJJ"
      },
      "outputs": [],
      "source": [
        "with open('drive/MyDrive/model2_cv_pickle.sav', 'rb') as f:\n",
        "    model2_cv_results = pickle.load(f)"
      ]
    },
    {
      "cell_type": "code",
      "execution_count": 73,
      "metadata": {
        "id": "RaSi1DFRvXJJ",
        "outputId": "258c5c92-98d6-45f0-9896-979067455de8",
        "colab": {
          "base_uri": "https://localhost:8080/"
        }
      },
      "outputs": [
        {
          "output_type": "execute_result",
          "data": {
            "text/plain": [
              "0.5773809552192688"
            ]
          },
          "metadata": {},
          "execution_count": 73
        }
      ],
      "source": [
        "model2_cv = model2_cv_results.mean()\n",
        "model2_cv"
      ]
    },
    {
      "cell_type": "code",
      "source": [
        "with open('drive/MyDrive/model2_results_pickle.sav', 'rb') as f:\n",
        "    model2_results = pickle.load(f)"
      ],
      "metadata": {
        "id": "4iRd7sOqxw7V"
      },
      "execution_count": 74,
      "outputs": []
    },
    {
      "cell_type": "code",
      "source": [
        "plot_results(model2_results)"
      ],
      "metadata": {
        "id": "vxAsbhY0xwyr",
        "outputId": "bb693805-0512-4ee6-d2f9-1768125d733b",
        "colab": {
          "base_uri": "https://localhost:8080/",
          "height": 336
        }
      },
      "execution_count": 75,
      "outputs": [
        {
          "output_type": "display_data",
          "data": {
            "text/plain": [
              "<Figure size 720x360 with 2 Axes>"
            ],
            "image/png": "[encoded data removed]"
          },
          "metadata": {
            "needs_background": "light"
          }
        }
      ]
    },
    {
      "cell_type": "code",
      "source": [
        "validation_results(model2_results)"
      ],
      "metadata": {
        "id": "A7xfDDIAdkOE",
        "outputId": "6de7b6ef-c1fd-44d0-8168-7e06f756672a",
        "colab": {
          "base_uri": "https://localhost:8080/"
        }
      },
      "execution_count": 77,
      "outputs": [
        {
          "output_type": "stream",
          "name": "stdout",
          "text": [
            "Maximum Validation Accuracy: 0.5416666865348816. Loss at Max Validation Accuracy: 0.7453436851501465\n"
          ]
        }
      ]
    },
    {
      "cell_type": "markdown",
      "source": [
        "Overall Model2 had a crossvalidation score of 58%. The maximum validation accuracy was 54% and the loss at this point was just .75. This is an improvement over Model1."
      ],
      "metadata": {
        "id": "dsbvaAFdH55p"
      }
    },
    {
      "cell_type": "markdown",
      "metadata": {
        "id": "hfNUMqWUvXJJ"
      },
      "source": [
        "### Model 3"
      ]
    },
    {
      "cell_type": "code",
      "execution_count": 78,
      "metadata": {
        "id": "PPQI9D-HvXJJ"
      },
      "outputs": [],
      "source": [
        "adam = Adam(learning_rate=.0001)\n",
        "def build_model():\n",
        "    model = Sequential()\n",
        "\n",
        "    model.add(layers.Conv2D(16, (3,3), activation='relu', input_shape=(256,256,1)))\n",
        "    model.add(layers.MaxPool2D())\n",
        "    model.add(layers.Dropout(0.2))\n",
        "\n",
        "    model.add(layers.Conv2D(32, 3, activation='relu'))\n",
        "    model.add(layers.MaxPool2D())\n",
        "\n",
        "    model.add(layers.Flatten())\n",
        "\n",
        "    model.add(layers.Dense(64, activation='relu'))\n",
        "\n",
        "    model.add(layers.Dense(128, activation='relu'))\n",
        "    model.add(layers.Dropout(0.2))\n",
        "\n",
        "    model.add(layers.Dense(64, activation='relu'))\n",
        "\n",
        "    model.add(layers.Dense(32, activation='relu'))\n",
        "\n",
        "    model.add(layers.Dense(1, activation='sigmoid'))\n",
        "\n",
        "    model.compile(optimizer=adam,\n",
        "                  loss='binary_crossentropy',\n",
        "                  metrics=['accuracy'])\n",
        "    \n",
        "    return model"
      ]
    },
    {
      "cell_type": "code",
      "execution_count": 79,
      "metadata": {
        "id": "aArVl-SIvXJJ",
        "outputId": "473300ec-9b7a-43b8-de32-8d6b1cd33a88",
        "colab": {
          "base_uri": "https://localhost:8080/"
        }
      },
      "outputs": [
        {
          "output_type": "stream",
          "name": "stderr",
          "text": [
            "/usr/local/lib/python3.7/dist-packages/ipykernel_launcher.py:4: DeprecationWarning: KerasClassifier is deprecated, use Sci-Keras (https://github.com/adriangb/scikeras) instead. See https://www.adriangb.com/scikeras/stable/migration.html for help migrating.\n",
            "  after removing the cwd from sys.path.\n"
          ]
        }
      ],
      "source": [
        "model3 = scikit_learn.KerasClassifier(build_model,\n",
        "                                          epochs=25,\n",
        "                                          batch_size=32,\n",
        "                                          verbose=2)"
      ]
    },
    {
      "cell_type": "code",
      "source": [
        "model3_filepath = '/content/drive/MyDrive/model3_checkpoint'\n",
        "model3_checkpoint_callback = ModelCheckpoint(filepath=model3_filepath,\n",
        "                                                 save_best_only=True,\n",
        "                                                 monitor='val_accuracy',\n",
        "                                                 mode='max')"
      ],
      "metadata": {
        "id": "WeuZOPYdgJWw"
      },
      "execution_count": 80,
      "outputs": []
    },
    {
      "cell_type": "code",
      "execution_count": 81,
      "metadata": {
        "id": "b8hl0Pv-vXJJ"
      },
      "outputs": [],
      "source": [
        "with open('drive/MyDrive/model3_cv_pickle.sav', 'rb') as f:\n",
        "    model3_cv_results = pickle.load(f)"
      ]
    },
    {
      "cell_type": "code",
      "source": [
        "model3_cv = model3_cv_results.mean()\n",
        "model3_cv"
      ],
      "metadata": {
        "id": "ylMKk6EUyIpE",
        "outputId": "4fd7d11b-e69f-4a9f-9f85-96d5d4ff537b",
        "colab": {
          "base_uri": "https://localhost:8080/"
        }
      },
      "execution_count": 82,
      "outputs": [
        {
          "output_type": "execute_result",
          "data": {
            "text/plain": [
              "0.5497023820877075"
            ]
          },
          "metadata": {},
          "execution_count": 82
        }
      ]
    },
    {
      "cell_type": "code",
      "source": [
        "with open('drive/MyDrive/model3_results_pickle.sav', 'rb') as f:\n",
        "    model3_results = pickle.load(f)"
      ],
      "metadata": {
        "id": "npY-9zPkyIms"
      },
      "execution_count": 83,
      "outputs": []
    },
    {
      "cell_type": "code",
      "source": [
        "plot_results(model3_results)"
      ],
      "metadata": {
        "id": "aTOVAhJSTKDc",
        "outputId": "4fcf7cec-2941-48cb-a8cb-9c591aa8eccc",
        "colab": {
          "base_uri": "https://localhost:8080/",
          "height": 336
        }
      },
      "execution_count": 84,
      "outputs": [
        {
          "output_type": "display_data",
          "data": {
            "text/plain": [
              "<Figure size 720x360 with 2 Axes>"
            ],
            "image/png": "[encoded data removed]"
          },
          "metadata": {
            "needs_background": "light"
          }
        }
      ]
    },
    {
      "cell_type": "code",
      "source": [
        "validation_results(model3_results)"
      ],
      "metadata": {
        "id": "ZYbjdn6vIgkb",
        "outputId": "6cc335ff-a7dc-400f-94ef-445374f324d3",
        "colab": {
          "base_uri": "https://localhost:8080/"
        }
      },
      "execution_count": 85,
      "outputs": [
        {
          "output_type": "stream",
          "name": "stdout",
          "text": [
            "Maximum Validation Accuracy: 0.569940447807312. Loss at Max Validation Accuracy: 0.6886444091796875\n"
          ]
        }
      ]
    },
    {
      "cell_type": "markdown",
      "source": [
        "Model3's crossvalidation score was 55%. When fit the model's maximum validation accuracy was 57% with a loss of .69. This is the highest fitted validation accuracy and lowest loss score yet, however, the crossvalidation score could be higher."
      ],
      "metadata": {
        "id": "y3v4ioGfIg_7"
      }
    },
    {
      "cell_type": "markdown",
      "source": [
        "### Model 4"
      ],
      "metadata": {
        "id": "3OY3tpboq_5d"
      }
    },
    {
      "cell_type": "code",
      "source": [
        "adam = Adam(learning_rate=.0001)\n",
        "def build_model():\n",
        "    model = Sequential()\n",
        "\n",
        "    model.add(layers.Conv2D(16, (3,3), activation='relu', input_shape=(256,256,1)))\n",
        "    model.add(layers.MaxPool2D())\n",
        "    model.add(layers.Dropout(0.2))\n",
        "\n",
        "    model.add(layers.Conv2D(32, (7,7), activation='relu'))\n",
        "    model.add(layers.MaxPool2D())\n",
        "\n",
        "    model.add(layers.Conv2D(64, (5,5), activation='relu'))\n",
        "    model.add(layers.MaxPool2D())\n",
        "\n",
        "    model.add(layers.Flatten())\n",
        "\n",
        "    model.add(layers.Dense(128, activation='relu', kernel_regularizer=l2(.05)))\n",
        "    model.add(layers.Dropout(0.2))\n",
        "\n",
        "    model.add(layers.Dense(64, activation='relu'))\n",
        "    model.add(layers.Dropout(0.4))\n",
        "\n",
        "    model.add(layers.Dense(64, activation='relu', kernel_regularizer=l2(.1)))\n",
        "\n",
        "    model.add(layers.Dense(32, activation='relu'))\n",
        "\n",
        "    model.add(layers.Dense(1, activation='sigmoid'))\n",
        "\n",
        "    model.compile(optimizer=adam,\n",
        "                  loss='binary_crossentropy',\n",
        "                  metrics=['accuracy'])\n",
        "    \n",
        "    return model"
      ],
      "metadata": {
        "id": "Ff6FQ4Jxq_r5"
      },
      "execution_count": 86,
      "outputs": []
    },
    {
      "cell_type": "code",
      "source": [
        "model4 = scikit_learn.KerasClassifier(build_model,\n",
        "                                          epochs=50,\n",
        "                                          batch_size=32,\n",
        "                                          verbose=2)"
      ],
      "metadata": {
        "id": "LTezRKXsq_pR",
        "outputId": "0675d5f8-a2e5-4ba9-fdb8-1981fef02710",
        "colab": {
          "base_uri": "https://localhost:8080/"
        }
      },
      "execution_count": 87,
      "outputs": [
        {
          "output_type": "stream",
          "name": "stderr",
          "text": [
            "/usr/local/lib/python3.7/dist-packages/ipykernel_launcher.py:4: DeprecationWarning: KerasClassifier is deprecated, use Sci-Keras (https://github.com/adriangb/scikeras) instead. See https://www.adriangb.com/scikeras/stable/migration.html for help migrating.\n",
            "  after removing the cwd from sys.path.\n"
          ]
        }
      ]
    },
    {
      "cell_type": "code",
      "source": [
        "model4_filepath = '/content/drive/MyDrive/model4_checkpoint'\n",
        "model4_checkpoint_callback = ModelCheckpoint(filepath=model4_filepath,\n",
        "                                                 save_best_only=True,\n",
        "                                                 monitor='val_accuracy',\n",
        "                                                 mode='max')"
      ],
      "metadata": {
        "id": "WH6LvVOVgYa1"
      },
      "execution_count": 88,
      "outputs": []
    },
    {
      "cell_type": "code",
      "source": [
        "with open('drive/MyDrive/model4_cv_pickle.sav', 'rb') as f:\n",
        "    model4_cv_results = pickle.load(f)"
      ],
      "metadata": {
        "id": "1csp47Yfq_jv"
      },
      "execution_count": 89,
      "outputs": []
    },
    {
      "cell_type": "code",
      "source": [
        "model4_cv = model4_cv_results.mean()\n",
        "model4_cv"
      ],
      "metadata": {
        "id": "J3hSN1Flq_hS",
        "outputId": "0560e98d-8116-4d78-ef90-846b7a2b229e",
        "colab": {
          "base_uri": "https://localhost:8080/"
        }
      },
      "execution_count": 90,
      "outputs": [
        {
          "output_type": "execute_result",
          "data": {
            "text/plain": [
              "0.5889880895614624"
            ]
          },
          "metadata": {},
          "execution_count": 90
        }
      ]
    },
    {
      "cell_type": "code",
      "source": [
        "with open('drive/MyDrive/model4_results_pickle.sav', 'rb') as f:\n",
        "    model4_results = pickle.load(f)"
      ],
      "metadata": {
        "id": "mr7QuOPoq_ed"
      },
      "execution_count": 91,
      "outputs": []
    },
    {
      "cell_type": "code",
      "source": [
        "plot_results(model4_results)"
      ],
      "metadata": {
        "id": "0-XXQk7Bq_bx",
        "outputId": "d7acaae6-4905-4ef4-91be-0a196124bd6f",
        "colab": {
          "base_uri": "https://localhost:8080/",
          "height": 336
        }
      },
      "execution_count": 92,
      "outputs": [
        {
          "output_type": "display_data",
          "data": {
            "text/plain": [
              "<Figure size 720x360 with 2 Axes>"
            ],
            "image/png": "[encoded data removed]"
          },
          "metadata": {
            "needs_background": "light"
          }
        }
      ]
    },
    {
      "cell_type": "code",
      "source": [
        "validation_results(model4_results)"
      ],
      "metadata": {
        "id": "mjR4I4BMJeGt",
        "outputId": "2ee25da5-4a0d-4991-bb0f-17c42da86dd1",
        "colab": {
          "base_uri": "https://localhost:8080/"
        }
      },
      "execution_count": 93,
      "outputs": [
        {
          "output_type": "stream",
          "name": "stdout",
          "text": [
            "Maximum Validation Accuracy: 0.5803571343421936. Loss at Max Validation Accuracy: 2.7924892902374268\n"
          ]
        }
      ]
    },
    {
      "cell_type": "markdown",
      "source": [
        "Model4 crossvalidation score is 59% with a fitted validation accuracy of 58%. However, the loss score here would be 2.8 which is quite high. "
      ],
      "metadata": {
        "id": "HYMiRXRgJepH"
      }
    },
    {
      "cell_type": "markdown",
      "source": [
        "### Model 5 VGG16"
      ],
      "metadata": {
        "id": "_QSJKzSDxNzj"
      }
    },
    {
      "cell_type": "markdown",
      "source": [
        "VGG16 is an example of a pre-trained model for image classification. It's results are promising after just one epoch, however, it requires the data to be in a specific format which in turn takes up more system memory. Currently, my resources are limited in regards to memory so I am unable to fully train and implament this model. With additional resources it is likely that this or other pretrained models will perform better. "
      ],
      "metadata": {
        "id": "5NS63_a__zN0"
      }
    },
    {
      "cell_type": "code",
      "source": [
        "# vgg16 = VGG16(input_shape=(224,224, 3), classes=1, include_top=False, classifier_activation='sigmoid')\n",
        "# model5 = Sequential()\n",
        "# model5.add(vgg16)\n",
        "# model5.add(layers.Flatten())\n",
        "# model5.add(layers.Dense(1, activation='sigmoid'))\n",
        "# adam = Adam(learning_rate=.0001)\n",
        "# model5.compile(optimizer=adam,\n",
        "#                   loss='binary_crossentropy',\n",
        "#                   metrics=['accuracy'])"
      ],
      "metadata": {
        "id": "2pMUPPybxNoD"
      },
      "execution_count": 94,
      "outputs": []
    },
    {
      "cell_type": "code",
      "source": [
        "with open('drive/MyDrive/model5_results_pickle.sav', 'rb') as f:\n",
        "    model5_results = pickle.load(f)"
      ],
      "metadata": {
        "id": "s27ux5pZxNhb"
      },
      "execution_count": 95,
      "outputs": []
    },
    {
      "cell_type": "code",
      "source": [
        "accuracy = model5_results.history['accuracy']\n",
        "validation_accuracy = model5_results.history['val_accuracy']\n",
        "\n",
        "loss = model5_results.history['loss']\n",
        "validation_loss =  model5_results.history['val_loss']"
      ],
      "metadata": {
        "id": "c3xbXZoqzrTB"
      },
      "execution_count": 96,
      "outputs": []
    },
    {
      "cell_type": "code",
      "source": [
        "print(f'Accuracy: {accuracy[0]}')\n",
        "print(f'Validation Accuracy: {validation_accuracy[0]}')\n",
        "print(f'Loss: {loss[0]}')\n",
        "print(f'Validation Loss: {validation_loss[0]}')"
      ],
      "metadata": {
        "id": "VQ7MDPXc0i-X",
        "outputId": "4208d1d0-089e-4366-91a8-cf528bc5cb15",
        "colab": {
          "base_uri": "https://localhost:8080/"
        }
      },
      "execution_count": 97,
      "outputs": [
        {
          "output_type": "stream",
          "name": "stdout",
          "text": [
            "Accuracy: 0.5107886791229248\n",
            "Validation Accuracy: 0.555059552192688\n",
            "Loss: 0.7597837448120117\n",
            "Validation Loss: 0.6887924075126648\n"
          ]
        }
      ]
    },
    {
      "cell_type": "code",
      "source": [
        "# with open('drive/MyDrive/model5_pickle.sav', 'rb') as f:\n",
        "#     model5 = pickle.load(f)"
      ],
      "metadata": {
        "id": "0ZoUzU1_xNWa"
      },
      "execution_count": 98,
      "outputs": []
    },
    {
      "cell_type": "markdown",
      "source": [
        "### Model 7"
      ],
      "metadata": {
        "id": "Hkg30IE_LIhP"
      }
    },
    {
      "cell_type": "code",
      "source": [
        "adam = Adam(learning_rate=.0001)\n",
        "def build_model():\n",
        "    model = Sequential()\n",
        "\n",
        "    model.add(layers.Conv2D(128, (7,7), activation='relu', input_shape=(256,256,1)))\n",
        "    model.add(layers.MaxPool2D())\n",
        "\n",
        "    model.add(layers.Conv2D(64, (5,5), activation='relu'))\n",
        "    model.add(layers.MaxPool2D())\n",
        "\n",
        "    model.add(layers.Conv2D(32, (3,3), activation='relu'))\n",
        "    model.add(layers.MaxPool2D())\n",
        "\n",
        "    model.add(layers.Flatten())\n",
        "\n",
        "    model.add(layers.Dense(128, activation='relu', kernel_regularizer=l2(.05)))\n",
        "    model.add(layers.Dropout(0.1))\n",
        "\n",
        "    model.add(layers.Dense(128, activation='relu'))\n",
        "    model.add(layers.Dropout(0.2))\n",
        "\n",
        "    model.add(layers.Dense(64, activation='relu', kernel_regularizer=l2(.05)))\n",
        "\n",
        "    model.add(layers.Dense(32, activation='relu'))\n",
        "\n",
        "    model.add(layers.Dense(1, activation='sigmoid'))\n",
        "\n",
        "    model.compile(optimizer=adam,\n",
        "                  loss='binary_crossentropy',\n",
        "                  metrics=['accuracy'])\n",
        "    \n",
        "    return model"
      ],
      "metadata": {
        "id": "V_4s1zluLIUf"
      },
      "execution_count": 99,
      "outputs": []
    },
    {
      "cell_type": "code",
      "source": [
        "model7 = scikit_learn.KerasClassifier(build_model,\n",
        "                                          epochs=30,\n",
        "                                          batch_size=40,\n",
        "                                          verbose=2)"
      ],
      "metadata": {
        "id": "CjR-ksXPLISO",
        "outputId": "906780b3-3e9e-4727-afe6-85f1b1ed90d5",
        "colab": {
          "base_uri": "https://localhost:8080/"
        }
      },
      "execution_count": 100,
      "outputs": [
        {
          "output_type": "stream",
          "name": "stderr",
          "text": [
            "/usr/local/lib/python3.7/dist-packages/ipykernel_launcher.py:4: DeprecationWarning: KerasClassifier is deprecated, use Sci-Keras (https://github.com/adriangb/scikeras) instead. See https://www.adriangb.com/scikeras/stable/migration.html for help migrating.\n",
            "  after removing the cwd from sys.path.\n"
          ]
        }
      ]
    },
    {
      "cell_type": "code",
      "source": [
        "model7_filepath = '/content/drive/MyDrive/model7_checkpoint'\n",
        "model7_checkpoint_callback = ModelCheckpoint(filepath=model7_filepath,\n",
        "                                                 save_best_only=True,\n",
        "                                                 monitor='val_accuracy',\n",
        "                                                 mode='max')"
      ],
      "metadata": {
        "id": "R2Ugsh1sgprN"
      },
      "execution_count": 101,
      "outputs": []
    },
    {
      "cell_type": "code",
      "source": [
        "with open('drive/MyDrive/model7_cv_pickle.sav', 'rb') as f:\n",
        "    model7_cv_results = pickle.load(f)"
      ],
      "metadata": {
        "id": "hhESlCbULIPg"
      },
      "execution_count": 102,
      "outputs": []
    },
    {
      "cell_type": "code",
      "source": [
        "model7_cv = model7_cv_results.mean()\n",
        "model7_cv"
      ],
      "metadata": {
        "id": "2wCmR6HILIET",
        "outputId": "776795d6-8be7-4b47-c24b-6793d6978eb0",
        "colab": {
          "base_uri": "https://localhost:8080/"
        }
      },
      "execution_count": 103,
      "outputs": [
        {
          "output_type": "execute_result",
          "data": {
            "text/plain": [
              "0.549404776096344"
            ]
          },
          "metadata": {},
          "execution_count": 103
        }
      ]
    },
    {
      "cell_type": "code",
      "source": [
        "with open('drive/MyDrive/model7_results_pickle.sav', 'rb') as f:\n",
        "    model7_results = pickle.load(f)"
      ],
      "metadata": {
        "id": "lklDT4zKLIBY"
      },
      "execution_count": 104,
      "outputs": []
    },
    {
      "cell_type": "code",
      "source": [
        "plot_results(model7_results)"
      ],
      "metadata": {
        "id": "-qSt29wmLH-h",
        "outputId": "1650b95d-3ac7-4924-d834-c359a0bccd0c",
        "colab": {
          "base_uri": "https://localhost:8080/",
          "height": 336
        }
      },
      "execution_count": 105,
      "outputs": [
        {
          "output_type": "display_data",
          "data": {
            "text/plain": [
              "<Figure size 720x360 with 2 Axes>"
            ],
            "image/png": "[encoded data removed]"
          },
          "metadata": {
            "needs_background": "light"
          }
        }
      ]
    },
    {
      "cell_type": "code",
      "source": [
        "validation_results(model7_results)"
      ],
      "metadata": {
        "id": "kROn5yuZLyNT",
        "outputId": "a3aa599b-91d8-47f0-f42d-279cb9cfd969",
        "colab": {
          "base_uri": "https://localhost:8080/"
        }
      },
      "execution_count": 106,
      "outputs": [
        {
          "output_type": "stream",
          "name": "stdout",
          "text": [
            "Maximum Validation Accuracy: 0.5803571343421936. Loss at Max Validation Accuracy: 3.880034923553467\n"
          ]
        }
      ]
    },
    {
      "cell_type": "markdown",
      "source": [
        "Model7 crossvalidation score is 55% with a fitted validation accuracy of 58%. However, the loss score here would be 3.9 which is quite high."
      ],
      "metadata": {
        "id": "1GK7iQhXLy1q"
      }
    },
    {
      "cell_type": "markdown",
      "metadata": {
        "id": "1Qs-_MbpvXJK"
      },
      "source": [
        "## Final Model Evaluation"
      ]
    },
    {
      "cell_type": "markdown",
      "source": [
        "For the final model I chose Model3. Model3 had some of the best validation accuracies while maintaining a low loss. "
      ],
      "metadata": {
        "id": "5mCagXWEojsg"
      }
    },
    {
      "cell_type": "code",
      "execution_count": 107,
      "metadata": {
        "id": "vZcXfMrJvXJK"
      },
      "outputs": [],
      "source": [
        "with open('drive/MyDrive/model3_pickle.sav', 'rb') as f:\n",
        "    final_model = pickle.load(f)"
      ]
    },
    {
      "cell_type": "code",
      "execution_count": 108,
      "metadata": {
        "id": "fVB30uYRvXJK",
        "outputId": "a120c42b-746d-4018-dd91-b9e96d494bf8",
        "colab": {
          "base_uri": "https://localhost:8080/"
        }
      },
      "outputs": [
        {
          "output_type": "stream",
          "name": "stdout",
          "text": [
            "2/2 - 11s - loss: 0.6802 - accuracy: 0.6667 - 11s/epoch - 6s/step\n"
          ]
        },
        {
          "output_type": "execute_result",
          "data": {
            "text/plain": [
              "0.6666666865348816"
            ]
          },
          "metadata": {},
          "execution_count": 108
        }
      ],
      "source": [
        "final_model.score(X_test, y_test)"
      ]
    },
    {
      "cell_type": "code",
      "execution_count": 112,
      "metadata": {
        "id": "xkqi_fx9vXJK",
        "outputId": "c1586fcc-a779-4de7-8c3e-03b30a50bf41",
        "colab": {
          "base_uri": "https://localhost:8080/",
          "height": 269
        }
      },
      "outputs": [
        {
          "output_type": "display_data",
          "data": {
            "text/plain": [
              "<Figure size 432x288 with 2 Axes>"
            ],
            "image/png": "[encoded data removed]"
          },
          "metadata": {
            "needs_background": "light"
          }
        }
      ],
      "source": [
        "color = sns.color_palette(\"light:#CD2626\", as_cmap=True)\n",
        "preds = final_model.predict(X_test)\n",
        "cm = confusion_matrix(y_test, preds)\n",
        "sns.heatmap(cm, annot=True, cmap=color, \n",
        "            xticklabels= ['Forged', 'Genuine'],\n",
        "            yticklabels= ['Forged', 'Genuine'])\n",
        "plt.savefig('/content/drive/MyDrive/confusion_matrix.png')\n",
        "plt.savefig('/content/drive/MyDrive/confusion_matrix.jpeg');"
      ]
    },
    {
      "cell_type": "code",
      "execution_count": 113,
      "metadata": {
        "id": "wgb5tzBRvXJK",
        "outputId": "7af64af0-2ff8-4423-e2ca-b482b51652e7",
        "colab": {
          "base_uri": "https://localhost:8080/",
          "height": 265
        }
      },
      "outputs": [
        {
          "output_type": "display_data",
          "data": {
            "text/plain": [
              "<Figure size 432x288 with 1 Axes>"
            ],
            "image/png": "[encoded data removed]"
          },
          "metadata": {
            "needs_background": "light"
          }
        }
      ],
      "source": [
        "# generate a no skill prediction (majority class)\n",
        "ns_probs = [0 for _ in range(len(y_test))]\n",
        "# predict probabilities\n",
        "lr_probs = final_model.predict_proba(X_test)\n",
        "# keep probabilities for the positive outcome only\n",
        "lr_probs = lr_probs[:, 1]\n",
        "# calculate scores\n",
        "ns_auc = roc_auc_score(y_test, ns_probs)\n",
        "lr_auc = round((roc_auc_score(y_test, lr_probs)), 2)\n",
        "# calculate roc curves\n",
        "ns_fpr, ns_tpr, _ = roc_curve(y_test, ns_probs)\n",
        "lr_fpr, lr_tpr, _ = roc_curve(y_test, lr_probs)\n",
        "# plot the roc curve for the model\n",
        "plt.plot(lr_fpr, lr_tpr, label=f'AUC = {lr_auc}', color='steelblue') \n",
        "# show the legend\n",
        "plt.legend(loc='lower right');\n",
        "plt.savefig('/content/drive/MyDrive/auc_curve.png')\n",
        "plt.savefig('/content/drive/MyDrive/auc_curve.jpeg');"
      ]
    },
    {
      "cell_type": "markdown",
      "metadata": {
        "id": "qCY6i90KvXJK"
      },
      "source": [
        "## Next Steps and Limitations"
      ]
    },
    {
      "cell_type": "markdown",
      "metadata": {
        "id": "f-P2Xf3NvXJK"
      },
      "source": [
        "- In this case my access to data was limited and and a bit resrepresentative of real data. First off, I started with just 300 images. Ideally, I would have more data to train my models on increasing their accuracies. Next the classes of genuine and forged signatures were balanced which is unlikely to happen in the real world. It is likely that a collection of forged signatures may be hard to come by and therefor be underrepresented in actual data. This may make recognising patterns within the forged signatures more difficult. Finally, there are different forms of forgery that are likely absent from this dataset. Forgeries may be random/blind, untrained, or skilled forgeries. It is unclear which of these this dataset includes. \n",
        "- Another hinderance to this project was resources. More memory, computing power and time would prove quite benificial in producing better models. More memory would allow me to run more tests, create more eleborate models and utilize more data. More computing power would save time and also allow for more complex models. More time would allow me to further my research, apply it, and again run more complex models. "
      ]
    },
    {
      "cell_type": "markdown",
      "metadata": {
        "id": "vhC2bUenvXJK"
      },
      "source": [
        "## Conclusion"
      ]
    },
    {
      "cell_type": "markdown",
      "source": [
        "I created a model that accurately classifies signatures correctly 67 percent of the time. With more data, time, and resources this accuracy may increase substantially. "
      ],
      "metadata": {
        "id": "KabXcrE2NZxr"
      }
    },
    {
      "cell_type": "markdown",
      "source": [
        "## App"
      ],
      "metadata": {
        "id": "bJTTMZ53K39w"
      }
    },
    {
      "cell_type": "markdown",
      "source": [
        "To demonstrate this model's usitility I have developed an app that uses the model developed in this notebook to classify any uploaded images. "
      ],
      "metadata": {
        "id": "6Hwo1u6gb93x"
      }
    },
    {
      "cell_type": "code",
      "source": [
        "!pip install streamlit\n",
        "!pip install pyngrok"
      ],
      "metadata": {
        "id": "l9X7t6leWgYo"
      },
      "execution_count": null,
      "outputs": []
    },
    {
      "cell_type": "code",
      "source": [
        "import streamlit as st\n",
        "from pyngrok import ngrok"
      ],
      "metadata": {
        "id": "vXFfP9lVDnOd",
        "outputId": "a652feb9-d785-46ea-ccd4-7b0726833ecc",
        "colab": {
          "base_uri": "https://localhost:8080/"
        }
      },
      "execution_count": 1,
      "outputs": [
        {
          "output_type": "stream",
          "name": "stderr",
          "text": [
            "2022-05-31 23:48:22.053 INFO    numexpr.utils: NumExpr defaulting to 2 threads.\n"
          ]
        }
      ]
    },
    {
      "cell_type": "code",
      "source": [
        "!streamlit run /content/drive/MyDrive/app.py & npx localtunnel --port 8501"
      ],
      "metadata": {
        "id": "DN1DxV0UEmx4",
        "outputId": "c41e9835-2004-451b-ee74-9fed24119b6f",
        "colab": {
          "base_uri": "https://localhost:8080/"
        }
      },
      "execution_count": null,
      "outputs": [
        {
          "output_type": "stream",
          "name": "stdout",
          "text": [
            "2022-05-31 19:33:06.280 INFO    numexpr.utils: NumExpr defaulting to 2 threads.\n",
            "\u001b[K\u001b[?25h\u001b[0m\n",
            "\u001b[34m\u001b[1m  You can now view your Streamlit app in your browser.\u001b[0m\n",
            "\u001b[0m\n",
            "\u001b[34m  Network URL: \u001b[0m\u001b[1mhttp://172.28.0.2:8501\u001b[0m\n",
            "\u001b[34m  External URL: \u001b[0m\u001b[1mhttp://35.233.218.135:8501\u001b[0m\n",
            "\u001b[0m\n",
            "npx: installed 22 in 2.325s\n",
            "your url is: https://rotten-rooms-worry-35-233-218-135.loca.lt\n",
            "2022-05-31 19:33:27.676714: W tensorflow/core/common_runtime/gpu/gpu_bfc_allocator.cc:39] Overriding allow_growth setting because the TF_FORCE_GPU_ALLOW_GROWTH environment variable is set. Original config value was 0.\n",
            "\u001b[34m  Stopping...\u001b[0m\n",
            "^C\n"
          ]
        }
      ]
    }
  ],
  "metadata": {
    "kernelspec": {
      "display_name": "tf-test",
      "language": "python",
      "name": "tf-test"
    },
    "language_info": {
      "codemirror_mode": {
        "name": "ipython",
        "version": 3
      },
      "file_extension": ".py",
      "mimetype": "text/x-python",
      "name": "python",
      "nbconvert_exporter": "python",
      "pygments_lexer": "ipython3",
      "version": "3.6.13"
    },
    "toc": {
      "base_numbering": 1,
      "nav_menu": {},
      "number_sections": true,
      "sideBar": true,
      "skip_h1_title": false,
      "title_cell": "Table of Contents",
      "title_sidebar": "Contents",
      "toc_cell": false,
      "toc_position": {},
      "toc_section_display": true,
      "toc_window_display": false
    },
    "colab": {
      "name": "Signature_Classification.ipynb",
      "provenance": []
    },
    "accelerator": "GPU"
  },
  "nbformat": 4,
  "nbformat_minor": 0
}