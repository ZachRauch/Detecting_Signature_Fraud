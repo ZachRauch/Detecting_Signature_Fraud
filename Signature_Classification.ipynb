{
  "cells": [
    {
      "cell_type": "markdown",
      "metadata": {
        "id": "xqs8gLYQvXI9"
      },
      "source": [
        "# Signature Classification"
      ]
    },
    {
      "cell_type": "markdown",
      "metadata": {
        "id": "-Am7RU7fvXI_"
      },
      "source": [
        "![img](https://github.com/ZachRauch/Signature_Classification/blob/main/images/signature_banner.jpeg?raw=1)"
      ]
    },
    {
      "cell_type": "markdown",
      "metadata": {
        "id": "OKI812-cvXI_"
      },
      "source": [
        "## Overview"
      ]
    },
    {
      "cell_type": "markdown",
      "metadata": {
        "id": "M3OYrgxTvXI_"
      },
      "source": [
        "The aim of this analysis is to identify fraudulent signatures in a dataset. My audience here is _______. Using just a small dataset with only 300 sample I was able to create a "
      ]
    },
    {
      "cell_type": "markdown",
      "metadata": {
        "id": "hz2QJomWvXI_"
      },
      "source": [
        "## Business Problem"
      ]
    },
    {
      "cell_type": "markdown",
      "metadata": {
        "id": "pb5MolLSvXI_"
      },
      "source": [
        "Currently institutions and businesses recognize signatures as the primary way of authenticating transactions. Signatures are used to sign checks, authorize documents and contracts, and validate credit card transactions. According to recent studies, check fraud costs banks about $900M a year with 22 percent of all fraudulent checks attributed to signature fraud. Therefor, creating an algorithm to identify signature fraud is a valuable asset. "
      ]
    },
    {
      "cell_type": "markdown",
      "metadata": {
        "id": "HV1Bpv-9vXJA"
      },
      "source": [
        "## Imports"
      ]
    },
    {
      "cell_type": "code",
      "execution_count": 1,
      "metadata": {
        "id": "D1db6ZOMvXJB"
      },
      "outputs": [],
      "source": [
        "import pandas as pd\n",
        "import numpy as np\n",
        "import matplotlib.pyplot as plt\n",
        "%matplotlib inline\n",
        "import seaborn as sns\n",
        "import tensorflow \n",
        "from tensorflow.keras.models import Sequential\n",
        "import zipfile\n",
        "\n",
        "from tensorflow import keras\n",
        "from tensorflow.keras.preprocessing.image import ImageDataGenerator, array_to_img, img_to_array, load_img\n",
        "from tensorflow.keras import models, layers, optimizers, metrics, regularizers, losses\n",
        "from tensorflow.keras.wrappers import scikit_learn\n",
        "from tensorflow.keras.callbacks import EarlyStopping\n",
        "from tensorflow.keras.regularizers import l2\n",
        "from tensorflow.keras.wrappers.scikit_learn import KerasClassifier\n",
        "\n",
        "from sklearn.model_selection import train_test_split, cross_val_score\n",
        "from sklearn.dummy import DummyClassifier\n",
        "from sklearn.metrics import auc, recall_score, precision_score, \\\n",
        "                            confusion_matrix, plot_confusion_matrix, \\\n",
        "                            roc_auc_score, roc_curve\n",
        "from tensorflow.keras.optimizers import SGD, Adam\n",
        "import pickle\n",
        "\n",
        "np.random.seed(42)"
      ]
    },
    {
      "cell_type": "markdown",
      "metadata": {
        "id": "a8GO83KVvXJC"
      },
      "source": [
        "## Colab Necessary Code"
      ]
    },
    {
      "cell_type": "markdown",
      "metadata": {
        "id": "buZ96xGIvXJC"
      },
      "source": [
        "Google Colab was used to help streamline the modeling process. Modeling using Convolutional Neural Networks can be computationally expensive, so if you would like to run this notebook faster, I would recommend creating a Colab account and storing the data, discussed below, in a Google Drive file. "
      ]
    },
    {
      "cell_type": "code",
      "execution_count": 2,
      "metadata": {
        "ExecuteTime": {
          "start_time": "2022-05-23T21:38:09.941Z"
        },
        "id": "AoKog768vXJD",
        "outputId": "dcd6d385-fc85-4b8b-fdef-17f263dd8869",
        "colab": {
          "base_uri": "https://localhost:8080/"
        }
      },
      "outputs": [
        {
          "output_type": "stream",
          "name": "stdout",
          "text": [
            "Mounted at /content/drive\n"
          ]
        }
      ],
      "source": [
        "from google.colab import drive\n",
        "drive.mount('/content/drive')"
      ]
    },
    {
      "cell_type": "code",
      "execution_count": 3,
      "metadata": {
        "ExecuteTime": {
          "start_time": "2022-05-23T21:38:09.942Z"
        },
        "id": "sroeGoQpvXJD",
        "outputId": "9e5397d3-0d7f-40aa-8d21-f2098559998e",
        "colab": {
          "base_uri": "https://localhost:8080/"
        }
      },
      "outputs": [
        {
          "output_type": "stream",
          "name": "stdout",
          "text": [
            "Looking in indexes: https://pypi.org/simple, https://us-python.pkg.dev/colab-wheels/public/simple/\n",
            "Collecting unzip\n",
            "  Downloading unzip-1.0.0.tar.gz (704 bytes)\n",
            "Building wheels for collected packages: unzip\n",
            "  Building wheel for unzip (setup.py) ... \u001b[?25l\u001b[?25hdone\n",
            "  Created wheel for unzip: filename=unzip-1.0.0-py3-none-any.whl size=1319 sha256=26cb6c1fc414f7dd4852a1611ada5810e7d52b182dd941abac99a03b43b4ace0\n",
            "  Stored in directory: /root/.cache/pip/wheels/c5/05/b3/f7b36dbaaf76de31b718cde792c953bfd11d2414a72f204b56\n",
            "Successfully built unzip\n",
            "Installing collected packages: unzip\n",
            "Successfully installed unzip-1.0.0\n",
            "Archive:  /content/drive/MyDrive/signatures.zip\n",
            "  inflating: Dataset_Signature_Final/Dataset/dataset1/forge/02100001.png  \n",
            "  inflating: Dataset_Signature_Final/Dataset/dataset1/forge/02100002.png  \n",
            "  inflating: Dataset_Signature_Final/Dataset/dataset1/forge/02100003.png  \n",
            "  inflating: Dataset_Signature_Final/Dataset/dataset1/forge/02100004.png  \n",
            "  inflating: Dataset_Signature_Final/Dataset/dataset1/forge/02100005.png  \n",
            "  inflating: Dataset_Signature_Final/Dataset/dataset1/forge/02100006.png  \n",
            "  inflating: Dataset_Signature_Final/Dataset/dataset1/forge/02100007.png  \n",
            "  inflating: Dataset_Signature_Final/Dataset/dataset1/forge/02100008.png  \n",
            "  inflating: Dataset_Signature_Final/Dataset/dataset1/forge/02100009.png  \n",
            "  inflating: Dataset_Signature_Final/Dataset/dataset1/forge/02100010.png  \n",
            "  inflating: Dataset_Signature_Final/Dataset/dataset1/forge/02100011.png  \n",
            "  inflating: Dataset_Signature_Final/Dataset/dataset1/forge/02100012.png  \n",
            "  inflating: Dataset_Signature_Final/Dataset/dataset1/forge/02101001.png  \n",
            "  inflating: Dataset_Signature_Final/Dataset/dataset1/forge/02101002.png  \n",
            "  inflating: Dataset_Signature_Final/Dataset/dataset1/forge/02101003.png  \n",
            "  inflating: Dataset_Signature_Final/Dataset/dataset1/forge/02101004.png  \n",
            "  inflating: Dataset_Signature_Final/Dataset/dataset1/forge/02101005.png  \n",
            "  inflating: Dataset_Signature_Final/Dataset/dataset1/forge/02101006.png  \n",
            "  inflating: Dataset_Signature_Final/Dataset/dataset1/forge/02101007.png  \n",
            "  inflating: Dataset_Signature_Final/Dataset/dataset1/forge/02101008.png  \n",
            "  inflating: Dataset_Signature_Final/Dataset/dataset1/forge/02101009.png  \n",
            "  inflating: Dataset_Signature_Final/Dataset/dataset1/forge/02101010.png  \n",
            "  inflating: Dataset_Signature_Final/Dataset/dataset1/forge/02101011.png  \n",
            "  inflating: Dataset_Signature_Final/Dataset/dataset1/forge/02101012.png  \n",
            "  inflating: Dataset_Signature_Final/Dataset/dataset1/forge/02102001.png  \n",
            "  inflating: Dataset_Signature_Final/Dataset/dataset1/forge/02102002.png  \n",
            "  inflating: Dataset_Signature_Final/Dataset/dataset1/forge/02102003.png  \n",
            "  inflating: Dataset_Signature_Final/Dataset/dataset1/forge/02102004.png  \n",
            "  inflating: Dataset_Signature_Final/Dataset/dataset1/forge/02102005.png  \n",
            "  inflating: Dataset_Signature_Final/Dataset/dataset1/forge/02102006.png  \n",
            "  inflating: Dataset_Signature_Final/Dataset/dataset1/forge/02102007.png  \n",
            "  inflating: Dataset_Signature_Final/Dataset/dataset1/forge/02102008.png  \n",
            "  inflating: Dataset_Signature_Final/Dataset/dataset1/forge/02102009.png  \n",
            "  inflating: Dataset_Signature_Final/Dataset/dataset1/forge/02102010.png  \n",
            "  inflating: Dataset_Signature_Final/Dataset/dataset1/forge/02102011.png  \n",
            "  inflating: Dataset_Signature_Final/Dataset/dataset1/forge/02102012.png  \n",
            "  inflating: Dataset_Signature_Final/Dataset/dataset1/forge/02103001.png  \n",
            "  inflating: Dataset_Signature_Final/Dataset/dataset1/forge/02103002.png  \n",
            "  inflating: Dataset_Signature_Final/Dataset/dataset1/forge/02103003.png  \n",
            "  inflating: Dataset_Signature_Final/Dataset/dataset1/forge/02103004.png  \n",
            "  inflating: Dataset_Signature_Final/Dataset/dataset1/forge/02103005.png  \n",
            "  inflating: Dataset_Signature_Final/Dataset/dataset1/forge/02103006.png  \n",
            "  inflating: Dataset_Signature_Final/Dataset/dataset1/forge/02103007.png  \n",
            "  inflating: Dataset_Signature_Final/Dataset/dataset1/forge/02103008.png  \n",
            "  inflating: Dataset_Signature_Final/Dataset/dataset1/forge/02103009.png  \n",
            "  inflating: Dataset_Signature_Final/Dataset/dataset1/forge/02103010.png  \n",
            "  inflating: Dataset_Signature_Final/Dataset/dataset1/forge/02103011.png  \n",
            "  inflating: Dataset_Signature_Final/Dataset/dataset1/forge/02103012.png  \n",
            "  inflating: Dataset_Signature_Final/Dataset/dataset1/forge/02104001.png  \n",
            "  inflating: Dataset_Signature_Final/Dataset/dataset1/forge/02104002.png  \n",
            "  inflating: Dataset_Signature_Final/Dataset/dataset1/forge/02104003.png  \n",
            "  inflating: Dataset_Signature_Final/Dataset/dataset1/forge/02104004.png  \n",
            "  inflating: Dataset_Signature_Final/Dataset/dataset1/forge/02104005.png  \n",
            "  inflating: Dataset_Signature_Final/Dataset/dataset1/forge/02104006.png  \n",
            "  inflating: Dataset_Signature_Final/Dataset/dataset1/forge/02104007.png  \n",
            "  inflating: Dataset_Signature_Final/Dataset/dataset1/forge/02104008.png  \n",
            "  inflating: Dataset_Signature_Final/Dataset/dataset1/forge/02104009.png  \n",
            "  inflating: Dataset_Signature_Final/Dataset/dataset1/forge/02104010.png  \n",
            "  inflating: Dataset_Signature_Final/Dataset/dataset1/forge/02104011.png  \n",
            "  inflating: Dataset_Signature_Final/Dataset/dataset1/forge/02104012.png  \n",
            "  inflating: Dataset_Signature_Final/Dataset/dataset1/real/00100001.png  \n",
            "  inflating: Dataset_Signature_Final/Dataset/dataset1/real/00101001.png  \n",
            "  inflating: Dataset_Signature_Final/Dataset/dataset1/real/00102001.png  \n",
            "  inflating: Dataset_Signature_Final/Dataset/dataset1/real/00103001.png  \n",
            "  inflating: Dataset_Signature_Final/Dataset/dataset1/real/00104001.png  \n",
            "  inflating: Dataset_Signature_Final/Dataset/dataset1/real/00200002.png  \n",
            "  inflating: Dataset_Signature_Final/Dataset/dataset1/real/00201002.png  \n",
            "  inflating: Dataset_Signature_Final/Dataset/dataset1/real/00202002.png  \n",
            "  inflating: Dataset_Signature_Final/Dataset/dataset1/real/00203002.png  \n",
            "  inflating: Dataset_Signature_Final/Dataset/dataset1/real/00204002.png  \n",
            "  inflating: Dataset_Signature_Final/Dataset/dataset1/real/00300003.png  \n",
            "  inflating: Dataset_Signature_Final/Dataset/dataset1/real/00301003.png  \n",
            "  inflating: Dataset_Signature_Final/Dataset/dataset1/real/00302003.png  \n",
            "  inflating: Dataset_Signature_Final/Dataset/dataset1/real/00303003.png  \n",
            "  inflating: Dataset_Signature_Final/Dataset/dataset1/real/00304003.png  \n",
            "  inflating: Dataset_Signature_Final/Dataset/dataset1/real/00400004.png  \n",
            "  inflating: Dataset_Signature_Final/Dataset/dataset1/real/00401004.png  \n",
            "  inflating: Dataset_Signature_Final/Dataset/dataset1/real/00402004.png  \n",
            "  inflating: Dataset_Signature_Final/Dataset/dataset1/real/00403004.png  \n",
            "  inflating: Dataset_Signature_Final/Dataset/dataset1/real/00404004.png  \n",
            "  inflating: Dataset_Signature_Final/Dataset/dataset1/real/00500005.png  \n",
            "  inflating: Dataset_Signature_Final/Dataset/dataset1/real/00501005.png  \n",
            "  inflating: Dataset_Signature_Final/Dataset/dataset1/real/00502005.png  \n",
            "  inflating: Dataset_Signature_Final/Dataset/dataset1/real/00503005.png  \n",
            "  inflating: Dataset_Signature_Final/Dataset/dataset1/real/00504005.png  \n",
            "  inflating: Dataset_Signature_Final/Dataset/dataset1/real/00600006.png  \n",
            "  inflating: Dataset_Signature_Final/Dataset/dataset1/real/00601006.png  \n",
            "  inflating: Dataset_Signature_Final/Dataset/dataset1/real/00602006.png  \n",
            "  inflating: Dataset_Signature_Final/Dataset/dataset1/real/00603006.png  \n",
            "  inflating: Dataset_Signature_Final/Dataset/dataset1/real/00604006.png  \n",
            "  inflating: Dataset_Signature_Final/Dataset/dataset1/real/00700007.png  \n",
            "  inflating: Dataset_Signature_Final/Dataset/dataset1/real/00701007.png  \n",
            "  inflating: Dataset_Signature_Final/Dataset/dataset1/real/00702007.png  \n",
            "  inflating: Dataset_Signature_Final/Dataset/dataset1/real/00703007.png  \n",
            "  inflating: Dataset_Signature_Final/Dataset/dataset1/real/00704007.png  \n",
            "  inflating: Dataset_Signature_Final/Dataset/dataset1/real/00800008.png  \n",
            "  inflating: Dataset_Signature_Final/Dataset/dataset1/real/00801008.png  \n",
            "  inflating: Dataset_Signature_Final/Dataset/dataset1/real/00802008.png  \n",
            "  inflating: Dataset_Signature_Final/Dataset/dataset1/real/00803008.png  \n",
            "  inflating: Dataset_Signature_Final/Dataset/dataset1/real/00804008.png  \n",
            "  inflating: Dataset_Signature_Final/Dataset/dataset1/real/00900009.png  \n",
            "  inflating: Dataset_Signature_Final/Dataset/dataset1/real/00901009.png  \n",
            "  inflating: Dataset_Signature_Final/Dataset/dataset1/real/00902009.png  \n",
            "  inflating: Dataset_Signature_Final/Dataset/dataset1/real/00903009.png  \n",
            "  inflating: Dataset_Signature_Final/Dataset/dataset1/real/00904009.png  \n",
            "  inflating: Dataset_Signature_Final/Dataset/dataset1/real/01000010.png  \n",
            "  inflating: Dataset_Signature_Final/Dataset/dataset1/real/01001010.png  \n",
            "  inflating: Dataset_Signature_Final/Dataset/dataset1/real/01002010.png  \n",
            "  inflating: Dataset_Signature_Final/Dataset/dataset1/real/01003010.png  \n",
            "  inflating: Dataset_Signature_Final/Dataset/dataset1/real/01004010.png  \n",
            "  inflating: Dataset_Signature_Final/Dataset/dataset1/real/01100011.png  \n",
            "  inflating: Dataset_Signature_Final/Dataset/dataset1/real/01101011.png  \n",
            "  inflating: Dataset_Signature_Final/Dataset/dataset1/real/01102011.png  \n",
            "  inflating: Dataset_Signature_Final/Dataset/dataset1/real/01103011.png  \n",
            "  inflating: Dataset_Signature_Final/Dataset/dataset1/real/01104011.png  \n",
            "  inflating: Dataset_Signature_Final/Dataset/dataset1/real/01200012.png  \n",
            "  inflating: Dataset_Signature_Final/Dataset/dataset1/real/01201012.png  \n",
            "  inflating: Dataset_Signature_Final/Dataset/dataset1/real/01202012.png  \n",
            "  inflating: Dataset_Signature_Final/Dataset/dataset1/real/01203012.png  \n",
            "  inflating: Dataset_Signature_Final/Dataset/dataset1/real/01204012.png  \n",
            "  inflating: Dataset_Signature_Final/Dataset/dataset2/forge/02101003.png  \n",
            "  inflating: Dataset_Signature_Final/Dataset/dataset2/forge/02101004.png  \n",
            "  inflating: Dataset_Signature_Final/Dataset/dataset2/forge/02101005.png  \n",
            "  inflating: Dataset_Signature_Final/Dataset/dataset2/forge/02101006.png  \n",
            "  inflating: Dataset_Signature_Final/Dataset/dataset2/forge/02101007.png  \n",
            "  inflating: Dataset_Signature_Final/Dataset/dataset2/forge/02101008.png  \n",
            "  inflating: Dataset_Signature_Final/Dataset/dataset2/forge/02101009.png  \n",
            "  inflating: Dataset_Signature_Final/Dataset/dataset2/forge/02101011.png  \n",
            "  inflating: Dataset_Signature_Final/Dataset/dataset2/forge/02101012.png  \n",
            "  inflating: Dataset_Signature_Final/Dataset/dataset2/forge/02102003.png  \n",
            "  inflating: Dataset_Signature_Final/Dataset/dataset2/forge/02102004.png  \n",
            "  inflating: Dataset_Signature_Final/Dataset/dataset2/forge/02102005.png  \n",
            "  inflating: Dataset_Signature_Final/Dataset/dataset2/forge/02102006.png  \n",
            "  inflating: Dataset_Signature_Final/Dataset/dataset2/forge/02102007.png  \n",
            "  inflating: Dataset_Signature_Final/Dataset/dataset2/forge/02102008.png  \n",
            "  inflating: Dataset_Signature_Final/Dataset/dataset2/forge/02102009.png  \n",
            "  inflating: Dataset_Signature_Final/Dataset/dataset2/forge/02102011.png  \n",
            "  inflating: Dataset_Signature_Final/Dataset/dataset2/forge/02102012.png  \n",
            "  inflating: Dataset_Signature_Final/Dataset/dataset2/forge/02103003.png  \n",
            "  inflating: Dataset_Signature_Final/Dataset/dataset2/forge/02103004.png  \n",
            "  inflating: Dataset_Signature_Final/Dataset/dataset2/forge/02103005.png  \n",
            "  inflating: Dataset_Signature_Final/Dataset/dataset2/forge/02103006.png  \n",
            "  inflating: Dataset_Signature_Final/Dataset/dataset2/forge/02103007.png  \n",
            "  inflating: Dataset_Signature_Final/Dataset/dataset2/forge/02103008.png  \n",
            "  inflating: Dataset_Signature_Final/Dataset/dataset2/forge/02103009.png  \n",
            "  inflating: Dataset_Signature_Final/Dataset/dataset2/forge/02103011.png  \n",
            "  inflating: Dataset_Signature_Final/Dataset/dataset2/forge/02103012.png  \n",
            "  inflating: Dataset_Signature_Final/Dataset/dataset2/forge/02104003.png  \n",
            "  inflating: Dataset_Signature_Final/Dataset/dataset2/forge/02104004.png  \n",
            "  inflating: Dataset_Signature_Final/Dataset/dataset2/forge/02104005.png  \n",
            "  inflating: Dataset_Signature_Final/Dataset/dataset2/forge/02104006.png  \n",
            "  inflating: Dataset_Signature_Final/Dataset/dataset2/forge/02104007.png  \n",
            "  inflating: Dataset_Signature_Final/Dataset/dataset2/forge/02104008.png  \n",
            "  inflating: Dataset_Signature_Final/Dataset/dataset2/forge/02104009.png  \n",
            "  inflating: Dataset_Signature_Final/Dataset/dataset2/forge/02104011.png  \n",
            "  inflating: Dataset_Signature_Final/Dataset/dataset2/forge/02104012.png  \n",
            "  inflating: Dataset_Signature_Final/Dataset/dataset2/forge/02105003.png  \n",
            "  inflating: Dataset_Signature_Final/Dataset/dataset2/forge/02105004.png  \n",
            "  inflating: Dataset_Signature_Final/Dataset/dataset2/forge/02105005.png  \n",
            "  inflating: Dataset_Signature_Final/Dataset/dataset2/forge/02105006.png  \n",
            "  inflating: Dataset_Signature_Final/Dataset/dataset2/forge/02105007.png  \n",
            "  inflating: Dataset_Signature_Final/Dataset/dataset2/forge/02105008.png  \n",
            "  inflating: Dataset_Signature_Final/Dataset/dataset2/forge/02105009.png  \n",
            "  inflating: Dataset_Signature_Final/Dataset/dataset2/forge/02105011.png  \n",
            "  inflating: Dataset_Signature_Final/Dataset/dataset2/forge/02105012.png  \n",
            "  inflating: Dataset_Signature_Final/Dataset/dataset2/forge/02201001.png  \n",
            "  inflating: Dataset_Signature_Final/Dataset/dataset2/forge/02201002.png  \n",
            "  inflating: Dataset_Signature_Final/Dataset/dataset2/forge/02201010.png  \n",
            "  inflating: Dataset_Signature_Final/Dataset/dataset2/forge/02202001.png  \n",
            "  inflating: Dataset_Signature_Final/Dataset/dataset2/forge/02202002.png  \n",
            "  inflating: Dataset_Signature_Final/Dataset/dataset2/forge/02202010.png  \n",
            "  inflating: Dataset_Signature_Final/Dataset/dataset2/forge/02203001.png  \n",
            "  inflating: Dataset_Signature_Final/Dataset/dataset2/forge/02203002.png  \n",
            "  inflating: Dataset_Signature_Final/Dataset/dataset2/forge/02203010.png  \n",
            "  inflating: Dataset_Signature_Final/Dataset/dataset2/forge/02204001.png  \n",
            "  inflating: Dataset_Signature_Final/Dataset/dataset2/forge/02204002.png  \n",
            "  inflating: Dataset_Signature_Final/Dataset/dataset2/forge/02204010.png  \n",
            "  inflating: Dataset_Signature_Final/Dataset/dataset2/forge/02205001.png  \n",
            "  inflating: Dataset_Signature_Final/Dataset/dataset2/forge/02205002.png  \n",
            "  inflating: Dataset_Signature_Final/Dataset/dataset2/forge/02205010.png  \n",
            "  inflating: Dataset_Signature_Final/Dataset/dataset2/real/00101001.png  \n",
            "  inflating: Dataset_Signature_Final/Dataset/dataset2/real/00102001.png  \n",
            "  inflating: Dataset_Signature_Final/Dataset/dataset2/real/00103001.png  \n",
            "  inflating: Dataset_Signature_Final/Dataset/dataset2/real/00104001.png  \n",
            "  inflating: Dataset_Signature_Final/Dataset/dataset2/real/00105001.png  \n",
            "  inflating: Dataset_Signature_Final/Dataset/dataset2/real/00201002.png  \n",
            "  inflating: Dataset_Signature_Final/Dataset/dataset2/real/00202002.png  \n",
            "  inflating: Dataset_Signature_Final/Dataset/dataset2/real/00203002.png  \n",
            "  inflating: Dataset_Signature_Final/Dataset/dataset2/real/00204002.png  \n",
            "  inflating: Dataset_Signature_Final/Dataset/dataset2/real/00205002.png  \n",
            "  inflating: Dataset_Signature_Final/Dataset/dataset2/real/00301003.png  \n",
            "  inflating: Dataset_Signature_Final/Dataset/dataset2/real/00302003.png  \n",
            "  inflating: Dataset_Signature_Final/Dataset/dataset2/real/00303003.png  \n",
            "  inflating: Dataset_Signature_Final/Dataset/dataset2/real/00304003.png  \n",
            "  inflating: Dataset_Signature_Final/Dataset/dataset2/real/00305003.png  \n",
            "  inflating: Dataset_Signature_Final/Dataset/dataset2/real/00401004.png  \n",
            "  inflating: Dataset_Signature_Final/Dataset/dataset2/real/00402004.png  \n",
            "  inflating: Dataset_Signature_Final/Dataset/dataset2/real/00403004.png  \n",
            "  inflating: Dataset_Signature_Final/Dataset/dataset2/real/00404004.png  \n",
            "  inflating: Dataset_Signature_Final/Dataset/dataset2/real/00405004.png  \n",
            "  inflating: Dataset_Signature_Final/Dataset/dataset2/real/00501005.png  \n",
            "  inflating: Dataset_Signature_Final/Dataset/dataset2/real/00502005.png  \n",
            "  inflating: Dataset_Signature_Final/Dataset/dataset2/real/00503005.png  \n",
            "  inflating: Dataset_Signature_Final/Dataset/dataset2/real/00504005.png  \n",
            "  inflating: Dataset_Signature_Final/Dataset/dataset2/real/00505005.png  \n",
            "  inflating: Dataset_Signature_Final/Dataset/dataset2/real/00601006.png  \n",
            "  inflating: Dataset_Signature_Final/Dataset/dataset2/real/00602006.png  \n",
            "  inflating: Dataset_Signature_Final/Dataset/dataset2/real/00603006.png  \n",
            "  inflating: Dataset_Signature_Final/Dataset/dataset2/real/00604006.png  \n",
            "  inflating: Dataset_Signature_Final/Dataset/dataset2/real/00605006.png  \n",
            "  inflating: Dataset_Signature_Final/Dataset/dataset2/real/00701007.png  \n",
            "  inflating: Dataset_Signature_Final/Dataset/dataset2/real/00702007.png  \n",
            "  inflating: Dataset_Signature_Final/Dataset/dataset2/real/00703007.png  \n",
            "  inflating: Dataset_Signature_Final/Dataset/dataset2/real/00704007.png  \n",
            "  inflating: Dataset_Signature_Final/Dataset/dataset2/real/00705007.png  \n",
            "  inflating: Dataset_Signature_Final/Dataset/dataset2/real/00801008.png  \n",
            "  inflating: Dataset_Signature_Final/Dataset/dataset2/real/00802008.png  \n",
            "  inflating: Dataset_Signature_Final/Dataset/dataset2/real/00803008.png  \n",
            "  inflating: Dataset_Signature_Final/Dataset/dataset2/real/00804008.png  \n",
            "  inflating: Dataset_Signature_Final/Dataset/dataset2/real/00805008.png  \n",
            "  inflating: Dataset_Signature_Final/Dataset/dataset2/real/00901009.png  \n",
            "  inflating: Dataset_Signature_Final/Dataset/dataset2/real/00902009.png  \n",
            "  inflating: Dataset_Signature_Final/Dataset/dataset2/real/00903009.png  \n",
            "  inflating: Dataset_Signature_Final/Dataset/dataset2/real/00904009.png  \n",
            "  inflating: Dataset_Signature_Final/Dataset/dataset2/real/00905009.png  \n",
            "  inflating: Dataset_Signature_Final/Dataset/dataset2/real/01001010.png  \n",
            "  inflating: Dataset_Signature_Final/Dataset/dataset2/real/01002010.png  \n",
            "  inflating: Dataset_Signature_Final/Dataset/dataset2/real/01003010.png  \n",
            "  inflating: Dataset_Signature_Final/Dataset/dataset2/real/01004010.png  \n",
            "  inflating: Dataset_Signature_Final/Dataset/dataset2/real/01005010.png  \n",
            "  inflating: Dataset_Signature_Final/Dataset/dataset2/real/01101011.png  \n",
            "  inflating: Dataset_Signature_Final/Dataset/dataset2/real/01102011.png  \n",
            "  inflating: Dataset_Signature_Final/Dataset/dataset2/real/01103011.png  \n",
            "  inflating: Dataset_Signature_Final/Dataset/dataset2/real/01104011.png  \n",
            "  inflating: Dataset_Signature_Final/Dataset/dataset2/real/01105011.png  \n",
            "  inflating: Dataset_Signature_Final/Dataset/dataset2/real/01201012.png  \n",
            "  inflating: Dataset_Signature_Final/Dataset/dataset2/real/01202012.png  \n",
            "  inflating: Dataset_Signature_Final/Dataset/dataset2/real/01203012.png  \n",
            "  inflating: Dataset_Signature_Final/Dataset/dataset2/real/01204012.png  \n",
            "  inflating: Dataset_Signature_Final/Dataset/dataset2/real/01205012.png  \n",
            "  inflating: Dataset_Signature_Final/Dataset/dataset3/forge/00101014.png  \n",
            "  inflating: Dataset_Signature_Final/Dataset/dataset3/forge/00101019.png  \n",
            "  inflating: Dataset_Signature_Final/Dataset/dataset3/forge/00101025.png  \n",
            "  inflating: Dataset_Signature_Final/Dataset/dataset3/forge/00101026.png  \n",
            "  inflating: Dataset_Signature_Final/Dataset/dataset3/forge/00101027.png  \n",
            "  inflating: Dataset_Signature_Final/Dataset/dataset3/forge/00101028.png  \n",
            "  inflating: Dataset_Signature_Final/Dataset/dataset3/forge/00101029.png  \n",
            "  inflating: Dataset_Signature_Final/Dataset/dataset3/forge/00101030.png  \n",
            "  inflating: Dataset_Signature_Final/Dataset/dataset3/forge/00102014.png  \n",
            "  inflating: Dataset_Signature_Final/Dataset/dataset3/forge/00102019.png  \n",
            "  inflating: Dataset_Signature_Final/Dataset/dataset3/forge/00102025.png  \n",
            "  inflating: Dataset_Signature_Final/Dataset/dataset3/forge/00102026.png  \n",
            "  inflating: Dataset_Signature_Final/Dataset/dataset3/forge/00102027.png  \n",
            "  inflating: Dataset_Signature_Final/Dataset/dataset3/forge/00102028.png  \n",
            "  inflating: Dataset_Signature_Final/Dataset/dataset3/forge/00102029.png  \n",
            "  inflating: Dataset_Signature_Final/Dataset/dataset3/forge/00102030.png  \n",
            "  inflating: Dataset_Signature_Final/Dataset/dataset3/forge/00103014.png  \n",
            "  inflating: Dataset_Signature_Final/Dataset/dataset3/forge/00103019.png  \n",
            "  inflating: Dataset_Signature_Final/Dataset/dataset3/forge/00103025.png  \n",
            "  inflating: Dataset_Signature_Final/Dataset/dataset3/forge/00103026.png  \n",
            "  inflating: Dataset_Signature_Final/Dataset/dataset3/forge/00103027.png  \n",
            "  inflating: Dataset_Signature_Final/Dataset/dataset3/forge/00103028.png  \n",
            "  inflating: Dataset_Signature_Final/Dataset/dataset3/forge/00103029.png  \n",
            "  inflating: Dataset_Signature_Final/Dataset/dataset3/forge/00103030.png  \n",
            "  inflating: Dataset_Signature_Final/Dataset/dataset3/forge/00104014.png  \n",
            "  inflating: Dataset_Signature_Final/Dataset/dataset3/forge/00104019.png  \n",
            "  inflating: Dataset_Signature_Final/Dataset/dataset3/forge/00104025.png  \n",
            "  inflating: Dataset_Signature_Final/Dataset/dataset3/forge/00104026.png  \n",
            "  inflating: Dataset_Signature_Final/Dataset/dataset3/forge/00104027.png  \n",
            "  inflating: Dataset_Signature_Final/Dataset/dataset3/forge/00104028.png  \n",
            "  inflating: Dataset_Signature_Final/Dataset/dataset3/forge/00104029.png  \n",
            "  inflating: Dataset_Signature_Final/Dataset/dataset3/forge/00104030.png  \n",
            "  inflating: Dataset_Signature_Final/Dataset/dataset3/forge/00105014.png  \n",
            "  inflating: Dataset_Signature_Final/Dataset/dataset3/forge/00105019.png  \n",
            "  inflating: Dataset_Signature_Final/Dataset/dataset3/forge/00105025.png  \n",
            "  inflating: Dataset_Signature_Final/Dataset/dataset3/forge/00105026.png  \n",
            "  inflating: Dataset_Signature_Final/Dataset/dataset3/forge/00105027.png  \n",
            "  inflating: Dataset_Signature_Final/Dataset/dataset3/forge/00105028.png  \n",
            "  inflating: Dataset_Signature_Final/Dataset/dataset3/forge/00105029.png  \n",
            "  inflating: Dataset_Signature_Final/Dataset/dataset3/forge/00105030.png  \n",
            "  inflating: Dataset_Signature_Final/Dataset/dataset3/forge/00301001.png  \n",
            "  inflating: Dataset_Signature_Final/Dataset/dataset3/forge/00301002.png  \n",
            "  inflating: Dataset_Signature_Final/Dataset/dataset3/forge/00301005.png  \n",
            "  inflating: Dataset_Signature_Final/Dataset/dataset3/forge/00301009.png  \n",
            "  inflating: Dataset_Signature_Final/Dataset/dataset3/forge/00301018.png  \n",
            "  inflating: Dataset_Signature_Final/Dataset/dataset3/forge/00302001.png  \n",
            "  inflating: Dataset_Signature_Final/Dataset/dataset3/forge/00302002.png  \n",
            "  inflating: Dataset_Signature_Final/Dataset/dataset3/forge/00302005.png  \n",
            "  inflating: Dataset_Signature_Final/Dataset/dataset3/forge/00302009.png  \n",
            "  inflating: Dataset_Signature_Final/Dataset/dataset3/forge/00302018.png  \n",
            "  inflating: Dataset_Signature_Final/Dataset/dataset3/forge/00303001.png  \n",
            "  inflating: Dataset_Signature_Final/Dataset/dataset3/forge/00303002.png  \n",
            "  inflating: Dataset_Signature_Final/Dataset/dataset3/forge/00303005.png  \n",
            "  inflating: Dataset_Signature_Final/Dataset/dataset3/forge/00303009.png  \n",
            "  inflating: Dataset_Signature_Final/Dataset/dataset3/forge/00303018.png  \n",
            "  inflating: Dataset_Signature_Final/Dataset/dataset3/forge/00304001.png  \n",
            "  inflating: Dataset_Signature_Final/Dataset/dataset3/forge/00304002.png  \n",
            "  inflating: Dataset_Signature_Final/Dataset/dataset3/forge/00304005.png  \n",
            "  inflating: Dataset_Signature_Final/Dataset/dataset3/forge/00304009.png  \n",
            "  inflating: Dataset_Signature_Final/Dataset/dataset3/forge/00304018.png  \n",
            "  inflating: Dataset_Signature_Final/Dataset/dataset3/forge/00305001.png  \n",
            "  inflating: Dataset_Signature_Final/Dataset/dataset3/forge/00305002.png  \n",
            "  inflating: Dataset_Signature_Final/Dataset/dataset3/forge/00305005.png  \n",
            "  inflating: Dataset_Signature_Final/Dataset/dataset3/forge/00305009.png  \n",
            "  inflating: Dataset_Signature_Final/Dataset/dataset3/forge/00305018.png  \n",
            "  inflating: Dataset_Signature_Final/Dataset/dataset3/forge/00401003.png  \n",
            "  inflating: Dataset_Signature_Final/Dataset/dataset3/forge/00401007.png  \n",
            "  inflating: Dataset_Signature_Final/Dataset/dataset3/forge/00401013.png  \n",
            "  inflating: Dataset_Signature_Final/Dataset/dataset3/forge/00401024.png  \n",
            "  inflating: Dataset_Signature_Final/Dataset/dataset3/forge/00402003.png  \n",
            "  inflating: Dataset_Signature_Final/Dataset/dataset3/forge/00402007.png  \n",
            "  inflating: Dataset_Signature_Final/Dataset/dataset3/forge/00402013.png  \n",
            "  inflating: Dataset_Signature_Final/Dataset/dataset3/forge/00402024.png  \n",
            "  inflating: Dataset_Signature_Final/Dataset/dataset3/forge/00403003.png  \n",
            "  inflating: Dataset_Signature_Final/Dataset/dataset3/forge/00403007.png  \n",
            "  inflating: Dataset_Signature_Final/Dataset/dataset3/forge/00403013.png  \n",
            "  inflating: Dataset_Signature_Final/Dataset/dataset3/forge/00403024.png  \n",
            "  inflating: Dataset_Signature_Final/Dataset/dataset3/forge/00404003.png  \n",
            "  inflating: Dataset_Signature_Final/Dataset/dataset3/forge/00404007.png  \n",
            "  inflating: Dataset_Signature_Final/Dataset/dataset3/forge/00404013.png  \n",
            "  inflating: Dataset_Signature_Final/Dataset/dataset3/forge/00404024.png  \n",
            "  inflating: Dataset_Signature_Final/Dataset/dataset3/forge/00405003.png  \n",
            "  inflating: Dataset_Signature_Final/Dataset/dataset3/forge/00405007.png  \n",
            "  inflating: Dataset_Signature_Final/Dataset/dataset3/forge/00405013.png  \n",
            "  inflating: Dataset_Signature_Final/Dataset/dataset3/forge/00405024.png  \n",
            "  inflating: Dataset_Signature_Final/Dataset/dataset3/forge/00501015.png  \n",
            "  inflating: Dataset_Signature_Final/Dataset/dataset3/forge/00501022.png  \n",
            "  inflating: Dataset_Signature_Final/Dataset/dataset3/forge/00502015.png  \n",
            "  inflating: Dataset_Signature_Final/Dataset/dataset3/forge/00502022.png  \n",
            "  inflating: Dataset_Signature_Final/Dataset/dataset3/forge/00503015.png  \n",
            "  inflating: Dataset_Signature_Final/Dataset/dataset3/forge/00503022.png  \n",
            "  inflating: Dataset_Signature_Final/Dataset/dataset3/forge/00504015.png  \n",
            "  inflating: Dataset_Signature_Final/Dataset/dataset3/forge/00504022.png  \n",
            "  inflating: Dataset_Signature_Final/Dataset/dataset3/forge/00505015.png  \n",
            "  inflating: Dataset_Signature_Final/Dataset/dataset3/forge/00505022.png  \n",
            "  inflating: Dataset_Signature_Final/Dataset/dataset3/forge/00701011.png  \n",
            "  inflating: Dataset_Signature_Final/Dataset/dataset3/forge/00701023.png  \n",
            "  inflating: Dataset_Signature_Final/Dataset/dataset3/forge/00702011.png  \n",
            "  inflating: Dataset_Signature_Final/Dataset/dataset3/forge/00702023.png  \n",
            "  inflating: Dataset_Signature_Final/Dataset/dataset3/forge/00703011.png  \n",
            "  inflating: Dataset_Signature_Final/Dataset/dataset3/forge/00703023.png  \n",
            "  inflating: Dataset_Signature_Final/Dataset/dataset3/forge/00704011.png  \n",
            "  inflating: Dataset_Signature_Final/Dataset/dataset3/forge/00704023.png  \n",
            "  inflating: Dataset_Signature_Final/Dataset/dataset3/forge/00705011.png  \n",
            "  inflating: Dataset_Signature_Final/Dataset/dataset3/forge/00705023.png  \n",
            "  inflating: Dataset_Signature_Final/Dataset/dataset3/forge/01101012.png  \n",
            "  inflating: Dataset_Signature_Final/Dataset/dataset3/forge/01101016.png  \n",
            "  inflating: Dataset_Signature_Final/Dataset/dataset3/forge/01102012.png  \n",
            "  inflating: Dataset_Signature_Final/Dataset/dataset3/forge/01102016.png  \n",
            "  inflating: Dataset_Signature_Final/Dataset/dataset3/forge/01103012.png  \n",
            "  inflating: Dataset_Signature_Final/Dataset/dataset3/forge/01103016.png  \n",
            "  inflating: Dataset_Signature_Final/Dataset/dataset3/forge/01104012.png  \n",
            "  inflating: Dataset_Signature_Final/Dataset/dataset3/forge/01104016.png  \n",
            "  inflating: Dataset_Signature_Final/Dataset/dataset3/forge/01105012.png  \n",
            "  inflating: Dataset_Signature_Final/Dataset/dataset3/forge/01105016.png  \n",
            "  inflating: Dataset_Signature_Final/Dataset/dataset3/forge/01201021.png  \n",
            "  inflating: Dataset_Signature_Final/Dataset/dataset3/forge/01202021.png  \n",
            "  inflating: Dataset_Signature_Final/Dataset/dataset3/forge/01203021.png  \n",
            "  inflating: Dataset_Signature_Final/Dataset/dataset3/forge/01204021.png  \n",
            "  inflating: Dataset_Signature_Final/Dataset/dataset3/forge/01205021.png  \n",
            "  inflating: Dataset_Signature_Final/Dataset/dataset3/forge/01301017.png  \n",
            "  inflating: Dataset_Signature_Final/Dataset/dataset3/forge/01302017.png  \n",
            "  inflating: Dataset_Signature_Final/Dataset/dataset3/forge/01303017.png  \n",
            "  inflating: Dataset_Signature_Final/Dataset/dataset3/forge/01304017.png  \n",
            "  inflating: Dataset_Signature_Final/Dataset/dataset3/forge/01305017.png  \n",
            "  inflating: Dataset_Signature_Final/Dataset/dataset3/forge/01701020.png  \n",
            "  inflating: Dataset_Signature_Final/Dataset/dataset3/forge/01702020.png  \n",
            "  inflating: Dataset_Signature_Final/Dataset/dataset3/forge/01703020.png  \n",
            "  inflating: Dataset_Signature_Final/Dataset/dataset3/forge/01704020.png  \n",
            "  inflating: Dataset_Signature_Final/Dataset/dataset3/forge/01705020.png  \n",
            "  inflating: Dataset_Signature_Final/Dataset/dataset3/forge/02301008.png  \n",
            "  inflating: Dataset_Signature_Final/Dataset/dataset3/forge/02303008.png  \n",
            "  inflating: Dataset_Signature_Final/Dataset/dataset3/forge/02304008.png  \n",
            "  inflating: Dataset_Signature_Final/Dataset/dataset3/forge/02305008.png  \n",
            "  inflating: Dataset_Signature_Final/Dataset/dataset3/forge/02306008.png  \n",
            "  inflating: Dataset_Signature_Final/Dataset/dataset3/forge/02501010.png  \n",
            "  inflating: Dataset_Signature_Final/Dataset/dataset3/forge/02502010.png  \n",
            "  inflating: Dataset_Signature_Final/Dataset/dataset3/forge/02503010.png  \n",
            "  inflating: Dataset_Signature_Final/Dataset/dataset3/forge/02504010.png  \n",
            "  inflating: Dataset_Signature_Final/Dataset/dataset3/forge/02505009.png  \n",
            "  inflating: Dataset_Signature_Final/Dataset/dataset3/forge/03301006.png  \n",
            "  inflating: Dataset_Signature_Final/Dataset/dataset3/forge/03302006.png  \n",
            "  inflating: Dataset_Signature_Final/Dataset/dataset3/forge/03303006.png  \n",
            "  inflating: Dataset_Signature_Final/Dataset/dataset3/forge/03304006.png  \n",
            "  inflating: Dataset_Signature_Final/Dataset/dataset3/forge/03305006.png  \n",
            "  inflating: Dataset_Signature_Final/Dataset/dataset3/forge/08801004.png  \n",
            "  inflating: Dataset_Signature_Final/Dataset/dataset3/forge/08802004.png  \n",
            "  inflating: Dataset_Signature_Final/Dataset/dataset3/forge/08803004.png  \n",
            "  inflating: Dataset_Signature_Final/Dataset/dataset3/forge/08804004.png  \n",
            "  inflating: Dataset_Signature_Final/Dataset/dataset3/forge/08805004.png  \n",
            "  inflating: Dataset_Signature_Final/Dataset/dataset3/real/00101001.png  \n",
            "  inflating: Dataset_Signature_Final/Dataset/dataset3/real/00102001.png  \n",
            "  inflating: Dataset_Signature_Final/Dataset/dataset3/real/00103001.png  \n",
            "  inflating: Dataset_Signature_Final/Dataset/dataset3/real/00104001.png  \n",
            "  inflating: Dataset_Signature_Final/Dataset/dataset3/real/00105001.png  \n",
            "  inflating: Dataset_Signature_Final/Dataset/dataset3/real/00201002.png  \n",
            "  inflating: Dataset_Signature_Final/Dataset/dataset3/real/00202002.png  \n",
            "  inflating: Dataset_Signature_Final/Dataset/dataset3/real/00203002.png  \n",
            "  inflating: Dataset_Signature_Final/Dataset/dataset3/real/00204002.png  \n",
            "  inflating: Dataset_Signature_Final/Dataset/dataset3/real/00205002.png  \n",
            "  inflating: Dataset_Signature_Final/Dataset/dataset3/real/00301003.png  \n",
            "  inflating: Dataset_Signature_Final/Dataset/dataset3/real/00302003.png  \n",
            "  inflating: Dataset_Signature_Final/Dataset/dataset3/real/00303003.png  \n",
            "  inflating: Dataset_Signature_Final/Dataset/dataset3/real/00304003.png  \n",
            "  inflating: Dataset_Signature_Final/Dataset/dataset3/real/00305003.png  \n",
            "  inflating: Dataset_Signature_Final/Dataset/dataset3/real/00401004.png  \n",
            "  inflating: Dataset_Signature_Final/Dataset/dataset3/real/00402004.png  \n",
            "  inflating: Dataset_Signature_Final/Dataset/dataset3/real/00403004.png  \n",
            "  inflating: Dataset_Signature_Final/Dataset/dataset3/real/00404004.png  \n",
            "  inflating: Dataset_Signature_Final/Dataset/dataset3/real/00405004.png  \n",
            "  inflating: Dataset_Signature_Final/Dataset/dataset3/real/00501005.png  \n",
            "  inflating: Dataset_Signature_Final/Dataset/dataset3/real/00502005.png  \n",
            "  inflating: Dataset_Signature_Final/Dataset/dataset3/real/00503005.png  \n",
            "  inflating: Dataset_Signature_Final/Dataset/dataset3/real/00504005.png  \n",
            "  inflating: Dataset_Signature_Final/Dataset/dataset3/real/00505005.png  \n",
            "  inflating: Dataset_Signature_Final/Dataset/dataset3/real/00601006.png  \n",
            "  inflating: Dataset_Signature_Final/Dataset/dataset3/real/00602006.png  \n",
            "  inflating: Dataset_Signature_Final/Dataset/dataset3/real/00603006.png  \n",
            "  inflating: Dataset_Signature_Final/Dataset/dataset3/real/00604006.png  \n",
            "  inflating: Dataset_Signature_Final/Dataset/dataset3/real/00605006.png  \n",
            "  inflating: Dataset_Signature_Final/Dataset/dataset3/real/00701007.png  \n",
            "  inflating: Dataset_Signature_Final/Dataset/dataset3/real/00702007.png  \n",
            "  inflating: Dataset_Signature_Final/Dataset/dataset3/real/00703007.png  \n",
            "  inflating: Dataset_Signature_Final/Dataset/dataset3/real/00704007.png  \n",
            "  inflating: Dataset_Signature_Final/Dataset/dataset3/real/00705007.png  \n",
            "  inflating: Dataset_Signature_Final/Dataset/dataset3/real/00801008.png  \n",
            "  inflating: Dataset_Signature_Final/Dataset/dataset3/real/00802008.png  \n",
            "  inflating: Dataset_Signature_Final/Dataset/dataset3/real/00803008.png  \n",
            "  inflating: Dataset_Signature_Final/Dataset/dataset3/real/00804008.png  \n",
            "  inflating: Dataset_Signature_Final/Dataset/dataset3/real/00805008.png  \n",
            "  inflating: Dataset_Signature_Final/Dataset/dataset3/real/00901009.png  \n",
            "  inflating: Dataset_Signature_Final/Dataset/dataset3/real/00902009.png  \n",
            "  inflating: Dataset_Signature_Final/Dataset/dataset3/real/00903009.png  \n",
            "  inflating: Dataset_Signature_Final/Dataset/dataset3/real/00904009.png  \n",
            "  inflating: Dataset_Signature_Final/Dataset/dataset3/real/00905009.png  \n",
            "  inflating: Dataset_Signature_Final/Dataset/dataset3/real/01001010.png  \n",
            "  inflating: Dataset_Signature_Final/Dataset/dataset3/real/01002010.png  \n",
            "  inflating: Dataset_Signature_Final/Dataset/dataset3/real/01003010.png  \n",
            "  inflating: Dataset_Signature_Final/Dataset/dataset3/real/01004010.png  \n",
            "  inflating: Dataset_Signature_Final/Dataset/dataset3/real/01005010.png  \n",
            "  inflating: Dataset_Signature_Final/Dataset/dataset3/real/01101011.png  \n",
            "  inflating: Dataset_Signature_Final/Dataset/dataset3/real/01102011.png  \n",
            "  inflating: Dataset_Signature_Final/Dataset/dataset3/real/01103011.png  \n",
            "  inflating: Dataset_Signature_Final/Dataset/dataset3/real/01104011.png  \n",
            "  inflating: Dataset_Signature_Final/Dataset/dataset3/real/01105011.png  \n",
            "  inflating: Dataset_Signature_Final/Dataset/dataset3/real/01201012.png  \n",
            "  inflating: Dataset_Signature_Final/Dataset/dataset3/real/01202012.png  \n",
            "  inflating: Dataset_Signature_Final/Dataset/dataset3/real/01203012.png  \n",
            "  inflating: Dataset_Signature_Final/Dataset/dataset3/real/01204012.png  \n",
            "  inflating: Dataset_Signature_Final/Dataset/dataset3/real/01205012.png  \n",
            "  inflating: Dataset_Signature_Final/Dataset/dataset3/real/01301013.png  \n",
            "  inflating: Dataset_Signature_Final/Dataset/dataset3/real/01302013.png  \n",
            "  inflating: Dataset_Signature_Final/Dataset/dataset3/real/01303013.png  \n",
            "  inflating: Dataset_Signature_Final/Dataset/dataset3/real/01304013.png  \n",
            "  inflating: Dataset_Signature_Final/Dataset/dataset3/real/01305013.png  \n",
            "  inflating: Dataset_Signature_Final/Dataset/dataset3/real/01401014.png  \n",
            "  inflating: Dataset_Signature_Final/Dataset/dataset3/real/01402014.png  \n",
            "  inflating: Dataset_Signature_Final/Dataset/dataset3/real/01403014.png  \n",
            "  inflating: Dataset_Signature_Final/Dataset/dataset3/real/01404014.png  \n",
            "  inflating: Dataset_Signature_Final/Dataset/dataset3/real/01405014.png  \n",
            "  inflating: Dataset_Signature_Final/Dataset/dataset3/real/01501015.png  \n",
            "  inflating: Dataset_Signature_Final/Dataset/dataset3/real/01502015.png  \n",
            "  inflating: Dataset_Signature_Final/Dataset/dataset3/real/01503015.png  \n",
            "  inflating: Dataset_Signature_Final/Dataset/dataset3/real/01504015.png  \n",
            "  inflating: Dataset_Signature_Final/Dataset/dataset3/real/01505015.png  \n",
            "  inflating: Dataset_Signature_Final/Dataset/dataset3/real/01601016.png  \n",
            "  inflating: Dataset_Signature_Final/Dataset/dataset3/real/01602016.png  \n",
            "  inflating: Dataset_Signature_Final/Dataset/dataset3/real/01603016.png  \n",
            "  inflating: Dataset_Signature_Final/Dataset/dataset3/real/01604016.png  \n",
            "  inflating: Dataset_Signature_Final/Dataset/dataset3/real/01605016.png  \n",
            "  inflating: Dataset_Signature_Final/Dataset/dataset3/real/01701017.png  \n",
            "  inflating: Dataset_Signature_Final/Dataset/dataset3/real/01702017.png  \n",
            "  inflating: Dataset_Signature_Final/Dataset/dataset3/real/01703017.png  \n",
            "  inflating: Dataset_Signature_Final/Dataset/dataset3/real/01704017.png  \n",
            "  inflating: Dataset_Signature_Final/Dataset/dataset3/real/01705017.png  \n",
            "  inflating: Dataset_Signature_Final/Dataset/dataset3/real/01801018.png  \n",
            "  inflating: Dataset_Signature_Final/Dataset/dataset3/real/01802018.png  \n",
            "  inflating: Dataset_Signature_Final/Dataset/dataset3/real/01803018.png  \n",
            "  inflating: Dataset_Signature_Final/Dataset/dataset3/real/01804018.png  \n",
            "  inflating: Dataset_Signature_Final/Dataset/dataset3/real/01805018.png  \n",
            "  inflating: Dataset_Signature_Final/Dataset/dataset3/real/01901019.png  \n",
            "  inflating: Dataset_Signature_Final/Dataset/dataset3/real/01902019.png  \n",
            "  inflating: Dataset_Signature_Final/Dataset/dataset3/real/01903019.png  \n",
            "  inflating: Dataset_Signature_Final/Dataset/dataset3/real/01904019.png  \n",
            "  inflating: Dataset_Signature_Final/Dataset/dataset3/real/01905019.png  \n",
            "  inflating: Dataset_Signature_Final/Dataset/dataset3/real/02001020.png  \n",
            "  inflating: Dataset_Signature_Final/Dataset/dataset3/real/02002020.png  \n",
            "  inflating: Dataset_Signature_Final/Dataset/dataset3/real/02003020.png  \n",
            "  inflating: Dataset_Signature_Final/Dataset/dataset3/real/02004020.png  \n",
            "  inflating: Dataset_Signature_Final/Dataset/dataset3/real/02005020.png  \n",
            "  inflating: Dataset_Signature_Final/Dataset/dataset3/real/02101021.png  \n",
            "  inflating: Dataset_Signature_Final/Dataset/dataset3/real/02102021.png  \n",
            "  inflating: Dataset_Signature_Final/Dataset/dataset3/real/02103021.png  \n",
            "  inflating: Dataset_Signature_Final/Dataset/dataset3/real/02104021.png  \n",
            "  inflating: Dataset_Signature_Final/Dataset/dataset3/real/02105021.png  \n",
            "  inflating: Dataset_Signature_Final/Dataset/dataset3/real/02201022.png  \n",
            "  inflating: Dataset_Signature_Final/Dataset/dataset3/real/02202022.png  \n",
            "  inflating: Dataset_Signature_Final/Dataset/dataset3/real/02203022.png  \n",
            "  inflating: Dataset_Signature_Final/Dataset/dataset3/real/02204022.png  \n",
            "  inflating: Dataset_Signature_Final/Dataset/dataset3/real/02205022.png  \n",
            "  inflating: Dataset_Signature_Final/Dataset/dataset3/real/02301023.png  \n",
            "  inflating: Dataset_Signature_Final/Dataset/dataset3/real/02302023.png  \n",
            "  inflating: Dataset_Signature_Final/Dataset/dataset3/real/02303023.png  \n",
            "  inflating: Dataset_Signature_Final/Dataset/dataset3/real/02304023.png  \n",
            "  inflating: Dataset_Signature_Final/Dataset/dataset3/real/02305023.png  \n",
            "  inflating: Dataset_Signature_Final/Dataset/dataset3/real/02401024.png  \n",
            "  inflating: Dataset_Signature_Final/Dataset/dataset3/real/02402024.png  \n",
            "  inflating: Dataset_Signature_Final/Dataset/dataset3/real/02403024.png  \n",
            "  inflating: Dataset_Signature_Final/Dataset/dataset3/real/02404024.png  \n",
            "  inflating: Dataset_Signature_Final/Dataset/dataset3/real/02405024.png  \n",
            "  inflating: Dataset_Signature_Final/Dataset/dataset3/real/02501025.png  \n",
            "  inflating: Dataset_Signature_Final/Dataset/dataset3/real/02502025.png  \n",
            "  inflating: Dataset_Signature_Final/Dataset/dataset3/real/02503025.png  \n",
            "  inflating: Dataset_Signature_Final/Dataset/dataset3/real/02504025.png  \n",
            "  inflating: Dataset_Signature_Final/Dataset/dataset3/real/02505025.png  \n",
            "  inflating: Dataset_Signature_Final/Dataset/dataset3/real/02601026.png  \n",
            "  inflating: Dataset_Signature_Final/Dataset/dataset3/real/02602026.png  \n",
            "  inflating: Dataset_Signature_Final/Dataset/dataset3/real/02603026.png  \n",
            "  inflating: Dataset_Signature_Final/Dataset/dataset3/real/02604026.png  \n",
            "  inflating: Dataset_Signature_Final/Dataset/dataset3/real/02605026.png  \n",
            "  inflating: Dataset_Signature_Final/Dataset/dataset3/real/02701027.png  \n",
            "  inflating: Dataset_Signature_Final/Dataset/dataset3/real/02702027.png  \n",
            "  inflating: Dataset_Signature_Final/Dataset/dataset3/real/02703027.png  \n",
            "  inflating: Dataset_Signature_Final/Dataset/dataset3/real/02704027.png  \n",
            "  inflating: Dataset_Signature_Final/Dataset/dataset3/real/02705027.png  \n",
            "  inflating: Dataset_Signature_Final/Dataset/dataset3/real/02801028.png  \n",
            "  inflating: Dataset_Signature_Final/Dataset/dataset3/real/02802028.png  \n",
            "  inflating: Dataset_Signature_Final/Dataset/dataset3/real/02803028.png  \n",
            "  inflating: Dataset_Signature_Final/Dataset/dataset3/real/02804028.png  \n",
            "  inflating: Dataset_Signature_Final/Dataset/dataset3/real/02805028.png  \n",
            "  inflating: Dataset_Signature_Final/Dataset/dataset3/real/02901029.png  \n",
            "  inflating: Dataset_Signature_Final/Dataset/dataset3/real/02902029.png  \n",
            "  inflating: Dataset_Signature_Final/Dataset/dataset3/real/02903029.png  \n",
            "  inflating: Dataset_Signature_Final/Dataset/dataset3/real/02904029.png  \n",
            "  inflating: Dataset_Signature_Final/Dataset/dataset3/real/02905029.png  \n",
            "  inflating: Dataset_Signature_Final/Dataset/dataset3/real/03001030.png  \n",
            "  inflating: Dataset_Signature_Final/Dataset/dataset3/real/03002030.png  \n",
            "  inflating: Dataset_Signature_Final/Dataset/dataset3/real/03003030.png  \n",
            "  inflating: Dataset_Signature_Final/Dataset/dataset3/real/03004030.png  \n",
            "  inflating: Dataset_Signature_Final/Dataset/dataset3/real/03005030.png  \n",
            "  inflating: Dataset_Signature_Final/Dataset/dataset4/forge/00301002.png  \n",
            "  inflating: Dataset_Signature_Final/Dataset/dataset4/forge/00301035.png  \n",
            "  inflating: Dataset_Signature_Final/Dataset/dataset4/forge/00301046.png  \n",
            "  inflating: Dataset_Signature_Final/Dataset/dataset4/forge/00302002.png  \n",
            "  inflating: Dataset_Signature_Final/Dataset/dataset4/forge/00302035.png  \n",
            "  inflating: Dataset_Signature_Final/Dataset/dataset4/forge/00302046.png  \n",
            "  inflating: Dataset_Signature_Final/Dataset/dataset4/forge/00303002.png  \n",
            "  inflating: Dataset_Signature_Final/Dataset/dataset4/forge/00303035.png  \n",
            "  inflating: Dataset_Signature_Final/Dataset/dataset4/forge/00303046.png  \n",
            "  inflating: Dataset_Signature_Final/Dataset/dataset4/forge/00304002.png  \n",
            "  inflating: Dataset_Signature_Final/Dataset/dataset4/forge/00304035.png  \n",
            "  inflating: Dataset_Signature_Final/Dataset/dataset4/forge/00304046.png  \n",
            "  inflating: Dataset_Signature_Final/Dataset/dataset4/forge/00305002.png  \n",
            "  inflating: Dataset_Signature_Final/Dataset/dataset4/forge/00305035.png  \n",
            "  inflating: Dataset_Signature_Final/Dataset/dataset4/forge/00305046.png  \n",
            "  inflating: Dataset_Signature_Final/Dataset/dataset4/forge/00401024.png  \n",
            "  inflating: Dataset_Signature_Final/Dataset/dataset4/forge/00401044.png  \n",
            "  inflating: Dataset_Signature_Final/Dataset/dataset4/forge/00401063.png  \n",
            "  inflating: Dataset_Signature_Final/Dataset/dataset4/forge/00401092.png  \n",
            "  inflating: Dataset_Signature_Final/Dataset/dataset4/forge/00402024.png  \n",
            "  inflating: Dataset_Signature_Final/Dataset/dataset4/forge/00402044.png  \n",
            "  inflating: Dataset_Signature_Final/Dataset/dataset4/forge/00402063.png  \n",
            "  inflating: Dataset_Signature_Final/Dataset/dataset4/forge/00402092.png  \n",
            "  inflating: Dataset_Signature_Final/Dataset/dataset4/forge/00403024.png  \n",
            "  inflating: Dataset_Signature_Final/Dataset/dataset4/forge/00403044.png  \n",
            "  inflating: Dataset_Signature_Final/Dataset/dataset4/forge/00403063.png  \n",
            "  inflating: Dataset_Signature_Final/Dataset/dataset4/forge/00403092.png  \n",
            "  inflating: Dataset_Signature_Final/Dataset/dataset4/forge/00404024.png  \n",
            "  inflating: Dataset_Signature_Final/Dataset/dataset4/forge/00404044.png  \n",
            "  inflating: Dataset_Signature_Final/Dataset/dataset4/forge/00404063.png  \n",
            "  inflating: Dataset_Signature_Final/Dataset/dataset4/forge/00404092.png  \n",
            "  inflating: Dataset_Signature_Final/Dataset/dataset4/forge/00405024.png  \n",
            "  inflating: Dataset_Signature_Final/Dataset/dataset4/forge/00405044.png  \n",
            "  inflating: Dataset_Signature_Final/Dataset/dataset4/forge/00405063.png  \n",
            "  inflating: Dataset_Signature_Final/Dataset/dataset4/forge/00405092.png  \n",
            "  inflating: Dataset_Signature_Final/Dataset/dataset4/forge/01601077.png  \n",
            "  inflating: Dataset_Signature_Final/Dataset/dataset4/forge/01601089.png  \n",
            "  inflating: Dataset_Signature_Final/Dataset/dataset4/forge/01602033.png  \n",
            "  inflating: Dataset_Signature_Final/Dataset/dataset4/forge/01602077.png  \n",
            "  inflating: Dataset_Signature_Final/Dataset/dataset4/forge/01602089.png  \n",
            "  inflating: Dataset_Signature_Final/Dataset/dataset4/forge/01603033.png  \n",
            "  inflating: Dataset_Signature_Final/Dataset/dataset4/forge/01603077.png  \n",
            "  inflating: Dataset_Signature_Final/Dataset/dataset4/forge/01603089.png  \n",
            "  inflating: Dataset_Signature_Final/Dataset/dataset4/forge/01604033.png  \n",
            "  inflating: Dataset_Signature_Final/Dataset/dataset4/forge/01604077.png  \n",
            "  inflating: Dataset_Signature_Final/Dataset/dataset4/forge/01604089.png  \n",
            "  inflating: Dataset_Signature_Final/Dataset/dataset4/forge/01605033.png  \n",
            "  inflating: Dataset_Signature_Final/Dataset/dataset4/forge/01605077.png  \n",
            "  inflating: Dataset_Signature_Final/Dataset/dataset4/forge/01605089.png  \n",
            "  inflating: Dataset_Signature_Final/Dataset/dataset4/forge/01701033.png  \n",
            "  inflating: Dataset_Signature_Final/Dataset/dataset4/forge/02301008.png  \n",
            "  inflating: Dataset_Signature_Final/Dataset/dataset4/forge/02301070.png  \n",
            "  inflating: Dataset_Signature_Final/Dataset/dataset4/forge/02301093.png  \n",
            "  inflating: Dataset_Signature_Final/Dataset/dataset4/forge/02302008.png  \n",
            "  inflating: Dataset_Signature_Final/Dataset/dataset4/forge/02302070.png  \n",
            "  inflating: Dataset_Signature_Final/Dataset/dataset4/forge/02302093.png  \n",
            "  inflating: Dataset_Signature_Final/Dataset/dataset4/forge/02303008.png  \n",
            "  inflating: Dataset_Signature_Final/Dataset/dataset4/forge/02303070.png  \n",
            "  inflating: Dataset_Signature_Final/Dataset/dataset4/forge/02303093.png  \n",
            "  inflating: Dataset_Signature_Final/Dataset/dataset4/forge/02304008.png  \n",
            "  inflating: Dataset_Signature_Final/Dataset/dataset4/forge/02304070.png  \n",
            "  inflating: Dataset_Signature_Final/Dataset/dataset4/forge/02304093.png  \n",
            "  inflating: Dataset_Signature_Final/Dataset/dataset4/forge/02305008.png  \n",
            "  inflating: Dataset_Signature_Final/Dataset/dataset4/forge/02305070.png  \n",
            "  inflating: Dataset_Signature_Final/Dataset/dataset4/forge/02305093.png  \n",
            "  inflating: Dataset_Signature_Final/Dataset/dataset4/forge/03201084.png  \n",
            "  inflating: Dataset_Signature_Final/Dataset/dataset4/forge/03201085.png  \n",
            "  inflating: Dataset_Signature_Final/Dataset/dataset4/forge/03201086.png  \n",
            "  inflating: Dataset_Signature_Final/Dataset/dataset4/forge/03202084.png  \n",
            "  inflating: Dataset_Signature_Final/Dataset/dataset4/forge/03202085.png  \n",
            "  inflating: Dataset_Signature_Final/Dataset/dataset4/forge/03202086.png  \n",
            "  inflating: Dataset_Signature_Final/Dataset/dataset4/forge/03203084.png  \n",
            "  inflating: Dataset_Signature_Final/Dataset/dataset4/forge/03203085.png  \n",
            "  inflating: Dataset_Signature_Final/Dataset/dataset4/forge/03203086.png  \n",
            "  inflating: Dataset_Signature_Final/Dataset/dataset4/forge/03204084.png  \n",
            "  inflating: Dataset_Signature_Final/Dataset/dataset4/forge/03204085.png  \n",
            "  inflating: Dataset_Signature_Final/Dataset/dataset4/forge/03204086.png  \n",
            "  inflating: Dataset_Signature_Final/Dataset/dataset4/forge/03205084.png  \n",
            "  inflating: Dataset_Signature_Final/Dataset/dataset4/forge/03205085.png  \n",
            "  inflating: Dataset_Signature_Final/Dataset/dataset4/forge/03205086.png  \n",
            "  inflating: Dataset_Signature_Final/Dataset/dataset4/forge/06101016.png  \n",
            "  inflating: Dataset_Signature_Final/Dataset/dataset4/forge/06101071.png  \n",
            "  inflating: Dataset_Signature_Final/Dataset/dataset4/forge/06102016.png  \n",
            "  inflating: Dataset_Signature_Final/Dataset/dataset4/forge/06102071.png  \n",
            "  inflating: Dataset_Signature_Final/Dataset/dataset4/forge/06103016.png  \n",
            "  inflating: Dataset_Signature_Final/Dataset/dataset4/forge/06103071.png  \n",
            "  inflating: Dataset_Signature_Final/Dataset/dataset4/forge/06104016.png  \n",
            "  inflating: Dataset_Signature_Final/Dataset/dataset4/forge/06104071.png  \n",
            "  inflating: Dataset_Signature_Final/Dataset/dataset4/forge/06105016.png  \n",
            "  inflating: Dataset_Signature_Final/Dataset/dataset4/forge/06105071.png  \n",
            "  inflating: Dataset_Signature_Final/Dataset/dataset4/real1/00201002.png  \n",
            "  inflating: Dataset_Signature_Final/Dataset/dataset4/real1/00202002.png  \n",
            "  inflating: Dataset_Signature_Final/Dataset/dataset4/real1/00203002.png  \n",
            "  inflating: Dataset_Signature_Final/Dataset/dataset4/real1/00204002.png  \n",
            "  inflating: Dataset_Signature_Final/Dataset/dataset4/real1/00205002.png  \n",
            "  inflating: Dataset_Signature_Final/Dataset/dataset4/real1/00801008.png  \n",
            "  inflating: Dataset_Signature_Final/Dataset/dataset4/real1/00802008.png  \n",
            "  inflating: Dataset_Signature_Final/Dataset/dataset4/real1/00803008.png  \n",
            "  inflating: Dataset_Signature_Final/Dataset/dataset4/real1/00804008.png  \n",
            "  inflating: Dataset_Signature_Final/Dataset/dataset4/real1/00805008.png  \n",
            "  inflating: Dataset_Signature_Final/Dataset/dataset4/real1/01601016.png  \n",
            "  inflating: Dataset_Signature_Final/Dataset/dataset4/real1/01602016.png  \n",
            "  inflating: Dataset_Signature_Final/Dataset/dataset4/real1/01603016.png  \n",
            "  inflating: Dataset_Signature_Final/Dataset/dataset4/real1/01604016.png  \n",
            "  inflating: Dataset_Signature_Final/Dataset/dataset4/real1/01605016.png  \n",
            "  inflating: Dataset_Signature_Final/Dataset/dataset4/real1/02401024.png  \n",
            "  inflating: Dataset_Signature_Final/Dataset/dataset4/real1/02402024.png  \n",
            "  inflating: Dataset_Signature_Final/Dataset/dataset4/real1/02403024.png  \n",
            "  inflating: Dataset_Signature_Final/Dataset/dataset4/real1/02404024.png  \n",
            "  inflating: Dataset_Signature_Final/Dataset/dataset4/real1/02405024.png  \n",
            "  inflating: Dataset_Signature_Final/Dataset/dataset4/real1/03301033.png  \n",
            "  inflating: Dataset_Signature_Final/Dataset/dataset4/real1/03302033.png  \n",
            "  inflating: Dataset_Signature_Final/Dataset/dataset4/real1/03303033.png  \n",
            "  inflating: Dataset_Signature_Final/Dataset/dataset4/real1/03304033.png  \n",
            "  inflating: Dataset_Signature_Final/Dataset/dataset4/real1/03305033.png  \n",
            "  inflating: Dataset_Signature_Final/Dataset/dataset4/real1/03501035.png  \n",
            "  inflating: Dataset_Signature_Final/Dataset/dataset4/real1/03502035.png  \n",
            "  inflating: Dataset_Signature_Final/Dataset/dataset4/real1/03503035.png  \n",
            "  inflating: Dataset_Signature_Final/Dataset/dataset4/real1/03504035.png  \n",
            "  inflating: Dataset_Signature_Final/Dataset/dataset4/real1/03505035.png  \n",
            "  inflating: Dataset_Signature_Final/Dataset/dataset4/real1/04401044.png  \n",
            "  inflating: Dataset_Signature_Final/Dataset/dataset4/real1/04402044.png  \n",
            "  inflating: Dataset_Signature_Final/Dataset/dataset4/real1/04403044.png  \n",
            "  inflating: Dataset_Signature_Final/Dataset/dataset4/real1/04404044.png  \n",
            "  inflating: Dataset_Signature_Final/Dataset/dataset4/real1/04405044.png  \n",
            "  inflating: Dataset_Signature_Final/Dataset/dataset4/real1/04601046.png  \n",
            "  inflating: Dataset_Signature_Final/Dataset/dataset4/real1/04602046.png  \n",
            "  inflating: Dataset_Signature_Final/Dataset/dataset4/real1/04603046.png  \n",
            "  inflating: Dataset_Signature_Final/Dataset/dataset4/real1/04604046.png  \n",
            "  inflating: Dataset_Signature_Final/Dataset/dataset4/real1/04605046.png  \n",
            "  inflating: Dataset_Signature_Final/Dataset/dataset4/real1/06301063.png  \n",
            "  inflating: Dataset_Signature_Final/Dataset/dataset4/real1/06302063.png  \n",
            "  inflating: Dataset_Signature_Final/Dataset/dataset4/real1/06303063.png  \n",
            "  inflating: Dataset_Signature_Final/Dataset/dataset4/real1/06304063.png  \n",
            "  inflating: Dataset_Signature_Final/Dataset/dataset4/real1/06305063.png  \n",
            "  inflating: Dataset_Signature_Final/Dataset/dataset4/real1/07001070.png  \n",
            "  inflating: Dataset_Signature_Final/Dataset/dataset4/real1/07002070.png  \n",
            "  inflating: Dataset_Signature_Final/Dataset/dataset4/real1/07003070.png  \n",
            "  inflating: Dataset_Signature_Final/Dataset/dataset4/real1/07004070.png  \n",
            "  inflating: Dataset_Signature_Final/Dataset/dataset4/real1/07005070.png  \n",
            "  inflating: Dataset_Signature_Final/Dataset/dataset4/real1/07101071.png  \n",
            "  inflating: Dataset_Signature_Final/Dataset/dataset4/real1/07102071.png  \n",
            "  inflating: Dataset_Signature_Final/Dataset/dataset4/real1/07103071.png  \n",
            "  inflating: Dataset_Signature_Final/Dataset/dataset4/real1/07104071.png  \n",
            "  inflating: Dataset_Signature_Final/Dataset/dataset4/real1/07105071.png  \n",
            "  inflating: Dataset_Signature_Final/Dataset/dataset4/real1/07701077.png  \n",
            "  inflating: Dataset_Signature_Final/Dataset/dataset4/real1/07702077.png  \n",
            "  inflating: Dataset_Signature_Final/Dataset/dataset4/real1/07703077.png  \n",
            "  inflating: Dataset_Signature_Final/Dataset/dataset4/real1/07704077.png  \n",
            "  inflating: Dataset_Signature_Final/Dataset/dataset4/real1/07705077.png  \n",
            "  inflating: Dataset_Signature_Final/Dataset/dataset4/real1/08401084.png  \n",
            "  inflating: Dataset_Signature_Final/Dataset/dataset4/real1/08402084.png  \n",
            "  inflating: Dataset_Signature_Final/Dataset/dataset4/real1/08403084.png  \n",
            "  inflating: Dataset_Signature_Final/Dataset/dataset4/real1/08404084.png  \n",
            "  inflating: Dataset_Signature_Final/Dataset/dataset4/real1/08405084.png  \n",
            "  inflating: Dataset_Signature_Final/Dataset/dataset4/real1/08501085.png  \n",
            "  inflating: Dataset_Signature_Final/Dataset/dataset4/real1/08502085.png  \n",
            "  inflating: Dataset_Signature_Final/Dataset/dataset4/real1/08503085.png  \n",
            "  inflating: Dataset_Signature_Final/Dataset/dataset4/real1/08504085.png  \n",
            "  inflating: Dataset_Signature_Final/Dataset/dataset4/real1/08505085.png  \n",
            "  inflating: Dataset_Signature_Final/Dataset/dataset4/real1/08601086.png  \n",
            "  inflating: Dataset_Signature_Final/Dataset/dataset4/real1/08602086.png  \n",
            "  inflating: Dataset_Signature_Final/Dataset/dataset4/real1/08603086.png  \n",
            "  inflating: Dataset_Signature_Final/Dataset/dataset4/real1/08604086.png  \n",
            "  inflating: Dataset_Signature_Final/Dataset/dataset4/real1/08605086.png  \n",
            "  inflating: Dataset_Signature_Final/Dataset/dataset4/real1/08901089.png  \n",
            "  inflating: Dataset_Signature_Final/Dataset/dataset4/real1/08902089.png  \n",
            "  inflating: Dataset_Signature_Final/Dataset/dataset4/real1/08903089.png  \n",
            "  inflating: Dataset_Signature_Final/Dataset/dataset4/real1/08904089.png  \n",
            "  inflating: Dataset_Signature_Final/Dataset/dataset4/real1/08905089.png  \n",
            "  inflating: Dataset_Signature_Final/Dataset/dataset4/real1/09201092.png  \n",
            "  inflating: Dataset_Signature_Final/Dataset/dataset4/real1/09202092.png  \n",
            "  inflating: Dataset_Signature_Final/Dataset/dataset4/real1/09203092.png  \n",
            "  inflating: Dataset_Signature_Final/Dataset/dataset4/real1/09204092.png  \n",
            "  inflating: Dataset_Signature_Final/Dataset/dataset4/real1/09205092.png  \n",
            "  inflating: Dataset_Signature_Final/Dataset/dataset4/real1/09301093.png  \n",
            "  inflating: Dataset_Signature_Final/Dataset/dataset4/real1/09302093.png  \n",
            "  inflating: Dataset_Signature_Final/Dataset/dataset4/real1/09303093.png  \n",
            "  inflating: Dataset_Signature_Final/Dataset/dataset4/real1/09304093.png  \n",
            "  inflating: Dataset_Signature_Final/Dataset/dataset4/real1/09305093.png  \n",
            "  inflating: dataset_signature_final/Dataset/dataset1/forge/02100001.png  \n",
            "  inflating: dataset_signature_final/Dataset/dataset1/forge/02100002.png  \n",
            "  inflating: dataset_signature_final/Dataset/dataset1/forge/02100003.png  \n",
            "  inflating: dataset_signature_final/Dataset/dataset1/forge/02100004.png  \n",
            "  inflating: dataset_signature_final/Dataset/dataset1/forge/02100005.png  \n",
            "  inflating: dataset_signature_final/Dataset/dataset1/forge/02100006.png  \n",
            "  inflating: dataset_signature_final/Dataset/dataset1/forge/02100007.png  \n",
            "  inflating: dataset_signature_final/Dataset/dataset1/forge/02100008.png  \n",
            "  inflating: dataset_signature_final/Dataset/dataset1/forge/02100009.png  \n",
            "  inflating: dataset_signature_final/Dataset/dataset1/forge/02100010.png  \n",
            "  inflating: dataset_signature_final/Dataset/dataset1/forge/02100011.png  \n",
            "  inflating: dataset_signature_final/Dataset/dataset1/forge/02100012.png  \n",
            "  inflating: dataset_signature_final/Dataset/dataset1/forge/02101001.png  \n",
            "  inflating: dataset_signature_final/Dataset/dataset1/forge/02101002.png  \n",
            "  inflating: dataset_signature_final/Dataset/dataset1/forge/02101003.png  \n",
            "  inflating: dataset_signature_final/Dataset/dataset1/forge/02101004.png  \n",
            "  inflating: dataset_signature_final/Dataset/dataset1/forge/02101005.png  \n",
            "  inflating: dataset_signature_final/Dataset/dataset1/forge/02101006.png  \n",
            "  inflating: dataset_signature_final/Dataset/dataset1/forge/02101007.png  \n",
            "  inflating: dataset_signature_final/Dataset/dataset1/forge/02101008.png  \n",
            "  inflating: dataset_signature_final/Dataset/dataset1/forge/02101009.png  \n",
            "  inflating: dataset_signature_final/Dataset/dataset1/forge/02101010.png  \n",
            "  inflating: dataset_signature_final/Dataset/dataset1/forge/02101011.png  \n",
            "  inflating: dataset_signature_final/Dataset/dataset1/forge/02101012.png  \n",
            "  inflating: dataset_signature_final/Dataset/dataset1/forge/02102001.png  \n",
            "  inflating: dataset_signature_final/Dataset/dataset1/forge/02102002.png  \n",
            "  inflating: dataset_signature_final/Dataset/dataset1/forge/02102003.png  \n",
            "  inflating: dataset_signature_final/Dataset/dataset1/forge/02102004.png  \n",
            "  inflating: dataset_signature_final/Dataset/dataset1/forge/02102005.png  \n",
            "  inflating: dataset_signature_final/Dataset/dataset1/forge/02102006.png  \n",
            "  inflating: dataset_signature_final/Dataset/dataset1/forge/02102007.png  \n",
            "  inflating: dataset_signature_final/Dataset/dataset1/forge/02102008.png  \n",
            "  inflating: dataset_signature_final/Dataset/dataset1/forge/02102009.png  \n",
            "  inflating: dataset_signature_final/Dataset/dataset1/forge/02102010.png  \n",
            "  inflating: dataset_signature_final/Dataset/dataset1/forge/02102011.png  \n",
            "  inflating: dataset_signature_final/Dataset/dataset1/forge/02102012.png  \n",
            "  inflating: dataset_signature_final/Dataset/dataset1/forge/02103001.png  \n",
            "  inflating: dataset_signature_final/Dataset/dataset1/forge/02103002.png  \n",
            "  inflating: dataset_signature_final/Dataset/dataset1/forge/02103003.png  \n",
            "  inflating: dataset_signature_final/Dataset/dataset1/forge/02103004.png  \n",
            "  inflating: dataset_signature_final/Dataset/dataset1/forge/02103005.png  \n",
            "  inflating: dataset_signature_final/Dataset/dataset1/forge/02103006.png  \n",
            "  inflating: dataset_signature_final/Dataset/dataset1/forge/02103007.png  \n",
            "  inflating: dataset_signature_final/Dataset/dataset1/forge/02103008.png  \n",
            "  inflating: dataset_signature_final/Dataset/dataset1/forge/02103009.png  \n",
            "  inflating: dataset_signature_final/Dataset/dataset1/forge/02103010.png  \n",
            "  inflating: dataset_signature_final/Dataset/dataset1/forge/02103011.png  \n",
            "  inflating: dataset_signature_final/Dataset/dataset1/forge/02103012.png  \n",
            "  inflating: dataset_signature_final/Dataset/dataset1/forge/02104001.png  \n",
            "  inflating: dataset_signature_final/Dataset/dataset1/forge/02104002.png  \n",
            "  inflating: dataset_signature_final/Dataset/dataset1/forge/02104003.png  \n",
            "  inflating: dataset_signature_final/Dataset/dataset1/forge/02104004.png  \n",
            "  inflating: dataset_signature_final/Dataset/dataset1/forge/02104005.png  \n",
            "  inflating: dataset_signature_final/Dataset/dataset1/forge/02104006.png  \n",
            "  inflating: dataset_signature_final/Dataset/dataset1/forge/02104007.png  \n",
            "  inflating: dataset_signature_final/Dataset/dataset1/forge/02104008.png  \n",
            "  inflating: dataset_signature_final/Dataset/dataset1/forge/02104009.png  \n",
            "  inflating: dataset_signature_final/Dataset/dataset1/forge/02104010.png  \n",
            "  inflating: dataset_signature_final/Dataset/dataset1/forge/02104011.png  \n",
            "  inflating: dataset_signature_final/Dataset/dataset1/forge/02104012.png  \n",
            "  inflating: dataset_signature_final/Dataset/dataset1/real/00100001.png  \n",
            "  inflating: dataset_signature_final/Dataset/dataset1/real/00101001.png  \n",
            "  inflating: dataset_signature_final/Dataset/dataset1/real/00102001.png  \n",
            "  inflating: dataset_signature_final/Dataset/dataset1/real/00103001.png  \n",
            "  inflating: dataset_signature_final/Dataset/dataset1/real/00104001.png  \n",
            "  inflating: dataset_signature_final/Dataset/dataset1/real/00200002.png  \n",
            "  inflating: dataset_signature_final/Dataset/dataset1/real/00201002.png  \n",
            "  inflating: dataset_signature_final/Dataset/dataset1/real/00202002.png  \n",
            "  inflating: dataset_signature_final/Dataset/dataset1/real/00203002.png  \n",
            "  inflating: dataset_signature_final/Dataset/dataset1/real/00204002.png  \n",
            "  inflating: dataset_signature_final/Dataset/dataset1/real/00300003.png  \n",
            "  inflating: dataset_signature_final/Dataset/dataset1/real/00301003.png  \n",
            "  inflating: dataset_signature_final/Dataset/dataset1/real/00302003.png  \n",
            "  inflating: dataset_signature_final/Dataset/dataset1/real/00303003.png  \n",
            "  inflating: dataset_signature_final/Dataset/dataset1/real/00304003.png  \n",
            "  inflating: dataset_signature_final/Dataset/dataset1/real/00400004.png  \n",
            "  inflating: dataset_signature_final/Dataset/dataset1/real/00401004.png  \n",
            "  inflating: dataset_signature_final/Dataset/dataset1/real/00402004.png  \n",
            "  inflating: dataset_signature_final/Dataset/dataset1/real/00403004.png  \n",
            "  inflating: dataset_signature_final/Dataset/dataset1/real/00404004.png  \n",
            "  inflating: dataset_signature_final/Dataset/dataset1/real/00500005.png  \n",
            "  inflating: dataset_signature_final/Dataset/dataset1/real/00501005.png  \n",
            "  inflating: dataset_signature_final/Dataset/dataset1/real/00502005.png  \n",
            "  inflating: dataset_signature_final/Dataset/dataset1/real/00503005.png  \n",
            "  inflating: dataset_signature_final/Dataset/dataset1/real/00504005.png  \n",
            "  inflating: dataset_signature_final/Dataset/dataset1/real/00600006.png  \n",
            "  inflating: dataset_signature_final/Dataset/dataset1/real/00601006.png  \n",
            "  inflating: dataset_signature_final/Dataset/dataset1/real/00602006.png  \n",
            "  inflating: dataset_signature_final/Dataset/dataset1/real/00603006.png  \n",
            "  inflating: dataset_signature_final/Dataset/dataset1/real/00604006.png  \n",
            "  inflating: dataset_signature_final/Dataset/dataset1/real/00700007.png  \n",
            "  inflating: dataset_signature_final/Dataset/dataset1/real/00701007.png  \n",
            "  inflating: dataset_signature_final/Dataset/dataset1/real/00702007.png  \n",
            "  inflating: dataset_signature_final/Dataset/dataset1/real/00703007.png  \n",
            "  inflating: dataset_signature_final/Dataset/dataset1/real/00704007.png  \n",
            "  inflating: dataset_signature_final/Dataset/dataset1/real/00800008.png  \n",
            "  inflating: dataset_signature_final/Dataset/dataset1/real/00801008.png  \n",
            "  inflating: dataset_signature_final/Dataset/dataset1/real/00802008.png  \n",
            "  inflating: dataset_signature_final/Dataset/dataset1/real/00803008.png  \n",
            "  inflating: dataset_signature_final/Dataset/dataset1/real/00804008.png  \n",
            "  inflating: dataset_signature_final/Dataset/dataset1/real/00900009.png  \n",
            "  inflating: dataset_signature_final/Dataset/dataset1/real/00901009.png  \n",
            "  inflating: dataset_signature_final/Dataset/dataset1/real/00902009.png  \n",
            "  inflating: dataset_signature_final/Dataset/dataset1/real/00903009.png  \n",
            "  inflating: dataset_signature_final/Dataset/dataset1/real/00904009.png  \n",
            "  inflating: dataset_signature_final/Dataset/dataset1/real/01000010.png  \n",
            "  inflating: dataset_signature_final/Dataset/dataset1/real/01001010.png  \n",
            "  inflating: dataset_signature_final/Dataset/dataset1/real/01002010.png  \n",
            "  inflating: dataset_signature_final/Dataset/dataset1/real/01003010.png  \n",
            "  inflating: dataset_signature_final/Dataset/dataset1/real/01004010.png  \n",
            "  inflating: dataset_signature_final/Dataset/dataset1/real/01100011.png  \n",
            "  inflating: dataset_signature_final/Dataset/dataset1/real/01101011.png  \n",
            "  inflating: dataset_signature_final/Dataset/dataset1/real/01102011.png  \n",
            "  inflating: dataset_signature_final/Dataset/dataset1/real/01103011.png  \n",
            "  inflating: dataset_signature_final/Dataset/dataset1/real/01104011.png  \n",
            "  inflating: dataset_signature_final/Dataset/dataset1/real/01200012.png  \n",
            "  inflating: dataset_signature_final/Dataset/dataset1/real/01201012.png  \n",
            "  inflating: dataset_signature_final/Dataset/dataset1/real/01202012.png  \n",
            "  inflating: dataset_signature_final/Dataset/dataset1/real/01203012.png  \n",
            "  inflating: dataset_signature_final/Dataset/dataset1/real/01204012.png  \n",
            "  inflating: dataset_signature_final/Dataset/dataset2/forge/02101003.png  \n",
            "  inflating: dataset_signature_final/Dataset/dataset2/forge/02101004.png  \n",
            "  inflating: dataset_signature_final/Dataset/dataset2/forge/02101005.png  \n",
            "  inflating: dataset_signature_final/Dataset/dataset2/forge/02101006.png  \n",
            "  inflating: dataset_signature_final/Dataset/dataset2/forge/02101007.png  \n",
            "  inflating: dataset_signature_final/Dataset/dataset2/forge/02101008.png  \n",
            "  inflating: dataset_signature_final/Dataset/dataset2/forge/02101009.png  \n",
            "  inflating: dataset_signature_final/Dataset/dataset2/forge/02101011.png  \n",
            "  inflating: dataset_signature_final/Dataset/dataset2/forge/02101012.png  \n",
            "  inflating: dataset_signature_final/Dataset/dataset2/forge/02102003.png  \n",
            "  inflating: dataset_signature_final/Dataset/dataset2/forge/02102004.png  \n",
            "  inflating: dataset_signature_final/Dataset/dataset2/forge/02102005.png  \n",
            "  inflating: dataset_signature_final/Dataset/dataset2/forge/02102006.png  \n",
            "  inflating: dataset_signature_final/Dataset/dataset2/forge/02102007.png  \n",
            "  inflating: dataset_signature_final/Dataset/dataset2/forge/02102008.png  \n",
            "  inflating: dataset_signature_final/Dataset/dataset2/forge/02102009.png  \n",
            "  inflating: dataset_signature_final/Dataset/dataset2/forge/02102011.png  \n",
            "  inflating: dataset_signature_final/Dataset/dataset2/forge/02102012.png  \n",
            "  inflating: dataset_signature_final/Dataset/dataset2/forge/02103003.png  \n",
            "  inflating: dataset_signature_final/Dataset/dataset2/forge/02103004.png  \n",
            "  inflating: dataset_signature_final/Dataset/dataset2/forge/02103005.png  \n",
            "  inflating: dataset_signature_final/Dataset/dataset2/forge/02103006.png  \n",
            "  inflating: dataset_signature_final/Dataset/dataset2/forge/02103007.png  \n",
            "  inflating: dataset_signature_final/Dataset/dataset2/forge/02103008.png  \n",
            "  inflating: dataset_signature_final/Dataset/dataset2/forge/02103009.png  \n",
            "  inflating: dataset_signature_final/Dataset/dataset2/forge/02103011.png  \n",
            "  inflating: dataset_signature_final/Dataset/dataset2/forge/02103012.png  \n",
            "  inflating: dataset_signature_final/Dataset/dataset2/forge/02104003.png  \n",
            "  inflating: dataset_signature_final/Dataset/dataset2/forge/02104004.png  \n",
            "  inflating: dataset_signature_final/Dataset/dataset2/forge/02104005.png  \n",
            "  inflating: dataset_signature_final/Dataset/dataset2/forge/02104006.png  \n",
            "  inflating: dataset_signature_final/Dataset/dataset2/forge/02104007.png  \n",
            "  inflating: dataset_signature_final/Dataset/dataset2/forge/02104008.png  \n",
            "  inflating: dataset_signature_final/Dataset/dataset2/forge/02104009.png  \n",
            "  inflating: dataset_signature_final/Dataset/dataset2/forge/02104011.png  \n",
            "  inflating: dataset_signature_final/Dataset/dataset2/forge/02104012.png  \n",
            "  inflating: dataset_signature_final/Dataset/dataset2/forge/02105003.png  \n",
            "  inflating: dataset_signature_final/Dataset/dataset2/forge/02105004.png  \n",
            "  inflating: dataset_signature_final/Dataset/dataset2/forge/02105005.png  \n",
            "  inflating: dataset_signature_final/Dataset/dataset2/forge/02105006.png  \n",
            "  inflating: dataset_signature_final/Dataset/dataset2/forge/02105007.png  \n",
            "  inflating: dataset_signature_final/Dataset/dataset2/forge/02105008.png  \n",
            "  inflating: dataset_signature_final/Dataset/dataset2/forge/02105009.png  \n",
            "  inflating: dataset_signature_final/Dataset/dataset2/forge/02105011.png  \n",
            "  inflating: dataset_signature_final/Dataset/dataset2/forge/02105012.png  \n",
            "  inflating: dataset_signature_final/Dataset/dataset2/forge/02201001.png  \n",
            "  inflating: dataset_signature_final/Dataset/dataset2/forge/02201002.png  \n",
            "  inflating: dataset_signature_final/Dataset/dataset2/forge/02201010.png  \n",
            "  inflating: dataset_signature_final/Dataset/dataset2/forge/02202001.png  \n",
            "  inflating: dataset_signature_final/Dataset/dataset2/forge/02202002.png  \n",
            "  inflating: dataset_signature_final/Dataset/dataset2/forge/02202010.png  \n",
            "  inflating: dataset_signature_final/Dataset/dataset2/forge/02203001.png  \n",
            "  inflating: dataset_signature_final/Dataset/dataset2/forge/02203002.png  \n",
            "  inflating: dataset_signature_final/Dataset/dataset2/forge/02203010.png  \n",
            "  inflating: dataset_signature_final/Dataset/dataset2/forge/02204001.png  \n",
            "  inflating: dataset_signature_final/Dataset/dataset2/forge/02204002.png  \n",
            "  inflating: dataset_signature_final/Dataset/dataset2/forge/02204010.png  \n",
            "  inflating: dataset_signature_final/Dataset/dataset2/forge/02205001.png  \n",
            "  inflating: dataset_signature_final/Dataset/dataset2/forge/02205002.png  \n",
            "  inflating: dataset_signature_final/Dataset/dataset2/forge/02205010.png  \n",
            "  inflating: dataset_signature_final/Dataset/dataset2/real/00101001.png  \n",
            "  inflating: dataset_signature_final/Dataset/dataset2/real/00102001.png  \n",
            "  inflating: dataset_signature_final/Dataset/dataset2/real/00103001.png  \n",
            "  inflating: dataset_signature_final/Dataset/dataset2/real/00104001.png  \n",
            "  inflating: dataset_signature_final/Dataset/dataset2/real/00105001.png  \n",
            "  inflating: dataset_signature_final/Dataset/dataset2/real/00201002.png  \n",
            "  inflating: dataset_signature_final/Dataset/dataset2/real/00202002.png  \n",
            "  inflating: dataset_signature_final/Dataset/dataset2/real/00203002.png  \n",
            "  inflating: dataset_signature_final/Dataset/dataset2/real/00204002.png  \n",
            "  inflating: dataset_signature_final/Dataset/dataset2/real/00205002.png  \n",
            "  inflating: dataset_signature_final/Dataset/dataset2/real/00301003.png  \n",
            "  inflating: dataset_signature_final/Dataset/dataset2/real/00302003.png  \n",
            "  inflating: dataset_signature_final/Dataset/dataset2/real/00303003.png  \n",
            "  inflating: dataset_signature_final/Dataset/dataset2/real/00304003.png  \n",
            "  inflating: dataset_signature_final/Dataset/dataset2/real/00305003.png  \n",
            "  inflating: dataset_signature_final/Dataset/dataset2/real/00401004.png  \n",
            "  inflating: dataset_signature_final/Dataset/dataset2/real/00402004.png  \n",
            "  inflating: dataset_signature_final/Dataset/dataset2/real/00403004.png  \n",
            "  inflating: dataset_signature_final/Dataset/dataset2/real/00404004.png  \n",
            "  inflating: dataset_signature_final/Dataset/dataset2/real/00405004.png  \n",
            "  inflating: dataset_signature_final/Dataset/dataset2/real/00501005.png  \n",
            "  inflating: dataset_signature_final/Dataset/dataset2/real/00502005.png  \n",
            "  inflating: dataset_signature_final/Dataset/dataset2/real/00503005.png  \n",
            "  inflating: dataset_signature_final/Dataset/dataset2/real/00504005.png  \n",
            "  inflating: dataset_signature_final/Dataset/dataset2/real/00505005.png  \n",
            "  inflating: dataset_signature_final/Dataset/dataset2/real/00601006.png  \n",
            "  inflating: dataset_signature_final/Dataset/dataset2/real/00602006.png  \n",
            "  inflating: dataset_signature_final/Dataset/dataset2/real/00603006.png  \n",
            "  inflating: dataset_signature_final/Dataset/dataset2/real/00604006.png  \n",
            "  inflating: dataset_signature_final/Dataset/dataset2/real/00605006.png  \n",
            "  inflating: dataset_signature_final/Dataset/dataset2/real/00701007.png  \n",
            "  inflating: dataset_signature_final/Dataset/dataset2/real/00702007.png  \n",
            "  inflating: dataset_signature_final/Dataset/dataset2/real/00703007.png  \n",
            "  inflating: dataset_signature_final/Dataset/dataset2/real/00704007.png  \n",
            "  inflating: dataset_signature_final/Dataset/dataset2/real/00705007.png  \n",
            "  inflating: dataset_signature_final/Dataset/dataset2/real/00801008.png  \n",
            "  inflating: dataset_signature_final/Dataset/dataset2/real/00802008.png  \n",
            "  inflating: dataset_signature_final/Dataset/dataset2/real/00803008.png  \n",
            "  inflating: dataset_signature_final/Dataset/dataset2/real/00804008.png  \n",
            "  inflating: dataset_signature_final/Dataset/dataset2/real/00805008.png  \n",
            "  inflating: dataset_signature_final/Dataset/dataset2/real/00901009.png  \n",
            "  inflating: dataset_signature_final/Dataset/dataset2/real/00902009.png  \n",
            "  inflating: dataset_signature_final/Dataset/dataset2/real/00903009.png  \n",
            "  inflating: dataset_signature_final/Dataset/dataset2/real/00904009.png  \n",
            "  inflating: dataset_signature_final/Dataset/dataset2/real/00905009.png  \n",
            "  inflating: dataset_signature_final/Dataset/dataset2/real/01001010.png  \n",
            "  inflating: dataset_signature_final/Dataset/dataset2/real/01002010.png  \n",
            "  inflating: dataset_signature_final/Dataset/dataset2/real/01003010.png  \n",
            "  inflating: dataset_signature_final/Dataset/dataset2/real/01004010.png  \n",
            "  inflating: dataset_signature_final/Dataset/dataset2/real/01005010.png  \n",
            "  inflating: dataset_signature_final/Dataset/dataset2/real/01101011.png  \n",
            "  inflating: dataset_signature_final/Dataset/dataset2/real/01102011.png  \n",
            "  inflating: dataset_signature_final/Dataset/dataset2/real/01103011.png  \n",
            "  inflating: dataset_signature_final/Dataset/dataset2/real/01104011.png  \n",
            "  inflating: dataset_signature_final/Dataset/dataset2/real/01105011.png  \n",
            "  inflating: dataset_signature_final/Dataset/dataset2/real/01201012.png  \n",
            "  inflating: dataset_signature_final/Dataset/dataset2/real/01202012.png  \n",
            "  inflating: dataset_signature_final/Dataset/dataset2/real/01203012.png  \n",
            "  inflating: dataset_signature_final/Dataset/dataset2/real/01204012.png  \n",
            "  inflating: dataset_signature_final/Dataset/dataset2/real/01205012.png  \n",
            "  inflating: dataset_signature_final/Dataset/dataset3/forge/00101014.png  \n",
            "  inflating: dataset_signature_final/Dataset/dataset3/forge/00101019.png  \n",
            "  inflating: dataset_signature_final/Dataset/dataset3/forge/00101025.png  \n",
            "  inflating: dataset_signature_final/Dataset/dataset3/forge/00101026.png  \n",
            "  inflating: dataset_signature_final/Dataset/dataset3/forge/00101027.png  \n",
            "  inflating: dataset_signature_final/Dataset/dataset3/forge/00101028.png  \n",
            "  inflating: dataset_signature_final/Dataset/dataset3/forge/00101029.png  \n",
            "  inflating: dataset_signature_final/Dataset/dataset3/forge/00101030.png  \n",
            "  inflating: dataset_signature_final/Dataset/dataset3/forge/00102014.png  \n",
            "  inflating: dataset_signature_final/Dataset/dataset3/forge/00102019.png  \n",
            "  inflating: dataset_signature_final/Dataset/dataset3/forge/00102025.png  \n",
            "  inflating: dataset_signature_final/Dataset/dataset3/forge/00102026.png  \n",
            "  inflating: dataset_signature_final/Dataset/dataset3/forge/00102027.png  \n",
            "  inflating: dataset_signature_final/Dataset/dataset3/forge/00102028.png  \n",
            "  inflating: dataset_signature_final/Dataset/dataset3/forge/00102029.png  \n",
            "  inflating: dataset_signature_final/Dataset/dataset3/forge/00102030.png  \n",
            "  inflating: dataset_signature_final/Dataset/dataset3/forge/00103014.png  \n",
            "  inflating: dataset_signature_final/Dataset/dataset3/forge/00103019.png  \n",
            "  inflating: dataset_signature_final/Dataset/dataset3/forge/00103025.png  \n",
            "  inflating: dataset_signature_final/Dataset/dataset3/forge/00103026.png  \n",
            "  inflating: dataset_signature_final/Dataset/dataset3/forge/00103027.png  \n",
            "  inflating: dataset_signature_final/Dataset/dataset3/forge/00103028.png  \n",
            "  inflating: dataset_signature_final/Dataset/dataset3/forge/00103029.png  \n",
            "  inflating: dataset_signature_final/Dataset/dataset3/forge/00103030.png  \n",
            "  inflating: dataset_signature_final/Dataset/dataset3/forge/00104014.png  \n",
            "  inflating: dataset_signature_final/Dataset/dataset3/forge/00104019.png  \n",
            "  inflating: dataset_signature_final/Dataset/dataset3/forge/00104025.png  \n",
            "  inflating: dataset_signature_final/Dataset/dataset3/forge/00104026.png  \n",
            "  inflating: dataset_signature_final/Dataset/dataset3/forge/00104027.png  \n",
            "  inflating: dataset_signature_final/Dataset/dataset3/forge/00104028.png  \n",
            "  inflating: dataset_signature_final/Dataset/dataset3/forge/00104029.png  \n",
            "  inflating: dataset_signature_final/Dataset/dataset3/forge/00104030.png  \n",
            "  inflating: dataset_signature_final/Dataset/dataset3/forge/00105014.png  \n",
            "  inflating: dataset_signature_final/Dataset/dataset3/forge/00105019.png  \n",
            "  inflating: dataset_signature_final/Dataset/dataset3/forge/00105025.png  \n",
            "  inflating: dataset_signature_final/Dataset/dataset3/forge/00105026.png  \n",
            "  inflating: dataset_signature_final/Dataset/dataset3/forge/00105027.png  \n",
            "  inflating: dataset_signature_final/Dataset/dataset3/forge/00105028.png  \n",
            "  inflating: dataset_signature_final/Dataset/dataset3/forge/00105029.png  \n",
            "  inflating: dataset_signature_final/Dataset/dataset3/forge/00105030.png  \n",
            "  inflating: dataset_signature_final/Dataset/dataset3/forge/00301001.png  \n",
            "  inflating: dataset_signature_final/Dataset/dataset3/forge/00301002.png  \n",
            "  inflating: dataset_signature_final/Dataset/dataset3/forge/00301005.png  \n",
            "  inflating: dataset_signature_final/Dataset/dataset3/forge/00301009.png  \n",
            "  inflating: dataset_signature_final/Dataset/dataset3/forge/00301018.png  \n",
            "  inflating: dataset_signature_final/Dataset/dataset3/forge/00302001.png  \n",
            "  inflating: dataset_signature_final/Dataset/dataset3/forge/00302002.png  \n",
            "  inflating: dataset_signature_final/Dataset/dataset3/forge/00302005.png  \n",
            "  inflating: dataset_signature_final/Dataset/dataset3/forge/00302009.png  \n",
            "  inflating: dataset_signature_final/Dataset/dataset3/forge/00302018.png  \n",
            "  inflating: dataset_signature_final/Dataset/dataset3/forge/00303001.png  \n",
            "  inflating: dataset_signature_final/Dataset/dataset3/forge/00303002.png  \n",
            "  inflating: dataset_signature_final/Dataset/dataset3/forge/00303005.png  \n",
            "  inflating: dataset_signature_final/Dataset/dataset3/forge/00303009.png  \n",
            "  inflating: dataset_signature_final/Dataset/dataset3/forge/00303018.png  \n",
            "  inflating: dataset_signature_final/Dataset/dataset3/forge/00304001.png  \n",
            "  inflating: dataset_signature_final/Dataset/dataset3/forge/00304002.png  \n",
            "  inflating: dataset_signature_final/Dataset/dataset3/forge/00304005.png  \n",
            "  inflating: dataset_signature_final/Dataset/dataset3/forge/00304009.png  \n",
            "  inflating: dataset_signature_final/Dataset/dataset3/forge/00304018.png  \n",
            "  inflating: dataset_signature_final/Dataset/dataset3/forge/00305001.png  \n",
            "  inflating: dataset_signature_final/Dataset/dataset3/forge/00305002.png  \n",
            "  inflating: dataset_signature_final/Dataset/dataset3/forge/00305005.png  \n",
            "  inflating: dataset_signature_final/Dataset/dataset3/forge/00305009.png  \n",
            "  inflating: dataset_signature_final/Dataset/dataset3/forge/00305018.png  \n",
            "  inflating: dataset_signature_final/Dataset/dataset3/forge/00401003.png  \n",
            "  inflating: dataset_signature_final/Dataset/dataset3/forge/00401007.png  \n",
            "  inflating: dataset_signature_final/Dataset/dataset3/forge/00401013.png  \n",
            "  inflating: dataset_signature_final/Dataset/dataset3/forge/00401024.png  \n",
            "  inflating: dataset_signature_final/Dataset/dataset3/forge/00402003.png  \n",
            "  inflating: dataset_signature_final/Dataset/dataset3/forge/00402007.png  \n",
            "  inflating: dataset_signature_final/Dataset/dataset3/forge/00402013.png  \n",
            "  inflating: dataset_signature_final/Dataset/dataset3/forge/00402024.png  \n",
            "  inflating: dataset_signature_final/Dataset/dataset3/forge/00403003.png  \n",
            "  inflating: dataset_signature_final/Dataset/dataset3/forge/00403007.png  \n",
            "  inflating: dataset_signature_final/Dataset/dataset3/forge/00403013.png  \n",
            "  inflating: dataset_signature_final/Dataset/dataset3/forge/00403024.png  \n",
            "  inflating: dataset_signature_final/Dataset/dataset3/forge/00404003.png  \n",
            "  inflating: dataset_signature_final/Dataset/dataset3/forge/00404007.png  \n",
            "  inflating: dataset_signature_final/Dataset/dataset3/forge/00404013.png  \n",
            "  inflating: dataset_signature_final/Dataset/dataset3/forge/00404024.png  \n",
            "  inflating: dataset_signature_final/Dataset/dataset3/forge/00405003.png  \n",
            "  inflating: dataset_signature_final/Dataset/dataset3/forge/00405007.png  \n",
            "  inflating: dataset_signature_final/Dataset/dataset3/forge/00405013.png  \n",
            "  inflating: dataset_signature_final/Dataset/dataset3/forge/00405024.png  \n",
            "  inflating: dataset_signature_final/Dataset/dataset3/forge/00501015.png  \n",
            "  inflating: dataset_signature_final/Dataset/dataset3/forge/00501022.png  \n",
            "  inflating: dataset_signature_final/Dataset/dataset3/forge/00502015.png  \n",
            "  inflating: dataset_signature_final/Dataset/dataset3/forge/00502022.png  \n",
            "  inflating: dataset_signature_final/Dataset/dataset3/forge/00503015.png  \n",
            "  inflating: dataset_signature_final/Dataset/dataset3/forge/00503022.png  \n",
            "  inflating: dataset_signature_final/Dataset/dataset3/forge/00504015.png  \n",
            "  inflating: dataset_signature_final/Dataset/dataset3/forge/00504022.png  \n",
            "  inflating: dataset_signature_final/Dataset/dataset3/forge/00505015.png  \n",
            "  inflating: dataset_signature_final/Dataset/dataset3/forge/00505022.png  \n",
            "  inflating: dataset_signature_final/Dataset/dataset3/forge/00701011.png  \n",
            "  inflating: dataset_signature_final/Dataset/dataset3/forge/00701023.png  \n",
            "  inflating: dataset_signature_final/Dataset/dataset3/forge/00702011.png  \n",
            "  inflating: dataset_signature_final/Dataset/dataset3/forge/00702023.png  \n",
            "  inflating: dataset_signature_final/Dataset/dataset3/forge/00703011.png  \n",
            "  inflating: dataset_signature_final/Dataset/dataset3/forge/00703023.png  \n",
            "  inflating: dataset_signature_final/Dataset/dataset3/forge/00704011.png  \n",
            "  inflating: dataset_signature_final/Dataset/dataset3/forge/00704023.png  \n",
            "  inflating: dataset_signature_final/Dataset/dataset3/forge/00705011.png  \n",
            "  inflating: dataset_signature_final/Dataset/dataset3/forge/00705023.png  \n",
            "  inflating: dataset_signature_final/Dataset/dataset3/forge/01101012.png  \n",
            "  inflating: dataset_signature_final/Dataset/dataset3/forge/01101016.png  \n",
            "  inflating: dataset_signature_final/Dataset/dataset3/forge/01102012.png  \n",
            "  inflating: dataset_signature_final/Dataset/dataset3/forge/01102016.png  \n",
            "  inflating: dataset_signature_final/Dataset/dataset3/forge/01103012.png  \n",
            "  inflating: dataset_signature_final/Dataset/dataset3/forge/01103016.png  \n",
            "  inflating: dataset_signature_final/Dataset/dataset3/forge/01104012.png  \n",
            "  inflating: dataset_signature_final/Dataset/dataset3/forge/01104016.png  \n",
            "  inflating: dataset_signature_final/Dataset/dataset3/forge/01105012.png  \n",
            "  inflating: dataset_signature_final/Dataset/dataset3/forge/01105016.png  \n",
            "  inflating: dataset_signature_final/Dataset/dataset3/forge/01201021.png  \n",
            "  inflating: dataset_signature_final/Dataset/dataset3/forge/01202021.png  \n",
            "  inflating: dataset_signature_final/Dataset/dataset3/forge/01203021.png  \n",
            "  inflating: dataset_signature_final/Dataset/dataset3/forge/01204021.png  \n",
            "  inflating: dataset_signature_final/Dataset/dataset3/forge/01205021.png  \n",
            "  inflating: dataset_signature_final/Dataset/dataset3/forge/01301017.png  \n",
            "  inflating: dataset_signature_final/Dataset/dataset3/forge/01302017.png  \n",
            "  inflating: dataset_signature_final/Dataset/dataset3/forge/01303017.png  \n",
            "  inflating: dataset_signature_final/Dataset/dataset3/forge/01304017.png  \n",
            "  inflating: dataset_signature_final/Dataset/dataset3/forge/01305017.png  \n",
            "  inflating: dataset_signature_final/Dataset/dataset3/forge/01701020.png  \n",
            "  inflating: dataset_signature_final/Dataset/dataset3/forge/01702020.png  \n",
            "  inflating: dataset_signature_final/Dataset/dataset3/forge/01703020.png  \n",
            "  inflating: dataset_signature_final/Dataset/dataset3/forge/01704020.png  \n",
            "  inflating: dataset_signature_final/Dataset/dataset3/forge/01705020.png  \n",
            "  inflating: dataset_signature_final/Dataset/dataset3/forge/02301008.png  \n",
            "  inflating: dataset_signature_final/Dataset/dataset3/forge/02303008.png  \n",
            "  inflating: dataset_signature_final/Dataset/dataset3/forge/02304008.png  \n",
            "  inflating: dataset_signature_final/Dataset/dataset3/forge/02305008.png  \n",
            "  inflating: dataset_signature_final/Dataset/dataset3/forge/02306008.png  \n",
            "  inflating: dataset_signature_final/Dataset/dataset3/forge/02501010.png  \n",
            "  inflating: dataset_signature_final/Dataset/dataset3/forge/02502010.png  \n",
            "  inflating: dataset_signature_final/Dataset/dataset3/forge/02503010.png  \n",
            "  inflating: dataset_signature_final/Dataset/dataset3/forge/02504010.png  \n",
            "  inflating: dataset_signature_final/Dataset/dataset3/forge/02505009.png  \n",
            "  inflating: dataset_signature_final/Dataset/dataset3/forge/03301006.png  \n",
            "  inflating: dataset_signature_final/Dataset/dataset3/forge/03302006.png  \n",
            "  inflating: dataset_signature_final/Dataset/dataset3/forge/03303006.png  \n",
            "  inflating: dataset_signature_final/Dataset/dataset3/forge/03304006.png  \n",
            "  inflating: dataset_signature_final/Dataset/dataset3/forge/03305006.png  \n",
            "  inflating: dataset_signature_final/Dataset/dataset3/forge/08801004.png  \n",
            "  inflating: dataset_signature_final/Dataset/dataset3/forge/08802004.png  \n",
            "  inflating: dataset_signature_final/Dataset/dataset3/forge/08803004.png  \n",
            "  inflating: dataset_signature_final/Dataset/dataset3/forge/08804004.png  \n",
            "  inflating: dataset_signature_final/Dataset/dataset3/forge/08805004.png  \n",
            "  inflating: dataset_signature_final/Dataset/dataset3/real/00101001.png  \n",
            "  inflating: dataset_signature_final/Dataset/dataset3/real/00102001.png  \n",
            "  inflating: dataset_signature_final/Dataset/dataset3/real/00103001.png  \n",
            "  inflating: dataset_signature_final/Dataset/dataset3/real/00104001.png  \n",
            "  inflating: dataset_signature_final/Dataset/dataset3/real/00105001.png  \n",
            "  inflating: dataset_signature_final/Dataset/dataset3/real/00201002.png  \n",
            "  inflating: dataset_signature_final/Dataset/dataset3/real/00202002.png  \n",
            "  inflating: dataset_signature_final/Dataset/dataset3/real/00203002.png  \n",
            "  inflating: dataset_signature_final/Dataset/dataset3/real/00204002.png  \n",
            "  inflating: dataset_signature_final/Dataset/dataset3/real/00205002.png  \n",
            "  inflating: dataset_signature_final/Dataset/dataset3/real/00301003.png  \n",
            "  inflating: dataset_signature_final/Dataset/dataset3/real/00302003.png  \n",
            "  inflating: dataset_signature_final/Dataset/dataset3/real/00303003.png  \n",
            "  inflating: dataset_signature_final/Dataset/dataset3/real/00304003.png  \n",
            "  inflating: dataset_signature_final/Dataset/dataset3/real/00305003.png  \n",
            "  inflating: dataset_signature_final/Dataset/dataset3/real/00401004.png  \n",
            "  inflating: dataset_signature_final/Dataset/dataset3/real/00402004.png  \n",
            "  inflating: dataset_signature_final/Dataset/dataset3/real/00403004.png  \n",
            "  inflating: dataset_signature_final/Dataset/dataset3/real/00404004.png  \n",
            "  inflating: dataset_signature_final/Dataset/dataset3/real/00405004.png  \n",
            "  inflating: dataset_signature_final/Dataset/dataset3/real/00501005.png  \n",
            "  inflating: dataset_signature_final/Dataset/dataset3/real/00502005.png  \n",
            "  inflating: dataset_signature_final/Dataset/dataset3/real/00503005.png  \n",
            "  inflating: dataset_signature_final/Dataset/dataset3/real/00504005.png  \n",
            "  inflating: dataset_signature_final/Dataset/dataset3/real/00505005.png  \n",
            "  inflating: dataset_signature_final/Dataset/dataset3/real/00601006.png  \n",
            "  inflating: dataset_signature_final/Dataset/dataset3/real/00602006.png  \n",
            "  inflating: dataset_signature_final/Dataset/dataset3/real/00603006.png  \n",
            "  inflating: dataset_signature_final/Dataset/dataset3/real/00604006.png  \n",
            "  inflating: dataset_signature_final/Dataset/dataset3/real/00605006.png  \n",
            "  inflating: dataset_signature_final/Dataset/dataset3/real/00701007.png  \n",
            "  inflating: dataset_signature_final/Dataset/dataset3/real/00702007.png  \n",
            "  inflating: dataset_signature_final/Dataset/dataset3/real/00703007.png  \n",
            "  inflating: dataset_signature_final/Dataset/dataset3/real/00704007.png  \n",
            "  inflating: dataset_signature_final/Dataset/dataset3/real/00705007.png  \n",
            "  inflating: dataset_signature_final/Dataset/dataset3/real/00801008.png  \n",
            "  inflating: dataset_signature_final/Dataset/dataset3/real/00802008.png  \n",
            "  inflating: dataset_signature_final/Dataset/dataset3/real/00803008.png  \n",
            "  inflating: dataset_signature_final/Dataset/dataset3/real/00804008.png  \n",
            "  inflating: dataset_signature_final/Dataset/dataset3/real/00805008.png  \n",
            "  inflating: dataset_signature_final/Dataset/dataset3/real/00901009.png  \n",
            "  inflating: dataset_signature_final/Dataset/dataset3/real/00902009.png  \n",
            "  inflating: dataset_signature_final/Dataset/dataset3/real/00903009.png  \n",
            "  inflating: dataset_signature_final/Dataset/dataset3/real/00904009.png  \n",
            "  inflating: dataset_signature_final/Dataset/dataset3/real/00905009.png  \n",
            "  inflating: dataset_signature_final/Dataset/dataset3/real/01001010.png  \n",
            "  inflating: dataset_signature_final/Dataset/dataset3/real/01002010.png  \n",
            "  inflating: dataset_signature_final/Dataset/dataset3/real/01003010.png  \n",
            "  inflating: dataset_signature_final/Dataset/dataset3/real/01004010.png  \n",
            "  inflating: dataset_signature_final/Dataset/dataset3/real/01005010.png  \n",
            "  inflating: dataset_signature_final/Dataset/dataset3/real/01101011.png  \n",
            "  inflating: dataset_signature_final/Dataset/dataset3/real/01102011.png  \n",
            "  inflating: dataset_signature_final/Dataset/dataset3/real/01103011.png  \n",
            "  inflating: dataset_signature_final/Dataset/dataset3/real/01104011.png  \n",
            "  inflating: dataset_signature_final/Dataset/dataset3/real/01105011.png  \n",
            "  inflating: dataset_signature_final/Dataset/dataset3/real/01201012.png  \n",
            "  inflating: dataset_signature_final/Dataset/dataset3/real/01202012.png  \n",
            "  inflating: dataset_signature_final/Dataset/dataset3/real/01203012.png  \n",
            "  inflating: dataset_signature_final/Dataset/dataset3/real/01204012.png  \n",
            "  inflating: dataset_signature_final/Dataset/dataset3/real/01205012.png  \n",
            "  inflating: dataset_signature_final/Dataset/dataset3/real/01301013.png  \n",
            "  inflating: dataset_signature_final/Dataset/dataset3/real/01302013.png  \n",
            "  inflating: dataset_signature_final/Dataset/dataset3/real/01303013.png  \n",
            "  inflating: dataset_signature_final/Dataset/dataset3/real/01304013.png  \n",
            "  inflating: dataset_signature_final/Dataset/dataset3/real/01305013.png  \n",
            "  inflating: dataset_signature_final/Dataset/dataset3/real/01401014.png  \n",
            "  inflating: dataset_signature_final/Dataset/dataset3/real/01402014.png  \n",
            "  inflating: dataset_signature_final/Dataset/dataset3/real/01403014.png  \n",
            "  inflating: dataset_signature_final/Dataset/dataset3/real/01404014.png  \n",
            "  inflating: dataset_signature_final/Dataset/dataset3/real/01405014.png  \n",
            "  inflating: dataset_signature_final/Dataset/dataset3/real/01501015.png  \n",
            "  inflating: dataset_signature_final/Dataset/dataset3/real/01502015.png  \n",
            "  inflating: dataset_signature_final/Dataset/dataset3/real/01503015.png  \n",
            "  inflating: dataset_signature_final/Dataset/dataset3/real/01504015.png  \n",
            "  inflating: dataset_signature_final/Dataset/dataset3/real/01505015.png  \n",
            "  inflating: dataset_signature_final/Dataset/dataset3/real/01601016.png  \n",
            "  inflating: dataset_signature_final/Dataset/dataset3/real/01602016.png  \n",
            "  inflating: dataset_signature_final/Dataset/dataset3/real/01603016.png  \n",
            "  inflating: dataset_signature_final/Dataset/dataset3/real/01604016.png  \n",
            "  inflating: dataset_signature_final/Dataset/dataset3/real/01605016.png  \n",
            "  inflating: dataset_signature_final/Dataset/dataset3/real/01701017.png  \n",
            "  inflating: dataset_signature_final/Dataset/dataset3/real/01702017.png  \n",
            "  inflating: dataset_signature_final/Dataset/dataset3/real/01703017.png  \n",
            "  inflating: dataset_signature_final/Dataset/dataset3/real/01704017.png  \n",
            "  inflating: dataset_signature_final/Dataset/dataset3/real/01705017.png  \n",
            "  inflating: dataset_signature_final/Dataset/dataset3/real/01801018.png  \n",
            "  inflating: dataset_signature_final/Dataset/dataset3/real/01802018.png  \n",
            "  inflating: dataset_signature_final/Dataset/dataset3/real/01803018.png  \n",
            "  inflating: dataset_signature_final/Dataset/dataset3/real/01804018.png  \n",
            "  inflating: dataset_signature_final/Dataset/dataset3/real/01805018.png  \n",
            "  inflating: dataset_signature_final/Dataset/dataset3/real/01901019.png  \n",
            "  inflating: dataset_signature_final/Dataset/dataset3/real/01902019.png  \n",
            "  inflating: dataset_signature_final/Dataset/dataset3/real/01903019.png  \n",
            "  inflating: dataset_signature_final/Dataset/dataset3/real/01904019.png  \n",
            "  inflating: dataset_signature_final/Dataset/dataset3/real/01905019.png  \n",
            "  inflating: dataset_signature_final/Dataset/dataset3/real/02001020.png  \n",
            "  inflating: dataset_signature_final/Dataset/dataset3/real/02002020.png  \n",
            "  inflating: dataset_signature_final/Dataset/dataset3/real/02003020.png  \n",
            "  inflating: dataset_signature_final/Dataset/dataset3/real/02004020.png  \n",
            "  inflating: dataset_signature_final/Dataset/dataset3/real/02005020.png  \n",
            "  inflating: dataset_signature_final/Dataset/dataset3/real/02101021.png  \n",
            "  inflating: dataset_signature_final/Dataset/dataset3/real/02102021.png  \n",
            "  inflating: dataset_signature_final/Dataset/dataset3/real/02103021.png  \n",
            "  inflating: dataset_signature_final/Dataset/dataset3/real/02104021.png  \n",
            "  inflating: dataset_signature_final/Dataset/dataset3/real/02105021.png  \n",
            "  inflating: dataset_signature_final/Dataset/dataset3/real/02201022.png  \n",
            "  inflating: dataset_signature_final/Dataset/dataset3/real/02202022.png  \n",
            "  inflating: dataset_signature_final/Dataset/dataset3/real/02203022.png  \n",
            "  inflating: dataset_signature_final/Dataset/dataset3/real/02204022.png  \n",
            "  inflating: dataset_signature_final/Dataset/dataset3/real/02205022.png  \n",
            "  inflating: dataset_signature_final/Dataset/dataset3/real/02301023.png  \n",
            "  inflating: dataset_signature_final/Dataset/dataset3/real/02302023.png  \n",
            "  inflating: dataset_signature_final/Dataset/dataset3/real/02303023.png  \n",
            "  inflating: dataset_signature_final/Dataset/dataset3/real/02304023.png  \n",
            "  inflating: dataset_signature_final/Dataset/dataset3/real/02305023.png  \n",
            "  inflating: dataset_signature_final/Dataset/dataset3/real/02401024.png  \n",
            "  inflating: dataset_signature_final/Dataset/dataset3/real/02402024.png  \n",
            "  inflating: dataset_signature_final/Dataset/dataset3/real/02403024.png  \n",
            "  inflating: dataset_signature_final/Dataset/dataset3/real/02404024.png  \n",
            "  inflating: dataset_signature_final/Dataset/dataset3/real/02405024.png  \n",
            "  inflating: dataset_signature_final/Dataset/dataset3/real/02501025.png  \n",
            "  inflating: dataset_signature_final/Dataset/dataset3/real/02502025.png  \n",
            "  inflating: dataset_signature_final/Dataset/dataset3/real/02503025.png  \n",
            "  inflating: dataset_signature_final/Dataset/dataset3/real/02504025.png  \n",
            "  inflating: dataset_signature_final/Dataset/dataset3/real/02505025.png  \n",
            "  inflating: dataset_signature_final/Dataset/dataset3/real/02601026.png  \n",
            "  inflating: dataset_signature_final/Dataset/dataset3/real/02602026.png  \n",
            "  inflating: dataset_signature_final/Dataset/dataset3/real/02603026.png  \n",
            "  inflating: dataset_signature_final/Dataset/dataset3/real/02604026.png  \n",
            "  inflating: dataset_signature_final/Dataset/dataset3/real/02605026.png  \n",
            "  inflating: dataset_signature_final/Dataset/dataset3/real/02701027.png  \n",
            "  inflating: dataset_signature_final/Dataset/dataset3/real/02702027.png  \n",
            "  inflating: dataset_signature_final/Dataset/dataset3/real/02703027.png  \n",
            "  inflating: dataset_signature_final/Dataset/dataset3/real/02704027.png  \n",
            "  inflating: dataset_signature_final/Dataset/dataset3/real/02705027.png  \n",
            "  inflating: dataset_signature_final/Dataset/dataset3/real/02801028.png  \n",
            "  inflating: dataset_signature_final/Dataset/dataset3/real/02802028.png  \n",
            "  inflating: dataset_signature_final/Dataset/dataset3/real/02803028.png  \n",
            "  inflating: dataset_signature_final/Dataset/dataset3/real/02804028.png  \n",
            "  inflating: dataset_signature_final/Dataset/dataset3/real/02805028.png  \n",
            "  inflating: dataset_signature_final/Dataset/dataset3/real/02901029.png  \n",
            "  inflating: dataset_signature_final/Dataset/dataset3/real/02902029.png  \n",
            "  inflating: dataset_signature_final/Dataset/dataset3/real/02903029.png  \n",
            "  inflating: dataset_signature_final/Dataset/dataset3/real/02904029.png  \n",
            "  inflating: dataset_signature_final/Dataset/dataset3/real/02905029.png  \n",
            "  inflating: dataset_signature_final/Dataset/dataset3/real/03001030.png  \n",
            "  inflating: dataset_signature_final/Dataset/dataset3/real/03002030.png  \n",
            "  inflating: dataset_signature_final/Dataset/dataset3/real/03003030.png  \n",
            "  inflating: dataset_signature_final/Dataset/dataset3/real/03004030.png  \n",
            "  inflating: dataset_signature_final/Dataset/dataset3/real/03005030.png  \n",
            "  inflating: dataset_signature_final/Dataset/dataset4/forge/00301002.png  \n",
            "  inflating: dataset_signature_final/Dataset/dataset4/forge/00301035.png  \n",
            "  inflating: dataset_signature_final/Dataset/dataset4/forge/00301046.png  \n",
            "  inflating: dataset_signature_final/Dataset/dataset4/forge/00302002.png  \n",
            "  inflating: dataset_signature_final/Dataset/dataset4/forge/00302035.png  \n",
            "  inflating: dataset_signature_final/Dataset/dataset4/forge/00302046.png  \n",
            "  inflating: dataset_signature_final/Dataset/dataset4/forge/00303002.png  \n",
            "  inflating: dataset_signature_final/Dataset/dataset4/forge/00303035.png  \n",
            "  inflating: dataset_signature_final/Dataset/dataset4/forge/00303046.png  \n",
            "  inflating: dataset_signature_final/Dataset/dataset4/forge/00304002.png  \n",
            "  inflating: dataset_signature_final/Dataset/dataset4/forge/00304035.png  \n",
            "  inflating: dataset_signature_final/Dataset/dataset4/forge/00304046.png  \n",
            "  inflating: dataset_signature_final/Dataset/dataset4/forge/00305002.png  \n",
            "  inflating: dataset_signature_final/Dataset/dataset4/forge/00305035.png  \n",
            "  inflating: dataset_signature_final/Dataset/dataset4/forge/00305046.png  \n",
            "  inflating: dataset_signature_final/Dataset/dataset4/forge/00401024.png  \n",
            "  inflating: dataset_signature_final/Dataset/dataset4/forge/00401044.png  \n",
            "  inflating: dataset_signature_final/Dataset/dataset4/forge/00401063.png  \n",
            "  inflating: dataset_signature_final/Dataset/dataset4/forge/00401092.png  \n",
            "  inflating: dataset_signature_final/Dataset/dataset4/forge/00402024.png  \n",
            "  inflating: dataset_signature_final/Dataset/dataset4/forge/00402044.png  \n",
            "  inflating: dataset_signature_final/Dataset/dataset4/forge/00402063.png  \n",
            "  inflating: dataset_signature_final/Dataset/dataset4/forge/00402092.png  \n",
            "  inflating: dataset_signature_final/Dataset/dataset4/forge/00403024.png  \n",
            "  inflating: dataset_signature_final/Dataset/dataset4/forge/00403044.png  \n",
            "  inflating: dataset_signature_final/Dataset/dataset4/forge/00403063.png  \n",
            "  inflating: dataset_signature_final/Dataset/dataset4/forge/00403092.png  \n",
            "  inflating: dataset_signature_final/Dataset/dataset4/forge/00404024.png  \n",
            "  inflating: dataset_signature_final/Dataset/dataset4/forge/00404044.png  \n",
            "  inflating: dataset_signature_final/Dataset/dataset4/forge/00404063.png  \n",
            "  inflating: dataset_signature_final/Dataset/dataset4/forge/00404092.png  \n",
            "  inflating: dataset_signature_final/Dataset/dataset4/forge/00405024.png  \n",
            "  inflating: dataset_signature_final/Dataset/dataset4/forge/00405044.png  \n",
            "  inflating: dataset_signature_final/Dataset/dataset4/forge/00405063.png  \n",
            "  inflating: dataset_signature_final/Dataset/dataset4/forge/00405092.png  \n",
            "  inflating: dataset_signature_final/Dataset/dataset4/forge/01601077.png  \n",
            "  inflating: dataset_signature_final/Dataset/dataset4/forge/01601089.png  \n",
            "  inflating: dataset_signature_final/Dataset/dataset4/forge/01602033.png  \n",
            "  inflating: dataset_signature_final/Dataset/dataset4/forge/01602077.png  \n",
            "  inflating: dataset_signature_final/Dataset/dataset4/forge/01602089.png  \n",
            "  inflating: dataset_signature_final/Dataset/dataset4/forge/01603033.png  \n",
            "  inflating: dataset_signature_final/Dataset/dataset4/forge/01603077.png  \n",
            "  inflating: dataset_signature_final/Dataset/dataset4/forge/01603089.png  \n",
            "  inflating: dataset_signature_final/Dataset/dataset4/forge/01604033.png  \n",
            "  inflating: dataset_signature_final/Dataset/dataset4/forge/01604077.png  \n",
            "  inflating: dataset_signature_final/Dataset/dataset4/forge/01604089.png  \n",
            "  inflating: dataset_signature_final/Dataset/dataset4/forge/01605033.png  \n",
            "  inflating: dataset_signature_final/Dataset/dataset4/forge/01605077.png  \n",
            "  inflating: dataset_signature_final/Dataset/dataset4/forge/01605089.png  \n",
            "  inflating: dataset_signature_final/Dataset/dataset4/forge/01701033.png  \n",
            "  inflating: dataset_signature_final/Dataset/dataset4/forge/02301008.png  \n",
            "  inflating: dataset_signature_final/Dataset/dataset4/forge/02301070.png  \n",
            "  inflating: dataset_signature_final/Dataset/dataset4/forge/02301093.png  \n",
            "  inflating: dataset_signature_final/Dataset/dataset4/forge/02302008.png  \n",
            "  inflating: dataset_signature_final/Dataset/dataset4/forge/02302070.png  \n",
            "  inflating: dataset_signature_final/Dataset/dataset4/forge/02302093.png  \n",
            "  inflating: dataset_signature_final/Dataset/dataset4/forge/02303008.png  \n",
            "  inflating: dataset_signature_final/Dataset/dataset4/forge/02303070.png  \n",
            "  inflating: dataset_signature_final/Dataset/dataset4/forge/02303093.png  \n",
            "  inflating: dataset_signature_final/Dataset/dataset4/forge/02304008.png  \n",
            "  inflating: dataset_signature_final/Dataset/dataset4/forge/02304070.png  \n",
            "  inflating: dataset_signature_final/Dataset/dataset4/forge/02304093.png  \n",
            "  inflating: dataset_signature_final/Dataset/dataset4/forge/02305008.png  \n",
            "  inflating: dataset_signature_final/Dataset/dataset4/forge/02305070.png  \n",
            "  inflating: dataset_signature_final/Dataset/dataset4/forge/02305093.png  \n",
            "  inflating: dataset_signature_final/Dataset/dataset4/forge/03201084.png  \n",
            "  inflating: dataset_signature_final/Dataset/dataset4/forge/03201085.png  \n",
            "  inflating: dataset_signature_final/Dataset/dataset4/forge/03201086.png  \n",
            "  inflating: dataset_signature_final/Dataset/dataset4/forge/03202084.png  \n",
            "  inflating: dataset_signature_final/Dataset/dataset4/forge/03202085.png  \n",
            "  inflating: dataset_signature_final/Dataset/dataset4/forge/03202086.png  \n",
            "  inflating: dataset_signature_final/Dataset/dataset4/forge/03203084.png  \n",
            "  inflating: dataset_signature_final/Dataset/dataset4/forge/03203085.png  \n",
            "  inflating: dataset_signature_final/Dataset/dataset4/forge/03203086.png  \n",
            "  inflating: dataset_signature_final/Dataset/dataset4/forge/03204084.png  \n",
            "  inflating: dataset_signature_final/Dataset/dataset4/forge/03204085.png  \n",
            "  inflating: dataset_signature_final/Dataset/dataset4/forge/03204086.png  \n",
            "  inflating: dataset_signature_final/Dataset/dataset4/forge/03205084.png  \n",
            "  inflating: dataset_signature_final/Dataset/dataset4/forge/03205085.png  \n",
            "  inflating: dataset_signature_final/Dataset/dataset4/forge/03205086.png  \n",
            "  inflating: dataset_signature_final/Dataset/dataset4/forge/06101016.png  \n",
            "  inflating: dataset_signature_final/Dataset/dataset4/forge/06101071.png  \n",
            "  inflating: dataset_signature_final/Dataset/dataset4/forge/06102016.png  \n",
            "  inflating: dataset_signature_final/Dataset/dataset4/forge/06102071.png  \n",
            "  inflating: dataset_signature_final/Dataset/dataset4/forge/06103016.png  \n",
            "  inflating: dataset_signature_final/Dataset/dataset4/forge/06103071.png  \n",
            "  inflating: dataset_signature_final/Dataset/dataset4/forge/06104016.png  \n",
            "  inflating: dataset_signature_final/Dataset/dataset4/forge/06104071.png  \n",
            "  inflating: dataset_signature_final/Dataset/dataset4/forge/06105016.png  \n",
            "  inflating: dataset_signature_final/Dataset/dataset4/forge/06105071.png  \n",
            "  inflating: dataset_signature_final/Dataset/dataset4/real1/00201002.png  \n",
            "  inflating: dataset_signature_final/Dataset/dataset4/real1/00202002.png  \n",
            "  inflating: dataset_signature_final/Dataset/dataset4/real1/00203002.png  \n",
            "  inflating: dataset_signature_final/Dataset/dataset4/real1/00204002.png  \n",
            "  inflating: dataset_signature_final/Dataset/dataset4/real1/00205002.png  \n",
            "  inflating: dataset_signature_final/Dataset/dataset4/real1/00801008.png  \n",
            "  inflating: dataset_signature_final/Dataset/dataset4/real1/00802008.png  \n",
            "  inflating: dataset_signature_final/Dataset/dataset4/real1/00803008.png  \n",
            "  inflating: dataset_signature_final/Dataset/dataset4/real1/00804008.png  \n",
            "  inflating: dataset_signature_final/Dataset/dataset4/real1/00805008.png  \n",
            "  inflating: dataset_signature_final/Dataset/dataset4/real1/01601016.png  \n",
            "  inflating: dataset_signature_final/Dataset/dataset4/real1/01602016.png  \n",
            "  inflating: dataset_signature_final/Dataset/dataset4/real1/01603016.png  \n",
            "  inflating: dataset_signature_final/Dataset/dataset4/real1/01604016.png  \n",
            "  inflating: dataset_signature_final/Dataset/dataset4/real1/01605016.png  \n",
            "  inflating: dataset_signature_final/Dataset/dataset4/real1/02401024.png  \n",
            "  inflating: dataset_signature_final/Dataset/dataset4/real1/02402024.png  \n",
            "  inflating: dataset_signature_final/Dataset/dataset4/real1/02403024.png  \n",
            "  inflating: dataset_signature_final/Dataset/dataset4/real1/02404024.png  \n",
            "  inflating: dataset_signature_final/Dataset/dataset4/real1/02405024.png  \n",
            "  inflating: dataset_signature_final/Dataset/dataset4/real1/03301033.png  \n",
            "  inflating: dataset_signature_final/Dataset/dataset4/real1/03302033.png  \n",
            "  inflating: dataset_signature_final/Dataset/dataset4/real1/03303033.png  \n",
            "  inflating: dataset_signature_final/Dataset/dataset4/real1/03304033.png  \n",
            "  inflating: dataset_signature_final/Dataset/dataset4/real1/03305033.png  \n",
            "  inflating: dataset_signature_final/Dataset/dataset4/real1/03501035.png  \n",
            "  inflating: dataset_signature_final/Dataset/dataset4/real1/03502035.png  \n",
            "  inflating: dataset_signature_final/Dataset/dataset4/real1/03503035.png  \n",
            "  inflating: dataset_signature_final/Dataset/dataset4/real1/03504035.png  \n",
            "  inflating: dataset_signature_final/Dataset/dataset4/real1/03505035.png  \n",
            "  inflating: dataset_signature_final/Dataset/dataset4/real1/04401044.png  \n",
            "  inflating: dataset_signature_final/Dataset/dataset4/real1/04402044.png  \n",
            "  inflating: dataset_signature_final/Dataset/dataset4/real1/04403044.png  \n",
            "  inflating: dataset_signature_final/Dataset/dataset4/real1/04404044.png  \n",
            "  inflating: dataset_signature_final/Dataset/dataset4/real1/04405044.png  \n",
            "  inflating: dataset_signature_final/Dataset/dataset4/real1/04601046.png  \n",
            "  inflating: dataset_signature_final/Dataset/dataset4/real1/04602046.png  \n",
            "  inflating: dataset_signature_final/Dataset/dataset4/real1/04603046.png  \n",
            "  inflating: dataset_signature_final/Dataset/dataset4/real1/04604046.png  \n",
            "  inflating: dataset_signature_final/Dataset/dataset4/real1/04605046.png  \n",
            "  inflating: dataset_signature_final/Dataset/dataset4/real1/06301063.png  \n",
            "  inflating: dataset_signature_final/Dataset/dataset4/real1/06302063.png  \n",
            "  inflating: dataset_signature_final/Dataset/dataset4/real1/06303063.png  \n",
            "  inflating: dataset_signature_final/Dataset/dataset4/real1/06304063.png  \n",
            "  inflating: dataset_signature_final/Dataset/dataset4/real1/06305063.png  \n",
            "  inflating: dataset_signature_final/Dataset/dataset4/real1/07001070.png  \n",
            "  inflating: dataset_signature_final/Dataset/dataset4/real1/07002070.png  \n",
            "  inflating: dataset_signature_final/Dataset/dataset4/real1/07003070.png  \n",
            "  inflating: dataset_signature_final/Dataset/dataset4/real1/07004070.png  \n",
            "  inflating: dataset_signature_final/Dataset/dataset4/real1/07005070.png  \n",
            "  inflating: dataset_signature_final/Dataset/dataset4/real1/07101071.png  \n",
            "  inflating: dataset_signature_final/Dataset/dataset4/real1/07102071.png  \n",
            "  inflating: dataset_signature_final/Dataset/dataset4/real1/07103071.png  \n",
            "  inflating: dataset_signature_final/Dataset/dataset4/real1/07104071.png  \n",
            "  inflating: dataset_signature_final/Dataset/dataset4/real1/07105071.png  \n",
            "  inflating: dataset_signature_final/Dataset/dataset4/real1/07701077.png  \n",
            "  inflating: dataset_signature_final/Dataset/dataset4/real1/07702077.png  \n",
            "  inflating: dataset_signature_final/Dataset/dataset4/real1/07703077.png  \n",
            "  inflating: dataset_signature_final/Dataset/dataset4/real1/07704077.png  \n",
            "  inflating: dataset_signature_final/Dataset/dataset4/real1/07705077.png  \n",
            "  inflating: dataset_signature_final/Dataset/dataset4/real1/08401084.png  \n",
            "  inflating: dataset_signature_final/Dataset/dataset4/real1/08402084.png  \n",
            "  inflating: dataset_signature_final/Dataset/dataset4/real1/08403084.png  \n",
            "  inflating: dataset_signature_final/Dataset/dataset4/real1/08404084.png  \n",
            "  inflating: dataset_signature_final/Dataset/dataset4/real1/08405084.png  \n",
            "  inflating: dataset_signature_final/Dataset/dataset4/real1/08501085.png  \n",
            "  inflating: dataset_signature_final/Dataset/dataset4/real1/08502085.png  \n",
            "  inflating: dataset_signature_final/Dataset/dataset4/real1/08503085.png  \n",
            "  inflating: dataset_signature_final/Dataset/dataset4/real1/08504085.png  \n",
            "  inflating: dataset_signature_final/Dataset/dataset4/real1/08505085.png  \n",
            "  inflating: dataset_signature_final/Dataset/dataset4/real1/08601086.png  \n",
            "  inflating: dataset_signature_final/Dataset/dataset4/real1/08602086.png  \n",
            "  inflating: dataset_signature_final/Dataset/dataset4/real1/08603086.png  \n",
            "  inflating: dataset_signature_final/Dataset/dataset4/real1/08604086.png  \n",
            "  inflating: dataset_signature_final/Dataset/dataset4/real1/08605086.png  \n",
            "  inflating: dataset_signature_final/Dataset/dataset4/real1/08901089.png  \n",
            "  inflating: dataset_signature_final/Dataset/dataset4/real1/08902089.png  \n",
            "  inflating: dataset_signature_final/Dataset/dataset4/real1/08903089.png  \n",
            "  inflating: dataset_signature_final/Dataset/dataset4/real1/08904089.png  \n",
            "  inflating: dataset_signature_final/Dataset/dataset4/real1/08905089.png  \n",
            "  inflating: dataset_signature_final/Dataset/dataset4/real1/09201092.png  \n",
            "  inflating: dataset_signature_final/Dataset/dataset4/real1/09202092.png  \n",
            "  inflating: dataset_signature_final/Dataset/dataset4/real1/09203092.png  \n",
            "  inflating: dataset_signature_final/Dataset/dataset4/real1/09204092.png  \n",
            "  inflating: dataset_signature_final/Dataset/dataset4/real1/09205092.png  \n",
            "  inflating: dataset_signature_final/Dataset/dataset4/real1/09301093.png  \n",
            "  inflating: dataset_signature_final/Dataset/dataset4/real1/09302093.png  \n",
            "  inflating: dataset_signature_final/Dataset/dataset4/real1/09303093.png  \n",
            "  inflating: dataset_signature_final/Dataset/dataset4/real1/09304093.png  \n",
            "  inflating: dataset_signature_final/Dataset/dataset4/real1/09305093.png  \n",
            "  inflating: sample_Signature/sample_Signature/README.txt.txt  \n",
            "  inflating: sample_Signature/sample_Signature/forged/NFI-00101014.png  \n",
            "  inflating: sample_Signature/sample_Signature/forged/NFI-00101019.png  \n",
            "  inflating: sample_Signature/sample_Signature/forged/NFI-00101025.PNG  \n",
            "  inflating: sample_Signature/sample_Signature/forged/NFI-00101026.PNG  \n",
            "  inflating: sample_Signature/sample_Signature/forged/NFI-00101027.PNG  \n",
            "  inflating: sample_Signature/sample_Signature/forged/NFI-00101028.PNG  \n",
            "  inflating: sample_Signature/sample_Signature/forged/NFI-00101029.PNG  \n",
            "  inflating: sample_Signature/sample_Signature/forged/NFI-00101030.PNG  \n",
            "  inflating: sample_Signature/sample_Signature/forged/NFI-00102014.png  \n",
            "  inflating: sample_Signature/sample_Signature/forged/NFI-00102019.png  \n",
            "  inflating: sample_Signature/sample_Signature/forged/NFI-00102025.PNG  \n",
            "  inflating: sample_Signature/sample_Signature/forged/NFI-00102026.PNG  \n",
            "  inflating: sample_Signature/sample_Signature/forged/NFI-00102027.PNG  \n",
            "  inflating: sample_Signature/sample_Signature/forged/NFI-00102028.PNG  \n",
            "  inflating: sample_Signature/sample_Signature/forged/NFI-00102029.PNG  \n",
            "  inflating: sample_Signature/sample_Signature/forged/NFI-00102030.PNG  \n",
            "  inflating: sample_Signature/sample_Signature/forged/NFI-00103014.png  \n",
            "  inflating: sample_Signature/sample_Signature/forged/NFI-00103019.png  \n",
            "  inflating: sample_Signature/sample_Signature/forged/NFI-00103025.PNG  \n",
            "  inflating: sample_Signature/sample_Signature/forged/NFI-00103026.PNG  \n",
            "  inflating: sample_Signature/sample_Signature/forged/NFI-00103027.PNG  \n",
            "  inflating: sample_Signature/sample_Signature/forged/NFI-00103028.PNG  \n",
            "  inflating: sample_Signature/sample_Signature/forged/NFI-00103029.PNG  \n",
            "  inflating: sample_Signature/sample_Signature/forged/NFI-00103030.PNG  \n",
            "  inflating: sample_Signature/sample_Signature/forged/NFI-00104014.png  \n",
            "  inflating: sample_Signature/sample_Signature/forged/NFI-00104019.png  \n",
            "  inflating: sample_Signature/sample_Signature/forged/NFI-00104025.PNG  \n",
            "  inflating: sample_Signature/sample_Signature/forged/NFI-00104026.PNG  \n",
            "  inflating: sample_Signature/sample_Signature/forged/NFI-00104027.PNG  \n",
            "  inflating: sample_Signature/sample_Signature/forged/NFI-00104028.PNG  \n",
            "  inflating: sample_Signature/sample_Signature/forged/NFI-00104029.PNG  \n",
            "  inflating: sample_Signature/sample_Signature/forged/NFI-00104030.PNG  \n",
            "  inflating: sample_Signature/sample_Signature/forged/NFI-00105014.png  \n",
            "  inflating: sample_Signature/sample_Signature/forged/NFI-00105019.png  \n",
            "  inflating: sample_Signature/sample_Signature/forged/NFI-00105025.PNG  \n",
            "  inflating: sample_Signature/sample_Signature/forged/NFI-00105026.PNG  \n",
            "  inflating: sample_Signature/sample_Signature/forged/NFI-00105027.PNG  \n",
            "  inflating: sample_Signature/sample_Signature/forged/NFI-00105028.PNG  \n",
            "  inflating: sample_Signature/sample_Signature/forged/NFI-00105029.PNG  \n",
            "  inflating: sample_Signature/sample_Signature/forged/NFI-00105030.PNG  \n",
            "  inflating: sample_Signature/sample_Signature/forged/NFI-00301001.png  \n",
            "  inflating: sample_Signature/sample_Signature/forged/NFI-00301002.png  \n",
            "  inflating: sample_Signature/sample_Signature/forged/NFI-00301005.png  \n",
            "  inflating: sample_Signature/sample_Signature/forged/NFI-00301009.png  \n",
            "  inflating: sample_Signature/sample_Signature/forged/NFI-00301018.png  \n",
            "  inflating: sample_Signature/sample_Signature/forged/NFI-00302001.png  \n",
            "  inflating: sample_Signature/sample_Signature/forged/NFI-00302002.png  \n",
            "  inflating: sample_Signature/sample_Signature/forged/NFI-00302005.png  \n",
            "  inflating: sample_Signature/sample_Signature/forged/NFI-00302009.png  \n",
            "  inflating: sample_Signature/sample_Signature/forged/NFI-00302018.png  \n",
            "  inflating: sample_Signature/sample_Signature/forged/NFI-00303001.png  \n",
            "  inflating: sample_Signature/sample_Signature/forged/NFI-00303002.png  \n",
            "  inflating: sample_Signature/sample_Signature/forged/NFI-00303005.png  \n",
            "  inflating: sample_Signature/sample_Signature/forged/NFI-00303009.png  \n",
            "  inflating: sample_Signature/sample_Signature/forged/NFI-00303018.png  \n",
            "  inflating: sample_Signature/sample_Signature/forged/NFI-00304001.png  \n",
            "  inflating: sample_Signature/sample_Signature/forged/NFI-00304002.png  \n",
            "  inflating: sample_Signature/sample_Signature/forged/NFI-00304005.png  \n",
            "  inflating: sample_Signature/sample_Signature/forged/NFI-00304009.png  \n",
            "  inflating: sample_Signature/sample_Signature/forged/NFI-00304018.png  \n",
            "  inflating: sample_Signature/sample_Signature/forged/NFI-00305001.png  \n",
            "  inflating: sample_Signature/sample_Signature/forged/NFI-00305002.png  \n",
            "  inflating: sample_Signature/sample_Signature/forged/NFI-00305005.png  \n",
            "  inflating: sample_Signature/sample_Signature/forged/NFI-00305009.png  \n",
            "  inflating: sample_Signature/sample_Signature/forged/NFI-00305018.png  \n",
            "  inflating: sample_Signature/sample_Signature/forged/NFI-00401003.png  \n",
            "  inflating: sample_Signature/sample_Signature/forged/NFI-00401007.png  \n",
            "  inflating: sample_Signature/sample_Signature/forged/NFI-00401013.png  \n",
            "  inflating: sample_Signature/sample_Signature/forged/NFI-00401024.png  \n",
            "  inflating: sample_Signature/sample_Signature/forged/NFI-00402003.png  \n",
            "  inflating: sample_Signature/sample_Signature/forged/NFI-00402007.png  \n",
            "  inflating: sample_Signature/sample_Signature/forged/NFI-00402013.png  \n",
            "  inflating: sample_Signature/sample_Signature/forged/NFI-00402024.png  \n",
            "  inflating: sample_Signature/sample_Signature/forged/NFI-00403003.png  \n",
            "  inflating: sample_Signature/sample_Signature/forged/NFI-00403007.png  \n",
            "  inflating: sample_Signature/sample_Signature/forged/NFI-00403013.png  \n",
            "  inflating: sample_Signature/sample_Signature/forged/NFI-00403024.png  \n",
            "  inflating: sample_Signature/sample_Signature/forged/NFI-00404003.png  \n",
            "  inflating: sample_Signature/sample_Signature/forged/NFI-00404007.png  \n",
            "  inflating: sample_Signature/sample_Signature/forged/NFI-00404013.png  \n",
            "  inflating: sample_Signature/sample_Signature/forged/NFI-00404024.png  \n",
            "  inflating: sample_Signature/sample_Signature/forged/NFI-00405003.png  \n",
            "  inflating: sample_Signature/sample_Signature/forged/NFI-00405007.png  \n",
            "  inflating: sample_Signature/sample_Signature/forged/NFI-00405013.png  \n",
            "  inflating: sample_Signature/sample_Signature/forged/NFI-00405024.png  \n",
            "  inflating: sample_Signature/sample_Signature/forged/NFI-00501015.png  \n",
            "  inflating: sample_Signature/sample_Signature/forged/NFI-00501022.png  \n",
            "  inflating: sample_Signature/sample_Signature/forged/NFI-00502015.png  \n",
            "  inflating: sample_Signature/sample_Signature/forged/NFI-00502022.png  \n",
            "  inflating: sample_Signature/sample_Signature/forged/NFI-00503015.png  \n",
            "  inflating: sample_Signature/sample_Signature/forged/NFI-00503022.png  \n",
            "  inflating: sample_Signature/sample_Signature/forged/NFI-00504015.png  \n",
            "  inflating: sample_Signature/sample_Signature/forged/NFI-00504022.png  \n",
            "  inflating: sample_Signature/sample_Signature/forged/NFI-00505015.png  \n",
            "  inflating: sample_Signature/sample_Signature/forged/NFI-00505022.png  \n",
            "  inflating: sample_Signature/sample_Signature/forged/NFI-00701011.png  \n",
            "  inflating: sample_Signature/sample_Signature/forged/NFI-00701023.png  \n",
            "  inflating: sample_Signature/sample_Signature/forged/NFI-00702011.png  \n",
            "  inflating: sample_Signature/sample_Signature/forged/NFI-00702023.png  \n",
            "  inflating: sample_Signature/sample_Signature/forged/NFI-00703011.png  \n",
            "  inflating: sample_Signature/sample_Signature/forged/NFI-00703023.png  \n",
            "  inflating: sample_Signature/sample_Signature/forged/NFI-00704011.png  \n",
            "  inflating: sample_Signature/sample_Signature/forged/NFI-00704023.png  \n",
            "  inflating: sample_Signature/sample_Signature/forged/NFI-00705011.png  \n",
            "  inflating: sample_Signature/sample_Signature/forged/NFI-00705023.png  \n",
            "  inflating: sample_Signature/sample_Signature/forged/NFI-01101012.png  \n",
            "  inflating: sample_Signature/sample_Signature/forged/NFI-01101016.png  \n",
            "  inflating: sample_Signature/sample_Signature/forged/NFI-01102012.png  \n",
            "  inflating: sample_Signature/sample_Signature/forged/NFI-01102016.png  \n",
            "  inflating: sample_Signature/sample_Signature/forged/NFI-01103012.png  \n",
            "  inflating: sample_Signature/sample_Signature/forged/NFI-01103016.png  \n",
            "  inflating: sample_Signature/sample_Signature/forged/NFI-01104012.png  \n",
            "  inflating: sample_Signature/sample_Signature/forged/NFI-01104016.png  \n",
            "  inflating: sample_Signature/sample_Signature/forged/NFI-01105012.png  \n",
            "  inflating: sample_Signature/sample_Signature/forged/NFI-01105016.png  \n",
            "  inflating: sample_Signature/sample_Signature/forged/NFI-01201021.png  \n",
            "  inflating: sample_Signature/sample_Signature/forged/NFI-01202021.png  \n",
            "  inflating: sample_Signature/sample_Signature/forged/NFI-01203021.png  \n",
            "  inflating: sample_Signature/sample_Signature/forged/NFI-01204021.png  \n",
            "  inflating: sample_Signature/sample_Signature/forged/NFI-01205021.png  \n",
            "  inflating: sample_Signature/sample_Signature/forged/NFI-01301017.png  \n",
            "  inflating: sample_Signature/sample_Signature/forged/NFI-01302017.png  \n",
            "  inflating: sample_Signature/sample_Signature/forged/NFI-01303017.png  \n",
            "  inflating: sample_Signature/sample_Signature/forged/NFI-01304017.png  \n",
            "  inflating: sample_Signature/sample_Signature/forged/NFI-01305017.png  \n",
            "  inflating: sample_Signature/sample_Signature/forged/NFI-01701020.png  \n",
            "  inflating: sample_Signature/sample_Signature/forged/NFI-01702020.png  \n",
            "  inflating: sample_Signature/sample_Signature/forged/NFI-01703020.png  \n",
            "  inflating: sample_Signature/sample_Signature/forged/NFI-01704020.png  \n",
            "  inflating: sample_Signature/sample_Signature/forged/NFI-01705020.png  \n",
            "  inflating: sample_Signature/sample_Signature/forged/NFI-02301008.png  \n",
            "  inflating: sample_Signature/sample_Signature/forged/NFI-02303008.png  \n",
            "  inflating: sample_Signature/sample_Signature/forged/NFI-02304008.png  \n",
            "  inflating: sample_Signature/sample_Signature/forged/NFI-02305008.png  \n",
            "  inflating: sample_Signature/sample_Signature/forged/NFI-02306008.png  \n",
            "  inflating: sample_Signature/sample_Signature/forged/NFI-02501010.png  \n",
            "  inflating: sample_Signature/sample_Signature/forged/NFI-02502010.png  \n",
            "  inflating: sample_Signature/sample_Signature/forged/NFI-02503010.png  \n",
            "  inflating: sample_Signature/sample_Signature/forged/NFI-02504010.png  \n",
            "  inflating: sample_Signature/sample_Signature/forged/NFI-02505009.png  \n",
            "  inflating: sample_Signature/sample_Signature/forged/NFI-03301006.png  \n",
            "  inflating: sample_Signature/sample_Signature/forged/NFI-03302006.png  \n",
            "  inflating: sample_Signature/sample_Signature/forged/NFI-03303006.png  \n",
            "  inflating: sample_Signature/sample_Signature/forged/NFI-03304006.png  \n",
            "  inflating: sample_Signature/sample_Signature/forged/NFI-03305006.png  \n",
            "  inflating: sample_Signature/sample_Signature/forged/NFI-08801004.png  \n",
            "  inflating: sample_Signature/sample_Signature/forged/NFI-08802004.png  \n",
            "  inflating: sample_Signature/sample_Signature/forged/NFI-08803004.png  \n",
            "  inflating: sample_Signature/sample_Signature/forged/NFI-08804004.png  \n",
            "  inflating: sample_Signature/sample_Signature/forged/NFI-08805004.png  \n",
            "  inflating: sample_Signature/sample_Signature/genuine/NFI-00101001.png  \n",
            "  inflating: sample_Signature/sample_Signature/genuine/NFI-00102001.png  \n",
            "  inflating: sample_Signature/sample_Signature/genuine/NFI-00103001.png  \n",
            "  inflating: sample_Signature/sample_Signature/genuine/NFI-00104001.png  \n",
            "  inflating: sample_Signature/sample_Signature/genuine/NFI-00105001.png  \n",
            "  inflating: sample_Signature/sample_Signature/genuine/NFI-00201002.png  \n",
            "  inflating: sample_Signature/sample_Signature/genuine/NFI-00202002.png  \n",
            "  inflating: sample_Signature/sample_Signature/genuine/NFI-00203002.png  \n",
            "  inflating: sample_Signature/sample_Signature/genuine/NFI-00204002.png  \n",
            "  inflating: sample_Signature/sample_Signature/genuine/NFI-00205002.png  \n",
            "  inflating: sample_Signature/sample_Signature/genuine/NFI-00301003.png  \n",
            "  inflating: sample_Signature/sample_Signature/genuine/NFI-00302003.png  \n",
            "  inflating: sample_Signature/sample_Signature/genuine/NFI-00303003.png  \n",
            "  inflating: sample_Signature/sample_Signature/genuine/NFI-00304003.png  \n",
            "  inflating: sample_Signature/sample_Signature/genuine/NFI-00305003.png  \n",
            "  inflating: sample_Signature/sample_Signature/genuine/NFI-00401004.png  \n",
            "  inflating: sample_Signature/sample_Signature/genuine/NFI-00402004.png  \n",
            "  inflating: sample_Signature/sample_Signature/genuine/NFI-00403004.png  \n",
            "  inflating: sample_Signature/sample_Signature/genuine/NFI-00404004.png  \n",
            "  inflating: sample_Signature/sample_Signature/genuine/NFI-00405004.png  \n",
            "  inflating: sample_Signature/sample_Signature/genuine/NFI-00501005.png  \n",
            "  inflating: sample_Signature/sample_Signature/genuine/NFI-00502005.png  \n",
            "  inflating: sample_Signature/sample_Signature/genuine/NFI-00503005.png  \n",
            "  inflating: sample_Signature/sample_Signature/genuine/NFI-00504005.png  \n",
            "  inflating: sample_Signature/sample_Signature/genuine/NFI-00505005.png  \n",
            "  inflating: sample_Signature/sample_Signature/genuine/NFI-00601006.png  \n",
            "  inflating: sample_Signature/sample_Signature/genuine/NFI-00602006.png  \n",
            "  inflating: sample_Signature/sample_Signature/genuine/NFI-00603006.png  \n",
            "  inflating: sample_Signature/sample_Signature/genuine/NFI-00604006.png  \n",
            "  inflating: sample_Signature/sample_Signature/genuine/NFI-00605006.png  \n",
            "  inflating: sample_Signature/sample_Signature/genuine/NFI-00701007.png  \n",
            "  inflating: sample_Signature/sample_Signature/genuine/NFI-00702007.png  \n",
            "  inflating: sample_Signature/sample_Signature/genuine/NFI-00703007.png  \n",
            "  inflating: sample_Signature/sample_Signature/genuine/NFI-00704007.png  \n",
            "  inflating: sample_Signature/sample_Signature/genuine/NFI-00705007.png  \n",
            "  inflating: sample_Signature/sample_Signature/genuine/NFI-00801008.png  \n",
            "  inflating: sample_Signature/sample_Signature/genuine/NFI-00802008.png  \n",
            "  inflating: sample_Signature/sample_Signature/genuine/NFI-00803008.png  \n",
            "  inflating: sample_Signature/sample_Signature/genuine/NFI-00804008.png  \n",
            "  inflating: sample_Signature/sample_Signature/genuine/NFI-00805008.png  \n",
            "  inflating: sample_Signature/sample_Signature/genuine/NFI-00901009.png  \n",
            "  inflating: sample_Signature/sample_Signature/genuine/NFI-00902009.png  \n",
            "  inflating: sample_Signature/sample_Signature/genuine/NFI-00903009.png  \n",
            "  inflating: sample_Signature/sample_Signature/genuine/NFI-00904009.png  \n",
            "  inflating: sample_Signature/sample_Signature/genuine/NFI-00905009.png  \n",
            "  inflating: sample_Signature/sample_Signature/genuine/NFI-01001010.png  \n",
            "  inflating: sample_Signature/sample_Signature/genuine/NFI-01002010.png  \n",
            "  inflating: sample_Signature/sample_Signature/genuine/NFI-01003010.png  \n",
            "  inflating: sample_Signature/sample_Signature/genuine/NFI-01004010.png  \n",
            "  inflating: sample_Signature/sample_Signature/genuine/NFI-01005010.png  \n",
            "  inflating: sample_Signature/sample_Signature/genuine/NFI-01101011.png  \n",
            "  inflating: sample_Signature/sample_Signature/genuine/NFI-01102011.png  \n",
            "  inflating: sample_Signature/sample_Signature/genuine/NFI-01103011.png  \n",
            "  inflating: sample_Signature/sample_Signature/genuine/NFI-01104011.png  \n",
            "  inflating: sample_Signature/sample_Signature/genuine/NFI-01105011.png  \n",
            "  inflating: sample_Signature/sample_Signature/genuine/NFI-01201012.png  \n",
            "  inflating: sample_Signature/sample_Signature/genuine/NFI-01202012.png  \n",
            "  inflating: sample_Signature/sample_Signature/genuine/NFI-01203012.png  \n",
            "  inflating: sample_Signature/sample_Signature/genuine/NFI-01204012.png  \n",
            "  inflating: sample_Signature/sample_Signature/genuine/NFI-01205012.png  \n",
            "  inflating: sample_Signature/sample_Signature/genuine/NFI-01301013.png  \n",
            "  inflating: sample_Signature/sample_Signature/genuine/NFI-01302013.png  \n",
            "  inflating: sample_Signature/sample_Signature/genuine/NFI-01303013.png  \n",
            "  inflating: sample_Signature/sample_Signature/genuine/NFI-01304013.png  \n",
            "  inflating: sample_Signature/sample_Signature/genuine/NFI-01305013.png  \n",
            "  inflating: sample_Signature/sample_Signature/genuine/NFI-01401014.png  \n",
            "  inflating: sample_Signature/sample_Signature/genuine/NFI-01402014.png  \n",
            "  inflating: sample_Signature/sample_Signature/genuine/NFI-01403014.png  \n",
            "  inflating: sample_Signature/sample_Signature/genuine/NFI-01404014.png  \n",
            "  inflating: sample_Signature/sample_Signature/genuine/NFI-01405014.png  \n",
            "  inflating: sample_Signature/sample_Signature/genuine/NFI-01501015.png  \n",
            "  inflating: sample_Signature/sample_Signature/genuine/NFI-01502015.png  \n",
            "  inflating: sample_Signature/sample_Signature/genuine/NFI-01503015.png  \n",
            "  inflating: sample_Signature/sample_Signature/genuine/NFI-01504015.png  \n",
            "  inflating: sample_Signature/sample_Signature/genuine/NFI-01505015.png  \n",
            "  inflating: sample_Signature/sample_Signature/genuine/NFI-01601016.png  \n",
            "  inflating: sample_Signature/sample_Signature/genuine/NFI-01602016.png  \n",
            "  inflating: sample_Signature/sample_Signature/genuine/NFI-01603016.png  \n",
            "  inflating: sample_Signature/sample_Signature/genuine/NFI-01604016.png  \n",
            "  inflating: sample_Signature/sample_Signature/genuine/NFI-01605016.png  \n",
            "  inflating: sample_Signature/sample_Signature/genuine/NFI-01701017.png  \n",
            "  inflating: sample_Signature/sample_Signature/genuine/NFI-01702017.png  \n",
            "  inflating: sample_Signature/sample_Signature/genuine/NFI-01703017.png  \n",
            "  inflating: sample_Signature/sample_Signature/genuine/NFI-01704017.png  \n",
            "  inflating: sample_Signature/sample_Signature/genuine/NFI-01705017.png  \n",
            "  inflating: sample_Signature/sample_Signature/genuine/NFI-01801018.png  \n",
            "  inflating: sample_Signature/sample_Signature/genuine/NFI-01802018.png  \n",
            "  inflating: sample_Signature/sample_Signature/genuine/NFI-01803018.png  \n",
            "  inflating: sample_Signature/sample_Signature/genuine/NFI-01804018.png  \n",
            "  inflating: sample_Signature/sample_Signature/genuine/NFI-01805018.png  \n",
            "  inflating: sample_Signature/sample_Signature/genuine/NFI-01901019.png  \n",
            "  inflating: sample_Signature/sample_Signature/genuine/NFI-01902019.png  \n",
            "  inflating: sample_Signature/sample_Signature/genuine/NFI-01903019.png  \n",
            "  inflating: sample_Signature/sample_Signature/genuine/NFI-01904019.png  \n",
            "  inflating: sample_Signature/sample_Signature/genuine/NFI-01905019.png  \n",
            "  inflating: sample_Signature/sample_Signature/genuine/NFI-02001020.png  \n",
            "  inflating: sample_Signature/sample_Signature/genuine/NFI-02002020.png  \n",
            "  inflating: sample_Signature/sample_Signature/genuine/NFI-02003020.png  \n",
            "  inflating: sample_Signature/sample_Signature/genuine/NFI-02004020.png  \n",
            "  inflating: sample_Signature/sample_Signature/genuine/NFI-02005020.png  \n",
            "  inflating: sample_Signature/sample_Signature/genuine/NFI-02101021.png  \n",
            "  inflating: sample_Signature/sample_Signature/genuine/NFI-02102021.png  \n",
            "  inflating: sample_Signature/sample_Signature/genuine/NFI-02103021.png  \n",
            "  inflating: sample_Signature/sample_Signature/genuine/NFI-02104021.png  \n",
            "  inflating: sample_Signature/sample_Signature/genuine/NFI-02105021.png  \n",
            "  inflating: sample_Signature/sample_Signature/genuine/NFI-02201022.png  \n",
            "  inflating: sample_Signature/sample_Signature/genuine/NFI-02202022.png  \n",
            "  inflating: sample_Signature/sample_Signature/genuine/NFI-02203022.png  \n",
            "  inflating: sample_Signature/sample_Signature/genuine/NFI-02204022.png  \n",
            "  inflating: sample_Signature/sample_Signature/genuine/NFI-02205022.png  \n",
            "  inflating: sample_Signature/sample_Signature/genuine/NFI-02301023.png  \n",
            "  inflating: sample_Signature/sample_Signature/genuine/NFI-02302023.png  \n",
            "  inflating: sample_Signature/sample_Signature/genuine/NFI-02303023.png  \n",
            "  inflating: sample_Signature/sample_Signature/genuine/NFI-02304023.png  \n",
            "  inflating: sample_Signature/sample_Signature/genuine/NFI-02305023.png  \n",
            "  inflating: sample_Signature/sample_Signature/genuine/NFI-02401024.png  \n",
            "  inflating: sample_Signature/sample_Signature/genuine/NFI-02402024.png  \n",
            "  inflating: sample_Signature/sample_Signature/genuine/NFI-02403024.png  \n",
            "  inflating: sample_Signature/sample_Signature/genuine/NFI-02404024.png  \n",
            "  inflating: sample_Signature/sample_Signature/genuine/NFI-02405024.png  \n",
            "  inflating: sample_Signature/sample_Signature/genuine/NFI-02501025.PNG  \n",
            "  inflating: sample_Signature/sample_Signature/genuine/NFI-02502025.PNG  \n",
            "  inflating: sample_Signature/sample_Signature/genuine/NFI-02503025.PNG  \n",
            "  inflating: sample_Signature/sample_Signature/genuine/NFI-02504025.PNG  \n",
            "  inflating: sample_Signature/sample_Signature/genuine/NFI-02505025.PNG  \n",
            "  inflating: sample_Signature/sample_Signature/genuine/NFI-02601026.PNG  \n",
            "  inflating: sample_Signature/sample_Signature/genuine/NFI-02602026.PNG  \n",
            "  inflating: sample_Signature/sample_Signature/genuine/NFI-02603026.PNG  \n",
            "  inflating: sample_Signature/sample_Signature/genuine/NFI-02604026.PNG  \n",
            "  inflating: sample_Signature/sample_Signature/genuine/NFI-02605026.PNG  \n",
            "  inflating: sample_Signature/sample_Signature/genuine/NFI-02701027.PNG  \n",
            "  inflating: sample_Signature/sample_Signature/genuine/NFI-02702027.PNG  \n",
            "  inflating: sample_Signature/sample_Signature/genuine/NFI-02703027.PNG  \n",
            "  inflating: sample_Signature/sample_Signature/genuine/NFI-02704027.PNG  \n",
            "  inflating: sample_Signature/sample_Signature/genuine/NFI-02705027.PNG  \n",
            "  inflating: sample_Signature/sample_Signature/genuine/NFI-02801028.PNG  \n",
            "  inflating: sample_Signature/sample_Signature/genuine/NFI-02802028.PNG  \n",
            "  inflating: sample_Signature/sample_Signature/genuine/NFI-02803028.PNG  \n",
            "  inflating: sample_Signature/sample_Signature/genuine/NFI-02804028.PNG  \n",
            "  inflating: sample_Signature/sample_Signature/genuine/NFI-02805028.PNG  \n",
            "  inflating: sample_Signature/sample_Signature/genuine/NFI-02901029.PNG  \n",
            "  inflating: sample_Signature/sample_Signature/genuine/NFI-02902029.PNG  \n",
            "  inflating: sample_Signature/sample_Signature/genuine/NFI-02903029.PNG  \n",
            "  inflating: sample_Signature/sample_Signature/genuine/NFI-02904029.PNG  \n",
            "  inflating: sample_Signature/sample_Signature/genuine/NFI-02905029.PNG  \n",
            "  inflating: sample_Signature/sample_Signature/genuine/NFI-03001030.PNG  \n",
            "  inflating: sample_Signature/sample_Signature/genuine/NFI-03002030.PNG  \n",
            "  inflating: sample_Signature/sample_Signature/genuine/NFI-03003030.PNG  \n",
            "  inflating: sample_Signature/sample_Signature/genuine/NFI-03004030.PNG  \n",
            "  inflating: sample_Signature/sample_Signature/genuine/NFI-03005030.PNG  \n",
            "  inflating: sample_signature/sample_Signature/README.txt.txt  \n",
            "  inflating: sample_signature/sample_Signature/forged/NFI-00101014.png  \n",
            "  inflating: sample_signature/sample_Signature/forged/NFI-00101019.png  \n",
            "  inflating: sample_signature/sample_Signature/forged/NFI-00101025.PNG  \n",
            "  inflating: sample_signature/sample_Signature/forged/NFI-00101026.PNG  \n",
            "  inflating: sample_signature/sample_Signature/forged/NFI-00101027.PNG  \n",
            "  inflating: sample_signature/sample_Signature/forged/NFI-00101028.PNG  \n",
            "  inflating: sample_signature/sample_Signature/forged/NFI-00101029.PNG  \n",
            "  inflating: sample_signature/sample_Signature/forged/NFI-00101030.PNG  \n",
            "  inflating: sample_signature/sample_Signature/forged/NFI-00102014.png  \n",
            "  inflating: sample_signature/sample_Signature/forged/NFI-00102019.png  \n",
            "  inflating: sample_signature/sample_Signature/forged/NFI-00102025.PNG  \n",
            "  inflating: sample_signature/sample_Signature/forged/NFI-00102026.PNG  \n",
            "  inflating: sample_signature/sample_Signature/forged/NFI-00102027.PNG  \n",
            "  inflating: sample_signature/sample_Signature/forged/NFI-00102028.PNG  \n",
            "  inflating: sample_signature/sample_Signature/forged/NFI-00102029.PNG  \n",
            "  inflating: sample_signature/sample_Signature/forged/NFI-00102030.PNG  \n",
            "  inflating: sample_signature/sample_Signature/forged/NFI-00103014.png  \n",
            "  inflating: sample_signature/sample_Signature/forged/NFI-00103019.png  \n",
            "  inflating: sample_signature/sample_Signature/forged/NFI-00103025.PNG  \n",
            "  inflating: sample_signature/sample_Signature/forged/NFI-00103026.PNG  \n",
            "  inflating: sample_signature/sample_Signature/forged/NFI-00103027.PNG  \n",
            "  inflating: sample_signature/sample_Signature/forged/NFI-00103028.PNG  \n",
            "  inflating: sample_signature/sample_Signature/forged/NFI-00103029.PNG  \n",
            "  inflating: sample_signature/sample_Signature/forged/NFI-00103030.PNG  \n",
            "  inflating: sample_signature/sample_Signature/forged/NFI-00104014.png  \n",
            "  inflating: sample_signature/sample_Signature/forged/NFI-00104019.png  \n",
            "  inflating: sample_signature/sample_Signature/forged/NFI-00104025.PNG  \n",
            "  inflating: sample_signature/sample_Signature/forged/NFI-00104026.PNG  \n",
            "  inflating: sample_signature/sample_Signature/forged/NFI-00104027.PNG  \n",
            "  inflating: sample_signature/sample_Signature/forged/NFI-00104028.PNG  \n",
            "  inflating: sample_signature/sample_Signature/forged/NFI-00104029.PNG  \n",
            "  inflating: sample_signature/sample_Signature/forged/NFI-00104030.PNG  \n",
            "  inflating: sample_signature/sample_Signature/forged/NFI-00105014.png  \n",
            "  inflating: sample_signature/sample_Signature/forged/NFI-00105019.png  \n",
            "  inflating: sample_signature/sample_Signature/forged/NFI-00105025.PNG  \n",
            "  inflating: sample_signature/sample_Signature/forged/NFI-00105026.PNG  \n",
            "  inflating: sample_signature/sample_Signature/forged/NFI-00105027.PNG  \n",
            "  inflating: sample_signature/sample_Signature/forged/NFI-00105028.PNG  \n",
            "  inflating: sample_signature/sample_Signature/forged/NFI-00105029.PNG  \n",
            "  inflating: sample_signature/sample_Signature/forged/NFI-00105030.PNG  \n",
            "  inflating: sample_signature/sample_Signature/forged/NFI-00301001.png  \n",
            "  inflating: sample_signature/sample_Signature/forged/NFI-00301002.png  \n",
            "  inflating: sample_signature/sample_Signature/forged/NFI-00301005.png  \n",
            "  inflating: sample_signature/sample_Signature/forged/NFI-00301009.png  \n",
            "  inflating: sample_signature/sample_Signature/forged/NFI-00301018.png  \n",
            "  inflating: sample_signature/sample_Signature/forged/NFI-00302001.png  \n",
            "  inflating: sample_signature/sample_Signature/forged/NFI-00302002.png  \n",
            "  inflating: sample_signature/sample_Signature/forged/NFI-00302005.png  \n",
            "  inflating: sample_signature/sample_Signature/forged/NFI-00302009.png  \n",
            "  inflating: sample_signature/sample_Signature/forged/NFI-00302018.png  \n",
            "  inflating: sample_signature/sample_Signature/forged/NFI-00303001.png  \n",
            "  inflating: sample_signature/sample_Signature/forged/NFI-00303002.png  \n",
            "  inflating: sample_signature/sample_Signature/forged/NFI-00303005.png  \n",
            "  inflating: sample_signature/sample_Signature/forged/NFI-00303009.png  \n",
            "  inflating: sample_signature/sample_Signature/forged/NFI-00303018.png  \n",
            "  inflating: sample_signature/sample_Signature/forged/NFI-00304001.png  \n",
            "  inflating: sample_signature/sample_Signature/forged/NFI-00304002.png  \n",
            "  inflating: sample_signature/sample_Signature/forged/NFI-00304005.png  \n",
            "  inflating: sample_signature/sample_Signature/forged/NFI-00304009.png  \n",
            "  inflating: sample_signature/sample_Signature/forged/NFI-00304018.png  \n",
            "  inflating: sample_signature/sample_Signature/forged/NFI-00305001.png  \n",
            "  inflating: sample_signature/sample_Signature/forged/NFI-00305002.png  \n",
            "  inflating: sample_signature/sample_Signature/forged/NFI-00305005.png  \n",
            "  inflating: sample_signature/sample_Signature/forged/NFI-00305009.png  \n",
            "  inflating: sample_signature/sample_Signature/forged/NFI-00305018.png  \n",
            "  inflating: sample_signature/sample_Signature/forged/NFI-00401003.png  \n",
            "  inflating: sample_signature/sample_Signature/forged/NFI-00401007.png  \n",
            "  inflating: sample_signature/sample_Signature/forged/NFI-00401013.png  \n",
            "  inflating: sample_signature/sample_Signature/forged/NFI-00401024.png  \n",
            "  inflating: sample_signature/sample_Signature/forged/NFI-00402003.png  \n",
            "  inflating: sample_signature/sample_Signature/forged/NFI-00402007.png  \n",
            "  inflating: sample_signature/sample_Signature/forged/NFI-00402013.png  \n",
            "  inflating: sample_signature/sample_Signature/forged/NFI-00402024.png  \n",
            "  inflating: sample_signature/sample_Signature/forged/NFI-00403003.png  \n",
            "  inflating: sample_signature/sample_Signature/forged/NFI-00403007.png  \n",
            "  inflating: sample_signature/sample_Signature/forged/NFI-00403013.png  \n",
            "  inflating: sample_signature/sample_Signature/forged/NFI-00403024.png  \n",
            "  inflating: sample_signature/sample_Signature/forged/NFI-00404003.png  \n",
            "  inflating: sample_signature/sample_Signature/forged/NFI-00404007.png  \n",
            "  inflating: sample_signature/sample_Signature/forged/NFI-00404013.png  \n",
            "  inflating: sample_signature/sample_Signature/forged/NFI-00404024.png  \n",
            "  inflating: sample_signature/sample_Signature/forged/NFI-00405003.png  \n",
            "  inflating: sample_signature/sample_Signature/forged/NFI-00405007.png  \n",
            "  inflating: sample_signature/sample_Signature/forged/NFI-00405013.png  \n",
            "  inflating: sample_signature/sample_Signature/forged/NFI-00405024.png  \n",
            "  inflating: sample_signature/sample_Signature/forged/NFI-00501015.png  \n",
            "  inflating: sample_signature/sample_Signature/forged/NFI-00501022.png  \n",
            "  inflating: sample_signature/sample_Signature/forged/NFI-00502015.png  \n",
            "  inflating: sample_signature/sample_Signature/forged/NFI-00502022.png  \n",
            "  inflating: sample_signature/sample_Signature/forged/NFI-00503015.png  \n",
            "  inflating: sample_signature/sample_Signature/forged/NFI-00503022.png  \n",
            "  inflating: sample_signature/sample_Signature/forged/NFI-00504015.png  \n",
            "  inflating: sample_signature/sample_Signature/forged/NFI-00504022.png  \n",
            "  inflating: sample_signature/sample_Signature/forged/NFI-00505015.png  \n",
            "  inflating: sample_signature/sample_Signature/forged/NFI-00505022.png  \n",
            "  inflating: sample_signature/sample_Signature/forged/NFI-00701011.png  \n",
            "  inflating: sample_signature/sample_Signature/forged/NFI-00701023.png  \n",
            "  inflating: sample_signature/sample_Signature/forged/NFI-00702011.png  \n",
            "  inflating: sample_signature/sample_Signature/forged/NFI-00702023.png  \n",
            "  inflating: sample_signature/sample_Signature/forged/NFI-00703011.png  \n",
            "  inflating: sample_signature/sample_Signature/forged/NFI-00703023.png  \n",
            "  inflating: sample_signature/sample_Signature/forged/NFI-00704011.png  \n",
            "  inflating: sample_signature/sample_Signature/forged/NFI-00704023.png  \n",
            "  inflating: sample_signature/sample_Signature/forged/NFI-00705011.png  \n",
            "  inflating: sample_signature/sample_Signature/forged/NFI-00705023.png  \n",
            "  inflating: sample_signature/sample_Signature/forged/NFI-01101012.png  \n",
            "  inflating: sample_signature/sample_Signature/forged/NFI-01101016.png  \n",
            "  inflating: sample_signature/sample_Signature/forged/NFI-01102012.png  \n",
            "  inflating: sample_signature/sample_Signature/forged/NFI-01102016.png  \n",
            "  inflating: sample_signature/sample_Signature/forged/NFI-01103012.png  \n",
            "  inflating: sample_signature/sample_Signature/forged/NFI-01103016.png  \n",
            "  inflating: sample_signature/sample_Signature/forged/NFI-01104012.png  \n",
            "  inflating: sample_signature/sample_Signature/forged/NFI-01104016.png  \n",
            "  inflating: sample_signature/sample_Signature/forged/NFI-01105012.png  \n",
            "  inflating: sample_signature/sample_Signature/forged/NFI-01105016.png  \n",
            "  inflating: sample_signature/sample_Signature/forged/NFI-01201021.png  \n",
            "  inflating: sample_signature/sample_Signature/forged/NFI-01202021.png  \n",
            "  inflating: sample_signature/sample_Signature/forged/NFI-01203021.png  \n",
            "  inflating: sample_signature/sample_Signature/forged/NFI-01204021.png  \n",
            "  inflating: sample_signature/sample_Signature/forged/NFI-01205021.png  \n",
            "  inflating: sample_signature/sample_Signature/forged/NFI-01301017.png  \n",
            "  inflating: sample_signature/sample_Signature/forged/NFI-01302017.png  \n",
            "  inflating: sample_signature/sample_Signature/forged/NFI-01303017.png  \n",
            "  inflating: sample_signature/sample_Signature/forged/NFI-01304017.png  \n",
            "  inflating: sample_signature/sample_Signature/forged/NFI-01305017.png  \n",
            "  inflating: sample_signature/sample_Signature/forged/NFI-01701020.png  \n",
            "  inflating: sample_signature/sample_Signature/forged/NFI-01702020.png  \n",
            "  inflating: sample_signature/sample_Signature/forged/NFI-01703020.png  \n",
            "  inflating: sample_signature/sample_Signature/forged/NFI-01704020.png  \n",
            "  inflating: sample_signature/sample_Signature/forged/NFI-01705020.png  \n",
            "  inflating: sample_signature/sample_Signature/forged/NFI-02301008.png  \n",
            "  inflating: sample_signature/sample_Signature/forged/NFI-02303008.png  \n",
            "  inflating: sample_signature/sample_Signature/forged/NFI-02304008.png  \n",
            "  inflating: sample_signature/sample_Signature/forged/NFI-02305008.png  \n",
            "  inflating: sample_signature/sample_Signature/forged/NFI-02306008.png  \n",
            "  inflating: sample_signature/sample_Signature/forged/NFI-02501010.png  \n",
            "  inflating: sample_signature/sample_Signature/forged/NFI-02502010.png  \n",
            "  inflating: sample_signature/sample_Signature/forged/NFI-02503010.png  \n",
            "  inflating: sample_signature/sample_Signature/forged/NFI-02504010.png  \n",
            "  inflating: sample_signature/sample_Signature/forged/NFI-02505009.png  \n",
            "  inflating: sample_signature/sample_Signature/forged/NFI-03301006.png  \n",
            "  inflating: sample_signature/sample_Signature/forged/NFI-03302006.png  \n",
            "  inflating: sample_signature/sample_Signature/forged/NFI-03303006.png  \n",
            "  inflating: sample_signature/sample_Signature/forged/NFI-03304006.png  \n",
            "  inflating: sample_signature/sample_Signature/forged/NFI-03305006.png  \n",
            "  inflating: sample_signature/sample_Signature/forged/NFI-08801004.png  \n",
            "  inflating: sample_signature/sample_Signature/forged/NFI-08802004.png  \n",
            "  inflating: sample_signature/sample_Signature/forged/NFI-08803004.png  \n",
            "  inflating: sample_signature/sample_Signature/forged/NFI-08804004.png  \n",
            "  inflating: sample_signature/sample_Signature/forged/NFI-08805004.png  \n",
            "  inflating: sample_signature/sample_Signature/genuine/NFI-00101001.png  \n",
            "  inflating: sample_signature/sample_Signature/genuine/NFI-00102001.png  \n",
            "  inflating: sample_signature/sample_Signature/genuine/NFI-00103001.png  \n",
            "  inflating: sample_signature/sample_Signature/genuine/NFI-00104001.png  \n",
            "  inflating: sample_signature/sample_Signature/genuine/NFI-00105001.png  \n",
            "  inflating: sample_signature/sample_Signature/genuine/NFI-00201002.png  \n",
            "  inflating: sample_signature/sample_Signature/genuine/NFI-00202002.png  \n",
            "  inflating: sample_signature/sample_Signature/genuine/NFI-00203002.png  \n",
            "  inflating: sample_signature/sample_Signature/genuine/NFI-00204002.png  \n",
            "  inflating: sample_signature/sample_Signature/genuine/NFI-00205002.png  \n",
            "  inflating: sample_signature/sample_Signature/genuine/NFI-00301003.png  \n",
            "  inflating: sample_signature/sample_Signature/genuine/NFI-00302003.png  \n",
            "  inflating: sample_signature/sample_Signature/genuine/NFI-00303003.png  \n",
            "  inflating: sample_signature/sample_Signature/genuine/NFI-00304003.png  \n",
            "  inflating: sample_signature/sample_Signature/genuine/NFI-00305003.png  \n",
            "  inflating: sample_signature/sample_Signature/genuine/NFI-00401004.png  \n",
            "  inflating: sample_signature/sample_Signature/genuine/NFI-00402004.png  \n",
            "  inflating: sample_signature/sample_Signature/genuine/NFI-00403004.png  \n",
            "  inflating: sample_signature/sample_Signature/genuine/NFI-00404004.png  \n",
            "  inflating: sample_signature/sample_Signature/genuine/NFI-00405004.png  \n",
            "  inflating: sample_signature/sample_Signature/genuine/NFI-00501005.png  \n",
            "  inflating: sample_signature/sample_Signature/genuine/NFI-00502005.png  \n",
            "  inflating: sample_signature/sample_Signature/genuine/NFI-00503005.png  \n",
            "  inflating: sample_signature/sample_Signature/genuine/NFI-00504005.png  \n",
            "  inflating: sample_signature/sample_Signature/genuine/NFI-00505005.png  \n",
            "  inflating: sample_signature/sample_Signature/genuine/NFI-00601006.png  \n",
            "  inflating: sample_signature/sample_Signature/genuine/NFI-00602006.png  \n",
            "  inflating: sample_signature/sample_Signature/genuine/NFI-00603006.png  \n",
            "  inflating: sample_signature/sample_Signature/genuine/NFI-00604006.png  \n",
            "  inflating: sample_signature/sample_Signature/genuine/NFI-00605006.png  \n",
            "  inflating: sample_signature/sample_Signature/genuine/NFI-00701007.png  \n",
            "  inflating: sample_signature/sample_Signature/genuine/NFI-00702007.png  \n",
            "  inflating: sample_signature/sample_Signature/genuine/NFI-00703007.png  \n",
            "  inflating: sample_signature/sample_Signature/genuine/NFI-00704007.png  \n",
            "  inflating: sample_signature/sample_Signature/genuine/NFI-00705007.png  \n",
            "  inflating: sample_signature/sample_Signature/genuine/NFI-00801008.png  \n",
            "  inflating: sample_signature/sample_Signature/genuine/NFI-00802008.png  \n",
            "  inflating: sample_signature/sample_Signature/genuine/NFI-00803008.png  \n",
            "  inflating: sample_signature/sample_Signature/genuine/NFI-00804008.png  \n",
            "  inflating: sample_signature/sample_Signature/genuine/NFI-00805008.png  \n",
            "  inflating: sample_signature/sample_Signature/genuine/NFI-00901009.png  \n",
            "  inflating: sample_signature/sample_Signature/genuine/NFI-00902009.png  \n",
            "  inflating: sample_signature/sample_Signature/genuine/NFI-00903009.png  \n",
            "  inflating: sample_signature/sample_Signature/genuine/NFI-00904009.png  \n",
            "  inflating: sample_signature/sample_Signature/genuine/NFI-00905009.png  \n",
            "  inflating: sample_signature/sample_Signature/genuine/NFI-01001010.png  \n",
            "  inflating: sample_signature/sample_Signature/genuine/NFI-01002010.png  \n",
            "  inflating: sample_signature/sample_Signature/genuine/NFI-01003010.png  \n",
            "  inflating: sample_signature/sample_Signature/genuine/NFI-01004010.png  \n",
            "  inflating: sample_signature/sample_Signature/genuine/NFI-01005010.png  \n",
            "  inflating: sample_signature/sample_Signature/genuine/NFI-01101011.png  \n",
            "  inflating: sample_signature/sample_Signature/genuine/NFI-01102011.png  \n",
            "  inflating: sample_signature/sample_Signature/genuine/NFI-01103011.png  \n",
            "  inflating: sample_signature/sample_Signature/genuine/NFI-01104011.png  \n",
            "  inflating: sample_signature/sample_Signature/genuine/NFI-01105011.png  \n",
            "  inflating: sample_signature/sample_Signature/genuine/NFI-01201012.png  \n",
            "  inflating: sample_signature/sample_Signature/genuine/NFI-01202012.png  \n",
            "  inflating: sample_signature/sample_Signature/genuine/NFI-01203012.png  \n",
            "  inflating: sample_signature/sample_Signature/genuine/NFI-01204012.png  \n",
            "  inflating: sample_signature/sample_Signature/genuine/NFI-01205012.png  \n",
            "  inflating: sample_signature/sample_Signature/genuine/NFI-01301013.png  \n",
            "  inflating: sample_signature/sample_Signature/genuine/NFI-01302013.png  \n",
            "  inflating: sample_signature/sample_Signature/genuine/NFI-01303013.png  \n",
            "  inflating: sample_signature/sample_Signature/genuine/NFI-01304013.png  \n",
            "  inflating: sample_signature/sample_Signature/genuine/NFI-01305013.png  \n",
            "  inflating: sample_signature/sample_Signature/genuine/NFI-01401014.png  \n",
            "  inflating: sample_signature/sample_Signature/genuine/NFI-01402014.png  \n",
            "  inflating: sample_signature/sample_Signature/genuine/NFI-01403014.png  \n",
            "  inflating: sample_signature/sample_Signature/genuine/NFI-01404014.png  \n",
            "  inflating: sample_signature/sample_Signature/genuine/NFI-01405014.png  \n",
            "  inflating: sample_signature/sample_Signature/genuine/NFI-01501015.png  \n",
            "  inflating: sample_signature/sample_Signature/genuine/NFI-01502015.png  \n",
            "  inflating: sample_signature/sample_Signature/genuine/NFI-01503015.png  \n",
            "  inflating: sample_signature/sample_Signature/genuine/NFI-01504015.png  \n",
            "  inflating: sample_signature/sample_Signature/genuine/NFI-01505015.png  \n",
            "  inflating: sample_signature/sample_Signature/genuine/NFI-01601016.png  \n",
            "  inflating: sample_signature/sample_Signature/genuine/NFI-01602016.png  \n",
            "  inflating: sample_signature/sample_Signature/genuine/NFI-01603016.png  \n",
            "  inflating: sample_signature/sample_Signature/genuine/NFI-01604016.png  \n",
            "  inflating: sample_signature/sample_Signature/genuine/NFI-01605016.png  \n",
            "  inflating: sample_signature/sample_Signature/genuine/NFI-01701017.png  \n",
            "  inflating: sample_signature/sample_Signature/genuine/NFI-01702017.png  \n",
            "  inflating: sample_signature/sample_Signature/genuine/NFI-01703017.png  \n",
            "  inflating: sample_signature/sample_Signature/genuine/NFI-01704017.png  \n",
            "  inflating: sample_signature/sample_Signature/genuine/NFI-01705017.png  \n",
            "  inflating: sample_signature/sample_Signature/genuine/NFI-01801018.png  \n",
            "  inflating: sample_signature/sample_Signature/genuine/NFI-01802018.png  \n",
            "  inflating: sample_signature/sample_Signature/genuine/NFI-01803018.png  \n",
            "  inflating: sample_signature/sample_Signature/genuine/NFI-01804018.png  \n",
            "  inflating: sample_signature/sample_Signature/genuine/NFI-01805018.png  \n",
            "  inflating: sample_signature/sample_Signature/genuine/NFI-01901019.png  \n",
            "  inflating: sample_signature/sample_Signature/genuine/NFI-01902019.png  \n",
            "  inflating: sample_signature/sample_Signature/genuine/NFI-01903019.png  \n",
            "  inflating: sample_signature/sample_Signature/genuine/NFI-01904019.png  \n",
            "  inflating: sample_signature/sample_Signature/genuine/NFI-01905019.png  \n",
            "  inflating: sample_signature/sample_Signature/genuine/NFI-02001020.png  \n",
            "  inflating: sample_signature/sample_Signature/genuine/NFI-02002020.png  \n",
            "  inflating: sample_signature/sample_Signature/genuine/NFI-02003020.png  \n",
            "  inflating: sample_signature/sample_Signature/genuine/NFI-02004020.png  \n",
            "  inflating: sample_signature/sample_Signature/genuine/NFI-02005020.png  \n",
            "  inflating: sample_signature/sample_Signature/genuine/NFI-02101021.png  \n",
            "  inflating: sample_signature/sample_Signature/genuine/NFI-02102021.png  \n",
            "  inflating: sample_signature/sample_Signature/genuine/NFI-02103021.png  \n",
            "  inflating: sample_signature/sample_Signature/genuine/NFI-02104021.png  \n",
            "  inflating: sample_signature/sample_Signature/genuine/NFI-02105021.png  \n",
            "  inflating: sample_signature/sample_Signature/genuine/NFI-02201022.png  \n",
            "  inflating: sample_signature/sample_Signature/genuine/NFI-02202022.png  \n",
            "  inflating: sample_signature/sample_Signature/genuine/NFI-02203022.png  \n",
            "  inflating: sample_signature/sample_Signature/genuine/NFI-02204022.png  \n",
            "  inflating: sample_signature/sample_Signature/genuine/NFI-02205022.png  \n",
            "  inflating: sample_signature/sample_Signature/genuine/NFI-02301023.png  \n",
            "  inflating: sample_signature/sample_Signature/genuine/NFI-02302023.png  \n",
            "  inflating: sample_signature/sample_Signature/genuine/NFI-02303023.png  \n",
            "  inflating: sample_signature/sample_Signature/genuine/NFI-02304023.png  \n",
            "  inflating: sample_signature/sample_Signature/genuine/NFI-02305023.png  \n",
            "  inflating: sample_signature/sample_Signature/genuine/NFI-02401024.png  \n",
            "  inflating: sample_signature/sample_Signature/genuine/NFI-02402024.png  \n",
            "  inflating: sample_signature/sample_Signature/genuine/NFI-02403024.png  \n",
            "  inflating: sample_signature/sample_Signature/genuine/NFI-02404024.png  \n",
            "  inflating: sample_signature/sample_Signature/genuine/NFI-02405024.png  \n",
            "  inflating: sample_signature/sample_Signature/genuine/NFI-02501025.PNG  \n",
            "  inflating: sample_signature/sample_Signature/genuine/NFI-02502025.PNG  \n",
            "  inflating: sample_signature/sample_Signature/genuine/NFI-02503025.PNG  \n",
            "  inflating: sample_signature/sample_Signature/genuine/NFI-02504025.PNG  \n",
            "  inflating: sample_signature/sample_Signature/genuine/NFI-02505025.PNG  \n",
            "  inflating: sample_signature/sample_Signature/genuine/NFI-02601026.PNG  \n",
            "  inflating: sample_signature/sample_Signature/genuine/NFI-02602026.PNG  \n",
            "  inflating: sample_signature/sample_Signature/genuine/NFI-02603026.PNG  \n",
            "  inflating: sample_signature/sample_Signature/genuine/NFI-02604026.PNG  \n",
            "  inflating: sample_signature/sample_Signature/genuine/NFI-02605026.PNG  \n",
            "  inflating: sample_signature/sample_Signature/genuine/NFI-02701027.PNG  \n",
            "  inflating: sample_signature/sample_Signature/genuine/NFI-02702027.PNG  \n",
            "  inflating: sample_signature/sample_Signature/genuine/NFI-02703027.PNG  \n",
            "  inflating: sample_signature/sample_Signature/genuine/NFI-02704027.PNG  \n",
            "  inflating: sample_signature/sample_Signature/genuine/NFI-02705027.PNG  \n",
            "  inflating: sample_signature/sample_Signature/genuine/NFI-02801028.PNG  \n",
            "  inflating: sample_signature/sample_Signature/genuine/NFI-02802028.PNG  \n",
            "  inflating: sample_signature/sample_Signature/genuine/NFI-02803028.PNG  \n",
            "  inflating: sample_signature/sample_Signature/genuine/NFI-02804028.PNG  \n",
            "  inflating: sample_signature/sample_Signature/genuine/NFI-02805028.PNG  \n",
            "  inflating: sample_signature/sample_Signature/genuine/NFI-02901029.PNG  \n",
            "  inflating: sample_signature/sample_Signature/genuine/NFI-02902029.PNG  \n",
            "  inflating: sample_signature/sample_Signature/genuine/NFI-02903029.PNG  \n",
            "  inflating: sample_signature/sample_Signature/genuine/NFI-02904029.PNG  \n",
            "  inflating: sample_signature/sample_Signature/genuine/NFI-02905029.PNG  \n",
            "  inflating: sample_signature/sample_Signature/genuine/NFI-03001030.PNG  \n",
            "  inflating: sample_signature/sample_Signature/genuine/NFI-03002030.PNG  \n",
            "  inflating: sample_signature/sample_Signature/genuine/NFI-03003030.PNG  \n",
            "  inflating: sample_signature/sample_Signature/genuine/NFI-03004030.PNG  \n",
            "  inflating: sample_signature/sample_Signature/genuine/NFI-03005030.PNG  \n"
          ]
        }
      ],
      "source": [
        "!pip install unzip\n",
        "import unzip\n",
        "!unzip /content/drive/MyDrive/signatures.zip "
      ]
    },
    {
      "cell_type": "markdown",
      "metadata": {
        "id": "_7spvOONvXJD"
      },
      "source": [
        "## Data"
      ]
    },
    {
      "cell_type": "markdown",
      "metadata": {
        "id": "BmCDyNC-vXJD"
      },
      "source": [
        "The data used in this notebook can be found [here](https://www.kaggle.com/datasets/divyanshrai/handwritten-signatures). The dataset contains just 300 samples of genuine and forged signatures from 30 people, of which 50 percent are genuine and 50 percent are forged. "
      ]
    },
    {
      "cell_type": "code",
      "execution_count": 4,
      "metadata": {
        "ExecuteTime": {
          "start_time": "2022-05-23T21:38:09.945Z"
        },
        "id": "oLN6KyiCvXJD"
      },
      "outputs": [],
      "source": [
        "# instantiate ImageDataGenerator scaling each pixel's values down to a scale of 1\n",
        "img = ImageDataGenerator(rescale=1/255)"
      ]
    },
    {
      "cell_type": "code",
      "execution_count": 5,
      "metadata": {
        "ExecuteTime": {
          "start_time": "2022-05-23T21:38:09.945Z"
        },
        "id": "vzGmIgUNvXJE"
      },
      "outputs": [],
      "source": [
        "# For locally run notebooks\n",
        "# data_path = './Data/sample_Signature/sample_Signature/'\n",
        "# For Colab \n",
        "data_path = '/content/sample_Signature/sample_Signature/'"
      ]
    },
    {
      "cell_type": "code",
      "execution_count": 6,
      "metadata": {
        "ExecuteTime": {
          "start_time": "2022-05-23T21:38:09.947Z"
        },
        "scrolled": false,
        "id": "5YLPyT3jvXJE",
        "outputId": "437eba28-99d3-4e8b-fa07-04e492314151",
        "colab": {
          "base_uri": "https://localhost:8080/"
        }
      },
      "outputs": [
        {
          "output_type": "stream",
          "name": "stdout",
          "text": [
            "Found 300 images belonging to 2 classes.\n"
          ]
        }
      ],
      "source": [
        "# Importing the data\n",
        "data = img.flow_from_directory(data_path, color_mode='grayscale',\\\n",
        "                               batch_size=300, class_mode='binary')"
      ]
    },
    {
      "cell_type": "code",
      "execution_count": 7,
      "metadata": {
        "ExecuteTime": {
          "start_time": "2022-05-23T21:38:09.948Z"
        },
        "id": "3Pqc-LzpvXJE",
        "outputId": "b7822c3c-face-4b3a-b639-6fdb6cfcf925",
        "colab": {
          "base_uri": "https://localhost:8080/"
        }
      },
      "outputs": [
        {
          "output_type": "execute_result",
          "data": {
            "text/plain": [
              "{'forged': 0, 'genuine': 1}"
            ]
          },
          "metadata": {},
          "execution_count": 7
        }
      ],
      "source": [
        "data.class_indices"
      ]
    },
    {
      "cell_type": "code",
      "execution_count": 8,
      "metadata": {
        "ExecuteTime": {
          "start_time": "2022-05-23T21:38:09.949Z"
        },
        "id": "g5elCNMhvXJE"
      },
      "outputs": [],
      "source": [
        "data_images, data_labels = next(data)"
      ]
    },
    {
      "cell_type": "code",
      "execution_count": 9,
      "metadata": {
        "ExecuteTime": {
          "start_time": "2022-05-23T21:38:09.951Z"
        },
        "id": "u7ytuxUavXJE",
        "outputId": "5b017c13-a3d4-4c18-85da-043af93e012f",
        "colab": {
          "base_uri": "https://localhost:8080/"
        }
      },
      "outputs": [
        {
          "output_type": "execute_result",
          "data": {
            "text/plain": [
              "(300, 256, 256, 1)"
            ]
          },
          "metadata": {},
          "execution_count": 9
        }
      ],
      "source": [
        "data_images.shape"
      ]
    },
    {
      "cell_type": "code",
      "execution_count": 10,
      "metadata": {
        "ExecuteTime": {
          "start_time": "2022-05-23T21:38:09.953Z"
        },
        "id": "kPdHqTndvXJF",
        "outputId": "409f1a44-fab0-49b3-abee-a4c148ae85ab",
        "colab": {
          "base_uri": "https://localhost:8080/"
        }
      },
      "outputs": [
        {
          "output_type": "execute_result",
          "data": {
            "text/plain": [
              "(300,)"
            ]
          },
          "metadata": {},
          "execution_count": 10
        }
      ],
      "source": [
        "data_labels.shape"
      ]
    },
    {
      "cell_type": "code",
      "execution_count": 11,
      "metadata": {
        "ExecuteTime": {
          "start_time": "2022-05-23T21:38:09.957Z"
        },
        "id": "WZzSvkj8vXJF"
      },
      "outputs": [],
      "source": [
        "X_train, X_test, y_train, y_test = train_test_split( \\\n",
        "            data_images, data_labels, random_state=42, test_size=.2)"
      ]
    },
    {
      "cell_type": "code",
      "execution_count": 12,
      "metadata": {
        "ExecuteTime": {
          "start_time": "2022-05-23T21:38:09.959Z"
        },
        "id": "4wZjDWZqvXJF",
        "outputId": "4164fc2d-71a0-4ff2-dcab-86fc999d4017",
        "colab": {
          "base_uri": "https://localhost:8080/"
        }
      },
      "outputs": [
        {
          "output_type": "execute_result",
          "data": {
            "text/plain": [
              "(240, 256, 256, 1)"
            ]
          },
          "metadata": {},
          "execution_count": 12
        }
      ],
      "source": [
        "X_train.shape"
      ]
    },
    {
      "cell_type": "code",
      "execution_count": 13,
      "metadata": {
        "ExecuteTime": {
          "start_time": "2022-05-23T21:38:09.961Z"
        },
        "scrolled": true,
        "id": "Rc501TY5vXJF",
        "outputId": "5d4db9a5-4703-4910-8c82-68e30747ab46",
        "colab": {
          "base_uri": "https://localhost:8080/"
        }
      },
      "outputs": [
        {
          "output_type": "execute_result",
          "data": {
            "text/plain": [
              "(240,)"
            ]
          },
          "metadata": {},
          "execution_count": 13
        }
      ],
      "source": [
        "y_train.shape"
      ]
    },
    {
      "cell_type": "markdown",
      "metadata": {
        "id": "tntkZFEyvXJF"
      },
      "source": [
        "Above we instantiate Keras' ImageDataGenerator which will scale each pixel's values down to a value of 1. Next we import the data and separate into the images themselves and their respective labels. Finally we split it into a train and test dataset."
      ]
    },
    {
      "cell_type": "markdown",
      "metadata": {
        "id": "UVdG-L_LvXJF"
      },
      "source": [
        "### Image Augmentation"
      ]
    },
    {
      "cell_type": "markdown",
      "metadata": {
        "id": "39FeLlXcvXJF"
      },
      "source": [
        "Because we have such a small dataset it is important to use image augmentation to artificially expand the training dataset. Below we do several forms of data augmentation individually before combining the techniques at the end."
      ]
    },
    {
      "cell_type": "markdown",
      "metadata": {
        "id": "mfPWWgIhvXJF"
      },
      "source": [
        "#### Zoom Augmentation"
      ]
    },
    {
      "cell_type": "markdown",
      "metadata": {
        "id": "QptJ-ri4vXJG"
      },
      "source": [
        "The first technique we explore is zoom range. Entering a range of values, .25 and 1 in this case, randomly applies a zoom to each image within that range."
      ]
    },
    {
      "cell_type": "code",
      "execution_count": 14,
      "metadata": {
        "ExecuteTime": {
          "start_time": "2022-05-23T21:38:09.964Z"
        },
        "id": "PZ6whQ3uvXJG"
      },
      "outputs": [],
      "source": [
        "aug = ImageDataGenerator(zoom_range=[.25,1])\n",
        "aug.fit(X_train)\n",
        "aug_data = aug.flow(X_train, y_train, batch_size=240)"
      ]
    },
    {
      "cell_type": "code",
      "execution_count": 15,
      "metadata": {
        "ExecuteTime": {
          "start_time": "2022-05-23T21:38:09.965Z"
        },
        "id": "DFqbojNOvXJG"
      },
      "outputs": [],
      "source": [
        "aug_images, aug_labels = next(aug_data)"
      ]
    },
    {
      "cell_type": "code",
      "execution_count": 16,
      "metadata": {
        "ExecuteTime": {
          "start_time": "2022-05-23T21:38:09.966Z"
        },
        "id": "qkXS6XkGvXJG",
        "outputId": "1e6355a4-8dde-4865-fbca-63b90c96d1a1",
        "colab": {
          "base_uri": "https://localhost:8080/"
        }
      },
      "outputs": [
        {
          "output_type": "execute_result",
          "data": {
            "text/plain": [
              "(240, 256, 256, 1)"
            ]
          },
          "metadata": {},
          "execution_count": 16
        }
      ],
      "source": [
        "aug_images.shape"
      ]
    },
    {
      "cell_type": "code",
      "execution_count": 17,
      "metadata": {
        "ExecuteTime": {
          "start_time": "2022-05-23T21:38:09.972Z"
        },
        "scrolled": false,
        "id": "UjJKT8SFvXJG",
        "outputId": "656ff038-03b8-45ca-b3df-36adbb23efff",
        "colab": {
          "base_uri": "https://localhost:8080/"
        }
      },
      "outputs": [
        {
          "output_type": "execute_result",
          "data": {
            "text/plain": [
              "(240,)"
            ]
          },
          "metadata": {},
          "execution_count": 17
        }
      ],
      "source": [
        "aug_labels.shape"
      ]
    },
    {
      "cell_type": "code",
      "execution_count": 18,
      "metadata": {
        "ExecuteTime": {
          "start_time": "2022-05-23T21:38:09.973Z"
        },
        "scrolled": true,
        "id": "poSjeaj7vXJG",
        "outputId": "646c3b74-be0d-42d2-df1f-88864ff74007",
        "colab": {
          "base_uri": "https://localhost:8080/",
          "height": 0
        }
      },
      "outputs": [
        {
          "output_type": "execute_result",
          "data": {
            "text/plain": [
              "<PIL.Image.Image image mode=L size=256x256 at 0x7F80C62FE690>"
            ],
            "image/png": "[encoded data removed]"
          },
          "metadata": {},
          "execution_count": 18
        }
      ],
      "source": [
        "array_to_img(aug_images[0])"
      ]
    },
    {
      "cell_type": "code",
      "execution_count": 19,
      "metadata": {
        "ExecuteTime": {
          "start_time": "2022-05-23T21:38:09.975Z"
        },
        "id": "MzswphG1vXJG"
      },
      "outputs": [],
      "source": [
        "new_images1 = np.concatenate([X_train, aug_images])\n",
        "new_labels1 = np.concatenate([y_train, aug_labels])"
      ]
    },
    {
      "cell_type": "code",
      "execution_count": 20,
      "metadata": {
        "ExecuteTime": {
          "start_time": "2022-05-23T21:38:09.976Z"
        },
        "id": "PN4ZC3mOvXJG",
        "outputId": "4dc9e288-4763-4a29-de7a-fb8e46d1676c",
        "colab": {
          "base_uri": "https://localhost:8080/"
        }
      },
      "outputs": [
        {
          "output_type": "execute_result",
          "data": {
            "text/plain": [
              "(480, 256, 256, 1)"
            ]
          },
          "metadata": {},
          "execution_count": 20
        }
      ],
      "source": [
        "new_images1.shape"
      ]
    },
    {
      "cell_type": "code",
      "execution_count": 21,
      "metadata": {
        "ExecuteTime": {
          "start_time": "2022-05-23T21:38:09.978Z"
        },
        "scrolled": true,
        "id": "YDUYQaTqvXJG",
        "outputId": "2cd4b2ee-c187-4794-f0d4-830fc8ac5e9c",
        "colab": {
          "base_uri": "https://localhost:8080/"
        }
      },
      "outputs": [
        {
          "output_type": "execute_result",
          "data": {
            "text/plain": [
              "(480,)"
            ]
          },
          "metadata": {},
          "execution_count": 21
        }
      ],
      "source": [
        "new_labels1.shape"
      ]
    },
    {
      "cell_type": "markdown",
      "metadata": {
        "id": "Jet8xmUhvXJG"
      },
      "source": [
        "#### Width Augmentation"
      ]
    },
    {
      "cell_type": "markdown",
      "metadata": {
        "id": "YkwyS_qwvXJG"
      },
      "source": [
        "The next method for augmentation used was width shift range. With a range of .3 the images will be randomly assigned a width down to .3 of the original image size. "
      ]
    },
    {
      "cell_type": "code",
      "execution_count": 22,
      "metadata": {
        "ExecuteTime": {
          "start_time": "2022-05-23T21:38:09.979Z"
        },
        "id": "Yg3YiPGPvXJG"
      },
      "outputs": [],
      "source": [
        "aug = ImageDataGenerator(width_shift_range=.3)\n",
        "aug.fit(X_train)\n",
        "aug2_data = aug.flow(X_train, y_train, batch_size=240)"
      ]
    },
    {
      "cell_type": "code",
      "execution_count": 23,
      "metadata": {
        "ExecuteTime": {
          "start_time": "2022-05-23T21:38:09.980Z"
        },
        "id": "H0wIwUz6vXJG"
      },
      "outputs": [],
      "source": [
        "aug2_images, aug2_labels = next(aug2_data)"
      ]
    },
    {
      "cell_type": "code",
      "execution_count": 24,
      "metadata": {
        "ExecuteTime": {
          "start_time": "2022-05-23T21:38:09.981Z"
        },
        "id": "pEbzXXgEvXJG"
      },
      "outputs": [],
      "source": [
        "new_images2 = np.concatenate([new_images1, aug2_images])\n",
        "new_labels2 = np.concatenate([new_labels1, aug2_labels])"
      ]
    },
    {
      "cell_type": "markdown",
      "metadata": {
        "id": "kz2R0vZXvXJG"
      },
      "source": [
        "#### Height Augmentation"
      ]
    },
    {
      "cell_type": "markdown",
      "metadata": {
        "id": "apqjnq7FvXJG"
      },
      "source": [
        "The next method for augmentation used was height shift range. With a range of .3 the images will be randomly assigned a height down to .3 of the original image size."
      ]
    },
    {
      "cell_type": "code",
      "execution_count": 25,
      "metadata": {
        "ExecuteTime": {
          "start_time": "2022-05-23T21:38:09.987Z"
        },
        "id": "2rff4_8gvXJH"
      },
      "outputs": [],
      "source": [
        "aug = ImageDataGenerator(height_shift_range=.3)\n",
        "aug.fit(X_train)\n",
        "aug3_data = aug.flow(X_train, y_train, batch_size=240)"
      ]
    },
    {
      "cell_type": "code",
      "execution_count": 26,
      "metadata": {
        "ExecuteTime": {
          "start_time": "2022-05-23T21:38:09.991Z"
        },
        "id": "ashjDjFFvXJH"
      },
      "outputs": [],
      "source": [
        "aug3_images, aug3_labels = next(aug3_data)"
      ]
    },
    {
      "cell_type": "code",
      "execution_count": 27,
      "metadata": {
        "ExecuteTime": {
          "start_time": "2022-05-23T21:38:09.992Z"
        },
        "id": "fFIe-T3XvXJH"
      },
      "outputs": [],
      "source": [
        "new_images3 = np.concatenate([new_images2, aug3_images])\n",
        "new_labels3 = np.concatenate([new_labels2, aug3_labels])"
      ]
    },
    {
      "cell_type": "markdown",
      "metadata": {
        "ExecuteTime": {
          "end_time": "2022-05-18T18:10:53.996172Z",
          "start_time": "2022-05-18T18:10:53.989621Z"
        },
        "id": "B8XsmJ0EvXJH"
      },
      "source": [
        "#### Rotation Augmentation"
      ]
    },
    {
      "cell_type": "markdown",
      "metadata": {
        "ExecuteTime": {
          "end_time": "2022-05-20T18:31:05.497987Z",
          "start_time": "2022-05-20T18:31:05.418085Z"
        },
        "id": "jLSDBSO2vXJH"
      },
      "source": [
        "Next we apply a random rotation to each image up to 30 degrees."
      ]
    },
    {
      "cell_type": "code",
      "execution_count": 28,
      "metadata": {
        "ExecuteTime": {
          "start_time": "2022-05-23T21:38:09.995Z"
        },
        "id": "CK9KiDPhvXJH"
      },
      "outputs": [],
      "source": [
        "aug = ImageDataGenerator(rotation_range=30)\n",
        "aug.fit(X_train)\n",
        "aug4_data = aug.flow(X_train, y_train, batch_size=240)"
      ]
    },
    {
      "cell_type": "code",
      "execution_count": 29,
      "metadata": {
        "ExecuteTime": {
          "start_time": "2022-05-23T21:38:09.996Z"
        },
        "id": "I8LmKNd3vXJH"
      },
      "outputs": [],
      "source": [
        "aug4_images, aug4_labels = next(aug4_data)"
      ]
    },
    {
      "cell_type": "code",
      "execution_count": 30,
      "metadata": {
        "ExecuteTime": {
          "start_time": "2022-05-23T21:38:09.997Z"
        },
        "id": "aR0fca9VvXJH"
      },
      "outputs": [],
      "source": [
        "new_images4 = np.concatenate([new_images3, aug4_images])\n",
        "new_labels4 = np.concatenate([new_labels3, aug4_labels])"
      ]
    },
    {
      "cell_type": "markdown",
      "metadata": {
        "id": "LBzaMTfJvXJH"
      },
      "source": [
        "#### Shear Augmentation"
      ]
    },
    {
      "cell_type": "markdown",
      "metadata": {
        "id": "JbsT95-LvXJH"
      },
      "source": [
        "We then apply a random shear value to each image. This angles the corners of each image up to 30 degrees."
      ]
    },
    {
      "cell_type": "code",
      "execution_count": 31,
      "metadata": {
        "ExecuteTime": {
          "start_time": "2022-05-23T21:38:10.002Z"
        },
        "id": "mGMoQo95vXJH"
      },
      "outputs": [],
      "source": [
        "aug = ImageDataGenerator(shear_range=30)\n",
        "aug.fit(X_train)\n",
        "aug5_data = aug.flow(X_train, y_train, batch_size=240)"
      ]
    },
    {
      "cell_type": "code",
      "execution_count": 32,
      "metadata": {
        "ExecuteTime": {
          "start_time": "2022-05-23T21:38:10.004Z"
        },
        "id": "21MvEHi_vXJH"
      },
      "outputs": [],
      "source": [
        "aug5_images, aug5_labels = next(aug5_data)"
      ]
    },
    {
      "cell_type": "code",
      "execution_count": 33,
      "metadata": {
        "ExecuteTime": {
          "start_time": "2022-05-23T21:38:10.006Z"
        },
        "id": "3WFnt5WKvXJH"
      },
      "outputs": [],
      "source": [
        "new_images5 = np.concatenate([new_images4, aug5_images])\n",
        "new_labels5 = np.concatenate([new_labels4, aug5_labels])"
      ]
    },
    {
      "cell_type": "markdown",
      "metadata": {
        "id": "O3ezlH8GvXJH"
      },
      "source": [
        "#### Brightness Augmentation"
      ]
    },
    {
      "cell_type": "markdown",
      "metadata": {
        "ExecuteTime": {
          "end_time": "2022-05-20T18:49:59.247310Z",
          "start_time": "2022-05-20T18:49:59.202157Z"
        },
        "id": "da77Igg-vXJH"
      },
      "source": [
        "Finally we have brightness augmentation. This applies a random brightness shift within the provided range. "
      ]
    },
    {
      "cell_type": "code",
      "execution_count": 34,
      "metadata": {
        "ExecuteTime": {
          "start_time": "2022-05-23T21:38:10.007Z"
        },
        "id": "D7uxo593vXJH"
      },
      "outputs": [],
      "source": [
        "aug = ImageDataGenerator(brightness_range=(1,2))\n",
        "aug.fit(X_train)\n",
        "aug5_data = aug.flow(X_train, y_train, batch_size=240)"
      ]
    },
    {
      "cell_type": "code",
      "execution_count": 35,
      "metadata": {
        "ExecuteTime": {
          "start_time": "2022-05-23T21:38:10.009Z"
        },
        "id": "_3z1BKomvXJH"
      },
      "outputs": [],
      "source": [
        "aug6_images, aug6_labels = next(aug5_data)"
      ]
    },
    {
      "cell_type": "code",
      "execution_count": 36,
      "metadata": {
        "ExecuteTime": {
          "start_time": "2022-05-23T21:38:10.012Z"
        },
        "id": "BhNIrcZ0vXJH"
      },
      "outputs": [],
      "source": [
        "new_images6 = np.concatenate([new_images5, aug6_images])\n",
        "new_labels6 = np.concatenate([new_labels5, aug6_labels])"
      ]
    },
    {
      "cell_type": "code",
      "execution_count": 37,
      "metadata": {
        "ExecuteTime": {
          "start_time": "2022-05-23T21:38:10.015Z"
        },
        "id": "SWRdJsNavXJH",
        "outputId": "fae9eb53-7f8d-49e7-8219-0c0bfa36ff1d",
        "colab": {
          "base_uri": "https://localhost:8080/"
        }
      },
      "outputs": [
        {
          "output_type": "execute_result",
          "data": {
            "text/plain": [
              "(1680,)"
            ]
          },
          "metadata": {},
          "execution_count": 37
        }
      ],
      "source": [
        "new_labels6.shape"
      ]
    },
    {
      "cell_type": "markdown",
      "metadata": {
        "id": "Qy2mleSmvXJH"
      },
      "source": [
        "#### A little bit of everything Augmentation"
      ]
    },
    {
      "cell_type": "markdown",
      "metadata": {
        "id": "ZcnEYvsPvXJI"
      },
      "source": [
        "Now that we have augmented each image with a single augmentation, we will again augment all images with a combination of each augmentation. "
      ]
    },
    {
      "cell_type": "code",
      "execution_count": 38,
      "metadata": {
        "ExecuteTime": {
          "start_time": "2022-05-23T21:38:10.016Z"
        },
        "id": "3829IgOxvXJI"
      },
      "outputs": [],
      "source": [
        "aug = ImageDataGenerator(zoom_range=[.7,.9], width_shift_range=.15, height_shift_range=.15, rotation_range=15, shear_range=15, brightness_range=(1,1.5))\n",
        "aug.fit(new_images6)\n",
        "aug_data_final = aug.flow(new_images6, new_labels6, batch_size=1680)"
      ]
    },
    {
      "cell_type": "code",
      "execution_count": 39,
      "metadata": {
        "ExecuteTime": {
          "start_time": "2022-05-23T21:38:10.018Z"
        },
        "id": "JW4bL7CKvXJI"
      },
      "outputs": [],
      "source": [
        "aug_final_images, aug_final_labels = next(aug_data_final)"
      ]
    },
    {
      "cell_type": "code",
      "execution_count": 40,
      "metadata": {
        "ExecuteTime": {
          "start_time": "2022-05-23T21:38:10.020Z"
        },
        "id": "Q1bNJeMFvXJI"
      },
      "outputs": [],
      "source": [
        "final_images = np.concatenate([new_images6, aug_final_images])\n",
        "final_labels = np.concatenate([new_labels6, aug_final_labels])"
      ]
    },
    {
      "cell_type": "code",
      "execution_count": 41,
      "metadata": {
        "ExecuteTime": {
          "start_time": "2022-05-23T21:38:10.022Z"
        },
        "id": "HF0Bj5E6vXJI",
        "outputId": "bd4e4018-a56c-4155-9401-a2255f7065c9",
        "colab": {
          "base_uri": "https://localhost:8080/"
        }
      },
      "outputs": [
        {
          "output_type": "execute_result",
          "data": {
            "text/plain": [
              "(3360, 256, 256, 1)"
            ]
          },
          "metadata": {},
          "execution_count": 41
        }
      ],
      "source": [
        "final_images.shape"
      ]
    },
    {
      "cell_type": "code",
      "execution_count": 42,
      "metadata": {
        "ExecuteTime": {
          "start_time": "2022-05-23T21:38:10.022Z"
        },
        "id": "FHuJpdYdvXJI",
        "outputId": "22aacb57-8aaf-4b44-b738-52e8b20941de",
        "colab": {
          "base_uri": "https://localhost:8080/"
        }
      },
      "outputs": [
        {
          "output_type": "execute_result",
          "data": {
            "text/plain": [
              "(3360,)"
            ]
          },
          "metadata": {},
          "execution_count": 42
        }
      ],
      "source": [
        "final_labels.shape"
      ]
    },
    {
      "cell_type": "code",
      "execution_count": 43,
      "metadata": {
        "ExecuteTime": {
          "start_time": "2022-05-23T21:38:10.023Z"
        },
        "id": "KDHJ-M3KvXJI",
        "outputId": "6d7a8911-04ea-4a1a-a378-4518657584d3",
        "colab": {
          "base_uri": "https://localhost:8080/",
          "height": 0
        }
      },
      "outputs": [
        {
          "output_type": "execute_result",
          "data": {
            "text/plain": [
              "<PIL.Image.Image image mode=L size=256x256 at 0x7F80C62B0990>"
            ],
            "image/png": "[encoded data removed]"
          },
          "metadata": {},
          "execution_count": 43
        }
      ],
      "source": [
        "array_to_img(final_images[0])"
      ]
    },
    {
      "cell_type": "code",
      "execution_count": 44,
      "metadata": {
        "ExecuteTime": {
          "start_time": "2022-05-23T21:38:10.024Z"
        },
        "id": "JYjdm_96vXJI",
        "outputId": "303af48e-cb01-4106-8fbb-857cd614e5aa",
        "colab": {
          "base_uri": "https://localhost:8080/"
        }
      },
      "outputs": [
        {
          "output_type": "execute_result",
          "data": {
            "text/plain": [
              "1.0"
            ]
          },
          "metadata": {},
          "execution_count": 44
        }
      ],
      "source": [
        "final_labels[0]"
      ]
    },
    {
      "cell_type": "markdown",
      "metadata": {
        "id": "39G3SketvXJI"
      },
      "source": [
        "## Modeling"
      ]
    },
    {
      "cell_type": "markdown",
      "metadata": {
        "id": "R0nNsUasvXJI"
      },
      "source": [
        "### Dummy Model"
      ]
    },
    {
      "cell_type": "markdown",
      "metadata": {
        "id": "uexOQ9kSvXJI"
      },
      "source": [
        "Our first model will be a baseline model for comparison. We will utilize Sklearn's DummyClassifier which uses the most frequent class as it's prediction. "
      ]
    },
    {
      "cell_type": "code",
      "execution_count": 48,
      "metadata": {
        "ExecuteTime": {
          "start_time": "2022-05-23T21:38:10.025Z"
        },
        "id": "tey1PwCRvXJI",
        "outputId": "a9a2e53f-88a2-496a-d656-e26dc2d9e7c3",
        "colab": {
          "base_uri": "https://localhost:8080/"
        }
      },
      "outputs": [
        {
          "output_type": "execute_result",
          "data": {
            "text/plain": [
              "DummyClassifier(strategy='most_frequent')"
            ]
          },
          "metadata": {},
          "execution_count": 48
        }
      ],
      "source": [
        "dummy_model = DummyClassifier(strategy='most_frequent')\n",
        "dummy_model.fit(final_images, final_labels)"
      ]
    },
    {
      "cell_type": "code",
      "execution_count": 49,
      "metadata": {
        "ExecuteTime": {
          "start_time": "2022-05-23T21:38:10.026Z"
        },
        "id": "dHgh5LJfvXJJ"
      },
      "outputs": [],
      "source": [
        "dummy_acc = dummy_model.score(X_test, y_test)"
      ]
    },
    {
      "cell_type": "code",
      "execution_count": 50,
      "metadata": {
        "ExecuteTime": {
          "start_time": "2022-05-23T21:38:10.027Z"
        },
        "id": "RymtHseivXJJ",
        "outputId": "0ea40b1c-cf4d-4dbc-c0a3-c860affc24ad",
        "colab": {
          "base_uri": "https://localhost:8080/"
        }
      },
      "outputs": [
        {
          "output_type": "execute_result",
          "data": {
            "text/plain": [
              "0.43333333333333335"
            ]
          },
          "metadata": {},
          "execution_count": 50
        }
      ],
      "source": [
        "dummy_acc"
      ]
    },
    {
      "cell_type": "markdown",
      "metadata": {
        "id": "SCZViGanvXJJ"
      },
      "source": [
        "### Model 1"
      ]
    },
    {
      "cell_type": "code",
      "execution_count": 51,
      "metadata": {
        "ExecuteTime": {
          "start_time": "2022-05-23T21:38:10.028Z"
        },
        "code_folding": [],
        "id": "gR6hOqdNvXJJ",
        "outputId": "32c42cf9-cff4-43a9-8a09-0dd5f5e202ef",
        "colab": {
          "base_uri": "https://localhost:8080/"
        }
      },
      "outputs": [
        {
          "output_type": "stream",
          "name": "stderr",
          "text": [
            "/usr/local/lib/python3.7/dist-packages/keras/optimizer_v2/adam.py:105: UserWarning: The `lr` argument is deprecated, use `learning_rate` instead.\n",
            "  super(Adam, self).__init__(name, **kwargs)\n"
          ]
        }
      ],
      "source": [
        "adam = Adam(lr=.0001)"
      ]
    },
    {
      "cell_type": "code",
      "execution_count": 52,
      "metadata": {
        "id": "1pZ2Yau8vXJJ"
      },
      "outputs": [],
      "source": [
        "def build_model():\n",
        "    model1 = Sequential()\n",
        "    model1.add(layers.Conv2D(filters=64,\n",
        "                       kernel_size=(3,3),\n",
        "                       activation='relu',\n",
        "                       input_shape=(256,256,1)))\n",
        "\n",
        "    model1.add(layers.MaxPool2D())\n",
        "\n",
        "    model1.add(layers.Conv2D(128, (3,3), activation='relu'))\n",
        "\n",
        "    model1.add(layers.MaxPool2D())\n",
        "    \n",
        "    model1.add(layers.Flatten())\n",
        "    model1.add(layers.Dense(64, activation='relu'))\n",
        "    model1.add(layers.Dropout(.25))\n",
        "\n",
        "    model1.add(layers.Dense(32, activation='relu', kernel_regularizer=l2(0.05)))\n",
        "\n",
        "    model1.add(layers.Dense(16, activation='relu', kernel_regularizer=l2(0.01)))\n",
        "    model1.add(layers.Dropout(.25))\n",
        "    \n",
        "    model1.add(layers.Dense(1, activation='sigmoid'))\n",
        "\n",
        "    model1.compile(optimizer=adam,\n",
        "                  loss='binary_crossentropy',\n",
        "                  metrics=['accuracy'])\n",
        "    return model"
      ]
    },
    {
      "cell_type": "code",
      "execution_count": 53,
      "metadata": {
        "id": "_P_XnyYWvXJJ",
        "outputId": "5e08ac6e-4588-4a37-e626-187737aa1dce",
        "colab": {
          "base_uri": "https://localhost:8080/"
        }
      },
      "outputs": [
        {
          "output_type": "stream",
          "name": "stderr",
          "text": [
            "/usr/local/lib/python3.7/dist-packages/ipykernel_launcher.py:4: DeprecationWarning: KerasClassifier is deprecated, use Sci-Keras (https://github.com/adriangb/scikeras) instead. See https://www.adriangb.com/scikeras/stable/migration.html for help migrating.\n",
            "  after removing the cwd from sys.path.\n"
          ]
        }
      ],
      "source": [
        "model1 = scikit_learn.KerasClassifier(build_model,\n",
        "                                          epochs=20, \n",
        "                                          batch_size=32, \n",
        "                                          verbose=2)"
      ]
    },
    {
      "cell_type": "code",
      "execution_count": 54,
      "metadata": {
        "id": "vRJlg_C7vXJJ"
      },
      "outputs": [],
      "source": [
        "with open('drive/MyDrive/model1_cv_pickle.sav', 'rb') as f:\n",
        "    model1_cv_results = pickle.load(f)"
      ]
    },
    {
      "cell_type": "code",
      "execution_count": 55,
      "metadata": {
        "id": "xYNrawsGvXJJ",
        "outputId": "c29a9bd9-29d0-4074-c1a7-8746921f41bf",
        "colab": {
          "base_uri": "https://localhost:8080/"
        }
      },
      "outputs": [
        {
          "output_type": "execute_result",
          "data": {
            "text/plain": [
              "0.5997023940086365"
            ]
          },
          "metadata": {},
          "execution_count": 55
        }
      ],
      "source": [
        "model1_cv_results.mean()"
      ]
    },
    {
      "cell_type": "code",
      "source": [
        "with open('drive/MyDrive/model1_results_pickle.sav', 'rb') as f:\n",
        "    model1_results = pickle.load(f)"
      ],
      "metadata": {
        "id": "edG_sehI6i0T"
      },
      "execution_count": 56,
      "outputs": []
    },
    {
      "cell_type": "code",
      "source": [
        "def plot_results(results):\n",
        "  train_loss = results.history['loss']\n",
        "  train_acc = results.history['accuracy']\n",
        "  val_loss = results.history['val_loss']\n",
        "  val_acc = results.history['val_accuracy']\n",
        "\n",
        "  fig, (ax1, ax2) = plt.subplots(1, 2, figsize=(10, 5))\n",
        "  sns.lineplot(x=results.epoch, y=train_loss, ax=ax1, label='train_loss')\n",
        "  sns.lineplot(x=results.epoch, y=train_acc, ax=ax2, label='train_accuracy')\n",
        "\n",
        "  sns.lineplot(x=results.epoch, y=val_loss, ax=ax1, label='val_loss')\n",
        "  sns.lineplot(x=results.epoch, y=val_acc, ax=ax2, label='val_accuracy')\n",
        "  ax1.set_title('Loss')\n",
        "  ax2.set_title('Accuracy')\n",
        "  ax1.legend();\n",
        "  return "
      ],
      "metadata": {
        "id": "tH0IaJ168Szv"
      },
      "execution_count": 57,
      "outputs": []
    },
    {
      "cell_type": "code",
      "source": [
        "plot_results(model1_results)"
      ],
      "metadata": {
        "id": "eWxI4Pr56ix-",
        "outputId": "d1185ca7-a0fd-4eb4-c456-34568d3b2360",
        "colab": {
          "base_uri": "https://localhost:8080/",
          "height": 336
        }
      },
      "execution_count": 58,
      "outputs": [
        {
          "output_type": "display_data",
          "data": {
            "text/plain": [
              "<Figure size 720x360 with 2 Axes>"
            ],
            "image/png": "[encoded data removed]"
          },
          "metadata": {
            "needs_background": "light"
          }
        }
      ]
    },
    {
      "cell_type": "code",
      "source": [
        "# with open('drive/MyDrive/model1_pickle.sav', 'rb') as f:\n",
        "#     model1 = pickle.load(f)"
      ],
      "metadata": {
        "id": "zNlvPBRnw1gp"
      },
      "execution_count": 59,
      "outputs": []
    },
    {
      "cell_type": "markdown",
      "metadata": {
        "id": "R_xtVGgrvXJJ"
      },
      "source": [
        "### Model 2"
      ]
    },
    {
      "cell_type": "code",
      "execution_count": 60,
      "metadata": {
        "id": "TFtQ1y1_vXJJ",
        "outputId": "0ed8e575-bdec-4b83-aba7-69063999cb68",
        "colab": {
          "base_uri": "https://localhost:8080/"
        }
      },
      "outputs": [
        {
          "output_type": "stream",
          "name": "stderr",
          "text": [
            "/usr/local/lib/python3.7/dist-packages/keras/optimizer_v2/gradient_descent.py:102: UserWarning: The `lr` argument is deprecated, use `learning_rate` instead.\n",
            "  super(SGD, self).__init__(name, **kwargs)\n"
          ]
        }
      ],
      "source": [
        "sgd = SGD(lr=.0001)"
      ]
    },
    {
      "cell_type": "code",
      "execution_count": 61,
      "metadata": {
        "id": "mxcX3w_RvXJJ"
      },
      "outputs": [],
      "source": [
        "def build_model():\n",
        "    model = Sequential()\n",
        "    model.add(layers.Conv2D(filters=64,\n",
        "                       kernel_size=(3,3),\n",
        "                       activation='relu',\n",
        "                       input_shape=(256,256,1)))\n",
        "\n",
        "    model.add(layers.MaxPool2D())\n",
        "    \n",
        "    model.add(layers.Flatten())\n",
        "    \n",
        "    model.add(layers.Dense(128, activation='relu'))\n",
        "    model.add(layers.Dropout(.05))\n",
        "    \n",
        "    model.add(layers.Dense(64, activation='relu'))\n",
        "    model.add(layers.Dropout(.25))\n",
        "\n",
        "    model.add(layers.Dense(16, activation='relu'))\n",
        "    \n",
        "    model.add(layers.Dense(1, activation='sigmoid'))\n",
        "\n",
        "    model.compile(optimizer=sgd,\n",
        "                  loss='binary_crossentropy',\n",
        "                  metrics=['accuracy'])\n",
        "    return model"
      ]
    },
    {
      "cell_type": "code",
      "execution_count": 62,
      "metadata": {
        "id": "PtGNSDIfvXJJ",
        "outputId": "f1b3dc43-6ab2-4320-abf3-5afe20b1d7fb",
        "colab": {
          "base_uri": "https://localhost:8080/"
        }
      },
      "outputs": [
        {
          "output_type": "stream",
          "name": "stderr",
          "text": [
            "/usr/local/lib/python3.7/dist-packages/ipykernel_launcher.py:4: DeprecationWarning: KerasClassifier is deprecated, use Sci-Keras (https://github.com/adriangb/scikeras) instead. See https://www.adriangb.com/scikeras/stable/migration.html for help migrating.\n",
            "  after removing the cwd from sys.path.\n"
          ]
        }
      ],
      "source": [
        "model2 = scikit_learn.KerasClassifier(build_model,\n",
        "                                          epochs=10,\n",
        "                                          batch_size=24,\n",
        "                                          verbose=2)"
      ]
    },
    {
      "cell_type": "code",
      "execution_count": 63,
      "metadata": {
        "id": "KTYgcnjRvXJJ"
      },
      "outputs": [],
      "source": [
        "with open('drive/MyDrive/model2_cv_pickle.sav', 'rb') as f:\n",
        "    model2_cv_results = pickle.load(f)"
      ]
    },
    {
      "cell_type": "code",
      "execution_count": 64,
      "metadata": {
        "id": "RaSi1DFRvXJJ",
        "outputId": "cf62475d-2eca-4922-83f6-86c39d1fc345",
        "colab": {
          "base_uri": "https://localhost:8080/"
        }
      },
      "outputs": [
        {
          "output_type": "execute_result",
          "data": {
            "text/plain": [
              "0.5633928418159485"
            ]
          },
          "metadata": {},
          "execution_count": 64
        }
      ],
      "source": [
        "model2_cv_results.mean()"
      ]
    },
    {
      "cell_type": "code",
      "source": [
        "with open('drive/MyDrive/model2_results_pickle.sav', 'rb') as f:\n",
        "    model2_results = pickle.load(f)"
      ],
      "metadata": {
        "id": "4iRd7sOqxw7V"
      },
      "execution_count": 65,
      "outputs": []
    },
    {
      "cell_type": "code",
      "source": [
        "plot_results(model2_results)"
      ],
      "metadata": {
        "id": "vxAsbhY0xwyr",
        "outputId": "16f70999-3e75-431e-e9bc-1624c0087b5d",
        "colab": {
          "base_uri": "https://localhost:8080/",
          "height": 336
        }
      },
      "execution_count": 66,
      "outputs": [
        {
          "output_type": "display_data",
          "data": {
            "text/plain": [
              "<Figure size 720x360 with 2 Axes>"
            ],
            "image/png": "[encoded data removed]"
          },
          "metadata": {
            "needs_background": "light"
          }
        }
      ]
    },
    {
      "cell_type": "code",
      "source": [
        "# with open('drive/MyDrive/model2_pickle.sav', 'rb') as f:\n",
        "#     model2 = pickle.load(f)"
      ],
      "metadata": {
        "id": "qN9f2tj3SzVv"
      },
      "execution_count": 67,
      "outputs": []
    },
    {
      "cell_type": "markdown",
      "metadata": {
        "id": "hfNUMqWUvXJJ"
      },
      "source": [
        "### Model 3"
      ]
    },
    {
      "cell_type": "code",
      "execution_count": 68,
      "metadata": {
        "id": "PPQI9D-HvXJJ"
      },
      "outputs": [],
      "source": [
        "adam = Adam(learning_rate=.0001)\n",
        "def build_model():\n",
        "    model = Sequential()\n",
        "\n",
        "    model.add(layers.Conv2D(16, (3,3), activation='relu', input_shape=(256,256,1)))\n",
        "    model.add(layers.MaxPool2D())\n",
        "    model.add(layers.Dropout(0.2))\n",
        "\n",
        "    model.add(layers.Conv2D(32, 3, activation='relu'))\n",
        "    model.add(layers.MaxPool2D())\n",
        "\n",
        "    model.add(layers.Flatten())\n",
        "\n",
        "    model.add(layers.Dense(64, activation='relu'))\n",
        "\n",
        "    model.add(layers.Dense(128, activation='relu'))\n",
        "    model.add(layers.Dropout(0.2))\n",
        "\n",
        "    model.add(layers.Dense(64, activation='relu'))\n",
        "\n",
        "    model.add(layers.Dense(32, activation='relu'))\n",
        "\n",
        "    model.add(layers.Dense(1, activation='sigmoid'))\n",
        "\n",
        "    model.compile(optimizer=adam,\n",
        "                  loss='binary_crossentropy',\n",
        "                  metrics=['accuracy'])\n",
        "    \n",
        "    return model"
      ]
    },
    {
      "cell_type": "code",
      "execution_count": 69,
      "metadata": {
        "id": "aArVl-SIvXJJ",
        "outputId": "0eecaf66-489d-4dce-96ff-f23c4f39714b",
        "colab": {
          "base_uri": "https://localhost:8080/"
        }
      },
      "outputs": [
        {
          "output_type": "stream",
          "name": "stderr",
          "text": [
            "/usr/local/lib/python3.7/dist-packages/ipykernel_launcher.py:4: DeprecationWarning: KerasClassifier is deprecated, use Sci-Keras (https://github.com/adriangb/scikeras) instead. See https://www.adriangb.com/scikeras/stable/migration.html for help migrating.\n",
            "  after removing the cwd from sys.path.\n"
          ]
        }
      ],
      "source": [
        "model3 = scikit_learn.KerasClassifier(build_model,\n",
        "                                          epochs=25,\n",
        "                                          batch_size=32,\n",
        "                                          verbose=2)"
      ]
    },
    {
      "cell_type": "code",
      "execution_count": 70,
      "metadata": {
        "id": "b8hl0Pv-vXJJ"
      },
      "outputs": [],
      "source": [
        "with open('drive/MyDrive/model3_cv_pickle.sav', 'rb') as f:\n",
        "    model3_cv_results = pickle.load(f)"
      ]
    },
    {
      "cell_type": "code",
      "source": [
        "model3_cv_results.mean()"
      ],
      "metadata": {
        "id": "ylMKk6EUyIpE",
        "outputId": "fbc5e263-2445-4603-ea64-ad06b40138b3",
        "colab": {
          "base_uri": "https://localhost:8080/"
        }
      },
      "execution_count": 71,
      "outputs": [
        {
          "output_type": "execute_result",
          "data": {
            "text/plain": [
              "0.5520833432674408"
            ]
          },
          "metadata": {},
          "execution_count": 71
        }
      ]
    },
    {
      "cell_type": "code",
      "source": [
        "with open('drive/MyDrive/model3_results_pickle.sav', 'rb') as f:\n",
        "    model3_results = pickle.load(f)"
      ],
      "metadata": {
        "id": "npY-9zPkyIms"
      },
      "execution_count": 72,
      "outputs": []
    },
    {
      "cell_type": "code",
      "source": [
        "plot_results(model3_results)"
      ],
      "metadata": {
        "id": "aTOVAhJSTKDc",
        "outputId": "920a4525-e866-4cdd-b625-eb270217941c",
        "colab": {
          "base_uri": "https://localhost:8080/",
          "height": 336
        }
      },
      "execution_count": 73,
      "outputs": [
        {
          "output_type": "display_data",
          "data": {
            "text/plain": [
              "<Figure size 720x360 with 2 Axes>"
            ],
            "image/png": "[encoded data removed]"
          },
          "metadata": {
            "needs_background": "light"
          }
        }
      ]
    },
    {
      "cell_type": "code",
      "source": [
        "# with open('drive/MyDrive/model3_pickle.sav', 'rb') as f:\n",
        "#     model3 = pickle.load(f)"
      ],
      "metadata": {
        "id": "UFFBovZCTKA5"
      },
      "execution_count": 74,
      "outputs": []
    },
    {
      "cell_type": "markdown",
      "source": [
        "### Model 4"
      ],
      "metadata": {
        "id": "3OY3tpboq_5d"
      }
    },
    {
      "cell_type": "code",
      "source": [
        "adam = Adam(learning_rate=.0001)\n",
        "def build_model():\n",
        "    model = Sequential()\n",
        "\n",
        "    model.add(layers.Conv2D(16, (3,3), activation='relu', input_shape=(256,256,1)))\n",
        "    model.add(layers.MaxPool2D())\n",
        "    model.add(layers.Dropout(0.2))\n",
        "\n",
        "    model.add(layers.Conv2D(32, (7,7), activation='relu'))\n",
        "    model.add(layers.MaxPool2D())\n",
        "\n",
        "    model.add(layers.Conv2D(64, (5,5), activation='relu'))\n",
        "    model.add(layers.MaxPool2D())\n",
        "\n",
        "    model.add(layers.Flatten())\n",
        "\n",
        "    model.add(layers.Dense(128, activation='relu', kernel_regularizer=l2(.05)))\n",
        "    model.add(layers.Dropout(0.2))\n",
        "\n",
        "    model.add(layers.Dense(64, activation='relu'))\n",
        "    model.add(layers.Dropout(0.4))\n",
        "\n",
        "    model.add(layers.Dense(64, activation='relu', kernel_regularizer=l2(.1)))\n",
        "\n",
        "    model.add(layers.Dense(32, activation='relu'))\n",
        "\n",
        "    model.add(layers.Dense(1, activation='sigmoid'))\n",
        "\n",
        "    model.compile(optimizer=adam,\n",
        "                  loss='binary_crossentropy',\n",
        "                  metrics=['accuracy'])\n",
        "    \n",
        "    return model"
      ],
      "metadata": {
        "id": "Ff6FQ4Jxq_r5"
      },
      "execution_count": 75,
      "outputs": []
    },
    {
      "cell_type": "code",
      "source": [
        "model4 = scikit_learn.KerasClassifier(build_model,\n",
        "                                          epochs=25,\n",
        "                                          batch_size=32,\n",
        "                                          verbose=2)"
      ],
      "metadata": {
        "id": "LTezRKXsq_pR",
        "outputId": "6b634682-8746-4a89-fc24-c52665549a0c",
        "colab": {
          "base_uri": "https://localhost:8080/"
        }
      },
      "execution_count": 76,
      "outputs": [
        {
          "output_type": "stream",
          "name": "stderr",
          "text": [
            "/usr/local/lib/python3.7/dist-packages/ipykernel_launcher.py:4: DeprecationWarning: KerasClassifier is deprecated, use Sci-Keras (https://github.com/adriangb/scikeras) instead. See https://www.adriangb.com/scikeras/stable/migration.html for help migrating.\n",
            "  after removing the cwd from sys.path.\n"
          ]
        }
      ]
    },
    {
      "cell_type": "code",
      "source": [
        "with open('drive/MyDrive/model4_cv_pickle.sav', 'rb') as f:\n",
        "    model4_cv_results = pickle.load(f)"
      ],
      "metadata": {
        "id": "1csp47Yfq_jv"
      },
      "execution_count": 77,
      "outputs": []
    },
    {
      "cell_type": "code",
      "source": [
        "model4_cv_results.mean()"
      ],
      "metadata": {
        "id": "J3hSN1Flq_hS",
        "outputId": "b1f4baad-ec00-4af8-8ead-0c8b66ac366e",
        "colab": {
          "base_uri": "https://localhost:8080/"
        }
      },
      "execution_count": 78,
      "outputs": [
        {
          "output_type": "execute_result",
          "data": {
            "text/plain": [
              "0.531845235824585"
            ]
          },
          "metadata": {},
          "execution_count": 78
        }
      ]
    },
    {
      "cell_type": "code",
      "source": [
        "with open('drive/MyDrive/model4_results_pickle.sav', 'rb') as f:\n",
        "    model4_results = pickle.load(f)"
      ],
      "metadata": {
        "id": "mr7QuOPoq_ed"
      },
      "execution_count": 79,
      "outputs": []
    },
    {
      "cell_type": "code",
      "source": [
        "plot_results(model4_results)"
      ],
      "metadata": {
        "id": "0-XXQk7Bq_bx",
        "outputId": "64b134e5-1082-4398-f5be-402e4c26c7d7",
        "colab": {
          "base_uri": "https://localhost:8080/",
          "height": 336
        }
      },
      "execution_count": 80,
      "outputs": [
        {
          "output_type": "display_data",
          "data": {
            "text/plain": [
              "<Figure size 720x360 with 2 Axes>"
            ],
            "image/png": "[encoded data removed]"
          },
          "metadata": {
            "needs_background": "light"
          }
        }
      ]
    },
    {
      "cell_type": "code",
      "source": [
        "# with open('drive/MyDrive/model4_pickle.sav', 'rb') as f:\n",
        "#     model4 = pickle.load(f)"
      ],
      "metadata": {
        "id": "R6qC6CNnr9DZ"
      },
      "execution_count": 81,
      "outputs": []
    },
    {
      "cell_type": "markdown",
      "source": [
        "### Model 5 VGG16"
      ],
      "metadata": {
        "id": "_QSJKzSDxNzj"
      }
    },
    {
      "cell_type": "code",
      "source": [
        "# vgg16 = VGG16(input_shape=(224,224, 3), classes=1, include_top=False, classifier_activation='sigmoid')\n",
        "# model5 = Sequential()\n",
        "# model5.add(vgg16)\n",
        "# model5.add(layers.Flatten())\n",
        "# model5.add(layers.Dense(1, activation='sigmoid'))\n",
        "# adam = Adam(learning_rate=.0001)\n",
        "# model5.compile(optimizer=adam,\n",
        "#                   loss='binary_crossentropy',\n",
        "#                   metrics=['accuracy'])"
      ],
      "metadata": {
        "id": "2pMUPPybxNoD"
      },
      "execution_count": null,
      "outputs": []
    },
    {
      "cell_type": "code",
      "source": [
        "with open('drive/MyDrive/model5_results_pickle.sav', 'rb') as f:\n",
        "    model5_results = pickle.load(f)"
      ],
      "metadata": {
        "id": "s27ux5pZxNhb"
      },
      "execution_count": 82,
      "outputs": []
    },
    {
      "cell_type": "code",
      "source": [
        "accuracy = model5_results.history['accuracy']\n",
        "validation_accuracy = model5_results.history['val_accuracy']\n",
        "\n",
        "loss = model5_results.history['loss']\n",
        "validation_loss =  model5_results.history['val_loss']"
      ],
      "metadata": {
        "id": "c3xbXZoqzrTB"
      },
      "execution_count": 90,
      "outputs": []
    },
    {
      "cell_type": "code",
      "source": [
        "print(f'Accuracy: {accuracy[0]}')\n",
        "print(f'Validation Accuracy: {validation_accuracy[0]}')\n",
        "print(f'Loss: {loss[0]}')\n",
        "print(f'Validation Loss: {validation_loss[0]}')"
      ],
      "metadata": {
        "id": "VQ7MDPXc0i-X",
        "outputId": "02eba21f-0b03-47a2-de98-b16dd8f8f0ad",
        "colab": {
          "base_uri": "https://localhost:8080/"
        }
      },
      "execution_count": 95,
      "outputs": [
        {
          "output_type": "stream",
          "name": "stdout",
          "text": [
            "Accuracy: 0.5107886791229248\n",
            "Validation Accuracy: 0.555059552192688\n",
            "Loss: 0.7597837448120117\n",
            "Validation Loss: 0.6887924075126648\n"
          ]
        }
      ]
    },
    {
      "cell_type": "code",
      "source": [
        "# with open('drive/MyDrive/model5_pickle.sav', 'rb') as f:\n",
        "#     model5 = pickle.load(f)"
      ],
      "metadata": {
        "id": "0ZoUzU1_xNWa"
      },
      "execution_count": null,
      "outputs": []
    },
    {
      "cell_type": "markdown",
      "metadata": {
        "id": "1Qs-_MbpvXJK"
      },
      "source": [
        "## Final Model Evaluation"
      ]
    },
    {
      "cell_type": "code",
      "execution_count": 96,
      "metadata": {
        "id": "vZcXfMrJvXJK"
      },
      "outputs": [],
      "source": [
        "with open('drive/MyDrive/model4_pickle.sav', 'rb') as f:\n",
        "    final_model = pickle.load(f)"
      ]
    },
    {
      "cell_type": "code",
      "execution_count": 97,
      "metadata": {
        "id": "fVB30uYRvXJK",
        "outputId": "18213156-f48d-4de4-85c6-86a8fc9ead80",
        "colab": {
          "base_uri": "https://localhost:8080/"
        }
      },
      "outputs": [
        {
          "output_type": "stream",
          "name": "stdout",
          "text": [
            "2/2 - 3s - loss: 3.6901 - accuracy: 0.0000e+00 - 3s/epoch - 1s/step\n"
          ]
        },
        {
          "output_type": "execute_result",
          "data": {
            "text/plain": [
              "0.0"
            ]
          },
          "metadata": {},
          "execution_count": 97
        }
      ],
      "source": [
        "final_model.score(X_test, y_test)"
      ]
    },
    {
      "cell_type": "code",
      "execution_count": 98,
      "metadata": {
        "id": "xkqi_fx9vXJK",
        "outputId": "31db0ee8-7fe3-4709-af4b-d5d286c6360b",
        "colab": {
          "base_uri": "https://localhost:8080/",
          "height": 340
        }
      },
      "outputs": [
        {
          "output_type": "error",
          "ename": "IndexError",
          "evalue": "ignored",
          "traceback": [
            "\u001b[0;31m---------------------------------------------------------------------------\u001b[0m",
            "\u001b[0;31mIndexError\u001b[0m                                Traceback (most recent call last)",
            "\u001b[0;32m<ipython-input-98-f5661c188750>\u001b[0m in \u001b[0;36m<module>\u001b[0;34m()\u001b[0m\n\u001b[0;32m----> 1\u001b[0;31m \u001b[0mpreds\u001b[0m \u001b[0;34m=\u001b[0m \u001b[0mfinal_model\u001b[0m\u001b[0;34m.\u001b[0m\u001b[0mpredict\u001b[0m\u001b[0;34m(\u001b[0m\u001b[0mX_test\u001b[0m\u001b[0;34m)\u001b[0m\u001b[0;34m\u001b[0m\u001b[0;34m\u001b[0m\u001b[0m\n\u001b[0m\u001b[1;32m      2\u001b[0m \u001b[0mcm\u001b[0m \u001b[0;34m=\u001b[0m \u001b[0mconfusion_matrix\u001b[0m\u001b[0;34m(\u001b[0m\u001b[0my_test\u001b[0m\u001b[0;34m,\u001b[0m \u001b[0mpreds\u001b[0m\u001b[0;34m)\u001b[0m\u001b[0;34m\u001b[0m\u001b[0;34m\u001b[0m\u001b[0m\n\u001b[1;32m      3\u001b[0m \u001b[0msns\u001b[0m\u001b[0;34m.\u001b[0m\u001b[0mheatmap\u001b[0m\u001b[0;34m(\u001b[0m\u001b[0mcm\u001b[0m\u001b[0;34m,\u001b[0m \u001b[0mannot\u001b[0m\u001b[0;34m=\u001b[0m\u001b[0;32mTrue\u001b[0m\u001b[0;34m,\u001b[0m \u001b[0mcmap\u001b[0m\u001b[0;34m=\u001b[0m\u001b[0;34m'Blues'\u001b[0m\u001b[0;34m)\u001b[0m\u001b[0;34m\u001b[0m\u001b[0;34m\u001b[0m\u001b[0m\n",
            "\u001b[0;32m/usr/local/lib/python3.7/dist-packages/keras/wrappers/scikit_learn.py\u001b[0m in \u001b[0;36mpredict\u001b[0;34m(self, x, **kwargs)\u001b[0m\n\u001b[1;32m    256\u001b[0m     \u001b[0;32melse\u001b[0m\u001b[0;34m:\u001b[0m\u001b[0;34m\u001b[0m\u001b[0;34m\u001b[0m\u001b[0m\n\u001b[1;32m    257\u001b[0m       \u001b[0mclasses\u001b[0m \u001b[0;34m=\u001b[0m \u001b[0;34m(\u001b[0m\u001b[0mproba\u001b[0m \u001b[0;34m>\u001b[0m \u001b[0;36m0.5\u001b[0m\u001b[0;34m)\u001b[0m\u001b[0;34m.\u001b[0m\u001b[0mastype\u001b[0m\u001b[0;34m(\u001b[0m\u001b[0;34m'int32'\u001b[0m\u001b[0;34m)\u001b[0m\u001b[0;34m\u001b[0m\u001b[0;34m\u001b[0m\u001b[0m\n\u001b[0;32m--> 258\u001b[0;31m     \u001b[0;32mreturn\u001b[0m \u001b[0mself\u001b[0m\u001b[0;34m.\u001b[0m\u001b[0mclasses_\u001b[0m\u001b[0;34m[\u001b[0m\u001b[0mclasses\u001b[0m\u001b[0;34m]\u001b[0m\u001b[0;34m\u001b[0m\u001b[0;34m\u001b[0m\u001b[0m\n\u001b[0m\u001b[1;32m    259\u001b[0m \u001b[0;34m\u001b[0m\u001b[0m\n\u001b[1;32m    260\u001b[0m   \u001b[0;32mdef\u001b[0m \u001b[0mpredict_proba\u001b[0m\u001b[0;34m(\u001b[0m\u001b[0mself\u001b[0m\u001b[0;34m,\u001b[0m \u001b[0mx\u001b[0m\u001b[0;34m,\u001b[0m \u001b[0;34m**\u001b[0m\u001b[0mkwargs\u001b[0m\u001b[0;34m)\u001b[0m\u001b[0;34m:\u001b[0m\u001b[0;34m\u001b[0m\u001b[0;34m\u001b[0m\u001b[0m\n",
            "\u001b[0;31mIndexError\u001b[0m: index 2 is out of bounds for axis 0 with size 2"
          ]
        }
      ],
      "source": [
        "preds = final_model.predict(X_test)\n",
        "cm = confusion_matrix(y_test, preds)\n",
        "sns.heatmap(cm, annot=True, cmap='Blues')"
      ]
    },
    {
      "cell_type": "code",
      "execution_count": null,
      "metadata": {
        "id": "wgb5tzBRvXJK"
      },
      "outputs": [],
      "source": [
        "# generate a no skill prediction (majority class)\n",
        "ns_probs = [0 for _ in range(len(y_test))]\n",
        "# predict probabilities\n",
        "lr_probs = final_model.predict_proba(X_test)\n",
        "# keep probabilities for the positive outcome only\n",
        "lr_probs = lr_probs[:, 1]\n",
        "# calculate scores\n",
        "ns_auc = roc_auc_score(y_test, ns_probs)\n",
        "lr_auc = round((roc_auc_score(y_test, lr_probs)), 2)\n",
        "# calculate roc curves\n",
        "ns_fpr, ns_tpr, _ = roc_curve(y_test, ns_probs)\n",
        "lr_fpr, lr_tpr, _ = roc_curve(y_test, lr_probs)\n",
        "# plot the roc curve for the model\n",
        "plt.plot(lr_fpr, lr_tpr, label=f'Pipeline(AUC = {lr_auc})', color='steelblue')\n",
        "# show the legend\n",
        "plt.legend(loc='lower right')"
      ]
    },
    {
      "cell_type": "markdown",
      "metadata": {
        "id": "qCY6i90KvXJK"
      },
      "source": [
        "## Next Steps and Limitations"
      ]
    },
    {
      "cell_type": "markdown",
      "metadata": {
        "id": "f-P2Xf3NvXJK"
      },
      "source": [
        "- More data = better models\n",
        "- More time = more models\n",
        "- Different hardware = faster modeling runtime = more time"
      ]
    },
    {
      "cell_type": "markdown",
      "metadata": {
        "id": "vhC2bUenvXJK"
      },
      "source": [
        "## Conclusion"
      ]
    }
  ],
  "metadata": {
    "kernelspec": {
      "display_name": "tf-test",
      "language": "python",
      "name": "tf-test"
    },
    "language_info": {
      "codemirror_mode": {
        "name": "ipython",
        "version": 3
      },
      "file_extension": ".py",
      "mimetype": "text/x-python",
      "name": "python",
      "nbconvert_exporter": "python",
      "pygments_lexer": "ipython3",
      "version": "3.6.13"
    },
    "toc": {
      "base_numbering": 1,
      "nav_menu": {},
      "number_sections": true,
      "sideBar": true,
      "skip_h1_title": false,
      "title_cell": "Table of Contents",
      "title_sidebar": "Contents",
      "toc_cell": false,
      "toc_position": {},
      "toc_section_display": true,
      "toc_window_display": false
    },
    "colab": {
      "name": "Signature_Classification.ipynb",
      "provenance": []
    }
  },
  "nbformat": 4,
  "nbformat_minor": 0
}