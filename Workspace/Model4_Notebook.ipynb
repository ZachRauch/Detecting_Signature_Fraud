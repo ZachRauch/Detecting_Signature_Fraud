{
  "cells": [
    {
      "cell_type": "markdown",
      "metadata": {
        "id": "0u7YTY_2VMo5"
      },
      "source": [
        "# Signature Classification"
      ]
    },
    {
      "cell_type": "markdown",
      "metadata": {
        "id": "xjUEM33ZVMo8"
      },
      "source": [
        "![img](https://github.com/ZachRauch/Signature_Classification/blob/main/images/signature_banner.jpeg?raw=1)"
      ]
    },
    {
      "cell_type": "markdown",
      "metadata": {
        "id": "pMutZcPfVMo8"
      },
      "source": [
        "## Overview"
      ]
    },
    {
      "cell_type": "markdown",
      "metadata": {
        "id": "A3nz0P2pVMo8"
      },
      "source": [
        "The aim of this analysis is to identify fraudulent signatures in a dataset. My audience here is _______. Using just a small dataset with only 300 sample I was able to create a "
      ]
    },
    {
      "cell_type": "markdown",
      "metadata": {
        "id": "zTaZIfQdVMo8"
      },
      "source": [
        "## Business Problem"
      ]
    },
    {
      "cell_type": "markdown",
      "metadata": {
        "id": "Mb3CrM7uVMo9"
      },
      "source": [
        "Currently institutions and businesses recognize signatures as the primary way of authenticating transactions. Signatures are used to sign checks, authorize documents and contracts, and validate credit card transactions. According to recent studies, check fraud costs banks about $900M a year with 22 percent of all fraudulent checks attributed to signature fraud. Therefor, creating an algorithm to identify signature fraud is a valuable asset. "
      ]
    },
    {
      "cell_type": "code",
      "execution_count": null,
      "metadata": {
        "id": "BOSvcOrbVMo9"
      },
      "outputs": [],
      "source": [
        ""
      ]
    },
    {
      "cell_type": "markdown",
      "metadata": {
        "id": "yPdUjdUbVMo-"
      },
      "source": [
        "## Imports"
      ]
    },
    {
      "cell_type": "code",
      "execution_count": 1,
      "metadata": {
        "ExecuteTime": {
          "end_time": "2022-05-23T14:37:08.394347Z",
          "start_time": "2022-05-23T14:37:04.340878Z"
        },
        "id": "nVM33V7MVMo-"
      },
      "outputs": [],
      "source": [
        "import pandas as pd\n",
        "import numpy as np\n",
        "import matplotlib.pyplot as plt\n",
        "%matplotlib inline\n",
        "import seaborn as sns\n",
        "import tensorflow as tf\n",
        "from tensorflow.keras.models import Sequential\n",
        "import zipfile\n",
        "from tensorflow.keras.preprocessing.image import ImageDataGenerator, array_to_img, img_to_array, load_img\n",
        "from tensorflow.keras import models, layers, optimizers, metrics, regularizers, losses\n",
        "from tensorflow.keras.wrappers import scikit_learn\n",
        "from tensorflow.keras.regularizers import l2\n",
        "from tensorflow.keras.callbacks import ModelCheckpoint\n",
        "\n",
        "from sklearn.model_selection import train_test_split, cross_val_score\n",
        "from sklearn.dummy import DummyClassifier\n",
        "from sklearn.metrics import auc, recall_score, precision_score, \\\n",
        "                            confusion_matrix, plot_confusion_matrix, \\\n",
        "                            roc_auc_score, roc_curve\n",
        "from tensorflow.keras.optimizers import SGD, Adam\n",
        "import pickle\n",
        "\n",
        "\n",
        "seed = 777\n",
        "tf.random.set_seed(seed)\n",
        "np.random.seed(seed)"
      ]
    },
    {
      "cell_type": "markdown",
      "metadata": {
        "id": "ZIokb6aUVMo_"
      },
      "source": [
        "## Colab Necessary Code"
      ]
    },
    {
      "cell_type": "markdown",
      "metadata": {
        "id": "7oNb5f32VMpA"
      },
      "source": [
        "Google Colab was used to help streamline the modeling process. Modeling using Convolutional Neural Networks can be computationally expensive, so if you would like to run this notebook faster, I would recommend creating a Colab account and storing the data, discussed below, in a Google Drive file. "
      ]
    },
    {
      "cell_type": "code",
      "execution_count": 2,
      "metadata": {
        "ExecuteTime": {
          "end_time": "2022-05-23T14:37:08.397228Z",
          "start_time": "2022-05-23T14:37:08.395733Z"
        },
        "colab": {
          "base_uri": "https://localhost:8080/"
        },
        "id": "tU9iM7l-VMpA",
        "outputId": "86397ee7-b2ed-448f-cabb-04fb3faa6eb9"
      },
      "outputs": [
        {
          "output_type": "stream",
          "name": "stdout",
          "text": [
            "Drive already mounted at /content/drive; to attempt to forcibly remount, call drive.mount(\"/content/drive\", force_remount=True).\n"
          ]
        }
      ],
      "source": [
        "from google.colab import drive\n",
        "drive.mount('/content/drive')"
      ]
    },
    {
      "cell_type": "markdown",
      "metadata": {
        "id": "VXjqDovJVMpA"
      },
      "source": [
        "## Data"
      ]
    },
    {
      "cell_type": "markdown",
      "metadata": {
        "id": "2xfU2eEtVMpA"
      },
      "source": [
        "The data used in this notebook can be found [here](https://www.kaggle.com/datasets/divyanshrai/handwritten-signatures). The dataset contains just 300 samples of genuine and forged signatures from 30 people, of which 50 percent are genuine and 50 percent are forged. "
      ]
    },
    {
      "cell_type": "code",
      "execution_count": 3,
      "metadata": {
        "ExecuteTime": {
          "end_time": "2022-05-23T14:37:08.402015Z",
          "start_time": "2022-05-23T14:37:08.400250Z"
        },
        "id": "teE595ANVMpA"
      },
      "outputs": [],
      "source": [
        "# instantiate ImageDataGenerator scaling each pixel's values down to a scale of 1\n",
        "img = ImageDataGenerator(rescale=1/255)"
      ]
    },
    {
      "cell_type": "code",
      "execution_count": 4,
      "metadata": {
        "ExecuteTime": {
          "end_time": "2022-05-23T14:37:08.405039Z",
          "start_time": "2022-05-23T14:37:08.403576Z"
        },
        "id": "koM9NmKQVMpB"
      },
      "outputs": [],
      "source": [
        "# data_path = '../Data/sample_Signature/sample_Signature/'\n",
        "# For Colab \n",
        "data_path = '/content/drive/MyDrive/sample_Signature/sample_Signature/'"
      ]
    },
    {
      "cell_type": "code",
      "execution_count": 5,
      "metadata": {
        "ExecuteTime": {
          "end_time": "2022-05-23T14:37:08.517937Z",
          "start_time": "2022-05-23T14:37:08.406114Z"
        },
        "colab": {
          "base_uri": "https://localhost:8080/"
        },
        "id": "_0ozmoZ0VMpB",
        "outputId": "a7f6411b-e3de-40c4-ea6c-20d79c64467b",
        "scrolled": false
      },
      "outputs": [
        {
          "output_type": "stream",
          "name": "stdout",
          "text": [
            "Found 300 images belonging to 2 classes.\n"
          ]
        }
      ],
      "source": [
        "# Importing the data\n",
        "data = img.flow_from_directory(data_path, color_mode='grayscale',\\\n",
        "                               batch_size=300, class_mode='binary')"
      ]
    },
    {
      "cell_type": "code",
      "execution_count": 6,
      "metadata": {
        "ExecuteTime": {
          "end_time": "2022-05-23T14:37:08.526273Z",
          "start_time": "2022-05-23T14:37:08.519403Z"
        },
        "colab": {
          "base_uri": "https://localhost:8080/"
        },
        "id": "Z4x8cSpYVMpB",
        "outputId": "c8f4d6b7-a5da-45ae-cd1c-6d17c689c3bf"
      },
      "outputs": [
        {
          "output_type": "execute_result",
          "data": {
            "text/plain": [
              "{'forged': 0, 'genuine': 1}"
            ]
          },
          "metadata": {},
          "execution_count": 6
        }
      ],
      "source": [
        "data.class_indices"
      ]
    },
    {
      "cell_type": "code",
      "execution_count": 7,
      "metadata": {
        "ExecuteTime": {
          "end_time": "2022-05-23T14:37:11.825565Z",
          "start_time": "2022-05-23T14:37:08.527770Z"
        },
        "id": "6qJmZYLlVMpB"
      },
      "outputs": [],
      "source": [
        "data_images, data_labels = next(data)"
      ]
    },
    {
      "cell_type": "code",
      "execution_count": 8,
      "metadata": {
        "ExecuteTime": {
          "end_time": "2022-05-23T14:37:11.829359Z",
          "start_time": "2022-05-23T14:37:11.826636Z"
        },
        "colab": {
          "base_uri": "https://localhost:8080/"
        },
        "id": "eHOpWE8fVMpB",
        "outputId": "62ab45c5-9321-4349-d092-86dc4677f2b1"
      },
      "outputs": [
        {
          "output_type": "execute_result",
          "data": {
            "text/plain": [
              "(300, 256, 256, 1)"
            ]
          },
          "metadata": {},
          "execution_count": 8
        }
      ],
      "source": [
        "data_images.shape"
      ]
    },
    {
      "cell_type": "code",
      "execution_count": 9,
      "metadata": {
        "ExecuteTime": {
          "end_time": "2022-05-23T14:37:11.832271Z",
          "start_time": "2022-05-23T14:37:11.830100Z"
        },
        "colab": {
          "base_uri": "https://localhost:8080/"
        },
        "id": "RQFzzw2wVMpB",
        "outputId": "fa596b4b-1835-4b89-8c38-12a8acc7f98c"
      },
      "outputs": [
        {
          "output_type": "execute_result",
          "data": {
            "text/plain": [
              "(300,)"
            ]
          },
          "metadata": {},
          "execution_count": 9
        }
      ],
      "source": [
        "data_labels.shape"
      ]
    },
    {
      "cell_type": "code",
      "execution_count": 10,
      "metadata": {
        "ExecuteTime": {
          "end_time": "2022-05-23T14:37:11.888774Z",
          "start_time": "2022-05-23T14:37:11.833177Z"
        },
        "id": "Eae0xFITVMpC"
      },
      "outputs": [],
      "source": [
        "X_train, X_test, y_train, y_test = train_test_split( \\\n",
        "            data_images, data_labels, random_state=seed, test_size=.2)"
      ]
    },
    {
      "cell_type": "code",
      "execution_count": 11,
      "metadata": {
        "ExecuteTime": {
          "end_time": "2022-05-23T14:37:11.893566Z",
          "start_time": "2022-05-23T14:37:11.890017Z"
        },
        "colab": {
          "base_uri": "https://localhost:8080/"
        },
        "id": "NMHbV_qeVMpC",
        "outputId": "8e71cfc5-23e2-4e48-9a13-4f9407c859ba"
      },
      "outputs": [
        {
          "output_type": "execute_result",
          "data": {
            "text/plain": [
              "(240, 256, 256, 1)"
            ]
          },
          "metadata": {},
          "execution_count": 11
        }
      ],
      "source": [
        "X_train.shape"
      ]
    },
    {
      "cell_type": "code",
      "execution_count": 12,
      "metadata": {
        "ExecuteTime": {
          "end_time": "2022-05-23T14:37:11.897926Z",
          "start_time": "2022-05-23T14:37:11.894542Z"
        },
        "colab": {
          "base_uri": "https://localhost:8080/"
        },
        "id": "IyH2XoyRVMpC",
        "outputId": "2402e48a-0980-4b30-ad6b-bdb230371a90",
        "scrolled": true
      },
      "outputs": [
        {
          "output_type": "execute_result",
          "data": {
            "text/plain": [
              "(240,)"
            ]
          },
          "metadata": {},
          "execution_count": 12
        }
      ],
      "source": [
        "y_train.shape"
      ]
    },
    {
      "cell_type": "markdown",
      "metadata": {
        "id": "fNf9MK9tVMpC"
      },
      "source": [
        "Above we instantiate Keras' ImageDataGenerator which will scale each pixel's values down to a value of 1. Next we import the data and separate into the images themselves and their respective labels. Finally we split it into a train and test dataset."
      ]
    },
    {
      "cell_type": "markdown",
      "metadata": {
        "id": "KjCHLRtrVMpC"
      },
      "source": [
        "### Image Augmentation"
      ]
    },
    {
      "cell_type": "markdown",
      "metadata": {
        "id": "awA4mx5rVMpC"
      },
      "source": [
        "Because we have such a small dataset it is important to use image augmentation to artificially expand the training dataset. Below we do several forms of data augmentation individually before combining the techniques at the end."
      ]
    },
    {
      "cell_type": "markdown",
      "metadata": {
        "id": "dSXIKgZ_VMpC"
      },
      "source": [
        "#### Zoom Augmentation"
      ]
    },
    {
      "cell_type": "markdown",
      "metadata": {
        "id": "7Src6KPVVMpC"
      },
      "source": [
        "The first technique we explore is zoom range. Entering a range of values, .25 and 1 in this case, randomly applies a zoom to each image within that range."
      ]
    },
    {
      "cell_type": "code",
      "execution_count": 13,
      "metadata": {
        "ExecuteTime": {
          "end_time": "2022-05-23T14:37:11.925857Z",
          "start_time": "2022-05-23T14:37:11.901105Z"
        },
        "id": "RjujmkZjVMpC"
      },
      "outputs": [],
      "source": [
        "aug = ImageDataGenerator(zoom_range=[.25,1])\n",
        "aug.fit(X_train)\n",
        "aug_data = aug.flow(X_train, y_train, batch_size=240)"
      ]
    },
    {
      "cell_type": "code",
      "execution_count": 14,
      "metadata": {
        "ExecuteTime": {
          "end_time": "2022-05-23T14:37:12.810455Z",
          "start_time": "2022-05-23T14:37:11.926820Z"
        },
        "id": "aj8qvOS0VMpC"
      },
      "outputs": [],
      "source": [
        "aug_images, aug_labels = next(aug_data)"
      ]
    },
    {
      "cell_type": "code",
      "execution_count": 15,
      "metadata": {
        "ExecuteTime": {
          "end_time": "2022-05-23T14:37:12.814052Z",
          "start_time": "2022-05-23T14:37:12.811562Z"
        },
        "colab": {
          "base_uri": "https://localhost:8080/"
        },
        "id": "nV0e-1mtVMpC",
        "outputId": "83df3c4c-7612-47b0-a710-3f77ed9feb54"
      },
      "outputs": [
        {
          "output_type": "execute_result",
          "data": {
            "text/plain": [
              "(240, 256, 256, 1)"
            ]
          },
          "metadata": {},
          "execution_count": 15
        }
      ],
      "source": [
        "aug_images.shape"
      ]
    },
    {
      "cell_type": "code",
      "execution_count": 16,
      "metadata": {
        "ExecuteTime": {
          "end_time": "2022-05-23T14:37:12.816951Z",
          "start_time": "2022-05-23T14:37:12.814825Z"
        },
        "colab": {
          "base_uri": "https://localhost:8080/"
        },
        "id": "HitjcbxcVMpC",
        "outputId": "40b518af-d325-41a4-a421-ff44070721ce",
        "scrolled": false
      },
      "outputs": [
        {
          "output_type": "execute_result",
          "data": {
            "text/plain": [
              "(240,)"
            ]
          },
          "metadata": {},
          "execution_count": 16
        }
      ],
      "source": [
        "aug_labels.shape"
      ]
    },
    {
      "cell_type": "code",
      "execution_count": 17,
      "metadata": {
        "ExecuteTime": {
          "end_time": "2022-05-23T14:37:12.822840Z",
          "start_time": "2022-05-23T14:37:12.817656Z"
        },
        "colab": {
          "base_uri": "https://localhost:8080/",
          "height": 0
        },
        "id": "XpH8jFWvVMpC",
        "outputId": "ece05057-7c96-46c4-ee3f-f8ca101ffe53",
        "scrolled": true
      },
      "outputs": [
        {
          "output_type": "execute_result",
          "data": {
            "text/plain": [
              "<PIL.Image.Image image mode=L size=256x256 at 0x7F3E04CF4A10>"
            ],
            "image/png": "[encoded data removed]"
          },
          "metadata": {},
          "execution_count": 17
        }
      ],
      "source": [
        "array_to_img(aug_images[0])"
      ]
    },
    {
      "cell_type": "code",
      "execution_count": 18,
      "metadata": {
        "ExecuteTime": {
          "end_time": "2022-05-23T14:37:12.870297Z",
          "start_time": "2022-05-23T14:37:12.823934Z"
        },
        "id": "OZfqxBbFVMpD"
      },
      "outputs": [],
      "source": [
        "new_images1 = np.concatenate([X_train, aug_images])\n",
        "new_labels1 = np.concatenate([y_train, aug_labels])"
      ]
    },
    {
      "cell_type": "code",
      "execution_count": 19,
      "metadata": {
        "ExecuteTime": {
          "end_time": "2022-05-23T14:37:12.875326Z",
          "start_time": "2022-05-23T14:37:12.871437Z"
        },
        "colab": {
          "base_uri": "https://localhost:8080/"
        },
        "id": "kz_W3IftVMpD",
        "outputId": "998ba3f5-d52f-4c10-d9f6-328f3fe12d15"
      },
      "outputs": [
        {
          "output_type": "execute_result",
          "data": {
            "text/plain": [
              "(480, 256, 256, 1)"
            ]
          },
          "metadata": {},
          "execution_count": 19
        }
      ],
      "source": [
        "new_images1.shape"
      ]
    },
    {
      "cell_type": "code",
      "execution_count": 20,
      "metadata": {
        "ExecuteTime": {
          "end_time": "2022-05-23T14:37:12.879471Z",
          "start_time": "2022-05-23T14:37:12.876344Z"
        },
        "colab": {
          "base_uri": "https://localhost:8080/"
        },
        "id": "4SBvqi0mVMpD",
        "outputId": "23008151-9495-434e-d151-b9b0ff17dbfb",
        "scrolled": true
      },
      "outputs": [
        {
          "output_type": "execute_result",
          "data": {
            "text/plain": [
              "(480,)"
            ]
          },
          "metadata": {},
          "execution_count": 20
        }
      ],
      "source": [
        "new_labels1.shape"
      ]
    },
    {
      "cell_type": "markdown",
      "metadata": {
        "id": "fOXrvLp2VMpD"
      },
      "source": [
        "#### Width Augmentation"
      ]
    },
    {
      "cell_type": "markdown",
      "metadata": {
        "id": "y2WYL6XeVMpD"
      },
      "source": [
        "The next method for augmentation used was width shift range. With a range of .3 the images will be randomly assigned a width down to .3 of the original image size. "
      ]
    },
    {
      "cell_type": "code",
      "execution_count": 21,
      "metadata": {
        "ExecuteTime": {
          "end_time": "2022-05-23T14:37:12.904430Z",
          "start_time": "2022-05-23T14:37:12.880692Z"
        },
        "id": "vRXsAvgpVMpD"
      },
      "outputs": [],
      "source": [
        "aug = ImageDataGenerator(width_shift_range=.3)\n",
        "aug.fit(X_train)\n",
        "aug2_data = aug.flow(X_train, y_train, batch_size=240)"
      ]
    },
    {
      "cell_type": "code",
      "execution_count": 22,
      "metadata": {
        "ExecuteTime": {
          "end_time": "2022-05-23T14:37:13.836303Z",
          "start_time": "2022-05-23T14:37:12.905556Z"
        },
        "id": "5JsawItTVMpD"
      },
      "outputs": [],
      "source": [
        "aug2_images, aug2_labels = next(aug2_data)"
      ]
    },
    {
      "cell_type": "code",
      "execution_count": 23,
      "metadata": {
        "ExecuteTime": {
          "end_time": "2022-05-23T14:37:13.970198Z",
          "start_time": "2022-05-23T14:37:13.837257Z"
        },
        "id": "tTYNA-_FVMpD"
      },
      "outputs": [],
      "source": [
        "new_images2 = np.concatenate([new_images1, aug2_images])\n",
        "new_labels2 = np.concatenate([new_labels1, aug2_labels])"
      ]
    },
    {
      "cell_type": "markdown",
      "metadata": {
        "id": "yTt4dtS0VMpD"
      },
      "source": [
        "#### Height Augmentation"
      ]
    },
    {
      "cell_type": "markdown",
      "metadata": {
        "id": "B_3cqar6VMpD"
      },
      "source": [
        "The next method for augmentation used was height shift range. With a range of .3 the images will be randomly assigned a height down to .3 of the original image size."
      ]
    },
    {
      "cell_type": "code",
      "execution_count": 24,
      "metadata": {
        "ExecuteTime": {
          "end_time": "2022-05-23T14:37:13.994817Z",
          "start_time": "2022-05-23T14:37:13.971519Z"
        },
        "id": "JMp9DIJdVMpD"
      },
      "outputs": [],
      "source": [
        "aug = ImageDataGenerator(height_shift_range=.3)\n",
        "aug.fit(X_train)\n",
        "aug3_data = aug.flow(X_train, y_train, batch_size=240)"
      ]
    },
    {
      "cell_type": "code",
      "execution_count": 25,
      "metadata": {
        "ExecuteTime": {
          "end_time": "2022-05-23T14:37:14.909526Z",
          "start_time": "2022-05-23T14:37:13.995765Z"
        },
        "id": "fkHjqgyzVMpD"
      },
      "outputs": [],
      "source": [
        "aug3_images, aug3_labels = next(aug3_data)"
      ]
    },
    {
      "cell_type": "code",
      "execution_count": 26,
      "metadata": {
        "ExecuteTime": {
          "end_time": "2022-05-23T14:37:15.082265Z",
          "start_time": "2022-05-23T14:37:14.910455Z"
        },
        "id": "8LLpw__3VMpD"
      },
      "outputs": [],
      "source": [
        "new_images3 = np.concatenate([new_images2, aug3_images])\n",
        "new_labels3 = np.concatenate([new_labels2, aug3_labels])"
      ]
    },
    {
      "cell_type": "markdown",
      "metadata": {
        "ExecuteTime": {
          "end_time": "2022-05-18T18:10:53.996172Z",
          "start_time": "2022-05-18T18:10:53.989621Z"
        },
        "id": "-CzmvIhBVMpD"
      },
      "source": [
        "#### Rotation Augmentation"
      ]
    },
    {
      "cell_type": "markdown",
      "metadata": {
        "ExecuteTime": {
          "end_time": "2022-05-20T18:31:05.497987Z",
          "start_time": "2022-05-20T18:31:05.418085Z"
        },
        "id": "Zc9ICCBUVMpD"
      },
      "source": [
        "Next we apply a random rotation to each image up to 30 degrees."
      ]
    },
    {
      "cell_type": "code",
      "execution_count": 27,
      "metadata": {
        "ExecuteTime": {
          "end_time": "2022-05-23T14:37:15.104454Z",
          "start_time": "2022-05-23T14:37:15.083345Z"
        },
        "id": "r2wYlSbGVMpD"
      },
      "outputs": [],
      "source": [
        "aug = ImageDataGenerator(rotation_range=30)\n",
        "aug.fit(X_train)\n",
        "aug4_data = aug.flow(X_train, y_train, batch_size=240)"
      ]
    },
    {
      "cell_type": "code",
      "execution_count": 28,
      "metadata": {
        "ExecuteTime": {
          "end_time": "2022-05-23T14:37:16.015689Z",
          "start_time": "2022-05-23T14:37:15.105400Z"
        },
        "id": "Eltvmy_pVMpD"
      },
      "outputs": [],
      "source": [
        "aug4_images, aug4_labels = next(aug4_data)"
      ]
    },
    {
      "cell_type": "code",
      "execution_count": 29,
      "metadata": {
        "ExecuteTime": {
          "end_time": "2022-05-23T14:37:16.227785Z",
          "start_time": "2022-05-23T14:37:16.016782Z"
        },
        "id": "7Oyz8kNFVMpD"
      },
      "outputs": [],
      "source": [
        "new_images4 = np.concatenate([new_images3, aug4_images])\n",
        "new_labels4 = np.concatenate([new_labels3, aug4_labels])"
      ]
    },
    {
      "cell_type": "markdown",
      "metadata": {
        "id": "zrVoakjgVMpE"
      },
      "source": [
        "#### Shear Augmentation"
      ]
    },
    {
      "cell_type": "markdown",
      "metadata": {
        "id": "4MhkPjfRVMpE"
      },
      "source": [
        "We then apply a random shear value to each image. This angles the corners of each image up to 30 degrees."
      ]
    },
    {
      "cell_type": "code",
      "execution_count": 30,
      "metadata": {
        "ExecuteTime": {
          "end_time": "2022-05-23T14:37:16.271825Z",
          "start_time": "2022-05-23T14:37:16.228737Z"
        },
        "id": "A98t7WqlVMpE"
      },
      "outputs": [],
      "source": [
        "aug = ImageDataGenerator(shear_range=30)\n",
        "aug.fit(X_train)\n",
        "aug5_data = aug.flow(X_train, y_train, batch_size=240)"
      ]
    },
    {
      "cell_type": "code",
      "execution_count": 31,
      "metadata": {
        "ExecuteTime": {
          "end_time": "2022-05-23T14:37:17.170867Z",
          "start_time": "2022-05-23T14:37:16.272764Z"
        },
        "id": "4Vy3Qkq1VMpE"
      },
      "outputs": [],
      "source": [
        "aug5_images, aug5_labels = next(aug5_data)"
      ]
    },
    {
      "cell_type": "code",
      "execution_count": 32,
      "metadata": {
        "ExecuteTime": {
          "end_time": "2022-05-23T14:37:17.493386Z",
          "start_time": "2022-05-23T14:37:17.172084Z"
        },
        "id": "Zo08rN86VMpE"
      },
      "outputs": [],
      "source": [
        "new_images5 = np.concatenate([new_images4, aug5_images])\n",
        "new_labels5 = np.concatenate([new_labels4, aug5_labels])"
      ]
    },
    {
      "cell_type": "markdown",
      "metadata": {
        "id": "vPAJLxNgVMpE"
      },
      "source": [
        "#### Brightness Augmentation"
      ]
    },
    {
      "cell_type": "markdown",
      "metadata": {
        "ExecuteTime": {
          "end_time": "2022-05-20T18:49:59.247310Z",
          "start_time": "2022-05-20T18:49:59.202157Z"
        },
        "id": "q--F3ZLOVMpE"
      },
      "source": [
        "Finally we have brightness augmentation. This applies a random brightness shift within the provided range. "
      ]
    },
    {
      "cell_type": "code",
      "execution_count": 33,
      "metadata": {
        "ExecuteTime": {
          "end_time": "2022-05-23T14:37:17.518943Z",
          "start_time": "2022-05-23T14:37:17.494551Z"
        },
        "id": "P9euYu32VMpE"
      },
      "outputs": [],
      "source": [
        "aug = ImageDataGenerator(brightness_range=(1,2))\n",
        "aug.fit(X_train)\n",
        "aug5_data = aug.flow(X_train, y_train, batch_size=240)"
      ]
    },
    {
      "cell_type": "code",
      "execution_count": 34,
      "metadata": {
        "ExecuteTime": {
          "end_time": "2022-05-23T14:37:17.599761Z",
          "start_time": "2022-05-23T14:37:17.519903Z"
        },
        "id": "I8FjcCHlVMpE"
      },
      "outputs": [],
      "source": [
        "aug6_images, aug6_labels = next(aug5_data)"
      ]
    },
    {
      "cell_type": "code",
      "execution_count": 35,
      "metadata": {
        "ExecuteTime": {
          "end_time": "2022-05-23T14:37:17.933568Z",
          "start_time": "2022-05-23T14:37:17.600704Z"
        },
        "id": "crrsJuFCVMpE"
      },
      "outputs": [],
      "source": [
        "new_images6 = np.concatenate([new_images5, aug6_images])\n",
        "new_labels6 = np.concatenate([new_labels5, aug6_labels])"
      ]
    },
    {
      "cell_type": "code",
      "execution_count": 36,
      "metadata": {
        "ExecuteTime": {
          "end_time": "2022-05-23T14:37:17.940498Z",
          "start_time": "2022-05-23T14:37:17.936520Z"
        },
        "colab": {
          "base_uri": "https://localhost:8080/"
        },
        "id": "LbIctUqMVMpE",
        "outputId": "81f109d0-8110-4d78-ff3e-acd2a8b2c844"
      },
      "outputs": [
        {
          "output_type": "execute_result",
          "data": {
            "text/plain": [
              "(1680,)"
            ]
          },
          "metadata": {},
          "execution_count": 36
        }
      ],
      "source": [
        "new_labels6.shape"
      ]
    },
    {
      "cell_type": "markdown",
      "metadata": {
        "id": "PraGgowOVMpE"
      },
      "source": [
        "#### A little bit of everything Augmentation"
      ]
    },
    {
      "cell_type": "markdown",
      "metadata": {
        "id": "oeWeNkeEVMpE"
      },
      "source": [
        "Now that we have augmented each image with a single augmentation, we will again augment all images with a combination of each augmentation. "
      ]
    },
    {
      "cell_type": "code",
      "execution_count": 37,
      "metadata": {
        "ExecuteTime": {
          "end_time": "2022-05-23T14:37:23.897668Z",
          "start_time": "2022-05-23T14:37:23.306209Z"
        },
        "id": "3KKktYHYVMpE"
      },
      "outputs": [],
      "source": [
        "aug = ImageDataGenerator(zoom_range=[.7,.9], width_shift_range=.15, height_shift_range=.15, rotation_range=15, shear_range=15, brightness_range=(1,1.5))\n",
        "aug.fit(new_images6)\n",
        "aug_data_final = aug.flow(new_images6, new_labels6, batch_size=1680)"
      ]
    },
    {
      "cell_type": "code",
      "execution_count": 38,
      "metadata": {
        "ExecuteTime": {
          "end_time": "2022-05-23T14:37:31.294868Z",
          "start_time": "2022-05-23T14:37:24.067101Z"
        },
        "id": "YRPNXMZnVMpE"
      },
      "outputs": [],
      "source": [
        "aug_final_images, aug_final_labels = next(aug_data_final)"
      ]
    },
    {
      "cell_type": "code",
      "execution_count": 39,
      "metadata": {
        "ExecuteTime": {
          "end_time": "2022-05-23T14:37:32.008243Z",
          "start_time": "2022-05-23T14:37:31.297280Z"
        },
        "id": "bmTXvNIBVMpE"
      },
      "outputs": [],
      "source": [
        "final_images = np.concatenate([new_images6, aug_final_images])\n",
        "final_labels = np.concatenate([new_labels6, aug_final_labels])"
      ]
    },
    {
      "cell_type": "code",
      "execution_count": 40,
      "metadata": {
        "ExecuteTime": {
          "end_time": "2022-05-23T14:37:32.015100Z",
          "start_time": "2022-05-23T14:37:32.009292Z"
        },
        "colab": {
          "base_uri": "https://localhost:8080/"
        },
        "id": "RmyXE3t_VMpE",
        "outputId": "376648ba-7ccd-42c5-e9cd-ae50856822d6"
      },
      "outputs": [
        {
          "output_type": "execute_result",
          "data": {
            "text/plain": [
              "(3360, 256, 256, 1)"
            ]
          },
          "metadata": {},
          "execution_count": 40
        }
      ],
      "source": [
        "final_images.shape"
      ]
    },
    {
      "cell_type": "code",
      "execution_count": 41,
      "metadata": {
        "ExecuteTime": {
          "end_time": "2022-05-23T14:37:32.019455Z",
          "start_time": "2022-05-23T14:37:32.016958Z"
        },
        "colab": {
          "base_uri": "https://localhost:8080/"
        },
        "id": "PSMlqrLQVMpE",
        "outputId": "6bedad49-4c66-4f34-971f-c4b36a57e5be"
      },
      "outputs": [
        {
          "output_type": "execute_result",
          "data": {
            "text/plain": [
              "(3360,)"
            ]
          },
          "metadata": {},
          "execution_count": 41
        }
      ],
      "source": [
        "final_labels.shape"
      ]
    },
    {
      "cell_type": "code",
      "execution_count": 42,
      "metadata": {
        "ExecuteTime": {
          "end_time": "2022-05-23T14:37:32.033769Z",
          "start_time": "2022-05-23T14:37:32.020208Z"
        },
        "colab": {
          "base_uri": "https://localhost:8080/",
          "height": 0
        },
        "id": "XcGO7NBlVMpE",
        "outputId": "9c4f16c2-854c-4992-e0d1-cca2ba2f4299"
      },
      "outputs": [
        {
          "output_type": "execute_result",
          "data": {
            "text/plain": [
              "<PIL.Image.Image image mode=L size=256x256 at 0x7F3E04C9C790>"
            ],
            "image/png": "[encoded data removed]"
          },
          "metadata": {},
          "execution_count": 42
        }
      ],
      "source": [
        "array_to_img(final_images[0])"
      ]
    },
    {
      "cell_type": "code",
      "execution_count": 43,
      "metadata": {
        "ExecuteTime": {
          "end_time": "2022-05-23T14:37:32.040012Z",
          "start_time": "2022-05-23T14:37:32.034835Z"
        },
        "colab": {
          "base_uri": "https://localhost:8080/"
        },
        "id": "Etb2N03MVMpE",
        "outputId": "f21fc060-7caf-4d0f-8aa7-8b111e7fdee9"
      },
      "outputs": [
        {
          "output_type": "execute_result",
          "data": {
            "text/plain": [
              "0.0"
            ]
          },
          "metadata": {},
          "execution_count": 43
        }
      ],
      "source": [
        "final_labels[0]"
      ]
    },
    {
      "cell_type": "markdown",
      "metadata": {
        "id": "z50UnX6lVMpF"
      },
      "source": [
        "## Modeling"
      ]
    },
    {
      "cell_type": "markdown",
      "metadata": {
        "id": "YnH0P0uyVMpF"
      },
      "source": [
        "### Scikit Learn Keras Classifier"
      ]
    },
    {
      "cell_type": "code",
      "execution_count": 44,
      "metadata": {
        "ExecuteTime": {
          "end_time": "2022-05-23T13:39:25.574306Z",
          "start_time": "2022-05-23T13:39:25.527391Z"
        },
        "id": "yo69jkvCVMpF"
      },
      "outputs": [],
      "source": [
        "adam = Adam(learning_rate=.0001)"
      ]
    },
    {
      "cell_type": "code",
      "execution_count": 45,
      "metadata": {
        "ExecuteTime": {
          "end_time": "2022-05-23T13:39:26.015659Z",
          "start_time": "2022-05-23T13:39:25.989022Z"
        },
        "id": "JC3SRpEPVMpF"
      },
      "outputs": [],
      "source": [
        "def build_model():\n",
        "    model = Sequential()\n",
        "\n",
        "    model.add(layers.Conv2D(16, (3,3), activation='relu', input_shape=(256,256,1)))\n",
        "    model.add(layers.MaxPool2D())\n",
        "    model.add(layers.Dropout(0.2))\n",
        "\n",
        "    model.add(layers.Conv2D(32, (7,7), activation='relu'))\n",
        "    model.add(layers.MaxPool2D())\n",
        "\n",
        "    model.add(layers.Conv2D(64, (5,5), activation='relu'))\n",
        "    model.add(layers.MaxPool2D())\n",
        "\n",
        "    model.add(layers.Flatten())\n",
        "\n",
        "    model.add(layers.Dense(128, activation='relu', kernel_regularizer=l2(.05)))\n",
        "    model.add(layers.Dropout(0.2))\n",
        "\n",
        "    model.add(layers.Dense(64, activation='relu'))\n",
        "    model.add(layers.Dropout(0.4))\n",
        "\n",
        "    model.add(layers.Dense(64, activation='relu', kernel_regularizer=l2(.1)))\n",
        "\n",
        "    model.add(layers.Dense(32, activation='relu'))\n",
        "\n",
        "    model.add(layers.Dense(1, activation='sigmoid'))\n",
        "\n",
        "    model.compile(optimizer=adam,\n",
        "                  loss='binary_crossentropy',\n",
        "                  metrics=['accuracy'])\n",
        "    \n",
        "    return model"
      ]
    },
    {
      "cell_type": "code",
      "execution_count": 46,
      "metadata": {
        "ExecuteTime": {
          "end_time": "2022-05-23T13:39:27.328450Z",
          "start_time": "2022-05-23T13:39:27.313083Z"
        },
        "colab": {
          "base_uri": "https://localhost:8080/"
        },
        "id": "frclz_Y5VMpF",
        "outputId": "8bbfb092-48bc-41ea-9db7-8e38bcc7cdaa"
      },
      "outputs": [
        {
          "output_type": "stream",
          "name": "stderr",
          "text": [
            "/usr/local/lib/python3.7/dist-packages/ipykernel_launcher.py:4: DeprecationWarning: KerasClassifier is deprecated, use Sci-Keras (https://github.com/adriangb/scikeras) instead. See https://www.adriangb.com/scikeras/stable/migration.html for help migrating.\n",
            "  after removing the cwd from sys.path.\n"
          ]
        }
      ],
      "source": [
        "model4 = scikit_learn.KerasClassifier(build_model,\n",
        "                                          epochs=50,\n",
        "                                          batch_size=32,\n",
        "                                          verbose=2)"
      ]
    },
    {
      "cell_type": "code",
      "execution_count": 47,
      "metadata": {
        "ExecuteTime": {
          "end_time": "2022-05-19T18:41:59.855237Z",
          "start_time": "2022-05-19T18:41:36.681608Z"
        },
        "colab": {
          "base_uri": "https://localhost:8080/"
        },
        "collapsed": true,
        "id": "eLUikXN1VMpF",
        "outputId": "930a31cc-7e57-4ee3-e172-e64cea8f1a92"
      },
      "outputs": [
        {
          "output_type": "stream",
          "name": "stdout",
          "text": [
            "Epoch 1/50\n",
            "84/84 - 14s - loss: 16.4584 - accuracy: 0.5041 - 14s/epoch - 163ms/step\n",
            "Epoch 2/50\n",
            "84/84 - 2s - loss: 11.8456 - accuracy: 0.4766 - 2s/epoch - 24ms/step\n",
            "Epoch 3/50\n",
            "84/84 - 2s - loss: 10.6573 - accuracy: 0.5153 - 2s/epoch - 24ms/step\n",
            "Epoch 4/50\n",
            "84/84 - 2s - loss: 9.7440 - accuracy: 0.5052 - 2s/epoch - 24ms/step\n",
            "Epoch 5/50\n",
            "84/84 - 2s - loss: 8.9587 - accuracy: 0.5145 - 2s/epoch - 24ms/step\n",
            "Epoch 6/50\n",
            "84/84 - 2s - loss: 8.2479 - accuracy: 0.5112 - 2s/epoch - 24ms/step\n",
            "Epoch 7/50\n",
            "84/84 - 2s - loss: 7.6160 - accuracy: 0.5100 - 2s/epoch - 24ms/step\n",
            "Epoch 8/50\n",
            "84/84 - 2s - loss: 7.0405 - accuracy: 0.5227 - 2s/epoch - 24ms/step\n",
            "Epoch 9/50\n",
            "84/84 - 2s - loss: 6.5356 - accuracy: 0.5100 - 2s/epoch - 24ms/step\n",
            "Epoch 10/50\n",
            "84/84 - 2s - loss: 6.0408 - accuracy: 0.5164 - 2s/epoch - 24ms/step\n",
            "Epoch 11/50\n",
            "84/84 - 2s - loss: 5.6016 - accuracy: 0.5335 - 2s/epoch - 24ms/step\n",
            "Epoch 12/50\n",
            "84/84 - 2s - loss: 5.2091 - accuracy: 0.5335 - 2s/epoch - 24ms/step\n",
            "Epoch 13/50\n",
            "84/84 - 2s - loss: 4.8576 - accuracy: 0.5394 - 2s/epoch - 24ms/step\n",
            "Epoch 14/50\n",
            "84/84 - 2s - loss: 4.5165 - accuracy: 0.5383 - 2s/epoch - 24ms/step\n",
            "Epoch 15/50\n",
            "84/84 - 2s - loss: 4.1937 - accuracy: 0.5543 - 2s/epoch - 24ms/step\n",
            "Epoch 16/50\n",
            "84/84 - 2s - loss: 3.9051 - accuracy: 0.5632 - 2s/epoch - 24ms/step\n",
            "Epoch 17/50\n",
            "84/84 - 2s - loss: 3.6343 - accuracy: 0.5725 - 2s/epoch - 24ms/step\n",
            "Epoch 18/50\n",
            "84/84 - 2s - loss: 3.3908 - accuracy: 0.5882 - 2s/epoch - 24ms/step\n",
            "Epoch 19/50\n",
            "84/84 - 2s - loss: 3.1583 - accuracy: 0.6042 - 2s/epoch - 24ms/step\n",
            "Epoch 20/50\n",
            "84/84 - 2s - loss: 2.9337 - accuracy: 0.6217 - 2s/epoch - 24ms/step\n",
            "Epoch 21/50\n",
            "84/84 - 2s - loss: 2.7321 - accuracy: 0.6272 - 2s/epoch - 24ms/step\n",
            "Epoch 22/50\n",
            "84/84 - 2s - loss: 2.5465 - accuracy: 0.6328 - 2s/epoch - 24ms/step\n",
            "Epoch 23/50\n",
            "84/84 - 2s - loss: 2.3586 - accuracy: 0.6473 - 2s/epoch - 24ms/step\n",
            "Epoch 24/50\n",
            "84/84 - 2s - loss: 2.2243 - accuracy: 0.6633 - 2s/epoch - 24ms/step\n",
            "Epoch 25/50\n",
            "84/84 - 2s - loss: 2.0539 - accuracy: 0.6652 - 2s/epoch - 24ms/step\n",
            "Epoch 26/50\n",
            "84/84 - 2s - loss: 1.9196 - accuracy: 0.6827 - 2s/epoch - 24ms/step\n",
            "Epoch 27/50\n",
            "84/84 - 2s - loss: 1.7981 - accuracy: 0.6931 - 2s/epoch - 24ms/step\n",
            "Epoch 28/50\n",
            "84/84 - 2s - loss: 1.6844 - accuracy: 0.7024 - 2s/epoch - 24ms/step\n",
            "Epoch 29/50\n",
            "84/84 - 2s - loss: 1.5943 - accuracy: 0.7161 - 2s/epoch - 24ms/step\n",
            "Epoch 30/50\n",
            "84/84 - 2s - loss: 1.5140 - accuracy: 0.7247 - 2s/epoch - 24ms/step\n",
            "Epoch 31/50\n",
            "84/84 - 2s - loss: 1.4171 - accuracy: 0.7489 - 2s/epoch - 24ms/step\n",
            "Epoch 32/50\n",
            "84/84 - 2s - loss: 1.3343 - accuracy: 0.7626 - 2s/epoch - 24ms/step\n",
            "Epoch 33/50\n",
            "84/84 - 2s - loss: 1.2433 - accuracy: 0.7701 - 2s/epoch - 24ms/step\n",
            "Epoch 34/50\n",
            "84/84 - 2s - loss: 1.1569 - accuracy: 0.7861 - 2s/epoch - 24ms/step\n",
            "Epoch 35/50\n",
            "84/84 - 2s - loss: 1.1055 - accuracy: 0.7969 - 2s/epoch - 24ms/step\n",
            "Epoch 36/50\n",
            "84/84 - 2s - loss: 1.0548 - accuracy: 0.8181 - 2s/epoch - 24ms/step\n",
            "Epoch 37/50\n",
            "84/84 - 2s - loss: 1.0122 - accuracy: 0.8177 - 2s/epoch - 24ms/step\n",
            "Epoch 38/50\n",
            "84/84 - 2s - loss: 0.9529 - accuracy: 0.8233 - 2s/epoch - 24ms/step\n",
            "Epoch 39/50\n",
            "84/84 - 2s - loss: 0.8919 - accuracy: 0.8371 - 2s/epoch - 24ms/step\n",
            "Epoch 40/50\n",
            "84/84 - 2s - loss: 0.8566 - accuracy: 0.8408 - 2s/epoch - 24ms/step\n",
            "Epoch 41/50\n",
            "84/84 - 2s - loss: 0.8149 - accuracy: 0.8430 - 2s/epoch - 24ms/step\n",
            "Epoch 42/50\n",
            "84/84 - 2s - loss: 0.7759 - accuracy: 0.8568 - 2s/epoch - 24ms/step\n",
            "Epoch 43/50\n",
            "84/84 - 2s - loss: 0.7191 - accuracy: 0.8664 - 2s/epoch - 24ms/step\n",
            "Epoch 44/50\n",
            "84/84 - 2s - loss: 0.6901 - accuracy: 0.8757 - 2s/epoch - 24ms/step\n",
            "Epoch 45/50\n",
            "84/84 - 2s - loss: 0.6733 - accuracy: 0.8720 - 2s/epoch - 24ms/step\n",
            "Epoch 46/50\n",
            "84/84 - 2s - loss: 0.6452 - accuracy: 0.8720 - 2s/epoch - 24ms/step\n",
            "Epoch 47/50\n",
            "84/84 - 2s - loss: 0.6015 - accuracy: 0.8821 - 2s/epoch - 24ms/step\n",
            "Epoch 48/50\n",
            "84/84 - 2s - loss: 0.6027 - accuracy: 0.8679 - 2s/epoch - 24ms/step\n",
            "Epoch 49/50\n",
            "84/84 - 2s - loss: 0.5852 - accuracy: 0.8731 - 2s/epoch - 24ms/step\n",
            "Epoch 50/50\n",
            "84/84 - 2s - loss: 0.5825 - accuracy: 0.8761 - 2s/epoch - 24ms/step\n",
            "21/21 - 0s - loss: 0.9783 - accuracy: 0.6815 - 432ms/epoch - 21ms/step\n",
            "Epoch 1/50\n",
            "84/84 - 3s - loss: 14.0788 - accuracy: 0.4940 - 3s/epoch - 35ms/step\n",
            "Epoch 2/50\n",
            "84/84 - 2s - loss: 9.7450 - accuracy: 0.5286 - 2s/epoch - 24ms/step\n",
            "Epoch 3/50\n",
            "84/84 - 2s - loss: 8.3816 - accuracy: 0.5379 - 2s/epoch - 24ms/step\n",
            "Epoch 4/50\n",
            "84/84 - 2s - loss: 7.4241 - accuracy: 0.5469 - 2s/epoch - 24ms/step\n",
            "Epoch 5/50\n",
            "84/84 - 2s - loss: 6.6746 - accuracy: 0.5376 - 2s/epoch - 24ms/step\n",
            "Epoch 6/50\n",
            "84/84 - 2s - loss: 6.0642 - accuracy: 0.5562 - 2s/epoch - 24ms/step\n",
            "Epoch 7/50\n",
            "84/84 - 2s - loss: 5.5479 - accuracy: 0.5595 - 2s/epoch - 24ms/step\n",
            "Epoch 8/50\n",
            "84/84 - 2s - loss: 5.1104 - accuracy: 0.5588 - 2s/epoch - 24ms/step\n",
            "Epoch 9/50\n",
            "84/84 - 2s - loss: 4.7185 - accuracy: 0.5595 - 2s/epoch - 24ms/step\n",
            "Epoch 10/50\n",
            "84/84 - 2s - loss: 4.3697 - accuracy: 0.5737 - 2s/epoch - 24ms/step\n",
            "Epoch 11/50\n",
            "84/84 - 2s - loss: 4.0703 - accuracy: 0.5722 - 2s/epoch - 24ms/step\n",
            "Epoch 12/50\n",
            "84/84 - 2s - loss: 3.8052 - accuracy: 0.5859 - 2s/epoch - 24ms/step\n",
            "Epoch 13/50\n",
            "84/84 - 2s - loss: 3.5623 - accuracy: 0.5863 - 2s/epoch - 24ms/step\n",
            "Epoch 14/50\n",
            "84/84 - 2s - loss: 3.3406 - accuracy: 0.5986 - 2s/epoch - 24ms/step\n",
            "Epoch 15/50\n",
            "84/84 - 2s - loss: 3.1300 - accuracy: 0.6034 - 2s/epoch - 24ms/step\n",
            "Epoch 16/50\n",
            "84/84 - 2s - loss: 2.9565 - accuracy: 0.6045 - 2s/epoch - 24ms/step\n",
            "Epoch 17/50\n",
            "84/84 - 2s - loss: 2.7932 - accuracy: 0.6190 - 2s/epoch - 25ms/step\n",
            "Epoch 18/50\n",
            "84/84 - 2s - loss: 2.6424 - accuracy: 0.6265 - 2s/epoch - 25ms/step\n",
            "Epoch 19/50\n",
            "84/84 - 2s - loss: 2.4934 - accuracy: 0.6209 - 2s/epoch - 25ms/step\n",
            "Epoch 20/50\n",
            "84/84 - 2s - loss: 2.3639 - accuracy: 0.6317 - 2s/epoch - 24ms/step\n",
            "Epoch 21/50\n",
            "84/84 - 2s - loss: 2.2473 - accuracy: 0.6358 - 2s/epoch - 24ms/step\n",
            "Epoch 22/50\n",
            "84/84 - 2s - loss: 2.1244 - accuracy: 0.6421 - 2s/epoch - 24ms/step\n",
            "Epoch 23/50\n",
            "84/84 - 2s - loss: 2.0327 - accuracy: 0.6540 - 2s/epoch - 24ms/step\n",
            "Epoch 24/50\n",
            "84/84 - 2s - loss: 1.9466 - accuracy: 0.6514 - 2s/epoch - 24ms/step\n",
            "Epoch 25/50\n",
            "84/84 - 2s - loss: 1.8444 - accuracy: 0.6622 - 2s/epoch - 24ms/step\n",
            "Epoch 26/50\n",
            "84/84 - 2s - loss: 1.7636 - accuracy: 0.6652 - 2s/epoch - 24ms/step\n",
            "Epoch 27/50\n",
            "84/84 - 2s - loss: 1.6870 - accuracy: 0.6696 - 2s/epoch - 24ms/step\n",
            "Epoch 28/50\n",
            "84/84 - 2s - loss: 1.6096 - accuracy: 0.6793 - 2s/epoch - 24ms/step\n",
            "Epoch 29/50\n",
            "84/84 - 2s - loss: 1.5477 - accuracy: 0.6946 - 2s/epoch - 24ms/step\n",
            "Epoch 30/50\n",
            "84/84 - 2s - loss: 1.4871 - accuracy: 0.6935 - 2s/epoch - 24ms/step\n",
            "Epoch 31/50\n",
            "84/84 - 2s - loss: 1.4130 - accuracy: 0.7128 - 2s/epoch - 24ms/step\n",
            "Epoch 32/50\n",
            "84/84 - 2s - loss: 1.3714 - accuracy: 0.7028 - 2s/epoch - 24ms/step\n",
            "Epoch 33/50\n",
            "84/84 - 2s - loss: 1.3213 - accuracy: 0.7098 - 2s/epoch - 24ms/step\n",
            "Epoch 34/50\n",
            "84/84 - 2s - loss: 1.2750 - accuracy: 0.7117 - 2s/epoch - 24ms/step\n",
            "Epoch 35/50\n",
            "84/84 - 2s - loss: 1.2298 - accuracy: 0.7228 - 2s/epoch - 24ms/step\n",
            "Epoch 36/50\n",
            "84/84 - 2s - loss: 1.1829 - accuracy: 0.7310 - 2s/epoch - 24ms/step\n",
            "Epoch 37/50\n",
            "84/84 - 2s - loss: 1.1470 - accuracy: 0.7351 - 2s/epoch - 24ms/step\n",
            "Epoch 38/50\n",
            "84/84 - 2s - loss: 1.0952 - accuracy: 0.7493 - 2s/epoch - 24ms/step\n",
            "Epoch 39/50\n",
            "84/84 - 2s - loss: 1.0672 - accuracy: 0.7530 - 2s/epoch - 24ms/step\n",
            "Epoch 40/50\n",
            "84/84 - 2s - loss: 1.0407 - accuracy: 0.7586 - 2s/epoch - 24ms/step\n",
            "Epoch 41/50\n",
            "84/84 - 2s - loss: 1.0087 - accuracy: 0.7615 - 2s/epoch - 24ms/step\n",
            "Epoch 42/50\n",
            "84/84 - 2s - loss: 0.9657 - accuracy: 0.7697 - 2s/epoch - 24ms/step\n",
            "Epoch 43/50\n",
            "84/84 - 2s - loss: 0.9318 - accuracy: 0.7835 - 2s/epoch - 24ms/step\n",
            "Epoch 44/50\n",
            "84/84 - 2s - loss: 0.9307 - accuracy: 0.7861 - 2s/epoch - 24ms/step\n",
            "Epoch 45/50\n",
            "84/84 - 2s - loss: 0.8903 - accuracy: 0.7876 - 2s/epoch - 24ms/step\n",
            "Epoch 46/50\n",
            "84/84 - 2s - loss: 0.8704 - accuracy: 0.7872 - 2s/epoch - 24ms/step\n",
            "Epoch 47/50\n",
            "84/84 - 2s - loss: 0.8439 - accuracy: 0.8054 - 2s/epoch - 24ms/step\n",
            "Epoch 48/50\n",
            "84/84 - 2s - loss: 0.7996 - accuracy: 0.8092 - 2s/epoch - 24ms/step\n",
            "Epoch 49/50\n",
            "84/84 - 2s - loss: 0.7800 - accuracy: 0.8162 - 2s/epoch - 24ms/step\n",
            "Epoch 50/50\n",
            "84/84 - 2s - loss: 0.7638 - accuracy: 0.8110 - 2s/epoch - 24ms/step\n",
            "21/21 - 0s - loss: 1.0829 - accuracy: 0.5625 - 414ms/epoch - 20ms/step\n",
            "Epoch 1/50\n",
            "84/84 - 3s - loss: 15.1988 - accuracy: 0.4929 - 3s/epoch - 35ms/step\n",
            "Epoch 2/50\n",
            "84/84 - 2s - loss: 10.7329 - accuracy: 0.4955 - 2s/epoch - 24ms/step\n",
            "Epoch 3/50\n",
            "84/84 - 2s - loss: 9.1847 - accuracy: 0.4918 - 2s/epoch - 24ms/step\n",
            "Epoch 4/50\n",
            "84/84 - 2s - loss: 8.0784 - accuracy: 0.5238 - 2s/epoch - 24ms/step\n",
            "Epoch 5/50\n",
            "84/84 - 2s - loss: 7.2184 - accuracy: 0.5242 - 2s/epoch - 24ms/step\n",
            "Epoch 6/50\n",
            "84/84 - 2s - loss: 6.5209 - accuracy: 0.5208 - 2s/epoch - 24ms/step\n",
            "Epoch 7/50\n",
            "84/84 - 2s - loss: 5.9360 - accuracy: 0.5186 - 2s/epoch - 24ms/step\n",
            "Epoch 8/50\n",
            "84/84 - 2s - loss: 5.4291 - accuracy: 0.5279 - 2s/epoch - 24ms/step\n",
            "Epoch 9/50\n",
            "84/84 - 2s - loss: 4.9995 - accuracy: 0.5231 - 2s/epoch - 24ms/step\n",
            "Epoch 10/50\n",
            "84/84 - 2s - loss: 4.6150 - accuracy: 0.5305 - 2s/epoch - 24ms/step\n",
            "Epoch 11/50\n",
            "84/84 - 2s - loss: 4.2675 - accuracy: 0.5409 - 2s/epoch - 25ms/step\n",
            "Epoch 12/50\n",
            "84/84 - 2s - loss: 3.9590 - accuracy: 0.5443 - 2s/epoch - 24ms/step\n",
            "Epoch 13/50\n",
            "84/84 - 2s - loss: 3.6882 - accuracy: 0.5417 - 2s/epoch - 24ms/step\n",
            "Epoch 14/50\n",
            "84/84 - 2s - loss: 3.4424 - accuracy: 0.5584 - 2s/epoch - 24ms/step\n",
            "Epoch 15/50\n",
            "84/84 - 2s - loss: 3.2190 - accuracy: 0.5636 - 2s/epoch - 24ms/step\n",
            "Epoch 16/50\n",
            "84/84 - 2s - loss: 3.0189 - accuracy: 0.5577 - 2s/epoch - 25ms/step\n",
            "Epoch 17/50\n",
            "84/84 - 2s - loss: 2.8299 - accuracy: 0.5778 - 2s/epoch - 25ms/step\n",
            "Epoch 18/50\n",
            "84/84 - 2s - loss: 2.6671 - accuracy: 0.5844 - 2s/epoch - 25ms/step\n",
            "Epoch 19/50\n",
            "84/84 - 2s - loss: 2.5042 - accuracy: 0.5949 - 2s/epoch - 25ms/step\n",
            "Epoch 20/50\n",
            "84/84 - 2s - loss: 2.3592 - accuracy: 0.6001 - 2s/epoch - 24ms/step\n",
            "Epoch 21/50\n",
            "84/84 - 2s - loss: 2.2291 - accuracy: 0.6038 - 2s/epoch - 24ms/step\n",
            "Epoch 22/50\n",
            "84/84 - 2s - loss: 2.1062 - accuracy: 0.6083 - 2s/epoch - 25ms/step\n",
            "Epoch 23/50\n",
            "84/84 - 2s - loss: 1.9886 - accuracy: 0.6220 - 2s/epoch - 24ms/step\n",
            "Epoch 24/50\n",
            "84/84 - 2s - loss: 1.8806 - accuracy: 0.6336 - 2s/epoch - 24ms/step\n",
            "Epoch 25/50\n",
            "84/84 - 2s - loss: 1.7755 - accuracy: 0.6425 - 2s/epoch - 24ms/step\n",
            "Epoch 26/50\n",
            "84/84 - 2s - loss: 1.6957 - accuracy: 0.6469 - 2s/epoch - 24ms/step\n",
            "Epoch 27/50\n",
            "84/84 - 2s - loss: 1.6046 - accuracy: 0.6570 - 2s/epoch - 24ms/step\n",
            "Epoch 28/50\n",
            "84/84 - 2s - loss: 1.5227 - accuracy: 0.6682 - 2s/epoch - 24ms/step\n",
            "Epoch 29/50\n",
            "84/84 - 2s - loss: 1.4450 - accuracy: 0.6808 - 2s/epoch - 25ms/step\n",
            "Epoch 30/50\n",
            "84/84 - 2s - loss: 1.3767 - accuracy: 0.6901 - 2s/epoch - 24ms/step\n",
            "Epoch 31/50\n",
            "84/84 - 2s - loss: 1.3186 - accuracy: 0.7054 - 2s/epoch - 24ms/step\n",
            "Epoch 32/50\n",
            "84/84 - 2s - loss: 1.2531 - accuracy: 0.7094 - 2s/epoch - 25ms/step\n",
            "Epoch 33/50\n",
            "84/84 - 2s - loss: 1.1875 - accuracy: 0.7191 - 2s/epoch - 24ms/step\n",
            "Epoch 34/50\n",
            "84/84 - 2s - loss: 1.1425 - accuracy: 0.7258 - 2s/epoch - 24ms/step\n",
            "Epoch 35/50\n",
            "84/84 - 2s - loss: 1.1027 - accuracy: 0.7295 - 2s/epoch - 25ms/step\n",
            "Epoch 36/50\n",
            "84/84 - 2s - loss: 1.0542 - accuracy: 0.7467 - 2s/epoch - 25ms/step\n",
            "Epoch 37/50\n",
            "84/84 - 2s - loss: 1.0468 - accuracy: 0.7340 - 2s/epoch - 25ms/step\n",
            "Epoch 38/50\n",
            "84/84 - 2s - loss: 0.9898 - accuracy: 0.7541 - 2s/epoch - 25ms/step\n",
            "Epoch 39/50\n",
            "84/84 - 2s - loss: 0.9530 - accuracy: 0.7489 - 2s/epoch - 25ms/step\n",
            "Epoch 40/50\n",
            "84/84 - 2s - loss: 0.9158 - accuracy: 0.7586 - 2s/epoch - 25ms/step\n",
            "Epoch 41/50\n",
            "84/84 - 2s - loss: 0.8826 - accuracy: 0.7619 - 2s/epoch - 25ms/step\n",
            "Epoch 42/50\n",
            "84/84 - 2s - loss: 0.8486 - accuracy: 0.7623 - 2s/epoch - 25ms/step\n",
            "Epoch 43/50\n",
            "84/84 - 2s - loss: 0.8197 - accuracy: 0.7842 - 2s/epoch - 25ms/step\n",
            "Epoch 44/50\n",
            "84/84 - 2s - loss: 0.8061 - accuracy: 0.7701 - 2s/epoch - 24ms/step\n",
            "Epoch 45/50\n",
            "84/84 - 2s - loss: 0.7815 - accuracy: 0.7831 - 2s/epoch - 25ms/step\n",
            "Epoch 46/50\n",
            "84/84 - 2s - loss: 0.7424 - accuracy: 0.7809 - 2s/epoch - 25ms/step\n",
            "Epoch 47/50\n",
            "84/84 - 2s - loss: 0.7220 - accuracy: 0.7857 - 2s/epoch - 24ms/step\n",
            "Epoch 48/50\n",
            "84/84 - 2s - loss: 0.7155 - accuracy: 0.7872 - 2s/epoch - 25ms/step\n",
            "Epoch 49/50\n",
            "84/84 - 2s - loss: 0.6889 - accuracy: 0.7872 - 2s/epoch - 24ms/step\n",
            "Epoch 50/50\n",
            "84/84 - 2s - loss: 0.6696 - accuracy: 0.8043 - 2s/epoch - 25ms/step\n",
            "21/21 - 0s - loss: 2.1894 - accuracy: 0.5536 - 416ms/epoch - 20ms/step\n",
            "Epoch 1/50\n",
            "84/84 - 3s - loss: 11.7106 - accuracy: 0.5067 - 3s/epoch - 35ms/step\n",
            "Epoch 2/50\n",
            "84/84 - 2s - loss: 7.8816 - accuracy: 0.5108 - 2s/epoch - 24ms/step\n",
            "Epoch 3/50\n",
            "84/84 - 2s - loss: 6.5130 - accuracy: 0.5108 - 2s/epoch - 24ms/step\n",
            "Epoch 4/50\n",
            "84/84 - 2s - loss: 5.5960 - accuracy: 0.5108 - 2s/epoch - 25ms/step\n",
            "Epoch 5/50\n",
            "84/84 - 2s - loss: 4.9093 - accuracy: 0.5108 - 2s/epoch - 24ms/step\n",
            "Epoch 6/50\n",
            "84/84 - 2s - loss: 4.3652 - accuracy: 0.5108 - 2s/epoch - 25ms/step\n",
            "Epoch 7/50\n",
            "84/84 - 2s - loss: 3.9208 - accuracy: 0.5112 - 2s/epoch - 24ms/step\n",
            "Epoch 8/50\n",
            "84/84 - 2s - loss: 3.5472 - accuracy: 0.5108 - 2s/epoch - 25ms/step\n",
            "Epoch 9/50\n",
            "84/84 - 2s - loss: 3.2306 - accuracy: 0.5108 - 2s/epoch - 24ms/step\n",
            "Epoch 10/50\n",
            "84/84 - 2s - loss: 2.9585 - accuracy: 0.5108 - 2s/epoch - 24ms/step\n",
            "Epoch 11/50\n",
            "84/84 - 2s - loss: 2.7226 - accuracy: 0.5108 - 2s/epoch - 24ms/step\n",
            "Epoch 12/50\n",
            "84/84 - 2s - loss: 2.5164 - accuracy: 0.5108 - 2s/epoch - 24ms/step\n",
            "Epoch 13/50\n",
            "84/84 - 2s - loss: 2.3364 - accuracy: 0.5104 - 2s/epoch - 25ms/step\n",
            "Epoch 14/50\n",
            "84/84 - 2s - loss: 2.1797 - accuracy: 0.5156 - 2s/epoch - 24ms/step\n",
            "Epoch 15/50\n",
            "84/84 - 2s - loss: 2.0343 - accuracy: 0.5108 - 2s/epoch - 24ms/step\n",
            "Epoch 16/50\n",
            "84/84 - 2s - loss: 1.9060 - accuracy: 0.5108 - 2s/epoch - 24ms/step\n",
            "Epoch 17/50\n",
            "84/84 - 2s - loss: 1.7926 - accuracy: 0.5108 - 2s/epoch - 24ms/step\n",
            "Epoch 18/50\n",
            "84/84 - 2s - loss: 1.6912 - accuracy: 0.5108 - 2s/epoch - 25ms/step\n",
            "Epoch 19/50\n",
            "84/84 - 2s - loss: 1.6000 - accuracy: 0.5108 - 2s/epoch - 25ms/step\n",
            "Epoch 20/50\n",
            "84/84 - 2s - loss: 1.5178 - accuracy: 0.5108 - 2s/epoch - 24ms/step\n",
            "Epoch 21/50\n",
            "84/84 - 2s - loss: 1.4435 - accuracy: 0.5108 - 2s/epoch - 24ms/step\n",
            "Epoch 22/50\n",
            "84/84 - 2s - loss: 1.3766 - accuracy: 0.5108 - 2s/epoch - 24ms/step\n",
            "Epoch 23/50\n",
            "84/84 - 2s - loss: 1.3157 - accuracy: 0.5108 - 2s/epoch - 25ms/step\n",
            "Epoch 24/50\n",
            "84/84 - 2s - loss: 1.2611 - accuracy: 0.5138 - 2s/epoch - 24ms/step\n",
            "Epoch 25/50\n",
            "84/84 - 2s - loss: 1.2119 - accuracy: 0.5272 - 2s/epoch - 24ms/step\n",
            "Epoch 26/50\n",
            "84/84 - 2s - loss: 1.1661 - accuracy: 0.5238 - 2s/epoch - 24ms/step\n",
            "Epoch 27/50\n",
            "84/84 - 2s - loss: 1.1245 - accuracy: 0.5279 - 2s/epoch - 24ms/step\n",
            "Epoch 28/50\n",
            "84/84 - 2s - loss: 1.0867 - accuracy: 0.5353 - 2s/epoch - 25ms/step\n",
            "Epoch 29/50\n",
            "84/84 - 2s - loss: 1.0512 - accuracy: 0.5316 - 2s/epoch - 24ms/step\n",
            "Epoch 30/50\n",
            "84/84 - 2s - loss: 1.0209 - accuracy: 0.5350 - 2s/epoch - 25ms/step\n",
            "Epoch 31/50\n",
            "84/84 - 2s - loss: 0.9934 - accuracy: 0.5357 - 2s/epoch - 25ms/step\n",
            "Epoch 32/50\n",
            "84/84 - 2s - loss: 0.9657 - accuracy: 0.5379 - 2s/epoch - 24ms/step\n",
            "Epoch 33/50\n",
            "84/84 - 2s - loss: 0.9384 - accuracy: 0.5432 - 2s/epoch - 24ms/step\n",
            "Epoch 34/50\n",
            "84/84 - 2s - loss: 0.9145 - accuracy: 0.5487 - 2s/epoch - 25ms/step\n",
            "Epoch 35/50\n",
            "84/84 - 2s - loss: 0.8924 - accuracy: 0.5569 - 2s/epoch - 24ms/step\n",
            "Epoch 36/50\n",
            "84/84 - 2s - loss: 0.8669 - accuracy: 0.5647 - 2s/epoch - 25ms/step\n",
            "Epoch 37/50\n",
            "84/84 - 2s - loss: 0.8529 - accuracy: 0.5670 - 2s/epoch - 24ms/step\n",
            "Epoch 38/50\n",
            "84/84 - 2s - loss: 0.8324 - accuracy: 0.5815 - 2s/epoch - 25ms/step\n",
            "Epoch 39/50\n",
            "84/84 - 2s - loss: 0.8164 - accuracy: 0.5848 - 2s/epoch - 25ms/step\n",
            "Epoch 40/50\n",
            "84/84 - 2s - loss: 0.7922 - accuracy: 0.5904 - 2s/epoch - 24ms/step\n",
            "Epoch 41/50\n",
            "84/84 - 2s - loss: 0.7752 - accuracy: 0.5986 - 2s/epoch - 25ms/step\n",
            "Epoch 42/50\n",
            "84/84 - 2s - loss: 0.7540 - accuracy: 0.6075 - 2s/epoch - 25ms/step\n",
            "Epoch 43/50\n",
            "84/84 - 2s - loss: 0.7364 - accuracy: 0.6265 - 2s/epoch - 24ms/step\n",
            "Epoch 44/50\n",
            "84/84 - 2s - loss: 0.7281 - accuracy: 0.6187 - 2s/epoch - 25ms/step\n",
            "Epoch 45/50\n",
            "84/84 - 2s - loss: 0.7054 - accuracy: 0.6447 - 2s/epoch - 24ms/step\n",
            "Epoch 46/50\n",
            "84/84 - 2s - loss: 0.6885 - accuracy: 0.6570 - 2s/epoch - 24ms/step\n",
            "Epoch 47/50\n",
            "84/84 - 2s - loss: 0.6870 - accuracy: 0.6592 - 2s/epoch - 25ms/step\n",
            "Epoch 48/50\n",
            "84/84 - 2s - loss: 0.6533 - accuracy: 0.6875 - 2s/epoch - 25ms/step\n",
            "Epoch 49/50\n",
            "84/84 - 2s - loss: 0.6466 - accuracy: 0.6983 - 2s/epoch - 25ms/step\n",
            "Epoch 50/50\n",
            "84/84 - 2s - loss: 0.6197 - accuracy: 0.7124 - 2s/epoch - 24ms/step\n",
            "21/21 - 0s - loss: 1.2316 - accuracy: 0.5833 - 414ms/epoch - 20ms/step\n",
            "Epoch 1/50\n",
            "84/84 - 3s - loss: 14.9172 - accuracy: 0.4963 - 3s/epoch - 35ms/step\n",
            "Epoch 2/50\n",
            "84/84 - 2s - loss: 10.1197 - accuracy: 0.5175 - 2s/epoch - 24ms/step\n",
            "Epoch 3/50\n",
            "84/84 - 2s - loss: 8.6863 - accuracy: 0.5171 - 2s/epoch - 24ms/step\n",
            "Epoch 4/50\n",
            "84/84 - 2s - loss: 7.6942 - accuracy: 0.5167 - 2s/epoch - 24ms/step\n",
            "Epoch 5/50\n",
            "84/84 - 2s - loss: 6.9344 - accuracy: 0.5182 - 2s/epoch - 24ms/step\n",
            "Epoch 6/50\n",
            "84/84 - 2s - loss: 6.3371 - accuracy: 0.5175 - 2s/epoch - 24ms/step\n",
            "Epoch 7/50\n",
            "84/84 - 2s - loss: 5.8238 - accuracy: 0.5179 - 2s/epoch - 24ms/step\n",
            "Epoch 8/50\n",
            "84/84 - 2s - loss: 5.3788 - accuracy: 0.5219 - 2s/epoch - 24ms/step\n",
            "Epoch 9/50\n",
            "84/84 - 2s - loss: 5.0001 - accuracy: 0.5268 - 2s/epoch - 24ms/step\n",
            "Epoch 10/50\n",
            "84/84 - 2s - loss: 4.6668 - accuracy: 0.5201 - 2s/epoch - 24ms/step\n",
            "Epoch 11/50\n",
            "84/84 - 2s - loss: 4.3777 - accuracy: 0.5268 - 2s/epoch - 24ms/step\n",
            "Epoch 12/50\n",
            "84/84 - 2s - loss: 4.1017 - accuracy: 0.5286 - 2s/epoch - 24ms/step\n",
            "Epoch 13/50\n",
            "84/84 - 2s - loss: 3.8593 - accuracy: 0.5346 - 2s/epoch - 24ms/step\n",
            "Epoch 14/50\n",
            "84/84 - 2s - loss: 3.6502 - accuracy: 0.5331 - 2s/epoch - 24ms/step\n",
            "Epoch 15/50\n",
            "84/84 - 2s - loss: 3.4489 - accuracy: 0.5394 - 2s/epoch - 24ms/step\n",
            "Epoch 16/50\n",
            "84/84 - 2s - loss: 3.2621 - accuracy: 0.5432 - 2s/epoch - 24ms/step\n",
            "Epoch 17/50\n",
            "84/84 - 2s - loss: 3.0877 - accuracy: 0.5487 - 2s/epoch - 24ms/step\n",
            "Epoch 18/50\n",
            "84/84 - 2s - loss: 2.9390 - accuracy: 0.5499 - 2s/epoch - 24ms/step\n",
            "Epoch 19/50\n",
            "84/84 - 2s - loss: 2.7869 - accuracy: 0.5647 - 2s/epoch - 24ms/step\n",
            "Epoch 20/50\n",
            "84/84 - 2s - loss: 2.6564 - accuracy: 0.5778 - 2s/epoch - 24ms/step\n",
            "Epoch 21/50\n",
            "84/84 - 2s - loss: 2.5268 - accuracy: 0.5804 - 2s/epoch - 24ms/step\n",
            "Epoch 22/50\n",
            "84/84 - 2s - loss: 2.4005 - accuracy: 0.5949 - 2s/epoch - 24ms/step\n",
            "Epoch 23/50\n",
            "84/84 - 2s - loss: 2.2757 - accuracy: 0.5990 - 2s/epoch - 24ms/step\n",
            "Epoch 24/50\n",
            "84/84 - 2s - loss: 2.1900 - accuracy: 0.6019 - 2s/epoch - 24ms/step\n",
            "Epoch 25/50\n",
            "84/84 - 2s - loss: 2.0959 - accuracy: 0.6150 - 2s/epoch - 24ms/step\n",
            "Epoch 26/50\n",
            "84/84 - 2s - loss: 2.0076 - accuracy: 0.6306 - 2s/epoch - 24ms/step\n",
            "Epoch 27/50\n",
            "84/84 - 2s - loss: 1.9227 - accuracy: 0.6376 - 2s/epoch - 24ms/step\n",
            "Epoch 28/50\n",
            "84/84 - 2s - loss: 1.8404 - accuracy: 0.6362 - 2s/epoch - 24ms/step\n",
            "Epoch 29/50\n",
            "84/84 - 2s - loss: 1.7606 - accuracy: 0.6443 - 2s/epoch - 24ms/step\n",
            "Epoch 30/50\n",
            "84/84 - 2s - loss: 1.6928 - accuracy: 0.6469 - 2s/epoch - 24ms/step\n",
            "Epoch 31/50\n",
            "84/84 - 2s - loss: 1.6281 - accuracy: 0.6466 - 2s/epoch - 24ms/step\n",
            "Epoch 32/50\n",
            "84/84 - 2s - loss: 1.5652 - accuracy: 0.6577 - 2s/epoch - 24ms/step\n",
            "Epoch 33/50\n",
            "84/84 - 2s - loss: 1.4955 - accuracy: 0.6570 - 2s/epoch - 24ms/step\n",
            "Epoch 34/50\n",
            "84/84 - 2s - loss: 1.4361 - accuracy: 0.6685 - 2s/epoch - 24ms/step\n",
            "Epoch 35/50\n",
            "84/84 - 2s - loss: 1.3937 - accuracy: 0.6652 - 2s/epoch - 24ms/step\n",
            "Epoch 36/50\n",
            "84/84 - 2s - loss: 1.3526 - accuracy: 0.6685 - 2s/epoch - 24ms/step\n",
            "Epoch 37/50\n",
            "84/84 - 2s - loss: 1.2829 - accuracy: 0.6830 - 2s/epoch - 24ms/step\n",
            "Epoch 38/50\n",
            "84/84 - 2s - loss: 1.2610 - accuracy: 0.6838 - 2s/epoch - 24ms/step\n",
            "Epoch 39/50\n",
            "84/84 - 2s - loss: 1.2130 - accuracy: 0.6890 - 2s/epoch - 24ms/step\n",
            "Epoch 40/50\n",
            "84/84 - 2s - loss: 1.1683 - accuracy: 0.6979 - 2s/epoch - 24ms/step\n",
            "Epoch 41/50\n",
            "84/84 - 2s - loss: 1.1105 - accuracy: 0.7091 - 2s/epoch - 24ms/step\n",
            "Epoch 42/50\n",
            "84/84 - 2s - loss: 1.0822 - accuracy: 0.7128 - 2s/epoch - 24ms/step\n",
            "Epoch 43/50\n",
            "84/84 - 2s - loss: 1.0455 - accuracy: 0.7236 - 2s/epoch - 24ms/step\n",
            "Epoch 44/50\n",
            "84/84 - 2s - loss: 1.0100 - accuracy: 0.7251 - 2s/epoch - 24ms/step\n",
            "Epoch 45/50\n",
            "84/84 - 2s - loss: 0.9882 - accuracy: 0.7303 - 2s/epoch - 24ms/step\n",
            "Epoch 46/50\n",
            "84/84 - 2s - loss: 0.9743 - accuracy: 0.7299 - 2s/epoch - 24ms/step\n",
            "Epoch 47/50\n",
            "84/84 - 2s - loss: 0.9417 - accuracy: 0.7362 - 2s/epoch - 24ms/step\n",
            "Epoch 48/50\n",
            "84/84 - 2s - loss: 0.9084 - accuracy: 0.7437 - 2s/epoch - 24ms/step\n",
            "Epoch 49/50\n",
            "84/84 - 2s - loss: 0.9041 - accuracy: 0.7403 - 2s/epoch - 24ms/step\n",
            "Epoch 50/50\n",
            "84/84 - 2s - loss: 0.8756 - accuracy: 0.7548 - 2s/epoch - 24ms/step\n",
            "21/21 - 0s - loss: 1.9990 - accuracy: 0.5640 - 419ms/epoch - 20ms/step\n"
          ]
        }
      ],
      "source": [
        "model4_cv_results2 = cross_val_score(model4, final_images, final_labels)"
      ]
    },
    {
      "cell_type": "code",
      "execution_count": 48,
      "metadata": {
        "colab": {
          "base_uri": "https://localhost:8080/"
        },
        "id": "aPXnj9znVMpF",
        "outputId": "7504c972-6ae1-48f0-ed1e-888a75011417"
      },
      "outputs": [
        {
          "output_type": "execute_result",
          "data": {
            "text/plain": [
              "0.5889880895614624"
            ]
          },
          "metadata": {},
          "execution_count": 48
        }
      ],
      "source": [
        "model4_cv_results2.mean()"
      ]
    },
    {
      "cell_type": "code",
      "execution_count": 49,
      "metadata": {
        "id": "-d4wqzcVVMpF"
      },
      "outputs": [],
      "source": [
        "model4_cv_pickle = 'drive/MyDrive/model4_cv_pickle.sav'\n",
        "pickle.dump(model4_cv_results2, open(model4_cv_pickle, 'wb'))"
      ]
    },
    {
      "cell_type": "code",
      "execution_count": 51,
      "metadata": {
        "colab": {
          "base_uri": "https://localhost:8080/"
        },
        "id": "tW110Eh5VMpF",
        "outputId": "efb23d58-a0ea-4943-ae27-78b468652e96"
      },
      "outputs": [
        {
          "output_type": "stream",
          "name": "stdout",
          "text": [
            "Epoch 1/50\n",
            "INFO:tensorflow:Assets written to: /content/drive/MyDrive/model4_checkpoint/assets\n",
            "84/84 - 6s - loss: 13.8163 - accuracy: 0.5022 - val_loss: 10.0934 - val_accuracy: 0.5074 - 6s/epoch - 72ms/step\n",
            "Epoch 2/50\n",
            "84/84 - 2s - loss: 9.0270 - accuracy: 0.5179 - val_loss: 8.1380 - val_accuracy: 0.5074 - 2s/epoch - 28ms/step\n",
            "Epoch 3/50\n",
            "INFO:tensorflow:Assets written to: /content/drive/MyDrive/model4_checkpoint/assets\n",
            "84/84 - 5s - loss: 7.5088 - accuracy: 0.5164 - val_loss: 6.9441 - val_accuracy: 0.5208 - 5s/epoch - 57ms/step\n",
            "Epoch 4/50\n",
            "84/84 - 2s - loss: 6.4992 - accuracy: 0.5186 - val_loss: 6.0857 - val_accuracy: 0.5015 - 2s/epoch - 27ms/step\n",
            "Epoch 5/50\n",
            "84/84 - 2s - loss: 5.7507 - accuracy: 0.5193 - val_loss: 5.4324 - val_accuracy: 0.5045 - 2s/epoch - 27ms/step\n",
            "Epoch 6/50\n",
            "84/84 - 2s - loss: 5.1624 - accuracy: 0.5208 - val_loss: 4.9229 - val_accuracy: 0.5060 - 2s/epoch - 28ms/step\n",
            "Epoch 7/50\n",
            "84/84 - 2s - loss: 4.6940 - accuracy: 0.5197 - val_loss: 4.4748 - val_accuracy: 0.5030 - 2s/epoch - 28ms/step\n",
            "Epoch 8/50\n",
            "84/84 - 2s - loss: 4.2862 - accuracy: 0.5327 - val_loss: 4.1380 - val_accuracy: 0.4851 - 2s/epoch - 28ms/step\n",
            "Epoch 9/50\n",
            "84/84 - 2s - loss: 3.9668 - accuracy: 0.5298 - val_loss: 3.8119 - val_accuracy: 0.5030 - 2s/epoch - 27ms/step\n",
            "Epoch 10/50\n",
            "84/84 - 2s - loss: 3.6672 - accuracy: 0.5335 - val_loss: 3.5399 - val_accuracy: 0.5134 - 2s/epoch - 26ms/step\n",
            "Epoch 11/50\n",
            "84/84 - 2s - loss: 3.4144 - accuracy: 0.5350 - val_loss: 3.3011 - val_accuracy: 0.5179 - 2s/epoch - 28ms/step\n",
            "Epoch 12/50\n",
            "84/84 - 2s - loss: 3.1970 - accuracy: 0.5301 - val_loss: 3.1046 - val_accuracy: 0.5104 - 2s/epoch - 27ms/step\n",
            "Epoch 13/50\n",
            "INFO:tensorflow:Assets written to: /content/drive/MyDrive/model4_checkpoint/assets\n",
            "84/84 - 5s - loss: 2.9975 - accuracy: 0.5476 - val_loss: 2.9363 - val_accuracy: 0.5238 - 5s/epoch - 57ms/step\n",
            "Epoch 14/50\n",
            "INFO:tensorflow:Assets written to: /content/drive/MyDrive/model4_checkpoint/assets\n",
            "84/84 - 5s - loss: 2.8281 - accuracy: 0.5525 - val_loss: 2.7925 - val_accuracy: 0.5804 - 5s/epoch - 56ms/step\n",
            "Epoch 15/50\n",
            "84/84 - 2s - loss: 2.6815 - accuracy: 0.5420 - val_loss: 2.6178 - val_accuracy: 0.4926 - 2s/epoch - 28ms/step\n",
            "Epoch 16/50\n",
            "84/84 - 2s - loss: 2.5274 - accuracy: 0.5528 - val_loss: 2.4835 - val_accuracy: 0.5387 - 2s/epoch - 28ms/step\n",
            "Epoch 17/50\n",
            "84/84 - 2s - loss: 2.3913 - accuracy: 0.5740 - val_loss: 2.3654 - val_accuracy: 0.5402 - 2s/epoch - 29ms/step\n",
            "Epoch 18/50\n",
            "84/84 - 2s - loss: 2.2757 - accuracy: 0.5763 - val_loss: 2.2688 - val_accuracy: 0.5312 - 2s/epoch - 27ms/step\n",
            "Epoch 19/50\n",
            "84/84 - 2s - loss: 2.1729 - accuracy: 0.5748 - val_loss: 2.1712 - val_accuracy: 0.5387 - 2s/epoch - 27ms/step\n",
            "Epoch 20/50\n",
            "84/84 - 2s - loss: 2.0768 - accuracy: 0.5755 - val_loss: 2.0976 - val_accuracy: 0.5119 - 2s/epoch - 28ms/step\n",
            "Epoch 21/50\n",
            "84/84 - 2s - loss: 1.9846 - accuracy: 0.5908 - val_loss: 2.0041 - val_accuracy: 0.5357 - 2s/epoch - 28ms/step\n",
            "Epoch 22/50\n",
            "84/84 - 2s - loss: 1.8940 - accuracy: 0.6019 - val_loss: 1.9585 - val_accuracy: 0.5268 - 2s/epoch - 27ms/step\n",
            "Epoch 23/50\n",
            "84/84 - 2s - loss: 1.8254 - accuracy: 0.6049 - val_loss: 1.8586 - val_accuracy: 0.5417 - 2s/epoch - 27ms/step\n",
            "Epoch 24/50\n",
            "84/84 - 2s - loss: 1.7445 - accuracy: 0.6150 - val_loss: 1.8396 - val_accuracy: 0.5417 - 2s/epoch - 28ms/step\n",
            "Epoch 25/50\n",
            "84/84 - 2s - loss: 1.6798 - accuracy: 0.6254 - val_loss: 1.7818 - val_accuracy: 0.5580 - 2s/epoch - 28ms/step\n",
            "Epoch 26/50\n",
            "84/84 - 2s - loss: 1.6249 - accuracy: 0.6202 - val_loss: 1.7356 - val_accuracy: 0.5461 - 2s/epoch - 28ms/step\n",
            "Epoch 27/50\n",
            "84/84 - 2s - loss: 1.5712 - accuracy: 0.6153 - val_loss: 1.6732 - val_accuracy: 0.5506 - 2s/epoch - 27ms/step\n",
            "Epoch 28/50\n",
            "84/84 - 2s - loss: 1.5086 - accuracy: 0.6332 - val_loss: 1.6653 - val_accuracy: 0.5565 - 2s/epoch - 28ms/step\n",
            "Epoch 29/50\n",
            "84/84 - 2s - loss: 1.4465 - accuracy: 0.6332 - val_loss: 1.6532 - val_accuracy: 0.5610 - 2s/epoch - 27ms/step\n",
            "Epoch 30/50\n",
            "84/84 - 2s - loss: 1.4089 - accuracy: 0.6336 - val_loss: 1.6347 - val_accuracy: 0.5461 - 2s/epoch - 27ms/step\n",
            "Epoch 31/50\n",
            "84/84 - 2s - loss: 1.3596 - accuracy: 0.6403 - val_loss: 1.5556 - val_accuracy: 0.5446 - 2s/epoch - 28ms/step\n",
            "Epoch 32/50\n",
            "84/84 - 2s - loss: 1.3095 - accuracy: 0.6425 - val_loss: 1.6349 - val_accuracy: 0.5506 - 2s/epoch - 28ms/step\n",
            "Epoch 33/50\n",
            "84/84 - 2s - loss: 1.2645 - accuracy: 0.6484 - val_loss: 1.5524 - val_accuracy: 0.5446 - 2s/epoch - 28ms/step\n",
            "Epoch 34/50\n",
            "84/84 - 2s - loss: 1.2274 - accuracy: 0.6607 - val_loss: 1.5527 - val_accuracy: 0.5580 - 2s/epoch - 28ms/step\n",
            "Epoch 35/50\n",
            "84/84 - 2s - loss: 1.2154 - accuracy: 0.6562 - val_loss: 1.4690 - val_accuracy: 0.5744 - 2s/epoch - 26ms/step\n",
            "Epoch 36/50\n",
            "84/84 - 2s - loss: 1.1782 - accuracy: 0.6540 - val_loss: 1.5118 - val_accuracy: 0.5580 - 2s/epoch - 28ms/step\n",
            "Epoch 37/50\n",
            "84/84 - 2s - loss: 1.1309 - accuracy: 0.6667 - val_loss: 1.5973 - val_accuracy: 0.5804 - 2s/epoch - 28ms/step\n",
            "Epoch 38/50\n",
            "84/84 - 2s - loss: 1.1049 - accuracy: 0.6656 - val_loss: 1.6242 - val_accuracy: 0.5432 - 2s/epoch - 27ms/step\n",
            "Epoch 39/50\n",
            "84/84 - 2s - loss: 1.0644 - accuracy: 0.6775 - val_loss: 1.5008 - val_accuracy: 0.5551 - 2s/epoch - 27ms/step\n",
            "Epoch 40/50\n",
            "84/84 - 2s - loss: 1.0410 - accuracy: 0.6786 - val_loss: 1.6244 - val_accuracy: 0.5699 - 2s/epoch - 27ms/step\n",
            "Epoch 41/50\n",
            "84/84 - 2s - loss: 1.0179 - accuracy: 0.6894 - val_loss: 1.5035 - val_accuracy: 0.5774 - 2s/epoch - 27ms/step\n",
            "Epoch 42/50\n",
            "84/84 - 2s - loss: 0.9868 - accuracy: 0.6983 - val_loss: 1.6803 - val_accuracy: 0.5759 - 2s/epoch - 28ms/step\n",
            "Epoch 43/50\n",
            "84/84 - 2s - loss: 0.9484 - accuracy: 0.7188 - val_loss: 1.7333 - val_accuracy: 0.5759 - 2s/epoch - 28ms/step\n",
            "Epoch 44/50\n",
            "84/84 - 2s - loss: 0.9254 - accuracy: 0.7147 - val_loss: 1.5409 - val_accuracy: 0.5699 - 2s/epoch - 28ms/step\n",
            "Epoch 45/50\n",
            "84/84 - 2s - loss: 0.9015 - accuracy: 0.7392 - val_loss: 1.7703 - val_accuracy: 0.5610 - 2s/epoch - 28ms/step\n",
            "Epoch 46/50\n",
            "84/84 - 2s - loss: 0.8953 - accuracy: 0.7325 - val_loss: 1.5697 - val_accuracy: 0.5744 - 2s/epoch - 27ms/step\n",
            "Epoch 47/50\n",
            "84/84 - 2s - loss: 0.8593 - accuracy: 0.7522 - val_loss: 1.8329 - val_accuracy: 0.5804 - 2s/epoch - 27ms/step\n",
            "Epoch 48/50\n",
            "84/84 - 2s - loss: 0.8382 - accuracy: 0.7493 - val_loss: 1.7427 - val_accuracy: 0.5804 - 2s/epoch - 27ms/step\n",
            "Epoch 49/50\n",
            "84/84 - 2s - loss: 0.8153 - accuracy: 0.7697 - val_loss: 1.6846 - val_accuracy: 0.5491 - 2s/epoch - 28ms/step\n",
            "Epoch 50/50\n",
            "84/84 - 2s - loss: 0.7781 - accuracy: 0.7831 - val_loss: 1.7856 - val_accuracy: 0.5357 - 2s/epoch - 28ms/step\n"
          ]
        }
      ],
      "source": [
        "model4_filepath = '/content/drive/MyDrive/model4_checkpoint'\n",
        "model4_checkpoint_callback = ModelCheckpoint(filepath=model4_filepath,\n",
        "                                                 save_best_only=True,\n",
        "                                                 monitor='val_accuracy',\n",
        "                                                 mode='max')\n",
        "\n",
        "model4_results = model4.fit(final_images, final_labels, validation_split=.2, callbacks=[model4_checkpoint_callback])"
      ]
    },
    {
      "cell_type": "code",
      "execution_count": 52,
      "metadata": {
        "colab": {
          "base_uri": "https://localhost:8080/"
        },
        "id": "Ae7jQFKsRPfn",
        "outputId": "51d70e2b-4c39-4a8d-e1c0-8f23f9e7b53f"
      },
      "outputs": [
        {
          "output_type": "stream",
          "name": "stdout",
          "text": [
            "INFO:tensorflow:Assets written to: ram://46a25abd-800a-4923-a442-61329ac72995/assets\n"
          ]
        }
      ],
      "source": [
        "model4_results_pickle = 'drive/MyDrive/model4_results_pickle.sav'\n",
        "pickle.dump(model4_results, open(model4_results_pickle, 'wb'))"
      ]
    },
    {
      "cell_type": "code",
      "execution_count": 53,
      "metadata": {
        "colab": {
          "base_uri": "https://localhost:8080/"
        },
        "id": "FfxfRlmGVMpF",
        "outputId": "27a25e15-5521-4484-e89d-d1bb03143d97"
      },
      "outputs": [
        {
          "output_type": "stream",
          "name": "stdout",
          "text": [
            "INFO:tensorflow:Assets written to: ram://ae0267de-5b5a-4ed9-9095-b9600a817dd0/assets\n"
          ]
        }
      ],
      "source": [
        "model4_pickle = 'drive/MyDrive/model4_pickle.sav'\n",
        "pickle.dump(model4, open(model4_pickle, 'wb'))"
      ]
    },
    {
      "cell_type": "code",
      "execution_count": null,
      "metadata": {
        "id": "YmpD9fMzuXg-"
      },
      "outputs": [],
      "source": [
        ""
      ]
    }
  ],
  "metadata": {
    "accelerator": "GPU",
    "colab": {
      "name": "Model3_Notebook.ipynb",
      "provenance": []
    },
    "kernelspec": {
      "display_name": "tf-test",
      "language": "python",
      "name": "tf-test"
    },
    "language_info": {
      "codemirror_mode": {
        "name": "ipython",
        "version": 3
      },
      "file_extension": ".py",
      "mimetype": "text/x-python",
      "name": "python",
      "nbconvert_exporter": "python",
      "pygments_lexer": "ipython3",
      "version": "3.6.13"
    },
    "toc": {
      "base_numbering": 1,
      "nav_menu": {},
      "number_sections": true,
      "sideBar": true,
      "skip_h1_title": false,
      "title_cell": "Table of Contents",
      "title_sidebar": "Contents",
      "toc_cell": false,
      "toc_position": {},
      "toc_section_display": true,
      "toc_window_display": false
    }
  },
  "nbformat": 4,
  "nbformat_minor": 0
}