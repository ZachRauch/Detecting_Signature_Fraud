{
  "cells": [
    {
      "cell_type": "markdown",
      "metadata": {
        "id": "0u7YTY_2VMo5"
      },
      "source": [
        "# Signature Classification"
      ]
    },
    {
      "cell_type": "markdown",
      "metadata": {
        "id": "xjUEM33ZVMo8"
      },
      "source": [
        "![img](https://github.com/ZachRauch/Signature_Classification/blob/main/images/signature_banner.jpeg?raw=1)"
      ]
    },
    {
      "cell_type": "markdown",
      "metadata": {
        "id": "pMutZcPfVMo8"
      },
      "source": [
        "## Overview"
      ]
    },
    {
      "cell_type": "markdown",
      "metadata": {
        "id": "A3nz0P2pVMo8"
      },
      "source": [
        "The aim of this analysis is to identify fraudulent signatures in a dataset. My audience here is _______. Using just a small dataset with only 300 sample I was able to create a "
      ]
    },
    {
      "cell_type": "markdown",
      "metadata": {
        "id": "zTaZIfQdVMo8"
      },
      "source": [
        "## Business Problem"
      ]
    },
    {
      "cell_type": "markdown",
      "metadata": {
        "id": "Mb3CrM7uVMo9"
      },
      "source": [
        "Currently institutions and businesses recognize signatures as the primary way of authenticating transactions. Signatures are used to sign checks, authorize documents and contracts, and validate credit card transactions. According to recent studies, check fraud costs banks about $900M a year with 22 percent of all fraudulent checks attributed to signature fraud. Therefor, creating an algorithm to identify signature fraud is a valuable asset. "
      ]
    },
    {
      "cell_type": "code",
      "execution_count": null,
      "metadata": {
        "id": "BOSvcOrbVMo9"
      },
      "outputs": [],
      "source": [
        ""
      ]
    },
    {
      "cell_type": "markdown",
      "metadata": {
        "id": "yPdUjdUbVMo-"
      },
      "source": [
        "## Imports"
      ]
    },
    {
      "cell_type": "code",
      "execution_count": 1,
      "metadata": {
        "ExecuteTime": {
          "end_time": "2022-05-23T14:37:08.394347Z",
          "start_time": "2022-05-23T14:37:04.340878Z"
        },
        "id": "nVM33V7MVMo-"
      },
      "outputs": [],
      "source": [
        "import pandas as pd\n",
        "import numpy as np\n",
        "import matplotlib.pyplot as plt\n",
        "%matplotlib inline\n",
        "import seaborn as sns\n",
        "import tensorflow as tf\n",
        "from tensorflow.keras.models import Sequential\n",
        "import zipfile\n",
        "from tensorflow.keras.preprocessing.image import ImageDataGenerator, array_to_img, img_to_array, load_img\n",
        "from tensorflow.keras import models, layers, optimizers, metrics, regularizers, losses\n",
        "from tensorflow.keras.wrappers import scikit_learn\n",
        "from tensorflow.keras.regularizers import l2\n",
        "from tensorflow.keras.callbacks import ModelCheckpoint\n",
        "\n",
        "from sklearn.model_selection import train_test_split, cross_val_score\n",
        "from sklearn.dummy import DummyClassifier\n",
        "from sklearn.metrics import auc, recall_score, precision_score, \\\n",
        "                            confusion_matrix, plot_confusion_matrix, \\\n",
        "                            roc_auc_score, roc_curve\n",
        "from tensorflow.keras.optimizers import SGD, Adam\n",
        "import pickle\n",
        "\n",
        "\n",
        "seed = 777\n",
        "tf.random.set_seed(seed)\n",
        "np.random.seed(seed)"
      ]
    },
    {
      "cell_type": "markdown",
      "metadata": {
        "id": "ZIokb6aUVMo_"
      },
      "source": [
        "## Colab Necessary Code"
      ]
    },
    {
      "cell_type": "markdown",
      "metadata": {
        "id": "7oNb5f32VMpA"
      },
      "source": [
        "Google Colab was used to help streamline the modeling process. Modeling using Convolutional Neural Networks can be computationally expensive, so if you would like to run this notebook faster, I would recommend creating a Colab account and storing the data, discussed below, in a Google Drive file. "
      ]
    },
    {
      "cell_type": "code",
      "execution_count": 2,
      "metadata": {
        "ExecuteTime": {
          "end_time": "2022-05-23T14:37:08.397228Z",
          "start_time": "2022-05-23T14:37:08.395733Z"
        },
        "colab": {
          "base_uri": "https://localhost:8080/"
        },
        "id": "tU9iM7l-VMpA",
        "outputId": "01e246e3-a4fb-4fd2-a61a-4aa815660ea2"
      },
      "outputs": [
        {
          "output_type": "stream",
          "name": "stdout",
          "text": [
            "Mounted at /content/drive\n"
          ]
        }
      ],
      "source": [
        "from google.colab import drive\n",
        "drive.mount('/content/drive')"
      ]
    },
    {
      "cell_type": "markdown",
      "metadata": {
        "id": "VXjqDovJVMpA"
      },
      "source": [
        "## Data"
      ]
    },
    {
      "cell_type": "markdown",
      "metadata": {
        "id": "2xfU2eEtVMpA"
      },
      "source": [
        "The data used in this notebook can be found [here](https://www.kaggle.com/datasets/divyanshrai/handwritten-signatures). The dataset contains just 300 samples of genuine and forged signatures from 30 people, of which 50 percent are genuine and 50 percent are forged. "
      ]
    },
    {
      "cell_type": "code",
      "execution_count": 3,
      "metadata": {
        "ExecuteTime": {
          "end_time": "2022-05-23T14:37:08.402015Z",
          "start_time": "2022-05-23T14:37:08.400250Z"
        },
        "id": "teE595ANVMpA"
      },
      "outputs": [],
      "source": [
        "# instantiate ImageDataGenerator scaling each pixel's values down to a scale of 1\n",
        "img = ImageDataGenerator(rescale=1/255)"
      ]
    },
    {
      "cell_type": "code",
      "execution_count": 4,
      "metadata": {
        "ExecuteTime": {
          "end_time": "2022-05-23T14:37:08.405039Z",
          "start_time": "2022-05-23T14:37:08.403576Z"
        },
        "id": "koM9NmKQVMpB"
      },
      "outputs": [],
      "source": [
        "# data_path = '../Data/sample_Signature/sample_Signature/'\n",
        "# For Colab \n",
        "data_path = '/content/drive/MyDrive/sample_Signature/sample_Signature/'"
      ]
    },
    {
      "cell_type": "code",
      "execution_count": 5,
      "metadata": {
        "ExecuteTime": {
          "end_time": "2022-05-23T14:37:08.517937Z",
          "start_time": "2022-05-23T14:37:08.406114Z"
        },
        "colab": {
          "base_uri": "https://localhost:8080/"
        },
        "id": "_0ozmoZ0VMpB",
        "outputId": "420cfd24-5cd3-4d6c-88eb-10c2265974b5",
        "scrolled": false
      },
      "outputs": [
        {
          "output_type": "stream",
          "name": "stdout",
          "text": [
            "Found 300 images belonging to 2 classes.\n"
          ]
        }
      ],
      "source": [
        "# Importing the data\n",
        "data = img.flow_from_directory(data_path, color_mode='grayscale',\\\n",
        "                               batch_size=300, class_mode='binary')"
      ]
    },
    {
      "cell_type": "code",
      "execution_count": 6,
      "metadata": {
        "ExecuteTime": {
          "end_time": "2022-05-23T14:37:08.526273Z",
          "start_time": "2022-05-23T14:37:08.519403Z"
        },
        "colab": {
          "base_uri": "https://localhost:8080/"
        },
        "id": "Z4x8cSpYVMpB",
        "outputId": "9498f1ce-1fae-4457-d73e-be2cc7384f1c"
      },
      "outputs": [
        {
          "output_type": "execute_result",
          "data": {
            "text/plain": [
              "{'forged': 0, 'genuine': 1}"
            ]
          },
          "metadata": {},
          "execution_count": 6
        }
      ],
      "source": [
        "data.class_indices"
      ]
    },
    {
      "cell_type": "code",
      "execution_count": 7,
      "metadata": {
        "ExecuteTime": {
          "end_time": "2022-05-23T14:37:11.825565Z",
          "start_time": "2022-05-23T14:37:08.527770Z"
        },
        "id": "6qJmZYLlVMpB"
      },
      "outputs": [],
      "source": [
        "data_images, data_labels = next(data)"
      ]
    },
    {
      "cell_type": "code",
      "execution_count": 8,
      "metadata": {
        "ExecuteTime": {
          "end_time": "2022-05-23T14:37:11.829359Z",
          "start_time": "2022-05-23T14:37:11.826636Z"
        },
        "colab": {
          "base_uri": "https://localhost:8080/"
        },
        "id": "eHOpWE8fVMpB",
        "outputId": "e9e904fe-484e-4003-a039-d8c72ecb349d"
      },
      "outputs": [
        {
          "output_type": "execute_result",
          "data": {
            "text/plain": [
              "(300, 256, 256, 1)"
            ]
          },
          "metadata": {},
          "execution_count": 8
        }
      ],
      "source": [
        "data_images.shape"
      ]
    },
    {
      "cell_type": "code",
      "execution_count": 9,
      "metadata": {
        "ExecuteTime": {
          "end_time": "2022-05-23T14:37:11.832271Z",
          "start_time": "2022-05-23T14:37:11.830100Z"
        },
        "colab": {
          "base_uri": "https://localhost:8080/"
        },
        "id": "RQFzzw2wVMpB",
        "outputId": "84934216-26f1-400e-fa39-47a760696020"
      },
      "outputs": [
        {
          "output_type": "execute_result",
          "data": {
            "text/plain": [
              "(300,)"
            ]
          },
          "metadata": {},
          "execution_count": 9
        }
      ],
      "source": [
        "data_labels.shape"
      ]
    },
    {
      "cell_type": "code",
      "execution_count": 10,
      "metadata": {
        "ExecuteTime": {
          "end_time": "2022-05-23T14:37:11.888774Z",
          "start_time": "2022-05-23T14:37:11.833177Z"
        },
        "id": "Eae0xFITVMpC"
      },
      "outputs": [],
      "source": [
        "X_train, X_test, y_train, y_test = train_test_split( \\\n",
        "            data_images, data_labels, random_state=seed, test_size=.2)"
      ]
    },
    {
      "cell_type": "code",
      "execution_count": 11,
      "metadata": {
        "ExecuteTime": {
          "end_time": "2022-05-23T14:37:11.893566Z",
          "start_time": "2022-05-23T14:37:11.890017Z"
        },
        "colab": {
          "base_uri": "https://localhost:8080/"
        },
        "id": "NMHbV_qeVMpC",
        "outputId": "9bd108dc-9f64-45ef-c339-34448247efbb"
      },
      "outputs": [
        {
          "output_type": "execute_result",
          "data": {
            "text/plain": [
              "(240, 256, 256, 1)"
            ]
          },
          "metadata": {},
          "execution_count": 11
        }
      ],
      "source": [
        "X_train.shape"
      ]
    },
    {
      "cell_type": "code",
      "execution_count": 12,
      "metadata": {
        "ExecuteTime": {
          "end_time": "2022-05-23T14:37:11.897926Z",
          "start_time": "2022-05-23T14:37:11.894542Z"
        },
        "colab": {
          "base_uri": "https://localhost:8080/"
        },
        "id": "IyH2XoyRVMpC",
        "outputId": "076c23a6-1330-4a37-8549-dbe2282251f0",
        "scrolled": true
      },
      "outputs": [
        {
          "output_type": "execute_result",
          "data": {
            "text/plain": [
              "(240,)"
            ]
          },
          "metadata": {},
          "execution_count": 12
        }
      ],
      "source": [
        "y_train.shape"
      ]
    },
    {
      "cell_type": "markdown",
      "metadata": {
        "id": "fNf9MK9tVMpC"
      },
      "source": [
        "Above we instantiate Keras' ImageDataGenerator which will scale each pixel's values down to a value of 1. Next we import the data and separate into the images themselves and their respective labels. Finally we split it into a train and test dataset."
      ]
    },
    {
      "cell_type": "markdown",
      "metadata": {
        "id": "KjCHLRtrVMpC"
      },
      "source": [
        "### Image Augmentation"
      ]
    },
    {
      "cell_type": "markdown",
      "metadata": {
        "id": "awA4mx5rVMpC"
      },
      "source": [
        "Because we have such a small dataset it is important to use image augmentation to artificially expand the training dataset. Below we do several forms of data augmentation individually before combining the techniques at the end."
      ]
    },
    {
      "cell_type": "markdown",
      "metadata": {
        "id": "dSXIKgZ_VMpC"
      },
      "source": [
        "#### Zoom Augmentation"
      ]
    },
    {
      "cell_type": "markdown",
      "metadata": {
        "id": "7Src6KPVVMpC"
      },
      "source": [
        "The first technique we explore is zoom range. Entering a range of values, .25 and 1 in this case, randomly applies a zoom to each image within that range."
      ]
    },
    {
      "cell_type": "code",
      "execution_count": 13,
      "metadata": {
        "ExecuteTime": {
          "end_time": "2022-05-23T14:37:11.925857Z",
          "start_time": "2022-05-23T14:37:11.901105Z"
        },
        "id": "RjujmkZjVMpC"
      },
      "outputs": [],
      "source": [
        "aug = ImageDataGenerator(zoom_range=[.25,1])\n",
        "aug.fit(X_train)\n",
        "aug_data = aug.flow(X_train, y_train, batch_size=240)"
      ]
    },
    {
      "cell_type": "code",
      "execution_count": 14,
      "metadata": {
        "ExecuteTime": {
          "end_time": "2022-05-23T14:37:12.810455Z",
          "start_time": "2022-05-23T14:37:11.926820Z"
        },
        "id": "aj8qvOS0VMpC"
      },
      "outputs": [],
      "source": [
        "aug_images, aug_labels = next(aug_data)"
      ]
    },
    {
      "cell_type": "code",
      "execution_count": 15,
      "metadata": {
        "ExecuteTime": {
          "end_time": "2022-05-23T14:37:12.814052Z",
          "start_time": "2022-05-23T14:37:12.811562Z"
        },
        "colab": {
          "base_uri": "https://localhost:8080/"
        },
        "id": "nV0e-1mtVMpC",
        "outputId": "79c47be5-bace-4f23-b3b3-bf399a79b728"
      },
      "outputs": [
        {
          "output_type": "execute_result",
          "data": {
            "text/plain": [
              "(240, 256, 256, 1)"
            ]
          },
          "metadata": {},
          "execution_count": 15
        }
      ],
      "source": [
        "aug_images.shape"
      ]
    },
    {
      "cell_type": "code",
      "execution_count": 16,
      "metadata": {
        "ExecuteTime": {
          "end_time": "2022-05-23T14:37:12.816951Z",
          "start_time": "2022-05-23T14:37:12.814825Z"
        },
        "colab": {
          "base_uri": "https://localhost:8080/"
        },
        "id": "HitjcbxcVMpC",
        "outputId": "86a992e4-8efa-452f-9af2-d5f63898d034",
        "scrolled": false
      },
      "outputs": [
        {
          "output_type": "execute_result",
          "data": {
            "text/plain": [
              "(240,)"
            ]
          },
          "metadata": {},
          "execution_count": 16
        }
      ],
      "source": [
        "aug_labels.shape"
      ]
    },
    {
      "cell_type": "code",
      "execution_count": 17,
      "metadata": {
        "ExecuteTime": {
          "end_time": "2022-05-23T14:37:12.822840Z",
          "start_time": "2022-05-23T14:37:12.817656Z"
        },
        "colab": {
          "base_uri": "https://localhost:8080/",
          "height": 0
        },
        "id": "XpH8jFWvVMpC",
        "outputId": "b8b364d6-01c9-4bc4-9dcf-1965bb6d8dfd",
        "scrolled": true
      },
      "outputs": [
        {
          "output_type": "execute_result",
          "data": {
            "text/plain": [
              "<PIL.Image.Image image mode=L size=256x256 at 0x7F4DB26FD690>"
            ],
            "image/png": "[encoded data removed]"
          },
          "metadata": {},
          "execution_count": 17
        }
      ],
      "source": [
        "array_to_img(aug_images[0])"
      ]
    },
    {
      "cell_type": "code",
      "execution_count": 18,
      "metadata": {
        "ExecuteTime": {
          "end_time": "2022-05-23T14:37:12.870297Z",
          "start_time": "2022-05-23T14:37:12.823934Z"
        },
        "id": "OZfqxBbFVMpD"
      },
      "outputs": [],
      "source": [
        "new_images1 = np.concatenate([X_train, aug_images])\n",
        "new_labels1 = np.concatenate([y_train, aug_labels])"
      ]
    },
    {
      "cell_type": "code",
      "execution_count": 19,
      "metadata": {
        "ExecuteTime": {
          "end_time": "2022-05-23T14:37:12.875326Z",
          "start_time": "2022-05-23T14:37:12.871437Z"
        },
        "colab": {
          "base_uri": "https://localhost:8080/"
        },
        "id": "kz_W3IftVMpD",
        "outputId": "1ba15d0a-1c42-4c6e-912d-d2a388d81b3d"
      },
      "outputs": [
        {
          "output_type": "execute_result",
          "data": {
            "text/plain": [
              "(480, 256, 256, 1)"
            ]
          },
          "metadata": {},
          "execution_count": 19
        }
      ],
      "source": [
        "new_images1.shape"
      ]
    },
    {
      "cell_type": "code",
      "execution_count": 20,
      "metadata": {
        "ExecuteTime": {
          "end_time": "2022-05-23T14:37:12.879471Z",
          "start_time": "2022-05-23T14:37:12.876344Z"
        },
        "colab": {
          "base_uri": "https://localhost:8080/"
        },
        "id": "4SBvqi0mVMpD",
        "outputId": "f9f3d023-ab52-4cb7-d8b0-d0151bc2a1be",
        "scrolled": true
      },
      "outputs": [
        {
          "output_type": "execute_result",
          "data": {
            "text/plain": [
              "(480,)"
            ]
          },
          "metadata": {},
          "execution_count": 20
        }
      ],
      "source": [
        "new_labels1.shape"
      ]
    },
    {
      "cell_type": "markdown",
      "metadata": {
        "id": "fOXrvLp2VMpD"
      },
      "source": [
        "#### Width Augmentation"
      ]
    },
    {
      "cell_type": "markdown",
      "metadata": {
        "id": "y2WYL6XeVMpD"
      },
      "source": [
        "The next method for augmentation used was width shift range. With a range of .3 the images will be randomly assigned a width down to .3 of the original image size. "
      ]
    },
    {
      "cell_type": "code",
      "execution_count": 21,
      "metadata": {
        "ExecuteTime": {
          "end_time": "2022-05-23T14:37:12.904430Z",
          "start_time": "2022-05-23T14:37:12.880692Z"
        },
        "id": "vRXsAvgpVMpD"
      },
      "outputs": [],
      "source": [
        "aug = ImageDataGenerator(width_shift_range=.3)\n",
        "aug.fit(X_train)\n",
        "aug2_data = aug.flow(X_train, y_train, batch_size=240)"
      ]
    },
    {
      "cell_type": "code",
      "execution_count": 22,
      "metadata": {
        "ExecuteTime": {
          "end_time": "2022-05-23T14:37:13.836303Z",
          "start_time": "2022-05-23T14:37:12.905556Z"
        },
        "id": "5JsawItTVMpD"
      },
      "outputs": [],
      "source": [
        "aug2_images, aug2_labels = next(aug2_data)"
      ]
    },
    {
      "cell_type": "code",
      "execution_count": 23,
      "metadata": {
        "ExecuteTime": {
          "end_time": "2022-05-23T14:37:13.970198Z",
          "start_time": "2022-05-23T14:37:13.837257Z"
        },
        "id": "tTYNA-_FVMpD"
      },
      "outputs": [],
      "source": [
        "new_images2 = np.concatenate([new_images1, aug2_images])\n",
        "new_labels2 = np.concatenate([new_labels1, aug2_labels])"
      ]
    },
    {
      "cell_type": "markdown",
      "metadata": {
        "id": "yTt4dtS0VMpD"
      },
      "source": [
        "#### Height Augmentation"
      ]
    },
    {
      "cell_type": "markdown",
      "metadata": {
        "id": "B_3cqar6VMpD"
      },
      "source": [
        "The next method for augmentation used was height shift range. With a range of .3 the images will be randomly assigned a height down to .3 of the original image size."
      ]
    },
    {
      "cell_type": "code",
      "execution_count": 24,
      "metadata": {
        "ExecuteTime": {
          "end_time": "2022-05-23T14:37:13.994817Z",
          "start_time": "2022-05-23T14:37:13.971519Z"
        },
        "id": "JMp9DIJdVMpD"
      },
      "outputs": [],
      "source": [
        "aug = ImageDataGenerator(height_shift_range=.3)\n",
        "aug.fit(X_train)\n",
        "aug3_data = aug.flow(X_train, y_train, batch_size=240)"
      ]
    },
    {
      "cell_type": "code",
      "execution_count": 25,
      "metadata": {
        "ExecuteTime": {
          "end_time": "2022-05-23T14:37:14.909526Z",
          "start_time": "2022-05-23T14:37:13.995765Z"
        },
        "id": "fkHjqgyzVMpD"
      },
      "outputs": [],
      "source": [
        "aug3_images, aug3_labels = next(aug3_data)"
      ]
    },
    {
      "cell_type": "code",
      "execution_count": 26,
      "metadata": {
        "ExecuteTime": {
          "end_time": "2022-05-23T14:37:15.082265Z",
          "start_time": "2022-05-23T14:37:14.910455Z"
        },
        "id": "8LLpw__3VMpD"
      },
      "outputs": [],
      "source": [
        "new_images3 = np.concatenate([new_images2, aug3_images])\n",
        "new_labels3 = np.concatenate([new_labels2, aug3_labels])"
      ]
    },
    {
      "cell_type": "markdown",
      "metadata": {
        "ExecuteTime": {
          "end_time": "2022-05-18T18:10:53.996172Z",
          "start_time": "2022-05-18T18:10:53.989621Z"
        },
        "id": "-CzmvIhBVMpD"
      },
      "source": [
        "#### Rotation Augmentation"
      ]
    },
    {
      "cell_type": "markdown",
      "metadata": {
        "ExecuteTime": {
          "end_time": "2022-05-20T18:31:05.497987Z",
          "start_time": "2022-05-20T18:31:05.418085Z"
        },
        "id": "Zc9ICCBUVMpD"
      },
      "source": [
        "Next we apply a random rotation to each image up to 30 degrees."
      ]
    },
    {
      "cell_type": "code",
      "execution_count": 27,
      "metadata": {
        "ExecuteTime": {
          "end_time": "2022-05-23T14:37:15.104454Z",
          "start_time": "2022-05-23T14:37:15.083345Z"
        },
        "id": "r2wYlSbGVMpD"
      },
      "outputs": [],
      "source": [
        "aug = ImageDataGenerator(rotation_range=30)\n",
        "aug.fit(X_train)\n",
        "aug4_data = aug.flow(X_train, y_train, batch_size=240)"
      ]
    },
    {
      "cell_type": "code",
      "execution_count": 28,
      "metadata": {
        "ExecuteTime": {
          "end_time": "2022-05-23T14:37:16.015689Z",
          "start_time": "2022-05-23T14:37:15.105400Z"
        },
        "id": "Eltvmy_pVMpD"
      },
      "outputs": [],
      "source": [
        "aug4_images, aug4_labels = next(aug4_data)"
      ]
    },
    {
      "cell_type": "code",
      "execution_count": 29,
      "metadata": {
        "ExecuteTime": {
          "end_time": "2022-05-23T14:37:16.227785Z",
          "start_time": "2022-05-23T14:37:16.016782Z"
        },
        "id": "7Oyz8kNFVMpD"
      },
      "outputs": [],
      "source": [
        "new_images4 = np.concatenate([new_images3, aug4_images])\n",
        "new_labels4 = np.concatenate([new_labels3, aug4_labels])"
      ]
    },
    {
      "cell_type": "markdown",
      "metadata": {
        "id": "zrVoakjgVMpE"
      },
      "source": [
        "#### Shear Augmentation"
      ]
    },
    {
      "cell_type": "markdown",
      "metadata": {
        "id": "4MhkPjfRVMpE"
      },
      "source": [
        "We then apply a random shear value to each image. This angles the corners of each image up to 30 degrees."
      ]
    },
    {
      "cell_type": "code",
      "execution_count": 30,
      "metadata": {
        "ExecuteTime": {
          "end_time": "2022-05-23T14:37:16.271825Z",
          "start_time": "2022-05-23T14:37:16.228737Z"
        },
        "id": "A98t7WqlVMpE"
      },
      "outputs": [],
      "source": [
        "aug = ImageDataGenerator(shear_range=30)\n",
        "aug.fit(X_train)\n",
        "aug5_data = aug.flow(X_train, y_train, batch_size=240)"
      ]
    },
    {
      "cell_type": "code",
      "execution_count": 31,
      "metadata": {
        "ExecuteTime": {
          "end_time": "2022-05-23T14:37:17.170867Z",
          "start_time": "2022-05-23T14:37:16.272764Z"
        },
        "id": "4Vy3Qkq1VMpE"
      },
      "outputs": [],
      "source": [
        "aug5_images, aug5_labels = next(aug5_data)"
      ]
    },
    {
      "cell_type": "code",
      "execution_count": 32,
      "metadata": {
        "ExecuteTime": {
          "end_time": "2022-05-23T14:37:17.493386Z",
          "start_time": "2022-05-23T14:37:17.172084Z"
        },
        "id": "Zo08rN86VMpE"
      },
      "outputs": [],
      "source": [
        "new_images5 = np.concatenate([new_images4, aug5_images])\n",
        "new_labels5 = np.concatenate([new_labels4, aug5_labels])"
      ]
    },
    {
      "cell_type": "markdown",
      "metadata": {
        "id": "vPAJLxNgVMpE"
      },
      "source": [
        "#### Brightness Augmentation"
      ]
    },
    {
      "cell_type": "markdown",
      "metadata": {
        "ExecuteTime": {
          "end_time": "2022-05-20T18:49:59.247310Z",
          "start_time": "2022-05-20T18:49:59.202157Z"
        },
        "id": "q--F3ZLOVMpE"
      },
      "source": [
        "Finally we have brightness augmentation. This applies a random brightness shift within the provided range. "
      ]
    },
    {
      "cell_type": "code",
      "execution_count": 33,
      "metadata": {
        "ExecuteTime": {
          "end_time": "2022-05-23T14:37:17.518943Z",
          "start_time": "2022-05-23T14:37:17.494551Z"
        },
        "id": "P9euYu32VMpE"
      },
      "outputs": [],
      "source": [
        "aug = ImageDataGenerator(brightness_range=(1,2))\n",
        "aug.fit(X_train)\n",
        "aug5_data = aug.flow(X_train, y_train, batch_size=240)"
      ]
    },
    {
      "cell_type": "code",
      "execution_count": 34,
      "metadata": {
        "ExecuteTime": {
          "end_time": "2022-05-23T14:37:17.599761Z",
          "start_time": "2022-05-23T14:37:17.519903Z"
        },
        "id": "I8FjcCHlVMpE"
      },
      "outputs": [],
      "source": [
        "aug6_images, aug6_labels = next(aug5_data)"
      ]
    },
    {
      "cell_type": "code",
      "execution_count": 35,
      "metadata": {
        "ExecuteTime": {
          "end_time": "2022-05-23T14:37:17.933568Z",
          "start_time": "2022-05-23T14:37:17.600704Z"
        },
        "id": "crrsJuFCVMpE"
      },
      "outputs": [],
      "source": [
        "new_images6 = np.concatenate([new_images5, aug6_images])\n",
        "new_labels6 = np.concatenate([new_labels5, aug6_labels])"
      ]
    },
    {
      "cell_type": "code",
      "execution_count": 36,
      "metadata": {
        "ExecuteTime": {
          "end_time": "2022-05-23T14:37:17.940498Z",
          "start_time": "2022-05-23T14:37:17.936520Z"
        },
        "colab": {
          "base_uri": "https://localhost:8080/"
        },
        "id": "LbIctUqMVMpE",
        "outputId": "990b279a-3307-461e-c641-232137ad741f"
      },
      "outputs": [
        {
          "output_type": "execute_result",
          "data": {
            "text/plain": [
              "(1680,)"
            ]
          },
          "metadata": {},
          "execution_count": 36
        }
      ],
      "source": [
        "new_labels6.shape"
      ]
    },
    {
      "cell_type": "markdown",
      "metadata": {
        "id": "PraGgowOVMpE"
      },
      "source": [
        "#### A little bit of everything Augmentation"
      ]
    },
    {
      "cell_type": "markdown",
      "metadata": {
        "id": "oeWeNkeEVMpE"
      },
      "source": [
        "Now that we have augmented each image with a single augmentation, we will again augment all images with a combination of each augmentation. "
      ]
    },
    {
      "cell_type": "code",
      "execution_count": 37,
      "metadata": {
        "ExecuteTime": {
          "end_time": "2022-05-23T14:37:23.897668Z",
          "start_time": "2022-05-23T14:37:23.306209Z"
        },
        "id": "3KKktYHYVMpE"
      },
      "outputs": [],
      "source": [
        "aug = ImageDataGenerator(zoom_range=[.7,.9], width_shift_range=.15, height_shift_range=.15, rotation_range=15, shear_range=15, brightness_range=(1,1.5))\n",
        "aug.fit(new_images6)\n",
        "aug_data_final = aug.flow(new_images6, new_labels6, batch_size=1680)"
      ]
    },
    {
      "cell_type": "code",
      "execution_count": 38,
      "metadata": {
        "ExecuteTime": {
          "end_time": "2022-05-23T14:37:31.294868Z",
          "start_time": "2022-05-23T14:37:24.067101Z"
        },
        "id": "YRPNXMZnVMpE"
      },
      "outputs": [],
      "source": [
        "aug_final_images, aug_final_labels = next(aug_data_final)"
      ]
    },
    {
      "cell_type": "code",
      "execution_count": 39,
      "metadata": {
        "ExecuteTime": {
          "end_time": "2022-05-23T14:37:32.008243Z",
          "start_time": "2022-05-23T14:37:31.297280Z"
        },
        "id": "bmTXvNIBVMpE"
      },
      "outputs": [],
      "source": [
        "final_images = np.concatenate([new_images6, aug_final_images])\n",
        "final_labels = np.concatenate([new_labels6, aug_final_labels])"
      ]
    },
    {
      "cell_type": "code",
      "execution_count": 40,
      "metadata": {
        "ExecuteTime": {
          "end_time": "2022-05-23T14:37:32.015100Z",
          "start_time": "2022-05-23T14:37:32.009292Z"
        },
        "colab": {
          "base_uri": "https://localhost:8080/"
        },
        "id": "RmyXE3t_VMpE",
        "outputId": "6f543e6e-6894-43c2-a98c-765d6565bfb9"
      },
      "outputs": [
        {
          "output_type": "execute_result",
          "data": {
            "text/plain": [
              "(3360, 256, 256, 1)"
            ]
          },
          "metadata": {},
          "execution_count": 40
        }
      ],
      "source": [
        "final_images.shape"
      ]
    },
    {
      "cell_type": "code",
      "execution_count": 41,
      "metadata": {
        "ExecuteTime": {
          "end_time": "2022-05-23T14:37:32.019455Z",
          "start_time": "2022-05-23T14:37:32.016958Z"
        },
        "colab": {
          "base_uri": "https://localhost:8080/"
        },
        "id": "PSMlqrLQVMpE",
        "outputId": "fc38672c-d3c9-41eb-fa62-660b47383fcd"
      },
      "outputs": [
        {
          "output_type": "execute_result",
          "data": {
            "text/plain": [
              "(3360,)"
            ]
          },
          "metadata": {},
          "execution_count": 41
        }
      ],
      "source": [
        "final_labels.shape"
      ]
    },
    {
      "cell_type": "code",
      "execution_count": 42,
      "metadata": {
        "ExecuteTime": {
          "end_time": "2022-05-23T14:37:32.033769Z",
          "start_time": "2022-05-23T14:37:32.020208Z"
        },
        "colab": {
          "base_uri": "https://localhost:8080/",
          "height": 0
        },
        "id": "XcGO7NBlVMpE",
        "outputId": "8e76b7e3-1e94-4ee4-daf1-d9e6a7b6005a"
      },
      "outputs": [
        {
          "output_type": "execute_result",
          "data": {
            "text/plain": [
              "<PIL.Image.Image image mode=L size=256x256 at 0x7F4DB26E2110>"
            ],
            "image/png": "[encoded data removed]"
          },
          "metadata": {},
          "execution_count": 42
        }
      ],
      "source": [
        "array_to_img(final_images[0])"
      ]
    },
    {
      "cell_type": "code",
      "execution_count": 43,
      "metadata": {
        "ExecuteTime": {
          "end_time": "2022-05-23T14:37:32.040012Z",
          "start_time": "2022-05-23T14:37:32.034835Z"
        },
        "colab": {
          "base_uri": "https://localhost:8080/"
        },
        "id": "Etb2N03MVMpE",
        "outputId": "1c7beb79-fa8c-4d82-e944-c12c1fdfe99d"
      },
      "outputs": [
        {
          "output_type": "execute_result",
          "data": {
            "text/plain": [
              "0.0"
            ]
          },
          "metadata": {},
          "execution_count": 43
        }
      ],
      "source": [
        "final_labels[0]"
      ]
    },
    {
      "cell_type": "markdown",
      "metadata": {
        "id": "z50UnX6lVMpF"
      },
      "source": [
        "## Modeling"
      ]
    },
    {
      "cell_type": "markdown",
      "metadata": {
        "id": "lbMYrdYYVMpF"
      },
      "source": [
        "### Dummy Model"
      ]
    },
    {
      "cell_type": "markdown",
      "metadata": {
        "id": "EEgVJQHHVMpF"
      },
      "source": [
        "Our first model will be a baseline model for comparison. We will utilize Sklearn's DummyClassifier which uses the most frequent class as it's prediction. "
      ]
    },
    {
      "cell_type": "code",
      "execution_count": 44,
      "metadata": {
        "ExecuteTime": {
          "end_time": "2022-05-23T14:37:35.366797Z",
          "start_time": "2022-05-23T14:37:35.332169Z"
        },
        "colab": {
          "base_uri": "https://localhost:8080/"
        },
        "id": "qP00hpPcVMpF",
        "outputId": "e0eb7eef-42ab-4c30-ca7a-c00775cdec5a"
      },
      "outputs": [
        {
          "output_type": "execute_result",
          "data": {
            "text/plain": [
              "DummyClassifier(strategy='most_frequent')"
            ]
          },
          "metadata": {},
          "execution_count": 44
        }
      ],
      "source": [
        "dummy_model = DummyClassifier(strategy='most_frequent')\n",
        "dummy_model.fit(final_images, final_labels)"
      ]
    },
    {
      "cell_type": "code",
      "execution_count": 45,
      "metadata": {
        "ExecuteTime": {
          "end_time": "2022-05-23T14:37:35.762069Z",
          "start_time": "2022-05-23T14:37:35.728654Z"
        },
        "id": "8KQp_KtPVMpF"
      },
      "outputs": [],
      "source": [
        "dummy_preds = dummy_model.predict(X_test)\n",
        "\n",
        "dummy_acc = dummy_model.score(X_test, y_test)"
      ]
    },
    {
      "cell_type": "code",
      "execution_count": 46,
      "metadata": {
        "ExecuteTime": {
          "end_time": "2022-05-23T14:37:36.158514Z",
          "start_time": "2022-05-23T14:37:36.146852Z"
        },
        "colab": {
          "base_uri": "https://localhost:8080/"
        },
        "id": "C7rlitmuVMpF",
        "outputId": "0ee3922a-5739-4f86-cebe-083fb4366c50"
      },
      "outputs": [
        {
          "output_type": "execute_result",
          "data": {
            "text/plain": [
              "0.45"
            ]
          },
          "metadata": {},
          "execution_count": 46
        }
      ],
      "source": [
        "dummy_acc"
      ]
    },
    {
      "cell_type": "markdown",
      "metadata": {
        "id": "YnH0P0uyVMpF"
      },
      "source": [
        "### Scikit Learn Keras Classifier"
      ]
    },
    {
      "cell_type": "code",
      "execution_count": 47,
      "metadata": {
        "ExecuteTime": {
          "end_time": "2022-05-23T13:39:25.574306Z",
          "start_time": "2022-05-23T13:39:25.527391Z"
        },
        "id": "yo69jkvCVMpF"
      },
      "outputs": [],
      "source": [
        "adam = Adam(learning_rate=.0001)"
      ]
    },
    {
      "cell_type": "code",
      "execution_count": 48,
      "metadata": {
        "ExecuteTime": {
          "end_time": "2022-05-23T13:39:26.015659Z",
          "start_time": "2022-05-23T13:39:25.989022Z"
        },
        "id": "JC3SRpEPVMpF"
      },
      "outputs": [],
      "source": [
        "def build_model():\n",
        "    model = Sequential()\n",
        "\n",
        "    model.add(layers.Conv2D(16, (3,3), activation='relu', input_shape=(256,256,1)))\n",
        "    model.add(layers.MaxPool2D())\n",
        "    model.add(layers.Dropout(0.2))\n",
        "\n",
        "    model.add(layers.Conv2D(32, (7,7), activation='relu'))\n",
        "    model.add(layers.MaxPool2D())\n",
        "\n",
        "    model.add(layers.Conv2D(64, (5,5), activation='relu'))\n",
        "    model.add(layers.MaxPool2D())\n",
        "\n",
        "    model.add(layers.Flatten())\n",
        "\n",
        "    model.add(layers.Dense(128, activation='relu', kernel_regularizer=l2(.05)))\n",
        "    model.add(layers.Dropout(0.2))\n",
        "\n",
        "    model.add(layers.Dense(64, activation='relu'))\n",
        "    model.add(layers.Dropout(0.4))\n",
        "\n",
        "    model.add(layers.Dense(64, activation='relu', kernel_regularizer=l2(.1)))\n",
        "\n",
        "    model.add(layers.Dense(32, activation='relu'))\n",
        "\n",
        "    model.add(layers.Dense(1, activation='sigmoid'))\n",
        "\n",
        "    model.compile(optimizer=adam,\n",
        "                  loss='binary_crossentropy',\n",
        "                  metrics=['accuracy'])\n",
        "    \n",
        "    return model"
      ]
    },
    {
      "cell_type": "code",
      "execution_count": 49,
      "metadata": {
        "ExecuteTime": {
          "end_time": "2022-05-23T13:39:27.328450Z",
          "start_time": "2022-05-23T13:39:27.313083Z"
        },
        "colab": {
          "base_uri": "https://localhost:8080/"
        },
        "id": "frclz_Y5VMpF",
        "outputId": "0a1da958-1255-47fc-ee54-055c2312b51b"
      },
      "outputs": [
        {
          "output_type": "stream",
          "name": "stderr",
          "text": [
            "/usr/local/lib/python3.7/dist-packages/ipykernel_launcher.py:4: DeprecationWarning: KerasClassifier is deprecated, use Sci-Keras (https://github.com/adriangb/scikeras) instead. See https://www.adriangb.com/scikeras/stable/migration.html for help migrating.\n",
            "  after removing the cwd from sys.path.\n"
          ]
        }
      ],
      "source": [
        "model4 = scikit_learn.KerasClassifier(build_model,\n",
        "                                          epochs=25,\n",
        "                                          batch_size=32,\n",
        "                                          verbose=2)"
      ]
    },
    {
      "cell_type": "code",
      "execution_count": 50,
      "metadata": {
        "ExecuteTime": {
          "end_time": "2022-05-19T18:41:59.855237Z",
          "start_time": "2022-05-19T18:41:36.681608Z"
        },
        "colab": {
          "base_uri": "https://localhost:8080/"
        },
        "collapsed": true,
        "id": "eLUikXN1VMpF",
        "outputId": "f00733e6-4362-4ac0-8449-5d3a7893c624"
      },
      "outputs": [
        {
          "output_type": "stream",
          "name": "stdout",
          "text": [
            "Epoch 1/25\n",
            "84/84 - 15s - loss: 16.4548 - accuracy: 0.4840 - 15s/epoch - 173ms/step\n",
            "Epoch 2/25\n",
            "84/84 - 2s - loss: 11.8077 - accuracy: 0.4952 - 2s/epoch - 25ms/step\n",
            "Epoch 3/25\n",
            "84/84 - 2s - loss: 10.6102 - accuracy: 0.5208 - 2s/epoch - 25ms/step\n",
            "Epoch 4/25\n",
            "84/84 - 2s - loss: 9.6991 - accuracy: 0.5138 - 2s/epoch - 25ms/step\n",
            "Epoch 5/25\n",
            "84/84 - 2s - loss: 8.9130 - accuracy: 0.5071 - 2s/epoch - 24ms/step\n",
            "Epoch 6/25\n",
            "84/84 - 2s - loss: 8.2254 - accuracy: 0.5033 - 2s/epoch - 24ms/step\n",
            "Epoch 7/25\n",
            "84/84 - 2s - loss: 7.6058 - accuracy: 0.5063 - 2s/epoch - 24ms/step\n",
            "Epoch 8/25\n",
            "84/84 - 2s - loss: 7.0336 - accuracy: 0.5149 - 2s/epoch - 25ms/step\n",
            "Epoch 9/25\n",
            "84/84 - 2s - loss: 6.5071 - accuracy: 0.5115 - 2s/epoch - 25ms/step\n",
            "Epoch 10/25\n",
            "84/84 - 2s - loss: 6.0253 - accuracy: 0.5071 - 2s/epoch - 25ms/step\n",
            "Epoch 11/25\n",
            "84/84 - 2s - loss: 5.6030 - accuracy: 0.5212 - 2s/epoch - 24ms/step\n",
            "Epoch 12/25\n",
            "84/84 - 2s - loss: 5.1984 - accuracy: 0.5260 - 2s/epoch - 24ms/step\n",
            "Epoch 13/25\n",
            "84/84 - 2s - loss: 4.8367 - accuracy: 0.5353 - 2s/epoch - 25ms/step\n",
            "Epoch 14/25\n",
            "84/84 - 2s - loss: 4.5006 - accuracy: 0.5331 - 2s/epoch - 24ms/step\n",
            "Epoch 15/25\n",
            "84/84 - 2s - loss: 4.1856 - accuracy: 0.5443 - 2s/epoch - 25ms/step\n",
            "Epoch 16/25\n",
            "84/84 - 2s - loss: 3.9069 - accuracy: 0.5502 - 2s/epoch - 24ms/step\n",
            "Epoch 17/25\n",
            "84/84 - 2s - loss: 3.6282 - accuracy: 0.5573 - 2s/epoch - 25ms/step\n",
            "Epoch 18/25\n",
            "84/84 - 2s - loss: 3.3799 - accuracy: 0.5655 - 2s/epoch - 25ms/step\n",
            "Epoch 19/25\n",
            "84/84 - 2s - loss: 3.1381 - accuracy: 0.5822 - 2s/epoch - 25ms/step\n",
            "Epoch 20/25\n",
            "84/84 - 2s - loss: 2.9222 - accuracy: 0.5971 - 2s/epoch - 25ms/step\n",
            "Epoch 21/25\n",
            "84/84 - 2s - loss: 2.7466 - accuracy: 0.6004 - 2s/epoch - 25ms/step\n",
            "Epoch 22/25\n",
            "84/84 - 2s - loss: 2.5615 - accuracy: 0.6120 - 2s/epoch - 25ms/step\n",
            "Epoch 23/25\n",
            "84/84 - 2s - loss: 2.3912 - accuracy: 0.6239 - 2s/epoch - 24ms/step\n",
            "Epoch 24/25\n",
            "84/84 - 2s - loss: 2.2339 - accuracy: 0.6235 - 2s/epoch - 24ms/step\n",
            "Epoch 25/25\n",
            "84/84 - 2s - loss: 2.0617 - accuracy: 0.6484 - 2s/epoch - 24ms/step\n",
            "21/21 - 0s - loss: 2.1158 - accuracy: 0.5253 - 429ms/epoch - 20ms/step\n",
            "Epoch 1/25\n",
            "84/84 - 3s - loss: 13.9945 - accuracy: 0.4937 - 3s/epoch - 39ms/step\n",
            "Epoch 2/25\n",
            "84/84 - 2s - loss: 9.7470 - accuracy: 0.5272 - 2s/epoch - 25ms/step\n",
            "Epoch 3/25\n",
            "84/84 - 2s - loss: 8.3769 - accuracy: 0.5339 - 2s/epoch - 25ms/step\n",
            "Epoch 4/25\n",
            "84/84 - 2s - loss: 7.4236 - accuracy: 0.5327 - 2s/epoch - 25ms/step\n",
            "Epoch 5/25\n",
            "84/84 - 2s - loss: 6.6830 - accuracy: 0.5428 - 2s/epoch - 25ms/step\n",
            "Epoch 6/25\n",
            "84/84 - 2s - loss: 6.0730 - accuracy: 0.5391 - 2s/epoch - 25ms/step\n",
            "Epoch 7/25\n",
            "84/84 - 2s - loss: 5.5708 - accuracy: 0.5476 - 2s/epoch - 25ms/step\n",
            "Epoch 8/25\n",
            "84/84 - 2s - loss: 5.1244 - accuracy: 0.5487 - 2s/epoch - 25ms/step\n",
            "Epoch 9/25\n",
            "84/84 - 2s - loss: 4.7431 - accuracy: 0.5606 - 2s/epoch - 25ms/step\n",
            "Epoch 10/25\n",
            "84/84 - 2s - loss: 4.3970 - accuracy: 0.5677 - 2s/epoch - 24ms/step\n",
            "Epoch 11/25\n",
            "84/84 - 2s - loss: 4.1227 - accuracy: 0.5778 - 2s/epoch - 25ms/step\n",
            "Epoch 12/25\n",
            "84/84 - 2s - loss: 3.8492 - accuracy: 0.5826 - 2s/epoch - 25ms/step\n",
            "Epoch 13/25\n",
            "84/84 - 2s - loss: 3.6027 - accuracy: 0.5815 - 2s/epoch - 24ms/step\n",
            "Epoch 14/25\n",
            "84/84 - 2s - loss: 3.3799 - accuracy: 0.6027 - 2s/epoch - 25ms/step\n",
            "Epoch 15/25\n",
            "84/84 - 2s - loss: 3.1778 - accuracy: 0.6083 - 2s/epoch - 25ms/step\n",
            "Epoch 16/25\n",
            "84/84 - 2s - loss: 2.9892 - accuracy: 0.6220 - 2s/epoch - 25ms/step\n",
            "Epoch 17/25\n",
            "84/84 - 2s - loss: 2.8071 - accuracy: 0.6317 - 2s/epoch - 25ms/step\n",
            "Epoch 18/25\n",
            "84/84 - 2s - loss: 2.6489 - accuracy: 0.6499 - 2s/epoch - 25ms/step\n",
            "Epoch 19/25\n",
            "84/84 - 2s - loss: 2.5077 - accuracy: 0.6469 - 2s/epoch - 25ms/step\n",
            "Epoch 20/25\n",
            "84/84 - 2s - loss: 2.3651 - accuracy: 0.6622 - 2s/epoch - 25ms/step\n",
            "Epoch 21/25\n",
            "84/84 - 2s - loss: 2.2479 - accuracy: 0.6667 - 2s/epoch - 25ms/step\n",
            "Epoch 22/25\n",
            "84/84 - 2s - loss: 2.1321 - accuracy: 0.6737 - 2s/epoch - 25ms/step\n",
            "Epoch 23/25\n",
            "84/84 - 2s - loss: 2.0220 - accuracy: 0.6946 - 2s/epoch - 25ms/step\n",
            "Epoch 24/25\n",
            "84/84 - 2s - loss: 1.9254 - accuracy: 0.6968 - 2s/epoch - 24ms/step\n",
            "Epoch 25/25\n",
            "84/84 - 2s - loss: 1.8393 - accuracy: 0.7072 - 2s/epoch - 24ms/step\n",
            "21/21 - 0s - loss: 1.9749 - accuracy: 0.5223 - 423ms/epoch - 20ms/step\n",
            "Epoch 1/25\n",
            "84/84 - 3s - loss: 15.1617 - accuracy: 0.4926 - 3s/epoch - 36ms/step\n",
            "Epoch 2/25\n",
            "84/84 - 2s - loss: 10.6984 - accuracy: 0.4922 - 2s/epoch - 24ms/step\n",
            "Epoch 3/25\n",
            "84/84 - 2s - loss: 9.1644 - accuracy: 0.4952 - 2s/epoch - 24ms/step\n",
            "Epoch 4/25\n",
            "84/84 - 2s - loss: 8.0697 - accuracy: 0.5305 - 2s/epoch - 24ms/step\n",
            "Epoch 5/25\n",
            "84/84 - 2s - loss: 7.2210 - accuracy: 0.5086 - 2s/epoch - 24ms/step\n",
            "Epoch 6/25\n",
            "84/84 - 2s - loss: 6.5324 - accuracy: 0.5093 - 2s/epoch - 24ms/step\n",
            "Epoch 7/25\n",
            "84/84 - 2s - loss: 5.9382 - accuracy: 0.5193 - 2s/epoch - 24ms/step\n",
            "Epoch 8/25\n",
            "84/84 - 2s - loss: 5.4319 - accuracy: 0.5290 - 2s/epoch - 24ms/step\n",
            "Epoch 9/25\n",
            "84/84 - 2s - loss: 4.9972 - accuracy: 0.5175 - 2s/epoch - 24ms/step\n",
            "Epoch 10/25\n",
            "84/84 - 2s - loss: 4.6112 - accuracy: 0.5219 - 2s/epoch - 24ms/step\n",
            "Epoch 11/25\n",
            "84/84 - 2s - loss: 4.2675 - accuracy: 0.5309 - 2s/epoch - 24ms/step\n",
            "Epoch 12/25\n",
            "84/84 - 2s - loss: 3.9628 - accuracy: 0.5301 - 2s/epoch - 24ms/step\n",
            "Epoch 13/25\n",
            "84/84 - 2s - loss: 3.6886 - accuracy: 0.5264 - 2s/epoch - 25ms/step\n",
            "Epoch 14/25\n",
            "84/84 - 2s - loss: 3.4421 - accuracy: 0.5402 - 2s/epoch - 25ms/step\n",
            "Epoch 15/25\n",
            "84/84 - 2s - loss: 3.2223 - accuracy: 0.5391 - 2s/epoch - 24ms/step\n",
            "Epoch 16/25\n",
            "84/84 - 2s - loss: 3.0172 - accuracy: 0.5506 - 2s/epoch - 25ms/step\n",
            "Epoch 17/25\n",
            "84/84 - 2s - loss: 2.8289 - accuracy: 0.5696 - 2s/epoch - 25ms/step\n",
            "Epoch 18/25\n",
            "84/84 - 2s - loss: 2.6609 - accuracy: 0.5558 - 2s/epoch - 25ms/step\n",
            "Epoch 19/25\n",
            "84/84 - 2s - loss: 2.5047 - accuracy: 0.5640 - 2s/epoch - 25ms/step\n",
            "Epoch 20/25\n",
            "84/84 - 2s - loss: 2.3646 - accuracy: 0.5763 - 2s/epoch - 25ms/step\n",
            "Epoch 21/25\n",
            "84/84 - 2s - loss: 2.2343 - accuracy: 0.5859 - 2s/epoch - 24ms/step\n",
            "Epoch 22/25\n",
            "84/84 - 2s - loss: 2.1140 - accuracy: 0.5844 - 2s/epoch - 25ms/step\n",
            "Epoch 23/25\n",
            "84/84 - 2s - loss: 1.9943 - accuracy: 0.6034 - 2s/epoch - 25ms/step\n",
            "Epoch 24/25\n",
            "84/84 - 2s - loss: 1.8943 - accuracy: 0.6038 - 2s/epoch - 25ms/step\n",
            "Epoch 25/25\n",
            "84/84 - 2s - loss: 1.8055 - accuracy: 0.6086 - 2s/epoch - 25ms/step\n",
            "21/21 - 0s - loss: 1.9863 - accuracy: 0.4955 - 398ms/epoch - 19ms/step\n",
            "Epoch 1/25\n",
            "84/84 - 3s - loss: 11.6769 - accuracy: 0.5019 - 3s/epoch - 33ms/step\n",
            "Epoch 2/25\n",
            "84/84 - 2s - loss: 7.8676 - accuracy: 0.5108 - 2s/epoch - 24ms/step\n",
            "Epoch 3/25\n",
            "84/84 - 2s - loss: 6.5061 - accuracy: 0.5108 - 2s/epoch - 25ms/step\n",
            "Epoch 4/25\n",
            "84/84 - 2s - loss: 5.5936 - accuracy: 0.5104 - 2s/epoch - 25ms/step\n",
            "Epoch 5/25\n",
            "84/84 - 2s - loss: 4.9078 - accuracy: 0.5112 - 2s/epoch - 24ms/step\n",
            "Epoch 6/25\n",
            "84/84 - 2s - loss: 4.3634 - accuracy: 0.5108 - 2s/epoch - 25ms/step\n",
            "Epoch 7/25\n",
            "84/84 - 2s - loss: 3.9173 - accuracy: 0.5108 - 2s/epoch - 24ms/step\n",
            "Epoch 8/25\n",
            "84/84 - 2s - loss: 3.5441 - accuracy: 0.5130 - 2s/epoch - 24ms/step\n",
            "Epoch 9/25\n",
            "84/84 - 2s - loss: 3.2271 - accuracy: 0.5186 - 2s/epoch - 24ms/step\n",
            "Epoch 10/25\n",
            "84/84 - 2s - loss: 2.9541 - accuracy: 0.5197 - 2s/epoch - 24ms/step\n",
            "Epoch 11/25\n",
            "84/84 - 2s - loss: 2.7186 - accuracy: 0.5249 - 2s/epoch - 24ms/step\n",
            "Epoch 12/25\n",
            "84/84 - 2s - loss: 2.5116 - accuracy: 0.5123 - 2s/epoch - 25ms/step\n",
            "Epoch 13/25\n",
            "84/84 - 2s - loss: 2.3290 - accuracy: 0.5283 - 2s/epoch - 24ms/step\n",
            "Epoch 14/25\n",
            "84/84 - 2s - loss: 2.1692 - accuracy: 0.5312 - 2s/epoch - 24ms/step\n",
            "Epoch 15/25\n",
            "84/84 - 2s - loss: 2.0263 - accuracy: 0.5331 - 2s/epoch - 24ms/step\n",
            "Epoch 16/25\n",
            "84/84 - 2s - loss: 1.9000 - accuracy: 0.5331 - 2s/epoch - 24ms/step\n",
            "Epoch 17/25\n",
            "84/84 - 2s - loss: 1.7877 - accuracy: 0.5361 - 2s/epoch - 24ms/step\n",
            "Epoch 18/25\n",
            "84/84 - 2s - loss: 1.6844 - accuracy: 0.5398 - 2s/epoch - 25ms/step\n",
            "Epoch 19/25\n",
            "84/84 - 2s - loss: 1.5937 - accuracy: 0.5398 - 2s/epoch - 25ms/step\n",
            "Epoch 20/25\n",
            "84/84 - 2s - loss: 1.5142 - accuracy: 0.5379 - 2s/epoch - 24ms/step\n",
            "Epoch 21/25\n",
            "84/84 - 2s - loss: 1.4382 - accuracy: 0.5428 - 2s/epoch - 24ms/step\n",
            "Epoch 22/25\n",
            "84/84 - 2s - loss: 1.3663 - accuracy: 0.5484 - 2s/epoch - 25ms/step\n",
            "Epoch 23/25\n",
            "84/84 - 2s - loss: 1.3068 - accuracy: 0.5551 - 2s/epoch - 24ms/step\n",
            "Epoch 24/25\n",
            "84/84 - 2s - loss: 1.2453 - accuracy: 0.5528 - 2s/epoch - 25ms/step\n",
            "Epoch 25/25\n",
            "84/84 - 2s - loss: 1.1935 - accuracy: 0.5688 - 2s/epoch - 24ms/step\n",
            "21/21 - 0s - loss: 1.2210 - accuracy: 0.5476 - 387ms/epoch - 18ms/step\n",
            "Epoch 1/25\n",
            "84/84 - 3s - loss: 14.9289 - accuracy: 0.4743 - 3s/epoch - 33ms/step\n",
            "Epoch 2/25\n",
            "84/84 - 2s - loss: 10.1161 - accuracy: 0.5134 - 2s/epoch - 24ms/step\n",
            "Epoch 3/25\n",
            "84/84 - 2s - loss: 8.6904 - accuracy: 0.5190 - 2s/epoch - 24ms/step\n",
            "Epoch 4/25\n",
            "84/84 - 2s - loss: 7.7013 - accuracy: 0.5179 - 2s/epoch - 24ms/step\n",
            "Epoch 5/25\n",
            "84/84 - 2s - loss: 6.9485 - accuracy: 0.5193 - 2s/epoch - 25ms/step\n",
            "Epoch 6/25\n",
            "84/84 - 2s - loss: 6.3300 - accuracy: 0.5167 - 2s/epoch - 24ms/step\n",
            "Epoch 7/25\n",
            "84/84 - 2s - loss: 5.8118 - accuracy: 0.5167 - 2s/epoch - 24ms/step\n",
            "Epoch 8/25\n",
            "84/84 - 2s - loss: 5.3785 - accuracy: 0.5234 - 2s/epoch - 25ms/step\n",
            "Epoch 9/25\n",
            "84/84 - 2s - loss: 4.9956 - accuracy: 0.5264 - 2s/epoch - 25ms/step\n",
            "Epoch 10/25\n",
            "84/84 - 2s - loss: 4.6631 - accuracy: 0.5264 - 2s/epoch - 24ms/step\n",
            "Epoch 11/25\n",
            "84/84 - 2s - loss: 4.3711 - accuracy: 0.5216 - 2s/epoch - 25ms/step\n",
            "Epoch 12/25\n",
            "84/84 - 2s - loss: 4.1108 - accuracy: 0.5275 - 2s/epoch - 24ms/step\n",
            "Epoch 13/25\n",
            "84/84 - 2s - loss: 3.8733 - accuracy: 0.5335 - 2s/epoch - 25ms/step\n",
            "Epoch 14/25\n",
            "84/84 - 2s - loss: 3.6474 - accuracy: 0.5342 - 2s/epoch - 24ms/step\n",
            "Epoch 15/25\n",
            "84/84 - 2s - loss: 3.4329 - accuracy: 0.5365 - 2s/epoch - 25ms/step\n",
            "Epoch 16/25\n",
            "84/84 - 2s - loss: 3.2479 - accuracy: 0.5409 - 2s/epoch - 24ms/step\n",
            "Epoch 17/25\n",
            "84/84 - 2s - loss: 3.0799 - accuracy: 0.5458 - 2s/epoch - 25ms/step\n",
            "Epoch 18/25\n",
            "84/84 - 2s - loss: 2.9240 - accuracy: 0.5499 - 2s/epoch - 24ms/step\n",
            "Epoch 19/25\n",
            "84/84 - 2s - loss: 2.7874 - accuracy: 0.5640 - 2s/epoch - 24ms/step\n",
            "Epoch 20/25\n",
            "84/84 - 2s - loss: 2.6467 - accuracy: 0.5714 - 2s/epoch - 25ms/step\n",
            "Epoch 21/25\n",
            "84/84 - 2s - loss: 2.5095 - accuracy: 0.5770 - 2s/epoch - 24ms/step\n",
            "Epoch 22/25\n",
            "84/84 - 2s - loss: 2.3882 - accuracy: 0.5945 - 2s/epoch - 25ms/step\n",
            "Epoch 23/25\n",
            "84/84 - 2s - loss: 2.2840 - accuracy: 0.6068 - 2s/epoch - 24ms/step\n",
            "Epoch 24/25\n",
            "84/84 - 2s - loss: 2.1891 - accuracy: 0.6049 - 2s/epoch - 25ms/step\n",
            "Epoch 25/25\n",
            "84/84 - 2s - loss: 2.0831 - accuracy: 0.6131 - 2s/epoch - 24ms/step\n",
            "21/21 - 0s - loss: 2.3109 - accuracy: 0.5446 - 397ms/epoch - 19ms/step\n"
          ]
        }
      ],
      "source": [
        "model4_cv_results = cross_val_score(model4, final_images, final_labels)"
      ]
    },
    {
      "cell_type": "code",
      "execution_count": 51,
      "metadata": {
        "colab": {
          "base_uri": "https://localhost:8080/"
        },
        "id": "aPXnj9znVMpF",
        "outputId": "10a8f2d0-f77e-467c-83e4-2926713ecf8f"
      },
      "outputs": [
        {
          "output_type": "execute_result",
          "data": {
            "text/plain": [
              "0.5270833313465119"
            ]
          },
          "metadata": {},
          "execution_count": 51
        }
      ],
      "source": [
        "model4_cv_results.mean()"
      ]
    },
    {
      "cell_type": "code",
      "execution_count": 52,
      "metadata": {
        "id": "-d4wqzcVVMpF"
      },
      "outputs": [],
      "source": [
        "model4_cv_pickle = 'drive/MyDrive/model4_cv_pickle.sav'\n",
        "pickle.dump(model4_cv_results, open(model4_cv_pickle, 'wb'))"
      ]
    },
    {
      "cell_type": "code",
      "execution_count": 53,
      "metadata": {
        "colab": {
          "base_uri": "https://localhost:8080/"
        },
        "id": "tW110Eh5VMpF",
        "outputId": "556f6c4b-956f-4325-8472-cbe53ef3e4a8"
      },
      "outputs": [
        {
          "output_type": "stream",
          "name": "stdout",
          "text": [
            "Epoch 1/25\n",
            "INFO:tensorflow:Assets written to: /content/drive/MyDrive/model4_checkpoint/assets\n",
            "84/84 - 6s - loss: 13.4523 - accuracy: 0.5078 - val_loss: 10.2515 - val_accuracy: 0.5015 - 6s/epoch - 70ms/step\n",
            "Epoch 2/25\n",
            "84/84 - 2s - loss: 9.0790 - accuracy: 0.5156 - val_loss: 8.0945 - val_accuracy: 0.5015 - 2s/epoch - 29ms/step\n",
            "Epoch 3/25\n",
            "84/84 - 2s - loss: 7.3939 - accuracy: 0.5156 - val_loss: 6.7649 - val_accuracy: 0.5015 - 2s/epoch - 27ms/step\n",
            "Epoch 4/25\n",
            "84/84 - 2s - loss: 6.2751 - accuracy: 0.5156 - val_loss: 5.8232 - val_accuracy: 0.5015 - 2s/epoch - 28ms/step\n",
            "Epoch 5/25\n",
            "84/84 - 2s - loss: 5.4553 - accuracy: 0.5156 - val_loss: 5.1092 - val_accuracy: 0.5015 - 2s/epoch - 28ms/step\n",
            "Epoch 6/25\n",
            "84/84 - 2s - loss: 4.8196 - accuracy: 0.5156 - val_loss: 4.5454 - val_accuracy: 0.5015 - 2s/epoch - 28ms/step\n",
            "Epoch 7/25\n",
            "84/84 - 2s - loss: 4.3108 - accuracy: 0.5156 - val_loss: 4.0873 - val_accuracy: 0.5015 - 2s/epoch - 28ms/step\n",
            "Epoch 8/25\n",
            "84/84 - 2s - loss: 3.8930 - accuracy: 0.5156 - val_loss: 3.7071 - val_accuracy: 0.5015 - 2s/epoch - 28ms/step\n",
            "Epoch 9/25\n",
            "84/84 - 2s - loss: 3.5434 - accuracy: 0.5156 - val_loss: 3.3866 - val_accuracy: 0.5015 - 2s/epoch - 27ms/step\n",
            "Epoch 10/25\n",
            "INFO:tensorflow:Assets written to: /content/drive/MyDrive/model4_checkpoint/assets\n",
            "84/84 - 4s - loss: 3.2474 - accuracy: 0.5156 - val_loss: 3.1143 - val_accuracy: 0.5060 - 4s/epoch - 53ms/step\n",
            "Epoch 11/25\n",
            "84/84 - 2s - loss: 3.0019 - accuracy: 0.5134 - val_loss: 2.8836 - val_accuracy: 0.5015 - 2s/epoch - 28ms/step\n",
            "Epoch 12/25\n",
            "84/84 - 2s - loss: 2.7754 - accuracy: 0.5153 - val_loss: 2.6726 - val_accuracy: 0.5015 - 2s/epoch - 28ms/step\n",
            "Epoch 13/25\n",
            "84/84 - 2s - loss: 2.5795 - accuracy: 0.5153 - val_loss: 2.4900 - val_accuracy: 0.5015 - 2s/epoch - 28ms/step\n",
            "Epoch 14/25\n",
            "84/84 - 2s - loss: 2.4098 - accuracy: 0.5167 - val_loss: 2.3377 - val_accuracy: 0.5060 - 2s/epoch - 27ms/step\n",
            "Epoch 15/25\n",
            "84/84 - 2s - loss: 2.2607 - accuracy: 0.5171 - val_loss: 2.1881 - val_accuracy: 0.5060 - 2s/epoch - 29ms/step\n",
            "Epoch 16/25\n",
            "INFO:tensorflow:Assets written to: /content/drive/MyDrive/model4_checkpoint/assets\n",
            "84/84 - 4s - loss: 2.1225 - accuracy: 0.5197 - val_loss: 2.0599 - val_accuracy: 0.5119 - 4s/epoch - 49ms/step\n",
            "Epoch 17/25\n",
            "84/84 - 2s - loss: 2.0038 - accuracy: 0.5186 - val_loss: 1.9507 - val_accuracy: 0.5060 - 2s/epoch - 27ms/step\n",
            "Epoch 18/25\n",
            "INFO:tensorflow:Assets written to: /content/drive/MyDrive/model4_checkpoint/assets\n",
            "84/84 - 5s - loss: 1.9007 - accuracy: 0.5298 - val_loss: 1.8503 - val_accuracy: 0.5193 - 5s/epoch - 58ms/step\n",
            "Epoch 19/25\n",
            "INFO:tensorflow:Assets written to: /content/drive/MyDrive/model4_checkpoint/assets\n",
            "84/84 - 4s - loss: 1.7986 - accuracy: 0.5257 - val_loss: 1.7516 - val_accuracy: 0.5283 - 4s/epoch - 51ms/step\n",
            "Epoch 20/25\n",
            "84/84 - 2s - loss: 1.7103 - accuracy: 0.5246 - val_loss: 1.6725 - val_accuracy: 0.5104 - 2s/epoch - 27ms/step\n",
            "Epoch 21/25\n",
            "84/84 - 2s - loss: 1.6294 - accuracy: 0.5350 - val_loss: 1.6006 - val_accuracy: 0.5089 - 2s/epoch - 28ms/step\n",
            "Epoch 22/25\n",
            "84/84 - 2s - loss: 1.5549 - accuracy: 0.5461 - val_loss: 1.5325 - val_accuracy: 0.5223 - 2s/epoch - 28ms/step\n",
            "Epoch 23/25\n",
            "INFO:tensorflow:Assets written to: /content/drive/MyDrive/model4_checkpoint/assets\n",
            "84/84 - 5s - loss: 1.4869 - accuracy: 0.5543 - val_loss: 1.4717 - val_accuracy: 0.5491 - 5s/epoch - 55ms/step\n",
            "Epoch 24/25\n",
            "84/84 - 2s - loss: 1.4209 - accuracy: 0.5606 - val_loss: 1.4222 - val_accuracy: 0.5387 - 2s/epoch - 27ms/step\n",
            "Epoch 25/25\n",
            "84/84 - 2s - loss: 1.3656 - accuracy: 0.5565 - val_loss: 1.3855 - val_accuracy: 0.5193 - 2s/epoch - 28ms/step\n"
          ]
        }
      ],
      "source": [
        "model4_filepath = '/content/drive/MyDrive/model4_checkpoint'\n",
        "model4_checkpoint_callback = ModelCheckpoint(filepath=model4_filepath,\n",
        "                                                 save_best_only=True,\n",
        "                                                 monitor='val_accuracy',\n",
        "                                                 mode='max')\n",
        "\n",
        "model4_results = model4.fit(final_images, final_labels, validation_split=.2, callbacks=[model4_checkpoint_callback])"
      ]
    },
    {
      "cell_type": "code",
      "execution_count": 54,
      "metadata": {
        "colab": {
          "base_uri": "https://localhost:8080/"
        },
        "id": "Ae7jQFKsRPfn",
        "outputId": "57d67fd7-2087-44f8-bd5d-2eb999e9d0e7"
      },
      "outputs": [
        {
          "output_type": "stream",
          "name": "stdout",
          "text": [
            "INFO:tensorflow:Assets written to: ram://d5d03728-65b9-4091-91b9-a83bbbd2c2c5/assets\n"
          ]
        }
      ],
      "source": [
        "model4_results_pickle = 'drive/MyDrive/model4_results_pickle.sav'\n",
        "pickle.dump(model4_results, open(model4_results_pickle, 'wb'))"
      ]
    },
    {
      "cell_type": "code",
      "execution_count": 55,
      "metadata": {
        "colab": {
          "base_uri": "https://localhost:8080/"
        },
        "id": "FfxfRlmGVMpF",
        "outputId": "67e4950e-1594-468c-9284-b02e12558fec"
      },
      "outputs": [
        {
          "output_type": "stream",
          "name": "stdout",
          "text": [
            "INFO:tensorflow:Assets written to: ram://cddeca95-fab2-4b86-bca2-8163b0202e32/assets\n"
          ]
        }
      ],
      "source": [
        "model4_pickle = 'drive/MyDrive/model4_pickle.sav'\n",
        "pickle.dump(model4, open(model4_pickle, 'wb'))"
      ]
    },
    {
      "cell_type": "code",
      "execution_count": null,
      "metadata": {
        "id": "YmpD9fMzuXg-"
      },
      "outputs": [],
      "source": [
        ""
      ]
    }
  ],
  "metadata": {
    "accelerator": "GPU",
    "colab": {
      "name": "Model3_Notebook.ipynb",
      "provenance": []
    },
    "kernelspec": {
      "display_name": "tf-test",
      "language": "python",
      "name": "tf-test"
    },
    "language_info": {
      "codemirror_mode": {
        "name": "ipython",
        "version": 3
      },
      "file_extension": ".py",
      "mimetype": "text/x-python",
      "name": "python",
      "nbconvert_exporter": "python",
      "pygments_lexer": "ipython3",
      "version": "3.6.13"
    },
    "toc": {
      "base_numbering": 1,
      "nav_menu": {},
      "number_sections": true,
      "sideBar": true,
      "skip_h1_title": false,
      "title_cell": "Table of Contents",
      "title_sidebar": "Contents",
      "toc_cell": false,
      "toc_position": {},
      "toc_section_display": true,
      "toc_window_display": false
    }
  },
  "nbformat": 4,
  "nbformat_minor": 0
}