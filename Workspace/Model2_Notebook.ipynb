{
  "cells": [
    {
      "cell_type": "markdown",
      "metadata": {
        "id": "q_Aor7psR0Ob"
      },
      "source": [
        "# Signature Classification"
      ]
    },
    {
      "cell_type": "markdown",
      "metadata": {
        "id": "z8WggmJPR0Od"
      },
      "source": [
        "![img](https://github.com/ZachRauch/Signature_Classification/blob/main/images/signature_banner.jpeg?raw=1)"
      ]
    },
    {
      "cell_type": "markdown",
      "metadata": {
        "id": "z4pfGArPR0Oe"
      },
      "source": [
        "## Overview"
      ]
    },
    {
      "cell_type": "markdown",
      "metadata": {
        "id": "Efvm6iPUR0Oe"
      },
      "source": [
        "The aim of this analysis is to identify fraudulent signatures in a dataset. My audience here is _______. Using just a small dataset with only 300 sample I was able to create a "
      ]
    },
    {
      "cell_type": "markdown",
      "metadata": {
        "id": "rzqFmYl5R0Oe"
      },
      "source": [
        "## Business Problem"
      ]
    },
    {
      "cell_type": "markdown",
      "metadata": {
        "id": "JSj6l8VsR0Oe"
      },
      "source": [
        "Currently institutions and businesses recognize signatures as the primary way of authenticating transactions. Signatures are used to sign checks, authorize documents and contracts, and validate credit card transactions. According to recent studies, check fraud costs banks about $900M a year with 22 percent of all fraudulent checks attributed to signature fraud. Therefor, creating an algorithm to identify signature fraud is a valuable asset. "
      ]
    },
    {
      "cell_type": "code",
      "execution_count": null,
      "metadata": {
        "id": "nkU_HYiDR0Of"
      },
      "outputs": [],
      "source": [
        ""
      ]
    },
    {
      "cell_type": "markdown",
      "metadata": {
        "id": "eBTZka4jR0Of"
      },
      "source": [
        "## Imports"
      ]
    },
    {
      "cell_type": "code",
      "execution_count": 1,
      "metadata": {
        "ExecuteTime": {
          "end_time": "2022-05-23T14:37:08.394347Z",
          "start_time": "2022-05-23T14:37:04.340878Z"
        },
        "id": "CYwaZO_cR0Of"
      },
      "outputs": [],
      "source": [
        "import pandas as pd\n",
        "import numpy as np\n",
        "import matplotlib.pyplot as plt\n",
        "%matplotlib inline\n",
        "import seaborn as sns\n",
        "import tensorflow as tf\n",
        "from tensorflow.keras.models import Sequential\n",
        "import zipfile\n",
        "from tensorflow.keras.preprocessing.image import ImageDataGenerator, array_to_img, img_to_array, load_img\n",
        "from tensorflow.keras import models, layers, optimizers, metrics, regularizers, losses\n",
        "from tensorflow.keras.wrappers import scikit_learn\n",
        "from tensorflow.keras.regularizers import l2\n",
        "\n",
        "from sklearn.model_selection import train_test_split, cross_val_score\n",
        "from sklearn.dummy import DummyClassifier\n",
        "from sklearn.metrics import auc, recall_score, precision_score, \\\n",
        "                            confusion_matrix, plot_confusion_matrix, \\\n",
        "                            roc_auc_score, roc_curve\n",
        "from tensorflow.keras.optimizers import SGD, Adam\n",
        "import pickle\n",
        "\n",
        "np.random.seed(42)"
      ]
    },
    {
      "cell_type": "markdown",
      "metadata": {
        "id": "xWN86pZiR0Og"
      },
      "source": [
        "## Colab Necessary Code"
      ]
    },
    {
      "cell_type": "markdown",
      "metadata": {
        "id": "OGXvC8wZR0Og"
      },
      "source": [
        "Google Colab was used to help streamline the modeling process. Modeling using Convolutional Neural Networks can be computationally expensive, so if you would like to run this notebook faster, I would recommend creating a Colab account and storing the data, discussed below, in a Google Drive file. "
      ]
    },
    {
      "cell_type": "code",
      "execution_count": 2,
      "metadata": {
        "ExecuteTime": {
          "end_time": "2022-05-23T14:37:08.397228Z",
          "start_time": "2022-05-23T14:37:08.395733Z"
        },
        "id": "XZpeURdFR0Oh",
        "outputId": "4c433b1e-6ac2-459a-bd72-d2e235239f67",
        "colab": {
          "base_uri": "https://localhost:8080/"
        }
      },
      "outputs": [
        {
          "output_type": "stream",
          "name": "stdout",
          "text": [
            "Mounted at /content/drive\n"
          ]
        }
      ],
      "source": [
        "from google.colab import drive\n",
        "drive.mount('/content/drive')"
      ]
    },
    {
      "cell_type": "code",
      "execution_count": null,
      "metadata": {
        "ExecuteTime": {
          "end_time": "2022-05-23T14:37:08.399434Z",
          "start_time": "2022-05-23T14:37:08.398072Z"
        },
        "id": "Y4D6s1M2R0Oh"
      },
      "outputs": [],
      "source": [
        "!pip install unzip\n",
        "import unzip\n",
        "!unzip /content/drive/MyDrive/signatures.zip "
      ]
    },
    {
      "cell_type": "markdown",
      "metadata": {
        "id": "eO4U7nGdR0Oh"
      },
      "source": [
        "## Data"
      ]
    },
    {
      "cell_type": "markdown",
      "metadata": {
        "id": "wqUg9r5VR0Oh"
      },
      "source": [
        "The data used in this notebook can be found [here](https://www.kaggle.com/datasets/divyanshrai/handwritten-signatures). The dataset contains just 300 samples of genuine and forged signatures from 30 people, of which 50 percent are genuine and 50 percent are forged. "
      ]
    },
    {
      "cell_type": "code",
      "execution_count": 4,
      "metadata": {
        "ExecuteTime": {
          "end_time": "2022-05-23T14:37:08.402015Z",
          "start_time": "2022-05-23T14:37:08.400250Z"
        },
        "id": "BAVmjpH5R0Oh"
      },
      "outputs": [],
      "source": [
        "# instantiate ImageDataGenerator scaling each pixel's values down to a scale of 1\n",
        "img = ImageDataGenerator(rescale=1/255)"
      ]
    },
    {
      "cell_type": "code",
      "execution_count": 5,
      "metadata": {
        "ExecuteTime": {
          "end_time": "2022-05-23T14:37:08.405039Z",
          "start_time": "2022-05-23T14:37:08.403576Z"
        },
        "id": "frlpn7XqR0Oh"
      },
      "outputs": [],
      "source": [
        "# data_path = '../Data/sample_Signature/sample_Signature/'\n",
        "# For Colab \n",
        "data_path = '/content/sample_Signature/sample_Signature/'"
      ]
    },
    {
      "cell_type": "code",
      "execution_count": 6,
      "metadata": {
        "ExecuteTime": {
          "end_time": "2022-05-23T14:37:08.517937Z",
          "start_time": "2022-05-23T14:37:08.406114Z"
        },
        "scrolled": false,
        "id": "cuUsTETER0Oi",
        "outputId": "fe6d4e50-a484-446d-c9a5-b60dbbe4383f",
        "colab": {
          "base_uri": "https://localhost:8080/"
        }
      },
      "outputs": [
        {
          "output_type": "stream",
          "name": "stdout",
          "text": [
            "Found 300 images belonging to 2 classes.\n"
          ]
        }
      ],
      "source": [
        "# Importing the data\n",
        "data = img.flow_from_directory(data_path, color_mode='grayscale',\\\n",
        "                               batch_size=300, class_mode='binary')"
      ]
    },
    {
      "cell_type": "code",
      "execution_count": 7,
      "metadata": {
        "ExecuteTime": {
          "end_time": "2022-05-23T14:37:08.526273Z",
          "start_time": "2022-05-23T14:37:08.519403Z"
        },
        "id": "T1WqumjcR0Oi",
        "outputId": "a4f90149-6a5f-4767-d1c2-21d70b9c46b3",
        "colab": {
          "base_uri": "https://localhost:8080/"
        }
      },
      "outputs": [
        {
          "output_type": "execute_result",
          "data": {
            "text/plain": [
              "{'forged': 0, 'genuine': 1}"
            ]
          },
          "metadata": {},
          "execution_count": 7
        }
      ],
      "source": [
        "data.class_indices"
      ]
    },
    {
      "cell_type": "code",
      "execution_count": 8,
      "metadata": {
        "ExecuteTime": {
          "end_time": "2022-05-23T14:37:11.825565Z",
          "start_time": "2022-05-23T14:37:08.527770Z"
        },
        "id": "YBNYJDaXR0Oi"
      },
      "outputs": [],
      "source": [
        "data_images, data_labels = next(data)"
      ]
    },
    {
      "cell_type": "code",
      "execution_count": 9,
      "metadata": {
        "ExecuteTime": {
          "end_time": "2022-05-23T14:37:11.829359Z",
          "start_time": "2022-05-23T14:37:11.826636Z"
        },
        "id": "EL9A1yVmR0Oi",
        "outputId": "4faeac8e-969a-4298-d12e-0506df01f7be",
        "colab": {
          "base_uri": "https://localhost:8080/"
        }
      },
      "outputs": [
        {
          "output_type": "execute_result",
          "data": {
            "text/plain": [
              "(300, 256, 256, 1)"
            ]
          },
          "metadata": {},
          "execution_count": 9
        }
      ],
      "source": [
        "data_images.shape"
      ]
    },
    {
      "cell_type": "code",
      "execution_count": 10,
      "metadata": {
        "ExecuteTime": {
          "end_time": "2022-05-23T14:37:11.832271Z",
          "start_time": "2022-05-23T14:37:11.830100Z"
        },
        "id": "UETbjL0sR0Oi",
        "outputId": "b752e38b-61ea-42a5-df4c-6f6b4b6c9b23",
        "colab": {
          "base_uri": "https://localhost:8080/"
        }
      },
      "outputs": [
        {
          "output_type": "execute_result",
          "data": {
            "text/plain": [
              "(300,)"
            ]
          },
          "metadata": {},
          "execution_count": 10
        }
      ],
      "source": [
        "data_labels.shape"
      ]
    },
    {
      "cell_type": "code",
      "execution_count": 11,
      "metadata": {
        "ExecuteTime": {
          "end_time": "2022-05-23T14:37:11.888774Z",
          "start_time": "2022-05-23T14:37:11.833177Z"
        },
        "id": "4m8u9fk9R0Oi"
      },
      "outputs": [],
      "source": [
        "X_train, X_test, y_train, y_test = train_test_split( \\\n",
        "            data_images, data_labels, random_state=42, test_size=.2)"
      ]
    },
    {
      "cell_type": "code",
      "execution_count": 12,
      "metadata": {
        "ExecuteTime": {
          "end_time": "2022-05-23T14:37:11.893566Z",
          "start_time": "2022-05-23T14:37:11.890017Z"
        },
        "id": "_XtoW-n_R0Oi",
        "outputId": "78b83cc4-df07-4d49-d0ae-cc2fe01ec801",
        "colab": {
          "base_uri": "https://localhost:8080/"
        }
      },
      "outputs": [
        {
          "output_type": "execute_result",
          "data": {
            "text/plain": [
              "(240, 256, 256, 1)"
            ]
          },
          "metadata": {},
          "execution_count": 12
        }
      ],
      "source": [
        "X_train.shape"
      ]
    },
    {
      "cell_type": "code",
      "execution_count": 13,
      "metadata": {
        "ExecuteTime": {
          "end_time": "2022-05-23T14:37:11.897926Z",
          "start_time": "2022-05-23T14:37:11.894542Z"
        },
        "scrolled": true,
        "id": "Z51vioHYR0Oj",
        "outputId": "a9235281-d5b4-4c98-92d8-141017717dc1",
        "colab": {
          "base_uri": "https://localhost:8080/"
        }
      },
      "outputs": [
        {
          "output_type": "execute_result",
          "data": {
            "text/plain": [
              "(240,)"
            ]
          },
          "metadata": {},
          "execution_count": 13
        }
      ],
      "source": [
        "y_train.shape"
      ]
    },
    {
      "cell_type": "markdown",
      "metadata": {
        "id": "mivyAgDCR0Oj"
      },
      "source": [
        "Above we instantiate Keras' ImageDataGenerator which will scale each pixel's values down to a value of 1. Next we import the data and separate into the images themselves and their respective labels. Finally we split it into a train and test dataset."
      ]
    },
    {
      "cell_type": "markdown",
      "metadata": {
        "id": "qkyP8EceR0Oj"
      },
      "source": [
        "### Image Augmentation"
      ]
    },
    {
      "cell_type": "markdown",
      "metadata": {
        "id": "DuFFdoyQR0Oj"
      },
      "source": [
        "Because we have such a small dataset it is important to use image augmentation to artificially expand the training dataset. Below we do several forms of data augmentation individually before combining the techniques at the end."
      ]
    },
    {
      "cell_type": "markdown",
      "metadata": {
        "id": "PGc4S2K7R0Oj"
      },
      "source": [
        "#### Zoom Augmentation"
      ]
    },
    {
      "cell_type": "markdown",
      "metadata": {
        "id": "ycfr0LomR0Oj"
      },
      "source": [
        "The first technique we explore is zoom range. Entering a range of values, .25 and 1 in this case, randomly applies a zoom to each image within that range."
      ]
    },
    {
      "cell_type": "code",
      "execution_count": 14,
      "metadata": {
        "ExecuteTime": {
          "end_time": "2022-05-23T14:37:11.925857Z",
          "start_time": "2022-05-23T14:37:11.901105Z"
        },
        "id": "jYmUR5LSR0Oj"
      },
      "outputs": [],
      "source": [
        "aug = ImageDataGenerator(zoom_range=[.25,1])\n",
        "aug.fit(X_train)\n",
        "aug_data = aug.flow(X_train, y_train, batch_size=240)"
      ]
    },
    {
      "cell_type": "code",
      "execution_count": 15,
      "metadata": {
        "ExecuteTime": {
          "end_time": "2022-05-23T14:37:12.810455Z",
          "start_time": "2022-05-23T14:37:11.926820Z"
        },
        "id": "MdzLqzZGR0Oj"
      },
      "outputs": [],
      "source": [
        "aug_images, aug_labels = next(aug_data)"
      ]
    },
    {
      "cell_type": "code",
      "execution_count": 16,
      "metadata": {
        "ExecuteTime": {
          "end_time": "2022-05-23T14:37:12.814052Z",
          "start_time": "2022-05-23T14:37:12.811562Z"
        },
        "id": "VcAQRbaHR0Oj",
        "outputId": "67ad4203-8417-4f43-b8e0-9d7750ea5cb8",
        "colab": {
          "base_uri": "https://localhost:8080/"
        }
      },
      "outputs": [
        {
          "output_type": "execute_result",
          "data": {
            "text/plain": [
              "(240, 256, 256, 1)"
            ]
          },
          "metadata": {},
          "execution_count": 16
        }
      ],
      "source": [
        "aug_images.shape"
      ]
    },
    {
      "cell_type": "code",
      "execution_count": 17,
      "metadata": {
        "ExecuteTime": {
          "end_time": "2022-05-23T14:37:12.816951Z",
          "start_time": "2022-05-23T14:37:12.814825Z"
        },
        "scrolled": false,
        "id": "cg0ufvjkR0Oj",
        "outputId": "19dd90cf-d752-4271-b385-56f58ab4a829",
        "colab": {
          "base_uri": "https://localhost:8080/"
        }
      },
      "outputs": [
        {
          "output_type": "execute_result",
          "data": {
            "text/plain": [
              "(240,)"
            ]
          },
          "metadata": {},
          "execution_count": 17
        }
      ],
      "source": [
        "aug_labels.shape"
      ]
    },
    {
      "cell_type": "code",
      "execution_count": 18,
      "metadata": {
        "ExecuteTime": {
          "end_time": "2022-05-23T14:37:12.822840Z",
          "start_time": "2022-05-23T14:37:12.817656Z"
        },
        "scrolled": true,
        "id": "rqpoYn5NR0Oj",
        "outputId": "987b09c4-8547-4b82-ff4e-6da7ab40da05",
        "colab": {
          "base_uri": "https://localhost:8080/",
          "height": 0
        }
      },
      "outputs": [
        {
          "output_type": "execute_result",
          "data": {
            "text/plain": [
              "<PIL.Image.Image image mode=L size=256x256 at 0x7F30C7D04410>"
            ],
            "image/png": "[encoded data removed]"
          },
          "metadata": {},
          "execution_count": 18
        }
      ],
      "source": [
        "array_to_img(aug_images[0])"
      ]
    },
    {
      "cell_type": "code",
      "execution_count": 19,
      "metadata": {
        "ExecuteTime": {
          "end_time": "2022-05-23T14:37:12.870297Z",
          "start_time": "2022-05-23T14:37:12.823934Z"
        },
        "id": "NZCHgHw0R0Oj"
      },
      "outputs": [],
      "source": [
        "new_images1 = np.concatenate([X_train, aug_images])\n",
        "new_labels1 = np.concatenate([y_train, aug_labels])"
      ]
    },
    {
      "cell_type": "code",
      "execution_count": 20,
      "metadata": {
        "ExecuteTime": {
          "end_time": "2022-05-23T14:37:12.875326Z",
          "start_time": "2022-05-23T14:37:12.871437Z"
        },
        "id": "1C9iO2u3R0Oj",
        "outputId": "083fd3e1-4913-4823-b4ae-d4d98c99a79b",
        "colab": {
          "base_uri": "https://localhost:8080/"
        }
      },
      "outputs": [
        {
          "output_type": "execute_result",
          "data": {
            "text/plain": [
              "(480, 256, 256, 1)"
            ]
          },
          "metadata": {},
          "execution_count": 20
        }
      ],
      "source": [
        "new_images1.shape"
      ]
    },
    {
      "cell_type": "code",
      "execution_count": 21,
      "metadata": {
        "ExecuteTime": {
          "end_time": "2022-05-23T14:37:12.879471Z",
          "start_time": "2022-05-23T14:37:12.876344Z"
        },
        "scrolled": true,
        "id": "LY8YKC9RR0Ok",
        "outputId": "8565e79e-342b-4c13-a116-a21dd2d51d16",
        "colab": {
          "base_uri": "https://localhost:8080/"
        }
      },
      "outputs": [
        {
          "output_type": "execute_result",
          "data": {
            "text/plain": [
              "(480,)"
            ]
          },
          "metadata": {},
          "execution_count": 21
        }
      ],
      "source": [
        "new_labels1.shape"
      ]
    },
    {
      "cell_type": "markdown",
      "metadata": {
        "id": "ssPviMCzR0Ok"
      },
      "source": [
        "#### Width Augmentation"
      ]
    },
    {
      "cell_type": "markdown",
      "metadata": {
        "id": "-3dfZDc_R0Ok"
      },
      "source": [
        "The next method for augmentation used was width shift range. With a range of .3 the images will be randomly assigned a width down to .3 of the original image size. "
      ]
    },
    {
      "cell_type": "code",
      "execution_count": 22,
      "metadata": {
        "ExecuteTime": {
          "end_time": "2022-05-23T14:37:12.904430Z",
          "start_time": "2022-05-23T14:37:12.880692Z"
        },
        "id": "QOSGLjq9R0Ok"
      },
      "outputs": [],
      "source": [
        "aug = ImageDataGenerator(width_shift_range=.3)\n",
        "aug.fit(X_train)\n",
        "aug2_data = aug.flow(X_train, y_train, batch_size=240)"
      ]
    },
    {
      "cell_type": "code",
      "execution_count": 23,
      "metadata": {
        "ExecuteTime": {
          "end_time": "2022-05-23T14:37:13.836303Z",
          "start_time": "2022-05-23T14:37:12.905556Z"
        },
        "id": "_SUnAH03R0Ok"
      },
      "outputs": [],
      "source": [
        "aug2_images, aug2_labels = next(aug2_data)"
      ]
    },
    {
      "cell_type": "code",
      "execution_count": 24,
      "metadata": {
        "ExecuteTime": {
          "end_time": "2022-05-23T14:37:13.970198Z",
          "start_time": "2022-05-23T14:37:13.837257Z"
        },
        "id": "TXokYiptR0Ok"
      },
      "outputs": [],
      "source": [
        "new_images2 = np.concatenate([new_images1, aug2_images])\n",
        "new_labels2 = np.concatenate([new_labels1, aug2_labels])"
      ]
    },
    {
      "cell_type": "markdown",
      "metadata": {
        "id": "x0Xv1Oo-R0Ok"
      },
      "source": [
        "#### Height Augmentation"
      ]
    },
    {
      "cell_type": "markdown",
      "metadata": {
        "id": "hQGiuv30R0Ok"
      },
      "source": [
        "The next method for augmentation used was height shift range. With a range of .3 the images will be randomly assigned a height down to .3 of the original image size."
      ]
    },
    {
      "cell_type": "code",
      "execution_count": 25,
      "metadata": {
        "ExecuteTime": {
          "end_time": "2022-05-23T14:37:13.994817Z",
          "start_time": "2022-05-23T14:37:13.971519Z"
        },
        "id": "A4frKWVPR0Ok"
      },
      "outputs": [],
      "source": [
        "aug = ImageDataGenerator(height_shift_range=.3)\n",
        "aug.fit(X_train)\n",
        "aug3_data = aug.flow(X_train, y_train, batch_size=240)"
      ]
    },
    {
      "cell_type": "code",
      "execution_count": 26,
      "metadata": {
        "ExecuteTime": {
          "end_time": "2022-05-23T14:37:14.909526Z",
          "start_time": "2022-05-23T14:37:13.995765Z"
        },
        "id": "w1Q7r6wIR0Ok"
      },
      "outputs": [],
      "source": [
        "aug3_images, aug3_labels = next(aug3_data)"
      ]
    },
    {
      "cell_type": "code",
      "execution_count": 27,
      "metadata": {
        "ExecuteTime": {
          "end_time": "2022-05-23T14:37:15.082265Z",
          "start_time": "2022-05-23T14:37:14.910455Z"
        },
        "id": "dE_Jvtk4R0Ok"
      },
      "outputs": [],
      "source": [
        "new_images3 = np.concatenate([new_images2, aug3_images])\n",
        "new_labels3 = np.concatenate([new_labels2, aug3_labels])"
      ]
    },
    {
      "cell_type": "markdown",
      "metadata": {
        "ExecuteTime": {
          "end_time": "2022-05-18T18:10:53.996172Z",
          "start_time": "2022-05-18T18:10:53.989621Z"
        },
        "id": "hEZWkPLUR0Ok"
      },
      "source": [
        "#### Rotation Augmentation"
      ]
    },
    {
      "cell_type": "markdown",
      "metadata": {
        "ExecuteTime": {
          "end_time": "2022-05-20T18:31:05.497987Z",
          "start_time": "2022-05-20T18:31:05.418085Z"
        },
        "id": "JGdOC05gR0Ok"
      },
      "source": [
        "Next we apply a random rotation to each image up to 30 degrees."
      ]
    },
    {
      "cell_type": "code",
      "execution_count": 28,
      "metadata": {
        "ExecuteTime": {
          "end_time": "2022-05-23T14:37:15.104454Z",
          "start_time": "2022-05-23T14:37:15.083345Z"
        },
        "id": "6p0Xz--gR0Ok"
      },
      "outputs": [],
      "source": [
        "aug = ImageDataGenerator(rotation_range=30)\n",
        "aug.fit(X_train)\n",
        "aug4_data = aug.flow(X_train, y_train, batch_size=240)"
      ]
    },
    {
      "cell_type": "code",
      "execution_count": 29,
      "metadata": {
        "ExecuteTime": {
          "end_time": "2022-05-23T14:37:16.015689Z",
          "start_time": "2022-05-23T14:37:15.105400Z"
        },
        "id": "77SFgb4FR0Ok"
      },
      "outputs": [],
      "source": [
        "aug4_images, aug4_labels = next(aug4_data)"
      ]
    },
    {
      "cell_type": "code",
      "execution_count": 30,
      "metadata": {
        "ExecuteTime": {
          "end_time": "2022-05-23T14:37:16.227785Z",
          "start_time": "2022-05-23T14:37:16.016782Z"
        },
        "id": "EYv3i8E5R0Ok"
      },
      "outputs": [],
      "source": [
        "new_images4 = np.concatenate([new_images3, aug4_images])\n",
        "new_labels4 = np.concatenate([new_labels3, aug4_labels])"
      ]
    },
    {
      "cell_type": "markdown",
      "metadata": {
        "id": "4VErXylSR0Ok"
      },
      "source": [
        "#### Shear Augmentation"
      ]
    },
    {
      "cell_type": "markdown",
      "metadata": {
        "id": "m-8aIDFER0Ok"
      },
      "source": [
        "We then apply a random shear value to each image. This angles the corners of each image up to 30 degrees."
      ]
    },
    {
      "cell_type": "code",
      "execution_count": 31,
      "metadata": {
        "ExecuteTime": {
          "end_time": "2022-05-23T14:37:16.271825Z",
          "start_time": "2022-05-23T14:37:16.228737Z"
        },
        "id": "feuREpZxR0Ok"
      },
      "outputs": [],
      "source": [
        "aug = ImageDataGenerator(shear_range=30)\n",
        "aug.fit(X_train)\n",
        "aug5_data = aug.flow(X_train, y_train, batch_size=240)"
      ]
    },
    {
      "cell_type": "code",
      "execution_count": 32,
      "metadata": {
        "ExecuteTime": {
          "end_time": "2022-05-23T14:37:17.170867Z",
          "start_time": "2022-05-23T14:37:16.272764Z"
        },
        "id": "44waNSiYR0Ok"
      },
      "outputs": [],
      "source": [
        "aug5_images, aug5_labels = next(aug5_data)"
      ]
    },
    {
      "cell_type": "code",
      "execution_count": 33,
      "metadata": {
        "ExecuteTime": {
          "end_time": "2022-05-23T14:37:17.493386Z",
          "start_time": "2022-05-23T14:37:17.172084Z"
        },
        "id": "SS4xlOv5R0Ok"
      },
      "outputs": [],
      "source": [
        "new_images5 = np.concatenate([new_images4, aug5_images])\n",
        "new_labels5 = np.concatenate([new_labels4, aug5_labels])"
      ]
    },
    {
      "cell_type": "markdown",
      "metadata": {
        "id": "daCahVW5R0Ok"
      },
      "source": [
        "#### Brightness Augmentation"
      ]
    },
    {
      "cell_type": "markdown",
      "metadata": {
        "ExecuteTime": {
          "end_time": "2022-05-20T18:49:59.247310Z",
          "start_time": "2022-05-20T18:49:59.202157Z"
        },
        "id": "q2OmrC00R0Ol"
      },
      "source": [
        "Finally we have brightness augmentation. This applies a random brightness shift within the provided range. "
      ]
    },
    {
      "cell_type": "code",
      "execution_count": 34,
      "metadata": {
        "ExecuteTime": {
          "end_time": "2022-05-23T14:37:17.518943Z",
          "start_time": "2022-05-23T14:37:17.494551Z"
        },
        "id": "lQ6xBV73R0Ol"
      },
      "outputs": [],
      "source": [
        "aug = ImageDataGenerator(brightness_range=(1,2))\n",
        "aug.fit(X_train)\n",
        "aug5_data = aug.flow(X_train, y_train, batch_size=240)"
      ]
    },
    {
      "cell_type": "code",
      "execution_count": 35,
      "metadata": {
        "ExecuteTime": {
          "end_time": "2022-05-23T14:37:17.599761Z",
          "start_time": "2022-05-23T14:37:17.519903Z"
        },
        "id": "1GZirz_dR0Ol"
      },
      "outputs": [],
      "source": [
        "aug6_images, aug6_labels = next(aug5_data)"
      ]
    },
    {
      "cell_type": "code",
      "execution_count": 36,
      "metadata": {
        "ExecuteTime": {
          "end_time": "2022-05-23T14:37:17.933568Z",
          "start_time": "2022-05-23T14:37:17.600704Z"
        },
        "id": "PcEwcFkcR0Ol"
      },
      "outputs": [],
      "source": [
        "new_images6 = np.concatenate([new_images5, aug6_images])\n",
        "new_labels6 = np.concatenate([new_labels5, aug6_labels])"
      ]
    },
    {
      "cell_type": "code",
      "execution_count": 37,
      "metadata": {
        "ExecuteTime": {
          "end_time": "2022-05-23T14:37:17.940498Z",
          "start_time": "2022-05-23T14:37:17.936520Z"
        },
        "id": "VAVf7QLAR0Ol",
        "outputId": "c7fd9249-2b03-49b0-c692-51870c6cd064",
        "colab": {
          "base_uri": "https://localhost:8080/"
        }
      },
      "outputs": [
        {
          "output_type": "execute_result",
          "data": {
            "text/plain": [
              "(1680,)"
            ]
          },
          "metadata": {},
          "execution_count": 37
        }
      ],
      "source": [
        "new_labels6.shape"
      ]
    },
    {
      "cell_type": "markdown",
      "metadata": {
        "id": "syw_OeIER0Ol"
      },
      "source": [
        "#### A little bit of everything Augmentation"
      ]
    },
    {
      "cell_type": "markdown",
      "metadata": {
        "id": "J4-nVx0-R0Ol"
      },
      "source": [
        "Now that we have augmented each image with a single augmentation, we will again augment all images with a combination of each augmentation. "
      ]
    },
    {
      "cell_type": "code",
      "execution_count": 38,
      "metadata": {
        "ExecuteTime": {
          "end_time": "2022-05-23T14:37:23.897668Z",
          "start_time": "2022-05-23T14:37:23.306209Z"
        },
        "id": "ES0vE6C5R0Ol"
      },
      "outputs": [],
      "source": [
        "aug = ImageDataGenerator(zoom_range=[.7,.9], width_shift_range=.15, height_shift_range=.15, rotation_range=15, shear_range=15, brightness_range=(1,1.5))\n",
        "aug.fit(new_images6)\n",
        "aug_data_final = aug.flow(new_images6, new_labels6, batch_size=1680)"
      ]
    },
    {
      "cell_type": "code",
      "execution_count": 39,
      "metadata": {
        "ExecuteTime": {
          "end_time": "2022-05-23T14:37:31.294868Z",
          "start_time": "2022-05-23T14:37:24.067101Z"
        },
        "id": "JG-o_27GR0Ol"
      },
      "outputs": [],
      "source": [
        "aug_final_images, aug_final_labels = next(aug_data_final)"
      ]
    },
    {
      "cell_type": "code",
      "execution_count": 40,
      "metadata": {
        "ExecuteTime": {
          "end_time": "2022-05-23T14:37:32.008243Z",
          "start_time": "2022-05-23T14:37:31.297280Z"
        },
        "id": "KybH2dFaR0Ol"
      },
      "outputs": [],
      "source": [
        "final_images = np.concatenate([new_images6, aug_final_images])\n",
        "final_labels = np.concatenate([new_labels6, aug_final_labels])"
      ]
    },
    {
      "cell_type": "code",
      "execution_count": 41,
      "metadata": {
        "ExecuteTime": {
          "end_time": "2022-05-23T14:37:32.015100Z",
          "start_time": "2022-05-23T14:37:32.009292Z"
        },
        "id": "2RmnwXmeR0Ol",
        "outputId": "53418ffe-a637-429a-b0ad-968a167d13b5",
        "colab": {
          "base_uri": "https://localhost:8080/"
        }
      },
      "outputs": [
        {
          "output_type": "execute_result",
          "data": {
            "text/plain": [
              "(3360, 256, 256, 1)"
            ]
          },
          "metadata": {},
          "execution_count": 41
        }
      ],
      "source": [
        "final_images.shape"
      ]
    },
    {
      "cell_type": "code",
      "execution_count": 42,
      "metadata": {
        "ExecuteTime": {
          "end_time": "2022-05-23T14:37:32.019455Z",
          "start_time": "2022-05-23T14:37:32.016958Z"
        },
        "id": "7eKaJ3cGR0Ol",
        "outputId": "8c7d8788-acc7-44cf-9976-97c9652d97ed",
        "colab": {
          "base_uri": "https://localhost:8080/"
        }
      },
      "outputs": [
        {
          "output_type": "execute_result",
          "data": {
            "text/plain": [
              "(3360,)"
            ]
          },
          "metadata": {},
          "execution_count": 42
        }
      ],
      "source": [
        "final_labels.shape"
      ]
    },
    {
      "cell_type": "code",
      "execution_count": 43,
      "metadata": {
        "ExecuteTime": {
          "end_time": "2022-05-23T14:37:32.033769Z",
          "start_time": "2022-05-23T14:37:32.020208Z"
        },
        "id": "UhepMd4vR0Ol",
        "outputId": "97b57187-93db-45c5-ef08-cd2d8da291e3",
        "colab": {
          "base_uri": "https://localhost:8080/",
          "height": 0
        }
      },
      "outputs": [
        {
          "output_type": "execute_result",
          "data": {
            "text/plain": [
              "<PIL.Image.Image image mode=L size=256x256 at 0x7F315EFA4550>"
            ],
            "image/png": "[encoded data removed]"
          },
          "metadata": {},
          "execution_count": 43
        }
      ],
      "source": [
        "array_to_img(final_images[0])"
      ]
    },
    {
      "cell_type": "code",
      "execution_count": 44,
      "metadata": {
        "ExecuteTime": {
          "end_time": "2022-05-23T14:37:32.040012Z",
          "start_time": "2022-05-23T14:37:32.034835Z"
        },
        "id": "s38aLE0qR0Ol",
        "outputId": "6f4c3540-4a44-422d-d591-4b7bc252e7e6",
        "colab": {
          "base_uri": "https://localhost:8080/"
        }
      },
      "outputs": [
        {
          "output_type": "execute_result",
          "data": {
            "text/plain": [
              "1.0"
            ]
          },
          "metadata": {},
          "execution_count": 44
        }
      ],
      "source": [
        "final_labels[0]"
      ]
    },
    {
      "cell_type": "markdown",
      "metadata": {
        "id": "CCaEK_hFR0Ol"
      },
      "source": [
        "## Modeling"
      ]
    },
    {
      "cell_type": "markdown",
      "metadata": {
        "id": "eKoiWPw5R0Ol"
      },
      "source": [
        "### Dummy Model"
      ]
    },
    {
      "cell_type": "markdown",
      "metadata": {
        "id": "lcHRzqhyR0Ol"
      },
      "source": [
        "Our first model will be a baseline model for comparison. We will utilize Sklearn's DummyClassifier which uses the most frequent class as it's prediction. "
      ]
    },
    {
      "cell_type": "code",
      "execution_count": 45,
      "metadata": {
        "ExecuteTime": {
          "end_time": "2022-05-23T14:37:35.366797Z",
          "start_time": "2022-05-23T14:37:35.332169Z"
        },
        "id": "7H3PJEb3R0Ol",
        "outputId": "da788b6a-d7b1-486d-f9e3-bb1512313b38",
        "colab": {
          "base_uri": "https://localhost:8080/"
        }
      },
      "outputs": [
        {
          "output_type": "execute_result",
          "data": {
            "text/plain": [
              "DummyClassifier(strategy='most_frequent')"
            ]
          },
          "metadata": {},
          "execution_count": 45
        }
      ],
      "source": [
        "dummy_model = DummyClassifier(strategy='most_frequent')\n",
        "dummy_model.fit(final_images, final_labels)"
      ]
    },
    {
      "cell_type": "code",
      "execution_count": 46,
      "metadata": {
        "ExecuteTime": {
          "end_time": "2022-05-23T14:37:35.762069Z",
          "start_time": "2022-05-23T14:37:35.728654Z"
        },
        "id": "OGJE7C5vR0Ol"
      },
      "outputs": [],
      "source": [
        "dummy_preds = dummy_model.predict(X_test)\n",
        "\n",
        "dummy_acc = dummy_model.score(X_test, y_test)"
      ]
    },
    {
      "cell_type": "code",
      "execution_count": 47,
      "metadata": {
        "ExecuteTime": {
          "end_time": "2022-05-23T14:37:36.158514Z",
          "start_time": "2022-05-23T14:37:36.146852Z"
        },
        "id": "nqGT1ytvR0Ol",
        "outputId": "87a564ad-a357-4f36-b760-c6b0804b295a",
        "colab": {
          "base_uri": "https://localhost:8080/"
        }
      },
      "outputs": [
        {
          "output_type": "execute_result",
          "data": {
            "text/plain": [
              "0.43333333333333335"
            ]
          },
          "metadata": {},
          "execution_count": 47
        }
      ],
      "source": [
        "dummy_acc"
      ]
    },
    {
      "cell_type": "markdown",
      "metadata": {
        "id": "_5a7Vm4aR0Ol"
      },
      "source": [
        "### Scikit Learn Keras Classifier"
      ]
    },
    {
      "cell_type": "code",
      "execution_count": 48,
      "metadata": {
        "ExecuteTime": {
          "end_time": "2022-05-23T13:39:25.574306Z",
          "start_time": "2022-05-23T13:39:25.527391Z"
        },
        "id": "2yl9XYh1R0Ol"
      },
      "outputs": [],
      "source": [
        "sgd = SGD(learning_rate=.0001)"
      ]
    },
    {
      "cell_type": "code",
      "execution_count": 49,
      "metadata": {
        "ExecuteTime": {
          "end_time": "2022-05-23T13:39:26.015659Z",
          "start_time": "2022-05-23T13:39:25.989022Z"
        },
        "id": "x7M9W1WZR0Om"
      },
      "outputs": [],
      "source": [
        "def build_model():\n",
        "    model = Sequential()\n",
        "    model.add(layers.Conv2D(filters=64,\n",
        "                       kernel_size=(3,3),\n",
        "                       activation='relu',\n",
        "                       input_shape=(256,256,1)))\n",
        "\n",
        "    model.add(layers.MaxPool2D())\n",
        "    \n",
        "    model.add(layers.Flatten())\n",
        "    \n",
        "    model.add(layers.Dense(128, activation='relu'))\n",
        "    model.add(layers.Dropout(.05))\n",
        "    \n",
        "    model.add(layers.Dense(64, activation='relu'))\n",
        "    model.add(layers.Dropout(.25))\n",
        "\n",
        "    model.add(layers.Dense(16, activation='relu'))\n",
        "    \n",
        "    model.add(layers.Dense(1, activation='sigmoid'))\n",
        "\n",
        "    model.compile(optimizer=sgd,\n",
        "                  loss='binary_crossentropy',\n",
        "                  metrics=['accuracy'])\n",
        "    return model"
      ]
    },
    {
      "cell_type": "code",
      "execution_count": 50,
      "metadata": {
        "ExecuteTime": {
          "end_time": "2022-05-23T13:39:27.328450Z",
          "start_time": "2022-05-23T13:39:27.313083Z"
        },
        "id": "d3yyJGmTR0Om",
        "outputId": "2c5c6fe8-37ee-49e7-b741-af0f4ca2f0ac",
        "colab": {
          "base_uri": "https://localhost:8080/"
        }
      },
      "outputs": [
        {
          "output_type": "stream",
          "name": "stderr",
          "text": [
            "/usr/local/lib/python3.7/dist-packages/ipykernel_launcher.py:4: DeprecationWarning: KerasClassifier is deprecated, use Sci-Keras (https://github.com/adriangb/scikeras) instead. See https://www.adriangb.com/scikeras/stable/migration.html for help migrating.\n",
            "  after removing the cwd from sys.path.\n"
          ]
        }
      ],
      "source": [
        "model2 = scikit_learn.KerasClassifier(build_model,\n",
        "                                          epochs=10,\n",
        "                                          batch_size=24,\n",
        "                                          verbose=2)"
      ]
    },
    {
      "cell_type": "code",
      "execution_count": 51,
      "metadata": {
        "id": "Vp5sCNXUR0Om",
        "outputId": "a0d5df70-6446-4918-e290-2ec1fb1c80a4",
        "colab": {
          "base_uri": "https://localhost:8080/"
        }
      },
      "outputs": [
        {
          "output_type": "stream",
          "name": "stdout",
          "text": [
            "Epoch 1/10\n",
            "112/112 - 14s - loss: 3.9081 - accuracy: 0.4926 - 14s/epoch - 128ms/step\n",
            "Epoch 2/10\n",
            "112/112 - 4s - loss: 0.7435 - accuracy: 0.4907 - 4s/epoch - 31ms/step\n",
            "Epoch 3/10\n",
            "112/112 - 4s - loss: 0.7173 - accuracy: 0.5260 - 4s/epoch - 31ms/step\n",
            "Epoch 4/10\n",
            "112/112 - 4s - loss: 0.7050 - accuracy: 0.5409 - 4s/epoch - 32ms/step\n",
            "Epoch 5/10\n",
            "112/112 - 4s - loss: 0.6955 - accuracy: 0.5476 - 4s/epoch - 32ms/step\n",
            "Epoch 6/10\n",
            "112/112 - 4s - loss: 0.6954 - accuracy: 0.5577 - 4s/epoch - 32ms/step\n",
            "Epoch 7/10\n",
            "112/112 - 4s - loss: 0.6892 - accuracy: 0.5863 - 4s/epoch - 34ms/step\n",
            "Epoch 8/10\n",
            "112/112 - 4s - loss: 0.6681 - accuracy: 0.5859 - 4s/epoch - 31ms/step\n",
            "Epoch 9/10\n",
            "112/112 - 4s - loss: 0.6659 - accuracy: 0.6071 - 4s/epoch - 31ms/step\n",
            "Epoch 10/10\n",
            "112/112 - 4s - loss: 0.6400 - accuracy: 0.6447 - 4s/epoch - 31ms/step\n",
            "28/28 - 1s - loss: 0.6926 - accuracy: 0.6473 - 549ms/epoch - 20ms/step\n",
            "Epoch 1/10\n",
            "112/112 - 4s - loss: 7.2798 - accuracy: 0.5056 - 4s/epoch - 35ms/step\n",
            "Epoch 2/10\n",
            "112/112 - 4s - loss: 0.7529 - accuracy: 0.5428 - 4s/epoch - 31ms/step\n",
            "Epoch 3/10\n",
            "112/112 - 4s - loss: 0.6887 - accuracy: 0.5811 - 4s/epoch - 31ms/step\n",
            "Epoch 4/10\n",
            "112/112 - 4s - loss: 0.6436 - accuracy: 0.6347 - 4s/epoch - 32ms/step\n",
            "Epoch 5/10\n",
            "112/112 - 4s - loss: 0.5852 - accuracy: 0.6938 - 4s/epoch - 35ms/step\n",
            "Epoch 6/10\n",
            "112/112 - 4s - loss: 0.5344 - accuracy: 0.7310 - 4s/epoch - 33ms/step\n",
            "Epoch 7/10\n",
            "112/112 - 4s - loss: 0.4929 - accuracy: 0.7653 - 4s/epoch - 33ms/step\n",
            "Epoch 8/10\n",
            "112/112 - 4s - loss: 0.4647 - accuracy: 0.7935 - 4s/epoch - 32ms/step\n",
            "Epoch 9/10\n",
            "112/112 - 4s - loss: 0.4210 - accuracy: 0.8211 - 4s/epoch - 31ms/step\n",
            "Epoch 10/10\n",
            "112/112 - 3s - loss: 0.3850 - accuracy: 0.8423 - 3s/epoch - 31ms/step\n",
            "28/28 - 1s - loss: 0.6919 - accuracy: 0.6265 - 525ms/epoch - 19ms/step\n",
            "Epoch 1/10\n",
            "112/112 - 4s - loss: 6.4729 - accuracy: 0.5208 - 4s/epoch - 35ms/step\n",
            "Epoch 2/10\n",
            "112/112 - 4s - loss: 0.7460 - accuracy: 0.5469 - 4s/epoch - 32ms/step\n",
            "Epoch 3/10\n",
            "112/112 - 4s - loss: 0.6557 - accuracy: 0.6027 - 4s/epoch - 32ms/step\n",
            "Epoch 4/10\n",
            "112/112 - 4s - loss: 0.5863 - accuracy: 0.6574 - 4s/epoch - 33ms/step\n",
            "Epoch 5/10\n",
            "112/112 - 4s - loss: 0.5664 - accuracy: 0.6708 - 4s/epoch - 33ms/step\n",
            "Epoch 6/10\n",
            "112/112 - 4s - loss: 0.5408 - accuracy: 0.6901 - 4s/epoch - 32ms/step\n",
            "Epoch 7/10\n",
            "112/112 - 4s - loss: 0.5157 - accuracy: 0.7068 - 4s/epoch - 32ms/step\n",
            "Epoch 8/10\n",
            "112/112 - 4s - loss: 0.4981 - accuracy: 0.7277 - 4s/epoch - 32ms/step\n",
            "Epoch 9/10\n",
            "112/112 - 4s - loss: 0.4808 - accuracy: 0.7307 - 4s/epoch - 32ms/step\n",
            "Epoch 10/10\n",
            "112/112 - 4s - loss: 0.4674 - accuracy: 0.7359 - 4s/epoch - 32ms/step\n",
            "28/28 - 1s - loss: 0.9064 - accuracy: 0.5640 - 538ms/epoch - 19ms/step\n",
            "Epoch 1/10\n",
            "112/112 - 4s - loss: 5.2556 - accuracy: 0.5153 - 4s/epoch - 35ms/step\n",
            "Epoch 2/10\n",
            "112/112 - 3s - loss: 0.7211 - accuracy: 0.5510 - 3s/epoch - 31ms/step\n",
            "Epoch 3/10\n",
            "112/112 - 4s - loss: 0.6577 - accuracy: 0.6261 - 4s/epoch - 32ms/step\n",
            "Epoch 4/10\n",
            "112/112 - 4s - loss: 0.6111 - accuracy: 0.6603 - 4s/epoch - 31ms/step\n",
            "Epoch 5/10\n",
            "112/112 - 4s - loss: 0.5770 - accuracy: 0.7046 - 4s/epoch - 31ms/step\n",
            "Epoch 6/10\n",
            "112/112 - 4s - loss: 0.5372 - accuracy: 0.7340 - 4s/epoch - 31ms/step\n",
            "Epoch 7/10\n",
            "112/112 - 4s - loss: 0.4964 - accuracy: 0.7467 - 4s/epoch - 32ms/step\n",
            "Epoch 8/10\n",
            "112/112 - 4s - loss: 0.4669 - accuracy: 0.7671 - 4s/epoch - 32ms/step\n",
            "Epoch 9/10\n",
            "112/112 - 4s - loss: 0.4494 - accuracy: 0.7891 - 4s/epoch - 31ms/step\n",
            "Epoch 10/10\n",
            "112/112 - 3s - loss: 0.4318 - accuracy: 0.8002 - 3s/epoch - 31ms/step\n",
            "28/28 - 1s - loss: 0.9808 - accuracy: 0.5461 - 549ms/epoch - 20ms/step\n",
            "Epoch 1/10\n",
            "112/112 - 4s - loss: 2.8341 - accuracy: 0.4952 - 4s/epoch - 35ms/step\n",
            "Epoch 2/10\n",
            "112/112 - 4s - loss: 0.6931 - accuracy: 0.5126 - 4s/epoch - 32ms/step\n",
            "Epoch 3/10\n",
            "112/112 - 4s - loss: 0.6931 - accuracy: 0.5123 - 4s/epoch - 31ms/step\n",
            "Epoch 4/10\n",
            "112/112 - 4s - loss: 0.6931 - accuracy: 0.5126 - 4s/epoch - 31ms/step\n",
            "Epoch 5/10\n",
            "112/112 - 4s - loss: 0.6931 - accuracy: 0.5126 - 4s/epoch - 31ms/step\n",
            "Epoch 6/10\n",
            "112/112 - 4s - loss: 0.6933 - accuracy: 0.5134 - 4s/epoch - 32ms/step\n",
            "Epoch 7/10\n",
            "112/112 - 4s - loss: 0.6931 - accuracy: 0.5126 - 4s/epoch - 31ms/step\n",
            "Epoch 8/10\n",
            "112/112 - 4s - loss: 0.6931 - accuracy: 0.5126 - 4s/epoch - 31ms/step\n",
            "Epoch 9/10\n",
            "112/112 - 4s - loss: 0.6931 - accuracy: 0.5126 - 4s/epoch - 31ms/step\n",
            "Epoch 10/10\n",
            "112/112 - 4s - loss: 0.6931 - accuracy: 0.5126 - 4s/epoch - 31ms/step\n",
            "28/28 - 1s - loss: 0.6930 - accuracy: 0.5342 - 533ms/epoch - 19ms/step\n"
          ]
        }
      ],
      "source": [
        "model2_cv_results = cross_val_score(model2, final_images, final_labels)"
      ]
    },
    {
      "cell_type": "code",
      "source": [
        "model2_cv_results.mean()"
      ],
      "metadata": {
        "id": "xmmeKopLTuim",
        "outputId": "6d877bae-ccc6-4b39-92a3-72342385fed4",
        "colab": {
          "base_uri": "https://localhost:8080/"
        }
      },
      "execution_count": 53,
      "outputs": [
        {
          "output_type": "execute_result",
          "data": {
            "text/plain": [
              "0.5836309432983399"
            ]
          },
          "metadata": {},
          "execution_count": 53
        }
      ]
    },
    {
      "cell_type": "code",
      "execution_count": null,
      "metadata": {
        "id": "Oq8AblILR0Om"
      },
      "outputs": [],
      "source": [
        "# model2_cv_pickle = 'model2_cv_pickle.sav'\n",
        "# pickle.dump(model2_cv_results, open(model2_cv_pickle, 'wb'))"
      ]
    },
    {
      "cell_type": "code",
      "execution_count": 54,
      "metadata": {
        "id": "wrDnFbpsR0Om",
        "outputId": "9c94d521-bd03-498f-f247-022e5577981f",
        "colab": {
          "base_uri": "https://localhost:8080/"
        }
      },
      "outputs": [
        {
          "output_type": "stream",
          "name": "stdout",
          "text": [
            "Epoch 1/10\n",
            "112/112 - 5s - loss: 4.3485 - accuracy: 0.4881 - val_loss: 0.7045 - val_accuracy: 0.5402 - 5s/epoch - 43ms/step\n",
            "Epoch 2/10\n",
            "112/112 - 4s - loss: 0.7488 - accuracy: 0.5052 - val_loss: 0.6963 - val_accuracy: 0.4866 - 4s/epoch - 37ms/step\n",
            "Epoch 3/10\n",
            "112/112 - 4s - loss: 0.7044 - accuracy: 0.5015 - val_loss: 0.6953 - val_accuracy: 0.5238 - 4s/epoch - 37ms/step\n",
            "Epoch 4/10\n",
            "112/112 - 4s - loss: 0.6935 - accuracy: 0.5074 - val_loss: 0.6934 - val_accuracy: 0.5238 - 4s/epoch - 37ms/step\n",
            "Epoch 5/10\n",
            "112/112 - 4s - loss: 0.6929 - accuracy: 0.5171 - val_loss: 0.6952 - val_accuracy: 0.5238 - 4s/epoch - 36ms/step\n",
            "Epoch 6/10\n",
            "112/112 - 4s - loss: 0.6918 - accuracy: 0.5123 - val_loss: 0.6924 - val_accuracy: 0.5268 - 4s/epoch - 37ms/step\n",
            "Epoch 7/10\n",
            "112/112 - 4s - loss: 0.6935 - accuracy: 0.5078 - val_loss: 0.6918 - val_accuracy: 0.5432 - 4s/epoch - 37ms/step\n",
            "Epoch 8/10\n",
            "112/112 - 4s - loss: 0.6919 - accuracy: 0.5219 - val_loss: 0.7190 - val_accuracy: 0.4643 - 4s/epoch - 36ms/step\n",
            "Epoch 9/10\n",
            "112/112 - 4s - loss: 0.6922 - accuracy: 0.5100 - val_loss: 0.6945 - val_accuracy: 0.5089 - 4s/epoch - 37ms/step\n",
            "Epoch 10/10\n",
            "112/112 - 4s - loss: 0.6884 - accuracy: 0.5234 - val_loss: 0.6900 - val_accuracy: 0.5312 - 4s/epoch - 37ms/step\n"
          ]
        }
      ],
      "source": [
        "model2 = model2.fit(final_images, final_labels, validation_split=.2)"
      ]
    },
    {
      "cell_type": "code",
      "execution_count": 55,
      "metadata": {
        "id": "GOXp45YUR0Om",
        "outputId": "8d0c0702-0a9b-454a-ba68-d5194897610b",
        "colab": {
          "base_uri": "https://localhost:8080/"
        }
      },
      "outputs": [
        {
          "output_type": "stream",
          "name": "stdout",
          "text": [
            "INFO:tensorflow:Assets written to: ram://1bffe0ac-68f2-446e-919d-ed0f86a0413e/assets\n"
          ]
        }
      ],
      "source": [
        "model2_pickle = 'drive/MyDrive/model2_pickle.sav'\n",
        "pickle.dump(model2, open(model2_pickle, 'wb'))"
      ]
    },
    {
      "cell_type": "code",
      "execution_count": null,
      "metadata": {
        "id": "zKNzSVPSR0Om"
      },
      "outputs": [],
      "source": [
        ""
      ]
    },
    {
      "cell_type": "code",
      "execution_count": null,
      "metadata": {
        "id": "Fze6zpVDR0Om"
      },
      "outputs": [],
      "source": [
        ""
      ]
    }
  ],
  "metadata": {
    "kernelspec": {
      "display_name": "tf-test",
      "language": "python",
      "name": "tf-test"
    },
    "language_info": {
      "codemirror_mode": {
        "name": "ipython",
        "version": 3
      },
      "file_extension": ".py",
      "mimetype": "text/x-python",
      "name": "python",
      "nbconvert_exporter": "python",
      "pygments_lexer": "ipython3",
      "version": "3.6.13"
    },
    "toc": {
      "base_numbering": 1,
      "nav_menu": {},
      "number_sections": true,
      "sideBar": true,
      "skip_h1_title": false,
      "title_cell": "Table of Contents",
      "title_sidebar": "Contents",
      "toc_cell": false,
      "toc_position": {},
      "toc_section_display": true,
      "toc_window_display": false
    },
    "colab": {
      "name": "Model2_Notebook.ipynb",
      "provenance": []
    },
    "accelerator": "GPU"
  },
  "nbformat": 4,
  "nbformat_minor": 0
}