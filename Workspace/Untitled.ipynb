{
 "cells": [
  {
   "cell_type": "code",
   "execution_count": 1,
   "metadata": {
    "ExecuteTime": {
     "end_time": "2022-05-16T21:21:38.649462Z",
     "start_time": "2022-05-16T21:21:35.277116Z"
    }
   },
   "outputs": [],
   "source": [
    "import pandas as pd\n",
    "import numpy as np\n",
    "import matplotlib.pyplot as plt\n",
    "%matplotlib inline\n",
    "from tensorflow.keras.models import Sequential\n",
    "from tensorflow.keras.layers import Dense\n",
    "from tensorflow.keras.datasets import mnist\n",
    "import os\n",
    "os.environ['KMP_DUPLICATE_LIB_OK']='True' #This prevents kernel shut down due to xgboost conflict\n",
    "from tensorflow.keras.preprocessing.image import ImageDataGenerator\n",
    "from tensorflow.keras.preprocessing.image import ImageDataGenerator, array_to_img, img_to_array, load_img\n",
    "import numpy as np\n",
    "import os"
   ]
  },
  {
   "cell_type": "code",
   "execution_count": 2,
   "metadata": {
    "ExecuteTime": {
     "end_time": "2022-05-16T21:21:38.652655Z",
     "start_time": "2022-05-16T21:21:38.650802Z"
    }
   },
   "outputs": [],
   "source": [
    "img = ImageDataGenerator(validation_split=.20)"
   ]
  },
  {
   "cell_type": "code",
   "execution_count": 3,
   "metadata": {
    "ExecuteTime": {
     "end_time": "2022-05-16T21:21:38.654877Z",
     "start_time": "2022-05-16T21:21:38.653511Z"
    }
   },
   "outputs": [],
   "source": [
    "data_path = '../Data/sample_Signature/sample_Signature/'\n"
   ]
  },
  {
   "cell_type": "code",
   "execution_count": 4,
   "metadata": {
    "ExecuteTime": {
     "end_time": "2022-05-16T21:21:38.877267Z",
     "start_time": "2022-05-16T21:21:38.655799Z"
    },
    "scrolled": true
   },
   "outputs": [
    {
     "name": "stdout",
     "output_type": "stream",
     "text": [
      "Found 240 images belonging to 2 classes.\n",
      "Found 60 images belonging to 2 classes.\n"
     ]
    }
   ],
   "source": [
    "train = img.flow_from_directory(data_path, color_mode='grayscale', subset='training', batch_size=240)\n",
    "test = img.flow_from_directory(data_path, color_mode='grayscale', subset='validation', batch_size=60)\n"
   ]
  },
  {
   "cell_type": "code",
   "execution_count": 5,
   "metadata": {
    "ExecuteTime": {
     "end_time": "2022-05-16T21:21:42.228794Z",
     "start_time": "2022-05-16T21:21:38.882543Z"
    },
    "scrolled": true
   },
   "outputs": [],
   "source": [
    "train_images, train_labels = next(train)\n",
    "test_images, test_labels = next(test)"
   ]
  },
  {
   "cell_type": "code",
   "execution_count": 6,
   "metadata": {
    "ExecuteTime": {
     "end_time": "2022-05-16T21:21:42.233302Z",
     "start_time": "2022-05-16T21:21:42.229812Z"
    }
   },
   "outputs": [
    {
     "data": {
      "text/plain": [
       "240"
      ]
     },
     "execution_count": 6,
     "metadata": {},
     "output_type": "execute_result"
    }
   ],
   "source": [
    "len(train_images)"
   ]
  },
  {
   "cell_type": "code",
   "execution_count": 7,
   "metadata": {
    "ExecuteTime": {
     "end_time": "2022-05-16T21:21:42.236381Z",
     "start_time": "2022-05-16T21:21:42.234138Z"
    }
   },
   "outputs": [
    {
     "data": {
      "text/plain": [
       "60"
      ]
     },
     "execution_count": 7,
     "metadata": {},
     "output_type": "execute_result"
    }
   ],
   "source": [
    "len(test_images)"
   ]
  },
  {
   "cell_type": "code",
   "execution_count": 8,
   "metadata": {
    "ExecuteTime": {
     "end_time": "2022-05-16T21:21:42.243905Z",
     "start_time": "2022-05-16T21:21:42.237418Z"
    },
    "scrolled": true
   },
   "outputs": [
    {
     "data": {
      "image/png": "[encoded data removed]",
      "text/plain": [
       "<PIL.Image.Image image mode=L size=256x256>"
      ]
     },
     "execution_count": 8,
     "metadata": {},
     "output_type": "execute_result"
    }
   ],
   "source": [
    "array_to_img(train_images[0])"
   ]
  },
  {
   "cell_type": "code",
   "execution_count": 9,
   "metadata": {
    "ExecuteTime": {
     "end_time": "2022-05-16T21:21:42.334132Z",
     "start_time": "2022-05-16T21:21:42.244892Z"
    },
    "scrolled": true
   },
   "outputs": [
    {
     "data": {
      "text/plain": [
       "<matplotlib.image.AxesImage at 0x7fe708c073d0>"
      ]
     },
     "metadata": {},
     "output_type": "display_data"
    },
    {
     "data": {
      "image/png": "[encoded data removed]",
      "text/plain": [
       "<Figure size 432x288 with 1 Axes>"
      ]
     },
     "metadata": {
      "needs_background": "light"
     },
     "output_type": "display_data"
    }
   ],
   "source": [
    "display(plt.imshow(train_images[0]))"
   ]
  },
  {
   "cell_type": "code",
   "execution_count": 10,
   "metadata": {
    "ExecuteTime": {
     "end_time": "2022-05-16T21:21:42.337938Z",
     "start_time": "2022-05-16T21:21:42.335273Z"
    }
   },
   "outputs": [
    {
     "name": "stdout",
     "output_type": "stream",
     "text": [
      "(240, 256, 256, 1)\n",
      "(240, 2)\n",
      "(60, 256, 256, 1)\n",
      "(60, 2)\n"
     ]
    }
   ],
   "source": [
    "print(np.shape(train_images))\n",
    "print(np.shape(train_labels))\n",
    "print(np.shape(test_images))\n",
    "print(np.shape(test_labels))"
   ]
  },
  {
   "cell_type": "code",
   "execution_count": 11,
   "metadata": {
    "ExecuteTime": {
     "end_time": "2022-05-16T21:21:42.347482Z",
     "start_time": "2022-05-16T21:21:42.339299Z"
    }
   },
   "outputs": [
    {
     "data": {
      "text/plain": [
       "array([[[[255.],\n",
       "         [255.],\n",
       "         [255.],\n",
       "         ...,\n",
       "         [255.],\n",
       "         [255.],\n",
       "         [255.]],\n",
       "\n",
       "        [[255.],\n",
       "         [255.],\n",
       "         [255.],\n",
       "         ...,\n",
       "         [255.],\n",
       "         [255.],\n",
       "         [255.]],\n",
       "\n",
       "        [[255.],\n",
       "         [255.],\n",
       "         [255.],\n",
       "         ...,\n",
       "         [255.],\n",
       "         [255.],\n",
       "         [255.]],\n",
       "\n",
       "        ...,\n",
       "\n",
       "        [[255.],\n",
       "         [255.],\n",
       "         [255.],\n",
       "         ...,\n",
       "         [255.],\n",
       "         [255.],\n",
       "         [255.]],\n",
       "\n",
       "        [[255.],\n",
       "         [255.],\n",
       "         [255.],\n",
       "         ...,\n",
       "         [255.],\n",
       "         [255.],\n",
       "         [255.]],\n",
       "\n",
       "        [[255.],\n",
       "         [255.],\n",
       "         [255.],\n",
       "         ...,\n",
       "         [255.],\n",
       "         [255.],\n",
       "         [255.]]],\n",
       "\n",
       "\n",
       "       [[[249.],\n",
       "         [249.],\n",
       "         [249.],\n",
       "         ...,\n",
       "         [249.],\n",
       "         [249.],\n",
       "         [249.]],\n",
       "\n",
       "        [[249.],\n",
       "         [249.],\n",
       "         [249.],\n",
       "         ...,\n",
       "         [249.],\n",
       "         [249.],\n",
       "         [249.]],\n",
       "\n",
       "        [[249.],\n",
       "         [249.],\n",
       "         [249.],\n",
       "         ...,\n",
       "         [249.],\n",
       "         [249.],\n",
       "         [249.]],\n",
       "\n",
       "        ...,\n",
       "\n",
       "        [[249.],\n",
       "         [249.],\n",
       "         [249.],\n",
       "         ...,\n",
       "         [249.],\n",
       "         [249.],\n",
       "         [249.]],\n",
       "\n",
       "        [[249.],\n",
       "         [249.],\n",
       "         [249.],\n",
       "         ...,\n",
       "         [249.],\n",
       "         [249.],\n",
       "         [249.]],\n",
       "\n",
       "        [[249.],\n",
       "         [249.],\n",
       "         [249.],\n",
       "         ...,\n",
       "         [249.],\n",
       "         [249.],\n",
       "         [249.]]],\n",
       "\n",
       "\n",
       "       [[[249.],\n",
       "         [248.],\n",
       "         [248.],\n",
       "         ...,\n",
       "         [247.],\n",
       "         [247.],\n",
       "         [249.]],\n",
       "\n",
       "        [[249.],\n",
       "         [248.],\n",
       "         [248.],\n",
       "         ...,\n",
       "         [247.],\n",
       "         [247.],\n",
       "         [249.]],\n",
       "\n",
       "        [[248.],\n",
       "         [249.],\n",
       "         [249.],\n",
       "         ...,\n",
       "         [248.],\n",
       "         [248.],\n",
       "         [249.]],\n",
       "\n",
       "        ...,\n",
       "\n",
       "        [[249.],\n",
       "         [249.],\n",
       "         [249.],\n",
       "         ...,\n",
       "         [248.],\n",
       "         [248.],\n",
       "         [247.]],\n",
       "\n",
       "        [[248.],\n",
       "         [248.],\n",
       "         [248.],\n",
       "         ...,\n",
       "         [247.],\n",
       "         [247.],\n",
       "         [247.]],\n",
       "\n",
       "        [[248.],\n",
       "         [248.],\n",
       "         [248.],\n",
       "         ...,\n",
       "         [247.],\n",
       "         [247.],\n",
       "         [247.]]],\n",
       "\n",
       "\n",
       "       ...,\n",
       "\n",
       "\n",
       "       [[[246.],\n",
       "         [249.],\n",
       "         [249.],\n",
       "         ...,\n",
       "         [249.],\n",
       "         [249.],\n",
       "         [249.]],\n",
       "\n",
       "        [[246.],\n",
       "         [249.],\n",
       "         [249.],\n",
       "         ...,\n",
       "         [249.],\n",
       "         [249.],\n",
       "         [249.]],\n",
       "\n",
       "        [[248.],\n",
       "         [248.],\n",
       "         [248.],\n",
       "         ...,\n",
       "         [249.],\n",
       "         [249.],\n",
       "         [249.]],\n",
       "\n",
       "        ...,\n",
       "\n",
       "        [[248.],\n",
       "         [247.],\n",
       "         [247.],\n",
       "         ...,\n",
       "         [249.],\n",
       "         [249.],\n",
       "         [249.]],\n",
       "\n",
       "        [[248.],\n",
       "         [248.],\n",
       "         [248.],\n",
       "         ...,\n",
       "         [249.],\n",
       "         [249.],\n",
       "         [249.]],\n",
       "\n",
       "        [[248.],\n",
       "         [248.],\n",
       "         [248.],\n",
       "         ...,\n",
       "         [249.],\n",
       "         [249.],\n",
       "         [249.]]],\n",
       "\n",
       "\n",
       "       [[[249.],\n",
       "         [249.],\n",
       "         [249.],\n",
       "         ...,\n",
       "         [249.],\n",
       "         [249.],\n",
       "         [249.]],\n",
       "\n",
       "        [[249.],\n",
       "         [249.],\n",
       "         [249.],\n",
       "         ...,\n",
       "         [249.],\n",
       "         [249.],\n",
       "         [249.]],\n",
       "\n",
       "        [[249.],\n",
       "         [249.],\n",
       "         [249.],\n",
       "         ...,\n",
       "         [249.],\n",
       "         [249.],\n",
       "         [249.]],\n",
       "\n",
       "        ...,\n",
       "\n",
       "        [[249.],\n",
       "         [249.],\n",
       "         [248.],\n",
       "         ...,\n",
       "         [250.],\n",
       "         [249.],\n",
       "         [250.]],\n",
       "\n",
       "        [[249.],\n",
       "         [249.],\n",
       "         [248.],\n",
       "         ...,\n",
       "         [250.],\n",
       "         [249.],\n",
       "         [250.]],\n",
       "\n",
       "        [[249.],\n",
       "         [249.],\n",
       "         [248.],\n",
       "         ...,\n",
       "         [250.],\n",
       "         [249.],\n",
       "         [250.]]],\n",
       "\n",
       "\n",
       "       [[[255.],\n",
       "         [255.],\n",
       "         [255.],\n",
       "         ...,\n",
       "         [255.],\n",
       "         [255.],\n",
       "         [255.]],\n",
       "\n",
       "        [[255.],\n",
       "         [255.],\n",
       "         [255.],\n",
       "         ...,\n",
       "         [255.],\n",
       "         [255.],\n",
       "         [255.]],\n",
       "\n",
       "        [[255.],\n",
       "         [255.],\n",
       "         [255.],\n",
       "         ...,\n",
       "         [255.],\n",
       "         [255.],\n",
       "         [255.]],\n",
       "\n",
       "        ...,\n",
       "\n",
       "        [[255.],\n",
       "         [255.],\n",
       "         [255.],\n",
       "         ...,\n",
       "         [255.],\n",
       "         [255.],\n",
       "         [255.]],\n",
       "\n",
       "        [[255.],\n",
       "         [255.],\n",
       "         [255.],\n",
       "         ...,\n",
       "         [255.],\n",
       "         [255.],\n",
       "         [255.]],\n",
       "\n",
       "        [[255.],\n",
       "         [255.],\n",
       "         [255.],\n",
       "         ...,\n",
       "         [255.],\n",
       "         [255.],\n",
       "         [255.]]]], dtype=float32)"
      ]
     },
     "execution_count": 11,
     "metadata": {},
     "output_type": "execute_result"
    }
   ],
   "source": [
    "train_images"
   ]
  },
  {
   "cell_type": "code",
   "execution_count": 12,
   "metadata": {
    "ExecuteTime": {
     "end_time": "2022-05-16T21:21:42.350303Z",
     "start_time": "2022-05-16T21:21:42.348441Z"
    }
   },
   "outputs": [],
   "source": [
    "train_img_unrow = train_images.reshape(240, -1).T"
   ]
  },
  {
   "cell_type": "code",
   "execution_count": 13,
   "metadata": {
    "ExecuteTime": {
     "end_time": "2022-05-16T21:21:42.356214Z",
     "start_time": "2022-05-16T21:21:42.351146Z"
    }
   },
   "outputs": [
    {
     "data": {
      "text/plain": [
       "array([[[[255.],\n",
       "         [255.],\n",
       "         [255.],\n",
       "         ...,\n",
       "         [255.],\n",
       "         [255.],\n",
       "         [255.]],\n",
       "\n",
       "        [[255.],\n",
       "         [255.],\n",
       "         [255.],\n",
       "         ...,\n",
       "         [255.],\n",
       "         [255.],\n",
       "         [255.]],\n",
       "\n",
       "        [[255.],\n",
       "         [255.],\n",
       "         [255.],\n",
       "         ...,\n",
       "         [255.],\n",
       "         [255.],\n",
       "         [255.]],\n",
       "\n",
       "        ...,\n",
       "\n",
       "        [[255.],\n",
       "         [255.],\n",
       "         [255.],\n",
       "         ...,\n",
       "         [255.],\n",
       "         [255.],\n",
       "         [255.]],\n",
       "\n",
       "        [[255.],\n",
       "         [255.],\n",
       "         [255.],\n",
       "         ...,\n",
       "         [255.],\n",
       "         [255.],\n",
       "         [255.]],\n",
       "\n",
       "        [[255.],\n",
       "         [255.],\n",
       "         [255.],\n",
       "         ...,\n",
       "         [255.],\n",
       "         [255.],\n",
       "         [255.]]],\n",
       "\n",
       "\n",
       "       [[[255.],\n",
       "         [255.],\n",
       "         [255.],\n",
       "         ...,\n",
       "         [255.],\n",
       "         [255.],\n",
       "         [255.]],\n",
       "\n",
       "        [[255.],\n",
       "         [255.],\n",
       "         [255.],\n",
       "         ...,\n",
       "         [255.],\n",
       "         [255.],\n",
       "         [255.]],\n",
       "\n",
       "        [[255.],\n",
       "         [255.],\n",
       "         [255.],\n",
       "         ...,\n",
       "         [255.],\n",
       "         [255.],\n",
       "         [255.]],\n",
       "\n",
       "        ...,\n",
       "\n",
       "        [[255.],\n",
       "         [255.],\n",
       "         [255.],\n",
       "         ...,\n",
       "         [255.],\n",
       "         [255.],\n",
       "         [255.]],\n",
       "\n",
       "        [[255.],\n",
       "         [255.],\n",
       "         [255.],\n",
       "         ...,\n",
       "         [255.],\n",
       "         [255.],\n",
       "         [255.]],\n",
       "\n",
       "        [[255.],\n",
       "         [255.],\n",
       "         [255.],\n",
       "         ...,\n",
       "         [255.],\n",
       "         [255.],\n",
       "         [255.]]],\n",
       "\n",
       "\n",
       "       [[[255.],\n",
       "         [255.],\n",
       "         [255.],\n",
       "         ...,\n",
       "         [255.],\n",
       "         [255.],\n",
       "         [255.]],\n",
       "\n",
       "        [[255.],\n",
       "         [255.],\n",
       "         [255.],\n",
       "         ...,\n",
       "         [255.],\n",
       "         [255.],\n",
       "         [255.]],\n",
       "\n",
       "        [[255.],\n",
       "         [255.],\n",
       "         [255.],\n",
       "         ...,\n",
       "         [255.],\n",
       "         [255.],\n",
       "         [255.]],\n",
       "\n",
       "        ...,\n",
       "\n",
       "        [[255.],\n",
       "         [255.],\n",
       "         [255.],\n",
       "         ...,\n",
       "         [255.],\n",
       "         [255.],\n",
       "         [255.]],\n",
       "\n",
       "        [[255.],\n",
       "         [255.],\n",
       "         [255.],\n",
       "         ...,\n",
       "         [255.],\n",
       "         [255.],\n",
       "         [255.]],\n",
       "\n",
       "        [[255.],\n",
       "         [255.],\n",
       "         [255.],\n",
       "         ...,\n",
       "         [255.],\n",
       "         [255.],\n",
       "         [255.]]],\n",
       "\n",
       "\n",
       "       ...,\n",
       "\n",
       "\n",
       "       [[[247.],\n",
       "         [248.],\n",
       "         [248.],\n",
       "         ...,\n",
       "         [249.],\n",
       "         [249.],\n",
       "         [249.]],\n",
       "\n",
       "        [[247.],\n",
       "         [248.],\n",
       "         [248.],\n",
       "         ...,\n",
       "         [249.],\n",
       "         [249.],\n",
       "         [249.]],\n",
       "\n",
       "        [[247.],\n",
       "         [248.],\n",
       "         [248.],\n",
       "         ...,\n",
       "         [249.],\n",
       "         [249.],\n",
       "         [249.]],\n",
       "\n",
       "        ...,\n",
       "\n",
       "        [[247.],\n",
       "         [248.],\n",
       "         [248.],\n",
       "         ...,\n",
       "         [250.],\n",
       "         [250.],\n",
       "         [250.]],\n",
       "\n",
       "        [[247.],\n",
       "         [248.],\n",
       "         [248.],\n",
       "         ...,\n",
       "         [250.],\n",
       "         [250.],\n",
       "         [250.]],\n",
       "\n",
       "        [[247.],\n",
       "         [248.],\n",
       "         [248.],\n",
       "         ...,\n",
       "         [250.],\n",
       "         [250.],\n",
       "         [250.]]],\n",
       "\n",
       "\n",
       "       [[[255.],\n",
       "         [255.],\n",
       "         [255.],\n",
       "         ...,\n",
       "         [255.],\n",
       "         [255.],\n",
       "         [255.]],\n",
       "\n",
       "        [[255.],\n",
       "         [255.],\n",
       "         [255.],\n",
       "         ...,\n",
       "         [255.],\n",
       "         [255.],\n",
       "         [255.]],\n",
       "\n",
       "        [[255.],\n",
       "         [255.],\n",
       "         [255.],\n",
       "         ...,\n",
       "         [255.],\n",
       "         [255.],\n",
       "         [255.]],\n",
       "\n",
       "        ...,\n",
       "\n",
       "        [[255.],\n",
       "         [255.],\n",
       "         [255.],\n",
       "         ...,\n",
       "         [255.],\n",
       "         [255.],\n",
       "         [255.]],\n",
       "\n",
       "        [[255.],\n",
       "         [255.],\n",
       "         [255.],\n",
       "         ...,\n",
       "         [255.],\n",
       "         [255.],\n",
       "         [255.]],\n",
       "\n",
       "        [[255.],\n",
       "         [255.],\n",
       "         [255.],\n",
       "         ...,\n",
       "         [255.],\n",
       "         [255.],\n",
       "         [255.]]],\n",
       "\n",
       "\n",
       "       [[[255.],\n",
       "         [255.],\n",
       "         [255.],\n",
       "         ...,\n",
       "         [255.],\n",
       "         [255.],\n",
       "         [255.]],\n",
       "\n",
       "        [[255.],\n",
       "         [255.],\n",
       "         [255.],\n",
       "         ...,\n",
       "         [255.],\n",
       "         [255.],\n",
       "         [255.]],\n",
       "\n",
       "        [[255.],\n",
       "         [255.],\n",
       "         [255.],\n",
       "         ...,\n",
       "         [255.],\n",
       "         [255.],\n",
       "         [255.]],\n",
       "\n",
       "        ...,\n",
       "\n",
       "        [[255.],\n",
       "         [255.],\n",
       "         [255.],\n",
       "         ...,\n",
       "         [255.],\n",
       "         [255.],\n",
       "         [255.]],\n",
       "\n",
       "        [[255.],\n",
       "         [255.],\n",
       "         [255.],\n",
       "         ...,\n",
       "         [255.],\n",
       "         [255.],\n",
       "         [255.]],\n",
       "\n",
       "        [[255.],\n",
       "         [255.],\n",
       "         [255.],\n",
       "         ...,\n",
       "         [255.],\n",
       "         [255.],\n",
       "         [255.]]]], dtype=float32)"
      ]
     },
     "execution_count": 13,
     "metadata": {},
     "output_type": "execute_result"
    }
   ],
   "source": [
    "test_images"
   ]
  },
  {
   "cell_type": "code",
   "execution_count": 14,
   "metadata": {
    "ExecuteTime": {
     "end_time": "2022-05-16T21:21:42.361515Z",
     "start_time": "2022-05-16T21:21:42.359515Z"
    }
   },
   "outputs": [],
   "source": [
    "# Define appropriate m \n",
    "m = 60\n",
    "test_img_unrow = test_images.reshape(m, -1).T"
   ]
  },
  {
   "cell_type": "code",
   "execution_count": 15,
   "metadata": {
    "ExecuteTime": {
     "end_time": "2022-05-16T21:21:42.368495Z",
     "start_time": "2022-05-16T21:21:42.362811Z"
    }
   },
   "outputs": [
    {
     "data": {
      "text/plain": [
       "(65536, 240)"
      ]
     },
     "execution_count": 15,
     "metadata": {},
     "output_type": "execute_result"
    }
   ],
   "source": [
    "np.shape(train_img_unrow)"
   ]
  },
  {
   "cell_type": "code",
   "execution_count": 16,
   "metadata": {
    "ExecuteTime": {
     "end_time": "2022-05-16T21:21:42.376482Z",
     "start_time": "2022-05-16T21:21:42.369597Z"
    }
   },
   "outputs": [
    {
     "data": {
      "text/plain": [
       "array([[0., 1.],\n",
       "       [0., 1.],\n",
       "       [1., 0.],\n",
       "       [1., 0.],\n",
       "       [1., 0.],\n",
       "       [0., 1.],\n",
       "       [0., 1.],\n",
       "       [1., 0.],\n",
       "       [0., 1.],\n",
       "       [1., 0.],\n",
       "       [1., 0.],\n",
       "       [1., 0.],\n",
       "       [1., 0.],\n",
       "       [0., 1.],\n",
       "       [0., 1.],\n",
       "       [0., 1.],\n",
       "       [0., 1.],\n",
       "       [0., 1.],\n",
       "       [1., 0.],\n",
       "       [0., 1.],\n",
       "       [1., 0.],\n",
       "       [0., 1.],\n",
       "       [1., 0.],\n",
       "       [1., 0.],\n",
       "       [0., 1.],\n",
       "       [1., 0.],\n",
       "       [0., 1.],\n",
       "       [0., 1.],\n",
       "       [1., 0.],\n",
       "       [0., 1.],\n",
       "       [1., 0.],\n",
       "       [0., 1.],\n",
       "       [0., 1.],\n",
       "       [0., 1.],\n",
       "       [0., 1.],\n",
       "       [0., 1.],\n",
       "       [0., 1.],\n",
       "       [0., 1.],\n",
       "       [0., 1.],\n",
       "       [1., 0.],\n",
       "       [0., 1.],\n",
       "       [0., 1.],\n",
       "       [1., 0.],\n",
       "       [0., 1.],\n",
       "       [1., 0.],\n",
       "       [1., 0.],\n",
       "       [0., 1.],\n",
       "       [0., 1.],\n",
       "       [1., 0.],\n",
       "       [1., 0.],\n",
       "       [0., 1.],\n",
       "       [1., 0.],\n",
       "       [1., 0.],\n",
       "       [0., 1.],\n",
       "       [0., 1.],\n",
       "       [1., 0.],\n",
       "       [0., 1.],\n",
       "       [1., 0.],\n",
       "       [1., 0.],\n",
       "       [1., 0.],\n",
       "       [1., 0.],\n",
       "       [1., 0.],\n",
       "       [1., 0.],\n",
       "       [1., 0.],\n",
       "       [1., 0.],\n",
       "       [1., 0.],\n",
       "       [1., 0.],\n",
       "       [1., 0.],\n",
       "       [1., 0.],\n",
       "       [0., 1.],\n",
       "       [0., 1.],\n",
       "       [1., 0.],\n",
       "       [1., 0.],\n",
       "       [0., 1.],\n",
       "       [1., 0.],\n",
       "       [0., 1.],\n",
       "       [1., 0.],\n",
       "       [0., 1.],\n",
       "       [0., 1.],\n",
       "       [0., 1.],\n",
       "       [0., 1.],\n",
       "       [1., 0.],\n",
       "       [1., 0.],\n",
       "       [1., 0.],\n",
       "       [0., 1.],\n",
       "       [0., 1.],\n",
       "       [1., 0.],\n",
       "       [1., 0.],\n",
       "       [0., 1.],\n",
       "       [1., 0.],\n",
       "       [0., 1.],\n",
       "       [0., 1.],\n",
       "       [1., 0.],\n",
       "       [1., 0.],\n",
       "       [1., 0.],\n",
       "       [0., 1.],\n",
       "       [0., 1.],\n",
       "       [0., 1.],\n",
       "       [0., 1.],\n",
       "       [0., 1.],\n",
       "       [1., 0.],\n",
       "       [1., 0.],\n",
       "       [1., 0.],\n",
       "       [0., 1.],\n",
       "       [1., 0.],\n",
       "       [0., 1.],\n",
       "       [1., 0.],\n",
       "       [0., 1.],\n",
       "       [1., 0.],\n",
       "       [0., 1.],\n",
       "       [1., 0.],\n",
       "       [1., 0.],\n",
       "       [1., 0.],\n",
       "       [1., 0.],\n",
       "       [0., 1.],\n",
       "       [1., 0.],\n",
       "       [1., 0.],\n",
       "       [1., 0.],\n",
       "       [0., 1.],\n",
       "       [0., 1.],\n",
       "       [0., 1.],\n",
       "       [1., 0.],\n",
       "       [1., 0.],\n",
       "       [1., 0.],\n",
       "       [0., 1.],\n",
       "       [1., 0.],\n",
       "       [0., 1.],\n",
       "       [1., 0.],\n",
       "       [0., 1.],\n",
       "       [1., 0.],\n",
       "       [0., 1.],\n",
       "       [1., 0.],\n",
       "       [1., 0.],\n",
       "       [0., 1.],\n",
       "       [1., 0.],\n",
       "       [0., 1.],\n",
       "       [0., 1.],\n",
       "       [1., 0.],\n",
       "       [0., 1.],\n",
       "       [0., 1.],\n",
       "       [0., 1.],\n",
       "       [1., 0.],\n",
       "       [1., 0.],\n",
       "       [1., 0.],\n",
       "       [1., 0.],\n",
       "       [1., 0.],\n",
       "       [0., 1.],\n",
       "       [1., 0.],\n",
       "       [0., 1.],\n",
       "       [1., 0.],\n",
       "       [1., 0.],\n",
       "       [1., 0.],\n",
       "       [0., 1.],\n",
       "       [1., 0.],\n",
       "       [1., 0.],\n",
       "       [1., 0.],\n",
       "       [1., 0.],\n",
       "       [0., 1.],\n",
       "       [0., 1.],\n",
       "       [0., 1.],\n",
       "       [1., 0.],\n",
       "       [1., 0.],\n",
       "       [0., 1.],\n",
       "       [1., 0.],\n",
       "       [0., 1.],\n",
       "       [1., 0.],\n",
       "       [0., 1.],\n",
       "       [1., 0.],\n",
       "       [1., 0.],\n",
       "       [0., 1.],\n",
       "       [0., 1.],\n",
       "       [1., 0.],\n",
       "       [0., 1.],\n",
       "       [0., 1.],\n",
       "       [1., 0.],\n",
       "       [0., 1.],\n",
       "       [0., 1.],\n",
       "       [0., 1.],\n",
       "       [0., 1.],\n",
       "       [1., 0.],\n",
       "       [0., 1.],\n",
       "       [1., 0.],\n",
       "       [1., 0.],\n",
       "       [1., 0.],\n",
       "       [0., 1.],\n",
       "       [0., 1.],\n",
       "       [0., 1.],\n",
       "       [0., 1.],\n",
       "       [1., 0.],\n",
       "       [1., 0.],\n",
       "       [1., 0.],\n",
       "       [0., 1.],\n",
       "       [0., 1.],\n",
       "       [0., 1.],\n",
       "       [1., 0.],\n",
       "       [1., 0.],\n",
       "       [0., 1.],\n",
       "       [0., 1.],\n",
       "       [1., 0.],\n",
       "       [1., 0.],\n",
       "       [0., 1.],\n",
       "       [0., 1.],\n",
       "       [1., 0.],\n",
       "       [0., 1.],\n",
       "       [0., 1.],\n",
       "       [0., 1.],\n",
       "       [0., 1.],\n",
       "       [1., 0.],\n",
       "       [1., 0.],\n",
       "       [0., 1.],\n",
       "       [1., 0.],\n",
       "       [0., 1.],\n",
       "       [1., 0.],\n",
       "       [1., 0.],\n",
       "       [0., 1.],\n",
       "       [1., 0.],\n",
       "       [1., 0.],\n",
       "       [0., 1.],\n",
       "       [0., 1.],\n",
       "       [0., 1.],\n",
       "       [1., 0.],\n",
       "       [1., 0.],\n",
       "       [0., 1.],\n",
       "       [0., 1.],\n",
       "       [0., 1.],\n",
       "       [0., 1.],\n",
       "       [1., 0.],\n",
       "       [0., 1.],\n",
       "       [1., 0.],\n",
       "       [0., 1.],\n",
       "       [0., 1.],\n",
       "       [0., 1.],\n",
       "       [1., 0.],\n",
       "       [0., 1.],\n",
       "       [1., 0.],\n",
       "       [0., 1.],\n",
       "       [1., 0.],\n",
       "       [1., 0.],\n",
       "       [0., 1.],\n",
       "       [0., 1.]], dtype=float32)"
      ]
     },
     "execution_count": 16,
     "metadata": {},
     "output_type": "execute_result"
    }
   ],
   "source": [
    "train_labels"
   ]
  },
  {
   "cell_type": "code",
   "execution_count": 17,
   "metadata": {
    "ExecuteTime": {
     "end_time": "2022-05-16T21:21:42.380163Z",
     "start_time": "2022-05-16T21:21:42.377743Z"
    }
   },
   "outputs": [
    {
     "data": {
      "text/plain": [
       "{'forged': 0, 'genuine': 1}"
      ]
     },
     "execution_count": 17,
     "metadata": {},
     "output_type": "execute_result"
    }
   ],
   "source": [
    "train.class_indices "
   ]
  },
  {
   "cell_type": "code",
   "execution_count": 18,
   "metadata": {
    "ExecuteTime": {
     "end_time": "2022-05-16T21:21:42.383334Z",
     "start_time": "2022-05-16T21:21:42.381198Z"
    }
   },
   "outputs": [],
   "source": [
    "train_labels_final = train_labels.T[[1]]\n",
    "test_labels_final = test_labels.T[[1]]"
   ]
  },
  {
   "cell_type": "code",
   "execution_count": 19,
   "metadata": {
    "ExecuteTime": {
     "end_time": "2022-05-16T21:21:42.388142Z",
     "start_time": "2022-05-16T21:21:42.384243Z"
    }
   },
   "outputs": [
    {
     "data": {
      "text/plain": [
       "(1, 240)"
      ]
     },
     "execution_count": 19,
     "metadata": {},
     "output_type": "execute_result"
    }
   ],
   "source": [
    "np.shape(train_labels_final) "
   ]
  },
  {
   "cell_type": "code",
   "execution_count": 20,
   "metadata": {
    "ExecuteTime": {
     "end_time": "2022-05-16T21:21:42.394973Z",
     "start_time": "2022-05-16T21:21:42.389234Z"
    },
    "scrolled": true
   },
   "outputs": [
    {
     "data": {
      "image/png": "[encoded data removed]",
      "text/plain": [
       "<PIL.Image.Image image mode=L size=256x256>"
      ]
     },
     "execution_count": 20,
     "metadata": {},
     "output_type": "execute_result"
    }
   ],
   "source": [
    "array_to_img(train_images[30])"
   ]
  },
  {
   "cell_type": "code",
   "execution_count": 21,
   "metadata": {
    "ExecuteTime": {
     "end_time": "2022-05-16T21:21:42.398630Z",
     "start_time": "2022-05-16T21:21:42.396021Z"
    },
    "scrolled": true
   },
   "outputs": [
    {
     "data": {
      "text/plain": [
       "array([0.], dtype=float32)"
      ]
     },
     "execution_count": 21,
     "metadata": {},
     "output_type": "execute_result"
    }
   ],
   "source": [
    "train_labels_final[:,30]"
   ]
  },
  {
   "cell_type": "code",
   "execution_count": 22,
   "metadata": {
    "ExecuteTime": {
     "end_time": "2022-05-16T21:21:42.405634Z",
     "start_time": "2022-05-16T21:21:42.399619Z"
    }
   },
   "outputs": [
    {
     "data": {
      "image/png": "[encoded data removed]",
      "text/plain": [
       "<PIL.Image.Image image mode=L size=256x256>"
      ]
     },
     "execution_count": 22,
     "metadata": {},
     "output_type": "execute_result"
    }
   ],
   "source": [
    "array_to_img(train_images[75])"
   ]
  },
  {
   "cell_type": "code",
   "execution_count": 23,
   "metadata": {
    "ExecuteTime": {
     "end_time": "2022-05-16T21:21:42.410359Z",
     "start_time": "2022-05-16T21:21:42.406747Z"
    }
   },
   "outputs": [
    {
     "data": {
      "text/plain": [
       "array([1.], dtype=float32)"
      ]
     },
     "execution_count": 23,
     "metadata": {},
     "output_type": "execute_result"
    }
   ],
   "source": [
    "train_labels_final[:,75]"
   ]
  },
  {
   "cell_type": "code",
   "execution_count": 24,
   "metadata": {
    "ExecuteTime": {
     "end_time": "2022-05-16T21:21:42.414778Z",
     "start_time": "2022-05-16T21:21:42.411306Z"
    }
   },
   "outputs": [
    {
     "data": {
      "text/plain": [
       "{'forged': 0, 'genuine': 1}"
      ]
     },
     "execution_count": 24,
     "metadata": {},
     "output_type": "execute_result"
    }
   ],
   "source": [
    "train.class_indices "
   ]
  },
  {
   "cell_type": "code",
   "execution_count": 25,
   "metadata": {
    "ExecuteTime": {
     "end_time": "2022-05-16T21:21:42.470137Z",
     "start_time": "2022-05-16T21:21:42.416090Z"
    }
   },
   "outputs": [],
   "source": [
    "train_img_final = train_img_unrow/255\n",
    "test_img_final = test_img_unrow/255"
   ]
  },
  {
   "cell_type": "code",
   "execution_count": 26,
   "metadata": {
    "ExecuteTime": {
     "end_time": "2022-05-16T21:21:42.474586Z",
     "start_time": "2022-05-16T21:21:42.471321Z"
    }
   },
   "outputs": [],
   "source": [
    "b = 0"
   ]
  },
  {
   "cell_type": "code",
   "execution_count": 27,
   "metadata": {
    "ExecuteTime": {
     "end_time": "2022-05-16T21:21:42.477528Z",
     "start_time": "2022-05-16T21:21:42.475676Z"
    }
   },
   "outputs": [],
   "source": [
    "def init_w(n):\n",
    "    w = np.zeros((n, 1))\n",
    "    return w"
   ]
  },
  {
   "cell_type": "code",
   "execution_count": 28,
   "metadata": {
    "ExecuteTime": {
     "end_time": "2022-05-16T21:21:42.480391Z",
     "start_time": "2022-05-16T21:21:42.478551Z"
    }
   },
   "outputs": [],
   "source": [
    "w = init_w(256*256)"
   ]
  },
  {
   "cell_type": "code",
   "execution_count": 29,
   "metadata": {
    "ExecuteTime": {
     "end_time": "2022-05-16T21:21:42.484423Z",
     "start_time": "2022-05-16T21:21:42.481253Z"
    }
   },
   "outputs": [],
   "source": [
    "# Define the propagation function\n",
    "def propagation(w, b, x, y):\n",
    "    l = x.shape[1]\n",
    "    y_hat = 1/(1 + np.exp(- (np.dot(w.T, x) + b)))                                  \n",
    "    cost = -(1/l) * np.sum(y * np.log(y_hat) + (1-y)* np.log(1 - y_hat))    \n",
    "    dw = (1/l) * np.dot(x,(y_hat - y).T)\n",
    "    db = (1/l) * np.sum(y_hat - y)\n",
    "    return dw, db, cost"
   ]
  },
  {
   "cell_type": "code",
   "execution_count": 30,
   "metadata": {
    "ExecuteTime": {
     "end_time": "2022-05-16T21:21:42.554755Z",
     "start_time": "2022-05-16T21:21:42.485356Z"
    }
   },
   "outputs": [],
   "source": [
    "dw, db, cost = propagation(w, b, train_img_final, train_labels_final)"
   ]
  },
  {
   "cell_type": "code",
   "execution_count": 31,
   "metadata": {
    "ExecuteTime": {
     "end_time": "2022-05-16T21:21:42.560776Z",
     "start_time": "2022-05-16T21:21:42.557222Z"
    }
   },
   "outputs": [
    {
     "name": "stdout",
     "output_type": "stream",
     "text": [
      "[[ 3.26797366e-05]\n",
      " [ 1.63398683e-05]\n",
      " [-1.63398683e-05]\n",
      " ...\n",
      " [ 8.98692757e-05]\n",
      " [ 6.53594732e-05]\n",
      " [ 1.79738551e-04]]\n",
      "0.0\n",
      "0.6931471805599453\n"
     ]
    }
   ],
   "source": [
    "print(dw)\n",
    "\n",
    "print(db)\n",
    "\n",
    "print(cost)"
   ]
  },
  {
   "cell_type": "code",
   "execution_count": 32,
   "metadata": {
    "ExecuteTime": {
     "end_time": "2022-05-16T21:21:42.566757Z",
     "start_time": "2022-05-16T21:21:42.562392Z"
    }
   },
   "outputs": [],
   "source": [
    "# Complete the function below using your propagation function to define dw, db and cost \n",
    "# Then use the formula above to update w and b in the optimization function \n",
    "def optimization(w, b, x, y, num_iterations, learning_rate, print_cost = False):\n",
    "    \n",
    "    costs = []\n",
    "    \n",
    "    for i in range(num_iterations):\n",
    "        dw, db, cost = propagation(w, b, x, y)    \n",
    "        w = w - learning_rate*dw\n",
    "        b = b - learning_rate*db\n",
    "        \n",
    "        # Record the costs and print them every 50 iterations\n",
    "        if i % 50 == 0:\n",
    "            costs.append(cost)\n",
    "        if print_cost and i % 50 == 0:\n",
    "            print (\"Cost after iteration %i: %f\" %(i, cost))\n",
    "    \n",
    "    return w, b, costs"
   ]
  },
  {
   "cell_type": "code",
   "execution_count": 33,
   "metadata": {
    "ExecuteTime": {
     "end_time": "2022-05-16T21:21:45.793673Z",
     "start_time": "2022-05-16T21:21:42.567715Z"
    }
   },
   "outputs": [
    {
     "name": "stdout",
     "output_type": "stream",
     "text": [
      "Cost after iteration 0: 0.693147\n",
      "Cost after iteration 50: 0.683467\n",
      "Cost after iteration 100: 0.674212\n",
      "Cost after iteration 150: 0.665348\n"
     ]
    }
   ],
   "source": [
    "# Run this block of code as is\n",
    "w, b, costs = optimization(w, b, train_img_final, train_labels_final, \n",
    "                           num_iterations= 151, learning_rate = 0.0001, print_cost = True)"
   ]
  },
  {
   "cell_type": "code",
   "execution_count": 34,
   "metadata": {
    "ExecuteTime": {
     "end_time": "2022-05-16T21:21:45.801290Z",
     "start_time": "2022-05-16T21:21:45.795061Z"
    }
   },
   "outputs": [],
   "source": [
    "def prediction(w, b, x):\n",
    "    l = x.shape[1]\n",
    "    y_prediction = np.zeros((1, l))\n",
    "    w = w.reshape(x.shape[0], 1)\n",
    "    y_hat = 1/(1 + np.exp(- (np.dot(w.T, x) + b))) \n",
    "    p = y_hat\n",
    "    \n",
    "    for i in range(y_hat.shape[1]):\n",
    "        if (y_hat[0,i] > 0.5): \n",
    "            y_prediction[0, i] = 1\n",
    "        else:\n",
    "            y_prediction[0, i] = 0\n",
    "    return y_prediction"
   ]
  },
  {
   "cell_type": "code",
   "execution_count": null,
   "metadata": {},
   "outputs": [],
   "source": []
  },
  {
   "cell_type": "code",
   "execution_count": 35,
   "metadata": {
    "ExecuteTime": {
     "end_time": "2022-05-16T21:21:45.808404Z",
     "start_time": "2022-05-16T21:21:45.802542Z"
    }
   },
   "outputs": [
    {
     "data": {
      "text/plain": [
       "array([[1., 1., 0., 0.]])"
      ]
     },
     "execution_count": 35,
     "metadata": {},
     "output_type": "execute_result"
    }
   ],
   "source": [
    "# Run this block of code as is\n",
    "w = np.array([[0.035], [0.123], [0.217]])\n",
    "b = 0.2\n",
    "x = np.array([[0.2, 0.4, -1.2, -2], \n",
    "              [1, -2., 0.1, -1], \n",
    "              [0.2, 0.4, -1.2, -2]])\n",
    "\n",
    "prediction(w, b, x)"
   ]
  },
  {
   "cell_type": "code",
   "execution_count": 36,
   "metadata": {
    "ExecuteTime": {
     "end_time": "2022-05-16T21:21:45.815740Z",
     "start_time": "2022-05-16T21:21:45.809908Z"
    }
   },
   "outputs": [],
   "source": [
    "# Review this code carefully\n",
    "def model(x_train, y_train, x_test, y_test, num_iterations = 2000, learning_rate = 0.5, print_cost = False):\n",
    "\n",
    "    b = 0\n",
    "    w = init_w(np.shape(x_train)[0]) \n",
    "\n",
    "    # Gradient descent (≈ 1 line of code)\n",
    "    w, b, costs = optimization(w, b, x_train, y_train, num_iterations, learning_rate, print_cost)\n",
    "    \n",
    "    y_pred_test = prediction(w, b, x_test)\n",
    "    y_pred_train = prediction(w, b, x_train)\n",
    "\n",
    "    # Print train/test errors\n",
    "    print('train accuracy: {} %'.format(100 - np.mean(np.abs(y_pred_train - y_train)) * 100))\n",
    "    print('test accuracy: {} %'.format(100 - np.mean(np.abs(y_pred_test - y_test)) * 100))\n",
    "\n",
    "    output = {'costs': costs, \n",
    "              'y_pred_test': y_pred_test,  \n",
    "              'y_pred_train' : y_pred_train,  \n",
    "              'w' : w, \n",
    "              'b' : b, \n",
    "              'learning_rate' : learning_rate, \n",
    "              'num_iterations': num_iterations}\n",
    "    \n",
    "    return output"
   ]
  },
  {
   "cell_type": "code",
   "execution_count": 42,
   "metadata": {
    "ExecuteTime": {
     "end_time": "2022-05-16T21:25:54.013645Z",
     "start_time": "2022-05-16T21:25:24.417620Z"
    }
   },
   "outputs": [
    {
     "name": "stderr",
     "output_type": "stream",
     "text": [
      "/Users/zachrauch/opt/anaconda3/envs/tf-test/lib/python3.7/site-packages/ipykernel_launcher.py:5: RuntimeWarning: divide by zero encountered in log\n",
      "  \"\"\"\n",
      "/Users/zachrauch/opt/anaconda3/envs/tf-test/lib/python3.7/site-packages/ipykernel_launcher.py:5: RuntimeWarning: invalid value encountered in multiply\n",
      "  \"\"\"\n",
      "/Users/zachrauch/opt/anaconda3/envs/tf-test/lib/python3.7/site-packages/ipykernel_launcher.py:4: RuntimeWarning: overflow encountered in exp\n",
      "  after removing the cwd from sys.path.\n"
     ]
    },
    {
     "ename": "KeyboardInterrupt",
     "evalue": "",
     "output_type": "error",
     "traceback": [
      "\u001b[0;31m---------------------------------------------------------------------------\u001b[0m",
      "\u001b[0;31mKeyboardInterrupt\u001b[0m                         Traceback (most recent call last)",
      "\u001b[0;32m/var/folders/sv/kvn5j8v9355gzmf1tmp844_c0000gn/T/ipykernel_5744/1968755675.py\u001b[0m in \u001b[0;36m<module>\u001b[0;34m\u001b[0m\n\u001b[1;32m      1\u001b[0m \u001b[0;31m# Run the model!\u001b[0m\u001b[0;34m\u001b[0m\u001b[0;34m\u001b[0m\u001b[0;34m\u001b[0m\u001b[0m\n\u001b[1;32m      2\u001b[0m \u001b[0;31m# ⏰ Expect your code to take several minutes to run\u001b[0m\u001b[0;34m\u001b[0m\u001b[0;34m\u001b[0m\u001b[0;34m\u001b[0m\u001b[0m\n\u001b[0;32m----> 3\u001b[0;31m \u001b[0moutput\u001b[0m \u001b[0;34m=\u001b[0m \u001b[0mmodel\u001b[0m\u001b[0;34m(\u001b[0m\u001b[0mtrain_img_final\u001b[0m\u001b[0;34m,\u001b[0m \u001b[0mtrain_labels_final\u001b[0m\u001b[0;34m,\u001b[0m \u001b[0mtest_img_final\u001b[0m\u001b[0;34m,\u001b[0m \u001b[0mtest_labels_final\u001b[0m\u001b[0;34m)\u001b[0m\u001b[0;34m\u001b[0m\u001b[0;34m\u001b[0m\u001b[0m\n\u001b[0m",
      "\u001b[0;32m/var/folders/sv/kvn5j8v9355gzmf1tmp844_c0000gn/T/ipykernel_5744/216975888.py\u001b[0m in \u001b[0;36mmodel\u001b[0;34m(x_train, y_train, x_test, y_test, num_iterations, learning_rate, print_cost)\u001b[0m\n\u001b[1;32m      6\u001b[0m \u001b[0;34m\u001b[0m\u001b[0m\n\u001b[1;32m      7\u001b[0m     \u001b[0;31m# Gradient descent (≈ 1 line of code)\u001b[0m\u001b[0;34m\u001b[0m\u001b[0;34m\u001b[0m\u001b[0;34m\u001b[0m\u001b[0m\n\u001b[0;32m----> 8\u001b[0;31m     \u001b[0mw\u001b[0m\u001b[0;34m,\u001b[0m \u001b[0mb\u001b[0m\u001b[0;34m,\u001b[0m \u001b[0mcosts\u001b[0m \u001b[0;34m=\u001b[0m \u001b[0moptimization\u001b[0m\u001b[0;34m(\u001b[0m\u001b[0mw\u001b[0m\u001b[0;34m,\u001b[0m \u001b[0mb\u001b[0m\u001b[0;34m,\u001b[0m \u001b[0mx_train\u001b[0m\u001b[0;34m,\u001b[0m \u001b[0my_train\u001b[0m\u001b[0;34m,\u001b[0m \u001b[0mnum_iterations\u001b[0m\u001b[0;34m,\u001b[0m \u001b[0mlearning_rate\u001b[0m\u001b[0;34m,\u001b[0m \u001b[0mprint_cost\u001b[0m\u001b[0;34m)\u001b[0m\u001b[0;34m\u001b[0m\u001b[0;34m\u001b[0m\u001b[0m\n\u001b[0m\u001b[1;32m      9\u001b[0m \u001b[0;34m\u001b[0m\u001b[0m\n\u001b[1;32m     10\u001b[0m     \u001b[0my_pred_test\u001b[0m \u001b[0;34m=\u001b[0m \u001b[0mprediction\u001b[0m\u001b[0;34m(\u001b[0m\u001b[0mw\u001b[0m\u001b[0;34m,\u001b[0m \u001b[0mb\u001b[0m\u001b[0;34m,\u001b[0m \u001b[0mx_test\u001b[0m\u001b[0;34m)\u001b[0m\u001b[0;34m\u001b[0m\u001b[0;34m\u001b[0m\u001b[0m\n",
      "\u001b[0;32m/var/folders/sv/kvn5j8v9355gzmf1tmp844_c0000gn/T/ipykernel_5744/960814134.py\u001b[0m in \u001b[0;36moptimization\u001b[0;34m(w, b, x, y, num_iterations, learning_rate, print_cost)\u001b[0m\n\u001b[1;32m      6\u001b[0m \u001b[0;34m\u001b[0m\u001b[0m\n\u001b[1;32m      7\u001b[0m     \u001b[0;32mfor\u001b[0m \u001b[0mi\u001b[0m \u001b[0;32min\u001b[0m \u001b[0mrange\u001b[0m\u001b[0;34m(\u001b[0m\u001b[0mnum_iterations\u001b[0m\u001b[0;34m)\u001b[0m\u001b[0;34m:\u001b[0m\u001b[0;34m\u001b[0m\u001b[0;34m\u001b[0m\u001b[0m\n\u001b[0;32m----> 8\u001b[0;31m         \u001b[0mdw\u001b[0m\u001b[0;34m,\u001b[0m \u001b[0mdb\u001b[0m\u001b[0;34m,\u001b[0m \u001b[0mcost\u001b[0m \u001b[0;34m=\u001b[0m \u001b[0mpropagation\u001b[0m\u001b[0;34m(\u001b[0m\u001b[0mw\u001b[0m\u001b[0;34m,\u001b[0m \u001b[0mb\u001b[0m\u001b[0;34m,\u001b[0m \u001b[0mx\u001b[0m\u001b[0;34m,\u001b[0m \u001b[0my\u001b[0m\u001b[0;34m)\u001b[0m\u001b[0;34m\u001b[0m\u001b[0;34m\u001b[0m\u001b[0m\n\u001b[0m\u001b[1;32m      9\u001b[0m         \u001b[0mw\u001b[0m \u001b[0;34m=\u001b[0m \u001b[0mw\u001b[0m \u001b[0;34m-\u001b[0m \u001b[0mlearning_rate\u001b[0m\u001b[0;34m*\u001b[0m\u001b[0mdw\u001b[0m\u001b[0;34m\u001b[0m\u001b[0;34m\u001b[0m\u001b[0m\n\u001b[1;32m     10\u001b[0m         \u001b[0mb\u001b[0m \u001b[0;34m=\u001b[0m \u001b[0mb\u001b[0m \u001b[0;34m-\u001b[0m \u001b[0mlearning_rate\u001b[0m\u001b[0;34m*\u001b[0m\u001b[0mdb\u001b[0m\u001b[0;34m\u001b[0m\u001b[0;34m\u001b[0m\u001b[0m\n",
      "\u001b[0;32m/var/folders/sv/kvn5j8v9355gzmf1tmp844_c0000gn/T/ipykernel_5744/3142598851.py\u001b[0m in \u001b[0;36mpropagation\u001b[0;34m(w, b, x, y)\u001b[0m\n\u001b[1;32m      2\u001b[0m \u001b[0;32mdef\u001b[0m \u001b[0mpropagation\u001b[0m\u001b[0;34m(\u001b[0m\u001b[0mw\u001b[0m\u001b[0;34m,\u001b[0m \u001b[0mb\u001b[0m\u001b[0;34m,\u001b[0m \u001b[0mx\u001b[0m\u001b[0;34m,\u001b[0m \u001b[0my\u001b[0m\u001b[0;34m)\u001b[0m\u001b[0;34m:\u001b[0m\u001b[0;34m\u001b[0m\u001b[0;34m\u001b[0m\u001b[0m\n\u001b[1;32m      3\u001b[0m     \u001b[0ml\u001b[0m \u001b[0;34m=\u001b[0m \u001b[0mx\u001b[0m\u001b[0;34m.\u001b[0m\u001b[0mshape\u001b[0m\u001b[0;34m[\u001b[0m\u001b[0;36m1\u001b[0m\u001b[0;34m]\u001b[0m\u001b[0;34m\u001b[0m\u001b[0;34m\u001b[0m\u001b[0m\n\u001b[0;32m----> 4\u001b[0;31m     \u001b[0my_hat\u001b[0m \u001b[0;34m=\u001b[0m \u001b[0;36m1\u001b[0m\u001b[0;34m/\u001b[0m\u001b[0;34m(\u001b[0m\u001b[0;36m1\u001b[0m \u001b[0;34m+\u001b[0m \u001b[0mnp\u001b[0m\u001b[0;34m.\u001b[0m\u001b[0mexp\u001b[0m\u001b[0;34m(\u001b[0m\u001b[0;34m-\u001b[0m \u001b[0;34m(\u001b[0m\u001b[0mnp\u001b[0m\u001b[0;34m.\u001b[0m\u001b[0mdot\u001b[0m\u001b[0;34m(\u001b[0m\u001b[0mw\u001b[0m\u001b[0;34m.\u001b[0m\u001b[0mT\u001b[0m\u001b[0;34m,\u001b[0m \u001b[0mx\u001b[0m\u001b[0;34m)\u001b[0m \u001b[0;34m+\u001b[0m \u001b[0mb\u001b[0m\u001b[0;34m)\u001b[0m\u001b[0;34m)\u001b[0m\u001b[0;34m)\u001b[0m\u001b[0;34m\u001b[0m\u001b[0;34m\u001b[0m\u001b[0m\n\u001b[0m\u001b[1;32m      5\u001b[0m     \u001b[0mcost\u001b[0m \u001b[0;34m=\u001b[0m \u001b[0;34m-\u001b[0m\u001b[0;34m(\u001b[0m\u001b[0;36m1\u001b[0m\u001b[0;34m/\u001b[0m\u001b[0ml\u001b[0m\u001b[0;34m)\u001b[0m \u001b[0;34m*\u001b[0m \u001b[0mnp\u001b[0m\u001b[0;34m.\u001b[0m\u001b[0msum\u001b[0m\u001b[0;34m(\u001b[0m\u001b[0my\u001b[0m \u001b[0;34m*\u001b[0m \u001b[0mnp\u001b[0m\u001b[0;34m.\u001b[0m\u001b[0mlog\u001b[0m\u001b[0;34m(\u001b[0m\u001b[0my_hat\u001b[0m\u001b[0;34m)\u001b[0m \u001b[0;34m+\u001b[0m \u001b[0;34m(\u001b[0m\u001b[0;36m1\u001b[0m\u001b[0;34m-\u001b[0m\u001b[0my\u001b[0m\u001b[0;34m)\u001b[0m\u001b[0;34m*\u001b[0m \u001b[0mnp\u001b[0m\u001b[0;34m.\u001b[0m\u001b[0mlog\u001b[0m\u001b[0;34m(\u001b[0m\u001b[0;36m1\u001b[0m \u001b[0;34m-\u001b[0m \u001b[0my_hat\u001b[0m\u001b[0;34m)\u001b[0m\u001b[0;34m)\u001b[0m\u001b[0;34m\u001b[0m\u001b[0;34m\u001b[0m\u001b[0m\n\u001b[1;32m      6\u001b[0m     \u001b[0mdw\u001b[0m \u001b[0;34m=\u001b[0m \u001b[0;34m(\u001b[0m\u001b[0;36m1\u001b[0m\u001b[0;34m/\u001b[0m\u001b[0ml\u001b[0m\u001b[0;34m)\u001b[0m \u001b[0;34m*\u001b[0m \u001b[0mnp\u001b[0m\u001b[0;34m.\u001b[0m\u001b[0mdot\u001b[0m\u001b[0;34m(\u001b[0m\u001b[0mx\u001b[0m\u001b[0;34m,\u001b[0m\u001b[0;34m(\u001b[0m\u001b[0my_hat\u001b[0m \u001b[0;34m-\u001b[0m \u001b[0my\u001b[0m\u001b[0;34m)\u001b[0m\u001b[0;34m.\u001b[0m\u001b[0mT\u001b[0m\u001b[0;34m)\u001b[0m\u001b[0;34m\u001b[0m\u001b[0;34m\u001b[0m\u001b[0m\n",
      "\u001b[0;32m<__array_function__ internals>\u001b[0m in \u001b[0;36mdot\u001b[0;34m(*args, **kwargs)\u001b[0m\n",
      "\u001b[0;31mKeyboardInterrupt\u001b[0m: "
     ]
    }
   ],
   "source": [
    "# Run the model!\n",
    "# ⏰ Expect your code to take several minutes to run\n",
    "output = model(train_img_final, train_labels_final, test_img_final, test_labels_final,\n",
    "               num_iterations=2000, learning_rate=0.005, print_cost=True)"
   ]
  },
  {
   "cell_type": "code",
   "execution_count": null,
   "metadata": {},
   "outputs": [],
   "source": []
  }
 ],
 "metadata": {
  "kernelspec": {
   "display_name": "tf-test",
   "language": "python",
   "name": "tf-test"
  },
  "language_info": {
   "codemirror_mode": {
    "name": "ipython",
    "version": 3
   },
   "file_extension": ".py",
   "mimetype": "text/x-python",
   "name": "python",
   "nbconvert_exporter": "python",
   "pygments_lexer": "ipython3",
   "version": "3.7.13"
  },
  "toc": {
   "base_numbering": 1,
   "nav_menu": {},
   "number_sections": true,
   "sideBar": true,
   "skip_h1_title": false,
   "title_cell": "Table of Contents",
   "title_sidebar": "Contents",
   "toc_cell": false,
   "toc_position": {},
   "toc_section_display": true,
   "toc_window_display": false
  }
 },
 "nbformat": 4,
 "nbformat_minor": 4
}
