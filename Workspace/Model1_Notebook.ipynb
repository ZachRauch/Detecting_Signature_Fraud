{
  "cells": [
    {
      "cell_type": "markdown",
      "metadata": {
        "id": "ptSIULqi0DWU"
      },
      "source": [
        "# Signature Classification"
      ]
    },
    {
      "cell_type": "markdown",
      "metadata": {
        "id": "PxrvvpR70DWW"
      },
      "source": [
        "![img](https://github.com/ZachRauch/Signature_Classification/blob/main/images/signature_banner.jpeg?raw=1)"
      ]
    },
    {
      "cell_type": "markdown",
      "metadata": {
        "id": "l0PvrSkU0DWW"
      },
      "source": [
        "## Overview"
      ]
    },
    {
      "cell_type": "markdown",
      "metadata": {
        "id": "7JkPYbhX0DWW"
      },
      "source": [
        "The aim of this analysis is to identify fraudulent signatures in a dataset. My audience here is _______. Using just a small dataset with only 300 sample I was able to create a "
      ]
    },
    {
      "cell_type": "markdown",
      "metadata": {
        "id": "dGntQdLa0DWX"
      },
      "source": [
        "## Business Problem"
      ]
    },
    {
      "cell_type": "markdown",
      "metadata": {
        "id": "8tIYg67U0DWX"
      },
      "source": [
        "Currently institutions and businesses recognize signatures as the primary way of authenticating transactions. Signatures are used to sign checks, authorize documents and contracts, and validate credit card transactions. According to recent studies, check fraud costs banks about $900M a year with 22 percent of all fraudulent checks attributed to signature fraud. Therefor, creating an algorithm to identify signature fraud is a valuable asset. "
      ]
    },
    {
      "cell_type": "markdown",
      "metadata": {
        "id": "aIHjXOJb0DWX"
      },
      "source": [
        "## Imports"
      ]
    },
    {
      "cell_type": "code",
      "execution_count": 1,
      "metadata": {
        "ExecuteTime": {
          "end_time": "2022-05-23T16:05:39.636501Z",
          "start_time": "2022-05-23T16:05:39.532903Z"
        },
        "id": "Foi2HQyc0DWY"
      },
      "outputs": [],
      "source": [
        "import pandas as pd\n",
        "import numpy as np\n",
        "import matplotlib.pyplot as plt\n",
        "%matplotlib inline\n",
        "import seaborn as sns\n",
        "import tensorflow as tf\n",
        "from tensorflow.keras.models import Sequential\n",
        "import zipfile\n",
        "from tensorflow.keras.preprocessing.image import ImageDataGenerator, array_to_img, img_to_array, load_img\n",
        "from tensorflow.keras import models, layers, optimizers, metrics, regularizers, losses\n",
        "from tensorflow.keras.wrappers import scikit_learn\n",
        "from tensorflow.keras.regularizers import l2\n",
        "\n",
        "from sklearn.model_selection import train_test_split, cross_val_score\n",
        "from sklearn.dummy import DummyClassifier\n",
        "from sklearn.metrics import auc, recall_score, precision_score, \\\n",
        "                            confusion_matrix, plot_confusion_matrix, \\\n",
        "                            roc_auc_score, roc_curve\n",
        "from tensorflow.keras.optimizers import SGD, Adam\n",
        "import pickle\n",
        "\n",
        "np.random.seed(42)"
      ]
    },
    {
      "cell_type": "markdown",
      "metadata": {
        "id": "1jpRePR80DWZ"
      },
      "source": [
        "## Colab Necessary Code"
      ]
    },
    {
      "cell_type": "markdown",
      "metadata": {
        "id": "LRCAjKzx0DWZ"
      },
      "source": [
        "Google Colab was used to help streamline the modeling process. Modeling using Convolutional Neural Networks can be computationally expensive, so if you would like to run this notebook faster, I would recommend creating a Colab account and storing the data, discussed below, in a Google Drive file. "
      ]
    },
    {
      "cell_type": "code",
      "execution_count": 2,
      "metadata": {
        "ExecuteTime": {
          "end_time": "2022-05-23T16:05:39.641944Z",
          "start_time": "2022-05-23T16:05:39.639706Z"
        },
        "id": "SzlRl_AB0DWZ",
        "outputId": "f5a4e8ed-16a7-4850-bbeb-cdeb03b01cc4",
        "colab": {
          "base_uri": "https://localhost:8080/"
        }
      },
      "outputs": [
        {
          "output_type": "stream",
          "name": "stdout",
          "text": [
            "Drive already mounted at /content/drive; to attempt to forcibly remount, call drive.mount(\"/content/drive\", force_remount=True).\n"
          ]
        }
      ],
      "source": [
        "from google.colab import drive\n",
        "drive.mount('/content/drive')"
      ]
    },
    {
      "cell_type": "code",
      "execution_count": 4,
      "metadata": {
        "ExecuteTime": {
          "end_time": "2022-05-23T16:05:39.646300Z",
          "start_time": "2022-05-23T16:05:39.643547Z"
        },
        "id": "1pcYtnCR0DWZ",
        "outputId": "4fb1c189-8a73-4898-a6c9-544f722ca71b",
        "colab": {
          "base_uri": "https://localhost:8080/"
        }
      },
      "outputs": [
        {
          "output_type": "stream",
          "name": "stdout",
          "text": [
            "Looking in indexes: https://pypi.org/simple, https://us-python.pkg.dev/colab-wheels/public/simple/\n",
            "Collecting unzip\n",
            "  Downloading unzip-1.0.0.tar.gz (704 bytes)\n",
            "Building wheels for collected packages: unzip\n",
            "  Building wheel for unzip (setup.py) ... \u001b[?25l\u001b[?25hdone\n",
            "  Created wheel for unzip: filename=unzip-1.0.0-py3-none-any.whl size=1319 sha256=178c4b89a356dbd7fcb98ecb255a3f58bdba7d4415afb562b254eb72eff8bc7d\n",
            "  Stored in directory: /root/.cache/pip/wheels/c5/05/b3/f7b36dbaaf76de31b718cde792c953bfd11d2414a72f204b56\n",
            "Successfully built unzip\n",
            "Installing collected packages: unzip\n",
            "Successfully installed unzip-1.0.0\n",
            "Archive:  /content/drive/MyDrive/signatures.zip\n",
            "  inflating: Dataset_Signature_Final/Dataset/dataset1/forge/02100001.png  \n",
            "  inflating: Dataset_Signature_Final/Dataset/dataset1/forge/02100002.png  \n",
            "  inflating: Dataset_Signature_Final/Dataset/dataset1/forge/02100003.png  \n",
            "  inflating: Dataset_Signature_Final/Dataset/dataset1/forge/02100004.png  \n",
            "  inflating: Dataset_Signature_Final/Dataset/dataset1/forge/02100005.png  \n",
            "  inflating: Dataset_Signature_Final/Dataset/dataset1/forge/02100006.png  \n",
            "  inflating: Dataset_Signature_Final/Dataset/dataset1/forge/02100007.png  \n",
            "  inflating: Dataset_Signature_Final/Dataset/dataset1/forge/02100008.png  \n",
            "  inflating: Dataset_Signature_Final/Dataset/dataset1/forge/02100009.png  \n",
            "  inflating: Dataset_Signature_Final/Dataset/dataset1/forge/02100010.png  \n",
            "  inflating: Dataset_Signature_Final/Dataset/dataset1/forge/02100011.png  \n",
            "  inflating: Dataset_Signature_Final/Dataset/dataset1/forge/02100012.png  \n",
            "  inflating: Dataset_Signature_Final/Dataset/dataset1/forge/02101001.png  \n",
            "  inflating: Dataset_Signature_Final/Dataset/dataset1/forge/02101002.png  \n",
            "  inflating: Dataset_Signature_Final/Dataset/dataset1/forge/02101003.png  \n",
            "  inflating: Dataset_Signature_Final/Dataset/dataset1/forge/02101004.png  \n",
            "  inflating: Dataset_Signature_Final/Dataset/dataset1/forge/02101005.png  \n",
            "  inflating: Dataset_Signature_Final/Dataset/dataset1/forge/02101006.png  \n",
            "  inflating: Dataset_Signature_Final/Dataset/dataset1/forge/02101007.png  \n",
            "  inflating: Dataset_Signature_Final/Dataset/dataset1/forge/02101008.png  \n",
            "  inflating: Dataset_Signature_Final/Dataset/dataset1/forge/02101009.png  \n",
            "  inflating: Dataset_Signature_Final/Dataset/dataset1/forge/02101010.png  \n",
            "  inflating: Dataset_Signature_Final/Dataset/dataset1/forge/02101011.png  \n",
            "  inflating: Dataset_Signature_Final/Dataset/dataset1/forge/02101012.png  \n",
            "  inflating: Dataset_Signature_Final/Dataset/dataset1/forge/02102001.png  \n",
            "  inflating: Dataset_Signature_Final/Dataset/dataset1/forge/02102002.png  \n",
            "  inflating: Dataset_Signature_Final/Dataset/dataset1/forge/02102003.png  \n",
            "  inflating: Dataset_Signature_Final/Dataset/dataset1/forge/02102004.png  \n",
            "  inflating: Dataset_Signature_Final/Dataset/dataset1/forge/02102005.png  \n",
            "  inflating: Dataset_Signature_Final/Dataset/dataset1/forge/02102006.png  \n",
            "  inflating: Dataset_Signature_Final/Dataset/dataset1/forge/02102007.png  \n",
            "  inflating: Dataset_Signature_Final/Dataset/dataset1/forge/02102008.png  \n",
            "  inflating: Dataset_Signature_Final/Dataset/dataset1/forge/02102009.png  \n",
            "  inflating: Dataset_Signature_Final/Dataset/dataset1/forge/02102010.png  \n",
            "  inflating: Dataset_Signature_Final/Dataset/dataset1/forge/02102011.png  \n",
            "  inflating: Dataset_Signature_Final/Dataset/dataset1/forge/02102012.png  \n",
            "  inflating: Dataset_Signature_Final/Dataset/dataset1/forge/02103001.png  \n",
            "  inflating: Dataset_Signature_Final/Dataset/dataset1/forge/02103002.png  \n",
            "  inflating: Dataset_Signature_Final/Dataset/dataset1/forge/02103003.png  \n",
            "  inflating: Dataset_Signature_Final/Dataset/dataset1/forge/02103004.png  \n",
            "  inflating: Dataset_Signature_Final/Dataset/dataset1/forge/02103005.png  \n",
            "  inflating: Dataset_Signature_Final/Dataset/dataset1/forge/02103006.png  \n",
            "  inflating: Dataset_Signature_Final/Dataset/dataset1/forge/02103007.png  \n",
            "  inflating: Dataset_Signature_Final/Dataset/dataset1/forge/02103008.png  \n",
            "  inflating: Dataset_Signature_Final/Dataset/dataset1/forge/02103009.png  \n",
            "  inflating: Dataset_Signature_Final/Dataset/dataset1/forge/02103010.png  \n",
            "  inflating: Dataset_Signature_Final/Dataset/dataset1/forge/02103011.png  \n",
            "  inflating: Dataset_Signature_Final/Dataset/dataset1/forge/02103012.png  \n",
            "  inflating: Dataset_Signature_Final/Dataset/dataset1/forge/02104001.png  \n",
            "  inflating: Dataset_Signature_Final/Dataset/dataset1/forge/02104002.png  \n",
            "  inflating: Dataset_Signature_Final/Dataset/dataset1/forge/02104003.png  \n",
            "  inflating: Dataset_Signature_Final/Dataset/dataset1/forge/02104004.png  \n",
            "  inflating: Dataset_Signature_Final/Dataset/dataset1/forge/02104005.png  \n",
            "  inflating: Dataset_Signature_Final/Dataset/dataset1/forge/02104006.png  \n",
            "  inflating: Dataset_Signature_Final/Dataset/dataset1/forge/02104007.png  \n",
            "  inflating: Dataset_Signature_Final/Dataset/dataset1/forge/02104008.png  \n",
            "  inflating: Dataset_Signature_Final/Dataset/dataset1/forge/02104009.png  \n",
            "  inflating: Dataset_Signature_Final/Dataset/dataset1/forge/02104010.png  \n",
            "  inflating: Dataset_Signature_Final/Dataset/dataset1/forge/02104011.png  \n",
            "  inflating: Dataset_Signature_Final/Dataset/dataset1/forge/02104012.png  \n",
            "  inflating: Dataset_Signature_Final/Dataset/dataset1/real/00100001.png  \n",
            "  inflating: Dataset_Signature_Final/Dataset/dataset1/real/00101001.png  \n",
            "  inflating: Dataset_Signature_Final/Dataset/dataset1/real/00102001.png  \n",
            "  inflating: Dataset_Signature_Final/Dataset/dataset1/real/00103001.png  \n",
            "  inflating: Dataset_Signature_Final/Dataset/dataset1/real/00104001.png  \n",
            "  inflating: Dataset_Signature_Final/Dataset/dataset1/real/00200002.png  \n",
            "  inflating: Dataset_Signature_Final/Dataset/dataset1/real/00201002.png  \n",
            "  inflating: Dataset_Signature_Final/Dataset/dataset1/real/00202002.png  \n",
            "  inflating: Dataset_Signature_Final/Dataset/dataset1/real/00203002.png  \n",
            "  inflating: Dataset_Signature_Final/Dataset/dataset1/real/00204002.png  \n",
            "  inflating: Dataset_Signature_Final/Dataset/dataset1/real/00300003.png  \n",
            "  inflating: Dataset_Signature_Final/Dataset/dataset1/real/00301003.png  \n",
            "  inflating: Dataset_Signature_Final/Dataset/dataset1/real/00302003.png  \n",
            "  inflating: Dataset_Signature_Final/Dataset/dataset1/real/00303003.png  \n",
            "  inflating: Dataset_Signature_Final/Dataset/dataset1/real/00304003.png  \n",
            "  inflating: Dataset_Signature_Final/Dataset/dataset1/real/00400004.png  \n",
            "  inflating: Dataset_Signature_Final/Dataset/dataset1/real/00401004.png  \n",
            "  inflating: Dataset_Signature_Final/Dataset/dataset1/real/00402004.png  \n",
            "  inflating: Dataset_Signature_Final/Dataset/dataset1/real/00403004.png  \n",
            "  inflating: Dataset_Signature_Final/Dataset/dataset1/real/00404004.png  \n",
            "  inflating: Dataset_Signature_Final/Dataset/dataset1/real/00500005.png  \n",
            "  inflating: Dataset_Signature_Final/Dataset/dataset1/real/00501005.png  \n",
            "  inflating: Dataset_Signature_Final/Dataset/dataset1/real/00502005.png  \n",
            "  inflating: Dataset_Signature_Final/Dataset/dataset1/real/00503005.png  \n",
            "  inflating: Dataset_Signature_Final/Dataset/dataset1/real/00504005.png  \n",
            "  inflating: Dataset_Signature_Final/Dataset/dataset1/real/00600006.png  \n",
            "  inflating: Dataset_Signature_Final/Dataset/dataset1/real/00601006.png  \n",
            "  inflating: Dataset_Signature_Final/Dataset/dataset1/real/00602006.png  \n",
            "  inflating: Dataset_Signature_Final/Dataset/dataset1/real/00603006.png  \n",
            "  inflating: Dataset_Signature_Final/Dataset/dataset1/real/00604006.png  \n",
            "  inflating: Dataset_Signature_Final/Dataset/dataset1/real/00700007.png  \n",
            "  inflating: Dataset_Signature_Final/Dataset/dataset1/real/00701007.png  \n",
            "  inflating: Dataset_Signature_Final/Dataset/dataset1/real/00702007.png  \n",
            "  inflating: Dataset_Signature_Final/Dataset/dataset1/real/00703007.png  \n",
            "  inflating: Dataset_Signature_Final/Dataset/dataset1/real/00704007.png  \n",
            "  inflating: Dataset_Signature_Final/Dataset/dataset1/real/00800008.png  \n",
            "  inflating: Dataset_Signature_Final/Dataset/dataset1/real/00801008.png  \n",
            "  inflating: Dataset_Signature_Final/Dataset/dataset1/real/00802008.png  \n",
            "  inflating: Dataset_Signature_Final/Dataset/dataset1/real/00803008.png  \n",
            "  inflating: Dataset_Signature_Final/Dataset/dataset1/real/00804008.png  \n",
            "  inflating: Dataset_Signature_Final/Dataset/dataset1/real/00900009.png  \n",
            "  inflating: Dataset_Signature_Final/Dataset/dataset1/real/00901009.png  \n",
            "  inflating: Dataset_Signature_Final/Dataset/dataset1/real/00902009.png  \n",
            "  inflating: Dataset_Signature_Final/Dataset/dataset1/real/00903009.png  \n",
            "  inflating: Dataset_Signature_Final/Dataset/dataset1/real/00904009.png  \n",
            "  inflating: Dataset_Signature_Final/Dataset/dataset1/real/01000010.png  \n",
            "  inflating: Dataset_Signature_Final/Dataset/dataset1/real/01001010.png  \n",
            "  inflating: Dataset_Signature_Final/Dataset/dataset1/real/01002010.png  \n",
            "  inflating: Dataset_Signature_Final/Dataset/dataset1/real/01003010.png  \n",
            "  inflating: Dataset_Signature_Final/Dataset/dataset1/real/01004010.png  \n",
            "  inflating: Dataset_Signature_Final/Dataset/dataset1/real/01100011.png  \n",
            "  inflating: Dataset_Signature_Final/Dataset/dataset1/real/01101011.png  \n",
            "  inflating: Dataset_Signature_Final/Dataset/dataset1/real/01102011.png  \n",
            "  inflating: Dataset_Signature_Final/Dataset/dataset1/real/01103011.png  \n",
            "  inflating: Dataset_Signature_Final/Dataset/dataset1/real/01104011.png  \n",
            "  inflating: Dataset_Signature_Final/Dataset/dataset1/real/01200012.png  \n",
            "  inflating: Dataset_Signature_Final/Dataset/dataset1/real/01201012.png  \n",
            "  inflating: Dataset_Signature_Final/Dataset/dataset1/real/01202012.png  \n",
            "  inflating: Dataset_Signature_Final/Dataset/dataset1/real/01203012.png  \n",
            "  inflating: Dataset_Signature_Final/Dataset/dataset1/real/01204012.png  \n",
            "  inflating: Dataset_Signature_Final/Dataset/dataset2/forge/02101003.png  \n",
            "  inflating: Dataset_Signature_Final/Dataset/dataset2/forge/02101004.png  \n",
            "  inflating: Dataset_Signature_Final/Dataset/dataset2/forge/02101005.png  \n",
            "  inflating: Dataset_Signature_Final/Dataset/dataset2/forge/02101006.png  \n",
            "  inflating: Dataset_Signature_Final/Dataset/dataset2/forge/02101007.png  \n",
            "  inflating: Dataset_Signature_Final/Dataset/dataset2/forge/02101008.png  \n",
            "  inflating: Dataset_Signature_Final/Dataset/dataset2/forge/02101009.png  \n",
            "  inflating: Dataset_Signature_Final/Dataset/dataset2/forge/02101011.png  \n",
            "  inflating: Dataset_Signature_Final/Dataset/dataset2/forge/02101012.png  \n",
            "  inflating: Dataset_Signature_Final/Dataset/dataset2/forge/02102003.png  \n",
            "  inflating: Dataset_Signature_Final/Dataset/dataset2/forge/02102004.png  \n",
            "  inflating: Dataset_Signature_Final/Dataset/dataset2/forge/02102005.png  \n",
            "  inflating: Dataset_Signature_Final/Dataset/dataset2/forge/02102006.png  \n",
            "  inflating: Dataset_Signature_Final/Dataset/dataset2/forge/02102007.png  \n",
            "  inflating: Dataset_Signature_Final/Dataset/dataset2/forge/02102008.png  \n",
            "  inflating: Dataset_Signature_Final/Dataset/dataset2/forge/02102009.png  \n",
            "  inflating: Dataset_Signature_Final/Dataset/dataset2/forge/02102011.png  \n",
            "  inflating: Dataset_Signature_Final/Dataset/dataset2/forge/02102012.png  \n",
            "  inflating: Dataset_Signature_Final/Dataset/dataset2/forge/02103003.png  \n",
            "  inflating: Dataset_Signature_Final/Dataset/dataset2/forge/02103004.png  \n",
            "  inflating: Dataset_Signature_Final/Dataset/dataset2/forge/02103005.png  \n",
            "  inflating: Dataset_Signature_Final/Dataset/dataset2/forge/02103006.png  \n",
            "  inflating: Dataset_Signature_Final/Dataset/dataset2/forge/02103007.png  \n",
            "  inflating: Dataset_Signature_Final/Dataset/dataset2/forge/02103008.png  \n",
            "  inflating: Dataset_Signature_Final/Dataset/dataset2/forge/02103009.png  \n",
            "  inflating: Dataset_Signature_Final/Dataset/dataset2/forge/02103011.png  \n",
            "  inflating: Dataset_Signature_Final/Dataset/dataset2/forge/02103012.png  \n",
            "  inflating: Dataset_Signature_Final/Dataset/dataset2/forge/02104003.png  \n",
            "  inflating: Dataset_Signature_Final/Dataset/dataset2/forge/02104004.png  \n",
            "  inflating: Dataset_Signature_Final/Dataset/dataset2/forge/02104005.png  \n",
            "  inflating: Dataset_Signature_Final/Dataset/dataset2/forge/02104006.png  \n",
            "  inflating: Dataset_Signature_Final/Dataset/dataset2/forge/02104007.png  \n",
            "  inflating: Dataset_Signature_Final/Dataset/dataset2/forge/02104008.png  \n",
            "  inflating: Dataset_Signature_Final/Dataset/dataset2/forge/02104009.png  \n",
            "  inflating: Dataset_Signature_Final/Dataset/dataset2/forge/02104011.png  \n",
            "  inflating: Dataset_Signature_Final/Dataset/dataset2/forge/02104012.png  \n",
            "  inflating: Dataset_Signature_Final/Dataset/dataset2/forge/02105003.png  \n",
            "  inflating: Dataset_Signature_Final/Dataset/dataset2/forge/02105004.png  \n",
            "  inflating: Dataset_Signature_Final/Dataset/dataset2/forge/02105005.png  \n",
            "  inflating: Dataset_Signature_Final/Dataset/dataset2/forge/02105006.png  \n",
            "  inflating: Dataset_Signature_Final/Dataset/dataset2/forge/02105007.png  \n",
            "  inflating: Dataset_Signature_Final/Dataset/dataset2/forge/02105008.png  \n",
            "  inflating: Dataset_Signature_Final/Dataset/dataset2/forge/02105009.png  \n",
            "  inflating: Dataset_Signature_Final/Dataset/dataset2/forge/02105011.png  \n",
            "  inflating: Dataset_Signature_Final/Dataset/dataset2/forge/02105012.png  \n",
            "  inflating: Dataset_Signature_Final/Dataset/dataset2/forge/02201001.png  \n",
            "  inflating: Dataset_Signature_Final/Dataset/dataset2/forge/02201002.png  \n",
            "  inflating: Dataset_Signature_Final/Dataset/dataset2/forge/02201010.png  \n",
            "  inflating: Dataset_Signature_Final/Dataset/dataset2/forge/02202001.png  \n",
            "  inflating: Dataset_Signature_Final/Dataset/dataset2/forge/02202002.png  \n",
            "  inflating: Dataset_Signature_Final/Dataset/dataset2/forge/02202010.png  \n",
            "  inflating: Dataset_Signature_Final/Dataset/dataset2/forge/02203001.png  \n",
            "  inflating: Dataset_Signature_Final/Dataset/dataset2/forge/02203002.png  \n",
            "  inflating: Dataset_Signature_Final/Dataset/dataset2/forge/02203010.png  \n",
            "  inflating: Dataset_Signature_Final/Dataset/dataset2/forge/02204001.png  \n",
            "  inflating: Dataset_Signature_Final/Dataset/dataset2/forge/02204002.png  \n",
            "  inflating: Dataset_Signature_Final/Dataset/dataset2/forge/02204010.png  \n",
            "  inflating: Dataset_Signature_Final/Dataset/dataset2/forge/02205001.png  \n",
            "  inflating: Dataset_Signature_Final/Dataset/dataset2/forge/02205002.png  \n",
            "  inflating: Dataset_Signature_Final/Dataset/dataset2/forge/02205010.png  \n",
            "  inflating: Dataset_Signature_Final/Dataset/dataset2/real/00101001.png  \n",
            "  inflating: Dataset_Signature_Final/Dataset/dataset2/real/00102001.png  \n",
            "  inflating: Dataset_Signature_Final/Dataset/dataset2/real/00103001.png  \n",
            "  inflating: Dataset_Signature_Final/Dataset/dataset2/real/00104001.png  \n",
            "  inflating: Dataset_Signature_Final/Dataset/dataset2/real/00105001.png  \n",
            "  inflating: Dataset_Signature_Final/Dataset/dataset2/real/00201002.png  \n",
            "  inflating: Dataset_Signature_Final/Dataset/dataset2/real/00202002.png  \n",
            "  inflating: Dataset_Signature_Final/Dataset/dataset2/real/00203002.png  \n",
            "  inflating: Dataset_Signature_Final/Dataset/dataset2/real/00204002.png  \n",
            "  inflating: Dataset_Signature_Final/Dataset/dataset2/real/00205002.png  \n",
            "  inflating: Dataset_Signature_Final/Dataset/dataset2/real/00301003.png  \n",
            "  inflating: Dataset_Signature_Final/Dataset/dataset2/real/00302003.png  \n",
            "  inflating: Dataset_Signature_Final/Dataset/dataset2/real/00303003.png  \n",
            "  inflating: Dataset_Signature_Final/Dataset/dataset2/real/00304003.png  \n",
            "  inflating: Dataset_Signature_Final/Dataset/dataset2/real/00305003.png  \n",
            "  inflating: Dataset_Signature_Final/Dataset/dataset2/real/00401004.png  \n",
            "  inflating: Dataset_Signature_Final/Dataset/dataset2/real/00402004.png  \n",
            "  inflating: Dataset_Signature_Final/Dataset/dataset2/real/00403004.png  \n",
            "  inflating: Dataset_Signature_Final/Dataset/dataset2/real/00404004.png  \n",
            "  inflating: Dataset_Signature_Final/Dataset/dataset2/real/00405004.png  \n",
            "  inflating: Dataset_Signature_Final/Dataset/dataset2/real/00501005.png  \n",
            "  inflating: Dataset_Signature_Final/Dataset/dataset2/real/00502005.png  \n",
            "  inflating: Dataset_Signature_Final/Dataset/dataset2/real/00503005.png  \n",
            "  inflating: Dataset_Signature_Final/Dataset/dataset2/real/00504005.png  \n",
            "  inflating: Dataset_Signature_Final/Dataset/dataset2/real/00505005.png  \n",
            "  inflating: Dataset_Signature_Final/Dataset/dataset2/real/00601006.png  \n",
            "  inflating: Dataset_Signature_Final/Dataset/dataset2/real/00602006.png  \n",
            "  inflating: Dataset_Signature_Final/Dataset/dataset2/real/00603006.png  \n",
            "  inflating: Dataset_Signature_Final/Dataset/dataset2/real/00604006.png  \n",
            "  inflating: Dataset_Signature_Final/Dataset/dataset2/real/00605006.png  \n",
            "  inflating: Dataset_Signature_Final/Dataset/dataset2/real/00701007.png  \n",
            "  inflating: Dataset_Signature_Final/Dataset/dataset2/real/00702007.png  \n",
            "  inflating: Dataset_Signature_Final/Dataset/dataset2/real/00703007.png  \n",
            "  inflating: Dataset_Signature_Final/Dataset/dataset2/real/00704007.png  \n",
            "  inflating: Dataset_Signature_Final/Dataset/dataset2/real/00705007.png  \n",
            "  inflating: Dataset_Signature_Final/Dataset/dataset2/real/00801008.png  \n",
            "  inflating: Dataset_Signature_Final/Dataset/dataset2/real/00802008.png  \n",
            "  inflating: Dataset_Signature_Final/Dataset/dataset2/real/00803008.png  \n",
            "  inflating: Dataset_Signature_Final/Dataset/dataset2/real/00804008.png  \n",
            "  inflating: Dataset_Signature_Final/Dataset/dataset2/real/00805008.png  \n",
            "  inflating: Dataset_Signature_Final/Dataset/dataset2/real/00901009.png  \n",
            "  inflating: Dataset_Signature_Final/Dataset/dataset2/real/00902009.png  \n",
            "  inflating: Dataset_Signature_Final/Dataset/dataset2/real/00903009.png  \n",
            "  inflating: Dataset_Signature_Final/Dataset/dataset2/real/00904009.png  \n",
            "  inflating: Dataset_Signature_Final/Dataset/dataset2/real/00905009.png  \n",
            "  inflating: Dataset_Signature_Final/Dataset/dataset2/real/01001010.png  \n",
            "  inflating: Dataset_Signature_Final/Dataset/dataset2/real/01002010.png  \n",
            "  inflating: Dataset_Signature_Final/Dataset/dataset2/real/01003010.png  \n",
            "  inflating: Dataset_Signature_Final/Dataset/dataset2/real/01004010.png  \n",
            "  inflating: Dataset_Signature_Final/Dataset/dataset2/real/01005010.png  \n",
            "  inflating: Dataset_Signature_Final/Dataset/dataset2/real/01101011.png  \n",
            "  inflating: Dataset_Signature_Final/Dataset/dataset2/real/01102011.png  \n",
            "  inflating: Dataset_Signature_Final/Dataset/dataset2/real/01103011.png  \n",
            "  inflating: Dataset_Signature_Final/Dataset/dataset2/real/01104011.png  \n",
            "  inflating: Dataset_Signature_Final/Dataset/dataset2/real/01105011.png  \n",
            "  inflating: Dataset_Signature_Final/Dataset/dataset2/real/01201012.png  \n",
            "  inflating: Dataset_Signature_Final/Dataset/dataset2/real/01202012.png  \n",
            "  inflating: Dataset_Signature_Final/Dataset/dataset2/real/01203012.png  \n",
            "  inflating: Dataset_Signature_Final/Dataset/dataset2/real/01204012.png  \n",
            "  inflating: Dataset_Signature_Final/Dataset/dataset2/real/01205012.png  \n",
            "  inflating: Dataset_Signature_Final/Dataset/dataset3/forge/00101014.png  \n",
            "  inflating: Dataset_Signature_Final/Dataset/dataset3/forge/00101019.png  \n",
            "  inflating: Dataset_Signature_Final/Dataset/dataset3/forge/00101025.png  \n",
            "  inflating: Dataset_Signature_Final/Dataset/dataset3/forge/00101026.png  \n",
            "  inflating: Dataset_Signature_Final/Dataset/dataset3/forge/00101027.png  \n",
            "  inflating: Dataset_Signature_Final/Dataset/dataset3/forge/00101028.png  \n",
            "  inflating: Dataset_Signature_Final/Dataset/dataset3/forge/00101029.png  \n",
            "  inflating: Dataset_Signature_Final/Dataset/dataset3/forge/00101030.png  \n",
            "  inflating: Dataset_Signature_Final/Dataset/dataset3/forge/00102014.png  \n",
            "  inflating: Dataset_Signature_Final/Dataset/dataset3/forge/00102019.png  \n",
            "  inflating: Dataset_Signature_Final/Dataset/dataset3/forge/00102025.png  \n",
            "  inflating: Dataset_Signature_Final/Dataset/dataset3/forge/00102026.png  \n",
            "  inflating: Dataset_Signature_Final/Dataset/dataset3/forge/00102027.png  \n",
            "  inflating: Dataset_Signature_Final/Dataset/dataset3/forge/00102028.png  \n",
            "  inflating: Dataset_Signature_Final/Dataset/dataset3/forge/00102029.png  \n",
            "  inflating: Dataset_Signature_Final/Dataset/dataset3/forge/00102030.png  \n",
            "  inflating: Dataset_Signature_Final/Dataset/dataset3/forge/00103014.png  \n",
            "  inflating: Dataset_Signature_Final/Dataset/dataset3/forge/00103019.png  \n",
            "  inflating: Dataset_Signature_Final/Dataset/dataset3/forge/00103025.png  \n",
            "  inflating: Dataset_Signature_Final/Dataset/dataset3/forge/00103026.png  \n",
            "  inflating: Dataset_Signature_Final/Dataset/dataset3/forge/00103027.png  \n",
            "  inflating: Dataset_Signature_Final/Dataset/dataset3/forge/00103028.png  \n",
            "  inflating: Dataset_Signature_Final/Dataset/dataset3/forge/00103029.png  \n",
            "  inflating: Dataset_Signature_Final/Dataset/dataset3/forge/00103030.png  \n",
            "  inflating: Dataset_Signature_Final/Dataset/dataset3/forge/00104014.png  \n",
            "  inflating: Dataset_Signature_Final/Dataset/dataset3/forge/00104019.png  \n",
            "  inflating: Dataset_Signature_Final/Dataset/dataset3/forge/00104025.png  \n",
            "  inflating: Dataset_Signature_Final/Dataset/dataset3/forge/00104026.png  \n",
            "  inflating: Dataset_Signature_Final/Dataset/dataset3/forge/00104027.png  \n",
            "  inflating: Dataset_Signature_Final/Dataset/dataset3/forge/00104028.png  \n",
            "  inflating: Dataset_Signature_Final/Dataset/dataset3/forge/00104029.png  \n",
            "  inflating: Dataset_Signature_Final/Dataset/dataset3/forge/00104030.png  \n",
            "  inflating: Dataset_Signature_Final/Dataset/dataset3/forge/00105014.png  \n",
            "  inflating: Dataset_Signature_Final/Dataset/dataset3/forge/00105019.png  \n",
            "  inflating: Dataset_Signature_Final/Dataset/dataset3/forge/00105025.png  \n",
            "  inflating: Dataset_Signature_Final/Dataset/dataset3/forge/00105026.png  \n",
            "  inflating: Dataset_Signature_Final/Dataset/dataset3/forge/00105027.png  \n",
            "  inflating: Dataset_Signature_Final/Dataset/dataset3/forge/00105028.png  \n",
            "  inflating: Dataset_Signature_Final/Dataset/dataset3/forge/00105029.png  \n",
            "  inflating: Dataset_Signature_Final/Dataset/dataset3/forge/00105030.png  \n",
            "  inflating: Dataset_Signature_Final/Dataset/dataset3/forge/00301001.png  \n",
            "  inflating: Dataset_Signature_Final/Dataset/dataset3/forge/00301002.png  \n",
            "  inflating: Dataset_Signature_Final/Dataset/dataset3/forge/00301005.png  \n",
            "  inflating: Dataset_Signature_Final/Dataset/dataset3/forge/00301009.png  \n",
            "  inflating: Dataset_Signature_Final/Dataset/dataset3/forge/00301018.png  \n",
            "  inflating: Dataset_Signature_Final/Dataset/dataset3/forge/00302001.png  \n",
            "  inflating: Dataset_Signature_Final/Dataset/dataset3/forge/00302002.png  \n",
            "  inflating: Dataset_Signature_Final/Dataset/dataset3/forge/00302005.png  \n",
            "  inflating: Dataset_Signature_Final/Dataset/dataset3/forge/00302009.png  \n",
            "  inflating: Dataset_Signature_Final/Dataset/dataset3/forge/00302018.png  \n",
            "  inflating: Dataset_Signature_Final/Dataset/dataset3/forge/00303001.png  \n",
            "  inflating: Dataset_Signature_Final/Dataset/dataset3/forge/00303002.png  \n",
            "  inflating: Dataset_Signature_Final/Dataset/dataset3/forge/00303005.png  \n",
            "  inflating: Dataset_Signature_Final/Dataset/dataset3/forge/00303009.png  \n",
            "  inflating: Dataset_Signature_Final/Dataset/dataset3/forge/00303018.png  \n",
            "  inflating: Dataset_Signature_Final/Dataset/dataset3/forge/00304001.png  \n",
            "  inflating: Dataset_Signature_Final/Dataset/dataset3/forge/00304002.png  \n",
            "  inflating: Dataset_Signature_Final/Dataset/dataset3/forge/00304005.png  \n",
            "  inflating: Dataset_Signature_Final/Dataset/dataset3/forge/00304009.png  \n",
            "  inflating: Dataset_Signature_Final/Dataset/dataset3/forge/00304018.png  \n",
            "  inflating: Dataset_Signature_Final/Dataset/dataset3/forge/00305001.png  \n",
            "  inflating: Dataset_Signature_Final/Dataset/dataset3/forge/00305002.png  \n",
            "  inflating: Dataset_Signature_Final/Dataset/dataset3/forge/00305005.png  \n",
            "  inflating: Dataset_Signature_Final/Dataset/dataset3/forge/00305009.png  \n",
            "  inflating: Dataset_Signature_Final/Dataset/dataset3/forge/00305018.png  \n",
            "  inflating: Dataset_Signature_Final/Dataset/dataset3/forge/00401003.png  \n",
            "  inflating: Dataset_Signature_Final/Dataset/dataset3/forge/00401007.png  \n",
            "  inflating: Dataset_Signature_Final/Dataset/dataset3/forge/00401013.png  \n",
            "  inflating: Dataset_Signature_Final/Dataset/dataset3/forge/00401024.png  \n",
            "  inflating: Dataset_Signature_Final/Dataset/dataset3/forge/00402003.png  \n",
            "  inflating: Dataset_Signature_Final/Dataset/dataset3/forge/00402007.png  \n",
            "  inflating: Dataset_Signature_Final/Dataset/dataset3/forge/00402013.png  \n",
            "  inflating: Dataset_Signature_Final/Dataset/dataset3/forge/00402024.png  \n",
            "  inflating: Dataset_Signature_Final/Dataset/dataset3/forge/00403003.png  \n",
            "  inflating: Dataset_Signature_Final/Dataset/dataset3/forge/00403007.png  \n",
            "  inflating: Dataset_Signature_Final/Dataset/dataset3/forge/00403013.png  \n",
            "  inflating: Dataset_Signature_Final/Dataset/dataset3/forge/00403024.png  \n",
            "  inflating: Dataset_Signature_Final/Dataset/dataset3/forge/00404003.png  \n",
            "  inflating: Dataset_Signature_Final/Dataset/dataset3/forge/00404007.png  \n",
            "  inflating: Dataset_Signature_Final/Dataset/dataset3/forge/00404013.png  \n",
            "  inflating: Dataset_Signature_Final/Dataset/dataset3/forge/00404024.png  \n",
            "  inflating: Dataset_Signature_Final/Dataset/dataset3/forge/00405003.png  \n",
            "  inflating: Dataset_Signature_Final/Dataset/dataset3/forge/00405007.png  \n",
            "  inflating: Dataset_Signature_Final/Dataset/dataset3/forge/00405013.png  \n",
            "  inflating: Dataset_Signature_Final/Dataset/dataset3/forge/00405024.png  \n",
            "  inflating: Dataset_Signature_Final/Dataset/dataset3/forge/00501015.png  \n",
            "  inflating: Dataset_Signature_Final/Dataset/dataset3/forge/00501022.png  \n",
            "  inflating: Dataset_Signature_Final/Dataset/dataset3/forge/00502015.png  \n",
            "  inflating: Dataset_Signature_Final/Dataset/dataset3/forge/00502022.png  \n",
            "  inflating: Dataset_Signature_Final/Dataset/dataset3/forge/00503015.png  \n",
            "  inflating: Dataset_Signature_Final/Dataset/dataset3/forge/00503022.png  \n",
            "  inflating: Dataset_Signature_Final/Dataset/dataset3/forge/00504015.png  \n",
            "  inflating: Dataset_Signature_Final/Dataset/dataset3/forge/00504022.png  \n",
            "  inflating: Dataset_Signature_Final/Dataset/dataset3/forge/00505015.png  \n",
            "  inflating: Dataset_Signature_Final/Dataset/dataset3/forge/00505022.png  \n",
            "  inflating: Dataset_Signature_Final/Dataset/dataset3/forge/00701011.png  \n",
            "  inflating: Dataset_Signature_Final/Dataset/dataset3/forge/00701023.png  \n",
            "  inflating: Dataset_Signature_Final/Dataset/dataset3/forge/00702011.png  \n",
            "  inflating: Dataset_Signature_Final/Dataset/dataset3/forge/00702023.png  \n",
            "  inflating: Dataset_Signature_Final/Dataset/dataset3/forge/00703011.png  \n",
            "  inflating: Dataset_Signature_Final/Dataset/dataset3/forge/00703023.png  \n",
            "  inflating: Dataset_Signature_Final/Dataset/dataset3/forge/00704011.png  \n",
            "  inflating: Dataset_Signature_Final/Dataset/dataset3/forge/00704023.png  \n",
            "  inflating: Dataset_Signature_Final/Dataset/dataset3/forge/00705011.png  \n",
            "  inflating: Dataset_Signature_Final/Dataset/dataset3/forge/00705023.png  \n",
            "  inflating: Dataset_Signature_Final/Dataset/dataset3/forge/01101012.png  \n",
            "  inflating: Dataset_Signature_Final/Dataset/dataset3/forge/01101016.png  \n",
            "  inflating: Dataset_Signature_Final/Dataset/dataset3/forge/01102012.png  \n",
            "  inflating: Dataset_Signature_Final/Dataset/dataset3/forge/01102016.png  \n",
            "  inflating: Dataset_Signature_Final/Dataset/dataset3/forge/01103012.png  \n",
            "  inflating: Dataset_Signature_Final/Dataset/dataset3/forge/01103016.png  \n",
            "  inflating: Dataset_Signature_Final/Dataset/dataset3/forge/01104012.png  \n",
            "  inflating: Dataset_Signature_Final/Dataset/dataset3/forge/01104016.png  \n",
            "  inflating: Dataset_Signature_Final/Dataset/dataset3/forge/01105012.png  \n",
            "  inflating: Dataset_Signature_Final/Dataset/dataset3/forge/01105016.png  \n",
            "  inflating: Dataset_Signature_Final/Dataset/dataset3/forge/01201021.png  \n",
            "  inflating: Dataset_Signature_Final/Dataset/dataset3/forge/01202021.png  \n",
            "  inflating: Dataset_Signature_Final/Dataset/dataset3/forge/01203021.png  \n",
            "  inflating: Dataset_Signature_Final/Dataset/dataset3/forge/01204021.png  \n",
            "  inflating: Dataset_Signature_Final/Dataset/dataset3/forge/01205021.png  \n",
            "  inflating: Dataset_Signature_Final/Dataset/dataset3/forge/01301017.png  \n",
            "  inflating: Dataset_Signature_Final/Dataset/dataset3/forge/01302017.png  \n",
            "  inflating: Dataset_Signature_Final/Dataset/dataset3/forge/01303017.png  \n",
            "  inflating: Dataset_Signature_Final/Dataset/dataset3/forge/01304017.png  \n",
            "  inflating: Dataset_Signature_Final/Dataset/dataset3/forge/01305017.png  \n",
            "  inflating: Dataset_Signature_Final/Dataset/dataset3/forge/01701020.png  \n",
            "  inflating: Dataset_Signature_Final/Dataset/dataset3/forge/01702020.png  \n",
            "  inflating: Dataset_Signature_Final/Dataset/dataset3/forge/01703020.png  \n",
            "  inflating: Dataset_Signature_Final/Dataset/dataset3/forge/01704020.png  \n",
            "  inflating: Dataset_Signature_Final/Dataset/dataset3/forge/01705020.png  \n",
            "  inflating: Dataset_Signature_Final/Dataset/dataset3/forge/02301008.png  \n",
            "  inflating: Dataset_Signature_Final/Dataset/dataset3/forge/02303008.png  \n",
            "  inflating: Dataset_Signature_Final/Dataset/dataset3/forge/02304008.png  \n",
            "  inflating: Dataset_Signature_Final/Dataset/dataset3/forge/02305008.png  \n",
            "  inflating: Dataset_Signature_Final/Dataset/dataset3/forge/02306008.png  \n",
            "  inflating: Dataset_Signature_Final/Dataset/dataset3/forge/02501010.png  \n",
            "  inflating: Dataset_Signature_Final/Dataset/dataset3/forge/02502010.png  \n",
            "  inflating: Dataset_Signature_Final/Dataset/dataset3/forge/02503010.png  \n",
            "  inflating: Dataset_Signature_Final/Dataset/dataset3/forge/02504010.png  \n",
            "  inflating: Dataset_Signature_Final/Dataset/dataset3/forge/02505009.png  \n",
            "  inflating: Dataset_Signature_Final/Dataset/dataset3/forge/03301006.png  \n",
            "  inflating: Dataset_Signature_Final/Dataset/dataset3/forge/03302006.png  \n",
            "  inflating: Dataset_Signature_Final/Dataset/dataset3/forge/03303006.png  \n",
            "  inflating: Dataset_Signature_Final/Dataset/dataset3/forge/03304006.png  \n",
            "  inflating: Dataset_Signature_Final/Dataset/dataset3/forge/03305006.png  \n",
            "  inflating: Dataset_Signature_Final/Dataset/dataset3/forge/08801004.png  \n",
            "  inflating: Dataset_Signature_Final/Dataset/dataset3/forge/08802004.png  \n",
            "  inflating: Dataset_Signature_Final/Dataset/dataset3/forge/08803004.png  \n",
            "  inflating: Dataset_Signature_Final/Dataset/dataset3/forge/08804004.png  \n",
            "  inflating: Dataset_Signature_Final/Dataset/dataset3/forge/08805004.png  \n",
            "  inflating: Dataset_Signature_Final/Dataset/dataset3/real/00101001.png  \n",
            "  inflating: Dataset_Signature_Final/Dataset/dataset3/real/00102001.png  \n",
            "  inflating: Dataset_Signature_Final/Dataset/dataset3/real/00103001.png  \n",
            "  inflating: Dataset_Signature_Final/Dataset/dataset3/real/00104001.png  \n",
            "  inflating: Dataset_Signature_Final/Dataset/dataset3/real/00105001.png  \n",
            "  inflating: Dataset_Signature_Final/Dataset/dataset3/real/00201002.png  \n",
            "  inflating: Dataset_Signature_Final/Dataset/dataset3/real/00202002.png  \n",
            "  inflating: Dataset_Signature_Final/Dataset/dataset3/real/00203002.png  \n",
            "  inflating: Dataset_Signature_Final/Dataset/dataset3/real/00204002.png  \n",
            "  inflating: Dataset_Signature_Final/Dataset/dataset3/real/00205002.png  \n",
            "  inflating: Dataset_Signature_Final/Dataset/dataset3/real/00301003.png  \n",
            "  inflating: Dataset_Signature_Final/Dataset/dataset3/real/00302003.png  \n",
            "  inflating: Dataset_Signature_Final/Dataset/dataset3/real/00303003.png  \n",
            "  inflating: Dataset_Signature_Final/Dataset/dataset3/real/00304003.png  \n",
            "  inflating: Dataset_Signature_Final/Dataset/dataset3/real/00305003.png  \n",
            "  inflating: Dataset_Signature_Final/Dataset/dataset3/real/00401004.png  \n",
            "  inflating: Dataset_Signature_Final/Dataset/dataset3/real/00402004.png  \n",
            "  inflating: Dataset_Signature_Final/Dataset/dataset3/real/00403004.png  \n",
            "  inflating: Dataset_Signature_Final/Dataset/dataset3/real/00404004.png  \n",
            "  inflating: Dataset_Signature_Final/Dataset/dataset3/real/00405004.png  \n",
            "  inflating: Dataset_Signature_Final/Dataset/dataset3/real/00501005.png  \n",
            "  inflating: Dataset_Signature_Final/Dataset/dataset3/real/00502005.png  \n",
            "  inflating: Dataset_Signature_Final/Dataset/dataset3/real/00503005.png  \n",
            "  inflating: Dataset_Signature_Final/Dataset/dataset3/real/00504005.png  \n",
            "  inflating: Dataset_Signature_Final/Dataset/dataset3/real/00505005.png  \n",
            "  inflating: Dataset_Signature_Final/Dataset/dataset3/real/00601006.png  \n",
            "  inflating: Dataset_Signature_Final/Dataset/dataset3/real/00602006.png  \n",
            "  inflating: Dataset_Signature_Final/Dataset/dataset3/real/00603006.png  \n",
            "  inflating: Dataset_Signature_Final/Dataset/dataset3/real/00604006.png  \n",
            "  inflating: Dataset_Signature_Final/Dataset/dataset3/real/00605006.png  \n",
            "  inflating: Dataset_Signature_Final/Dataset/dataset3/real/00701007.png  \n",
            "  inflating: Dataset_Signature_Final/Dataset/dataset3/real/00702007.png  \n",
            "  inflating: Dataset_Signature_Final/Dataset/dataset3/real/00703007.png  \n",
            "  inflating: Dataset_Signature_Final/Dataset/dataset3/real/00704007.png  \n",
            "  inflating: Dataset_Signature_Final/Dataset/dataset3/real/00705007.png  \n",
            "  inflating: Dataset_Signature_Final/Dataset/dataset3/real/00801008.png  \n",
            "  inflating: Dataset_Signature_Final/Dataset/dataset3/real/00802008.png  \n",
            "  inflating: Dataset_Signature_Final/Dataset/dataset3/real/00803008.png  \n",
            "  inflating: Dataset_Signature_Final/Dataset/dataset3/real/00804008.png  \n",
            "  inflating: Dataset_Signature_Final/Dataset/dataset3/real/00805008.png  \n",
            "  inflating: Dataset_Signature_Final/Dataset/dataset3/real/00901009.png  \n",
            "  inflating: Dataset_Signature_Final/Dataset/dataset3/real/00902009.png  \n",
            "  inflating: Dataset_Signature_Final/Dataset/dataset3/real/00903009.png  \n",
            "  inflating: Dataset_Signature_Final/Dataset/dataset3/real/00904009.png  \n",
            "  inflating: Dataset_Signature_Final/Dataset/dataset3/real/00905009.png  \n",
            "  inflating: Dataset_Signature_Final/Dataset/dataset3/real/01001010.png  \n",
            "  inflating: Dataset_Signature_Final/Dataset/dataset3/real/01002010.png  \n",
            "  inflating: Dataset_Signature_Final/Dataset/dataset3/real/01003010.png  \n",
            "  inflating: Dataset_Signature_Final/Dataset/dataset3/real/01004010.png  \n",
            "  inflating: Dataset_Signature_Final/Dataset/dataset3/real/01005010.png  \n",
            "  inflating: Dataset_Signature_Final/Dataset/dataset3/real/01101011.png  \n",
            "  inflating: Dataset_Signature_Final/Dataset/dataset3/real/01102011.png  \n",
            "  inflating: Dataset_Signature_Final/Dataset/dataset3/real/01103011.png  \n",
            "  inflating: Dataset_Signature_Final/Dataset/dataset3/real/01104011.png  \n",
            "  inflating: Dataset_Signature_Final/Dataset/dataset3/real/01105011.png  \n",
            "  inflating: Dataset_Signature_Final/Dataset/dataset3/real/01201012.png  \n",
            "  inflating: Dataset_Signature_Final/Dataset/dataset3/real/01202012.png  \n",
            "  inflating: Dataset_Signature_Final/Dataset/dataset3/real/01203012.png  \n",
            "  inflating: Dataset_Signature_Final/Dataset/dataset3/real/01204012.png  \n",
            "  inflating: Dataset_Signature_Final/Dataset/dataset3/real/01205012.png  \n",
            "  inflating: Dataset_Signature_Final/Dataset/dataset3/real/01301013.png  \n",
            "  inflating: Dataset_Signature_Final/Dataset/dataset3/real/01302013.png  \n",
            "  inflating: Dataset_Signature_Final/Dataset/dataset3/real/01303013.png  \n",
            "  inflating: Dataset_Signature_Final/Dataset/dataset3/real/01304013.png  \n",
            "  inflating: Dataset_Signature_Final/Dataset/dataset3/real/01305013.png  \n",
            "  inflating: Dataset_Signature_Final/Dataset/dataset3/real/01401014.png  \n",
            "  inflating: Dataset_Signature_Final/Dataset/dataset3/real/01402014.png  \n",
            "  inflating: Dataset_Signature_Final/Dataset/dataset3/real/01403014.png  \n",
            "  inflating: Dataset_Signature_Final/Dataset/dataset3/real/01404014.png  \n",
            "  inflating: Dataset_Signature_Final/Dataset/dataset3/real/01405014.png  \n",
            "  inflating: Dataset_Signature_Final/Dataset/dataset3/real/01501015.png  \n",
            "  inflating: Dataset_Signature_Final/Dataset/dataset3/real/01502015.png  \n",
            "  inflating: Dataset_Signature_Final/Dataset/dataset3/real/01503015.png  \n",
            "  inflating: Dataset_Signature_Final/Dataset/dataset3/real/01504015.png  \n",
            "  inflating: Dataset_Signature_Final/Dataset/dataset3/real/01505015.png  \n",
            "  inflating: Dataset_Signature_Final/Dataset/dataset3/real/01601016.png  \n",
            "  inflating: Dataset_Signature_Final/Dataset/dataset3/real/01602016.png  \n",
            "  inflating: Dataset_Signature_Final/Dataset/dataset3/real/01603016.png  \n",
            "  inflating: Dataset_Signature_Final/Dataset/dataset3/real/01604016.png  \n",
            "  inflating: Dataset_Signature_Final/Dataset/dataset3/real/01605016.png  \n",
            "  inflating: Dataset_Signature_Final/Dataset/dataset3/real/01701017.png  \n",
            "  inflating: Dataset_Signature_Final/Dataset/dataset3/real/01702017.png  \n",
            "  inflating: Dataset_Signature_Final/Dataset/dataset3/real/01703017.png  \n",
            "  inflating: Dataset_Signature_Final/Dataset/dataset3/real/01704017.png  \n",
            "  inflating: Dataset_Signature_Final/Dataset/dataset3/real/01705017.png  \n",
            "  inflating: Dataset_Signature_Final/Dataset/dataset3/real/01801018.png  \n",
            "  inflating: Dataset_Signature_Final/Dataset/dataset3/real/01802018.png  \n",
            "  inflating: Dataset_Signature_Final/Dataset/dataset3/real/01803018.png  \n",
            "  inflating: Dataset_Signature_Final/Dataset/dataset3/real/01804018.png  \n",
            "  inflating: Dataset_Signature_Final/Dataset/dataset3/real/01805018.png  \n",
            "  inflating: Dataset_Signature_Final/Dataset/dataset3/real/01901019.png  \n",
            "  inflating: Dataset_Signature_Final/Dataset/dataset3/real/01902019.png  \n",
            "  inflating: Dataset_Signature_Final/Dataset/dataset3/real/01903019.png  \n",
            "  inflating: Dataset_Signature_Final/Dataset/dataset3/real/01904019.png  \n",
            "  inflating: Dataset_Signature_Final/Dataset/dataset3/real/01905019.png  \n",
            "  inflating: Dataset_Signature_Final/Dataset/dataset3/real/02001020.png  \n",
            "  inflating: Dataset_Signature_Final/Dataset/dataset3/real/02002020.png  \n",
            "  inflating: Dataset_Signature_Final/Dataset/dataset3/real/02003020.png  \n",
            "  inflating: Dataset_Signature_Final/Dataset/dataset3/real/02004020.png  \n",
            "  inflating: Dataset_Signature_Final/Dataset/dataset3/real/02005020.png  \n",
            "  inflating: Dataset_Signature_Final/Dataset/dataset3/real/02101021.png  \n",
            "  inflating: Dataset_Signature_Final/Dataset/dataset3/real/02102021.png  \n",
            "  inflating: Dataset_Signature_Final/Dataset/dataset3/real/02103021.png  \n",
            "  inflating: Dataset_Signature_Final/Dataset/dataset3/real/02104021.png  \n",
            "  inflating: Dataset_Signature_Final/Dataset/dataset3/real/02105021.png  \n",
            "  inflating: Dataset_Signature_Final/Dataset/dataset3/real/02201022.png  \n",
            "  inflating: Dataset_Signature_Final/Dataset/dataset3/real/02202022.png  \n",
            "  inflating: Dataset_Signature_Final/Dataset/dataset3/real/02203022.png  \n",
            "  inflating: Dataset_Signature_Final/Dataset/dataset3/real/02204022.png  \n",
            "  inflating: Dataset_Signature_Final/Dataset/dataset3/real/02205022.png  \n",
            "  inflating: Dataset_Signature_Final/Dataset/dataset3/real/02301023.png  \n",
            "  inflating: Dataset_Signature_Final/Dataset/dataset3/real/02302023.png  \n",
            "  inflating: Dataset_Signature_Final/Dataset/dataset3/real/02303023.png  \n",
            "  inflating: Dataset_Signature_Final/Dataset/dataset3/real/02304023.png  \n",
            "  inflating: Dataset_Signature_Final/Dataset/dataset3/real/02305023.png  \n",
            "  inflating: Dataset_Signature_Final/Dataset/dataset3/real/02401024.png  \n",
            "  inflating: Dataset_Signature_Final/Dataset/dataset3/real/02402024.png  \n",
            "  inflating: Dataset_Signature_Final/Dataset/dataset3/real/02403024.png  \n",
            "  inflating: Dataset_Signature_Final/Dataset/dataset3/real/02404024.png  \n",
            "  inflating: Dataset_Signature_Final/Dataset/dataset3/real/02405024.png  \n",
            "  inflating: Dataset_Signature_Final/Dataset/dataset3/real/02501025.png  \n",
            "  inflating: Dataset_Signature_Final/Dataset/dataset3/real/02502025.png  \n",
            "  inflating: Dataset_Signature_Final/Dataset/dataset3/real/02503025.png  \n",
            "  inflating: Dataset_Signature_Final/Dataset/dataset3/real/02504025.png  \n",
            "  inflating: Dataset_Signature_Final/Dataset/dataset3/real/02505025.png  \n",
            "  inflating: Dataset_Signature_Final/Dataset/dataset3/real/02601026.png  \n",
            "  inflating: Dataset_Signature_Final/Dataset/dataset3/real/02602026.png  \n",
            "  inflating: Dataset_Signature_Final/Dataset/dataset3/real/02603026.png  \n",
            "  inflating: Dataset_Signature_Final/Dataset/dataset3/real/02604026.png  \n",
            "  inflating: Dataset_Signature_Final/Dataset/dataset3/real/02605026.png  \n",
            "  inflating: Dataset_Signature_Final/Dataset/dataset3/real/02701027.png  \n",
            "  inflating: Dataset_Signature_Final/Dataset/dataset3/real/02702027.png  \n",
            "  inflating: Dataset_Signature_Final/Dataset/dataset3/real/02703027.png  \n",
            "  inflating: Dataset_Signature_Final/Dataset/dataset3/real/02704027.png  \n",
            "  inflating: Dataset_Signature_Final/Dataset/dataset3/real/02705027.png  \n",
            "  inflating: Dataset_Signature_Final/Dataset/dataset3/real/02801028.png  \n",
            "  inflating: Dataset_Signature_Final/Dataset/dataset3/real/02802028.png  \n",
            "  inflating: Dataset_Signature_Final/Dataset/dataset3/real/02803028.png  \n",
            "  inflating: Dataset_Signature_Final/Dataset/dataset3/real/02804028.png  \n",
            "  inflating: Dataset_Signature_Final/Dataset/dataset3/real/02805028.png  \n",
            "  inflating: Dataset_Signature_Final/Dataset/dataset3/real/02901029.png  \n",
            "  inflating: Dataset_Signature_Final/Dataset/dataset3/real/02902029.png  \n",
            "  inflating: Dataset_Signature_Final/Dataset/dataset3/real/02903029.png  \n",
            "  inflating: Dataset_Signature_Final/Dataset/dataset3/real/02904029.png  \n",
            "  inflating: Dataset_Signature_Final/Dataset/dataset3/real/02905029.png  \n",
            "  inflating: Dataset_Signature_Final/Dataset/dataset3/real/03001030.png  \n",
            "  inflating: Dataset_Signature_Final/Dataset/dataset3/real/03002030.png  \n",
            "  inflating: Dataset_Signature_Final/Dataset/dataset3/real/03003030.png  \n",
            "  inflating: Dataset_Signature_Final/Dataset/dataset3/real/03004030.png  \n",
            "  inflating: Dataset_Signature_Final/Dataset/dataset3/real/03005030.png  \n",
            "  inflating: Dataset_Signature_Final/Dataset/dataset4/forge/00301002.png  \n",
            "  inflating: Dataset_Signature_Final/Dataset/dataset4/forge/00301035.png  \n",
            "  inflating: Dataset_Signature_Final/Dataset/dataset4/forge/00301046.png  \n",
            "  inflating: Dataset_Signature_Final/Dataset/dataset4/forge/00302002.png  \n",
            "  inflating: Dataset_Signature_Final/Dataset/dataset4/forge/00302035.png  \n",
            "  inflating: Dataset_Signature_Final/Dataset/dataset4/forge/00302046.png  \n",
            "  inflating: Dataset_Signature_Final/Dataset/dataset4/forge/00303002.png  \n",
            "  inflating: Dataset_Signature_Final/Dataset/dataset4/forge/00303035.png  \n",
            "  inflating: Dataset_Signature_Final/Dataset/dataset4/forge/00303046.png  \n",
            "  inflating: Dataset_Signature_Final/Dataset/dataset4/forge/00304002.png  \n",
            "  inflating: Dataset_Signature_Final/Dataset/dataset4/forge/00304035.png  \n",
            "  inflating: Dataset_Signature_Final/Dataset/dataset4/forge/00304046.png  \n",
            "  inflating: Dataset_Signature_Final/Dataset/dataset4/forge/00305002.png  \n",
            "  inflating: Dataset_Signature_Final/Dataset/dataset4/forge/00305035.png  \n",
            "  inflating: Dataset_Signature_Final/Dataset/dataset4/forge/00305046.png  \n",
            "  inflating: Dataset_Signature_Final/Dataset/dataset4/forge/00401024.png  \n",
            "  inflating: Dataset_Signature_Final/Dataset/dataset4/forge/00401044.png  \n",
            "  inflating: Dataset_Signature_Final/Dataset/dataset4/forge/00401063.png  \n",
            "  inflating: Dataset_Signature_Final/Dataset/dataset4/forge/00401092.png  \n",
            "  inflating: Dataset_Signature_Final/Dataset/dataset4/forge/00402024.png  \n",
            "  inflating: Dataset_Signature_Final/Dataset/dataset4/forge/00402044.png  \n",
            "  inflating: Dataset_Signature_Final/Dataset/dataset4/forge/00402063.png  \n",
            "  inflating: Dataset_Signature_Final/Dataset/dataset4/forge/00402092.png  \n",
            "  inflating: Dataset_Signature_Final/Dataset/dataset4/forge/00403024.png  \n",
            "  inflating: Dataset_Signature_Final/Dataset/dataset4/forge/00403044.png  \n",
            "  inflating: Dataset_Signature_Final/Dataset/dataset4/forge/00403063.png  \n",
            "  inflating: Dataset_Signature_Final/Dataset/dataset4/forge/00403092.png  \n",
            "  inflating: Dataset_Signature_Final/Dataset/dataset4/forge/00404024.png  \n",
            "  inflating: Dataset_Signature_Final/Dataset/dataset4/forge/00404044.png  \n",
            "  inflating: Dataset_Signature_Final/Dataset/dataset4/forge/00404063.png  \n",
            "  inflating: Dataset_Signature_Final/Dataset/dataset4/forge/00404092.png  \n",
            "  inflating: Dataset_Signature_Final/Dataset/dataset4/forge/00405024.png  \n",
            "  inflating: Dataset_Signature_Final/Dataset/dataset4/forge/00405044.png  \n",
            "  inflating: Dataset_Signature_Final/Dataset/dataset4/forge/00405063.png  \n",
            "  inflating: Dataset_Signature_Final/Dataset/dataset4/forge/00405092.png  \n",
            "  inflating: Dataset_Signature_Final/Dataset/dataset4/forge/01601077.png  \n",
            "  inflating: Dataset_Signature_Final/Dataset/dataset4/forge/01601089.png  \n",
            "  inflating: Dataset_Signature_Final/Dataset/dataset4/forge/01602033.png  \n",
            "  inflating: Dataset_Signature_Final/Dataset/dataset4/forge/01602077.png  \n",
            "  inflating: Dataset_Signature_Final/Dataset/dataset4/forge/01602089.png  \n",
            "  inflating: Dataset_Signature_Final/Dataset/dataset4/forge/01603033.png  \n",
            "  inflating: Dataset_Signature_Final/Dataset/dataset4/forge/01603077.png  \n",
            "  inflating: Dataset_Signature_Final/Dataset/dataset4/forge/01603089.png  \n",
            "  inflating: Dataset_Signature_Final/Dataset/dataset4/forge/01604033.png  \n",
            "  inflating: Dataset_Signature_Final/Dataset/dataset4/forge/01604077.png  \n",
            "  inflating: Dataset_Signature_Final/Dataset/dataset4/forge/01604089.png  \n",
            "  inflating: Dataset_Signature_Final/Dataset/dataset4/forge/01605033.png  \n",
            "  inflating: Dataset_Signature_Final/Dataset/dataset4/forge/01605077.png  \n",
            "  inflating: Dataset_Signature_Final/Dataset/dataset4/forge/01605089.png  \n",
            "  inflating: Dataset_Signature_Final/Dataset/dataset4/forge/01701033.png  \n",
            "  inflating: Dataset_Signature_Final/Dataset/dataset4/forge/02301008.png  \n",
            "  inflating: Dataset_Signature_Final/Dataset/dataset4/forge/02301070.png  \n",
            "  inflating: Dataset_Signature_Final/Dataset/dataset4/forge/02301093.png  \n",
            "  inflating: Dataset_Signature_Final/Dataset/dataset4/forge/02302008.png  \n",
            "  inflating: Dataset_Signature_Final/Dataset/dataset4/forge/02302070.png  \n",
            "  inflating: Dataset_Signature_Final/Dataset/dataset4/forge/02302093.png  \n",
            "  inflating: Dataset_Signature_Final/Dataset/dataset4/forge/02303008.png  \n",
            "  inflating: Dataset_Signature_Final/Dataset/dataset4/forge/02303070.png  \n",
            "  inflating: Dataset_Signature_Final/Dataset/dataset4/forge/02303093.png  \n",
            "  inflating: Dataset_Signature_Final/Dataset/dataset4/forge/02304008.png  \n",
            "  inflating: Dataset_Signature_Final/Dataset/dataset4/forge/02304070.png  \n",
            "  inflating: Dataset_Signature_Final/Dataset/dataset4/forge/02304093.png  \n",
            "  inflating: Dataset_Signature_Final/Dataset/dataset4/forge/02305008.png  \n",
            "  inflating: Dataset_Signature_Final/Dataset/dataset4/forge/02305070.png  \n",
            "  inflating: Dataset_Signature_Final/Dataset/dataset4/forge/02305093.png  \n",
            "  inflating: Dataset_Signature_Final/Dataset/dataset4/forge/03201084.png  \n",
            "  inflating: Dataset_Signature_Final/Dataset/dataset4/forge/03201085.png  \n",
            "  inflating: Dataset_Signature_Final/Dataset/dataset4/forge/03201086.png  \n",
            "  inflating: Dataset_Signature_Final/Dataset/dataset4/forge/03202084.png  \n",
            "  inflating: Dataset_Signature_Final/Dataset/dataset4/forge/03202085.png  \n",
            "  inflating: Dataset_Signature_Final/Dataset/dataset4/forge/03202086.png  \n",
            "  inflating: Dataset_Signature_Final/Dataset/dataset4/forge/03203084.png  \n",
            "  inflating: Dataset_Signature_Final/Dataset/dataset4/forge/03203085.png  \n",
            "  inflating: Dataset_Signature_Final/Dataset/dataset4/forge/03203086.png  \n",
            "  inflating: Dataset_Signature_Final/Dataset/dataset4/forge/03204084.png  \n",
            "  inflating: Dataset_Signature_Final/Dataset/dataset4/forge/03204085.png  \n",
            "  inflating: Dataset_Signature_Final/Dataset/dataset4/forge/03204086.png  \n",
            "  inflating: Dataset_Signature_Final/Dataset/dataset4/forge/03205084.png  \n",
            "  inflating: Dataset_Signature_Final/Dataset/dataset4/forge/03205085.png  \n",
            "  inflating: Dataset_Signature_Final/Dataset/dataset4/forge/03205086.png  \n",
            "  inflating: Dataset_Signature_Final/Dataset/dataset4/forge/06101016.png  \n",
            "  inflating: Dataset_Signature_Final/Dataset/dataset4/forge/06101071.png  \n",
            "  inflating: Dataset_Signature_Final/Dataset/dataset4/forge/06102016.png  \n",
            "  inflating: Dataset_Signature_Final/Dataset/dataset4/forge/06102071.png  \n",
            "  inflating: Dataset_Signature_Final/Dataset/dataset4/forge/06103016.png  \n",
            "  inflating: Dataset_Signature_Final/Dataset/dataset4/forge/06103071.png  \n",
            "  inflating: Dataset_Signature_Final/Dataset/dataset4/forge/06104016.png  \n",
            "  inflating: Dataset_Signature_Final/Dataset/dataset4/forge/06104071.png  \n",
            "  inflating: Dataset_Signature_Final/Dataset/dataset4/forge/06105016.png  \n",
            "  inflating: Dataset_Signature_Final/Dataset/dataset4/forge/06105071.png  \n",
            "  inflating: Dataset_Signature_Final/Dataset/dataset4/real1/00201002.png  \n",
            "  inflating: Dataset_Signature_Final/Dataset/dataset4/real1/00202002.png  \n",
            "  inflating: Dataset_Signature_Final/Dataset/dataset4/real1/00203002.png  \n",
            "  inflating: Dataset_Signature_Final/Dataset/dataset4/real1/00204002.png  \n",
            "  inflating: Dataset_Signature_Final/Dataset/dataset4/real1/00205002.png  \n",
            "  inflating: Dataset_Signature_Final/Dataset/dataset4/real1/00801008.png  \n",
            "  inflating: Dataset_Signature_Final/Dataset/dataset4/real1/00802008.png  \n",
            "  inflating: Dataset_Signature_Final/Dataset/dataset4/real1/00803008.png  \n",
            "  inflating: Dataset_Signature_Final/Dataset/dataset4/real1/00804008.png  \n",
            "  inflating: Dataset_Signature_Final/Dataset/dataset4/real1/00805008.png  \n",
            "  inflating: Dataset_Signature_Final/Dataset/dataset4/real1/01601016.png  \n",
            "  inflating: Dataset_Signature_Final/Dataset/dataset4/real1/01602016.png  \n",
            "  inflating: Dataset_Signature_Final/Dataset/dataset4/real1/01603016.png  \n",
            "  inflating: Dataset_Signature_Final/Dataset/dataset4/real1/01604016.png  \n",
            "  inflating: Dataset_Signature_Final/Dataset/dataset4/real1/01605016.png  \n",
            "  inflating: Dataset_Signature_Final/Dataset/dataset4/real1/02401024.png  \n",
            "  inflating: Dataset_Signature_Final/Dataset/dataset4/real1/02402024.png  \n",
            "  inflating: Dataset_Signature_Final/Dataset/dataset4/real1/02403024.png  \n",
            "  inflating: Dataset_Signature_Final/Dataset/dataset4/real1/02404024.png  \n",
            "  inflating: Dataset_Signature_Final/Dataset/dataset4/real1/02405024.png  \n",
            "  inflating: Dataset_Signature_Final/Dataset/dataset4/real1/03301033.png  \n",
            "  inflating: Dataset_Signature_Final/Dataset/dataset4/real1/03302033.png  \n",
            "  inflating: Dataset_Signature_Final/Dataset/dataset4/real1/03303033.png  \n",
            "  inflating: Dataset_Signature_Final/Dataset/dataset4/real1/03304033.png  \n",
            "  inflating: Dataset_Signature_Final/Dataset/dataset4/real1/03305033.png  \n",
            "  inflating: Dataset_Signature_Final/Dataset/dataset4/real1/03501035.png  \n",
            "  inflating: Dataset_Signature_Final/Dataset/dataset4/real1/03502035.png  \n",
            "  inflating: Dataset_Signature_Final/Dataset/dataset4/real1/03503035.png  \n",
            "  inflating: Dataset_Signature_Final/Dataset/dataset4/real1/03504035.png  \n",
            "  inflating: Dataset_Signature_Final/Dataset/dataset4/real1/03505035.png  \n",
            "  inflating: Dataset_Signature_Final/Dataset/dataset4/real1/04401044.png  \n",
            "  inflating: Dataset_Signature_Final/Dataset/dataset4/real1/04402044.png  \n",
            "  inflating: Dataset_Signature_Final/Dataset/dataset4/real1/04403044.png  \n",
            "  inflating: Dataset_Signature_Final/Dataset/dataset4/real1/04404044.png  \n",
            "  inflating: Dataset_Signature_Final/Dataset/dataset4/real1/04405044.png  \n",
            "  inflating: Dataset_Signature_Final/Dataset/dataset4/real1/04601046.png  \n",
            "  inflating: Dataset_Signature_Final/Dataset/dataset4/real1/04602046.png  \n",
            "  inflating: Dataset_Signature_Final/Dataset/dataset4/real1/04603046.png  \n",
            "  inflating: Dataset_Signature_Final/Dataset/dataset4/real1/04604046.png  \n",
            "  inflating: Dataset_Signature_Final/Dataset/dataset4/real1/04605046.png  \n",
            "  inflating: Dataset_Signature_Final/Dataset/dataset4/real1/06301063.png  \n",
            "  inflating: Dataset_Signature_Final/Dataset/dataset4/real1/06302063.png  \n",
            "  inflating: Dataset_Signature_Final/Dataset/dataset4/real1/06303063.png  \n",
            "  inflating: Dataset_Signature_Final/Dataset/dataset4/real1/06304063.png  \n",
            "  inflating: Dataset_Signature_Final/Dataset/dataset4/real1/06305063.png  \n",
            "  inflating: Dataset_Signature_Final/Dataset/dataset4/real1/07001070.png  \n",
            "  inflating: Dataset_Signature_Final/Dataset/dataset4/real1/07002070.png  \n",
            "  inflating: Dataset_Signature_Final/Dataset/dataset4/real1/07003070.png  \n",
            "  inflating: Dataset_Signature_Final/Dataset/dataset4/real1/07004070.png  \n",
            "  inflating: Dataset_Signature_Final/Dataset/dataset4/real1/07005070.png  \n",
            "  inflating: Dataset_Signature_Final/Dataset/dataset4/real1/07101071.png  \n",
            "  inflating: Dataset_Signature_Final/Dataset/dataset4/real1/07102071.png  \n",
            "  inflating: Dataset_Signature_Final/Dataset/dataset4/real1/07103071.png  \n",
            "  inflating: Dataset_Signature_Final/Dataset/dataset4/real1/07104071.png  \n",
            "  inflating: Dataset_Signature_Final/Dataset/dataset4/real1/07105071.png  \n",
            "  inflating: Dataset_Signature_Final/Dataset/dataset4/real1/07701077.png  \n",
            "  inflating: Dataset_Signature_Final/Dataset/dataset4/real1/07702077.png  \n",
            "  inflating: Dataset_Signature_Final/Dataset/dataset4/real1/07703077.png  \n",
            "  inflating: Dataset_Signature_Final/Dataset/dataset4/real1/07704077.png  \n",
            "  inflating: Dataset_Signature_Final/Dataset/dataset4/real1/07705077.png  \n",
            "  inflating: Dataset_Signature_Final/Dataset/dataset4/real1/08401084.png  \n",
            "  inflating: Dataset_Signature_Final/Dataset/dataset4/real1/08402084.png  \n",
            "  inflating: Dataset_Signature_Final/Dataset/dataset4/real1/08403084.png  \n",
            "  inflating: Dataset_Signature_Final/Dataset/dataset4/real1/08404084.png  \n",
            "  inflating: Dataset_Signature_Final/Dataset/dataset4/real1/08405084.png  \n",
            "  inflating: Dataset_Signature_Final/Dataset/dataset4/real1/08501085.png  \n",
            "  inflating: Dataset_Signature_Final/Dataset/dataset4/real1/08502085.png  \n",
            "  inflating: Dataset_Signature_Final/Dataset/dataset4/real1/08503085.png  \n",
            "  inflating: Dataset_Signature_Final/Dataset/dataset4/real1/08504085.png  \n",
            "  inflating: Dataset_Signature_Final/Dataset/dataset4/real1/08505085.png  \n",
            "  inflating: Dataset_Signature_Final/Dataset/dataset4/real1/08601086.png  \n",
            "  inflating: Dataset_Signature_Final/Dataset/dataset4/real1/08602086.png  \n",
            "  inflating: Dataset_Signature_Final/Dataset/dataset4/real1/08603086.png  \n",
            "  inflating: Dataset_Signature_Final/Dataset/dataset4/real1/08604086.png  \n",
            "  inflating: Dataset_Signature_Final/Dataset/dataset4/real1/08605086.png  \n",
            "  inflating: Dataset_Signature_Final/Dataset/dataset4/real1/08901089.png  \n",
            "  inflating: Dataset_Signature_Final/Dataset/dataset4/real1/08902089.png  \n",
            "  inflating: Dataset_Signature_Final/Dataset/dataset4/real1/08903089.png  \n",
            "  inflating: Dataset_Signature_Final/Dataset/dataset4/real1/08904089.png  \n",
            "  inflating: Dataset_Signature_Final/Dataset/dataset4/real1/08905089.png  \n",
            "  inflating: Dataset_Signature_Final/Dataset/dataset4/real1/09201092.png  \n",
            "  inflating: Dataset_Signature_Final/Dataset/dataset4/real1/09202092.png  \n",
            "  inflating: Dataset_Signature_Final/Dataset/dataset4/real1/09203092.png  \n",
            "  inflating: Dataset_Signature_Final/Dataset/dataset4/real1/09204092.png  \n",
            "  inflating: Dataset_Signature_Final/Dataset/dataset4/real1/09205092.png  \n",
            "  inflating: Dataset_Signature_Final/Dataset/dataset4/real1/09301093.png  \n",
            "  inflating: Dataset_Signature_Final/Dataset/dataset4/real1/09302093.png  \n",
            "  inflating: Dataset_Signature_Final/Dataset/dataset4/real1/09303093.png  \n",
            "  inflating: Dataset_Signature_Final/Dataset/dataset4/real1/09304093.png  \n",
            "  inflating: Dataset_Signature_Final/Dataset/dataset4/real1/09305093.png  \n",
            "  inflating: dataset_signature_final/Dataset/dataset1/forge/02100001.png  \n",
            "  inflating: dataset_signature_final/Dataset/dataset1/forge/02100002.png  \n",
            "  inflating: dataset_signature_final/Dataset/dataset1/forge/02100003.png  \n",
            "  inflating: dataset_signature_final/Dataset/dataset1/forge/02100004.png  \n",
            "  inflating: dataset_signature_final/Dataset/dataset1/forge/02100005.png  \n",
            "  inflating: dataset_signature_final/Dataset/dataset1/forge/02100006.png  \n",
            "  inflating: dataset_signature_final/Dataset/dataset1/forge/02100007.png  \n",
            "  inflating: dataset_signature_final/Dataset/dataset1/forge/02100008.png  \n",
            "  inflating: dataset_signature_final/Dataset/dataset1/forge/02100009.png  \n",
            "  inflating: dataset_signature_final/Dataset/dataset1/forge/02100010.png  \n",
            "  inflating: dataset_signature_final/Dataset/dataset1/forge/02100011.png  \n",
            "  inflating: dataset_signature_final/Dataset/dataset1/forge/02100012.png  \n",
            "  inflating: dataset_signature_final/Dataset/dataset1/forge/02101001.png  \n",
            "  inflating: dataset_signature_final/Dataset/dataset1/forge/02101002.png  \n",
            "  inflating: dataset_signature_final/Dataset/dataset1/forge/02101003.png  \n",
            "  inflating: dataset_signature_final/Dataset/dataset1/forge/02101004.png  \n",
            "  inflating: dataset_signature_final/Dataset/dataset1/forge/02101005.png  \n",
            "  inflating: dataset_signature_final/Dataset/dataset1/forge/02101006.png  \n",
            "  inflating: dataset_signature_final/Dataset/dataset1/forge/02101007.png  \n",
            "  inflating: dataset_signature_final/Dataset/dataset1/forge/02101008.png  \n",
            "  inflating: dataset_signature_final/Dataset/dataset1/forge/02101009.png  \n",
            "  inflating: dataset_signature_final/Dataset/dataset1/forge/02101010.png  \n",
            "  inflating: dataset_signature_final/Dataset/dataset1/forge/02101011.png  \n",
            "  inflating: dataset_signature_final/Dataset/dataset1/forge/02101012.png  \n",
            "  inflating: dataset_signature_final/Dataset/dataset1/forge/02102001.png  \n",
            "  inflating: dataset_signature_final/Dataset/dataset1/forge/02102002.png  \n",
            "  inflating: dataset_signature_final/Dataset/dataset1/forge/02102003.png  \n",
            "  inflating: dataset_signature_final/Dataset/dataset1/forge/02102004.png  \n",
            "  inflating: dataset_signature_final/Dataset/dataset1/forge/02102005.png  \n",
            "  inflating: dataset_signature_final/Dataset/dataset1/forge/02102006.png  \n",
            "  inflating: dataset_signature_final/Dataset/dataset1/forge/02102007.png  \n",
            "  inflating: dataset_signature_final/Dataset/dataset1/forge/02102008.png  \n",
            "  inflating: dataset_signature_final/Dataset/dataset1/forge/02102009.png  \n",
            "  inflating: dataset_signature_final/Dataset/dataset1/forge/02102010.png  \n",
            "  inflating: dataset_signature_final/Dataset/dataset1/forge/02102011.png  \n",
            "  inflating: dataset_signature_final/Dataset/dataset1/forge/02102012.png  \n",
            "  inflating: dataset_signature_final/Dataset/dataset1/forge/02103001.png  \n",
            "  inflating: dataset_signature_final/Dataset/dataset1/forge/02103002.png  \n",
            "  inflating: dataset_signature_final/Dataset/dataset1/forge/02103003.png  \n",
            "  inflating: dataset_signature_final/Dataset/dataset1/forge/02103004.png  \n",
            "  inflating: dataset_signature_final/Dataset/dataset1/forge/02103005.png  \n",
            "  inflating: dataset_signature_final/Dataset/dataset1/forge/02103006.png  \n",
            "  inflating: dataset_signature_final/Dataset/dataset1/forge/02103007.png  \n",
            "  inflating: dataset_signature_final/Dataset/dataset1/forge/02103008.png  \n",
            "  inflating: dataset_signature_final/Dataset/dataset1/forge/02103009.png  \n",
            "  inflating: dataset_signature_final/Dataset/dataset1/forge/02103010.png  \n",
            "  inflating: dataset_signature_final/Dataset/dataset1/forge/02103011.png  \n",
            "  inflating: dataset_signature_final/Dataset/dataset1/forge/02103012.png  \n",
            "  inflating: dataset_signature_final/Dataset/dataset1/forge/02104001.png  \n",
            "  inflating: dataset_signature_final/Dataset/dataset1/forge/02104002.png  \n",
            "  inflating: dataset_signature_final/Dataset/dataset1/forge/02104003.png  \n",
            "  inflating: dataset_signature_final/Dataset/dataset1/forge/02104004.png  \n",
            "  inflating: dataset_signature_final/Dataset/dataset1/forge/02104005.png  \n",
            "  inflating: dataset_signature_final/Dataset/dataset1/forge/02104006.png  \n",
            "  inflating: dataset_signature_final/Dataset/dataset1/forge/02104007.png  \n",
            "  inflating: dataset_signature_final/Dataset/dataset1/forge/02104008.png  \n",
            "  inflating: dataset_signature_final/Dataset/dataset1/forge/02104009.png  \n",
            "  inflating: dataset_signature_final/Dataset/dataset1/forge/02104010.png  \n",
            "  inflating: dataset_signature_final/Dataset/dataset1/forge/02104011.png  \n",
            "  inflating: dataset_signature_final/Dataset/dataset1/forge/02104012.png  \n",
            "  inflating: dataset_signature_final/Dataset/dataset1/real/00100001.png  \n",
            "  inflating: dataset_signature_final/Dataset/dataset1/real/00101001.png  \n",
            "  inflating: dataset_signature_final/Dataset/dataset1/real/00102001.png  \n",
            "  inflating: dataset_signature_final/Dataset/dataset1/real/00103001.png  \n",
            "  inflating: dataset_signature_final/Dataset/dataset1/real/00104001.png  \n",
            "  inflating: dataset_signature_final/Dataset/dataset1/real/00200002.png  \n",
            "  inflating: dataset_signature_final/Dataset/dataset1/real/00201002.png  \n",
            "  inflating: dataset_signature_final/Dataset/dataset1/real/00202002.png  \n",
            "  inflating: dataset_signature_final/Dataset/dataset1/real/00203002.png  \n",
            "  inflating: dataset_signature_final/Dataset/dataset1/real/00204002.png  \n",
            "  inflating: dataset_signature_final/Dataset/dataset1/real/00300003.png  \n",
            "  inflating: dataset_signature_final/Dataset/dataset1/real/00301003.png  \n",
            "  inflating: dataset_signature_final/Dataset/dataset1/real/00302003.png  \n",
            "  inflating: dataset_signature_final/Dataset/dataset1/real/00303003.png  \n",
            "  inflating: dataset_signature_final/Dataset/dataset1/real/00304003.png  \n",
            "  inflating: dataset_signature_final/Dataset/dataset1/real/00400004.png  \n",
            "  inflating: dataset_signature_final/Dataset/dataset1/real/00401004.png  \n",
            "  inflating: dataset_signature_final/Dataset/dataset1/real/00402004.png  \n",
            "  inflating: dataset_signature_final/Dataset/dataset1/real/00403004.png  \n",
            "  inflating: dataset_signature_final/Dataset/dataset1/real/00404004.png  \n",
            "  inflating: dataset_signature_final/Dataset/dataset1/real/00500005.png  \n",
            "  inflating: dataset_signature_final/Dataset/dataset1/real/00501005.png  \n",
            "  inflating: dataset_signature_final/Dataset/dataset1/real/00502005.png  \n",
            "  inflating: dataset_signature_final/Dataset/dataset1/real/00503005.png  \n",
            "  inflating: dataset_signature_final/Dataset/dataset1/real/00504005.png  \n",
            "  inflating: dataset_signature_final/Dataset/dataset1/real/00600006.png  \n",
            "  inflating: dataset_signature_final/Dataset/dataset1/real/00601006.png  \n",
            "  inflating: dataset_signature_final/Dataset/dataset1/real/00602006.png  \n",
            "  inflating: dataset_signature_final/Dataset/dataset1/real/00603006.png  \n",
            "  inflating: dataset_signature_final/Dataset/dataset1/real/00604006.png  \n",
            "  inflating: dataset_signature_final/Dataset/dataset1/real/00700007.png  \n",
            "  inflating: dataset_signature_final/Dataset/dataset1/real/00701007.png  \n",
            "  inflating: dataset_signature_final/Dataset/dataset1/real/00702007.png  \n",
            "  inflating: dataset_signature_final/Dataset/dataset1/real/00703007.png  \n",
            "  inflating: dataset_signature_final/Dataset/dataset1/real/00704007.png  \n",
            "  inflating: dataset_signature_final/Dataset/dataset1/real/00800008.png  \n",
            "  inflating: dataset_signature_final/Dataset/dataset1/real/00801008.png  \n",
            "  inflating: dataset_signature_final/Dataset/dataset1/real/00802008.png  \n",
            "  inflating: dataset_signature_final/Dataset/dataset1/real/00803008.png  \n",
            "  inflating: dataset_signature_final/Dataset/dataset1/real/00804008.png  \n",
            "  inflating: dataset_signature_final/Dataset/dataset1/real/00900009.png  \n",
            "  inflating: dataset_signature_final/Dataset/dataset1/real/00901009.png  \n",
            "  inflating: dataset_signature_final/Dataset/dataset1/real/00902009.png  \n",
            "  inflating: dataset_signature_final/Dataset/dataset1/real/00903009.png  \n",
            "  inflating: dataset_signature_final/Dataset/dataset1/real/00904009.png  \n",
            "  inflating: dataset_signature_final/Dataset/dataset1/real/01000010.png  \n",
            "  inflating: dataset_signature_final/Dataset/dataset1/real/01001010.png  \n",
            "  inflating: dataset_signature_final/Dataset/dataset1/real/01002010.png  \n",
            "  inflating: dataset_signature_final/Dataset/dataset1/real/01003010.png  \n",
            "  inflating: dataset_signature_final/Dataset/dataset1/real/01004010.png  \n",
            "  inflating: dataset_signature_final/Dataset/dataset1/real/01100011.png  \n",
            "  inflating: dataset_signature_final/Dataset/dataset1/real/01101011.png  \n",
            "  inflating: dataset_signature_final/Dataset/dataset1/real/01102011.png  \n",
            "  inflating: dataset_signature_final/Dataset/dataset1/real/01103011.png  \n",
            "  inflating: dataset_signature_final/Dataset/dataset1/real/01104011.png  \n",
            "  inflating: dataset_signature_final/Dataset/dataset1/real/01200012.png  \n",
            "  inflating: dataset_signature_final/Dataset/dataset1/real/01201012.png  \n",
            "  inflating: dataset_signature_final/Dataset/dataset1/real/01202012.png  \n",
            "  inflating: dataset_signature_final/Dataset/dataset1/real/01203012.png  \n",
            "  inflating: dataset_signature_final/Dataset/dataset1/real/01204012.png  \n",
            "  inflating: dataset_signature_final/Dataset/dataset2/forge/02101003.png  \n",
            "  inflating: dataset_signature_final/Dataset/dataset2/forge/02101004.png  \n",
            "  inflating: dataset_signature_final/Dataset/dataset2/forge/02101005.png  \n",
            "  inflating: dataset_signature_final/Dataset/dataset2/forge/02101006.png  \n",
            "  inflating: dataset_signature_final/Dataset/dataset2/forge/02101007.png  \n",
            "  inflating: dataset_signature_final/Dataset/dataset2/forge/02101008.png  \n",
            "  inflating: dataset_signature_final/Dataset/dataset2/forge/02101009.png  \n",
            "  inflating: dataset_signature_final/Dataset/dataset2/forge/02101011.png  \n",
            "  inflating: dataset_signature_final/Dataset/dataset2/forge/02101012.png  \n",
            "  inflating: dataset_signature_final/Dataset/dataset2/forge/02102003.png  \n",
            "  inflating: dataset_signature_final/Dataset/dataset2/forge/02102004.png  \n",
            "  inflating: dataset_signature_final/Dataset/dataset2/forge/02102005.png  \n",
            "  inflating: dataset_signature_final/Dataset/dataset2/forge/02102006.png  \n",
            "  inflating: dataset_signature_final/Dataset/dataset2/forge/02102007.png  \n",
            "  inflating: dataset_signature_final/Dataset/dataset2/forge/02102008.png  \n",
            "  inflating: dataset_signature_final/Dataset/dataset2/forge/02102009.png  \n",
            "  inflating: dataset_signature_final/Dataset/dataset2/forge/02102011.png  \n",
            "  inflating: dataset_signature_final/Dataset/dataset2/forge/02102012.png  \n",
            "  inflating: dataset_signature_final/Dataset/dataset2/forge/02103003.png  \n",
            "  inflating: dataset_signature_final/Dataset/dataset2/forge/02103004.png  \n",
            "  inflating: dataset_signature_final/Dataset/dataset2/forge/02103005.png  \n",
            "  inflating: dataset_signature_final/Dataset/dataset2/forge/02103006.png  \n",
            "  inflating: dataset_signature_final/Dataset/dataset2/forge/02103007.png  \n",
            "  inflating: dataset_signature_final/Dataset/dataset2/forge/02103008.png  \n",
            "  inflating: dataset_signature_final/Dataset/dataset2/forge/02103009.png  \n",
            "  inflating: dataset_signature_final/Dataset/dataset2/forge/02103011.png  \n",
            "  inflating: dataset_signature_final/Dataset/dataset2/forge/02103012.png  \n",
            "  inflating: dataset_signature_final/Dataset/dataset2/forge/02104003.png  \n",
            "  inflating: dataset_signature_final/Dataset/dataset2/forge/02104004.png  \n",
            "  inflating: dataset_signature_final/Dataset/dataset2/forge/02104005.png  \n",
            "  inflating: dataset_signature_final/Dataset/dataset2/forge/02104006.png  \n",
            "  inflating: dataset_signature_final/Dataset/dataset2/forge/02104007.png  \n",
            "  inflating: dataset_signature_final/Dataset/dataset2/forge/02104008.png  \n",
            "  inflating: dataset_signature_final/Dataset/dataset2/forge/02104009.png  \n",
            "  inflating: dataset_signature_final/Dataset/dataset2/forge/02104011.png  \n",
            "  inflating: dataset_signature_final/Dataset/dataset2/forge/02104012.png  \n",
            "  inflating: dataset_signature_final/Dataset/dataset2/forge/02105003.png  \n",
            "  inflating: dataset_signature_final/Dataset/dataset2/forge/02105004.png  \n",
            "  inflating: dataset_signature_final/Dataset/dataset2/forge/02105005.png  \n",
            "  inflating: dataset_signature_final/Dataset/dataset2/forge/02105006.png  \n",
            "  inflating: dataset_signature_final/Dataset/dataset2/forge/02105007.png  \n",
            "  inflating: dataset_signature_final/Dataset/dataset2/forge/02105008.png  \n",
            "  inflating: dataset_signature_final/Dataset/dataset2/forge/02105009.png  \n",
            "  inflating: dataset_signature_final/Dataset/dataset2/forge/02105011.png  \n",
            "  inflating: dataset_signature_final/Dataset/dataset2/forge/02105012.png  \n",
            "  inflating: dataset_signature_final/Dataset/dataset2/forge/02201001.png  \n",
            "  inflating: dataset_signature_final/Dataset/dataset2/forge/02201002.png  \n",
            "  inflating: dataset_signature_final/Dataset/dataset2/forge/02201010.png  \n",
            "  inflating: dataset_signature_final/Dataset/dataset2/forge/02202001.png  \n",
            "  inflating: dataset_signature_final/Dataset/dataset2/forge/02202002.png  \n",
            "  inflating: dataset_signature_final/Dataset/dataset2/forge/02202010.png  \n",
            "  inflating: dataset_signature_final/Dataset/dataset2/forge/02203001.png  \n",
            "  inflating: dataset_signature_final/Dataset/dataset2/forge/02203002.png  \n",
            "  inflating: dataset_signature_final/Dataset/dataset2/forge/02203010.png  \n",
            "  inflating: dataset_signature_final/Dataset/dataset2/forge/02204001.png  \n",
            "  inflating: dataset_signature_final/Dataset/dataset2/forge/02204002.png  \n",
            "  inflating: dataset_signature_final/Dataset/dataset2/forge/02204010.png  \n",
            "  inflating: dataset_signature_final/Dataset/dataset2/forge/02205001.png  \n",
            "  inflating: dataset_signature_final/Dataset/dataset2/forge/02205002.png  \n",
            "  inflating: dataset_signature_final/Dataset/dataset2/forge/02205010.png  \n",
            "  inflating: dataset_signature_final/Dataset/dataset2/real/00101001.png  \n",
            "  inflating: dataset_signature_final/Dataset/dataset2/real/00102001.png  \n",
            "  inflating: dataset_signature_final/Dataset/dataset2/real/00103001.png  \n",
            "  inflating: dataset_signature_final/Dataset/dataset2/real/00104001.png  \n",
            "  inflating: dataset_signature_final/Dataset/dataset2/real/00105001.png  \n",
            "  inflating: dataset_signature_final/Dataset/dataset2/real/00201002.png  \n",
            "  inflating: dataset_signature_final/Dataset/dataset2/real/00202002.png  \n",
            "  inflating: dataset_signature_final/Dataset/dataset2/real/00203002.png  \n",
            "  inflating: dataset_signature_final/Dataset/dataset2/real/00204002.png  \n",
            "  inflating: dataset_signature_final/Dataset/dataset2/real/00205002.png  \n",
            "  inflating: dataset_signature_final/Dataset/dataset2/real/00301003.png  \n",
            "  inflating: dataset_signature_final/Dataset/dataset2/real/00302003.png  \n",
            "  inflating: dataset_signature_final/Dataset/dataset2/real/00303003.png  \n",
            "  inflating: dataset_signature_final/Dataset/dataset2/real/00304003.png  \n",
            "  inflating: dataset_signature_final/Dataset/dataset2/real/00305003.png  \n",
            "  inflating: dataset_signature_final/Dataset/dataset2/real/00401004.png  \n",
            "  inflating: dataset_signature_final/Dataset/dataset2/real/00402004.png  \n",
            "  inflating: dataset_signature_final/Dataset/dataset2/real/00403004.png  \n",
            "  inflating: dataset_signature_final/Dataset/dataset2/real/00404004.png  \n",
            "  inflating: dataset_signature_final/Dataset/dataset2/real/00405004.png  \n",
            "  inflating: dataset_signature_final/Dataset/dataset2/real/00501005.png  \n",
            "  inflating: dataset_signature_final/Dataset/dataset2/real/00502005.png  \n",
            "  inflating: dataset_signature_final/Dataset/dataset2/real/00503005.png  \n",
            "  inflating: dataset_signature_final/Dataset/dataset2/real/00504005.png  \n",
            "  inflating: dataset_signature_final/Dataset/dataset2/real/00505005.png  \n",
            "  inflating: dataset_signature_final/Dataset/dataset2/real/00601006.png  \n",
            "  inflating: dataset_signature_final/Dataset/dataset2/real/00602006.png  \n",
            "  inflating: dataset_signature_final/Dataset/dataset2/real/00603006.png  \n",
            "  inflating: dataset_signature_final/Dataset/dataset2/real/00604006.png  \n",
            "  inflating: dataset_signature_final/Dataset/dataset2/real/00605006.png  \n",
            "  inflating: dataset_signature_final/Dataset/dataset2/real/00701007.png  \n",
            "  inflating: dataset_signature_final/Dataset/dataset2/real/00702007.png  \n",
            "  inflating: dataset_signature_final/Dataset/dataset2/real/00703007.png  \n",
            "  inflating: dataset_signature_final/Dataset/dataset2/real/00704007.png  \n",
            "  inflating: dataset_signature_final/Dataset/dataset2/real/00705007.png  \n",
            "  inflating: dataset_signature_final/Dataset/dataset2/real/00801008.png  \n",
            "  inflating: dataset_signature_final/Dataset/dataset2/real/00802008.png  \n",
            "  inflating: dataset_signature_final/Dataset/dataset2/real/00803008.png  \n",
            "  inflating: dataset_signature_final/Dataset/dataset2/real/00804008.png  \n",
            "  inflating: dataset_signature_final/Dataset/dataset2/real/00805008.png  \n",
            "  inflating: dataset_signature_final/Dataset/dataset2/real/00901009.png  \n",
            "  inflating: dataset_signature_final/Dataset/dataset2/real/00902009.png  \n",
            "  inflating: dataset_signature_final/Dataset/dataset2/real/00903009.png  \n",
            "  inflating: dataset_signature_final/Dataset/dataset2/real/00904009.png  \n",
            "  inflating: dataset_signature_final/Dataset/dataset2/real/00905009.png  \n",
            "  inflating: dataset_signature_final/Dataset/dataset2/real/01001010.png  \n",
            "  inflating: dataset_signature_final/Dataset/dataset2/real/01002010.png  \n",
            "  inflating: dataset_signature_final/Dataset/dataset2/real/01003010.png  \n",
            "  inflating: dataset_signature_final/Dataset/dataset2/real/01004010.png  \n",
            "  inflating: dataset_signature_final/Dataset/dataset2/real/01005010.png  \n",
            "  inflating: dataset_signature_final/Dataset/dataset2/real/01101011.png  \n",
            "  inflating: dataset_signature_final/Dataset/dataset2/real/01102011.png  \n",
            "  inflating: dataset_signature_final/Dataset/dataset2/real/01103011.png  \n",
            "  inflating: dataset_signature_final/Dataset/dataset2/real/01104011.png  \n",
            "  inflating: dataset_signature_final/Dataset/dataset2/real/01105011.png  \n",
            "  inflating: dataset_signature_final/Dataset/dataset2/real/01201012.png  \n",
            "  inflating: dataset_signature_final/Dataset/dataset2/real/01202012.png  \n",
            "  inflating: dataset_signature_final/Dataset/dataset2/real/01203012.png  \n",
            "  inflating: dataset_signature_final/Dataset/dataset2/real/01204012.png  \n",
            "  inflating: dataset_signature_final/Dataset/dataset2/real/01205012.png  \n",
            "  inflating: dataset_signature_final/Dataset/dataset3/forge/00101014.png  \n",
            "  inflating: dataset_signature_final/Dataset/dataset3/forge/00101019.png  \n",
            "  inflating: dataset_signature_final/Dataset/dataset3/forge/00101025.png  \n",
            "  inflating: dataset_signature_final/Dataset/dataset3/forge/00101026.png  \n",
            "  inflating: dataset_signature_final/Dataset/dataset3/forge/00101027.png  \n",
            "  inflating: dataset_signature_final/Dataset/dataset3/forge/00101028.png  \n",
            "  inflating: dataset_signature_final/Dataset/dataset3/forge/00101029.png  \n",
            "  inflating: dataset_signature_final/Dataset/dataset3/forge/00101030.png  \n",
            "  inflating: dataset_signature_final/Dataset/dataset3/forge/00102014.png  \n",
            "  inflating: dataset_signature_final/Dataset/dataset3/forge/00102019.png  \n",
            "  inflating: dataset_signature_final/Dataset/dataset3/forge/00102025.png  \n",
            "  inflating: dataset_signature_final/Dataset/dataset3/forge/00102026.png  \n",
            "  inflating: dataset_signature_final/Dataset/dataset3/forge/00102027.png  \n",
            "  inflating: dataset_signature_final/Dataset/dataset3/forge/00102028.png  \n",
            "  inflating: dataset_signature_final/Dataset/dataset3/forge/00102029.png  \n",
            "  inflating: dataset_signature_final/Dataset/dataset3/forge/00102030.png  \n",
            "  inflating: dataset_signature_final/Dataset/dataset3/forge/00103014.png  \n",
            "  inflating: dataset_signature_final/Dataset/dataset3/forge/00103019.png  \n",
            "  inflating: dataset_signature_final/Dataset/dataset3/forge/00103025.png  \n",
            "  inflating: dataset_signature_final/Dataset/dataset3/forge/00103026.png  \n",
            "  inflating: dataset_signature_final/Dataset/dataset3/forge/00103027.png  \n",
            "  inflating: dataset_signature_final/Dataset/dataset3/forge/00103028.png  \n",
            "  inflating: dataset_signature_final/Dataset/dataset3/forge/00103029.png  \n",
            "  inflating: dataset_signature_final/Dataset/dataset3/forge/00103030.png  \n",
            "  inflating: dataset_signature_final/Dataset/dataset3/forge/00104014.png  \n",
            "  inflating: dataset_signature_final/Dataset/dataset3/forge/00104019.png  \n",
            "  inflating: dataset_signature_final/Dataset/dataset3/forge/00104025.png  \n",
            "  inflating: dataset_signature_final/Dataset/dataset3/forge/00104026.png  \n",
            "  inflating: dataset_signature_final/Dataset/dataset3/forge/00104027.png  \n",
            "  inflating: dataset_signature_final/Dataset/dataset3/forge/00104028.png  \n",
            "  inflating: dataset_signature_final/Dataset/dataset3/forge/00104029.png  \n",
            "  inflating: dataset_signature_final/Dataset/dataset3/forge/00104030.png  \n",
            "  inflating: dataset_signature_final/Dataset/dataset3/forge/00105014.png  \n",
            "  inflating: dataset_signature_final/Dataset/dataset3/forge/00105019.png  \n",
            "  inflating: dataset_signature_final/Dataset/dataset3/forge/00105025.png  \n",
            "  inflating: dataset_signature_final/Dataset/dataset3/forge/00105026.png  \n",
            "  inflating: dataset_signature_final/Dataset/dataset3/forge/00105027.png  \n",
            "  inflating: dataset_signature_final/Dataset/dataset3/forge/00105028.png  \n",
            "  inflating: dataset_signature_final/Dataset/dataset3/forge/00105029.png  \n",
            "  inflating: dataset_signature_final/Dataset/dataset3/forge/00105030.png  \n",
            "  inflating: dataset_signature_final/Dataset/dataset3/forge/00301001.png  \n",
            "  inflating: dataset_signature_final/Dataset/dataset3/forge/00301002.png  \n",
            "  inflating: dataset_signature_final/Dataset/dataset3/forge/00301005.png  \n",
            "  inflating: dataset_signature_final/Dataset/dataset3/forge/00301009.png  \n",
            "  inflating: dataset_signature_final/Dataset/dataset3/forge/00301018.png  \n",
            "  inflating: dataset_signature_final/Dataset/dataset3/forge/00302001.png  \n",
            "  inflating: dataset_signature_final/Dataset/dataset3/forge/00302002.png  \n",
            "  inflating: dataset_signature_final/Dataset/dataset3/forge/00302005.png  \n",
            "  inflating: dataset_signature_final/Dataset/dataset3/forge/00302009.png  \n",
            "  inflating: dataset_signature_final/Dataset/dataset3/forge/00302018.png  \n",
            "  inflating: dataset_signature_final/Dataset/dataset3/forge/00303001.png  \n",
            "  inflating: dataset_signature_final/Dataset/dataset3/forge/00303002.png  \n",
            "  inflating: dataset_signature_final/Dataset/dataset3/forge/00303005.png  \n",
            "  inflating: dataset_signature_final/Dataset/dataset3/forge/00303009.png  \n",
            "  inflating: dataset_signature_final/Dataset/dataset3/forge/00303018.png  \n",
            "  inflating: dataset_signature_final/Dataset/dataset3/forge/00304001.png  \n",
            "  inflating: dataset_signature_final/Dataset/dataset3/forge/00304002.png  \n",
            "  inflating: dataset_signature_final/Dataset/dataset3/forge/00304005.png  \n",
            "  inflating: dataset_signature_final/Dataset/dataset3/forge/00304009.png  \n",
            "  inflating: dataset_signature_final/Dataset/dataset3/forge/00304018.png  \n",
            "  inflating: dataset_signature_final/Dataset/dataset3/forge/00305001.png  \n",
            "  inflating: dataset_signature_final/Dataset/dataset3/forge/00305002.png  \n",
            "  inflating: dataset_signature_final/Dataset/dataset3/forge/00305005.png  \n",
            "  inflating: dataset_signature_final/Dataset/dataset3/forge/00305009.png  \n",
            "  inflating: dataset_signature_final/Dataset/dataset3/forge/00305018.png  \n",
            "  inflating: dataset_signature_final/Dataset/dataset3/forge/00401003.png  \n",
            "  inflating: dataset_signature_final/Dataset/dataset3/forge/00401007.png  \n",
            "  inflating: dataset_signature_final/Dataset/dataset3/forge/00401013.png  \n",
            "  inflating: dataset_signature_final/Dataset/dataset3/forge/00401024.png  \n",
            "  inflating: dataset_signature_final/Dataset/dataset3/forge/00402003.png  \n",
            "  inflating: dataset_signature_final/Dataset/dataset3/forge/00402007.png  \n",
            "  inflating: dataset_signature_final/Dataset/dataset3/forge/00402013.png  \n",
            "  inflating: dataset_signature_final/Dataset/dataset3/forge/00402024.png  \n",
            "  inflating: dataset_signature_final/Dataset/dataset3/forge/00403003.png  \n",
            "  inflating: dataset_signature_final/Dataset/dataset3/forge/00403007.png  \n",
            "  inflating: dataset_signature_final/Dataset/dataset3/forge/00403013.png  \n",
            "  inflating: dataset_signature_final/Dataset/dataset3/forge/00403024.png  \n",
            "  inflating: dataset_signature_final/Dataset/dataset3/forge/00404003.png  \n",
            "  inflating: dataset_signature_final/Dataset/dataset3/forge/00404007.png  \n",
            "  inflating: dataset_signature_final/Dataset/dataset3/forge/00404013.png  \n",
            "  inflating: dataset_signature_final/Dataset/dataset3/forge/00404024.png  \n",
            "  inflating: dataset_signature_final/Dataset/dataset3/forge/00405003.png  \n",
            "  inflating: dataset_signature_final/Dataset/dataset3/forge/00405007.png  \n",
            "  inflating: dataset_signature_final/Dataset/dataset3/forge/00405013.png  \n",
            "  inflating: dataset_signature_final/Dataset/dataset3/forge/00405024.png  \n",
            "  inflating: dataset_signature_final/Dataset/dataset3/forge/00501015.png  \n",
            "  inflating: dataset_signature_final/Dataset/dataset3/forge/00501022.png  \n",
            "  inflating: dataset_signature_final/Dataset/dataset3/forge/00502015.png  \n",
            "  inflating: dataset_signature_final/Dataset/dataset3/forge/00502022.png  \n",
            "  inflating: dataset_signature_final/Dataset/dataset3/forge/00503015.png  \n",
            "  inflating: dataset_signature_final/Dataset/dataset3/forge/00503022.png  \n",
            "  inflating: dataset_signature_final/Dataset/dataset3/forge/00504015.png  \n",
            "  inflating: dataset_signature_final/Dataset/dataset3/forge/00504022.png  \n",
            "  inflating: dataset_signature_final/Dataset/dataset3/forge/00505015.png  \n",
            "  inflating: dataset_signature_final/Dataset/dataset3/forge/00505022.png  \n",
            "  inflating: dataset_signature_final/Dataset/dataset3/forge/00701011.png  \n",
            "  inflating: dataset_signature_final/Dataset/dataset3/forge/00701023.png  \n",
            "  inflating: dataset_signature_final/Dataset/dataset3/forge/00702011.png  \n",
            "  inflating: dataset_signature_final/Dataset/dataset3/forge/00702023.png  \n",
            "  inflating: dataset_signature_final/Dataset/dataset3/forge/00703011.png  \n",
            "  inflating: dataset_signature_final/Dataset/dataset3/forge/00703023.png  \n",
            "  inflating: dataset_signature_final/Dataset/dataset3/forge/00704011.png  \n",
            "  inflating: dataset_signature_final/Dataset/dataset3/forge/00704023.png  \n",
            "  inflating: dataset_signature_final/Dataset/dataset3/forge/00705011.png  \n",
            "  inflating: dataset_signature_final/Dataset/dataset3/forge/00705023.png  \n",
            "  inflating: dataset_signature_final/Dataset/dataset3/forge/01101012.png  \n",
            "  inflating: dataset_signature_final/Dataset/dataset3/forge/01101016.png  \n",
            "  inflating: dataset_signature_final/Dataset/dataset3/forge/01102012.png  \n",
            "  inflating: dataset_signature_final/Dataset/dataset3/forge/01102016.png  \n",
            "  inflating: dataset_signature_final/Dataset/dataset3/forge/01103012.png  \n",
            "  inflating: dataset_signature_final/Dataset/dataset3/forge/01103016.png  \n",
            "  inflating: dataset_signature_final/Dataset/dataset3/forge/01104012.png  \n",
            "  inflating: dataset_signature_final/Dataset/dataset3/forge/01104016.png  \n",
            "  inflating: dataset_signature_final/Dataset/dataset3/forge/01105012.png  \n",
            "  inflating: dataset_signature_final/Dataset/dataset3/forge/01105016.png  \n",
            "  inflating: dataset_signature_final/Dataset/dataset3/forge/01201021.png  \n",
            "  inflating: dataset_signature_final/Dataset/dataset3/forge/01202021.png  \n",
            "  inflating: dataset_signature_final/Dataset/dataset3/forge/01203021.png  \n",
            "  inflating: dataset_signature_final/Dataset/dataset3/forge/01204021.png  \n",
            "  inflating: dataset_signature_final/Dataset/dataset3/forge/01205021.png  \n",
            "  inflating: dataset_signature_final/Dataset/dataset3/forge/01301017.png  \n",
            "  inflating: dataset_signature_final/Dataset/dataset3/forge/01302017.png  \n",
            "  inflating: dataset_signature_final/Dataset/dataset3/forge/01303017.png  \n",
            "  inflating: dataset_signature_final/Dataset/dataset3/forge/01304017.png  \n",
            "  inflating: dataset_signature_final/Dataset/dataset3/forge/01305017.png  \n",
            "  inflating: dataset_signature_final/Dataset/dataset3/forge/01701020.png  \n",
            "  inflating: dataset_signature_final/Dataset/dataset3/forge/01702020.png  \n",
            "  inflating: dataset_signature_final/Dataset/dataset3/forge/01703020.png  \n",
            "  inflating: dataset_signature_final/Dataset/dataset3/forge/01704020.png  \n",
            "  inflating: dataset_signature_final/Dataset/dataset3/forge/01705020.png  \n",
            "  inflating: dataset_signature_final/Dataset/dataset3/forge/02301008.png  \n",
            "  inflating: dataset_signature_final/Dataset/dataset3/forge/02303008.png  \n",
            "  inflating: dataset_signature_final/Dataset/dataset3/forge/02304008.png  \n",
            "  inflating: dataset_signature_final/Dataset/dataset3/forge/02305008.png  \n",
            "  inflating: dataset_signature_final/Dataset/dataset3/forge/02306008.png  \n",
            "  inflating: dataset_signature_final/Dataset/dataset3/forge/02501010.png  \n",
            "  inflating: dataset_signature_final/Dataset/dataset3/forge/02502010.png  \n",
            "  inflating: dataset_signature_final/Dataset/dataset3/forge/02503010.png  \n",
            "  inflating: dataset_signature_final/Dataset/dataset3/forge/02504010.png  \n",
            "  inflating: dataset_signature_final/Dataset/dataset3/forge/02505009.png  \n",
            "  inflating: dataset_signature_final/Dataset/dataset3/forge/03301006.png  \n",
            "  inflating: dataset_signature_final/Dataset/dataset3/forge/03302006.png  \n",
            "  inflating: dataset_signature_final/Dataset/dataset3/forge/03303006.png  \n",
            "  inflating: dataset_signature_final/Dataset/dataset3/forge/03304006.png  \n",
            "  inflating: dataset_signature_final/Dataset/dataset3/forge/03305006.png  \n",
            "  inflating: dataset_signature_final/Dataset/dataset3/forge/08801004.png  \n",
            "  inflating: dataset_signature_final/Dataset/dataset3/forge/08802004.png  \n",
            "  inflating: dataset_signature_final/Dataset/dataset3/forge/08803004.png  \n",
            "  inflating: dataset_signature_final/Dataset/dataset3/forge/08804004.png  \n",
            "  inflating: dataset_signature_final/Dataset/dataset3/forge/08805004.png  \n",
            "  inflating: dataset_signature_final/Dataset/dataset3/real/00101001.png  \n",
            "  inflating: dataset_signature_final/Dataset/dataset3/real/00102001.png  \n",
            "  inflating: dataset_signature_final/Dataset/dataset3/real/00103001.png  \n",
            "  inflating: dataset_signature_final/Dataset/dataset3/real/00104001.png  \n",
            "  inflating: dataset_signature_final/Dataset/dataset3/real/00105001.png  \n",
            "  inflating: dataset_signature_final/Dataset/dataset3/real/00201002.png  \n",
            "  inflating: dataset_signature_final/Dataset/dataset3/real/00202002.png  \n",
            "  inflating: dataset_signature_final/Dataset/dataset3/real/00203002.png  \n",
            "  inflating: dataset_signature_final/Dataset/dataset3/real/00204002.png  \n",
            "  inflating: dataset_signature_final/Dataset/dataset3/real/00205002.png  \n",
            "  inflating: dataset_signature_final/Dataset/dataset3/real/00301003.png  \n",
            "  inflating: dataset_signature_final/Dataset/dataset3/real/00302003.png  \n",
            "  inflating: dataset_signature_final/Dataset/dataset3/real/00303003.png  \n",
            "  inflating: dataset_signature_final/Dataset/dataset3/real/00304003.png  \n",
            "  inflating: dataset_signature_final/Dataset/dataset3/real/00305003.png  \n",
            "  inflating: dataset_signature_final/Dataset/dataset3/real/00401004.png  \n",
            "  inflating: dataset_signature_final/Dataset/dataset3/real/00402004.png  \n",
            "  inflating: dataset_signature_final/Dataset/dataset3/real/00403004.png  \n",
            "  inflating: dataset_signature_final/Dataset/dataset3/real/00404004.png  \n",
            "  inflating: dataset_signature_final/Dataset/dataset3/real/00405004.png  \n",
            "  inflating: dataset_signature_final/Dataset/dataset3/real/00501005.png  \n",
            "  inflating: dataset_signature_final/Dataset/dataset3/real/00502005.png  \n",
            "  inflating: dataset_signature_final/Dataset/dataset3/real/00503005.png  \n",
            "  inflating: dataset_signature_final/Dataset/dataset3/real/00504005.png  \n",
            "  inflating: dataset_signature_final/Dataset/dataset3/real/00505005.png  \n",
            "  inflating: dataset_signature_final/Dataset/dataset3/real/00601006.png  \n",
            "  inflating: dataset_signature_final/Dataset/dataset3/real/00602006.png  \n",
            "  inflating: dataset_signature_final/Dataset/dataset3/real/00603006.png  \n",
            "  inflating: dataset_signature_final/Dataset/dataset3/real/00604006.png  \n",
            "  inflating: dataset_signature_final/Dataset/dataset3/real/00605006.png  \n",
            "  inflating: dataset_signature_final/Dataset/dataset3/real/00701007.png  \n",
            "  inflating: dataset_signature_final/Dataset/dataset3/real/00702007.png  \n",
            "  inflating: dataset_signature_final/Dataset/dataset3/real/00703007.png  \n",
            "  inflating: dataset_signature_final/Dataset/dataset3/real/00704007.png  \n",
            "  inflating: dataset_signature_final/Dataset/dataset3/real/00705007.png  \n",
            "  inflating: dataset_signature_final/Dataset/dataset3/real/00801008.png  \n",
            "  inflating: dataset_signature_final/Dataset/dataset3/real/00802008.png  \n",
            "  inflating: dataset_signature_final/Dataset/dataset3/real/00803008.png  \n",
            "  inflating: dataset_signature_final/Dataset/dataset3/real/00804008.png  \n",
            "  inflating: dataset_signature_final/Dataset/dataset3/real/00805008.png  \n",
            "  inflating: dataset_signature_final/Dataset/dataset3/real/00901009.png  \n",
            "  inflating: dataset_signature_final/Dataset/dataset3/real/00902009.png  \n",
            "  inflating: dataset_signature_final/Dataset/dataset3/real/00903009.png  \n",
            "  inflating: dataset_signature_final/Dataset/dataset3/real/00904009.png  \n",
            "  inflating: dataset_signature_final/Dataset/dataset3/real/00905009.png  \n",
            "  inflating: dataset_signature_final/Dataset/dataset3/real/01001010.png  \n",
            "  inflating: dataset_signature_final/Dataset/dataset3/real/01002010.png  \n",
            "  inflating: dataset_signature_final/Dataset/dataset3/real/01003010.png  \n",
            "  inflating: dataset_signature_final/Dataset/dataset3/real/01004010.png  \n",
            "  inflating: dataset_signature_final/Dataset/dataset3/real/01005010.png  \n",
            "  inflating: dataset_signature_final/Dataset/dataset3/real/01101011.png  \n",
            "  inflating: dataset_signature_final/Dataset/dataset3/real/01102011.png  \n",
            "  inflating: dataset_signature_final/Dataset/dataset3/real/01103011.png  \n",
            "  inflating: dataset_signature_final/Dataset/dataset3/real/01104011.png  \n",
            "  inflating: dataset_signature_final/Dataset/dataset3/real/01105011.png  \n",
            "  inflating: dataset_signature_final/Dataset/dataset3/real/01201012.png  \n",
            "  inflating: dataset_signature_final/Dataset/dataset3/real/01202012.png  \n",
            "  inflating: dataset_signature_final/Dataset/dataset3/real/01203012.png  \n",
            "  inflating: dataset_signature_final/Dataset/dataset3/real/01204012.png  \n",
            "  inflating: dataset_signature_final/Dataset/dataset3/real/01205012.png  \n",
            "  inflating: dataset_signature_final/Dataset/dataset3/real/01301013.png  \n",
            "  inflating: dataset_signature_final/Dataset/dataset3/real/01302013.png  \n",
            "  inflating: dataset_signature_final/Dataset/dataset3/real/01303013.png  \n",
            "  inflating: dataset_signature_final/Dataset/dataset3/real/01304013.png  \n",
            "  inflating: dataset_signature_final/Dataset/dataset3/real/01305013.png  \n",
            "  inflating: dataset_signature_final/Dataset/dataset3/real/01401014.png  \n",
            "  inflating: dataset_signature_final/Dataset/dataset3/real/01402014.png  \n",
            "  inflating: dataset_signature_final/Dataset/dataset3/real/01403014.png  \n",
            "  inflating: dataset_signature_final/Dataset/dataset3/real/01404014.png  \n",
            "  inflating: dataset_signature_final/Dataset/dataset3/real/01405014.png  \n",
            "  inflating: dataset_signature_final/Dataset/dataset3/real/01501015.png  \n",
            "  inflating: dataset_signature_final/Dataset/dataset3/real/01502015.png  \n",
            "  inflating: dataset_signature_final/Dataset/dataset3/real/01503015.png  \n",
            "  inflating: dataset_signature_final/Dataset/dataset3/real/01504015.png  \n",
            "  inflating: dataset_signature_final/Dataset/dataset3/real/01505015.png  \n",
            "  inflating: dataset_signature_final/Dataset/dataset3/real/01601016.png  \n",
            "  inflating: dataset_signature_final/Dataset/dataset3/real/01602016.png  \n",
            "  inflating: dataset_signature_final/Dataset/dataset3/real/01603016.png  \n",
            "  inflating: dataset_signature_final/Dataset/dataset3/real/01604016.png  \n",
            "  inflating: dataset_signature_final/Dataset/dataset3/real/01605016.png  \n",
            "  inflating: dataset_signature_final/Dataset/dataset3/real/01701017.png  \n",
            "  inflating: dataset_signature_final/Dataset/dataset3/real/01702017.png  \n",
            "  inflating: dataset_signature_final/Dataset/dataset3/real/01703017.png  \n",
            "  inflating: dataset_signature_final/Dataset/dataset3/real/01704017.png  \n",
            "  inflating: dataset_signature_final/Dataset/dataset3/real/01705017.png  \n",
            "  inflating: dataset_signature_final/Dataset/dataset3/real/01801018.png  \n",
            "  inflating: dataset_signature_final/Dataset/dataset3/real/01802018.png  \n",
            "  inflating: dataset_signature_final/Dataset/dataset3/real/01803018.png  \n",
            "  inflating: dataset_signature_final/Dataset/dataset3/real/01804018.png  \n",
            "  inflating: dataset_signature_final/Dataset/dataset3/real/01805018.png  \n",
            "  inflating: dataset_signature_final/Dataset/dataset3/real/01901019.png  \n",
            "  inflating: dataset_signature_final/Dataset/dataset3/real/01902019.png  \n",
            "  inflating: dataset_signature_final/Dataset/dataset3/real/01903019.png  \n",
            "  inflating: dataset_signature_final/Dataset/dataset3/real/01904019.png  \n",
            "  inflating: dataset_signature_final/Dataset/dataset3/real/01905019.png  \n",
            "  inflating: dataset_signature_final/Dataset/dataset3/real/02001020.png  \n",
            "  inflating: dataset_signature_final/Dataset/dataset3/real/02002020.png  \n",
            "  inflating: dataset_signature_final/Dataset/dataset3/real/02003020.png  \n",
            "  inflating: dataset_signature_final/Dataset/dataset3/real/02004020.png  \n",
            "  inflating: dataset_signature_final/Dataset/dataset3/real/02005020.png  \n",
            "  inflating: dataset_signature_final/Dataset/dataset3/real/02101021.png  \n",
            "  inflating: dataset_signature_final/Dataset/dataset3/real/02102021.png  \n",
            "  inflating: dataset_signature_final/Dataset/dataset3/real/02103021.png  \n",
            "  inflating: dataset_signature_final/Dataset/dataset3/real/02104021.png  \n",
            "  inflating: dataset_signature_final/Dataset/dataset3/real/02105021.png  \n",
            "  inflating: dataset_signature_final/Dataset/dataset3/real/02201022.png  \n",
            "  inflating: dataset_signature_final/Dataset/dataset3/real/02202022.png  \n",
            "  inflating: dataset_signature_final/Dataset/dataset3/real/02203022.png  \n",
            "  inflating: dataset_signature_final/Dataset/dataset3/real/02204022.png  \n",
            "  inflating: dataset_signature_final/Dataset/dataset3/real/02205022.png  \n",
            "  inflating: dataset_signature_final/Dataset/dataset3/real/02301023.png  \n",
            "  inflating: dataset_signature_final/Dataset/dataset3/real/02302023.png  \n",
            "  inflating: dataset_signature_final/Dataset/dataset3/real/02303023.png  \n",
            "  inflating: dataset_signature_final/Dataset/dataset3/real/02304023.png  \n",
            "  inflating: dataset_signature_final/Dataset/dataset3/real/02305023.png  \n",
            "  inflating: dataset_signature_final/Dataset/dataset3/real/02401024.png  \n",
            "  inflating: dataset_signature_final/Dataset/dataset3/real/02402024.png  \n",
            "  inflating: dataset_signature_final/Dataset/dataset3/real/02403024.png  \n",
            "  inflating: dataset_signature_final/Dataset/dataset3/real/02404024.png  \n",
            "  inflating: dataset_signature_final/Dataset/dataset3/real/02405024.png  \n",
            "  inflating: dataset_signature_final/Dataset/dataset3/real/02501025.png  \n",
            "  inflating: dataset_signature_final/Dataset/dataset3/real/02502025.png  \n",
            "  inflating: dataset_signature_final/Dataset/dataset3/real/02503025.png  \n",
            "  inflating: dataset_signature_final/Dataset/dataset3/real/02504025.png  \n",
            "  inflating: dataset_signature_final/Dataset/dataset3/real/02505025.png  \n",
            "  inflating: dataset_signature_final/Dataset/dataset3/real/02601026.png  \n",
            "  inflating: dataset_signature_final/Dataset/dataset3/real/02602026.png  \n",
            "  inflating: dataset_signature_final/Dataset/dataset3/real/02603026.png  \n",
            "  inflating: dataset_signature_final/Dataset/dataset3/real/02604026.png  \n",
            "  inflating: dataset_signature_final/Dataset/dataset3/real/02605026.png  \n",
            "  inflating: dataset_signature_final/Dataset/dataset3/real/02701027.png  \n",
            "  inflating: dataset_signature_final/Dataset/dataset3/real/02702027.png  \n",
            "  inflating: dataset_signature_final/Dataset/dataset3/real/02703027.png  \n",
            "  inflating: dataset_signature_final/Dataset/dataset3/real/02704027.png  \n",
            "  inflating: dataset_signature_final/Dataset/dataset3/real/02705027.png  \n",
            "  inflating: dataset_signature_final/Dataset/dataset3/real/02801028.png  \n",
            "  inflating: dataset_signature_final/Dataset/dataset3/real/02802028.png  \n",
            "  inflating: dataset_signature_final/Dataset/dataset3/real/02803028.png  \n",
            "  inflating: dataset_signature_final/Dataset/dataset3/real/02804028.png  \n",
            "  inflating: dataset_signature_final/Dataset/dataset3/real/02805028.png  \n",
            "  inflating: dataset_signature_final/Dataset/dataset3/real/02901029.png  \n",
            "  inflating: dataset_signature_final/Dataset/dataset3/real/02902029.png  \n",
            "  inflating: dataset_signature_final/Dataset/dataset3/real/02903029.png  \n",
            "  inflating: dataset_signature_final/Dataset/dataset3/real/02904029.png  \n",
            "  inflating: dataset_signature_final/Dataset/dataset3/real/02905029.png  \n",
            "  inflating: dataset_signature_final/Dataset/dataset3/real/03001030.png  \n",
            "  inflating: dataset_signature_final/Dataset/dataset3/real/03002030.png  \n",
            "  inflating: dataset_signature_final/Dataset/dataset3/real/03003030.png  \n",
            "  inflating: dataset_signature_final/Dataset/dataset3/real/03004030.png  \n",
            "  inflating: dataset_signature_final/Dataset/dataset3/real/03005030.png  \n",
            "  inflating: dataset_signature_final/Dataset/dataset4/forge/00301002.png  \n",
            "  inflating: dataset_signature_final/Dataset/dataset4/forge/00301035.png  \n",
            "  inflating: dataset_signature_final/Dataset/dataset4/forge/00301046.png  \n",
            "  inflating: dataset_signature_final/Dataset/dataset4/forge/00302002.png  \n",
            "  inflating: dataset_signature_final/Dataset/dataset4/forge/00302035.png  \n",
            "  inflating: dataset_signature_final/Dataset/dataset4/forge/00302046.png  \n",
            "  inflating: dataset_signature_final/Dataset/dataset4/forge/00303002.png  \n",
            "  inflating: dataset_signature_final/Dataset/dataset4/forge/00303035.png  \n",
            "  inflating: dataset_signature_final/Dataset/dataset4/forge/00303046.png  \n",
            "  inflating: dataset_signature_final/Dataset/dataset4/forge/00304002.png  \n",
            "  inflating: dataset_signature_final/Dataset/dataset4/forge/00304035.png  \n",
            "  inflating: dataset_signature_final/Dataset/dataset4/forge/00304046.png  \n",
            "  inflating: dataset_signature_final/Dataset/dataset4/forge/00305002.png  \n",
            "  inflating: dataset_signature_final/Dataset/dataset4/forge/00305035.png  \n",
            "  inflating: dataset_signature_final/Dataset/dataset4/forge/00305046.png  \n",
            "  inflating: dataset_signature_final/Dataset/dataset4/forge/00401024.png  \n",
            "  inflating: dataset_signature_final/Dataset/dataset4/forge/00401044.png  \n",
            "  inflating: dataset_signature_final/Dataset/dataset4/forge/00401063.png  \n",
            "  inflating: dataset_signature_final/Dataset/dataset4/forge/00401092.png  \n",
            "  inflating: dataset_signature_final/Dataset/dataset4/forge/00402024.png  \n",
            "  inflating: dataset_signature_final/Dataset/dataset4/forge/00402044.png  \n",
            "  inflating: dataset_signature_final/Dataset/dataset4/forge/00402063.png  \n",
            "  inflating: dataset_signature_final/Dataset/dataset4/forge/00402092.png  \n",
            "  inflating: dataset_signature_final/Dataset/dataset4/forge/00403024.png  \n",
            "  inflating: dataset_signature_final/Dataset/dataset4/forge/00403044.png  \n",
            "  inflating: dataset_signature_final/Dataset/dataset4/forge/00403063.png  \n",
            "  inflating: dataset_signature_final/Dataset/dataset4/forge/00403092.png  \n",
            "  inflating: dataset_signature_final/Dataset/dataset4/forge/00404024.png  \n",
            "  inflating: dataset_signature_final/Dataset/dataset4/forge/00404044.png  \n",
            "  inflating: dataset_signature_final/Dataset/dataset4/forge/00404063.png  \n",
            "  inflating: dataset_signature_final/Dataset/dataset4/forge/00404092.png  \n",
            "  inflating: dataset_signature_final/Dataset/dataset4/forge/00405024.png  \n",
            "  inflating: dataset_signature_final/Dataset/dataset4/forge/00405044.png  \n",
            "  inflating: dataset_signature_final/Dataset/dataset4/forge/00405063.png  \n",
            "  inflating: dataset_signature_final/Dataset/dataset4/forge/00405092.png  \n",
            "  inflating: dataset_signature_final/Dataset/dataset4/forge/01601077.png  \n",
            "  inflating: dataset_signature_final/Dataset/dataset4/forge/01601089.png  \n",
            "  inflating: dataset_signature_final/Dataset/dataset4/forge/01602033.png  \n",
            "  inflating: dataset_signature_final/Dataset/dataset4/forge/01602077.png  \n",
            "  inflating: dataset_signature_final/Dataset/dataset4/forge/01602089.png  \n",
            "  inflating: dataset_signature_final/Dataset/dataset4/forge/01603033.png  \n",
            "  inflating: dataset_signature_final/Dataset/dataset4/forge/01603077.png  \n",
            "  inflating: dataset_signature_final/Dataset/dataset4/forge/01603089.png  \n",
            "  inflating: dataset_signature_final/Dataset/dataset4/forge/01604033.png  \n",
            "  inflating: dataset_signature_final/Dataset/dataset4/forge/01604077.png  \n",
            "  inflating: dataset_signature_final/Dataset/dataset4/forge/01604089.png  \n",
            "  inflating: dataset_signature_final/Dataset/dataset4/forge/01605033.png  \n",
            "  inflating: dataset_signature_final/Dataset/dataset4/forge/01605077.png  \n",
            "  inflating: dataset_signature_final/Dataset/dataset4/forge/01605089.png  \n",
            "  inflating: dataset_signature_final/Dataset/dataset4/forge/01701033.png  \n",
            "  inflating: dataset_signature_final/Dataset/dataset4/forge/02301008.png  \n",
            "  inflating: dataset_signature_final/Dataset/dataset4/forge/02301070.png  \n",
            "  inflating: dataset_signature_final/Dataset/dataset4/forge/02301093.png  \n",
            "  inflating: dataset_signature_final/Dataset/dataset4/forge/02302008.png  \n",
            "  inflating: dataset_signature_final/Dataset/dataset4/forge/02302070.png  \n",
            "  inflating: dataset_signature_final/Dataset/dataset4/forge/02302093.png  \n",
            "  inflating: dataset_signature_final/Dataset/dataset4/forge/02303008.png  \n",
            "  inflating: dataset_signature_final/Dataset/dataset4/forge/02303070.png  \n",
            "  inflating: dataset_signature_final/Dataset/dataset4/forge/02303093.png  \n",
            "  inflating: dataset_signature_final/Dataset/dataset4/forge/02304008.png  \n",
            "  inflating: dataset_signature_final/Dataset/dataset4/forge/02304070.png  \n",
            "  inflating: dataset_signature_final/Dataset/dataset4/forge/02304093.png  \n",
            "  inflating: dataset_signature_final/Dataset/dataset4/forge/02305008.png  \n",
            "  inflating: dataset_signature_final/Dataset/dataset4/forge/02305070.png  \n",
            "  inflating: dataset_signature_final/Dataset/dataset4/forge/02305093.png  \n",
            "  inflating: dataset_signature_final/Dataset/dataset4/forge/03201084.png  \n",
            "  inflating: dataset_signature_final/Dataset/dataset4/forge/03201085.png  \n",
            "  inflating: dataset_signature_final/Dataset/dataset4/forge/03201086.png  \n",
            "  inflating: dataset_signature_final/Dataset/dataset4/forge/03202084.png  \n",
            "  inflating: dataset_signature_final/Dataset/dataset4/forge/03202085.png  \n",
            "  inflating: dataset_signature_final/Dataset/dataset4/forge/03202086.png  \n",
            "  inflating: dataset_signature_final/Dataset/dataset4/forge/03203084.png  \n",
            "  inflating: dataset_signature_final/Dataset/dataset4/forge/03203085.png  \n",
            "  inflating: dataset_signature_final/Dataset/dataset4/forge/03203086.png  \n",
            "  inflating: dataset_signature_final/Dataset/dataset4/forge/03204084.png  \n",
            "  inflating: dataset_signature_final/Dataset/dataset4/forge/03204085.png  \n",
            "  inflating: dataset_signature_final/Dataset/dataset4/forge/03204086.png  \n",
            "  inflating: dataset_signature_final/Dataset/dataset4/forge/03205084.png  \n",
            "  inflating: dataset_signature_final/Dataset/dataset4/forge/03205085.png  \n",
            "  inflating: dataset_signature_final/Dataset/dataset4/forge/03205086.png  \n",
            "  inflating: dataset_signature_final/Dataset/dataset4/forge/06101016.png  \n",
            "  inflating: dataset_signature_final/Dataset/dataset4/forge/06101071.png  \n",
            "  inflating: dataset_signature_final/Dataset/dataset4/forge/06102016.png  \n",
            "  inflating: dataset_signature_final/Dataset/dataset4/forge/06102071.png  \n",
            "  inflating: dataset_signature_final/Dataset/dataset4/forge/06103016.png  \n",
            "  inflating: dataset_signature_final/Dataset/dataset4/forge/06103071.png  \n",
            "  inflating: dataset_signature_final/Dataset/dataset4/forge/06104016.png  \n",
            "  inflating: dataset_signature_final/Dataset/dataset4/forge/06104071.png  \n",
            "  inflating: dataset_signature_final/Dataset/dataset4/forge/06105016.png  \n",
            "  inflating: dataset_signature_final/Dataset/dataset4/forge/06105071.png  \n",
            "  inflating: dataset_signature_final/Dataset/dataset4/real1/00201002.png  \n",
            "  inflating: dataset_signature_final/Dataset/dataset4/real1/00202002.png  \n",
            "  inflating: dataset_signature_final/Dataset/dataset4/real1/00203002.png  \n",
            "  inflating: dataset_signature_final/Dataset/dataset4/real1/00204002.png  \n",
            "  inflating: dataset_signature_final/Dataset/dataset4/real1/00205002.png  \n",
            "  inflating: dataset_signature_final/Dataset/dataset4/real1/00801008.png  \n",
            "  inflating: dataset_signature_final/Dataset/dataset4/real1/00802008.png  \n",
            "  inflating: dataset_signature_final/Dataset/dataset4/real1/00803008.png  \n",
            "  inflating: dataset_signature_final/Dataset/dataset4/real1/00804008.png  \n",
            "  inflating: dataset_signature_final/Dataset/dataset4/real1/00805008.png  \n",
            "  inflating: dataset_signature_final/Dataset/dataset4/real1/01601016.png  \n",
            "  inflating: dataset_signature_final/Dataset/dataset4/real1/01602016.png  \n",
            "  inflating: dataset_signature_final/Dataset/dataset4/real1/01603016.png  \n",
            "  inflating: dataset_signature_final/Dataset/dataset4/real1/01604016.png  \n",
            "  inflating: dataset_signature_final/Dataset/dataset4/real1/01605016.png  \n",
            "  inflating: dataset_signature_final/Dataset/dataset4/real1/02401024.png  \n",
            "  inflating: dataset_signature_final/Dataset/dataset4/real1/02402024.png  \n",
            "  inflating: dataset_signature_final/Dataset/dataset4/real1/02403024.png  \n",
            "  inflating: dataset_signature_final/Dataset/dataset4/real1/02404024.png  \n",
            "  inflating: dataset_signature_final/Dataset/dataset4/real1/02405024.png  \n",
            "  inflating: dataset_signature_final/Dataset/dataset4/real1/03301033.png  \n",
            "  inflating: dataset_signature_final/Dataset/dataset4/real1/03302033.png  \n",
            "  inflating: dataset_signature_final/Dataset/dataset4/real1/03303033.png  \n",
            "  inflating: dataset_signature_final/Dataset/dataset4/real1/03304033.png  \n",
            "  inflating: dataset_signature_final/Dataset/dataset4/real1/03305033.png  \n",
            "  inflating: dataset_signature_final/Dataset/dataset4/real1/03501035.png  \n",
            "  inflating: dataset_signature_final/Dataset/dataset4/real1/03502035.png  \n",
            "  inflating: dataset_signature_final/Dataset/dataset4/real1/03503035.png  \n",
            "  inflating: dataset_signature_final/Dataset/dataset4/real1/03504035.png  \n",
            "  inflating: dataset_signature_final/Dataset/dataset4/real1/03505035.png  \n",
            "  inflating: dataset_signature_final/Dataset/dataset4/real1/04401044.png  \n",
            "  inflating: dataset_signature_final/Dataset/dataset4/real1/04402044.png  \n",
            "  inflating: dataset_signature_final/Dataset/dataset4/real1/04403044.png  \n",
            "  inflating: dataset_signature_final/Dataset/dataset4/real1/04404044.png  \n",
            "  inflating: dataset_signature_final/Dataset/dataset4/real1/04405044.png  \n",
            "  inflating: dataset_signature_final/Dataset/dataset4/real1/04601046.png  \n",
            "  inflating: dataset_signature_final/Dataset/dataset4/real1/04602046.png  \n",
            "  inflating: dataset_signature_final/Dataset/dataset4/real1/04603046.png  \n",
            "  inflating: dataset_signature_final/Dataset/dataset4/real1/04604046.png  \n",
            "  inflating: dataset_signature_final/Dataset/dataset4/real1/04605046.png  \n",
            "  inflating: dataset_signature_final/Dataset/dataset4/real1/06301063.png  \n",
            "  inflating: dataset_signature_final/Dataset/dataset4/real1/06302063.png  \n",
            "  inflating: dataset_signature_final/Dataset/dataset4/real1/06303063.png  \n",
            "  inflating: dataset_signature_final/Dataset/dataset4/real1/06304063.png  \n",
            "  inflating: dataset_signature_final/Dataset/dataset4/real1/06305063.png  \n",
            "  inflating: dataset_signature_final/Dataset/dataset4/real1/07001070.png  \n",
            "  inflating: dataset_signature_final/Dataset/dataset4/real1/07002070.png  \n",
            "  inflating: dataset_signature_final/Dataset/dataset4/real1/07003070.png  \n",
            "  inflating: dataset_signature_final/Dataset/dataset4/real1/07004070.png  \n",
            "  inflating: dataset_signature_final/Dataset/dataset4/real1/07005070.png  \n",
            "  inflating: dataset_signature_final/Dataset/dataset4/real1/07101071.png  \n",
            "  inflating: dataset_signature_final/Dataset/dataset4/real1/07102071.png  \n",
            "  inflating: dataset_signature_final/Dataset/dataset4/real1/07103071.png  \n",
            "  inflating: dataset_signature_final/Dataset/dataset4/real1/07104071.png  \n",
            "  inflating: dataset_signature_final/Dataset/dataset4/real1/07105071.png  \n",
            "  inflating: dataset_signature_final/Dataset/dataset4/real1/07701077.png  \n",
            "  inflating: dataset_signature_final/Dataset/dataset4/real1/07702077.png  \n",
            "  inflating: dataset_signature_final/Dataset/dataset4/real1/07703077.png  \n",
            "  inflating: dataset_signature_final/Dataset/dataset4/real1/07704077.png  \n",
            "  inflating: dataset_signature_final/Dataset/dataset4/real1/07705077.png  \n",
            "  inflating: dataset_signature_final/Dataset/dataset4/real1/08401084.png  \n",
            "  inflating: dataset_signature_final/Dataset/dataset4/real1/08402084.png  \n",
            "  inflating: dataset_signature_final/Dataset/dataset4/real1/08403084.png  \n",
            "  inflating: dataset_signature_final/Dataset/dataset4/real1/08404084.png  \n",
            "  inflating: dataset_signature_final/Dataset/dataset4/real1/08405084.png  \n",
            "  inflating: dataset_signature_final/Dataset/dataset4/real1/08501085.png  \n",
            "  inflating: dataset_signature_final/Dataset/dataset4/real1/08502085.png  \n",
            "  inflating: dataset_signature_final/Dataset/dataset4/real1/08503085.png  \n",
            "  inflating: dataset_signature_final/Dataset/dataset4/real1/08504085.png  \n",
            "  inflating: dataset_signature_final/Dataset/dataset4/real1/08505085.png  \n",
            "  inflating: dataset_signature_final/Dataset/dataset4/real1/08601086.png  \n",
            "  inflating: dataset_signature_final/Dataset/dataset4/real1/08602086.png  \n",
            "  inflating: dataset_signature_final/Dataset/dataset4/real1/08603086.png  \n",
            "  inflating: dataset_signature_final/Dataset/dataset4/real1/08604086.png  \n",
            "  inflating: dataset_signature_final/Dataset/dataset4/real1/08605086.png  \n",
            "  inflating: dataset_signature_final/Dataset/dataset4/real1/08901089.png  \n",
            "  inflating: dataset_signature_final/Dataset/dataset4/real1/08902089.png  \n",
            "  inflating: dataset_signature_final/Dataset/dataset4/real1/08903089.png  \n",
            "  inflating: dataset_signature_final/Dataset/dataset4/real1/08904089.png  \n",
            "  inflating: dataset_signature_final/Dataset/dataset4/real1/08905089.png  \n",
            "  inflating: dataset_signature_final/Dataset/dataset4/real1/09201092.png  \n",
            "  inflating: dataset_signature_final/Dataset/dataset4/real1/09202092.png  \n",
            "  inflating: dataset_signature_final/Dataset/dataset4/real1/09203092.png  \n",
            "  inflating: dataset_signature_final/Dataset/dataset4/real1/09204092.png  \n",
            "  inflating: dataset_signature_final/Dataset/dataset4/real1/09205092.png  \n",
            "  inflating: dataset_signature_final/Dataset/dataset4/real1/09301093.png  \n",
            "  inflating: dataset_signature_final/Dataset/dataset4/real1/09302093.png  \n",
            "  inflating: dataset_signature_final/Dataset/dataset4/real1/09303093.png  \n",
            "  inflating: dataset_signature_final/Dataset/dataset4/real1/09304093.png  \n",
            "  inflating: dataset_signature_final/Dataset/dataset4/real1/09305093.png  \n",
            "  inflating: sample_Signature/sample_Signature/README.txt.txt  \n",
            "  inflating: sample_Signature/sample_Signature/forged/NFI-00101014.png  \n",
            "  inflating: sample_Signature/sample_Signature/forged/NFI-00101019.png  \n",
            "  inflating: sample_Signature/sample_Signature/forged/NFI-00101025.PNG  \n",
            "  inflating: sample_Signature/sample_Signature/forged/NFI-00101026.PNG  \n",
            "  inflating: sample_Signature/sample_Signature/forged/NFI-00101027.PNG  \n",
            "  inflating: sample_Signature/sample_Signature/forged/NFI-00101028.PNG  \n",
            "  inflating: sample_Signature/sample_Signature/forged/NFI-00101029.PNG  \n",
            "  inflating: sample_Signature/sample_Signature/forged/NFI-00101030.PNG  \n",
            "  inflating: sample_Signature/sample_Signature/forged/NFI-00102014.png  \n",
            "  inflating: sample_Signature/sample_Signature/forged/NFI-00102019.png  \n",
            "  inflating: sample_Signature/sample_Signature/forged/NFI-00102025.PNG  \n",
            "  inflating: sample_Signature/sample_Signature/forged/NFI-00102026.PNG  \n",
            "  inflating: sample_Signature/sample_Signature/forged/NFI-00102027.PNG  \n",
            "  inflating: sample_Signature/sample_Signature/forged/NFI-00102028.PNG  \n",
            "  inflating: sample_Signature/sample_Signature/forged/NFI-00102029.PNG  \n",
            "  inflating: sample_Signature/sample_Signature/forged/NFI-00102030.PNG  \n",
            "  inflating: sample_Signature/sample_Signature/forged/NFI-00103014.png  \n",
            "  inflating: sample_Signature/sample_Signature/forged/NFI-00103019.png  \n",
            "  inflating: sample_Signature/sample_Signature/forged/NFI-00103025.PNG  \n",
            "  inflating: sample_Signature/sample_Signature/forged/NFI-00103026.PNG  \n",
            "  inflating: sample_Signature/sample_Signature/forged/NFI-00103027.PNG  \n",
            "  inflating: sample_Signature/sample_Signature/forged/NFI-00103028.PNG  \n",
            "  inflating: sample_Signature/sample_Signature/forged/NFI-00103029.PNG  \n",
            "  inflating: sample_Signature/sample_Signature/forged/NFI-00103030.PNG  \n",
            "  inflating: sample_Signature/sample_Signature/forged/NFI-00104014.png  \n",
            "  inflating: sample_Signature/sample_Signature/forged/NFI-00104019.png  \n",
            "  inflating: sample_Signature/sample_Signature/forged/NFI-00104025.PNG  \n",
            "  inflating: sample_Signature/sample_Signature/forged/NFI-00104026.PNG  \n",
            "  inflating: sample_Signature/sample_Signature/forged/NFI-00104027.PNG  \n",
            "  inflating: sample_Signature/sample_Signature/forged/NFI-00104028.PNG  \n",
            "  inflating: sample_Signature/sample_Signature/forged/NFI-00104029.PNG  \n",
            "  inflating: sample_Signature/sample_Signature/forged/NFI-00104030.PNG  \n",
            "  inflating: sample_Signature/sample_Signature/forged/NFI-00105014.png  \n",
            "  inflating: sample_Signature/sample_Signature/forged/NFI-00105019.png  \n",
            "  inflating: sample_Signature/sample_Signature/forged/NFI-00105025.PNG  \n",
            "  inflating: sample_Signature/sample_Signature/forged/NFI-00105026.PNG  \n",
            "  inflating: sample_Signature/sample_Signature/forged/NFI-00105027.PNG  \n",
            "  inflating: sample_Signature/sample_Signature/forged/NFI-00105028.PNG  \n",
            "  inflating: sample_Signature/sample_Signature/forged/NFI-00105029.PNG  \n",
            "  inflating: sample_Signature/sample_Signature/forged/NFI-00105030.PNG  \n",
            "  inflating: sample_Signature/sample_Signature/forged/NFI-00301001.png  \n",
            "  inflating: sample_Signature/sample_Signature/forged/NFI-00301002.png  \n",
            "  inflating: sample_Signature/sample_Signature/forged/NFI-00301005.png  \n",
            "  inflating: sample_Signature/sample_Signature/forged/NFI-00301009.png  \n",
            "  inflating: sample_Signature/sample_Signature/forged/NFI-00301018.png  \n",
            "  inflating: sample_Signature/sample_Signature/forged/NFI-00302001.png  \n",
            "  inflating: sample_Signature/sample_Signature/forged/NFI-00302002.png  \n",
            "  inflating: sample_Signature/sample_Signature/forged/NFI-00302005.png  \n",
            "  inflating: sample_Signature/sample_Signature/forged/NFI-00302009.png  \n",
            "  inflating: sample_Signature/sample_Signature/forged/NFI-00302018.png  \n",
            "  inflating: sample_Signature/sample_Signature/forged/NFI-00303001.png  \n",
            "  inflating: sample_Signature/sample_Signature/forged/NFI-00303002.png  \n",
            "  inflating: sample_Signature/sample_Signature/forged/NFI-00303005.png  \n",
            "  inflating: sample_Signature/sample_Signature/forged/NFI-00303009.png  \n",
            "  inflating: sample_Signature/sample_Signature/forged/NFI-00303018.png  \n",
            "  inflating: sample_Signature/sample_Signature/forged/NFI-00304001.png  \n",
            "  inflating: sample_Signature/sample_Signature/forged/NFI-00304002.png  \n",
            "  inflating: sample_Signature/sample_Signature/forged/NFI-00304005.png  \n",
            "  inflating: sample_Signature/sample_Signature/forged/NFI-00304009.png  \n",
            "  inflating: sample_Signature/sample_Signature/forged/NFI-00304018.png  \n",
            "  inflating: sample_Signature/sample_Signature/forged/NFI-00305001.png  \n",
            "  inflating: sample_Signature/sample_Signature/forged/NFI-00305002.png  \n",
            "  inflating: sample_Signature/sample_Signature/forged/NFI-00305005.png  \n",
            "  inflating: sample_Signature/sample_Signature/forged/NFI-00305009.png  \n",
            "  inflating: sample_Signature/sample_Signature/forged/NFI-00305018.png  \n",
            "  inflating: sample_Signature/sample_Signature/forged/NFI-00401003.png  \n",
            "  inflating: sample_Signature/sample_Signature/forged/NFI-00401007.png  \n",
            "  inflating: sample_Signature/sample_Signature/forged/NFI-00401013.png  \n",
            "  inflating: sample_Signature/sample_Signature/forged/NFI-00401024.png  \n",
            "  inflating: sample_Signature/sample_Signature/forged/NFI-00402003.png  \n",
            "  inflating: sample_Signature/sample_Signature/forged/NFI-00402007.png  \n",
            "  inflating: sample_Signature/sample_Signature/forged/NFI-00402013.png  \n",
            "  inflating: sample_Signature/sample_Signature/forged/NFI-00402024.png  \n",
            "  inflating: sample_Signature/sample_Signature/forged/NFI-00403003.png  \n",
            "  inflating: sample_Signature/sample_Signature/forged/NFI-00403007.png  \n",
            "  inflating: sample_Signature/sample_Signature/forged/NFI-00403013.png  \n",
            "  inflating: sample_Signature/sample_Signature/forged/NFI-00403024.png  \n",
            "  inflating: sample_Signature/sample_Signature/forged/NFI-00404003.png  \n",
            "  inflating: sample_Signature/sample_Signature/forged/NFI-00404007.png  \n",
            "  inflating: sample_Signature/sample_Signature/forged/NFI-00404013.png  \n",
            "  inflating: sample_Signature/sample_Signature/forged/NFI-00404024.png  \n",
            "  inflating: sample_Signature/sample_Signature/forged/NFI-00405003.png  \n",
            "  inflating: sample_Signature/sample_Signature/forged/NFI-00405007.png  \n",
            "  inflating: sample_Signature/sample_Signature/forged/NFI-00405013.png  \n",
            "  inflating: sample_Signature/sample_Signature/forged/NFI-00405024.png  \n",
            "  inflating: sample_Signature/sample_Signature/forged/NFI-00501015.png  \n",
            "  inflating: sample_Signature/sample_Signature/forged/NFI-00501022.png  \n",
            "  inflating: sample_Signature/sample_Signature/forged/NFI-00502015.png  \n",
            "  inflating: sample_Signature/sample_Signature/forged/NFI-00502022.png  \n",
            "  inflating: sample_Signature/sample_Signature/forged/NFI-00503015.png  \n",
            "  inflating: sample_Signature/sample_Signature/forged/NFI-00503022.png  \n",
            "  inflating: sample_Signature/sample_Signature/forged/NFI-00504015.png  \n",
            "  inflating: sample_Signature/sample_Signature/forged/NFI-00504022.png  \n",
            "  inflating: sample_Signature/sample_Signature/forged/NFI-00505015.png  \n",
            "  inflating: sample_Signature/sample_Signature/forged/NFI-00505022.png  \n",
            "  inflating: sample_Signature/sample_Signature/forged/NFI-00701011.png  \n",
            "  inflating: sample_Signature/sample_Signature/forged/NFI-00701023.png  \n",
            "  inflating: sample_Signature/sample_Signature/forged/NFI-00702011.png  \n",
            "  inflating: sample_Signature/sample_Signature/forged/NFI-00702023.png  \n",
            "  inflating: sample_Signature/sample_Signature/forged/NFI-00703011.png  \n",
            "  inflating: sample_Signature/sample_Signature/forged/NFI-00703023.png  \n",
            "  inflating: sample_Signature/sample_Signature/forged/NFI-00704011.png  \n",
            "  inflating: sample_Signature/sample_Signature/forged/NFI-00704023.png  \n",
            "  inflating: sample_Signature/sample_Signature/forged/NFI-00705011.png  \n",
            "  inflating: sample_Signature/sample_Signature/forged/NFI-00705023.png  \n",
            "  inflating: sample_Signature/sample_Signature/forged/NFI-01101012.png  \n",
            "  inflating: sample_Signature/sample_Signature/forged/NFI-01101016.png  \n",
            "  inflating: sample_Signature/sample_Signature/forged/NFI-01102012.png  \n",
            "  inflating: sample_Signature/sample_Signature/forged/NFI-01102016.png  \n",
            "  inflating: sample_Signature/sample_Signature/forged/NFI-01103012.png  \n",
            "  inflating: sample_Signature/sample_Signature/forged/NFI-01103016.png  \n",
            "  inflating: sample_Signature/sample_Signature/forged/NFI-01104012.png  \n",
            "  inflating: sample_Signature/sample_Signature/forged/NFI-01104016.png  \n",
            "  inflating: sample_Signature/sample_Signature/forged/NFI-01105012.png  \n",
            "  inflating: sample_Signature/sample_Signature/forged/NFI-01105016.png  \n",
            "  inflating: sample_Signature/sample_Signature/forged/NFI-01201021.png  \n",
            "  inflating: sample_Signature/sample_Signature/forged/NFI-01202021.png  \n",
            "  inflating: sample_Signature/sample_Signature/forged/NFI-01203021.png  \n",
            "  inflating: sample_Signature/sample_Signature/forged/NFI-01204021.png  \n",
            "  inflating: sample_Signature/sample_Signature/forged/NFI-01205021.png  \n",
            "  inflating: sample_Signature/sample_Signature/forged/NFI-01301017.png  \n",
            "  inflating: sample_Signature/sample_Signature/forged/NFI-01302017.png  \n",
            "  inflating: sample_Signature/sample_Signature/forged/NFI-01303017.png  \n",
            "  inflating: sample_Signature/sample_Signature/forged/NFI-01304017.png  \n",
            "  inflating: sample_Signature/sample_Signature/forged/NFI-01305017.png  \n",
            "  inflating: sample_Signature/sample_Signature/forged/NFI-01701020.png  \n",
            "  inflating: sample_Signature/sample_Signature/forged/NFI-01702020.png  \n",
            "  inflating: sample_Signature/sample_Signature/forged/NFI-01703020.png  \n",
            "  inflating: sample_Signature/sample_Signature/forged/NFI-01704020.png  \n",
            "  inflating: sample_Signature/sample_Signature/forged/NFI-01705020.png  \n",
            "  inflating: sample_Signature/sample_Signature/forged/NFI-02301008.png  \n",
            "  inflating: sample_Signature/sample_Signature/forged/NFI-02303008.png  \n",
            "  inflating: sample_Signature/sample_Signature/forged/NFI-02304008.png  \n",
            "  inflating: sample_Signature/sample_Signature/forged/NFI-02305008.png  \n",
            "  inflating: sample_Signature/sample_Signature/forged/NFI-02306008.png  \n",
            "  inflating: sample_Signature/sample_Signature/forged/NFI-02501010.png  \n",
            "  inflating: sample_Signature/sample_Signature/forged/NFI-02502010.png  \n",
            "  inflating: sample_Signature/sample_Signature/forged/NFI-02503010.png  \n",
            "  inflating: sample_Signature/sample_Signature/forged/NFI-02504010.png  \n",
            "  inflating: sample_Signature/sample_Signature/forged/NFI-02505009.png  \n",
            "  inflating: sample_Signature/sample_Signature/forged/NFI-03301006.png  \n",
            "  inflating: sample_Signature/sample_Signature/forged/NFI-03302006.png  \n",
            "  inflating: sample_Signature/sample_Signature/forged/NFI-03303006.png  \n",
            "  inflating: sample_Signature/sample_Signature/forged/NFI-03304006.png  \n",
            "  inflating: sample_Signature/sample_Signature/forged/NFI-03305006.png  \n",
            "  inflating: sample_Signature/sample_Signature/forged/NFI-08801004.png  \n",
            "  inflating: sample_Signature/sample_Signature/forged/NFI-08802004.png  \n",
            "  inflating: sample_Signature/sample_Signature/forged/NFI-08803004.png  \n",
            "  inflating: sample_Signature/sample_Signature/forged/NFI-08804004.png  \n",
            "  inflating: sample_Signature/sample_Signature/forged/NFI-08805004.png  \n",
            "  inflating: sample_Signature/sample_Signature/genuine/NFI-00101001.png  \n",
            "  inflating: sample_Signature/sample_Signature/genuine/NFI-00102001.png  \n",
            "  inflating: sample_Signature/sample_Signature/genuine/NFI-00103001.png  \n",
            "  inflating: sample_Signature/sample_Signature/genuine/NFI-00104001.png  \n",
            "  inflating: sample_Signature/sample_Signature/genuine/NFI-00105001.png  \n",
            "  inflating: sample_Signature/sample_Signature/genuine/NFI-00201002.png  \n",
            "  inflating: sample_Signature/sample_Signature/genuine/NFI-00202002.png  \n",
            "  inflating: sample_Signature/sample_Signature/genuine/NFI-00203002.png  \n",
            "  inflating: sample_Signature/sample_Signature/genuine/NFI-00204002.png  \n",
            "  inflating: sample_Signature/sample_Signature/genuine/NFI-00205002.png  \n",
            "  inflating: sample_Signature/sample_Signature/genuine/NFI-00301003.png  \n",
            "  inflating: sample_Signature/sample_Signature/genuine/NFI-00302003.png  \n",
            "  inflating: sample_Signature/sample_Signature/genuine/NFI-00303003.png  \n",
            "  inflating: sample_Signature/sample_Signature/genuine/NFI-00304003.png  \n",
            "  inflating: sample_Signature/sample_Signature/genuine/NFI-00305003.png  \n",
            "  inflating: sample_Signature/sample_Signature/genuine/NFI-00401004.png  \n",
            "  inflating: sample_Signature/sample_Signature/genuine/NFI-00402004.png  \n",
            "  inflating: sample_Signature/sample_Signature/genuine/NFI-00403004.png  \n",
            "  inflating: sample_Signature/sample_Signature/genuine/NFI-00404004.png  \n",
            "  inflating: sample_Signature/sample_Signature/genuine/NFI-00405004.png  \n",
            "  inflating: sample_Signature/sample_Signature/genuine/NFI-00501005.png  \n",
            "  inflating: sample_Signature/sample_Signature/genuine/NFI-00502005.png  \n",
            "  inflating: sample_Signature/sample_Signature/genuine/NFI-00503005.png  \n",
            "  inflating: sample_Signature/sample_Signature/genuine/NFI-00504005.png  \n",
            "  inflating: sample_Signature/sample_Signature/genuine/NFI-00505005.png  \n",
            "  inflating: sample_Signature/sample_Signature/genuine/NFI-00601006.png  \n",
            "  inflating: sample_Signature/sample_Signature/genuine/NFI-00602006.png  \n",
            "  inflating: sample_Signature/sample_Signature/genuine/NFI-00603006.png  \n",
            "  inflating: sample_Signature/sample_Signature/genuine/NFI-00604006.png  \n",
            "  inflating: sample_Signature/sample_Signature/genuine/NFI-00605006.png  \n",
            "  inflating: sample_Signature/sample_Signature/genuine/NFI-00701007.png  \n",
            "  inflating: sample_Signature/sample_Signature/genuine/NFI-00702007.png  \n",
            "  inflating: sample_Signature/sample_Signature/genuine/NFI-00703007.png  \n",
            "  inflating: sample_Signature/sample_Signature/genuine/NFI-00704007.png  \n",
            "  inflating: sample_Signature/sample_Signature/genuine/NFI-00705007.png  \n",
            "  inflating: sample_Signature/sample_Signature/genuine/NFI-00801008.png  \n",
            "  inflating: sample_Signature/sample_Signature/genuine/NFI-00802008.png  \n",
            "  inflating: sample_Signature/sample_Signature/genuine/NFI-00803008.png  \n",
            "  inflating: sample_Signature/sample_Signature/genuine/NFI-00804008.png  \n",
            "  inflating: sample_Signature/sample_Signature/genuine/NFI-00805008.png  \n",
            "  inflating: sample_Signature/sample_Signature/genuine/NFI-00901009.png  \n",
            "  inflating: sample_Signature/sample_Signature/genuine/NFI-00902009.png  \n",
            "  inflating: sample_Signature/sample_Signature/genuine/NFI-00903009.png  \n",
            "  inflating: sample_Signature/sample_Signature/genuine/NFI-00904009.png  \n",
            "  inflating: sample_Signature/sample_Signature/genuine/NFI-00905009.png  \n",
            "  inflating: sample_Signature/sample_Signature/genuine/NFI-01001010.png  \n",
            "  inflating: sample_Signature/sample_Signature/genuine/NFI-01002010.png  \n",
            "  inflating: sample_Signature/sample_Signature/genuine/NFI-01003010.png  \n",
            "  inflating: sample_Signature/sample_Signature/genuine/NFI-01004010.png  \n",
            "  inflating: sample_Signature/sample_Signature/genuine/NFI-01005010.png  \n",
            "  inflating: sample_Signature/sample_Signature/genuine/NFI-01101011.png  \n",
            "  inflating: sample_Signature/sample_Signature/genuine/NFI-01102011.png  \n",
            "  inflating: sample_Signature/sample_Signature/genuine/NFI-01103011.png  \n",
            "  inflating: sample_Signature/sample_Signature/genuine/NFI-01104011.png  \n",
            "  inflating: sample_Signature/sample_Signature/genuine/NFI-01105011.png  \n",
            "  inflating: sample_Signature/sample_Signature/genuine/NFI-01201012.png  \n",
            "  inflating: sample_Signature/sample_Signature/genuine/NFI-01202012.png  \n",
            "  inflating: sample_Signature/sample_Signature/genuine/NFI-01203012.png  \n",
            "  inflating: sample_Signature/sample_Signature/genuine/NFI-01204012.png  \n",
            "  inflating: sample_Signature/sample_Signature/genuine/NFI-01205012.png  \n",
            "  inflating: sample_Signature/sample_Signature/genuine/NFI-01301013.png  \n",
            "  inflating: sample_Signature/sample_Signature/genuine/NFI-01302013.png  \n",
            "  inflating: sample_Signature/sample_Signature/genuine/NFI-01303013.png  \n",
            "  inflating: sample_Signature/sample_Signature/genuine/NFI-01304013.png  \n",
            "  inflating: sample_Signature/sample_Signature/genuine/NFI-01305013.png  \n",
            "  inflating: sample_Signature/sample_Signature/genuine/NFI-01401014.png  \n",
            "  inflating: sample_Signature/sample_Signature/genuine/NFI-01402014.png  \n",
            "  inflating: sample_Signature/sample_Signature/genuine/NFI-01403014.png  \n",
            "  inflating: sample_Signature/sample_Signature/genuine/NFI-01404014.png  \n",
            "  inflating: sample_Signature/sample_Signature/genuine/NFI-01405014.png  \n",
            "  inflating: sample_Signature/sample_Signature/genuine/NFI-01501015.png  \n",
            "  inflating: sample_Signature/sample_Signature/genuine/NFI-01502015.png  \n",
            "  inflating: sample_Signature/sample_Signature/genuine/NFI-01503015.png  \n",
            "  inflating: sample_Signature/sample_Signature/genuine/NFI-01504015.png  \n",
            "  inflating: sample_Signature/sample_Signature/genuine/NFI-01505015.png  \n",
            "  inflating: sample_Signature/sample_Signature/genuine/NFI-01601016.png  \n",
            "  inflating: sample_Signature/sample_Signature/genuine/NFI-01602016.png  \n",
            "  inflating: sample_Signature/sample_Signature/genuine/NFI-01603016.png  \n",
            "  inflating: sample_Signature/sample_Signature/genuine/NFI-01604016.png  \n",
            "  inflating: sample_Signature/sample_Signature/genuine/NFI-01605016.png  \n",
            "  inflating: sample_Signature/sample_Signature/genuine/NFI-01701017.png  \n",
            "  inflating: sample_Signature/sample_Signature/genuine/NFI-01702017.png  \n",
            "  inflating: sample_Signature/sample_Signature/genuine/NFI-01703017.png  \n",
            "  inflating: sample_Signature/sample_Signature/genuine/NFI-01704017.png  \n",
            "  inflating: sample_Signature/sample_Signature/genuine/NFI-01705017.png  \n",
            "  inflating: sample_Signature/sample_Signature/genuine/NFI-01801018.png  \n",
            "  inflating: sample_Signature/sample_Signature/genuine/NFI-01802018.png  \n",
            "  inflating: sample_Signature/sample_Signature/genuine/NFI-01803018.png  \n",
            "  inflating: sample_Signature/sample_Signature/genuine/NFI-01804018.png  \n",
            "  inflating: sample_Signature/sample_Signature/genuine/NFI-01805018.png  \n",
            "  inflating: sample_Signature/sample_Signature/genuine/NFI-01901019.png  \n",
            "  inflating: sample_Signature/sample_Signature/genuine/NFI-01902019.png  \n",
            "  inflating: sample_Signature/sample_Signature/genuine/NFI-01903019.png  \n",
            "  inflating: sample_Signature/sample_Signature/genuine/NFI-01904019.png  \n",
            "  inflating: sample_Signature/sample_Signature/genuine/NFI-01905019.png  \n",
            "  inflating: sample_Signature/sample_Signature/genuine/NFI-02001020.png  \n",
            "  inflating: sample_Signature/sample_Signature/genuine/NFI-02002020.png  \n",
            "  inflating: sample_Signature/sample_Signature/genuine/NFI-02003020.png  \n",
            "  inflating: sample_Signature/sample_Signature/genuine/NFI-02004020.png  \n",
            "  inflating: sample_Signature/sample_Signature/genuine/NFI-02005020.png  \n",
            "  inflating: sample_Signature/sample_Signature/genuine/NFI-02101021.png  \n",
            "  inflating: sample_Signature/sample_Signature/genuine/NFI-02102021.png  \n",
            "  inflating: sample_Signature/sample_Signature/genuine/NFI-02103021.png  \n",
            "  inflating: sample_Signature/sample_Signature/genuine/NFI-02104021.png  \n",
            "  inflating: sample_Signature/sample_Signature/genuine/NFI-02105021.png  \n",
            "  inflating: sample_Signature/sample_Signature/genuine/NFI-02201022.png  \n",
            "  inflating: sample_Signature/sample_Signature/genuine/NFI-02202022.png  \n",
            "  inflating: sample_Signature/sample_Signature/genuine/NFI-02203022.png  \n",
            "  inflating: sample_Signature/sample_Signature/genuine/NFI-02204022.png  \n",
            "  inflating: sample_Signature/sample_Signature/genuine/NFI-02205022.png  \n",
            "  inflating: sample_Signature/sample_Signature/genuine/NFI-02301023.png  \n",
            "  inflating: sample_Signature/sample_Signature/genuine/NFI-02302023.png  \n",
            "  inflating: sample_Signature/sample_Signature/genuine/NFI-02303023.png  \n",
            "  inflating: sample_Signature/sample_Signature/genuine/NFI-02304023.png  \n",
            "  inflating: sample_Signature/sample_Signature/genuine/NFI-02305023.png  \n",
            "  inflating: sample_Signature/sample_Signature/genuine/NFI-02401024.png  \n",
            "  inflating: sample_Signature/sample_Signature/genuine/NFI-02402024.png  \n",
            "  inflating: sample_Signature/sample_Signature/genuine/NFI-02403024.png  \n",
            "  inflating: sample_Signature/sample_Signature/genuine/NFI-02404024.png  \n",
            "  inflating: sample_Signature/sample_Signature/genuine/NFI-02405024.png  \n",
            "  inflating: sample_Signature/sample_Signature/genuine/NFI-02501025.PNG  \n",
            "  inflating: sample_Signature/sample_Signature/genuine/NFI-02502025.PNG  \n",
            "  inflating: sample_Signature/sample_Signature/genuine/NFI-02503025.PNG  \n",
            "  inflating: sample_Signature/sample_Signature/genuine/NFI-02504025.PNG  \n",
            "  inflating: sample_Signature/sample_Signature/genuine/NFI-02505025.PNG  \n",
            "  inflating: sample_Signature/sample_Signature/genuine/NFI-02601026.PNG  \n",
            "  inflating: sample_Signature/sample_Signature/genuine/NFI-02602026.PNG  \n",
            "  inflating: sample_Signature/sample_Signature/genuine/NFI-02603026.PNG  \n",
            "  inflating: sample_Signature/sample_Signature/genuine/NFI-02604026.PNG  \n",
            "  inflating: sample_Signature/sample_Signature/genuine/NFI-02605026.PNG  \n",
            "  inflating: sample_Signature/sample_Signature/genuine/NFI-02701027.PNG  \n",
            "  inflating: sample_Signature/sample_Signature/genuine/NFI-02702027.PNG  \n",
            "  inflating: sample_Signature/sample_Signature/genuine/NFI-02703027.PNG  \n",
            "  inflating: sample_Signature/sample_Signature/genuine/NFI-02704027.PNG  \n",
            "  inflating: sample_Signature/sample_Signature/genuine/NFI-02705027.PNG  \n",
            "  inflating: sample_Signature/sample_Signature/genuine/NFI-02801028.PNG  \n",
            "  inflating: sample_Signature/sample_Signature/genuine/NFI-02802028.PNG  \n",
            "  inflating: sample_Signature/sample_Signature/genuine/NFI-02803028.PNG  \n",
            "  inflating: sample_Signature/sample_Signature/genuine/NFI-02804028.PNG  \n",
            "  inflating: sample_Signature/sample_Signature/genuine/NFI-02805028.PNG  \n",
            "  inflating: sample_Signature/sample_Signature/genuine/NFI-02901029.PNG  \n",
            "  inflating: sample_Signature/sample_Signature/genuine/NFI-02902029.PNG  \n",
            "  inflating: sample_Signature/sample_Signature/genuine/NFI-02903029.PNG  \n",
            "  inflating: sample_Signature/sample_Signature/genuine/NFI-02904029.PNG  \n",
            "  inflating: sample_Signature/sample_Signature/genuine/NFI-02905029.PNG  \n",
            "  inflating: sample_Signature/sample_Signature/genuine/NFI-03001030.PNG  \n",
            "  inflating: sample_Signature/sample_Signature/genuine/NFI-03002030.PNG  \n",
            "  inflating: sample_Signature/sample_Signature/genuine/NFI-03003030.PNG  \n",
            "  inflating: sample_Signature/sample_Signature/genuine/NFI-03004030.PNG  \n",
            "  inflating: sample_Signature/sample_Signature/genuine/NFI-03005030.PNG  \n",
            "  inflating: sample_signature/sample_Signature/README.txt.txt  \n",
            "  inflating: sample_signature/sample_Signature/forged/NFI-00101014.png  \n",
            "  inflating: sample_signature/sample_Signature/forged/NFI-00101019.png  \n",
            "  inflating: sample_signature/sample_Signature/forged/NFI-00101025.PNG  \n",
            "  inflating: sample_signature/sample_Signature/forged/NFI-00101026.PNG  \n",
            "  inflating: sample_signature/sample_Signature/forged/NFI-00101027.PNG  \n",
            "  inflating: sample_signature/sample_Signature/forged/NFI-00101028.PNG  \n",
            "  inflating: sample_signature/sample_Signature/forged/NFI-00101029.PNG  \n",
            "  inflating: sample_signature/sample_Signature/forged/NFI-00101030.PNG  \n",
            "  inflating: sample_signature/sample_Signature/forged/NFI-00102014.png  \n",
            "  inflating: sample_signature/sample_Signature/forged/NFI-00102019.png  \n",
            "  inflating: sample_signature/sample_Signature/forged/NFI-00102025.PNG  \n",
            "  inflating: sample_signature/sample_Signature/forged/NFI-00102026.PNG  \n",
            "  inflating: sample_signature/sample_Signature/forged/NFI-00102027.PNG  \n",
            "  inflating: sample_signature/sample_Signature/forged/NFI-00102028.PNG  \n",
            "  inflating: sample_signature/sample_Signature/forged/NFI-00102029.PNG  \n",
            "  inflating: sample_signature/sample_Signature/forged/NFI-00102030.PNG  \n",
            "  inflating: sample_signature/sample_Signature/forged/NFI-00103014.png  \n",
            "  inflating: sample_signature/sample_Signature/forged/NFI-00103019.png  \n",
            "  inflating: sample_signature/sample_Signature/forged/NFI-00103025.PNG  \n",
            "  inflating: sample_signature/sample_Signature/forged/NFI-00103026.PNG  \n",
            "  inflating: sample_signature/sample_Signature/forged/NFI-00103027.PNG  \n",
            "  inflating: sample_signature/sample_Signature/forged/NFI-00103028.PNG  \n",
            "  inflating: sample_signature/sample_Signature/forged/NFI-00103029.PNG  \n",
            "  inflating: sample_signature/sample_Signature/forged/NFI-00103030.PNG  \n",
            "  inflating: sample_signature/sample_Signature/forged/NFI-00104014.png  \n",
            "  inflating: sample_signature/sample_Signature/forged/NFI-00104019.png  \n",
            "  inflating: sample_signature/sample_Signature/forged/NFI-00104025.PNG  \n",
            "  inflating: sample_signature/sample_Signature/forged/NFI-00104026.PNG  \n",
            "  inflating: sample_signature/sample_Signature/forged/NFI-00104027.PNG  \n",
            "  inflating: sample_signature/sample_Signature/forged/NFI-00104028.PNG  \n",
            "  inflating: sample_signature/sample_Signature/forged/NFI-00104029.PNG  \n",
            "  inflating: sample_signature/sample_Signature/forged/NFI-00104030.PNG  \n",
            "  inflating: sample_signature/sample_Signature/forged/NFI-00105014.png  \n",
            "  inflating: sample_signature/sample_Signature/forged/NFI-00105019.png  \n",
            "  inflating: sample_signature/sample_Signature/forged/NFI-00105025.PNG  \n",
            "  inflating: sample_signature/sample_Signature/forged/NFI-00105026.PNG  \n",
            "  inflating: sample_signature/sample_Signature/forged/NFI-00105027.PNG  \n",
            "  inflating: sample_signature/sample_Signature/forged/NFI-00105028.PNG  \n",
            "  inflating: sample_signature/sample_Signature/forged/NFI-00105029.PNG  \n",
            "  inflating: sample_signature/sample_Signature/forged/NFI-00105030.PNG  \n",
            "  inflating: sample_signature/sample_Signature/forged/NFI-00301001.png  \n",
            "  inflating: sample_signature/sample_Signature/forged/NFI-00301002.png  \n",
            "  inflating: sample_signature/sample_Signature/forged/NFI-00301005.png  \n",
            "  inflating: sample_signature/sample_Signature/forged/NFI-00301009.png  \n",
            "  inflating: sample_signature/sample_Signature/forged/NFI-00301018.png  \n",
            "  inflating: sample_signature/sample_Signature/forged/NFI-00302001.png  \n",
            "  inflating: sample_signature/sample_Signature/forged/NFI-00302002.png  \n",
            "  inflating: sample_signature/sample_Signature/forged/NFI-00302005.png  \n",
            "  inflating: sample_signature/sample_Signature/forged/NFI-00302009.png  \n",
            "  inflating: sample_signature/sample_Signature/forged/NFI-00302018.png  \n",
            "  inflating: sample_signature/sample_Signature/forged/NFI-00303001.png  \n",
            "  inflating: sample_signature/sample_Signature/forged/NFI-00303002.png  \n",
            "  inflating: sample_signature/sample_Signature/forged/NFI-00303005.png  \n",
            "  inflating: sample_signature/sample_Signature/forged/NFI-00303009.png  \n",
            "  inflating: sample_signature/sample_Signature/forged/NFI-00303018.png  \n",
            "  inflating: sample_signature/sample_Signature/forged/NFI-00304001.png  \n",
            "  inflating: sample_signature/sample_Signature/forged/NFI-00304002.png  \n",
            "  inflating: sample_signature/sample_Signature/forged/NFI-00304005.png  \n",
            "  inflating: sample_signature/sample_Signature/forged/NFI-00304009.png  \n",
            "  inflating: sample_signature/sample_Signature/forged/NFI-00304018.png  \n",
            "  inflating: sample_signature/sample_Signature/forged/NFI-00305001.png  \n",
            "  inflating: sample_signature/sample_Signature/forged/NFI-00305002.png  \n",
            "  inflating: sample_signature/sample_Signature/forged/NFI-00305005.png  \n",
            "  inflating: sample_signature/sample_Signature/forged/NFI-00305009.png  \n",
            "  inflating: sample_signature/sample_Signature/forged/NFI-00305018.png  \n",
            "  inflating: sample_signature/sample_Signature/forged/NFI-00401003.png  \n",
            "  inflating: sample_signature/sample_Signature/forged/NFI-00401007.png  \n",
            "  inflating: sample_signature/sample_Signature/forged/NFI-00401013.png  \n",
            "  inflating: sample_signature/sample_Signature/forged/NFI-00401024.png  \n",
            "  inflating: sample_signature/sample_Signature/forged/NFI-00402003.png  \n",
            "  inflating: sample_signature/sample_Signature/forged/NFI-00402007.png  \n",
            "  inflating: sample_signature/sample_Signature/forged/NFI-00402013.png  \n",
            "  inflating: sample_signature/sample_Signature/forged/NFI-00402024.png  \n",
            "  inflating: sample_signature/sample_Signature/forged/NFI-00403003.png  \n",
            "  inflating: sample_signature/sample_Signature/forged/NFI-00403007.png  \n",
            "  inflating: sample_signature/sample_Signature/forged/NFI-00403013.png  \n",
            "  inflating: sample_signature/sample_Signature/forged/NFI-00403024.png  \n",
            "  inflating: sample_signature/sample_Signature/forged/NFI-00404003.png  \n",
            "  inflating: sample_signature/sample_Signature/forged/NFI-00404007.png  \n",
            "  inflating: sample_signature/sample_Signature/forged/NFI-00404013.png  \n",
            "  inflating: sample_signature/sample_Signature/forged/NFI-00404024.png  \n",
            "  inflating: sample_signature/sample_Signature/forged/NFI-00405003.png  \n",
            "  inflating: sample_signature/sample_Signature/forged/NFI-00405007.png  \n",
            "  inflating: sample_signature/sample_Signature/forged/NFI-00405013.png  \n",
            "  inflating: sample_signature/sample_Signature/forged/NFI-00405024.png  \n",
            "  inflating: sample_signature/sample_Signature/forged/NFI-00501015.png  \n",
            "  inflating: sample_signature/sample_Signature/forged/NFI-00501022.png  \n",
            "  inflating: sample_signature/sample_Signature/forged/NFI-00502015.png  \n",
            "  inflating: sample_signature/sample_Signature/forged/NFI-00502022.png  \n",
            "  inflating: sample_signature/sample_Signature/forged/NFI-00503015.png  \n",
            "  inflating: sample_signature/sample_Signature/forged/NFI-00503022.png  \n",
            "  inflating: sample_signature/sample_Signature/forged/NFI-00504015.png  \n",
            "  inflating: sample_signature/sample_Signature/forged/NFI-00504022.png  \n",
            "  inflating: sample_signature/sample_Signature/forged/NFI-00505015.png  \n",
            "  inflating: sample_signature/sample_Signature/forged/NFI-00505022.png  \n",
            "  inflating: sample_signature/sample_Signature/forged/NFI-00701011.png  \n",
            "  inflating: sample_signature/sample_Signature/forged/NFI-00701023.png  \n",
            "  inflating: sample_signature/sample_Signature/forged/NFI-00702011.png  \n",
            "  inflating: sample_signature/sample_Signature/forged/NFI-00702023.png  \n",
            "  inflating: sample_signature/sample_Signature/forged/NFI-00703011.png  \n",
            "  inflating: sample_signature/sample_Signature/forged/NFI-00703023.png  \n",
            "  inflating: sample_signature/sample_Signature/forged/NFI-00704011.png  \n",
            "  inflating: sample_signature/sample_Signature/forged/NFI-00704023.png  \n",
            "  inflating: sample_signature/sample_Signature/forged/NFI-00705011.png  \n",
            "  inflating: sample_signature/sample_Signature/forged/NFI-00705023.png  \n",
            "  inflating: sample_signature/sample_Signature/forged/NFI-01101012.png  \n",
            "  inflating: sample_signature/sample_Signature/forged/NFI-01101016.png  \n",
            "  inflating: sample_signature/sample_Signature/forged/NFI-01102012.png  \n",
            "  inflating: sample_signature/sample_Signature/forged/NFI-01102016.png  \n",
            "  inflating: sample_signature/sample_Signature/forged/NFI-01103012.png  \n",
            "  inflating: sample_signature/sample_Signature/forged/NFI-01103016.png  \n",
            "  inflating: sample_signature/sample_Signature/forged/NFI-01104012.png  \n",
            "  inflating: sample_signature/sample_Signature/forged/NFI-01104016.png  \n",
            "  inflating: sample_signature/sample_Signature/forged/NFI-01105012.png  \n",
            "  inflating: sample_signature/sample_Signature/forged/NFI-01105016.png  \n",
            "  inflating: sample_signature/sample_Signature/forged/NFI-01201021.png  \n",
            "  inflating: sample_signature/sample_Signature/forged/NFI-01202021.png  \n",
            "  inflating: sample_signature/sample_Signature/forged/NFI-01203021.png  \n",
            "  inflating: sample_signature/sample_Signature/forged/NFI-01204021.png  \n",
            "  inflating: sample_signature/sample_Signature/forged/NFI-01205021.png  \n",
            "  inflating: sample_signature/sample_Signature/forged/NFI-01301017.png  \n",
            "  inflating: sample_signature/sample_Signature/forged/NFI-01302017.png  \n",
            "  inflating: sample_signature/sample_Signature/forged/NFI-01303017.png  \n",
            "  inflating: sample_signature/sample_Signature/forged/NFI-01304017.png  \n",
            "  inflating: sample_signature/sample_Signature/forged/NFI-01305017.png  \n",
            "  inflating: sample_signature/sample_Signature/forged/NFI-01701020.png  \n",
            "  inflating: sample_signature/sample_Signature/forged/NFI-01702020.png  \n",
            "  inflating: sample_signature/sample_Signature/forged/NFI-01703020.png  \n",
            "  inflating: sample_signature/sample_Signature/forged/NFI-01704020.png  \n",
            "  inflating: sample_signature/sample_Signature/forged/NFI-01705020.png  \n",
            "  inflating: sample_signature/sample_Signature/forged/NFI-02301008.png  \n",
            "  inflating: sample_signature/sample_Signature/forged/NFI-02303008.png  \n",
            "  inflating: sample_signature/sample_Signature/forged/NFI-02304008.png  \n",
            "  inflating: sample_signature/sample_Signature/forged/NFI-02305008.png  \n",
            "  inflating: sample_signature/sample_Signature/forged/NFI-02306008.png  \n",
            "  inflating: sample_signature/sample_Signature/forged/NFI-02501010.png  \n",
            "  inflating: sample_signature/sample_Signature/forged/NFI-02502010.png  \n",
            "  inflating: sample_signature/sample_Signature/forged/NFI-02503010.png  \n",
            "  inflating: sample_signature/sample_Signature/forged/NFI-02504010.png  \n",
            "  inflating: sample_signature/sample_Signature/forged/NFI-02505009.png  \n",
            "  inflating: sample_signature/sample_Signature/forged/NFI-03301006.png  \n",
            "  inflating: sample_signature/sample_Signature/forged/NFI-03302006.png  \n",
            "  inflating: sample_signature/sample_Signature/forged/NFI-03303006.png  \n",
            "  inflating: sample_signature/sample_Signature/forged/NFI-03304006.png  \n",
            "  inflating: sample_signature/sample_Signature/forged/NFI-03305006.png  \n",
            "  inflating: sample_signature/sample_Signature/forged/NFI-08801004.png  \n",
            "  inflating: sample_signature/sample_Signature/forged/NFI-08802004.png  \n",
            "  inflating: sample_signature/sample_Signature/forged/NFI-08803004.png  \n",
            "  inflating: sample_signature/sample_Signature/forged/NFI-08804004.png  \n",
            "  inflating: sample_signature/sample_Signature/forged/NFI-08805004.png  \n",
            "  inflating: sample_signature/sample_Signature/genuine/NFI-00101001.png  \n",
            "  inflating: sample_signature/sample_Signature/genuine/NFI-00102001.png  \n",
            "  inflating: sample_signature/sample_Signature/genuine/NFI-00103001.png  \n",
            "  inflating: sample_signature/sample_Signature/genuine/NFI-00104001.png  \n",
            "  inflating: sample_signature/sample_Signature/genuine/NFI-00105001.png  \n",
            "  inflating: sample_signature/sample_Signature/genuine/NFI-00201002.png  \n",
            "  inflating: sample_signature/sample_Signature/genuine/NFI-00202002.png  \n",
            "  inflating: sample_signature/sample_Signature/genuine/NFI-00203002.png  \n",
            "  inflating: sample_signature/sample_Signature/genuine/NFI-00204002.png  \n",
            "  inflating: sample_signature/sample_Signature/genuine/NFI-00205002.png  \n",
            "  inflating: sample_signature/sample_Signature/genuine/NFI-00301003.png  \n",
            "  inflating: sample_signature/sample_Signature/genuine/NFI-00302003.png  \n",
            "  inflating: sample_signature/sample_Signature/genuine/NFI-00303003.png  \n",
            "  inflating: sample_signature/sample_Signature/genuine/NFI-00304003.png  \n",
            "  inflating: sample_signature/sample_Signature/genuine/NFI-00305003.png  \n",
            "  inflating: sample_signature/sample_Signature/genuine/NFI-00401004.png  \n",
            "  inflating: sample_signature/sample_Signature/genuine/NFI-00402004.png  \n",
            "  inflating: sample_signature/sample_Signature/genuine/NFI-00403004.png  \n",
            "  inflating: sample_signature/sample_Signature/genuine/NFI-00404004.png  \n",
            "  inflating: sample_signature/sample_Signature/genuine/NFI-00405004.png  \n",
            "  inflating: sample_signature/sample_Signature/genuine/NFI-00501005.png  \n",
            "  inflating: sample_signature/sample_Signature/genuine/NFI-00502005.png  \n",
            "  inflating: sample_signature/sample_Signature/genuine/NFI-00503005.png  \n",
            "  inflating: sample_signature/sample_Signature/genuine/NFI-00504005.png  \n",
            "  inflating: sample_signature/sample_Signature/genuine/NFI-00505005.png  \n",
            "  inflating: sample_signature/sample_Signature/genuine/NFI-00601006.png  \n",
            "  inflating: sample_signature/sample_Signature/genuine/NFI-00602006.png  \n",
            "  inflating: sample_signature/sample_Signature/genuine/NFI-00603006.png  \n",
            "  inflating: sample_signature/sample_Signature/genuine/NFI-00604006.png  \n",
            "  inflating: sample_signature/sample_Signature/genuine/NFI-00605006.png  \n",
            "  inflating: sample_signature/sample_Signature/genuine/NFI-00701007.png  \n",
            "  inflating: sample_signature/sample_Signature/genuine/NFI-00702007.png  \n",
            "  inflating: sample_signature/sample_Signature/genuine/NFI-00703007.png  \n",
            "  inflating: sample_signature/sample_Signature/genuine/NFI-00704007.png  \n",
            "  inflating: sample_signature/sample_Signature/genuine/NFI-00705007.png  \n",
            "  inflating: sample_signature/sample_Signature/genuine/NFI-00801008.png  \n",
            "  inflating: sample_signature/sample_Signature/genuine/NFI-00802008.png  \n",
            "  inflating: sample_signature/sample_Signature/genuine/NFI-00803008.png  \n",
            "  inflating: sample_signature/sample_Signature/genuine/NFI-00804008.png  \n",
            "  inflating: sample_signature/sample_Signature/genuine/NFI-00805008.png  \n",
            "  inflating: sample_signature/sample_Signature/genuine/NFI-00901009.png  \n",
            "  inflating: sample_signature/sample_Signature/genuine/NFI-00902009.png  \n",
            "  inflating: sample_signature/sample_Signature/genuine/NFI-00903009.png  \n",
            "  inflating: sample_signature/sample_Signature/genuine/NFI-00904009.png  \n",
            "  inflating: sample_signature/sample_Signature/genuine/NFI-00905009.png  \n",
            "  inflating: sample_signature/sample_Signature/genuine/NFI-01001010.png  \n",
            "  inflating: sample_signature/sample_Signature/genuine/NFI-01002010.png  \n",
            "  inflating: sample_signature/sample_Signature/genuine/NFI-01003010.png  \n",
            "  inflating: sample_signature/sample_Signature/genuine/NFI-01004010.png  \n",
            "  inflating: sample_signature/sample_Signature/genuine/NFI-01005010.png  \n",
            "  inflating: sample_signature/sample_Signature/genuine/NFI-01101011.png  \n",
            "  inflating: sample_signature/sample_Signature/genuine/NFI-01102011.png  \n",
            "  inflating: sample_signature/sample_Signature/genuine/NFI-01103011.png  \n",
            "  inflating: sample_signature/sample_Signature/genuine/NFI-01104011.png  \n",
            "  inflating: sample_signature/sample_Signature/genuine/NFI-01105011.png  \n",
            "  inflating: sample_signature/sample_Signature/genuine/NFI-01201012.png  \n",
            "  inflating: sample_signature/sample_Signature/genuine/NFI-01202012.png  \n",
            "  inflating: sample_signature/sample_Signature/genuine/NFI-01203012.png  \n",
            "  inflating: sample_signature/sample_Signature/genuine/NFI-01204012.png  \n",
            "  inflating: sample_signature/sample_Signature/genuine/NFI-01205012.png  \n",
            "  inflating: sample_signature/sample_Signature/genuine/NFI-01301013.png  \n",
            "  inflating: sample_signature/sample_Signature/genuine/NFI-01302013.png  \n",
            "  inflating: sample_signature/sample_Signature/genuine/NFI-01303013.png  \n",
            "  inflating: sample_signature/sample_Signature/genuine/NFI-01304013.png  \n",
            "  inflating: sample_signature/sample_Signature/genuine/NFI-01305013.png  \n",
            "  inflating: sample_signature/sample_Signature/genuine/NFI-01401014.png  \n",
            "  inflating: sample_signature/sample_Signature/genuine/NFI-01402014.png  \n",
            "  inflating: sample_signature/sample_Signature/genuine/NFI-01403014.png  \n",
            "  inflating: sample_signature/sample_Signature/genuine/NFI-01404014.png  \n",
            "  inflating: sample_signature/sample_Signature/genuine/NFI-01405014.png  \n",
            "  inflating: sample_signature/sample_Signature/genuine/NFI-01501015.png  \n",
            "  inflating: sample_signature/sample_Signature/genuine/NFI-01502015.png  \n",
            "  inflating: sample_signature/sample_Signature/genuine/NFI-01503015.png  \n",
            "  inflating: sample_signature/sample_Signature/genuine/NFI-01504015.png  \n",
            "  inflating: sample_signature/sample_Signature/genuine/NFI-01505015.png  \n",
            "  inflating: sample_signature/sample_Signature/genuine/NFI-01601016.png  \n",
            "  inflating: sample_signature/sample_Signature/genuine/NFI-01602016.png  \n",
            "  inflating: sample_signature/sample_Signature/genuine/NFI-01603016.png  \n",
            "  inflating: sample_signature/sample_Signature/genuine/NFI-01604016.png  \n",
            "  inflating: sample_signature/sample_Signature/genuine/NFI-01605016.png  \n",
            "  inflating: sample_signature/sample_Signature/genuine/NFI-01701017.png  \n",
            "  inflating: sample_signature/sample_Signature/genuine/NFI-01702017.png  \n",
            "  inflating: sample_signature/sample_Signature/genuine/NFI-01703017.png  \n",
            "  inflating: sample_signature/sample_Signature/genuine/NFI-01704017.png  \n",
            "  inflating: sample_signature/sample_Signature/genuine/NFI-01705017.png  \n",
            "  inflating: sample_signature/sample_Signature/genuine/NFI-01801018.png  \n",
            "  inflating: sample_signature/sample_Signature/genuine/NFI-01802018.png  \n",
            "  inflating: sample_signature/sample_Signature/genuine/NFI-01803018.png  \n",
            "  inflating: sample_signature/sample_Signature/genuine/NFI-01804018.png  \n",
            "  inflating: sample_signature/sample_Signature/genuine/NFI-01805018.png  \n",
            "  inflating: sample_signature/sample_Signature/genuine/NFI-01901019.png  \n",
            "  inflating: sample_signature/sample_Signature/genuine/NFI-01902019.png  \n",
            "  inflating: sample_signature/sample_Signature/genuine/NFI-01903019.png  \n",
            "  inflating: sample_signature/sample_Signature/genuine/NFI-01904019.png  \n",
            "  inflating: sample_signature/sample_Signature/genuine/NFI-01905019.png  \n",
            "  inflating: sample_signature/sample_Signature/genuine/NFI-02001020.png  \n",
            "  inflating: sample_signature/sample_Signature/genuine/NFI-02002020.png  \n",
            "  inflating: sample_signature/sample_Signature/genuine/NFI-02003020.png  \n",
            "  inflating: sample_signature/sample_Signature/genuine/NFI-02004020.png  \n",
            "  inflating: sample_signature/sample_Signature/genuine/NFI-02005020.png  \n",
            "  inflating: sample_signature/sample_Signature/genuine/NFI-02101021.png  \n",
            "  inflating: sample_signature/sample_Signature/genuine/NFI-02102021.png  \n",
            "  inflating: sample_signature/sample_Signature/genuine/NFI-02103021.png  \n",
            "  inflating: sample_signature/sample_Signature/genuine/NFI-02104021.png  \n",
            "  inflating: sample_signature/sample_Signature/genuine/NFI-02105021.png  \n",
            "  inflating: sample_signature/sample_Signature/genuine/NFI-02201022.png  \n",
            "  inflating: sample_signature/sample_Signature/genuine/NFI-02202022.png  \n",
            "  inflating: sample_signature/sample_Signature/genuine/NFI-02203022.png  \n",
            "  inflating: sample_signature/sample_Signature/genuine/NFI-02204022.png  \n",
            "  inflating: sample_signature/sample_Signature/genuine/NFI-02205022.png  \n",
            "  inflating: sample_signature/sample_Signature/genuine/NFI-02301023.png  \n",
            "  inflating: sample_signature/sample_Signature/genuine/NFI-02302023.png  \n",
            "  inflating: sample_signature/sample_Signature/genuine/NFI-02303023.png  \n",
            "  inflating: sample_signature/sample_Signature/genuine/NFI-02304023.png  \n",
            "  inflating: sample_signature/sample_Signature/genuine/NFI-02305023.png  \n",
            "  inflating: sample_signature/sample_Signature/genuine/NFI-02401024.png  \n",
            "  inflating: sample_signature/sample_Signature/genuine/NFI-02402024.png  \n",
            "  inflating: sample_signature/sample_Signature/genuine/NFI-02403024.png  \n",
            "  inflating: sample_signature/sample_Signature/genuine/NFI-02404024.png  \n",
            "  inflating: sample_signature/sample_Signature/genuine/NFI-02405024.png  \n",
            "  inflating: sample_signature/sample_Signature/genuine/NFI-02501025.PNG  \n",
            "  inflating: sample_signature/sample_Signature/genuine/NFI-02502025.PNG  \n",
            "  inflating: sample_signature/sample_Signature/genuine/NFI-02503025.PNG  \n",
            "  inflating: sample_signature/sample_Signature/genuine/NFI-02504025.PNG  \n",
            "  inflating: sample_signature/sample_Signature/genuine/NFI-02505025.PNG  \n",
            "  inflating: sample_signature/sample_Signature/genuine/NFI-02601026.PNG  \n",
            "  inflating: sample_signature/sample_Signature/genuine/NFI-02602026.PNG  \n",
            "  inflating: sample_signature/sample_Signature/genuine/NFI-02603026.PNG  \n",
            "  inflating: sample_signature/sample_Signature/genuine/NFI-02604026.PNG  \n",
            "  inflating: sample_signature/sample_Signature/genuine/NFI-02605026.PNG  \n",
            "  inflating: sample_signature/sample_Signature/genuine/NFI-02701027.PNG  \n",
            "  inflating: sample_signature/sample_Signature/genuine/NFI-02702027.PNG  \n",
            "  inflating: sample_signature/sample_Signature/genuine/NFI-02703027.PNG  \n",
            "  inflating: sample_signature/sample_Signature/genuine/NFI-02704027.PNG  \n",
            "  inflating: sample_signature/sample_Signature/genuine/NFI-02705027.PNG  \n",
            "  inflating: sample_signature/sample_Signature/genuine/NFI-02801028.PNG  \n",
            "  inflating: sample_signature/sample_Signature/genuine/NFI-02802028.PNG  \n",
            "  inflating: sample_signature/sample_Signature/genuine/NFI-02803028.PNG  \n",
            "  inflating: sample_signature/sample_Signature/genuine/NFI-02804028.PNG  \n",
            "  inflating: sample_signature/sample_Signature/genuine/NFI-02805028.PNG  \n",
            "  inflating: sample_signature/sample_Signature/genuine/NFI-02901029.PNG  \n",
            "  inflating: sample_signature/sample_Signature/genuine/NFI-02902029.PNG  \n",
            "  inflating: sample_signature/sample_Signature/genuine/NFI-02903029.PNG  \n",
            "  inflating: sample_signature/sample_Signature/genuine/NFI-02904029.PNG  \n",
            "  inflating: sample_signature/sample_Signature/genuine/NFI-02905029.PNG  \n",
            "  inflating: sample_signature/sample_Signature/genuine/NFI-03001030.PNG  \n",
            "  inflating: sample_signature/sample_Signature/genuine/NFI-03002030.PNG  \n",
            "  inflating: sample_signature/sample_Signature/genuine/NFI-03003030.PNG  \n",
            "  inflating: sample_signature/sample_Signature/genuine/NFI-03004030.PNG  \n",
            "  inflating: sample_signature/sample_Signature/genuine/NFI-03005030.PNG  \n"
          ]
        }
      ],
      "source": [
        "!pip install unzip\n",
        "import unzip\n",
        "!unzip /content/drive/MyDrive/signatures.zip "
      ]
    },
    {
      "cell_type": "markdown",
      "metadata": {
        "id": "br3-j3on0DWZ"
      },
      "source": [
        "## Data"
      ]
    },
    {
      "cell_type": "markdown",
      "metadata": {
        "id": "5QlgoT1t0DWa"
      },
      "source": [
        "The data used in this notebook can be found [here](https://www.kaggle.com/datasets/divyanshrai/handwritten-signatures). The dataset contains just 300 samples of genuine and forged signatures from 30 people, of which 50 percent are genuine and 50 percent are forged. "
      ]
    },
    {
      "cell_type": "code",
      "execution_count": 4,
      "metadata": {
        "ExecuteTime": {
          "end_time": "2022-05-23T16:05:39.653625Z",
          "start_time": "2022-05-23T16:05:39.647324Z"
        },
        "id": "e8bk9hZT0DWa"
      },
      "outputs": [],
      "source": [
        "# instantiate ImageDataGenerator scaling each pixel's values down to a scale of 1\n",
        "img = ImageDataGenerator(rescale=1/255)"
      ]
    },
    {
      "cell_type": "code",
      "execution_count": 5,
      "metadata": {
        "ExecuteTime": {
          "end_time": "2022-05-23T16:05:39.665891Z",
          "start_time": "2022-05-23T16:05:39.659606Z"
        },
        "id": "w0XKBPLo0DWa"
      },
      "outputs": [],
      "source": [
        "# data_path = '../Data/sample_Signature/sample_Signature/'\n",
        "# For Colab \n",
        "data_path = '/content/sample_Signature/sample_Signature/'"
      ]
    },
    {
      "cell_type": "code",
      "execution_count": 6,
      "metadata": {
        "ExecuteTime": {
          "end_time": "2022-05-23T16:05:39.796644Z",
          "start_time": "2022-05-23T16:05:39.666882Z"
        },
        "scrolled": false,
        "id": "ie8tSIhP0DWa",
        "outputId": "5cbf766e-69b9-409b-e011-434ca370ecdd",
        "colab": {
          "base_uri": "https://localhost:8080/"
        }
      },
      "outputs": [
        {
          "output_type": "stream",
          "name": "stdout",
          "text": [
            "Found 300 images belonging to 2 classes.\n"
          ]
        }
      ],
      "source": [
        "# Importing the data\n",
        "data = img.flow_from_directory(data_path, color_mode='grayscale',\\\n",
        "                               batch_size=300, class_mode='binary')"
      ]
    },
    {
      "cell_type": "code",
      "execution_count": 7,
      "metadata": {
        "ExecuteTime": {
          "end_time": "2022-05-23T16:05:39.816340Z",
          "start_time": "2022-05-23T16:05:39.798372Z"
        },
        "id": "pHsQ8-cU0DWa",
        "outputId": "73572a89-682d-4863-a95f-4e86cf75faaf",
        "colab": {
          "base_uri": "https://localhost:8080/"
        }
      },
      "outputs": [
        {
          "output_type": "execute_result",
          "data": {
            "text/plain": [
              "{'forged': 0, 'genuine': 1}"
            ]
          },
          "metadata": {},
          "execution_count": 7
        }
      ],
      "source": [
        "data.class_indices"
      ]
    },
    {
      "cell_type": "code",
      "execution_count": 8,
      "metadata": {
        "ExecuteTime": {
          "end_time": "2022-05-23T16:05:43.282679Z",
          "start_time": "2022-05-23T16:05:39.818265Z"
        },
        "id": "vd1OikVB0DWa"
      },
      "outputs": [],
      "source": [
        "data_images, data_labels = next(data)"
      ]
    },
    {
      "cell_type": "code",
      "execution_count": 9,
      "metadata": {
        "ExecuteTime": {
          "end_time": "2022-05-23T16:05:43.286298Z",
          "start_time": "2022-05-23T16:05:43.283993Z"
        },
        "id": "Rj6lJ_0F0DWa",
        "outputId": "a4aaeb56-d31e-4d7f-8289-5091634cc460",
        "colab": {
          "base_uri": "https://localhost:8080/"
        }
      },
      "outputs": [
        {
          "output_type": "execute_result",
          "data": {
            "text/plain": [
              "(300, 256, 256, 1)"
            ]
          },
          "metadata": {},
          "execution_count": 9
        }
      ],
      "source": [
        "data_images.shape"
      ]
    },
    {
      "cell_type": "code",
      "execution_count": 10,
      "metadata": {
        "ExecuteTime": {
          "end_time": "2022-05-23T16:05:43.289203Z",
          "start_time": "2022-05-23T16:05:43.287091Z"
        },
        "id": "Iw64bQi30DWb",
        "outputId": "27223f49-ee92-4f05-fcb9-5914a26f5591",
        "colab": {
          "base_uri": "https://localhost:8080/"
        }
      },
      "outputs": [
        {
          "output_type": "execute_result",
          "data": {
            "text/plain": [
              "(300,)"
            ]
          },
          "metadata": {},
          "execution_count": 10
        }
      ],
      "source": [
        "data_labels.shape"
      ]
    },
    {
      "cell_type": "code",
      "execution_count": 11,
      "metadata": {
        "ExecuteTime": {
          "end_time": "2022-05-23T16:05:43.378014Z",
          "start_time": "2022-05-23T16:05:43.290028Z"
        },
        "id": "fiRyt5gF0DWb"
      },
      "outputs": [],
      "source": [
        "X_train, X_test, y_train, y_test = train_test_split( \\\n",
        "            data_images, data_labels, random_state=42, test_size=.2)"
      ]
    },
    {
      "cell_type": "code",
      "execution_count": 12,
      "metadata": {
        "ExecuteTime": {
          "end_time": "2022-05-23T16:05:43.381950Z",
          "start_time": "2022-05-23T16:05:43.379012Z"
        },
        "id": "UX6uGMCo0DWb",
        "outputId": "8caae9dc-556e-4e5c-f9c5-b8c5518afad7",
        "colab": {
          "base_uri": "https://localhost:8080/"
        }
      },
      "outputs": [
        {
          "output_type": "execute_result",
          "data": {
            "text/plain": [
              "(240, 256, 256, 1)"
            ]
          },
          "metadata": {},
          "execution_count": 12
        }
      ],
      "source": [
        "X_train.shape"
      ]
    },
    {
      "cell_type": "code",
      "execution_count": 13,
      "metadata": {
        "ExecuteTime": {
          "end_time": "2022-05-23T16:05:43.385945Z",
          "start_time": "2022-05-23T16:05:43.382938Z"
        },
        "scrolled": true,
        "id": "sBUoFk0E0DWb",
        "outputId": "ec22036e-2242-4d70-afd7-a8768ed6bbb7",
        "colab": {
          "base_uri": "https://localhost:8080/"
        }
      },
      "outputs": [
        {
          "output_type": "execute_result",
          "data": {
            "text/plain": [
              "(240,)"
            ]
          },
          "metadata": {},
          "execution_count": 13
        }
      ],
      "source": [
        "y_train.shape"
      ]
    },
    {
      "cell_type": "markdown",
      "metadata": {
        "id": "bGdjPhiL0DWb"
      },
      "source": [
        "Above we instantiate Keras' ImageDataGenerator which will scale each pixel's values down to a value of 1. Next we import the data and separate into the images themselves and their respective labels. The class indices indicate what the label values correspond to. Finally we split it into a train and test dataset."
      ]
    },
    {
      "cell_type": "markdown",
      "metadata": {
        "id": "S1qQ7tZw0DWb"
      },
      "source": [
        "### Image Augmentation"
      ]
    },
    {
      "cell_type": "markdown",
      "metadata": {
        "id": "FVN4fruQ0DWb"
      },
      "source": [
        "Because we have such a small dataset it is important to use image augmentation to artificially expand the training dataset. Below we do several forms of data augmentation individually before combining the techniques at the end."
      ]
    },
    {
      "cell_type": "markdown",
      "metadata": {
        "id": "WdiTdHFI0DWb"
      },
      "source": [
        "#### Zoom Augmentation"
      ]
    },
    {
      "cell_type": "markdown",
      "metadata": {
        "id": "sFH6noII0DWb"
      },
      "source": [
        "The first technique we explore is zoom range. Entering a range of values, .25 and 1 in this case, randomly applies a zoom to each image within that range."
      ]
    },
    {
      "cell_type": "code",
      "execution_count": 14,
      "metadata": {
        "ExecuteTime": {
          "end_time": "2022-05-23T16:05:43.432353Z",
          "start_time": "2022-05-23T16:05:43.389712Z"
        },
        "id": "_xI3TrQQ0DWb"
      },
      "outputs": [],
      "source": [
        "aug = ImageDataGenerator(zoom_range=[.25,1])\n",
        "aug.fit(X_train)\n",
        "aug_data = aug.flow(X_train, y_train, batch_size=240)"
      ]
    },
    {
      "cell_type": "code",
      "execution_count": 15,
      "metadata": {
        "ExecuteTime": {
          "end_time": "2022-05-23T16:05:44.752274Z",
          "start_time": "2022-05-23T16:05:43.434570Z"
        },
        "id": "Q2fqt13j0DWb"
      },
      "outputs": [],
      "source": [
        "aug_images, aug_labels = next(aug_data)"
      ]
    },
    {
      "cell_type": "code",
      "execution_count": 16,
      "metadata": {
        "ExecuteTime": {
          "end_time": "2022-05-23T16:05:44.757428Z",
          "start_time": "2022-05-23T16:05:44.753421Z"
        },
        "id": "UJzAAEw50DWb",
        "outputId": "8bc87402-f4f7-4e31-e006-c02cd02e21fd",
        "colab": {
          "base_uri": "https://localhost:8080/"
        }
      },
      "outputs": [
        {
          "output_type": "execute_result",
          "data": {
            "text/plain": [
              "(240, 256, 256, 1)"
            ]
          },
          "metadata": {},
          "execution_count": 16
        }
      ],
      "source": [
        "aug_images.shape"
      ]
    },
    {
      "cell_type": "code",
      "execution_count": 17,
      "metadata": {
        "ExecuteTime": {
          "end_time": "2022-05-23T16:05:44.763236Z",
          "start_time": "2022-05-23T16:05:44.760240Z"
        },
        "scrolled": false,
        "id": "JqyUa7Rb0DWb",
        "outputId": "6339dbda-5314-4331-f51b-de23ab9dff08",
        "colab": {
          "base_uri": "https://localhost:8080/"
        }
      },
      "outputs": [
        {
          "output_type": "execute_result",
          "data": {
            "text/plain": [
              "(240,)"
            ]
          },
          "metadata": {},
          "execution_count": 17
        }
      ],
      "source": [
        "aug_labels.shape"
      ]
    },
    {
      "cell_type": "code",
      "execution_count": 18,
      "metadata": {
        "ExecuteTime": {
          "end_time": "2022-05-23T16:05:44.773039Z",
          "start_time": "2022-05-23T16:05:44.764282Z"
        },
        "scrolled": true,
        "id": "mus5-mMz0DWc",
        "outputId": "8460ce5e-8251-49e2-c836-2dedb5137229",
        "colab": {
          "base_uri": "https://localhost:8080/",
          "height": 0
        }
      },
      "outputs": [
        {
          "output_type": "execute_result",
          "data": {
            "text/plain": [
              "<PIL.Image.Image image mode=L size=256x256 at 0x7F825CC30190>"
            ],
            "image/png": "[encoded data removed]"
          },
          "metadata": {},
          "execution_count": 18
        }
      ],
      "source": [
        "array_to_img(aug_images[0])"
      ]
    },
    {
      "cell_type": "code",
      "execution_count": 19,
      "metadata": {
        "ExecuteTime": {
          "end_time": "2022-05-23T16:05:44.837593Z",
          "start_time": "2022-05-23T16:05:44.774121Z"
        },
        "id": "ok-mZtR50DWc"
      },
      "outputs": [],
      "source": [
        "new_images1 = np.concatenate([X_train, aug_images])\n",
        "new_labels1 = np.concatenate([y_train, aug_labels])"
      ]
    },
    {
      "cell_type": "code",
      "execution_count": 20,
      "metadata": {
        "ExecuteTime": {
          "end_time": "2022-05-23T16:05:44.843371Z",
          "start_time": "2022-05-23T16:05:44.838745Z"
        },
        "id": "9gWnXQMl0DWc",
        "outputId": "af2a6e27-0f44-4c04-b3b8-54b13a1bde36",
        "colab": {
          "base_uri": "https://localhost:8080/"
        }
      },
      "outputs": [
        {
          "output_type": "execute_result",
          "data": {
            "text/plain": [
              "(480, 256, 256, 1)"
            ]
          },
          "metadata": {},
          "execution_count": 20
        }
      ],
      "source": [
        "new_images1.shape"
      ]
    },
    {
      "cell_type": "code",
      "execution_count": 21,
      "metadata": {
        "ExecuteTime": {
          "end_time": "2022-05-23T16:05:44.854854Z",
          "start_time": "2022-05-23T16:05:44.845976Z"
        },
        "scrolled": true,
        "id": "j2ZEhjc_0DWc",
        "outputId": "7602c305-5428-47df-c5a4-ba3d9a5a1474",
        "colab": {
          "base_uri": "https://localhost:8080/"
        }
      },
      "outputs": [
        {
          "output_type": "execute_result",
          "data": {
            "text/plain": [
              "(480,)"
            ]
          },
          "metadata": {},
          "execution_count": 21
        }
      ],
      "source": [
        "new_labels1.shape"
      ]
    },
    {
      "cell_type": "markdown",
      "metadata": {
        "id": "2xtESP-x0DWc"
      },
      "source": [
        "#### Width Augmentation"
      ]
    },
    {
      "cell_type": "markdown",
      "metadata": {
        "id": "3KbqDEVV0DWc"
      },
      "source": [
        "The next method for augmentation used was width shift range. With a range of .3 the images will be randomly assigned a width down to .3 of the original image size. "
      ]
    },
    {
      "cell_type": "code",
      "execution_count": 22,
      "metadata": {
        "ExecuteTime": {
          "end_time": "2022-05-23T16:05:44.882836Z",
          "start_time": "2022-05-23T16:05:44.858566Z"
        },
        "id": "Xus_GqNv0DWc"
      },
      "outputs": [],
      "source": [
        "aug = ImageDataGenerator(width_shift_range=.3)\n",
        "aug.fit(X_train)\n",
        "aug2_data = aug.flow(X_train, y_train, batch_size=240)"
      ]
    },
    {
      "cell_type": "code",
      "execution_count": 23,
      "metadata": {
        "ExecuteTime": {
          "end_time": "2022-05-23T16:05:45.825020Z",
          "start_time": "2022-05-23T16:05:44.883926Z"
        },
        "id": "u4FBrYPF0DWc"
      },
      "outputs": [],
      "source": [
        "aug2_images, aug2_labels = next(aug2_data)"
      ]
    },
    {
      "cell_type": "code",
      "execution_count": 24,
      "metadata": {
        "ExecuteTime": {
          "end_time": "2022-05-23T16:05:45.962760Z",
          "start_time": "2022-05-23T16:05:45.825976Z"
        },
        "id": "Gqo_6R_s0DWc"
      },
      "outputs": [],
      "source": [
        "new_images2 = np.concatenate([new_images1, aug2_images])\n",
        "new_labels2 = np.concatenate([new_labels1, aug2_labels])"
      ]
    },
    {
      "cell_type": "markdown",
      "metadata": {
        "id": "_3D-UNLx0DWc"
      },
      "source": [
        "#### Height Augmentation"
      ]
    },
    {
      "cell_type": "markdown",
      "metadata": {
        "id": "R-Y1aUd90DWc"
      },
      "source": [
        "The next method for augmentation used was height shift range. With a range of .3 the images will be randomly assigned a height down to .3 of the original image size."
      ]
    },
    {
      "cell_type": "code",
      "execution_count": 25,
      "metadata": {
        "ExecuteTime": {
          "end_time": "2022-05-23T16:05:45.987265Z",
          "start_time": "2022-05-23T16:05:45.963864Z"
        },
        "id": "ZbaVKm_m0DWc"
      },
      "outputs": [],
      "source": [
        "aug = ImageDataGenerator(height_shift_range=.3)\n",
        "aug.fit(X_train)\n",
        "aug3_data = aug.flow(X_train, y_train, batch_size=240)"
      ]
    },
    {
      "cell_type": "code",
      "execution_count": 26,
      "metadata": {
        "ExecuteTime": {
          "end_time": "2022-05-23T16:05:46.921366Z",
          "start_time": "2022-05-23T16:05:45.988413Z"
        },
        "id": "_5RSJQ_g0DWc"
      },
      "outputs": [],
      "source": [
        "aug3_images, aug3_labels = next(aug3_data)"
      ]
    },
    {
      "cell_type": "code",
      "execution_count": 27,
      "metadata": {
        "ExecuteTime": {
          "end_time": "2022-05-23T16:05:47.107123Z",
          "start_time": "2022-05-23T16:05:46.922242Z"
        },
        "id": "47OAh55W0DWc"
      },
      "outputs": [],
      "source": [
        "new_images3 = np.concatenate([new_images2, aug3_images])\n",
        "new_labels3 = np.concatenate([new_labels2, aug3_labels])"
      ]
    },
    {
      "cell_type": "markdown",
      "metadata": {
        "ExecuteTime": {
          "end_time": "2022-05-18T18:10:53.996172Z",
          "start_time": "2022-05-18T18:10:53.989621Z"
        },
        "id": "88uGZ1170DWc"
      },
      "source": [
        "#### Rotation Augmentation"
      ]
    },
    {
      "cell_type": "markdown",
      "metadata": {
        "ExecuteTime": {
          "end_time": "2022-05-20T18:31:05.497987Z",
          "start_time": "2022-05-20T18:31:05.418085Z"
        },
        "id": "HzhChvvv0DWc"
      },
      "source": [
        "Next we apply a random rotation to each image up to 30 degrees."
      ]
    },
    {
      "cell_type": "code",
      "execution_count": 28,
      "metadata": {
        "ExecuteTime": {
          "end_time": "2022-05-23T16:05:47.150201Z",
          "start_time": "2022-05-23T16:05:47.109241Z"
        },
        "id": "r5qASvWM0DWd"
      },
      "outputs": [],
      "source": [
        "aug = ImageDataGenerator(rotation_range=30)\n",
        "aug.fit(X_train)\n",
        "aug4_data = aug.flow(X_train, y_train, batch_size=240)"
      ]
    },
    {
      "cell_type": "code",
      "execution_count": 29,
      "metadata": {
        "ExecuteTime": {
          "end_time": "2022-05-23T16:05:48.059670Z",
          "start_time": "2022-05-23T16:05:47.151166Z"
        },
        "id": "-7RSZv180DWd"
      },
      "outputs": [],
      "source": [
        "aug4_images, aug4_labels = next(aug4_data)"
      ]
    },
    {
      "cell_type": "code",
      "execution_count": 30,
      "metadata": {
        "ExecuteTime": {
          "end_time": "2022-05-23T16:05:48.321156Z",
          "start_time": "2022-05-23T16:05:48.060531Z"
        },
        "id": "IGD4RQS50DWd"
      },
      "outputs": [],
      "source": [
        "new_images4 = np.concatenate([new_images3, aug4_images])\n",
        "new_labels4 = np.concatenate([new_labels3, aug4_labels])"
      ]
    },
    {
      "cell_type": "markdown",
      "metadata": {
        "id": "pK5dN99W0DWd"
      },
      "source": [
        "#### Shear Augmentation"
      ]
    },
    {
      "cell_type": "markdown",
      "metadata": {
        "id": "oV0ZGZBa0DWd"
      },
      "source": [
        "We then apply a random shear value to each image. This angles the corners of each image up to 30 degrees."
      ]
    },
    {
      "cell_type": "code",
      "execution_count": 31,
      "metadata": {
        "ExecuteTime": {
          "end_time": "2022-05-23T16:05:48.353835Z",
          "start_time": "2022-05-23T16:05:48.322907Z"
        },
        "id": "DnZa2voW0DWd"
      },
      "outputs": [],
      "source": [
        "aug = ImageDataGenerator(shear_range=30)\n",
        "aug.fit(X_train)\n",
        "aug5_data = aug.flow(X_train, y_train, batch_size=240)"
      ]
    },
    {
      "cell_type": "code",
      "execution_count": 32,
      "metadata": {
        "ExecuteTime": {
          "end_time": "2022-05-23T16:05:49.270263Z",
          "start_time": "2022-05-23T16:05:48.354995Z"
        },
        "id": "GSPyUkdU0DWd"
      },
      "outputs": [],
      "source": [
        "aug5_images, aug5_labels = next(aug5_data)"
      ]
    },
    {
      "cell_type": "code",
      "execution_count": 33,
      "metadata": {
        "ExecuteTime": {
          "end_time": "2022-05-23T16:05:49.574162Z",
          "start_time": "2022-05-23T16:05:49.271226Z"
        },
        "id": "Akv9kNGs0DWd"
      },
      "outputs": [],
      "source": [
        "new_images5 = np.concatenate([new_images4, aug5_images])\n",
        "new_labels5 = np.concatenate([new_labels4, aug5_labels])"
      ]
    },
    {
      "cell_type": "markdown",
      "metadata": {
        "id": "i-NlCQ-R0DWd"
      },
      "source": [
        "#### Brightness Augmentation"
      ]
    },
    {
      "cell_type": "markdown",
      "metadata": {
        "ExecuteTime": {
          "end_time": "2022-05-20T18:49:59.247310Z",
          "start_time": "2022-05-20T18:49:59.202157Z"
        },
        "id": "icBp-se80DWd"
      },
      "source": [
        "Finally we have brightness augmentation. This applies a random brightness shift within the provided range. "
      ]
    },
    {
      "cell_type": "code",
      "execution_count": 34,
      "metadata": {
        "ExecuteTime": {
          "end_time": "2022-05-23T16:05:49.632646Z",
          "start_time": "2022-05-23T16:05:49.577236Z"
        },
        "id": "bnSYWRVE0DWd"
      },
      "outputs": [],
      "source": [
        "aug = ImageDataGenerator(brightness_range=(1,2))\n",
        "aug.fit(X_train)\n",
        "aug5_data = aug.flow(X_train, y_train, batch_size=240)"
      ]
    },
    {
      "cell_type": "code",
      "execution_count": 35,
      "metadata": {
        "ExecuteTime": {
          "end_time": "2022-05-23T16:05:49.731736Z",
          "start_time": "2022-05-23T16:05:49.635054Z"
        },
        "id": "vCQSxxf50DWd"
      },
      "outputs": [],
      "source": [
        "aug6_images, aug6_labels = next(aug5_data)"
      ]
    },
    {
      "cell_type": "code",
      "execution_count": 36,
      "metadata": {
        "ExecuteTime": {
          "end_time": "2022-05-23T16:05:50.040495Z",
          "start_time": "2022-05-23T16:05:49.732579Z"
        },
        "id": "0bJ9Rogv0DWd"
      },
      "outputs": [],
      "source": [
        "new_images6 = np.concatenate([new_images5, aug6_images])\n",
        "new_labels6 = np.concatenate([new_labels5, aug6_labels])"
      ]
    },
    {
      "cell_type": "code",
      "execution_count": 37,
      "metadata": {
        "ExecuteTime": {
          "end_time": "2022-05-23T16:05:50.044658Z",
          "start_time": "2022-05-23T16:05:50.041411Z"
        },
        "id": "HNDFeNjn0DWd",
        "outputId": "a6b3c839-e748-40f1-fe57-66802400b1b6",
        "colab": {
          "base_uri": "https://localhost:8080/"
        }
      },
      "outputs": [
        {
          "output_type": "execute_result",
          "data": {
            "text/plain": [
              "(1680,)"
            ]
          },
          "metadata": {},
          "execution_count": 37
        }
      ],
      "source": [
        "new_labels6.shape"
      ]
    },
    {
      "cell_type": "markdown",
      "metadata": {
        "id": "0Niir6iw0DWd"
      },
      "source": [
        "#### A little bit of everything Augmentation"
      ]
    },
    {
      "cell_type": "markdown",
      "metadata": {
        "id": "CBsV05X00DWd"
      },
      "source": [
        "Now that we have augmented each image with a single augmentation, we will again augment all images with a combination of each augmentation. "
      ]
    },
    {
      "cell_type": "code",
      "execution_count": 38,
      "metadata": {
        "ExecuteTime": {
          "end_time": "2022-05-23T16:05:50.437436Z",
          "start_time": "2022-05-23T16:05:50.045670Z"
        },
        "id": "gXo4eSwp0DWd"
      },
      "outputs": [],
      "source": [
        "aug = ImageDataGenerator(zoom_range=[.7,.9], width_shift_range=.15, height_shift_range=.15, rotation_range=15, shear_range=15, brightness_range=(1,1.5))\n",
        "aug.fit(new_images6)\n",
        "aug_data_final = aug.flow(new_images6, new_labels6, batch_size=1680)"
      ]
    },
    {
      "cell_type": "code",
      "execution_count": 39,
      "metadata": {
        "ExecuteTime": {
          "end_time": "2022-05-23T16:05:57.654980Z",
          "start_time": "2022-05-23T16:05:50.440677Z"
        },
        "id": "SX7w1lZ30DWd"
      },
      "outputs": [],
      "source": [
        "aug_final_images, aug_final_labels = next(aug_data_final)"
      ]
    },
    {
      "cell_type": "code",
      "execution_count": 40,
      "metadata": {
        "ExecuteTime": {
          "end_time": "2022-05-23T16:05:58.460589Z",
          "start_time": "2022-05-23T16:05:57.658349Z"
        },
        "id": "e5hjhY8J0DWd"
      },
      "outputs": [],
      "source": [
        "final_images = np.concatenate([new_images6, aug_final_images])\n",
        "final_labels = np.concatenate([new_labels6, aug_final_labels])"
      ]
    },
    {
      "cell_type": "code",
      "execution_count": 41,
      "metadata": {
        "ExecuteTime": {
          "end_time": "2022-05-23T16:05:58.486423Z",
          "start_time": "2022-05-23T16:05:58.478573Z"
        },
        "id": "k5nIBtFE0DWd",
        "outputId": "3fa46cd6-42ce-4abf-9d3c-cf332aabd586",
        "colab": {
          "base_uri": "https://localhost:8080/"
        }
      },
      "outputs": [
        {
          "output_type": "execute_result",
          "data": {
            "text/plain": [
              "(3360, 256, 256, 1)"
            ]
          },
          "metadata": {},
          "execution_count": 41
        }
      ],
      "source": [
        "final_images.shape"
      ]
    },
    {
      "cell_type": "code",
      "execution_count": 42,
      "metadata": {
        "ExecuteTime": {
          "end_time": "2022-05-23T16:05:58.492199Z",
          "start_time": "2022-05-23T16:05:58.488114Z"
        },
        "id": "ktGylzJw0DWe",
        "outputId": "c04831ec-1239-454b-a4cc-3d982509b3b1",
        "colab": {
          "base_uri": "https://localhost:8080/"
        }
      },
      "outputs": [
        {
          "output_type": "execute_result",
          "data": {
            "text/plain": [
              "(3360,)"
            ]
          },
          "metadata": {},
          "execution_count": 42
        }
      ],
      "source": [
        "final_labels.shape"
      ]
    },
    {
      "cell_type": "code",
      "execution_count": 43,
      "metadata": {
        "ExecuteTime": {
          "end_time": "2022-05-23T16:05:58.508379Z",
          "start_time": "2022-05-23T16:05:58.493315Z"
        },
        "id": "JvANUs2x0DWe",
        "outputId": "46d6200f-dfae-4f08-f922-61cfbf475324",
        "colab": {
          "base_uri": "https://localhost:8080/",
          "height": 0
        }
      },
      "outputs": [
        {
          "output_type": "execute_result",
          "data": {
            "text/plain": [
              "<PIL.Image.Image image mode=L size=256x256 at 0x7F825CBE2D90>"
            ],
            "image/png": "[encoded data removed]"
          },
          "metadata": {},
          "execution_count": 43
        }
      ],
      "source": [
        "array_to_img(final_images[0])"
      ]
    },
    {
      "cell_type": "code",
      "execution_count": 44,
      "metadata": {
        "ExecuteTime": {
          "end_time": "2022-05-23T16:05:58.516670Z",
          "start_time": "2022-05-23T16:05:58.510105Z"
        },
        "id": "Rfp_CEyq0DWe",
        "outputId": "5d616e6c-5dd6-44fa-9855-9cb60c561d2d",
        "colab": {
          "base_uri": "https://localhost:8080/"
        }
      },
      "outputs": [
        {
          "output_type": "execute_result",
          "data": {
            "text/plain": [
              "1.0"
            ]
          },
          "metadata": {},
          "execution_count": 44
        }
      ],
      "source": [
        "final_labels[0]"
      ]
    },
    {
      "cell_type": "markdown",
      "metadata": {
        "id": "znWY9nTw0DWe"
      },
      "source": [
        "The above example image would be considered a genuine signature."
      ]
    },
    {
      "cell_type": "markdown",
      "metadata": {
        "id": "1CV6UXls0DWe"
      },
      "source": [
        "## Modeling"
      ]
    },
    {
      "cell_type": "markdown",
      "metadata": {
        "id": "VeYn_F620DWe"
      },
      "source": [
        "### Dummy Model"
      ]
    },
    {
      "cell_type": "markdown",
      "metadata": {
        "id": "H1mLHp2i0DWe"
      },
      "source": [
        "Our first model will be a baseline model for comparison. We will utilize Sklearn's DummyClassifier which uses the most frequent class as it's prediction. "
      ]
    },
    {
      "cell_type": "code",
      "execution_count": 45,
      "metadata": {
        "ExecuteTime": {
          "end_time": "2022-05-23T16:05:58.574943Z",
          "start_time": "2022-05-23T16:05:58.523033Z"
        },
        "id": "fQHXmArA0DWe",
        "outputId": "e8eac8c2-d44c-455f-b47f-3676838a9f91",
        "colab": {
          "base_uri": "https://localhost:8080/"
        }
      },
      "outputs": [
        {
          "output_type": "execute_result",
          "data": {
            "text/plain": [
              "DummyClassifier(strategy='most_frequent')"
            ]
          },
          "metadata": {},
          "execution_count": 45
        }
      ],
      "source": [
        "dummy_model = DummyClassifier(strategy='most_frequent')\n",
        "dummy_model.fit(final_images, final_labels)"
      ]
    },
    {
      "cell_type": "code",
      "execution_count": 46,
      "metadata": {
        "ExecuteTime": {
          "end_time": "2022-05-23T14:37:35.762069Z",
          "start_time": "2022-05-23T14:37:35.728654Z"
        },
        "id": "kT-Fmkxv0DWe"
      },
      "outputs": [],
      "source": [
        "dummy_preds = dummy_model.predict(X_test)\n",
        "\n",
        "dummy_acc = dummy_model.score(X_test, y_test)"
      ]
    },
    {
      "cell_type": "code",
      "execution_count": 47,
      "metadata": {
        "ExecuteTime": {
          "end_time": "2022-05-23T14:37:36.158514Z",
          "start_time": "2022-05-23T14:37:36.146852Z"
        },
        "id": "DHF4HzzW0DWe",
        "outputId": "5ebd5855-e162-4a9e-e78e-3aa797dd50a8",
        "colab": {
          "base_uri": "https://localhost:8080/"
        }
      },
      "outputs": [
        {
          "output_type": "execute_result",
          "data": {
            "text/plain": [
              "0.43333333333333335"
            ]
          },
          "metadata": {},
          "execution_count": 47
        }
      ],
      "source": [
        "dummy_acc"
      ]
    },
    {
      "cell_type": "markdown",
      "metadata": {
        "id": "sNx3XOei0DWe"
      },
      "source": [
        "### Model 1"
      ]
    },
    {
      "cell_type": "code",
      "execution_count": 48,
      "metadata": {
        "ExecuteTime": {
          "end_time": "2022-05-23T16:06:23.940257Z",
          "start_time": "2022-05-23T16:06:23.913564Z"
        },
        "id": "fS91mFCb0DWe"
      },
      "outputs": [],
      "source": [
        "adam = Adam(learning_rate=.0001)"
      ]
    },
    {
      "cell_type": "code",
      "execution_count": 49,
      "metadata": {
        "ExecuteTime": {
          "end_time": "2022-05-23T16:06:24.737002Z",
          "start_time": "2022-05-23T16:06:24.679818Z"
        },
        "id": "9BB3Pf3d0DWe"
      },
      "outputs": [],
      "source": [
        "def build_model():\n",
        "    model1 = Sequential()\n",
        "    model1.add(layers.Conv2D(filters=64,\n",
        "                       kernel_size=(3,3),\n",
        "                       activation='relu',\n",
        "                       input_shape=(256,256,1)))\n",
        "\n",
        "    model1.add(layers.MaxPool2D())\n",
        "\n",
        "    model1.add(layers.Conv2D(128, (3,3), activation='relu'))\n",
        "\n",
        "    model1.add(layers.MaxPool2D())\n",
        "    \n",
        "    model1.add(layers.Flatten())\n",
        "    model1.add(layers.Dense(64, activation='relu'))\n",
        "    model1.add(layers.Dropout(.25))\n",
        "\n",
        "    model1.add(layers.Dense(32, activation='relu', kernel_regularizer=l2(0.05)))\n",
        "\n",
        "    model1.add(layers.Dense(16, activation='relu', kernel_regularizer=l2(0.01)))\n",
        "    model1.add(layers.Dropout(.25))\n",
        "    \n",
        "    model1.add(layers.Dense(1, activation='sigmoid'))\n",
        "\n",
        "    model1.compile(optimizer=adam,\n",
        "                  loss='binary_crossentropy',\n",
        "                  metrics=['accuracy'])\n",
        "    return model1"
      ]
    },
    {
      "cell_type": "code",
      "execution_count": 50,
      "metadata": {
        "id": "V5cpuu3b0DWe",
        "outputId": "64d7f194-971b-4570-e724-a959195d5185",
        "colab": {
          "base_uri": "https://localhost:8080/"
        }
      },
      "outputs": [
        {
          "output_type": "stream",
          "name": "stderr",
          "text": [
            "/usr/local/lib/python3.7/dist-packages/ipykernel_launcher.py:1: DeprecationWarning: KerasClassifier is deprecated, use Sci-Keras (https://github.com/adriangb/scikeras) instead. See https://www.adriangb.com/scikeras/stable/migration.html for help migrating.\n",
            "  \"\"\"Entry point for launching an IPython kernel.\n"
          ]
        }
      ],
      "source": [
        "model1 = scikit_learn.KerasClassifier(build_model, verbose=2, epochs=20, batch_size=32)"
      ]
    },
    {
      "cell_type": "code",
      "execution_count": 51,
      "metadata": {
        "ExecuteTime": {
          "end_time": "2022-05-19T18:41:59.855237Z",
          "start_time": "2022-05-19T18:41:36.681608Z"
        },
        "collapsed": true,
        "id": "ekCKvScv0DWe",
        "outputId": "bbb83ddb-f82c-4e21-b4f8-1dfba7d9fbbb",
        "colab": {
          "base_uri": "https://localhost:8080/"
        }
      },
      "outputs": [
        {
          "output_type": "stream",
          "name": "stdout",
          "text": [
            "Epoch 1/20\n",
            "84/84 - 7s - loss: 16.2846 - accuracy: 0.5045 - 7s/epoch - 83ms/step\n",
            "Epoch 2/20\n",
            "84/84 - 5s - loss: 2.9338 - accuracy: 0.5164 - 5s/epoch - 57ms/step\n",
            "Epoch 3/20\n",
            "84/84 - 5s - loss: 2.8014 - accuracy: 0.5167 - 5s/epoch - 56ms/step\n",
            "Epoch 4/20\n",
            "84/84 - 5s - loss: 2.6875 - accuracy: 0.5167 - 5s/epoch - 57ms/step\n",
            "Epoch 5/20\n",
            "84/84 - 5s - loss: 2.5809 - accuracy: 0.5167 - 5s/epoch - 56ms/step\n",
            "Epoch 6/20\n",
            "84/84 - 5s - loss: 2.4812 - accuracy: 0.5167 - 5s/epoch - 57ms/step\n",
            "Epoch 7/20\n",
            "84/84 - 5s - loss: 2.3883 - accuracy: 0.5167 - 5s/epoch - 57ms/step\n",
            "Epoch 8/20\n",
            "84/84 - 5s - loss: 2.3016 - accuracy: 0.5167 - 5s/epoch - 57ms/step\n",
            "Epoch 9/20\n",
            "84/84 - 5s - loss: 2.2211 - accuracy: 0.5167 - 5s/epoch - 57ms/step\n",
            "Epoch 10/20\n",
            "84/84 - 5s - loss: 2.1462 - accuracy: 0.5167 - 5s/epoch - 57ms/step\n",
            "Epoch 11/20\n",
            "84/84 - 5s - loss: 2.0765 - accuracy: 0.5167 - 5s/epoch - 57ms/step\n",
            "Epoch 12/20\n",
            "84/84 - 5s - loss: 2.0121 - accuracy: 0.5167 - 5s/epoch - 57ms/step\n",
            "Epoch 13/20\n",
            "84/84 - 5s - loss: 1.9522 - accuracy: 0.5167 - 5s/epoch - 57ms/step\n",
            "Epoch 14/20\n",
            "84/84 - 5s - loss: 1.8965 - accuracy: 0.5167 - 5s/epoch - 57ms/step\n",
            "Epoch 15/20\n",
            "84/84 - 5s - loss: 1.8449 - accuracy: 0.5167 - 5s/epoch - 57ms/step\n",
            "Epoch 16/20\n",
            "84/84 - 5s - loss: 1.7970 - accuracy: 0.5167 - 5s/epoch - 57ms/step\n",
            "Epoch 17/20\n",
            "84/84 - 5s - loss: 1.7529 - accuracy: 0.5167 - 5s/epoch - 57ms/step\n",
            "Epoch 18/20\n",
            "84/84 - 5s - loss: 1.7119 - accuracy: 0.5167 - 5s/epoch - 57ms/step\n",
            "Epoch 19/20\n",
            "84/84 - 5s - loss: 1.6738 - accuracy: 0.5167 - 5s/epoch - 57ms/step\n",
            "Epoch 20/20\n",
            "84/84 - 5s - loss: 1.6386 - accuracy: 0.5167 - 5s/epoch - 56ms/step\n",
            "21/21 - 1s - loss: 1.6216 - accuracy: 0.5164 - 640ms/epoch - 30ms/step\n",
            "Epoch 1/20\n",
            "84/84 - 5s - loss: 8.6314 - accuracy: 0.5279 - 5s/epoch - 63ms/step\n",
            "Epoch 2/20\n",
            "84/84 - 5s - loss: 2.4801 - accuracy: 0.5554 - 5s/epoch - 57ms/step\n",
            "Epoch 3/20\n",
            "84/84 - 5s - loss: 2.2640 - accuracy: 0.5837 - 5s/epoch - 57ms/step\n",
            "Epoch 4/20\n",
            "84/84 - 5s - loss: 2.1069 - accuracy: 0.6083 - 5s/epoch - 57ms/step\n",
            "Epoch 5/20\n",
            "84/84 - 5s - loss: 1.9786 - accuracy: 0.6421 - 5s/epoch - 57ms/step\n",
            "Epoch 6/20\n",
            "84/84 - 5s - loss: 1.8843 - accuracy: 0.6689 - 5s/epoch - 56ms/step\n",
            "Epoch 7/20\n",
            "84/84 - 5s - loss: 1.7719 - accuracy: 0.6853 - 5s/epoch - 57ms/step\n",
            "Epoch 8/20\n",
            "84/84 - 5s - loss: 1.6888 - accuracy: 0.7191 - 5s/epoch - 57ms/step\n",
            "Epoch 9/20\n",
            "84/84 - 5s - loss: 1.6086 - accuracy: 0.7459 - 5s/epoch - 57ms/step\n",
            "Epoch 10/20\n",
            "84/84 - 5s - loss: 1.5284 - accuracy: 0.7589 - 5s/epoch - 57ms/step\n",
            "Epoch 11/20\n",
            "84/84 - 5s - loss: 1.4456 - accuracy: 0.8013 - 5s/epoch - 57ms/step\n",
            "Epoch 12/20\n",
            "84/84 - 5s - loss: 1.3498 - accuracy: 0.8400 - 5s/epoch - 57ms/step\n",
            "Epoch 13/20\n",
            "84/84 - 5s - loss: 1.2730 - accuracy: 0.8847 - 5s/epoch - 57ms/step\n",
            "Epoch 14/20\n",
            "84/84 - 5s - loss: 1.1965 - accuracy: 0.8999 - 5s/epoch - 57ms/step\n",
            "Epoch 15/20\n",
            "84/84 - 5s - loss: 1.1349 - accuracy: 0.9163 - 5s/epoch - 56ms/step\n",
            "Epoch 16/20\n",
            "84/84 - 5s - loss: 1.0834 - accuracy: 0.9468 - 5s/epoch - 57ms/step\n",
            "Epoch 17/20\n",
            "84/84 - 5s - loss: 1.0290 - accuracy: 0.9520 - 5s/epoch - 57ms/step\n",
            "Epoch 18/20\n",
            "84/84 - 5s - loss: 0.9967 - accuracy: 0.9598 - 5s/epoch - 57ms/step\n",
            "Epoch 19/20\n",
            "84/84 - 5s - loss: 0.9609 - accuracy: 0.9702 - 5s/epoch - 57ms/step\n",
            "Epoch 20/20\n",
            "84/84 - 5s - loss: 0.9327 - accuracy: 0.9740 - 5s/epoch - 57ms/step\n",
            "21/21 - 1s - loss: 1.8433 - accuracy: 0.6310 - 615ms/epoch - 29ms/step\n",
            "Epoch 1/20\n",
            "84/84 - 6s - loss: 10.7254 - accuracy: 0.5015 - 6s/epoch - 67ms/step\n",
            "Epoch 2/20\n",
            "84/84 - 5s - loss: 2.3615 - accuracy: 0.5275 - 5s/epoch - 57ms/step\n",
            "Epoch 3/20\n",
            "84/84 - 5s - loss: 2.1493 - accuracy: 0.5766 - 5s/epoch - 58ms/step\n",
            "Epoch 4/20\n",
            "84/84 - 5s - loss: 1.9871 - accuracy: 0.6265 - 5s/epoch - 57ms/step\n",
            "Epoch 5/20\n",
            "84/84 - 5s - loss: 1.8494 - accuracy: 0.6514 - 5s/epoch - 57ms/step\n",
            "Epoch 6/20\n",
            "84/84 - 5s - loss: 1.7072 - accuracy: 0.6975 - 5s/epoch - 58ms/step\n",
            "Epoch 7/20\n",
            "84/84 - 5s - loss: 1.5863 - accuracy: 0.7392 - 5s/epoch - 58ms/step\n",
            "Epoch 8/20\n",
            "84/84 - 5s - loss: 1.4922 - accuracy: 0.7827 - 5s/epoch - 58ms/step\n",
            "Epoch 9/20\n",
            "84/84 - 5s - loss: 1.3968 - accuracy: 0.8084 - 5s/epoch - 58ms/step\n",
            "Epoch 10/20\n",
            "84/84 - 5s - loss: 1.3270 - accuracy: 0.8385 - 5s/epoch - 58ms/step\n",
            "Epoch 11/20\n",
            "84/84 - 5s - loss: 1.2596 - accuracy: 0.8553 - 5s/epoch - 57ms/step\n",
            "Epoch 12/20\n",
            "84/84 - 5s - loss: 1.2052 - accuracy: 0.8765 - 5s/epoch - 58ms/step\n",
            "Epoch 13/20\n",
            "84/84 - 5s - loss: 1.1548 - accuracy: 0.8917 - 5s/epoch - 58ms/step\n",
            "Epoch 14/20\n",
            "84/84 - 5s - loss: 1.1100 - accuracy: 0.8996 - 5s/epoch - 58ms/step\n",
            "Epoch 15/20\n",
            "84/84 - 5s - loss: 1.0730 - accuracy: 0.9096 - 5s/epoch - 58ms/step\n",
            "Epoch 16/20\n",
            "84/84 - 5s - loss: 1.0416 - accuracy: 0.9204 - 5s/epoch - 58ms/step\n",
            "Epoch 17/20\n",
            "84/84 - 5s - loss: 0.9978 - accuracy: 0.9263 - 5s/epoch - 58ms/step\n",
            "Epoch 18/20\n",
            "84/84 - 5s - loss: 0.9631 - accuracy: 0.9334 - 5s/epoch - 58ms/step\n",
            "Epoch 19/20\n",
            "84/84 - 5s - loss: 0.9373 - accuracy: 0.9416 - 5s/epoch - 58ms/step\n",
            "Epoch 20/20\n",
            "84/84 - 5s - loss: 0.9075 - accuracy: 0.9472 - 5s/epoch - 58ms/step\n",
            "21/21 - 1s - loss: 2.5534 - accuracy: 0.6295 - 622ms/epoch - 30ms/step\n",
            "Epoch 1/20\n",
            "84/84 - 5s - loss: 11.6885 - accuracy: 0.5048 - 5s/epoch - 64ms/step\n",
            "Epoch 2/20\n",
            "84/84 - 5s - loss: 2.4535 - accuracy: 0.5406 - 5s/epoch - 57ms/step\n",
            "Epoch 3/20\n",
            "84/84 - 5s - loss: 2.2555 - accuracy: 0.5677 - 5s/epoch - 57ms/step\n",
            "Epoch 4/20\n",
            "84/84 - 5s - loss: 2.1114 - accuracy: 0.6127 - 5s/epoch - 57ms/step\n",
            "Epoch 5/20\n",
            "84/84 - 5s - loss: 2.0017 - accuracy: 0.6313 - 5s/epoch - 57ms/step\n",
            "Epoch 6/20\n",
            "84/84 - 5s - loss: 1.9013 - accuracy: 0.6760 - 5s/epoch - 57ms/step\n",
            "Epoch 7/20\n",
            "84/84 - 5s - loss: 1.8037 - accuracy: 0.7113 - 5s/epoch - 57ms/step\n",
            "Epoch 8/20\n",
            "84/84 - 5s - loss: 1.7174 - accuracy: 0.7333 - 5s/epoch - 57ms/step\n",
            "Epoch 9/20\n",
            "84/84 - 5s - loss: 1.6501 - accuracy: 0.7537 - 5s/epoch - 57ms/step\n",
            "Epoch 10/20\n",
            "84/84 - 5s - loss: 1.5712 - accuracy: 0.7742 - 5s/epoch - 57ms/step\n",
            "Epoch 11/20\n",
            "84/84 - 5s - loss: 1.4959 - accuracy: 0.8065 - 5s/epoch - 57ms/step\n",
            "Epoch 12/20\n",
            "84/84 - 5s - loss: 1.4549 - accuracy: 0.8211 - 5s/epoch - 57ms/step\n",
            "Epoch 13/20\n",
            "84/84 - 5s - loss: 1.3917 - accuracy: 0.8363 - 5s/epoch - 57ms/step\n",
            "Epoch 14/20\n",
            "84/84 - 5s - loss: 1.3482 - accuracy: 0.8583 - 5s/epoch - 57ms/step\n",
            "Epoch 15/20\n",
            "84/84 - 5s - loss: 1.2936 - accuracy: 0.8757 - 5s/epoch - 57ms/step\n",
            "Epoch 16/20\n",
            "84/84 - 5s - loss: 1.2542 - accuracy: 0.8884 - 5s/epoch - 57ms/step\n",
            "Epoch 17/20\n",
            "84/84 - 5s - loss: 1.2212 - accuracy: 0.9051 - 5s/epoch - 57ms/step\n",
            "Epoch 18/20\n",
            "84/84 - 5s - loss: 1.1893 - accuracy: 0.9170 - 5s/epoch - 57ms/step\n",
            "Epoch 19/20\n",
            "84/84 - 5s - loss: 1.1644 - accuracy: 0.9293 - 5s/epoch - 57ms/step\n",
            "Epoch 20/20\n",
            "84/84 - 5s - loss: 1.1259 - accuracy: 0.9342 - 5s/epoch - 57ms/step\n",
            "21/21 - 1s - loss: 3.8725 - accuracy: 0.5342 - 634ms/epoch - 30ms/step\n",
            "Epoch 1/20\n",
            "84/84 - 5s - loss: 10.1018 - accuracy: 0.5197 - 5s/epoch - 64ms/step\n",
            "Epoch 2/20\n",
            "84/84 - 5s - loss: 2.4505 - accuracy: 0.5781 - 5s/epoch - 57ms/step\n",
            "Epoch 3/20\n",
            "84/84 - 5s - loss: 2.2273 - accuracy: 0.6179 - 5s/epoch - 57ms/step\n",
            "Epoch 4/20\n",
            "84/84 - 5s - loss: 2.0627 - accuracy: 0.6562 - 5s/epoch - 57ms/step\n",
            "Epoch 5/20\n",
            "84/84 - 5s - loss: 1.9301 - accuracy: 0.6946 - 5s/epoch - 57ms/step\n",
            "Epoch 6/20\n",
            "84/84 - 5s - loss: 1.7899 - accuracy: 0.7281 - 5s/epoch - 57ms/step\n",
            "Epoch 7/20\n",
            "84/84 - 5s - loss: 1.6705 - accuracy: 0.7634 - 5s/epoch - 57ms/step\n",
            "Epoch 8/20\n",
            "84/84 - 5s - loss: 1.5717 - accuracy: 0.7939 - 5s/epoch - 57ms/step\n",
            "Epoch 9/20\n",
            "84/84 - 5s - loss: 1.4960 - accuracy: 0.8125 - 5s/epoch - 57ms/step\n",
            "Epoch 10/20\n",
            "84/84 - 5s - loss: 1.4324 - accuracy: 0.8434 - 5s/epoch - 57ms/step\n",
            "Epoch 11/20\n",
            "84/84 - 5s - loss: 1.3469 - accuracy: 0.8638 - 5s/epoch - 57ms/step\n",
            "Epoch 12/20\n",
            "84/84 - 5s - loss: 1.2965 - accuracy: 0.8810 - 5s/epoch - 57ms/step\n",
            "Epoch 13/20\n",
            "84/84 - 5s - loss: 1.2397 - accuracy: 0.9033 - 5s/epoch - 57ms/step\n",
            "Epoch 14/20\n",
            "84/84 - 5s - loss: 1.1932 - accuracy: 0.9070 - 5s/epoch - 57ms/step\n",
            "Epoch 15/20\n",
            "84/84 - 5s - loss: 1.1373 - accuracy: 0.9289 - 5s/epoch - 57ms/step\n",
            "Epoch 16/20\n",
            "84/84 - 5s - loss: 1.0988 - accuracy: 0.9390 - 5s/epoch - 57ms/step\n",
            "Epoch 17/20\n",
            "84/84 - 5s - loss: 1.0662 - accuracy: 0.9475 - 5s/epoch - 57ms/step\n",
            "Epoch 18/20\n",
            "84/84 - 5s - loss: 1.0305 - accuracy: 0.9542 - 5s/epoch - 57ms/step\n",
            "Epoch 19/20\n",
            "84/84 - 5s - loss: 0.9952 - accuracy: 0.9635 - 5s/epoch - 57ms/step\n",
            "Epoch 20/20\n",
            "84/84 - 5s - loss: 0.9653 - accuracy: 0.9665 - 5s/epoch - 57ms/step\n",
            "21/21 - 1s - loss: 3.7062 - accuracy: 0.5432 - 632ms/epoch - 30ms/step\n"
          ]
        }
      ],
      "source": [
        "#Cross validation will be run in and pickled from colab to save time.\n",
        "model1_cv_results = cross_val_score(model1, final_images, final_labels)"
      ]
    },
    {
      "cell_type": "code",
      "execution_count": 52,
      "metadata": {
        "id": "AbFIKicP0DWe",
        "outputId": "26b22d7d-7da0-4cf6-801d-bc7ffb409129",
        "colab": {
          "base_uri": "https://localhost:8080/"
        }
      },
      "outputs": [
        {
          "output_type": "execute_result",
          "data": {
            "text/plain": [
              "0.5708333253860474"
            ]
          },
          "metadata": {},
          "execution_count": 52
        }
      ],
      "source": [
        "model1_cv_results.mean()"
      ]
    },
    {
      "cell_type": "code",
      "execution_count": null,
      "metadata": {
        "id": "oRWotf-I0DWe"
      },
      "outputs": [],
      "source": [
        "# model1_cv_pickle = '/model1_cv_pickle.sav'\n",
        "# pickle.dump(model1_cv_results, open(model1_cv_pickle, 'wb'))"
      ]
    },
    {
      "cell_type": "code",
      "execution_count": 53,
      "metadata": {
        "collapsed": true,
        "id": "4Tc-TqN10DWe",
        "outputId": "57650fcf-e69e-4005-ae86-41157ee3238b",
        "colab": {
          "base_uri": "https://localhost:8080/"
        }
      },
      "outputs": [
        {
          "output_type": "stream",
          "name": "stdout",
          "text": [
            "Epoch 1/20\n",
            "84/84 - 6s - loss: 8.1536 - accuracy: 0.5156 - val_loss: 2.4090 - val_accuracy: 0.5417 - 6s/epoch - 76ms/step\n",
            "Epoch 2/20\n",
            "84/84 - 5s - loss: 2.2712 - accuracy: 0.5502 - val_loss: 2.1688 - val_accuracy: 0.5521 - 5s/epoch - 65ms/step\n",
            "Epoch 3/20\n",
            "84/84 - 5s - loss: 2.0597 - accuracy: 0.5867 - val_loss: 2.0128 - val_accuracy: 0.5952 - 5s/epoch - 64ms/step\n",
            "Epoch 4/20\n",
            "84/84 - 5s - loss: 1.9035 - accuracy: 0.6551 - val_loss: 2.1196 - val_accuracy: 0.5729 - 5s/epoch - 64ms/step\n",
            "Epoch 5/20\n",
            "84/84 - 5s - loss: 1.7520 - accuracy: 0.6923 - val_loss: 2.0634 - val_accuracy: 0.5045 - 5s/epoch - 64ms/step\n",
            "Epoch 6/20\n",
            "84/84 - 5s - loss: 1.6097 - accuracy: 0.7336 - val_loss: 2.2891 - val_accuracy: 0.5134 - 5s/epoch - 65ms/step\n",
            "Epoch 7/20\n",
            "84/84 - 6s - loss: 1.5071 - accuracy: 0.7675 - val_loss: 2.2615 - val_accuracy: 0.5268 - 6s/epoch - 66ms/step\n",
            "Epoch 8/20\n",
            "84/84 - 5s - loss: 1.4227 - accuracy: 0.7984 - val_loss: 2.5312 - val_accuracy: 0.5402 - 5s/epoch - 64ms/step\n",
            "Epoch 9/20\n",
            "84/84 - 6s - loss: 1.3469 - accuracy: 0.8285 - val_loss: 2.7140 - val_accuracy: 0.5342 - 6s/epoch - 66ms/step\n",
            "Epoch 10/20\n",
            "84/84 - 6s - loss: 1.2917 - accuracy: 0.8508 - val_loss: 2.7102 - val_accuracy: 0.5327 - 6s/epoch - 66ms/step\n",
            "Epoch 11/20\n",
            "84/84 - 5s - loss: 1.2103 - accuracy: 0.8824 - val_loss: 3.3116 - val_accuracy: 0.5432 - 5s/epoch - 64ms/step\n",
            "Epoch 12/20\n",
            "84/84 - 5s - loss: 1.1744 - accuracy: 0.8865 - val_loss: 3.3373 - val_accuracy: 0.5372 - 5s/epoch - 65ms/step\n",
            "Epoch 13/20\n",
            "84/84 - 5s - loss: 1.1256 - accuracy: 0.9022 - val_loss: 3.1375 - val_accuracy: 0.5446 - 5s/epoch - 64ms/step\n",
            "Epoch 14/20\n",
            "84/84 - 5s - loss: 1.0735 - accuracy: 0.9204 - val_loss: 3.8107 - val_accuracy: 0.5580 - 5s/epoch - 64ms/step\n",
            "Epoch 15/20\n",
            "84/84 - 6s - loss: 1.0392 - accuracy: 0.9293 - val_loss: 3.8830 - val_accuracy: 0.5506 - 6s/epoch - 66ms/step\n",
            "Epoch 16/20\n",
            "84/84 - 6s - loss: 1.0049 - accuracy: 0.9371 - val_loss: 3.5253 - val_accuracy: 0.5223 - 6s/epoch - 67ms/step\n",
            "Epoch 17/20\n",
            "84/84 - 6s - loss: 0.9822 - accuracy: 0.9498 - val_loss: 3.4090 - val_accuracy: 0.5461 - 6s/epoch - 66ms/step\n",
            "Epoch 18/20\n",
            "84/84 - 5s - loss: 0.9450 - accuracy: 0.9572 - val_loss: 3.8660 - val_accuracy: 0.5580 - 5s/epoch - 65ms/step\n",
            "Epoch 19/20\n",
            "84/84 - 5s - loss: 0.9143 - accuracy: 0.9624 - val_loss: 3.9485 - val_accuracy: 0.5595 - 5s/epoch - 64ms/step\n",
            "Epoch 20/20\n",
            "84/84 - 5s - loss: 0.8896 - accuracy: 0.9661 - val_loss: 4.0337 - val_accuracy: 0.5565 - 5s/epoch - 65ms/step\n"
          ]
        }
      ],
      "source": [
        "# Colab is running a newer version of tensorflow which is incompatible\n",
        "# with my local machine. Therefor keras.save() and pickling won't work \n",
        "# from Colab and the model will be ran and saved here.\n",
        "#ONLY run best model based on cv results\n",
        "model1 = model1.fit(final_images, final_labels, validation_split=.2)"
      ]
    },
    {
      "cell_type": "code",
      "execution_count": 56,
      "metadata": {
        "id": "4R3zK7bp0DWe",
        "outputId": "11beb0eb-10a6-4a3a-bcb1-f50b8f2de477",
        "colab": {
          "base_uri": "https://localhost:8080/"
        }
      },
      "outputs": [
        {
          "output_type": "stream",
          "name": "stdout",
          "text": [
            "INFO:tensorflow:Assets written to: ram://436cadcd-6952-403e-9e75-0848c07dae06/assets\n"
          ]
        }
      ],
      "source": [
        "model1_pickle = 'model1_pickle.sav'\n",
        "pickle.dump(model1, open(model1_pickle, 'wb'))"
      ]
    }
  ],
  "metadata": {
    "kernelspec": {
      "display_name": "tf-test",
      "language": "python",
      "name": "tf-test"
    },
    "language_info": {
      "codemirror_mode": {
        "name": "ipython",
        "version": 3
      },
      "file_extension": ".py",
      "mimetype": "text/x-python",
      "name": "python",
      "nbconvert_exporter": "python",
      "pygments_lexer": "ipython3",
      "version": "3.6.13"
    },
    "toc": {
      "base_numbering": 1,
      "nav_menu": {},
      "number_sections": true,
      "sideBar": true,
      "skip_h1_title": false,
      "title_cell": "Table of Contents",
      "title_sidebar": "Contents",
      "toc_cell": false,
      "toc_position": {},
      "toc_section_display": true,
      "toc_window_display": false
    },
    "colab": {
      "name": "Model1_Notebook.ipynb",
      "provenance": []
    },
    "accelerator": "GPU"
  },
  "nbformat": 4,
  "nbformat_minor": 0
}