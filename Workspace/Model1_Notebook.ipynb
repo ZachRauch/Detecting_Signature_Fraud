{
  "cells": [
    {
      "cell_type": "markdown",
      "metadata": {
        "id": "ptSIULqi0DWU"
      },
      "source": [
        "# Signature Classification"
      ]
    },
    {
      "cell_type": "markdown",
      "metadata": {
        "id": "PxrvvpR70DWW"
      },
      "source": [
        "![img](https://github.com/ZachRauch/Signature_Classification/blob/main/images/signature_banner.jpeg?raw=1)"
      ]
    },
    {
      "cell_type": "markdown",
      "metadata": {
        "id": "l0PvrSkU0DWW"
      },
      "source": [
        "## Overview"
      ]
    },
    {
      "cell_type": "markdown",
      "metadata": {
        "id": "7JkPYbhX0DWW"
      },
      "source": [
        "The aim of this analysis is to identify fraudulent signatures in a dataset. My audience here is _______. Using just a small dataset with only 300 sample I was able to create a "
      ]
    },
    {
      "cell_type": "markdown",
      "metadata": {
        "id": "dGntQdLa0DWX"
      },
      "source": [
        "## Business Problem"
      ]
    },
    {
      "cell_type": "markdown",
      "metadata": {
        "id": "8tIYg67U0DWX"
      },
      "source": [
        "Currently institutions and businesses recognize signatures as the primary way of authenticating transactions. Signatures are used to sign checks, authorize documents and contracts, and validate credit card transactions. According to recent studies, check fraud costs banks about $900M a year with 22 percent of all fraudulent checks attributed to signature fraud. Therefor, creating an algorithm to identify signature fraud is a valuable asset. "
      ]
    },
    {
      "cell_type": "markdown",
      "metadata": {
        "id": "aIHjXOJb0DWX"
      },
      "source": [
        "## Imports"
      ]
    },
    {
      "cell_type": "code",
      "execution_count": 1,
      "metadata": {
        "ExecuteTime": {
          "end_time": "2022-05-23T16:05:39.636501Z",
          "start_time": "2022-05-23T16:05:39.532903Z"
        },
        "id": "Foi2HQyc0DWY"
      },
      "outputs": [],
      "source": [
        "import pandas as pd\n",
        "import numpy as np\n",
        "import matplotlib.pyplot as plt\n",
        "%matplotlib inline\n",
        "import seaborn as sns\n",
        "import tensorflow as tf\n",
        "from tensorflow.keras.models import Sequential\n",
        "import zipfile\n",
        "from tensorflow.keras.preprocessing.image import ImageDataGenerator, array_to_img, img_to_array, load_img\n",
        "from tensorflow.keras import models, layers, optimizers, metrics, regularizers, losses\n",
        "from tensorflow.keras.wrappers import scikit_learn\n",
        "from tensorflow.keras.regularizers import l2\n",
        "from tensorflow.keras.callbacks import ModelCheckpoint\n",
        "\n",
        "from sklearn.model_selection import train_test_split, cross_val_score\n",
        "from sklearn.dummy import DummyClassifier\n",
        "from sklearn.metrics import auc, recall_score, precision_score, \\\n",
        "                            confusion_matrix, plot_confusion_matrix, \\\n",
        "                            roc_auc_score, roc_curve\n",
        "from tensorflow.keras.optimizers import SGD, Adam\n",
        "import pickle\n",
        "\n",
        "\n",
        "seed = 777\n",
        "tf.random.set_seed(seed)\n",
        "np.random.seed(seed)"
      ]
    },
    {
      "cell_type": "markdown",
      "metadata": {
        "id": "1jpRePR80DWZ"
      },
      "source": [
        "## Colab Necessary Code"
      ]
    },
    {
      "cell_type": "markdown",
      "metadata": {
        "id": "LRCAjKzx0DWZ"
      },
      "source": [
        "Google Colab was used to help streamline the modeling process. Modeling using Convolutional Neural Networks can be computationally expensive, so if you would like to run this notebook faster, I would recommend creating a Colab account and storing the data, discussed below, in a Google Drive file. "
      ]
    },
    {
      "cell_type": "code",
      "execution_count": 2,
      "metadata": {
        "ExecuteTime": {
          "end_time": "2022-05-23T16:05:39.641944Z",
          "start_time": "2022-05-23T16:05:39.639706Z"
        },
        "id": "SzlRl_AB0DWZ",
        "outputId": "59c099f4-0b94-43b5-ab0e-9658162f5ef5",
        "colab": {
          "base_uri": "https://localhost:8080/"
        }
      },
      "outputs": [
        {
          "output_type": "stream",
          "name": "stdout",
          "text": [
            "Mounted at /content/drive\n"
          ]
        }
      ],
      "source": [
        "from google.colab import drive\n",
        "drive.mount('/content/drive')"
      ]
    },
    {
      "cell_type": "markdown",
      "metadata": {
        "id": "br3-j3on0DWZ"
      },
      "source": [
        "## Data"
      ]
    },
    {
      "cell_type": "markdown",
      "metadata": {
        "id": "5QlgoT1t0DWa"
      },
      "source": [
        "The data used in this notebook can be found [here](https://www.kaggle.com/datasets/divyanshrai/handwritten-signatures). The dataset contains just 300 samples of genuine and forged signatures from 30 people, of which 50 percent are genuine and 50 percent are forged. "
      ]
    },
    {
      "cell_type": "code",
      "execution_count": 3,
      "metadata": {
        "ExecuteTime": {
          "end_time": "2022-05-23T16:05:39.653625Z",
          "start_time": "2022-05-23T16:05:39.647324Z"
        },
        "id": "e8bk9hZT0DWa"
      },
      "outputs": [],
      "source": [
        "# instantiate ImageDataGenerator scaling each pixel's values down to a scale of 1\n",
        "img = ImageDataGenerator(rescale=1/255)"
      ]
    },
    {
      "cell_type": "code",
      "execution_count": 4,
      "metadata": {
        "ExecuteTime": {
          "end_time": "2022-05-23T16:05:39.665891Z",
          "start_time": "2022-05-23T16:05:39.659606Z"
        },
        "id": "w0XKBPLo0DWa"
      },
      "outputs": [],
      "source": [
        "# data_path = '../Data/sample_Signature/sample_Signature/'\n",
        "# For Colab \n",
        "data_path = '/content/drive/MyDrive/sample_Signature/sample_Signature/'"
      ]
    },
    {
      "cell_type": "code",
      "execution_count": 5,
      "metadata": {
        "ExecuteTime": {
          "end_time": "2022-05-23T16:05:39.796644Z",
          "start_time": "2022-05-23T16:05:39.666882Z"
        },
        "scrolled": false,
        "id": "ie8tSIhP0DWa",
        "outputId": "fef2db6a-4847-444e-c4de-be76686315d1",
        "colab": {
          "base_uri": "https://localhost:8080/"
        }
      },
      "outputs": [
        {
          "output_type": "stream",
          "name": "stdout",
          "text": [
            "Found 300 images belonging to 2 classes.\n"
          ]
        }
      ],
      "source": [
        "# Importing the data\n",
        "data = img.flow_from_directory(data_path, color_mode='grayscale',\\\n",
        "                               batch_size=300, class_mode='binary')"
      ]
    },
    {
      "cell_type": "code",
      "execution_count": 6,
      "metadata": {
        "ExecuteTime": {
          "end_time": "2022-05-23T16:05:39.816340Z",
          "start_time": "2022-05-23T16:05:39.798372Z"
        },
        "id": "pHsQ8-cU0DWa",
        "outputId": "a270eb16-8bdc-4596-de2b-d569803175e2",
        "colab": {
          "base_uri": "https://localhost:8080/"
        }
      },
      "outputs": [
        {
          "output_type": "execute_result",
          "data": {
            "text/plain": [
              "{'forged': 0, 'genuine': 1}"
            ]
          },
          "metadata": {},
          "execution_count": 6
        }
      ],
      "source": [
        "data.class_indices"
      ]
    },
    {
      "cell_type": "code",
      "execution_count": 7,
      "metadata": {
        "ExecuteTime": {
          "end_time": "2022-05-23T16:05:43.282679Z",
          "start_time": "2022-05-23T16:05:39.818265Z"
        },
        "id": "vd1OikVB0DWa"
      },
      "outputs": [],
      "source": [
        "data_images, data_labels = next(data)"
      ]
    },
    {
      "cell_type": "code",
      "execution_count": 8,
      "metadata": {
        "ExecuteTime": {
          "end_time": "2022-05-23T16:05:43.286298Z",
          "start_time": "2022-05-23T16:05:43.283993Z"
        },
        "id": "Rj6lJ_0F0DWa",
        "outputId": "49c3ac6e-91fd-466f-f7b2-3af5ab68b687",
        "colab": {
          "base_uri": "https://localhost:8080/"
        }
      },
      "outputs": [
        {
          "output_type": "execute_result",
          "data": {
            "text/plain": [
              "(300, 256, 256, 1)"
            ]
          },
          "metadata": {},
          "execution_count": 8
        }
      ],
      "source": [
        "data_images.shape"
      ]
    },
    {
      "cell_type": "code",
      "execution_count": 9,
      "metadata": {
        "ExecuteTime": {
          "end_time": "2022-05-23T16:05:43.289203Z",
          "start_time": "2022-05-23T16:05:43.287091Z"
        },
        "id": "Iw64bQi30DWb",
        "outputId": "ee5d3f73-e323-4591-a406-f0cb794e229e",
        "colab": {
          "base_uri": "https://localhost:8080/"
        }
      },
      "outputs": [
        {
          "output_type": "execute_result",
          "data": {
            "text/plain": [
              "(300,)"
            ]
          },
          "metadata": {},
          "execution_count": 9
        }
      ],
      "source": [
        "data_labels.shape"
      ]
    },
    {
      "cell_type": "code",
      "execution_count": 10,
      "metadata": {
        "ExecuteTime": {
          "end_time": "2022-05-23T16:05:43.378014Z",
          "start_time": "2022-05-23T16:05:43.290028Z"
        },
        "id": "fiRyt5gF0DWb"
      },
      "outputs": [],
      "source": [
        "X_train, X_test, y_train, y_test = train_test_split( \\\n",
        "            data_images, data_labels, random_state=seed, test_size=.2)"
      ]
    },
    {
      "cell_type": "code",
      "execution_count": 11,
      "metadata": {
        "ExecuteTime": {
          "end_time": "2022-05-23T16:05:43.381950Z",
          "start_time": "2022-05-23T16:05:43.379012Z"
        },
        "id": "UX6uGMCo0DWb",
        "outputId": "11057e76-df31-4b47-a2b7-5a0b0856a32a",
        "colab": {
          "base_uri": "https://localhost:8080/"
        }
      },
      "outputs": [
        {
          "output_type": "execute_result",
          "data": {
            "text/plain": [
              "(240, 256, 256, 1)"
            ]
          },
          "metadata": {},
          "execution_count": 11
        }
      ],
      "source": [
        "X_train.shape"
      ]
    },
    {
      "cell_type": "code",
      "execution_count": 12,
      "metadata": {
        "ExecuteTime": {
          "end_time": "2022-05-23T16:05:43.385945Z",
          "start_time": "2022-05-23T16:05:43.382938Z"
        },
        "scrolled": true,
        "id": "sBUoFk0E0DWb",
        "outputId": "3036cce4-0fb4-449b-ba57-36433dfe6fef",
        "colab": {
          "base_uri": "https://localhost:8080/"
        }
      },
      "outputs": [
        {
          "output_type": "execute_result",
          "data": {
            "text/plain": [
              "(240,)"
            ]
          },
          "metadata": {},
          "execution_count": 12
        }
      ],
      "source": [
        "y_train.shape"
      ]
    },
    {
      "cell_type": "markdown",
      "metadata": {
        "id": "bGdjPhiL0DWb"
      },
      "source": [
        "Above we instantiate Keras' ImageDataGenerator which will scale each pixel's values down to a value of 1. Next we import the data and separate into the images themselves and their respective labels. The class indices indicate what the label values correspond to. Finally we split it into a train and test dataset."
      ]
    },
    {
      "cell_type": "markdown",
      "metadata": {
        "id": "S1qQ7tZw0DWb"
      },
      "source": [
        "### Image Augmentation"
      ]
    },
    {
      "cell_type": "markdown",
      "metadata": {
        "id": "FVN4fruQ0DWb"
      },
      "source": [
        "Because we have such a small dataset it is important to use image augmentation to artificially expand the training dataset. Below we do several forms of data augmentation individually before combining the techniques at the end."
      ]
    },
    {
      "cell_type": "markdown",
      "metadata": {
        "id": "WdiTdHFI0DWb"
      },
      "source": [
        "#### Zoom Augmentation"
      ]
    },
    {
      "cell_type": "markdown",
      "metadata": {
        "id": "sFH6noII0DWb"
      },
      "source": [
        "The first technique we explore is zoom range. Entering a range of values, .25 and 1 in this case, randomly applies a zoom to each image within that range."
      ]
    },
    {
      "cell_type": "code",
      "execution_count": 13,
      "metadata": {
        "ExecuteTime": {
          "end_time": "2022-05-23T16:05:43.432353Z",
          "start_time": "2022-05-23T16:05:43.389712Z"
        },
        "id": "_xI3TrQQ0DWb"
      },
      "outputs": [],
      "source": [
        "aug = ImageDataGenerator(zoom_range=[.25,1])\n",
        "aug.fit(X_train)\n",
        "aug_data = aug.flow(X_train, y_train, batch_size=240)"
      ]
    },
    {
      "cell_type": "code",
      "execution_count": 14,
      "metadata": {
        "ExecuteTime": {
          "end_time": "2022-05-23T16:05:44.752274Z",
          "start_time": "2022-05-23T16:05:43.434570Z"
        },
        "id": "Q2fqt13j0DWb"
      },
      "outputs": [],
      "source": [
        "aug_images, aug_labels = next(aug_data)"
      ]
    },
    {
      "cell_type": "code",
      "execution_count": 15,
      "metadata": {
        "ExecuteTime": {
          "end_time": "2022-05-23T16:05:44.757428Z",
          "start_time": "2022-05-23T16:05:44.753421Z"
        },
        "id": "UJzAAEw50DWb",
        "outputId": "40150a8a-3a69-462b-870b-28ca16ac2ae1",
        "colab": {
          "base_uri": "https://localhost:8080/"
        }
      },
      "outputs": [
        {
          "output_type": "execute_result",
          "data": {
            "text/plain": [
              "(240, 256, 256, 1)"
            ]
          },
          "metadata": {},
          "execution_count": 15
        }
      ],
      "source": [
        "aug_images.shape"
      ]
    },
    {
      "cell_type": "code",
      "execution_count": 16,
      "metadata": {
        "ExecuteTime": {
          "end_time": "2022-05-23T16:05:44.763236Z",
          "start_time": "2022-05-23T16:05:44.760240Z"
        },
        "scrolled": false,
        "id": "JqyUa7Rb0DWb",
        "outputId": "4115dbed-9424-4d68-ff75-4e1dfaa7c3e9",
        "colab": {
          "base_uri": "https://localhost:8080/"
        }
      },
      "outputs": [
        {
          "output_type": "execute_result",
          "data": {
            "text/plain": [
              "(240,)"
            ]
          },
          "metadata": {},
          "execution_count": 16
        }
      ],
      "source": [
        "aug_labels.shape"
      ]
    },
    {
      "cell_type": "code",
      "execution_count": 17,
      "metadata": {
        "ExecuteTime": {
          "end_time": "2022-05-23T16:05:44.773039Z",
          "start_time": "2022-05-23T16:05:44.764282Z"
        },
        "scrolled": true,
        "id": "mus5-mMz0DWc",
        "outputId": "ed56eecd-15ce-4779-8228-57d7f3a3c903",
        "colab": {
          "base_uri": "https://localhost:8080/",
          "height": 0
        }
      },
      "outputs": [
        {
          "output_type": "execute_result",
          "data": {
            "text/plain": [
              "<PIL.Image.Image image mode=L size=256x256 at 0x7F3206031C10>"
            ],
            "image/png": "[encoded data removed]"
          },
          "metadata": {},
          "execution_count": 17
        }
      ],
      "source": [
        "array_to_img(aug_images[0])"
      ]
    },
    {
      "cell_type": "code",
      "execution_count": 18,
      "metadata": {
        "ExecuteTime": {
          "end_time": "2022-05-23T16:05:44.837593Z",
          "start_time": "2022-05-23T16:05:44.774121Z"
        },
        "id": "ok-mZtR50DWc"
      },
      "outputs": [],
      "source": [
        "new_images1 = np.concatenate([X_train, aug_images])\n",
        "new_labels1 = np.concatenate([y_train, aug_labels])"
      ]
    },
    {
      "cell_type": "code",
      "execution_count": 19,
      "metadata": {
        "ExecuteTime": {
          "end_time": "2022-05-23T16:05:44.843371Z",
          "start_time": "2022-05-23T16:05:44.838745Z"
        },
        "id": "9gWnXQMl0DWc",
        "outputId": "1fd1a624-118a-4f6e-e845-0cf5ec0de510",
        "colab": {
          "base_uri": "https://localhost:8080/"
        }
      },
      "outputs": [
        {
          "output_type": "execute_result",
          "data": {
            "text/plain": [
              "(480, 256, 256, 1)"
            ]
          },
          "metadata": {},
          "execution_count": 19
        }
      ],
      "source": [
        "new_images1.shape"
      ]
    },
    {
      "cell_type": "code",
      "execution_count": 20,
      "metadata": {
        "ExecuteTime": {
          "end_time": "2022-05-23T16:05:44.854854Z",
          "start_time": "2022-05-23T16:05:44.845976Z"
        },
        "scrolled": true,
        "id": "j2ZEhjc_0DWc",
        "outputId": "e998e789-a6ba-42f6-a9c4-e68b315bd0aa",
        "colab": {
          "base_uri": "https://localhost:8080/"
        }
      },
      "outputs": [
        {
          "output_type": "execute_result",
          "data": {
            "text/plain": [
              "(480,)"
            ]
          },
          "metadata": {},
          "execution_count": 20
        }
      ],
      "source": [
        "new_labels1.shape"
      ]
    },
    {
      "cell_type": "markdown",
      "metadata": {
        "id": "2xtESP-x0DWc"
      },
      "source": [
        "#### Width Augmentation"
      ]
    },
    {
      "cell_type": "markdown",
      "metadata": {
        "id": "3KbqDEVV0DWc"
      },
      "source": [
        "The next method for augmentation used was width shift range. With a range of .3 the images will be randomly assigned a width down to .3 of the original image size. "
      ]
    },
    {
      "cell_type": "code",
      "execution_count": 21,
      "metadata": {
        "ExecuteTime": {
          "end_time": "2022-05-23T16:05:44.882836Z",
          "start_time": "2022-05-23T16:05:44.858566Z"
        },
        "id": "Xus_GqNv0DWc"
      },
      "outputs": [],
      "source": [
        "aug = ImageDataGenerator(width_shift_range=.3)\n",
        "aug.fit(X_train)\n",
        "aug2_data = aug.flow(X_train, y_train, batch_size=240)"
      ]
    },
    {
      "cell_type": "code",
      "execution_count": 22,
      "metadata": {
        "ExecuteTime": {
          "end_time": "2022-05-23T16:05:45.825020Z",
          "start_time": "2022-05-23T16:05:44.883926Z"
        },
        "id": "u4FBrYPF0DWc"
      },
      "outputs": [],
      "source": [
        "aug2_images, aug2_labels = next(aug2_data)"
      ]
    },
    {
      "cell_type": "code",
      "execution_count": 23,
      "metadata": {
        "ExecuteTime": {
          "end_time": "2022-05-23T16:05:45.962760Z",
          "start_time": "2022-05-23T16:05:45.825976Z"
        },
        "id": "Gqo_6R_s0DWc"
      },
      "outputs": [],
      "source": [
        "new_images2 = np.concatenate([new_images1, aug2_images])\n",
        "new_labels2 = np.concatenate([new_labels1, aug2_labels])"
      ]
    },
    {
      "cell_type": "markdown",
      "metadata": {
        "id": "_3D-UNLx0DWc"
      },
      "source": [
        "#### Height Augmentation"
      ]
    },
    {
      "cell_type": "markdown",
      "metadata": {
        "id": "R-Y1aUd90DWc"
      },
      "source": [
        "The next method for augmentation used was height shift range. With a range of .3 the images will be randomly assigned a height down to .3 of the original image size."
      ]
    },
    {
      "cell_type": "code",
      "execution_count": 24,
      "metadata": {
        "ExecuteTime": {
          "end_time": "2022-05-23T16:05:45.987265Z",
          "start_time": "2022-05-23T16:05:45.963864Z"
        },
        "id": "ZbaVKm_m0DWc"
      },
      "outputs": [],
      "source": [
        "aug = ImageDataGenerator(height_shift_range=.3)\n",
        "aug.fit(X_train)\n",
        "aug3_data = aug.flow(X_train, y_train, batch_size=240)"
      ]
    },
    {
      "cell_type": "code",
      "execution_count": 25,
      "metadata": {
        "ExecuteTime": {
          "end_time": "2022-05-23T16:05:46.921366Z",
          "start_time": "2022-05-23T16:05:45.988413Z"
        },
        "id": "_5RSJQ_g0DWc"
      },
      "outputs": [],
      "source": [
        "aug3_images, aug3_labels = next(aug3_data)"
      ]
    },
    {
      "cell_type": "code",
      "execution_count": 26,
      "metadata": {
        "ExecuteTime": {
          "end_time": "2022-05-23T16:05:47.107123Z",
          "start_time": "2022-05-23T16:05:46.922242Z"
        },
        "id": "47OAh55W0DWc"
      },
      "outputs": [],
      "source": [
        "new_images3 = np.concatenate([new_images2, aug3_images])\n",
        "new_labels3 = np.concatenate([new_labels2, aug3_labels])"
      ]
    },
    {
      "cell_type": "markdown",
      "metadata": {
        "ExecuteTime": {
          "end_time": "2022-05-18T18:10:53.996172Z",
          "start_time": "2022-05-18T18:10:53.989621Z"
        },
        "id": "88uGZ1170DWc"
      },
      "source": [
        "#### Rotation Augmentation"
      ]
    },
    {
      "cell_type": "markdown",
      "metadata": {
        "ExecuteTime": {
          "end_time": "2022-05-20T18:31:05.497987Z",
          "start_time": "2022-05-20T18:31:05.418085Z"
        },
        "id": "HzhChvvv0DWc"
      },
      "source": [
        "Next we apply a random rotation to each image up to 30 degrees."
      ]
    },
    {
      "cell_type": "code",
      "execution_count": 27,
      "metadata": {
        "ExecuteTime": {
          "end_time": "2022-05-23T16:05:47.150201Z",
          "start_time": "2022-05-23T16:05:47.109241Z"
        },
        "id": "r5qASvWM0DWd"
      },
      "outputs": [],
      "source": [
        "aug = ImageDataGenerator(rotation_range=30)\n",
        "aug.fit(X_train)\n",
        "aug4_data = aug.flow(X_train, y_train, batch_size=240)"
      ]
    },
    {
      "cell_type": "code",
      "execution_count": 28,
      "metadata": {
        "ExecuteTime": {
          "end_time": "2022-05-23T16:05:48.059670Z",
          "start_time": "2022-05-23T16:05:47.151166Z"
        },
        "id": "-7RSZv180DWd"
      },
      "outputs": [],
      "source": [
        "aug4_images, aug4_labels = next(aug4_data)"
      ]
    },
    {
      "cell_type": "code",
      "execution_count": 29,
      "metadata": {
        "ExecuteTime": {
          "end_time": "2022-05-23T16:05:48.321156Z",
          "start_time": "2022-05-23T16:05:48.060531Z"
        },
        "id": "IGD4RQS50DWd"
      },
      "outputs": [],
      "source": [
        "new_images4 = np.concatenate([new_images3, aug4_images])\n",
        "new_labels4 = np.concatenate([new_labels3, aug4_labels])"
      ]
    },
    {
      "cell_type": "markdown",
      "metadata": {
        "id": "pK5dN99W0DWd"
      },
      "source": [
        "#### Shear Augmentation"
      ]
    },
    {
      "cell_type": "markdown",
      "metadata": {
        "id": "oV0ZGZBa0DWd"
      },
      "source": [
        "We then apply a random shear value to each image. This angles the corners of each image up to 30 degrees."
      ]
    },
    {
      "cell_type": "code",
      "execution_count": 30,
      "metadata": {
        "ExecuteTime": {
          "end_time": "2022-05-23T16:05:48.353835Z",
          "start_time": "2022-05-23T16:05:48.322907Z"
        },
        "id": "DnZa2voW0DWd"
      },
      "outputs": [],
      "source": [
        "aug = ImageDataGenerator(shear_range=30)\n",
        "aug.fit(X_train)\n",
        "aug5_data = aug.flow(X_train, y_train, batch_size=240)"
      ]
    },
    {
      "cell_type": "code",
      "execution_count": 31,
      "metadata": {
        "ExecuteTime": {
          "end_time": "2022-05-23T16:05:49.270263Z",
          "start_time": "2022-05-23T16:05:48.354995Z"
        },
        "id": "GSPyUkdU0DWd"
      },
      "outputs": [],
      "source": [
        "aug5_images, aug5_labels = next(aug5_data)"
      ]
    },
    {
      "cell_type": "code",
      "execution_count": 32,
      "metadata": {
        "ExecuteTime": {
          "end_time": "2022-05-23T16:05:49.574162Z",
          "start_time": "2022-05-23T16:05:49.271226Z"
        },
        "id": "Akv9kNGs0DWd"
      },
      "outputs": [],
      "source": [
        "new_images5 = np.concatenate([new_images4, aug5_images])\n",
        "new_labels5 = np.concatenate([new_labels4, aug5_labels])"
      ]
    },
    {
      "cell_type": "markdown",
      "metadata": {
        "id": "i-NlCQ-R0DWd"
      },
      "source": [
        "#### Brightness Augmentation"
      ]
    },
    {
      "cell_type": "markdown",
      "metadata": {
        "ExecuteTime": {
          "end_time": "2022-05-20T18:49:59.247310Z",
          "start_time": "2022-05-20T18:49:59.202157Z"
        },
        "id": "icBp-se80DWd"
      },
      "source": [
        "Finally we have brightness augmentation. This applies a random brightness shift within the provided range. "
      ]
    },
    {
      "cell_type": "code",
      "execution_count": 33,
      "metadata": {
        "ExecuteTime": {
          "end_time": "2022-05-23T16:05:49.632646Z",
          "start_time": "2022-05-23T16:05:49.577236Z"
        },
        "id": "bnSYWRVE0DWd"
      },
      "outputs": [],
      "source": [
        "aug = ImageDataGenerator(brightness_range=(1,2))\n",
        "aug.fit(X_train)\n",
        "aug5_data = aug.flow(X_train, y_train, batch_size=240)"
      ]
    },
    {
      "cell_type": "code",
      "execution_count": 34,
      "metadata": {
        "ExecuteTime": {
          "end_time": "2022-05-23T16:05:49.731736Z",
          "start_time": "2022-05-23T16:05:49.635054Z"
        },
        "id": "vCQSxxf50DWd"
      },
      "outputs": [],
      "source": [
        "aug6_images, aug6_labels = next(aug5_data)"
      ]
    },
    {
      "cell_type": "code",
      "execution_count": 35,
      "metadata": {
        "ExecuteTime": {
          "end_time": "2022-05-23T16:05:50.040495Z",
          "start_time": "2022-05-23T16:05:49.732579Z"
        },
        "id": "0bJ9Rogv0DWd"
      },
      "outputs": [],
      "source": [
        "new_images6 = np.concatenate([new_images5, aug6_images])\n",
        "new_labels6 = np.concatenate([new_labels5, aug6_labels])"
      ]
    },
    {
      "cell_type": "code",
      "execution_count": 36,
      "metadata": {
        "ExecuteTime": {
          "end_time": "2022-05-23T16:05:50.044658Z",
          "start_time": "2022-05-23T16:05:50.041411Z"
        },
        "id": "HNDFeNjn0DWd",
        "outputId": "92ac5b9d-9565-4227-9021-cd734cfb27b3",
        "colab": {
          "base_uri": "https://localhost:8080/"
        }
      },
      "outputs": [
        {
          "output_type": "execute_result",
          "data": {
            "text/plain": [
              "(1680,)"
            ]
          },
          "metadata": {},
          "execution_count": 36
        }
      ],
      "source": [
        "new_labels6.shape"
      ]
    },
    {
      "cell_type": "markdown",
      "metadata": {
        "id": "0Niir6iw0DWd"
      },
      "source": [
        "#### A little bit of everything Augmentation"
      ]
    },
    {
      "cell_type": "markdown",
      "metadata": {
        "id": "CBsV05X00DWd"
      },
      "source": [
        "Now that we have augmented each image with a single augmentation, we will again augment all images with a combination of each augmentation. "
      ]
    },
    {
      "cell_type": "code",
      "execution_count": 37,
      "metadata": {
        "ExecuteTime": {
          "end_time": "2022-05-23T16:05:50.437436Z",
          "start_time": "2022-05-23T16:05:50.045670Z"
        },
        "id": "gXo4eSwp0DWd"
      },
      "outputs": [],
      "source": [
        "aug = ImageDataGenerator(zoom_range=[.7,.9], width_shift_range=.15, height_shift_range=.15, rotation_range=15, shear_range=15, brightness_range=(1,1.5))\n",
        "aug.fit(new_images6)\n",
        "aug_data_final = aug.flow(new_images6, new_labels6, batch_size=1680)"
      ]
    },
    {
      "cell_type": "code",
      "execution_count": 38,
      "metadata": {
        "ExecuteTime": {
          "end_time": "2022-05-23T16:05:57.654980Z",
          "start_time": "2022-05-23T16:05:50.440677Z"
        },
        "id": "SX7w1lZ30DWd"
      },
      "outputs": [],
      "source": [
        "aug_final_images, aug_final_labels = next(aug_data_final)"
      ]
    },
    {
      "cell_type": "code",
      "execution_count": 39,
      "metadata": {
        "ExecuteTime": {
          "end_time": "2022-05-23T16:05:58.460589Z",
          "start_time": "2022-05-23T16:05:57.658349Z"
        },
        "id": "e5hjhY8J0DWd"
      },
      "outputs": [],
      "source": [
        "final_images = np.concatenate([new_images6, aug_final_images])\n",
        "final_labels = np.concatenate([new_labels6, aug_final_labels])"
      ]
    },
    {
      "cell_type": "code",
      "execution_count": 40,
      "metadata": {
        "ExecuteTime": {
          "end_time": "2022-05-23T16:05:58.486423Z",
          "start_time": "2022-05-23T16:05:58.478573Z"
        },
        "id": "k5nIBtFE0DWd",
        "outputId": "bd3c47b3-4930-4595-b344-fc7a2d8ace00",
        "colab": {
          "base_uri": "https://localhost:8080/"
        }
      },
      "outputs": [
        {
          "output_type": "execute_result",
          "data": {
            "text/plain": [
              "(3360, 256, 256, 1)"
            ]
          },
          "metadata": {},
          "execution_count": 40
        }
      ],
      "source": [
        "final_images.shape"
      ]
    },
    {
      "cell_type": "code",
      "execution_count": 41,
      "metadata": {
        "ExecuteTime": {
          "end_time": "2022-05-23T16:05:58.492199Z",
          "start_time": "2022-05-23T16:05:58.488114Z"
        },
        "id": "ktGylzJw0DWe",
        "outputId": "b07e3f3a-1000-4419-b987-a7b0756f467e",
        "colab": {
          "base_uri": "https://localhost:8080/"
        }
      },
      "outputs": [
        {
          "output_type": "execute_result",
          "data": {
            "text/plain": [
              "(3360,)"
            ]
          },
          "metadata": {},
          "execution_count": 41
        }
      ],
      "source": [
        "final_labels.shape"
      ]
    },
    {
      "cell_type": "code",
      "execution_count": 42,
      "metadata": {
        "ExecuteTime": {
          "end_time": "2022-05-23T16:05:58.508379Z",
          "start_time": "2022-05-23T16:05:58.493315Z"
        },
        "id": "JvANUs2x0DWe",
        "outputId": "075e4ef6-8d4c-47c5-861a-3bbbc0db031d",
        "colab": {
          "base_uri": "https://localhost:8080/",
          "height": 0
        }
      },
      "outputs": [
        {
          "output_type": "execute_result",
          "data": {
            "text/plain": [
              "<PIL.Image.Image image mode=L size=256x256 at 0x7F3206064BD0>"
            ],
            "image/png": "[encoded data removed]"
          },
          "metadata": {},
          "execution_count": 42
        }
      ],
      "source": [
        "array_to_img(final_images[0])"
      ]
    },
    {
      "cell_type": "code",
      "execution_count": 43,
      "metadata": {
        "ExecuteTime": {
          "end_time": "2022-05-23T16:05:58.516670Z",
          "start_time": "2022-05-23T16:05:58.510105Z"
        },
        "id": "Rfp_CEyq0DWe",
        "outputId": "d3889bbd-ee0a-4829-bb62-e16d506737a8",
        "colab": {
          "base_uri": "https://localhost:8080/"
        }
      },
      "outputs": [
        {
          "output_type": "execute_result",
          "data": {
            "text/plain": [
              "0.0"
            ]
          },
          "metadata": {},
          "execution_count": 43
        }
      ],
      "source": [
        "final_labels[0]"
      ]
    },
    {
      "cell_type": "markdown",
      "metadata": {
        "id": "znWY9nTw0DWe"
      },
      "source": [
        "The above example image would be considered a genuine signature."
      ]
    },
    {
      "cell_type": "markdown",
      "metadata": {
        "id": "1CV6UXls0DWe"
      },
      "source": [
        "## Modeling"
      ]
    },
    {
      "cell_type": "markdown",
      "metadata": {
        "id": "sNx3XOei0DWe"
      },
      "source": [
        "### Model 1"
      ]
    },
    {
      "cell_type": "code",
      "execution_count": 44,
      "metadata": {
        "ExecuteTime": {
          "end_time": "2022-05-23T16:06:23.940257Z",
          "start_time": "2022-05-23T16:06:23.913564Z"
        },
        "id": "fS91mFCb0DWe"
      },
      "outputs": [],
      "source": [
        "adam = Adam(learning_rate=.0001)"
      ]
    },
    {
      "cell_type": "code",
      "execution_count": 45,
      "metadata": {
        "ExecuteTime": {
          "end_time": "2022-05-23T16:06:24.737002Z",
          "start_time": "2022-05-23T16:06:24.679818Z"
        },
        "id": "9BB3Pf3d0DWe"
      },
      "outputs": [],
      "source": [
        "def build_model():\n",
        "    model1 = Sequential()\n",
        "    model1.add(layers.Conv2D(filters=64,\n",
        "                       kernel_size=(3,3),\n",
        "                       activation='relu',\n",
        "                       input_shape=(256,256,1)))\n",
        "\n",
        "    model1.add(layers.MaxPool2D())\n",
        "\n",
        "    model1.add(layers.Conv2D(128, (3,3), activation='relu'))\n",
        "\n",
        "    model1.add(layers.MaxPool2D())\n",
        "    \n",
        "    model1.add(layers.Flatten())\n",
        "    model1.add(layers.Dense(64, activation='relu'))\n",
        "    model1.add(layers.Dropout(.25))\n",
        "\n",
        "    model1.add(layers.Dense(32, activation='relu', kernel_regularizer=l2(0.05)))\n",
        "\n",
        "    model1.add(layers.Dense(16, activation='relu', kernel_regularizer=l2(0.01)))\n",
        "    model1.add(layers.Dropout(.25))\n",
        "    \n",
        "    model1.add(layers.Dense(1, activation='sigmoid'))\n",
        "\n",
        "    model1.compile(optimizer=adam,\n",
        "                  loss='binary_crossentropy',\n",
        "                  metrics=['accuracy'])\n",
        "    return model1"
      ]
    },
    {
      "cell_type": "code",
      "execution_count": 46,
      "metadata": {
        "id": "V5cpuu3b0DWe",
        "outputId": "f6a089c9-d805-46a3-9564-e6678d320496",
        "colab": {
          "base_uri": "https://localhost:8080/"
        }
      },
      "outputs": [
        {
          "output_type": "stream",
          "name": "stderr",
          "text": [
            "/usr/local/lib/python3.7/dist-packages/ipykernel_launcher.py:1: DeprecationWarning: KerasClassifier is deprecated, use Sci-Keras (https://github.com/adriangb/scikeras) instead. See https://www.adriangb.com/scikeras/stable/migration.html for help migrating.\n",
            "  \"\"\"Entry point for launching an IPython kernel.\n"
          ]
        }
      ],
      "source": [
        "model1 = scikit_learn.KerasClassifier(build_model, verbose=2, epochs=20, batch_size=32)"
      ]
    },
    {
      "cell_type": "code",
      "execution_count": 47,
      "metadata": {
        "ExecuteTime": {
          "end_time": "2022-05-19T18:41:59.855237Z",
          "start_time": "2022-05-19T18:41:36.681608Z"
        },
        "collapsed": true,
        "id": "ekCKvScv0DWe",
        "outputId": "822e93e8-07f4-418f-95ee-746d2c85f99b",
        "colab": {
          "base_uri": "https://localhost:8080/"
        }
      },
      "outputs": [
        {
          "output_type": "stream",
          "name": "stdout",
          "text": [
            "Epoch 1/20\n",
            "84/84 - 17s - loss: 11.1230 - accuracy: 0.5093 - 17s/epoch - 201ms/step\n",
            "Epoch 2/20\n",
            "84/84 - 5s - loss: 2.8851 - accuracy: 0.5141 - 5s/epoch - 57ms/step\n",
            "Epoch 3/20\n",
            "84/84 - 5s - loss: 2.7472 - accuracy: 0.5216 - 5s/epoch - 57ms/step\n",
            "Epoch 4/20\n",
            "84/84 - 5s - loss: 2.6270 - accuracy: 0.5521 - 5s/epoch - 57ms/step\n",
            "Epoch 5/20\n",
            "84/84 - 5s - loss: 2.5224 - accuracy: 0.5644 - 5s/epoch - 57ms/step\n",
            "Epoch 6/20\n",
            "84/84 - 5s - loss: 2.4027 - accuracy: 0.5904 - 5s/epoch - 57ms/step\n",
            "Epoch 7/20\n",
            "84/84 - 5s - loss: 2.3083 - accuracy: 0.6150 - 5s/epoch - 57ms/step\n",
            "Epoch 8/20\n",
            "84/84 - 5s - loss: 2.2171 - accuracy: 0.6224 - 5s/epoch - 56ms/step\n",
            "Epoch 9/20\n",
            "84/84 - 5s - loss: 2.1334 - accuracy: 0.6358 - 5s/epoch - 58ms/step\n",
            "Epoch 10/20\n",
            "84/84 - 5s - loss: 2.0456 - accuracy: 0.6451 - 5s/epoch - 57ms/step\n",
            "Epoch 11/20\n",
            "84/84 - 5s - loss: 1.9560 - accuracy: 0.6641 - 5s/epoch - 57ms/step\n",
            "Epoch 12/20\n",
            "84/84 - 5s - loss: 1.8865 - accuracy: 0.6823 - 5s/epoch - 57ms/step\n",
            "Epoch 13/20\n",
            "84/84 - 5s - loss: 1.8248 - accuracy: 0.7001 - 5s/epoch - 57ms/step\n",
            "Epoch 14/20\n",
            "84/84 - 5s - loss: 1.7395 - accuracy: 0.7150 - 5s/epoch - 57ms/step\n",
            "Epoch 15/20\n",
            "84/84 - 5s - loss: 1.6638 - accuracy: 0.7366 - 5s/epoch - 57ms/step\n",
            "Epoch 16/20\n",
            "84/84 - 5s - loss: 1.6159 - accuracy: 0.7422 - 5s/epoch - 57ms/step\n",
            "Epoch 17/20\n",
            "84/84 - 5s - loss: 1.5423 - accuracy: 0.7604 - 5s/epoch - 57ms/step\n",
            "Epoch 18/20\n",
            "84/84 - 5s - loss: 1.4840 - accuracy: 0.7638 - 5s/epoch - 57ms/step\n",
            "Epoch 19/20\n",
            "84/84 - 5s - loss: 1.4195 - accuracy: 0.7831 - 5s/epoch - 57ms/step\n",
            "Epoch 20/20\n",
            "84/84 - 5s - loss: 1.3575 - accuracy: 0.7894 - 5s/epoch - 57ms/step\n",
            "21/21 - 1s - loss: 1.6377 - accuracy: 0.6280 - 642ms/epoch - 31ms/step\n",
            "Epoch 1/20\n",
            "84/84 - 5s - loss: 16.7591 - accuracy: 0.5175 - 5s/epoch - 63ms/step\n",
            "Epoch 2/20\n",
            "84/84 - 5s - loss: 2.5803 - accuracy: 0.5692 - 5s/epoch - 57ms/step\n",
            "Epoch 3/20\n",
            "84/84 - 5s - loss: 2.4082 - accuracy: 0.6060 - 5s/epoch - 57ms/step\n",
            "Epoch 4/20\n",
            "84/84 - 5s - loss: 2.2798 - accuracy: 0.6354 - 5s/epoch - 57ms/step\n",
            "Epoch 5/20\n",
            "84/84 - 5s - loss: 2.1625 - accuracy: 0.6745 - 5s/epoch - 57ms/step\n",
            "Epoch 6/20\n",
            "84/84 - 5s - loss: 2.0572 - accuracy: 0.7199 - 5s/epoch - 57ms/step\n",
            "Epoch 7/20\n",
            "84/84 - 5s - loss: 1.9688 - accuracy: 0.7582 - 5s/epoch - 57ms/step\n",
            "Epoch 8/20\n",
            "84/84 - 5s - loss: 1.8508 - accuracy: 0.8028 - 5s/epoch - 57ms/step\n",
            "Epoch 9/20\n",
            "84/84 - 5s - loss: 1.7511 - accuracy: 0.8352 - 5s/epoch - 57ms/step\n",
            "Epoch 10/20\n",
            "84/84 - 5s - loss: 1.6802 - accuracy: 0.8568 - 5s/epoch - 57ms/step\n",
            "Epoch 11/20\n",
            "84/84 - 5s - loss: 1.6168 - accuracy: 0.8780 - 5s/epoch - 57ms/step\n",
            "Epoch 12/20\n",
            "84/84 - 5s - loss: 1.5376 - accuracy: 0.8854 - 5s/epoch - 57ms/step\n",
            "Epoch 13/20\n",
            "84/84 - 5s - loss: 1.4827 - accuracy: 0.9081 - 5s/epoch - 57ms/step\n",
            "Epoch 14/20\n",
            "84/84 - 5s - loss: 1.4310 - accuracy: 0.9185 - 5s/epoch - 57ms/step\n",
            "Epoch 15/20\n",
            "84/84 - 5s - loss: 1.4026 - accuracy: 0.9286 - 5s/epoch - 57ms/step\n",
            "Epoch 16/20\n",
            "84/84 - 5s - loss: 1.3753 - accuracy: 0.9319 - 5s/epoch - 57ms/step\n",
            "Epoch 17/20\n",
            "84/84 - 5s - loss: 1.3304 - accuracy: 0.9438 - 5s/epoch - 57ms/step\n",
            "Epoch 18/20\n",
            "84/84 - 5s - loss: 1.2975 - accuracy: 0.9535 - 5s/epoch - 57ms/step\n",
            "Epoch 19/20\n",
            "84/84 - 5s - loss: 1.2678 - accuracy: 0.9557 - 5s/epoch - 57ms/step\n",
            "Epoch 20/20\n",
            "84/84 - 5s - loss: 1.2321 - accuracy: 0.9654 - 5s/epoch - 57ms/step\n",
            "21/21 - 1s - loss: 2.0773 - accuracy: 0.6473 - 629ms/epoch - 30ms/step\n",
            "Epoch 1/20\n",
            "84/84 - 6s - loss: 10.9138 - accuracy: 0.4959 - 6s/epoch - 66ms/step\n",
            "Epoch 2/20\n",
            "84/84 - 5s - loss: 2.4173 - accuracy: 0.5365 - 5s/epoch - 57ms/step\n",
            "Epoch 3/20\n",
            "84/84 - 5s - loss: 2.2107 - accuracy: 0.5603 - 5s/epoch - 57ms/step\n",
            "Epoch 4/20\n",
            "84/84 - 5s - loss: 2.0580 - accuracy: 0.5908 - 5s/epoch - 57ms/step\n",
            "Epoch 5/20\n",
            "84/84 - 5s - loss: 1.9345 - accuracy: 0.6522 - 5s/epoch - 57ms/step\n",
            "Epoch 6/20\n",
            "84/84 - 5s - loss: 1.7910 - accuracy: 0.6827 - 5s/epoch - 57ms/step\n",
            "Epoch 7/20\n",
            "84/84 - 5s - loss: 1.6846 - accuracy: 0.7247 - 5s/epoch - 57ms/step\n",
            "Epoch 8/20\n",
            "84/84 - 5s - loss: 1.5554 - accuracy: 0.7582 - 5s/epoch - 57ms/step\n",
            "Epoch 9/20\n",
            "84/84 - 5s - loss: 1.4415 - accuracy: 0.7946 - 5s/epoch - 57ms/step\n",
            "Epoch 10/20\n",
            "84/84 - 5s - loss: 1.3514 - accuracy: 0.8419 - 5s/epoch - 57ms/step\n",
            "Epoch 11/20\n",
            "84/84 - 5s - loss: 1.2979 - accuracy: 0.8560 - 5s/epoch - 57ms/step\n",
            "Epoch 12/20\n",
            "84/84 - 5s - loss: 1.2373 - accuracy: 0.8761 - 5s/epoch - 57ms/step\n",
            "Epoch 13/20\n",
            "84/84 - 5s - loss: 1.1801 - accuracy: 0.8958 - 5s/epoch - 57ms/step\n",
            "Epoch 14/20\n",
            "84/84 - 5s - loss: 1.1438 - accuracy: 0.9059 - 5s/epoch - 57ms/step\n",
            "Epoch 15/20\n",
            "84/84 - 5s - loss: 1.1031 - accuracy: 0.9144 - 5s/epoch - 57ms/step\n",
            "Epoch 16/20\n",
            "84/84 - 5s - loss: 1.0599 - accuracy: 0.9226 - 5s/epoch - 57ms/step\n",
            "Epoch 17/20\n",
            "84/84 - 5s - loss: 1.0230 - accuracy: 0.9360 - 5s/epoch - 57ms/step\n",
            "Epoch 18/20\n",
            "84/84 - 5s - loss: 0.9953 - accuracy: 0.9464 - 5s/epoch - 57ms/step\n",
            "Epoch 19/20\n",
            "84/84 - 5s - loss: 0.9761 - accuracy: 0.9468 - 5s/epoch - 57ms/step\n",
            "Epoch 20/20\n",
            "84/84 - 5s - loss: 0.9451 - accuracy: 0.9591 - 5s/epoch - 57ms/step\n",
            "21/21 - 1s - loss: 2.5659 - accuracy: 0.6339 - 622ms/epoch - 30ms/step\n",
            "Epoch 1/20\n",
            "84/84 - 5s - loss: 6.0492 - accuracy: 0.5000 - 5s/epoch - 63ms/step\n",
            "Epoch 2/20\n",
            "84/84 - 5s - loss: 2.4018 - accuracy: 0.5595 - 5s/epoch - 57ms/step\n",
            "Epoch 3/20\n",
            "84/84 - 5s - loss: 2.1602 - accuracy: 0.6079 - 5s/epoch - 57ms/step\n",
            "Epoch 4/20\n",
            "84/84 - 5s - loss: 1.9867 - accuracy: 0.6324 - 5s/epoch - 57ms/step\n",
            "Epoch 5/20\n",
            "84/84 - 5s - loss: 1.8412 - accuracy: 0.6715 - 5s/epoch - 57ms/step\n",
            "Epoch 6/20\n",
            "84/84 - 5s - loss: 1.7274 - accuracy: 0.6949 - 5s/epoch - 57ms/step\n",
            "Epoch 7/20\n",
            "84/84 - 5s - loss: 1.6024 - accuracy: 0.7188 - 5s/epoch - 57ms/step\n",
            "Epoch 8/20\n",
            "84/84 - 5s - loss: 1.4983 - accuracy: 0.7541 - 5s/epoch - 57ms/step\n",
            "Epoch 9/20\n",
            "84/84 - 5s - loss: 1.4144 - accuracy: 0.7861 - 5s/epoch - 57ms/step\n",
            "Epoch 10/20\n",
            "84/84 - 5s - loss: 1.3337 - accuracy: 0.8125 - 5s/epoch - 57ms/step\n",
            "Epoch 11/20\n",
            "84/84 - 5s - loss: 1.2552 - accuracy: 0.8411 - 5s/epoch - 57ms/step\n",
            "Epoch 12/20\n",
            "84/84 - 5s - loss: 1.1979 - accuracy: 0.8638 - 5s/epoch - 57ms/step\n",
            "Epoch 13/20\n",
            "84/84 - 5s - loss: 1.1530 - accuracy: 0.8817 - 5s/epoch - 57ms/step\n",
            "Epoch 14/20\n",
            "84/84 - 5s - loss: 1.0946 - accuracy: 0.8951 - 5s/epoch - 57ms/step\n",
            "Epoch 15/20\n",
            "84/84 - 5s - loss: 1.0407 - accuracy: 0.9111 - 5s/epoch - 57ms/step\n",
            "Epoch 16/20\n",
            "84/84 - 5s - loss: 1.0162 - accuracy: 0.9178 - 5s/epoch - 57ms/step\n",
            "Epoch 17/20\n",
            "84/84 - 5s - loss: 0.9599 - accuracy: 0.9371 - 5s/epoch - 57ms/step\n",
            "Epoch 18/20\n",
            "84/84 - 5s - loss: 0.9328 - accuracy: 0.9420 - 5s/epoch - 57ms/step\n",
            "Epoch 19/20\n",
            "84/84 - 5s - loss: 0.9012 - accuracy: 0.9479 - 5s/epoch - 57ms/step\n",
            "Epoch 20/20\n",
            "84/84 - 5s - loss: 0.8801 - accuracy: 0.9535 - 5s/epoch - 57ms/step\n",
            "21/21 - 1s - loss: 3.7155 - accuracy: 0.5387 - 610ms/epoch - 29ms/step\n",
            "Epoch 1/20\n",
            "84/84 - 5s - loss: 11.5711 - accuracy: 0.5212 - 5s/epoch - 63ms/step\n",
            "Epoch 2/20\n",
            "84/84 - 5s - loss: 2.4348 - accuracy: 0.5934 - 5s/epoch - 57ms/step\n",
            "Epoch 3/20\n",
            "84/84 - 5s - loss: 2.2081 - accuracy: 0.6310 - 5s/epoch - 57ms/step\n",
            "Epoch 4/20\n",
            "84/84 - 5s - loss: 2.0494 - accuracy: 0.6700 - 5s/epoch - 57ms/step\n",
            "Epoch 5/20\n",
            "84/84 - 5s - loss: 1.8942 - accuracy: 0.7046 - 5s/epoch - 57ms/step\n",
            "Epoch 6/20\n",
            "84/84 - 5s - loss: 1.7631 - accuracy: 0.7429 - 5s/epoch - 57ms/step\n",
            "Epoch 7/20\n",
            "84/84 - 5s - loss: 1.6472 - accuracy: 0.7909 - 5s/epoch - 57ms/step\n",
            "Epoch 8/20\n",
            "84/84 - 5s - loss: 1.5598 - accuracy: 0.8144 - 5s/epoch - 57ms/step\n",
            "Epoch 9/20\n",
            "84/84 - 5s - loss: 1.4617 - accuracy: 0.8281 - 5s/epoch - 57ms/step\n",
            "Epoch 10/20\n",
            "84/84 - 5s - loss: 1.3916 - accuracy: 0.8557 - 5s/epoch - 57ms/step\n",
            "Epoch 11/20\n",
            "84/84 - 5s - loss: 1.3231 - accuracy: 0.8709 - 5s/epoch - 57ms/step\n",
            "Epoch 12/20\n",
            "84/84 - 5s - loss: 1.2714 - accuracy: 0.8884 - 5s/epoch - 57ms/step\n",
            "Epoch 13/20\n",
            "84/84 - 5s - loss: 1.2123 - accuracy: 0.9025 - 5s/epoch - 57ms/step\n",
            "Epoch 14/20\n",
            "84/84 - 5s - loss: 1.1645 - accuracy: 0.9137 - 5s/epoch - 57ms/step\n",
            "Epoch 15/20\n",
            "84/84 - 5s - loss: 1.1180 - accuracy: 0.9211 - 5s/epoch - 57ms/step\n",
            "Epoch 16/20\n",
            "84/84 - 5s - loss: 1.0764 - accuracy: 0.9364 - 5s/epoch - 57ms/step\n",
            "Epoch 17/20\n",
            "84/84 - 5s - loss: 1.0621 - accuracy: 0.9435 - 5s/epoch - 57ms/step\n",
            "Epoch 18/20\n",
            "84/84 - 5s - loss: 1.0128 - accuracy: 0.9528 - 5s/epoch - 57ms/step\n",
            "Epoch 19/20\n",
            "84/84 - 5s - loss: 0.9958 - accuracy: 0.9539 - 5s/epoch - 57ms/step\n",
            "Epoch 20/20\n",
            "84/84 - 5s - loss: 0.9493 - accuracy: 0.9639 - 5s/epoch - 57ms/step\n",
            "21/21 - 1s - loss: 4.5158 - accuracy: 0.5268 - 618ms/epoch - 29ms/step\n"
          ]
        }
      ],
      "source": [
        "#Cross validation will be run in and pickled from colab to save time.\n",
        "model1_cv_results = cross_val_score(model1, final_images, final_labels)"
      ]
    },
    {
      "cell_type": "code",
      "execution_count": 48,
      "metadata": {
        "id": "AbFIKicP0DWe",
        "colab": {
          "base_uri": "https://localhost:8080/"
        },
        "outputId": "2d048ad9-06d0-4e15-b7d3-80b8945ec13e"
      },
      "outputs": [
        {
          "output_type": "execute_result",
          "data": {
            "text/plain": [
              "0.59494047164917"
            ]
          },
          "metadata": {},
          "execution_count": 48
        }
      ],
      "source": [
        "model1_cv_results.mean()"
      ]
    },
    {
      "cell_type": "code",
      "execution_count": 51,
      "metadata": {
        "id": "oRWotf-I0DWe"
      },
      "outputs": [],
      "source": [
        "model1_cv_pickle2 = 'drive/MyDrive/model1_cv_pickle2.sav'\n",
        "pickle.dump(model1_cv_results, open(model1_cv_pickle2, 'wb'))"
      ]
    },
    {
      "cell_type": "code",
      "execution_count": 50,
      "metadata": {
        "collapsed": true,
        "id": "4Tc-TqN10DWe",
        "outputId": "faf66090-c190-484d-9067-1230b0dca2e2",
        "colab": {
          "base_uri": "https://localhost:8080/"
        }
      },
      "outputs": [
        {
          "output_type": "stream",
          "name": "stdout",
          "text": [
            "Epoch 1/20\n",
            "INFO:tensorflow:Assets written to: /content/drive/MyDrive/model1_checkpoint2.0/assets\n",
            "84/84 - 10s - loss: 13.1073 - accuracy: 0.5201 - val_loss: 2.5869 - val_accuracy: 0.5253 - 10s/epoch - 114ms/step\n",
            "Epoch 2/20\n",
            "84/84 - 5s - loss: 2.4655 - accuracy: 0.5394 - val_loss: 2.3710 - val_accuracy: 0.5164 - 5s/epoch - 63ms/step\n",
            "Epoch 3/20\n",
            "INFO:tensorflow:Assets written to: /content/drive/MyDrive/model1_checkpoint2.0/assets\n",
            "84/84 - 9s - loss: 2.2695 - accuracy: 0.5685 - val_loss: 2.2024 - val_accuracy: 0.5595 - 9s/epoch - 107ms/step\n",
            "Epoch 4/20\n",
            "INFO:tensorflow:Assets written to: /content/drive/MyDrive/model1_checkpoint2.0/assets\n",
            "84/84 - 8s - loss: 2.1142 - accuracy: 0.6075 - val_loss: 2.1159 - val_accuracy: 0.5640 - 8s/epoch - 94ms/step\n",
            "Epoch 5/20\n",
            "INFO:tensorflow:Assets written to: /content/drive/MyDrive/model1_checkpoint2.0/assets\n",
            "84/84 - 9s - loss: 1.9810 - accuracy: 0.6384 - val_loss: 2.1160 - val_accuracy: 0.5685 - 9s/epoch - 102ms/step\n",
            "Epoch 6/20\n",
            "84/84 - 5s - loss: 1.8678 - accuracy: 0.6652 - val_loss: 2.1268 - val_accuracy: 0.5625 - 5s/epoch - 64ms/step\n",
            "Epoch 7/20\n",
            "84/84 - 6s - loss: 1.7609 - accuracy: 0.6916 - val_loss: 2.2406 - val_accuracy: 0.5655 - 6s/epoch - 66ms/step\n",
            "Epoch 8/20\n",
            "INFO:tensorflow:Assets written to: /content/drive/MyDrive/model1_checkpoint2.0/assets\n",
            "84/84 - 8s - loss: 1.6777 - accuracy: 0.7009 - val_loss: 2.1419 - val_accuracy: 0.5744 - 8s/epoch - 97ms/step\n",
            "Epoch 9/20\n",
            "84/84 - 6s - loss: 1.6004 - accuracy: 0.7388 - val_loss: 2.1629 - val_accuracy: 0.5685 - 6s/epoch - 65ms/step\n",
            "Epoch 10/20\n",
            "84/84 - 6s - loss: 1.5219 - accuracy: 0.7757 - val_loss: 2.2825 - val_accuracy: 0.5521 - 6s/epoch - 66ms/step\n",
            "Epoch 11/20\n",
            "84/84 - 6s - loss: 1.4542 - accuracy: 0.7805 - val_loss: 2.2583 - val_accuracy: 0.5640 - 6s/epoch - 66ms/step\n",
            "Epoch 12/20\n",
            "84/84 - 5s - loss: 1.3796 - accuracy: 0.8158 - val_loss: 2.7525 - val_accuracy: 0.5432 - 5s/epoch - 65ms/step\n",
            "Epoch 13/20\n",
            "84/84 - 5s - loss: 1.3420 - accuracy: 0.8382 - val_loss: 2.3954 - val_accuracy: 0.5551 - 5s/epoch - 63ms/step\n",
            "Epoch 14/20\n",
            "84/84 - 5s - loss: 1.2949 - accuracy: 0.8586 - val_loss: 2.8565 - val_accuracy: 0.5268 - 5s/epoch - 65ms/step\n",
            "Epoch 15/20\n",
            "84/84 - 5s - loss: 1.2344 - accuracy: 0.8694 - val_loss: 3.2903 - val_accuracy: 0.5521 - 5s/epoch - 65ms/step\n",
            "Epoch 16/20\n",
            "84/84 - 5s - loss: 1.1772 - accuracy: 0.8925 - val_loss: 3.1453 - val_accuracy: 0.5580 - 5s/epoch - 63ms/step\n",
            "Epoch 17/20\n",
            "84/84 - 5s - loss: 1.1466 - accuracy: 0.8988 - val_loss: 3.0401 - val_accuracy: 0.5491 - 5s/epoch - 65ms/step\n",
            "Epoch 18/20\n",
            "84/84 - 5s - loss: 1.0897 - accuracy: 0.9189 - val_loss: 3.7116 - val_accuracy: 0.5432 - 5s/epoch - 65ms/step\n",
            "Epoch 19/20\n",
            "84/84 - 5s - loss: 1.0813 - accuracy: 0.9222 - val_loss: 3.3912 - val_accuracy: 0.5551 - 5s/epoch - 63ms/step\n",
            "Epoch 20/20\n",
            "84/84 - 5s - loss: 1.0293 - accuracy: 0.9371 - val_loss: 3.5665 - val_accuracy: 0.5580 - 5s/epoch - 65ms/step\n"
          ]
        }
      ],
      "source": [
        "model1_filepath = '/content/drive/MyDrive/model1_checkpoint2.0'\n",
        "model1_checkpoint_callback = ModelCheckpoint(filepath=model1_filepath,\n",
        "                                                 save_best_only=True,\n",
        "                                                 monitor='val_accuracy',\n",
        "                                                 mode='max', save_freq=\"epoch\")\n",
        "\n",
        "results2 = model1.fit(final_images, final_labels, validation_split=.2, callbacks=[model1_checkpoint_callback])"
      ]
    },
    {
      "cell_type": "code",
      "source": [
        "model1_results_pickle2 = 'drive/MyDrive/model1_results_pickle2.sav'\n",
        "pickle.dump(results2, open(model1_results_pickle2, 'wb'))"
      ],
      "metadata": {
        "id": "B1MB7I9X4LuT",
        "outputId": "02b60cc8-caaf-48e0-f43d-4e1cf21de2f4",
        "colab": {
          "base_uri": "https://localhost:8080/"
        }
      },
      "execution_count": 52,
      "outputs": [
        {
          "output_type": "stream",
          "name": "stdout",
          "text": [
            "INFO:tensorflow:Assets written to: ram://8587edae-0487-49eb-a99a-8f96b6770b1d/assets\n"
          ]
        }
      ]
    },
    {
      "cell_type": "code",
      "execution_count": 53,
      "metadata": {
        "id": "4R3zK7bp0DWe",
        "colab": {
          "base_uri": "https://localhost:8080/"
        },
        "outputId": "0967e5a6-e533-4b15-a97d-42d8942b235c"
      },
      "outputs": [
        {
          "output_type": "stream",
          "name": "stdout",
          "text": [
            "INFO:tensorflow:Assets written to: ram://b10b6145-b692-4b37-8215-1b5366866b76/assets\n"
          ]
        }
      ],
      "source": [
        "model1_pickle2 = 'drive/MyDrive/model1_pickle2.sav'\n",
        "pickle.dump(model1, open(model1_pickle2, 'wb'))"
      ]
    },
    {
      "cell_type": "code",
      "source": [
        ""
      ],
      "metadata": {
        "id": "MMPmlBKUQxWq"
      },
      "execution_count": null,
      "outputs": []
    }
  ],
  "metadata": {
    "kernelspec": {
      "display_name": "tf-test",
      "language": "python",
      "name": "tf-test"
    },
    "language_info": {
      "codemirror_mode": {
        "name": "ipython",
        "version": 3
      },
      "file_extension": ".py",
      "mimetype": "text/x-python",
      "name": "python",
      "nbconvert_exporter": "python",
      "pygments_lexer": "ipython3",
      "version": "3.6.13"
    },
    "toc": {
      "base_numbering": 1,
      "nav_menu": {},
      "number_sections": true,
      "sideBar": true,
      "skip_h1_title": false,
      "title_cell": "Table of Contents",
      "title_sidebar": "Contents",
      "toc_cell": false,
      "toc_position": {},
      "toc_section_display": true,
      "toc_window_display": false
    },
    "colab": {
      "name": "Model1_Notebook.ipynb",
      "provenance": []
    },
    "accelerator": "GPU"
  },
  "nbformat": 4,
  "nbformat_minor": 0
}