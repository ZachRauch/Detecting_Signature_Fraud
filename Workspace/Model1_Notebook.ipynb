{
  "cells": [
    {
      "cell_type": "markdown",
      "metadata": {
        "id": "ptSIULqi0DWU"
      },
      "source": [
        "# Signature Classification"
      ]
    },
    {
      "cell_type": "markdown",
      "metadata": {
        "id": "PxrvvpR70DWW"
      },
      "source": [
        "![img](https://github.com/ZachRauch/Signature_Classification/blob/main/images/signature_banner.jpeg?raw=1)"
      ]
    },
    {
      "cell_type": "markdown",
      "metadata": {
        "id": "l0PvrSkU0DWW"
      },
      "source": [
        "## Overview"
      ]
    },
    {
      "cell_type": "markdown",
      "metadata": {
        "id": "7JkPYbhX0DWW"
      },
      "source": [
        "The aim of this analysis is to identify fraudulent signatures in a dataset. My audience here is _______. Using just a small dataset with only 300 sample I was able to create a "
      ]
    },
    {
      "cell_type": "markdown",
      "metadata": {
        "id": "dGntQdLa0DWX"
      },
      "source": [
        "## Business Problem"
      ]
    },
    {
      "cell_type": "markdown",
      "metadata": {
        "id": "8tIYg67U0DWX"
      },
      "source": [
        "Currently institutions and businesses recognize signatures as the primary way of authenticating transactions. Signatures are used to sign checks, authorize documents and contracts, and validate credit card transactions. According to recent studies, check fraud costs banks about $900M a year with 22 percent of all fraudulent checks attributed to signature fraud. Therefor, creating an algorithm to identify signature fraud is a valuable asset. "
      ]
    },
    {
      "cell_type": "markdown",
      "metadata": {
        "id": "aIHjXOJb0DWX"
      },
      "source": [
        "## Imports"
      ]
    },
    {
      "cell_type": "code",
      "execution_count": 1,
      "metadata": {
        "ExecuteTime": {
          "end_time": "2022-05-23T16:05:39.636501Z",
          "start_time": "2022-05-23T16:05:39.532903Z"
        },
        "id": "Foi2HQyc0DWY"
      },
      "outputs": [],
      "source": [
        "import pandas as pd\n",
        "import numpy as np\n",
        "import matplotlib.pyplot as plt\n",
        "%matplotlib inline\n",
        "import seaborn as sns\n",
        "import tensorflow as tf\n",
        "from tensorflow.keras.models import Sequential\n",
        "import zipfile\n",
        "from tensorflow.keras.preprocessing.image import ImageDataGenerator, array_to_img, img_to_array, load_img\n",
        "from tensorflow.keras import models, layers, optimizers, metrics, regularizers, losses\n",
        "from tensorflow.keras.wrappers import scikit_learn\n",
        "from tensorflow.keras.regularizers import l2\n",
        "\n",
        "from sklearn.model_selection import train_test_split, cross_val_score\n",
        "from sklearn.dummy import DummyClassifier\n",
        "from sklearn.metrics import auc, recall_score, precision_score, \\\n",
        "                            confusion_matrix, plot_confusion_matrix, \\\n",
        "                            roc_auc_score, roc_curve\n",
        "from tensorflow.keras.optimizers import SGD, Adam\n",
        "import pickle\n",
        "\n",
        "np.random.seed(42)"
      ]
    },
    {
      "cell_type": "markdown",
      "metadata": {
        "id": "1jpRePR80DWZ"
      },
      "source": [
        "## Colab Necessary Code"
      ]
    },
    {
      "cell_type": "markdown",
      "metadata": {
        "id": "LRCAjKzx0DWZ"
      },
      "source": [
        "Google Colab was used to help streamline the modeling process. Modeling using Convolutional Neural Networks can be computationally expensive, so if you would like to run this notebook faster, I would recommend creating a Colab account and storing the data, discussed below, in a Google Drive file. "
      ]
    },
    {
      "cell_type": "code",
      "execution_count": 2,
      "metadata": {
        "ExecuteTime": {
          "end_time": "2022-05-23T16:05:39.641944Z",
          "start_time": "2022-05-23T16:05:39.639706Z"
        },
        "id": "SzlRl_AB0DWZ",
        "outputId": "325717a9-b001-4722-9bc8-b786e80a68d9",
        "colab": {
          "base_uri": "https://localhost:8080/"
        }
      },
      "outputs": [
        {
          "output_type": "stream",
          "name": "stdout",
          "text": [
            "Drive already mounted at /content/drive; to attempt to forcibly remount, call drive.mount(\"/content/drive\", force_remount=True).\n"
          ]
        }
      ],
      "source": [
        "from google.colab import drive\n",
        "drive.mount('/content/drive')"
      ]
    },
    {
      "cell_type": "code",
      "execution_count": 3,
      "metadata": {
        "ExecuteTime": {
          "end_time": "2022-05-23T16:05:39.646300Z",
          "start_time": "2022-05-23T16:05:39.643547Z"
        },
        "id": "1pcYtnCR0DWZ",
        "outputId": "c3b20123-63ea-489f-9bcf-0738d2bd614d",
        "colab": {
          "base_uri": "https://localhost:8080/"
        }
      },
      "outputs": [
        {
          "output_type": "stream",
          "name": "stdout",
          "text": [
            "Looking in indexes: https://pypi.org/simple, https://us-python.pkg.dev/colab-wheels/public/simple/\n",
            "Requirement already satisfied: unzip in /usr/local/lib/python3.7/dist-packages (1.0.0)\n",
            "Archive:  /content/drive/MyDrive/signatures.zip\n",
            "replace Dataset_Signature_Final/Dataset/dataset1/forge/02100001.png? [y]es, [n]o, [A]ll, [N]one, [r]ename: "
          ]
        }
      ],
      "source": [
        "!pip install unzip\n",
        "import unzip\n",
        "!unzip /content/drive/MyDrive/signatures.zip "
      ]
    },
    {
      "cell_type": "markdown",
      "metadata": {
        "id": "br3-j3on0DWZ"
      },
      "source": [
        "## Data"
      ]
    },
    {
      "cell_type": "markdown",
      "metadata": {
        "id": "5QlgoT1t0DWa"
      },
      "source": [
        "The data used in this notebook can be found [here](https://www.kaggle.com/datasets/divyanshrai/handwritten-signatures). The dataset contains just 300 samples of genuine and forged signatures from 30 people, of which 50 percent are genuine and 50 percent are forged. "
      ]
    },
    {
      "cell_type": "code",
      "execution_count": 4,
      "metadata": {
        "ExecuteTime": {
          "end_time": "2022-05-23T16:05:39.653625Z",
          "start_time": "2022-05-23T16:05:39.647324Z"
        },
        "id": "e8bk9hZT0DWa"
      },
      "outputs": [],
      "source": [
        "# instantiate ImageDataGenerator scaling each pixel's values down to a scale of 1\n",
        "img = ImageDataGenerator(rescale=1/255)"
      ]
    },
    {
      "cell_type": "code",
      "execution_count": 5,
      "metadata": {
        "ExecuteTime": {
          "end_time": "2022-05-23T16:05:39.665891Z",
          "start_time": "2022-05-23T16:05:39.659606Z"
        },
        "id": "w0XKBPLo0DWa"
      },
      "outputs": [],
      "source": [
        "# data_path = '../Data/sample_Signature/sample_Signature/'\n",
        "# For Colab \n",
        "data_path = '/content/sample_Signature/sample_Signature/'"
      ]
    },
    {
      "cell_type": "code",
      "execution_count": 6,
      "metadata": {
        "ExecuteTime": {
          "end_time": "2022-05-23T16:05:39.796644Z",
          "start_time": "2022-05-23T16:05:39.666882Z"
        },
        "scrolled": false,
        "id": "ie8tSIhP0DWa",
        "outputId": "a4156648-0169-4ca8-9236-b94bb6ebbf08",
        "colab": {
          "base_uri": "https://localhost:8080/"
        }
      },
      "outputs": [
        {
          "output_type": "stream",
          "name": "stdout",
          "text": [
            "Found 300 images belonging to 2 classes.\n"
          ]
        }
      ],
      "source": [
        "# Importing the data\n",
        "data = img.flow_from_directory(data_path, color_mode='grayscale',\\\n",
        "                               batch_size=300, class_mode='binary')"
      ]
    },
    {
      "cell_type": "code",
      "execution_count": 7,
      "metadata": {
        "ExecuteTime": {
          "end_time": "2022-05-23T16:05:39.816340Z",
          "start_time": "2022-05-23T16:05:39.798372Z"
        },
        "id": "pHsQ8-cU0DWa",
        "outputId": "c3f0b0a2-4672-43d7-fa17-9662c39189e2",
        "colab": {
          "base_uri": "https://localhost:8080/"
        }
      },
      "outputs": [
        {
          "output_type": "execute_result",
          "data": {
            "text/plain": [
              "{'forged': 0, 'genuine': 1}"
            ]
          },
          "metadata": {},
          "execution_count": 7
        }
      ],
      "source": [
        "data.class_indices"
      ]
    },
    {
      "cell_type": "code",
      "execution_count": 8,
      "metadata": {
        "ExecuteTime": {
          "end_time": "2022-05-23T16:05:43.282679Z",
          "start_time": "2022-05-23T16:05:39.818265Z"
        },
        "id": "vd1OikVB0DWa"
      },
      "outputs": [],
      "source": [
        "data_images, data_labels = next(data)"
      ]
    },
    {
      "cell_type": "code",
      "execution_count": 9,
      "metadata": {
        "ExecuteTime": {
          "end_time": "2022-05-23T16:05:43.286298Z",
          "start_time": "2022-05-23T16:05:43.283993Z"
        },
        "id": "Rj6lJ_0F0DWa",
        "outputId": "c382fc24-4c84-471a-dd6c-445f95f29aaa",
        "colab": {
          "base_uri": "https://localhost:8080/"
        }
      },
      "outputs": [
        {
          "output_type": "execute_result",
          "data": {
            "text/plain": [
              "(300, 256, 256, 1)"
            ]
          },
          "metadata": {},
          "execution_count": 9
        }
      ],
      "source": [
        "data_images.shape"
      ]
    },
    {
      "cell_type": "code",
      "execution_count": 10,
      "metadata": {
        "ExecuteTime": {
          "end_time": "2022-05-23T16:05:43.289203Z",
          "start_time": "2022-05-23T16:05:43.287091Z"
        },
        "id": "Iw64bQi30DWb",
        "outputId": "8e16b1a0-7816-49bf-b3a4-d1819938a39e",
        "colab": {
          "base_uri": "https://localhost:8080/"
        }
      },
      "outputs": [
        {
          "output_type": "execute_result",
          "data": {
            "text/plain": [
              "(300,)"
            ]
          },
          "metadata": {},
          "execution_count": 10
        }
      ],
      "source": [
        "data_labels.shape"
      ]
    },
    {
      "cell_type": "code",
      "execution_count": 11,
      "metadata": {
        "ExecuteTime": {
          "end_time": "2022-05-23T16:05:43.378014Z",
          "start_time": "2022-05-23T16:05:43.290028Z"
        },
        "id": "fiRyt5gF0DWb"
      },
      "outputs": [],
      "source": [
        "X_train, X_test, y_train, y_test = train_test_split( \\\n",
        "            data_images, data_labels, random_state=42, test_size=.2)"
      ]
    },
    {
      "cell_type": "code",
      "execution_count": 12,
      "metadata": {
        "ExecuteTime": {
          "end_time": "2022-05-23T16:05:43.381950Z",
          "start_time": "2022-05-23T16:05:43.379012Z"
        },
        "id": "UX6uGMCo0DWb",
        "outputId": "5b37be7b-3261-40bd-f526-0cee33aae0a6",
        "colab": {
          "base_uri": "https://localhost:8080/"
        }
      },
      "outputs": [
        {
          "output_type": "execute_result",
          "data": {
            "text/plain": [
              "(240, 256, 256, 1)"
            ]
          },
          "metadata": {},
          "execution_count": 12
        }
      ],
      "source": [
        "X_train.shape"
      ]
    },
    {
      "cell_type": "code",
      "execution_count": 13,
      "metadata": {
        "ExecuteTime": {
          "end_time": "2022-05-23T16:05:43.385945Z",
          "start_time": "2022-05-23T16:05:43.382938Z"
        },
        "scrolled": true,
        "id": "sBUoFk0E0DWb",
        "outputId": "0ded295e-615b-475f-ed87-9655e930c281",
        "colab": {
          "base_uri": "https://localhost:8080/"
        }
      },
      "outputs": [
        {
          "output_type": "execute_result",
          "data": {
            "text/plain": [
              "(240,)"
            ]
          },
          "metadata": {},
          "execution_count": 13
        }
      ],
      "source": [
        "y_train.shape"
      ]
    },
    {
      "cell_type": "markdown",
      "metadata": {
        "id": "bGdjPhiL0DWb"
      },
      "source": [
        "Above we instantiate Keras' ImageDataGenerator which will scale each pixel's values down to a value of 1. Next we import the data and separate into the images themselves and their respective labels. The class indices indicate what the label values correspond to. Finally we split it into a train and test dataset."
      ]
    },
    {
      "cell_type": "markdown",
      "metadata": {
        "id": "S1qQ7tZw0DWb"
      },
      "source": [
        "### Image Augmentation"
      ]
    },
    {
      "cell_type": "markdown",
      "metadata": {
        "id": "FVN4fruQ0DWb"
      },
      "source": [
        "Because we have such a small dataset it is important to use image augmentation to artificially expand the training dataset. Below we do several forms of data augmentation individually before combining the techniques at the end."
      ]
    },
    {
      "cell_type": "markdown",
      "metadata": {
        "id": "WdiTdHFI0DWb"
      },
      "source": [
        "#### Zoom Augmentation"
      ]
    },
    {
      "cell_type": "markdown",
      "metadata": {
        "id": "sFH6noII0DWb"
      },
      "source": [
        "The first technique we explore is zoom range. Entering a range of values, .25 and 1 in this case, randomly applies a zoom to each image within that range."
      ]
    },
    {
      "cell_type": "code",
      "execution_count": 14,
      "metadata": {
        "ExecuteTime": {
          "end_time": "2022-05-23T16:05:43.432353Z",
          "start_time": "2022-05-23T16:05:43.389712Z"
        },
        "id": "_xI3TrQQ0DWb"
      },
      "outputs": [],
      "source": [
        "aug = ImageDataGenerator(zoom_range=[.25,1])\n",
        "aug.fit(X_train)\n",
        "aug_data = aug.flow(X_train, y_train, batch_size=240)"
      ]
    },
    {
      "cell_type": "code",
      "execution_count": 15,
      "metadata": {
        "ExecuteTime": {
          "end_time": "2022-05-23T16:05:44.752274Z",
          "start_time": "2022-05-23T16:05:43.434570Z"
        },
        "id": "Q2fqt13j0DWb"
      },
      "outputs": [],
      "source": [
        "aug_images, aug_labels = next(aug_data)"
      ]
    },
    {
      "cell_type": "code",
      "execution_count": 16,
      "metadata": {
        "ExecuteTime": {
          "end_time": "2022-05-23T16:05:44.757428Z",
          "start_time": "2022-05-23T16:05:44.753421Z"
        },
        "id": "UJzAAEw50DWb",
        "outputId": "f0ed80dc-0f6f-4bf0-c4dd-cd111d318d70",
        "colab": {
          "base_uri": "https://localhost:8080/"
        }
      },
      "outputs": [
        {
          "output_type": "execute_result",
          "data": {
            "text/plain": [
              "(240, 256, 256, 1)"
            ]
          },
          "metadata": {},
          "execution_count": 16
        }
      ],
      "source": [
        "aug_images.shape"
      ]
    },
    {
      "cell_type": "code",
      "execution_count": 17,
      "metadata": {
        "ExecuteTime": {
          "end_time": "2022-05-23T16:05:44.763236Z",
          "start_time": "2022-05-23T16:05:44.760240Z"
        },
        "scrolled": false,
        "id": "JqyUa7Rb0DWb",
        "outputId": "703ed044-3c6e-4cc0-c7fa-b455ddcd7971",
        "colab": {
          "base_uri": "https://localhost:8080/"
        }
      },
      "outputs": [
        {
          "output_type": "execute_result",
          "data": {
            "text/plain": [
              "(240,)"
            ]
          },
          "metadata": {},
          "execution_count": 17
        }
      ],
      "source": [
        "aug_labels.shape"
      ]
    },
    {
      "cell_type": "code",
      "execution_count": 18,
      "metadata": {
        "ExecuteTime": {
          "end_time": "2022-05-23T16:05:44.773039Z",
          "start_time": "2022-05-23T16:05:44.764282Z"
        },
        "scrolled": true,
        "id": "mus5-mMz0DWc",
        "outputId": "2efc2175-fc3b-48db-f843-e8ff22586e7c",
        "colab": {
          "base_uri": "https://localhost:8080/",
          "height": 0
        }
      },
      "outputs": [
        {
          "output_type": "execute_result",
          "data": {
            "text/plain": [
              "<PIL.Image.Image image mode=L size=256x256 at 0x7F6E41200BD0>"
            ],
            "image/png": "[encoded data removed]"
          },
          "metadata": {},
          "execution_count": 18
        }
      ],
      "source": [
        "array_to_img(aug_images[0])"
      ]
    },
    {
      "cell_type": "code",
      "execution_count": 19,
      "metadata": {
        "ExecuteTime": {
          "end_time": "2022-05-23T16:05:44.837593Z",
          "start_time": "2022-05-23T16:05:44.774121Z"
        },
        "id": "ok-mZtR50DWc"
      },
      "outputs": [],
      "source": [
        "new_images1 = np.concatenate([X_train, aug_images])\n",
        "new_labels1 = np.concatenate([y_train, aug_labels])"
      ]
    },
    {
      "cell_type": "code",
      "execution_count": 20,
      "metadata": {
        "ExecuteTime": {
          "end_time": "2022-05-23T16:05:44.843371Z",
          "start_time": "2022-05-23T16:05:44.838745Z"
        },
        "id": "9gWnXQMl0DWc",
        "outputId": "bafdd223-1f4a-4e64-adb0-d1b67a431629",
        "colab": {
          "base_uri": "https://localhost:8080/"
        }
      },
      "outputs": [
        {
          "output_type": "execute_result",
          "data": {
            "text/plain": [
              "(480, 256, 256, 1)"
            ]
          },
          "metadata": {},
          "execution_count": 20
        }
      ],
      "source": [
        "new_images1.shape"
      ]
    },
    {
      "cell_type": "code",
      "execution_count": 21,
      "metadata": {
        "ExecuteTime": {
          "end_time": "2022-05-23T16:05:44.854854Z",
          "start_time": "2022-05-23T16:05:44.845976Z"
        },
        "scrolled": true,
        "id": "j2ZEhjc_0DWc",
        "outputId": "a80eb48f-851c-4e97-ad71-c391724acfac",
        "colab": {
          "base_uri": "https://localhost:8080/"
        }
      },
      "outputs": [
        {
          "output_type": "execute_result",
          "data": {
            "text/plain": [
              "(480,)"
            ]
          },
          "metadata": {},
          "execution_count": 21
        }
      ],
      "source": [
        "new_labels1.shape"
      ]
    },
    {
      "cell_type": "markdown",
      "metadata": {
        "id": "2xtESP-x0DWc"
      },
      "source": [
        "#### Width Augmentation"
      ]
    },
    {
      "cell_type": "markdown",
      "metadata": {
        "id": "3KbqDEVV0DWc"
      },
      "source": [
        "The next method for augmentation used was width shift range. With a range of .3 the images will be randomly assigned a width down to .3 of the original image size. "
      ]
    },
    {
      "cell_type": "code",
      "execution_count": 22,
      "metadata": {
        "ExecuteTime": {
          "end_time": "2022-05-23T16:05:44.882836Z",
          "start_time": "2022-05-23T16:05:44.858566Z"
        },
        "id": "Xus_GqNv0DWc"
      },
      "outputs": [],
      "source": [
        "aug = ImageDataGenerator(width_shift_range=.3)\n",
        "aug.fit(X_train)\n",
        "aug2_data = aug.flow(X_train, y_train, batch_size=240)"
      ]
    },
    {
      "cell_type": "code",
      "execution_count": 23,
      "metadata": {
        "ExecuteTime": {
          "end_time": "2022-05-23T16:05:45.825020Z",
          "start_time": "2022-05-23T16:05:44.883926Z"
        },
        "id": "u4FBrYPF0DWc"
      },
      "outputs": [],
      "source": [
        "aug2_images, aug2_labels = next(aug2_data)"
      ]
    },
    {
      "cell_type": "code",
      "execution_count": 24,
      "metadata": {
        "ExecuteTime": {
          "end_time": "2022-05-23T16:05:45.962760Z",
          "start_time": "2022-05-23T16:05:45.825976Z"
        },
        "id": "Gqo_6R_s0DWc"
      },
      "outputs": [],
      "source": [
        "new_images2 = np.concatenate([new_images1, aug2_images])\n",
        "new_labels2 = np.concatenate([new_labels1, aug2_labels])"
      ]
    },
    {
      "cell_type": "markdown",
      "metadata": {
        "id": "_3D-UNLx0DWc"
      },
      "source": [
        "#### Height Augmentation"
      ]
    },
    {
      "cell_type": "markdown",
      "metadata": {
        "id": "R-Y1aUd90DWc"
      },
      "source": [
        "The next method for augmentation used was height shift range. With a range of .3 the images will be randomly assigned a height down to .3 of the original image size."
      ]
    },
    {
      "cell_type": "code",
      "execution_count": 25,
      "metadata": {
        "ExecuteTime": {
          "end_time": "2022-05-23T16:05:45.987265Z",
          "start_time": "2022-05-23T16:05:45.963864Z"
        },
        "id": "ZbaVKm_m0DWc"
      },
      "outputs": [],
      "source": [
        "aug = ImageDataGenerator(height_shift_range=.3)\n",
        "aug.fit(X_train)\n",
        "aug3_data = aug.flow(X_train, y_train, batch_size=240)"
      ]
    },
    {
      "cell_type": "code",
      "execution_count": 26,
      "metadata": {
        "ExecuteTime": {
          "end_time": "2022-05-23T16:05:46.921366Z",
          "start_time": "2022-05-23T16:05:45.988413Z"
        },
        "id": "_5RSJQ_g0DWc"
      },
      "outputs": [],
      "source": [
        "aug3_images, aug3_labels = next(aug3_data)"
      ]
    },
    {
      "cell_type": "code",
      "execution_count": 27,
      "metadata": {
        "ExecuteTime": {
          "end_time": "2022-05-23T16:05:47.107123Z",
          "start_time": "2022-05-23T16:05:46.922242Z"
        },
        "id": "47OAh55W0DWc"
      },
      "outputs": [],
      "source": [
        "new_images3 = np.concatenate([new_images2, aug3_images])\n",
        "new_labels3 = np.concatenate([new_labels2, aug3_labels])"
      ]
    },
    {
      "cell_type": "markdown",
      "metadata": {
        "ExecuteTime": {
          "end_time": "2022-05-18T18:10:53.996172Z",
          "start_time": "2022-05-18T18:10:53.989621Z"
        },
        "id": "88uGZ1170DWc"
      },
      "source": [
        "#### Rotation Augmentation"
      ]
    },
    {
      "cell_type": "markdown",
      "metadata": {
        "ExecuteTime": {
          "end_time": "2022-05-20T18:31:05.497987Z",
          "start_time": "2022-05-20T18:31:05.418085Z"
        },
        "id": "HzhChvvv0DWc"
      },
      "source": [
        "Next we apply a random rotation to each image up to 30 degrees."
      ]
    },
    {
      "cell_type": "code",
      "execution_count": 28,
      "metadata": {
        "ExecuteTime": {
          "end_time": "2022-05-23T16:05:47.150201Z",
          "start_time": "2022-05-23T16:05:47.109241Z"
        },
        "id": "r5qASvWM0DWd"
      },
      "outputs": [],
      "source": [
        "aug = ImageDataGenerator(rotation_range=30)\n",
        "aug.fit(X_train)\n",
        "aug4_data = aug.flow(X_train, y_train, batch_size=240)"
      ]
    },
    {
      "cell_type": "code",
      "execution_count": 29,
      "metadata": {
        "ExecuteTime": {
          "end_time": "2022-05-23T16:05:48.059670Z",
          "start_time": "2022-05-23T16:05:47.151166Z"
        },
        "id": "-7RSZv180DWd"
      },
      "outputs": [],
      "source": [
        "aug4_images, aug4_labels = next(aug4_data)"
      ]
    },
    {
      "cell_type": "code",
      "execution_count": 30,
      "metadata": {
        "ExecuteTime": {
          "end_time": "2022-05-23T16:05:48.321156Z",
          "start_time": "2022-05-23T16:05:48.060531Z"
        },
        "id": "IGD4RQS50DWd"
      },
      "outputs": [],
      "source": [
        "new_images4 = np.concatenate([new_images3, aug4_images])\n",
        "new_labels4 = np.concatenate([new_labels3, aug4_labels])"
      ]
    },
    {
      "cell_type": "markdown",
      "metadata": {
        "id": "pK5dN99W0DWd"
      },
      "source": [
        "#### Shear Augmentation"
      ]
    },
    {
      "cell_type": "markdown",
      "metadata": {
        "id": "oV0ZGZBa0DWd"
      },
      "source": [
        "We then apply a random shear value to each image. This angles the corners of each image up to 30 degrees."
      ]
    },
    {
      "cell_type": "code",
      "execution_count": 31,
      "metadata": {
        "ExecuteTime": {
          "end_time": "2022-05-23T16:05:48.353835Z",
          "start_time": "2022-05-23T16:05:48.322907Z"
        },
        "id": "DnZa2voW0DWd"
      },
      "outputs": [],
      "source": [
        "aug = ImageDataGenerator(shear_range=30)\n",
        "aug.fit(X_train)\n",
        "aug5_data = aug.flow(X_train, y_train, batch_size=240)"
      ]
    },
    {
      "cell_type": "code",
      "execution_count": 32,
      "metadata": {
        "ExecuteTime": {
          "end_time": "2022-05-23T16:05:49.270263Z",
          "start_time": "2022-05-23T16:05:48.354995Z"
        },
        "id": "GSPyUkdU0DWd"
      },
      "outputs": [],
      "source": [
        "aug5_images, aug5_labels = next(aug5_data)"
      ]
    },
    {
      "cell_type": "code",
      "execution_count": 33,
      "metadata": {
        "ExecuteTime": {
          "end_time": "2022-05-23T16:05:49.574162Z",
          "start_time": "2022-05-23T16:05:49.271226Z"
        },
        "id": "Akv9kNGs0DWd"
      },
      "outputs": [],
      "source": [
        "new_images5 = np.concatenate([new_images4, aug5_images])\n",
        "new_labels5 = np.concatenate([new_labels4, aug5_labels])"
      ]
    },
    {
      "cell_type": "markdown",
      "metadata": {
        "id": "i-NlCQ-R0DWd"
      },
      "source": [
        "#### Brightness Augmentation"
      ]
    },
    {
      "cell_type": "markdown",
      "metadata": {
        "ExecuteTime": {
          "end_time": "2022-05-20T18:49:59.247310Z",
          "start_time": "2022-05-20T18:49:59.202157Z"
        },
        "id": "icBp-se80DWd"
      },
      "source": [
        "Finally we have brightness augmentation. This applies a random brightness shift within the provided range. "
      ]
    },
    {
      "cell_type": "code",
      "execution_count": 34,
      "metadata": {
        "ExecuteTime": {
          "end_time": "2022-05-23T16:05:49.632646Z",
          "start_time": "2022-05-23T16:05:49.577236Z"
        },
        "id": "bnSYWRVE0DWd"
      },
      "outputs": [],
      "source": [
        "aug = ImageDataGenerator(brightness_range=(1,2))\n",
        "aug.fit(X_train)\n",
        "aug5_data = aug.flow(X_train, y_train, batch_size=240)"
      ]
    },
    {
      "cell_type": "code",
      "execution_count": 35,
      "metadata": {
        "ExecuteTime": {
          "end_time": "2022-05-23T16:05:49.731736Z",
          "start_time": "2022-05-23T16:05:49.635054Z"
        },
        "id": "vCQSxxf50DWd"
      },
      "outputs": [],
      "source": [
        "aug6_images, aug6_labels = next(aug5_data)"
      ]
    },
    {
      "cell_type": "code",
      "execution_count": 36,
      "metadata": {
        "ExecuteTime": {
          "end_time": "2022-05-23T16:05:50.040495Z",
          "start_time": "2022-05-23T16:05:49.732579Z"
        },
        "id": "0bJ9Rogv0DWd"
      },
      "outputs": [],
      "source": [
        "new_images6 = np.concatenate([new_images5, aug6_images])\n",
        "new_labels6 = np.concatenate([new_labels5, aug6_labels])"
      ]
    },
    {
      "cell_type": "code",
      "execution_count": 37,
      "metadata": {
        "ExecuteTime": {
          "end_time": "2022-05-23T16:05:50.044658Z",
          "start_time": "2022-05-23T16:05:50.041411Z"
        },
        "id": "HNDFeNjn0DWd",
        "outputId": "c00f7ef1-0f9e-4839-a120-42e637e6e4dc",
        "colab": {
          "base_uri": "https://localhost:8080/"
        }
      },
      "outputs": [
        {
          "output_type": "execute_result",
          "data": {
            "text/plain": [
              "(1680,)"
            ]
          },
          "metadata": {},
          "execution_count": 37
        }
      ],
      "source": [
        "new_labels6.shape"
      ]
    },
    {
      "cell_type": "markdown",
      "metadata": {
        "id": "0Niir6iw0DWd"
      },
      "source": [
        "#### A little bit of everything Augmentation"
      ]
    },
    {
      "cell_type": "markdown",
      "metadata": {
        "id": "CBsV05X00DWd"
      },
      "source": [
        "Now that we have augmented each image with a single augmentation, we will again augment all images with a combination of each augmentation. "
      ]
    },
    {
      "cell_type": "code",
      "execution_count": 38,
      "metadata": {
        "ExecuteTime": {
          "end_time": "2022-05-23T16:05:50.437436Z",
          "start_time": "2022-05-23T16:05:50.045670Z"
        },
        "id": "gXo4eSwp0DWd"
      },
      "outputs": [],
      "source": [
        "aug = ImageDataGenerator(zoom_range=[.7,.9], width_shift_range=.15, height_shift_range=.15, rotation_range=15, shear_range=15, brightness_range=(1,1.5))\n",
        "aug.fit(new_images6)\n",
        "aug_data_final = aug.flow(new_images6, new_labels6, batch_size=1680)"
      ]
    },
    {
      "cell_type": "code",
      "execution_count": 39,
      "metadata": {
        "ExecuteTime": {
          "end_time": "2022-05-23T16:05:57.654980Z",
          "start_time": "2022-05-23T16:05:50.440677Z"
        },
        "id": "SX7w1lZ30DWd"
      },
      "outputs": [],
      "source": [
        "aug_final_images, aug_final_labels = next(aug_data_final)"
      ]
    },
    {
      "cell_type": "code",
      "execution_count": 40,
      "metadata": {
        "ExecuteTime": {
          "end_time": "2022-05-23T16:05:58.460589Z",
          "start_time": "2022-05-23T16:05:57.658349Z"
        },
        "id": "e5hjhY8J0DWd"
      },
      "outputs": [],
      "source": [
        "final_images = np.concatenate([new_images6, aug_final_images])\n",
        "final_labels = np.concatenate([new_labels6, aug_final_labels])"
      ]
    },
    {
      "cell_type": "code",
      "execution_count": 41,
      "metadata": {
        "ExecuteTime": {
          "end_time": "2022-05-23T16:05:58.486423Z",
          "start_time": "2022-05-23T16:05:58.478573Z"
        },
        "id": "k5nIBtFE0DWd",
        "outputId": "d16430ce-4bc0-4053-f036-42fcebf1f93d",
        "colab": {
          "base_uri": "https://localhost:8080/"
        }
      },
      "outputs": [
        {
          "output_type": "execute_result",
          "data": {
            "text/plain": [
              "(3360, 256, 256, 1)"
            ]
          },
          "metadata": {},
          "execution_count": 41
        }
      ],
      "source": [
        "final_images.shape"
      ]
    },
    {
      "cell_type": "code",
      "execution_count": 42,
      "metadata": {
        "ExecuteTime": {
          "end_time": "2022-05-23T16:05:58.492199Z",
          "start_time": "2022-05-23T16:05:58.488114Z"
        },
        "id": "ktGylzJw0DWe",
        "outputId": "882dbd88-970b-445b-bff8-1c09c5fedd1c",
        "colab": {
          "base_uri": "https://localhost:8080/"
        }
      },
      "outputs": [
        {
          "output_type": "execute_result",
          "data": {
            "text/plain": [
              "(3360,)"
            ]
          },
          "metadata": {},
          "execution_count": 42
        }
      ],
      "source": [
        "final_labels.shape"
      ]
    },
    {
      "cell_type": "code",
      "execution_count": 43,
      "metadata": {
        "ExecuteTime": {
          "end_time": "2022-05-23T16:05:58.508379Z",
          "start_time": "2022-05-23T16:05:58.493315Z"
        },
        "id": "JvANUs2x0DWe",
        "outputId": "69a72c05-96e5-45e2-9d40-9579ae7608eb",
        "colab": {
          "base_uri": "https://localhost:8080/",
          "height": 0
        }
      },
      "outputs": [
        {
          "output_type": "execute_result",
          "data": {
            "text/plain": [
              "<PIL.Image.Image image mode=L size=256x256 at 0x7F6E400BAD10>"
            ],
            "image/png": "[encoded data removed]"
          },
          "metadata": {},
          "execution_count": 43
        }
      ],
      "source": [
        "array_to_img(final_images[0])"
      ]
    },
    {
      "cell_type": "code",
      "execution_count": 44,
      "metadata": {
        "ExecuteTime": {
          "end_time": "2022-05-23T16:05:58.516670Z",
          "start_time": "2022-05-23T16:05:58.510105Z"
        },
        "id": "Rfp_CEyq0DWe",
        "outputId": "f0cf3f77-ce7b-423e-c077-fa789c9d03e4",
        "colab": {
          "base_uri": "https://localhost:8080/"
        }
      },
      "outputs": [
        {
          "output_type": "execute_result",
          "data": {
            "text/plain": [
              "1.0"
            ]
          },
          "metadata": {},
          "execution_count": 44
        }
      ],
      "source": [
        "final_labels[0]"
      ]
    },
    {
      "cell_type": "markdown",
      "metadata": {
        "id": "znWY9nTw0DWe"
      },
      "source": [
        "The above example image would be considered a genuine signature."
      ]
    },
    {
      "cell_type": "markdown",
      "metadata": {
        "id": "1CV6UXls0DWe"
      },
      "source": [
        "## Modeling"
      ]
    },
    {
      "cell_type": "markdown",
      "metadata": {
        "id": "VeYn_F620DWe"
      },
      "source": [
        "### Dummy Model"
      ]
    },
    {
      "cell_type": "markdown",
      "metadata": {
        "id": "H1mLHp2i0DWe"
      },
      "source": [
        "Our first model will be a baseline model for comparison. We will utilize Sklearn's DummyClassifier which uses the most frequent class as it's prediction. "
      ]
    },
    {
      "cell_type": "code",
      "execution_count": 44,
      "metadata": {
        "ExecuteTime": {
          "end_time": "2022-05-23T16:05:58.574943Z",
          "start_time": "2022-05-23T16:05:58.523033Z"
        },
        "id": "fQHXmArA0DWe",
        "outputId": "e512004e-c0b3-4773-efd6-efd863443413",
        "colab": {
          "base_uri": "https://localhost:8080/"
        }
      },
      "outputs": [
        {
          "output_type": "execute_result",
          "data": {
            "text/plain": [
              "DummyClassifier(strategy='most_frequent')"
            ]
          },
          "metadata": {},
          "execution_count": 44
        }
      ],
      "source": [
        "dummy_model = DummyClassifier(strategy='most_frequent')\n",
        "dummy_model.fit(final_images, final_labels)"
      ]
    },
    {
      "cell_type": "code",
      "execution_count": 45,
      "metadata": {
        "ExecuteTime": {
          "end_time": "2022-05-23T14:37:35.762069Z",
          "start_time": "2022-05-23T14:37:35.728654Z"
        },
        "id": "kT-Fmkxv0DWe"
      },
      "outputs": [],
      "source": [
        "dummy_preds = dummy_model.predict(X_test)\n",
        "\n",
        "dummy_acc = dummy_model.score(X_test, y_test)"
      ]
    },
    {
      "cell_type": "code",
      "execution_count": 46,
      "metadata": {
        "ExecuteTime": {
          "end_time": "2022-05-23T14:37:36.158514Z",
          "start_time": "2022-05-23T14:37:36.146852Z"
        },
        "id": "DHF4HzzW0DWe",
        "outputId": "0dc30e5d-4d90-4a4d-f339-2b77a9660843",
        "colab": {
          "base_uri": "https://localhost:8080/"
        }
      },
      "outputs": [
        {
          "output_type": "execute_result",
          "data": {
            "text/plain": [
              "0.43333333333333335"
            ]
          },
          "metadata": {},
          "execution_count": 46
        }
      ],
      "source": [
        "dummy_acc"
      ]
    },
    {
      "cell_type": "markdown",
      "metadata": {
        "id": "sNx3XOei0DWe"
      },
      "source": [
        "### Model 1"
      ]
    },
    {
      "cell_type": "code",
      "execution_count": 45,
      "metadata": {
        "ExecuteTime": {
          "end_time": "2022-05-23T16:06:23.940257Z",
          "start_time": "2022-05-23T16:06:23.913564Z"
        },
        "id": "fS91mFCb0DWe"
      },
      "outputs": [],
      "source": [
        "adam = Adam(learning_rate=.0001)"
      ]
    },
    {
      "cell_type": "code",
      "execution_count": 46,
      "metadata": {
        "ExecuteTime": {
          "end_time": "2022-05-23T16:06:24.737002Z",
          "start_time": "2022-05-23T16:06:24.679818Z"
        },
        "id": "9BB3Pf3d0DWe"
      },
      "outputs": [],
      "source": [
        "def build_model():\n",
        "    model1 = Sequential()\n",
        "    model1.add(layers.Conv2D(filters=64,\n",
        "                       kernel_size=(3,3),\n",
        "                       activation='relu',\n",
        "                       input_shape=(256,256,1)))\n",
        "\n",
        "    model1.add(layers.MaxPool2D())\n",
        "\n",
        "    model1.add(layers.Conv2D(128, (3,3), activation='relu'))\n",
        "\n",
        "    model1.add(layers.MaxPool2D())\n",
        "    \n",
        "    model1.add(layers.Flatten())\n",
        "    model1.add(layers.Dense(64, activation='relu'))\n",
        "    model1.add(layers.Dropout(.25))\n",
        "\n",
        "    model1.add(layers.Dense(32, activation='relu', kernel_regularizer=l2(0.05)))\n",
        "\n",
        "    model1.add(layers.Dense(16, activation='relu', kernel_regularizer=l2(0.01)))\n",
        "    model1.add(layers.Dropout(.25))\n",
        "    \n",
        "    model1.add(layers.Dense(1, activation='sigmoid'))\n",
        "\n",
        "    model1.compile(optimizer=adam,\n",
        "                  loss='binary_crossentropy',\n",
        "                  metrics=['accuracy'])\n",
        "    return model1"
      ]
    },
    {
      "cell_type": "code",
      "execution_count": 47,
      "metadata": {
        "id": "V5cpuu3b0DWe",
        "outputId": "d488352f-0fe1-4a72-89e2-909c9b132a60",
        "colab": {
          "base_uri": "https://localhost:8080/"
        }
      },
      "outputs": [
        {
          "output_type": "stream",
          "name": "stderr",
          "text": [
            "/usr/local/lib/python3.7/dist-packages/ipykernel_launcher.py:1: DeprecationWarning: KerasClassifier is deprecated, use Sci-Keras (https://github.com/adriangb/scikeras) instead. See https://www.adriangb.com/scikeras/stable/migration.html for help migrating.\n",
            "  \"\"\"Entry point for launching an IPython kernel.\n"
          ]
        }
      ],
      "source": [
        "model1 = scikit_learn.KerasClassifier(build_model, verbose=2, epochs=20, batch_size=32)"
      ]
    },
    {
      "cell_type": "code",
      "execution_count": 48,
      "metadata": {
        "ExecuteTime": {
          "end_time": "2022-05-19T18:41:59.855237Z",
          "start_time": "2022-05-19T18:41:36.681608Z"
        },
        "collapsed": true,
        "id": "ekCKvScv0DWe",
        "outputId": "974b8048-0822-4581-eabc-afce3b1bd4c7",
        "colab": {
          "base_uri": "https://localhost:8080/"
        }
      },
      "outputs": [
        {
          "output_type": "stream",
          "name": "stdout",
          "text": [
            "Epoch 1/20\n",
            "84/84 - 15s - loss: 11.0602 - accuracy: 0.4952 - 15s/epoch - 175ms/step\n",
            "Epoch 2/20\n",
            "84/84 - 5s - loss: 2.8383 - accuracy: 0.5365 - 5s/epoch - 56ms/step\n",
            "Epoch 3/20\n",
            "84/84 - 5s - loss: 2.7246 - accuracy: 0.5446 - 5s/epoch - 56ms/step\n",
            "Epoch 4/20\n",
            "84/84 - 5s - loss: 2.6130 - accuracy: 0.5539 - 5s/epoch - 56ms/step\n",
            "Epoch 5/20\n",
            "84/84 - 5s - loss: 2.5056 - accuracy: 0.5781 - 5s/epoch - 56ms/step\n",
            "Epoch 6/20\n",
            "84/84 - 5s - loss: 2.4118 - accuracy: 0.5822 - 5s/epoch - 56ms/step\n",
            "Epoch 7/20\n",
            "84/84 - 5s - loss: 2.3336 - accuracy: 0.5978 - 5s/epoch - 56ms/step\n",
            "Epoch 8/20\n",
            "84/84 - 5s - loss: 2.2545 - accuracy: 0.6105 - 5s/epoch - 56ms/step\n",
            "Epoch 9/20\n",
            "84/84 - 5s - loss: 2.1546 - accuracy: 0.6231 - 5s/epoch - 56ms/step\n",
            "Epoch 10/20\n",
            "84/84 - 5s - loss: 2.0841 - accuracy: 0.6399 - 5s/epoch - 56ms/step\n",
            "Epoch 11/20\n",
            "84/84 - 5s - loss: 2.0019 - accuracy: 0.6440 - 5s/epoch - 56ms/step\n",
            "Epoch 12/20\n",
            "84/84 - 5s - loss: 1.9144 - accuracy: 0.6674 - 5s/epoch - 56ms/step\n",
            "Epoch 13/20\n",
            "84/84 - 5s - loss: 1.8259 - accuracy: 0.7076 - 5s/epoch - 56ms/step\n",
            "Epoch 14/20\n",
            "84/84 - 5s - loss: 1.7580 - accuracy: 0.7206 - 5s/epoch - 57ms/step\n",
            "Epoch 15/20\n",
            "84/84 - 5s - loss: 1.6747 - accuracy: 0.7478 - 5s/epoch - 56ms/step\n",
            "Epoch 16/20\n",
            "84/84 - 5s - loss: 1.5877 - accuracy: 0.7746 - 5s/epoch - 57ms/step\n",
            "Epoch 17/20\n",
            "84/84 - 5s - loss: 1.5301 - accuracy: 0.7913 - 5s/epoch - 56ms/step\n",
            "Epoch 18/20\n",
            "84/84 - 5s - loss: 1.4594 - accuracy: 0.8013 - 5s/epoch - 56ms/step\n",
            "Epoch 19/20\n",
            "84/84 - 5s - loss: 1.3817 - accuracy: 0.8140 - 5s/epoch - 56ms/step\n",
            "Epoch 20/20\n",
            "84/84 - 5s - loss: 1.3214 - accuracy: 0.8449 - 5s/epoch - 56ms/step\n",
            "21/21 - 1s - loss: 1.6364 - accuracy: 0.6384 - 630ms/epoch - 30ms/step\n",
            "Epoch 1/20\n",
            "84/84 - 5s - loss: 5.6045 - accuracy: 0.4948 - 5s/epoch - 63ms/step\n",
            "Epoch 2/20\n",
            "84/84 - 5s - loss: 2.3608 - accuracy: 0.5153 - 5s/epoch - 57ms/step\n",
            "Epoch 3/20\n",
            "84/84 - 5s - loss: 2.1280 - accuracy: 0.5632 - 5s/epoch - 57ms/step\n",
            "Epoch 4/20\n",
            "84/84 - 5s - loss: 1.9539 - accuracy: 0.6287 - 5s/epoch - 57ms/step\n",
            "Epoch 5/20\n",
            "84/84 - 5s - loss: 1.8039 - accuracy: 0.6596 - 5s/epoch - 57ms/step\n",
            "Epoch 6/20\n",
            "84/84 - 5s - loss: 1.6550 - accuracy: 0.7013 - 5s/epoch - 57ms/step\n",
            "Epoch 7/20\n",
            "84/84 - 5s - loss: 1.5180 - accuracy: 0.7440 - 5s/epoch - 57ms/step\n",
            "Epoch 8/20\n",
            "84/84 - 5s - loss: 1.3965 - accuracy: 0.7868 - 5s/epoch - 57ms/step\n",
            "Epoch 9/20\n",
            "84/84 - 5s - loss: 1.2897 - accuracy: 0.8237 - 5s/epoch - 57ms/step\n",
            "Epoch 10/20\n",
            "84/84 - 5s - loss: 1.1931 - accuracy: 0.8542 - 5s/epoch - 57ms/step\n",
            "Epoch 11/20\n",
            "84/84 - 5s - loss: 1.1149 - accuracy: 0.8806 - 5s/epoch - 57ms/step\n",
            "Epoch 12/20\n",
            "84/84 - 5s - loss: 1.0524 - accuracy: 0.8940 - 5s/epoch - 57ms/step\n",
            "Epoch 13/20\n",
            "84/84 - 5s - loss: 0.9922 - accuracy: 0.9066 - 5s/epoch - 57ms/step\n",
            "Epoch 14/20\n",
            "84/84 - 5s - loss: 0.9483 - accuracy: 0.9156 - 5s/epoch - 57ms/step\n",
            "Epoch 15/20\n",
            "84/84 - 5s - loss: 0.8923 - accuracy: 0.9308 - 5s/epoch - 57ms/step\n",
            "Epoch 16/20\n",
            "84/84 - 5s - loss: 0.8542 - accuracy: 0.9449 - 5s/epoch - 57ms/step\n",
            "Epoch 17/20\n",
            "84/84 - 5s - loss: 0.8189 - accuracy: 0.9509 - 5s/epoch - 57ms/step\n",
            "Epoch 18/20\n",
            "84/84 - 5s - loss: 0.7876 - accuracy: 0.9587 - 5s/epoch - 57ms/step\n",
            "Epoch 19/20\n",
            "84/84 - 5s - loss: 0.7622 - accuracy: 0.9598 - 5s/epoch - 57ms/step\n",
            "Epoch 20/20\n",
            "84/84 - 5s - loss: 0.7346 - accuracy: 0.9624 - 5s/epoch - 57ms/step\n",
            "21/21 - 1s - loss: 1.4091 - accuracy: 0.6503 - 609ms/epoch - 29ms/step\n",
            "Epoch 1/20\n",
            "84/84 - 5s - loss: 8.9113 - accuracy: 0.5022 - 5s/epoch - 63ms/step\n",
            "Epoch 2/20\n",
            "84/84 - 5s - loss: 2.4618 - accuracy: 0.5417 - 5s/epoch - 57ms/step\n",
            "Epoch 3/20\n",
            "84/84 - 5s - loss: 2.2515 - accuracy: 0.5670 - 5s/epoch - 56ms/step\n",
            "Epoch 4/20\n",
            "84/84 - 5s - loss: 2.1008 - accuracy: 0.5889 - 5s/epoch - 56ms/step\n",
            "Epoch 5/20\n",
            "84/84 - 5s - loss: 1.9707 - accuracy: 0.6321 - 5s/epoch - 57ms/step\n",
            "Epoch 6/20\n",
            "84/84 - 5s - loss: 1.8679 - accuracy: 0.6600 - 5s/epoch - 57ms/step\n",
            "Epoch 7/20\n",
            "84/84 - 5s - loss: 1.7592 - accuracy: 0.7054 - 5s/epoch - 57ms/step\n",
            "Epoch 8/20\n",
            "84/84 - 5s - loss: 1.6747 - accuracy: 0.7295 - 5s/epoch - 57ms/step\n",
            "Epoch 9/20\n",
            "84/84 - 5s - loss: 1.5763 - accuracy: 0.7649 - 5s/epoch - 57ms/step\n",
            "Epoch 10/20\n",
            "84/84 - 5s - loss: 1.4831 - accuracy: 0.7976 - 5s/epoch - 57ms/step\n",
            "Epoch 11/20\n",
            "84/84 - 5s - loss: 1.3972 - accuracy: 0.8434 - 5s/epoch - 57ms/step\n",
            "Epoch 12/20\n",
            "84/84 - 5s - loss: 1.3436 - accuracy: 0.8616 - 5s/epoch - 57ms/step\n",
            "Epoch 13/20\n",
            "84/84 - 5s - loss: 1.3053 - accuracy: 0.8757 - 5s/epoch - 57ms/step\n",
            "Epoch 14/20\n",
            "84/84 - 5s - loss: 1.2503 - accuracy: 0.8914 - 5s/epoch - 56ms/step\n",
            "Epoch 15/20\n",
            "84/84 - 5s - loss: 1.2020 - accuracy: 0.9077 - 5s/epoch - 56ms/step\n",
            "Epoch 16/20\n",
            "84/84 - 5s - loss: 1.1683 - accuracy: 0.9208 - 5s/epoch - 56ms/step\n",
            "Epoch 17/20\n",
            "84/84 - 5s - loss: 1.1195 - accuracy: 0.9364 - 5s/epoch - 57ms/step\n",
            "Epoch 18/20\n",
            "84/84 - 5s - loss: 1.0796 - accuracy: 0.9483 - 5s/epoch - 57ms/step\n",
            "Epoch 19/20\n",
            "84/84 - 5s - loss: 1.0419 - accuracy: 0.9501 - 5s/epoch - 57ms/step\n",
            "Epoch 20/20\n",
            "84/84 - 5s - loss: 1.0103 - accuracy: 0.9665 - 5s/epoch - 57ms/step\n",
            "21/21 - 1s - loss: 2.5733 - accuracy: 0.6458 - 882ms/epoch - 42ms/step\n",
            "Epoch 1/20\n",
            "84/84 - 6s - loss: 5.5544 - accuracy: 0.5231 - 6s/epoch - 66ms/step\n",
            "Epoch 2/20\n",
            "84/84 - 5s - loss: 2.3640 - accuracy: 0.5499 - 5s/epoch - 59ms/step\n",
            "Epoch 3/20\n",
            "84/84 - 5s - loss: 2.1488 - accuracy: 0.6038 - 5s/epoch - 59ms/step\n",
            "Epoch 4/20\n",
            "84/84 - 5s - loss: 1.9746 - accuracy: 0.6536 - 5s/epoch - 59ms/step\n",
            "Epoch 5/20\n",
            "84/84 - 5s - loss: 1.8405 - accuracy: 0.6979 - 5s/epoch - 59ms/step\n",
            "Epoch 6/20\n",
            "84/84 - 5s - loss: 1.6862 - accuracy: 0.7452 - 5s/epoch - 59ms/step\n",
            "Epoch 7/20\n",
            "84/84 - 5s - loss: 1.5651 - accuracy: 0.7749 - 5s/epoch - 60ms/step\n",
            "Epoch 8/20\n",
            "84/84 - 5s - loss: 1.4572 - accuracy: 0.8188 - 5s/epoch - 60ms/step\n",
            "Epoch 9/20\n",
            "84/84 - 5s - loss: 1.3619 - accuracy: 0.8531 - 5s/epoch - 60ms/step\n",
            "Epoch 10/20\n",
            "84/84 - 5s - loss: 1.3046 - accuracy: 0.8676 - 5s/epoch - 60ms/step\n",
            "Epoch 11/20\n",
            "84/84 - 5s - loss: 1.2290 - accuracy: 0.8917 - 5s/epoch - 59ms/step\n",
            "Epoch 12/20\n",
            "84/84 - 5s - loss: 1.1738 - accuracy: 0.9129 - 5s/epoch - 59ms/step\n",
            "Epoch 13/20\n",
            "84/84 - 5s - loss: 1.1284 - accuracy: 0.9204 - 5s/epoch - 60ms/step\n",
            "Epoch 14/20\n",
            "84/84 - 5s - loss: 1.0948 - accuracy: 0.9345 - 5s/epoch - 60ms/step\n",
            "Epoch 15/20\n",
            "84/84 - 5s - loss: 1.0477 - accuracy: 0.9412 - 5s/epoch - 60ms/step\n",
            "Epoch 16/20\n",
            "84/84 - 5s - loss: 1.0220 - accuracy: 0.9490 - 5s/epoch - 60ms/step\n",
            "Epoch 17/20\n",
            "84/84 - 5s - loss: 0.9761 - accuracy: 0.9617 - 5s/epoch - 60ms/step\n",
            "Epoch 18/20\n",
            "84/84 - 5s - loss: 0.9494 - accuracy: 0.9647 - 5s/epoch - 60ms/step\n",
            "Epoch 19/20\n",
            "84/84 - 5s - loss: 0.9135 - accuracy: 0.9706 - 5s/epoch - 59ms/step\n",
            "Epoch 20/20\n",
            "84/84 - 5s - loss: 0.9216 - accuracy: 0.9699 - 5s/epoch - 60ms/step\n",
            "21/21 - 1s - loss: 3.8361 - accuracy: 0.5402 - 670ms/epoch - 32ms/step\n",
            "Epoch 1/20\n",
            "84/84 - 5s - loss: 10.0775 - accuracy: 0.5089 - 5s/epoch - 65ms/step\n",
            "Epoch 2/20\n",
            "84/84 - 5s - loss: 2.4588 - accuracy: 0.5517 - 5s/epoch - 58ms/step\n",
            "Epoch 3/20\n",
            "84/84 - 5s - loss: 2.2681 - accuracy: 0.5778 - 5s/epoch - 59ms/step\n",
            "Epoch 4/20\n",
            "84/84 - 5s - loss: 2.1120 - accuracy: 0.6161 - 5s/epoch - 58ms/step\n",
            "Epoch 5/20\n",
            "84/84 - 5s - loss: 1.9757 - accuracy: 0.6466 - 5s/epoch - 58ms/step\n",
            "Epoch 6/20\n",
            "84/84 - 5s - loss: 1.8466 - accuracy: 0.6979 - 5s/epoch - 59ms/step\n",
            "Epoch 7/20\n",
            "84/84 - 5s - loss: 1.7322 - accuracy: 0.7374 - 5s/epoch - 58ms/step\n",
            "Epoch 8/20\n",
            "84/84 - 5s - loss: 1.6419 - accuracy: 0.7623 - 5s/epoch - 58ms/step\n",
            "Epoch 9/20\n",
            "84/84 - 5s - loss: 1.5543 - accuracy: 0.7865 - 5s/epoch - 58ms/step\n",
            "Epoch 10/20\n",
            "84/84 - 5s - loss: 1.4830 - accuracy: 0.8158 - 5s/epoch - 58ms/step\n",
            "Epoch 11/20\n",
            "84/84 - 5s - loss: 1.4285 - accuracy: 0.8255 - 5s/epoch - 59ms/step\n",
            "Epoch 12/20\n",
            "84/84 - 5s - loss: 1.4023 - accuracy: 0.8397 - 5s/epoch - 59ms/step\n",
            "Epoch 13/20\n",
            "84/84 - 5s - loss: 1.3206 - accuracy: 0.8694 - 5s/epoch - 58ms/step\n",
            "Epoch 14/20\n",
            "84/84 - 5s - loss: 1.2660 - accuracy: 0.8828 - 5s/epoch - 59ms/step\n",
            "Epoch 15/20\n",
            "84/84 - 5s - loss: 1.2282 - accuracy: 0.8966 - 5s/epoch - 58ms/step\n",
            "Epoch 16/20\n",
            "84/84 - 5s - loss: 1.1978 - accuracy: 0.9096 - 5s/epoch - 58ms/step\n",
            "Epoch 17/20\n",
            "84/84 - 5s - loss: 1.1404 - accuracy: 0.9200 - 5s/epoch - 58ms/step\n",
            "Epoch 18/20\n",
            "84/84 - 5s - loss: 1.1221 - accuracy: 0.9308 - 5s/epoch - 59ms/step\n",
            "Epoch 19/20\n",
            "84/84 - 5s - loss: 1.0849 - accuracy: 0.9375 - 5s/epoch - 58ms/step\n",
            "Epoch 20/20\n",
            "84/84 - 5s - loss: 1.0411 - accuracy: 0.9528 - 5s/epoch - 59ms/step\n",
            "21/21 - 1s - loss: 3.9830 - accuracy: 0.5238 - 633ms/epoch - 30ms/step\n"
          ]
        }
      ],
      "source": [
        "#Cross validation will be run in and pickled from colab to save time.\n",
        "model1_cv_results = cross_val_score(model1, final_images, final_labels)"
      ]
    },
    {
      "cell_type": "code",
      "execution_count": 49,
      "metadata": {
        "id": "AbFIKicP0DWe",
        "colab": {
          "base_uri": "https://localhost:8080/"
        },
        "outputId": "6cda5253-a23f-40f8-ad10-78db0f597537"
      },
      "outputs": [
        {
          "output_type": "execute_result",
          "data": {
            "text/plain": [
              "0.5997023940086365"
            ]
          },
          "metadata": {},
          "execution_count": 49
        }
      ],
      "source": [
        "model1_cv_results.mean()"
      ]
    },
    {
      "cell_type": "code",
      "execution_count": 50,
      "metadata": {
        "id": "oRWotf-I0DWe"
      },
      "outputs": [],
      "source": [
        "model1_cv_pickle = 'drive/MyDrive/model1_cv_pickle.sav'\n",
        "pickle.dump(model1_cv_results, open(model1_cv_pickle, 'wb'))"
      ]
    },
    {
      "cell_type": "code",
      "execution_count": 51,
      "metadata": {
        "collapsed": true,
        "id": "4Tc-TqN10DWe",
        "outputId": "581aa99d-2793-4bd6-8cbc-aee8b9585db2",
        "colab": {
          "base_uri": "https://localhost:8080/"
        }
      },
      "outputs": [
        {
          "output_type": "stream",
          "name": "stdout",
          "text": [
            "Epoch 1/20\n",
            "84/84 - 6s - loss: 9.0404 - accuracy: 0.5052 - val_loss: 2.5413 - val_accuracy: 0.5060 - 6s/epoch - 73ms/step\n",
            "Epoch 2/20\n",
            "84/84 - 5s - loss: 2.4354 - accuracy: 0.5190 - val_loss: 2.3394 - val_accuracy: 0.4955 - 5s/epoch - 63ms/step\n",
            "Epoch 3/20\n",
            "84/84 - 5s - loss: 2.2564 - accuracy: 0.5606 - val_loss: 2.2124 - val_accuracy: 0.5342 - 5s/epoch - 64ms/step\n",
            "Epoch 4/20\n",
            "84/84 - 5s - loss: 2.1254 - accuracy: 0.5930 - val_loss: 2.1249 - val_accuracy: 0.5312 - 5s/epoch - 64ms/step\n",
            "Epoch 5/20\n",
            "84/84 - 5s - loss: 2.0174 - accuracy: 0.6231 - val_loss: 2.1527 - val_accuracy: 0.5491 - 5s/epoch - 62ms/step\n",
            "Epoch 6/20\n",
            "84/84 - 5s - loss: 1.9076 - accuracy: 0.6618 - val_loss: 2.2109 - val_accuracy: 0.5476 - 5s/epoch - 64ms/step\n",
            "Epoch 7/20\n",
            "84/84 - 5s - loss: 1.8056 - accuracy: 0.6912 - val_loss: 2.1671 - val_accuracy: 0.5476 - 5s/epoch - 63ms/step\n",
            "Epoch 8/20\n",
            "84/84 - 5s - loss: 1.7214 - accuracy: 0.7240 - val_loss: 2.2720 - val_accuracy: 0.5506 - 5s/epoch - 63ms/step\n",
            "Epoch 9/20\n",
            "84/84 - 5s - loss: 1.6283 - accuracy: 0.7660 - val_loss: 2.3638 - val_accuracy: 0.5446 - 5s/epoch - 64ms/step\n",
            "Epoch 10/20\n",
            "84/84 - 5s - loss: 1.5577 - accuracy: 0.7946 - val_loss: 2.3886 - val_accuracy: 0.5461 - 5s/epoch - 62ms/step\n",
            "Epoch 11/20\n",
            "84/84 - 5s - loss: 1.4926 - accuracy: 0.8207 - val_loss: 2.4397 - val_accuracy: 0.5387 - 5s/epoch - 63ms/step\n",
            "Epoch 12/20\n",
            "84/84 - 5s - loss: 1.4264 - accuracy: 0.8531 - val_loss: 2.9259 - val_accuracy: 0.5536 - 5s/epoch - 65ms/step\n",
            "Epoch 13/20\n",
            "84/84 - 5s - loss: 1.3736 - accuracy: 0.8702 - val_loss: 2.8981 - val_accuracy: 0.5253 - 5s/epoch - 63ms/step\n",
            "Epoch 14/20\n",
            "84/84 - 5s - loss: 1.3281 - accuracy: 0.8821 - val_loss: 3.0626 - val_accuracy: 0.5580 - 5s/epoch - 64ms/step\n",
            "Epoch 15/20\n",
            "84/84 - 5s - loss: 1.2694 - accuracy: 0.8981 - val_loss: 3.2881 - val_accuracy: 0.5357 - 5s/epoch - 65ms/step\n",
            "Epoch 16/20\n",
            "84/84 - 5s - loss: 1.2281 - accuracy: 0.9062 - val_loss: 3.2829 - val_accuracy: 0.5357 - 5s/epoch - 62ms/step\n",
            "Epoch 17/20\n",
            "84/84 - 5s - loss: 1.1963 - accuracy: 0.9178 - val_loss: 3.4376 - val_accuracy: 0.5491 - 5s/epoch - 64ms/step\n",
            "Epoch 18/20\n",
            "84/84 - 5s - loss: 1.1741 - accuracy: 0.9249 - val_loss: 4.4472 - val_accuracy: 0.5491 - 5s/epoch - 65ms/step\n",
            "Epoch 19/20\n",
            "84/84 - 5s - loss: 1.1340 - accuracy: 0.9342 - val_loss: 3.5880 - val_accuracy: 0.5610 - 5s/epoch - 63ms/step\n",
            "Epoch 20/20\n",
            "84/84 - 5s - loss: 1.0996 - accuracy: 0.9401 - val_loss: 4.2854 - val_accuracy: 0.5640 - 5s/epoch - 63ms/step\n"
          ]
        }
      ],
      "source": [
        "results = model1.fit(final_images, final_labels, validation_split=.2)"
      ]
    },
    {
      "cell_type": "code",
      "source": [
        "model1_results_pickle = 'drive/MyDrive/model1_results_pickle.sav'\n",
        "pickle.dump(results, open(model1_results_pickle, 'wb'))"
      ],
      "metadata": {
        "id": "B1MB7I9X4LuT",
        "outputId": "47689ef3-9943-4463-81c7-e1d65e782acd",
        "colab": {
          "base_uri": "https://localhost:8080/"
        }
      },
      "execution_count": 52,
      "outputs": [
        {
          "output_type": "stream",
          "name": "stdout",
          "text": [
            "INFO:tensorflow:Assets written to: ram://25ca5f36-e29b-4b4b-a1c1-3e014a69715e/assets\n"
          ]
        }
      ]
    },
    {
      "cell_type": "code",
      "execution_count": 53,
      "metadata": {
        "id": "4R3zK7bp0DWe",
        "colab": {
          "base_uri": "https://localhost:8080/"
        },
        "outputId": "fbba7c04-f377-46a6-8ee3-c86fb4144132"
      },
      "outputs": [
        {
          "output_type": "stream",
          "name": "stdout",
          "text": [
            "INFO:tensorflow:Assets written to: ram://3da312f6-6275-4ba5-9516-4cd6ce633d05/assets\n"
          ]
        }
      ],
      "source": [
        "model1_pickle = 'drive/MyDrive/model1_pickle.sav'\n",
        "pickle.dump(model1, open(model1_pickle, 'wb'))"
      ]
    },
    {
      "cell_type": "code",
      "source": [
        ""
      ],
      "metadata": {
        "id": "MMPmlBKUQxWq"
      },
      "execution_count": null,
      "outputs": []
    }
  ],
  "metadata": {
    "kernelspec": {
      "display_name": "tf-test",
      "language": "python",
      "name": "tf-test"
    },
    "language_info": {
      "codemirror_mode": {
        "name": "ipython",
        "version": 3
      },
      "file_extension": ".py",
      "mimetype": "text/x-python",
      "name": "python",
      "nbconvert_exporter": "python",
      "pygments_lexer": "ipython3",
      "version": "3.6.13"
    },
    "toc": {
      "base_numbering": 1,
      "nav_menu": {},
      "number_sections": true,
      "sideBar": true,
      "skip_h1_title": false,
      "title_cell": "Table of Contents",
      "title_sidebar": "Contents",
      "toc_cell": false,
      "toc_position": {},
      "toc_section_display": true,
      "toc_window_display": false
    },
    "colab": {
      "name": "Model1_Notebook.ipynb",
      "provenance": []
    },
    "accelerator": "GPU"
  },
  "nbformat": 4,
  "nbformat_minor": 0
}