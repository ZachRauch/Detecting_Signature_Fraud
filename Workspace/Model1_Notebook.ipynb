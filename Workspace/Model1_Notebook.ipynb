{
  "cells": [
    {
      "cell_type": "markdown",
      "metadata": {
        "id": "ptSIULqi0DWU"
      },
      "source": [
        "# Signature Classification"
      ]
    },
    {
      "cell_type": "markdown",
      "metadata": {
        "id": "PxrvvpR70DWW"
      },
      "source": [
        "![img](https://github.com/ZachRauch/Signature_Classification/blob/main/images/signature_banner.jpeg?raw=1)"
      ]
    },
    {
      "cell_type": "markdown",
      "metadata": {
        "id": "l0PvrSkU0DWW"
      },
      "source": [
        "## Overview"
      ]
    },
    {
      "cell_type": "markdown",
      "metadata": {
        "id": "7JkPYbhX0DWW"
      },
      "source": [
        "The aim of this analysis is to identify fraudulent signatures in a dataset. My audience here is _______. Using just a small dataset with only 300 sample I was able to create a "
      ]
    },
    {
      "cell_type": "markdown",
      "metadata": {
        "id": "dGntQdLa0DWX"
      },
      "source": [
        "## Business Problem"
      ]
    },
    {
      "cell_type": "markdown",
      "metadata": {
        "id": "8tIYg67U0DWX"
      },
      "source": [
        "Currently institutions and businesses recognize signatures as the primary way of authenticating transactions. Signatures are used to sign checks, authorize documents and contracts, and validate credit card transactions. According to recent studies, check fraud costs banks about $900M a year with 22 percent of all fraudulent checks attributed to signature fraud. Therefor, creating an algorithm to identify signature fraud is a valuable asset. "
      ]
    },
    {
      "cell_type": "code",
      "execution_count": null,
      "metadata": {
        "id": "Xw5c1Co_0DWX"
      },
      "outputs": [],
      "source": [
        ""
      ]
    },
    {
      "cell_type": "markdown",
      "metadata": {
        "id": "aIHjXOJb0DWX"
      },
      "source": [
        "## Imports"
      ]
    },
    {
      "cell_type": "code",
      "execution_count": 1,
      "metadata": {
        "ExecuteTime": {
          "end_time": "2022-05-23T16:05:39.636501Z",
          "start_time": "2022-05-23T16:05:39.532903Z"
        },
        "id": "Foi2HQyc0DWY"
      },
      "outputs": [],
      "source": [
        "import pandas as pd\n",
        "import numpy as np\n",
        "import matplotlib.pyplot as plt\n",
        "%matplotlib inline\n",
        "import seaborn as sns\n",
        "import tensorflow as tf\n",
        "from tensorflow.keras.models import Sequential\n",
        "import zipfile\n",
        "import os\n",
        "os.environ['KMP_DUPLICATE_LIB_OK']='True' #This prevents kernel shut down due to xgboost conflict\n",
        "from tensorflow.keras.preprocessing.image import ImageDataGenerator, array_to_img, img_to_array, load_img\n",
        "from tensorflow.keras import models, layers, optimizers, metrics, regularizers, losses\n",
        "from tensorflow.keras.wrappers import scikit_learn\n",
        "from tensorflow.keras.callbacks import EarlyStopping\n",
        "from tensorflow.keras.regularizers import l2\n",
        "\n",
        "from sklearn.model_selection import train_test_split, cross_val_score\n",
        "from sklearn.dummy import DummyClassifier\n",
        "from sklearn.metrics import auc, recall_score, precision_score, \\\n",
        "                            confusion_matrix, plot_confusion_matrix, \\\n",
        "                            roc_auc_score, roc_curve\n",
        "from sklearn.model_selection import GridSearchCV \n",
        "from tensorflow.keras.optimizers import SGD, Adam\n",
        "from sklearn.model_selection import GridSearchCV \n",
        "import pickle\n",
        "\n",
        "np.random.seed(42)"
      ]
    },
    {
      "cell_type": "markdown",
      "metadata": {
        "id": "1jpRePR80DWZ"
      },
      "source": [
        "## Colab Necessary Code"
      ]
    },
    {
      "cell_type": "markdown",
      "metadata": {
        "id": "LRCAjKzx0DWZ"
      },
      "source": [
        "Google Colab was used to help streamline the modeling process. Modeling using Convolutional Neural Networks can be computationally expensive, so if you would like to run this notebook faster, I would recommend creating a Colab account and storing the data, discussed below, in a Google Drive file. "
      ]
    },
    {
      "cell_type": "code",
      "execution_count": 2,
      "metadata": {
        "ExecuteTime": {
          "end_time": "2022-05-23T16:05:39.641944Z",
          "start_time": "2022-05-23T16:05:39.639706Z"
        },
        "id": "SzlRl_AB0DWZ",
        "outputId": "766e3ecf-e7cf-4b97-ed69-b421562ebfae",
        "colab": {
          "base_uri": "https://localhost:8080/"
        }
      },
      "outputs": [
        {
          "output_type": "stream",
          "name": "stdout",
          "text": [
            "Mounted at /content/drive\n"
          ]
        }
      ],
      "source": [
        "from google.colab import drive\n",
        "drive.mount('/content/drive')"
      ]
    },
    {
      "cell_type": "code",
      "execution_count": 4,
      "metadata": {
        "ExecuteTime": {
          "end_time": "2022-05-23T16:05:39.646300Z",
          "start_time": "2022-05-23T16:05:39.643547Z"
        },
        "id": "1pcYtnCR0DWZ",
        "outputId": "5d3c178c-3ed5-495a-fc59-cbf44a8a888b",
        "colab": {
          "base_uri": "https://localhost:8080/"
        }
      },
      "outputs": [
        {
          "output_type": "stream",
          "name": "stdout",
          "text": [
            "Looking in indexes: https://pypi.org/simple, https://us-python.pkg.dev/colab-wheels/public/simple/\n",
            "Collecting unzip\n",
            "  Downloading unzip-1.0.0.tar.gz (704 bytes)\n",
            "Building wheels for collected packages: unzip\n",
            "  Building wheel for unzip (setup.py) ... \u001b[?25l\u001b[?25hdone\n",
            "  Created wheel for unzip: filename=unzip-1.0.0-py3-none-any.whl size=1319 sha256=1202b4495cd99bc5f926e0d7f403a74340f7914d5438da1b1f0ba1a6c91c3305\n",
            "  Stored in directory: /root/.cache/pip/wheels/c5/05/b3/f7b36dbaaf76de31b718cde792c953bfd11d2414a72f204b56\n",
            "Successfully built unzip\n",
            "Installing collected packages: unzip\n",
            "Successfully installed unzip-1.0.0\n",
            "Archive:  /content/drive/MyDrive/signatures.zip\n",
            "  inflating: Dataset_Signature_Final/Dataset/dataset1/forge/02100001.png  \n",
            "  inflating: Dataset_Signature_Final/Dataset/dataset1/forge/02100002.png  \n",
            "  inflating: Dataset_Signature_Final/Dataset/dataset1/forge/02100003.png  \n",
            "  inflating: Dataset_Signature_Final/Dataset/dataset1/forge/02100004.png  \n",
            "  inflating: Dataset_Signature_Final/Dataset/dataset1/forge/02100005.png  \n",
            "  inflating: Dataset_Signature_Final/Dataset/dataset1/forge/02100006.png  \n",
            "  inflating: Dataset_Signature_Final/Dataset/dataset1/forge/02100007.png  \n",
            "  inflating: Dataset_Signature_Final/Dataset/dataset1/forge/02100008.png  \n",
            "  inflating: Dataset_Signature_Final/Dataset/dataset1/forge/02100009.png  \n",
            "  inflating: Dataset_Signature_Final/Dataset/dataset1/forge/02100010.png  \n",
            "  inflating: Dataset_Signature_Final/Dataset/dataset1/forge/02100011.png  \n",
            "  inflating: Dataset_Signature_Final/Dataset/dataset1/forge/02100012.png  \n",
            "  inflating: Dataset_Signature_Final/Dataset/dataset1/forge/02101001.png  \n",
            "  inflating: Dataset_Signature_Final/Dataset/dataset1/forge/02101002.png  \n",
            "  inflating: Dataset_Signature_Final/Dataset/dataset1/forge/02101003.png  \n",
            "  inflating: Dataset_Signature_Final/Dataset/dataset1/forge/02101004.png  \n",
            "  inflating: Dataset_Signature_Final/Dataset/dataset1/forge/02101005.png  \n",
            "  inflating: Dataset_Signature_Final/Dataset/dataset1/forge/02101006.png  \n",
            "  inflating: Dataset_Signature_Final/Dataset/dataset1/forge/02101007.png  \n",
            "  inflating: Dataset_Signature_Final/Dataset/dataset1/forge/02101008.png  \n",
            "  inflating: Dataset_Signature_Final/Dataset/dataset1/forge/02101009.png  \n",
            "  inflating: Dataset_Signature_Final/Dataset/dataset1/forge/02101010.png  \n",
            "  inflating: Dataset_Signature_Final/Dataset/dataset1/forge/02101011.png  \n",
            "  inflating: Dataset_Signature_Final/Dataset/dataset1/forge/02101012.png  \n",
            "  inflating: Dataset_Signature_Final/Dataset/dataset1/forge/02102001.png  \n",
            "  inflating: Dataset_Signature_Final/Dataset/dataset1/forge/02102002.png  \n",
            "  inflating: Dataset_Signature_Final/Dataset/dataset1/forge/02102003.png  \n",
            "  inflating: Dataset_Signature_Final/Dataset/dataset1/forge/02102004.png  \n",
            "  inflating: Dataset_Signature_Final/Dataset/dataset1/forge/02102005.png  \n",
            "  inflating: Dataset_Signature_Final/Dataset/dataset1/forge/02102006.png  \n",
            "  inflating: Dataset_Signature_Final/Dataset/dataset1/forge/02102007.png  \n",
            "  inflating: Dataset_Signature_Final/Dataset/dataset1/forge/02102008.png  \n",
            "  inflating: Dataset_Signature_Final/Dataset/dataset1/forge/02102009.png  \n",
            "  inflating: Dataset_Signature_Final/Dataset/dataset1/forge/02102010.png  \n",
            "  inflating: Dataset_Signature_Final/Dataset/dataset1/forge/02102011.png  \n",
            "  inflating: Dataset_Signature_Final/Dataset/dataset1/forge/02102012.png  \n",
            "  inflating: Dataset_Signature_Final/Dataset/dataset1/forge/02103001.png  \n",
            "  inflating: Dataset_Signature_Final/Dataset/dataset1/forge/02103002.png  \n",
            "  inflating: Dataset_Signature_Final/Dataset/dataset1/forge/02103003.png  \n",
            "  inflating: Dataset_Signature_Final/Dataset/dataset1/forge/02103004.png  \n",
            "  inflating: Dataset_Signature_Final/Dataset/dataset1/forge/02103005.png  \n",
            "  inflating: Dataset_Signature_Final/Dataset/dataset1/forge/02103006.png  \n",
            "  inflating: Dataset_Signature_Final/Dataset/dataset1/forge/02103007.png  \n",
            "  inflating: Dataset_Signature_Final/Dataset/dataset1/forge/02103008.png  \n",
            "  inflating: Dataset_Signature_Final/Dataset/dataset1/forge/02103009.png  \n",
            "  inflating: Dataset_Signature_Final/Dataset/dataset1/forge/02103010.png  \n",
            "  inflating: Dataset_Signature_Final/Dataset/dataset1/forge/02103011.png  \n",
            "  inflating: Dataset_Signature_Final/Dataset/dataset1/forge/02103012.png  \n",
            "  inflating: Dataset_Signature_Final/Dataset/dataset1/forge/02104001.png  \n",
            "  inflating: Dataset_Signature_Final/Dataset/dataset1/forge/02104002.png  \n",
            "  inflating: Dataset_Signature_Final/Dataset/dataset1/forge/02104003.png  \n",
            "  inflating: Dataset_Signature_Final/Dataset/dataset1/forge/02104004.png  \n",
            "  inflating: Dataset_Signature_Final/Dataset/dataset1/forge/02104005.png  \n",
            "  inflating: Dataset_Signature_Final/Dataset/dataset1/forge/02104006.png  \n",
            "  inflating: Dataset_Signature_Final/Dataset/dataset1/forge/02104007.png  \n",
            "  inflating: Dataset_Signature_Final/Dataset/dataset1/forge/02104008.png  \n",
            "  inflating: Dataset_Signature_Final/Dataset/dataset1/forge/02104009.png  \n",
            "  inflating: Dataset_Signature_Final/Dataset/dataset1/forge/02104010.png  \n",
            "  inflating: Dataset_Signature_Final/Dataset/dataset1/forge/02104011.png  \n",
            "  inflating: Dataset_Signature_Final/Dataset/dataset1/forge/02104012.png  \n",
            "  inflating: Dataset_Signature_Final/Dataset/dataset1/real/00100001.png  \n",
            "  inflating: Dataset_Signature_Final/Dataset/dataset1/real/00101001.png  \n",
            "  inflating: Dataset_Signature_Final/Dataset/dataset1/real/00102001.png  \n",
            "  inflating: Dataset_Signature_Final/Dataset/dataset1/real/00103001.png  \n",
            "  inflating: Dataset_Signature_Final/Dataset/dataset1/real/00104001.png  \n",
            "  inflating: Dataset_Signature_Final/Dataset/dataset1/real/00200002.png  \n",
            "  inflating: Dataset_Signature_Final/Dataset/dataset1/real/00201002.png  \n",
            "  inflating: Dataset_Signature_Final/Dataset/dataset1/real/00202002.png  \n",
            "  inflating: Dataset_Signature_Final/Dataset/dataset1/real/00203002.png  \n",
            "  inflating: Dataset_Signature_Final/Dataset/dataset1/real/00204002.png  \n",
            "  inflating: Dataset_Signature_Final/Dataset/dataset1/real/00300003.png  \n",
            "  inflating: Dataset_Signature_Final/Dataset/dataset1/real/00301003.png  \n",
            "  inflating: Dataset_Signature_Final/Dataset/dataset1/real/00302003.png  \n",
            "  inflating: Dataset_Signature_Final/Dataset/dataset1/real/00303003.png  \n",
            "  inflating: Dataset_Signature_Final/Dataset/dataset1/real/00304003.png  \n",
            "  inflating: Dataset_Signature_Final/Dataset/dataset1/real/00400004.png  \n",
            "  inflating: Dataset_Signature_Final/Dataset/dataset1/real/00401004.png  \n",
            "  inflating: Dataset_Signature_Final/Dataset/dataset1/real/00402004.png  \n",
            "  inflating: Dataset_Signature_Final/Dataset/dataset1/real/00403004.png  \n",
            "  inflating: Dataset_Signature_Final/Dataset/dataset1/real/00404004.png  \n",
            "  inflating: Dataset_Signature_Final/Dataset/dataset1/real/00500005.png  \n",
            "  inflating: Dataset_Signature_Final/Dataset/dataset1/real/00501005.png  \n",
            "  inflating: Dataset_Signature_Final/Dataset/dataset1/real/00502005.png  \n",
            "  inflating: Dataset_Signature_Final/Dataset/dataset1/real/00503005.png  \n",
            "  inflating: Dataset_Signature_Final/Dataset/dataset1/real/00504005.png  \n",
            "  inflating: Dataset_Signature_Final/Dataset/dataset1/real/00600006.png  \n",
            "  inflating: Dataset_Signature_Final/Dataset/dataset1/real/00601006.png  \n",
            "  inflating: Dataset_Signature_Final/Dataset/dataset1/real/00602006.png  \n",
            "  inflating: Dataset_Signature_Final/Dataset/dataset1/real/00603006.png  \n",
            "  inflating: Dataset_Signature_Final/Dataset/dataset1/real/00604006.png  \n",
            "  inflating: Dataset_Signature_Final/Dataset/dataset1/real/00700007.png  \n",
            "  inflating: Dataset_Signature_Final/Dataset/dataset1/real/00701007.png  \n",
            "  inflating: Dataset_Signature_Final/Dataset/dataset1/real/00702007.png  \n",
            "  inflating: Dataset_Signature_Final/Dataset/dataset1/real/00703007.png  \n",
            "  inflating: Dataset_Signature_Final/Dataset/dataset1/real/00704007.png  \n",
            "  inflating: Dataset_Signature_Final/Dataset/dataset1/real/00800008.png  \n",
            "  inflating: Dataset_Signature_Final/Dataset/dataset1/real/00801008.png  \n",
            "  inflating: Dataset_Signature_Final/Dataset/dataset1/real/00802008.png  \n",
            "  inflating: Dataset_Signature_Final/Dataset/dataset1/real/00803008.png  \n",
            "  inflating: Dataset_Signature_Final/Dataset/dataset1/real/00804008.png  \n",
            "  inflating: Dataset_Signature_Final/Dataset/dataset1/real/00900009.png  \n",
            "  inflating: Dataset_Signature_Final/Dataset/dataset1/real/00901009.png  \n",
            "  inflating: Dataset_Signature_Final/Dataset/dataset1/real/00902009.png  \n",
            "  inflating: Dataset_Signature_Final/Dataset/dataset1/real/00903009.png  \n",
            "  inflating: Dataset_Signature_Final/Dataset/dataset1/real/00904009.png  \n",
            "  inflating: Dataset_Signature_Final/Dataset/dataset1/real/01000010.png  \n",
            "  inflating: Dataset_Signature_Final/Dataset/dataset1/real/01001010.png  \n",
            "  inflating: Dataset_Signature_Final/Dataset/dataset1/real/01002010.png  \n",
            "  inflating: Dataset_Signature_Final/Dataset/dataset1/real/01003010.png  \n",
            "  inflating: Dataset_Signature_Final/Dataset/dataset1/real/01004010.png  \n",
            "  inflating: Dataset_Signature_Final/Dataset/dataset1/real/01100011.png  \n",
            "  inflating: Dataset_Signature_Final/Dataset/dataset1/real/01101011.png  \n",
            "  inflating: Dataset_Signature_Final/Dataset/dataset1/real/01102011.png  \n",
            "  inflating: Dataset_Signature_Final/Dataset/dataset1/real/01103011.png  \n",
            "  inflating: Dataset_Signature_Final/Dataset/dataset1/real/01104011.png  \n",
            "  inflating: Dataset_Signature_Final/Dataset/dataset1/real/01200012.png  \n",
            "  inflating: Dataset_Signature_Final/Dataset/dataset1/real/01201012.png  \n",
            "  inflating: Dataset_Signature_Final/Dataset/dataset1/real/01202012.png  \n",
            "  inflating: Dataset_Signature_Final/Dataset/dataset1/real/01203012.png  \n",
            "  inflating: Dataset_Signature_Final/Dataset/dataset1/real/01204012.png  \n",
            "  inflating: Dataset_Signature_Final/Dataset/dataset2/forge/02101003.png  \n",
            "  inflating: Dataset_Signature_Final/Dataset/dataset2/forge/02101004.png  \n",
            "  inflating: Dataset_Signature_Final/Dataset/dataset2/forge/02101005.png  \n",
            "  inflating: Dataset_Signature_Final/Dataset/dataset2/forge/02101006.png  \n",
            "  inflating: Dataset_Signature_Final/Dataset/dataset2/forge/02101007.png  \n",
            "  inflating: Dataset_Signature_Final/Dataset/dataset2/forge/02101008.png  \n",
            "  inflating: Dataset_Signature_Final/Dataset/dataset2/forge/02101009.png  \n",
            "  inflating: Dataset_Signature_Final/Dataset/dataset2/forge/02101011.png  \n",
            "  inflating: Dataset_Signature_Final/Dataset/dataset2/forge/02101012.png  \n",
            "  inflating: Dataset_Signature_Final/Dataset/dataset2/forge/02102003.png  \n",
            "  inflating: Dataset_Signature_Final/Dataset/dataset2/forge/02102004.png  \n",
            "  inflating: Dataset_Signature_Final/Dataset/dataset2/forge/02102005.png  \n",
            "  inflating: Dataset_Signature_Final/Dataset/dataset2/forge/02102006.png  \n",
            "  inflating: Dataset_Signature_Final/Dataset/dataset2/forge/02102007.png  \n",
            "  inflating: Dataset_Signature_Final/Dataset/dataset2/forge/02102008.png  \n",
            "  inflating: Dataset_Signature_Final/Dataset/dataset2/forge/02102009.png  \n",
            "  inflating: Dataset_Signature_Final/Dataset/dataset2/forge/02102011.png  \n",
            "  inflating: Dataset_Signature_Final/Dataset/dataset2/forge/02102012.png  \n",
            "  inflating: Dataset_Signature_Final/Dataset/dataset2/forge/02103003.png  \n",
            "  inflating: Dataset_Signature_Final/Dataset/dataset2/forge/02103004.png  \n",
            "  inflating: Dataset_Signature_Final/Dataset/dataset2/forge/02103005.png  \n",
            "  inflating: Dataset_Signature_Final/Dataset/dataset2/forge/02103006.png  \n",
            "  inflating: Dataset_Signature_Final/Dataset/dataset2/forge/02103007.png  \n",
            "  inflating: Dataset_Signature_Final/Dataset/dataset2/forge/02103008.png  \n",
            "  inflating: Dataset_Signature_Final/Dataset/dataset2/forge/02103009.png  \n",
            "  inflating: Dataset_Signature_Final/Dataset/dataset2/forge/02103011.png  \n",
            "  inflating: Dataset_Signature_Final/Dataset/dataset2/forge/02103012.png  \n",
            "  inflating: Dataset_Signature_Final/Dataset/dataset2/forge/02104003.png  \n",
            "  inflating: Dataset_Signature_Final/Dataset/dataset2/forge/02104004.png  \n",
            "  inflating: Dataset_Signature_Final/Dataset/dataset2/forge/02104005.png  \n",
            "  inflating: Dataset_Signature_Final/Dataset/dataset2/forge/02104006.png  \n",
            "  inflating: Dataset_Signature_Final/Dataset/dataset2/forge/02104007.png  \n",
            "  inflating: Dataset_Signature_Final/Dataset/dataset2/forge/02104008.png  \n",
            "  inflating: Dataset_Signature_Final/Dataset/dataset2/forge/02104009.png  \n",
            "  inflating: Dataset_Signature_Final/Dataset/dataset2/forge/02104011.png  \n",
            "  inflating: Dataset_Signature_Final/Dataset/dataset2/forge/02104012.png  \n",
            "  inflating: Dataset_Signature_Final/Dataset/dataset2/forge/02105003.png  \n",
            "  inflating: Dataset_Signature_Final/Dataset/dataset2/forge/02105004.png  \n",
            "  inflating: Dataset_Signature_Final/Dataset/dataset2/forge/02105005.png  \n",
            "  inflating: Dataset_Signature_Final/Dataset/dataset2/forge/02105006.png  \n",
            "  inflating: Dataset_Signature_Final/Dataset/dataset2/forge/02105007.png  \n",
            "  inflating: Dataset_Signature_Final/Dataset/dataset2/forge/02105008.png  \n",
            "  inflating: Dataset_Signature_Final/Dataset/dataset2/forge/02105009.png  \n",
            "  inflating: Dataset_Signature_Final/Dataset/dataset2/forge/02105011.png  \n",
            "  inflating: Dataset_Signature_Final/Dataset/dataset2/forge/02105012.png  \n",
            "  inflating: Dataset_Signature_Final/Dataset/dataset2/forge/02201001.png  \n",
            "  inflating: Dataset_Signature_Final/Dataset/dataset2/forge/02201002.png  \n",
            "  inflating: Dataset_Signature_Final/Dataset/dataset2/forge/02201010.png  \n",
            "  inflating: Dataset_Signature_Final/Dataset/dataset2/forge/02202001.png  \n",
            "  inflating: Dataset_Signature_Final/Dataset/dataset2/forge/02202002.png  \n",
            "  inflating: Dataset_Signature_Final/Dataset/dataset2/forge/02202010.png  \n",
            "  inflating: Dataset_Signature_Final/Dataset/dataset2/forge/02203001.png  \n",
            "  inflating: Dataset_Signature_Final/Dataset/dataset2/forge/02203002.png  \n",
            "  inflating: Dataset_Signature_Final/Dataset/dataset2/forge/02203010.png  \n",
            "  inflating: Dataset_Signature_Final/Dataset/dataset2/forge/02204001.png  \n",
            "  inflating: Dataset_Signature_Final/Dataset/dataset2/forge/02204002.png  \n",
            "  inflating: Dataset_Signature_Final/Dataset/dataset2/forge/02204010.png  \n",
            "  inflating: Dataset_Signature_Final/Dataset/dataset2/forge/02205001.png  \n",
            "  inflating: Dataset_Signature_Final/Dataset/dataset2/forge/02205002.png  \n",
            "  inflating: Dataset_Signature_Final/Dataset/dataset2/forge/02205010.png  \n",
            "  inflating: Dataset_Signature_Final/Dataset/dataset2/real/00101001.png  \n",
            "  inflating: Dataset_Signature_Final/Dataset/dataset2/real/00102001.png  \n",
            "  inflating: Dataset_Signature_Final/Dataset/dataset2/real/00103001.png  \n",
            "  inflating: Dataset_Signature_Final/Dataset/dataset2/real/00104001.png  \n",
            "  inflating: Dataset_Signature_Final/Dataset/dataset2/real/00105001.png  \n",
            "  inflating: Dataset_Signature_Final/Dataset/dataset2/real/00201002.png  \n",
            "  inflating: Dataset_Signature_Final/Dataset/dataset2/real/00202002.png  \n",
            "  inflating: Dataset_Signature_Final/Dataset/dataset2/real/00203002.png  \n",
            "  inflating: Dataset_Signature_Final/Dataset/dataset2/real/00204002.png  \n",
            "  inflating: Dataset_Signature_Final/Dataset/dataset2/real/00205002.png  \n",
            "  inflating: Dataset_Signature_Final/Dataset/dataset2/real/00301003.png  \n",
            "  inflating: Dataset_Signature_Final/Dataset/dataset2/real/00302003.png  \n",
            "  inflating: Dataset_Signature_Final/Dataset/dataset2/real/00303003.png  \n",
            "  inflating: Dataset_Signature_Final/Dataset/dataset2/real/00304003.png  \n",
            "  inflating: Dataset_Signature_Final/Dataset/dataset2/real/00305003.png  \n",
            "  inflating: Dataset_Signature_Final/Dataset/dataset2/real/00401004.png  \n",
            "  inflating: Dataset_Signature_Final/Dataset/dataset2/real/00402004.png  \n",
            "  inflating: Dataset_Signature_Final/Dataset/dataset2/real/00403004.png  \n",
            "  inflating: Dataset_Signature_Final/Dataset/dataset2/real/00404004.png  \n",
            "  inflating: Dataset_Signature_Final/Dataset/dataset2/real/00405004.png  \n",
            "  inflating: Dataset_Signature_Final/Dataset/dataset2/real/00501005.png  \n",
            "  inflating: Dataset_Signature_Final/Dataset/dataset2/real/00502005.png  \n",
            "  inflating: Dataset_Signature_Final/Dataset/dataset2/real/00503005.png  \n",
            "  inflating: Dataset_Signature_Final/Dataset/dataset2/real/00504005.png  \n",
            "  inflating: Dataset_Signature_Final/Dataset/dataset2/real/00505005.png  \n",
            "  inflating: Dataset_Signature_Final/Dataset/dataset2/real/00601006.png  \n",
            "  inflating: Dataset_Signature_Final/Dataset/dataset2/real/00602006.png  \n",
            "  inflating: Dataset_Signature_Final/Dataset/dataset2/real/00603006.png  \n",
            "  inflating: Dataset_Signature_Final/Dataset/dataset2/real/00604006.png  \n",
            "  inflating: Dataset_Signature_Final/Dataset/dataset2/real/00605006.png  \n",
            "  inflating: Dataset_Signature_Final/Dataset/dataset2/real/00701007.png  \n",
            "  inflating: Dataset_Signature_Final/Dataset/dataset2/real/00702007.png  \n",
            "  inflating: Dataset_Signature_Final/Dataset/dataset2/real/00703007.png  \n",
            "  inflating: Dataset_Signature_Final/Dataset/dataset2/real/00704007.png  \n",
            "  inflating: Dataset_Signature_Final/Dataset/dataset2/real/00705007.png  \n",
            "  inflating: Dataset_Signature_Final/Dataset/dataset2/real/00801008.png  \n",
            "  inflating: Dataset_Signature_Final/Dataset/dataset2/real/00802008.png  \n",
            "  inflating: Dataset_Signature_Final/Dataset/dataset2/real/00803008.png  \n",
            "  inflating: Dataset_Signature_Final/Dataset/dataset2/real/00804008.png  \n",
            "  inflating: Dataset_Signature_Final/Dataset/dataset2/real/00805008.png  \n",
            "  inflating: Dataset_Signature_Final/Dataset/dataset2/real/00901009.png  \n",
            "  inflating: Dataset_Signature_Final/Dataset/dataset2/real/00902009.png  \n",
            "  inflating: Dataset_Signature_Final/Dataset/dataset2/real/00903009.png  \n",
            "  inflating: Dataset_Signature_Final/Dataset/dataset2/real/00904009.png  \n",
            "  inflating: Dataset_Signature_Final/Dataset/dataset2/real/00905009.png  \n",
            "  inflating: Dataset_Signature_Final/Dataset/dataset2/real/01001010.png  \n",
            "  inflating: Dataset_Signature_Final/Dataset/dataset2/real/01002010.png  \n",
            "  inflating: Dataset_Signature_Final/Dataset/dataset2/real/01003010.png  \n",
            "  inflating: Dataset_Signature_Final/Dataset/dataset2/real/01004010.png  \n",
            "  inflating: Dataset_Signature_Final/Dataset/dataset2/real/01005010.png  \n",
            "  inflating: Dataset_Signature_Final/Dataset/dataset2/real/01101011.png  \n",
            "  inflating: Dataset_Signature_Final/Dataset/dataset2/real/01102011.png  \n",
            "  inflating: Dataset_Signature_Final/Dataset/dataset2/real/01103011.png  \n",
            "  inflating: Dataset_Signature_Final/Dataset/dataset2/real/01104011.png  \n",
            "  inflating: Dataset_Signature_Final/Dataset/dataset2/real/01105011.png  \n",
            "  inflating: Dataset_Signature_Final/Dataset/dataset2/real/01201012.png  \n",
            "  inflating: Dataset_Signature_Final/Dataset/dataset2/real/01202012.png  \n",
            "  inflating: Dataset_Signature_Final/Dataset/dataset2/real/01203012.png  \n",
            "  inflating: Dataset_Signature_Final/Dataset/dataset2/real/01204012.png  \n",
            "  inflating: Dataset_Signature_Final/Dataset/dataset2/real/01205012.png  \n",
            "  inflating: Dataset_Signature_Final/Dataset/dataset3/forge/00101014.png  \n",
            "  inflating: Dataset_Signature_Final/Dataset/dataset3/forge/00101019.png  \n",
            "  inflating: Dataset_Signature_Final/Dataset/dataset3/forge/00101025.png  \n",
            "  inflating: Dataset_Signature_Final/Dataset/dataset3/forge/00101026.png  \n",
            "  inflating: Dataset_Signature_Final/Dataset/dataset3/forge/00101027.png  \n",
            "  inflating: Dataset_Signature_Final/Dataset/dataset3/forge/00101028.png  \n",
            "  inflating: Dataset_Signature_Final/Dataset/dataset3/forge/00101029.png  \n",
            "  inflating: Dataset_Signature_Final/Dataset/dataset3/forge/00101030.png  \n",
            "  inflating: Dataset_Signature_Final/Dataset/dataset3/forge/00102014.png  \n",
            "  inflating: Dataset_Signature_Final/Dataset/dataset3/forge/00102019.png  \n",
            "  inflating: Dataset_Signature_Final/Dataset/dataset3/forge/00102025.png  \n",
            "  inflating: Dataset_Signature_Final/Dataset/dataset3/forge/00102026.png  \n",
            "  inflating: Dataset_Signature_Final/Dataset/dataset3/forge/00102027.png  \n",
            "  inflating: Dataset_Signature_Final/Dataset/dataset3/forge/00102028.png  \n",
            "  inflating: Dataset_Signature_Final/Dataset/dataset3/forge/00102029.png  \n",
            "  inflating: Dataset_Signature_Final/Dataset/dataset3/forge/00102030.png  \n",
            "  inflating: Dataset_Signature_Final/Dataset/dataset3/forge/00103014.png  \n",
            "  inflating: Dataset_Signature_Final/Dataset/dataset3/forge/00103019.png  \n",
            "  inflating: Dataset_Signature_Final/Dataset/dataset3/forge/00103025.png  \n",
            "  inflating: Dataset_Signature_Final/Dataset/dataset3/forge/00103026.png  \n",
            "  inflating: Dataset_Signature_Final/Dataset/dataset3/forge/00103027.png  \n",
            "  inflating: Dataset_Signature_Final/Dataset/dataset3/forge/00103028.png  \n",
            "  inflating: Dataset_Signature_Final/Dataset/dataset3/forge/00103029.png  \n",
            "  inflating: Dataset_Signature_Final/Dataset/dataset3/forge/00103030.png  \n",
            "  inflating: Dataset_Signature_Final/Dataset/dataset3/forge/00104014.png  \n",
            "  inflating: Dataset_Signature_Final/Dataset/dataset3/forge/00104019.png  \n",
            "  inflating: Dataset_Signature_Final/Dataset/dataset3/forge/00104025.png  \n",
            "  inflating: Dataset_Signature_Final/Dataset/dataset3/forge/00104026.png  \n",
            "  inflating: Dataset_Signature_Final/Dataset/dataset3/forge/00104027.png  \n",
            "  inflating: Dataset_Signature_Final/Dataset/dataset3/forge/00104028.png  \n",
            "  inflating: Dataset_Signature_Final/Dataset/dataset3/forge/00104029.png  \n",
            "  inflating: Dataset_Signature_Final/Dataset/dataset3/forge/00104030.png  \n",
            "  inflating: Dataset_Signature_Final/Dataset/dataset3/forge/00105014.png  \n",
            "  inflating: Dataset_Signature_Final/Dataset/dataset3/forge/00105019.png  \n",
            "  inflating: Dataset_Signature_Final/Dataset/dataset3/forge/00105025.png  \n",
            "  inflating: Dataset_Signature_Final/Dataset/dataset3/forge/00105026.png  \n",
            "  inflating: Dataset_Signature_Final/Dataset/dataset3/forge/00105027.png  \n",
            "  inflating: Dataset_Signature_Final/Dataset/dataset3/forge/00105028.png  \n",
            "  inflating: Dataset_Signature_Final/Dataset/dataset3/forge/00105029.png  \n",
            "  inflating: Dataset_Signature_Final/Dataset/dataset3/forge/00105030.png  \n",
            "  inflating: Dataset_Signature_Final/Dataset/dataset3/forge/00301001.png  \n",
            "  inflating: Dataset_Signature_Final/Dataset/dataset3/forge/00301002.png  \n",
            "  inflating: Dataset_Signature_Final/Dataset/dataset3/forge/00301005.png  \n",
            "  inflating: Dataset_Signature_Final/Dataset/dataset3/forge/00301009.png  \n",
            "  inflating: Dataset_Signature_Final/Dataset/dataset3/forge/00301018.png  \n",
            "  inflating: Dataset_Signature_Final/Dataset/dataset3/forge/00302001.png  \n",
            "  inflating: Dataset_Signature_Final/Dataset/dataset3/forge/00302002.png  \n",
            "  inflating: Dataset_Signature_Final/Dataset/dataset3/forge/00302005.png  \n",
            "  inflating: Dataset_Signature_Final/Dataset/dataset3/forge/00302009.png  \n",
            "  inflating: Dataset_Signature_Final/Dataset/dataset3/forge/00302018.png  \n",
            "  inflating: Dataset_Signature_Final/Dataset/dataset3/forge/00303001.png  \n",
            "  inflating: Dataset_Signature_Final/Dataset/dataset3/forge/00303002.png  \n",
            "  inflating: Dataset_Signature_Final/Dataset/dataset3/forge/00303005.png  \n",
            "  inflating: Dataset_Signature_Final/Dataset/dataset3/forge/00303009.png  \n",
            "  inflating: Dataset_Signature_Final/Dataset/dataset3/forge/00303018.png  \n",
            "  inflating: Dataset_Signature_Final/Dataset/dataset3/forge/00304001.png  \n",
            "  inflating: Dataset_Signature_Final/Dataset/dataset3/forge/00304002.png  \n",
            "  inflating: Dataset_Signature_Final/Dataset/dataset3/forge/00304005.png  \n",
            "  inflating: Dataset_Signature_Final/Dataset/dataset3/forge/00304009.png  \n",
            "  inflating: Dataset_Signature_Final/Dataset/dataset3/forge/00304018.png  \n",
            "  inflating: Dataset_Signature_Final/Dataset/dataset3/forge/00305001.png  \n",
            "  inflating: Dataset_Signature_Final/Dataset/dataset3/forge/00305002.png  \n",
            "  inflating: Dataset_Signature_Final/Dataset/dataset3/forge/00305005.png  \n",
            "  inflating: Dataset_Signature_Final/Dataset/dataset3/forge/00305009.png  \n",
            "  inflating: Dataset_Signature_Final/Dataset/dataset3/forge/00305018.png  \n",
            "  inflating: Dataset_Signature_Final/Dataset/dataset3/forge/00401003.png  \n",
            "  inflating: Dataset_Signature_Final/Dataset/dataset3/forge/00401007.png  \n",
            "  inflating: Dataset_Signature_Final/Dataset/dataset3/forge/00401013.png  \n",
            "  inflating: Dataset_Signature_Final/Dataset/dataset3/forge/00401024.png  \n",
            "  inflating: Dataset_Signature_Final/Dataset/dataset3/forge/00402003.png  \n",
            "  inflating: Dataset_Signature_Final/Dataset/dataset3/forge/00402007.png  \n",
            "  inflating: Dataset_Signature_Final/Dataset/dataset3/forge/00402013.png  \n",
            "  inflating: Dataset_Signature_Final/Dataset/dataset3/forge/00402024.png  \n",
            "  inflating: Dataset_Signature_Final/Dataset/dataset3/forge/00403003.png  \n",
            "  inflating: Dataset_Signature_Final/Dataset/dataset3/forge/00403007.png  \n",
            "  inflating: Dataset_Signature_Final/Dataset/dataset3/forge/00403013.png  \n",
            "  inflating: Dataset_Signature_Final/Dataset/dataset3/forge/00403024.png  \n",
            "  inflating: Dataset_Signature_Final/Dataset/dataset3/forge/00404003.png  \n",
            "  inflating: Dataset_Signature_Final/Dataset/dataset3/forge/00404007.png  \n",
            "  inflating: Dataset_Signature_Final/Dataset/dataset3/forge/00404013.png  \n",
            "  inflating: Dataset_Signature_Final/Dataset/dataset3/forge/00404024.png  \n",
            "  inflating: Dataset_Signature_Final/Dataset/dataset3/forge/00405003.png  \n",
            "  inflating: Dataset_Signature_Final/Dataset/dataset3/forge/00405007.png  \n",
            "  inflating: Dataset_Signature_Final/Dataset/dataset3/forge/00405013.png  \n",
            "  inflating: Dataset_Signature_Final/Dataset/dataset3/forge/00405024.png  \n",
            "  inflating: Dataset_Signature_Final/Dataset/dataset3/forge/00501015.png  \n",
            "  inflating: Dataset_Signature_Final/Dataset/dataset3/forge/00501022.png  \n",
            "  inflating: Dataset_Signature_Final/Dataset/dataset3/forge/00502015.png  \n",
            "  inflating: Dataset_Signature_Final/Dataset/dataset3/forge/00502022.png  \n",
            "  inflating: Dataset_Signature_Final/Dataset/dataset3/forge/00503015.png  \n",
            "  inflating: Dataset_Signature_Final/Dataset/dataset3/forge/00503022.png  \n",
            "  inflating: Dataset_Signature_Final/Dataset/dataset3/forge/00504015.png  \n",
            "  inflating: Dataset_Signature_Final/Dataset/dataset3/forge/00504022.png  \n",
            "  inflating: Dataset_Signature_Final/Dataset/dataset3/forge/00505015.png  \n",
            "  inflating: Dataset_Signature_Final/Dataset/dataset3/forge/00505022.png  \n",
            "  inflating: Dataset_Signature_Final/Dataset/dataset3/forge/00701011.png  \n",
            "  inflating: Dataset_Signature_Final/Dataset/dataset3/forge/00701023.png  \n",
            "  inflating: Dataset_Signature_Final/Dataset/dataset3/forge/00702011.png  \n",
            "  inflating: Dataset_Signature_Final/Dataset/dataset3/forge/00702023.png  \n",
            "  inflating: Dataset_Signature_Final/Dataset/dataset3/forge/00703011.png  \n",
            "  inflating: Dataset_Signature_Final/Dataset/dataset3/forge/00703023.png  \n",
            "  inflating: Dataset_Signature_Final/Dataset/dataset3/forge/00704011.png  \n",
            "  inflating: Dataset_Signature_Final/Dataset/dataset3/forge/00704023.png  \n",
            "  inflating: Dataset_Signature_Final/Dataset/dataset3/forge/00705011.png  \n",
            "  inflating: Dataset_Signature_Final/Dataset/dataset3/forge/00705023.png  \n",
            "  inflating: Dataset_Signature_Final/Dataset/dataset3/forge/01101012.png  \n",
            "  inflating: Dataset_Signature_Final/Dataset/dataset3/forge/01101016.png  \n",
            "  inflating: Dataset_Signature_Final/Dataset/dataset3/forge/01102012.png  \n",
            "  inflating: Dataset_Signature_Final/Dataset/dataset3/forge/01102016.png  \n",
            "  inflating: Dataset_Signature_Final/Dataset/dataset3/forge/01103012.png  \n",
            "  inflating: Dataset_Signature_Final/Dataset/dataset3/forge/01103016.png  \n",
            "  inflating: Dataset_Signature_Final/Dataset/dataset3/forge/01104012.png  \n",
            "  inflating: Dataset_Signature_Final/Dataset/dataset3/forge/01104016.png  \n",
            "  inflating: Dataset_Signature_Final/Dataset/dataset3/forge/01105012.png  \n",
            "  inflating: Dataset_Signature_Final/Dataset/dataset3/forge/01105016.png  \n",
            "  inflating: Dataset_Signature_Final/Dataset/dataset3/forge/01201021.png  \n",
            "  inflating: Dataset_Signature_Final/Dataset/dataset3/forge/01202021.png  \n",
            "  inflating: Dataset_Signature_Final/Dataset/dataset3/forge/01203021.png  \n",
            "  inflating: Dataset_Signature_Final/Dataset/dataset3/forge/01204021.png  \n",
            "  inflating: Dataset_Signature_Final/Dataset/dataset3/forge/01205021.png  \n",
            "  inflating: Dataset_Signature_Final/Dataset/dataset3/forge/01301017.png  \n",
            "  inflating: Dataset_Signature_Final/Dataset/dataset3/forge/01302017.png  \n",
            "  inflating: Dataset_Signature_Final/Dataset/dataset3/forge/01303017.png  \n",
            "  inflating: Dataset_Signature_Final/Dataset/dataset3/forge/01304017.png  \n",
            "  inflating: Dataset_Signature_Final/Dataset/dataset3/forge/01305017.png  \n",
            "  inflating: Dataset_Signature_Final/Dataset/dataset3/forge/01701020.png  \n",
            "  inflating: Dataset_Signature_Final/Dataset/dataset3/forge/01702020.png  \n",
            "  inflating: Dataset_Signature_Final/Dataset/dataset3/forge/01703020.png  \n",
            "  inflating: Dataset_Signature_Final/Dataset/dataset3/forge/01704020.png  \n",
            "  inflating: Dataset_Signature_Final/Dataset/dataset3/forge/01705020.png  \n",
            "  inflating: Dataset_Signature_Final/Dataset/dataset3/forge/02301008.png  \n",
            "  inflating: Dataset_Signature_Final/Dataset/dataset3/forge/02303008.png  \n",
            "  inflating: Dataset_Signature_Final/Dataset/dataset3/forge/02304008.png  \n",
            "  inflating: Dataset_Signature_Final/Dataset/dataset3/forge/02305008.png  \n",
            "  inflating: Dataset_Signature_Final/Dataset/dataset3/forge/02306008.png  \n",
            "  inflating: Dataset_Signature_Final/Dataset/dataset3/forge/02501010.png  \n",
            "  inflating: Dataset_Signature_Final/Dataset/dataset3/forge/02502010.png  \n",
            "  inflating: Dataset_Signature_Final/Dataset/dataset3/forge/02503010.png  \n",
            "  inflating: Dataset_Signature_Final/Dataset/dataset3/forge/02504010.png  \n",
            "  inflating: Dataset_Signature_Final/Dataset/dataset3/forge/02505009.png  \n",
            "  inflating: Dataset_Signature_Final/Dataset/dataset3/forge/03301006.png  \n",
            "  inflating: Dataset_Signature_Final/Dataset/dataset3/forge/03302006.png  \n",
            "  inflating: Dataset_Signature_Final/Dataset/dataset3/forge/03303006.png  \n",
            "  inflating: Dataset_Signature_Final/Dataset/dataset3/forge/03304006.png  \n",
            "  inflating: Dataset_Signature_Final/Dataset/dataset3/forge/03305006.png  \n",
            "  inflating: Dataset_Signature_Final/Dataset/dataset3/forge/08801004.png  \n",
            "  inflating: Dataset_Signature_Final/Dataset/dataset3/forge/08802004.png  \n",
            "  inflating: Dataset_Signature_Final/Dataset/dataset3/forge/08803004.png  \n",
            "  inflating: Dataset_Signature_Final/Dataset/dataset3/forge/08804004.png  \n",
            "  inflating: Dataset_Signature_Final/Dataset/dataset3/forge/08805004.png  \n",
            "  inflating: Dataset_Signature_Final/Dataset/dataset3/real/00101001.png  \n",
            "  inflating: Dataset_Signature_Final/Dataset/dataset3/real/00102001.png  \n",
            "  inflating: Dataset_Signature_Final/Dataset/dataset3/real/00103001.png  \n",
            "  inflating: Dataset_Signature_Final/Dataset/dataset3/real/00104001.png  \n",
            "  inflating: Dataset_Signature_Final/Dataset/dataset3/real/00105001.png  \n",
            "  inflating: Dataset_Signature_Final/Dataset/dataset3/real/00201002.png  \n",
            "  inflating: Dataset_Signature_Final/Dataset/dataset3/real/00202002.png  \n",
            "  inflating: Dataset_Signature_Final/Dataset/dataset3/real/00203002.png  \n",
            "  inflating: Dataset_Signature_Final/Dataset/dataset3/real/00204002.png  \n",
            "  inflating: Dataset_Signature_Final/Dataset/dataset3/real/00205002.png  \n",
            "  inflating: Dataset_Signature_Final/Dataset/dataset3/real/00301003.png  \n",
            "  inflating: Dataset_Signature_Final/Dataset/dataset3/real/00302003.png  \n",
            "  inflating: Dataset_Signature_Final/Dataset/dataset3/real/00303003.png  \n",
            "  inflating: Dataset_Signature_Final/Dataset/dataset3/real/00304003.png  \n",
            "  inflating: Dataset_Signature_Final/Dataset/dataset3/real/00305003.png  \n",
            "  inflating: Dataset_Signature_Final/Dataset/dataset3/real/00401004.png  \n",
            "  inflating: Dataset_Signature_Final/Dataset/dataset3/real/00402004.png  \n",
            "  inflating: Dataset_Signature_Final/Dataset/dataset3/real/00403004.png  \n",
            "  inflating: Dataset_Signature_Final/Dataset/dataset3/real/00404004.png  \n",
            "  inflating: Dataset_Signature_Final/Dataset/dataset3/real/00405004.png  \n",
            "  inflating: Dataset_Signature_Final/Dataset/dataset3/real/00501005.png  \n",
            "  inflating: Dataset_Signature_Final/Dataset/dataset3/real/00502005.png  \n",
            "  inflating: Dataset_Signature_Final/Dataset/dataset3/real/00503005.png  \n",
            "  inflating: Dataset_Signature_Final/Dataset/dataset3/real/00504005.png  \n",
            "  inflating: Dataset_Signature_Final/Dataset/dataset3/real/00505005.png  \n",
            "  inflating: Dataset_Signature_Final/Dataset/dataset3/real/00601006.png  \n",
            "  inflating: Dataset_Signature_Final/Dataset/dataset3/real/00602006.png  \n",
            "  inflating: Dataset_Signature_Final/Dataset/dataset3/real/00603006.png  \n",
            "  inflating: Dataset_Signature_Final/Dataset/dataset3/real/00604006.png  \n",
            "  inflating: Dataset_Signature_Final/Dataset/dataset3/real/00605006.png  \n",
            "  inflating: Dataset_Signature_Final/Dataset/dataset3/real/00701007.png  \n",
            "  inflating: Dataset_Signature_Final/Dataset/dataset3/real/00702007.png  \n",
            "  inflating: Dataset_Signature_Final/Dataset/dataset3/real/00703007.png  \n",
            "  inflating: Dataset_Signature_Final/Dataset/dataset3/real/00704007.png  \n",
            "  inflating: Dataset_Signature_Final/Dataset/dataset3/real/00705007.png  \n",
            "  inflating: Dataset_Signature_Final/Dataset/dataset3/real/00801008.png  \n",
            "  inflating: Dataset_Signature_Final/Dataset/dataset3/real/00802008.png  \n",
            "  inflating: Dataset_Signature_Final/Dataset/dataset3/real/00803008.png  \n",
            "  inflating: Dataset_Signature_Final/Dataset/dataset3/real/00804008.png  \n",
            "  inflating: Dataset_Signature_Final/Dataset/dataset3/real/00805008.png  \n",
            "  inflating: Dataset_Signature_Final/Dataset/dataset3/real/00901009.png  \n",
            "  inflating: Dataset_Signature_Final/Dataset/dataset3/real/00902009.png  \n",
            "  inflating: Dataset_Signature_Final/Dataset/dataset3/real/00903009.png  \n",
            "  inflating: Dataset_Signature_Final/Dataset/dataset3/real/00904009.png  \n",
            "  inflating: Dataset_Signature_Final/Dataset/dataset3/real/00905009.png  \n",
            "  inflating: Dataset_Signature_Final/Dataset/dataset3/real/01001010.png  \n",
            "  inflating: Dataset_Signature_Final/Dataset/dataset3/real/01002010.png  \n",
            "  inflating: Dataset_Signature_Final/Dataset/dataset3/real/01003010.png  \n",
            "  inflating: Dataset_Signature_Final/Dataset/dataset3/real/01004010.png  \n",
            "  inflating: Dataset_Signature_Final/Dataset/dataset3/real/01005010.png  \n",
            "  inflating: Dataset_Signature_Final/Dataset/dataset3/real/01101011.png  \n",
            "  inflating: Dataset_Signature_Final/Dataset/dataset3/real/01102011.png  \n",
            "  inflating: Dataset_Signature_Final/Dataset/dataset3/real/01103011.png  \n",
            "  inflating: Dataset_Signature_Final/Dataset/dataset3/real/01104011.png  \n",
            "  inflating: Dataset_Signature_Final/Dataset/dataset3/real/01105011.png  \n",
            "  inflating: Dataset_Signature_Final/Dataset/dataset3/real/01201012.png  \n",
            "  inflating: Dataset_Signature_Final/Dataset/dataset3/real/01202012.png  \n",
            "  inflating: Dataset_Signature_Final/Dataset/dataset3/real/01203012.png  \n",
            "  inflating: Dataset_Signature_Final/Dataset/dataset3/real/01204012.png  \n",
            "  inflating: Dataset_Signature_Final/Dataset/dataset3/real/01205012.png  \n",
            "  inflating: Dataset_Signature_Final/Dataset/dataset3/real/01301013.png  \n",
            "  inflating: Dataset_Signature_Final/Dataset/dataset3/real/01302013.png  \n",
            "  inflating: Dataset_Signature_Final/Dataset/dataset3/real/01303013.png  \n",
            "  inflating: Dataset_Signature_Final/Dataset/dataset3/real/01304013.png  \n",
            "  inflating: Dataset_Signature_Final/Dataset/dataset3/real/01305013.png  \n",
            "  inflating: Dataset_Signature_Final/Dataset/dataset3/real/01401014.png  \n",
            "  inflating: Dataset_Signature_Final/Dataset/dataset3/real/01402014.png  \n",
            "  inflating: Dataset_Signature_Final/Dataset/dataset3/real/01403014.png  \n",
            "  inflating: Dataset_Signature_Final/Dataset/dataset3/real/01404014.png  \n",
            "  inflating: Dataset_Signature_Final/Dataset/dataset3/real/01405014.png  \n",
            "  inflating: Dataset_Signature_Final/Dataset/dataset3/real/01501015.png  \n",
            "  inflating: Dataset_Signature_Final/Dataset/dataset3/real/01502015.png  \n",
            "  inflating: Dataset_Signature_Final/Dataset/dataset3/real/01503015.png  \n",
            "  inflating: Dataset_Signature_Final/Dataset/dataset3/real/01504015.png  \n",
            "  inflating: Dataset_Signature_Final/Dataset/dataset3/real/01505015.png  \n",
            "  inflating: Dataset_Signature_Final/Dataset/dataset3/real/01601016.png  \n",
            "  inflating: Dataset_Signature_Final/Dataset/dataset3/real/01602016.png  \n",
            "  inflating: Dataset_Signature_Final/Dataset/dataset3/real/01603016.png  \n",
            "  inflating: Dataset_Signature_Final/Dataset/dataset3/real/01604016.png  \n",
            "  inflating: Dataset_Signature_Final/Dataset/dataset3/real/01605016.png  \n",
            "  inflating: Dataset_Signature_Final/Dataset/dataset3/real/01701017.png  \n",
            "  inflating: Dataset_Signature_Final/Dataset/dataset3/real/01702017.png  \n",
            "  inflating: Dataset_Signature_Final/Dataset/dataset3/real/01703017.png  \n",
            "  inflating: Dataset_Signature_Final/Dataset/dataset3/real/01704017.png  \n",
            "  inflating: Dataset_Signature_Final/Dataset/dataset3/real/01705017.png  \n",
            "  inflating: Dataset_Signature_Final/Dataset/dataset3/real/01801018.png  \n",
            "  inflating: Dataset_Signature_Final/Dataset/dataset3/real/01802018.png  \n",
            "  inflating: Dataset_Signature_Final/Dataset/dataset3/real/01803018.png  \n",
            "  inflating: Dataset_Signature_Final/Dataset/dataset3/real/01804018.png  \n",
            "  inflating: Dataset_Signature_Final/Dataset/dataset3/real/01805018.png  \n",
            "  inflating: Dataset_Signature_Final/Dataset/dataset3/real/01901019.png  \n",
            "  inflating: Dataset_Signature_Final/Dataset/dataset3/real/01902019.png  \n",
            "  inflating: Dataset_Signature_Final/Dataset/dataset3/real/01903019.png  \n",
            "  inflating: Dataset_Signature_Final/Dataset/dataset3/real/01904019.png  \n",
            "  inflating: Dataset_Signature_Final/Dataset/dataset3/real/01905019.png  \n",
            "  inflating: Dataset_Signature_Final/Dataset/dataset3/real/02001020.png  \n",
            "  inflating: Dataset_Signature_Final/Dataset/dataset3/real/02002020.png  \n",
            "  inflating: Dataset_Signature_Final/Dataset/dataset3/real/02003020.png  \n",
            "  inflating: Dataset_Signature_Final/Dataset/dataset3/real/02004020.png  \n",
            "  inflating: Dataset_Signature_Final/Dataset/dataset3/real/02005020.png  \n",
            "  inflating: Dataset_Signature_Final/Dataset/dataset3/real/02101021.png  \n",
            "  inflating: Dataset_Signature_Final/Dataset/dataset3/real/02102021.png  \n",
            "  inflating: Dataset_Signature_Final/Dataset/dataset3/real/02103021.png  \n",
            "  inflating: Dataset_Signature_Final/Dataset/dataset3/real/02104021.png  \n",
            "  inflating: Dataset_Signature_Final/Dataset/dataset3/real/02105021.png  \n",
            "  inflating: Dataset_Signature_Final/Dataset/dataset3/real/02201022.png  \n",
            "  inflating: Dataset_Signature_Final/Dataset/dataset3/real/02202022.png  \n",
            "  inflating: Dataset_Signature_Final/Dataset/dataset3/real/02203022.png  \n",
            "  inflating: Dataset_Signature_Final/Dataset/dataset3/real/02204022.png  \n",
            "  inflating: Dataset_Signature_Final/Dataset/dataset3/real/02205022.png  \n",
            "  inflating: Dataset_Signature_Final/Dataset/dataset3/real/02301023.png  \n",
            "  inflating: Dataset_Signature_Final/Dataset/dataset3/real/02302023.png  \n",
            "  inflating: Dataset_Signature_Final/Dataset/dataset3/real/02303023.png  \n",
            "  inflating: Dataset_Signature_Final/Dataset/dataset3/real/02304023.png  \n",
            "  inflating: Dataset_Signature_Final/Dataset/dataset3/real/02305023.png  \n",
            "  inflating: Dataset_Signature_Final/Dataset/dataset3/real/02401024.png  \n",
            "  inflating: Dataset_Signature_Final/Dataset/dataset3/real/02402024.png  \n",
            "  inflating: Dataset_Signature_Final/Dataset/dataset3/real/02403024.png  \n",
            "  inflating: Dataset_Signature_Final/Dataset/dataset3/real/02404024.png  \n",
            "  inflating: Dataset_Signature_Final/Dataset/dataset3/real/02405024.png  \n",
            "  inflating: Dataset_Signature_Final/Dataset/dataset3/real/02501025.png  \n",
            "  inflating: Dataset_Signature_Final/Dataset/dataset3/real/02502025.png  \n",
            "  inflating: Dataset_Signature_Final/Dataset/dataset3/real/02503025.png  \n",
            "  inflating: Dataset_Signature_Final/Dataset/dataset3/real/02504025.png  \n",
            "  inflating: Dataset_Signature_Final/Dataset/dataset3/real/02505025.png  \n",
            "  inflating: Dataset_Signature_Final/Dataset/dataset3/real/02601026.png  \n",
            "  inflating: Dataset_Signature_Final/Dataset/dataset3/real/02602026.png  \n",
            "  inflating: Dataset_Signature_Final/Dataset/dataset3/real/02603026.png  \n",
            "  inflating: Dataset_Signature_Final/Dataset/dataset3/real/02604026.png  \n",
            "  inflating: Dataset_Signature_Final/Dataset/dataset3/real/02605026.png  \n",
            "  inflating: Dataset_Signature_Final/Dataset/dataset3/real/02701027.png  \n",
            "  inflating: Dataset_Signature_Final/Dataset/dataset3/real/02702027.png  \n",
            "  inflating: Dataset_Signature_Final/Dataset/dataset3/real/02703027.png  \n",
            "  inflating: Dataset_Signature_Final/Dataset/dataset3/real/02704027.png  \n",
            "  inflating: Dataset_Signature_Final/Dataset/dataset3/real/02705027.png  \n",
            "  inflating: Dataset_Signature_Final/Dataset/dataset3/real/02801028.png  \n",
            "  inflating: Dataset_Signature_Final/Dataset/dataset3/real/02802028.png  \n",
            "  inflating: Dataset_Signature_Final/Dataset/dataset3/real/02803028.png  \n",
            "  inflating: Dataset_Signature_Final/Dataset/dataset3/real/02804028.png  \n",
            "  inflating: Dataset_Signature_Final/Dataset/dataset3/real/02805028.png  \n",
            "  inflating: Dataset_Signature_Final/Dataset/dataset3/real/02901029.png  \n",
            "  inflating: Dataset_Signature_Final/Dataset/dataset3/real/02902029.png  \n",
            "  inflating: Dataset_Signature_Final/Dataset/dataset3/real/02903029.png  \n",
            "  inflating: Dataset_Signature_Final/Dataset/dataset3/real/02904029.png  \n",
            "  inflating: Dataset_Signature_Final/Dataset/dataset3/real/02905029.png  \n",
            "  inflating: Dataset_Signature_Final/Dataset/dataset3/real/03001030.png  \n",
            "  inflating: Dataset_Signature_Final/Dataset/dataset3/real/03002030.png  \n",
            "  inflating: Dataset_Signature_Final/Dataset/dataset3/real/03003030.png  \n",
            "  inflating: Dataset_Signature_Final/Dataset/dataset3/real/03004030.png  \n",
            "  inflating: Dataset_Signature_Final/Dataset/dataset3/real/03005030.png  \n",
            "  inflating: Dataset_Signature_Final/Dataset/dataset4/forge/00301002.png  \n",
            "  inflating: Dataset_Signature_Final/Dataset/dataset4/forge/00301035.png  \n",
            "  inflating: Dataset_Signature_Final/Dataset/dataset4/forge/00301046.png  \n",
            "  inflating: Dataset_Signature_Final/Dataset/dataset4/forge/00302002.png  \n",
            "  inflating: Dataset_Signature_Final/Dataset/dataset4/forge/00302035.png  \n",
            "  inflating: Dataset_Signature_Final/Dataset/dataset4/forge/00302046.png  \n",
            "  inflating: Dataset_Signature_Final/Dataset/dataset4/forge/00303002.png  \n",
            "  inflating: Dataset_Signature_Final/Dataset/dataset4/forge/00303035.png  \n",
            "  inflating: Dataset_Signature_Final/Dataset/dataset4/forge/00303046.png  \n",
            "  inflating: Dataset_Signature_Final/Dataset/dataset4/forge/00304002.png  \n",
            "  inflating: Dataset_Signature_Final/Dataset/dataset4/forge/00304035.png  \n",
            "  inflating: Dataset_Signature_Final/Dataset/dataset4/forge/00304046.png  \n",
            "  inflating: Dataset_Signature_Final/Dataset/dataset4/forge/00305002.png  \n",
            "  inflating: Dataset_Signature_Final/Dataset/dataset4/forge/00305035.png  \n",
            "  inflating: Dataset_Signature_Final/Dataset/dataset4/forge/00305046.png  \n",
            "  inflating: Dataset_Signature_Final/Dataset/dataset4/forge/00401024.png  \n",
            "  inflating: Dataset_Signature_Final/Dataset/dataset4/forge/00401044.png  \n",
            "  inflating: Dataset_Signature_Final/Dataset/dataset4/forge/00401063.png  \n",
            "  inflating: Dataset_Signature_Final/Dataset/dataset4/forge/00401092.png  \n",
            "  inflating: Dataset_Signature_Final/Dataset/dataset4/forge/00402024.png  \n",
            "  inflating: Dataset_Signature_Final/Dataset/dataset4/forge/00402044.png  \n",
            "  inflating: Dataset_Signature_Final/Dataset/dataset4/forge/00402063.png  \n",
            "  inflating: Dataset_Signature_Final/Dataset/dataset4/forge/00402092.png  \n",
            "  inflating: Dataset_Signature_Final/Dataset/dataset4/forge/00403024.png  \n",
            "  inflating: Dataset_Signature_Final/Dataset/dataset4/forge/00403044.png  \n",
            "  inflating: Dataset_Signature_Final/Dataset/dataset4/forge/00403063.png  \n",
            "  inflating: Dataset_Signature_Final/Dataset/dataset4/forge/00403092.png  \n",
            "  inflating: Dataset_Signature_Final/Dataset/dataset4/forge/00404024.png  \n",
            "  inflating: Dataset_Signature_Final/Dataset/dataset4/forge/00404044.png  \n",
            "  inflating: Dataset_Signature_Final/Dataset/dataset4/forge/00404063.png  \n",
            "  inflating: Dataset_Signature_Final/Dataset/dataset4/forge/00404092.png  \n",
            "  inflating: Dataset_Signature_Final/Dataset/dataset4/forge/00405024.png  \n",
            "  inflating: Dataset_Signature_Final/Dataset/dataset4/forge/00405044.png  \n",
            "  inflating: Dataset_Signature_Final/Dataset/dataset4/forge/00405063.png  \n",
            "  inflating: Dataset_Signature_Final/Dataset/dataset4/forge/00405092.png  \n",
            "  inflating: Dataset_Signature_Final/Dataset/dataset4/forge/01601077.png  \n",
            "  inflating: Dataset_Signature_Final/Dataset/dataset4/forge/01601089.png  \n",
            "  inflating: Dataset_Signature_Final/Dataset/dataset4/forge/01602033.png  \n",
            "  inflating: Dataset_Signature_Final/Dataset/dataset4/forge/01602077.png  \n",
            "  inflating: Dataset_Signature_Final/Dataset/dataset4/forge/01602089.png  \n",
            "  inflating: Dataset_Signature_Final/Dataset/dataset4/forge/01603033.png  \n",
            "  inflating: Dataset_Signature_Final/Dataset/dataset4/forge/01603077.png  \n",
            "  inflating: Dataset_Signature_Final/Dataset/dataset4/forge/01603089.png  \n",
            "  inflating: Dataset_Signature_Final/Dataset/dataset4/forge/01604033.png  \n",
            "  inflating: Dataset_Signature_Final/Dataset/dataset4/forge/01604077.png  \n",
            "  inflating: Dataset_Signature_Final/Dataset/dataset4/forge/01604089.png  \n",
            "  inflating: Dataset_Signature_Final/Dataset/dataset4/forge/01605033.png  \n",
            "  inflating: Dataset_Signature_Final/Dataset/dataset4/forge/01605077.png  \n",
            "  inflating: Dataset_Signature_Final/Dataset/dataset4/forge/01605089.png  \n",
            "  inflating: Dataset_Signature_Final/Dataset/dataset4/forge/01701033.png  \n",
            "  inflating: Dataset_Signature_Final/Dataset/dataset4/forge/02301008.png  \n",
            "  inflating: Dataset_Signature_Final/Dataset/dataset4/forge/02301070.png  \n",
            "  inflating: Dataset_Signature_Final/Dataset/dataset4/forge/02301093.png  \n",
            "  inflating: Dataset_Signature_Final/Dataset/dataset4/forge/02302008.png  \n",
            "  inflating: Dataset_Signature_Final/Dataset/dataset4/forge/02302070.png  \n",
            "  inflating: Dataset_Signature_Final/Dataset/dataset4/forge/02302093.png  \n",
            "  inflating: Dataset_Signature_Final/Dataset/dataset4/forge/02303008.png  \n",
            "  inflating: Dataset_Signature_Final/Dataset/dataset4/forge/02303070.png  \n",
            "  inflating: Dataset_Signature_Final/Dataset/dataset4/forge/02303093.png  \n",
            "  inflating: Dataset_Signature_Final/Dataset/dataset4/forge/02304008.png  \n",
            "  inflating: Dataset_Signature_Final/Dataset/dataset4/forge/02304070.png  \n",
            "  inflating: Dataset_Signature_Final/Dataset/dataset4/forge/02304093.png  \n",
            "  inflating: Dataset_Signature_Final/Dataset/dataset4/forge/02305008.png  \n",
            "  inflating: Dataset_Signature_Final/Dataset/dataset4/forge/02305070.png  \n",
            "  inflating: Dataset_Signature_Final/Dataset/dataset4/forge/02305093.png  \n",
            "  inflating: Dataset_Signature_Final/Dataset/dataset4/forge/03201084.png  \n",
            "  inflating: Dataset_Signature_Final/Dataset/dataset4/forge/03201085.png  \n",
            "  inflating: Dataset_Signature_Final/Dataset/dataset4/forge/03201086.png  \n",
            "  inflating: Dataset_Signature_Final/Dataset/dataset4/forge/03202084.png  \n",
            "  inflating: Dataset_Signature_Final/Dataset/dataset4/forge/03202085.png  \n",
            "  inflating: Dataset_Signature_Final/Dataset/dataset4/forge/03202086.png  \n",
            "  inflating: Dataset_Signature_Final/Dataset/dataset4/forge/03203084.png  \n",
            "  inflating: Dataset_Signature_Final/Dataset/dataset4/forge/03203085.png  \n",
            "  inflating: Dataset_Signature_Final/Dataset/dataset4/forge/03203086.png  \n",
            "  inflating: Dataset_Signature_Final/Dataset/dataset4/forge/03204084.png  \n",
            "  inflating: Dataset_Signature_Final/Dataset/dataset4/forge/03204085.png  \n",
            "  inflating: Dataset_Signature_Final/Dataset/dataset4/forge/03204086.png  \n",
            "  inflating: Dataset_Signature_Final/Dataset/dataset4/forge/03205084.png  \n",
            "  inflating: Dataset_Signature_Final/Dataset/dataset4/forge/03205085.png  \n",
            "  inflating: Dataset_Signature_Final/Dataset/dataset4/forge/03205086.png  \n",
            "  inflating: Dataset_Signature_Final/Dataset/dataset4/forge/06101016.png  \n",
            "  inflating: Dataset_Signature_Final/Dataset/dataset4/forge/06101071.png  \n",
            "  inflating: Dataset_Signature_Final/Dataset/dataset4/forge/06102016.png  \n",
            "  inflating: Dataset_Signature_Final/Dataset/dataset4/forge/06102071.png  \n",
            "  inflating: Dataset_Signature_Final/Dataset/dataset4/forge/06103016.png  \n",
            "  inflating: Dataset_Signature_Final/Dataset/dataset4/forge/06103071.png  \n",
            "  inflating: Dataset_Signature_Final/Dataset/dataset4/forge/06104016.png  \n",
            "  inflating: Dataset_Signature_Final/Dataset/dataset4/forge/06104071.png  \n",
            "  inflating: Dataset_Signature_Final/Dataset/dataset4/forge/06105016.png  \n",
            "  inflating: Dataset_Signature_Final/Dataset/dataset4/forge/06105071.png  \n",
            "  inflating: Dataset_Signature_Final/Dataset/dataset4/real1/00201002.png  \n",
            "  inflating: Dataset_Signature_Final/Dataset/dataset4/real1/00202002.png  \n",
            "  inflating: Dataset_Signature_Final/Dataset/dataset4/real1/00203002.png  \n",
            "  inflating: Dataset_Signature_Final/Dataset/dataset4/real1/00204002.png  \n",
            "  inflating: Dataset_Signature_Final/Dataset/dataset4/real1/00205002.png  \n",
            "  inflating: Dataset_Signature_Final/Dataset/dataset4/real1/00801008.png  \n",
            "  inflating: Dataset_Signature_Final/Dataset/dataset4/real1/00802008.png  \n",
            "  inflating: Dataset_Signature_Final/Dataset/dataset4/real1/00803008.png  \n",
            "  inflating: Dataset_Signature_Final/Dataset/dataset4/real1/00804008.png  \n",
            "  inflating: Dataset_Signature_Final/Dataset/dataset4/real1/00805008.png  \n",
            "  inflating: Dataset_Signature_Final/Dataset/dataset4/real1/01601016.png  \n",
            "  inflating: Dataset_Signature_Final/Dataset/dataset4/real1/01602016.png  \n",
            "  inflating: Dataset_Signature_Final/Dataset/dataset4/real1/01603016.png  \n",
            "  inflating: Dataset_Signature_Final/Dataset/dataset4/real1/01604016.png  \n",
            "  inflating: Dataset_Signature_Final/Dataset/dataset4/real1/01605016.png  \n",
            "  inflating: Dataset_Signature_Final/Dataset/dataset4/real1/02401024.png  \n",
            "  inflating: Dataset_Signature_Final/Dataset/dataset4/real1/02402024.png  \n",
            "  inflating: Dataset_Signature_Final/Dataset/dataset4/real1/02403024.png  \n",
            "  inflating: Dataset_Signature_Final/Dataset/dataset4/real1/02404024.png  \n",
            "  inflating: Dataset_Signature_Final/Dataset/dataset4/real1/02405024.png  \n",
            "  inflating: Dataset_Signature_Final/Dataset/dataset4/real1/03301033.png  \n",
            "  inflating: Dataset_Signature_Final/Dataset/dataset4/real1/03302033.png  \n",
            "  inflating: Dataset_Signature_Final/Dataset/dataset4/real1/03303033.png  \n",
            "  inflating: Dataset_Signature_Final/Dataset/dataset4/real1/03304033.png  \n",
            "  inflating: Dataset_Signature_Final/Dataset/dataset4/real1/03305033.png  \n",
            "  inflating: Dataset_Signature_Final/Dataset/dataset4/real1/03501035.png  \n",
            "  inflating: Dataset_Signature_Final/Dataset/dataset4/real1/03502035.png  \n",
            "  inflating: Dataset_Signature_Final/Dataset/dataset4/real1/03503035.png  \n",
            "  inflating: Dataset_Signature_Final/Dataset/dataset4/real1/03504035.png  \n",
            "  inflating: Dataset_Signature_Final/Dataset/dataset4/real1/03505035.png  \n",
            "  inflating: Dataset_Signature_Final/Dataset/dataset4/real1/04401044.png  \n",
            "  inflating: Dataset_Signature_Final/Dataset/dataset4/real1/04402044.png  \n",
            "  inflating: Dataset_Signature_Final/Dataset/dataset4/real1/04403044.png  \n",
            "  inflating: Dataset_Signature_Final/Dataset/dataset4/real1/04404044.png  \n",
            "  inflating: Dataset_Signature_Final/Dataset/dataset4/real1/04405044.png  \n",
            "  inflating: Dataset_Signature_Final/Dataset/dataset4/real1/04601046.png  \n",
            "  inflating: Dataset_Signature_Final/Dataset/dataset4/real1/04602046.png  \n",
            "  inflating: Dataset_Signature_Final/Dataset/dataset4/real1/04603046.png  \n",
            "  inflating: Dataset_Signature_Final/Dataset/dataset4/real1/04604046.png  \n",
            "  inflating: Dataset_Signature_Final/Dataset/dataset4/real1/04605046.png  \n",
            "  inflating: Dataset_Signature_Final/Dataset/dataset4/real1/06301063.png  \n",
            "  inflating: Dataset_Signature_Final/Dataset/dataset4/real1/06302063.png  \n",
            "  inflating: Dataset_Signature_Final/Dataset/dataset4/real1/06303063.png  \n",
            "  inflating: Dataset_Signature_Final/Dataset/dataset4/real1/06304063.png  \n",
            "  inflating: Dataset_Signature_Final/Dataset/dataset4/real1/06305063.png  \n",
            "  inflating: Dataset_Signature_Final/Dataset/dataset4/real1/07001070.png  \n",
            "  inflating: Dataset_Signature_Final/Dataset/dataset4/real1/07002070.png  \n",
            "  inflating: Dataset_Signature_Final/Dataset/dataset4/real1/07003070.png  \n",
            "  inflating: Dataset_Signature_Final/Dataset/dataset4/real1/07004070.png  \n",
            "  inflating: Dataset_Signature_Final/Dataset/dataset4/real1/07005070.png  \n",
            "  inflating: Dataset_Signature_Final/Dataset/dataset4/real1/07101071.png  \n",
            "  inflating: Dataset_Signature_Final/Dataset/dataset4/real1/07102071.png  \n",
            "  inflating: Dataset_Signature_Final/Dataset/dataset4/real1/07103071.png  \n",
            "  inflating: Dataset_Signature_Final/Dataset/dataset4/real1/07104071.png  \n",
            "  inflating: Dataset_Signature_Final/Dataset/dataset4/real1/07105071.png  \n",
            "  inflating: Dataset_Signature_Final/Dataset/dataset4/real1/07701077.png  \n",
            "  inflating: Dataset_Signature_Final/Dataset/dataset4/real1/07702077.png  \n",
            "  inflating: Dataset_Signature_Final/Dataset/dataset4/real1/07703077.png  \n",
            "  inflating: Dataset_Signature_Final/Dataset/dataset4/real1/07704077.png  \n",
            "  inflating: Dataset_Signature_Final/Dataset/dataset4/real1/07705077.png  \n",
            "  inflating: Dataset_Signature_Final/Dataset/dataset4/real1/08401084.png  \n",
            "  inflating: Dataset_Signature_Final/Dataset/dataset4/real1/08402084.png  \n",
            "  inflating: Dataset_Signature_Final/Dataset/dataset4/real1/08403084.png  \n",
            "  inflating: Dataset_Signature_Final/Dataset/dataset4/real1/08404084.png  \n",
            "  inflating: Dataset_Signature_Final/Dataset/dataset4/real1/08405084.png  \n",
            "  inflating: Dataset_Signature_Final/Dataset/dataset4/real1/08501085.png  \n",
            "  inflating: Dataset_Signature_Final/Dataset/dataset4/real1/08502085.png  \n",
            "  inflating: Dataset_Signature_Final/Dataset/dataset4/real1/08503085.png  \n",
            "  inflating: Dataset_Signature_Final/Dataset/dataset4/real1/08504085.png  \n",
            "  inflating: Dataset_Signature_Final/Dataset/dataset4/real1/08505085.png  \n",
            "  inflating: Dataset_Signature_Final/Dataset/dataset4/real1/08601086.png  \n",
            "  inflating: Dataset_Signature_Final/Dataset/dataset4/real1/08602086.png  \n",
            "  inflating: Dataset_Signature_Final/Dataset/dataset4/real1/08603086.png  \n",
            "  inflating: Dataset_Signature_Final/Dataset/dataset4/real1/08604086.png  \n",
            "  inflating: Dataset_Signature_Final/Dataset/dataset4/real1/08605086.png  \n",
            "  inflating: Dataset_Signature_Final/Dataset/dataset4/real1/08901089.png  \n",
            "  inflating: Dataset_Signature_Final/Dataset/dataset4/real1/08902089.png  \n",
            "  inflating: Dataset_Signature_Final/Dataset/dataset4/real1/08903089.png  \n",
            "  inflating: Dataset_Signature_Final/Dataset/dataset4/real1/08904089.png  \n",
            "  inflating: Dataset_Signature_Final/Dataset/dataset4/real1/08905089.png  \n",
            "  inflating: Dataset_Signature_Final/Dataset/dataset4/real1/09201092.png  \n",
            "  inflating: Dataset_Signature_Final/Dataset/dataset4/real1/09202092.png  \n",
            "  inflating: Dataset_Signature_Final/Dataset/dataset4/real1/09203092.png  \n",
            "  inflating: Dataset_Signature_Final/Dataset/dataset4/real1/09204092.png  \n",
            "  inflating: Dataset_Signature_Final/Dataset/dataset4/real1/09205092.png  \n",
            "  inflating: Dataset_Signature_Final/Dataset/dataset4/real1/09301093.png  \n",
            "  inflating: Dataset_Signature_Final/Dataset/dataset4/real1/09302093.png  \n",
            "  inflating: Dataset_Signature_Final/Dataset/dataset4/real1/09303093.png  \n",
            "  inflating: Dataset_Signature_Final/Dataset/dataset4/real1/09304093.png  \n",
            "  inflating: Dataset_Signature_Final/Dataset/dataset4/real1/09305093.png  \n",
            "  inflating: dataset_signature_final/Dataset/dataset1/forge/02100001.png  \n",
            "  inflating: dataset_signature_final/Dataset/dataset1/forge/02100002.png  \n",
            "  inflating: dataset_signature_final/Dataset/dataset1/forge/02100003.png  \n",
            "  inflating: dataset_signature_final/Dataset/dataset1/forge/02100004.png  \n",
            "  inflating: dataset_signature_final/Dataset/dataset1/forge/02100005.png  \n",
            "  inflating: dataset_signature_final/Dataset/dataset1/forge/02100006.png  \n",
            "  inflating: dataset_signature_final/Dataset/dataset1/forge/02100007.png  \n",
            "  inflating: dataset_signature_final/Dataset/dataset1/forge/02100008.png  \n",
            "  inflating: dataset_signature_final/Dataset/dataset1/forge/02100009.png  \n",
            "  inflating: dataset_signature_final/Dataset/dataset1/forge/02100010.png  \n",
            "  inflating: dataset_signature_final/Dataset/dataset1/forge/02100011.png  \n",
            "  inflating: dataset_signature_final/Dataset/dataset1/forge/02100012.png  \n",
            "  inflating: dataset_signature_final/Dataset/dataset1/forge/02101001.png  \n",
            "  inflating: dataset_signature_final/Dataset/dataset1/forge/02101002.png  \n",
            "  inflating: dataset_signature_final/Dataset/dataset1/forge/02101003.png  \n",
            "  inflating: dataset_signature_final/Dataset/dataset1/forge/02101004.png  \n",
            "  inflating: dataset_signature_final/Dataset/dataset1/forge/02101005.png  \n",
            "  inflating: dataset_signature_final/Dataset/dataset1/forge/02101006.png  \n",
            "  inflating: dataset_signature_final/Dataset/dataset1/forge/02101007.png  \n",
            "  inflating: dataset_signature_final/Dataset/dataset1/forge/02101008.png  \n",
            "  inflating: dataset_signature_final/Dataset/dataset1/forge/02101009.png  \n",
            "  inflating: dataset_signature_final/Dataset/dataset1/forge/02101010.png  \n",
            "  inflating: dataset_signature_final/Dataset/dataset1/forge/02101011.png  \n",
            "  inflating: dataset_signature_final/Dataset/dataset1/forge/02101012.png  \n",
            "  inflating: dataset_signature_final/Dataset/dataset1/forge/02102001.png  \n",
            "  inflating: dataset_signature_final/Dataset/dataset1/forge/02102002.png  \n",
            "  inflating: dataset_signature_final/Dataset/dataset1/forge/02102003.png  \n",
            "  inflating: dataset_signature_final/Dataset/dataset1/forge/02102004.png  \n",
            "  inflating: dataset_signature_final/Dataset/dataset1/forge/02102005.png  \n",
            "  inflating: dataset_signature_final/Dataset/dataset1/forge/02102006.png  \n",
            "  inflating: dataset_signature_final/Dataset/dataset1/forge/02102007.png  \n",
            "  inflating: dataset_signature_final/Dataset/dataset1/forge/02102008.png  \n",
            "  inflating: dataset_signature_final/Dataset/dataset1/forge/02102009.png  \n",
            "  inflating: dataset_signature_final/Dataset/dataset1/forge/02102010.png  \n",
            "  inflating: dataset_signature_final/Dataset/dataset1/forge/02102011.png  \n",
            "  inflating: dataset_signature_final/Dataset/dataset1/forge/02102012.png  \n",
            "  inflating: dataset_signature_final/Dataset/dataset1/forge/02103001.png  \n",
            "  inflating: dataset_signature_final/Dataset/dataset1/forge/02103002.png  \n",
            "  inflating: dataset_signature_final/Dataset/dataset1/forge/02103003.png  \n",
            "  inflating: dataset_signature_final/Dataset/dataset1/forge/02103004.png  \n",
            "  inflating: dataset_signature_final/Dataset/dataset1/forge/02103005.png  \n",
            "  inflating: dataset_signature_final/Dataset/dataset1/forge/02103006.png  \n",
            "  inflating: dataset_signature_final/Dataset/dataset1/forge/02103007.png  \n",
            "  inflating: dataset_signature_final/Dataset/dataset1/forge/02103008.png  \n",
            "  inflating: dataset_signature_final/Dataset/dataset1/forge/02103009.png  \n",
            "  inflating: dataset_signature_final/Dataset/dataset1/forge/02103010.png  \n",
            "  inflating: dataset_signature_final/Dataset/dataset1/forge/02103011.png  \n",
            "  inflating: dataset_signature_final/Dataset/dataset1/forge/02103012.png  \n",
            "  inflating: dataset_signature_final/Dataset/dataset1/forge/02104001.png  \n",
            "  inflating: dataset_signature_final/Dataset/dataset1/forge/02104002.png  \n",
            "  inflating: dataset_signature_final/Dataset/dataset1/forge/02104003.png  \n",
            "  inflating: dataset_signature_final/Dataset/dataset1/forge/02104004.png  \n",
            "  inflating: dataset_signature_final/Dataset/dataset1/forge/02104005.png  \n",
            "  inflating: dataset_signature_final/Dataset/dataset1/forge/02104006.png  \n",
            "  inflating: dataset_signature_final/Dataset/dataset1/forge/02104007.png  \n",
            "  inflating: dataset_signature_final/Dataset/dataset1/forge/02104008.png  \n",
            "  inflating: dataset_signature_final/Dataset/dataset1/forge/02104009.png  \n",
            "  inflating: dataset_signature_final/Dataset/dataset1/forge/02104010.png  \n",
            "  inflating: dataset_signature_final/Dataset/dataset1/forge/02104011.png  \n",
            "  inflating: dataset_signature_final/Dataset/dataset1/forge/02104012.png  \n",
            "  inflating: dataset_signature_final/Dataset/dataset1/real/00100001.png  \n",
            "  inflating: dataset_signature_final/Dataset/dataset1/real/00101001.png  \n",
            "  inflating: dataset_signature_final/Dataset/dataset1/real/00102001.png  \n",
            "  inflating: dataset_signature_final/Dataset/dataset1/real/00103001.png  \n",
            "  inflating: dataset_signature_final/Dataset/dataset1/real/00104001.png  \n",
            "  inflating: dataset_signature_final/Dataset/dataset1/real/00200002.png  \n",
            "  inflating: dataset_signature_final/Dataset/dataset1/real/00201002.png  \n",
            "  inflating: dataset_signature_final/Dataset/dataset1/real/00202002.png  \n",
            "  inflating: dataset_signature_final/Dataset/dataset1/real/00203002.png  \n",
            "  inflating: dataset_signature_final/Dataset/dataset1/real/00204002.png  \n",
            "  inflating: dataset_signature_final/Dataset/dataset1/real/00300003.png  \n",
            "  inflating: dataset_signature_final/Dataset/dataset1/real/00301003.png  \n",
            "  inflating: dataset_signature_final/Dataset/dataset1/real/00302003.png  \n",
            "  inflating: dataset_signature_final/Dataset/dataset1/real/00303003.png  \n",
            "  inflating: dataset_signature_final/Dataset/dataset1/real/00304003.png  \n",
            "  inflating: dataset_signature_final/Dataset/dataset1/real/00400004.png  \n",
            "  inflating: dataset_signature_final/Dataset/dataset1/real/00401004.png  \n",
            "  inflating: dataset_signature_final/Dataset/dataset1/real/00402004.png  \n",
            "  inflating: dataset_signature_final/Dataset/dataset1/real/00403004.png  \n",
            "  inflating: dataset_signature_final/Dataset/dataset1/real/00404004.png  \n",
            "  inflating: dataset_signature_final/Dataset/dataset1/real/00500005.png  \n",
            "  inflating: dataset_signature_final/Dataset/dataset1/real/00501005.png  \n",
            "  inflating: dataset_signature_final/Dataset/dataset1/real/00502005.png  \n",
            "  inflating: dataset_signature_final/Dataset/dataset1/real/00503005.png  \n",
            "  inflating: dataset_signature_final/Dataset/dataset1/real/00504005.png  \n",
            "  inflating: dataset_signature_final/Dataset/dataset1/real/00600006.png  \n",
            "  inflating: dataset_signature_final/Dataset/dataset1/real/00601006.png  \n",
            "  inflating: dataset_signature_final/Dataset/dataset1/real/00602006.png  \n",
            "  inflating: dataset_signature_final/Dataset/dataset1/real/00603006.png  \n",
            "  inflating: dataset_signature_final/Dataset/dataset1/real/00604006.png  \n",
            "  inflating: dataset_signature_final/Dataset/dataset1/real/00700007.png  \n",
            "  inflating: dataset_signature_final/Dataset/dataset1/real/00701007.png  \n",
            "  inflating: dataset_signature_final/Dataset/dataset1/real/00702007.png  \n",
            "  inflating: dataset_signature_final/Dataset/dataset1/real/00703007.png  \n",
            "  inflating: dataset_signature_final/Dataset/dataset1/real/00704007.png  \n",
            "  inflating: dataset_signature_final/Dataset/dataset1/real/00800008.png  \n",
            "  inflating: dataset_signature_final/Dataset/dataset1/real/00801008.png  \n",
            "  inflating: dataset_signature_final/Dataset/dataset1/real/00802008.png  \n",
            "  inflating: dataset_signature_final/Dataset/dataset1/real/00803008.png  \n",
            "  inflating: dataset_signature_final/Dataset/dataset1/real/00804008.png  \n",
            "  inflating: dataset_signature_final/Dataset/dataset1/real/00900009.png  \n",
            "  inflating: dataset_signature_final/Dataset/dataset1/real/00901009.png  \n",
            "  inflating: dataset_signature_final/Dataset/dataset1/real/00902009.png  \n",
            "  inflating: dataset_signature_final/Dataset/dataset1/real/00903009.png  \n",
            "  inflating: dataset_signature_final/Dataset/dataset1/real/00904009.png  \n",
            "  inflating: dataset_signature_final/Dataset/dataset1/real/01000010.png  \n",
            "  inflating: dataset_signature_final/Dataset/dataset1/real/01001010.png  \n",
            "  inflating: dataset_signature_final/Dataset/dataset1/real/01002010.png  \n",
            "  inflating: dataset_signature_final/Dataset/dataset1/real/01003010.png  \n",
            "  inflating: dataset_signature_final/Dataset/dataset1/real/01004010.png  \n",
            "  inflating: dataset_signature_final/Dataset/dataset1/real/01100011.png  \n",
            "  inflating: dataset_signature_final/Dataset/dataset1/real/01101011.png  \n",
            "  inflating: dataset_signature_final/Dataset/dataset1/real/01102011.png  \n",
            "  inflating: dataset_signature_final/Dataset/dataset1/real/01103011.png  \n",
            "  inflating: dataset_signature_final/Dataset/dataset1/real/01104011.png  \n",
            "  inflating: dataset_signature_final/Dataset/dataset1/real/01200012.png  \n",
            "  inflating: dataset_signature_final/Dataset/dataset1/real/01201012.png  \n",
            "  inflating: dataset_signature_final/Dataset/dataset1/real/01202012.png  \n",
            "  inflating: dataset_signature_final/Dataset/dataset1/real/01203012.png  \n",
            "  inflating: dataset_signature_final/Dataset/dataset1/real/01204012.png  \n",
            "  inflating: dataset_signature_final/Dataset/dataset2/forge/02101003.png  \n",
            "  inflating: dataset_signature_final/Dataset/dataset2/forge/02101004.png  \n",
            "  inflating: dataset_signature_final/Dataset/dataset2/forge/02101005.png  \n",
            "  inflating: dataset_signature_final/Dataset/dataset2/forge/02101006.png  \n",
            "  inflating: dataset_signature_final/Dataset/dataset2/forge/02101007.png  \n",
            "  inflating: dataset_signature_final/Dataset/dataset2/forge/02101008.png  \n",
            "  inflating: dataset_signature_final/Dataset/dataset2/forge/02101009.png  \n",
            "  inflating: dataset_signature_final/Dataset/dataset2/forge/02101011.png  \n",
            "  inflating: dataset_signature_final/Dataset/dataset2/forge/02101012.png  \n",
            "  inflating: dataset_signature_final/Dataset/dataset2/forge/02102003.png  \n",
            "  inflating: dataset_signature_final/Dataset/dataset2/forge/02102004.png  \n",
            "  inflating: dataset_signature_final/Dataset/dataset2/forge/02102005.png  \n",
            "  inflating: dataset_signature_final/Dataset/dataset2/forge/02102006.png  \n",
            "  inflating: dataset_signature_final/Dataset/dataset2/forge/02102007.png  \n",
            "  inflating: dataset_signature_final/Dataset/dataset2/forge/02102008.png  \n",
            "  inflating: dataset_signature_final/Dataset/dataset2/forge/02102009.png  \n",
            "  inflating: dataset_signature_final/Dataset/dataset2/forge/02102011.png  \n",
            "  inflating: dataset_signature_final/Dataset/dataset2/forge/02102012.png  \n",
            "  inflating: dataset_signature_final/Dataset/dataset2/forge/02103003.png  \n",
            "  inflating: dataset_signature_final/Dataset/dataset2/forge/02103004.png  \n",
            "  inflating: dataset_signature_final/Dataset/dataset2/forge/02103005.png  \n",
            "  inflating: dataset_signature_final/Dataset/dataset2/forge/02103006.png  \n",
            "  inflating: dataset_signature_final/Dataset/dataset2/forge/02103007.png  \n",
            "  inflating: dataset_signature_final/Dataset/dataset2/forge/02103008.png  \n",
            "  inflating: dataset_signature_final/Dataset/dataset2/forge/02103009.png  \n",
            "  inflating: dataset_signature_final/Dataset/dataset2/forge/02103011.png  \n",
            "  inflating: dataset_signature_final/Dataset/dataset2/forge/02103012.png  \n",
            "  inflating: dataset_signature_final/Dataset/dataset2/forge/02104003.png  \n",
            "  inflating: dataset_signature_final/Dataset/dataset2/forge/02104004.png  \n",
            "  inflating: dataset_signature_final/Dataset/dataset2/forge/02104005.png  \n",
            "  inflating: dataset_signature_final/Dataset/dataset2/forge/02104006.png  \n",
            "  inflating: dataset_signature_final/Dataset/dataset2/forge/02104007.png  \n",
            "  inflating: dataset_signature_final/Dataset/dataset2/forge/02104008.png  \n",
            "  inflating: dataset_signature_final/Dataset/dataset2/forge/02104009.png  \n",
            "  inflating: dataset_signature_final/Dataset/dataset2/forge/02104011.png  \n",
            "  inflating: dataset_signature_final/Dataset/dataset2/forge/02104012.png  \n",
            "  inflating: dataset_signature_final/Dataset/dataset2/forge/02105003.png  \n",
            "  inflating: dataset_signature_final/Dataset/dataset2/forge/02105004.png  \n",
            "  inflating: dataset_signature_final/Dataset/dataset2/forge/02105005.png  \n",
            "  inflating: dataset_signature_final/Dataset/dataset2/forge/02105006.png  \n",
            "  inflating: dataset_signature_final/Dataset/dataset2/forge/02105007.png  \n",
            "  inflating: dataset_signature_final/Dataset/dataset2/forge/02105008.png  \n",
            "  inflating: dataset_signature_final/Dataset/dataset2/forge/02105009.png  \n",
            "  inflating: dataset_signature_final/Dataset/dataset2/forge/02105011.png  \n",
            "  inflating: dataset_signature_final/Dataset/dataset2/forge/02105012.png  \n",
            "  inflating: dataset_signature_final/Dataset/dataset2/forge/02201001.png  \n",
            "  inflating: dataset_signature_final/Dataset/dataset2/forge/02201002.png  \n",
            "  inflating: dataset_signature_final/Dataset/dataset2/forge/02201010.png  \n",
            "  inflating: dataset_signature_final/Dataset/dataset2/forge/02202001.png  \n",
            "  inflating: dataset_signature_final/Dataset/dataset2/forge/02202002.png  \n",
            "  inflating: dataset_signature_final/Dataset/dataset2/forge/02202010.png  \n",
            "  inflating: dataset_signature_final/Dataset/dataset2/forge/02203001.png  \n",
            "  inflating: dataset_signature_final/Dataset/dataset2/forge/02203002.png  \n",
            "  inflating: dataset_signature_final/Dataset/dataset2/forge/02203010.png  \n",
            "  inflating: dataset_signature_final/Dataset/dataset2/forge/02204001.png  \n",
            "  inflating: dataset_signature_final/Dataset/dataset2/forge/02204002.png  \n",
            "  inflating: dataset_signature_final/Dataset/dataset2/forge/02204010.png  \n",
            "  inflating: dataset_signature_final/Dataset/dataset2/forge/02205001.png  \n",
            "  inflating: dataset_signature_final/Dataset/dataset2/forge/02205002.png  \n",
            "  inflating: dataset_signature_final/Dataset/dataset2/forge/02205010.png  \n",
            "  inflating: dataset_signature_final/Dataset/dataset2/real/00101001.png  \n",
            "  inflating: dataset_signature_final/Dataset/dataset2/real/00102001.png  \n",
            "  inflating: dataset_signature_final/Dataset/dataset2/real/00103001.png  \n",
            "  inflating: dataset_signature_final/Dataset/dataset2/real/00104001.png  \n",
            "  inflating: dataset_signature_final/Dataset/dataset2/real/00105001.png  \n",
            "  inflating: dataset_signature_final/Dataset/dataset2/real/00201002.png  \n",
            "  inflating: dataset_signature_final/Dataset/dataset2/real/00202002.png  \n",
            "  inflating: dataset_signature_final/Dataset/dataset2/real/00203002.png  \n",
            "  inflating: dataset_signature_final/Dataset/dataset2/real/00204002.png  \n",
            "  inflating: dataset_signature_final/Dataset/dataset2/real/00205002.png  \n",
            "  inflating: dataset_signature_final/Dataset/dataset2/real/00301003.png  \n",
            "  inflating: dataset_signature_final/Dataset/dataset2/real/00302003.png  \n",
            "  inflating: dataset_signature_final/Dataset/dataset2/real/00303003.png  \n",
            "  inflating: dataset_signature_final/Dataset/dataset2/real/00304003.png  \n",
            "  inflating: dataset_signature_final/Dataset/dataset2/real/00305003.png  \n",
            "  inflating: dataset_signature_final/Dataset/dataset2/real/00401004.png  \n",
            "  inflating: dataset_signature_final/Dataset/dataset2/real/00402004.png  \n",
            "  inflating: dataset_signature_final/Dataset/dataset2/real/00403004.png  \n",
            "  inflating: dataset_signature_final/Dataset/dataset2/real/00404004.png  \n",
            "  inflating: dataset_signature_final/Dataset/dataset2/real/00405004.png  \n",
            "  inflating: dataset_signature_final/Dataset/dataset2/real/00501005.png  \n",
            "  inflating: dataset_signature_final/Dataset/dataset2/real/00502005.png  \n",
            "  inflating: dataset_signature_final/Dataset/dataset2/real/00503005.png  \n",
            "  inflating: dataset_signature_final/Dataset/dataset2/real/00504005.png  \n",
            "  inflating: dataset_signature_final/Dataset/dataset2/real/00505005.png  \n",
            "  inflating: dataset_signature_final/Dataset/dataset2/real/00601006.png  \n",
            "  inflating: dataset_signature_final/Dataset/dataset2/real/00602006.png  \n",
            "  inflating: dataset_signature_final/Dataset/dataset2/real/00603006.png  \n",
            "  inflating: dataset_signature_final/Dataset/dataset2/real/00604006.png  \n",
            "  inflating: dataset_signature_final/Dataset/dataset2/real/00605006.png  \n",
            "  inflating: dataset_signature_final/Dataset/dataset2/real/00701007.png  \n",
            "  inflating: dataset_signature_final/Dataset/dataset2/real/00702007.png  \n",
            "  inflating: dataset_signature_final/Dataset/dataset2/real/00703007.png  \n",
            "  inflating: dataset_signature_final/Dataset/dataset2/real/00704007.png  \n",
            "  inflating: dataset_signature_final/Dataset/dataset2/real/00705007.png  \n",
            "  inflating: dataset_signature_final/Dataset/dataset2/real/00801008.png  \n",
            "  inflating: dataset_signature_final/Dataset/dataset2/real/00802008.png  \n",
            "  inflating: dataset_signature_final/Dataset/dataset2/real/00803008.png  \n",
            "  inflating: dataset_signature_final/Dataset/dataset2/real/00804008.png  \n",
            "  inflating: dataset_signature_final/Dataset/dataset2/real/00805008.png  \n",
            "  inflating: dataset_signature_final/Dataset/dataset2/real/00901009.png  \n",
            "  inflating: dataset_signature_final/Dataset/dataset2/real/00902009.png  \n",
            "  inflating: dataset_signature_final/Dataset/dataset2/real/00903009.png  \n",
            "  inflating: dataset_signature_final/Dataset/dataset2/real/00904009.png  \n",
            "  inflating: dataset_signature_final/Dataset/dataset2/real/00905009.png  \n",
            "  inflating: dataset_signature_final/Dataset/dataset2/real/01001010.png  \n",
            "  inflating: dataset_signature_final/Dataset/dataset2/real/01002010.png  \n",
            "  inflating: dataset_signature_final/Dataset/dataset2/real/01003010.png  \n",
            "  inflating: dataset_signature_final/Dataset/dataset2/real/01004010.png  \n",
            "  inflating: dataset_signature_final/Dataset/dataset2/real/01005010.png  \n",
            "  inflating: dataset_signature_final/Dataset/dataset2/real/01101011.png  \n",
            "  inflating: dataset_signature_final/Dataset/dataset2/real/01102011.png  \n",
            "  inflating: dataset_signature_final/Dataset/dataset2/real/01103011.png  \n",
            "  inflating: dataset_signature_final/Dataset/dataset2/real/01104011.png  \n",
            "  inflating: dataset_signature_final/Dataset/dataset2/real/01105011.png  \n",
            "  inflating: dataset_signature_final/Dataset/dataset2/real/01201012.png  \n",
            "  inflating: dataset_signature_final/Dataset/dataset2/real/01202012.png  \n",
            "  inflating: dataset_signature_final/Dataset/dataset2/real/01203012.png  \n",
            "  inflating: dataset_signature_final/Dataset/dataset2/real/01204012.png  \n",
            "  inflating: dataset_signature_final/Dataset/dataset2/real/01205012.png  \n",
            "  inflating: dataset_signature_final/Dataset/dataset3/forge/00101014.png  \n",
            "  inflating: dataset_signature_final/Dataset/dataset3/forge/00101019.png  \n",
            "  inflating: dataset_signature_final/Dataset/dataset3/forge/00101025.png  \n",
            "  inflating: dataset_signature_final/Dataset/dataset3/forge/00101026.png  \n",
            "  inflating: dataset_signature_final/Dataset/dataset3/forge/00101027.png  \n",
            "  inflating: dataset_signature_final/Dataset/dataset3/forge/00101028.png  \n",
            "  inflating: dataset_signature_final/Dataset/dataset3/forge/00101029.png  \n",
            "  inflating: dataset_signature_final/Dataset/dataset3/forge/00101030.png  \n",
            "  inflating: dataset_signature_final/Dataset/dataset3/forge/00102014.png  \n",
            "  inflating: dataset_signature_final/Dataset/dataset3/forge/00102019.png  \n",
            "  inflating: dataset_signature_final/Dataset/dataset3/forge/00102025.png  \n",
            "  inflating: dataset_signature_final/Dataset/dataset3/forge/00102026.png  \n",
            "  inflating: dataset_signature_final/Dataset/dataset3/forge/00102027.png  \n",
            "  inflating: dataset_signature_final/Dataset/dataset3/forge/00102028.png  \n",
            "  inflating: dataset_signature_final/Dataset/dataset3/forge/00102029.png  \n",
            "  inflating: dataset_signature_final/Dataset/dataset3/forge/00102030.png  \n",
            "  inflating: dataset_signature_final/Dataset/dataset3/forge/00103014.png  \n",
            "  inflating: dataset_signature_final/Dataset/dataset3/forge/00103019.png  \n",
            "  inflating: dataset_signature_final/Dataset/dataset3/forge/00103025.png  \n",
            "  inflating: dataset_signature_final/Dataset/dataset3/forge/00103026.png  \n",
            "  inflating: dataset_signature_final/Dataset/dataset3/forge/00103027.png  \n",
            "  inflating: dataset_signature_final/Dataset/dataset3/forge/00103028.png  \n",
            "  inflating: dataset_signature_final/Dataset/dataset3/forge/00103029.png  \n",
            "  inflating: dataset_signature_final/Dataset/dataset3/forge/00103030.png  \n",
            "  inflating: dataset_signature_final/Dataset/dataset3/forge/00104014.png  \n",
            "  inflating: dataset_signature_final/Dataset/dataset3/forge/00104019.png  \n",
            "  inflating: dataset_signature_final/Dataset/dataset3/forge/00104025.png  \n",
            "  inflating: dataset_signature_final/Dataset/dataset3/forge/00104026.png  \n",
            "  inflating: dataset_signature_final/Dataset/dataset3/forge/00104027.png  \n",
            "  inflating: dataset_signature_final/Dataset/dataset3/forge/00104028.png  \n",
            "  inflating: dataset_signature_final/Dataset/dataset3/forge/00104029.png  \n",
            "  inflating: dataset_signature_final/Dataset/dataset3/forge/00104030.png  \n",
            "  inflating: dataset_signature_final/Dataset/dataset3/forge/00105014.png  \n",
            "  inflating: dataset_signature_final/Dataset/dataset3/forge/00105019.png  \n",
            "  inflating: dataset_signature_final/Dataset/dataset3/forge/00105025.png  \n",
            "  inflating: dataset_signature_final/Dataset/dataset3/forge/00105026.png  \n",
            "  inflating: dataset_signature_final/Dataset/dataset3/forge/00105027.png  \n",
            "  inflating: dataset_signature_final/Dataset/dataset3/forge/00105028.png  \n",
            "  inflating: dataset_signature_final/Dataset/dataset3/forge/00105029.png  \n",
            "  inflating: dataset_signature_final/Dataset/dataset3/forge/00105030.png  \n",
            "  inflating: dataset_signature_final/Dataset/dataset3/forge/00301001.png  \n",
            "  inflating: dataset_signature_final/Dataset/dataset3/forge/00301002.png  \n",
            "  inflating: dataset_signature_final/Dataset/dataset3/forge/00301005.png  \n",
            "  inflating: dataset_signature_final/Dataset/dataset3/forge/00301009.png  \n",
            "  inflating: dataset_signature_final/Dataset/dataset3/forge/00301018.png  \n",
            "  inflating: dataset_signature_final/Dataset/dataset3/forge/00302001.png  \n",
            "  inflating: dataset_signature_final/Dataset/dataset3/forge/00302002.png  \n",
            "  inflating: dataset_signature_final/Dataset/dataset3/forge/00302005.png  \n",
            "  inflating: dataset_signature_final/Dataset/dataset3/forge/00302009.png  \n",
            "  inflating: dataset_signature_final/Dataset/dataset3/forge/00302018.png  \n",
            "  inflating: dataset_signature_final/Dataset/dataset3/forge/00303001.png  \n",
            "  inflating: dataset_signature_final/Dataset/dataset3/forge/00303002.png  \n",
            "  inflating: dataset_signature_final/Dataset/dataset3/forge/00303005.png  \n",
            "  inflating: dataset_signature_final/Dataset/dataset3/forge/00303009.png  \n",
            "  inflating: dataset_signature_final/Dataset/dataset3/forge/00303018.png  \n",
            "  inflating: dataset_signature_final/Dataset/dataset3/forge/00304001.png  \n",
            "  inflating: dataset_signature_final/Dataset/dataset3/forge/00304002.png  \n",
            "  inflating: dataset_signature_final/Dataset/dataset3/forge/00304005.png  \n",
            "  inflating: dataset_signature_final/Dataset/dataset3/forge/00304009.png  \n",
            "  inflating: dataset_signature_final/Dataset/dataset3/forge/00304018.png  \n",
            "  inflating: dataset_signature_final/Dataset/dataset3/forge/00305001.png  \n",
            "  inflating: dataset_signature_final/Dataset/dataset3/forge/00305002.png  \n",
            "  inflating: dataset_signature_final/Dataset/dataset3/forge/00305005.png  \n",
            "  inflating: dataset_signature_final/Dataset/dataset3/forge/00305009.png  \n",
            "  inflating: dataset_signature_final/Dataset/dataset3/forge/00305018.png  \n",
            "  inflating: dataset_signature_final/Dataset/dataset3/forge/00401003.png  \n",
            "  inflating: dataset_signature_final/Dataset/dataset3/forge/00401007.png  \n",
            "  inflating: dataset_signature_final/Dataset/dataset3/forge/00401013.png  \n",
            "  inflating: dataset_signature_final/Dataset/dataset3/forge/00401024.png  \n",
            "  inflating: dataset_signature_final/Dataset/dataset3/forge/00402003.png  \n",
            "  inflating: dataset_signature_final/Dataset/dataset3/forge/00402007.png  \n",
            "  inflating: dataset_signature_final/Dataset/dataset3/forge/00402013.png  \n",
            "  inflating: dataset_signature_final/Dataset/dataset3/forge/00402024.png  \n",
            "  inflating: dataset_signature_final/Dataset/dataset3/forge/00403003.png  \n",
            "  inflating: dataset_signature_final/Dataset/dataset3/forge/00403007.png  \n",
            "  inflating: dataset_signature_final/Dataset/dataset3/forge/00403013.png  \n",
            "  inflating: dataset_signature_final/Dataset/dataset3/forge/00403024.png  \n",
            "  inflating: dataset_signature_final/Dataset/dataset3/forge/00404003.png  \n",
            "  inflating: dataset_signature_final/Dataset/dataset3/forge/00404007.png  \n",
            "  inflating: dataset_signature_final/Dataset/dataset3/forge/00404013.png  \n",
            "  inflating: dataset_signature_final/Dataset/dataset3/forge/00404024.png  \n",
            "  inflating: dataset_signature_final/Dataset/dataset3/forge/00405003.png  \n",
            "  inflating: dataset_signature_final/Dataset/dataset3/forge/00405007.png  \n",
            "  inflating: dataset_signature_final/Dataset/dataset3/forge/00405013.png  \n",
            "  inflating: dataset_signature_final/Dataset/dataset3/forge/00405024.png  \n",
            "  inflating: dataset_signature_final/Dataset/dataset3/forge/00501015.png  \n",
            "  inflating: dataset_signature_final/Dataset/dataset3/forge/00501022.png  \n",
            "  inflating: dataset_signature_final/Dataset/dataset3/forge/00502015.png  \n",
            "  inflating: dataset_signature_final/Dataset/dataset3/forge/00502022.png  \n",
            "  inflating: dataset_signature_final/Dataset/dataset3/forge/00503015.png  \n",
            "  inflating: dataset_signature_final/Dataset/dataset3/forge/00503022.png  \n",
            "  inflating: dataset_signature_final/Dataset/dataset3/forge/00504015.png  \n",
            "  inflating: dataset_signature_final/Dataset/dataset3/forge/00504022.png  \n",
            "  inflating: dataset_signature_final/Dataset/dataset3/forge/00505015.png  \n",
            "  inflating: dataset_signature_final/Dataset/dataset3/forge/00505022.png  \n",
            "  inflating: dataset_signature_final/Dataset/dataset3/forge/00701011.png  \n",
            "  inflating: dataset_signature_final/Dataset/dataset3/forge/00701023.png  \n",
            "  inflating: dataset_signature_final/Dataset/dataset3/forge/00702011.png  \n",
            "  inflating: dataset_signature_final/Dataset/dataset3/forge/00702023.png  \n",
            "  inflating: dataset_signature_final/Dataset/dataset3/forge/00703011.png  \n",
            "  inflating: dataset_signature_final/Dataset/dataset3/forge/00703023.png  \n",
            "  inflating: dataset_signature_final/Dataset/dataset3/forge/00704011.png  \n",
            "  inflating: dataset_signature_final/Dataset/dataset3/forge/00704023.png  \n",
            "  inflating: dataset_signature_final/Dataset/dataset3/forge/00705011.png  \n",
            "  inflating: dataset_signature_final/Dataset/dataset3/forge/00705023.png  \n",
            "  inflating: dataset_signature_final/Dataset/dataset3/forge/01101012.png  \n",
            "  inflating: dataset_signature_final/Dataset/dataset3/forge/01101016.png  \n",
            "  inflating: dataset_signature_final/Dataset/dataset3/forge/01102012.png  \n",
            "  inflating: dataset_signature_final/Dataset/dataset3/forge/01102016.png  \n",
            "  inflating: dataset_signature_final/Dataset/dataset3/forge/01103012.png  \n",
            "  inflating: dataset_signature_final/Dataset/dataset3/forge/01103016.png  \n",
            "  inflating: dataset_signature_final/Dataset/dataset3/forge/01104012.png  \n",
            "  inflating: dataset_signature_final/Dataset/dataset3/forge/01104016.png  \n",
            "  inflating: dataset_signature_final/Dataset/dataset3/forge/01105012.png  \n",
            "  inflating: dataset_signature_final/Dataset/dataset3/forge/01105016.png  \n",
            "  inflating: dataset_signature_final/Dataset/dataset3/forge/01201021.png  \n",
            "  inflating: dataset_signature_final/Dataset/dataset3/forge/01202021.png  \n",
            "  inflating: dataset_signature_final/Dataset/dataset3/forge/01203021.png  \n",
            "  inflating: dataset_signature_final/Dataset/dataset3/forge/01204021.png  \n",
            "  inflating: dataset_signature_final/Dataset/dataset3/forge/01205021.png  \n",
            "  inflating: dataset_signature_final/Dataset/dataset3/forge/01301017.png  \n",
            "  inflating: dataset_signature_final/Dataset/dataset3/forge/01302017.png  \n",
            "  inflating: dataset_signature_final/Dataset/dataset3/forge/01303017.png  \n",
            "  inflating: dataset_signature_final/Dataset/dataset3/forge/01304017.png  \n",
            "  inflating: dataset_signature_final/Dataset/dataset3/forge/01305017.png  \n",
            "  inflating: dataset_signature_final/Dataset/dataset3/forge/01701020.png  \n",
            "  inflating: dataset_signature_final/Dataset/dataset3/forge/01702020.png  \n",
            "  inflating: dataset_signature_final/Dataset/dataset3/forge/01703020.png  \n",
            "  inflating: dataset_signature_final/Dataset/dataset3/forge/01704020.png  \n",
            "  inflating: dataset_signature_final/Dataset/dataset3/forge/01705020.png  \n",
            "  inflating: dataset_signature_final/Dataset/dataset3/forge/02301008.png  \n",
            "  inflating: dataset_signature_final/Dataset/dataset3/forge/02303008.png  \n",
            "  inflating: dataset_signature_final/Dataset/dataset3/forge/02304008.png  \n",
            "  inflating: dataset_signature_final/Dataset/dataset3/forge/02305008.png  \n",
            "  inflating: dataset_signature_final/Dataset/dataset3/forge/02306008.png  \n",
            "  inflating: dataset_signature_final/Dataset/dataset3/forge/02501010.png  \n",
            "  inflating: dataset_signature_final/Dataset/dataset3/forge/02502010.png  \n",
            "  inflating: dataset_signature_final/Dataset/dataset3/forge/02503010.png  \n",
            "  inflating: dataset_signature_final/Dataset/dataset3/forge/02504010.png  \n",
            "  inflating: dataset_signature_final/Dataset/dataset3/forge/02505009.png  \n",
            "  inflating: dataset_signature_final/Dataset/dataset3/forge/03301006.png  \n",
            "  inflating: dataset_signature_final/Dataset/dataset3/forge/03302006.png  \n",
            "  inflating: dataset_signature_final/Dataset/dataset3/forge/03303006.png  \n",
            "  inflating: dataset_signature_final/Dataset/dataset3/forge/03304006.png  \n",
            "  inflating: dataset_signature_final/Dataset/dataset3/forge/03305006.png  \n",
            "  inflating: dataset_signature_final/Dataset/dataset3/forge/08801004.png  \n",
            "  inflating: dataset_signature_final/Dataset/dataset3/forge/08802004.png  \n",
            "  inflating: dataset_signature_final/Dataset/dataset3/forge/08803004.png  \n",
            "  inflating: dataset_signature_final/Dataset/dataset3/forge/08804004.png  \n",
            "  inflating: dataset_signature_final/Dataset/dataset3/forge/08805004.png  \n",
            "  inflating: dataset_signature_final/Dataset/dataset3/real/00101001.png  \n",
            "  inflating: dataset_signature_final/Dataset/dataset3/real/00102001.png  \n",
            "  inflating: dataset_signature_final/Dataset/dataset3/real/00103001.png  \n",
            "  inflating: dataset_signature_final/Dataset/dataset3/real/00104001.png  \n",
            "  inflating: dataset_signature_final/Dataset/dataset3/real/00105001.png  \n",
            "  inflating: dataset_signature_final/Dataset/dataset3/real/00201002.png  \n",
            "  inflating: dataset_signature_final/Dataset/dataset3/real/00202002.png  \n",
            "  inflating: dataset_signature_final/Dataset/dataset3/real/00203002.png  \n",
            "  inflating: dataset_signature_final/Dataset/dataset3/real/00204002.png  \n",
            "  inflating: dataset_signature_final/Dataset/dataset3/real/00205002.png  \n",
            "  inflating: dataset_signature_final/Dataset/dataset3/real/00301003.png  \n",
            "  inflating: dataset_signature_final/Dataset/dataset3/real/00302003.png  \n",
            "  inflating: dataset_signature_final/Dataset/dataset3/real/00303003.png  \n",
            "  inflating: dataset_signature_final/Dataset/dataset3/real/00304003.png  \n",
            "  inflating: dataset_signature_final/Dataset/dataset3/real/00305003.png  \n",
            "  inflating: dataset_signature_final/Dataset/dataset3/real/00401004.png  \n",
            "  inflating: dataset_signature_final/Dataset/dataset3/real/00402004.png  \n",
            "  inflating: dataset_signature_final/Dataset/dataset3/real/00403004.png  \n",
            "  inflating: dataset_signature_final/Dataset/dataset3/real/00404004.png  \n",
            "  inflating: dataset_signature_final/Dataset/dataset3/real/00405004.png  \n",
            "  inflating: dataset_signature_final/Dataset/dataset3/real/00501005.png  \n",
            "  inflating: dataset_signature_final/Dataset/dataset3/real/00502005.png  \n",
            "  inflating: dataset_signature_final/Dataset/dataset3/real/00503005.png  \n",
            "  inflating: dataset_signature_final/Dataset/dataset3/real/00504005.png  \n",
            "  inflating: dataset_signature_final/Dataset/dataset3/real/00505005.png  \n",
            "  inflating: dataset_signature_final/Dataset/dataset3/real/00601006.png  \n",
            "  inflating: dataset_signature_final/Dataset/dataset3/real/00602006.png  \n",
            "  inflating: dataset_signature_final/Dataset/dataset3/real/00603006.png  \n",
            "  inflating: dataset_signature_final/Dataset/dataset3/real/00604006.png  \n",
            "  inflating: dataset_signature_final/Dataset/dataset3/real/00605006.png  \n",
            "  inflating: dataset_signature_final/Dataset/dataset3/real/00701007.png  \n",
            "  inflating: dataset_signature_final/Dataset/dataset3/real/00702007.png  \n",
            "  inflating: dataset_signature_final/Dataset/dataset3/real/00703007.png  \n",
            "  inflating: dataset_signature_final/Dataset/dataset3/real/00704007.png  \n",
            "  inflating: dataset_signature_final/Dataset/dataset3/real/00705007.png  \n",
            "  inflating: dataset_signature_final/Dataset/dataset3/real/00801008.png  \n",
            "  inflating: dataset_signature_final/Dataset/dataset3/real/00802008.png  \n",
            "  inflating: dataset_signature_final/Dataset/dataset3/real/00803008.png  \n",
            "  inflating: dataset_signature_final/Dataset/dataset3/real/00804008.png  \n",
            "  inflating: dataset_signature_final/Dataset/dataset3/real/00805008.png  \n",
            "  inflating: dataset_signature_final/Dataset/dataset3/real/00901009.png  \n",
            "  inflating: dataset_signature_final/Dataset/dataset3/real/00902009.png  \n",
            "  inflating: dataset_signature_final/Dataset/dataset3/real/00903009.png  \n",
            "  inflating: dataset_signature_final/Dataset/dataset3/real/00904009.png  \n",
            "  inflating: dataset_signature_final/Dataset/dataset3/real/00905009.png  \n",
            "  inflating: dataset_signature_final/Dataset/dataset3/real/01001010.png  \n",
            "  inflating: dataset_signature_final/Dataset/dataset3/real/01002010.png  \n",
            "  inflating: dataset_signature_final/Dataset/dataset3/real/01003010.png  \n",
            "  inflating: dataset_signature_final/Dataset/dataset3/real/01004010.png  \n",
            "  inflating: dataset_signature_final/Dataset/dataset3/real/01005010.png  \n",
            "  inflating: dataset_signature_final/Dataset/dataset3/real/01101011.png  \n",
            "  inflating: dataset_signature_final/Dataset/dataset3/real/01102011.png  \n",
            "  inflating: dataset_signature_final/Dataset/dataset3/real/01103011.png  \n",
            "  inflating: dataset_signature_final/Dataset/dataset3/real/01104011.png  \n",
            "  inflating: dataset_signature_final/Dataset/dataset3/real/01105011.png  \n",
            "  inflating: dataset_signature_final/Dataset/dataset3/real/01201012.png  \n",
            "  inflating: dataset_signature_final/Dataset/dataset3/real/01202012.png  \n",
            "  inflating: dataset_signature_final/Dataset/dataset3/real/01203012.png  \n",
            "  inflating: dataset_signature_final/Dataset/dataset3/real/01204012.png  \n",
            "  inflating: dataset_signature_final/Dataset/dataset3/real/01205012.png  \n",
            "  inflating: dataset_signature_final/Dataset/dataset3/real/01301013.png  \n",
            "  inflating: dataset_signature_final/Dataset/dataset3/real/01302013.png  \n",
            "  inflating: dataset_signature_final/Dataset/dataset3/real/01303013.png  \n",
            "  inflating: dataset_signature_final/Dataset/dataset3/real/01304013.png  \n",
            "  inflating: dataset_signature_final/Dataset/dataset3/real/01305013.png  \n",
            "  inflating: dataset_signature_final/Dataset/dataset3/real/01401014.png  \n",
            "  inflating: dataset_signature_final/Dataset/dataset3/real/01402014.png  \n",
            "  inflating: dataset_signature_final/Dataset/dataset3/real/01403014.png  \n",
            "  inflating: dataset_signature_final/Dataset/dataset3/real/01404014.png  \n",
            "  inflating: dataset_signature_final/Dataset/dataset3/real/01405014.png  \n",
            "  inflating: dataset_signature_final/Dataset/dataset3/real/01501015.png  \n",
            "  inflating: dataset_signature_final/Dataset/dataset3/real/01502015.png  \n",
            "  inflating: dataset_signature_final/Dataset/dataset3/real/01503015.png  \n",
            "  inflating: dataset_signature_final/Dataset/dataset3/real/01504015.png  \n",
            "  inflating: dataset_signature_final/Dataset/dataset3/real/01505015.png  \n",
            "  inflating: dataset_signature_final/Dataset/dataset3/real/01601016.png  \n",
            "  inflating: dataset_signature_final/Dataset/dataset3/real/01602016.png  \n",
            "  inflating: dataset_signature_final/Dataset/dataset3/real/01603016.png  \n",
            "  inflating: dataset_signature_final/Dataset/dataset3/real/01604016.png  \n",
            "  inflating: dataset_signature_final/Dataset/dataset3/real/01605016.png  \n",
            "  inflating: dataset_signature_final/Dataset/dataset3/real/01701017.png  \n",
            "  inflating: dataset_signature_final/Dataset/dataset3/real/01702017.png  \n",
            "  inflating: dataset_signature_final/Dataset/dataset3/real/01703017.png  \n",
            "  inflating: dataset_signature_final/Dataset/dataset3/real/01704017.png  \n",
            "  inflating: dataset_signature_final/Dataset/dataset3/real/01705017.png  \n",
            "  inflating: dataset_signature_final/Dataset/dataset3/real/01801018.png  \n",
            "  inflating: dataset_signature_final/Dataset/dataset3/real/01802018.png  \n",
            "  inflating: dataset_signature_final/Dataset/dataset3/real/01803018.png  \n",
            "  inflating: dataset_signature_final/Dataset/dataset3/real/01804018.png  \n",
            "  inflating: dataset_signature_final/Dataset/dataset3/real/01805018.png  \n",
            "  inflating: dataset_signature_final/Dataset/dataset3/real/01901019.png  \n",
            "  inflating: dataset_signature_final/Dataset/dataset3/real/01902019.png  \n",
            "  inflating: dataset_signature_final/Dataset/dataset3/real/01903019.png  \n",
            "  inflating: dataset_signature_final/Dataset/dataset3/real/01904019.png  \n",
            "  inflating: dataset_signature_final/Dataset/dataset3/real/01905019.png  \n",
            "  inflating: dataset_signature_final/Dataset/dataset3/real/02001020.png  \n",
            "  inflating: dataset_signature_final/Dataset/dataset3/real/02002020.png  \n",
            "  inflating: dataset_signature_final/Dataset/dataset3/real/02003020.png  \n",
            "  inflating: dataset_signature_final/Dataset/dataset3/real/02004020.png  \n",
            "  inflating: dataset_signature_final/Dataset/dataset3/real/02005020.png  \n",
            "  inflating: dataset_signature_final/Dataset/dataset3/real/02101021.png  \n",
            "  inflating: dataset_signature_final/Dataset/dataset3/real/02102021.png  \n",
            "  inflating: dataset_signature_final/Dataset/dataset3/real/02103021.png  \n",
            "  inflating: dataset_signature_final/Dataset/dataset3/real/02104021.png  \n",
            "  inflating: dataset_signature_final/Dataset/dataset3/real/02105021.png  \n",
            "  inflating: dataset_signature_final/Dataset/dataset3/real/02201022.png  \n",
            "  inflating: dataset_signature_final/Dataset/dataset3/real/02202022.png  \n",
            "  inflating: dataset_signature_final/Dataset/dataset3/real/02203022.png  \n",
            "  inflating: dataset_signature_final/Dataset/dataset3/real/02204022.png  \n",
            "  inflating: dataset_signature_final/Dataset/dataset3/real/02205022.png  \n",
            "  inflating: dataset_signature_final/Dataset/dataset3/real/02301023.png  \n",
            "  inflating: dataset_signature_final/Dataset/dataset3/real/02302023.png  \n",
            "  inflating: dataset_signature_final/Dataset/dataset3/real/02303023.png  \n",
            "  inflating: dataset_signature_final/Dataset/dataset3/real/02304023.png  \n",
            "  inflating: dataset_signature_final/Dataset/dataset3/real/02305023.png  \n",
            "  inflating: dataset_signature_final/Dataset/dataset3/real/02401024.png  \n",
            "  inflating: dataset_signature_final/Dataset/dataset3/real/02402024.png  \n",
            "  inflating: dataset_signature_final/Dataset/dataset3/real/02403024.png  \n",
            "  inflating: dataset_signature_final/Dataset/dataset3/real/02404024.png  \n",
            "  inflating: dataset_signature_final/Dataset/dataset3/real/02405024.png  \n",
            "  inflating: dataset_signature_final/Dataset/dataset3/real/02501025.png  \n",
            "  inflating: dataset_signature_final/Dataset/dataset3/real/02502025.png  \n",
            "  inflating: dataset_signature_final/Dataset/dataset3/real/02503025.png  \n",
            "  inflating: dataset_signature_final/Dataset/dataset3/real/02504025.png  \n",
            "  inflating: dataset_signature_final/Dataset/dataset3/real/02505025.png  \n",
            "  inflating: dataset_signature_final/Dataset/dataset3/real/02601026.png  \n",
            "  inflating: dataset_signature_final/Dataset/dataset3/real/02602026.png  \n",
            "  inflating: dataset_signature_final/Dataset/dataset3/real/02603026.png  \n",
            "  inflating: dataset_signature_final/Dataset/dataset3/real/02604026.png  \n",
            "  inflating: dataset_signature_final/Dataset/dataset3/real/02605026.png  \n",
            "  inflating: dataset_signature_final/Dataset/dataset3/real/02701027.png  \n",
            "  inflating: dataset_signature_final/Dataset/dataset3/real/02702027.png  \n",
            "  inflating: dataset_signature_final/Dataset/dataset3/real/02703027.png  \n",
            "  inflating: dataset_signature_final/Dataset/dataset3/real/02704027.png  \n",
            "  inflating: dataset_signature_final/Dataset/dataset3/real/02705027.png  \n",
            "  inflating: dataset_signature_final/Dataset/dataset3/real/02801028.png  \n",
            "  inflating: dataset_signature_final/Dataset/dataset3/real/02802028.png  \n",
            "  inflating: dataset_signature_final/Dataset/dataset3/real/02803028.png  \n",
            "  inflating: dataset_signature_final/Dataset/dataset3/real/02804028.png  \n",
            "  inflating: dataset_signature_final/Dataset/dataset3/real/02805028.png  \n",
            "  inflating: dataset_signature_final/Dataset/dataset3/real/02901029.png  \n",
            "  inflating: dataset_signature_final/Dataset/dataset3/real/02902029.png  \n",
            "  inflating: dataset_signature_final/Dataset/dataset3/real/02903029.png  \n",
            "  inflating: dataset_signature_final/Dataset/dataset3/real/02904029.png  \n",
            "  inflating: dataset_signature_final/Dataset/dataset3/real/02905029.png  \n",
            "  inflating: dataset_signature_final/Dataset/dataset3/real/03001030.png  \n",
            "  inflating: dataset_signature_final/Dataset/dataset3/real/03002030.png  \n",
            "  inflating: dataset_signature_final/Dataset/dataset3/real/03003030.png  \n",
            "  inflating: dataset_signature_final/Dataset/dataset3/real/03004030.png  \n",
            "  inflating: dataset_signature_final/Dataset/dataset3/real/03005030.png  \n",
            "  inflating: dataset_signature_final/Dataset/dataset4/forge/00301002.png  \n",
            "  inflating: dataset_signature_final/Dataset/dataset4/forge/00301035.png  \n",
            "  inflating: dataset_signature_final/Dataset/dataset4/forge/00301046.png  \n",
            "  inflating: dataset_signature_final/Dataset/dataset4/forge/00302002.png  \n",
            "  inflating: dataset_signature_final/Dataset/dataset4/forge/00302035.png  \n",
            "  inflating: dataset_signature_final/Dataset/dataset4/forge/00302046.png  \n",
            "  inflating: dataset_signature_final/Dataset/dataset4/forge/00303002.png  \n",
            "  inflating: dataset_signature_final/Dataset/dataset4/forge/00303035.png  \n",
            "  inflating: dataset_signature_final/Dataset/dataset4/forge/00303046.png  \n",
            "  inflating: dataset_signature_final/Dataset/dataset4/forge/00304002.png  \n",
            "  inflating: dataset_signature_final/Dataset/dataset4/forge/00304035.png  \n",
            "  inflating: dataset_signature_final/Dataset/dataset4/forge/00304046.png  \n",
            "  inflating: dataset_signature_final/Dataset/dataset4/forge/00305002.png  \n",
            "  inflating: dataset_signature_final/Dataset/dataset4/forge/00305035.png  \n",
            "  inflating: dataset_signature_final/Dataset/dataset4/forge/00305046.png  \n",
            "  inflating: dataset_signature_final/Dataset/dataset4/forge/00401024.png  \n",
            "  inflating: dataset_signature_final/Dataset/dataset4/forge/00401044.png  \n",
            "  inflating: dataset_signature_final/Dataset/dataset4/forge/00401063.png  \n",
            "  inflating: dataset_signature_final/Dataset/dataset4/forge/00401092.png  \n",
            "  inflating: dataset_signature_final/Dataset/dataset4/forge/00402024.png  \n",
            "  inflating: dataset_signature_final/Dataset/dataset4/forge/00402044.png  \n",
            "  inflating: dataset_signature_final/Dataset/dataset4/forge/00402063.png  \n",
            "  inflating: dataset_signature_final/Dataset/dataset4/forge/00402092.png  \n",
            "  inflating: dataset_signature_final/Dataset/dataset4/forge/00403024.png  \n",
            "  inflating: dataset_signature_final/Dataset/dataset4/forge/00403044.png  \n",
            "  inflating: dataset_signature_final/Dataset/dataset4/forge/00403063.png  \n",
            "  inflating: dataset_signature_final/Dataset/dataset4/forge/00403092.png  \n",
            "  inflating: dataset_signature_final/Dataset/dataset4/forge/00404024.png  \n",
            "  inflating: dataset_signature_final/Dataset/dataset4/forge/00404044.png  \n",
            "  inflating: dataset_signature_final/Dataset/dataset4/forge/00404063.png  \n",
            "  inflating: dataset_signature_final/Dataset/dataset4/forge/00404092.png  \n",
            "  inflating: dataset_signature_final/Dataset/dataset4/forge/00405024.png  \n",
            "  inflating: dataset_signature_final/Dataset/dataset4/forge/00405044.png  \n",
            "  inflating: dataset_signature_final/Dataset/dataset4/forge/00405063.png  \n",
            "  inflating: dataset_signature_final/Dataset/dataset4/forge/00405092.png  \n",
            "  inflating: dataset_signature_final/Dataset/dataset4/forge/01601077.png  \n",
            "  inflating: dataset_signature_final/Dataset/dataset4/forge/01601089.png  \n",
            "  inflating: dataset_signature_final/Dataset/dataset4/forge/01602033.png  \n",
            "  inflating: dataset_signature_final/Dataset/dataset4/forge/01602077.png  \n",
            "  inflating: dataset_signature_final/Dataset/dataset4/forge/01602089.png  \n",
            "  inflating: dataset_signature_final/Dataset/dataset4/forge/01603033.png  \n",
            "  inflating: dataset_signature_final/Dataset/dataset4/forge/01603077.png  \n",
            "  inflating: dataset_signature_final/Dataset/dataset4/forge/01603089.png  \n",
            "  inflating: dataset_signature_final/Dataset/dataset4/forge/01604033.png  \n",
            "  inflating: dataset_signature_final/Dataset/dataset4/forge/01604077.png  \n",
            "  inflating: dataset_signature_final/Dataset/dataset4/forge/01604089.png  \n",
            "  inflating: dataset_signature_final/Dataset/dataset4/forge/01605033.png  \n",
            "  inflating: dataset_signature_final/Dataset/dataset4/forge/01605077.png  \n",
            "  inflating: dataset_signature_final/Dataset/dataset4/forge/01605089.png  \n",
            "  inflating: dataset_signature_final/Dataset/dataset4/forge/01701033.png  \n",
            "  inflating: dataset_signature_final/Dataset/dataset4/forge/02301008.png  \n",
            "  inflating: dataset_signature_final/Dataset/dataset4/forge/02301070.png  \n",
            "  inflating: dataset_signature_final/Dataset/dataset4/forge/02301093.png  \n",
            "  inflating: dataset_signature_final/Dataset/dataset4/forge/02302008.png  \n",
            "  inflating: dataset_signature_final/Dataset/dataset4/forge/02302070.png  \n",
            "  inflating: dataset_signature_final/Dataset/dataset4/forge/02302093.png  \n",
            "  inflating: dataset_signature_final/Dataset/dataset4/forge/02303008.png  \n",
            "  inflating: dataset_signature_final/Dataset/dataset4/forge/02303070.png  \n",
            "  inflating: dataset_signature_final/Dataset/dataset4/forge/02303093.png  \n",
            "  inflating: dataset_signature_final/Dataset/dataset4/forge/02304008.png  \n",
            "  inflating: dataset_signature_final/Dataset/dataset4/forge/02304070.png  \n",
            "  inflating: dataset_signature_final/Dataset/dataset4/forge/02304093.png  \n",
            "  inflating: dataset_signature_final/Dataset/dataset4/forge/02305008.png  \n",
            "  inflating: dataset_signature_final/Dataset/dataset4/forge/02305070.png  \n",
            "  inflating: dataset_signature_final/Dataset/dataset4/forge/02305093.png  \n",
            "  inflating: dataset_signature_final/Dataset/dataset4/forge/03201084.png  \n",
            "  inflating: dataset_signature_final/Dataset/dataset4/forge/03201085.png  \n",
            "  inflating: dataset_signature_final/Dataset/dataset4/forge/03201086.png  \n",
            "  inflating: dataset_signature_final/Dataset/dataset4/forge/03202084.png  \n",
            "  inflating: dataset_signature_final/Dataset/dataset4/forge/03202085.png  \n",
            "  inflating: dataset_signature_final/Dataset/dataset4/forge/03202086.png  \n",
            "  inflating: dataset_signature_final/Dataset/dataset4/forge/03203084.png  \n",
            "  inflating: dataset_signature_final/Dataset/dataset4/forge/03203085.png  \n",
            "  inflating: dataset_signature_final/Dataset/dataset4/forge/03203086.png  \n",
            "  inflating: dataset_signature_final/Dataset/dataset4/forge/03204084.png  \n",
            "  inflating: dataset_signature_final/Dataset/dataset4/forge/03204085.png  \n",
            "  inflating: dataset_signature_final/Dataset/dataset4/forge/03204086.png  \n",
            "  inflating: dataset_signature_final/Dataset/dataset4/forge/03205084.png  \n",
            "  inflating: dataset_signature_final/Dataset/dataset4/forge/03205085.png  \n",
            "  inflating: dataset_signature_final/Dataset/dataset4/forge/03205086.png  \n",
            "  inflating: dataset_signature_final/Dataset/dataset4/forge/06101016.png  \n",
            "  inflating: dataset_signature_final/Dataset/dataset4/forge/06101071.png  \n",
            "  inflating: dataset_signature_final/Dataset/dataset4/forge/06102016.png  \n",
            "  inflating: dataset_signature_final/Dataset/dataset4/forge/06102071.png  \n",
            "  inflating: dataset_signature_final/Dataset/dataset4/forge/06103016.png  \n",
            "  inflating: dataset_signature_final/Dataset/dataset4/forge/06103071.png  \n",
            "  inflating: dataset_signature_final/Dataset/dataset4/forge/06104016.png  \n",
            "  inflating: dataset_signature_final/Dataset/dataset4/forge/06104071.png  \n",
            "  inflating: dataset_signature_final/Dataset/dataset4/forge/06105016.png  \n",
            "  inflating: dataset_signature_final/Dataset/dataset4/forge/06105071.png  \n",
            "  inflating: dataset_signature_final/Dataset/dataset4/real1/00201002.png  \n",
            "  inflating: dataset_signature_final/Dataset/dataset4/real1/00202002.png  \n",
            "  inflating: dataset_signature_final/Dataset/dataset4/real1/00203002.png  \n",
            "  inflating: dataset_signature_final/Dataset/dataset4/real1/00204002.png  \n",
            "  inflating: dataset_signature_final/Dataset/dataset4/real1/00205002.png  \n",
            "  inflating: dataset_signature_final/Dataset/dataset4/real1/00801008.png  \n",
            "  inflating: dataset_signature_final/Dataset/dataset4/real1/00802008.png  \n",
            "  inflating: dataset_signature_final/Dataset/dataset4/real1/00803008.png  \n",
            "  inflating: dataset_signature_final/Dataset/dataset4/real1/00804008.png  \n",
            "  inflating: dataset_signature_final/Dataset/dataset4/real1/00805008.png  \n",
            "  inflating: dataset_signature_final/Dataset/dataset4/real1/01601016.png  \n",
            "  inflating: dataset_signature_final/Dataset/dataset4/real1/01602016.png  \n",
            "  inflating: dataset_signature_final/Dataset/dataset4/real1/01603016.png  \n",
            "  inflating: dataset_signature_final/Dataset/dataset4/real1/01604016.png  \n",
            "  inflating: dataset_signature_final/Dataset/dataset4/real1/01605016.png  \n",
            "  inflating: dataset_signature_final/Dataset/dataset4/real1/02401024.png  \n",
            "  inflating: dataset_signature_final/Dataset/dataset4/real1/02402024.png  \n",
            "  inflating: dataset_signature_final/Dataset/dataset4/real1/02403024.png  \n",
            "  inflating: dataset_signature_final/Dataset/dataset4/real1/02404024.png  \n",
            "  inflating: dataset_signature_final/Dataset/dataset4/real1/02405024.png  \n",
            "  inflating: dataset_signature_final/Dataset/dataset4/real1/03301033.png  \n",
            "  inflating: dataset_signature_final/Dataset/dataset4/real1/03302033.png  \n",
            "  inflating: dataset_signature_final/Dataset/dataset4/real1/03303033.png  \n",
            "  inflating: dataset_signature_final/Dataset/dataset4/real1/03304033.png  \n",
            "  inflating: dataset_signature_final/Dataset/dataset4/real1/03305033.png  \n",
            "  inflating: dataset_signature_final/Dataset/dataset4/real1/03501035.png  \n",
            "  inflating: dataset_signature_final/Dataset/dataset4/real1/03502035.png  \n",
            "  inflating: dataset_signature_final/Dataset/dataset4/real1/03503035.png  \n",
            "  inflating: dataset_signature_final/Dataset/dataset4/real1/03504035.png  \n",
            "  inflating: dataset_signature_final/Dataset/dataset4/real1/03505035.png  \n",
            "  inflating: dataset_signature_final/Dataset/dataset4/real1/04401044.png  \n",
            "  inflating: dataset_signature_final/Dataset/dataset4/real1/04402044.png  \n",
            "  inflating: dataset_signature_final/Dataset/dataset4/real1/04403044.png  \n",
            "  inflating: dataset_signature_final/Dataset/dataset4/real1/04404044.png  \n",
            "  inflating: dataset_signature_final/Dataset/dataset4/real1/04405044.png  \n",
            "  inflating: dataset_signature_final/Dataset/dataset4/real1/04601046.png  \n",
            "  inflating: dataset_signature_final/Dataset/dataset4/real1/04602046.png  \n",
            "  inflating: dataset_signature_final/Dataset/dataset4/real1/04603046.png  \n",
            "  inflating: dataset_signature_final/Dataset/dataset4/real1/04604046.png  \n",
            "  inflating: dataset_signature_final/Dataset/dataset4/real1/04605046.png  \n",
            "  inflating: dataset_signature_final/Dataset/dataset4/real1/06301063.png  \n",
            "  inflating: dataset_signature_final/Dataset/dataset4/real1/06302063.png  \n",
            "  inflating: dataset_signature_final/Dataset/dataset4/real1/06303063.png  \n",
            "  inflating: dataset_signature_final/Dataset/dataset4/real1/06304063.png  \n",
            "  inflating: dataset_signature_final/Dataset/dataset4/real1/06305063.png  \n",
            "  inflating: dataset_signature_final/Dataset/dataset4/real1/07001070.png  \n",
            "  inflating: dataset_signature_final/Dataset/dataset4/real1/07002070.png  \n",
            "  inflating: dataset_signature_final/Dataset/dataset4/real1/07003070.png  \n",
            "  inflating: dataset_signature_final/Dataset/dataset4/real1/07004070.png  \n",
            "  inflating: dataset_signature_final/Dataset/dataset4/real1/07005070.png  \n",
            "  inflating: dataset_signature_final/Dataset/dataset4/real1/07101071.png  \n",
            "  inflating: dataset_signature_final/Dataset/dataset4/real1/07102071.png  \n",
            "  inflating: dataset_signature_final/Dataset/dataset4/real1/07103071.png  \n",
            "  inflating: dataset_signature_final/Dataset/dataset4/real1/07104071.png  \n",
            "  inflating: dataset_signature_final/Dataset/dataset4/real1/07105071.png  \n",
            "  inflating: dataset_signature_final/Dataset/dataset4/real1/07701077.png  \n",
            "  inflating: dataset_signature_final/Dataset/dataset4/real1/07702077.png  \n",
            "  inflating: dataset_signature_final/Dataset/dataset4/real1/07703077.png  \n",
            "  inflating: dataset_signature_final/Dataset/dataset4/real1/07704077.png  \n",
            "  inflating: dataset_signature_final/Dataset/dataset4/real1/07705077.png  \n",
            "  inflating: dataset_signature_final/Dataset/dataset4/real1/08401084.png  \n",
            "  inflating: dataset_signature_final/Dataset/dataset4/real1/08402084.png  \n",
            "  inflating: dataset_signature_final/Dataset/dataset4/real1/08403084.png  \n",
            "  inflating: dataset_signature_final/Dataset/dataset4/real1/08404084.png  \n",
            "  inflating: dataset_signature_final/Dataset/dataset4/real1/08405084.png  \n",
            "  inflating: dataset_signature_final/Dataset/dataset4/real1/08501085.png  \n",
            "  inflating: dataset_signature_final/Dataset/dataset4/real1/08502085.png  \n",
            "  inflating: dataset_signature_final/Dataset/dataset4/real1/08503085.png  \n",
            "  inflating: dataset_signature_final/Dataset/dataset4/real1/08504085.png  \n",
            "  inflating: dataset_signature_final/Dataset/dataset4/real1/08505085.png  \n",
            "  inflating: dataset_signature_final/Dataset/dataset4/real1/08601086.png  \n",
            "  inflating: dataset_signature_final/Dataset/dataset4/real1/08602086.png  \n",
            "  inflating: dataset_signature_final/Dataset/dataset4/real1/08603086.png  \n",
            "  inflating: dataset_signature_final/Dataset/dataset4/real1/08604086.png  \n",
            "  inflating: dataset_signature_final/Dataset/dataset4/real1/08605086.png  \n",
            "  inflating: dataset_signature_final/Dataset/dataset4/real1/08901089.png  \n",
            "  inflating: dataset_signature_final/Dataset/dataset4/real1/08902089.png  \n",
            "  inflating: dataset_signature_final/Dataset/dataset4/real1/08903089.png  \n",
            "  inflating: dataset_signature_final/Dataset/dataset4/real1/08904089.png  \n",
            "  inflating: dataset_signature_final/Dataset/dataset4/real1/08905089.png  \n",
            "  inflating: dataset_signature_final/Dataset/dataset4/real1/09201092.png  \n",
            "  inflating: dataset_signature_final/Dataset/dataset4/real1/09202092.png  \n",
            "  inflating: dataset_signature_final/Dataset/dataset4/real1/09203092.png  \n",
            "  inflating: dataset_signature_final/Dataset/dataset4/real1/09204092.png  \n",
            "  inflating: dataset_signature_final/Dataset/dataset4/real1/09205092.png  \n",
            "  inflating: dataset_signature_final/Dataset/dataset4/real1/09301093.png  \n",
            "  inflating: dataset_signature_final/Dataset/dataset4/real1/09302093.png  \n",
            "  inflating: dataset_signature_final/Dataset/dataset4/real1/09303093.png  \n",
            "  inflating: dataset_signature_final/Dataset/dataset4/real1/09304093.png  \n",
            "  inflating: dataset_signature_final/Dataset/dataset4/real1/09305093.png  \n",
            "  inflating: sample_Signature/sample_Signature/README.txt.txt  \n",
            "  inflating: sample_Signature/sample_Signature/forged/NFI-00101014.png  \n",
            "  inflating: sample_Signature/sample_Signature/forged/NFI-00101019.png  \n",
            "  inflating: sample_Signature/sample_Signature/forged/NFI-00101025.PNG  \n",
            "  inflating: sample_Signature/sample_Signature/forged/NFI-00101026.PNG  \n",
            "  inflating: sample_Signature/sample_Signature/forged/NFI-00101027.PNG  \n",
            "  inflating: sample_Signature/sample_Signature/forged/NFI-00101028.PNG  \n",
            "  inflating: sample_Signature/sample_Signature/forged/NFI-00101029.PNG  \n",
            "  inflating: sample_Signature/sample_Signature/forged/NFI-00101030.PNG  \n",
            "  inflating: sample_Signature/sample_Signature/forged/NFI-00102014.png  \n",
            "  inflating: sample_Signature/sample_Signature/forged/NFI-00102019.png  \n",
            "  inflating: sample_Signature/sample_Signature/forged/NFI-00102025.PNG  \n",
            "  inflating: sample_Signature/sample_Signature/forged/NFI-00102026.PNG  \n",
            "  inflating: sample_Signature/sample_Signature/forged/NFI-00102027.PNG  \n",
            "  inflating: sample_Signature/sample_Signature/forged/NFI-00102028.PNG  \n",
            "  inflating: sample_Signature/sample_Signature/forged/NFI-00102029.PNG  \n",
            "  inflating: sample_Signature/sample_Signature/forged/NFI-00102030.PNG  \n",
            "  inflating: sample_Signature/sample_Signature/forged/NFI-00103014.png  \n",
            "  inflating: sample_Signature/sample_Signature/forged/NFI-00103019.png  \n",
            "  inflating: sample_Signature/sample_Signature/forged/NFI-00103025.PNG  \n",
            "  inflating: sample_Signature/sample_Signature/forged/NFI-00103026.PNG  \n",
            "  inflating: sample_Signature/sample_Signature/forged/NFI-00103027.PNG  \n",
            "  inflating: sample_Signature/sample_Signature/forged/NFI-00103028.PNG  \n",
            "  inflating: sample_Signature/sample_Signature/forged/NFI-00103029.PNG  \n",
            "  inflating: sample_Signature/sample_Signature/forged/NFI-00103030.PNG  \n",
            "  inflating: sample_Signature/sample_Signature/forged/NFI-00104014.png  \n",
            "  inflating: sample_Signature/sample_Signature/forged/NFI-00104019.png  \n",
            "  inflating: sample_Signature/sample_Signature/forged/NFI-00104025.PNG  \n",
            "  inflating: sample_Signature/sample_Signature/forged/NFI-00104026.PNG  \n",
            "  inflating: sample_Signature/sample_Signature/forged/NFI-00104027.PNG  \n",
            "  inflating: sample_Signature/sample_Signature/forged/NFI-00104028.PNG  \n",
            "  inflating: sample_Signature/sample_Signature/forged/NFI-00104029.PNG  \n",
            "  inflating: sample_Signature/sample_Signature/forged/NFI-00104030.PNG  \n",
            "  inflating: sample_Signature/sample_Signature/forged/NFI-00105014.png  \n",
            "  inflating: sample_Signature/sample_Signature/forged/NFI-00105019.png  \n",
            "  inflating: sample_Signature/sample_Signature/forged/NFI-00105025.PNG  \n",
            "  inflating: sample_Signature/sample_Signature/forged/NFI-00105026.PNG  \n",
            "  inflating: sample_Signature/sample_Signature/forged/NFI-00105027.PNG  \n",
            "  inflating: sample_Signature/sample_Signature/forged/NFI-00105028.PNG  \n",
            "  inflating: sample_Signature/sample_Signature/forged/NFI-00105029.PNG  \n",
            "  inflating: sample_Signature/sample_Signature/forged/NFI-00105030.PNG  \n",
            "  inflating: sample_Signature/sample_Signature/forged/NFI-00301001.png  \n",
            "  inflating: sample_Signature/sample_Signature/forged/NFI-00301002.png  \n",
            "  inflating: sample_Signature/sample_Signature/forged/NFI-00301005.png  \n",
            "  inflating: sample_Signature/sample_Signature/forged/NFI-00301009.png  \n",
            "  inflating: sample_Signature/sample_Signature/forged/NFI-00301018.png  \n",
            "  inflating: sample_Signature/sample_Signature/forged/NFI-00302001.png  \n",
            "  inflating: sample_Signature/sample_Signature/forged/NFI-00302002.png  \n",
            "  inflating: sample_Signature/sample_Signature/forged/NFI-00302005.png  \n",
            "  inflating: sample_Signature/sample_Signature/forged/NFI-00302009.png  \n",
            "  inflating: sample_Signature/sample_Signature/forged/NFI-00302018.png  \n",
            "  inflating: sample_Signature/sample_Signature/forged/NFI-00303001.png  \n",
            "  inflating: sample_Signature/sample_Signature/forged/NFI-00303002.png  \n",
            "  inflating: sample_Signature/sample_Signature/forged/NFI-00303005.png  \n",
            "  inflating: sample_Signature/sample_Signature/forged/NFI-00303009.png  \n",
            "  inflating: sample_Signature/sample_Signature/forged/NFI-00303018.png  \n",
            "  inflating: sample_Signature/sample_Signature/forged/NFI-00304001.png  \n",
            "  inflating: sample_Signature/sample_Signature/forged/NFI-00304002.png  \n",
            "  inflating: sample_Signature/sample_Signature/forged/NFI-00304005.png  \n",
            "  inflating: sample_Signature/sample_Signature/forged/NFI-00304009.png  \n",
            "  inflating: sample_Signature/sample_Signature/forged/NFI-00304018.png  \n",
            "  inflating: sample_Signature/sample_Signature/forged/NFI-00305001.png  \n",
            "  inflating: sample_Signature/sample_Signature/forged/NFI-00305002.png  \n",
            "  inflating: sample_Signature/sample_Signature/forged/NFI-00305005.png  \n",
            "  inflating: sample_Signature/sample_Signature/forged/NFI-00305009.png  \n",
            "  inflating: sample_Signature/sample_Signature/forged/NFI-00305018.png  \n",
            "  inflating: sample_Signature/sample_Signature/forged/NFI-00401003.png  \n",
            "  inflating: sample_Signature/sample_Signature/forged/NFI-00401007.png  \n",
            "  inflating: sample_Signature/sample_Signature/forged/NFI-00401013.png  \n",
            "  inflating: sample_Signature/sample_Signature/forged/NFI-00401024.png  \n",
            "  inflating: sample_Signature/sample_Signature/forged/NFI-00402003.png  \n",
            "  inflating: sample_Signature/sample_Signature/forged/NFI-00402007.png  \n",
            "  inflating: sample_Signature/sample_Signature/forged/NFI-00402013.png  \n",
            "  inflating: sample_Signature/sample_Signature/forged/NFI-00402024.png  \n",
            "  inflating: sample_Signature/sample_Signature/forged/NFI-00403003.png  \n",
            "  inflating: sample_Signature/sample_Signature/forged/NFI-00403007.png  \n",
            "  inflating: sample_Signature/sample_Signature/forged/NFI-00403013.png  \n",
            "  inflating: sample_Signature/sample_Signature/forged/NFI-00403024.png  \n",
            "  inflating: sample_Signature/sample_Signature/forged/NFI-00404003.png  \n",
            "  inflating: sample_Signature/sample_Signature/forged/NFI-00404007.png  \n",
            "  inflating: sample_Signature/sample_Signature/forged/NFI-00404013.png  \n",
            "  inflating: sample_Signature/sample_Signature/forged/NFI-00404024.png  \n",
            "  inflating: sample_Signature/sample_Signature/forged/NFI-00405003.png  \n",
            "  inflating: sample_Signature/sample_Signature/forged/NFI-00405007.png  \n",
            "  inflating: sample_Signature/sample_Signature/forged/NFI-00405013.png  \n",
            "  inflating: sample_Signature/sample_Signature/forged/NFI-00405024.png  \n",
            "  inflating: sample_Signature/sample_Signature/forged/NFI-00501015.png  \n",
            "  inflating: sample_Signature/sample_Signature/forged/NFI-00501022.png  \n",
            "  inflating: sample_Signature/sample_Signature/forged/NFI-00502015.png  \n",
            "  inflating: sample_Signature/sample_Signature/forged/NFI-00502022.png  \n",
            "  inflating: sample_Signature/sample_Signature/forged/NFI-00503015.png  \n",
            "  inflating: sample_Signature/sample_Signature/forged/NFI-00503022.png  \n",
            "  inflating: sample_Signature/sample_Signature/forged/NFI-00504015.png  \n",
            "  inflating: sample_Signature/sample_Signature/forged/NFI-00504022.png  \n",
            "  inflating: sample_Signature/sample_Signature/forged/NFI-00505015.png  \n",
            "  inflating: sample_Signature/sample_Signature/forged/NFI-00505022.png  \n",
            "  inflating: sample_Signature/sample_Signature/forged/NFI-00701011.png  \n",
            "  inflating: sample_Signature/sample_Signature/forged/NFI-00701023.png  \n",
            "  inflating: sample_Signature/sample_Signature/forged/NFI-00702011.png  \n",
            "  inflating: sample_Signature/sample_Signature/forged/NFI-00702023.png  \n",
            "  inflating: sample_Signature/sample_Signature/forged/NFI-00703011.png  \n",
            "  inflating: sample_Signature/sample_Signature/forged/NFI-00703023.png  \n",
            "  inflating: sample_Signature/sample_Signature/forged/NFI-00704011.png  \n",
            "  inflating: sample_Signature/sample_Signature/forged/NFI-00704023.png  \n",
            "  inflating: sample_Signature/sample_Signature/forged/NFI-00705011.png  \n",
            "  inflating: sample_Signature/sample_Signature/forged/NFI-00705023.png  \n",
            "  inflating: sample_Signature/sample_Signature/forged/NFI-01101012.png  \n",
            "  inflating: sample_Signature/sample_Signature/forged/NFI-01101016.png  \n",
            "  inflating: sample_Signature/sample_Signature/forged/NFI-01102012.png  \n",
            "  inflating: sample_Signature/sample_Signature/forged/NFI-01102016.png  \n",
            "  inflating: sample_Signature/sample_Signature/forged/NFI-01103012.png  \n",
            "  inflating: sample_Signature/sample_Signature/forged/NFI-01103016.png  \n",
            "  inflating: sample_Signature/sample_Signature/forged/NFI-01104012.png  \n",
            "  inflating: sample_Signature/sample_Signature/forged/NFI-01104016.png  \n",
            "  inflating: sample_Signature/sample_Signature/forged/NFI-01105012.png  \n",
            "  inflating: sample_Signature/sample_Signature/forged/NFI-01105016.png  \n",
            "  inflating: sample_Signature/sample_Signature/forged/NFI-01201021.png  \n",
            "  inflating: sample_Signature/sample_Signature/forged/NFI-01202021.png  \n",
            "  inflating: sample_Signature/sample_Signature/forged/NFI-01203021.png  \n",
            "  inflating: sample_Signature/sample_Signature/forged/NFI-01204021.png  \n",
            "  inflating: sample_Signature/sample_Signature/forged/NFI-01205021.png  \n",
            "  inflating: sample_Signature/sample_Signature/forged/NFI-01301017.png  \n",
            "  inflating: sample_Signature/sample_Signature/forged/NFI-01302017.png  \n",
            "  inflating: sample_Signature/sample_Signature/forged/NFI-01303017.png  \n",
            "  inflating: sample_Signature/sample_Signature/forged/NFI-01304017.png  \n",
            "  inflating: sample_Signature/sample_Signature/forged/NFI-01305017.png  \n",
            "  inflating: sample_Signature/sample_Signature/forged/NFI-01701020.png  \n",
            "  inflating: sample_Signature/sample_Signature/forged/NFI-01702020.png  \n",
            "  inflating: sample_Signature/sample_Signature/forged/NFI-01703020.png  \n",
            "  inflating: sample_Signature/sample_Signature/forged/NFI-01704020.png  \n",
            "  inflating: sample_Signature/sample_Signature/forged/NFI-01705020.png  \n",
            "  inflating: sample_Signature/sample_Signature/forged/NFI-02301008.png  \n",
            "  inflating: sample_Signature/sample_Signature/forged/NFI-02303008.png  \n",
            "  inflating: sample_Signature/sample_Signature/forged/NFI-02304008.png  \n",
            "  inflating: sample_Signature/sample_Signature/forged/NFI-02305008.png  \n",
            "  inflating: sample_Signature/sample_Signature/forged/NFI-02306008.png  \n",
            "  inflating: sample_Signature/sample_Signature/forged/NFI-02501010.png  \n",
            "  inflating: sample_Signature/sample_Signature/forged/NFI-02502010.png  \n",
            "  inflating: sample_Signature/sample_Signature/forged/NFI-02503010.png  \n",
            "  inflating: sample_Signature/sample_Signature/forged/NFI-02504010.png  \n",
            "  inflating: sample_Signature/sample_Signature/forged/NFI-02505009.png  \n",
            "  inflating: sample_Signature/sample_Signature/forged/NFI-03301006.png  \n",
            "  inflating: sample_Signature/sample_Signature/forged/NFI-03302006.png  \n",
            "  inflating: sample_Signature/sample_Signature/forged/NFI-03303006.png  \n",
            "  inflating: sample_Signature/sample_Signature/forged/NFI-03304006.png  \n",
            "  inflating: sample_Signature/sample_Signature/forged/NFI-03305006.png  \n",
            "  inflating: sample_Signature/sample_Signature/forged/NFI-08801004.png  \n",
            "  inflating: sample_Signature/sample_Signature/forged/NFI-08802004.png  \n",
            "  inflating: sample_Signature/sample_Signature/forged/NFI-08803004.png  \n",
            "  inflating: sample_Signature/sample_Signature/forged/NFI-08804004.png  \n",
            "  inflating: sample_Signature/sample_Signature/forged/NFI-08805004.png  \n",
            "  inflating: sample_Signature/sample_Signature/genuine/NFI-00101001.png  \n",
            "  inflating: sample_Signature/sample_Signature/genuine/NFI-00102001.png  \n",
            "  inflating: sample_Signature/sample_Signature/genuine/NFI-00103001.png  \n",
            "  inflating: sample_Signature/sample_Signature/genuine/NFI-00104001.png  \n",
            "  inflating: sample_Signature/sample_Signature/genuine/NFI-00105001.png  \n",
            "  inflating: sample_Signature/sample_Signature/genuine/NFI-00201002.png  \n",
            "  inflating: sample_Signature/sample_Signature/genuine/NFI-00202002.png  \n",
            "  inflating: sample_Signature/sample_Signature/genuine/NFI-00203002.png  \n",
            "  inflating: sample_Signature/sample_Signature/genuine/NFI-00204002.png  \n",
            "  inflating: sample_Signature/sample_Signature/genuine/NFI-00205002.png  \n",
            "  inflating: sample_Signature/sample_Signature/genuine/NFI-00301003.png  \n",
            "  inflating: sample_Signature/sample_Signature/genuine/NFI-00302003.png  \n",
            "  inflating: sample_Signature/sample_Signature/genuine/NFI-00303003.png  \n",
            "  inflating: sample_Signature/sample_Signature/genuine/NFI-00304003.png  \n",
            "  inflating: sample_Signature/sample_Signature/genuine/NFI-00305003.png  \n",
            "  inflating: sample_Signature/sample_Signature/genuine/NFI-00401004.png  \n",
            "  inflating: sample_Signature/sample_Signature/genuine/NFI-00402004.png  \n",
            "  inflating: sample_Signature/sample_Signature/genuine/NFI-00403004.png  \n",
            "  inflating: sample_Signature/sample_Signature/genuine/NFI-00404004.png  \n",
            "  inflating: sample_Signature/sample_Signature/genuine/NFI-00405004.png  \n",
            "  inflating: sample_Signature/sample_Signature/genuine/NFI-00501005.png  \n",
            "  inflating: sample_Signature/sample_Signature/genuine/NFI-00502005.png  \n",
            "  inflating: sample_Signature/sample_Signature/genuine/NFI-00503005.png  \n",
            "  inflating: sample_Signature/sample_Signature/genuine/NFI-00504005.png  \n",
            "  inflating: sample_Signature/sample_Signature/genuine/NFI-00505005.png  \n",
            "  inflating: sample_Signature/sample_Signature/genuine/NFI-00601006.png  \n",
            "  inflating: sample_Signature/sample_Signature/genuine/NFI-00602006.png  \n",
            "  inflating: sample_Signature/sample_Signature/genuine/NFI-00603006.png  \n",
            "  inflating: sample_Signature/sample_Signature/genuine/NFI-00604006.png  \n",
            "  inflating: sample_Signature/sample_Signature/genuine/NFI-00605006.png  \n",
            "  inflating: sample_Signature/sample_Signature/genuine/NFI-00701007.png  \n",
            "  inflating: sample_Signature/sample_Signature/genuine/NFI-00702007.png  \n",
            "  inflating: sample_Signature/sample_Signature/genuine/NFI-00703007.png  \n",
            "  inflating: sample_Signature/sample_Signature/genuine/NFI-00704007.png  \n",
            "  inflating: sample_Signature/sample_Signature/genuine/NFI-00705007.png  \n",
            "  inflating: sample_Signature/sample_Signature/genuine/NFI-00801008.png  \n",
            "  inflating: sample_Signature/sample_Signature/genuine/NFI-00802008.png  \n",
            "  inflating: sample_Signature/sample_Signature/genuine/NFI-00803008.png  \n",
            "  inflating: sample_Signature/sample_Signature/genuine/NFI-00804008.png  \n",
            "  inflating: sample_Signature/sample_Signature/genuine/NFI-00805008.png  \n",
            "  inflating: sample_Signature/sample_Signature/genuine/NFI-00901009.png  \n",
            "  inflating: sample_Signature/sample_Signature/genuine/NFI-00902009.png  \n",
            "  inflating: sample_Signature/sample_Signature/genuine/NFI-00903009.png  \n",
            "  inflating: sample_Signature/sample_Signature/genuine/NFI-00904009.png  \n",
            "  inflating: sample_Signature/sample_Signature/genuine/NFI-00905009.png  \n",
            "  inflating: sample_Signature/sample_Signature/genuine/NFI-01001010.png  \n",
            "  inflating: sample_Signature/sample_Signature/genuine/NFI-01002010.png  \n",
            "  inflating: sample_Signature/sample_Signature/genuine/NFI-01003010.png  \n",
            "  inflating: sample_Signature/sample_Signature/genuine/NFI-01004010.png  \n",
            "  inflating: sample_Signature/sample_Signature/genuine/NFI-01005010.png  \n",
            "  inflating: sample_Signature/sample_Signature/genuine/NFI-01101011.png  \n",
            "  inflating: sample_Signature/sample_Signature/genuine/NFI-01102011.png  \n",
            "  inflating: sample_Signature/sample_Signature/genuine/NFI-01103011.png  \n",
            "  inflating: sample_Signature/sample_Signature/genuine/NFI-01104011.png  \n",
            "  inflating: sample_Signature/sample_Signature/genuine/NFI-01105011.png  \n",
            "  inflating: sample_Signature/sample_Signature/genuine/NFI-01201012.png  \n",
            "  inflating: sample_Signature/sample_Signature/genuine/NFI-01202012.png  \n",
            "  inflating: sample_Signature/sample_Signature/genuine/NFI-01203012.png  \n",
            "  inflating: sample_Signature/sample_Signature/genuine/NFI-01204012.png  \n",
            "  inflating: sample_Signature/sample_Signature/genuine/NFI-01205012.png  \n",
            "  inflating: sample_Signature/sample_Signature/genuine/NFI-01301013.png  \n",
            "  inflating: sample_Signature/sample_Signature/genuine/NFI-01302013.png  \n",
            "  inflating: sample_Signature/sample_Signature/genuine/NFI-01303013.png  \n",
            "  inflating: sample_Signature/sample_Signature/genuine/NFI-01304013.png  \n",
            "  inflating: sample_Signature/sample_Signature/genuine/NFI-01305013.png  \n",
            "  inflating: sample_Signature/sample_Signature/genuine/NFI-01401014.png  \n",
            "  inflating: sample_Signature/sample_Signature/genuine/NFI-01402014.png  \n",
            "  inflating: sample_Signature/sample_Signature/genuine/NFI-01403014.png  \n",
            "  inflating: sample_Signature/sample_Signature/genuine/NFI-01404014.png  \n",
            "  inflating: sample_Signature/sample_Signature/genuine/NFI-01405014.png  \n",
            "  inflating: sample_Signature/sample_Signature/genuine/NFI-01501015.png  \n",
            "  inflating: sample_Signature/sample_Signature/genuine/NFI-01502015.png  \n",
            "  inflating: sample_Signature/sample_Signature/genuine/NFI-01503015.png  \n",
            "  inflating: sample_Signature/sample_Signature/genuine/NFI-01504015.png  \n",
            "  inflating: sample_Signature/sample_Signature/genuine/NFI-01505015.png  \n",
            "  inflating: sample_Signature/sample_Signature/genuine/NFI-01601016.png  \n",
            "  inflating: sample_Signature/sample_Signature/genuine/NFI-01602016.png  \n",
            "  inflating: sample_Signature/sample_Signature/genuine/NFI-01603016.png  \n",
            "  inflating: sample_Signature/sample_Signature/genuine/NFI-01604016.png  \n",
            "  inflating: sample_Signature/sample_Signature/genuine/NFI-01605016.png  \n",
            "  inflating: sample_Signature/sample_Signature/genuine/NFI-01701017.png  \n",
            "  inflating: sample_Signature/sample_Signature/genuine/NFI-01702017.png  \n",
            "  inflating: sample_Signature/sample_Signature/genuine/NFI-01703017.png  \n",
            "  inflating: sample_Signature/sample_Signature/genuine/NFI-01704017.png  \n",
            "  inflating: sample_Signature/sample_Signature/genuine/NFI-01705017.png  \n",
            "  inflating: sample_Signature/sample_Signature/genuine/NFI-01801018.png  \n",
            "  inflating: sample_Signature/sample_Signature/genuine/NFI-01802018.png  \n",
            "  inflating: sample_Signature/sample_Signature/genuine/NFI-01803018.png  \n",
            "  inflating: sample_Signature/sample_Signature/genuine/NFI-01804018.png  \n",
            "  inflating: sample_Signature/sample_Signature/genuine/NFI-01805018.png  \n",
            "  inflating: sample_Signature/sample_Signature/genuine/NFI-01901019.png  \n",
            "  inflating: sample_Signature/sample_Signature/genuine/NFI-01902019.png  \n",
            "  inflating: sample_Signature/sample_Signature/genuine/NFI-01903019.png  \n",
            "  inflating: sample_Signature/sample_Signature/genuine/NFI-01904019.png  \n",
            "  inflating: sample_Signature/sample_Signature/genuine/NFI-01905019.png  \n",
            "  inflating: sample_Signature/sample_Signature/genuine/NFI-02001020.png  \n",
            "  inflating: sample_Signature/sample_Signature/genuine/NFI-02002020.png  \n",
            "  inflating: sample_Signature/sample_Signature/genuine/NFI-02003020.png  \n",
            "  inflating: sample_Signature/sample_Signature/genuine/NFI-02004020.png  \n",
            "  inflating: sample_Signature/sample_Signature/genuine/NFI-02005020.png  \n",
            "  inflating: sample_Signature/sample_Signature/genuine/NFI-02101021.png  \n",
            "  inflating: sample_Signature/sample_Signature/genuine/NFI-02102021.png  \n",
            "  inflating: sample_Signature/sample_Signature/genuine/NFI-02103021.png  \n",
            "  inflating: sample_Signature/sample_Signature/genuine/NFI-02104021.png  \n",
            "  inflating: sample_Signature/sample_Signature/genuine/NFI-02105021.png  \n",
            "  inflating: sample_Signature/sample_Signature/genuine/NFI-02201022.png  \n",
            "  inflating: sample_Signature/sample_Signature/genuine/NFI-02202022.png  \n",
            "  inflating: sample_Signature/sample_Signature/genuine/NFI-02203022.png  \n",
            "  inflating: sample_Signature/sample_Signature/genuine/NFI-02204022.png  \n",
            "  inflating: sample_Signature/sample_Signature/genuine/NFI-02205022.png  \n",
            "  inflating: sample_Signature/sample_Signature/genuine/NFI-02301023.png  \n",
            "  inflating: sample_Signature/sample_Signature/genuine/NFI-02302023.png  \n",
            "  inflating: sample_Signature/sample_Signature/genuine/NFI-02303023.png  \n",
            "  inflating: sample_Signature/sample_Signature/genuine/NFI-02304023.png  \n",
            "  inflating: sample_Signature/sample_Signature/genuine/NFI-02305023.png  \n",
            "  inflating: sample_Signature/sample_Signature/genuine/NFI-02401024.png  \n",
            "  inflating: sample_Signature/sample_Signature/genuine/NFI-02402024.png  \n",
            "  inflating: sample_Signature/sample_Signature/genuine/NFI-02403024.png  \n",
            "  inflating: sample_Signature/sample_Signature/genuine/NFI-02404024.png  \n",
            "  inflating: sample_Signature/sample_Signature/genuine/NFI-02405024.png  \n",
            "  inflating: sample_Signature/sample_Signature/genuine/NFI-02501025.PNG  \n",
            "  inflating: sample_Signature/sample_Signature/genuine/NFI-02502025.PNG  \n",
            "  inflating: sample_Signature/sample_Signature/genuine/NFI-02503025.PNG  \n",
            "  inflating: sample_Signature/sample_Signature/genuine/NFI-02504025.PNG  \n",
            "  inflating: sample_Signature/sample_Signature/genuine/NFI-02505025.PNG  \n",
            "  inflating: sample_Signature/sample_Signature/genuine/NFI-02601026.PNG  \n",
            "  inflating: sample_Signature/sample_Signature/genuine/NFI-02602026.PNG  \n",
            "  inflating: sample_Signature/sample_Signature/genuine/NFI-02603026.PNG  \n",
            "  inflating: sample_Signature/sample_Signature/genuine/NFI-02604026.PNG  \n",
            "  inflating: sample_Signature/sample_Signature/genuine/NFI-02605026.PNG  \n",
            "  inflating: sample_Signature/sample_Signature/genuine/NFI-02701027.PNG  \n",
            "  inflating: sample_Signature/sample_Signature/genuine/NFI-02702027.PNG  \n",
            "  inflating: sample_Signature/sample_Signature/genuine/NFI-02703027.PNG  \n",
            "  inflating: sample_Signature/sample_Signature/genuine/NFI-02704027.PNG  \n",
            "  inflating: sample_Signature/sample_Signature/genuine/NFI-02705027.PNG  \n",
            "  inflating: sample_Signature/sample_Signature/genuine/NFI-02801028.PNG  \n",
            "  inflating: sample_Signature/sample_Signature/genuine/NFI-02802028.PNG  \n",
            "  inflating: sample_Signature/sample_Signature/genuine/NFI-02803028.PNG  \n",
            "  inflating: sample_Signature/sample_Signature/genuine/NFI-02804028.PNG  \n",
            "  inflating: sample_Signature/sample_Signature/genuine/NFI-02805028.PNG  \n",
            "  inflating: sample_Signature/sample_Signature/genuine/NFI-02901029.PNG  \n",
            "  inflating: sample_Signature/sample_Signature/genuine/NFI-02902029.PNG  \n",
            "  inflating: sample_Signature/sample_Signature/genuine/NFI-02903029.PNG  \n",
            "  inflating: sample_Signature/sample_Signature/genuine/NFI-02904029.PNG  \n",
            "  inflating: sample_Signature/sample_Signature/genuine/NFI-02905029.PNG  \n",
            "  inflating: sample_Signature/sample_Signature/genuine/NFI-03001030.PNG  \n",
            "  inflating: sample_Signature/sample_Signature/genuine/NFI-03002030.PNG  \n",
            "  inflating: sample_Signature/sample_Signature/genuine/NFI-03003030.PNG  \n",
            "  inflating: sample_Signature/sample_Signature/genuine/NFI-03004030.PNG  \n",
            "  inflating: sample_Signature/sample_Signature/genuine/NFI-03005030.PNG  \n",
            "  inflating: sample_signature/sample_Signature/README.txt.txt  \n",
            "  inflating: sample_signature/sample_Signature/forged/NFI-00101014.png  \n",
            "  inflating: sample_signature/sample_Signature/forged/NFI-00101019.png  \n",
            "  inflating: sample_signature/sample_Signature/forged/NFI-00101025.PNG  \n",
            "  inflating: sample_signature/sample_Signature/forged/NFI-00101026.PNG  \n",
            "  inflating: sample_signature/sample_Signature/forged/NFI-00101027.PNG  \n",
            "  inflating: sample_signature/sample_Signature/forged/NFI-00101028.PNG  \n",
            "  inflating: sample_signature/sample_Signature/forged/NFI-00101029.PNG  \n",
            "  inflating: sample_signature/sample_Signature/forged/NFI-00101030.PNG  \n",
            "  inflating: sample_signature/sample_Signature/forged/NFI-00102014.png  \n",
            "  inflating: sample_signature/sample_Signature/forged/NFI-00102019.png  \n",
            "  inflating: sample_signature/sample_Signature/forged/NFI-00102025.PNG  \n",
            "  inflating: sample_signature/sample_Signature/forged/NFI-00102026.PNG  \n",
            "  inflating: sample_signature/sample_Signature/forged/NFI-00102027.PNG  \n",
            "  inflating: sample_signature/sample_Signature/forged/NFI-00102028.PNG  \n",
            "  inflating: sample_signature/sample_Signature/forged/NFI-00102029.PNG  \n",
            "  inflating: sample_signature/sample_Signature/forged/NFI-00102030.PNG  \n",
            "  inflating: sample_signature/sample_Signature/forged/NFI-00103014.png  \n",
            "  inflating: sample_signature/sample_Signature/forged/NFI-00103019.png  \n",
            "  inflating: sample_signature/sample_Signature/forged/NFI-00103025.PNG  \n",
            "  inflating: sample_signature/sample_Signature/forged/NFI-00103026.PNG  \n",
            "  inflating: sample_signature/sample_Signature/forged/NFI-00103027.PNG  \n",
            "  inflating: sample_signature/sample_Signature/forged/NFI-00103028.PNG  \n",
            "  inflating: sample_signature/sample_Signature/forged/NFI-00103029.PNG  \n",
            "  inflating: sample_signature/sample_Signature/forged/NFI-00103030.PNG  \n",
            "  inflating: sample_signature/sample_Signature/forged/NFI-00104014.png  \n",
            "  inflating: sample_signature/sample_Signature/forged/NFI-00104019.png  \n",
            "  inflating: sample_signature/sample_Signature/forged/NFI-00104025.PNG  \n",
            "  inflating: sample_signature/sample_Signature/forged/NFI-00104026.PNG  \n",
            "  inflating: sample_signature/sample_Signature/forged/NFI-00104027.PNG  \n",
            "  inflating: sample_signature/sample_Signature/forged/NFI-00104028.PNG  \n",
            "  inflating: sample_signature/sample_Signature/forged/NFI-00104029.PNG  \n",
            "  inflating: sample_signature/sample_Signature/forged/NFI-00104030.PNG  \n",
            "  inflating: sample_signature/sample_Signature/forged/NFI-00105014.png  \n",
            "  inflating: sample_signature/sample_Signature/forged/NFI-00105019.png  \n",
            "  inflating: sample_signature/sample_Signature/forged/NFI-00105025.PNG  \n",
            "  inflating: sample_signature/sample_Signature/forged/NFI-00105026.PNG  \n",
            "  inflating: sample_signature/sample_Signature/forged/NFI-00105027.PNG  \n",
            "  inflating: sample_signature/sample_Signature/forged/NFI-00105028.PNG  \n",
            "  inflating: sample_signature/sample_Signature/forged/NFI-00105029.PNG  \n",
            "  inflating: sample_signature/sample_Signature/forged/NFI-00105030.PNG  \n",
            "  inflating: sample_signature/sample_Signature/forged/NFI-00301001.png  \n",
            "  inflating: sample_signature/sample_Signature/forged/NFI-00301002.png  \n",
            "  inflating: sample_signature/sample_Signature/forged/NFI-00301005.png  \n",
            "  inflating: sample_signature/sample_Signature/forged/NFI-00301009.png  \n",
            "  inflating: sample_signature/sample_Signature/forged/NFI-00301018.png  \n",
            "  inflating: sample_signature/sample_Signature/forged/NFI-00302001.png  \n",
            "  inflating: sample_signature/sample_Signature/forged/NFI-00302002.png  \n",
            "  inflating: sample_signature/sample_Signature/forged/NFI-00302005.png  \n",
            "  inflating: sample_signature/sample_Signature/forged/NFI-00302009.png  \n",
            "  inflating: sample_signature/sample_Signature/forged/NFI-00302018.png  \n",
            "  inflating: sample_signature/sample_Signature/forged/NFI-00303001.png  \n",
            "  inflating: sample_signature/sample_Signature/forged/NFI-00303002.png  \n",
            "  inflating: sample_signature/sample_Signature/forged/NFI-00303005.png  \n",
            "  inflating: sample_signature/sample_Signature/forged/NFI-00303009.png  \n",
            "  inflating: sample_signature/sample_Signature/forged/NFI-00303018.png  \n",
            "  inflating: sample_signature/sample_Signature/forged/NFI-00304001.png  \n",
            "  inflating: sample_signature/sample_Signature/forged/NFI-00304002.png  \n",
            "  inflating: sample_signature/sample_Signature/forged/NFI-00304005.png  \n",
            "  inflating: sample_signature/sample_Signature/forged/NFI-00304009.png  \n",
            "  inflating: sample_signature/sample_Signature/forged/NFI-00304018.png  \n",
            "  inflating: sample_signature/sample_Signature/forged/NFI-00305001.png  \n",
            "  inflating: sample_signature/sample_Signature/forged/NFI-00305002.png  \n",
            "  inflating: sample_signature/sample_Signature/forged/NFI-00305005.png  \n",
            "  inflating: sample_signature/sample_Signature/forged/NFI-00305009.png  \n",
            "  inflating: sample_signature/sample_Signature/forged/NFI-00305018.png  \n",
            "  inflating: sample_signature/sample_Signature/forged/NFI-00401003.png  \n",
            "  inflating: sample_signature/sample_Signature/forged/NFI-00401007.png  \n",
            "  inflating: sample_signature/sample_Signature/forged/NFI-00401013.png  \n",
            "  inflating: sample_signature/sample_Signature/forged/NFI-00401024.png  \n",
            "  inflating: sample_signature/sample_Signature/forged/NFI-00402003.png  \n",
            "  inflating: sample_signature/sample_Signature/forged/NFI-00402007.png  \n",
            "  inflating: sample_signature/sample_Signature/forged/NFI-00402013.png  \n",
            "  inflating: sample_signature/sample_Signature/forged/NFI-00402024.png  \n",
            "  inflating: sample_signature/sample_Signature/forged/NFI-00403003.png  \n",
            "  inflating: sample_signature/sample_Signature/forged/NFI-00403007.png  \n",
            "  inflating: sample_signature/sample_Signature/forged/NFI-00403013.png  \n",
            "  inflating: sample_signature/sample_Signature/forged/NFI-00403024.png  \n",
            "  inflating: sample_signature/sample_Signature/forged/NFI-00404003.png  \n",
            "  inflating: sample_signature/sample_Signature/forged/NFI-00404007.png  \n",
            "  inflating: sample_signature/sample_Signature/forged/NFI-00404013.png  \n",
            "  inflating: sample_signature/sample_Signature/forged/NFI-00404024.png  \n",
            "  inflating: sample_signature/sample_Signature/forged/NFI-00405003.png  \n",
            "  inflating: sample_signature/sample_Signature/forged/NFI-00405007.png  \n",
            "  inflating: sample_signature/sample_Signature/forged/NFI-00405013.png  \n",
            "  inflating: sample_signature/sample_Signature/forged/NFI-00405024.png  \n",
            "  inflating: sample_signature/sample_Signature/forged/NFI-00501015.png  \n",
            "  inflating: sample_signature/sample_Signature/forged/NFI-00501022.png  \n",
            "  inflating: sample_signature/sample_Signature/forged/NFI-00502015.png  \n",
            "  inflating: sample_signature/sample_Signature/forged/NFI-00502022.png  \n",
            "  inflating: sample_signature/sample_Signature/forged/NFI-00503015.png  \n",
            "  inflating: sample_signature/sample_Signature/forged/NFI-00503022.png  \n",
            "  inflating: sample_signature/sample_Signature/forged/NFI-00504015.png  \n",
            "  inflating: sample_signature/sample_Signature/forged/NFI-00504022.png  \n",
            "  inflating: sample_signature/sample_Signature/forged/NFI-00505015.png  \n",
            "  inflating: sample_signature/sample_Signature/forged/NFI-00505022.png  \n",
            "  inflating: sample_signature/sample_Signature/forged/NFI-00701011.png  \n",
            "  inflating: sample_signature/sample_Signature/forged/NFI-00701023.png  \n",
            "  inflating: sample_signature/sample_Signature/forged/NFI-00702011.png  \n",
            "  inflating: sample_signature/sample_Signature/forged/NFI-00702023.png  \n",
            "  inflating: sample_signature/sample_Signature/forged/NFI-00703011.png  \n",
            "  inflating: sample_signature/sample_Signature/forged/NFI-00703023.png  \n",
            "  inflating: sample_signature/sample_Signature/forged/NFI-00704011.png  \n",
            "  inflating: sample_signature/sample_Signature/forged/NFI-00704023.png  \n",
            "  inflating: sample_signature/sample_Signature/forged/NFI-00705011.png  \n",
            "  inflating: sample_signature/sample_Signature/forged/NFI-00705023.png  \n",
            "  inflating: sample_signature/sample_Signature/forged/NFI-01101012.png  \n",
            "  inflating: sample_signature/sample_Signature/forged/NFI-01101016.png  \n",
            "  inflating: sample_signature/sample_Signature/forged/NFI-01102012.png  \n",
            "  inflating: sample_signature/sample_Signature/forged/NFI-01102016.png  \n",
            "  inflating: sample_signature/sample_Signature/forged/NFI-01103012.png  \n",
            "  inflating: sample_signature/sample_Signature/forged/NFI-01103016.png  \n",
            "  inflating: sample_signature/sample_Signature/forged/NFI-01104012.png  \n",
            "  inflating: sample_signature/sample_Signature/forged/NFI-01104016.png  \n",
            "  inflating: sample_signature/sample_Signature/forged/NFI-01105012.png  \n",
            "  inflating: sample_signature/sample_Signature/forged/NFI-01105016.png  \n",
            "  inflating: sample_signature/sample_Signature/forged/NFI-01201021.png  \n",
            "  inflating: sample_signature/sample_Signature/forged/NFI-01202021.png  \n",
            "  inflating: sample_signature/sample_Signature/forged/NFI-01203021.png  \n",
            "  inflating: sample_signature/sample_Signature/forged/NFI-01204021.png  \n",
            "  inflating: sample_signature/sample_Signature/forged/NFI-01205021.png  \n",
            "  inflating: sample_signature/sample_Signature/forged/NFI-01301017.png  \n",
            "  inflating: sample_signature/sample_Signature/forged/NFI-01302017.png  \n",
            "  inflating: sample_signature/sample_Signature/forged/NFI-01303017.png  \n",
            "  inflating: sample_signature/sample_Signature/forged/NFI-01304017.png  \n",
            "  inflating: sample_signature/sample_Signature/forged/NFI-01305017.png  \n",
            "  inflating: sample_signature/sample_Signature/forged/NFI-01701020.png  \n",
            "  inflating: sample_signature/sample_Signature/forged/NFI-01702020.png  \n",
            "  inflating: sample_signature/sample_Signature/forged/NFI-01703020.png  \n",
            "  inflating: sample_signature/sample_Signature/forged/NFI-01704020.png  \n",
            "  inflating: sample_signature/sample_Signature/forged/NFI-01705020.png  \n",
            "  inflating: sample_signature/sample_Signature/forged/NFI-02301008.png  \n",
            "  inflating: sample_signature/sample_Signature/forged/NFI-02303008.png  \n",
            "  inflating: sample_signature/sample_Signature/forged/NFI-02304008.png  \n",
            "  inflating: sample_signature/sample_Signature/forged/NFI-02305008.png  \n",
            "  inflating: sample_signature/sample_Signature/forged/NFI-02306008.png  \n",
            "  inflating: sample_signature/sample_Signature/forged/NFI-02501010.png  \n",
            "  inflating: sample_signature/sample_Signature/forged/NFI-02502010.png  \n",
            "  inflating: sample_signature/sample_Signature/forged/NFI-02503010.png  \n",
            "  inflating: sample_signature/sample_Signature/forged/NFI-02504010.png  \n",
            "  inflating: sample_signature/sample_Signature/forged/NFI-02505009.png  \n",
            "  inflating: sample_signature/sample_Signature/forged/NFI-03301006.png  \n",
            "  inflating: sample_signature/sample_Signature/forged/NFI-03302006.png  \n",
            "  inflating: sample_signature/sample_Signature/forged/NFI-03303006.png  \n",
            "  inflating: sample_signature/sample_Signature/forged/NFI-03304006.png  \n",
            "  inflating: sample_signature/sample_Signature/forged/NFI-03305006.png  \n",
            "  inflating: sample_signature/sample_Signature/forged/NFI-08801004.png  \n",
            "  inflating: sample_signature/sample_Signature/forged/NFI-08802004.png  \n",
            "  inflating: sample_signature/sample_Signature/forged/NFI-08803004.png  \n",
            "  inflating: sample_signature/sample_Signature/forged/NFI-08804004.png  \n",
            "  inflating: sample_signature/sample_Signature/forged/NFI-08805004.png  \n",
            "  inflating: sample_signature/sample_Signature/genuine/NFI-00101001.png  \n",
            "  inflating: sample_signature/sample_Signature/genuine/NFI-00102001.png  \n",
            "  inflating: sample_signature/sample_Signature/genuine/NFI-00103001.png  \n",
            "  inflating: sample_signature/sample_Signature/genuine/NFI-00104001.png  \n",
            "  inflating: sample_signature/sample_Signature/genuine/NFI-00105001.png  \n",
            "  inflating: sample_signature/sample_Signature/genuine/NFI-00201002.png  \n",
            "  inflating: sample_signature/sample_Signature/genuine/NFI-00202002.png  \n",
            "  inflating: sample_signature/sample_Signature/genuine/NFI-00203002.png  \n",
            "  inflating: sample_signature/sample_Signature/genuine/NFI-00204002.png  \n",
            "  inflating: sample_signature/sample_Signature/genuine/NFI-00205002.png  \n",
            "  inflating: sample_signature/sample_Signature/genuine/NFI-00301003.png  \n",
            "  inflating: sample_signature/sample_Signature/genuine/NFI-00302003.png  \n",
            "  inflating: sample_signature/sample_Signature/genuine/NFI-00303003.png  \n",
            "  inflating: sample_signature/sample_Signature/genuine/NFI-00304003.png  \n",
            "  inflating: sample_signature/sample_Signature/genuine/NFI-00305003.png  \n",
            "  inflating: sample_signature/sample_Signature/genuine/NFI-00401004.png  \n",
            "  inflating: sample_signature/sample_Signature/genuine/NFI-00402004.png  \n",
            "  inflating: sample_signature/sample_Signature/genuine/NFI-00403004.png  \n",
            "  inflating: sample_signature/sample_Signature/genuine/NFI-00404004.png  \n",
            "  inflating: sample_signature/sample_Signature/genuine/NFI-00405004.png  \n",
            "  inflating: sample_signature/sample_Signature/genuine/NFI-00501005.png  \n",
            "  inflating: sample_signature/sample_Signature/genuine/NFI-00502005.png  \n",
            "  inflating: sample_signature/sample_Signature/genuine/NFI-00503005.png  \n",
            "  inflating: sample_signature/sample_Signature/genuine/NFI-00504005.png  \n",
            "  inflating: sample_signature/sample_Signature/genuine/NFI-00505005.png  \n",
            "  inflating: sample_signature/sample_Signature/genuine/NFI-00601006.png  \n",
            "  inflating: sample_signature/sample_Signature/genuine/NFI-00602006.png  \n",
            "  inflating: sample_signature/sample_Signature/genuine/NFI-00603006.png  \n",
            "  inflating: sample_signature/sample_Signature/genuine/NFI-00604006.png  \n",
            "  inflating: sample_signature/sample_Signature/genuine/NFI-00605006.png  \n",
            "  inflating: sample_signature/sample_Signature/genuine/NFI-00701007.png  \n",
            "  inflating: sample_signature/sample_Signature/genuine/NFI-00702007.png  \n",
            "  inflating: sample_signature/sample_Signature/genuine/NFI-00703007.png  \n",
            "  inflating: sample_signature/sample_Signature/genuine/NFI-00704007.png  \n",
            "  inflating: sample_signature/sample_Signature/genuine/NFI-00705007.png  \n",
            "  inflating: sample_signature/sample_Signature/genuine/NFI-00801008.png  \n",
            "  inflating: sample_signature/sample_Signature/genuine/NFI-00802008.png  \n",
            "  inflating: sample_signature/sample_Signature/genuine/NFI-00803008.png  \n",
            "  inflating: sample_signature/sample_Signature/genuine/NFI-00804008.png  \n",
            "  inflating: sample_signature/sample_Signature/genuine/NFI-00805008.png  \n",
            "  inflating: sample_signature/sample_Signature/genuine/NFI-00901009.png  \n",
            "  inflating: sample_signature/sample_Signature/genuine/NFI-00902009.png  \n",
            "  inflating: sample_signature/sample_Signature/genuine/NFI-00903009.png  \n",
            "  inflating: sample_signature/sample_Signature/genuine/NFI-00904009.png  \n",
            "  inflating: sample_signature/sample_Signature/genuine/NFI-00905009.png  \n",
            "  inflating: sample_signature/sample_Signature/genuine/NFI-01001010.png  \n",
            "  inflating: sample_signature/sample_Signature/genuine/NFI-01002010.png  \n",
            "  inflating: sample_signature/sample_Signature/genuine/NFI-01003010.png  \n",
            "  inflating: sample_signature/sample_Signature/genuine/NFI-01004010.png  \n",
            "  inflating: sample_signature/sample_Signature/genuine/NFI-01005010.png  \n",
            "  inflating: sample_signature/sample_Signature/genuine/NFI-01101011.png  \n",
            "  inflating: sample_signature/sample_Signature/genuine/NFI-01102011.png  \n",
            "  inflating: sample_signature/sample_Signature/genuine/NFI-01103011.png  \n",
            "  inflating: sample_signature/sample_Signature/genuine/NFI-01104011.png  \n",
            "  inflating: sample_signature/sample_Signature/genuine/NFI-01105011.png  \n",
            "  inflating: sample_signature/sample_Signature/genuine/NFI-01201012.png  \n",
            "  inflating: sample_signature/sample_Signature/genuine/NFI-01202012.png  \n",
            "  inflating: sample_signature/sample_Signature/genuine/NFI-01203012.png  \n",
            "  inflating: sample_signature/sample_Signature/genuine/NFI-01204012.png  \n",
            "  inflating: sample_signature/sample_Signature/genuine/NFI-01205012.png  \n",
            "  inflating: sample_signature/sample_Signature/genuine/NFI-01301013.png  \n",
            "  inflating: sample_signature/sample_Signature/genuine/NFI-01302013.png  \n",
            "  inflating: sample_signature/sample_Signature/genuine/NFI-01303013.png  \n",
            "  inflating: sample_signature/sample_Signature/genuine/NFI-01304013.png  \n",
            "  inflating: sample_signature/sample_Signature/genuine/NFI-01305013.png  \n",
            "  inflating: sample_signature/sample_Signature/genuine/NFI-01401014.png  \n",
            "  inflating: sample_signature/sample_Signature/genuine/NFI-01402014.png  \n",
            "  inflating: sample_signature/sample_Signature/genuine/NFI-01403014.png  \n",
            "  inflating: sample_signature/sample_Signature/genuine/NFI-01404014.png  \n",
            "  inflating: sample_signature/sample_Signature/genuine/NFI-01405014.png  \n",
            "  inflating: sample_signature/sample_Signature/genuine/NFI-01501015.png  \n",
            "  inflating: sample_signature/sample_Signature/genuine/NFI-01502015.png  \n",
            "  inflating: sample_signature/sample_Signature/genuine/NFI-01503015.png  \n",
            "  inflating: sample_signature/sample_Signature/genuine/NFI-01504015.png  \n",
            "  inflating: sample_signature/sample_Signature/genuine/NFI-01505015.png  \n",
            "  inflating: sample_signature/sample_Signature/genuine/NFI-01601016.png  \n",
            "  inflating: sample_signature/sample_Signature/genuine/NFI-01602016.png  \n",
            "  inflating: sample_signature/sample_Signature/genuine/NFI-01603016.png  \n",
            "  inflating: sample_signature/sample_Signature/genuine/NFI-01604016.png  \n",
            "  inflating: sample_signature/sample_Signature/genuine/NFI-01605016.png  \n",
            "  inflating: sample_signature/sample_Signature/genuine/NFI-01701017.png  \n",
            "  inflating: sample_signature/sample_Signature/genuine/NFI-01702017.png  \n",
            "  inflating: sample_signature/sample_Signature/genuine/NFI-01703017.png  \n",
            "  inflating: sample_signature/sample_Signature/genuine/NFI-01704017.png  \n",
            "  inflating: sample_signature/sample_Signature/genuine/NFI-01705017.png  \n",
            "  inflating: sample_signature/sample_Signature/genuine/NFI-01801018.png  \n",
            "  inflating: sample_signature/sample_Signature/genuine/NFI-01802018.png  \n",
            "  inflating: sample_signature/sample_Signature/genuine/NFI-01803018.png  \n",
            "  inflating: sample_signature/sample_Signature/genuine/NFI-01804018.png  \n",
            "  inflating: sample_signature/sample_Signature/genuine/NFI-01805018.png  \n",
            "  inflating: sample_signature/sample_Signature/genuine/NFI-01901019.png  \n",
            "  inflating: sample_signature/sample_Signature/genuine/NFI-01902019.png  \n",
            "  inflating: sample_signature/sample_Signature/genuine/NFI-01903019.png  \n",
            "  inflating: sample_signature/sample_Signature/genuine/NFI-01904019.png  \n",
            "  inflating: sample_signature/sample_Signature/genuine/NFI-01905019.png  \n",
            "  inflating: sample_signature/sample_Signature/genuine/NFI-02001020.png  \n",
            "  inflating: sample_signature/sample_Signature/genuine/NFI-02002020.png  \n",
            "  inflating: sample_signature/sample_Signature/genuine/NFI-02003020.png  \n",
            "  inflating: sample_signature/sample_Signature/genuine/NFI-02004020.png  \n",
            "  inflating: sample_signature/sample_Signature/genuine/NFI-02005020.png  \n",
            "  inflating: sample_signature/sample_Signature/genuine/NFI-02101021.png  \n",
            "  inflating: sample_signature/sample_Signature/genuine/NFI-02102021.png  \n",
            "  inflating: sample_signature/sample_Signature/genuine/NFI-02103021.png  \n",
            "  inflating: sample_signature/sample_Signature/genuine/NFI-02104021.png  \n",
            "  inflating: sample_signature/sample_Signature/genuine/NFI-02105021.png  \n",
            "  inflating: sample_signature/sample_Signature/genuine/NFI-02201022.png  \n",
            "  inflating: sample_signature/sample_Signature/genuine/NFI-02202022.png  \n",
            "  inflating: sample_signature/sample_Signature/genuine/NFI-02203022.png  \n",
            "  inflating: sample_signature/sample_Signature/genuine/NFI-02204022.png  \n",
            "  inflating: sample_signature/sample_Signature/genuine/NFI-02205022.png  \n",
            "  inflating: sample_signature/sample_Signature/genuine/NFI-02301023.png  \n",
            "  inflating: sample_signature/sample_Signature/genuine/NFI-02302023.png  \n",
            "  inflating: sample_signature/sample_Signature/genuine/NFI-02303023.png  \n",
            "  inflating: sample_signature/sample_Signature/genuine/NFI-02304023.png  \n",
            "  inflating: sample_signature/sample_Signature/genuine/NFI-02305023.png  \n",
            "  inflating: sample_signature/sample_Signature/genuine/NFI-02401024.png  \n",
            "  inflating: sample_signature/sample_Signature/genuine/NFI-02402024.png  \n",
            "  inflating: sample_signature/sample_Signature/genuine/NFI-02403024.png  \n",
            "  inflating: sample_signature/sample_Signature/genuine/NFI-02404024.png  \n",
            "  inflating: sample_signature/sample_Signature/genuine/NFI-02405024.png  \n",
            "  inflating: sample_signature/sample_Signature/genuine/NFI-02501025.PNG  \n",
            "  inflating: sample_signature/sample_Signature/genuine/NFI-02502025.PNG  \n",
            "  inflating: sample_signature/sample_Signature/genuine/NFI-02503025.PNG  \n",
            "  inflating: sample_signature/sample_Signature/genuine/NFI-02504025.PNG  \n",
            "  inflating: sample_signature/sample_Signature/genuine/NFI-02505025.PNG  \n",
            "  inflating: sample_signature/sample_Signature/genuine/NFI-02601026.PNG  \n",
            "  inflating: sample_signature/sample_Signature/genuine/NFI-02602026.PNG  \n",
            "  inflating: sample_signature/sample_Signature/genuine/NFI-02603026.PNG  \n",
            "  inflating: sample_signature/sample_Signature/genuine/NFI-02604026.PNG  \n",
            "  inflating: sample_signature/sample_Signature/genuine/NFI-02605026.PNG  \n",
            "  inflating: sample_signature/sample_Signature/genuine/NFI-02701027.PNG  \n",
            "  inflating: sample_signature/sample_Signature/genuine/NFI-02702027.PNG  \n",
            "  inflating: sample_signature/sample_Signature/genuine/NFI-02703027.PNG  \n",
            "  inflating: sample_signature/sample_Signature/genuine/NFI-02704027.PNG  \n",
            "  inflating: sample_signature/sample_Signature/genuine/NFI-02705027.PNG  \n",
            "  inflating: sample_signature/sample_Signature/genuine/NFI-02801028.PNG  \n",
            "  inflating: sample_signature/sample_Signature/genuine/NFI-02802028.PNG  \n",
            "  inflating: sample_signature/sample_Signature/genuine/NFI-02803028.PNG  \n",
            "  inflating: sample_signature/sample_Signature/genuine/NFI-02804028.PNG  \n",
            "  inflating: sample_signature/sample_Signature/genuine/NFI-02805028.PNG  \n",
            "  inflating: sample_signature/sample_Signature/genuine/NFI-02901029.PNG  \n",
            "  inflating: sample_signature/sample_Signature/genuine/NFI-02902029.PNG  \n",
            "  inflating: sample_signature/sample_Signature/genuine/NFI-02903029.PNG  \n",
            "  inflating: sample_signature/sample_Signature/genuine/NFI-02904029.PNG  \n",
            "  inflating: sample_signature/sample_Signature/genuine/NFI-02905029.PNG  \n",
            "  inflating: sample_signature/sample_Signature/genuine/NFI-03001030.PNG  \n",
            "  inflating: sample_signature/sample_Signature/genuine/NFI-03002030.PNG  \n",
            "  inflating: sample_signature/sample_Signature/genuine/NFI-03003030.PNG  \n",
            "  inflating: sample_signature/sample_Signature/genuine/NFI-03004030.PNG  \n",
            "  inflating: sample_signature/sample_Signature/genuine/NFI-03005030.PNG  \n"
          ]
        }
      ],
      "source": [
        "!pip install unzip\n",
        "import unzip\n",
        "!unzip /content/drive/MyDrive/signatures.zip "
      ]
    },
    {
      "cell_type": "markdown",
      "metadata": {
        "id": "br3-j3on0DWZ"
      },
      "source": [
        "## Data"
      ]
    },
    {
      "cell_type": "markdown",
      "metadata": {
        "id": "5QlgoT1t0DWa"
      },
      "source": [
        "The data used in this notebook can be found [here](https://www.kaggle.com/datasets/divyanshrai/handwritten-signatures). The dataset contains just 300 samples of genuine and forged signatures from 30 people, of which 50 percent are genuine and 50 percent are forged. "
      ]
    },
    {
      "cell_type": "code",
      "execution_count": 5,
      "metadata": {
        "ExecuteTime": {
          "end_time": "2022-05-23T16:05:39.653625Z",
          "start_time": "2022-05-23T16:05:39.647324Z"
        },
        "id": "e8bk9hZT0DWa"
      },
      "outputs": [],
      "source": [
        "# instantiate ImageDataGenerator scaling each pixel's values down to a scale of 1\n",
        "img = ImageDataGenerator(rescale=1/255)"
      ]
    },
    {
      "cell_type": "code",
      "execution_count": 7,
      "metadata": {
        "ExecuteTime": {
          "end_time": "2022-05-23T16:05:39.665891Z",
          "start_time": "2022-05-23T16:05:39.659606Z"
        },
        "id": "w0XKBPLo0DWa"
      },
      "outputs": [],
      "source": [
        "# data_path = '../Data/sample_Signature/sample_Signature/'\n",
        "# For Colab \n",
        "data_path = '/content/sample_Signature/sample_Signature/'"
      ]
    },
    {
      "cell_type": "code",
      "execution_count": 8,
      "metadata": {
        "ExecuteTime": {
          "end_time": "2022-05-23T16:05:39.796644Z",
          "start_time": "2022-05-23T16:05:39.666882Z"
        },
        "scrolled": false,
        "id": "ie8tSIhP0DWa",
        "outputId": "896b4aae-69e7-43c4-d578-c0d8504829fd",
        "colab": {
          "base_uri": "https://localhost:8080/"
        }
      },
      "outputs": [
        {
          "output_type": "stream",
          "name": "stdout",
          "text": [
            "Found 300 images belonging to 2 classes.\n"
          ]
        }
      ],
      "source": [
        "# Importing the data\n",
        "data = img.flow_from_directory(data_path, color_mode='grayscale',\\\n",
        "                               batch_size=300, class_mode='binary')"
      ]
    },
    {
      "cell_type": "code",
      "execution_count": 9,
      "metadata": {
        "ExecuteTime": {
          "end_time": "2022-05-23T16:05:39.816340Z",
          "start_time": "2022-05-23T16:05:39.798372Z"
        },
        "id": "pHsQ8-cU0DWa",
        "outputId": "eefb4562-e310-4330-8fd4-55e113dce52b",
        "colab": {
          "base_uri": "https://localhost:8080/"
        }
      },
      "outputs": [
        {
          "output_type": "execute_result",
          "data": {
            "text/plain": [
              "{'forged': 0, 'genuine': 1}"
            ]
          },
          "metadata": {},
          "execution_count": 9
        }
      ],
      "source": [
        "data.class_indices"
      ]
    },
    {
      "cell_type": "code",
      "execution_count": 10,
      "metadata": {
        "ExecuteTime": {
          "end_time": "2022-05-23T16:05:43.282679Z",
          "start_time": "2022-05-23T16:05:39.818265Z"
        },
        "id": "vd1OikVB0DWa"
      },
      "outputs": [],
      "source": [
        "data_images, data_labels = next(data)"
      ]
    },
    {
      "cell_type": "code",
      "execution_count": 11,
      "metadata": {
        "ExecuteTime": {
          "end_time": "2022-05-23T16:05:43.286298Z",
          "start_time": "2022-05-23T16:05:43.283993Z"
        },
        "id": "Rj6lJ_0F0DWa",
        "outputId": "eab10e75-328a-4898-fb39-c16fedd0f86a",
        "colab": {
          "base_uri": "https://localhost:8080/"
        }
      },
      "outputs": [
        {
          "output_type": "execute_result",
          "data": {
            "text/plain": [
              "(300, 256, 256, 1)"
            ]
          },
          "metadata": {},
          "execution_count": 11
        }
      ],
      "source": [
        "data_images.shape"
      ]
    },
    {
      "cell_type": "code",
      "execution_count": 12,
      "metadata": {
        "ExecuteTime": {
          "end_time": "2022-05-23T16:05:43.289203Z",
          "start_time": "2022-05-23T16:05:43.287091Z"
        },
        "id": "Iw64bQi30DWb",
        "outputId": "ec15eaad-da49-4ade-a5f4-efba6af44863",
        "colab": {
          "base_uri": "https://localhost:8080/"
        }
      },
      "outputs": [
        {
          "output_type": "execute_result",
          "data": {
            "text/plain": [
              "(300,)"
            ]
          },
          "metadata": {},
          "execution_count": 12
        }
      ],
      "source": [
        "data_labels.shape"
      ]
    },
    {
      "cell_type": "code",
      "execution_count": 71,
      "metadata": {
        "ExecuteTime": {
          "end_time": "2022-05-23T16:05:43.378014Z",
          "start_time": "2022-05-23T16:05:43.290028Z"
        },
        "id": "fiRyt5gF0DWb"
      },
      "outputs": [],
      "source": [
        "X_train, X_test, y_train, y_test = train_test_split( \\\n",
        "            data_images, data_labels, random_state=42, test_size=.2)"
      ]
    },
    {
      "cell_type": "code",
      "execution_count": 72,
      "metadata": {
        "ExecuteTime": {
          "end_time": "2022-05-23T16:05:43.381950Z",
          "start_time": "2022-05-23T16:05:43.379012Z"
        },
        "id": "UX6uGMCo0DWb",
        "outputId": "8ec0952b-8fa8-4f6e-99bc-badbe604e0e8",
        "colab": {
          "base_uri": "https://localhost:8080/"
        }
      },
      "outputs": [
        {
          "output_type": "execute_result",
          "data": {
            "text/plain": [
              "(240, 256, 256, 1)"
            ]
          },
          "metadata": {},
          "execution_count": 72
        }
      ],
      "source": [
        "X_train.shape"
      ]
    },
    {
      "cell_type": "code",
      "execution_count": 73,
      "metadata": {
        "ExecuteTime": {
          "end_time": "2022-05-23T16:05:43.385945Z",
          "start_time": "2022-05-23T16:05:43.382938Z"
        },
        "scrolled": true,
        "id": "sBUoFk0E0DWb",
        "outputId": "e1df682e-aed4-49ef-ec52-41b2f65db75e",
        "colab": {
          "base_uri": "https://localhost:8080/"
        }
      },
      "outputs": [
        {
          "output_type": "execute_result",
          "data": {
            "text/plain": [
              "(240,)"
            ]
          },
          "metadata": {},
          "execution_count": 73
        }
      ],
      "source": [
        "y_train.shape"
      ]
    },
    {
      "cell_type": "markdown",
      "metadata": {
        "id": "bGdjPhiL0DWb"
      },
      "source": [
        "Above we instantiate Keras' ImageDataGenerator which will scale each pixel's values down to a value of 1. Next we import the data and separate into the images themselves and their respective labels. The class indices indicate what the label values correspond to. Finally we split it into a train and test dataset."
      ]
    },
    {
      "cell_type": "markdown",
      "metadata": {
        "id": "S1qQ7tZw0DWb"
      },
      "source": [
        "### Image Augmentation"
      ]
    },
    {
      "cell_type": "markdown",
      "metadata": {
        "id": "FVN4fruQ0DWb"
      },
      "source": [
        "Because we have such a small dataset it is important to use image augmentation to artificially expand the training dataset. Below we do several forms of data augmentation individually before combining the techniques at the end."
      ]
    },
    {
      "cell_type": "markdown",
      "metadata": {
        "id": "WdiTdHFI0DWb"
      },
      "source": [
        "#### Zoom Augmentation"
      ]
    },
    {
      "cell_type": "markdown",
      "metadata": {
        "id": "sFH6noII0DWb"
      },
      "source": [
        "The first technique we explore is zoom range. Entering a range of values, .25 and 1 in this case, randomly applies a zoom to each image within that range."
      ]
    },
    {
      "cell_type": "code",
      "execution_count": 74,
      "metadata": {
        "ExecuteTime": {
          "end_time": "2022-05-23T16:05:43.432353Z",
          "start_time": "2022-05-23T16:05:43.389712Z"
        },
        "id": "_xI3TrQQ0DWb"
      },
      "outputs": [],
      "source": [
        "aug = ImageDataGenerator(zoom_range=[.25,1])\n",
        "aug.fit(X_train)\n",
        "aug_data = aug.flow(X_train, y_train, batch_size=240)"
      ]
    },
    {
      "cell_type": "code",
      "execution_count": 75,
      "metadata": {
        "ExecuteTime": {
          "end_time": "2022-05-23T16:05:44.752274Z",
          "start_time": "2022-05-23T16:05:43.434570Z"
        },
        "id": "Q2fqt13j0DWb"
      },
      "outputs": [],
      "source": [
        "aug_images, aug_labels = next(aug_data)"
      ]
    },
    {
      "cell_type": "code",
      "execution_count": 76,
      "metadata": {
        "ExecuteTime": {
          "end_time": "2022-05-23T16:05:44.757428Z",
          "start_time": "2022-05-23T16:05:44.753421Z"
        },
        "id": "UJzAAEw50DWb",
        "outputId": "ddf07bf0-66d1-4c03-a51a-49bd5a9fa1d2",
        "colab": {
          "base_uri": "https://localhost:8080/"
        }
      },
      "outputs": [
        {
          "output_type": "execute_result",
          "data": {
            "text/plain": [
              "(240, 256, 256, 1)"
            ]
          },
          "metadata": {},
          "execution_count": 76
        }
      ],
      "source": [
        "aug_images.shape"
      ]
    },
    {
      "cell_type": "code",
      "execution_count": 77,
      "metadata": {
        "ExecuteTime": {
          "end_time": "2022-05-23T16:05:44.763236Z",
          "start_time": "2022-05-23T16:05:44.760240Z"
        },
        "scrolled": false,
        "id": "JqyUa7Rb0DWb",
        "outputId": "492ba8f5-21c9-4ff5-ce47-1bdfe14c354a",
        "colab": {
          "base_uri": "https://localhost:8080/"
        }
      },
      "outputs": [
        {
          "output_type": "execute_result",
          "data": {
            "text/plain": [
              "(240,)"
            ]
          },
          "metadata": {},
          "execution_count": 77
        }
      ],
      "source": [
        "aug_labels.shape"
      ]
    },
    {
      "cell_type": "code",
      "execution_count": 78,
      "metadata": {
        "ExecuteTime": {
          "end_time": "2022-05-23T16:05:44.773039Z",
          "start_time": "2022-05-23T16:05:44.764282Z"
        },
        "scrolled": true,
        "id": "mus5-mMz0DWc",
        "outputId": "c72e47d7-36c3-47d5-9a98-9babba515fdd",
        "colab": {
          "base_uri": "https://localhost:8080/",
          "height": 273
        }
      },
      "outputs": [
        {
          "output_type": "execute_result",
          "data": {
            "text/plain": [
              "<PIL.Image.Image image mode=L size=256x256 at 0x7F4BD578CB50>"
            ],
            "image/png": "[encoded data removed]"
          },
          "metadata": {},
          "execution_count": 78
        }
      ],
      "source": [
        "array_to_img(aug_images[0])"
      ]
    },
    {
      "cell_type": "code",
      "execution_count": 79,
      "metadata": {
        "ExecuteTime": {
          "end_time": "2022-05-23T16:05:44.837593Z",
          "start_time": "2022-05-23T16:05:44.774121Z"
        },
        "id": "ok-mZtR50DWc"
      },
      "outputs": [],
      "source": [
        "new_images1 = np.concatenate([X_train, aug_images])\n",
        "new_labels1 = np.concatenate([y_train, aug_labels])"
      ]
    },
    {
      "cell_type": "code",
      "execution_count": 80,
      "metadata": {
        "ExecuteTime": {
          "end_time": "2022-05-23T16:05:44.843371Z",
          "start_time": "2022-05-23T16:05:44.838745Z"
        },
        "id": "9gWnXQMl0DWc",
        "outputId": "4e8c2c21-8ddb-4795-bbb3-e192874c4abc",
        "colab": {
          "base_uri": "https://localhost:8080/"
        }
      },
      "outputs": [
        {
          "output_type": "execute_result",
          "data": {
            "text/plain": [
              "(480, 256, 256, 1)"
            ]
          },
          "metadata": {},
          "execution_count": 80
        }
      ],
      "source": [
        "new_images1.shape"
      ]
    },
    {
      "cell_type": "code",
      "execution_count": 81,
      "metadata": {
        "ExecuteTime": {
          "end_time": "2022-05-23T16:05:44.854854Z",
          "start_time": "2022-05-23T16:05:44.845976Z"
        },
        "scrolled": true,
        "id": "j2ZEhjc_0DWc",
        "outputId": "5f05ec18-f40b-4b90-98aa-04c4074d32b0",
        "colab": {
          "base_uri": "https://localhost:8080/"
        }
      },
      "outputs": [
        {
          "output_type": "execute_result",
          "data": {
            "text/plain": [
              "(480,)"
            ]
          },
          "metadata": {},
          "execution_count": 81
        }
      ],
      "source": [
        "new_labels1.shape"
      ]
    },
    {
      "cell_type": "markdown",
      "metadata": {
        "id": "2xtESP-x0DWc"
      },
      "source": [
        "#### Width Augmentation"
      ]
    },
    {
      "cell_type": "markdown",
      "metadata": {
        "id": "3KbqDEVV0DWc"
      },
      "source": [
        "The next method for augmentation used was width shift range. With a range of .3 the images will be randomly assigned a width down to .3 of the original image size. "
      ]
    },
    {
      "cell_type": "code",
      "execution_count": 82,
      "metadata": {
        "ExecuteTime": {
          "end_time": "2022-05-23T16:05:44.882836Z",
          "start_time": "2022-05-23T16:05:44.858566Z"
        },
        "id": "Xus_GqNv0DWc"
      },
      "outputs": [],
      "source": [
        "aug = ImageDataGenerator(width_shift_range=.3)\n",
        "aug.fit(X_train)\n",
        "aug2_data = aug.flow(X_train, y_train, batch_size=240)"
      ]
    },
    {
      "cell_type": "code",
      "execution_count": 83,
      "metadata": {
        "ExecuteTime": {
          "end_time": "2022-05-23T16:05:45.825020Z",
          "start_time": "2022-05-23T16:05:44.883926Z"
        },
        "id": "u4FBrYPF0DWc"
      },
      "outputs": [],
      "source": [
        "aug2_images, aug2_labels = next(aug2_data)"
      ]
    },
    {
      "cell_type": "code",
      "execution_count": 84,
      "metadata": {
        "ExecuteTime": {
          "end_time": "2022-05-23T16:05:45.962760Z",
          "start_time": "2022-05-23T16:05:45.825976Z"
        },
        "id": "Gqo_6R_s0DWc"
      },
      "outputs": [],
      "source": [
        "new_images2 = np.concatenate([new_images1, aug2_images])\n",
        "new_labels2 = np.concatenate([new_labels1, aug2_labels])"
      ]
    },
    {
      "cell_type": "markdown",
      "metadata": {
        "id": "_3D-UNLx0DWc"
      },
      "source": [
        "#### Height Augmentation"
      ]
    },
    {
      "cell_type": "markdown",
      "metadata": {
        "id": "R-Y1aUd90DWc"
      },
      "source": [
        "The next method for augmentation used was height shift range. With a range of .3 the images will be randomly assigned a height down to .3 of the original image size."
      ]
    },
    {
      "cell_type": "code",
      "execution_count": 85,
      "metadata": {
        "ExecuteTime": {
          "end_time": "2022-05-23T16:05:45.987265Z",
          "start_time": "2022-05-23T16:05:45.963864Z"
        },
        "id": "ZbaVKm_m0DWc"
      },
      "outputs": [],
      "source": [
        "aug = ImageDataGenerator(height_shift_range=.3)\n",
        "aug.fit(X_train)\n",
        "aug3_data = aug.flow(X_train, y_train, batch_size=240)"
      ]
    },
    {
      "cell_type": "code",
      "execution_count": 86,
      "metadata": {
        "ExecuteTime": {
          "end_time": "2022-05-23T16:05:46.921366Z",
          "start_time": "2022-05-23T16:05:45.988413Z"
        },
        "id": "_5RSJQ_g0DWc"
      },
      "outputs": [],
      "source": [
        "aug3_images, aug3_labels = next(aug3_data)"
      ]
    },
    {
      "cell_type": "code",
      "execution_count": 87,
      "metadata": {
        "ExecuteTime": {
          "end_time": "2022-05-23T16:05:47.107123Z",
          "start_time": "2022-05-23T16:05:46.922242Z"
        },
        "id": "47OAh55W0DWc"
      },
      "outputs": [],
      "source": [
        "new_images3 = np.concatenate([new_images2, aug3_images])\n",
        "new_labels3 = np.concatenate([new_labels2, aug3_labels])"
      ]
    },
    {
      "cell_type": "markdown",
      "metadata": {
        "ExecuteTime": {
          "end_time": "2022-05-18T18:10:53.996172Z",
          "start_time": "2022-05-18T18:10:53.989621Z"
        },
        "id": "88uGZ1170DWc"
      },
      "source": [
        "#### Rotation Augmentation"
      ]
    },
    {
      "cell_type": "markdown",
      "metadata": {
        "ExecuteTime": {
          "end_time": "2022-05-20T18:31:05.497987Z",
          "start_time": "2022-05-20T18:31:05.418085Z"
        },
        "id": "HzhChvvv0DWc"
      },
      "source": [
        "Next we apply a random rotation to each image up to 30 degrees."
      ]
    },
    {
      "cell_type": "code",
      "execution_count": 88,
      "metadata": {
        "ExecuteTime": {
          "end_time": "2022-05-23T16:05:47.150201Z",
          "start_time": "2022-05-23T16:05:47.109241Z"
        },
        "id": "r5qASvWM0DWd"
      },
      "outputs": [],
      "source": [
        "aug = ImageDataGenerator(rotation_range=30)\n",
        "aug.fit(X_train)\n",
        "aug4_data = aug.flow(X_train, y_train, batch_size=240)"
      ]
    },
    {
      "cell_type": "code",
      "execution_count": 89,
      "metadata": {
        "ExecuteTime": {
          "end_time": "2022-05-23T16:05:48.059670Z",
          "start_time": "2022-05-23T16:05:47.151166Z"
        },
        "id": "-7RSZv180DWd"
      },
      "outputs": [],
      "source": [
        "aug4_images, aug4_labels = next(aug4_data)"
      ]
    },
    {
      "cell_type": "code",
      "execution_count": 90,
      "metadata": {
        "ExecuteTime": {
          "end_time": "2022-05-23T16:05:48.321156Z",
          "start_time": "2022-05-23T16:05:48.060531Z"
        },
        "id": "IGD4RQS50DWd"
      },
      "outputs": [],
      "source": [
        "new_images4 = np.concatenate([new_images3, aug4_images])\n",
        "new_labels4 = np.concatenate([new_labels3, aug4_labels])"
      ]
    },
    {
      "cell_type": "markdown",
      "metadata": {
        "id": "pK5dN99W0DWd"
      },
      "source": [
        "#### Shear Augmentation"
      ]
    },
    {
      "cell_type": "markdown",
      "metadata": {
        "id": "oV0ZGZBa0DWd"
      },
      "source": [
        "We then apply a random shear value to each image. This angles the corners of each image up to 30 degrees."
      ]
    },
    {
      "cell_type": "code",
      "execution_count": 91,
      "metadata": {
        "ExecuteTime": {
          "end_time": "2022-05-23T16:05:48.353835Z",
          "start_time": "2022-05-23T16:05:48.322907Z"
        },
        "id": "DnZa2voW0DWd"
      },
      "outputs": [],
      "source": [
        "aug = ImageDataGenerator(shear_range=30)\n",
        "aug.fit(X_train)\n",
        "aug5_data = aug.flow(X_train, y_train, batch_size=240)"
      ]
    },
    {
      "cell_type": "code",
      "execution_count": 92,
      "metadata": {
        "ExecuteTime": {
          "end_time": "2022-05-23T16:05:49.270263Z",
          "start_time": "2022-05-23T16:05:48.354995Z"
        },
        "id": "GSPyUkdU0DWd"
      },
      "outputs": [],
      "source": [
        "aug5_images, aug5_labels = next(aug5_data)"
      ]
    },
    {
      "cell_type": "code",
      "execution_count": 93,
      "metadata": {
        "ExecuteTime": {
          "end_time": "2022-05-23T16:05:49.574162Z",
          "start_time": "2022-05-23T16:05:49.271226Z"
        },
        "id": "Akv9kNGs0DWd"
      },
      "outputs": [],
      "source": [
        "new_images5 = np.concatenate([new_images4, aug5_images])\n",
        "new_labels5 = np.concatenate([new_labels4, aug5_labels])"
      ]
    },
    {
      "cell_type": "markdown",
      "metadata": {
        "id": "i-NlCQ-R0DWd"
      },
      "source": [
        "#### Brightness Augmentation"
      ]
    },
    {
      "cell_type": "markdown",
      "metadata": {
        "ExecuteTime": {
          "end_time": "2022-05-20T18:49:59.247310Z",
          "start_time": "2022-05-20T18:49:59.202157Z"
        },
        "id": "icBp-se80DWd"
      },
      "source": [
        "Finally we have brightness augmentation. This applies a random brightness shift within the provided range. "
      ]
    },
    {
      "cell_type": "code",
      "execution_count": 94,
      "metadata": {
        "ExecuteTime": {
          "end_time": "2022-05-23T16:05:49.632646Z",
          "start_time": "2022-05-23T16:05:49.577236Z"
        },
        "id": "bnSYWRVE0DWd"
      },
      "outputs": [],
      "source": [
        "aug = ImageDataGenerator(brightness_range=(1,2))\n",
        "aug.fit(X_train)\n",
        "aug5_data = aug.flow(X_train, y_train, batch_size=240)"
      ]
    },
    {
      "cell_type": "code",
      "execution_count": 95,
      "metadata": {
        "ExecuteTime": {
          "end_time": "2022-05-23T16:05:49.731736Z",
          "start_time": "2022-05-23T16:05:49.635054Z"
        },
        "id": "vCQSxxf50DWd"
      },
      "outputs": [],
      "source": [
        "aug6_images, aug6_labels = next(aug5_data)"
      ]
    },
    {
      "cell_type": "code",
      "execution_count": 96,
      "metadata": {
        "ExecuteTime": {
          "end_time": "2022-05-23T16:05:50.040495Z",
          "start_time": "2022-05-23T16:05:49.732579Z"
        },
        "id": "0bJ9Rogv0DWd"
      },
      "outputs": [],
      "source": [
        "new_images6 = np.concatenate([new_images5, aug6_images])\n",
        "new_labels6 = np.concatenate([new_labels5, aug6_labels])"
      ]
    },
    {
      "cell_type": "code",
      "execution_count": 97,
      "metadata": {
        "ExecuteTime": {
          "end_time": "2022-05-23T16:05:50.044658Z",
          "start_time": "2022-05-23T16:05:50.041411Z"
        },
        "id": "HNDFeNjn0DWd",
        "outputId": "933abe2f-60bd-4709-e137-f84e46a348dc",
        "colab": {
          "base_uri": "https://localhost:8080/"
        }
      },
      "outputs": [
        {
          "output_type": "execute_result",
          "data": {
            "text/plain": [
              "(1680,)"
            ]
          },
          "metadata": {},
          "execution_count": 97
        }
      ],
      "source": [
        "new_labels6.shape"
      ]
    },
    {
      "cell_type": "markdown",
      "metadata": {
        "id": "0Niir6iw0DWd"
      },
      "source": [
        "#### A little bit of everything Augmentation"
      ]
    },
    {
      "cell_type": "markdown",
      "metadata": {
        "id": "CBsV05X00DWd"
      },
      "source": [
        "Now that we have augmented each image with a single augmentation, we will again augment all images with a combination of each augmentation. "
      ]
    },
    {
      "cell_type": "code",
      "execution_count": 98,
      "metadata": {
        "ExecuteTime": {
          "end_time": "2022-05-23T16:05:50.437436Z",
          "start_time": "2022-05-23T16:05:50.045670Z"
        },
        "id": "gXo4eSwp0DWd"
      },
      "outputs": [],
      "source": [
        "aug = ImageDataGenerator(zoom_range=[.7,.9], width_shift_range=.15, height_shift_range=.15, rotation_range=15, shear_range=15, brightness_range=(1,1.5))\n",
        "aug.fit(new_images6)\n",
        "aug_data_final = aug.flow(new_images6, new_labels6, batch_size=1680)"
      ]
    },
    {
      "cell_type": "code",
      "execution_count": 99,
      "metadata": {
        "ExecuteTime": {
          "end_time": "2022-05-23T16:05:57.654980Z",
          "start_time": "2022-05-23T16:05:50.440677Z"
        },
        "id": "SX7w1lZ30DWd"
      },
      "outputs": [],
      "source": [
        "aug_final_images, aug_final_labels = next(aug_data_final)"
      ]
    },
    {
      "cell_type": "code",
      "execution_count": 100,
      "metadata": {
        "ExecuteTime": {
          "end_time": "2022-05-23T16:05:58.460589Z",
          "start_time": "2022-05-23T16:05:57.658349Z"
        },
        "id": "e5hjhY8J0DWd"
      },
      "outputs": [],
      "source": [
        "final_images = np.concatenate([new_images6, aug_final_images])\n",
        "final_labels = np.concatenate([new_labels6, aug_final_labels])"
      ]
    },
    {
      "cell_type": "code",
      "execution_count": 101,
      "metadata": {
        "ExecuteTime": {
          "end_time": "2022-05-23T16:05:58.486423Z",
          "start_time": "2022-05-23T16:05:58.478573Z"
        },
        "id": "k5nIBtFE0DWd",
        "outputId": "50ba1ccf-778f-48ce-c463-cbbea478a1ff",
        "colab": {
          "base_uri": "https://localhost:8080/"
        }
      },
      "outputs": [
        {
          "output_type": "execute_result",
          "data": {
            "text/plain": [
              "(3360, 256, 256, 1)"
            ]
          },
          "metadata": {},
          "execution_count": 101
        }
      ],
      "source": [
        "final_images.shape"
      ]
    },
    {
      "cell_type": "code",
      "execution_count": 102,
      "metadata": {
        "ExecuteTime": {
          "end_time": "2022-05-23T16:05:58.492199Z",
          "start_time": "2022-05-23T16:05:58.488114Z"
        },
        "id": "ktGylzJw0DWe",
        "outputId": "4bc0c521-9c7b-45c4-d487-2c16e84b6517",
        "colab": {
          "base_uri": "https://localhost:8080/"
        }
      },
      "outputs": [
        {
          "output_type": "execute_result",
          "data": {
            "text/plain": [
              "(3360,)"
            ]
          },
          "metadata": {},
          "execution_count": 102
        }
      ],
      "source": [
        "final_labels.shape"
      ]
    },
    {
      "cell_type": "code",
      "execution_count": 103,
      "metadata": {
        "ExecuteTime": {
          "end_time": "2022-05-23T16:05:58.508379Z",
          "start_time": "2022-05-23T16:05:58.493315Z"
        },
        "id": "JvANUs2x0DWe",
        "outputId": "41462270-259d-4e0c-b6b5-348928f93504",
        "colab": {
          "base_uri": "https://localhost:8080/",
          "height": 273
        }
      },
      "outputs": [
        {
          "output_type": "execute_result",
          "data": {
            "text/plain": [
              "<PIL.Image.Image image mode=L size=256x256 at 0x7F4BDC5F7450>"
            ],
            "image/png": "[encoded data removed]"
          },
          "metadata": {},
          "execution_count": 103
        }
      ],
      "source": [
        "array_to_img(final_images[0])"
      ]
    },
    {
      "cell_type": "code",
      "execution_count": 104,
      "metadata": {
        "ExecuteTime": {
          "end_time": "2022-05-23T16:05:58.516670Z",
          "start_time": "2022-05-23T16:05:58.510105Z"
        },
        "id": "Rfp_CEyq0DWe",
        "outputId": "9a5bdf68-14a6-4994-8084-27c26b28d085",
        "colab": {
          "base_uri": "https://localhost:8080/"
        }
      },
      "outputs": [
        {
          "output_type": "execute_result",
          "data": {
            "text/plain": [
              "1.0"
            ]
          },
          "metadata": {},
          "execution_count": 104
        }
      ],
      "source": [
        "final_labels[0]"
      ]
    },
    {
      "cell_type": "markdown",
      "metadata": {
        "id": "znWY9nTw0DWe"
      },
      "source": [
        "The above example image would be considered a genuine signature."
      ]
    },
    {
      "cell_type": "markdown",
      "metadata": {
        "id": "1CV6UXls0DWe"
      },
      "source": [
        "## Modeling"
      ]
    },
    {
      "cell_type": "markdown",
      "metadata": {
        "id": "VeYn_F620DWe"
      },
      "source": [
        "### Dummy Model"
      ]
    },
    {
      "cell_type": "markdown",
      "metadata": {
        "id": "H1mLHp2i0DWe"
      },
      "source": [
        "Our first model will be a baseline model for comparison. We will utilize Sklearn's DummyClassifier which uses the most frequent class as it's prediction. "
      ]
    },
    {
      "cell_type": "code",
      "execution_count": 49,
      "metadata": {
        "ExecuteTime": {
          "end_time": "2022-05-23T16:05:58.574943Z",
          "start_time": "2022-05-23T16:05:58.523033Z"
        },
        "id": "fQHXmArA0DWe",
        "outputId": "c717b2ee-1af7-43fd-d41e-9669a538aeb4",
        "colab": {
          "base_uri": "https://localhost:8080/"
        }
      },
      "outputs": [
        {
          "output_type": "execute_result",
          "data": {
            "text/plain": [
              "DummyClassifier(strategy='most_frequent')"
            ]
          },
          "metadata": {},
          "execution_count": 49
        }
      ],
      "source": [
        "dummy_model = DummyClassifier(strategy='most_frequent')\n",
        "dummy_model.fit(final_images, final_labels)"
      ]
    },
    {
      "cell_type": "code",
      "execution_count": 50,
      "metadata": {
        "ExecuteTime": {
          "end_time": "2022-05-23T14:37:35.762069Z",
          "start_time": "2022-05-23T14:37:35.728654Z"
        },
        "id": "kT-Fmkxv0DWe"
      },
      "outputs": [],
      "source": [
        "dummy_preds = dummy_model.predict(X_test)\n",
        "\n",
        "dummy_acc = dummy_model.score(X_test, y_test)"
      ]
    },
    {
      "cell_type": "code",
      "execution_count": 51,
      "metadata": {
        "ExecuteTime": {
          "end_time": "2022-05-23T14:37:36.158514Z",
          "start_time": "2022-05-23T14:37:36.146852Z"
        },
        "id": "DHF4HzzW0DWe",
        "outputId": "92f7a1bb-9119-4154-c10a-485daef24b04",
        "colab": {
          "base_uri": "https://localhost:8080/"
        }
      },
      "outputs": [
        {
          "output_type": "execute_result",
          "data": {
            "text/plain": [
              "0.43333333333333335"
            ]
          },
          "metadata": {},
          "execution_count": 51
        }
      ],
      "source": [
        "dummy_acc"
      ]
    },
    {
      "cell_type": "markdown",
      "metadata": {
        "id": "sNx3XOei0DWe"
      },
      "source": [
        "### Model 1"
      ]
    },
    {
      "cell_type": "code",
      "execution_count": 105,
      "metadata": {
        "ExecuteTime": {
          "end_time": "2022-05-23T16:06:23.940257Z",
          "start_time": "2022-05-23T16:06:23.913564Z"
        },
        "id": "fS91mFCb0DWe"
      },
      "outputs": [],
      "source": [
        "adam = Adam(learning_rate=.0001)"
      ]
    },
    {
      "cell_type": "code",
      "execution_count": 114,
      "metadata": {
        "ExecuteTime": {
          "end_time": "2022-05-23T16:06:24.737002Z",
          "start_time": "2022-05-23T16:06:24.679818Z"
        },
        "id": "9BB3Pf3d0DWe"
      },
      "outputs": [],
      "source": [
        "def build_model():\n",
        "    model1 = Sequential()\n",
        "    model1.add(layers.Conv2D(filters=64,\n",
        "                       kernel_size=(3,3),\n",
        "                       activation='relu',\n",
        "                       input_shape=(256,256,1)))\n",
        "\n",
        "    model1.add(layers.MaxPool2D())\n",
        "\n",
        "    model1.add(layers.Conv2D(128, (3,3), activation='relu'))\n",
        "\n",
        "    model1.add(layers.MaxPool2D())\n",
        "    \n",
        "    model1.add(layers.Flatten())\n",
        "    model1.add(layers.Dense(64, activation='relu'))\n",
        "    model1.add(layers.Dropout(.25))\n",
        "\n",
        "    model1.add(layers.Dense(32, activation='relu', kernel_regularizer=l2(0.05)))\n",
        "\n",
        "    model1.add(layers.Dense(16, activation='relu', kernel_regularizer=l2(0.01)))\n",
        "    model1.add(layers.Dropout(.25))\n",
        "    \n",
        "    model1.add(layers.Dense(1, activation='sigmoid'))\n",
        "\n",
        "    model1.compile(optimizer=adam,\n",
        "                  loss='binary_crossentropy',\n",
        "                  metrics=['accuracy'])\n",
        "    return model1"
      ]
    },
    {
      "cell_type": "code",
      "execution_count": 115,
      "metadata": {
        "id": "V5cpuu3b0DWe",
        "outputId": "948e99d1-20fd-437b-c022-ed5af4364aa2",
        "colab": {
          "base_uri": "https://localhost:8080/"
        }
      },
      "outputs": [
        {
          "output_type": "stream",
          "name": "stderr",
          "text": [
            "/usr/local/lib/python3.7/dist-packages/ipykernel_launcher.py:4: DeprecationWarning: KerasClassifier is deprecated, use Sci-Keras (https://github.com/adriangb/scikeras) instead. See https://www.adriangb.com/scikeras/stable/migration.html for help migrating.\n",
            "  after removing the cwd from sys.path.\n"
          ]
        }
      ],
      "source": [
        "model1 = scikit_learn.KerasClassifier(build_model,\n",
        "                                          epochs=20, \n",
        "                                          batch_size=32, \n",
        "                                          verbose=2)"
      ]
    },
    {
      "cell_type": "code",
      "execution_count": 117,
      "metadata": {
        "ExecuteTime": {
          "end_time": "2022-05-19T18:41:59.855237Z",
          "start_time": "2022-05-19T18:41:36.681608Z"
        },
        "collapsed": true,
        "id": "ekCKvScv0DWe",
        "outputId": "d5031247-207b-4aa8-e909-0aceffa3a905",
        "colab": {
          "base_uri": "https://localhost:8080/",
          "height": 335
        }
      },
      "outputs": [
        {
          "output_type": "error",
          "ename": "KeyboardInterrupt",
          "evalue": "ignored",
          "traceback": [
            "\u001b[0;31m---------------------------------------------------------------------------\u001b[0m",
            "\u001b[0;31mKeyboardInterrupt\u001b[0m                         Traceback (most recent call last)",
            "\u001b[0;32m<ipython-input-117-480bacc4cdb7>\u001b[0m in \u001b[0;36m<module>\u001b[0;34m()\u001b[0m\n\u001b[1;32m      1\u001b[0m \u001b[0;31m#Cross validation will be run in and pickled from colab to save time.\u001b[0m\u001b[0;34m\u001b[0m\u001b[0;34m\u001b[0m\u001b[0;34m\u001b[0m\u001b[0m\n\u001b[0;32m----> 2\u001b[0;31m \u001b[0mmodel1_cv_results\u001b[0m \u001b[0;34m=\u001b[0m \u001b[0mcross_val_score\u001b[0m\u001b[0;34m(\u001b[0m\u001b[0mmodel1\u001b[0m\u001b[0;34m,\u001b[0m \u001b[0mfinal_images\u001b[0m\u001b[0;34m,\u001b[0m \u001b[0mfinal_labels\u001b[0m\u001b[0;34m)\u001b[0m\u001b[0;34m\u001b[0m\u001b[0;34m\u001b[0m\u001b[0m\n\u001b[0m",
            "\u001b[0;32m/usr/local/lib/python3.7/dist-packages/sklearn/model_selection/_validation.py\u001b[0m in \u001b[0;36mcross_val_score\u001b[0;34m(estimator, X, y, groups, scoring, cv, n_jobs, verbose, fit_params, pre_dispatch, error_score)\u001b[0m\n\u001b[1;32m    518\u001b[0m         \u001b[0mfit_params\u001b[0m\u001b[0;34m=\u001b[0m\u001b[0mfit_params\u001b[0m\u001b[0;34m,\u001b[0m\u001b[0;34m\u001b[0m\u001b[0;34m\u001b[0m\u001b[0m\n\u001b[1;32m    519\u001b[0m         \u001b[0mpre_dispatch\u001b[0m\u001b[0;34m=\u001b[0m\u001b[0mpre_dispatch\u001b[0m\u001b[0;34m,\u001b[0m\u001b[0;34m\u001b[0m\u001b[0;34m\u001b[0m\u001b[0m\n\u001b[0;32m--> 520\u001b[0;31m         \u001b[0merror_score\u001b[0m\u001b[0;34m=\u001b[0m\u001b[0merror_score\u001b[0m\u001b[0;34m,\u001b[0m\u001b[0;34m\u001b[0m\u001b[0;34m\u001b[0m\u001b[0m\n\u001b[0m\u001b[1;32m    521\u001b[0m     )\n\u001b[1;32m    522\u001b[0m     \u001b[0;32mreturn\u001b[0m \u001b[0mcv_results\u001b[0m\u001b[0;34m[\u001b[0m\u001b[0;34m\"test_score\"\u001b[0m\u001b[0;34m]\u001b[0m\u001b[0;34m\u001b[0m\u001b[0;34m\u001b[0m\u001b[0m\n",
            "\u001b[0;32m/usr/local/lib/python3.7/dist-packages/sklearn/model_selection/_validation.py\u001b[0m in \u001b[0;36mcross_validate\u001b[0;34m(estimator, X, y, groups, scoring, cv, n_jobs, verbose, fit_params, pre_dispatch, return_train_score, return_estimator, error_score)\u001b[0m\n\u001b[1;32m    281\u001b[0m             \u001b[0merror_score\u001b[0m\u001b[0;34m=\u001b[0m\u001b[0merror_score\u001b[0m\u001b[0;34m,\u001b[0m\u001b[0;34m\u001b[0m\u001b[0;34m\u001b[0m\u001b[0m\n\u001b[1;32m    282\u001b[0m         )\n\u001b[0;32m--> 283\u001b[0;31m         \u001b[0;32mfor\u001b[0m \u001b[0mtrain\u001b[0m\u001b[0;34m,\u001b[0m \u001b[0mtest\u001b[0m \u001b[0;32min\u001b[0m \u001b[0mcv\u001b[0m\u001b[0;34m.\u001b[0m\u001b[0msplit\u001b[0m\u001b[0;34m(\u001b[0m\u001b[0mX\u001b[0m\u001b[0;34m,\u001b[0m \u001b[0my\u001b[0m\u001b[0;34m,\u001b[0m \u001b[0mgroups\u001b[0m\u001b[0;34m)\u001b[0m\u001b[0;34m\u001b[0m\u001b[0;34m\u001b[0m\u001b[0m\n\u001b[0m\u001b[1;32m    284\u001b[0m     )\n\u001b[1;32m    285\u001b[0m \u001b[0;34m\u001b[0m\u001b[0m\n",
            "\u001b[0;32m/usr/local/lib/python3.7/dist-packages/joblib/parallel.py\u001b[0m in \u001b[0;36m__call__\u001b[0;34m(self, iterable)\u001b[0m\n\u001b[1;32m   1041\u001b[0m             \u001b[0;31m# remaining jobs.\u001b[0m\u001b[0;34m\u001b[0m\u001b[0;34m\u001b[0m\u001b[0;34m\u001b[0m\u001b[0m\n\u001b[1;32m   1042\u001b[0m             \u001b[0mself\u001b[0m\u001b[0;34m.\u001b[0m\u001b[0m_iterating\u001b[0m \u001b[0;34m=\u001b[0m \u001b[0;32mFalse\u001b[0m\u001b[0;34m\u001b[0m\u001b[0;34m\u001b[0m\u001b[0m\n\u001b[0;32m-> 1043\u001b[0;31m             \u001b[0;32mif\u001b[0m \u001b[0mself\u001b[0m\u001b[0;34m.\u001b[0m\u001b[0mdispatch_one_batch\u001b[0m\u001b[0;34m(\u001b[0m\u001b[0miterator\u001b[0m\u001b[0;34m)\u001b[0m\u001b[0;34m:\u001b[0m\u001b[0;34m\u001b[0m\u001b[0;34m\u001b[0m\u001b[0m\n\u001b[0m\u001b[1;32m   1044\u001b[0m                 \u001b[0mself\u001b[0m\u001b[0;34m.\u001b[0m\u001b[0m_iterating\u001b[0m \u001b[0;34m=\u001b[0m \u001b[0mself\u001b[0m\u001b[0;34m.\u001b[0m\u001b[0m_original_iterator\u001b[0m \u001b[0;32mis\u001b[0m \u001b[0;32mnot\u001b[0m \u001b[0;32mNone\u001b[0m\u001b[0;34m\u001b[0m\u001b[0;34m\u001b[0m\u001b[0m\n\u001b[1;32m   1045\u001b[0m \u001b[0;34m\u001b[0m\u001b[0m\n",
            "\u001b[0;32m/usr/local/lib/python3.7/dist-packages/joblib/parallel.py\u001b[0m in \u001b[0;36mdispatch_one_batch\u001b[0;34m(self, iterator)\u001b[0m\n\u001b[1;32m    859\u001b[0m                 \u001b[0;32mreturn\u001b[0m \u001b[0;32mFalse\u001b[0m\u001b[0;34m\u001b[0m\u001b[0;34m\u001b[0m\u001b[0m\n\u001b[1;32m    860\u001b[0m             \u001b[0;32melse\u001b[0m\u001b[0;34m:\u001b[0m\u001b[0;34m\u001b[0m\u001b[0;34m\u001b[0m\u001b[0m\n\u001b[0;32m--> 861\u001b[0;31m                 \u001b[0mself\u001b[0m\u001b[0;34m.\u001b[0m\u001b[0m_dispatch\u001b[0m\u001b[0;34m(\u001b[0m\u001b[0mtasks\u001b[0m\u001b[0;34m)\u001b[0m\u001b[0;34m\u001b[0m\u001b[0;34m\u001b[0m\u001b[0m\n\u001b[0m\u001b[1;32m    862\u001b[0m                 \u001b[0;32mreturn\u001b[0m \u001b[0;32mTrue\u001b[0m\u001b[0;34m\u001b[0m\u001b[0;34m\u001b[0m\u001b[0m\n\u001b[1;32m    863\u001b[0m \u001b[0;34m\u001b[0m\u001b[0m\n",
            "\u001b[0;32m/usr/local/lib/python3.7/dist-packages/joblib/parallel.py\u001b[0m in \u001b[0;36m_dispatch\u001b[0;34m(self, batch)\u001b[0m\n\u001b[1;32m    777\u001b[0m         \u001b[0;32mwith\u001b[0m \u001b[0mself\u001b[0m\u001b[0;34m.\u001b[0m\u001b[0m_lock\u001b[0m\u001b[0;34m:\u001b[0m\u001b[0;34m\u001b[0m\u001b[0;34m\u001b[0m\u001b[0m\n\u001b[1;32m    778\u001b[0m             \u001b[0mjob_idx\u001b[0m \u001b[0;34m=\u001b[0m \u001b[0mlen\u001b[0m\u001b[0;34m(\u001b[0m\u001b[0mself\u001b[0m\u001b[0;34m.\u001b[0m\u001b[0m_jobs\u001b[0m\u001b[0;34m)\u001b[0m\u001b[0;34m\u001b[0m\u001b[0;34m\u001b[0m\u001b[0m\n\u001b[0;32m--> 779\u001b[0;31m             \u001b[0mjob\u001b[0m \u001b[0;34m=\u001b[0m \u001b[0mself\u001b[0m\u001b[0;34m.\u001b[0m\u001b[0m_backend\u001b[0m\u001b[0;34m.\u001b[0m\u001b[0mapply_async\u001b[0m\u001b[0;34m(\u001b[0m\u001b[0mbatch\u001b[0m\u001b[0;34m,\u001b[0m \u001b[0mcallback\u001b[0m\u001b[0;34m=\u001b[0m\u001b[0mcb\u001b[0m\u001b[0;34m)\u001b[0m\u001b[0;34m\u001b[0m\u001b[0;34m\u001b[0m\u001b[0m\n\u001b[0m\u001b[1;32m    780\u001b[0m             \u001b[0;31m# A job can complete so quickly than its callback is\u001b[0m\u001b[0;34m\u001b[0m\u001b[0;34m\u001b[0m\u001b[0;34m\u001b[0m\u001b[0m\n\u001b[1;32m    781\u001b[0m             \u001b[0;31m# called before we get here, causing self._jobs to\u001b[0m\u001b[0;34m\u001b[0m\u001b[0;34m\u001b[0m\u001b[0;34m\u001b[0m\u001b[0m\n",
            "\u001b[0;32m/usr/local/lib/python3.7/dist-packages/joblib/_parallel_backends.py\u001b[0m in \u001b[0;36mapply_async\u001b[0;34m(self, func, callback)\u001b[0m\n\u001b[1;32m    206\u001b[0m     \u001b[0;32mdef\u001b[0m \u001b[0mapply_async\u001b[0m\u001b[0;34m(\u001b[0m\u001b[0mself\u001b[0m\u001b[0;34m,\u001b[0m \u001b[0mfunc\u001b[0m\u001b[0;34m,\u001b[0m \u001b[0mcallback\u001b[0m\u001b[0;34m=\u001b[0m\u001b[0;32mNone\u001b[0m\u001b[0;34m)\u001b[0m\u001b[0;34m:\u001b[0m\u001b[0;34m\u001b[0m\u001b[0;34m\u001b[0m\u001b[0m\n\u001b[1;32m    207\u001b[0m         \u001b[0;34m\"\"\"Schedule a func to be run\"\"\"\u001b[0m\u001b[0;34m\u001b[0m\u001b[0;34m\u001b[0m\u001b[0m\n\u001b[0;32m--> 208\u001b[0;31m         \u001b[0mresult\u001b[0m \u001b[0;34m=\u001b[0m \u001b[0mImmediateResult\u001b[0m\u001b[0;34m(\u001b[0m\u001b[0mfunc\u001b[0m\u001b[0;34m)\u001b[0m\u001b[0;34m\u001b[0m\u001b[0;34m\u001b[0m\u001b[0m\n\u001b[0m\u001b[1;32m    209\u001b[0m         \u001b[0;32mif\u001b[0m \u001b[0mcallback\u001b[0m\u001b[0;34m:\u001b[0m\u001b[0;34m\u001b[0m\u001b[0;34m\u001b[0m\u001b[0m\n\u001b[1;32m    210\u001b[0m             \u001b[0mcallback\u001b[0m\u001b[0;34m(\u001b[0m\u001b[0mresult\u001b[0m\u001b[0;34m)\u001b[0m\u001b[0;34m\u001b[0m\u001b[0;34m\u001b[0m\u001b[0m\n",
            "\u001b[0;32m/usr/local/lib/python3.7/dist-packages/joblib/_parallel_backends.py\u001b[0m in \u001b[0;36m__init__\u001b[0;34m(self, batch)\u001b[0m\n\u001b[1;32m    570\u001b[0m         \u001b[0;31m# Don't delay the application, to avoid keeping the input\u001b[0m\u001b[0;34m\u001b[0m\u001b[0;34m\u001b[0m\u001b[0;34m\u001b[0m\u001b[0m\n\u001b[1;32m    571\u001b[0m         \u001b[0;31m# arguments in memory\u001b[0m\u001b[0;34m\u001b[0m\u001b[0;34m\u001b[0m\u001b[0;34m\u001b[0m\u001b[0m\n\u001b[0;32m--> 572\u001b[0;31m         \u001b[0mself\u001b[0m\u001b[0;34m.\u001b[0m\u001b[0mresults\u001b[0m \u001b[0;34m=\u001b[0m \u001b[0mbatch\u001b[0m\u001b[0;34m(\u001b[0m\u001b[0;34m)\u001b[0m\u001b[0;34m\u001b[0m\u001b[0;34m\u001b[0m\u001b[0m\n\u001b[0m\u001b[1;32m    573\u001b[0m \u001b[0;34m\u001b[0m\u001b[0m\n\u001b[1;32m    574\u001b[0m     \u001b[0;32mdef\u001b[0m \u001b[0mget\u001b[0m\u001b[0;34m(\u001b[0m\u001b[0mself\u001b[0m\u001b[0;34m)\u001b[0m\u001b[0;34m:\u001b[0m\u001b[0;34m\u001b[0m\u001b[0;34m\u001b[0m\u001b[0m\n",
            "\u001b[0;32m/usr/local/lib/python3.7/dist-packages/joblib/parallel.py\u001b[0m in \u001b[0;36m__call__\u001b[0;34m(self)\u001b[0m\n\u001b[1;32m    261\u001b[0m         \u001b[0;32mwith\u001b[0m \u001b[0mparallel_backend\u001b[0m\u001b[0;34m(\u001b[0m\u001b[0mself\u001b[0m\u001b[0;34m.\u001b[0m\u001b[0m_backend\u001b[0m\u001b[0;34m,\u001b[0m \u001b[0mn_jobs\u001b[0m\u001b[0;34m=\u001b[0m\u001b[0mself\u001b[0m\u001b[0;34m.\u001b[0m\u001b[0m_n_jobs\u001b[0m\u001b[0;34m)\u001b[0m\u001b[0;34m:\u001b[0m\u001b[0;34m\u001b[0m\u001b[0;34m\u001b[0m\u001b[0m\n\u001b[1;32m    262\u001b[0m             return [func(*args, **kwargs)\n\u001b[0;32m--> 263\u001b[0;31m                     for func, args, kwargs in self.items]\n\u001b[0m\u001b[1;32m    264\u001b[0m \u001b[0;34m\u001b[0m\u001b[0m\n\u001b[1;32m    265\u001b[0m     \u001b[0;32mdef\u001b[0m \u001b[0m__reduce__\u001b[0m\u001b[0;34m(\u001b[0m\u001b[0mself\u001b[0m\u001b[0;34m)\u001b[0m\u001b[0;34m:\u001b[0m\u001b[0;34m\u001b[0m\u001b[0;34m\u001b[0m\u001b[0m\n",
            "\u001b[0;32m/usr/local/lib/python3.7/dist-packages/joblib/parallel.py\u001b[0m in \u001b[0;36m<listcomp>\u001b[0;34m(.0)\u001b[0m\n\u001b[1;32m    261\u001b[0m         \u001b[0;32mwith\u001b[0m \u001b[0mparallel_backend\u001b[0m\u001b[0;34m(\u001b[0m\u001b[0mself\u001b[0m\u001b[0;34m.\u001b[0m\u001b[0m_backend\u001b[0m\u001b[0;34m,\u001b[0m \u001b[0mn_jobs\u001b[0m\u001b[0;34m=\u001b[0m\u001b[0mself\u001b[0m\u001b[0;34m.\u001b[0m\u001b[0m_n_jobs\u001b[0m\u001b[0;34m)\u001b[0m\u001b[0;34m:\u001b[0m\u001b[0;34m\u001b[0m\u001b[0;34m\u001b[0m\u001b[0m\n\u001b[1;32m    262\u001b[0m             return [func(*args, **kwargs)\n\u001b[0;32m--> 263\u001b[0;31m                     for func, args, kwargs in self.items]\n\u001b[0m\u001b[1;32m    264\u001b[0m \u001b[0;34m\u001b[0m\u001b[0m\n\u001b[1;32m    265\u001b[0m     \u001b[0;32mdef\u001b[0m \u001b[0m__reduce__\u001b[0m\u001b[0;34m(\u001b[0m\u001b[0mself\u001b[0m\u001b[0;34m)\u001b[0m\u001b[0;34m:\u001b[0m\u001b[0;34m\u001b[0m\u001b[0;34m\u001b[0m\u001b[0m\n",
            "\u001b[0;32m/usr/local/lib/python3.7/dist-packages/sklearn/utils/fixes.py\u001b[0m in \u001b[0;36m__call__\u001b[0;34m(self, *args, **kwargs)\u001b[0m\n\u001b[1;32m    214\u001b[0m     \u001b[0;32mdef\u001b[0m \u001b[0m__call__\u001b[0m\u001b[0;34m(\u001b[0m\u001b[0mself\u001b[0m\u001b[0;34m,\u001b[0m \u001b[0;34m*\u001b[0m\u001b[0margs\u001b[0m\u001b[0;34m,\u001b[0m \u001b[0;34m**\u001b[0m\u001b[0mkwargs\u001b[0m\u001b[0;34m)\u001b[0m\u001b[0;34m:\u001b[0m\u001b[0;34m\u001b[0m\u001b[0;34m\u001b[0m\u001b[0m\n\u001b[1;32m    215\u001b[0m         \u001b[0;32mwith\u001b[0m \u001b[0mconfig_context\u001b[0m\u001b[0;34m(\u001b[0m\u001b[0;34m**\u001b[0m\u001b[0mself\u001b[0m\u001b[0;34m.\u001b[0m\u001b[0mconfig\u001b[0m\u001b[0;34m)\u001b[0m\u001b[0;34m:\u001b[0m\u001b[0;34m\u001b[0m\u001b[0;34m\u001b[0m\u001b[0m\n\u001b[0;32m--> 216\u001b[0;31m             \u001b[0;32mreturn\u001b[0m \u001b[0mself\u001b[0m\u001b[0;34m.\u001b[0m\u001b[0mfunction\u001b[0m\u001b[0;34m(\u001b[0m\u001b[0;34m*\u001b[0m\u001b[0margs\u001b[0m\u001b[0;34m,\u001b[0m \u001b[0;34m**\u001b[0m\u001b[0mkwargs\u001b[0m\u001b[0;34m)\u001b[0m\u001b[0;34m\u001b[0m\u001b[0;34m\u001b[0m\u001b[0m\n\u001b[0m\u001b[1;32m    217\u001b[0m \u001b[0;34m\u001b[0m\u001b[0m\n\u001b[1;32m    218\u001b[0m \u001b[0;34m\u001b[0m\u001b[0m\n",
            "\u001b[0;32m/usr/local/lib/python3.7/dist-packages/sklearn/model_selection/_validation.py\u001b[0m in \u001b[0;36m_fit_and_score\u001b[0;34m(estimator, X, y, scorer, train, test, verbose, parameters, fit_params, return_train_score, return_parameters, return_n_test_samples, return_times, return_estimator, split_progress, candidate_progress, error_score)\u001b[0m\n\u001b[1;32m    678\u001b[0m             \u001b[0mestimator\u001b[0m\u001b[0;34m.\u001b[0m\u001b[0mfit\u001b[0m\u001b[0;34m(\u001b[0m\u001b[0mX_train\u001b[0m\u001b[0;34m,\u001b[0m \u001b[0;34m**\u001b[0m\u001b[0mfit_params\u001b[0m\u001b[0;34m)\u001b[0m\u001b[0;34m\u001b[0m\u001b[0;34m\u001b[0m\u001b[0m\n\u001b[1;32m    679\u001b[0m         \u001b[0;32melse\u001b[0m\u001b[0;34m:\u001b[0m\u001b[0;34m\u001b[0m\u001b[0;34m\u001b[0m\u001b[0m\n\u001b[0;32m--> 680\u001b[0;31m             \u001b[0mestimator\u001b[0m\u001b[0;34m.\u001b[0m\u001b[0mfit\u001b[0m\u001b[0;34m(\u001b[0m\u001b[0mX_train\u001b[0m\u001b[0;34m,\u001b[0m \u001b[0my_train\u001b[0m\u001b[0;34m,\u001b[0m \u001b[0;34m**\u001b[0m\u001b[0mfit_params\u001b[0m\u001b[0;34m)\u001b[0m\u001b[0;34m\u001b[0m\u001b[0;34m\u001b[0m\u001b[0m\n\u001b[0m\u001b[1;32m    681\u001b[0m \u001b[0;34m\u001b[0m\u001b[0m\n\u001b[1;32m    682\u001b[0m     \u001b[0;32mexcept\u001b[0m \u001b[0mException\u001b[0m\u001b[0;34m:\u001b[0m\u001b[0;34m\u001b[0m\u001b[0;34m\u001b[0m\u001b[0m\n",
            "\u001b[0;32m/usr/local/lib/python3.7/dist-packages/keras/wrappers/scikit_learn.py\u001b[0m in \u001b[0;36mfit\u001b[0;34m(self, x, y, **kwargs)\u001b[0m\n\u001b[1;32m    234\u001b[0m       \u001b[0;32mraise\u001b[0m \u001b[0mValueError\u001b[0m\u001b[0;34m(\u001b[0m\u001b[0;34m'Invalid shape for y: '\u001b[0m \u001b[0;34m+\u001b[0m \u001b[0mstr\u001b[0m\u001b[0;34m(\u001b[0m\u001b[0my\u001b[0m\u001b[0;34m.\u001b[0m\u001b[0mshape\u001b[0m\u001b[0;34m)\u001b[0m\u001b[0;34m)\u001b[0m\u001b[0;34m\u001b[0m\u001b[0;34m\u001b[0m\u001b[0m\n\u001b[1;32m    235\u001b[0m     \u001b[0mself\u001b[0m\u001b[0;34m.\u001b[0m\u001b[0mn_classes_\u001b[0m \u001b[0;34m=\u001b[0m \u001b[0mlen\u001b[0m\u001b[0;34m(\u001b[0m\u001b[0mself\u001b[0m\u001b[0;34m.\u001b[0m\u001b[0mclasses_\u001b[0m\u001b[0;34m)\u001b[0m\u001b[0;34m\u001b[0m\u001b[0;34m\u001b[0m\u001b[0m\n\u001b[0;32m--> 236\u001b[0;31m     \u001b[0;32mreturn\u001b[0m \u001b[0msuper\u001b[0m\u001b[0;34m(\u001b[0m\u001b[0mKerasClassifier\u001b[0m\u001b[0;34m,\u001b[0m \u001b[0mself\u001b[0m\u001b[0;34m)\u001b[0m\u001b[0;34m.\u001b[0m\u001b[0mfit\u001b[0m\u001b[0;34m(\u001b[0m\u001b[0mx\u001b[0m\u001b[0;34m,\u001b[0m \u001b[0my\u001b[0m\u001b[0;34m,\u001b[0m \u001b[0;34m**\u001b[0m\u001b[0mkwargs\u001b[0m\u001b[0;34m)\u001b[0m\u001b[0;34m\u001b[0m\u001b[0;34m\u001b[0m\u001b[0m\n\u001b[0m\u001b[1;32m    237\u001b[0m \u001b[0;34m\u001b[0m\u001b[0m\n\u001b[1;32m    238\u001b[0m   \u001b[0;32mdef\u001b[0m \u001b[0mpredict\u001b[0m\u001b[0;34m(\u001b[0m\u001b[0mself\u001b[0m\u001b[0;34m,\u001b[0m \u001b[0mx\u001b[0m\u001b[0;34m,\u001b[0m \u001b[0;34m**\u001b[0m\u001b[0mkwargs\u001b[0m\u001b[0;34m)\u001b[0m\u001b[0;34m:\u001b[0m\u001b[0;34m\u001b[0m\u001b[0;34m\u001b[0m\u001b[0m\n",
            "\u001b[0;32m/usr/local/lib/python3.7/dist-packages/keras/wrappers/scikit_learn.py\u001b[0m in \u001b[0;36mfit\u001b[0;34m(self, x, y, **kwargs)\u001b[0m\n\u001b[1;32m    153\u001b[0m           **self.filter_sk_params(self.build_fn.__call__))\n\u001b[1;32m    154\u001b[0m     \u001b[0;32melse\u001b[0m\u001b[0;34m:\u001b[0m\u001b[0;34m\u001b[0m\u001b[0;34m\u001b[0m\u001b[0m\n\u001b[0;32m--> 155\u001b[0;31m       \u001b[0mself\u001b[0m\u001b[0;34m.\u001b[0m\u001b[0mmodel\u001b[0m \u001b[0;34m=\u001b[0m \u001b[0mself\u001b[0m\u001b[0;34m.\u001b[0m\u001b[0mbuild_fn\u001b[0m\u001b[0;34m(\u001b[0m\u001b[0;34m**\u001b[0m\u001b[0mself\u001b[0m\u001b[0;34m.\u001b[0m\u001b[0mfilter_sk_params\u001b[0m\u001b[0;34m(\u001b[0m\u001b[0mself\u001b[0m\u001b[0;34m.\u001b[0m\u001b[0mbuild_fn\u001b[0m\u001b[0;34m)\u001b[0m\u001b[0;34m)\u001b[0m\u001b[0;34m\u001b[0m\u001b[0;34m\u001b[0m\u001b[0m\n\u001b[0m\u001b[1;32m    156\u001b[0m \u001b[0;34m\u001b[0m\u001b[0m\n\u001b[1;32m    157\u001b[0m     if (losses.is_categorical_crossentropy(self.model.loss) and\n",
            "\u001b[0;32m<ipython-input-114-9bd9deaacea6>\u001b[0m in \u001b[0;36mbuild_model\u001b[0;34m()\u001b[0m\n\u001b[1;32m     13\u001b[0m \u001b[0;34m\u001b[0m\u001b[0m\n\u001b[1;32m     14\u001b[0m     \u001b[0mmodel1\u001b[0m\u001b[0;34m.\u001b[0m\u001b[0madd\u001b[0m\u001b[0;34m(\u001b[0m\u001b[0mlayers\u001b[0m\u001b[0;34m.\u001b[0m\u001b[0mFlatten\u001b[0m\u001b[0;34m(\u001b[0m\u001b[0;34m)\u001b[0m\u001b[0;34m)\u001b[0m\u001b[0;34m\u001b[0m\u001b[0;34m\u001b[0m\u001b[0m\n\u001b[0;32m---> 15\u001b[0;31m     \u001b[0mmodel1\u001b[0m\u001b[0;34m.\u001b[0m\u001b[0madd\u001b[0m\u001b[0;34m(\u001b[0m\u001b[0mlayers\u001b[0m\u001b[0;34m.\u001b[0m\u001b[0mDense\u001b[0m\u001b[0;34m(\u001b[0m\u001b[0;36m64\u001b[0m\u001b[0;34m,\u001b[0m \u001b[0mactivation\u001b[0m\u001b[0;34m=\u001b[0m\u001b[0;34m'relu'\u001b[0m\u001b[0;34m)\u001b[0m\u001b[0;34m)\u001b[0m\u001b[0;34m\u001b[0m\u001b[0;34m\u001b[0m\u001b[0m\n\u001b[0m\u001b[1;32m     16\u001b[0m     \u001b[0mmodel1\u001b[0m\u001b[0;34m.\u001b[0m\u001b[0madd\u001b[0m\u001b[0;34m(\u001b[0m\u001b[0mlayers\u001b[0m\u001b[0;34m.\u001b[0m\u001b[0mDropout\u001b[0m\u001b[0;34m(\u001b[0m\u001b[0;36m.25\u001b[0m\u001b[0;34m)\u001b[0m\u001b[0;34m)\u001b[0m\u001b[0;34m\u001b[0m\u001b[0;34m\u001b[0m\u001b[0m\n\u001b[1;32m     17\u001b[0m \u001b[0;34m\u001b[0m\u001b[0m\n",
            "\u001b[0;32m/usr/local/lib/python3.7/dist-packages/tensorflow/python/training/tracking/base.py\u001b[0m in \u001b[0;36m_method_wrapper\u001b[0;34m(self, *args, **kwargs)\u001b[0m\n\u001b[1;32m    627\u001b[0m     \u001b[0mself\u001b[0m\u001b[0;34m.\u001b[0m\u001b[0m_self_setattr_tracking\u001b[0m \u001b[0;34m=\u001b[0m \u001b[0;32mFalse\u001b[0m  \u001b[0;31m# pylint: disable=protected-access\u001b[0m\u001b[0;34m\u001b[0m\u001b[0;34m\u001b[0m\u001b[0m\n\u001b[1;32m    628\u001b[0m     \u001b[0;32mtry\u001b[0m\u001b[0;34m:\u001b[0m\u001b[0;34m\u001b[0m\u001b[0;34m\u001b[0m\u001b[0m\n\u001b[0;32m--> 629\u001b[0;31m       \u001b[0mresult\u001b[0m \u001b[0;34m=\u001b[0m \u001b[0mmethod\u001b[0m\u001b[0;34m(\u001b[0m\u001b[0mself\u001b[0m\u001b[0;34m,\u001b[0m \u001b[0;34m*\u001b[0m\u001b[0margs\u001b[0m\u001b[0;34m,\u001b[0m \u001b[0;34m**\u001b[0m\u001b[0mkwargs\u001b[0m\u001b[0;34m)\u001b[0m\u001b[0;34m\u001b[0m\u001b[0;34m\u001b[0m\u001b[0m\n\u001b[0m\u001b[1;32m    630\u001b[0m     \u001b[0;32mfinally\u001b[0m\u001b[0;34m:\u001b[0m\u001b[0;34m\u001b[0m\u001b[0;34m\u001b[0m\u001b[0m\n\u001b[1;32m    631\u001b[0m       \u001b[0mself\u001b[0m\u001b[0;34m.\u001b[0m\u001b[0m_self_setattr_tracking\u001b[0m \u001b[0;34m=\u001b[0m \u001b[0mprevious_value\u001b[0m  \u001b[0;31m# pylint: disable=protected-access\u001b[0m\u001b[0;34m\u001b[0m\u001b[0;34m\u001b[0m\u001b[0m\n",
            "\u001b[0;32m/usr/local/lib/python3.7/dist-packages/keras/utils/traceback_utils.py\u001b[0m in \u001b[0;36merror_handler\u001b[0;34m(*args, **kwargs)\u001b[0m\n\u001b[1;32m     62\u001b[0m     \u001b[0mfiltered_tb\u001b[0m \u001b[0;34m=\u001b[0m \u001b[0;32mNone\u001b[0m\u001b[0;34m\u001b[0m\u001b[0;34m\u001b[0m\u001b[0m\n\u001b[1;32m     63\u001b[0m     \u001b[0;32mtry\u001b[0m\u001b[0;34m:\u001b[0m\u001b[0;34m\u001b[0m\u001b[0;34m\u001b[0m\u001b[0m\n\u001b[0;32m---> 64\u001b[0;31m       \u001b[0;32mreturn\u001b[0m \u001b[0mfn\u001b[0m\u001b[0;34m(\u001b[0m\u001b[0;34m*\u001b[0m\u001b[0margs\u001b[0m\u001b[0;34m,\u001b[0m \u001b[0;34m**\u001b[0m\u001b[0mkwargs\u001b[0m\u001b[0;34m)\u001b[0m\u001b[0;34m\u001b[0m\u001b[0;34m\u001b[0m\u001b[0m\n\u001b[0m\u001b[1;32m     65\u001b[0m     \u001b[0;32mexcept\u001b[0m \u001b[0mException\u001b[0m \u001b[0;32mas\u001b[0m \u001b[0me\u001b[0m\u001b[0;34m:\u001b[0m  \u001b[0;31m# pylint: disable=broad-except\u001b[0m\u001b[0;34m\u001b[0m\u001b[0;34m\u001b[0m\u001b[0m\n\u001b[1;32m     66\u001b[0m       \u001b[0mfiltered_tb\u001b[0m \u001b[0;34m=\u001b[0m \u001b[0m_process_traceback_frames\u001b[0m\u001b[0;34m(\u001b[0m\u001b[0me\u001b[0m\u001b[0;34m.\u001b[0m\u001b[0m__traceback__\u001b[0m\u001b[0;34m)\u001b[0m\u001b[0;34m\u001b[0m\u001b[0;34m\u001b[0m\u001b[0m\n",
            "\u001b[0;32m/usr/local/lib/python3.7/dist-packages/keras/engine/sequential.py\u001b[0m in \u001b[0;36madd\u001b[0;34m(self, layer)\u001b[0m\n\u001b[1;32m    218\u001b[0m       \u001b[0;31m# If the model is being built continuously on top of an input layer:\u001b[0m\u001b[0;34m\u001b[0m\u001b[0;34m\u001b[0m\u001b[0;34m\u001b[0m\u001b[0m\n\u001b[1;32m    219\u001b[0m       \u001b[0;31m# refresh its output.\u001b[0m\u001b[0;34m\u001b[0m\u001b[0;34m\u001b[0m\u001b[0;34m\u001b[0m\u001b[0m\n\u001b[0;32m--> 220\u001b[0;31m       \u001b[0moutput_tensor\u001b[0m \u001b[0;34m=\u001b[0m \u001b[0mlayer\u001b[0m\u001b[0;34m(\u001b[0m\u001b[0mself\u001b[0m\u001b[0;34m.\u001b[0m\u001b[0moutputs\u001b[0m\u001b[0;34m[\u001b[0m\u001b[0;36m0\u001b[0m\u001b[0;34m]\u001b[0m\u001b[0;34m)\u001b[0m\u001b[0;34m\u001b[0m\u001b[0;34m\u001b[0m\u001b[0m\n\u001b[0m\u001b[1;32m    221\u001b[0m       \u001b[0;32mif\u001b[0m \u001b[0mlen\u001b[0m\u001b[0;34m(\u001b[0m\u001b[0mtf\u001b[0m\u001b[0;34m.\u001b[0m\u001b[0mnest\u001b[0m\u001b[0;34m.\u001b[0m\u001b[0mflatten\u001b[0m\u001b[0;34m(\u001b[0m\u001b[0moutput_tensor\u001b[0m\u001b[0;34m)\u001b[0m\u001b[0;34m)\u001b[0m \u001b[0;34m!=\u001b[0m \u001b[0;36m1\u001b[0m\u001b[0;34m:\u001b[0m\u001b[0;34m\u001b[0m\u001b[0;34m\u001b[0m\u001b[0m\n\u001b[1;32m    222\u001b[0m         \u001b[0;32mraise\u001b[0m \u001b[0mValueError\u001b[0m\u001b[0;34m(\u001b[0m\u001b[0mSINGLE_LAYER_OUTPUT_ERROR_MSG\u001b[0m\u001b[0;34m)\u001b[0m\u001b[0;34m\u001b[0m\u001b[0;34m\u001b[0m\u001b[0m\n",
            "\u001b[0;32m/usr/local/lib/python3.7/dist-packages/keras/utils/traceback_utils.py\u001b[0m in \u001b[0;36merror_handler\u001b[0;34m(*args, **kwargs)\u001b[0m\n\u001b[1;32m     62\u001b[0m     \u001b[0mfiltered_tb\u001b[0m \u001b[0;34m=\u001b[0m \u001b[0;32mNone\u001b[0m\u001b[0;34m\u001b[0m\u001b[0;34m\u001b[0m\u001b[0m\n\u001b[1;32m     63\u001b[0m     \u001b[0;32mtry\u001b[0m\u001b[0;34m:\u001b[0m\u001b[0;34m\u001b[0m\u001b[0;34m\u001b[0m\u001b[0m\n\u001b[0;32m---> 64\u001b[0;31m       \u001b[0;32mreturn\u001b[0m \u001b[0mfn\u001b[0m\u001b[0;34m(\u001b[0m\u001b[0;34m*\u001b[0m\u001b[0margs\u001b[0m\u001b[0;34m,\u001b[0m \u001b[0;34m**\u001b[0m\u001b[0mkwargs\u001b[0m\u001b[0;34m)\u001b[0m\u001b[0;34m\u001b[0m\u001b[0;34m\u001b[0m\u001b[0m\n\u001b[0m\u001b[1;32m     65\u001b[0m     \u001b[0;32mexcept\u001b[0m \u001b[0mException\u001b[0m \u001b[0;32mas\u001b[0m \u001b[0me\u001b[0m\u001b[0;34m:\u001b[0m  \u001b[0;31m# pylint: disable=broad-except\u001b[0m\u001b[0;34m\u001b[0m\u001b[0;34m\u001b[0m\u001b[0m\n\u001b[1;32m     66\u001b[0m       \u001b[0mfiltered_tb\u001b[0m \u001b[0;34m=\u001b[0m \u001b[0m_process_traceback_frames\u001b[0m\u001b[0;34m(\u001b[0m\u001b[0me\u001b[0m\u001b[0;34m.\u001b[0m\u001b[0m__traceback__\u001b[0m\u001b[0;34m)\u001b[0m\u001b[0;34m\u001b[0m\u001b[0;34m\u001b[0m\u001b[0m\n",
            "\u001b[0;32m/usr/local/lib/python3.7/dist-packages/keras/engine/base_layer.py\u001b[0m in \u001b[0;36m__call__\u001b[0;34m(self, *args, **kwargs)\u001b[0m\n\u001b[1;32m   1031\u001b[0m     \u001b[0;32mif\u001b[0m \u001b[0m_in_functional_construction_mode\u001b[0m\u001b[0;34m(\u001b[0m\u001b[0mself\u001b[0m\u001b[0;34m,\u001b[0m \u001b[0minputs\u001b[0m\u001b[0;34m,\u001b[0m \u001b[0margs\u001b[0m\u001b[0;34m,\u001b[0m \u001b[0mkwargs\u001b[0m\u001b[0;34m,\u001b[0m \u001b[0minput_list\u001b[0m\u001b[0;34m)\u001b[0m\u001b[0;34m:\u001b[0m\u001b[0;34m\u001b[0m\u001b[0;34m\u001b[0m\u001b[0m\n\u001b[1;32m   1032\u001b[0m       return self._functional_construction_call(inputs, args, kwargs,\n\u001b[0;32m-> 1033\u001b[0;31m                                                 input_list)\n\u001b[0m\u001b[1;32m   1034\u001b[0m \u001b[0;34m\u001b[0m\u001b[0m\n\u001b[1;32m   1035\u001b[0m     \u001b[0;31m# Maintains info about the `Layer.call` stack.\u001b[0m\u001b[0;34m\u001b[0m\u001b[0;34m\u001b[0m\u001b[0;34m\u001b[0m\u001b[0m\n",
            "\u001b[0;32m/usr/local/lib/python3.7/dist-packages/keras/engine/base_layer.py\u001b[0m in \u001b[0;36m_functional_construction_call\u001b[0;34m(self, inputs, args, kwargs, input_list)\u001b[0m\n\u001b[1;32m   1172\u001b[0m       \u001b[0;31m# Check input assumptions set after layer building, e.g. input shape.\u001b[0m\u001b[0;34m\u001b[0m\u001b[0;34m\u001b[0m\u001b[0;34m\u001b[0m\u001b[0m\n\u001b[1;32m   1173\u001b[0m       outputs = self._keras_tensor_symbolic_call(\n\u001b[0;32m-> 1174\u001b[0;31m           inputs, input_masks, args, kwargs)\n\u001b[0m\u001b[1;32m   1175\u001b[0m \u001b[0;34m\u001b[0m\u001b[0m\n\u001b[1;32m   1176\u001b[0m       \u001b[0;32mif\u001b[0m \u001b[0moutputs\u001b[0m \u001b[0;32mis\u001b[0m \u001b[0;32mNone\u001b[0m\u001b[0;34m:\u001b[0m\u001b[0;34m\u001b[0m\u001b[0;34m\u001b[0m\u001b[0m\n",
            "\u001b[0;32m/usr/local/lib/python3.7/dist-packages/keras/engine/base_layer.py\u001b[0m in \u001b[0;36m_keras_tensor_symbolic_call\u001b[0;34m(self, inputs, input_masks, args, kwargs)\u001b[0m\n\u001b[1;32m    895\u001b[0m       \u001b[0;32mreturn\u001b[0m \u001b[0mtf\u001b[0m\u001b[0;34m.\u001b[0m\u001b[0mnest\u001b[0m\u001b[0;34m.\u001b[0m\u001b[0mmap_structure\u001b[0m\u001b[0;34m(\u001b[0m\u001b[0mkeras_tensor\u001b[0m\u001b[0;34m.\u001b[0m\u001b[0mKerasTensor\u001b[0m\u001b[0;34m,\u001b[0m \u001b[0moutput_signature\u001b[0m\u001b[0;34m)\u001b[0m\u001b[0;34m\u001b[0m\u001b[0;34m\u001b[0m\u001b[0m\n\u001b[1;32m    896\u001b[0m     \u001b[0;32melse\u001b[0m\u001b[0;34m:\u001b[0m\u001b[0;34m\u001b[0m\u001b[0;34m\u001b[0m\u001b[0m\n\u001b[0;32m--> 897\u001b[0;31m       \u001b[0;32mreturn\u001b[0m \u001b[0mself\u001b[0m\u001b[0;34m.\u001b[0m\u001b[0m_infer_output_signature\u001b[0m\u001b[0;34m(\u001b[0m\u001b[0minputs\u001b[0m\u001b[0;34m,\u001b[0m \u001b[0margs\u001b[0m\u001b[0;34m,\u001b[0m \u001b[0mkwargs\u001b[0m\u001b[0;34m,\u001b[0m \u001b[0minput_masks\u001b[0m\u001b[0;34m)\u001b[0m\u001b[0;34m\u001b[0m\u001b[0;34m\u001b[0m\u001b[0m\n\u001b[0m\u001b[1;32m    898\u001b[0m \u001b[0;34m\u001b[0m\u001b[0m\n\u001b[1;32m    899\u001b[0m   \u001b[0;32mdef\u001b[0m \u001b[0m_infer_output_signature\u001b[0m\u001b[0;34m(\u001b[0m\u001b[0mself\u001b[0m\u001b[0;34m,\u001b[0m \u001b[0minputs\u001b[0m\u001b[0;34m,\u001b[0m \u001b[0margs\u001b[0m\u001b[0;34m,\u001b[0m \u001b[0mkwargs\u001b[0m\u001b[0;34m,\u001b[0m \u001b[0minput_masks\u001b[0m\u001b[0;34m)\u001b[0m\u001b[0;34m:\u001b[0m\u001b[0;34m\u001b[0m\u001b[0;34m\u001b[0m\u001b[0m\n",
            "\u001b[0;32m/usr/local/lib/python3.7/dist-packages/keras/engine/base_layer.py\u001b[0m in \u001b[0;36m_infer_output_signature\u001b[0;34m(self, inputs, args, kwargs, input_masks)\u001b[0m\n\u001b[1;32m    938\u001b[0m           \u001b[0;31m# overridden).\u001b[0m\u001b[0;34m\u001b[0m\u001b[0;34m\u001b[0m\u001b[0;34m\u001b[0m\u001b[0m\n\u001b[1;32m    939\u001b[0m           \u001b[0;31m# TODO(kaftan): do we maybe_build here, or have we already done it?\u001b[0m\u001b[0;34m\u001b[0m\u001b[0;34m\u001b[0m\u001b[0;34m\u001b[0m\u001b[0m\n\u001b[0;32m--> 940\u001b[0;31m           \u001b[0mself\u001b[0m\u001b[0;34m.\u001b[0m\u001b[0m_maybe_build\u001b[0m\u001b[0;34m(\u001b[0m\u001b[0minputs\u001b[0m\u001b[0;34m)\u001b[0m\u001b[0;34m\u001b[0m\u001b[0;34m\u001b[0m\u001b[0m\n\u001b[0m\u001b[1;32m    941\u001b[0m           \u001b[0minputs\u001b[0m \u001b[0;34m=\u001b[0m \u001b[0mself\u001b[0m\u001b[0;34m.\u001b[0m\u001b[0m_maybe_cast_inputs\u001b[0m\u001b[0;34m(\u001b[0m\u001b[0minputs\u001b[0m\u001b[0;34m)\u001b[0m\u001b[0;34m\u001b[0m\u001b[0;34m\u001b[0m\u001b[0m\n\u001b[1;32m    942\u001b[0m           \u001b[0moutputs\u001b[0m \u001b[0;34m=\u001b[0m \u001b[0mcall_fn\u001b[0m\u001b[0;34m(\u001b[0m\u001b[0minputs\u001b[0m\u001b[0;34m,\u001b[0m \u001b[0;34m*\u001b[0m\u001b[0margs\u001b[0m\u001b[0;34m,\u001b[0m \u001b[0;34m**\u001b[0m\u001b[0mkwargs\u001b[0m\u001b[0;34m)\u001b[0m\u001b[0;34m\u001b[0m\u001b[0;34m\u001b[0m\u001b[0m\n",
            "\u001b[0;32m/usr/local/lib/python3.7/dist-packages/keras/engine/base_layer.py\u001b[0m in \u001b[0;36m_maybe_build\u001b[0;34m(self, inputs)\u001b[0m\n\u001b[1;32m   2740\u001b[0m         \u001b[0;31m# operations.\u001b[0m\u001b[0;34m\u001b[0m\u001b[0;34m\u001b[0m\u001b[0;34m\u001b[0m\u001b[0m\n\u001b[1;32m   2741\u001b[0m         \u001b[0;32mwith\u001b[0m \u001b[0mtf_utils\u001b[0m\u001b[0;34m.\u001b[0m\u001b[0mmaybe_init_scope\u001b[0m\u001b[0;34m(\u001b[0m\u001b[0mself\u001b[0m\u001b[0;34m)\u001b[0m\u001b[0;34m:\u001b[0m\u001b[0;34m\u001b[0m\u001b[0;34m\u001b[0m\u001b[0m\n\u001b[0;32m-> 2742\u001b[0;31m           \u001b[0mself\u001b[0m\u001b[0;34m.\u001b[0m\u001b[0mbuild\u001b[0m\u001b[0;34m(\u001b[0m\u001b[0minput_shapes\u001b[0m\u001b[0;34m)\u001b[0m  \u001b[0;31m# pylint:disable=not-callable\u001b[0m\u001b[0;34m\u001b[0m\u001b[0;34m\u001b[0m\u001b[0m\n\u001b[0m\u001b[1;32m   2743\u001b[0m       \u001b[0;31m# We must set also ensure that the layer is marked as built, and the build\u001b[0m\u001b[0;34m\u001b[0m\u001b[0;34m\u001b[0m\u001b[0;34m\u001b[0m\u001b[0m\n\u001b[1;32m   2744\u001b[0m       \u001b[0;31m# shape is stored since user defined build functions may not be calling\u001b[0m\u001b[0;34m\u001b[0m\u001b[0;34m\u001b[0m\u001b[0;34m\u001b[0m\u001b[0m\n",
            "\u001b[0;32m/usr/local/lib/python3.7/dist-packages/keras/layers/core/dense.py\u001b[0m in \u001b[0;36mbuild\u001b[0;34m(self, input_shape)\u001b[0m\n\u001b[1;32m    148\u001b[0m         \u001b[0mconstraint\u001b[0m\u001b[0;34m=\u001b[0m\u001b[0mself\u001b[0m\u001b[0;34m.\u001b[0m\u001b[0mkernel_constraint\u001b[0m\u001b[0;34m,\u001b[0m\u001b[0;34m\u001b[0m\u001b[0;34m\u001b[0m\u001b[0m\n\u001b[1;32m    149\u001b[0m         \u001b[0mdtype\u001b[0m\u001b[0;34m=\u001b[0m\u001b[0mself\u001b[0m\u001b[0;34m.\u001b[0m\u001b[0mdtype\u001b[0m\u001b[0;34m,\u001b[0m\u001b[0;34m\u001b[0m\u001b[0;34m\u001b[0m\u001b[0m\n\u001b[0;32m--> 150\u001b[0;31m         trainable=True)\n\u001b[0m\u001b[1;32m    151\u001b[0m     \u001b[0;32mif\u001b[0m \u001b[0mself\u001b[0m\u001b[0;34m.\u001b[0m\u001b[0muse_bias\u001b[0m\u001b[0;34m:\u001b[0m\u001b[0;34m\u001b[0m\u001b[0;34m\u001b[0m\u001b[0m\n\u001b[1;32m    152\u001b[0m       self.bias = self.add_weight(\n",
            "\u001b[0;32m/usr/local/lib/python3.7/dist-packages/keras/engine/base_layer.py\u001b[0m in \u001b[0;36madd_weight\u001b[0;34m(self, name, shape, dtype, initializer, regularizer, trainable, constraint, use_resource, synchronization, aggregation, **kwargs)\u001b[0m\n\u001b[1;32m    692\u001b[0m         \u001b[0msynchronization\u001b[0m\u001b[0;34m=\u001b[0m\u001b[0msynchronization\u001b[0m\u001b[0;34m,\u001b[0m\u001b[0;34m\u001b[0m\u001b[0;34m\u001b[0m\u001b[0m\n\u001b[1;32m    693\u001b[0m         \u001b[0maggregation\u001b[0m\u001b[0;34m=\u001b[0m\u001b[0maggregation\u001b[0m\u001b[0;34m,\u001b[0m\u001b[0;34m\u001b[0m\u001b[0;34m\u001b[0m\u001b[0m\n\u001b[0;32m--> 694\u001b[0;31m         caching_device=caching_device)\n\u001b[0m\u001b[1;32m    695\u001b[0m     \u001b[0;32mif\u001b[0m \u001b[0mregularizer\u001b[0m \u001b[0;32mis\u001b[0m \u001b[0;32mnot\u001b[0m \u001b[0;32mNone\u001b[0m\u001b[0;34m:\u001b[0m\u001b[0;34m\u001b[0m\u001b[0;34m\u001b[0m\u001b[0m\n\u001b[1;32m    696\u001b[0m       \u001b[0;31m# TODO(fchollet): in the future, this should be handled at the\u001b[0m\u001b[0;34m\u001b[0m\u001b[0;34m\u001b[0m\u001b[0;34m\u001b[0m\u001b[0m\n",
            "\u001b[0;32m/usr/local/lib/python3.7/dist-packages/tensorflow/python/training/tracking/base.py\u001b[0m in \u001b[0;36m_add_variable_with_custom_getter\u001b[0;34m(self, name, shape, dtype, initializer, getter, overwrite, **kwargs_for_getter)\u001b[0m\n\u001b[1;32m    918\u001b[0m         \u001b[0mdtype\u001b[0m\u001b[0;34m=\u001b[0m\u001b[0mdtype\u001b[0m\u001b[0;34m,\u001b[0m\u001b[0;34m\u001b[0m\u001b[0;34m\u001b[0m\u001b[0m\n\u001b[1;32m    919\u001b[0m         \u001b[0minitializer\u001b[0m\u001b[0;34m=\u001b[0m\u001b[0minitializer\u001b[0m\u001b[0;34m,\u001b[0m\u001b[0;34m\u001b[0m\u001b[0;34m\u001b[0m\u001b[0m\n\u001b[0;32m--> 920\u001b[0;31m         **kwargs_for_getter)\n\u001b[0m\u001b[1;32m    921\u001b[0m \u001b[0;34m\u001b[0m\u001b[0m\n\u001b[1;32m    922\u001b[0m     \u001b[0;31m# If we set an initializer and the variable processed it, tracking will not\u001b[0m\u001b[0;34m\u001b[0m\u001b[0;34m\u001b[0m\u001b[0;34m\u001b[0m\u001b[0m\n",
            "\u001b[0;32m/usr/local/lib/python3.7/dist-packages/keras/engine/base_layer_utils.py\u001b[0m in \u001b[0;36mmake_variable\u001b[0;34m(name, shape, dtype, initializer, trainable, caching_device, validate_shape, constraint, use_resource, collections, synchronization, aggregation, partitioner)\u001b[0m\n\u001b[1;32m    127\u001b[0m       \u001b[0msynchronization\u001b[0m\u001b[0;34m=\u001b[0m\u001b[0msynchronization\u001b[0m\u001b[0;34m,\u001b[0m\u001b[0;34m\u001b[0m\u001b[0;34m\u001b[0m\u001b[0m\n\u001b[1;32m    128\u001b[0m       \u001b[0maggregation\u001b[0m\u001b[0;34m=\u001b[0m\u001b[0maggregation\u001b[0m\u001b[0;34m,\u001b[0m\u001b[0;34m\u001b[0m\u001b[0;34m\u001b[0m\u001b[0m\n\u001b[0;32m--> 129\u001b[0;31m       shape=variable_shape if variable_shape else None)\n\u001b[0m\u001b[1;32m    130\u001b[0m \u001b[0;34m\u001b[0m\u001b[0m\n\u001b[1;32m    131\u001b[0m \u001b[0;34m\u001b[0m\u001b[0m\n",
            "\u001b[0;32m/usr/local/lib/python3.7/dist-packages/tensorflow/python/util/traceback_utils.py\u001b[0m in \u001b[0;36merror_handler\u001b[0;34m(*args, **kwargs)\u001b[0m\n\u001b[1;32m    148\u001b[0m     \u001b[0mfiltered_tb\u001b[0m \u001b[0;34m=\u001b[0m \u001b[0;32mNone\u001b[0m\u001b[0;34m\u001b[0m\u001b[0;34m\u001b[0m\u001b[0m\n\u001b[1;32m    149\u001b[0m     \u001b[0;32mtry\u001b[0m\u001b[0;34m:\u001b[0m\u001b[0;34m\u001b[0m\u001b[0;34m\u001b[0m\u001b[0m\n\u001b[0;32m--> 150\u001b[0;31m       \u001b[0;32mreturn\u001b[0m \u001b[0mfn\u001b[0m\u001b[0;34m(\u001b[0m\u001b[0;34m*\u001b[0m\u001b[0margs\u001b[0m\u001b[0;34m,\u001b[0m \u001b[0;34m**\u001b[0m\u001b[0mkwargs\u001b[0m\u001b[0;34m)\u001b[0m\u001b[0;34m\u001b[0m\u001b[0;34m\u001b[0m\u001b[0m\n\u001b[0m\u001b[1;32m    151\u001b[0m     \u001b[0;32mexcept\u001b[0m \u001b[0mException\u001b[0m \u001b[0;32mas\u001b[0m \u001b[0me\u001b[0m\u001b[0;34m:\u001b[0m\u001b[0;34m\u001b[0m\u001b[0;34m\u001b[0m\u001b[0m\n\u001b[1;32m    152\u001b[0m       \u001b[0mfiltered_tb\u001b[0m \u001b[0;34m=\u001b[0m \u001b[0m_process_traceback_frames\u001b[0m\u001b[0;34m(\u001b[0m\u001b[0me\u001b[0m\u001b[0;34m.\u001b[0m\u001b[0m__traceback__\u001b[0m\u001b[0;34m)\u001b[0m\u001b[0;34m\u001b[0m\u001b[0;34m\u001b[0m\u001b[0m\n",
            "\u001b[0;32m/usr/local/lib/python3.7/dist-packages/tensorflow/python/ops/variables.py\u001b[0m in \u001b[0;36m__call__\u001b[0;34m(cls, *args, **kwargs)\u001b[0m\n\u001b[1;32m    263\u001b[0m   \u001b[0;32mdef\u001b[0m \u001b[0m__call__\u001b[0m\u001b[0;34m(\u001b[0m\u001b[0mcls\u001b[0m\u001b[0;34m,\u001b[0m \u001b[0;34m*\u001b[0m\u001b[0margs\u001b[0m\u001b[0;34m,\u001b[0m \u001b[0;34m**\u001b[0m\u001b[0mkwargs\u001b[0m\u001b[0;34m)\u001b[0m\u001b[0;34m:\u001b[0m\u001b[0;34m\u001b[0m\u001b[0;34m\u001b[0m\u001b[0m\n\u001b[1;32m    264\u001b[0m     \u001b[0;32mif\u001b[0m \u001b[0mcls\u001b[0m \u001b[0;32mis\u001b[0m \u001b[0mVariableV1\u001b[0m\u001b[0;34m:\u001b[0m\u001b[0;34m\u001b[0m\u001b[0;34m\u001b[0m\u001b[0m\n\u001b[0;32m--> 265\u001b[0;31m       \u001b[0;32mreturn\u001b[0m \u001b[0mcls\u001b[0m\u001b[0;34m.\u001b[0m\u001b[0m_variable_v1_call\u001b[0m\u001b[0;34m(\u001b[0m\u001b[0;34m*\u001b[0m\u001b[0margs\u001b[0m\u001b[0;34m,\u001b[0m \u001b[0;34m**\u001b[0m\u001b[0mkwargs\u001b[0m\u001b[0;34m)\u001b[0m\u001b[0;34m\u001b[0m\u001b[0;34m\u001b[0m\u001b[0m\n\u001b[0m\u001b[1;32m    266\u001b[0m     \u001b[0;32melif\u001b[0m \u001b[0mcls\u001b[0m \u001b[0;32mis\u001b[0m \u001b[0mVariable\u001b[0m\u001b[0;34m:\u001b[0m\u001b[0;34m\u001b[0m\u001b[0;34m\u001b[0m\u001b[0m\n\u001b[1;32m    267\u001b[0m       \u001b[0;32mreturn\u001b[0m \u001b[0mcls\u001b[0m\u001b[0;34m.\u001b[0m\u001b[0m_variable_v2_call\u001b[0m\u001b[0;34m(\u001b[0m\u001b[0;34m*\u001b[0m\u001b[0margs\u001b[0m\u001b[0;34m,\u001b[0m \u001b[0;34m**\u001b[0m\u001b[0mkwargs\u001b[0m\u001b[0;34m)\u001b[0m\u001b[0;34m\u001b[0m\u001b[0;34m\u001b[0m\u001b[0m\n",
            "\u001b[0;32m/usr/local/lib/python3.7/dist-packages/tensorflow/python/ops/variables.py\u001b[0m in \u001b[0;36m_variable_v1_call\u001b[0;34m(cls, initial_value, trainable, collections, validate_shape, caching_device, name, variable_def, dtype, expected_shape, import_scope, constraint, use_resource, synchronization, aggregation, shape)\u001b[0m\n\u001b[1;32m    223\u001b[0m         \u001b[0msynchronization\u001b[0m\u001b[0;34m=\u001b[0m\u001b[0msynchronization\u001b[0m\u001b[0;34m,\u001b[0m\u001b[0;34m\u001b[0m\u001b[0;34m\u001b[0m\u001b[0m\n\u001b[1;32m    224\u001b[0m         \u001b[0maggregation\u001b[0m\u001b[0;34m=\u001b[0m\u001b[0maggregation\u001b[0m\u001b[0;34m,\u001b[0m\u001b[0;34m\u001b[0m\u001b[0;34m\u001b[0m\u001b[0m\n\u001b[0;32m--> 225\u001b[0;31m         shape=shape)\n\u001b[0m\u001b[1;32m    226\u001b[0m \u001b[0;34m\u001b[0m\u001b[0m\n\u001b[1;32m    227\u001b[0m   def _variable_v2_call(cls,\n",
            "\u001b[0;32m/usr/local/lib/python3.7/dist-packages/tensorflow/python/ops/variables.py\u001b[0m in \u001b[0;36m<lambda>\u001b[0;34m(**kwargs)\u001b[0m\n\u001b[1;32m    201\u001b[0m                         shape=None):\n\u001b[1;32m    202\u001b[0m     \u001b[0;34m\"\"\"Call on Variable class. Useful to force the signature.\"\"\"\u001b[0m\u001b[0;34m\u001b[0m\u001b[0;34m\u001b[0m\u001b[0m\n\u001b[0;32m--> 203\u001b[0;31m     \u001b[0mprevious_getter\u001b[0m \u001b[0;34m=\u001b[0m \u001b[0;32mlambda\u001b[0m \u001b[0;34m**\u001b[0m\u001b[0mkwargs\u001b[0m\u001b[0;34m:\u001b[0m \u001b[0mdefault_variable_creator\u001b[0m\u001b[0;34m(\u001b[0m\u001b[0;32mNone\u001b[0m\u001b[0;34m,\u001b[0m \u001b[0;34m**\u001b[0m\u001b[0mkwargs\u001b[0m\u001b[0;34m)\u001b[0m\u001b[0;34m\u001b[0m\u001b[0;34m\u001b[0m\u001b[0m\n\u001b[0m\u001b[1;32m    204\u001b[0m     \u001b[0;32mfor\u001b[0m \u001b[0m_\u001b[0m\u001b[0;34m,\u001b[0m \u001b[0mgetter\u001b[0m \u001b[0;32min\u001b[0m \u001b[0mops\u001b[0m\u001b[0;34m.\u001b[0m\u001b[0mget_default_graph\u001b[0m\u001b[0;34m(\u001b[0m\u001b[0;34m)\u001b[0m\u001b[0;34m.\u001b[0m\u001b[0m_variable_creator_stack\u001b[0m\u001b[0;34m:\u001b[0m  \u001b[0;31m# pylint: disable=protected-access\u001b[0m\u001b[0;34m\u001b[0m\u001b[0;34m\u001b[0m\u001b[0m\n\u001b[1;32m    205\u001b[0m       \u001b[0mprevious_getter\u001b[0m \u001b[0;34m=\u001b[0m \u001b[0m_make_getter\u001b[0m\u001b[0;34m(\u001b[0m\u001b[0mgetter\u001b[0m\u001b[0;34m,\u001b[0m \u001b[0mprevious_getter\u001b[0m\u001b[0;34m)\u001b[0m\u001b[0;34m\u001b[0m\u001b[0;34m\u001b[0m\u001b[0m\n",
            "\u001b[0;32m/usr/local/lib/python3.7/dist-packages/tensorflow/python/ops/variable_scope.py\u001b[0m in \u001b[0;36mdefault_variable_creator\u001b[0;34m(next_creator, **kwargs)\u001b[0m\n\u001b[1;32m   2719\u001b[0m         \u001b[0msynchronization\u001b[0m\u001b[0;34m=\u001b[0m\u001b[0msynchronization\u001b[0m\u001b[0;34m,\u001b[0m\u001b[0;34m\u001b[0m\u001b[0;34m\u001b[0m\u001b[0m\n\u001b[1;32m   2720\u001b[0m         \u001b[0maggregation\u001b[0m\u001b[0;34m=\u001b[0m\u001b[0maggregation\u001b[0m\u001b[0;34m,\u001b[0m\u001b[0;34m\u001b[0m\u001b[0;34m\u001b[0m\u001b[0m\n\u001b[0;32m-> 2721\u001b[0;31m         shape=shape)\n\u001b[0m\u001b[1;32m   2722\u001b[0m   \u001b[0;32melse\u001b[0m\u001b[0;34m:\u001b[0m\u001b[0;34m\u001b[0m\u001b[0;34m\u001b[0m\u001b[0m\n\u001b[1;32m   2723\u001b[0m     return variables.RefVariable(\n",
            "\u001b[0;32m/usr/local/lib/python3.7/dist-packages/tensorflow/python/util/traceback_utils.py\u001b[0m in \u001b[0;36merror_handler\u001b[0;34m(*args, **kwargs)\u001b[0m\n\u001b[1;32m    148\u001b[0m     \u001b[0mfiltered_tb\u001b[0m \u001b[0;34m=\u001b[0m \u001b[0;32mNone\u001b[0m\u001b[0;34m\u001b[0m\u001b[0;34m\u001b[0m\u001b[0m\n\u001b[1;32m    149\u001b[0m     \u001b[0;32mtry\u001b[0m\u001b[0;34m:\u001b[0m\u001b[0;34m\u001b[0m\u001b[0;34m\u001b[0m\u001b[0m\n\u001b[0;32m--> 150\u001b[0;31m       \u001b[0;32mreturn\u001b[0m \u001b[0mfn\u001b[0m\u001b[0;34m(\u001b[0m\u001b[0;34m*\u001b[0m\u001b[0margs\u001b[0m\u001b[0;34m,\u001b[0m \u001b[0;34m**\u001b[0m\u001b[0mkwargs\u001b[0m\u001b[0;34m)\u001b[0m\u001b[0;34m\u001b[0m\u001b[0;34m\u001b[0m\u001b[0m\n\u001b[0m\u001b[1;32m    151\u001b[0m     \u001b[0;32mexcept\u001b[0m \u001b[0mException\u001b[0m \u001b[0;32mas\u001b[0m \u001b[0me\u001b[0m\u001b[0;34m:\u001b[0m\u001b[0;34m\u001b[0m\u001b[0;34m\u001b[0m\u001b[0m\n\u001b[1;32m    152\u001b[0m       \u001b[0mfiltered_tb\u001b[0m \u001b[0;34m=\u001b[0m \u001b[0m_process_traceback_frames\u001b[0m\u001b[0;34m(\u001b[0m\u001b[0me\u001b[0m\u001b[0;34m.\u001b[0m\u001b[0m__traceback__\u001b[0m\u001b[0;34m)\u001b[0m\u001b[0;34m\u001b[0m\u001b[0;34m\u001b[0m\u001b[0m\n",
            "\u001b[0;32m/usr/local/lib/python3.7/dist-packages/tensorflow/python/ops/variables.py\u001b[0m in \u001b[0;36m__call__\u001b[0;34m(cls, *args, **kwargs)\u001b[0m\n\u001b[1;32m    267\u001b[0m       \u001b[0;32mreturn\u001b[0m \u001b[0mcls\u001b[0m\u001b[0;34m.\u001b[0m\u001b[0m_variable_v2_call\u001b[0m\u001b[0;34m(\u001b[0m\u001b[0;34m*\u001b[0m\u001b[0margs\u001b[0m\u001b[0;34m,\u001b[0m \u001b[0;34m**\u001b[0m\u001b[0mkwargs\u001b[0m\u001b[0;34m)\u001b[0m\u001b[0;34m\u001b[0m\u001b[0;34m\u001b[0m\u001b[0m\n\u001b[1;32m    268\u001b[0m     \u001b[0;32melse\u001b[0m\u001b[0;34m:\u001b[0m\u001b[0;34m\u001b[0m\u001b[0;34m\u001b[0m\u001b[0m\n\u001b[0;32m--> 269\u001b[0;31m       \u001b[0;32mreturn\u001b[0m \u001b[0msuper\u001b[0m\u001b[0;34m(\u001b[0m\u001b[0mVariableMetaclass\u001b[0m\u001b[0;34m,\u001b[0m \u001b[0mcls\u001b[0m\u001b[0;34m)\u001b[0m\u001b[0;34m.\u001b[0m\u001b[0m__call__\u001b[0m\u001b[0;34m(\u001b[0m\u001b[0;34m*\u001b[0m\u001b[0margs\u001b[0m\u001b[0;34m,\u001b[0m \u001b[0;34m**\u001b[0m\u001b[0mkwargs\u001b[0m\u001b[0;34m)\u001b[0m\u001b[0;34m\u001b[0m\u001b[0;34m\u001b[0m\u001b[0m\n\u001b[0m\u001b[1;32m    270\u001b[0m \u001b[0;34m\u001b[0m\u001b[0m\n\u001b[1;32m    271\u001b[0m \u001b[0;34m\u001b[0m\u001b[0m\n",
            "\u001b[0;32m/usr/local/lib/python3.7/dist-packages/tensorflow/python/ops/resource_variable_ops.py\u001b[0m in \u001b[0;36m__init__\u001b[0;34m(self, initial_value, trainable, collections, validate_shape, caching_device, name, dtype, variable_def, import_scope, constraint, distribute_strategy, synchronization, aggregation, shape)\u001b[0m\n\u001b[1;32m   1674\u001b[0m           \u001b[0maggregation\u001b[0m\u001b[0;34m=\u001b[0m\u001b[0maggregation\u001b[0m\u001b[0;34m,\u001b[0m\u001b[0;34m\u001b[0m\u001b[0;34m\u001b[0m\u001b[0m\n\u001b[1;32m   1675\u001b[0m           \u001b[0mshape\u001b[0m\u001b[0;34m=\u001b[0m\u001b[0mshape\u001b[0m\u001b[0;34m,\u001b[0m\u001b[0;34m\u001b[0m\u001b[0;34m\u001b[0m\u001b[0m\n\u001b[0;32m-> 1676\u001b[0;31m           distribute_strategy=distribute_strategy)\n\u001b[0m\u001b[1;32m   1677\u001b[0m \u001b[0;34m\u001b[0m\u001b[0m\n\u001b[1;32m   1678\u001b[0m   def _init_from_args(self,\n",
            "\u001b[0;32m/usr/local/lib/python3.7/dist-packages/tensorflow/python/ops/resource_variable_ops.py\u001b[0m in \u001b[0;36m_init_from_args\u001b[0;34m(self, initial_value, trainable, collections, caching_device, name, dtype, constraint, synchronization, aggregation, distribute_strategy, shape)\u001b[0m\n\u001b[1;32m   1809\u001b[0m           \u001b[0;32mwith\u001b[0m \u001b[0mops\u001b[0m\u001b[0;34m.\u001b[0m\u001b[0mname_scope\u001b[0m\u001b[0;34m(\u001b[0m\u001b[0;34m\"Initializer\"\u001b[0m\u001b[0;34m)\u001b[0m\u001b[0;34m,\u001b[0m \u001b[0mdevice_context_manager\u001b[0m\u001b[0;34m(\u001b[0m\u001b[0;32mNone\u001b[0m\u001b[0;34m)\u001b[0m\u001b[0;34m:\u001b[0m\u001b[0;34m\u001b[0m\u001b[0;34m\u001b[0m\u001b[0m\n\u001b[1;32m   1810\u001b[0m             \u001b[0;32mif\u001b[0m \u001b[0minit_from_fn\u001b[0m\u001b[0;34m:\u001b[0m\u001b[0;34m\u001b[0m\u001b[0;34m\u001b[0m\u001b[0m\n\u001b[0;32m-> 1811\u001b[0;31m               \u001b[0minitial_value\u001b[0m \u001b[0;34m=\u001b[0m \u001b[0minitial_value\u001b[0m\u001b[0;34m(\u001b[0m\u001b[0;34m)\u001b[0m\u001b[0;34m\u001b[0m\u001b[0;34m\u001b[0m\u001b[0m\n\u001b[0m\u001b[1;32m   1812\u001b[0m             \u001b[0;32mif\u001b[0m \u001b[0misinstance\u001b[0m\u001b[0;34m(\u001b[0m\u001b[0minitial_value\u001b[0m\u001b[0;34m,\u001b[0m \u001b[0mtrackable\u001b[0m\u001b[0;34m.\u001b[0m\u001b[0mCheckpointInitialValue\u001b[0m\u001b[0;34m)\u001b[0m\u001b[0;34m:\u001b[0m\u001b[0;34m\u001b[0m\u001b[0;34m\u001b[0m\u001b[0m\n\u001b[1;32m   1813\u001b[0m               \u001b[0mself\u001b[0m\u001b[0;34m.\u001b[0m\u001b[0m_maybe_initialize_trackable\u001b[0m\u001b[0;34m(\u001b[0m\u001b[0;34m)\u001b[0m\u001b[0;34m\u001b[0m\u001b[0;34m\u001b[0m\u001b[0m\n",
            "\u001b[0;32m/usr/local/lib/python3.7/dist-packages/keras/initializers/initializers_v2.py\u001b[0m in \u001b[0;36m__call__\u001b[0;34m(self, shape, dtype, **kwargs)\u001b[0m\n\u001b[1;32m    533\u001b[0m     \u001b[0;32melse\u001b[0m\u001b[0;34m:\u001b[0m\u001b[0;34m\u001b[0m\u001b[0;34m\u001b[0m\u001b[0m\n\u001b[1;32m    534\u001b[0m       \u001b[0mlimit\u001b[0m \u001b[0;34m=\u001b[0m \u001b[0mmath\u001b[0m\u001b[0;34m.\u001b[0m\u001b[0msqrt\u001b[0m\u001b[0;34m(\u001b[0m\u001b[0;36m3.0\u001b[0m \u001b[0;34m*\u001b[0m \u001b[0mscale\u001b[0m\u001b[0;34m)\u001b[0m\u001b[0;34m\u001b[0m\u001b[0;34m\u001b[0m\u001b[0m\n\u001b[0;32m--> 535\u001b[0;31m       \u001b[0;32mreturn\u001b[0m \u001b[0mself\u001b[0m\u001b[0;34m.\u001b[0m\u001b[0m_random_generator\u001b[0m\u001b[0;34m.\u001b[0m\u001b[0mrandom_uniform\u001b[0m\u001b[0;34m(\u001b[0m\u001b[0mshape\u001b[0m\u001b[0;34m,\u001b[0m \u001b[0;34m-\u001b[0m\u001b[0mlimit\u001b[0m\u001b[0;34m,\u001b[0m \u001b[0mlimit\u001b[0m\u001b[0;34m,\u001b[0m \u001b[0mdtype\u001b[0m\u001b[0;34m)\u001b[0m\u001b[0;34m\u001b[0m\u001b[0;34m\u001b[0m\u001b[0m\n\u001b[0m\u001b[1;32m    536\u001b[0m \u001b[0;34m\u001b[0m\u001b[0m\n\u001b[1;32m    537\u001b[0m   \u001b[0;32mdef\u001b[0m \u001b[0mget_config\u001b[0m\u001b[0;34m(\u001b[0m\u001b[0mself\u001b[0m\u001b[0;34m)\u001b[0m\u001b[0;34m:\u001b[0m\u001b[0;34m\u001b[0m\u001b[0;34m\u001b[0m\u001b[0m\n",
            "\u001b[0;32m/usr/local/lib/python3.7/dist-packages/keras/backend.py\u001b[0m in \u001b[0;36mrandom_uniform\u001b[0;34m(self, shape, minval, maxval, dtype)\u001b[0m\n\u001b[1;32m   1920\u001b[0m     return tf.random.uniform(\n\u001b[1;32m   1921\u001b[0m         \u001b[0mshape\u001b[0m\u001b[0;34m=\u001b[0m\u001b[0mshape\u001b[0m\u001b[0;34m,\u001b[0m \u001b[0mminval\u001b[0m\u001b[0;34m=\u001b[0m\u001b[0mminval\u001b[0m\u001b[0;34m,\u001b[0m \u001b[0mmaxval\u001b[0m\u001b[0;34m=\u001b[0m\u001b[0mmaxval\u001b[0m\u001b[0;34m,\u001b[0m \u001b[0mdtype\u001b[0m\u001b[0;34m=\u001b[0m\u001b[0mdtype\u001b[0m\u001b[0;34m,\u001b[0m\u001b[0;34m\u001b[0m\u001b[0;34m\u001b[0m\u001b[0m\n\u001b[0;32m-> 1922\u001b[0;31m         seed=self.make_legacy_seed())\n\u001b[0m\u001b[1;32m   1923\u001b[0m \u001b[0;34m\u001b[0m\u001b[0m\n\u001b[1;32m   1924\u001b[0m   \u001b[0;32mdef\u001b[0m \u001b[0mtruncated_normal\u001b[0m\u001b[0;34m(\u001b[0m\u001b[0mself\u001b[0m\u001b[0;34m,\u001b[0m \u001b[0mshape\u001b[0m\u001b[0;34m,\u001b[0m \u001b[0mmean\u001b[0m\u001b[0;34m=\u001b[0m\u001b[0;36m0.\u001b[0m\u001b[0;34m,\u001b[0m \u001b[0mstddev\u001b[0m\u001b[0;34m=\u001b[0m\u001b[0;36m1.\u001b[0m\u001b[0;34m,\u001b[0m \u001b[0mdtype\u001b[0m\u001b[0;34m=\u001b[0m\u001b[0;32mNone\u001b[0m\u001b[0;34m)\u001b[0m\u001b[0;34m:\u001b[0m\u001b[0;34m\u001b[0m\u001b[0;34m\u001b[0m\u001b[0m\n",
            "\u001b[0;32m/usr/local/lib/python3.7/dist-packages/tensorflow/python/util/traceback_utils.py\u001b[0m in \u001b[0;36merror_handler\u001b[0;34m(*args, **kwargs)\u001b[0m\n\u001b[1;32m    148\u001b[0m     \u001b[0mfiltered_tb\u001b[0m \u001b[0;34m=\u001b[0m \u001b[0;32mNone\u001b[0m\u001b[0;34m\u001b[0m\u001b[0;34m\u001b[0m\u001b[0m\n\u001b[1;32m    149\u001b[0m     \u001b[0;32mtry\u001b[0m\u001b[0;34m:\u001b[0m\u001b[0;34m\u001b[0m\u001b[0;34m\u001b[0m\u001b[0m\n\u001b[0;32m--> 150\u001b[0;31m       \u001b[0;32mreturn\u001b[0m \u001b[0mfn\u001b[0m\u001b[0;34m(\u001b[0m\u001b[0;34m*\u001b[0m\u001b[0margs\u001b[0m\u001b[0;34m,\u001b[0m \u001b[0;34m**\u001b[0m\u001b[0mkwargs\u001b[0m\u001b[0;34m)\u001b[0m\u001b[0;34m\u001b[0m\u001b[0;34m\u001b[0m\u001b[0m\n\u001b[0m\u001b[1;32m    151\u001b[0m     \u001b[0;32mexcept\u001b[0m \u001b[0mException\u001b[0m \u001b[0;32mas\u001b[0m \u001b[0me\u001b[0m\u001b[0;34m:\u001b[0m\u001b[0;34m\u001b[0m\u001b[0;34m\u001b[0m\u001b[0m\n\u001b[1;32m    152\u001b[0m       \u001b[0mfiltered_tb\u001b[0m \u001b[0;34m=\u001b[0m \u001b[0m_process_traceback_frames\u001b[0m\u001b[0;34m(\u001b[0m\u001b[0me\u001b[0m\u001b[0;34m.\u001b[0m\u001b[0m__traceback__\u001b[0m\u001b[0;34m)\u001b[0m\u001b[0;34m\u001b[0m\u001b[0;34m\u001b[0m\u001b[0m\n",
            "\u001b[0;32m/usr/local/lib/python3.7/dist-packages/tensorflow/python/util/dispatch.py\u001b[0m in \u001b[0;36mop_dispatch_handler\u001b[0;34m(*args, **kwargs)\u001b[0m\n\u001b[1;32m   1080\u001b[0m       \u001b[0;31m# Fallback dispatch system (dispatch v1):\u001b[0m\u001b[0;34m\u001b[0m\u001b[0;34m\u001b[0m\u001b[0;34m\u001b[0m\u001b[0m\n\u001b[1;32m   1081\u001b[0m       \u001b[0;32mtry\u001b[0m\u001b[0;34m:\u001b[0m\u001b[0;34m\u001b[0m\u001b[0;34m\u001b[0m\u001b[0m\n\u001b[0;32m-> 1082\u001b[0;31m         \u001b[0;32mreturn\u001b[0m \u001b[0mdispatch_target\u001b[0m\u001b[0;34m(\u001b[0m\u001b[0;34m*\u001b[0m\u001b[0margs\u001b[0m\u001b[0;34m,\u001b[0m \u001b[0;34m**\u001b[0m\u001b[0mkwargs\u001b[0m\u001b[0;34m)\u001b[0m\u001b[0;34m\u001b[0m\u001b[0;34m\u001b[0m\u001b[0m\n\u001b[0m\u001b[1;32m   1083\u001b[0m       \u001b[0;32mexcept\u001b[0m \u001b[0;34m(\u001b[0m\u001b[0mTypeError\u001b[0m\u001b[0;34m,\u001b[0m \u001b[0mValueError\u001b[0m\u001b[0;34m)\u001b[0m\u001b[0;34m:\u001b[0m\u001b[0;34m\u001b[0m\u001b[0;34m\u001b[0m\u001b[0m\n\u001b[1;32m   1084\u001b[0m         \u001b[0;31m# Note: convert_to_eager_tensor currently raises a ValueError, not a\u001b[0m\u001b[0;34m\u001b[0m\u001b[0;34m\u001b[0m\u001b[0;34m\u001b[0m\u001b[0m\n",
            "\u001b[0;32m/usr/local/lib/python3.7/dist-packages/tensorflow/python/ops/random_ops.py\u001b[0m in \u001b[0;36mrandom_uniform\u001b[0;34m(shape, minval, maxval, dtype, seed, name)\u001b[0m\n\u001b[1;32m    313\u001b[0m           \u001b[0mresult\u001b[0m \u001b[0;34m=\u001b[0m \u001b[0mmath_ops\u001b[0m\u001b[0;34m.\u001b[0m\u001b[0mmultiply\u001b[0m\u001b[0;34m(\u001b[0m\u001b[0mresult\u001b[0m\u001b[0;34m,\u001b[0m \u001b[0mmaxval\u001b[0m\u001b[0;34m)\u001b[0m\u001b[0;34m\u001b[0m\u001b[0;34m\u001b[0m\u001b[0m\n\u001b[1;32m    314\u001b[0m       \u001b[0;32melse\u001b[0m\u001b[0;34m:\u001b[0m\u001b[0;34m\u001b[0m\u001b[0;34m\u001b[0m\u001b[0m\n\u001b[0;32m--> 315\u001b[0;31m         \u001b[0mresult\u001b[0m \u001b[0;34m=\u001b[0m \u001b[0mmath_ops\u001b[0m\u001b[0;34m.\u001b[0m\u001b[0madd\u001b[0m\u001b[0;34m(\u001b[0m\u001b[0mresult\u001b[0m \u001b[0;34m*\u001b[0m \u001b[0;34m(\u001b[0m\u001b[0mmaxval\u001b[0m \u001b[0;34m-\u001b[0m \u001b[0mminval\u001b[0m\u001b[0;34m)\u001b[0m\u001b[0;34m,\u001b[0m \u001b[0mminval\u001b[0m\u001b[0;34m,\u001b[0m \u001b[0mname\u001b[0m\u001b[0;34m=\u001b[0m\u001b[0mname\u001b[0m\u001b[0;34m)\u001b[0m\u001b[0;34m\u001b[0m\u001b[0;34m\u001b[0m\u001b[0m\n\u001b[0m\u001b[1;32m    316\u001b[0m     \u001b[0;31m# TODO(b/132092188): C++ shape inference inside functional ops does not\u001b[0m\u001b[0;34m\u001b[0m\u001b[0;34m\u001b[0m\u001b[0;34m\u001b[0m\u001b[0m\n\u001b[1;32m    317\u001b[0m     \u001b[0;31m# cross FuncGraph boundaries since that information is only available in\u001b[0m\u001b[0;34m\u001b[0m\u001b[0;34m\u001b[0m\u001b[0;34m\u001b[0m\u001b[0m\n",
            "\u001b[0;32m/usr/local/lib/python3.7/dist-packages/tensorflow/python/util/traceback_utils.py\u001b[0m in \u001b[0;36merror_handler\u001b[0;34m(*args, **kwargs)\u001b[0m\n\u001b[1;32m    148\u001b[0m     \u001b[0mfiltered_tb\u001b[0m \u001b[0;34m=\u001b[0m \u001b[0;32mNone\u001b[0m\u001b[0;34m\u001b[0m\u001b[0;34m\u001b[0m\u001b[0m\n\u001b[1;32m    149\u001b[0m     \u001b[0;32mtry\u001b[0m\u001b[0;34m:\u001b[0m\u001b[0;34m\u001b[0m\u001b[0;34m\u001b[0m\u001b[0m\n\u001b[0;32m--> 150\u001b[0;31m       \u001b[0;32mreturn\u001b[0m \u001b[0mfn\u001b[0m\u001b[0;34m(\u001b[0m\u001b[0;34m*\u001b[0m\u001b[0margs\u001b[0m\u001b[0;34m,\u001b[0m \u001b[0;34m**\u001b[0m\u001b[0mkwargs\u001b[0m\u001b[0;34m)\u001b[0m\u001b[0;34m\u001b[0m\u001b[0;34m\u001b[0m\u001b[0m\n\u001b[0m\u001b[1;32m    151\u001b[0m     \u001b[0;32mexcept\u001b[0m \u001b[0mException\u001b[0m \u001b[0;32mas\u001b[0m \u001b[0me\u001b[0m\u001b[0;34m:\u001b[0m\u001b[0;34m\u001b[0m\u001b[0;34m\u001b[0m\u001b[0m\n\u001b[1;32m    152\u001b[0m       \u001b[0mfiltered_tb\u001b[0m \u001b[0;34m=\u001b[0m \u001b[0m_process_traceback_frames\u001b[0m\u001b[0;34m(\u001b[0m\u001b[0me\u001b[0m\u001b[0;34m.\u001b[0m\u001b[0m__traceback__\u001b[0m\u001b[0;34m)\u001b[0m\u001b[0;34m\u001b[0m\u001b[0;34m\u001b[0m\u001b[0m\n",
            "\u001b[0;32m/usr/local/lib/python3.7/dist-packages/tensorflow/python/ops/math_ops.py\u001b[0m in \u001b[0;36mbinary_op_wrapper\u001b[0;34m(x, y)\u001b[0m\n\u001b[1;32m   1404\u001b[0m         \u001b[0;31m#   r_binary_op_wrapper use different force_same_dtype values.\u001b[0m\u001b[0;34m\u001b[0m\u001b[0;34m\u001b[0m\u001b[0;34m\u001b[0m\u001b[0m\n\u001b[1;32m   1405\u001b[0m         \u001b[0mx\u001b[0m\u001b[0;34m,\u001b[0m \u001b[0my\u001b[0m \u001b[0;34m=\u001b[0m \u001b[0mmaybe_promote_tensors\u001b[0m\u001b[0;34m(\u001b[0m\u001b[0mx\u001b[0m\u001b[0;34m,\u001b[0m \u001b[0my\u001b[0m\u001b[0;34m)\u001b[0m\u001b[0;34m\u001b[0m\u001b[0;34m\u001b[0m\u001b[0m\n\u001b[0;32m-> 1406\u001b[0;31m         \u001b[0;32mreturn\u001b[0m \u001b[0mfunc\u001b[0m\u001b[0;34m(\u001b[0m\u001b[0mx\u001b[0m\u001b[0;34m,\u001b[0m \u001b[0my\u001b[0m\u001b[0;34m,\u001b[0m \u001b[0mname\u001b[0m\u001b[0;34m=\u001b[0m\u001b[0mname\u001b[0m\u001b[0;34m)\u001b[0m\u001b[0;34m\u001b[0m\u001b[0;34m\u001b[0m\u001b[0m\n\u001b[0m\u001b[1;32m   1407\u001b[0m       \u001b[0;32mexcept\u001b[0m \u001b[0;34m(\u001b[0m\u001b[0mTypeError\u001b[0m\u001b[0;34m,\u001b[0m \u001b[0mValueError\u001b[0m\u001b[0;34m)\u001b[0m \u001b[0;32mas\u001b[0m \u001b[0me\u001b[0m\u001b[0;34m:\u001b[0m\u001b[0;34m\u001b[0m\u001b[0;34m\u001b[0m\u001b[0m\n\u001b[1;32m   1408\u001b[0m         \u001b[0;31m# Even if dispatching the op failed, the RHS may be a tensor aware\u001b[0m\u001b[0;34m\u001b[0m\u001b[0;34m\u001b[0m\u001b[0;34m\u001b[0m\u001b[0m\n",
            "\u001b[0;32m/usr/local/lib/python3.7/dist-packages/tensorflow/python/ops/math_ops.py\u001b[0m in \u001b[0;36m_mul_dispatch\u001b[0;34m(x, y, name)\u001b[0m\n\u001b[1;32m   1764\u001b[0m     \u001b[0;32mreturn\u001b[0m \u001b[0msparse_tensor\u001b[0m\u001b[0;34m.\u001b[0m\u001b[0mSparseTensor\u001b[0m\u001b[0;34m(\u001b[0m\u001b[0my\u001b[0m\u001b[0;34m.\u001b[0m\u001b[0mindices\u001b[0m\u001b[0;34m,\u001b[0m \u001b[0mnew_vals\u001b[0m\u001b[0;34m,\u001b[0m \u001b[0my\u001b[0m\u001b[0;34m.\u001b[0m\u001b[0mdense_shape\u001b[0m\u001b[0;34m)\u001b[0m\u001b[0;34m\u001b[0m\u001b[0;34m\u001b[0m\u001b[0m\n\u001b[1;32m   1765\u001b[0m   \u001b[0;32melse\u001b[0m\u001b[0;34m:\u001b[0m\u001b[0;34m\u001b[0m\u001b[0;34m\u001b[0m\u001b[0m\n\u001b[0;32m-> 1766\u001b[0;31m     \u001b[0;32mreturn\u001b[0m \u001b[0mmultiply\u001b[0m\u001b[0;34m(\u001b[0m\u001b[0mx\u001b[0m\u001b[0;34m,\u001b[0m \u001b[0my\u001b[0m\u001b[0;34m,\u001b[0m \u001b[0mname\u001b[0m\u001b[0;34m=\u001b[0m\u001b[0mname\u001b[0m\u001b[0;34m)\u001b[0m\u001b[0;34m\u001b[0m\u001b[0;34m\u001b[0m\u001b[0m\n\u001b[0m\u001b[1;32m   1767\u001b[0m \u001b[0;34m\u001b[0m\u001b[0m\n\u001b[1;32m   1768\u001b[0m \u001b[0;34m\u001b[0m\u001b[0m\n",
            "\u001b[0;32m/usr/local/lib/python3.7/dist-packages/tensorflow/python/util/traceback_utils.py\u001b[0m in \u001b[0;36merror_handler\u001b[0;34m(*args, **kwargs)\u001b[0m\n\u001b[1;32m    148\u001b[0m     \u001b[0mfiltered_tb\u001b[0m \u001b[0;34m=\u001b[0m \u001b[0;32mNone\u001b[0m\u001b[0;34m\u001b[0m\u001b[0;34m\u001b[0m\u001b[0m\n\u001b[1;32m    149\u001b[0m     \u001b[0;32mtry\u001b[0m\u001b[0;34m:\u001b[0m\u001b[0;34m\u001b[0m\u001b[0;34m\u001b[0m\u001b[0m\n\u001b[0;32m--> 150\u001b[0;31m       \u001b[0;32mreturn\u001b[0m \u001b[0mfn\u001b[0m\u001b[0;34m(\u001b[0m\u001b[0;34m*\u001b[0m\u001b[0margs\u001b[0m\u001b[0;34m,\u001b[0m \u001b[0;34m**\u001b[0m\u001b[0mkwargs\u001b[0m\u001b[0;34m)\u001b[0m\u001b[0;34m\u001b[0m\u001b[0;34m\u001b[0m\u001b[0m\n\u001b[0m\u001b[1;32m    151\u001b[0m     \u001b[0;32mexcept\u001b[0m \u001b[0mException\u001b[0m \u001b[0;32mas\u001b[0m \u001b[0me\u001b[0m\u001b[0;34m:\u001b[0m\u001b[0;34m\u001b[0m\u001b[0;34m\u001b[0m\u001b[0m\n\u001b[1;32m    152\u001b[0m       \u001b[0mfiltered_tb\u001b[0m \u001b[0;34m=\u001b[0m \u001b[0m_process_traceback_frames\u001b[0m\u001b[0;34m(\u001b[0m\u001b[0me\u001b[0m\u001b[0;34m.\u001b[0m\u001b[0m__traceback__\u001b[0m\u001b[0;34m)\u001b[0m\u001b[0;34m\u001b[0m\u001b[0;34m\u001b[0m\u001b[0m\n",
            "\u001b[0;32m/usr/local/lib/python3.7/dist-packages/tensorflow/python/util/dispatch.py\u001b[0m in \u001b[0;36mop_dispatch_handler\u001b[0;34m(*args, **kwargs)\u001b[0m\n\u001b[1;32m   1080\u001b[0m       \u001b[0;31m# Fallback dispatch system (dispatch v1):\u001b[0m\u001b[0;34m\u001b[0m\u001b[0;34m\u001b[0m\u001b[0;34m\u001b[0m\u001b[0m\n\u001b[1;32m   1081\u001b[0m       \u001b[0;32mtry\u001b[0m\u001b[0;34m:\u001b[0m\u001b[0;34m\u001b[0m\u001b[0;34m\u001b[0m\u001b[0m\n\u001b[0;32m-> 1082\u001b[0;31m         \u001b[0;32mreturn\u001b[0m \u001b[0mdispatch_target\u001b[0m\u001b[0;34m(\u001b[0m\u001b[0;34m*\u001b[0m\u001b[0margs\u001b[0m\u001b[0;34m,\u001b[0m \u001b[0;34m**\u001b[0m\u001b[0mkwargs\u001b[0m\u001b[0;34m)\u001b[0m\u001b[0;34m\u001b[0m\u001b[0;34m\u001b[0m\u001b[0m\n\u001b[0m\u001b[1;32m   1083\u001b[0m       \u001b[0;32mexcept\u001b[0m \u001b[0;34m(\u001b[0m\u001b[0mTypeError\u001b[0m\u001b[0;34m,\u001b[0m \u001b[0mValueError\u001b[0m\u001b[0;34m)\u001b[0m\u001b[0;34m:\u001b[0m\u001b[0;34m\u001b[0m\u001b[0;34m\u001b[0m\u001b[0m\n\u001b[1;32m   1084\u001b[0m         \u001b[0;31m# Note: convert_to_eager_tensor currently raises a ValueError, not a\u001b[0m\u001b[0;34m\u001b[0m\u001b[0;34m\u001b[0m\u001b[0;34m\u001b[0m\u001b[0m\n",
            "\u001b[0;32m/usr/local/lib/python3.7/dist-packages/tensorflow/python/ops/math_ops.py\u001b[0m in \u001b[0;36mmultiply\u001b[0;34m(x, y, name)\u001b[0m\n\u001b[1;32m    527\u001b[0m   \"\"\"\n\u001b[1;32m    528\u001b[0m \u001b[0;34m\u001b[0m\u001b[0m\n\u001b[0;32m--> 529\u001b[0;31m   \u001b[0;32mreturn\u001b[0m \u001b[0mgen_math_ops\u001b[0m\u001b[0;34m.\u001b[0m\u001b[0mmul\u001b[0m\u001b[0;34m(\u001b[0m\u001b[0mx\u001b[0m\u001b[0;34m,\u001b[0m \u001b[0my\u001b[0m\u001b[0;34m,\u001b[0m \u001b[0mname\u001b[0m\u001b[0;34m)\u001b[0m\u001b[0;34m\u001b[0m\u001b[0;34m\u001b[0m\u001b[0m\n\u001b[0m\u001b[1;32m    530\u001b[0m \u001b[0;34m\u001b[0m\u001b[0m\n\u001b[1;32m    531\u001b[0m \u001b[0;34m\u001b[0m\u001b[0m\n",
            "\u001b[0;32m/usr/local/lib/python3.7/dist-packages/tensorflow/python/ops/gen_math_ops.py\u001b[0m in \u001b[0;36mmul\u001b[0;34m(x, y, name)\u001b[0m\n\u001b[1;32m   6575\u001b[0m     \u001b[0;32mtry\u001b[0m\u001b[0;34m:\u001b[0m\u001b[0;34m\u001b[0m\u001b[0;34m\u001b[0m\u001b[0m\n\u001b[1;32m   6576\u001b[0m       _result = pywrap_tfe.TFE_Py_FastPathExecute(\n\u001b[0;32m-> 6577\u001b[0;31m         _ctx, \"Mul\", name, x, y)\n\u001b[0m\u001b[1;32m   6578\u001b[0m       \u001b[0;32mreturn\u001b[0m \u001b[0m_result\u001b[0m\u001b[0;34m\u001b[0m\u001b[0;34m\u001b[0m\u001b[0m\n\u001b[1;32m   6579\u001b[0m     \u001b[0;32mexcept\u001b[0m \u001b[0m_core\u001b[0m\u001b[0;34m.\u001b[0m\u001b[0m_NotOkStatusException\u001b[0m \u001b[0;32mas\u001b[0m \u001b[0me\u001b[0m\u001b[0;34m:\u001b[0m\u001b[0;34m\u001b[0m\u001b[0;34m\u001b[0m\u001b[0m\n",
            "\u001b[0;31mKeyboardInterrupt\u001b[0m: "
          ]
        }
      ],
      "source": [
        "#Cross validation will be run in and pickled from colab to save time.\n",
        "model1_cv_results = cross_val_score(model1, final_images, final_labels)"
      ]
    },
    {
      "cell_type": "code",
      "execution_count": null,
      "metadata": {
        "id": "AbFIKicP0DWe"
      },
      "outputs": [],
      "source": [
        "#model1_cv_results"
      ]
    },
    {
      "cell_type": "code",
      "execution_count": null,
      "metadata": {
        "id": "oRWotf-I0DWe"
      },
      "outputs": [],
      "source": [
        "# model1_cv_pickle = '../Data/model1_cv_pickle.sav'\n",
        "# pickle.dump(model1_cv_results, open(model1_cv_pickle, 'wb'))"
      ]
    },
    {
      "cell_type": "code",
      "execution_count": null,
      "metadata": {
        "collapsed": true,
        "id": "4Tc-TqN10DWe",
        "outputId": "045bd402-873a-43c4-90ca-88df8b895587"
      },
      "outputs": [
        {
          "ename": "NameError",
          "evalue": "name 'model1' is not defined",
          "output_type": "error",
          "traceback": [
            "\u001b[0;31m---------------------------------------------------------------------------\u001b[0m",
            "\u001b[0;31mNameError\u001b[0m                                 Traceback (most recent call last)",
            "\u001b[0;32m<ipython-input-15-fde9668fa07a>\u001b[0m in \u001b[0;36m<module>\u001b[0;34m\u001b[0m\n\u001b[1;32m      3\u001b[0m \u001b[0;31m# from Colab and the model will be ran and saved here.\u001b[0m\u001b[0;34m\u001b[0m\u001b[0;34m\u001b[0m\u001b[0;34m\u001b[0m\u001b[0m\n\u001b[1;32m      4\u001b[0m \u001b[0;31m#ONLY run best model\u001b[0m\u001b[0;34m\u001b[0m\u001b[0;34m\u001b[0m\u001b[0;34m\u001b[0m\u001b[0m\n\u001b[0;32m----> 5\u001b[0;31m \u001b[0mmodel1\u001b[0m \u001b[0;34m=\u001b[0m \u001b[0mmodel1\u001b[0m\u001b[0;34m.\u001b[0m\u001b[0mfit\u001b[0m\u001b[0;34m(\u001b[0m\u001b[0mfinal_images\u001b[0m\u001b[0;34m,\u001b[0m \u001b[0mfinal_labels\u001b[0m\u001b[0;34m)\u001b[0m\u001b[0;34m\u001b[0m\u001b[0;34m\u001b[0m\u001b[0m\n\u001b[0m",
            "\u001b[0;31mNameError\u001b[0m: name 'model1' is not defined"
          ]
        }
      ],
      "source": [
        "# Colab is running a newer version of tensorflow which is incompatible\n",
        "# with my local machine. Therefor keras.save() and pickling won't work \n",
        "# from Colab and the model will be ran and saved here.\n",
        "#ONLY run best model based on cv results\n",
        "model1 = model1.fit(final_images, final_labels)"
      ]
    },
    {
      "cell_type": "code",
      "execution_count": null,
      "metadata": {
        "id": "4R3zK7bp0DWe"
      },
      "outputs": [],
      "source": [
        "model1_pickle = '../Data/model1_pickle.sav'\n",
        "pickle.dump(model1, open(model1_pickle, 'wb'))"
      ]
    },
    {
      "cell_type": "code",
      "execution_count": null,
      "metadata": {
        "id": "SnJma87o0DWe"
      },
      "outputs": [],
      "source": [
        "model1.save('../Data/model1.h5', save_format='h5')"
      ]
    },
    {
      "cell_type": "code",
      "execution_count": null,
      "metadata": {
        "id": "mJlpxboB0DWf"
      },
      "outputs": [],
      "source": [
        "model1.save('../Data/model1.sav')"
      ]
    }
  ],
  "metadata": {
    "kernelspec": {
      "display_name": "tf-test",
      "language": "python",
      "name": "tf-test"
    },
    "language_info": {
      "codemirror_mode": {
        "name": "ipython",
        "version": 3
      },
      "file_extension": ".py",
      "mimetype": "text/x-python",
      "name": "python",
      "nbconvert_exporter": "python",
      "pygments_lexer": "ipython3",
      "version": "3.6.13"
    },
    "toc": {
      "base_numbering": 1,
      "nav_menu": {},
      "number_sections": true,
      "sideBar": true,
      "skip_h1_title": false,
      "title_cell": "Table of Contents",
      "title_sidebar": "Contents",
      "toc_cell": false,
      "toc_position": {},
      "toc_section_display": true,
      "toc_window_display": false
    },
    "colab": {
      "name": "Model1_Notebook.ipynb",
      "provenance": []
    }
  },
  "nbformat": 4,
  "nbformat_minor": 0
}