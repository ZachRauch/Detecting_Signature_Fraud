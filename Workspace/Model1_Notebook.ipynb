{
  "cells": [
    {
      "cell_type": "markdown",
      "metadata": {
        "id": "ptSIULqi0DWU"
      },
      "source": [
        "# Signature Classification"
      ]
    },
    {
      "cell_type": "markdown",
      "metadata": {
        "id": "PxrvvpR70DWW"
      },
      "source": [
        "![img](https://github.com/ZachRauch/Signature_Classification/blob/main/images/signature_banner.jpeg?raw=1)"
      ]
    },
    {
      "cell_type": "markdown",
      "metadata": {
        "id": "l0PvrSkU0DWW"
      },
      "source": [
        "## Overview"
      ]
    },
    {
      "cell_type": "markdown",
      "metadata": {
        "id": "7JkPYbhX0DWW"
      },
      "source": [
        "The aim of this analysis is to identify fraudulent signatures in a dataset. My audience here is _______. Using just a small dataset with only 300 sample I was able to create a "
      ]
    },
    {
      "cell_type": "markdown",
      "metadata": {
        "id": "dGntQdLa0DWX"
      },
      "source": [
        "## Business Problem"
      ]
    },
    {
      "cell_type": "markdown",
      "metadata": {
        "id": "8tIYg67U0DWX"
      },
      "source": [
        "Currently institutions and businesses recognize signatures as the primary way of authenticating transactions. Signatures are used to sign checks, authorize documents and contracts, and validate credit card transactions. According to recent studies, check fraud costs banks about $900M a year with 22 percent of all fraudulent checks attributed to signature fraud. Therefor, creating an algorithm to identify signature fraud is a valuable asset. "
      ]
    },
    {
      "cell_type": "markdown",
      "metadata": {
        "id": "aIHjXOJb0DWX"
      },
      "source": [
        "## Imports"
      ]
    },
    {
      "cell_type": "code",
      "execution_count": 2,
      "metadata": {
        "ExecuteTime": {
          "end_time": "2022-05-23T16:05:39.636501Z",
          "start_time": "2022-05-23T16:05:39.532903Z"
        },
        "id": "Foi2HQyc0DWY"
      },
      "outputs": [],
      "source": [
        "import pandas as pd\n",
        "import numpy as np\n",
        "import matplotlib.pyplot as plt\n",
        "%matplotlib inline\n",
        "import seaborn as sns\n",
        "import tensorflow as tf\n",
        "from tensorflow.keras.models import Sequential\n",
        "import zipfile\n",
        "from tensorflow.keras.preprocessing.image import ImageDataGenerator, array_to_img, img_to_array, load_img\n",
        "from tensorflow.keras import models, layers, optimizers, metrics, regularizers, losses\n",
        "from tensorflow.keras.wrappers import scikit_learn\n",
        "from tensorflow.keras.regularizers import l2\n",
        "from tensorflow.keras.callbacks import ModelCheckpoint\n",
        "\n",
        "from sklearn.model_selection import train_test_split, cross_val_score\n",
        "from sklearn.dummy import DummyClassifier\n",
        "from sklearn.metrics import auc, recall_score, precision_score, \\\n",
        "                            confusion_matrix, plot_confusion_matrix, \\\n",
        "                            roc_auc_score, roc_curve\n",
        "from tensorflow.keras.optimizers import SGD, Adam\n",
        "import pickle\n",
        "\n",
        "\n",
        "seed = 777\n",
        "tf.random.set_seed(seed)\n",
        "np.random.seed(seed)"
      ]
    },
    {
      "cell_type": "markdown",
      "metadata": {
        "id": "1jpRePR80DWZ"
      },
      "source": [
        "## Colab Necessary Code"
      ]
    },
    {
      "cell_type": "markdown",
      "metadata": {
        "id": "LRCAjKzx0DWZ"
      },
      "source": [
        "Google Colab was used to help streamline the modeling process. Modeling using Convolutional Neural Networks can be computationally expensive, so if you would like to run this notebook faster, I would recommend creating a Colab account and storing the data, discussed below, in a Google Drive file. "
      ]
    },
    {
      "cell_type": "code",
      "execution_count": 3,
      "metadata": {
        "ExecuteTime": {
          "end_time": "2022-05-23T16:05:39.641944Z",
          "start_time": "2022-05-23T16:05:39.639706Z"
        },
        "id": "SzlRl_AB0DWZ",
        "outputId": "ed0728cd-7e78-47ee-8032-304470adfe19",
        "colab": {
          "base_uri": "https://localhost:8080/"
        }
      },
      "outputs": [
        {
          "output_type": "stream",
          "name": "stdout",
          "text": [
            "Mounted at /content/drive\n"
          ]
        }
      ],
      "source": [
        "from google.colab import drive\n",
        "drive.mount('/content/drive')"
      ]
    },
    {
      "cell_type": "markdown",
      "metadata": {
        "id": "br3-j3on0DWZ"
      },
      "source": [
        "## Data"
      ]
    },
    {
      "cell_type": "markdown",
      "metadata": {
        "id": "5QlgoT1t0DWa"
      },
      "source": [
        "The data used in this notebook can be found [here](https://www.kaggle.com/datasets/divyanshrai/handwritten-signatures). The dataset contains just 300 samples of genuine and forged signatures from 30 people, of which 50 percent are genuine and 50 percent are forged. "
      ]
    },
    {
      "cell_type": "code",
      "execution_count": 4,
      "metadata": {
        "ExecuteTime": {
          "end_time": "2022-05-23T16:05:39.653625Z",
          "start_time": "2022-05-23T16:05:39.647324Z"
        },
        "id": "e8bk9hZT0DWa"
      },
      "outputs": [],
      "source": [
        "# instantiate ImageDataGenerator scaling each pixel's values down to a scale of 1\n",
        "img = ImageDataGenerator(rescale=1/255)"
      ]
    },
    {
      "cell_type": "code",
      "execution_count": 14,
      "metadata": {
        "ExecuteTime": {
          "end_time": "2022-05-23T16:05:39.665891Z",
          "start_time": "2022-05-23T16:05:39.659606Z"
        },
        "id": "w0XKBPLo0DWa"
      },
      "outputs": [],
      "source": [
        "# data_path = '../Data/sample_Signature/sample_Signature/'\n",
        "# For Colab \n",
        "data_path = '/content/drive/MyDrive/sample_Signature/sample_Signature/'"
      ]
    },
    {
      "cell_type": "code",
      "execution_count": 15,
      "metadata": {
        "ExecuteTime": {
          "end_time": "2022-05-23T16:05:39.796644Z",
          "start_time": "2022-05-23T16:05:39.666882Z"
        },
        "scrolled": false,
        "id": "ie8tSIhP0DWa",
        "outputId": "321109de-0147-4393-b8b5-5c316eafd356",
        "colab": {
          "base_uri": "https://localhost:8080/"
        }
      },
      "outputs": [
        {
          "output_type": "stream",
          "name": "stdout",
          "text": [
            "Found 300 images belonging to 2 classes.\n"
          ]
        }
      ],
      "source": [
        "# Importing the data\n",
        "data = img.flow_from_directory(data_path, color_mode='grayscale',\\\n",
        "                               batch_size=300, class_mode='binary')"
      ]
    },
    {
      "cell_type": "code",
      "execution_count": 16,
      "metadata": {
        "ExecuteTime": {
          "end_time": "2022-05-23T16:05:39.816340Z",
          "start_time": "2022-05-23T16:05:39.798372Z"
        },
        "id": "pHsQ8-cU0DWa",
        "outputId": "e4396ef6-5cec-4f54-cc27-f372cd848cda",
        "colab": {
          "base_uri": "https://localhost:8080/"
        }
      },
      "outputs": [
        {
          "output_type": "execute_result",
          "data": {
            "text/plain": [
              "{'forged': 0, 'genuine': 1}"
            ]
          },
          "metadata": {},
          "execution_count": 16
        }
      ],
      "source": [
        "data.class_indices"
      ]
    },
    {
      "cell_type": "code",
      "execution_count": 17,
      "metadata": {
        "ExecuteTime": {
          "end_time": "2022-05-23T16:05:43.282679Z",
          "start_time": "2022-05-23T16:05:39.818265Z"
        },
        "id": "vd1OikVB0DWa"
      },
      "outputs": [],
      "source": [
        "data_images, data_labels = next(data)"
      ]
    },
    {
      "cell_type": "code",
      "execution_count": 18,
      "metadata": {
        "ExecuteTime": {
          "end_time": "2022-05-23T16:05:43.286298Z",
          "start_time": "2022-05-23T16:05:43.283993Z"
        },
        "id": "Rj6lJ_0F0DWa",
        "outputId": "f31487eb-c41f-4406-b3be-22cd7a97def1",
        "colab": {
          "base_uri": "https://localhost:8080/"
        }
      },
      "outputs": [
        {
          "output_type": "execute_result",
          "data": {
            "text/plain": [
              "(300, 256, 256, 1)"
            ]
          },
          "metadata": {},
          "execution_count": 18
        }
      ],
      "source": [
        "data_images.shape"
      ]
    },
    {
      "cell_type": "code",
      "execution_count": 19,
      "metadata": {
        "ExecuteTime": {
          "end_time": "2022-05-23T16:05:43.289203Z",
          "start_time": "2022-05-23T16:05:43.287091Z"
        },
        "id": "Iw64bQi30DWb",
        "outputId": "9ac55225-74c2-4871-f9b6-8b1fca15a621",
        "colab": {
          "base_uri": "https://localhost:8080/"
        }
      },
      "outputs": [
        {
          "output_type": "execute_result",
          "data": {
            "text/plain": [
              "(300,)"
            ]
          },
          "metadata": {},
          "execution_count": 19
        }
      ],
      "source": [
        "data_labels.shape"
      ]
    },
    {
      "cell_type": "code",
      "execution_count": 20,
      "metadata": {
        "ExecuteTime": {
          "end_time": "2022-05-23T16:05:43.378014Z",
          "start_time": "2022-05-23T16:05:43.290028Z"
        },
        "id": "fiRyt5gF0DWb"
      },
      "outputs": [],
      "source": [
        "X_train, X_test, y_train, y_test = train_test_split( \\\n",
        "            data_images, data_labels, random_state=seed, test_size=.2)"
      ]
    },
    {
      "cell_type": "code",
      "execution_count": 21,
      "metadata": {
        "ExecuteTime": {
          "end_time": "2022-05-23T16:05:43.381950Z",
          "start_time": "2022-05-23T16:05:43.379012Z"
        },
        "id": "UX6uGMCo0DWb",
        "outputId": "bf4e8be9-9be4-41de-84a9-531f3ce64ad5",
        "colab": {
          "base_uri": "https://localhost:8080/"
        }
      },
      "outputs": [
        {
          "output_type": "execute_result",
          "data": {
            "text/plain": [
              "(240, 256, 256, 1)"
            ]
          },
          "metadata": {},
          "execution_count": 21
        }
      ],
      "source": [
        "X_train.shape"
      ]
    },
    {
      "cell_type": "code",
      "execution_count": 22,
      "metadata": {
        "ExecuteTime": {
          "end_time": "2022-05-23T16:05:43.385945Z",
          "start_time": "2022-05-23T16:05:43.382938Z"
        },
        "scrolled": true,
        "id": "sBUoFk0E0DWb",
        "outputId": "b1c33bd4-d47a-441f-d206-b144caaa3087",
        "colab": {
          "base_uri": "https://localhost:8080/"
        }
      },
      "outputs": [
        {
          "output_type": "execute_result",
          "data": {
            "text/plain": [
              "(240,)"
            ]
          },
          "metadata": {},
          "execution_count": 22
        }
      ],
      "source": [
        "y_train.shape"
      ]
    },
    {
      "cell_type": "markdown",
      "metadata": {
        "id": "bGdjPhiL0DWb"
      },
      "source": [
        "Above we instantiate Keras' ImageDataGenerator which will scale each pixel's values down to a value of 1. Next we import the data and separate into the images themselves and their respective labels. The class indices indicate what the label values correspond to. Finally we split it into a train and test dataset."
      ]
    },
    {
      "cell_type": "markdown",
      "metadata": {
        "id": "S1qQ7tZw0DWb"
      },
      "source": [
        "### Image Augmentation"
      ]
    },
    {
      "cell_type": "markdown",
      "metadata": {
        "id": "FVN4fruQ0DWb"
      },
      "source": [
        "Because we have such a small dataset it is important to use image augmentation to artificially expand the training dataset. Below we do several forms of data augmentation individually before combining the techniques at the end."
      ]
    },
    {
      "cell_type": "markdown",
      "metadata": {
        "id": "WdiTdHFI0DWb"
      },
      "source": [
        "#### Zoom Augmentation"
      ]
    },
    {
      "cell_type": "markdown",
      "metadata": {
        "id": "sFH6noII0DWb"
      },
      "source": [
        "The first technique we explore is zoom range. Entering a range of values, .25 and 1 in this case, randomly applies a zoom to each image within that range."
      ]
    },
    {
      "cell_type": "code",
      "execution_count": 23,
      "metadata": {
        "ExecuteTime": {
          "end_time": "2022-05-23T16:05:43.432353Z",
          "start_time": "2022-05-23T16:05:43.389712Z"
        },
        "id": "_xI3TrQQ0DWb"
      },
      "outputs": [],
      "source": [
        "aug = ImageDataGenerator(zoom_range=[.25,1])\n",
        "aug.fit(X_train)\n",
        "aug_data = aug.flow(X_train, y_train, batch_size=240)"
      ]
    },
    {
      "cell_type": "code",
      "execution_count": 24,
      "metadata": {
        "ExecuteTime": {
          "end_time": "2022-05-23T16:05:44.752274Z",
          "start_time": "2022-05-23T16:05:43.434570Z"
        },
        "id": "Q2fqt13j0DWb"
      },
      "outputs": [],
      "source": [
        "aug_images, aug_labels = next(aug_data)"
      ]
    },
    {
      "cell_type": "code",
      "execution_count": 25,
      "metadata": {
        "ExecuteTime": {
          "end_time": "2022-05-23T16:05:44.757428Z",
          "start_time": "2022-05-23T16:05:44.753421Z"
        },
        "id": "UJzAAEw50DWb",
        "outputId": "9ac7c595-1b38-49b0-a16f-71a1580b2abf",
        "colab": {
          "base_uri": "https://localhost:8080/"
        }
      },
      "outputs": [
        {
          "output_type": "execute_result",
          "data": {
            "text/plain": [
              "(240, 256, 256, 1)"
            ]
          },
          "metadata": {},
          "execution_count": 25
        }
      ],
      "source": [
        "aug_images.shape"
      ]
    },
    {
      "cell_type": "code",
      "execution_count": 26,
      "metadata": {
        "ExecuteTime": {
          "end_time": "2022-05-23T16:05:44.763236Z",
          "start_time": "2022-05-23T16:05:44.760240Z"
        },
        "scrolled": false,
        "id": "JqyUa7Rb0DWb",
        "outputId": "64ebc984-e6b8-4d68-c731-3a47269762f8",
        "colab": {
          "base_uri": "https://localhost:8080/"
        }
      },
      "outputs": [
        {
          "output_type": "execute_result",
          "data": {
            "text/plain": [
              "(240,)"
            ]
          },
          "metadata": {},
          "execution_count": 26
        }
      ],
      "source": [
        "aug_labels.shape"
      ]
    },
    {
      "cell_type": "code",
      "execution_count": 27,
      "metadata": {
        "ExecuteTime": {
          "end_time": "2022-05-23T16:05:44.773039Z",
          "start_time": "2022-05-23T16:05:44.764282Z"
        },
        "scrolled": true,
        "id": "mus5-mMz0DWc",
        "outputId": "83c36ed3-4ba1-434b-d756-a609ea2bf22b",
        "colab": {
          "base_uri": "https://localhost:8080/",
          "height": 0
        }
      },
      "outputs": [
        {
          "output_type": "execute_result",
          "data": {
            "text/plain": [
              "<PIL.Image.Image image mode=L size=256x256 at 0x7FA45D24A8D0>"
            ],
            "image/png": "[encoded data removed]"
          },
          "metadata": {},
          "execution_count": 27
        }
      ],
      "source": [
        "array_to_img(aug_images[0])"
      ]
    },
    {
      "cell_type": "code",
      "execution_count": 28,
      "metadata": {
        "ExecuteTime": {
          "end_time": "2022-05-23T16:05:44.837593Z",
          "start_time": "2022-05-23T16:05:44.774121Z"
        },
        "id": "ok-mZtR50DWc"
      },
      "outputs": [],
      "source": [
        "new_images1 = np.concatenate([X_train, aug_images])\n",
        "new_labels1 = np.concatenate([y_train, aug_labels])"
      ]
    },
    {
      "cell_type": "code",
      "execution_count": 29,
      "metadata": {
        "ExecuteTime": {
          "end_time": "2022-05-23T16:05:44.843371Z",
          "start_time": "2022-05-23T16:05:44.838745Z"
        },
        "id": "9gWnXQMl0DWc",
        "outputId": "dacb5aeb-32c5-42f4-df43-35bc50a7c779",
        "colab": {
          "base_uri": "https://localhost:8080/"
        }
      },
      "outputs": [
        {
          "output_type": "execute_result",
          "data": {
            "text/plain": [
              "(480, 256, 256, 1)"
            ]
          },
          "metadata": {},
          "execution_count": 29
        }
      ],
      "source": [
        "new_images1.shape"
      ]
    },
    {
      "cell_type": "code",
      "execution_count": 30,
      "metadata": {
        "ExecuteTime": {
          "end_time": "2022-05-23T16:05:44.854854Z",
          "start_time": "2022-05-23T16:05:44.845976Z"
        },
        "scrolled": true,
        "id": "j2ZEhjc_0DWc",
        "outputId": "fd304441-bd92-4ba4-b586-4d60c54ae4d1",
        "colab": {
          "base_uri": "https://localhost:8080/"
        }
      },
      "outputs": [
        {
          "output_type": "execute_result",
          "data": {
            "text/plain": [
              "(480,)"
            ]
          },
          "metadata": {},
          "execution_count": 30
        }
      ],
      "source": [
        "new_labels1.shape"
      ]
    },
    {
      "cell_type": "markdown",
      "metadata": {
        "id": "2xtESP-x0DWc"
      },
      "source": [
        "#### Width Augmentation"
      ]
    },
    {
      "cell_type": "markdown",
      "metadata": {
        "id": "3KbqDEVV0DWc"
      },
      "source": [
        "The next method for augmentation used was width shift range. With a range of .3 the images will be randomly assigned a width down to .3 of the original image size. "
      ]
    },
    {
      "cell_type": "code",
      "execution_count": 31,
      "metadata": {
        "ExecuteTime": {
          "end_time": "2022-05-23T16:05:44.882836Z",
          "start_time": "2022-05-23T16:05:44.858566Z"
        },
        "id": "Xus_GqNv0DWc"
      },
      "outputs": [],
      "source": [
        "aug = ImageDataGenerator(width_shift_range=.3)\n",
        "aug.fit(X_train)\n",
        "aug2_data = aug.flow(X_train, y_train, batch_size=240)"
      ]
    },
    {
      "cell_type": "code",
      "execution_count": 32,
      "metadata": {
        "ExecuteTime": {
          "end_time": "2022-05-23T16:05:45.825020Z",
          "start_time": "2022-05-23T16:05:44.883926Z"
        },
        "id": "u4FBrYPF0DWc"
      },
      "outputs": [],
      "source": [
        "aug2_images, aug2_labels = next(aug2_data)"
      ]
    },
    {
      "cell_type": "code",
      "execution_count": 33,
      "metadata": {
        "ExecuteTime": {
          "end_time": "2022-05-23T16:05:45.962760Z",
          "start_time": "2022-05-23T16:05:45.825976Z"
        },
        "id": "Gqo_6R_s0DWc"
      },
      "outputs": [],
      "source": [
        "new_images2 = np.concatenate([new_images1, aug2_images])\n",
        "new_labels2 = np.concatenate([new_labels1, aug2_labels])"
      ]
    },
    {
      "cell_type": "markdown",
      "metadata": {
        "id": "_3D-UNLx0DWc"
      },
      "source": [
        "#### Height Augmentation"
      ]
    },
    {
      "cell_type": "markdown",
      "metadata": {
        "id": "R-Y1aUd90DWc"
      },
      "source": [
        "The next method for augmentation used was height shift range. With a range of .3 the images will be randomly assigned a height down to .3 of the original image size."
      ]
    },
    {
      "cell_type": "code",
      "execution_count": 34,
      "metadata": {
        "ExecuteTime": {
          "end_time": "2022-05-23T16:05:45.987265Z",
          "start_time": "2022-05-23T16:05:45.963864Z"
        },
        "id": "ZbaVKm_m0DWc"
      },
      "outputs": [],
      "source": [
        "aug = ImageDataGenerator(height_shift_range=.3)\n",
        "aug.fit(X_train)\n",
        "aug3_data = aug.flow(X_train, y_train, batch_size=240)"
      ]
    },
    {
      "cell_type": "code",
      "execution_count": 35,
      "metadata": {
        "ExecuteTime": {
          "end_time": "2022-05-23T16:05:46.921366Z",
          "start_time": "2022-05-23T16:05:45.988413Z"
        },
        "id": "_5RSJQ_g0DWc"
      },
      "outputs": [],
      "source": [
        "aug3_images, aug3_labels = next(aug3_data)"
      ]
    },
    {
      "cell_type": "code",
      "execution_count": 36,
      "metadata": {
        "ExecuteTime": {
          "end_time": "2022-05-23T16:05:47.107123Z",
          "start_time": "2022-05-23T16:05:46.922242Z"
        },
        "id": "47OAh55W0DWc"
      },
      "outputs": [],
      "source": [
        "new_images3 = np.concatenate([new_images2, aug3_images])\n",
        "new_labels3 = np.concatenate([new_labels2, aug3_labels])"
      ]
    },
    {
      "cell_type": "markdown",
      "metadata": {
        "ExecuteTime": {
          "end_time": "2022-05-18T18:10:53.996172Z",
          "start_time": "2022-05-18T18:10:53.989621Z"
        },
        "id": "88uGZ1170DWc"
      },
      "source": [
        "#### Rotation Augmentation"
      ]
    },
    {
      "cell_type": "markdown",
      "metadata": {
        "ExecuteTime": {
          "end_time": "2022-05-20T18:31:05.497987Z",
          "start_time": "2022-05-20T18:31:05.418085Z"
        },
        "id": "HzhChvvv0DWc"
      },
      "source": [
        "Next we apply a random rotation to each image up to 30 degrees."
      ]
    },
    {
      "cell_type": "code",
      "execution_count": 37,
      "metadata": {
        "ExecuteTime": {
          "end_time": "2022-05-23T16:05:47.150201Z",
          "start_time": "2022-05-23T16:05:47.109241Z"
        },
        "id": "r5qASvWM0DWd"
      },
      "outputs": [],
      "source": [
        "aug = ImageDataGenerator(rotation_range=30)\n",
        "aug.fit(X_train)\n",
        "aug4_data = aug.flow(X_train, y_train, batch_size=240)"
      ]
    },
    {
      "cell_type": "code",
      "execution_count": 38,
      "metadata": {
        "ExecuteTime": {
          "end_time": "2022-05-23T16:05:48.059670Z",
          "start_time": "2022-05-23T16:05:47.151166Z"
        },
        "id": "-7RSZv180DWd"
      },
      "outputs": [],
      "source": [
        "aug4_images, aug4_labels = next(aug4_data)"
      ]
    },
    {
      "cell_type": "code",
      "execution_count": 39,
      "metadata": {
        "ExecuteTime": {
          "end_time": "2022-05-23T16:05:48.321156Z",
          "start_time": "2022-05-23T16:05:48.060531Z"
        },
        "id": "IGD4RQS50DWd"
      },
      "outputs": [],
      "source": [
        "new_images4 = np.concatenate([new_images3, aug4_images])\n",
        "new_labels4 = np.concatenate([new_labels3, aug4_labels])"
      ]
    },
    {
      "cell_type": "markdown",
      "metadata": {
        "id": "pK5dN99W0DWd"
      },
      "source": [
        "#### Shear Augmentation"
      ]
    },
    {
      "cell_type": "markdown",
      "metadata": {
        "id": "oV0ZGZBa0DWd"
      },
      "source": [
        "We then apply a random shear value to each image. This angles the corners of each image up to 30 degrees."
      ]
    },
    {
      "cell_type": "code",
      "execution_count": 40,
      "metadata": {
        "ExecuteTime": {
          "end_time": "2022-05-23T16:05:48.353835Z",
          "start_time": "2022-05-23T16:05:48.322907Z"
        },
        "id": "DnZa2voW0DWd"
      },
      "outputs": [],
      "source": [
        "aug = ImageDataGenerator(shear_range=30)\n",
        "aug.fit(X_train)\n",
        "aug5_data = aug.flow(X_train, y_train, batch_size=240)"
      ]
    },
    {
      "cell_type": "code",
      "execution_count": 41,
      "metadata": {
        "ExecuteTime": {
          "end_time": "2022-05-23T16:05:49.270263Z",
          "start_time": "2022-05-23T16:05:48.354995Z"
        },
        "id": "GSPyUkdU0DWd"
      },
      "outputs": [],
      "source": [
        "aug5_images, aug5_labels = next(aug5_data)"
      ]
    },
    {
      "cell_type": "code",
      "execution_count": 42,
      "metadata": {
        "ExecuteTime": {
          "end_time": "2022-05-23T16:05:49.574162Z",
          "start_time": "2022-05-23T16:05:49.271226Z"
        },
        "id": "Akv9kNGs0DWd"
      },
      "outputs": [],
      "source": [
        "new_images5 = np.concatenate([new_images4, aug5_images])\n",
        "new_labels5 = np.concatenate([new_labels4, aug5_labels])"
      ]
    },
    {
      "cell_type": "markdown",
      "metadata": {
        "id": "i-NlCQ-R0DWd"
      },
      "source": [
        "#### Brightness Augmentation"
      ]
    },
    {
      "cell_type": "markdown",
      "metadata": {
        "ExecuteTime": {
          "end_time": "2022-05-20T18:49:59.247310Z",
          "start_time": "2022-05-20T18:49:59.202157Z"
        },
        "id": "icBp-se80DWd"
      },
      "source": [
        "Finally we have brightness augmentation. This applies a random brightness shift within the provided range. "
      ]
    },
    {
      "cell_type": "code",
      "execution_count": 43,
      "metadata": {
        "ExecuteTime": {
          "end_time": "2022-05-23T16:05:49.632646Z",
          "start_time": "2022-05-23T16:05:49.577236Z"
        },
        "id": "bnSYWRVE0DWd"
      },
      "outputs": [],
      "source": [
        "aug = ImageDataGenerator(brightness_range=(1,2))\n",
        "aug.fit(X_train)\n",
        "aug5_data = aug.flow(X_train, y_train, batch_size=240)"
      ]
    },
    {
      "cell_type": "code",
      "execution_count": 44,
      "metadata": {
        "ExecuteTime": {
          "end_time": "2022-05-23T16:05:49.731736Z",
          "start_time": "2022-05-23T16:05:49.635054Z"
        },
        "id": "vCQSxxf50DWd"
      },
      "outputs": [],
      "source": [
        "aug6_images, aug6_labels = next(aug5_data)"
      ]
    },
    {
      "cell_type": "code",
      "execution_count": 45,
      "metadata": {
        "ExecuteTime": {
          "end_time": "2022-05-23T16:05:50.040495Z",
          "start_time": "2022-05-23T16:05:49.732579Z"
        },
        "id": "0bJ9Rogv0DWd"
      },
      "outputs": [],
      "source": [
        "new_images6 = np.concatenate([new_images5, aug6_images])\n",
        "new_labels6 = np.concatenate([new_labels5, aug6_labels])"
      ]
    },
    {
      "cell_type": "code",
      "execution_count": 46,
      "metadata": {
        "ExecuteTime": {
          "end_time": "2022-05-23T16:05:50.044658Z",
          "start_time": "2022-05-23T16:05:50.041411Z"
        },
        "id": "HNDFeNjn0DWd",
        "outputId": "065a6ce2-acff-437f-d503-023621830b8a",
        "colab": {
          "base_uri": "https://localhost:8080/"
        }
      },
      "outputs": [
        {
          "output_type": "execute_result",
          "data": {
            "text/plain": [
              "(1680,)"
            ]
          },
          "metadata": {},
          "execution_count": 46
        }
      ],
      "source": [
        "new_labels6.shape"
      ]
    },
    {
      "cell_type": "markdown",
      "metadata": {
        "id": "0Niir6iw0DWd"
      },
      "source": [
        "#### A little bit of everything Augmentation"
      ]
    },
    {
      "cell_type": "markdown",
      "metadata": {
        "id": "CBsV05X00DWd"
      },
      "source": [
        "Now that we have augmented each image with a single augmentation, we will again augment all images with a combination of each augmentation. "
      ]
    },
    {
      "cell_type": "code",
      "execution_count": 47,
      "metadata": {
        "ExecuteTime": {
          "end_time": "2022-05-23T16:05:50.437436Z",
          "start_time": "2022-05-23T16:05:50.045670Z"
        },
        "id": "gXo4eSwp0DWd"
      },
      "outputs": [],
      "source": [
        "aug = ImageDataGenerator(zoom_range=[.7,.9], width_shift_range=.15, height_shift_range=.15, rotation_range=15, shear_range=15, brightness_range=(1,1.5))\n",
        "aug.fit(new_images6)\n",
        "aug_data_final = aug.flow(new_images6, new_labels6, batch_size=1680)"
      ]
    },
    {
      "cell_type": "code",
      "execution_count": 48,
      "metadata": {
        "ExecuteTime": {
          "end_time": "2022-05-23T16:05:57.654980Z",
          "start_time": "2022-05-23T16:05:50.440677Z"
        },
        "id": "SX7w1lZ30DWd"
      },
      "outputs": [],
      "source": [
        "aug_final_images, aug_final_labels = next(aug_data_final)"
      ]
    },
    {
      "cell_type": "code",
      "execution_count": 49,
      "metadata": {
        "ExecuteTime": {
          "end_time": "2022-05-23T16:05:58.460589Z",
          "start_time": "2022-05-23T16:05:57.658349Z"
        },
        "id": "e5hjhY8J0DWd"
      },
      "outputs": [],
      "source": [
        "final_images = np.concatenate([new_images6, aug_final_images])\n",
        "final_labels = np.concatenate([new_labels6, aug_final_labels])"
      ]
    },
    {
      "cell_type": "code",
      "execution_count": 50,
      "metadata": {
        "ExecuteTime": {
          "end_time": "2022-05-23T16:05:58.486423Z",
          "start_time": "2022-05-23T16:05:58.478573Z"
        },
        "id": "k5nIBtFE0DWd",
        "outputId": "cc69fa4c-aac4-4843-8e89-799f42bf5734",
        "colab": {
          "base_uri": "https://localhost:8080/"
        }
      },
      "outputs": [
        {
          "output_type": "execute_result",
          "data": {
            "text/plain": [
              "(3360, 256, 256, 1)"
            ]
          },
          "metadata": {},
          "execution_count": 50
        }
      ],
      "source": [
        "final_images.shape"
      ]
    },
    {
      "cell_type": "code",
      "execution_count": 51,
      "metadata": {
        "ExecuteTime": {
          "end_time": "2022-05-23T16:05:58.492199Z",
          "start_time": "2022-05-23T16:05:58.488114Z"
        },
        "id": "ktGylzJw0DWe",
        "outputId": "2b20aadc-dc41-43ab-f7c7-6bf7c74533d5",
        "colab": {
          "base_uri": "https://localhost:8080/"
        }
      },
      "outputs": [
        {
          "output_type": "execute_result",
          "data": {
            "text/plain": [
              "(3360,)"
            ]
          },
          "metadata": {},
          "execution_count": 51
        }
      ],
      "source": [
        "final_labels.shape"
      ]
    },
    {
      "cell_type": "code",
      "execution_count": 52,
      "metadata": {
        "ExecuteTime": {
          "end_time": "2022-05-23T16:05:58.508379Z",
          "start_time": "2022-05-23T16:05:58.493315Z"
        },
        "id": "JvANUs2x0DWe",
        "outputId": "d7ef1f2d-4e3b-4866-cb7a-71de873c2ae9",
        "colab": {
          "base_uri": "https://localhost:8080/",
          "height": 0
        }
      },
      "outputs": [
        {
          "output_type": "execute_result",
          "data": {
            "text/plain": [
              "<PIL.Image.Image image mode=L size=256x256 at 0x7FA45D24A290>"
            ],
            "image/png": "[encoded data removed]"
          },
          "metadata": {},
          "execution_count": 52
        }
      ],
      "source": [
        "array_to_img(final_images[0])"
      ]
    },
    {
      "cell_type": "code",
      "execution_count": 53,
      "metadata": {
        "ExecuteTime": {
          "end_time": "2022-05-23T16:05:58.516670Z",
          "start_time": "2022-05-23T16:05:58.510105Z"
        },
        "id": "Rfp_CEyq0DWe",
        "outputId": "e93f16b1-296c-4378-886f-3b02d23e3a4c",
        "colab": {
          "base_uri": "https://localhost:8080/"
        }
      },
      "outputs": [
        {
          "output_type": "execute_result",
          "data": {
            "text/plain": [
              "1.0"
            ]
          },
          "metadata": {},
          "execution_count": 53
        }
      ],
      "source": [
        "final_labels[0]"
      ]
    },
    {
      "cell_type": "markdown",
      "metadata": {
        "id": "znWY9nTw0DWe"
      },
      "source": [
        "The above example image would be considered a genuine signature."
      ]
    },
    {
      "cell_type": "markdown",
      "metadata": {
        "id": "1CV6UXls0DWe"
      },
      "source": [
        "## Modeling"
      ]
    },
    {
      "cell_type": "markdown",
      "metadata": {
        "id": "VeYn_F620DWe"
      },
      "source": [
        "### Dummy Model"
      ]
    },
    {
      "cell_type": "markdown",
      "metadata": {
        "id": "H1mLHp2i0DWe"
      },
      "source": [
        "Our first model will be a baseline model for comparison. We will utilize Sklearn's DummyClassifier which uses the most frequent class as it's prediction. "
      ]
    },
    {
      "cell_type": "code",
      "execution_count": null,
      "metadata": {
        "ExecuteTime": {
          "end_time": "2022-05-23T16:05:58.574943Z",
          "start_time": "2022-05-23T16:05:58.523033Z"
        },
        "id": "fQHXmArA0DWe",
        "outputId": "e512004e-c0b3-4773-efd6-efd863443413",
        "colab": {
          "base_uri": "https://localhost:8080/"
        }
      },
      "outputs": [
        {
          "output_type": "execute_result",
          "data": {
            "text/plain": [
              "DummyClassifier(strategy='most_frequent')"
            ]
          },
          "metadata": {},
          "execution_count": 44
        }
      ],
      "source": [
        "dummy_model = DummyClassifier(strategy='most_frequent')\n",
        "dummy_model.fit(final_images, final_labels)"
      ]
    },
    {
      "cell_type": "code",
      "execution_count": null,
      "metadata": {
        "ExecuteTime": {
          "end_time": "2022-05-23T14:37:35.762069Z",
          "start_time": "2022-05-23T14:37:35.728654Z"
        },
        "id": "kT-Fmkxv0DWe"
      },
      "outputs": [],
      "source": [
        "dummy_preds = dummy_model.predict(X_test)\n",
        "\n",
        "dummy_acc = dummy_model.score(X_test, y_test)"
      ]
    },
    {
      "cell_type": "code",
      "execution_count": null,
      "metadata": {
        "ExecuteTime": {
          "end_time": "2022-05-23T14:37:36.158514Z",
          "start_time": "2022-05-23T14:37:36.146852Z"
        },
        "id": "DHF4HzzW0DWe",
        "outputId": "0dc30e5d-4d90-4a4d-f339-2b77a9660843",
        "colab": {
          "base_uri": "https://localhost:8080/"
        }
      },
      "outputs": [
        {
          "output_type": "execute_result",
          "data": {
            "text/plain": [
              "0.43333333333333335"
            ]
          },
          "metadata": {},
          "execution_count": 46
        }
      ],
      "source": [
        "dummy_acc"
      ]
    },
    {
      "cell_type": "markdown",
      "metadata": {
        "id": "sNx3XOei0DWe"
      },
      "source": [
        "### Model 1"
      ]
    },
    {
      "cell_type": "code",
      "execution_count": 54,
      "metadata": {
        "ExecuteTime": {
          "end_time": "2022-05-23T16:06:23.940257Z",
          "start_time": "2022-05-23T16:06:23.913564Z"
        },
        "id": "fS91mFCb0DWe"
      },
      "outputs": [],
      "source": [
        "adam = Adam(learning_rate=.0001)"
      ]
    },
    {
      "cell_type": "code",
      "execution_count": 55,
      "metadata": {
        "ExecuteTime": {
          "end_time": "2022-05-23T16:06:24.737002Z",
          "start_time": "2022-05-23T16:06:24.679818Z"
        },
        "id": "9BB3Pf3d0DWe"
      },
      "outputs": [],
      "source": [
        "def build_model():\n",
        "    model1 = Sequential()\n",
        "    model1.add(layers.Conv2D(filters=64,\n",
        "                       kernel_size=(3,3),\n",
        "                       activation='relu',\n",
        "                       input_shape=(256,256,1)))\n",
        "\n",
        "    model1.add(layers.MaxPool2D())\n",
        "\n",
        "    model1.add(layers.Conv2D(128, (3,3), activation='relu'))\n",
        "\n",
        "    model1.add(layers.MaxPool2D())\n",
        "    \n",
        "    model1.add(layers.Flatten())\n",
        "    model1.add(layers.Dense(64, activation='relu'))\n",
        "    model1.add(layers.Dropout(.25))\n",
        "\n",
        "    model1.add(layers.Dense(32, activation='relu', kernel_regularizer=l2(0.05)))\n",
        "\n",
        "    model1.add(layers.Dense(16, activation='relu', kernel_regularizer=l2(0.01)))\n",
        "    model1.add(layers.Dropout(.25))\n",
        "    \n",
        "    model1.add(layers.Dense(1, activation='sigmoid'))\n",
        "\n",
        "    model1.compile(optimizer=adam,\n",
        "                  loss='binary_crossentropy',\n",
        "                  metrics=['accuracy'])\n",
        "    return model1"
      ]
    },
    {
      "cell_type": "code",
      "execution_count": 56,
      "metadata": {
        "id": "V5cpuu3b0DWe",
        "outputId": "71bb76fc-dd99-465f-f7da-10b8bb2c5018",
        "colab": {
          "base_uri": "https://localhost:8080/"
        }
      },
      "outputs": [
        {
          "output_type": "stream",
          "name": "stderr",
          "text": [
            "/usr/local/lib/python3.7/dist-packages/ipykernel_launcher.py:1: DeprecationWarning: KerasClassifier is deprecated, use Sci-Keras (https://github.com/adriangb/scikeras) instead. See https://www.adriangb.com/scikeras/stable/migration.html for help migrating.\n",
            "  \"\"\"Entry point for launching an IPython kernel.\n"
          ]
        }
      ],
      "source": [
        "model1 = scikit_learn.KerasClassifier(build_model, verbose=2, epochs=20, batch_size=32)"
      ]
    },
    {
      "cell_type": "code",
      "execution_count": 57,
      "metadata": {
        "ExecuteTime": {
          "end_time": "2022-05-19T18:41:59.855237Z",
          "start_time": "2022-05-19T18:41:36.681608Z"
        },
        "collapsed": true,
        "id": "ekCKvScv0DWe",
        "outputId": "ebf47526-d382-42f7-c424-68e1cb1b5bf4",
        "colab": {
          "base_uri": "https://localhost:8080/"
        }
      },
      "outputs": [
        {
          "output_type": "stream",
          "name": "stdout",
          "text": [
            "Epoch 1/20\n",
            "84/84 - 16s - loss: 11.0619 - accuracy: 0.5063 - 16s/epoch - 193ms/step\n",
            "Epoch 2/20\n",
            "84/84 - 5s - loss: 2.8620 - accuracy: 0.4840 - 5s/epoch - 57ms/step\n",
            "Epoch 3/20\n",
            "84/84 - 5s - loss: 2.7598 - accuracy: 0.5231 - 5s/epoch - 57ms/step\n",
            "Epoch 4/20\n",
            "84/84 - 5s - loss: 2.6545 - accuracy: 0.5357 - 5s/epoch - 57ms/step\n",
            "Epoch 5/20\n",
            "84/84 - 5s - loss: 2.5556 - accuracy: 0.5394 - 5s/epoch - 57ms/step\n",
            "Epoch 6/20\n",
            "84/84 - 5s - loss: 2.4625 - accuracy: 0.5417 - 5s/epoch - 57ms/step\n",
            "Epoch 7/20\n",
            "84/84 - 5s - loss: 2.3745 - accuracy: 0.5454 - 5s/epoch - 58ms/step\n",
            "Epoch 8/20\n",
            "84/84 - 5s - loss: 2.2865 - accuracy: 0.5443 - 5s/epoch - 57ms/step\n",
            "Epoch 9/20\n",
            "84/84 - 5s - loss: 2.2005 - accuracy: 0.5658 - 5s/epoch - 57ms/step\n",
            "Epoch 10/20\n",
            "84/84 - 5s - loss: 2.1188 - accuracy: 0.5625 - 5s/epoch - 57ms/step\n",
            "Epoch 11/20\n",
            "84/84 - 5s - loss: 2.0493 - accuracy: 0.5737 - 5s/epoch - 57ms/step\n",
            "Epoch 12/20\n",
            "84/84 - 5s - loss: 1.9862 - accuracy: 0.5685 - 5s/epoch - 57ms/step\n",
            "Epoch 13/20\n",
            "84/84 - 5s - loss: 1.9228 - accuracy: 0.5751 - 5s/epoch - 57ms/step\n",
            "Epoch 14/20\n",
            "84/84 - 5s - loss: 1.8686 - accuracy: 0.5789 - 5s/epoch - 61ms/step\n",
            "Epoch 15/20\n",
            "84/84 - 5s - loss: 1.7946 - accuracy: 0.5815 - 5s/epoch - 58ms/step\n",
            "Epoch 16/20\n",
            "84/84 - 5s - loss: 1.7277 - accuracy: 0.6161 - 5s/epoch - 57ms/step\n",
            "Epoch 17/20\n",
            "84/84 - 5s - loss: 1.6885 - accuracy: 0.6421 - 5s/epoch - 57ms/step\n",
            "Epoch 18/20\n",
            "84/84 - 5s - loss: 1.6378 - accuracy: 0.6503 - 5s/epoch - 57ms/step\n",
            "Epoch 19/20\n",
            "84/84 - 5s - loss: 1.5620 - accuracy: 0.6767 - 5s/epoch - 57ms/step\n",
            "Epoch 20/20\n",
            "84/84 - 5s - loss: 1.5184 - accuracy: 0.6842 - 5s/epoch - 57ms/step\n",
            "21/21 - 1s - loss: 1.6541 - accuracy: 0.6354 - 636ms/epoch - 30ms/step\n",
            "Epoch 1/20\n",
            "84/84 - 6s - loss: 21.0842 - accuracy: 0.4900 - 6s/epoch - 66ms/step\n",
            "Epoch 2/20\n",
            "84/84 - 5s - loss: 2.6139 - accuracy: 0.5495 - 5s/epoch - 57ms/step\n",
            "Epoch 3/20\n",
            "84/84 - 5s - loss: 2.4624 - accuracy: 0.5811 - 5s/epoch - 57ms/step\n",
            "Epoch 4/20\n",
            "84/84 - 5s - loss: 2.3290 - accuracy: 0.6213 - 5s/epoch - 57ms/step\n",
            "Epoch 5/20\n",
            "84/84 - 5s - loss: 2.2027 - accuracy: 0.6670 - 5s/epoch - 57ms/step\n",
            "Epoch 6/20\n",
            "84/84 - 5s - loss: 2.0982 - accuracy: 0.7139 - 5s/epoch - 57ms/step\n",
            "Epoch 7/20\n",
            "84/84 - 5s - loss: 1.9747 - accuracy: 0.7548 - 5s/epoch - 57ms/step\n",
            "Epoch 8/20\n",
            "84/84 - 5s - loss: 1.8520 - accuracy: 0.8013 - 5s/epoch - 58ms/step\n",
            "Epoch 9/20\n",
            "84/84 - 5s - loss: 1.7622 - accuracy: 0.8229 - 5s/epoch - 57ms/step\n",
            "Epoch 10/20\n",
            "84/84 - 5s - loss: 1.6802 - accuracy: 0.8486 - 5s/epoch - 57ms/step\n",
            "Epoch 11/20\n",
            "84/84 - 5s - loss: 1.6229 - accuracy: 0.8709 - 5s/epoch - 57ms/step\n",
            "Epoch 12/20\n",
            "84/84 - 5s - loss: 1.5596 - accuracy: 0.8836 - 5s/epoch - 57ms/step\n",
            "Epoch 13/20\n",
            "84/84 - 5s - loss: 1.4889 - accuracy: 0.9025 - 5s/epoch - 57ms/step\n",
            "Epoch 14/20\n",
            "84/84 - 5s - loss: 1.4567 - accuracy: 0.9092 - 5s/epoch - 58ms/step\n",
            "Epoch 15/20\n",
            "84/84 - 5s - loss: 1.4021 - accuracy: 0.9263 - 5s/epoch - 57ms/step\n",
            "Epoch 16/20\n",
            "84/84 - 5s - loss: 1.3526 - accuracy: 0.9356 - 5s/epoch - 58ms/step\n",
            "Epoch 17/20\n",
            "84/84 - 5s - loss: 1.3163 - accuracy: 0.9412 - 5s/epoch - 57ms/step\n",
            "Epoch 18/20\n",
            "84/84 - 5s - loss: 1.2833 - accuracy: 0.9479 - 5s/epoch - 57ms/step\n",
            "Epoch 19/20\n",
            "84/84 - 5s - loss: 1.2515 - accuracy: 0.9576 - 5s/epoch - 57ms/step\n",
            "Epoch 20/20\n",
            "84/84 - 5s - loss: 1.2224 - accuracy: 0.9617 - 5s/epoch - 57ms/step\n",
            "21/21 - 1s - loss: 1.9111 - accuracy: 0.6429 - 649ms/epoch - 31ms/step\n",
            "Epoch 1/20\n",
            "84/84 - 5s - loss: 11.9460 - accuracy: 0.5100 - 5s/epoch - 64ms/step\n",
            "Epoch 2/20\n",
            "84/84 - 5s - loss: 2.4615 - accuracy: 0.5339 - 5s/epoch - 57ms/step\n",
            "Epoch 3/20\n",
            "84/84 - 5s - loss: 2.2614 - accuracy: 0.5472 - 5s/epoch - 57ms/step\n",
            "Epoch 4/20\n",
            "84/84 - 5s - loss: 2.1093 - accuracy: 0.5789 - 5s/epoch - 58ms/step\n",
            "Epoch 5/20\n",
            "84/84 - 5s - loss: 1.9704 - accuracy: 0.6172 - 5s/epoch - 57ms/step\n",
            "Epoch 6/20\n",
            "84/84 - 5s - loss: 1.8274 - accuracy: 0.6763 - 5s/epoch - 58ms/step\n",
            "Epoch 7/20\n",
            "84/84 - 5s - loss: 1.7078 - accuracy: 0.7254 - 5s/epoch - 57ms/step\n",
            "Epoch 8/20\n",
            "84/84 - 5s - loss: 1.5712 - accuracy: 0.7731 - 5s/epoch - 58ms/step\n",
            "Epoch 9/20\n",
            "84/84 - 5s - loss: 1.4511 - accuracy: 0.8155 - 5s/epoch - 57ms/step\n",
            "Epoch 10/20\n",
            "84/84 - 5s - loss: 1.3592 - accuracy: 0.8508 - 5s/epoch - 57ms/step\n",
            "Epoch 11/20\n",
            "84/84 - 5s - loss: 1.2853 - accuracy: 0.8705 - 5s/epoch - 57ms/step\n",
            "Epoch 12/20\n",
            "84/84 - 5s - loss: 1.2232 - accuracy: 0.8888 - 5s/epoch - 57ms/step\n",
            "Epoch 13/20\n",
            "84/84 - 5s - loss: 1.1616 - accuracy: 0.9044 - 5s/epoch - 57ms/step\n",
            "Epoch 14/20\n",
            "84/84 - 5s - loss: 1.1015 - accuracy: 0.9252 - 5s/epoch - 57ms/step\n",
            "Epoch 15/20\n",
            "84/84 - 5s - loss: 1.0631 - accuracy: 0.9360 - 5s/epoch - 58ms/step\n",
            "Epoch 16/20\n",
            "84/84 - 5s - loss: 1.0321 - accuracy: 0.9453 - 5s/epoch - 57ms/step\n",
            "Epoch 17/20\n",
            "84/84 - 5s - loss: 0.9819 - accuracy: 0.9565 - 5s/epoch - 57ms/step\n",
            "Epoch 18/20\n",
            "84/84 - 5s - loss: 0.9321 - accuracy: 0.9617 - 5s/epoch - 57ms/step\n",
            "Epoch 19/20\n",
            "84/84 - 5s - loss: 0.8977 - accuracy: 0.9728 - 5s/epoch - 57ms/step\n",
            "Epoch 20/20\n",
            "84/84 - 5s - loss: 0.8778 - accuracy: 0.9743 - 5s/epoch - 57ms/step\n",
            "21/21 - 1s - loss: 2.7690 - accuracy: 0.6235 - 638ms/epoch - 30ms/step\n",
            "Epoch 1/20\n",
            "84/84 - 5s - loss: 13.0827 - accuracy: 0.5175 - 5s/epoch - 64ms/step\n",
            "Epoch 2/20\n",
            "84/84 - 5s - loss: 2.4384 - accuracy: 0.5439 - 5s/epoch - 57ms/step\n",
            "Epoch 3/20\n",
            "84/84 - 5s - loss: 2.2244 - accuracy: 0.5699 - 5s/epoch - 57ms/step\n",
            "Epoch 4/20\n",
            "84/84 - 5s - loss: 2.0672 - accuracy: 0.6146 - 5s/epoch - 57ms/step\n",
            "Epoch 5/20\n",
            "84/84 - 5s - loss: 1.9292 - accuracy: 0.6302 - 5s/epoch - 57ms/step\n",
            "Epoch 6/20\n",
            "84/84 - 5s - loss: 1.8180 - accuracy: 0.6741 - 5s/epoch - 57ms/step\n",
            "Epoch 7/20\n",
            "84/84 - 5s - loss: 1.6965 - accuracy: 0.7214 - 5s/epoch - 57ms/step\n",
            "Epoch 8/20\n",
            "84/84 - 5s - loss: 1.6074 - accuracy: 0.7645 - 5s/epoch - 57ms/step\n",
            "Epoch 9/20\n",
            "84/84 - 5s - loss: 1.5031 - accuracy: 0.8010 - 5s/epoch - 57ms/step\n",
            "Epoch 10/20\n",
            "84/84 - 5s - loss: 1.4062 - accuracy: 0.8389 - 5s/epoch - 57ms/step\n",
            "Epoch 11/20\n",
            "84/84 - 5s - loss: 1.3391 - accuracy: 0.8575 - 5s/epoch - 57ms/step\n",
            "Epoch 12/20\n",
            "84/84 - 5s - loss: 1.2814 - accuracy: 0.8832 - 5s/epoch - 57ms/step\n",
            "Epoch 13/20\n",
            "84/84 - 5s - loss: 1.2262 - accuracy: 0.8940 - 5s/epoch - 57ms/step\n",
            "Epoch 14/20\n",
            "84/84 - 5s - loss: 1.1799 - accuracy: 0.9126 - 5s/epoch - 57ms/step\n",
            "Epoch 15/20\n",
            "84/84 - 5s - loss: 1.1706 - accuracy: 0.9148 - 5s/epoch - 57ms/step\n",
            "Epoch 16/20\n",
            "84/84 - 5s - loss: 1.1098 - accuracy: 0.9282 - 5s/epoch - 57ms/step\n",
            "Epoch 17/20\n",
            "84/84 - 5s - loss: 1.0630 - accuracy: 0.9442 - 5s/epoch - 57ms/step\n",
            "Epoch 18/20\n",
            "84/84 - 5s - loss: 1.0323 - accuracy: 0.9550 - 5s/epoch - 57ms/step\n",
            "Epoch 19/20\n",
            "84/84 - 5s - loss: 1.0110 - accuracy: 0.9572 - 5s/epoch - 57ms/step\n",
            "Epoch 20/20\n",
            "84/84 - 5s - loss: 0.9788 - accuracy: 0.9647 - 5s/epoch - 57ms/step\n",
            "21/21 - 1s - loss: 4.9152 - accuracy: 0.5164 - 652ms/epoch - 31ms/step\n",
            "Epoch 1/20\n",
            "84/84 - 5s - loss: 12.0937 - accuracy: 0.5011 - 5s/epoch - 64ms/step\n",
            "Epoch 2/20\n",
            "84/84 - 5s - loss: 2.4105 - accuracy: 0.5160 - 5s/epoch - 57ms/step\n",
            "Epoch 3/20\n",
            "84/84 - 5s - loss: 2.2054 - accuracy: 0.5305 - 5s/epoch - 57ms/step\n",
            "Epoch 4/20\n",
            "84/84 - 5s - loss: 2.0552 - accuracy: 0.5926 - 5s/epoch - 57ms/step\n",
            "Epoch 5/20\n",
            "84/84 - 5s - loss: 1.9320 - accuracy: 0.6190 - 5s/epoch - 57ms/step\n",
            "Epoch 6/20\n",
            "84/84 - 5s - loss: 1.8177 - accuracy: 0.6756 - 5s/epoch - 57ms/step\n",
            "Epoch 7/20\n",
            "84/84 - 5s - loss: 1.6922 - accuracy: 0.7083 - 5s/epoch - 57ms/step\n",
            "Epoch 8/20\n",
            "84/84 - 5s - loss: 1.5887 - accuracy: 0.7411 - 5s/epoch - 57ms/step\n",
            "Epoch 9/20\n",
            "84/84 - 5s - loss: 1.4629 - accuracy: 0.7972 - 5s/epoch - 57ms/step\n",
            "Epoch 10/20\n",
            "84/84 - 5s - loss: 1.3857 - accuracy: 0.8266 - 5s/epoch - 57ms/step\n",
            "Epoch 11/20\n",
            "84/84 - 5s - loss: 1.2990 - accuracy: 0.8545 - 5s/epoch - 57ms/step\n",
            "Epoch 12/20\n",
            "84/84 - 5s - loss: 1.2237 - accuracy: 0.8735 - 5s/epoch - 57ms/step\n",
            "Epoch 13/20\n",
            "84/84 - 5s - loss: 1.1669 - accuracy: 0.8873 - 5s/epoch - 57ms/step\n",
            "Epoch 14/20\n",
            "84/84 - 5s - loss: 1.1262 - accuracy: 0.9018 - 5s/epoch - 57ms/step\n",
            "Epoch 15/20\n",
            "84/84 - 5s - loss: 1.0732 - accuracy: 0.9219 - 5s/epoch - 57ms/step\n",
            "Epoch 16/20\n",
            "84/84 - 5s - loss: 1.0300 - accuracy: 0.9271 - 5s/epoch - 57ms/step\n",
            "Epoch 17/20\n",
            "84/84 - 5s - loss: 0.9942 - accuracy: 0.9423 - 5s/epoch - 57ms/step\n",
            "Epoch 18/20\n",
            "84/84 - 5s - loss: 0.9580 - accuracy: 0.9498 - 5s/epoch - 57ms/step\n",
            "Epoch 19/20\n",
            "84/84 - 5s - loss: 0.9389 - accuracy: 0.9483 - 5s/epoch - 57ms/step\n",
            "Epoch 20/20\n",
            "84/84 - 5s - loss: 0.9003 - accuracy: 0.9594 - 5s/epoch - 57ms/step\n",
            "21/21 - 1s - loss: 4.7563 - accuracy: 0.5298 - 634ms/epoch - 30ms/step\n"
          ]
        }
      ],
      "source": [
        "#Cross validation will be run in and pickled from colab to save time.\n",
        "model1_cv_results = cross_val_score(model1, final_images, final_labels)"
      ]
    },
    {
      "cell_type": "code",
      "execution_count": 58,
      "metadata": {
        "id": "AbFIKicP0DWe",
        "colab": {
          "base_uri": "https://localhost:8080/"
        },
        "outputId": "07e41866-0b7b-41fb-db2e-10ba34a5655f"
      },
      "outputs": [
        {
          "output_type": "execute_result",
          "data": {
            "text/plain": [
              "0.5895833373069763"
            ]
          },
          "metadata": {},
          "execution_count": 58
        }
      ],
      "source": [
        "model1_cv_results.mean()"
      ]
    },
    {
      "cell_type": "code",
      "execution_count": 59,
      "metadata": {
        "id": "oRWotf-I0DWe"
      },
      "outputs": [],
      "source": [
        "model1_cv_pickle = 'drive/MyDrive/model1_cv_pickle.sav'\n",
        "pickle.dump(model1_cv_results, open(model1_cv_pickle, 'wb'))"
      ]
    },
    {
      "cell_type": "code",
      "execution_count": 62,
      "metadata": {
        "collapsed": true,
        "id": "4Tc-TqN10DWe",
        "outputId": "d335adab-c9f3-4bc5-bf68-662aa83ccddc",
        "colab": {
          "base_uri": "https://localhost:8080/"
        }
      },
      "outputs": [
        {
          "output_type": "stream",
          "name": "stdout",
          "text": [
            "Epoch 1/20\n",
            "INFO:tensorflow:Assets written to: /content/drive/MyDrive/model1_checkpoint/assets\n",
            "84/84 - 9s - loss: 16.1939 - accuracy: 0.5074 - val_loss: 2.5407 - val_accuracy: 0.5372 - 9s/epoch - 112ms/step\n",
            "Epoch 2/20\n",
            "84/84 - 5s - loss: 2.4128 - accuracy: 0.5420 - val_loss: 2.3129 - val_accuracy: 0.5119 - 5s/epoch - 63ms/step\n",
            "Epoch 3/20\n",
            "INFO:tensorflow:Assets written to: /content/drive/MyDrive/model1_checkpoint/assets\n",
            "84/84 - 9s - loss: 2.2078 - accuracy: 0.5629 - val_loss: 2.1739 - val_accuracy: 0.5387 - 9s/epoch - 110ms/step\n",
            "Epoch 4/20\n",
            "84/84 - 5s - loss: 2.0541 - accuracy: 0.6112 - val_loss: 2.3338 - val_accuracy: 0.5253 - 5s/epoch - 64ms/step\n",
            "Epoch 5/20\n",
            "84/84 - 5s - loss: 1.8985 - accuracy: 0.6726 - val_loss: 2.2599 - val_accuracy: 0.5298 - 5s/epoch - 65ms/step\n",
            "Epoch 6/20\n",
            "84/84 - 5s - loss: 1.7495 - accuracy: 0.7273 - val_loss: 2.4209 - val_accuracy: 0.5193 - 5s/epoch - 64ms/step\n",
            "Epoch 7/20\n",
            "84/84 - 5s - loss: 1.6405 - accuracy: 0.7727 - val_loss: 2.3130 - val_accuracy: 0.5104 - 5s/epoch - 65ms/step\n",
            "Epoch 8/20\n",
            "84/84 - 5s - loss: 1.5763 - accuracy: 0.7846 - val_loss: 2.5482 - val_accuracy: 0.5193 - 5s/epoch - 63ms/step\n",
            "Epoch 9/20\n",
            "84/84 - 5s - loss: 1.4855 - accuracy: 0.8263 - val_loss: 2.9067 - val_accuracy: 0.5149 - 5s/epoch - 63ms/step\n",
            "Epoch 10/20\n",
            "84/84 - 5s - loss: 1.4006 - accuracy: 0.8501 - val_loss: 3.4746 - val_accuracy: 0.5089 - 5s/epoch - 65ms/step\n",
            "Epoch 11/20\n",
            "84/84 - 5s - loss: 1.3243 - accuracy: 0.8810 - val_loss: 3.5903 - val_accuracy: 0.5179 - 5s/epoch - 63ms/step\n",
            "Epoch 12/20\n",
            "84/84 - 5s - loss: 1.2718 - accuracy: 0.8969 - val_loss: 3.6073 - val_accuracy: 0.5134 - 5s/epoch - 65ms/step\n",
            "Epoch 13/20\n",
            "84/84 - 5s - loss: 1.2333 - accuracy: 0.9033 - val_loss: 3.9359 - val_accuracy: 0.5253 - 5s/epoch - 65ms/step\n",
            "Epoch 14/20\n",
            "84/84 - 5s - loss: 1.1983 - accuracy: 0.9089 - val_loss: 3.7641 - val_accuracy: 0.5193 - 5s/epoch - 63ms/step\n",
            "Epoch 15/20\n",
            "84/84 - 5s - loss: 1.1433 - accuracy: 0.9241 - val_loss: 3.9816 - val_accuracy: 0.5193 - 5s/epoch - 65ms/step\n",
            "Epoch 16/20\n",
            "84/84 - 5s - loss: 1.1063 - accuracy: 0.9382 - val_loss: 4.3289 - val_accuracy: 0.5253 - 5s/epoch - 64ms/step\n",
            "Epoch 17/20\n",
            "84/84 - 5s - loss: 1.0776 - accuracy: 0.9423 - val_loss: 4.1894 - val_accuracy: 0.5164 - 5s/epoch - 64ms/step\n",
            "Epoch 18/20\n",
            "84/84 - 5s - loss: 1.0527 - accuracy: 0.9505 - val_loss: 4.5351 - val_accuracy: 0.5298 - 5s/epoch - 63ms/step\n",
            "Epoch 19/20\n",
            "84/84 - 5s - loss: 1.0202 - accuracy: 0.9594 - val_loss: 4.3178 - val_accuracy: 0.5134 - 5s/epoch - 64ms/step\n",
            "Epoch 20/20\n",
            "84/84 - 5s - loss: 0.9973 - accuracy: 0.9661 - val_loss: 4.9156 - val_accuracy: 0.5253 - 5s/epoch - 65ms/step\n"
          ]
        }
      ],
      "source": [
        "model1_filepath = '/content/drive/MyDrive/model1_checkpoint'\n",
        "model1_checkpoint_callback = ModelCheckpoint(filepath=model1_filepath,\n",
        "                                                 save_best_only=True,\n",
        "                                                 monitor='val_accuracy',\n",
        "                                                 mode='max')\n",
        "\n",
        "results = model1.fit(final_images, final_labels, validation_split=.2, callbacks=[model1_checkpoint_callback])"
      ]
    },
    {
      "cell_type": "code",
      "source": [
        "model1_results_pickle = 'drive/MyDrive/model1_results_pickle.sav'\n",
        "pickle.dump(results, open(model1_results_pickle, 'wb'))"
      ],
      "metadata": {
        "id": "B1MB7I9X4LuT",
        "outputId": "de443375-07da-479e-f823-06c734763b27",
        "colab": {
          "base_uri": "https://localhost:8080/"
        }
      },
      "execution_count": 64,
      "outputs": [
        {
          "output_type": "stream",
          "name": "stdout",
          "text": [
            "INFO:tensorflow:Assets written to: ram://fb7e44c9-6718-4bc2-ae05-221b4bff00e5/assets\n"
          ]
        }
      ]
    },
    {
      "cell_type": "code",
      "execution_count": 65,
      "metadata": {
        "id": "4R3zK7bp0DWe",
        "colab": {
          "base_uri": "https://localhost:8080/"
        },
        "outputId": "531c39fe-3106-4a3f-d608-97da7d01fcce"
      },
      "outputs": [
        {
          "output_type": "stream",
          "name": "stdout",
          "text": [
            "INFO:tensorflow:Assets written to: ram://775f446b-0e77-4782-8ddf-92a9eddebdd0/assets\n"
          ]
        }
      ],
      "source": [
        "model1_pickle = 'drive/MyDrive/model1_pickle.sav'\n",
        "pickle.dump(model1, open(model1_pickle, 'wb'))"
      ]
    },
    {
      "cell_type": "code",
      "source": [
        ""
      ],
      "metadata": {
        "id": "MMPmlBKUQxWq"
      },
      "execution_count": null,
      "outputs": []
    }
  ],
  "metadata": {
    "kernelspec": {
      "display_name": "tf-test",
      "language": "python",
      "name": "tf-test"
    },
    "language_info": {
      "codemirror_mode": {
        "name": "ipython",
        "version": 3
      },
      "file_extension": ".py",
      "mimetype": "text/x-python",
      "name": "python",
      "nbconvert_exporter": "python",
      "pygments_lexer": "ipython3",
      "version": "3.6.13"
    },
    "toc": {
      "base_numbering": 1,
      "nav_menu": {},
      "number_sections": true,
      "sideBar": true,
      "skip_h1_title": false,
      "title_cell": "Table of Contents",
      "title_sidebar": "Contents",
      "toc_cell": false,
      "toc_position": {},
      "toc_section_display": true,
      "toc_window_display": false
    },
    "colab": {
      "name": "Model1_Notebook.ipynb",
      "provenance": []
    },
    "accelerator": "GPU"
  },
  "nbformat": 4,
  "nbformat_minor": 0
}