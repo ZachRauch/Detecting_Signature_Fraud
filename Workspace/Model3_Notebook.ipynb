{
  "cells": [
    {
      "cell_type": "markdown",
      "metadata": {
        "id": "0u7YTY_2VMo5"
      },
      "source": [
        "# Signature Classification"
      ]
    },
    {
      "cell_type": "markdown",
      "metadata": {
        "id": "xjUEM33ZVMo8"
      },
      "source": [
        "![img](https://github.com/ZachRauch/Signature_Classification/blob/main/images/signature_banner.jpeg?raw=1)"
      ]
    },
    {
      "cell_type": "markdown",
      "metadata": {
        "id": "pMutZcPfVMo8"
      },
      "source": [
        "## Overview"
      ]
    },
    {
      "cell_type": "markdown",
      "metadata": {
        "id": "A3nz0P2pVMo8"
      },
      "source": [
        "The aim of this analysis is to identify fraudulent signatures in a dataset. My audience here is _______. Using just a small dataset with only 300 sample I was able to create a "
      ]
    },
    {
      "cell_type": "markdown",
      "metadata": {
        "id": "zTaZIfQdVMo8"
      },
      "source": [
        "## Business Problem"
      ]
    },
    {
      "cell_type": "markdown",
      "metadata": {
        "id": "Mb3CrM7uVMo9"
      },
      "source": [
        "Currently institutions and businesses recognize signatures as the primary way of authenticating transactions. Signatures are used to sign checks, authorize documents and contracts, and validate credit card transactions. According to recent studies, check fraud costs banks about $900M a year with 22 percent of all fraudulent checks attributed to signature fraud. Therefor, creating an algorithm to identify signature fraud is a valuable asset. "
      ]
    },
    {
      "cell_type": "code",
      "execution_count": null,
      "metadata": {
        "id": "BOSvcOrbVMo9"
      },
      "outputs": [],
      "source": [
        ""
      ]
    },
    {
      "cell_type": "markdown",
      "metadata": {
        "id": "yPdUjdUbVMo-"
      },
      "source": [
        "## Imports"
      ]
    },
    {
      "cell_type": "code",
      "execution_count": 1,
      "metadata": {
        "ExecuteTime": {
          "end_time": "2022-05-23T14:37:08.394347Z",
          "start_time": "2022-05-23T14:37:04.340878Z"
        },
        "id": "nVM33V7MVMo-"
      },
      "outputs": [],
      "source": [
        "import pandas as pd\n",
        "import numpy as np\n",
        "import matplotlib.pyplot as plt\n",
        "%matplotlib inline\n",
        "import seaborn as sns\n",
        "import tensorflow \n",
        "from tensorflow.keras.models import Sequential\n",
        "import zipfile\n",
        "\n",
        "from tensorflow import keras\n",
        "from tensorflow.keras.preprocessing.image import ImageDataGenerator, array_to_img, img_to_array, load_img\n",
        "from tensorflow.keras import models, layers, optimizers, metrics, regularizers, losses\n",
        "from tensorflow.keras.wrappers import scikit_learn\n",
        "from tensorflow.keras.callbacks import EarlyStopping\n",
        "from tensorflow.keras.regularizers import l2\n",
        "from tensorflow.keras.wrappers.scikit_learn import KerasClassifier\n",
        "\n",
        "from sklearn.model_selection import train_test_split, cross_val_score\n",
        "from sklearn.dummy import DummyClassifier\n",
        "from sklearn.metrics import auc, recall_score, precision_score, \\\n",
        "                            confusion_matrix, plot_confusion_matrix, \\\n",
        "                            roc_auc_score, roc_curve\n",
        "from sklearn.model_selection import GridSearchCV \n",
        "from tensorflow.keras.optimizers import SGD, Adam\n",
        "from sklearn.model_selection import GridSearchCV \n",
        "import pickle\n",
        "\n",
        "np.random.seed(42)"
      ]
    },
    {
      "cell_type": "markdown",
      "metadata": {
        "id": "ZIokb6aUVMo_"
      },
      "source": [
        "## Colab Necessary Code"
      ]
    },
    {
      "cell_type": "markdown",
      "metadata": {
        "id": "7oNb5f32VMpA"
      },
      "source": [
        "Google Colab was used to help streamline the modeling process. Modeling using Convolutional Neural Networks can be computationally expensive, so if you would like to run this notebook faster, I would recommend creating a Colab account and storing the data, discussed below, in a Google Drive file. "
      ]
    },
    {
      "cell_type": "code",
      "execution_count": 2,
      "metadata": {
        "ExecuteTime": {
          "end_time": "2022-05-23T14:37:08.397228Z",
          "start_time": "2022-05-23T14:37:08.395733Z"
        },
        "id": "tU9iM7l-VMpA",
        "outputId": "0630150f-8c30-435a-f23e-23c34bf186f4",
        "colab": {
          "base_uri": "https://localhost:8080/"
        }
      },
      "outputs": [
        {
          "output_type": "stream",
          "name": "stdout",
          "text": [
            "Mounted at /content/drive\n"
          ]
        }
      ],
      "source": [
        "from google.colab import drive\n",
        "drive.mount('/content/drive')"
      ]
    },
    {
      "cell_type": "code",
      "execution_count": 3,
      "metadata": {
        "ExecuteTime": {
          "end_time": "2022-05-23T14:37:08.399434Z",
          "start_time": "2022-05-23T14:37:08.398072Z"
        },
        "id": "AHvTlFr9VMpA",
        "outputId": "3f0a6f9f-e30f-44a4-e9ec-756e07e9aea9",
        "colab": {
          "base_uri": "https://localhost:8080/"
        }
      },
      "outputs": [
        {
          "output_type": "stream",
          "name": "stdout",
          "text": [
            "Looking in indexes: https://pypi.org/simple, https://us-python.pkg.dev/colab-wheels/public/simple/\n",
            "Collecting unzip\n",
            "  Downloading unzip-1.0.0.tar.gz (704 bytes)\n",
            "Building wheels for collected packages: unzip\n",
            "  Building wheel for unzip (setup.py) ... \u001b[?25l\u001b[?25hdone\n",
            "  Created wheel for unzip: filename=unzip-1.0.0-py3-none-any.whl size=1319 sha256=99c2e18a0cf21acc27ceea859cd50c5f1a270852e4ab3479319f27e24c3e9a13\n",
            "  Stored in directory: /root/.cache/pip/wheels/c5/05/b3/f7b36dbaaf76de31b718cde792c953bfd11d2414a72f204b56\n",
            "Successfully built unzip\n",
            "Installing collected packages: unzip\n",
            "Successfully installed unzip-1.0.0\n",
            "Archive:  /content/drive/MyDrive/signatures.zip\n",
            "  inflating: Dataset_Signature_Final/Dataset/dataset1/forge/02100001.png  \n",
            "  inflating: Dataset_Signature_Final/Dataset/dataset1/forge/02100002.png  \n",
            "  inflating: Dataset_Signature_Final/Dataset/dataset1/forge/02100003.png  \n",
            "  inflating: Dataset_Signature_Final/Dataset/dataset1/forge/02100004.png  \n",
            "  inflating: Dataset_Signature_Final/Dataset/dataset1/forge/02100005.png  \n",
            "  inflating: Dataset_Signature_Final/Dataset/dataset1/forge/02100006.png  \n",
            "  inflating: Dataset_Signature_Final/Dataset/dataset1/forge/02100007.png  \n",
            "  inflating: Dataset_Signature_Final/Dataset/dataset1/forge/02100008.png  \n",
            "  inflating: Dataset_Signature_Final/Dataset/dataset1/forge/02100009.png  \n",
            "  inflating: Dataset_Signature_Final/Dataset/dataset1/forge/02100010.png  \n",
            "  inflating: Dataset_Signature_Final/Dataset/dataset1/forge/02100011.png  \n",
            "  inflating: Dataset_Signature_Final/Dataset/dataset1/forge/02100012.png  \n",
            "  inflating: Dataset_Signature_Final/Dataset/dataset1/forge/02101001.png  \n",
            "  inflating: Dataset_Signature_Final/Dataset/dataset1/forge/02101002.png  \n",
            "  inflating: Dataset_Signature_Final/Dataset/dataset1/forge/02101003.png  \n",
            "  inflating: Dataset_Signature_Final/Dataset/dataset1/forge/02101004.png  \n",
            "  inflating: Dataset_Signature_Final/Dataset/dataset1/forge/02101005.png  \n",
            "  inflating: Dataset_Signature_Final/Dataset/dataset1/forge/02101006.png  \n",
            "  inflating: Dataset_Signature_Final/Dataset/dataset1/forge/02101007.png  \n",
            "  inflating: Dataset_Signature_Final/Dataset/dataset1/forge/02101008.png  \n",
            "  inflating: Dataset_Signature_Final/Dataset/dataset1/forge/02101009.png  \n",
            "  inflating: Dataset_Signature_Final/Dataset/dataset1/forge/02101010.png  \n",
            "  inflating: Dataset_Signature_Final/Dataset/dataset1/forge/02101011.png  \n",
            "  inflating: Dataset_Signature_Final/Dataset/dataset1/forge/02101012.png  \n",
            "  inflating: Dataset_Signature_Final/Dataset/dataset1/forge/02102001.png  \n",
            "  inflating: Dataset_Signature_Final/Dataset/dataset1/forge/02102002.png  \n",
            "  inflating: Dataset_Signature_Final/Dataset/dataset1/forge/02102003.png  \n",
            "  inflating: Dataset_Signature_Final/Dataset/dataset1/forge/02102004.png  \n",
            "  inflating: Dataset_Signature_Final/Dataset/dataset1/forge/02102005.png  \n",
            "  inflating: Dataset_Signature_Final/Dataset/dataset1/forge/02102006.png  \n",
            "  inflating: Dataset_Signature_Final/Dataset/dataset1/forge/02102007.png  \n",
            "  inflating: Dataset_Signature_Final/Dataset/dataset1/forge/02102008.png  \n",
            "  inflating: Dataset_Signature_Final/Dataset/dataset1/forge/02102009.png  \n",
            "  inflating: Dataset_Signature_Final/Dataset/dataset1/forge/02102010.png  \n",
            "  inflating: Dataset_Signature_Final/Dataset/dataset1/forge/02102011.png  \n",
            "  inflating: Dataset_Signature_Final/Dataset/dataset1/forge/02102012.png  \n",
            "  inflating: Dataset_Signature_Final/Dataset/dataset1/forge/02103001.png  \n",
            "  inflating: Dataset_Signature_Final/Dataset/dataset1/forge/02103002.png  \n",
            "  inflating: Dataset_Signature_Final/Dataset/dataset1/forge/02103003.png  \n",
            "  inflating: Dataset_Signature_Final/Dataset/dataset1/forge/02103004.png  \n",
            "  inflating: Dataset_Signature_Final/Dataset/dataset1/forge/02103005.png  \n",
            "  inflating: Dataset_Signature_Final/Dataset/dataset1/forge/02103006.png  \n",
            "  inflating: Dataset_Signature_Final/Dataset/dataset1/forge/02103007.png  \n",
            "  inflating: Dataset_Signature_Final/Dataset/dataset1/forge/02103008.png  \n",
            "  inflating: Dataset_Signature_Final/Dataset/dataset1/forge/02103009.png  \n",
            "  inflating: Dataset_Signature_Final/Dataset/dataset1/forge/02103010.png  \n",
            "  inflating: Dataset_Signature_Final/Dataset/dataset1/forge/02103011.png  \n",
            "  inflating: Dataset_Signature_Final/Dataset/dataset1/forge/02103012.png  \n",
            "  inflating: Dataset_Signature_Final/Dataset/dataset1/forge/02104001.png  \n",
            "  inflating: Dataset_Signature_Final/Dataset/dataset1/forge/02104002.png  \n",
            "  inflating: Dataset_Signature_Final/Dataset/dataset1/forge/02104003.png  \n",
            "  inflating: Dataset_Signature_Final/Dataset/dataset1/forge/02104004.png  \n",
            "  inflating: Dataset_Signature_Final/Dataset/dataset1/forge/02104005.png  \n",
            "  inflating: Dataset_Signature_Final/Dataset/dataset1/forge/02104006.png  \n",
            "  inflating: Dataset_Signature_Final/Dataset/dataset1/forge/02104007.png  \n",
            "  inflating: Dataset_Signature_Final/Dataset/dataset1/forge/02104008.png  \n",
            "  inflating: Dataset_Signature_Final/Dataset/dataset1/forge/02104009.png  \n",
            "  inflating: Dataset_Signature_Final/Dataset/dataset1/forge/02104010.png  \n",
            "  inflating: Dataset_Signature_Final/Dataset/dataset1/forge/02104011.png  \n",
            "  inflating: Dataset_Signature_Final/Dataset/dataset1/forge/02104012.png  \n",
            "  inflating: Dataset_Signature_Final/Dataset/dataset1/real/00100001.png  \n",
            "  inflating: Dataset_Signature_Final/Dataset/dataset1/real/00101001.png  \n",
            "  inflating: Dataset_Signature_Final/Dataset/dataset1/real/00102001.png  \n",
            "  inflating: Dataset_Signature_Final/Dataset/dataset1/real/00103001.png  \n",
            "  inflating: Dataset_Signature_Final/Dataset/dataset1/real/00104001.png  \n",
            "  inflating: Dataset_Signature_Final/Dataset/dataset1/real/00200002.png  \n",
            "  inflating: Dataset_Signature_Final/Dataset/dataset1/real/00201002.png  \n",
            "  inflating: Dataset_Signature_Final/Dataset/dataset1/real/00202002.png  \n",
            "  inflating: Dataset_Signature_Final/Dataset/dataset1/real/00203002.png  \n",
            "  inflating: Dataset_Signature_Final/Dataset/dataset1/real/00204002.png  \n",
            "  inflating: Dataset_Signature_Final/Dataset/dataset1/real/00300003.png  \n",
            "  inflating: Dataset_Signature_Final/Dataset/dataset1/real/00301003.png  \n",
            "  inflating: Dataset_Signature_Final/Dataset/dataset1/real/00302003.png  \n",
            "  inflating: Dataset_Signature_Final/Dataset/dataset1/real/00303003.png  \n",
            "  inflating: Dataset_Signature_Final/Dataset/dataset1/real/00304003.png  \n",
            "  inflating: Dataset_Signature_Final/Dataset/dataset1/real/00400004.png  \n",
            "  inflating: Dataset_Signature_Final/Dataset/dataset1/real/00401004.png  \n",
            "  inflating: Dataset_Signature_Final/Dataset/dataset1/real/00402004.png  \n",
            "  inflating: Dataset_Signature_Final/Dataset/dataset1/real/00403004.png  \n",
            "  inflating: Dataset_Signature_Final/Dataset/dataset1/real/00404004.png  \n",
            "  inflating: Dataset_Signature_Final/Dataset/dataset1/real/00500005.png  \n",
            "  inflating: Dataset_Signature_Final/Dataset/dataset1/real/00501005.png  \n",
            "  inflating: Dataset_Signature_Final/Dataset/dataset1/real/00502005.png  \n",
            "  inflating: Dataset_Signature_Final/Dataset/dataset1/real/00503005.png  \n",
            "  inflating: Dataset_Signature_Final/Dataset/dataset1/real/00504005.png  \n",
            "  inflating: Dataset_Signature_Final/Dataset/dataset1/real/00600006.png  \n",
            "  inflating: Dataset_Signature_Final/Dataset/dataset1/real/00601006.png  \n",
            "  inflating: Dataset_Signature_Final/Dataset/dataset1/real/00602006.png  \n",
            "  inflating: Dataset_Signature_Final/Dataset/dataset1/real/00603006.png  \n",
            "  inflating: Dataset_Signature_Final/Dataset/dataset1/real/00604006.png  \n",
            "  inflating: Dataset_Signature_Final/Dataset/dataset1/real/00700007.png  \n",
            "  inflating: Dataset_Signature_Final/Dataset/dataset1/real/00701007.png  \n",
            "  inflating: Dataset_Signature_Final/Dataset/dataset1/real/00702007.png  \n",
            "  inflating: Dataset_Signature_Final/Dataset/dataset1/real/00703007.png  \n",
            "  inflating: Dataset_Signature_Final/Dataset/dataset1/real/00704007.png  \n",
            "  inflating: Dataset_Signature_Final/Dataset/dataset1/real/00800008.png  \n",
            "  inflating: Dataset_Signature_Final/Dataset/dataset1/real/00801008.png  \n",
            "  inflating: Dataset_Signature_Final/Dataset/dataset1/real/00802008.png  \n",
            "  inflating: Dataset_Signature_Final/Dataset/dataset1/real/00803008.png  \n",
            "  inflating: Dataset_Signature_Final/Dataset/dataset1/real/00804008.png  \n",
            "  inflating: Dataset_Signature_Final/Dataset/dataset1/real/00900009.png  \n",
            "  inflating: Dataset_Signature_Final/Dataset/dataset1/real/00901009.png  \n",
            "  inflating: Dataset_Signature_Final/Dataset/dataset1/real/00902009.png  \n",
            "  inflating: Dataset_Signature_Final/Dataset/dataset1/real/00903009.png  \n",
            "  inflating: Dataset_Signature_Final/Dataset/dataset1/real/00904009.png  \n",
            "  inflating: Dataset_Signature_Final/Dataset/dataset1/real/01000010.png  \n",
            "  inflating: Dataset_Signature_Final/Dataset/dataset1/real/01001010.png  \n",
            "  inflating: Dataset_Signature_Final/Dataset/dataset1/real/01002010.png  \n",
            "  inflating: Dataset_Signature_Final/Dataset/dataset1/real/01003010.png  \n",
            "  inflating: Dataset_Signature_Final/Dataset/dataset1/real/01004010.png  \n",
            "  inflating: Dataset_Signature_Final/Dataset/dataset1/real/01100011.png  \n",
            "  inflating: Dataset_Signature_Final/Dataset/dataset1/real/01101011.png  \n",
            "  inflating: Dataset_Signature_Final/Dataset/dataset1/real/01102011.png  \n",
            "  inflating: Dataset_Signature_Final/Dataset/dataset1/real/01103011.png  \n",
            "  inflating: Dataset_Signature_Final/Dataset/dataset1/real/01104011.png  \n",
            "  inflating: Dataset_Signature_Final/Dataset/dataset1/real/01200012.png  \n",
            "  inflating: Dataset_Signature_Final/Dataset/dataset1/real/01201012.png  \n",
            "  inflating: Dataset_Signature_Final/Dataset/dataset1/real/01202012.png  \n",
            "  inflating: Dataset_Signature_Final/Dataset/dataset1/real/01203012.png  \n",
            "  inflating: Dataset_Signature_Final/Dataset/dataset1/real/01204012.png  \n",
            "  inflating: Dataset_Signature_Final/Dataset/dataset2/forge/02101003.png  \n",
            "  inflating: Dataset_Signature_Final/Dataset/dataset2/forge/02101004.png  \n",
            "  inflating: Dataset_Signature_Final/Dataset/dataset2/forge/02101005.png  \n",
            "  inflating: Dataset_Signature_Final/Dataset/dataset2/forge/02101006.png  \n",
            "  inflating: Dataset_Signature_Final/Dataset/dataset2/forge/02101007.png  \n",
            "  inflating: Dataset_Signature_Final/Dataset/dataset2/forge/02101008.png  \n",
            "  inflating: Dataset_Signature_Final/Dataset/dataset2/forge/02101009.png  \n",
            "  inflating: Dataset_Signature_Final/Dataset/dataset2/forge/02101011.png  \n",
            "  inflating: Dataset_Signature_Final/Dataset/dataset2/forge/02101012.png  \n",
            "  inflating: Dataset_Signature_Final/Dataset/dataset2/forge/02102003.png  \n",
            "  inflating: Dataset_Signature_Final/Dataset/dataset2/forge/02102004.png  \n",
            "  inflating: Dataset_Signature_Final/Dataset/dataset2/forge/02102005.png  \n",
            "  inflating: Dataset_Signature_Final/Dataset/dataset2/forge/02102006.png  \n",
            "  inflating: Dataset_Signature_Final/Dataset/dataset2/forge/02102007.png  \n",
            "  inflating: Dataset_Signature_Final/Dataset/dataset2/forge/02102008.png  \n",
            "  inflating: Dataset_Signature_Final/Dataset/dataset2/forge/02102009.png  \n",
            "  inflating: Dataset_Signature_Final/Dataset/dataset2/forge/02102011.png  \n",
            "  inflating: Dataset_Signature_Final/Dataset/dataset2/forge/02102012.png  \n",
            "  inflating: Dataset_Signature_Final/Dataset/dataset2/forge/02103003.png  \n",
            "  inflating: Dataset_Signature_Final/Dataset/dataset2/forge/02103004.png  \n",
            "  inflating: Dataset_Signature_Final/Dataset/dataset2/forge/02103005.png  \n",
            "  inflating: Dataset_Signature_Final/Dataset/dataset2/forge/02103006.png  \n",
            "  inflating: Dataset_Signature_Final/Dataset/dataset2/forge/02103007.png  \n",
            "  inflating: Dataset_Signature_Final/Dataset/dataset2/forge/02103008.png  \n",
            "  inflating: Dataset_Signature_Final/Dataset/dataset2/forge/02103009.png  \n",
            "  inflating: Dataset_Signature_Final/Dataset/dataset2/forge/02103011.png  \n",
            "  inflating: Dataset_Signature_Final/Dataset/dataset2/forge/02103012.png  \n",
            "  inflating: Dataset_Signature_Final/Dataset/dataset2/forge/02104003.png  \n",
            "  inflating: Dataset_Signature_Final/Dataset/dataset2/forge/02104004.png  \n",
            "  inflating: Dataset_Signature_Final/Dataset/dataset2/forge/02104005.png  \n",
            "  inflating: Dataset_Signature_Final/Dataset/dataset2/forge/02104006.png  \n",
            "  inflating: Dataset_Signature_Final/Dataset/dataset2/forge/02104007.png  \n",
            "  inflating: Dataset_Signature_Final/Dataset/dataset2/forge/02104008.png  \n",
            "  inflating: Dataset_Signature_Final/Dataset/dataset2/forge/02104009.png  \n",
            "  inflating: Dataset_Signature_Final/Dataset/dataset2/forge/02104011.png  \n",
            "  inflating: Dataset_Signature_Final/Dataset/dataset2/forge/02104012.png  \n",
            "  inflating: Dataset_Signature_Final/Dataset/dataset2/forge/02105003.png  \n",
            "  inflating: Dataset_Signature_Final/Dataset/dataset2/forge/02105004.png  \n",
            "  inflating: Dataset_Signature_Final/Dataset/dataset2/forge/02105005.png  \n",
            "  inflating: Dataset_Signature_Final/Dataset/dataset2/forge/02105006.png  \n",
            "  inflating: Dataset_Signature_Final/Dataset/dataset2/forge/02105007.png  \n",
            "  inflating: Dataset_Signature_Final/Dataset/dataset2/forge/02105008.png  \n",
            "  inflating: Dataset_Signature_Final/Dataset/dataset2/forge/02105009.png  \n",
            "  inflating: Dataset_Signature_Final/Dataset/dataset2/forge/02105011.png  \n",
            "  inflating: Dataset_Signature_Final/Dataset/dataset2/forge/02105012.png  \n",
            "  inflating: Dataset_Signature_Final/Dataset/dataset2/forge/02201001.png  \n",
            "  inflating: Dataset_Signature_Final/Dataset/dataset2/forge/02201002.png  \n",
            "  inflating: Dataset_Signature_Final/Dataset/dataset2/forge/02201010.png  \n",
            "  inflating: Dataset_Signature_Final/Dataset/dataset2/forge/02202001.png  \n",
            "  inflating: Dataset_Signature_Final/Dataset/dataset2/forge/02202002.png  \n",
            "  inflating: Dataset_Signature_Final/Dataset/dataset2/forge/02202010.png  \n",
            "  inflating: Dataset_Signature_Final/Dataset/dataset2/forge/02203001.png  \n",
            "  inflating: Dataset_Signature_Final/Dataset/dataset2/forge/02203002.png  \n",
            "  inflating: Dataset_Signature_Final/Dataset/dataset2/forge/02203010.png  \n",
            "  inflating: Dataset_Signature_Final/Dataset/dataset2/forge/02204001.png  \n",
            "  inflating: Dataset_Signature_Final/Dataset/dataset2/forge/02204002.png  \n",
            "  inflating: Dataset_Signature_Final/Dataset/dataset2/forge/02204010.png  \n",
            "  inflating: Dataset_Signature_Final/Dataset/dataset2/forge/02205001.png  \n",
            "  inflating: Dataset_Signature_Final/Dataset/dataset2/forge/02205002.png  \n",
            "  inflating: Dataset_Signature_Final/Dataset/dataset2/forge/02205010.png  \n",
            "  inflating: Dataset_Signature_Final/Dataset/dataset2/real/00101001.png  \n",
            "  inflating: Dataset_Signature_Final/Dataset/dataset2/real/00102001.png  \n",
            "  inflating: Dataset_Signature_Final/Dataset/dataset2/real/00103001.png  \n",
            "  inflating: Dataset_Signature_Final/Dataset/dataset2/real/00104001.png  \n",
            "  inflating: Dataset_Signature_Final/Dataset/dataset2/real/00105001.png  \n",
            "  inflating: Dataset_Signature_Final/Dataset/dataset2/real/00201002.png  \n",
            "  inflating: Dataset_Signature_Final/Dataset/dataset2/real/00202002.png  \n",
            "  inflating: Dataset_Signature_Final/Dataset/dataset2/real/00203002.png  \n",
            "  inflating: Dataset_Signature_Final/Dataset/dataset2/real/00204002.png  \n",
            "  inflating: Dataset_Signature_Final/Dataset/dataset2/real/00205002.png  \n",
            "  inflating: Dataset_Signature_Final/Dataset/dataset2/real/00301003.png  \n",
            "  inflating: Dataset_Signature_Final/Dataset/dataset2/real/00302003.png  \n",
            "  inflating: Dataset_Signature_Final/Dataset/dataset2/real/00303003.png  \n",
            "  inflating: Dataset_Signature_Final/Dataset/dataset2/real/00304003.png  \n",
            "  inflating: Dataset_Signature_Final/Dataset/dataset2/real/00305003.png  \n",
            "  inflating: Dataset_Signature_Final/Dataset/dataset2/real/00401004.png  \n",
            "  inflating: Dataset_Signature_Final/Dataset/dataset2/real/00402004.png  \n",
            "  inflating: Dataset_Signature_Final/Dataset/dataset2/real/00403004.png  \n",
            "  inflating: Dataset_Signature_Final/Dataset/dataset2/real/00404004.png  \n",
            "  inflating: Dataset_Signature_Final/Dataset/dataset2/real/00405004.png  \n",
            "  inflating: Dataset_Signature_Final/Dataset/dataset2/real/00501005.png  \n",
            "  inflating: Dataset_Signature_Final/Dataset/dataset2/real/00502005.png  \n",
            "  inflating: Dataset_Signature_Final/Dataset/dataset2/real/00503005.png  \n",
            "  inflating: Dataset_Signature_Final/Dataset/dataset2/real/00504005.png  \n",
            "  inflating: Dataset_Signature_Final/Dataset/dataset2/real/00505005.png  \n",
            "  inflating: Dataset_Signature_Final/Dataset/dataset2/real/00601006.png  \n",
            "  inflating: Dataset_Signature_Final/Dataset/dataset2/real/00602006.png  \n",
            "  inflating: Dataset_Signature_Final/Dataset/dataset2/real/00603006.png  \n",
            "  inflating: Dataset_Signature_Final/Dataset/dataset2/real/00604006.png  \n",
            "  inflating: Dataset_Signature_Final/Dataset/dataset2/real/00605006.png  \n",
            "  inflating: Dataset_Signature_Final/Dataset/dataset2/real/00701007.png  \n",
            "  inflating: Dataset_Signature_Final/Dataset/dataset2/real/00702007.png  \n",
            "  inflating: Dataset_Signature_Final/Dataset/dataset2/real/00703007.png  \n",
            "  inflating: Dataset_Signature_Final/Dataset/dataset2/real/00704007.png  \n",
            "  inflating: Dataset_Signature_Final/Dataset/dataset2/real/00705007.png  \n",
            "  inflating: Dataset_Signature_Final/Dataset/dataset2/real/00801008.png  \n",
            "  inflating: Dataset_Signature_Final/Dataset/dataset2/real/00802008.png  \n",
            "  inflating: Dataset_Signature_Final/Dataset/dataset2/real/00803008.png  \n",
            "  inflating: Dataset_Signature_Final/Dataset/dataset2/real/00804008.png  \n",
            "  inflating: Dataset_Signature_Final/Dataset/dataset2/real/00805008.png  \n",
            "  inflating: Dataset_Signature_Final/Dataset/dataset2/real/00901009.png  \n",
            "  inflating: Dataset_Signature_Final/Dataset/dataset2/real/00902009.png  \n",
            "  inflating: Dataset_Signature_Final/Dataset/dataset2/real/00903009.png  \n",
            "  inflating: Dataset_Signature_Final/Dataset/dataset2/real/00904009.png  \n",
            "  inflating: Dataset_Signature_Final/Dataset/dataset2/real/00905009.png  \n",
            "  inflating: Dataset_Signature_Final/Dataset/dataset2/real/01001010.png  \n",
            "  inflating: Dataset_Signature_Final/Dataset/dataset2/real/01002010.png  \n",
            "  inflating: Dataset_Signature_Final/Dataset/dataset2/real/01003010.png  \n",
            "  inflating: Dataset_Signature_Final/Dataset/dataset2/real/01004010.png  \n",
            "  inflating: Dataset_Signature_Final/Dataset/dataset2/real/01005010.png  \n",
            "  inflating: Dataset_Signature_Final/Dataset/dataset2/real/01101011.png  \n",
            "  inflating: Dataset_Signature_Final/Dataset/dataset2/real/01102011.png  \n",
            "  inflating: Dataset_Signature_Final/Dataset/dataset2/real/01103011.png  \n",
            "  inflating: Dataset_Signature_Final/Dataset/dataset2/real/01104011.png  \n",
            "  inflating: Dataset_Signature_Final/Dataset/dataset2/real/01105011.png  \n",
            "  inflating: Dataset_Signature_Final/Dataset/dataset2/real/01201012.png  \n",
            "  inflating: Dataset_Signature_Final/Dataset/dataset2/real/01202012.png  \n",
            "  inflating: Dataset_Signature_Final/Dataset/dataset2/real/01203012.png  \n",
            "  inflating: Dataset_Signature_Final/Dataset/dataset2/real/01204012.png  \n",
            "  inflating: Dataset_Signature_Final/Dataset/dataset2/real/01205012.png  \n",
            "  inflating: Dataset_Signature_Final/Dataset/dataset3/forge/00101014.png  \n",
            "  inflating: Dataset_Signature_Final/Dataset/dataset3/forge/00101019.png  \n",
            "  inflating: Dataset_Signature_Final/Dataset/dataset3/forge/00101025.png  \n",
            "  inflating: Dataset_Signature_Final/Dataset/dataset3/forge/00101026.png  \n",
            "  inflating: Dataset_Signature_Final/Dataset/dataset3/forge/00101027.png  \n",
            "  inflating: Dataset_Signature_Final/Dataset/dataset3/forge/00101028.png  \n",
            "  inflating: Dataset_Signature_Final/Dataset/dataset3/forge/00101029.png  \n",
            "  inflating: Dataset_Signature_Final/Dataset/dataset3/forge/00101030.png  \n",
            "  inflating: Dataset_Signature_Final/Dataset/dataset3/forge/00102014.png  \n",
            "  inflating: Dataset_Signature_Final/Dataset/dataset3/forge/00102019.png  \n",
            "  inflating: Dataset_Signature_Final/Dataset/dataset3/forge/00102025.png  \n",
            "  inflating: Dataset_Signature_Final/Dataset/dataset3/forge/00102026.png  \n",
            "  inflating: Dataset_Signature_Final/Dataset/dataset3/forge/00102027.png  \n",
            "  inflating: Dataset_Signature_Final/Dataset/dataset3/forge/00102028.png  \n",
            "  inflating: Dataset_Signature_Final/Dataset/dataset3/forge/00102029.png  \n",
            "  inflating: Dataset_Signature_Final/Dataset/dataset3/forge/00102030.png  \n",
            "  inflating: Dataset_Signature_Final/Dataset/dataset3/forge/00103014.png  \n",
            "  inflating: Dataset_Signature_Final/Dataset/dataset3/forge/00103019.png  \n",
            "  inflating: Dataset_Signature_Final/Dataset/dataset3/forge/00103025.png  \n",
            "  inflating: Dataset_Signature_Final/Dataset/dataset3/forge/00103026.png  \n",
            "  inflating: Dataset_Signature_Final/Dataset/dataset3/forge/00103027.png  \n",
            "  inflating: Dataset_Signature_Final/Dataset/dataset3/forge/00103028.png  \n",
            "  inflating: Dataset_Signature_Final/Dataset/dataset3/forge/00103029.png  \n",
            "  inflating: Dataset_Signature_Final/Dataset/dataset3/forge/00103030.png  \n",
            "  inflating: Dataset_Signature_Final/Dataset/dataset3/forge/00104014.png  \n",
            "  inflating: Dataset_Signature_Final/Dataset/dataset3/forge/00104019.png  \n",
            "  inflating: Dataset_Signature_Final/Dataset/dataset3/forge/00104025.png  \n",
            "  inflating: Dataset_Signature_Final/Dataset/dataset3/forge/00104026.png  \n",
            "  inflating: Dataset_Signature_Final/Dataset/dataset3/forge/00104027.png  \n",
            "  inflating: Dataset_Signature_Final/Dataset/dataset3/forge/00104028.png  \n",
            "  inflating: Dataset_Signature_Final/Dataset/dataset3/forge/00104029.png  \n",
            "  inflating: Dataset_Signature_Final/Dataset/dataset3/forge/00104030.png  \n",
            "  inflating: Dataset_Signature_Final/Dataset/dataset3/forge/00105014.png  \n",
            "  inflating: Dataset_Signature_Final/Dataset/dataset3/forge/00105019.png  \n",
            "  inflating: Dataset_Signature_Final/Dataset/dataset3/forge/00105025.png  \n",
            "  inflating: Dataset_Signature_Final/Dataset/dataset3/forge/00105026.png  \n",
            "  inflating: Dataset_Signature_Final/Dataset/dataset3/forge/00105027.png  \n",
            "  inflating: Dataset_Signature_Final/Dataset/dataset3/forge/00105028.png  \n",
            "  inflating: Dataset_Signature_Final/Dataset/dataset3/forge/00105029.png  \n",
            "  inflating: Dataset_Signature_Final/Dataset/dataset3/forge/00105030.png  \n",
            "  inflating: Dataset_Signature_Final/Dataset/dataset3/forge/00301001.png  \n",
            "  inflating: Dataset_Signature_Final/Dataset/dataset3/forge/00301002.png  \n",
            "  inflating: Dataset_Signature_Final/Dataset/dataset3/forge/00301005.png  \n",
            "  inflating: Dataset_Signature_Final/Dataset/dataset3/forge/00301009.png  \n",
            "  inflating: Dataset_Signature_Final/Dataset/dataset3/forge/00301018.png  \n",
            "  inflating: Dataset_Signature_Final/Dataset/dataset3/forge/00302001.png  \n",
            "  inflating: Dataset_Signature_Final/Dataset/dataset3/forge/00302002.png  \n",
            "  inflating: Dataset_Signature_Final/Dataset/dataset3/forge/00302005.png  \n",
            "  inflating: Dataset_Signature_Final/Dataset/dataset3/forge/00302009.png  \n",
            "  inflating: Dataset_Signature_Final/Dataset/dataset3/forge/00302018.png  \n",
            "  inflating: Dataset_Signature_Final/Dataset/dataset3/forge/00303001.png  \n",
            "  inflating: Dataset_Signature_Final/Dataset/dataset3/forge/00303002.png  \n",
            "  inflating: Dataset_Signature_Final/Dataset/dataset3/forge/00303005.png  \n",
            "  inflating: Dataset_Signature_Final/Dataset/dataset3/forge/00303009.png  \n",
            "  inflating: Dataset_Signature_Final/Dataset/dataset3/forge/00303018.png  \n",
            "  inflating: Dataset_Signature_Final/Dataset/dataset3/forge/00304001.png  \n",
            "  inflating: Dataset_Signature_Final/Dataset/dataset3/forge/00304002.png  \n",
            "  inflating: Dataset_Signature_Final/Dataset/dataset3/forge/00304005.png  \n",
            "  inflating: Dataset_Signature_Final/Dataset/dataset3/forge/00304009.png  \n",
            "  inflating: Dataset_Signature_Final/Dataset/dataset3/forge/00304018.png  \n",
            "  inflating: Dataset_Signature_Final/Dataset/dataset3/forge/00305001.png  \n",
            "  inflating: Dataset_Signature_Final/Dataset/dataset3/forge/00305002.png  \n",
            "  inflating: Dataset_Signature_Final/Dataset/dataset3/forge/00305005.png  \n",
            "  inflating: Dataset_Signature_Final/Dataset/dataset3/forge/00305009.png  \n",
            "  inflating: Dataset_Signature_Final/Dataset/dataset3/forge/00305018.png  \n",
            "  inflating: Dataset_Signature_Final/Dataset/dataset3/forge/00401003.png  \n",
            "  inflating: Dataset_Signature_Final/Dataset/dataset3/forge/00401007.png  \n",
            "  inflating: Dataset_Signature_Final/Dataset/dataset3/forge/00401013.png  \n",
            "  inflating: Dataset_Signature_Final/Dataset/dataset3/forge/00401024.png  \n",
            "  inflating: Dataset_Signature_Final/Dataset/dataset3/forge/00402003.png  \n",
            "  inflating: Dataset_Signature_Final/Dataset/dataset3/forge/00402007.png  \n",
            "  inflating: Dataset_Signature_Final/Dataset/dataset3/forge/00402013.png  \n",
            "  inflating: Dataset_Signature_Final/Dataset/dataset3/forge/00402024.png  \n",
            "  inflating: Dataset_Signature_Final/Dataset/dataset3/forge/00403003.png  \n",
            "  inflating: Dataset_Signature_Final/Dataset/dataset3/forge/00403007.png  \n",
            "  inflating: Dataset_Signature_Final/Dataset/dataset3/forge/00403013.png  \n",
            "  inflating: Dataset_Signature_Final/Dataset/dataset3/forge/00403024.png  \n",
            "  inflating: Dataset_Signature_Final/Dataset/dataset3/forge/00404003.png  \n",
            "  inflating: Dataset_Signature_Final/Dataset/dataset3/forge/00404007.png  \n",
            "  inflating: Dataset_Signature_Final/Dataset/dataset3/forge/00404013.png  \n",
            "  inflating: Dataset_Signature_Final/Dataset/dataset3/forge/00404024.png  \n",
            "  inflating: Dataset_Signature_Final/Dataset/dataset3/forge/00405003.png  \n",
            "  inflating: Dataset_Signature_Final/Dataset/dataset3/forge/00405007.png  \n",
            "  inflating: Dataset_Signature_Final/Dataset/dataset3/forge/00405013.png  \n",
            "  inflating: Dataset_Signature_Final/Dataset/dataset3/forge/00405024.png  \n",
            "  inflating: Dataset_Signature_Final/Dataset/dataset3/forge/00501015.png  \n",
            "  inflating: Dataset_Signature_Final/Dataset/dataset3/forge/00501022.png  \n",
            "  inflating: Dataset_Signature_Final/Dataset/dataset3/forge/00502015.png  \n",
            "  inflating: Dataset_Signature_Final/Dataset/dataset3/forge/00502022.png  \n",
            "  inflating: Dataset_Signature_Final/Dataset/dataset3/forge/00503015.png  \n",
            "  inflating: Dataset_Signature_Final/Dataset/dataset3/forge/00503022.png  \n",
            "  inflating: Dataset_Signature_Final/Dataset/dataset3/forge/00504015.png  \n",
            "  inflating: Dataset_Signature_Final/Dataset/dataset3/forge/00504022.png  \n",
            "  inflating: Dataset_Signature_Final/Dataset/dataset3/forge/00505015.png  \n",
            "  inflating: Dataset_Signature_Final/Dataset/dataset3/forge/00505022.png  \n",
            "  inflating: Dataset_Signature_Final/Dataset/dataset3/forge/00701011.png  \n",
            "  inflating: Dataset_Signature_Final/Dataset/dataset3/forge/00701023.png  \n",
            "  inflating: Dataset_Signature_Final/Dataset/dataset3/forge/00702011.png  \n",
            "  inflating: Dataset_Signature_Final/Dataset/dataset3/forge/00702023.png  \n",
            "  inflating: Dataset_Signature_Final/Dataset/dataset3/forge/00703011.png  \n",
            "  inflating: Dataset_Signature_Final/Dataset/dataset3/forge/00703023.png  \n",
            "  inflating: Dataset_Signature_Final/Dataset/dataset3/forge/00704011.png  \n",
            "  inflating: Dataset_Signature_Final/Dataset/dataset3/forge/00704023.png  \n",
            "  inflating: Dataset_Signature_Final/Dataset/dataset3/forge/00705011.png  \n",
            "  inflating: Dataset_Signature_Final/Dataset/dataset3/forge/00705023.png  \n",
            "  inflating: Dataset_Signature_Final/Dataset/dataset3/forge/01101012.png  \n",
            "  inflating: Dataset_Signature_Final/Dataset/dataset3/forge/01101016.png  \n",
            "  inflating: Dataset_Signature_Final/Dataset/dataset3/forge/01102012.png  \n",
            "  inflating: Dataset_Signature_Final/Dataset/dataset3/forge/01102016.png  \n",
            "  inflating: Dataset_Signature_Final/Dataset/dataset3/forge/01103012.png  \n",
            "  inflating: Dataset_Signature_Final/Dataset/dataset3/forge/01103016.png  \n",
            "  inflating: Dataset_Signature_Final/Dataset/dataset3/forge/01104012.png  \n",
            "  inflating: Dataset_Signature_Final/Dataset/dataset3/forge/01104016.png  \n",
            "  inflating: Dataset_Signature_Final/Dataset/dataset3/forge/01105012.png  \n",
            "  inflating: Dataset_Signature_Final/Dataset/dataset3/forge/01105016.png  \n",
            "  inflating: Dataset_Signature_Final/Dataset/dataset3/forge/01201021.png  \n",
            "  inflating: Dataset_Signature_Final/Dataset/dataset3/forge/01202021.png  \n",
            "  inflating: Dataset_Signature_Final/Dataset/dataset3/forge/01203021.png  \n",
            "  inflating: Dataset_Signature_Final/Dataset/dataset3/forge/01204021.png  \n",
            "  inflating: Dataset_Signature_Final/Dataset/dataset3/forge/01205021.png  \n",
            "  inflating: Dataset_Signature_Final/Dataset/dataset3/forge/01301017.png  \n",
            "  inflating: Dataset_Signature_Final/Dataset/dataset3/forge/01302017.png  \n",
            "  inflating: Dataset_Signature_Final/Dataset/dataset3/forge/01303017.png  \n",
            "  inflating: Dataset_Signature_Final/Dataset/dataset3/forge/01304017.png  \n",
            "  inflating: Dataset_Signature_Final/Dataset/dataset3/forge/01305017.png  \n",
            "  inflating: Dataset_Signature_Final/Dataset/dataset3/forge/01701020.png  \n",
            "  inflating: Dataset_Signature_Final/Dataset/dataset3/forge/01702020.png  \n",
            "  inflating: Dataset_Signature_Final/Dataset/dataset3/forge/01703020.png  \n",
            "  inflating: Dataset_Signature_Final/Dataset/dataset3/forge/01704020.png  \n",
            "  inflating: Dataset_Signature_Final/Dataset/dataset3/forge/01705020.png  \n",
            "  inflating: Dataset_Signature_Final/Dataset/dataset3/forge/02301008.png  \n",
            "  inflating: Dataset_Signature_Final/Dataset/dataset3/forge/02303008.png  \n",
            "  inflating: Dataset_Signature_Final/Dataset/dataset3/forge/02304008.png  \n",
            "  inflating: Dataset_Signature_Final/Dataset/dataset3/forge/02305008.png  \n",
            "  inflating: Dataset_Signature_Final/Dataset/dataset3/forge/02306008.png  \n",
            "  inflating: Dataset_Signature_Final/Dataset/dataset3/forge/02501010.png  \n",
            "  inflating: Dataset_Signature_Final/Dataset/dataset3/forge/02502010.png  \n",
            "  inflating: Dataset_Signature_Final/Dataset/dataset3/forge/02503010.png  \n",
            "  inflating: Dataset_Signature_Final/Dataset/dataset3/forge/02504010.png  \n",
            "  inflating: Dataset_Signature_Final/Dataset/dataset3/forge/02505009.png  \n",
            "  inflating: Dataset_Signature_Final/Dataset/dataset3/forge/03301006.png  \n",
            "  inflating: Dataset_Signature_Final/Dataset/dataset3/forge/03302006.png  \n",
            "  inflating: Dataset_Signature_Final/Dataset/dataset3/forge/03303006.png  \n",
            "  inflating: Dataset_Signature_Final/Dataset/dataset3/forge/03304006.png  \n",
            "  inflating: Dataset_Signature_Final/Dataset/dataset3/forge/03305006.png  \n",
            "  inflating: Dataset_Signature_Final/Dataset/dataset3/forge/08801004.png  \n",
            "  inflating: Dataset_Signature_Final/Dataset/dataset3/forge/08802004.png  \n",
            "  inflating: Dataset_Signature_Final/Dataset/dataset3/forge/08803004.png  \n",
            "  inflating: Dataset_Signature_Final/Dataset/dataset3/forge/08804004.png  \n",
            "  inflating: Dataset_Signature_Final/Dataset/dataset3/forge/08805004.png  \n",
            "  inflating: Dataset_Signature_Final/Dataset/dataset3/real/00101001.png  \n",
            "  inflating: Dataset_Signature_Final/Dataset/dataset3/real/00102001.png  \n",
            "  inflating: Dataset_Signature_Final/Dataset/dataset3/real/00103001.png  \n",
            "  inflating: Dataset_Signature_Final/Dataset/dataset3/real/00104001.png  \n",
            "  inflating: Dataset_Signature_Final/Dataset/dataset3/real/00105001.png  \n",
            "  inflating: Dataset_Signature_Final/Dataset/dataset3/real/00201002.png  \n",
            "  inflating: Dataset_Signature_Final/Dataset/dataset3/real/00202002.png  \n",
            "  inflating: Dataset_Signature_Final/Dataset/dataset3/real/00203002.png  \n",
            "  inflating: Dataset_Signature_Final/Dataset/dataset3/real/00204002.png  \n",
            "  inflating: Dataset_Signature_Final/Dataset/dataset3/real/00205002.png  \n",
            "  inflating: Dataset_Signature_Final/Dataset/dataset3/real/00301003.png  \n",
            "  inflating: Dataset_Signature_Final/Dataset/dataset3/real/00302003.png  \n",
            "  inflating: Dataset_Signature_Final/Dataset/dataset3/real/00303003.png  \n",
            "  inflating: Dataset_Signature_Final/Dataset/dataset3/real/00304003.png  \n",
            "  inflating: Dataset_Signature_Final/Dataset/dataset3/real/00305003.png  \n",
            "  inflating: Dataset_Signature_Final/Dataset/dataset3/real/00401004.png  \n",
            "  inflating: Dataset_Signature_Final/Dataset/dataset3/real/00402004.png  \n",
            "  inflating: Dataset_Signature_Final/Dataset/dataset3/real/00403004.png  \n",
            "  inflating: Dataset_Signature_Final/Dataset/dataset3/real/00404004.png  \n",
            "  inflating: Dataset_Signature_Final/Dataset/dataset3/real/00405004.png  \n",
            "  inflating: Dataset_Signature_Final/Dataset/dataset3/real/00501005.png  \n",
            "  inflating: Dataset_Signature_Final/Dataset/dataset3/real/00502005.png  \n",
            "  inflating: Dataset_Signature_Final/Dataset/dataset3/real/00503005.png  \n",
            "  inflating: Dataset_Signature_Final/Dataset/dataset3/real/00504005.png  \n",
            "  inflating: Dataset_Signature_Final/Dataset/dataset3/real/00505005.png  \n",
            "  inflating: Dataset_Signature_Final/Dataset/dataset3/real/00601006.png  \n",
            "  inflating: Dataset_Signature_Final/Dataset/dataset3/real/00602006.png  \n",
            "  inflating: Dataset_Signature_Final/Dataset/dataset3/real/00603006.png  \n",
            "  inflating: Dataset_Signature_Final/Dataset/dataset3/real/00604006.png  \n",
            "  inflating: Dataset_Signature_Final/Dataset/dataset3/real/00605006.png  \n",
            "  inflating: Dataset_Signature_Final/Dataset/dataset3/real/00701007.png  \n",
            "  inflating: Dataset_Signature_Final/Dataset/dataset3/real/00702007.png  \n",
            "  inflating: Dataset_Signature_Final/Dataset/dataset3/real/00703007.png  \n",
            "  inflating: Dataset_Signature_Final/Dataset/dataset3/real/00704007.png  \n",
            "  inflating: Dataset_Signature_Final/Dataset/dataset3/real/00705007.png  \n",
            "  inflating: Dataset_Signature_Final/Dataset/dataset3/real/00801008.png  \n",
            "  inflating: Dataset_Signature_Final/Dataset/dataset3/real/00802008.png  \n",
            "  inflating: Dataset_Signature_Final/Dataset/dataset3/real/00803008.png  \n",
            "  inflating: Dataset_Signature_Final/Dataset/dataset3/real/00804008.png  \n",
            "  inflating: Dataset_Signature_Final/Dataset/dataset3/real/00805008.png  \n",
            "  inflating: Dataset_Signature_Final/Dataset/dataset3/real/00901009.png  \n",
            "  inflating: Dataset_Signature_Final/Dataset/dataset3/real/00902009.png  \n",
            "  inflating: Dataset_Signature_Final/Dataset/dataset3/real/00903009.png  \n",
            "  inflating: Dataset_Signature_Final/Dataset/dataset3/real/00904009.png  \n",
            "  inflating: Dataset_Signature_Final/Dataset/dataset3/real/00905009.png  \n",
            "  inflating: Dataset_Signature_Final/Dataset/dataset3/real/01001010.png  \n",
            "  inflating: Dataset_Signature_Final/Dataset/dataset3/real/01002010.png  \n",
            "  inflating: Dataset_Signature_Final/Dataset/dataset3/real/01003010.png  \n",
            "  inflating: Dataset_Signature_Final/Dataset/dataset3/real/01004010.png  \n",
            "  inflating: Dataset_Signature_Final/Dataset/dataset3/real/01005010.png  \n",
            "  inflating: Dataset_Signature_Final/Dataset/dataset3/real/01101011.png  \n",
            "  inflating: Dataset_Signature_Final/Dataset/dataset3/real/01102011.png  \n",
            "  inflating: Dataset_Signature_Final/Dataset/dataset3/real/01103011.png  \n",
            "  inflating: Dataset_Signature_Final/Dataset/dataset3/real/01104011.png  \n",
            "  inflating: Dataset_Signature_Final/Dataset/dataset3/real/01105011.png  \n",
            "  inflating: Dataset_Signature_Final/Dataset/dataset3/real/01201012.png  \n",
            "  inflating: Dataset_Signature_Final/Dataset/dataset3/real/01202012.png  \n",
            "  inflating: Dataset_Signature_Final/Dataset/dataset3/real/01203012.png  \n",
            "  inflating: Dataset_Signature_Final/Dataset/dataset3/real/01204012.png  \n",
            "  inflating: Dataset_Signature_Final/Dataset/dataset3/real/01205012.png  \n",
            "  inflating: Dataset_Signature_Final/Dataset/dataset3/real/01301013.png  \n",
            "  inflating: Dataset_Signature_Final/Dataset/dataset3/real/01302013.png  \n",
            "  inflating: Dataset_Signature_Final/Dataset/dataset3/real/01303013.png  \n",
            "  inflating: Dataset_Signature_Final/Dataset/dataset3/real/01304013.png  \n",
            "  inflating: Dataset_Signature_Final/Dataset/dataset3/real/01305013.png  \n",
            "  inflating: Dataset_Signature_Final/Dataset/dataset3/real/01401014.png  \n",
            "  inflating: Dataset_Signature_Final/Dataset/dataset3/real/01402014.png  \n",
            "  inflating: Dataset_Signature_Final/Dataset/dataset3/real/01403014.png  \n",
            "  inflating: Dataset_Signature_Final/Dataset/dataset3/real/01404014.png  \n",
            "  inflating: Dataset_Signature_Final/Dataset/dataset3/real/01405014.png  \n",
            "  inflating: Dataset_Signature_Final/Dataset/dataset3/real/01501015.png  \n",
            "  inflating: Dataset_Signature_Final/Dataset/dataset3/real/01502015.png  \n",
            "  inflating: Dataset_Signature_Final/Dataset/dataset3/real/01503015.png  \n",
            "  inflating: Dataset_Signature_Final/Dataset/dataset3/real/01504015.png  \n",
            "  inflating: Dataset_Signature_Final/Dataset/dataset3/real/01505015.png  \n",
            "  inflating: Dataset_Signature_Final/Dataset/dataset3/real/01601016.png  \n",
            "  inflating: Dataset_Signature_Final/Dataset/dataset3/real/01602016.png  \n",
            "  inflating: Dataset_Signature_Final/Dataset/dataset3/real/01603016.png  \n",
            "  inflating: Dataset_Signature_Final/Dataset/dataset3/real/01604016.png  \n",
            "  inflating: Dataset_Signature_Final/Dataset/dataset3/real/01605016.png  \n",
            "  inflating: Dataset_Signature_Final/Dataset/dataset3/real/01701017.png  \n",
            "  inflating: Dataset_Signature_Final/Dataset/dataset3/real/01702017.png  \n",
            "  inflating: Dataset_Signature_Final/Dataset/dataset3/real/01703017.png  \n",
            "  inflating: Dataset_Signature_Final/Dataset/dataset3/real/01704017.png  \n",
            "  inflating: Dataset_Signature_Final/Dataset/dataset3/real/01705017.png  \n",
            "  inflating: Dataset_Signature_Final/Dataset/dataset3/real/01801018.png  \n",
            "  inflating: Dataset_Signature_Final/Dataset/dataset3/real/01802018.png  \n",
            "  inflating: Dataset_Signature_Final/Dataset/dataset3/real/01803018.png  \n",
            "  inflating: Dataset_Signature_Final/Dataset/dataset3/real/01804018.png  \n",
            "  inflating: Dataset_Signature_Final/Dataset/dataset3/real/01805018.png  \n",
            "  inflating: Dataset_Signature_Final/Dataset/dataset3/real/01901019.png  \n",
            "  inflating: Dataset_Signature_Final/Dataset/dataset3/real/01902019.png  \n",
            "  inflating: Dataset_Signature_Final/Dataset/dataset3/real/01903019.png  \n",
            "  inflating: Dataset_Signature_Final/Dataset/dataset3/real/01904019.png  \n",
            "  inflating: Dataset_Signature_Final/Dataset/dataset3/real/01905019.png  \n",
            "  inflating: Dataset_Signature_Final/Dataset/dataset3/real/02001020.png  \n",
            "  inflating: Dataset_Signature_Final/Dataset/dataset3/real/02002020.png  \n",
            "  inflating: Dataset_Signature_Final/Dataset/dataset3/real/02003020.png  \n",
            "  inflating: Dataset_Signature_Final/Dataset/dataset3/real/02004020.png  \n",
            "  inflating: Dataset_Signature_Final/Dataset/dataset3/real/02005020.png  \n",
            "  inflating: Dataset_Signature_Final/Dataset/dataset3/real/02101021.png  \n",
            "  inflating: Dataset_Signature_Final/Dataset/dataset3/real/02102021.png  \n",
            "  inflating: Dataset_Signature_Final/Dataset/dataset3/real/02103021.png  \n",
            "  inflating: Dataset_Signature_Final/Dataset/dataset3/real/02104021.png  \n",
            "  inflating: Dataset_Signature_Final/Dataset/dataset3/real/02105021.png  \n",
            "  inflating: Dataset_Signature_Final/Dataset/dataset3/real/02201022.png  \n",
            "  inflating: Dataset_Signature_Final/Dataset/dataset3/real/02202022.png  \n",
            "  inflating: Dataset_Signature_Final/Dataset/dataset3/real/02203022.png  \n",
            "  inflating: Dataset_Signature_Final/Dataset/dataset3/real/02204022.png  \n",
            "  inflating: Dataset_Signature_Final/Dataset/dataset3/real/02205022.png  \n",
            "  inflating: Dataset_Signature_Final/Dataset/dataset3/real/02301023.png  \n",
            "  inflating: Dataset_Signature_Final/Dataset/dataset3/real/02302023.png  \n",
            "  inflating: Dataset_Signature_Final/Dataset/dataset3/real/02303023.png  \n",
            "  inflating: Dataset_Signature_Final/Dataset/dataset3/real/02304023.png  \n",
            "  inflating: Dataset_Signature_Final/Dataset/dataset3/real/02305023.png  \n",
            "  inflating: Dataset_Signature_Final/Dataset/dataset3/real/02401024.png  \n",
            "  inflating: Dataset_Signature_Final/Dataset/dataset3/real/02402024.png  \n",
            "  inflating: Dataset_Signature_Final/Dataset/dataset3/real/02403024.png  \n",
            "  inflating: Dataset_Signature_Final/Dataset/dataset3/real/02404024.png  \n",
            "  inflating: Dataset_Signature_Final/Dataset/dataset3/real/02405024.png  \n",
            "  inflating: Dataset_Signature_Final/Dataset/dataset3/real/02501025.png  \n",
            "  inflating: Dataset_Signature_Final/Dataset/dataset3/real/02502025.png  \n",
            "  inflating: Dataset_Signature_Final/Dataset/dataset3/real/02503025.png  \n",
            "  inflating: Dataset_Signature_Final/Dataset/dataset3/real/02504025.png  \n",
            "  inflating: Dataset_Signature_Final/Dataset/dataset3/real/02505025.png  \n",
            "  inflating: Dataset_Signature_Final/Dataset/dataset3/real/02601026.png  \n",
            "  inflating: Dataset_Signature_Final/Dataset/dataset3/real/02602026.png  \n",
            "  inflating: Dataset_Signature_Final/Dataset/dataset3/real/02603026.png  \n",
            "  inflating: Dataset_Signature_Final/Dataset/dataset3/real/02604026.png  \n",
            "  inflating: Dataset_Signature_Final/Dataset/dataset3/real/02605026.png  \n",
            "  inflating: Dataset_Signature_Final/Dataset/dataset3/real/02701027.png  \n",
            "  inflating: Dataset_Signature_Final/Dataset/dataset3/real/02702027.png  \n",
            "  inflating: Dataset_Signature_Final/Dataset/dataset3/real/02703027.png  \n",
            "  inflating: Dataset_Signature_Final/Dataset/dataset3/real/02704027.png  \n",
            "  inflating: Dataset_Signature_Final/Dataset/dataset3/real/02705027.png  \n",
            "  inflating: Dataset_Signature_Final/Dataset/dataset3/real/02801028.png  \n",
            "  inflating: Dataset_Signature_Final/Dataset/dataset3/real/02802028.png  \n",
            "  inflating: Dataset_Signature_Final/Dataset/dataset3/real/02803028.png  \n",
            "  inflating: Dataset_Signature_Final/Dataset/dataset3/real/02804028.png  \n",
            "  inflating: Dataset_Signature_Final/Dataset/dataset3/real/02805028.png  \n",
            "  inflating: Dataset_Signature_Final/Dataset/dataset3/real/02901029.png  \n",
            "  inflating: Dataset_Signature_Final/Dataset/dataset3/real/02902029.png  \n",
            "  inflating: Dataset_Signature_Final/Dataset/dataset3/real/02903029.png  \n",
            "  inflating: Dataset_Signature_Final/Dataset/dataset3/real/02904029.png  \n",
            "  inflating: Dataset_Signature_Final/Dataset/dataset3/real/02905029.png  \n",
            "  inflating: Dataset_Signature_Final/Dataset/dataset3/real/03001030.png  \n",
            "  inflating: Dataset_Signature_Final/Dataset/dataset3/real/03002030.png  \n",
            "  inflating: Dataset_Signature_Final/Dataset/dataset3/real/03003030.png  \n",
            "  inflating: Dataset_Signature_Final/Dataset/dataset3/real/03004030.png  \n",
            "  inflating: Dataset_Signature_Final/Dataset/dataset3/real/03005030.png  \n",
            "  inflating: Dataset_Signature_Final/Dataset/dataset4/forge/00301002.png  \n",
            "  inflating: Dataset_Signature_Final/Dataset/dataset4/forge/00301035.png  \n",
            "  inflating: Dataset_Signature_Final/Dataset/dataset4/forge/00301046.png  \n",
            "  inflating: Dataset_Signature_Final/Dataset/dataset4/forge/00302002.png  \n",
            "  inflating: Dataset_Signature_Final/Dataset/dataset4/forge/00302035.png  \n",
            "  inflating: Dataset_Signature_Final/Dataset/dataset4/forge/00302046.png  \n",
            "  inflating: Dataset_Signature_Final/Dataset/dataset4/forge/00303002.png  \n",
            "  inflating: Dataset_Signature_Final/Dataset/dataset4/forge/00303035.png  \n",
            "  inflating: Dataset_Signature_Final/Dataset/dataset4/forge/00303046.png  \n",
            "  inflating: Dataset_Signature_Final/Dataset/dataset4/forge/00304002.png  \n",
            "  inflating: Dataset_Signature_Final/Dataset/dataset4/forge/00304035.png  \n",
            "  inflating: Dataset_Signature_Final/Dataset/dataset4/forge/00304046.png  \n",
            "  inflating: Dataset_Signature_Final/Dataset/dataset4/forge/00305002.png  \n",
            "  inflating: Dataset_Signature_Final/Dataset/dataset4/forge/00305035.png  \n",
            "  inflating: Dataset_Signature_Final/Dataset/dataset4/forge/00305046.png  \n",
            "  inflating: Dataset_Signature_Final/Dataset/dataset4/forge/00401024.png  \n",
            "  inflating: Dataset_Signature_Final/Dataset/dataset4/forge/00401044.png  \n",
            "  inflating: Dataset_Signature_Final/Dataset/dataset4/forge/00401063.png  \n",
            "  inflating: Dataset_Signature_Final/Dataset/dataset4/forge/00401092.png  \n",
            "  inflating: Dataset_Signature_Final/Dataset/dataset4/forge/00402024.png  \n",
            "  inflating: Dataset_Signature_Final/Dataset/dataset4/forge/00402044.png  \n",
            "  inflating: Dataset_Signature_Final/Dataset/dataset4/forge/00402063.png  \n",
            "  inflating: Dataset_Signature_Final/Dataset/dataset4/forge/00402092.png  \n",
            "  inflating: Dataset_Signature_Final/Dataset/dataset4/forge/00403024.png  \n",
            "  inflating: Dataset_Signature_Final/Dataset/dataset4/forge/00403044.png  \n",
            "  inflating: Dataset_Signature_Final/Dataset/dataset4/forge/00403063.png  \n",
            "  inflating: Dataset_Signature_Final/Dataset/dataset4/forge/00403092.png  \n",
            "  inflating: Dataset_Signature_Final/Dataset/dataset4/forge/00404024.png  \n",
            "  inflating: Dataset_Signature_Final/Dataset/dataset4/forge/00404044.png  \n",
            "  inflating: Dataset_Signature_Final/Dataset/dataset4/forge/00404063.png  \n",
            "  inflating: Dataset_Signature_Final/Dataset/dataset4/forge/00404092.png  \n",
            "  inflating: Dataset_Signature_Final/Dataset/dataset4/forge/00405024.png  \n",
            "  inflating: Dataset_Signature_Final/Dataset/dataset4/forge/00405044.png  \n",
            "  inflating: Dataset_Signature_Final/Dataset/dataset4/forge/00405063.png  \n",
            "  inflating: Dataset_Signature_Final/Dataset/dataset4/forge/00405092.png  \n",
            "  inflating: Dataset_Signature_Final/Dataset/dataset4/forge/01601077.png  \n",
            "  inflating: Dataset_Signature_Final/Dataset/dataset4/forge/01601089.png  \n",
            "  inflating: Dataset_Signature_Final/Dataset/dataset4/forge/01602033.png  \n",
            "  inflating: Dataset_Signature_Final/Dataset/dataset4/forge/01602077.png  \n",
            "  inflating: Dataset_Signature_Final/Dataset/dataset4/forge/01602089.png  \n",
            "  inflating: Dataset_Signature_Final/Dataset/dataset4/forge/01603033.png  \n",
            "  inflating: Dataset_Signature_Final/Dataset/dataset4/forge/01603077.png  \n",
            "  inflating: Dataset_Signature_Final/Dataset/dataset4/forge/01603089.png  \n",
            "  inflating: Dataset_Signature_Final/Dataset/dataset4/forge/01604033.png  \n",
            "  inflating: Dataset_Signature_Final/Dataset/dataset4/forge/01604077.png  \n",
            "  inflating: Dataset_Signature_Final/Dataset/dataset4/forge/01604089.png  \n",
            "  inflating: Dataset_Signature_Final/Dataset/dataset4/forge/01605033.png  \n",
            "  inflating: Dataset_Signature_Final/Dataset/dataset4/forge/01605077.png  \n",
            "  inflating: Dataset_Signature_Final/Dataset/dataset4/forge/01605089.png  \n",
            "  inflating: Dataset_Signature_Final/Dataset/dataset4/forge/01701033.png  \n",
            "  inflating: Dataset_Signature_Final/Dataset/dataset4/forge/02301008.png  \n",
            "  inflating: Dataset_Signature_Final/Dataset/dataset4/forge/02301070.png  \n",
            "  inflating: Dataset_Signature_Final/Dataset/dataset4/forge/02301093.png  \n",
            "  inflating: Dataset_Signature_Final/Dataset/dataset4/forge/02302008.png  \n",
            "  inflating: Dataset_Signature_Final/Dataset/dataset4/forge/02302070.png  \n",
            "  inflating: Dataset_Signature_Final/Dataset/dataset4/forge/02302093.png  \n",
            "  inflating: Dataset_Signature_Final/Dataset/dataset4/forge/02303008.png  \n",
            "  inflating: Dataset_Signature_Final/Dataset/dataset4/forge/02303070.png  \n",
            "  inflating: Dataset_Signature_Final/Dataset/dataset4/forge/02303093.png  \n",
            "  inflating: Dataset_Signature_Final/Dataset/dataset4/forge/02304008.png  \n",
            "  inflating: Dataset_Signature_Final/Dataset/dataset4/forge/02304070.png  \n",
            "  inflating: Dataset_Signature_Final/Dataset/dataset4/forge/02304093.png  \n",
            "  inflating: Dataset_Signature_Final/Dataset/dataset4/forge/02305008.png  \n",
            "  inflating: Dataset_Signature_Final/Dataset/dataset4/forge/02305070.png  \n",
            "  inflating: Dataset_Signature_Final/Dataset/dataset4/forge/02305093.png  \n",
            "  inflating: Dataset_Signature_Final/Dataset/dataset4/forge/03201084.png  \n",
            "  inflating: Dataset_Signature_Final/Dataset/dataset4/forge/03201085.png  \n",
            "  inflating: Dataset_Signature_Final/Dataset/dataset4/forge/03201086.png  \n",
            "  inflating: Dataset_Signature_Final/Dataset/dataset4/forge/03202084.png  \n",
            "  inflating: Dataset_Signature_Final/Dataset/dataset4/forge/03202085.png  \n",
            "  inflating: Dataset_Signature_Final/Dataset/dataset4/forge/03202086.png  \n",
            "  inflating: Dataset_Signature_Final/Dataset/dataset4/forge/03203084.png  \n",
            "  inflating: Dataset_Signature_Final/Dataset/dataset4/forge/03203085.png  \n",
            "  inflating: Dataset_Signature_Final/Dataset/dataset4/forge/03203086.png  \n",
            "  inflating: Dataset_Signature_Final/Dataset/dataset4/forge/03204084.png  \n",
            "  inflating: Dataset_Signature_Final/Dataset/dataset4/forge/03204085.png  \n",
            "  inflating: Dataset_Signature_Final/Dataset/dataset4/forge/03204086.png  \n",
            "  inflating: Dataset_Signature_Final/Dataset/dataset4/forge/03205084.png  \n",
            "  inflating: Dataset_Signature_Final/Dataset/dataset4/forge/03205085.png  \n",
            "  inflating: Dataset_Signature_Final/Dataset/dataset4/forge/03205086.png  \n",
            "  inflating: Dataset_Signature_Final/Dataset/dataset4/forge/06101016.png  \n",
            "  inflating: Dataset_Signature_Final/Dataset/dataset4/forge/06101071.png  \n",
            "  inflating: Dataset_Signature_Final/Dataset/dataset4/forge/06102016.png  \n",
            "  inflating: Dataset_Signature_Final/Dataset/dataset4/forge/06102071.png  \n",
            "  inflating: Dataset_Signature_Final/Dataset/dataset4/forge/06103016.png  \n",
            "  inflating: Dataset_Signature_Final/Dataset/dataset4/forge/06103071.png  \n",
            "  inflating: Dataset_Signature_Final/Dataset/dataset4/forge/06104016.png  \n",
            "  inflating: Dataset_Signature_Final/Dataset/dataset4/forge/06104071.png  \n",
            "  inflating: Dataset_Signature_Final/Dataset/dataset4/forge/06105016.png  \n",
            "  inflating: Dataset_Signature_Final/Dataset/dataset4/forge/06105071.png  \n",
            "  inflating: Dataset_Signature_Final/Dataset/dataset4/real1/00201002.png  \n",
            "  inflating: Dataset_Signature_Final/Dataset/dataset4/real1/00202002.png  \n",
            "  inflating: Dataset_Signature_Final/Dataset/dataset4/real1/00203002.png  \n",
            "  inflating: Dataset_Signature_Final/Dataset/dataset4/real1/00204002.png  \n",
            "  inflating: Dataset_Signature_Final/Dataset/dataset4/real1/00205002.png  \n",
            "  inflating: Dataset_Signature_Final/Dataset/dataset4/real1/00801008.png  \n",
            "  inflating: Dataset_Signature_Final/Dataset/dataset4/real1/00802008.png  \n",
            "  inflating: Dataset_Signature_Final/Dataset/dataset4/real1/00803008.png  \n",
            "  inflating: Dataset_Signature_Final/Dataset/dataset4/real1/00804008.png  \n",
            "  inflating: Dataset_Signature_Final/Dataset/dataset4/real1/00805008.png  \n",
            "  inflating: Dataset_Signature_Final/Dataset/dataset4/real1/01601016.png  \n",
            "  inflating: Dataset_Signature_Final/Dataset/dataset4/real1/01602016.png  \n",
            "  inflating: Dataset_Signature_Final/Dataset/dataset4/real1/01603016.png  \n",
            "  inflating: Dataset_Signature_Final/Dataset/dataset4/real1/01604016.png  \n",
            "  inflating: Dataset_Signature_Final/Dataset/dataset4/real1/01605016.png  \n",
            "  inflating: Dataset_Signature_Final/Dataset/dataset4/real1/02401024.png  \n",
            "  inflating: Dataset_Signature_Final/Dataset/dataset4/real1/02402024.png  \n",
            "  inflating: Dataset_Signature_Final/Dataset/dataset4/real1/02403024.png  \n",
            "  inflating: Dataset_Signature_Final/Dataset/dataset4/real1/02404024.png  \n",
            "  inflating: Dataset_Signature_Final/Dataset/dataset4/real1/02405024.png  \n",
            "  inflating: Dataset_Signature_Final/Dataset/dataset4/real1/03301033.png  \n",
            "  inflating: Dataset_Signature_Final/Dataset/dataset4/real1/03302033.png  \n",
            "  inflating: Dataset_Signature_Final/Dataset/dataset4/real1/03303033.png  \n",
            "  inflating: Dataset_Signature_Final/Dataset/dataset4/real1/03304033.png  \n",
            "  inflating: Dataset_Signature_Final/Dataset/dataset4/real1/03305033.png  \n",
            "  inflating: Dataset_Signature_Final/Dataset/dataset4/real1/03501035.png  \n",
            "  inflating: Dataset_Signature_Final/Dataset/dataset4/real1/03502035.png  \n",
            "  inflating: Dataset_Signature_Final/Dataset/dataset4/real1/03503035.png  \n",
            "  inflating: Dataset_Signature_Final/Dataset/dataset4/real1/03504035.png  \n",
            "  inflating: Dataset_Signature_Final/Dataset/dataset4/real1/03505035.png  \n",
            "  inflating: Dataset_Signature_Final/Dataset/dataset4/real1/04401044.png  \n",
            "  inflating: Dataset_Signature_Final/Dataset/dataset4/real1/04402044.png  \n",
            "  inflating: Dataset_Signature_Final/Dataset/dataset4/real1/04403044.png  \n",
            "  inflating: Dataset_Signature_Final/Dataset/dataset4/real1/04404044.png  \n",
            "  inflating: Dataset_Signature_Final/Dataset/dataset4/real1/04405044.png  \n",
            "  inflating: Dataset_Signature_Final/Dataset/dataset4/real1/04601046.png  \n",
            "  inflating: Dataset_Signature_Final/Dataset/dataset4/real1/04602046.png  \n",
            "  inflating: Dataset_Signature_Final/Dataset/dataset4/real1/04603046.png  \n",
            "  inflating: Dataset_Signature_Final/Dataset/dataset4/real1/04604046.png  \n",
            "  inflating: Dataset_Signature_Final/Dataset/dataset4/real1/04605046.png  \n",
            "  inflating: Dataset_Signature_Final/Dataset/dataset4/real1/06301063.png  \n",
            "  inflating: Dataset_Signature_Final/Dataset/dataset4/real1/06302063.png  \n",
            "  inflating: Dataset_Signature_Final/Dataset/dataset4/real1/06303063.png  \n",
            "  inflating: Dataset_Signature_Final/Dataset/dataset4/real1/06304063.png  \n",
            "  inflating: Dataset_Signature_Final/Dataset/dataset4/real1/06305063.png  \n",
            "  inflating: Dataset_Signature_Final/Dataset/dataset4/real1/07001070.png  \n",
            "  inflating: Dataset_Signature_Final/Dataset/dataset4/real1/07002070.png  \n",
            "  inflating: Dataset_Signature_Final/Dataset/dataset4/real1/07003070.png  \n",
            "  inflating: Dataset_Signature_Final/Dataset/dataset4/real1/07004070.png  \n",
            "  inflating: Dataset_Signature_Final/Dataset/dataset4/real1/07005070.png  \n",
            "  inflating: Dataset_Signature_Final/Dataset/dataset4/real1/07101071.png  \n",
            "  inflating: Dataset_Signature_Final/Dataset/dataset4/real1/07102071.png  \n",
            "  inflating: Dataset_Signature_Final/Dataset/dataset4/real1/07103071.png  \n",
            "  inflating: Dataset_Signature_Final/Dataset/dataset4/real1/07104071.png  \n",
            "  inflating: Dataset_Signature_Final/Dataset/dataset4/real1/07105071.png  \n",
            "  inflating: Dataset_Signature_Final/Dataset/dataset4/real1/07701077.png  \n",
            "  inflating: Dataset_Signature_Final/Dataset/dataset4/real1/07702077.png  \n",
            "  inflating: Dataset_Signature_Final/Dataset/dataset4/real1/07703077.png  \n",
            "  inflating: Dataset_Signature_Final/Dataset/dataset4/real1/07704077.png  \n",
            "  inflating: Dataset_Signature_Final/Dataset/dataset4/real1/07705077.png  \n",
            "  inflating: Dataset_Signature_Final/Dataset/dataset4/real1/08401084.png  \n",
            "  inflating: Dataset_Signature_Final/Dataset/dataset4/real1/08402084.png  \n",
            "  inflating: Dataset_Signature_Final/Dataset/dataset4/real1/08403084.png  \n",
            "  inflating: Dataset_Signature_Final/Dataset/dataset4/real1/08404084.png  \n",
            "  inflating: Dataset_Signature_Final/Dataset/dataset4/real1/08405084.png  \n",
            "  inflating: Dataset_Signature_Final/Dataset/dataset4/real1/08501085.png  \n",
            "  inflating: Dataset_Signature_Final/Dataset/dataset4/real1/08502085.png  \n",
            "  inflating: Dataset_Signature_Final/Dataset/dataset4/real1/08503085.png  \n",
            "  inflating: Dataset_Signature_Final/Dataset/dataset4/real1/08504085.png  \n",
            "  inflating: Dataset_Signature_Final/Dataset/dataset4/real1/08505085.png  \n",
            "  inflating: Dataset_Signature_Final/Dataset/dataset4/real1/08601086.png  \n",
            "  inflating: Dataset_Signature_Final/Dataset/dataset4/real1/08602086.png  \n",
            "  inflating: Dataset_Signature_Final/Dataset/dataset4/real1/08603086.png  \n",
            "  inflating: Dataset_Signature_Final/Dataset/dataset4/real1/08604086.png  \n",
            "  inflating: Dataset_Signature_Final/Dataset/dataset4/real1/08605086.png  \n",
            "  inflating: Dataset_Signature_Final/Dataset/dataset4/real1/08901089.png  \n",
            "  inflating: Dataset_Signature_Final/Dataset/dataset4/real1/08902089.png  \n",
            "  inflating: Dataset_Signature_Final/Dataset/dataset4/real1/08903089.png  \n",
            "  inflating: Dataset_Signature_Final/Dataset/dataset4/real1/08904089.png  \n",
            "  inflating: Dataset_Signature_Final/Dataset/dataset4/real1/08905089.png  \n",
            "  inflating: Dataset_Signature_Final/Dataset/dataset4/real1/09201092.png  \n",
            "  inflating: Dataset_Signature_Final/Dataset/dataset4/real1/09202092.png  \n",
            "  inflating: Dataset_Signature_Final/Dataset/dataset4/real1/09203092.png  \n",
            "  inflating: Dataset_Signature_Final/Dataset/dataset4/real1/09204092.png  \n",
            "  inflating: Dataset_Signature_Final/Dataset/dataset4/real1/09205092.png  \n",
            "  inflating: Dataset_Signature_Final/Dataset/dataset4/real1/09301093.png  \n",
            "  inflating: Dataset_Signature_Final/Dataset/dataset4/real1/09302093.png  \n",
            "  inflating: Dataset_Signature_Final/Dataset/dataset4/real1/09303093.png  \n",
            "  inflating: Dataset_Signature_Final/Dataset/dataset4/real1/09304093.png  \n",
            "  inflating: Dataset_Signature_Final/Dataset/dataset4/real1/09305093.png  \n",
            "  inflating: dataset_signature_final/Dataset/dataset1/forge/02100001.png  \n",
            "  inflating: dataset_signature_final/Dataset/dataset1/forge/02100002.png  \n",
            "  inflating: dataset_signature_final/Dataset/dataset1/forge/02100003.png  \n",
            "  inflating: dataset_signature_final/Dataset/dataset1/forge/02100004.png  \n",
            "  inflating: dataset_signature_final/Dataset/dataset1/forge/02100005.png  \n",
            "  inflating: dataset_signature_final/Dataset/dataset1/forge/02100006.png  \n",
            "  inflating: dataset_signature_final/Dataset/dataset1/forge/02100007.png  \n",
            "  inflating: dataset_signature_final/Dataset/dataset1/forge/02100008.png  \n",
            "  inflating: dataset_signature_final/Dataset/dataset1/forge/02100009.png  \n",
            "  inflating: dataset_signature_final/Dataset/dataset1/forge/02100010.png  \n",
            "  inflating: dataset_signature_final/Dataset/dataset1/forge/02100011.png  \n",
            "  inflating: dataset_signature_final/Dataset/dataset1/forge/02100012.png  \n",
            "  inflating: dataset_signature_final/Dataset/dataset1/forge/02101001.png  \n",
            "  inflating: dataset_signature_final/Dataset/dataset1/forge/02101002.png  \n",
            "  inflating: dataset_signature_final/Dataset/dataset1/forge/02101003.png  \n",
            "  inflating: dataset_signature_final/Dataset/dataset1/forge/02101004.png  \n",
            "  inflating: dataset_signature_final/Dataset/dataset1/forge/02101005.png  \n",
            "  inflating: dataset_signature_final/Dataset/dataset1/forge/02101006.png  \n",
            "  inflating: dataset_signature_final/Dataset/dataset1/forge/02101007.png  \n",
            "  inflating: dataset_signature_final/Dataset/dataset1/forge/02101008.png  \n",
            "  inflating: dataset_signature_final/Dataset/dataset1/forge/02101009.png  \n",
            "  inflating: dataset_signature_final/Dataset/dataset1/forge/02101010.png  \n",
            "  inflating: dataset_signature_final/Dataset/dataset1/forge/02101011.png  \n",
            "  inflating: dataset_signature_final/Dataset/dataset1/forge/02101012.png  \n",
            "  inflating: dataset_signature_final/Dataset/dataset1/forge/02102001.png  \n",
            "  inflating: dataset_signature_final/Dataset/dataset1/forge/02102002.png  \n",
            "  inflating: dataset_signature_final/Dataset/dataset1/forge/02102003.png  \n",
            "  inflating: dataset_signature_final/Dataset/dataset1/forge/02102004.png  \n",
            "  inflating: dataset_signature_final/Dataset/dataset1/forge/02102005.png  \n",
            "  inflating: dataset_signature_final/Dataset/dataset1/forge/02102006.png  \n",
            "  inflating: dataset_signature_final/Dataset/dataset1/forge/02102007.png  \n",
            "  inflating: dataset_signature_final/Dataset/dataset1/forge/02102008.png  \n",
            "  inflating: dataset_signature_final/Dataset/dataset1/forge/02102009.png  \n",
            "  inflating: dataset_signature_final/Dataset/dataset1/forge/02102010.png  \n",
            "  inflating: dataset_signature_final/Dataset/dataset1/forge/02102011.png  \n",
            "  inflating: dataset_signature_final/Dataset/dataset1/forge/02102012.png  \n",
            "  inflating: dataset_signature_final/Dataset/dataset1/forge/02103001.png  \n",
            "  inflating: dataset_signature_final/Dataset/dataset1/forge/02103002.png  \n",
            "  inflating: dataset_signature_final/Dataset/dataset1/forge/02103003.png  \n",
            "  inflating: dataset_signature_final/Dataset/dataset1/forge/02103004.png  \n",
            "  inflating: dataset_signature_final/Dataset/dataset1/forge/02103005.png  \n",
            "  inflating: dataset_signature_final/Dataset/dataset1/forge/02103006.png  \n",
            "  inflating: dataset_signature_final/Dataset/dataset1/forge/02103007.png  \n",
            "  inflating: dataset_signature_final/Dataset/dataset1/forge/02103008.png  \n",
            "  inflating: dataset_signature_final/Dataset/dataset1/forge/02103009.png  \n",
            "  inflating: dataset_signature_final/Dataset/dataset1/forge/02103010.png  \n",
            "  inflating: dataset_signature_final/Dataset/dataset1/forge/02103011.png  \n",
            "  inflating: dataset_signature_final/Dataset/dataset1/forge/02103012.png  \n",
            "  inflating: dataset_signature_final/Dataset/dataset1/forge/02104001.png  \n",
            "  inflating: dataset_signature_final/Dataset/dataset1/forge/02104002.png  \n",
            "  inflating: dataset_signature_final/Dataset/dataset1/forge/02104003.png  \n",
            "  inflating: dataset_signature_final/Dataset/dataset1/forge/02104004.png  \n",
            "  inflating: dataset_signature_final/Dataset/dataset1/forge/02104005.png  \n",
            "  inflating: dataset_signature_final/Dataset/dataset1/forge/02104006.png  \n",
            "  inflating: dataset_signature_final/Dataset/dataset1/forge/02104007.png  \n",
            "  inflating: dataset_signature_final/Dataset/dataset1/forge/02104008.png  \n",
            "  inflating: dataset_signature_final/Dataset/dataset1/forge/02104009.png  \n",
            "  inflating: dataset_signature_final/Dataset/dataset1/forge/02104010.png  \n",
            "  inflating: dataset_signature_final/Dataset/dataset1/forge/02104011.png  \n",
            "  inflating: dataset_signature_final/Dataset/dataset1/forge/02104012.png  \n",
            "  inflating: dataset_signature_final/Dataset/dataset1/real/00100001.png  \n",
            "  inflating: dataset_signature_final/Dataset/dataset1/real/00101001.png  \n",
            "  inflating: dataset_signature_final/Dataset/dataset1/real/00102001.png  \n",
            "  inflating: dataset_signature_final/Dataset/dataset1/real/00103001.png  \n",
            "  inflating: dataset_signature_final/Dataset/dataset1/real/00104001.png  \n",
            "  inflating: dataset_signature_final/Dataset/dataset1/real/00200002.png  \n",
            "  inflating: dataset_signature_final/Dataset/dataset1/real/00201002.png  \n",
            "  inflating: dataset_signature_final/Dataset/dataset1/real/00202002.png  \n",
            "  inflating: dataset_signature_final/Dataset/dataset1/real/00203002.png  \n",
            "  inflating: dataset_signature_final/Dataset/dataset1/real/00204002.png  \n",
            "  inflating: dataset_signature_final/Dataset/dataset1/real/00300003.png  \n",
            "  inflating: dataset_signature_final/Dataset/dataset1/real/00301003.png  \n",
            "  inflating: dataset_signature_final/Dataset/dataset1/real/00302003.png  \n",
            "  inflating: dataset_signature_final/Dataset/dataset1/real/00303003.png  \n",
            "  inflating: dataset_signature_final/Dataset/dataset1/real/00304003.png  \n",
            "  inflating: dataset_signature_final/Dataset/dataset1/real/00400004.png  \n",
            "  inflating: dataset_signature_final/Dataset/dataset1/real/00401004.png  \n",
            "  inflating: dataset_signature_final/Dataset/dataset1/real/00402004.png  \n",
            "  inflating: dataset_signature_final/Dataset/dataset1/real/00403004.png  \n",
            "  inflating: dataset_signature_final/Dataset/dataset1/real/00404004.png  \n",
            "  inflating: dataset_signature_final/Dataset/dataset1/real/00500005.png  \n",
            "  inflating: dataset_signature_final/Dataset/dataset1/real/00501005.png  \n",
            "  inflating: dataset_signature_final/Dataset/dataset1/real/00502005.png  \n",
            "  inflating: dataset_signature_final/Dataset/dataset1/real/00503005.png  \n",
            "  inflating: dataset_signature_final/Dataset/dataset1/real/00504005.png  \n",
            "  inflating: dataset_signature_final/Dataset/dataset1/real/00600006.png  \n",
            "  inflating: dataset_signature_final/Dataset/dataset1/real/00601006.png  \n",
            "  inflating: dataset_signature_final/Dataset/dataset1/real/00602006.png  \n",
            "  inflating: dataset_signature_final/Dataset/dataset1/real/00603006.png  \n",
            "  inflating: dataset_signature_final/Dataset/dataset1/real/00604006.png  \n",
            "  inflating: dataset_signature_final/Dataset/dataset1/real/00700007.png  \n",
            "  inflating: dataset_signature_final/Dataset/dataset1/real/00701007.png  \n",
            "  inflating: dataset_signature_final/Dataset/dataset1/real/00702007.png  \n",
            "  inflating: dataset_signature_final/Dataset/dataset1/real/00703007.png  \n",
            "  inflating: dataset_signature_final/Dataset/dataset1/real/00704007.png  \n",
            "  inflating: dataset_signature_final/Dataset/dataset1/real/00800008.png  \n",
            "  inflating: dataset_signature_final/Dataset/dataset1/real/00801008.png  \n",
            "  inflating: dataset_signature_final/Dataset/dataset1/real/00802008.png  \n",
            "  inflating: dataset_signature_final/Dataset/dataset1/real/00803008.png  \n",
            "  inflating: dataset_signature_final/Dataset/dataset1/real/00804008.png  \n",
            "  inflating: dataset_signature_final/Dataset/dataset1/real/00900009.png  \n",
            "  inflating: dataset_signature_final/Dataset/dataset1/real/00901009.png  \n",
            "  inflating: dataset_signature_final/Dataset/dataset1/real/00902009.png  \n",
            "  inflating: dataset_signature_final/Dataset/dataset1/real/00903009.png  \n",
            "  inflating: dataset_signature_final/Dataset/dataset1/real/00904009.png  \n",
            "  inflating: dataset_signature_final/Dataset/dataset1/real/01000010.png  \n",
            "  inflating: dataset_signature_final/Dataset/dataset1/real/01001010.png  \n",
            "  inflating: dataset_signature_final/Dataset/dataset1/real/01002010.png  \n",
            "  inflating: dataset_signature_final/Dataset/dataset1/real/01003010.png  \n",
            "  inflating: dataset_signature_final/Dataset/dataset1/real/01004010.png  \n",
            "  inflating: dataset_signature_final/Dataset/dataset1/real/01100011.png  \n",
            "  inflating: dataset_signature_final/Dataset/dataset1/real/01101011.png  \n",
            "  inflating: dataset_signature_final/Dataset/dataset1/real/01102011.png  \n",
            "  inflating: dataset_signature_final/Dataset/dataset1/real/01103011.png  \n",
            "  inflating: dataset_signature_final/Dataset/dataset1/real/01104011.png  \n",
            "  inflating: dataset_signature_final/Dataset/dataset1/real/01200012.png  \n",
            "  inflating: dataset_signature_final/Dataset/dataset1/real/01201012.png  \n",
            "  inflating: dataset_signature_final/Dataset/dataset1/real/01202012.png  \n",
            "  inflating: dataset_signature_final/Dataset/dataset1/real/01203012.png  \n",
            "  inflating: dataset_signature_final/Dataset/dataset1/real/01204012.png  \n",
            "  inflating: dataset_signature_final/Dataset/dataset2/forge/02101003.png  \n",
            "  inflating: dataset_signature_final/Dataset/dataset2/forge/02101004.png  \n",
            "  inflating: dataset_signature_final/Dataset/dataset2/forge/02101005.png  \n",
            "  inflating: dataset_signature_final/Dataset/dataset2/forge/02101006.png  \n",
            "  inflating: dataset_signature_final/Dataset/dataset2/forge/02101007.png  \n",
            "  inflating: dataset_signature_final/Dataset/dataset2/forge/02101008.png  \n",
            "  inflating: dataset_signature_final/Dataset/dataset2/forge/02101009.png  \n",
            "  inflating: dataset_signature_final/Dataset/dataset2/forge/02101011.png  \n",
            "  inflating: dataset_signature_final/Dataset/dataset2/forge/02101012.png  \n",
            "  inflating: dataset_signature_final/Dataset/dataset2/forge/02102003.png  \n",
            "  inflating: dataset_signature_final/Dataset/dataset2/forge/02102004.png  \n",
            "  inflating: dataset_signature_final/Dataset/dataset2/forge/02102005.png  \n",
            "  inflating: dataset_signature_final/Dataset/dataset2/forge/02102006.png  \n",
            "  inflating: dataset_signature_final/Dataset/dataset2/forge/02102007.png  \n",
            "  inflating: dataset_signature_final/Dataset/dataset2/forge/02102008.png  \n",
            "  inflating: dataset_signature_final/Dataset/dataset2/forge/02102009.png  \n",
            "  inflating: dataset_signature_final/Dataset/dataset2/forge/02102011.png  \n",
            "  inflating: dataset_signature_final/Dataset/dataset2/forge/02102012.png  \n",
            "  inflating: dataset_signature_final/Dataset/dataset2/forge/02103003.png  \n",
            "  inflating: dataset_signature_final/Dataset/dataset2/forge/02103004.png  \n",
            "  inflating: dataset_signature_final/Dataset/dataset2/forge/02103005.png  \n",
            "  inflating: dataset_signature_final/Dataset/dataset2/forge/02103006.png  \n",
            "  inflating: dataset_signature_final/Dataset/dataset2/forge/02103007.png  \n",
            "  inflating: dataset_signature_final/Dataset/dataset2/forge/02103008.png  \n",
            "  inflating: dataset_signature_final/Dataset/dataset2/forge/02103009.png  \n",
            "  inflating: dataset_signature_final/Dataset/dataset2/forge/02103011.png  \n",
            "  inflating: dataset_signature_final/Dataset/dataset2/forge/02103012.png  \n",
            "  inflating: dataset_signature_final/Dataset/dataset2/forge/02104003.png  \n",
            "  inflating: dataset_signature_final/Dataset/dataset2/forge/02104004.png  \n",
            "  inflating: dataset_signature_final/Dataset/dataset2/forge/02104005.png  \n",
            "  inflating: dataset_signature_final/Dataset/dataset2/forge/02104006.png  \n",
            "  inflating: dataset_signature_final/Dataset/dataset2/forge/02104007.png  \n",
            "  inflating: dataset_signature_final/Dataset/dataset2/forge/02104008.png  \n",
            "  inflating: dataset_signature_final/Dataset/dataset2/forge/02104009.png  \n",
            "  inflating: dataset_signature_final/Dataset/dataset2/forge/02104011.png  \n",
            "  inflating: dataset_signature_final/Dataset/dataset2/forge/02104012.png  \n",
            "  inflating: dataset_signature_final/Dataset/dataset2/forge/02105003.png  \n",
            "  inflating: dataset_signature_final/Dataset/dataset2/forge/02105004.png  \n",
            "  inflating: dataset_signature_final/Dataset/dataset2/forge/02105005.png  \n",
            "  inflating: dataset_signature_final/Dataset/dataset2/forge/02105006.png  \n",
            "  inflating: dataset_signature_final/Dataset/dataset2/forge/02105007.png  \n",
            "  inflating: dataset_signature_final/Dataset/dataset2/forge/02105008.png  \n",
            "  inflating: dataset_signature_final/Dataset/dataset2/forge/02105009.png  \n",
            "  inflating: dataset_signature_final/Dataset/dataset2/forge/02105011.png  \n",
            "  inflating: dataset_signature_final/Dataset/dataset2/forge/02105012.png  \n",
            "  inflating: dataset_signature_final/Dataset/dataset2/forge/02201001.png  \n",
            "  inflating: dataset_signature_final/Dataset/dataset2/forge/02201002.png  \n",
            "  inflating: dataset_signature_final/Dataset/dataset2/forge/02201010.png  \n",
            "  inflating: dataset_signature_final/Dataset/dataset2/forge/02202001.png  \n",
            "  inflating: dataset_signature_final/Dataset/dataset2/forge/02202002.png  \n",
            "  inflating: dataset_signature_final/Dataset/dataset2/forge/02202010.png  \n",
            "  inflating: dataset_signature_final/Dataset/dataset2/forge/02203001.png  \n",
            "  inflating: dataset_signature_final/Dataset/dataset2/forge/02203002.png  \n",
            "  inflating: dataset_signature_final/Dataset/dataset2/forge/02203010.png  \n",
            "  inflating: dataset_signature_final/Dataset/dataset2/forge/02204001.png  \n",
            "  inflating: dataset_signature_final/Dataset/dataset2/forge/02204002.png  \n",
            "  inflating: dataset_signature_final/Dataset/dataset2/forge/02204010.png  \n",
            "  inflating: dataset_signature_final/Dataset/dataset2/forge/02205001.png  \n",
            "  inflating: dataset_signature_final/Dataset/dataset2/forge/02205002.png  \n",
            "  inflating: dataset_signature_final/Dataset/dataset2/forge/02205010.png  \n",
            "  inflating: dataset_signature_final/Dataset/dataset2/real/00101001.png  \n",
            "  inflating: dataset_signature_final/Dataset/dataset2/real/00102001.png  \n",
            "  inflating: dataset_signature_final/Dataset/dataset2/real/00103001.png  \n",
            "  inflating: dataset_signature_final/Dataset/dataset2/real/00104001.png  \n",
            "  inflating: dataset_signature_final/Dataset/dataset2/real/00105001.png  \n",
            "  inflating: dataset_signature_final/Dataset/dataset2/real/00201002.png  \n",
            "  inflating: dataset_signature_final/Dataset/dataset2/real/00202002.png  \n",
            "  inflating: dataset_signature_final/Dataset/dataset2/real/00203002.png  \n",
            "  inflating: dataset_signature_final/Dataset/dataset2/real/00204002.png  \n",
            "  inflating: dataset_signature_final/Dataset/dataset2/real/00205002.png  \n",
            "  inflating: dataset_signature_final/Dataset/dataset2/real/00301003.png  \n",
            "  inflating: dataset_signature_final/Dataset/dataset2/real/00302003.png  \n",
            "  inflating: dataset_signature_final/Dataset/dataset2/real/00303003.png  \n",
            "  inflating: dataset_signature_final/Dataset/dataset2/real/00304003.png  \n",
            "  inflating: dataset_signature_final/Dataset/dataset2/real/00305003.png  \n",
            "  inflating: dataset_signature_final/Dataset/dataset2/real/00401004.png  \n",
            "  inflating: dataset_signature_final/Dataset/dataset2/real/00402004.png  \n",
            "  inflating: dataset_signature_final/Dataset/dataset2/real/00403004.png  \n",
            "  inflating: dataset_signature_final/Dataset/dataset2/real/00404004.png  \n",
            "  inflating: dataset_signature_final/Dataset/dataset2/real/00405004.png  \n",
            "  inflating: dataset_signature_final/Dataset/dataset2/real/00501005.png  \n",
            "  inflating: dataset_signature_final/Dataset/dataset2/real/00502005.png  \n",
            "  inflating: dataset_signature_final/Dataset/dataset2/real/00503005.png  \n",
            "  inflating: dataset_signature_final/Dataset/dataset2/real/00504005.png  \n",
            "  inflating: dataset_signature_final/Dataset/dataset2/real/00505005.png  \n",
            "  inflating: dataset_signature_final/Dataset/dataset2/real/00601006.png  \n",
            "  inflating: dataset_signature_final/Dataset/dataset2/real/00602006.png  \n",
            "  inflating: dataset_signature_final/Dataset/dataset2/real/00603006.png  \n",
            "  inflating: dataset_signature_final/Dataset/dataset2/real/00604006.png  \n",
            "  inflating: dataset_signature_final/Dataset/dataset2/real/00605006.png  \n",
            "  inflating: dataset_signature_final/Dataset/dataset2/real/00701007.png  \n",
            "  inflating: dataset_signature_final/Dataset/dataset2/real/00702007.png  \n",
            "  inflating: dataset_signature_final/Dataset/dataset2/real/00703007.png  \n",
            "  inflating: dataset_signature_final/Dataset/dataset2/real/00704007.png  \n",
            "  inflating: dataset_signature_final/Dataset/dataset2/real/00705007.png  \n",
            "  inflating: dataset_signature_final/Dataset/dataset2/real/00801008.png  \n",
            "  inflating: dataset_signature_final/Dataset/dataset2/real/00802008.png  \n",
            "  inflating: dataset_signature_final/Dataset/dataset2/real/00803008.png  \n",
            "  inflating: dataset_signature_final/Dataset/dataset2/real/00804008.png  \n",
            "  inflating: dataset_signature_final/Dataset/dataset2/real/00805008.png  \n",
            "  inflating: dataset_signature_final/Dataset/dataset2/real/00901009.png  \n",
            "  inflating: dataset_signature_final/Dataset/dataset2/real/00902009.png  \n",
            "  inflating: dataset_signature_final/Dataset/dataset2/real/00903009.png  \n",
            "  inflating: dataset_signature_final/Dataset/dataset2/real/00904009.png  \n",
            "  inflating: dataset_signature_final/Dataset/dataset2/real/00905009.png  \n",
            "  inflating: dataset_signature_final/Dataset/dataset2/real/01001010.png  \n",
            "  inflating: dataset_signature_final/Dataset/dataset2/real/01002010.png  \n",
            "  inflating: dataset_signature_final/Dataset/dataset2/real/01003010.png  \n",
            "  inflating: dataset_signature_final/Dataset/dataset2/real/01004010.png  \n",
            "  inflating: dataset_signature_final/Dataset/dataset2/real/01005010.png  \n",
            "  inflating: dataset_signature_final/Dataset/dataset2/real/01101011.png  \n",
            "  inflating: dataset_signature_final/Dataset/dataset2/real/01102011.png  \n",
            "  inflating: dataset_signature_final/Dataset/dataset2/real/01103011.png  \n",
            "  inflating: dataset_signature_final/Dataset/dataset2/real/01104011.png  \n",
            "  inflating: dataset_signature_final/Dataset/dataset2/real/01105011.png  \n",
            "  inflating: dataset_signature_final/Dataset/dataset2/real/01201012.png  \n",
            "  inflating: dataset_signature_final/Dataset/dataset2/real/01202012.png  \n",
            "  inflating: dataset_signature_final/Dataset/dataset2/real/01203012.png  \n",
            "  inflating: dataset_signature_final/Dataset/dataset2/real/01204012.png  \n",
            "  inflating: dataset_signature_final/Dataset/dataset2/real/01205012.png  \n",
            "  inflating: dataset_signature_final/Dataset/dataset3/forge/00101014.png  \n",
            "  inflating: dataset_signature_final/Dataset/dataset3/forge/00101019.png  \n",
            "  inflating: dataset_signature_final/Dataset/dataset3/forge/00101025.png  \n",
            "  inflating: dataset_signature_final/Dataset/dataset3/forge/00101026.png  \n",
            "  inflating: dataset_signature_final/Dataset/dataset3/forge/00101027.png  \n",
            "  inflating: dataset_signature_final/Dataset/dataset3/forge/00101028.png  \n",
            "  inflating: dataset_signature_final/Dataset/dataset3/forge/00101029.png  \n",
            "  inflating: dataset_signature_final/Dataset/dataset3/forge/00101030.png  \n",
            "  inflating: dataset_signature_final/Dataset/dataset3/forge/00102014.png  \n",
            "  inflating: dataset_signature_final/Dataset/dataset3/forge/00102019.png  \n",
            "  inflating: dataset_signature_final/Dataset/dataset3/forge/00102025.png  \n",
            "  inflating: dataset_signature_final/Dataset/dataset3/forge/00102026.png  \n",
            "  inflating: dataset_signature_final/Dataset/dataset3/forge/00102027.png  \n",
            "  inflating: dataset_signature_final/Dataset/dataset3/forge/00102028.png  \n",
            "  inflating: dataset_signature_final/Dataset/dataset3/forge/00102029.png  \n",
            "  inflating: dataset_signature_final/Dataset/dataset3/forge/00102030.png  \n",
            "  inflating: dataset_signature_final/Dataset/dataset3/forge/00103014.png  \n",
            "  inflating: dataset_signature_final/Dataset/dataset3/forge/00103019.png  \n",
            "  inflating: dataset_signature_final/Dataset/dataset3/forge/00103025.png  \n",
            "  inflating: dataset_signature_final/Dataset/dataset3/forge/00103026.png  \n",
            "  inflating: dataset_signature_final/Dataset/dataset3/forge/00103027.png  \n",
            "  inflating: dataset_signature_final/Dataset/dataset3/forge/00103028.png  \n",
            "  inflating: dataset_signature_final/Dataset/dataset3/forge/00103029.png  \n",
            "  inflating: dataset_signature_final/Dataset/dataset3/forge/00103030.png  \n",
            "  inflating: dataset_signature_final/Dataset/dataset3/forge/00104014.png  \n",
            "  inflating: dataset_signature_final/Dataset/dataset3/forge/00104019.png  \n",
            "  inflating: dataset_signature_final/Dataset/dataset3/forge/00104025.png  \n",
            "  inflating: dataset_signature_final/Dataset/dataset3/forge/00104026.png  \n",
            "  inflating: dataset_signature_final/Dataset/dataset3/forge/00104027.png  \n",
            "  inflating: dataset_signature_final/Dataset/dataset3/forge/00104028.png  \n",
            "  inflating: dataset_signature_final/Dataset/dataset3/forge/00104029.png  \n",
            "  inflating: dataset_signature_final/Dataset/dataset3/forge/00104030.png  \n",
            "  inflating: dataset_signature_final/Dataset/dataset3/forge/00105014.png  \n",
            "  inflating: dataset_signature_final/Dataset/dataset3/forge/00105019.png  \n",
            "  inflating: dataset_signature_final/Dataset/dataset3/forge/00105025.png  \n",
            "  inflating: dataset_signature_final/Dataset/dataset3/forge/00105026.png  \n",
            "  inflating: dataset_signature_final/Dataset/dataset3/forge/00105027.png  \n",
            "  inflating: dataset_signature_final/Dataset/dataset3/forge/00105028.png  \n",
            "  inflating: dataset_signature_final/Dataset/dataset3/forge/00105029.png  \n",
            "  inflating: dataset_signature_final/Dataset/dataset3/forge/00105030.png  \n",
            "  inflating: dataset_signature_final/Dataset/dataset3/forge/00301001.png  \n",
            "  inflating: dataset_signature_final/Dataset/dataset3/forge/00301002.png  \n",
            "  inflating: dataset_signature_final/Dataset/dataset3/forge/00301005.png  \n",
            "  inflating: dataset_signature_final/Dataset/dataset3/forge/00301009.png  \n",
            "  inflating: dataset_signature_final/Dataset/dataset3/forge/00301018.png  \n",
            "  inflating: dataset_signature_final/Dataset/dataset3/forge/00302001.png  \n",
            "  inflating: dataset_signature_final/Dataset/dataset3/forge/00302002.png  \n",
            "  inflating: dataset_signature_final/Dataset/dataset3/forge/00302005.png  \n",
            "  inflating: dataset_signature_final/Dataset/dataset3/forge/00302009.png  \n",
            "  inflating: dataset_signature_final/Dataset/dataset3/forge/00302018.png  \n",
            "  inflating: dataset_signature_final/Dataset/dataset3/forge/00303001.png  \n",
            "  inflating: dataset_signature_final/Dataset/dataset3/forge/00303002.png  \n",
            "  inflating: dataset_signature_final/Dataset/dataset3/forge/00303005.png  \n",
            "  inflating: dataset_signature_final/Dataset/dataset3/forge/00303009.png  \n",
            "  inflating: dataset_signature_final/Dataset/dataset3/forge/00303018.png  \n",
            "  inflating: dataset_signature_final/Dataset/dataset3/forge/00304001.png  \n",
            "  inflating: dataset_signature_final/Dataset/dataset3/forge/00304002.png  \n",
            "  inflating: dataset_signature_final/Dataset/dataset3/forge/00304005.png  \n",
            "  inflating: dataset_signature_final/Dataset/dataset3/forge/00304009.png  \n",
            "  inflating: dataset_signature_final/Dataset/dataset3/forge/00304018.png  \n",
            "  inflating: dataset_signature_final/Dataset/dataset3/forge/00305001.png  \n",
            "  inflating: dataset_signature_final/Dataset/dataset3/forge/00305002.png  \n",
            "  inflating: dataset_signature_final/Dataset/dataset3/forge/00305005.png  \n",
            "  inflating: dataset_signature_final/Dataset/dataset3/forge/00305009.png  \n",
            "  inflating: dataset_signature_final/Dataset/dataset3/forge/00305018.png  \n",
            "  inflating: dataset_signature_final/Dataset/dataset3/forge/00401003.png  \n",
            "  inflating: dataset_signature_final/Dataset/dataset3/forge/00401007.png  \n",
            "  inflating: dataset_signature_final/Dataset/dataset3/forge/00401013.png  \n",
            "  inflating: dataset_signature_final/Dataset/dataset3/forge/00401024.png  \n",
            "  inflating: dataset_signature_final/Dataset/dataset3/forge/00402003.png  \n",
            "  inflating: dataset_signature_final/Dataset/dataset3/forge/00402007.png  \n",
            "  inflating: dataset_signature_final/Dataset/dataset3/forge/00402013.png  \n",
            "  inflating: dataset_signature_final/Dataset/dataset3/forge/00402024.png  \n",
            "  inflating: dataset_signature_final/Dataset/dataset3/forge/00403003.png  \n",
            "  inflating: dataset_signature_final/Dataset/dataset3/forge/00403007.png  \n",
            "  inflating: dataset_signature_final/Dataset/dataset3/forge/00403013.png  \n",
            "  inflating: dataset_signature_final/Dataset/dataset3/forge/00403024.png  \n",
            "  inflating: dataset_signature_final/Dataset/dataset3/forge/00404003.png  \n",
            "  inflating: dataset_signature_final/Dataset/dataset3/forge/00404007.png  \n",
            "  inflating: dataset_signature_final/Dataset/dataset3/forge/00404013.png  \n",
            "  inflating: dataset_signature_final/Dataset/dataset3/forge/00404024.png  \n",
            "  inflating: dataset_signature_final/Dataset/dataset3/forge/00405003.png  \n",
            "  inflating: dataset_signature_final/Dataset/dataset3/forge/00405007.png  \n",
            "  inflating: dataset_signature_final/Dataset/dataset3/forge/00405013.png  \n",
            "  inflating: dataset_signature_final/Dataset/dataset3/forge/00405024.png  \n",
            "  inflating: dataset_signature_final/Dataset/dataset3/forge/00501015.png  \n",
            "  inflating: dataset_signature_final/Dataset/dataset3/forge/00501022.png  \n",
            "  inflating: dataset_signature_final/Dataset/dataset3/forge/00502015.png  \n",
            "  inflating: dataset_signature_final/Dataset/dataset3/forge/00502022.png  \n",
            "  inflating: dataset_signature_final/Dataset/dataset3/forge/00503015.png  \n",
            "  inflating: dataset_signature_final/Dataset/dataset3/forge/00503022.png  \n",
            "  inflating: dataset_signature_final/Dataset/dataset3/forge/00504015.png  \n",
            "  inflating: dataset_signature_final/Dataset/dataset3/forge/00504022.png  \n",
            "  inflating: dataset_signature_final/Dataset/dataset3/forge/00505015.png  \n",
            "  inflating: dataset_signature_final/Dataset/dataset3/forge/00505022.png  \n",
            "  inflating: dataset_signature_final/Dataset/dataset3/forge/00701011.png  \n",
            "  inflating: dataset_signature_final/Dataset/dataset3/forge/00701023.png  \n",
            "  inflating: dataset_signature_final/Dataset/dataset3/forge/00702011.png  \n",
            "  inflating: dataset_signature_final/Dataset/dataset3/forge/00702023.png  \n",
            "  inflating: dataset_signature_final/Dataset/dataset3/forge/00703011.png  \n",
            "  inflating: dataset_signature_final/Dataset/dataset3/forge/00703023.png  \n",
            "  inflating: dataset_signature_final/Dataset/dataset3/forge/00704011.png  \n",
            "  inflating: dataset_signature_final/Dataset/dataset3/forge/00704023.png  \n",
            "  inflating: dataset_signature_final/Dataset/dataset3/forge/00705011.png  \n",
            "  inflating: dataset_signature_final/Dataset/dataset3/forge/00705023.png  \n",
            "  inflating: dataset_signature_final/Dataset/dataset3/forge/01101012.png  \n",
            "  inflating: dataset_signature_final/Dataset/dataset3/forge/01101016.png  \n",
            "  inflating: dataset_signature_final/Dataset/dataset3/forge/01102012.png  \n",
            "  inflating: dataset_signature_final/Dataset/dataset3/forge/01102016.png  \n",
            "  inflating: dataset_signature_final/Dataset/dataset3/forge/01103012.png  \n",
            "  inflating: dataset_signature_final/Dataset/dataset3/forge/01103016.png  \n",
            "  inflating: dataset_signature_final/Dataset/dataset3/forge/01104012.png  \n",
            "  inflating: dataset_signature_final/Dataset/dataset3/forge/01104016.png  \n",
            "  inflating: dataset_signature_final/Dataset/dataset3/forge/01105012.png  \n",
            "  inflating: dataset_signature_final/Dataset/dataset3/forge/01105016.png  \n",
            "  inflating: dataset_signature_final/Dataset/dataset3/forge/01201021.png  \n",
            "  inflating: dataset_signature_final/Dataset/dataset3/forge/01202021.png  \n",
            "  inflating: dataset_signature_final/Dataset/dataset3/forge/01203021.png  \n",
            "  inflating: dataset_signature_final/Dataset/dataset3/forge/01204021.png  \n",
            "  inflating: dataset_signature_final/Dataset/dataset3/forge/01205021.png  \n",
            "  inflating: dataset_signature_final/Dataset/dataset3/forge/01301017.png  \n",
            "  inflating: dataset_signature_final/Dataset/dataset3/forge/01302017.png  \n",
            "  inflating: dataset_signature_final/Dataset/dataset3/forge/01303017.png  \n",
            "  inflating: dataset_signature_final/Dataset/dataset3/forge/01304017.png  \n",
            "  inflating: dataset_signature_final/Dataset/dataset3/forge/01305017.png  \n",
            "  inflating: dataset_signature_final/Dataset/dataset3/forge/01701020.png  \n",
            "  inflating: dataset_signature_final/Dataset/dataset3/forge/01702020.png  \n",
            "  inflating: dataset_signature_final/Dataset/dataset3/forge/01703020.png  \n",
            "  inflating: dataset_signature_final/Dataset/dataset3/forge/01704020.png  \n",
            "  inflating: dataset_signature_final/Dataset/dataset3/forge/01705020.png  \n",
            "  inflating: dataset_signature_final/Dataset/dataset3/forge/02301008.png  \n",
            "  inflating: dataset_signature_final/Dataset/dataset3/forge/02303008.png  \n",
            "  inflating: dataset_signature_final/Dataset/dataset3/forge/02304008.png  \n",
            "  inflating: dataset_signature_final/Dataset/dataset3/forge/02305008.png  \n",
            "  inflating: dataset_signature_final/Dataset/dataset3/forge/02306008.png  \n",
            "  inflating: dataset_signature_final/Dataset/dataset3/forge/02501010.png  \n",
            "  inflating: dataset_signature_final/Dataset/dataset3/forge/02502010.png  \n",
            "  inflating: dataset_signature_final/Dataset/dataset3/forge/02503010.png  \n",
            "  inflating: dataset_signature_final/Dataset/dataset3/forge/02504010.png  \n",
            "  inflating: dataset_signature_final/Dataset/dataset3/forge/02505009.png  \n",
            "  inflating: dataset_signature_final/Dataset/dataset3/forge/03301006.png  \n",
            "  inflating: dataset_signature_final/Dataset/dataset3/forge/03302006.png  \n",
            "  inflating: dataset_signature_final/Dataset/dataset3/forge/03303006.png  \n",
            "  inflating: dataset_signature_final/Dataset/dataset3/forge/03304006.png  \n",
            "  inflating: dataset_signature_final/Dataset/dataset3/forge/03305006.png  \n",
            "  inflating: dataset_signature_final/Dataset/dataset3/forge/08801004.png  \n",
            "  inflating: dataset_signature_final/Dataset/dataset3/forge/08802004.png  \n",
            "  inflating: dataset_signature_final/Dataset/dataset3/forge/08803004.png  \n",
            "  inflating: dataset_signature_final/Dataset/dataset3/forge/08804004.png  \n",
            "  inflating: dataset_signature_final/Dataset/dataset3/forge/08805004.png  \n",
            "  inflating: dataset_signature_final/Dataset/dataset3/real/00101001.png  \n",
            "  inflating: dataset_signature_final/Dataset/dataset3/real/00102001.png  \n",
            "  inflating: dataset_signature_final/Dataset/dataset3/real/00103001.png  \n",
            "  inflating: dataset_signature_final/Dataset/dataset3/real/00104001.png  \n",
            "  inflating: dataset_signature_final/Dataset/dataset3/real/00105001.png  \n",
            "  inflating: dataset_signature_final/Dataset/dataset3/real/00201002.png  \n",
            "  inflating: dataset_signature_final/Dataset/dataset3/real/00202002.png  \n",
            "  inflating: dataset_signature_final/Dataset/dataset3/real/00203002.png  \n",
            "  inflating: dataset_signature_final/Dataset/dataset3/real/00204002.png  \n",
            "  inflating: dataset_signature_final/Dataset/dataset3/real/00205002.png  \n",
            "  inflating: dataset_signature_final/Dataset/dataset3/real/00301003.png  \n",
            "  inflating: dataset_signature_final/Dataset/dataset3/real/00302003.png  \n",
            "  inflating: dataset_signature_final/Dataset/dataset3/real/00303003.png  \n",
            "  inflating: dataset_signature_final/Dataset/dataset3/real/00304003.png  \n",
            "  inflating: dataset_signature_final/Dataset/dataset3/real/00305003.png  \n",
            "  inflating: dataset_signature_final/Dataset/dataset3/real/00401004.png  \n",
            "  inflating: dataset_signature_final/Dataset/dataset3/real/00402004.png  \n",
            "  inflating: dataset_signature_final/Dataset/dataset3/real/00403004.png  \n",
            "  inflating: dataset_signature_final/Dataset/dataset3/real/00404004.png  \n",
            "  inflating: dataset_signature_final/Dataset/dataset3/real/00405004.png  \n",
            "  inflating: dataset_signature_final/Dataset/dataset3/real/00501005.png  \n",
            "  inflating: dataset_signature_final/Dataset/dataset3/real/00502005.png  \n",
            "  inflating: dataset_signature_final/Dataset/dataset3/real/00503005.png  \n",
            "  inflating: dataset_signature_final/Dataset/dataset3/real/00504005.png  \n",
            "  inflating: dataset_signature_final/Dataset/dataset3/real/00505005.png  \n",
            "  inflating: dataset_signature_final/Dataset/dataset3/real/00601006.png  \n",
            "  inflating: dataset_signature_final/Dataset/dataset3/real/00602006.png  \n",
            "  inflating: dataset_signature_final/Dataset/dataset3/real/00603006.png  \n",
            "  inflating: dataset_signature_final/Dataset/dataset3/real/00604006.png  \n",
            "  inflating: dataset_signature_final/Dataset/dataset3/real/00605006.png  \n",
            "  inflating: dataset_signature_final/Dataset/dataset3/real/00701007.png  \n",
            "  inflating: dataset_signature_final/Dataset/dataset3/real/00702007.png  \n",
            "  inflating: dataset_signature_final/Dataset/dataset3/real/00703007.png  \n",
            "  inflating: dataset_signature_final/Dataset/dataset3/real/00704007.png  \n",
            "  inflating: dataset_signature_final/Dataset/dataset3/real/00705007.png  \n",
            "  inflating: dataset_signature_final/Dataset/dataset3/real/00801008.png  \n",
            "  inflating: dataset_signature_final/Dataset/dataset3/real/00802008.png  \n",
            "  inflating: dataset_signature_final/Dataset/dataset3/real/00803008.png  \n",
            "  inflating: dataset_signature_final/Dataset/dataset3/real/00804008.png  \n",
            "  inflating: dataset_signature_final/Dataset/dataset3/real/00805008.png  \n",
            "  inflating: dataset_signature_final/Dataset/dataset3/real/00901009.png  \n",
            "  inflating: dataset_signature_final/Dataset/dataset3/real/00902009.png  \n",
            "  inflating: dataset_signature_final/Dataset/dataset3/real/00903009.png  \n",
            "  inflating: dataset_signature_final/Dataset/dataset3/real/00904009.png  \n",
            "  inflating: dataset_signature_final/Dataset/dataset3/real/00905009.png  \n",
            "  inflating: dataset_signature_final/Dataset/dataset3/real/01001010.png  \n",
            "  inflating: dataset_signature_final/Dataset/dataset3/real/01002010.png  \n",
            "  inflating: dataset_signature_final/Dataset/dataset3/real/01003010.png  \n",
            "  inflating: dataset_signature_final/Dataset/dataset3/real/01004010.png  \n",
            "  inflating: dataset_signature_final/Dataset/dataset3/real/01005010.png  \n",
            "  inflating: dataset_signature_final/Dataset/dataset3/real/01101011.png  \n",
            "  inflating: dataset_signature_final/Dataset/dataset3/real/01102011.png  \n",
            "  inflating: dataset_signature_final/Dataset/dataset3/real/01103011.png  \n",
            "  inflating: dataset_signature_final/Dataset/dataset3/real/01104011.png  \n",
            "  inflating: dataset_signature_final/Dataset/dataset3/real/01105011.png  \n",
            "  inflating: dataset_signature_final/Dataset/dataset3/real/01201012.png  \n",
            "  inflating: dataset_signature_final/Dataset/dataset3/real/01202012.png  \n",
            "  inflating: dataset_signature_final/Dataset/dataset3/real/01203012.png  \n",
            "  inflating: dataset_signature_final/Dataset/dataset3/real/01204012.png  \n",
            "  inflating: dataset_signature_final/Dataset/dataset3/real/01205012.png  \n",
            "  inflating: dataset_signature_final/Dataset/dataset3/real/01301013.png  \n",
            "  inflating: dataset_signature_final/Dataset/dataset3/real/01302013.png  \n",
            "  inflating: dataset_signature_final/Dataset/dataset3/real/01303013.png  \n",
            "  inflating: dataset_signature_final/Dataset/dataset3/real/01304013.png  \n",
            "  inflating: dataset_signature_final/Dataset/dataset3/real/01305013.png  \n",
            "  inflating: dataset_signature_final/Dataset/dataset3/real/01401014.png  \n",
            "  inflating: dataset_signature_final/Dataset/dataset3/real/01402014.png  \n",
            "  inflating: dataset_signature_final/Dataset/dataset3/real/01403014.png  \n",
            "  inflating: dataset_signature_final/Dataset/dataset3/real/01404014.png  \n",
            "  inflating: dataset_signature_final/Dataset/dataset3/real/01405014.png  \n",
            "  inflating: dataset_signature_final/Dataset/dataset3/real/01501015.png  \n",
            "  inflating: dataset_signature_final/Dataset/dataset3/real/01502015.png  \n",
            "  inflating: dataset_signature_final/Dataset/dataset3/real/01503015.png  \n",
            "  inflating: dataset_signature_final/Dataset/dataset3/real/01504015.png  \n",
            "  inflating: dataset_signature_final/Dataset/dataset3/real/01505015.png  \n",
            "  inflating: dataset_signature_final/Dataset/dataset3/real/01601016.png  \n",
            "  inflating: dataset_signature_final/Dataset/dataset3/real/01602016.png  \n",
            "  inflating: dataset_signature_final/Dataset/dataset3/real/01603016.png  \n",
            "  inflating: dataset_signature_final/Dataset/dataset3/real/01604016.png  \n",
            "  inflating: dataset_signature_final/Dataset/dataset3/real/01605016.png  \n",
            "  inflating: dataset_signature_final/Dataset/dataset3/real/01701017.png  \n",
            "  inflating: dataset_signature_final/Dataset/dataset3/real/01702017.png  \n",
            "  inflating: dataset_signature_final/Dataset/dataset3/real/01703017.png  \n",
            "  inflating: dataset_signature_final/Dataset/dataset3/real/01704017.png  \n",
            "  inflating: dataset_signature_final/Dataset/dataset3/real/01705017.png  \n",
            "  inflating: dataset_signature_final/Dataset/dataset3/real/01801018.png  \n",
            "  inflating: dataset_signature_final/Dataset/dataset3/real/01802018.png  \n",
            "  inflating: dataset_signature_final/Dataset/dataset3/real/01803018.png  \n",
            "  inflating: dataset_signature_final/Dataset/dataset3/real/01804018.png  \n",
            "  inflating: dataset_signature_final/Dataset/dataset3/real/01805018.png  \n",
            "  inflating: dataset_signature_final/Dataset/dataset3/real/01901019.png  \n",
            "  inflating: dataset_signature_final/Dataset/dataset3/real/01902019.png  \n",
            "  inflating: dataset_signature_final/Dataset/dataset3/real/01903019.png  \n",
            "  inflating: dataset_signature_final/Dataset/dataset3/real/01904019.png  \n",
            "  inflating: dataset_signature_final/Dataset/dataset3/real/01905019.png  \n",
            "  inflating: dataset_signature_final/Dataset/dataset3/real/02001020.png  \n",
            "  inflating: dataset_signature_final/Dataset/dataset3/real/02002020.png  \n",
            "  inflating: dataset_signature_final/Dataset/dataset3/real/02003020.png  \n",
            "  inflating: dataset_signature_final/Dataset/dataset3/real/02004020.png  \n",
            "  inflating: dataset_signature_final/Dataset/dataset3/real/02005020.png  \n",
            "  inflating: dataset_signature_final/Dataset/dataset3/real/02101021.png  \n",
            "  inflating: dataset_signature_final/Dataset/dataset3/real/02102021.png  \n",
            "  inflating: dataset_signature_final/Dataset/dataset3/real/02103021.png  \n",
            "  inflating: dataset_signature_final/Dataset/dataset3/real/02104021.png  \n",
            "  inflating: dataset_signature_final/Dataset/dataset3/real/02105021.png  \n",
            "  inflating: dataset_signature_final/Dataset/dataset3/real/02201022.png  \n",
            "  inflating: dataset_signature_final/Dataset/dataset3/real/02202022.png  \n",
            "  inflating: dataset_signature_final/Dataset/dataset3/real/02203022.png  \n",
            "  inflating: dataset_signature_final/Dataset/dataset3/real/02204022.png  \n",
            "  inflating: dataset_signature_final/Dataset/dataset3/real/02205022.png  \n",
            "  inflating: dataset_signature_final/Dataset/dataset3/real/02301023.png  \n",
            "  inflating: dataset_signature_final/Dataset/dataset3/real/02302023.png  \n",
            "  inflating: dataset_signature_final/Dataset/dataset3/real/02303023.png  \n",
            "  inflating: dataset_signature_final/Dataset/dataset3/real/02304023.png  \n",
            "  inflating: dataset_signature_final/Dataset/dataset3/real/02305023.png  \n",
            "  inflating: dataset_signature_final/Dataset/dataset3/real/02401024.png  \n",
            "  inflating: dataset_signature_final/Dataset/dataset3/real/02402024.png  \n",
            "  inflating: dataset_signature_final/Dataset/dataset3/real/02403024.png  \n",
            "  inflating: dataset_signature_final/Dataset/dataset3/real/02404024.png  \n",
            "  inflating: dataset_signature_final/Dataset/dataset3/real/02405024.png  \n",
            "  inflating: dataset_signature_final/Dataset/dataset3/real/02501025.png  \n",
            "  inflating: dataset_signature_final/Dataset/dataset3/real/02502025.png  \n",
            "  inflating: dataset_signature_final/Dataset/dataset3/real/02503025.png  \n",
            "  inflating: dataset_signature_final/Dataset/dataset3/real/02504025.png  \n",
            "  inflating: dataset_signature_final/Dataset/dataset3/real/02505025.png  \n",
            "  inflating: dataset_signature_final/Dataset/dataset3/real/02601026.png  \n",
            "  inflating: dataset_signature_final/Dataset/dataset3/real/02602026.png  \n",
            "  inflating: dataset_signature_final/Dataset/dataset3/real/02603026.png  \n",
            "  inflating: dataset_signature_final/Dataset/dataset3/real/02604026.png  \n",
            "  inflating: dataset_signature_final/Dataset/dataset3/real/02605026.png  \n",
            "  inflating: dataset_signature_final/Dataset/dataset3/real/02701027.png  \n",
            "  inflating: dataset_signature_final/Dataset/dataset3/real/02702027.png  \n",
            "  inflating: dataset_signature_final/Dataset/dataset3/real/02703027.png  \n",
            "  inflating: dataset_signature_final/Dataset/dataset3/real/02704027.png  \n",
            "  inflating: dataset_signature_final/Dataset/dataset3/real/02705027.png  \n",
            "  inflating: dataset_signature_final/Dataset/dataset3/real/02801028.png  \n",
            "  inflating: dataset_signature_final/Dataset/dataset3/real/02802028.png  \n",
            "  inflating: dataset_signature_final/Dataset/dataset3/real/02803028.png  \n",
            "  inflating: dataset_signature_final/Dataset/dataset3/real/02804028.png  \n",
            "  inflating: dataset_signature_final/Dataset/dataset3/real/02805028.png  \n",
            "  inflating: dataset_signature_final/Dataset/dataset3/real/02901029.png  \n",
            "  inflating: dataset_signature_final/Dataset/dataset3/real/02902029.png  \n",
            "  inflating: dataset_signature_final/Dataset/dataset3/real/02903029.png  \n",
            "  inflating: dataset_signature_final/Dataset/dataset3/real/02904029.png  \n",
            "  inflating: dataset_signature_final/Dataset/dataset3/real/02905029.png  \n",
            "  inflating: dataset_signature_final/Dataset/dataset3/real/03001030.png  \n",
            "  inflating: dataset_signature_final/Dataset/dataset3/real/03002030.png  \n",
            "  inflating: dataset_signature_final/Dataset/dataset3/real/03003030.png  \n",
            "  inflating: dataset_signature_final/Dataset/dataset3/real/03004030.png  \n",
            "  inflating: dataset_signature_final/Dataset/dataset3/real/03005030.png  \n",
            "  inflating: dataset_signature_final/Dataset/dataset4/forge/00301002.png  \n",
            "  inflating: dataset_signature_final/Dataset/dataset4/forge/00301035.png  \n",
            "  inflating: dataset_signature_final/Dataset/dataset4/forge/00301046.png  \n",
            "  inflating: dataset_signature_final/Dataset/dataset4/forge/00302002.png  \n",
            "  inflating: dataset_signature_final/Dataset/dataset4/forge/00302035.png  \n",
            "  inflating: dataset_signature_final/Dataset/dataset4/forge/00302046.png  \n",
            "  inflating: dataset_signature_final/Dataset/dataset4/forge/00303002.png  \n",
            "  inflating: dataset_signature_final/Dataset/dataset4/forge/00303035.png  \n",
            "  inflating: dataset_signature_final/Dataset/dataset4/forge/00303046.png  \n",
            "  inflating: dataset_signature_final/Dataset/dataset4/forge/00304002.png  \n",
            "  inflating: dataset_signature_final/Dataset/dataset4/forge/00304035.png  \n",
            "  inflating: dataset_signature_final/Dataset/dataset4/forge/00304046.png  \n",
            "  inflating: dataset_signature_final/Dataset/dataset4/forge/00305002.png  \n",
            "  inflating: dataset_signature_final/Dataset/dataset4/forge/00305035.png  \n",
            "  inflating: dataset_signature_final/Dataset/dataset4/forge/00305046.png  \n",
            "  inflating: dataset_signature_final/Dataset/dataset4/forge/00401024.png  \n",
            "  inflating: dataset_signature_final/Dataset/dataset4/forge/00401044.png  \n",
            "  inflating: dataset_signature_final/Dataset/dataset4/forge/00401063.png  \n",
            "  inflating: dataset_signature_final/Dataset/dataset4/forge/00401092.png  \n",
            "  inflating: dataset_signature_final/Dataset/dataset4/forge/00402024.png  \n",
            "  inflating: dataset_signature_final/Dataset/dataset4/forge/00402044.png  \n",
            "  inflating: dataset_signature_final/Dataset/dataset4/forge/00402063.png  \n",
            "  inflating: dataset_signature_final/Dataset/dataset4/forge/00402092.png  \n",
            "  inflating: dataset_signature_final/Dataset/dataset4/forge/00403024.png  \n",
            "  inflating: dataset_signature_final/Dataset/dataset4/forge/00403044.png  \n",
            "  inflating: dataset_signature_final/Dataset/dataset4/forge/00403063.png  \n",
            "  inflating: dataset_signature_final/Dataset/dataset4/forge/00403092.png  \n",
            "  inflating: dataset_signature_final/Dataset/dataset4/forge/00404024.png  \n",
            "  inflating: dataset_signature_final/Dataset/dataset4/forge/00404044.png  \n",
            "  inflating: dataset_signature_final/Dataset/dataset4/forge/00404063.png  \n",
            "  inflating: dataset_signature_final/Dataset/dataset4/forge/00404092.png  \n",
            "  inflating: dataset_signature_final/Dataset/dataset4/forge/00405024.png  \n",
            "  inflating: dataset_signature_final/Dataset/dataset4/forge/00405044.png  \n",
            "  inflating: dataset_signature_final/Dataset/dataset4/forge/00405063.png  \n",
            "  inflating: dataset_signature_final/Dataset/dataset4/forge/00405092.png  \n",
            "  inflating: dataset_signature_final/Dataset/dataset4/forge/01601077.png  \n",
            "  inflating: dataset_signature_final/Dataset/dataset4/forge/01601089.png  \n",
            "  inflating: dataset_signature_final/Dataset/dataset4/forge/01602033.png  \n",
            "  inflating: dataset_signature_final/Dataset/dataset4/forge/01602077.png  \n",
            "  inflating: dataset_signature_final/Dataset/dataset4/forge/01602089.png  \n",
            "  inflating: dataset_signature_final/Dataset/dataset4/forge/01603033.png  \n",
            "  inflating: dataset_signature_final/Dataset/dataset4/forge/01603077.png  \n",
            "  inflating: dataset_signature_final/Dataset/dataset4/forge/01603089.png  \n",
            "  inflating: dataset_signature_final/Dataset/dataset4/forge/01604033.png  \n",
            "  inflating: dataset_signature_final/Dataset/dataset4/forge/01604077.png  \n",
            "  inflating: dataset_signature_final/Dataset/dataset4/forge/01604089.png  \n",
            "  inflating: dataset_signature_final/Dataset/dataset4/forge/01605033.png  \n",
            "  inflating: dataset_signature_final/Dataset/dataset4/forge/01605077.png  \n",
            "  inflating: dataset_signature_final/Dataset/dataset4/forge/01605089.png  \n",
            "  inflating: dataset_signature_final/Dataset/dataset4/forge/01701033.png  \n",
            "  inflating: dataset_signature_final/Dataset/dataset4/forge/02301008.png  \n",
            "  inflating: dataset_signature_final/Dataset/dataset4/forge/02301070.png  \n",
            "  inflating: dataset_signature_final/Dataset/dataset4/forge/02301093.png  \n",
            "  inflating: dataset_signature_final/Dataset/dataset4/forge/02302008.png  \n",
            "  inflating: dataset_signature_final/Dataset/dataset4/forge/02302070.png  \n",
            "  inflating: dataset_signature_final/Dataset/dataset4/forge/02302093.png  \n",
            "  inflating: dataset_signature_final/Dataset/dataset4/forge/02303008.png  \n",
            "  inflating: dataset_signature_final/Dataset/dataset4/forge/02303070.png  \n",
            "  inflating: dataset_signature_final/Dataset/dataset4/forge/02303093.png  \n",
            "  inflating: dataset_signature_final/Dataset/dataset4/forge/02304008.png  \n",
            "  inflating: dataset_signature_final/Dataset/dataset4/forge/02304070.png  \n",
            "  inflating: dataset_signature_final/Dataset/dataset4/forge/02304093.png  \n",
            "  inflating: dataset_signature_final/Dataset/dataset4/forge/02305008.png  \n",
            "  inflating: dataset_signature_final/Dataset/dataset4/forge/02305070.png  \n",
            "  inflating: dataset_signature_final/Dataset/dataset4/forge/02305093.png  \n",
            "  inflating: dataset_signature_final/Dataset/dataset4/forge/03201084.png  \n",
            "  inflating: dataset_signature_final/Dataset/dataset4/forge/03201085.png  \n",
            "  inflating: dataset_signature_final/Dataset/dataset4/forge/03201086.png  \n",
            "  inflating: dataset_signature_final/Dataset/dataset4/forge/03202084.png  \n",
            "  inflating: dataset_signature_final/Dataset/dataset4/forge/03202085.png  \n",
            "  inflating: dataset_signature_final/Dataset/dataset4/forge/03202086.png  \n",
            "  inflating: dataset_signature_final/Dataset/dataset4/forge/03203084.png  \n",
            "  inflating: dataset_signature_final/Dataset/dataset4/forge/03203085.png  \n",
            "  inflating: dataset_signature_final/Dataset/dataset4/forge/03203086.png  \n",
            "  inflating: dataset_signature_final/Dataset/dataset4/forge/03204084.png  \n",
            "  inflating: dataset_signature_final/Dataset/dataset4/forge/03204085.png  \n",
            "  inflating: dataset_signature_final/Dataset/dataset4/forge/03204086.png  \n",
            "  inflating: dataset_signature_final/Dataset/dataset4/forge/03205084.png  \n",
            "  inflating: dataset_signature_final/Dataset/dataset4/forge/03205085.png  \n",
            "  inflating: dataset_signature_final/Dataset/dataset4/forge/03205086.png  \n",
            "  inflating: dataset_signature_final/Dataset/dataset4/forge/06101016.png  \n",
            "  inflating: dataset_signature_final/Dataset/dataset4/forge/06101071.png  \n",
            "  inflating: dataset_signature_final/Dataset/dataset4/forge/06102016.png  \n",
            "  inflating: dataset_signature_final/Dataset/dataset4/forge/06102071.png  \n",
            "  inflating: dataset_signature_final/Dataset/dataset4/forge/06103016.png  \n",
            "  inflating: dataset_signature_final/Dataset/dataset4/forge/06103071.png  \n",
            "  inflating: dataset_signature_final/Dataset/dataset4/forge/06104016.png  \n",
            "  inflating: dataset_signature_final/Dataset/dataset4/forge/06104071.png  \n",
            "  inflating: dataset_signature_final/Dataset/dataset4/forge/06105016.png  \n",
            "  inflating: dataset_signature_final/Dataset/dataset4/forge/06105071.png  \n",
            "  inflating: dataset_signature_final/Dataset/dataset4/real1/00201002.png  \n",
            "  inflating: dataset_signature_final/Dataset/dataset4/real1/00202002.png  \n",
            "  inflating: dataset_signature_final/Dataset/dataset4/real1/00203002.png  \n",
            "  inflating: dataset_signature_final/Dataset/dataset4/real1/00204002.png  \n",
            "  inflating: dataset_signature_final/Dataset/dataset4/real1/00205002.png  \n",
            "  inflating: dataset_signature_final/Dataset/dataset4/real1/00801008.png  \n",
            "  inflating: dataset_signature_final/Dataset/dataset4/real1/00802008.png  \n",
            "  inflating: dataset_signature_final/Dataset/dataset4/real1/00803008.png  \n",
            "  inflating: dataset_signature_final/Dataset/dataset4/real1/00804008.png  \n",
            "  inflating: dataset_signature_final/Dataset/dataset4/real1/00805008.png  \n",
            "  inflating: dataset_signature_final/Dataset/dataset4/real1/01601016.png  \n",
            "  inflating: dataset_signature_final/Dataset/dataset4/real1/01602016.png  \n",
            "  inflating: dataset_signature_final/Dataset/dataset4/real1/01603016.png  \n",
            "  inflating: dataset_signature_final/Dataset/dataset4/real1/01604016.png  \n",
            "  inflating: dataset_signature_final/Dataset/dataset4/real1/01605016.png  \n",
            "  inflating: dataset_signature_final/Dataset/dataset4/real1/02401024.png  \n",
            "  inflating: dataset_signature_final/Dataset/dataset4/real1/02402024.png  \n",
            "  inflating: dataset_signature_final/Dataset/dataset4/real1/02403024.png  \n",
            "  inflating: dataset_signature_final/Dataset/dataset4/real1/02404024.png  \n",
            "  inflating: dataset_signature_final/Dataset/dataset4/real1/02405024.png  \n",
            "  inflating: dataset_signature_final/Dataset/dataset4/real1/03301033.png  \n",
            "  inflating: dataset_signature_final/Dataset/dataset4/real1/03302033.png  \n",
            "  inflating: dataset_signature_final/Dataset/dataset4/real1/03303033.png  \n",
            "  inflating: dataset_signature_final/Dataset/dataset4/real1/03304033.png  \n",
            "  inflating: dataset_signature_final/Dataset/dataset4/real1/03305033.png  \n",
            "  inflating: dataset_signature_final/Dataset/dataset4/real1/03501035.png  \n",
            "  inflating: dataset_signature_final/Dataset/dataset4/real1/03502035.png  \n",
            "  inflating: dataset_signature_final/Dataset/dataset4/real1/03503035.png  \n",
            "  inflating: dataset_signature_final/Dataset/dataset4/real1/03504035.png  \n",
            "  inflating: dataset_signature_final/Dataset/dataset4/real1/03505035.png  \n",
            "  inflating: dataset_signature_final/Dataset/dataset4/real1/04401044.png  \n",
            "  inflating: dataset_signature_final/Dataset/dataset4/real1/04402044.png  \n",
            "  inflating: dataset_signature_final/Dataset/dataset4/real1/04403044.png  \n",
            "  inflating: dataset_signature_final/Dataset/dataset4/real1/04404044.png  \n",
            "  inflating: dataset_signature_final/Dataset/dataset4/real1/04405044.png  \n",
            "  inflating: dataset_signature_final/Dataset/dataset4/real1/04601046.png  \n",
            "  inflating: dataset_signature_final/Dataset/dataset4/real1/04602046.png  \n",
            "  inflating: dataset_signature_final/Dataset/dataset4/real1/04603046.png  \n",
            "  inflating: dataset_signature_final/Dataset/dataset4/real1/04604046.png  \n",
            "  inflating: dataset_signature_final/Dataset/dataset4/real1/04605046.png  \n",
            "  inflating: dataset_signature_final/Dataset/dataset4/real1/06301063.png  \n",
            "  inflating: dataset_signature_final/Dataset/dataset4/real1/06302063.png  \n",
            "  inflating: dataset_signature_final/Dataset/dataset4/real1/06303063.png  \n",
            "  inflating: dataset_signature_final/Dataset/dataset4/real1/06304063.png  \n",
            "  inflating: dataset_signature_final/Dataset/dataset4/real1/06305063.png  \n",
            "  inflating: dataset_signature_final/Dataset/dataset4/real1/07001070.png  \n",
            "  inflating: dataset_signature_final/Dataset/dataset4/real1/07002070.png  \n",
            "  inflating: dataset_signature_final/Dataset/dataset4/real1/07003070.png  \n",
            "  inflating: dataset_signature_final/Dataset/dataset4/real1/07004070.png  \n",
            "  inflating: dataset_signature_final/Dataset/dataset4/real1/07005070.png  \n",
            "  inflating: dataset_signature_final/Dataset/dataset4/real1/07101071.png  \n",
            "  inflating: dataset_signature_final/Dataset/dataset4/real1/07102071.png  \n",
            "  inflating: dataset_signature_final/Dataset/dataset4/real1/07103071.png  \n",
            "  inflating: dataset_signature_final/Dataset/dataset4/real1/07104071.png  \n",
            "  inflating: dataset_signature_final/Dataset/dataset4/real1/07105071.png  \n",
            "  inflating: dataset_signature_final/Dataset/dataset4/real1/07701077.png  \n",
            "  inflating: dataset_signature_final/Dataset/dataset4/real1/07702077.png  \n",
            "  inflating: dataset_signature_final/Dataset/dataset4/real1/07703077.png  \n",
            "  inflating: dataset_signature_final/Dataset/dataset4/real1/07704077.png  \n",
            "  inflating: dataset_signature_final/Dataset/dataset4/real1/07705077.png  \n",
            "  inflating: dataset_signature_final/Dataset/dataset4/real1/08401084.png  \n",
            "  inflating: dataset_signature_final/Dataset/dataset4/real1/08402084.png  \n",
            "  inflating: dataset_signature_final/Dataset/dataset4/real1/08403084.png  \n",
            "  inflating: dataset_signature_final/Dataset/dataset4/real1/08404084.png  \n",
            "  inflating: dataset_signature_final/Dataset/dataset4/real1/08405084.png  \n",
            "  inflating: dataset_signature_final/Dataset/dataset4/real1/08501085.png  \n",
            "  inflating: dataset_signature_final/Dataset/dataset4/real1/08502085.png  \n",
            "  inflating: dataset_signature_final/Dataset/dataset4/real1/08503085.png  \n",
            "  inflating: dataset_signature_final/Dataset/dataset4/real1/08504085.png  \n",
            "  inflating: dataset_signature_final/Dataset/dataset4/real1/08505085.png  \n",
            "  inflating: dataset_signature_final/Dataset/dataset4/real1/08601086.png  \n",
            "  inflating: dataset_signature_final/Dataset/dataset4/real1/08602086.png  \n",
            "  inflating: dataset_signature_final/Dataset/dataset4/real1/08603086.png  \n",
            "  inflating: dataset_signature_final/Dataset/dataset4/real1/08604086.png  \n",
            "  inflating: dataset_signature_final/Dataset/dataset4/real1/08605086.png  \n",
            "  inflating: dataset_signature_final/Dataset/dataset4/real1/08901089.png  \n",
            "  inflating: dataset_signature_final/Dataset/dataset4/real1/08902089.png  \n",
            "  inflating: dataset_signature_final/Dataset/dataset4/real1/08903089.png  \n",
            "  inflating: dataset_signature_final/Dataset/dataset4/real1/08904089.png  \n",
            "  inflating: dataset_signature_final/Dataset/dataset4/real1/08905089.png  \n",
            "  inflating: dataset_signature_final/Dataset/dataset4/real1/09201092.png  \n",
            "  inflating: dataset_signature_final/Dataset/dataset4/real1/09202092.png  \n",
            "  inflating: dataset_signature_final/Dataset/dataset4/real1/09203092.png  \n",
            "  inflating: dataset_signature_final/Dataset/dataset4/real1/09204092.png  \n",
            "  inflating: dataset_signature_final/Dataset/dataset4/real1/09205092.png  \n",
            "  inflating: dataset_signature_final/Dataset/dataset4/real1/09301093.png  \n",
            "  inflating: dataset_signature_final/Dataset/dataset4/real1/09302093.png  \n",
            "  inflating: dataset_signature_final/Dataset/dataset4/real1/09303093.png  \n",
            "  inflating: dataset_signature_final/Dataset/dataset4/real1/09304093.png  \n",
            "  inflating: dataset_signature_final/Dataset/dataset4/real1/09305093.png  \n",
            "  inflating: sample_Signature/sample_Signature/README.txt.txt  \n",
            "  inflating: sample_Signature/sample_Signature/forged/NFI-00101014.png  \n",
            "  inflating: sample_Signature/sample_Signature/forged/NFI-00101019.png  \n",
            "  inflating: sample_Signature/sample_Signature/forged/NFI-00101025.PNG  \n",
            "  inflating: sample_Signature/sample_Signature/forged/NFI-00101026.PNG  \n",
            "  inflating: sample_Signature/sample_Signature/forged/NFI-00101027.PNG  \n",
            "  inflating: sample_Signature/sample_Signature/forged/NFI-00101028.PNG  \n",
            "  inflating: sample_Signature/sample_Signature/forged/NFI-00101029.PNG  \n",
            "  inflating: sample_Signature/sample_Signature/forged/NFI-00101030.PNG  \n",
            "  inflating: sample_Signature/sample_Signature/forged/NFI-00102014.png  \n",
            "  inflating: sample_Signature/sample_Signature/forged/NFI-00102019.png  \n",
            "  inflating: sample_Signature/sample_Signature/forged/NFI-00102025.PNG  \n",
            "  inflating: sample_Signature/sample_Signature/forged/NFI-00102026.PNG  \n",
            "  inflating: sample_Signature/sample_Signature/forged/NFI-00102027.PNG  \n",
            "  inflating: sample_Signature/sample_Signature/forged/NFI-00102028.PNG  \n",
            "  inflating: sample_Signature/sample_Signature/forged/NFI-00102029.PNG  \n",
            "  inflating: sample_Signature/sample_Signature/forged/NFI-00102030.PNG  \n",
            "  inflating: sample_Signature/sample_Signature/forged/NFI-00103014.png  \n",
            "  inflating: sample_Signature/sample_Signature/forged/NFI-00103019.png  \n",
            "  inflating: sample_Signature/sample_Signature/forged/NFI-00103025.PNG  \n",
            "  inflating: sample_Signature/sample_Signature/forged/NFI-00103026.PNG  \n",
            "  inflating: sample_Signature/sample_Signature/forged/NFI-00103027.PNG  \n",
            "  inflating: sample_Signature/sample_Signature/forged/NFI-00103028.PNG  \n",
            "  inflating: sample_Signature/sample_Signature/forged/NFI-00103029.PNG  \n",
            "  inflating: sample_Signature/sample_Signature/forged/NFI-00103030.PNG  \n",
            "  inflating: sample_Signature/sample_Signature/forged/NFI-00104014.png  \n",
            "  inflating: sample_Signature/sample_Signature/forged/NFI-00104019.png  \n",
            "  inflating: sample_Signature/sample_Signature/forged/NFI-00104025.PNG  \n",
            "  inflating: sample_Signature/sample_Signature/forged/NFI-00104026.PNG  \n",
            "  inflating: sample_Signature/sample_Signature/forged/NFI-00104027.PNG  \n",
            "  inflating: sample_Signature/sample_Signature/forged/NFI-00104028.PNG  \n",
            "  inflating: sample_Signature/sample_Signature/forged/NFI-00104029.PNG  \n",
            "  inflating: sample_Signature/sample_Signature/forged/NFI-00104030.PNG  \n",
            "  inflating: sample_Signature/sample_Signature/forged/NFI-00105014.png  \n",
            "  inflating: sample_Signature/sample_Signature/forged/NFI-00105019.png  \n",
            "  inflating: sample_Signature/sample_Signature/forged/NFI-00105025.PNG  \n",
            "  inflating: sample_Signature/sample_Signature/forged/NFI-00105026.PNG  \n",
            "  inflating: sample_Signature/sample_Signature/forged/NFI-00105027.PNG  \n",
            "  inflating: sample_Signature/sample_Signature/forged/NFI-00105028.PNG  \n",
            "  inflating: sample_Signature/sample_Signature/forged/NFI-00105029.PNG  \n",
            "  inflating: sample_Signature/sample_Signature/forged/NFI-00105030.PNG  \n",
            "  inflating: sample_Signature/sample_Signature/forged/NFI-00301001.png  \n",
            "  inflating: sample_Signature/sample_Signature/forged/NFI-00301002.png  \n",
            "  inflating: sample_Signature/sample_Signature/forged/NFI-00301005.png  \n",
            "  inflating: sample_Signature/sample_Signature/forged/NFI-00301009.png  \n",
            "  inflating: sample_Signature/sample_Signature/forged/NFI-00301018.png  \n",
            "  inflating: sample_Signature/sample_Signature/forged/NFI-00302001.png  \n",
            "  inflating: sample_Signature/sample_Signature/forged/NFI-00302002.png  \n",
            "  inflating: sample_Signature/sample_Signature/forged/NFI-00302005.png  \n",
            "  inflating: sample_Signature/sample_Signature/forged/NFI-00302009.png  \n",
            "  inflating: sample_Signature/sample_Signature/forged/NFI-00302018.png  \n",
            "  inflating: sample_Signature/sample_Signature/forged/NFI-00303001.png  \n",
            "  inflating: sample_Signature/sample_Signature/forged/NFI-00303002.png  \n",
            "  inflating: sample_Signature/sample_Signature/forged/NFI-00303005.png  \n",
            "  inflating: sample_Signature/sample_Signature/forged/NFI-00303009.png  \n",
            "  inflating: sample_Signature/sample_Signature/forged/NFI-00303018.png  \n",
            "  inflating: sample_Signature/sample_Signature/forged/NFI-00304001.png  \n",
            "  inflating: sample_Signature/sample_Signature/forged/NFI-00304002.png  \n",
            "  inflating: sample_Signature/sample_Signature/forged/NFI-00304005.png  \n",
            "  inflating: sample_Signature/sample_Signature/forged/NFI-00304009.png  \n",
            "  inflating: sample_Signature/sample_Signature/forged/NFI-00304018.png  \n",
            "  inflating: sample_Signature/sample_Signature/forged/NFI-00305001.png  \n",
            "  inflating: sample_Signature/sample_Signature/forged/NFI-00305002.png  \n",
            "  inflating: sample_Signature/sample_Signature/forged/NFI-00305005.png  \n",
            "  inflating: sample_Signature/sample_Signature/forged/NFI-00305009.png  \n",
            "  inflating: sample_Signature/sample_Signature/forged/NFI-00305018.png  \n",
            "  inflating: sample_Signature/sample_Signature/forged/NFI-00401003.png  \n",
            "  inflating: sample_Signature/sample_Signature/forged/NFI-00401007.png  \n",
            "  inflating: sample_Signature/sample_Signature/forged/NFI-00401013.png  \n",
            "  inflating: sample_Signature/sample_Signature/forged/NFI-00401024.png  \n",
            "  inflating: sample_Signature/sample_Signature/forged/NFI-00402003.png  \n",
            "  inflating: sample_Signature/sample_Signature/forged/NFI-00402007.png  \n",
            "  inflating: sample_Signature/sample_Signature/forged/NFI-00402013.png  \n",
            "  inflating: sample_Signature/sample_Signature/forged/NFI-00402024.png  \n",
            "  inflating: sample_Signature/sample_Signature/forged/NFI-00403003.png  \n",
            "  inflating: sample_Signature/sample_Signature/forged/NFI-00403007.png  \n",
            "  inflating: sample_Signature/sample_Signature/forged/NFI-00403013.png  \n",
            "  inflating: sample_Signature/sample_Signature/forged/NFI-00403024.png  \n",
            "  inflating: sample_Signature/sample_Signature/forged/NFI-00404003.png  \n",
            "  inflating: sample_Signature/sample_Signature/forged/NFI-00404007.png  \n",
            "  inflating: sample_Signature/sample_Signature/forged/NFI-00404013.png  \n",
            "  inflating: sample_Signature/sample_Signature/forged/NFI-00404024.png  \n",
            "  inflating: sample_Signature/sample_Signature/forged/NFI-00405003.png  \n",
            "  inflating: sample_Signature/sample_Signature/forged/NFI-00405007.png  \n",
            "  inflating: sample_Signature/sample_Signature/forged/NFI-00405013.png  \n",
            "  inflating: sample_Signature/sample_Signature/forged/NFI-00405024.png  \n",
            "  inflating: sample_Signature/sample_Signature/forged/NFI-00501015.png  \n",
            "  inflating: sample_Signature/sample_Signature/forged/NFI-00501022.png  \n",
            "  inflating: sample_Signature/sample_Signature/forged/NFI-00502015.png  \n",
            "  inflating: sample_Signature/sample_Signature/forged/NFI-00502022.png  \n",
            "  inflating: sample_Signature/sample_Signature/forged/NFI-00503015.png  \n",
            "  inflating: sample_Signature/sample_Signature/forged/NFI-00503022.png  \n",
            "  inflating: sample_Signature/sample_Signature/forged/NFI-00504015.png  \n",
            "  inflating: sample_Signature/sample_Signature/forged/NFI-00504022.png  \n",
            "  inflating: sample_Signature/sample_Signature/forged/NFI-00505015.png  \n",
            "  inflating: sample_Signature/sample_Signature/forged/NFI-00505022.png  \n",
            "  inflating: sample_Signature/sample_Signature/forged/NFI-00701011.png  \n",
            "  inflating: sample_Signature/sample_Signature/forged/NFI-00701023.png  \n",
            "  inflating: sample_Signature/sample_Signature/forged/NFI-00702011.png  \n",
            "  inflating: sample_Signature/sample_Signature/forged/NFI-00702023.png  \n",
            "  inflating: sample_Signature/sample_Signature/forged/NFI-00703011.png  \n",
            "  inflating: sample_Signature/sample_Signature/forged/NFI-00703023.png  \n",
            "  inflating: sample_Signature/sample_Signature/forged/NFI-00704011.png  \n",
            "  inflating: sample_Signature/sample_Signature/forged/NFI-00704023.png  \n",
            "  inflating: sample_Signature/sample_Signature/forged/NFI-00705011.png  \n",
            "  inflating: sample_Signature/sample_Signature/forged/NFI-00705023.png  \n",
            "  inflating: sample_Signature/sample_Signature/forged/NFI-01101012.png  \n",
            "  inflating: sample_Signature/sample_Signature/forged/NFI-01101016.png  \n",
            "  inflating: sample_Signature/sample_Signature/forged/NFI-01102012.png  \n",
            "  inflating: sample_Signature/sample_Signature/forged/NFI-01102016.png  \n",
            "  inflating: sample_Signature/sample_Signature/forged/NFI-01103012.png  \n",
            "  inflating: sample_Signature/sample_Signature/forged/NFI-01103016.png  \n",
            "  inflating: sample_Signature/sample_Signature/forged/NFI-01104012.png  \n",
            "  inflating: sample_Signature/sample_Signature/forged/NFI-01104016.png  \n",
            "  inflating: sample_Signature/sample_Signature/forged/NFI-01105012.png  \n",
            "  inflating: sample_Signature/sample_Signature/forged/NFI-01105016.png  \n",
            "  inflating: sample_Signature/sample_Signature/forged/NFI-01201021.png  \n",
            "  inflating: sample_Signature/sample_Signature/forged/NFI-01202021.png  \n",
            "  inflating: sample_Signature/sample_Signature/forged/NFI-01203021.png  \n",
            "  inflating: sample_Signature/sample_Signature/forged/NFI-01204021.png  \n",
            "  inflating: sample_Signature/sample_Signature/forged/NFI-01205021.png  \n",
            "  inflating: sample_Signature/sample_Signature/forged/NFI-01301017.png  \n",
            "  inflating: sample_Signature/sample_Signature/forged/NFI-01302017.png  \n",
            "  inflating: sample_Signature/sample_Signature/forged/NFI-01303017.png  \n",
            "  inflating: sample_Signature/sample_Signature/forged/NFI-01304017.png  \n",
            "  inflating: sample_Signature/sample_Signature/forged/NFI-01305017.png  \n",
            "  inflating: sample_Signature/sample_Signature/forged/NFI-01701020.png  \n",
            "  inflating: sample_Signature/sample_Signature/forged/NFI-01702020.png  \n",
            "  inflating: sample_Signature/sample_Signature/forged/NFI-01703020.png  \n",
            "  inflating: sample_Signature/sample_Signature/forged/NFI-01704020.png  \n",
            "  inflating: sample_Signature/sample_Signature/forged/NFI-01705020.png  \n",
            "  inflating: sample_Signature/sample_Signature/forged/NFI-02301008.png  \n",
            "  inflating: sample_Signature/sample_Signature/forged/NFI-02303008.png  \n",
            "  inflating: sample_Signature/sample_Signature/forged/NFI-02304008.png  \n",
            "  inflating: sample_Signature/sample_Signature/forged/NFI-02305008.png  \n",
            "  inflating: sample_Signature/sample_Signature/forged/NFI-02306008.png  \n",
            "  inflating: sample_Signature/sample_Signature/forged/NFI-02501010.png  \n",
            "  inflating: sample_Signature/sample_Signature/forged/NFI-02502010.png  \n",
            "  inflating: sample_Signature/sample_Signature/forged/NFI-02503010.png  \n",
            "  inflating: sample_Signature/sample_Signature/forged/NFI-02504010.png  \n",
            "  inflating: sample_Signature/sample_Signature/forged/NFI-02505009.png  \n",
            "  inflating: sample_Signature/sample_Signature/forged/NFI-03301006.png  \n",
            "  inflating: sample_Signature/sample_Signature/forged/NFI-03302006.png  \n",
            "  inflating: sample_Signature/sample_Signature/forged/NFI-03303006.png  \n",
            "  inflating: sample_Signature/sample_Signature/forged/NFI-03304006.png  \n",
            "  inflating: sample_Signature/sample_Signature/forged/NFI-03305006.png  \n",
            "  inflating: sample_Signature/sample_Signature/forged/NFI-08801004.png  \n",
            "  inflating: sample_Signature/sample_Signature/forged/NFI-08802004.png  \n",
            "  inflating: sample_Signature/sample_Signature/forged/NFI-08803004.png  \n",
            "  inflating: sample_Signature/sample_Signature/forged/NFI-08804004.png  \n",
            "  inflating: sample_Signature/sample_Signature/forged/NFI-08805004.png  \n",
            "  inflating: sample_Signature/sample_Signature/genuine/NFI-00101001.png  \n",
            "  inflating: sample_Signature/sample_Signature/genuine/NFI-00102001.png  \n",
            "  inflating: sample_Signature/sample_Signature/genuine/NFI-00103001.png  \n",
            "  inflating: sample_Signature/sample_Signature/genuine/NFI-00104001.png  \n",
            "  inflating: sample_Signature/sample_Signature/genuine/NFI-00105001.png  \n",
            "  inflating: sample_Signature/sample_Signature/genuine/NFI-00201002.png  \n",
            "  inflating: sample_Signature/sample_Signature/genuine/NFI-00202002.png  \n",
            "  inflating: sample_Signature/sample_Signature/genuine/NFI-00203002.png  \n",
            "  inflating: sample_Signature/sample_Signature/genuine/NFI-00204002.png  \n",
            "  inflating: sample_Signature/sample_Signature/genuine/NFI-00205002.png  \n",
            "  inflating: sample_Signature/sample_Signature/genuine/NFI-00301003.png  \n",
            "  inflating: sample_Signature/sample_Signature/genuine/NFI-00302003.png  \n",
            "  inflating: sample_Signature/sample_Signature/genuine/NFI-00303003.png  \n",
            "  inflating: sample_Signature/sample_Signature/genuine/NFI-00304003.png  \n",
            "  inflating: sample_Signature/sample_Signature/genuine/NFI-00305003.png  \n",
            "  inflating: sample_Signature/sample_Signature/genuine/NFI-00401004.png  \n",
            "  inflating: sample_Signature/sample_Signature/genuine/NFI-00402004.png  \n",
            "  inflating: sample_Signature/sample_Signature/genuine/NFI-00403004.png  \n",
            "  inflating: sample_Signature/sample_Signature/genuine/NFI-00404004.png  \n",
            "  inflating: sample_Signature/sample_Signature/genuine/NFI-00405004.png  \n",
            "  inflating: sample_Signature/sample_Signature/genuine/NFI-00501005.png  \n",
            "  inflating: sample_Signature/sample_Signature/genuine/NFI-00502005.png  \n",
            "  inflating: sample_Signature/sample_Signature/genuine/NFI-00503005.png  \n",
            "  inflating: sample_Signature/sample_Signature/genuine/NFI-00504005.png  \n",
            "  inflating: sample_Signature/sample_Signature/genuine/NFI-00505005.png  \n",
            "  inflating: sample_Signature/sample_Signature/genuine/NFI-00601006.png  \n",
            "  inflating: sample_Signature/sample_Signature/genuine/NFI-00602006.png  \n",
            "  inflating: sample_Signature/sample_Signature/genuine/NFI-00603006.png  \n",
            "  inflating: sample_Signature/sample_Signature/genuine/NFI-00604006.png  \n",
            "  inflating: sample_Signature/sample_Signature/genuine/NFI-00605006.png  \n",
            "  inflating: sample_Signature/sample_Signature/genuine/NFI-00701007.png  \n",
            "  inflating: sample_Signature/sample_Signature/genuine/NFI-00702007.png  \n",
            "  inflating: sample_Signature/sample_Signature/genuine/NFI-00703007.png  \n",
            "  inflating: sample_Signature/sample_Signature/genuine/NFI-00704007.png  \n",
            "  inflating: sample_Signature/sample_Signature/genuine/NFI-00705007.png  \n",
            "  inflating: sample_Signature/sample_Signature/genuine/NFI-00801008.png  \n",
            "  inflating: sample_Signature/sample_Signature/genuine/NFI-00802008.png  \n",
            "  inflating: sample_Signature/sample_Signature/genuine/NFI-00803008.png  \n",
            "  inflating: sample_Signature/sample_Signature/genuine/NFI-00804008.png  \n",
            "  inflating: sample_Signature/sample_Signature/genuine/NFI-00805008.png  \n",
            "  inflating: sample_Signature/sample_Signature/genuine/NFI-00901009.png  \n",
            "  inflating: sample_Signature/sample_Signature/genuine/NFI-00902009.png  \n",
            "  inflating: sample_Signature/sample_Signature/genuine/NFI-00903009.png  \n",
            "  inflating: sample_Signature/sample_Signature/genuine/NFI-00904009.png  \n",
            "  inflating: sample_Signature/sample_Signature/genuine/NFI-00905009.png  \n",
            "  inflating: sample_Signature/sample_Signature/genuine/NFI-01001010.png  \n",
            "  inflating: sample_Signature/sample_Signature/genuine/NFI-01002010.png  \n",
            "  inflating: sample_Signature/sample_Signature/genuine/NFI-01003010.png  \n",
            "  inflating: sample_Signature/sample_Signature/genuine/NFI-01004010.png  \n",
            "  inflating: sample_Signature/sample_Signature/genuine/NFI-01005010.png  \n",
            "  inflating: sample_Signature/sample_Signature/genuine/NFI-01101011.png  \n",
            "  inflating: sample_Signature/sample_Signature/genuine/NFI-01102011.png  \n",
            "  inflating: sample_Signature/sample_Signature/genuine/NFI-01103011.png  \n",
            "  inflating: sample_Signature/sample_Signature/genuine/NFI-01104011.png  \n",
            "  inflating: sample_Signature/sample_Signature/genuine/NFI-01105011.png  \n",
            "  inflating: sample_Signature/sample_Signature/genuine/NFI-01201012.png  \n",
            "  inflating: sample_Signature/sample_Signature/genuine/NFI-01202012.png  \n",
            "  inflating: sample_Signature/sample_Signature/genuine/NFI-01203012.png  \n",
            "  inflating: sample_Signature/sample_Signature/genuine/NFI-01204012.png  \n",
            "  inflating: sample_Signature/sample_Signature/genuine/NFI-01205012.png  \n",
            "  inflating: sample_Signature/sample_Signature/genuine/NFI-01301013.png  \n",
            "  inflating: sample_Signature/sample_Signature/genuine/NFI-01302013.png  \n",
            "  inflating: sample_Signature/sample_Signature/genuine/NFI-01303013.png  \n",
            "  inflating: sample_Signature/sample_Signature/genuine/NFI-01304013.png  \n",
            "  inflating: sample_Signature/sample_Signature/genuine/NFI-01305013.png  \n",
            "  inflating: sample_Signature/sample_Signature/genuine/NFI-01401014.png  \n",
            "  inflating: sample_Signature/sample_Signature/genuine/NFI-01402014.png  \n",
            "  inflating: sample_Signature/sample_Signature/genuine/NFI-01403014.png  \n",
            "  inflating: sample_Signature/sample_Signature/genuine/NFI-01404014.png  \n",
            "  inflating: sample_Signature/sample_Signature/genuine/NFI-01405014.png  \n",
            "  inflating: sample_Signature/sample_Signature/genuine/NFI-01501015.png  \n",
            "  inflating: sample_Signature/sample_Signature/genuine/NFI-01502015.png  \n",
            "  inflating: sample_Signature/sample_Signature/genuine/NFI-01503015.png  \n",
            "  inflating: sample_Signature/sample_Signature/genuine/NFI-01504015.png  \n",
            "  inflating: sample_Signature/sample_Signature/genuine/NFI-01505015.png  \n",
            "  inflating: sample_Signature/sample_Signature/genuine/NFI-01601016.png  \n",
            "  inflating: sample_Signature/sample_Signature/genuine/NFI-01602016.png  \n",
            "  inflating: sample_Signature/sample_Signature/genuine/NFI-01603016.png  \n",
            "  inflating: sample_Signature/sample_Signature/genuine/NFI-01604016.png  \n",
            "  inflating: sample_Signature/sample_Signature/genuine/NFI-01605016.png  \n",
            "  inflating: sample_Signature/sample_Signature/genuine/NFI-01701017.png  \n",
            "  inflating: sample_Signature/sample_Signature/genuine/NFI-01702017.png  \n",
            "  inflating: sample_Signature/sample_Signature/genuine/NFI-01703017.png  \n",
            "  inflating: sample_Signature/sample_Signature/genuine/NFI-01704017.png  \n",
            "  inflating: sample_Signature/sample_Signature/genuine/NFI-01705017.png  \n",
            "  inflating: sample_Signature/sample_Signature/genuine/NFI-01801018.png  \n",
            "  inflating: sample_Signature/sample_Signature/genuine/NFI-01802018.png  \n",
            "  inflating: sample_Signature/sample_Signature/genuine/NFI-01803018.png  \n",
            "  inflating: sample_Signature/sample_Signature/genuine/NFI-01804018.png  \n",
            "  inflating: sample_Signature/sample_Signature/genuine/NFI-01805018.png  \n",
            "  inflating: sample_Signature/sample_Signature/genuine/NFI-01901019.png  \n",
            "  inflating: sample_Signature/sample_Signature/genuine/NFI-01902019.png  \n",
            "  inflating: sample_Signature/sample_Signature/genuine/NFI-01903019.png  \n",
            "  inflating: sample_Signature/sample_Signature/genuine/NFI-01904019.png  \n",
            "  inflating: sample_Signature/sample_Signature/genuine/NFI-01905019.png  \n",
            "  inflating: sample_Signature/sample_Signature/genuine/NFI-02001020.png  \n",
            "  inflating: sample_Signature/sample_Signature/genuine/NFI-02002020.png  \n",
            "  inflating: sample_Signature/sample_Signature/genuine/NFI-02003020.png  \n",
            "  inflating: sample_Signature/sample_Signature/genuine/NFI-02004020.png  \n",
            "  inflating: sample_Signature/sample_Signature/genuine/NFI-02005020.png  \n",
            "  inflating: sample_Signature/sample_Signature/genuine/NFI-02101021.png  \n",
            "  inflating: sample_Signature/sample_Signature/genuine/NFI-02102021.png  \n",
            "  inflating: sample_Signature/sample_Signature/genuine/NFI-02103021.png  \n",
            "  inflating: sample_Signature/sample_Signature/genuine/NFI-02104021.png  \n",
            "  inflating: sample_Signature/sample_Signature/genuine/NFI-02105021.png  \n",
            "  inflating: sample_Signature/sample_Signature/genuine/NFI-02201022.png  \n",
            "  inflating: sample_Signature/sample_Signature/genuine/NFI-02202022.png  \n",
            "  inflating: sample_Signature/sample_Signature/genuine/NFI-02203022.png  \n",
            "  inflating: sample_Signature/sample_Signature/genuine/NFI-02204022.png  \n",
            "  inflating: sample_Signature/sample_Signature/genuine/NFI-02205022.png  \n",
            "  inflating: sample_Signature/sample_Signature/genuine/NFI-02301023.png  \n",
            "  inflating: sample_Signature/sample_Signature/genuine/NFI-02302023.png  \n",
            "  inflating: sample_Signature/sample_Signature/genuine/NFI-02303023.png  \n",
            "  inflating: sample_Signature/sample_Signature/genuine/NFI-02304023.png  \n",
            "  inflating: sample_Signature/sample_Signature/genuine/NFI-02305023.png  \n",
            "  inflating: sample_Signature/sample_Signature/genuine/NFI-02401024.png  \n",
            "  inflating: sample_Signature/sample_Signature/genuine/NFI-02402024.png  \n",
            "  inflating: sample_Signature/sample_Signature/genuine/NFI-02403024.png  \n",
            "  inflating: sample_Signature/sample_Signature/genuine/NFI-02404024.png  \n",
            "  inflating: sample_Signature/sample_Signature/genuine/NFI-02405024.png  \n",
            "  inflating: sample_Signature/sample_Signature/genuine/NFI-02501025.PNG  \n",
            "  inflating: sample_Signature/sample_Signature/genuine/NFI-02502025.PNG  \n",
            "  inflating: sample_Signature/sample_Signature/genuine/NFI-02503025.PNG  \n",
            "  inflating: sample_Signature/sample_Signature/genuine/NFI-02504025.PNG  \n",
            "  inflating: sample_Signature/sample_Signature/genuine/NFI-02505025.PNG  \n",
            "  inflating: sample_Signature/sample_Signature/genuine/NFI-02601026.PNG  \n",
            "  inflating: sample_Signature/sample_Signature/genuine/NFI-02602026.PNG  \n",
            "  inflating: sample_Signature/sample_Signature/genuine/NFI-02603026.PNG  \n",
            "  inflating: sample_Signature/sample_Signature/genuine/NFI-02604026.PNG  \n",
            "  inflating: sample_Signature/sample_Signature/genuine/NFI-02605026.PNG  \n",
            "  inflating: sample_Signature/sample_Signature/genuine/NFI-02701027.PNG  \n",
            "  inflating: sample_Signature/sample_Signature/genuine/NFI-02702027.PNG  \n",
            "  inflating: sample_Signature/sample_Signature/genuine/NFI-02703027.PNG  \n",
            "  inflating: sample_Signature/sample_Signature/genuine/NFI-02704027.PNG  \n",
            "  inflating: sample_Signature/sample_Signature/genuine/NFI-02705027.PNG  \n",
            "  inflating: sample_Signature/sample_Signature/genuine/NFI-02801028.PNG  \n",
            "  inflating: sample_Signature/sample_Signature/genuine/NFI-02802028.PNG  \n",
            "  inflating: sample_Signature/sample_Signature/genuine/NFI-02803028.PNG  \n",
            "  inflating: sample_Signature/sample_Signature/genuine/NFI-02804028.PNG  \n",
            "  inflating: sample_Signature/sample_Signature/genuine/NFI-02805028.PNG  \n",
            "  inflating: sample_Signature/sample_Signature/genuine/NFI-02901029.PNG  \n",
            "  inflating: sample_Signature/sample_Signature/genuine/NFI-02902029.PNG  \n",
            "  inflating: sample_Signature/sample_Signature/genuine/NFI-02903029.PNG  \n",
            "  inflating: sample_Signature/sample_Signature/genuine/NFI-02904029.PNG  \n",
            "  inflating: sample_Signature/sample_Signature/genuine/NFI-02905029.PNG  \n",
            "  inflating: sample_Signature/sample_Signature/genuine/NFI-03001030.PNG  \n",
            "  inflating: sample_Signature/sample_Signature/genuine/NFI-03002030.PNG  \n",
            "  inflating: sample_Signature/sample_Signature/genuine/NFI-03003030.PNG  \n",
            "  inflating: sample_Signature/sample_Signature/genuine/NFI-03004030.PNG  \n",
            "  inflating: sample_Signature/sample_Signature/genuine/NFI-03005030.PNG  \n",
            "  inflating: sample_signature/sample_Signature/README.txt.txt  \n",
            "  inflating: sample_signature/sample_Signature/forged/NFI-00101014.png  \n",
            "  inflating: sample_signature/sample_Signature/forged/NFI-00101019.png  \n",
            "  inflating: sample_signature/sample_Signature/forged/NFI-00101025.PNG  \n",
            "  inflating: sample_signature/sample_Signature/forged/NFI-00101026.PNG  \n",
            "  inflating: sample_signature/sample_Signature/forged/NFI-00101027.PNG  \n",
            "  inflating: sample_signature/sample_Signature/forged/NFI-00101028.PNG  \n",
            "  inflating: sample_signature/sample_Signature/forged/NFI-00101029.PNG  \n",
            "  inflating: sample_signature/sample_Signature/forged/NFI-00101030.PNG  \n",
            "  inflating: sample_signature/sample_Signature/forged/NFI-00102014.png  \n",
            "  inflating: sample_signature/sample_Signature/forged/NFI-00102019.png  \n",
            "  inflating: sample_signature/sample_Signature/forged/NFI-00102025.PNG  \n",
            "  inflating: sample_signature/sample_Signature/forged/NFI-00102026.PNG  \n",
            "  inflating: sample_signature/sample_Signature/forged/NFI-00102027.PNG  \n",
            "  inflating: sample_signature/sample_Signature/forged/NFI-00102028.PNG  \n",
            "  inflating: sample_signature/sample_Signature/forged/NFI-00102029.PNG  \n",
            "  inflating: sample_signature/sample_Signature/forged/NFI-00102030.PNG  \n",
            "  inflating: sample_signature/sample_Signature/forged/NFI-00103014.png  \n",
            "  inflating: sample_signature/sample_Signature/forged/NFI-00103019.png  \n",
            "  inflating: sample_signature/sample_Signature/forged/NFI-00103025.PNG  \n",
            "  inflating: sample_signature/sample_Signature/forged/NFI-00103026.PNG  \n",
            "  inflating: sample_signature/sample_Signature/forged/NFI-00103027.PNG  \n",
            "  inflating: sample_signature/sample_Signature/forged/NFI-00103028.PNG  \n",
            "  inflating: sample_signature/sample_Signature/forged/NFI-00103029.PNG  \n",
            "  inflating: sample_signature/sample_Signature/forged/NFI-00103030.PNG  \n",
            "  inflating: sample_signature/sample_Signature/forged/NFI-00104014.png  \n",
            "  inflating: sample_signature/sample_Signature/forged/NFI-00104019.png  \n",
            "  inflating: sample_signature/sample_Signature/forged/NFI-00104025.PNG  \n",
            "  inflating: sample_signature/sample_Signature/forged/NFI-00104026.PNG  \n",
            "  inflating: sample_signature/sample_Signature/forged/NFI-00104027.PNG  \n",
            "  inflating: sample_signature/sample_Signature/forged/NFI-00104028.PNG  \n",
            "  inflating: sample_signature/sample_Signature/forged/NFI-00104029.PNG  \n",
            "  inflating: sample_signature/sample_Signature/forged/NFI-00104030.PNG  \n",
            "  inflating: sample_signature/sample_Signature/forged/NFI-00105014.png  \n",
            "  inflating: sample_signature/sample_Signature/forged/NFI-00105019.png  \n",
            "  inflating: sample_signature/sample_Signature/forged/NFI-00105025.PNG  \n",
            "  inflating: sample_signature/sample_Signature/forged/NFI-00105026.PNG  \n",
            "  inflating: sample_signature/sample_Signature/forged/NFI-00105027.PNG  \n",
            "  inflating: sample_signature/sample_Signature/forged/NFI-00105028.PNG  \n",
            "  inflating: sample_signature/sample_Signature/forged/NFI-00105029.PNG  \n",
            "  inflating: sample_signature/sample_Signature/forged/NFI-00105030.PNG  \n",
            "  inflating: sample_signature/sample_Signature/forged/NFI-00301001.png  \n",
            "  inflating: sample_signature/sample_Signature/forged/NFI-00301002.png  \n",
            "  inflating: sample_signature/sample_Signature/forged/NFI-00301005.png  \n",
            "  inflating: sample_signature/sample_Signature/forged/NFI-00301009.png  \n",
            "  inflating: sample_signature/sample_Signature/forged/NFI-00301018.png  \n",
            "  inflating: sample_signature/sample_Signature/forged/NFI-00302001.png  \n",
            "  inflating: sample_signature/sample_Signature/forged/NFI-00302002.png  \n",
            "  inflating: sample_signature/sample_Signature/forged/NFI-00302005.png  \n",
            "  inflating: sample_signature/sample_Signature/forged/NFI-00302009.png  \n",
            "  inflating: sample_signature/sample_Signature/forged/NFI-00302018.png  \n",
            "  inflating: sample_signature/sample_Signature/forged/NFI-00303001.png  \n",
            "  inflating: sample_signature/sample_Signature/forged/NFI-00303002.png  \n",
            "  inflating: sample_signature/sample_Signature/forged/NFI-00303005.png  \n",
            "  inflating: sample_signature/sample_Signature/forged/NFI-00303009.png  \n",
            "  inflating: sample_signature/sample_Signature/forged/NFI-00303018.png  \n",
            "  inflating: sample_signature/sample_Signature/forged/NFI-00304001.png  \n",
            "  inflating: sample_signature/sample_Signature/forged/NFI-00304002.png  \n",
            "  inflating: sample_signature/sample_Signature/forged/NFI-00304005.png  \n",
            "  inflating: sample_signature/sample_Signature/forged/NFI-00304009.png  \n",
            "  inflating: sample_signature/sample_Signature/forged/NFI-00304018.png  \n",
            "  inflating: sample_signature/sample_Signature/forged/NFI-00305001.png  \n",
            "  inflating: sample_signature/sample_Signature/forged/NFI-00305002.png  \n",
            "  inflating: sample_signature/sample_Signature/forged/NFI-00305005.png  \n",
            "  inflating: sample_signature/sample_Signature/forged/NFI-00305009.png  \n",
            "  inflating: sample_signature/sample_Signature/forged/NFI-00305018.png  \n",
            "  inflating: sample_signature/sample_Signature/forged/NFI-00401003.png  \n",
            "  inflating: sample_signature/sample_Signature/forged/NFI-00401007.png  \n",
            "  inflating: sample_signature/sample_Signature/forged/NFI-00401013.png  \n",
            "  inflating: sample_signature/sample_Signature/forged/NFI-00401024.png  \n",
            "  inflating: sample_signature/sample_Signature/forged/NFI-00402003.png  \n",
            "  inflating: sample_signature/sample_Signature/forged/NFI-00402007.png  \n",
            "  inflating: sample_signature/sample_Signature/forged/NFI-00402013.png  \n",
            "  inflating: sample_signature/sample_Signature/forged/NFI-00402024.png  \n",
            "  inflating: sample_signature/sample_Signature/forged/NFI-00403003.png  \n",
            "  inflating: sample_signature/sample_Signature/forged/NFI-00403007.png  \n",
            "  inflating: sample_signature/sample_Signature/forged/NFI-00403013.png  \n",
            "  inflating: sample_signature/sample_Signature/forged/NFI-00403024.png  \n",
            "  inflating: sample_signature/sample_Signature/forged/NFI-00404003.png  \n",
            "  inflating: sample_signature/sample_Signature/forged/NFI-00404007.png  \n",
            "  inflating: sample_signature/sample_Signature/forged/NFI-00404013.png  \n",
            "  inflating: sample_signature/sample_Signature/forged/NFI-00404024.png  \n",
            "  inflating: sample_signature/sample_Signature/forged/NFI-00405003.png  \n",
            "  inflating: sample_signature/sample_Signature/forged/NFI-00405007.png  \n",
            "  inflating: sample_signature/sample_Signature/forged/NFI-00405013.png  \n",
            "  inflating: sample_signature/sample_Signature/forged/NFI-00405024.png  \n",
            "  inflating: sample_signature/sample_Signature/forged/NFI-00501015.png  \n",
            "  inflating: sample_signature/sample_Signature/forged/NFI-00501022.png  \n",
            "  inflating: sample_signature/sample_Signature/forged/NFI-00502015.png  \n",
            "  inflating: sample_signature/sample_Signature/forged/NFI-00502022.png  \n",
            "  inflating: sample_signature/sample_Signature/forged/NFI-00503015.png  \n",
            "  inflating: sample_signature/sample_Signature/forged/NFI-00503022.png  \n",
            "  inflating: sample_signature/sample_Signature/forged/NFI-00504015.png  \n",
            "  inflating: sample_signature/sample_Signature/forged/NFI-00504022.png  \n",
            "  inflating: sample_signature/sample_Signature/forged/NFI-00505015.png  \n",
            "  inflating: sample_signature/sample_Signature/forged/NFI-00505022.png  \n",
            "  inflating: sample_signature/sample_Signature/forged/NFI-00701011.png  \n",
            "  inflating: sample_signature/sample_Signature/forged/NFI-00701023.png  \n",
            "  inflating: sample_signature/sample_Signature/forged/NFI-00702011.png  \n",
            "  inflating: sample_signature/sample_Signature/forged/NFI-00702023.png  \n",
            "  inflating: sample_signature/sample_Signature/forged/NFI-00703011.png  \n",
            "  inflating: sample_signature/sample_Signature/forged/NFI-00703023.png  \n",
            "  inflating: sample_signature/sample_Signature/forged/NFI-00704011.png  \n",
            "  inflating: sample_signature/sample_Signature/forged/NFI-00704023.png  \n",
            "  inflating: sample_signature/sample_Signature/forged/NFI-00705011.png  \n",
            "  inflating: sample_signature/sample_Signature/forged/NFI-00705023.png  \n",
            "  inflating: sample_signature/sample_Signature/forged/NFI-01101012.png  \n",
            "  inflating: sample_signature/sample_Signature/forged/NFI-01101016.png  \n",
            "  inflating: sample_signature/sample_Signature/forged/NFI-01102012.png  \n",
            "  inflating: sample_signature/sample_Signature/forged/NFI-01102016.png  \n",
            "  inflating: sample_signature/sample_Signature/forged/NFI-01103012.png  \n",
            "  inflating: sample_signature/sample_Signature/forged/NFI-01103016.png  \n",
            "  inflating: sample_signature/sample_Signature/forged/NFI-01104012.png  \n",
            "  inflating: sample_signature/sample_Signature/forged/NFI-01104016.png  \n",
            "  inflating: sample_signature/sample_Signature/forged/NFI-01105012.png  \n",
            "  inflating: sample_signature/sample_Signature/forged/NFI-01105016.png  \n",
            "  inflating: sample_signature/sample_Signature/forged/NFI-01201021.png  \n",
            "  inflating: sample_signature/sample_Signature/forged/NFI-01202021.png  \n",
            "  inflating: sample_signature/sample_Signature/forged/NFI-01203021.png  \n",
            "  inflating: sample_signature/sample_Signature/forged/NFI-01204021.png  \n",
            "  inflating: sample_signature/sample_Signature/forged/NFI-01205021.png  \n",
            "  inflating: sample_signature/sample_Signature/forged/NFI-01301017.png  \n",
            "  inflating: sample_signature/sample_Signature/forged/NFI-01302017.png  \n",
            "  inflating: sample_signature/sample_Signature/forged/NFI-01303017.png  \n",
            "  inflating: sample_signature/sample_Signature/forged/NFI-01304017.png  \n",
            "  inflating: sample_signature/sample_Signature/forged/NFI-01305017.png  \n",
            "  inflating: sample_signature/sample_Signature/forged/NFI-01701020.png  \n",
            "  inflating: sample_signature/sample_Signature/forged/NFI-01702020.png  \n",
            "  inflating: sample_signature/sample_Signature/forged/NFI-01703020.png  \n",
            "  inflating: sample_signature/sample_Signature/forged/NFI-01704020.png  \n",
            "  inflating: sample_signature/sample_Signature/forged/NFI-01705020.png  \n",
            "  inflating: sample_signature/sample_Signature/forged/NFI-02301008.png  \n",
            "  inflating: sample_signature/sample_Signature/forged/NFI-02303008.png  \n",
            "  inflating: sample_signature/sample_Signature/forged/NFI-02304008.png  \n",
            "  inflating: sample_signature/sample_Signature/forged/NFI-02305008.png  \n",
            "  inflating: sample_signature/sample_Signature/forged/NFI-02306008.png  \n",
            "  inflating: sample_signature/sample_Signature/forged/NFI-02501010.png  \n",
            "  inflating: sample_signature/sample_Signature/forged/NFI-02502010.png  \n",
            "  inflating: sample_signature/sample_Signature/forged/NFI-02503010.png  \n",
            "  inflating: sample_signature/sample_Signature/forged/NFI-02504010.png  \n",
            "  inflating: sample_signature/sample_Signature/forged/NFI-02505009.png  \n",
            "  inflating: sample_signature/sample_Signature/forged/NFI-03301006.png  \n",
            "  inflating: sample_signature/sample_Signature/forged/NFI-03302006.png  \n",
            "  inflating: sample_signature/sample_Signature/forged/NFI-03303006.png  \n",
            "  inflating: sample_signature/sample_Signature/forged/NFI-03304006.png  \n",
            "  inflating: sample_signature/sample_Signature/forged/NFI-03305006.png  \n",
            "  inflating: sample_signature/sample_Signature/forged/NFI-08801004.png  \n",
            "  inflating: sample_signature/sample_Signature/forged/NFI-08802004.png  \n",
            "  inflating: sample_signature/sample_Signature/forged/NFI-08803004.png  \n",
            "  inflating: sample_signature/sample_Signature/forged/NFI-08804004.png  \n",
            "  inflating: sample_signature/sample_Signature/forged/NFI-08805004.png  \n",
            "  inflating: sample_signature/sample_Signature/genuine/NFI-00101001.png  \n",
            "  inflating: sample_signature/sample_Signature/genuine/NFI-00102001.png  \n",
            "  inflating: sample_signature/sample_Signature/genuine/NFI-00103001.png  \n",
            "  inflating: sample_signature/sample_Signature/genuine/NFI-00104001.png  \n",
            "  inflating: sample_signature/sample_Signature/genuine/NFI-00105001.png  \n",
            "  inflating: sample_signature/sample_Signature/genuine/NFI-00201002.png  \n",
            "  inflating: sample_signature/sample_Signature/genuine/NFI-00202002.png  \n",
            "  inflating: sample_signature/sample_Signature/genuine/NFI-00203002.png  \n",
            "  inflating: sample_signature/sample_Signature/genuine/NFI-00204002.png  \n",
            "  inflating: sample_signature/sample_Signature/genuine/NFI-00205002.png  \n",
            "  inflating: sample_signature/sample_Signature/genuine/NFI-00301003.png  \n",
            "  inflating: sample_signature/sample_Signature/genuine/NFI-00302003.png  \n",
            "  inflating: sample_signature/sample_Signature/genuine/NFI-00303003.png  \n",
            "  inflating: sample_signature/sample_Signature/genuine/NFI-00304003.png  \n",
            "  inflating: sample_signature/sample_Signature/genuine/NFI-00305003.png  \n",
            "  inflating: sample_signature/sample_Signature/genuine/NFI-00401004.png  \n",
            "  inflating: sample_signature/sample_Signature/genuine/NFI-00402004.png  \n",
            "  inflating: sample_signature/sample_Signature/genuine/NFI-00403004.png  \n",
            "  inflating: sample_signature/sample_Signature/genuine/NFI-00404004.png  \n",
            "  inflating: sample_signature/sample_Signature/genuine/NFI-00405004.png  \n",
            "  inflating: sample_signature/sample_Signature/genuine/NFI-00501005.png  \n",
            "  inflating: sample_signature/sample_Signature/genuine/NFI-00502005.png  \n",
            "  inflating: sample_signature/sample_Signature/genuine/NFI-00503005.png  \n",
            "  inflating: sample_signature/sample_Signature/genuine/NFI-00504005.png  \n",
            "  inflating: sample_signature/sample_Signature/genuine/NFI-00505005.png  \n",
            "  inflating: sample_signature/sample_Signature/genuine/NFI-00601006.png  \n",
            "  inflating: sample_signature/sample_Signature/genuine/NFI-00602006.png  \n",
            "  inflating: sample_signature/sample_Signature/genuine/NFI-00603006.png  \n",
            "  inflating: sample_signature/sample_Signature/genuine/NFI-00604006.png  \n",
            "  inflating: sample_signature/sample_Signature/genuine/NFI-00605006.png  \n",
            "  inflating: sample_signature/sample_Signature/genuine/NFI-00701007.png  \n",
            "  inflating: sample_signature/sample_Signature/genuine/NFI-00702007.png  \n",
            "  inflating: sample_signature/sample_Signature/genuine/NFI-00703007.png  \n",
            "  inflating: sample_signature/sample_Signature/genuine/NFI-00704007.png  \n",
            "  inflating: sample_signature/sample_Signature/genuine/NFI-00705007.png  \n",
            "  inflating: sample_signature/sample_Signature/genuine/NFI-00801008.png  \n",
            "  inflating: sample_signature/sample_Signature/genuine/NFI-00802008.png  \n",
            "  inflating: sample_signature/sample_Signature/genuine/NFI-00803008.png  \n",
            "  inflating: sample_signature/sample_Signature/genuine/NFI-00804008.png  \n",
            "  inflating: sample_signature/sample_Signature/genuine/NFI-00805008.png  \n",
            "  inflating: sample_signature/sample_Signature/genuine/NFI-00901009.png  \n",
            "  inflating: sample_signature/sample_Signature/genuine/NFI-00902009.png  \n",
            "  inflating: sample_signature/sample_Signature/genuine/NFI-00903009.png  \n",
            "  inflating: sample_signature/sample_Signature/genuine/NFI-00904009.png  \n",
            "  inflating: sample_signature/sample_Signature/genuine/NFI-00905009.png  \n",
            "  inflating: sample_signature/sample_Signature/genuine/NFI-01001010.png  \n",
            "  inflating: sample_signature/sample_Signature/genuine/NFI-01002010.png  \n",
            "  inflating: sample_signature/sample_Signature/genuine/NFI-01003010.png  \n",
            "  inflating: sample_signature/sample_Signature/genuine/NFI-01004010.png  \n",
            "  inflating: sample_signature/sample_Signature/genuine/NFI-01005010.png  \n",
            "  inflating: sample_signature/sample_Signature/genuine/NFI-01101011.png  \n",
            "  inflating: sample_signature/sample_Signature/genuine/NFI-01102011.png  \n",
            "  inflating: sample_signature/sample_Signature/genuine/NFI-01103011.png  \n",
            "  inflating: sample_signature/sample_Signature/genuine/NFI-01104011.png  \n",
            "  inflating: sample_signature/sample_Signature/genuine/NFI-01105011.png  \n",
            "  inflating: sample_signature/sample_Signature/genuine/NFI-01201012.png  \n",
            "  inflating: sample_signature/sample_Signature/genuine/NFI-01202012.png  \n",
            "  inflating: sample_signature/sample_Signature/genuine/NFI-01203012.png  \n",
            "  inflating: sample_signature/sample_Signature/genuine/NFI-01204012.png  \n",
            "  inflating: sample_signature/sample_Signature/genuine/NFI-01205012.png  \n",
            "  inflating: sample_signature/sample_Signature/genuine/NFI-01301013.png  \n",
            "  inflating: sample_signature/sample_Signature/genuine/NFI-01302013.png  \n",
            "  inflating: sample_signature/sample_Signature/genuine/NFI-01303013.png  \n",
            "  inflating: sample_signature/sample_Signature/genuine/NFI-01304013.png  \n",
            "  inflating: sample_signature/sample_Signature/genuine/NFI-01305013.png  \n",
            "  inflating: sample_signature/sample_Signature/genuine/NFI-01401014.png  \n",
            "  inflating: sample_signature/sample_Signature/genuine/NFI-01402014.png  \n",
            "  inflating: sample_signature/sample_Signature/genuine/NFI-01403014.png  \n",
            "  inflating: sample_signature/sample_Signature/genuine/NFI-01404014.png  \n",
            "  inflating: sample_signature/sample_Signature/genuine/NFI-01405014.png  \n",
            "  inflating: sample_signature/sample_Signature/genuine/NFI-01501015.png  \n",
            "  inflating: sample_signature/sample_Signature/genuine/NFI-01502015.png  \n",
            "  inflating: sample_signature/sample_Signature/genuine/NFI-01503015.png  \n",
            "  inflating: sample_signature/sample_Signature/genuine/NFI-01504015.png  \n",
            "  inflating: sample_signature/sample_Signature/genuine/NFI-01505015.png  \n",
            "  inflating: sample_signature/sample_Signature/genuine/NFI-01601016.png  \n",
            "  inflating: sample_signature/sample_Signature/genuine/NFI-01602016.png  \n",
            "  inflating: sample_signature/sample_Signature/genuine/NFI-01603016.png  \n",
            "  inflating: sample_signature/sample_Signature/genuine/NFI-01604016.png  \n",
            "  inflating: sample_signature/sample_Signature/genuine/NFI-01605016.png  \n",
            "  inflating: sample_signature/sample_Signature/genuine/NFI-01701017.png  \n",
            "  inflating: sample_signature/sample_Signature/genuine/NFI-01702017.png  \n",
            "  inflating: sample_signature/sample_Signature/genuine/NFI-01703017.png  \n",
            "  inflating: sample_signature/sample_Signature/genuine/NFI-01704017.png  \n",
            "  inflating: sample_signature/sample_Signature/genuine/NFI-01705017.png  \n",
            "  inflating: sample_signature/sample_Signature/genuine/NFI-01801018.png  \n",
            "  inflating: sample_signature/sample_Signature/genuine/NFI-01802018.png  \n",
            "  inflating: sample_signature/sample_Signature/genuine/NFI-01803018.png  \n",
            "  inflating: sample_signature/sample_Signature/genuine/NFI-01804018.png  \n",
            "  inflating: sample_signature/sample_Signature/genuine/NFI-01805018.png  \n",
            "  inflating: sample_signature/sample_Signature/genuine/NFI-01901019.png  \n",
            "  inflating: sample_signature/sample_Signature/genuine/NFI-01902019.png  \n",
            "  inflating: sample_signature/sample_Signature/genuine/NFI-01903019.png  \n",
            "  inflating: sample_signature/sample_Signature/genuine/NFI-01904019.png  \n",
            "  inflating: sample_signature/sample_Signature/genuine/NFI-01905019.png  \n",
            "  inflating: sample_signature/sample_Signature/genuine/NFI-02001020.png  \n",
            "  inflating: sample_signature/sample_Signature/genuine/NFI-02002020.png  \n",
            "  inflating: sample_signature/sample_Signature/genuine/NFI-02003020.png  \n",
            "  inflating: sample_signature/sample_Signature/genuine/NFI-02004020.png  \n",
            "  inflating: sample_signature/sample_Signature/genuine/NFI-02005020.png  \n",
            "  inflating: sample_signature/sample_Signature/genuine/NFI-02101021.png  \n",
            "  inflating: sample_signature/sample_Signature/genuine/NFI-02102021.png  \n",
            "  inflating: sample_signature/sample_Signature/genuine/NFI-02103021.png  \n",
            "  inflating: sample_signature/sample_Signature/genuine/NFI-02104021.png  \n",
            "  inflating: sample_signature/sample_Signature/genuine/NFI-02105021.png  \n",
            "  inflating: sample_signature/sample_Signature/genuine/NFI-02201022.png  \n",
            "  inflating: sample_signature/sample_Signature/genuine/NFI-02202022.png  \n",
            "  inflating: sample_signature/sample_Signature/genuine/NFI-02203022.png  \n",
            "  inflating: sample_signature/sample_Signature/genuine/NFI-02204022.png  \n",
            "  inflating: sample_signature/sample_Signature/genuine/NFI-02205022.png  \n",
            "  inflating: sample_signature/sample_Signature/genuine/NFI-02301023.png  \n",
            "  inflating: sample_signature/sample_Signature/genuine/NFI-02302023.png  \n",
            "  inflating: sample_signature/sample_Signature/genuine/NFI-02303023.png  \n",
            "  inflating: sample_signature/sample_Signature/genuine/NFI-02304023.png  \n",
            "  inflating: sample_signature/sample_Signature/genuine/NFI-02305023.png  \n",
            "  inflating: sample_signature/sample_Signature/genuine/NFI-02401024.png  \n",
            "  inflating: sample_signature/sample_Signature/genuine/NFI-02402024.png  \n",
            "  inflating: sample_signature/sample_Signature/genuine/NFI-02403024.png  \n",
            "  inflating: sample_signature/sample_Signature/genuine/NFI-02404024.png  \n",
            "  inflating: sample_signature/sample_Signature/genuine/NFI-02405024.png  \n",
            "  inflating: sample_signature/sample_Signature/genuine/NFI-02501025.PNG  \n",
            "  inflating: sample_signature/sample_Signature/genuine/NFI-02502025.PNG  \n",
            "  inflating: sample_signature/sample_Signature/genuine/NFI-02503025.PNG  \n",
            "  inflating: sample_signature/sample_Signature/genuine/NFI-02504025.PNG  \n",
            "  inflating: sample_signature/sample_Signature/genuine/NFI-02505025.PNG  \n",
            "  inflating: sample_signature/sample_Signature/genuine/NFI-02601026.PNG  \n",
            "  inflating: sample_signature/sample_Signature/genuine/NFI-02602026.PNG  \n",
            "  inflating: sample_signature/sample_Signature/genuine/NFI-02603026.PNG  \n",
            "  inflating: sample_signature/sample_Signature/genuine/NFI-02604026.PNG  \n",
            "  inflating: sample_signature/sample_Signature/genuine/NFI-02605026.PNG  \n",
            "  inflating: sample_signature/sample_Signature/genuine/NFI-02701027.PNG  \n",
            "  inflating: sample_signature/sample_Signature/genuine/NFI-02702027.PNG  \n",
            "  inflating: sample_signature/sample_Signature/genuine/NFI-02703027.PNG  \n",
            "  inflating: sample_signature/sample_Signature/genuine/NFI-02704027.PNG  \n",
            "  inflating: sample_signature/sample_Signature/genuine/NFI-02705027.PNG  \n",
            "  inflating: sample_signature/sample_Signature/genuine/NFI-02801028.PNG  \n",
            "  inflating: sample_signature/sample_Signature/genuine/NFI-02802028.PNG  \n",
            "  inflating: sample_signature/sample_Signature/genuine/NFI-02803028.PNG  \n",
            "  inflating: sample_signature/sample_Signature/genuine/NFI-02804028.PNG  \n",
            "  inflating: sample_signature/sample_Signature/genuine/NFI-02805028.PNG  \n",
            "  inflating: sample_signature/sample_Signature/genuine/NFI-02901029.PNG  \n",
            "  inflating: sample_signature/sample_Signature/genuine/NFI-02902029.PNG  \n",
            "  inflating: sample_signature/sample_Signature/genuine/NFI-02903029.PNG  \n",
            "  inflating: sample_signature/sample_Signature/genuine/NFI-02904029.PNG  \n",
            "  inflating: sample_signature/sample_Signature/genuine/NFI-02905029.PNG  \n",
            "  inflating: sample_signature/sample_Signature/genuine/NFI-03001030.PNG  \n",
            "  inflating: sample_signature/sample_Signature/genuine/NFI-03002030.PNG  \n",
            "  inflating: sample_signature/sample_Signature/genuine/NFI-03003030.PNG  \n",
            "  inflating: sample_signature/sample_Signature/genuine/NFI-03004030.PNG  \n",
            "  inflating: sample_signature/sample_Signature/genuine/NFI-03005030.PNG  \n"
          ]
        }
      ],
      "source": [
        "!pip install unzip\n",
        "import unzip\n",
        "!unzip /content/drive/MyDrive/signatures.zip "
      ]
    },
    {
      "cell_type": "markdown",
      "metadata": {
        "id": "VXjqDovJVMpA"
      },
      "source": [
        "## Data"
      ]
    },
    {
      "cell_type": "markdown",
      "metadata": {
        "id": "2xfU2eEtVMpA"
      },
      "source": [
        "The data used in this notebook can be found [here](https://www.kaggle.com/datasets/divyanshrai/handwritten-signatures). The dataset contains just 300 samples of genuine and forged signatures from 30 people, of which 50 percent are genuine and 50 percent are forged. "
      ]
    },
    {
      "cell_type": "code",
      "execution_count": 4,
      "metadata": {
        "ExecuteTime": {
          "end_time": "2022-05-23T14:37:08.402015Z",
          "start_time": "2022-05-23T14:37:08.400250Z"
        },
        "id": "teE595ANVMpA"
      },
      "outputs": [],
      "source": [
        "# instantiate ImageDataGenerator scaling each pixel's values down to a scale of 1\n",
        "img = ImageDataGenerator(rescale=1/255)"
      ]
    },
    {
      "cell_type": "code",
      "execution_count": 5,
      "metadata": {
        "ExecuteTime": {
          "end_time": "2022-05-23T14:37:08.405039Z",
          "start_time": "2022-05-23T14:37:08.403576Z"
        },
        "id": "koM9NmKQVMpB"
      },
      "outputs": [],
      "source": [
        "# data_path = '../Data/sample_Signature/sample_Signature/'\n",
        "# For Colab \n",
        "data_path = '/content/sample_Signature/sample_Signature/'"
      ]
    },
    {
      "cell_type": "code",
      "execution_count": 6,
      "metadata": {
        "ExecuteTime": {
          "end_time": "2022-05-23T14:37:08.517937Z",
          "start_time": "2022-05-23T14:37:08.406114Z"
        },
        "scrolled": false,
        "id": "_0ozmoZ0VMpB",
        "outputId": "68ffeffa-8ad7-4ead-a0bb-6e64072b5aff",
        "colab": {
          "base_uri": "https://localhost:8080/"
        }
      },
      "outputs": [
        {
          "output_type": "stream",
          "name": "stdout",
          "text": [
            "Found 300 images belonging to 2 classes.\n"
          ]
        }
      ],
      "source": [
        "# Importing the data\n",
        "data = img.flow_from_directory(data_path, color_mode='grayscale',\\\n",
        "                               batch_size=300, class_mode='binary')"
      ]
    },
    {
      "cell_type": "code",
      "execution_count": 7,
      "metadata": {
        "ExecuteTime": {
          "end_time": "2022-05-23T14:37:08.526273Z",
          "start_time": "2022-05-23T14:37:08.519403Z"
        },
        "id": "Z4x8cSpYVMpB",
        "outputId": "75ce46dd-66f4-4990-8405-56c269baee1b",
        "colab": {
          "base_uri": "https://localhost:8080/"
        }
      },
      "outputs": [
        {
          "output_type": "execute_result",
          "data": {
            "text/plain": [
              "{'forged': 0, 'genuine': 1}"
            ]
          },
          "metadata": {},
          "execution_count": 7
        }
      ],
      "source": [
        "data.class_indices"
      ]
    },
    {
      "cell_type": "code",
      "execution_count": 8,
      "metadata": {
        "ExecuteTime": {
          "end_time": "2022-05-23T14:37:11.825565Z",
          "start_time": "2022-05-23T14:37:08.527770Z"
        },
        "id": "6qJmZYLlVMpB"
      },
      "outputs": [],
      "source": [
        "data_images, data_labels = next(data)"
      ]
    },
    {
      "cell_type": "code",
      "execution_count": 9,
      "metadata": {
        "ExecuteTime": {
          "end_time": "2022-05-23T14:37:11.829359Z",
          "start_time": "2022-05-23T14:37:11.826636Z"
        },
        "id": "eHOpWE8fVMpB",
        "outputId": "c798f1cc-fd04-4b78-bad8-9061b75ef50a",
        "colab": {
          "base_uri": "https://localhost:8080/"
        }
      },
      "outputs": [
        {
          "output_type": "execute_result",
          "data": {
            "text/plain": [
              "(300, 256, 256, 1)"
            ]
          },
          "metadata": {},
          "execution_count": 9
        }
      ],
      "source": [
        "data_images.shape"
      ]
    },
    {
      "cell_type": "code",
      "execution_count": 10,
      "metadata": {
        "ExecuteTime": {
          "end_time": "2022-05-23T14:37:11.832271Z",
          "start_time": "2022-05-23T14:37:11.830100Z"
        },
        "id": "RQFzzw2wVMpB",
        "outputId": "bf8ccdb0-473c-4a2a-8e63-acf604ccbfa7",
        "colab": {
          "base_uri": "https://localhost:8080/"
        }
      },
      "outputs": [
        {
          "output_type": "execute_result",
          "data": {
            "text/plain": [
              "(300,)"
            ]
          },
          "metadata": {},
          "execution_count": 10
        }
      ],
      "source": [
        "data_labels.shape"
      ]
    },
    {
      "cell_type": "code",
      "execution_count": 11,
      "metadata": {
        "ExecuteTime": {
          "end_time": "2022-05-23T14:37:11.888774Z",
          "start_time": "2022-05-23T14:37:11.833177Z"
        },
        "id": "Eae0xFITVMpC"
      },
      "outputs": [],
      "source": [
        "X_train, X_test, y_train, y_test = train_test_split( \\\n",
        "            data_images, data_labels, random_state=42, test_size=.2)"
      ]
    },
    {
      "cell_type": "code",
      "execution_count": 12,
      "metadata": {
        "ExecuteTime": {
          "end_time": "2022-05-23T14:37:11.893566Z",
          "start_time": "2022-05-23T14:37:11.890017Z"
        },
        "id": "NMHbV_qeVMpC",
        "outputId": "9c052009-81b7-4c68-86c3-0733eb241eed",
        "colab": {
          "base_uri": "https://localhost:8080/"
        }
      },
      "outputs": [
        {
          "output_type": "execute_result",
          "data": {
            "text/plain": [
              "(240, 256, 256, 1)"
            ]
          },
          "metadata": {},
          "execution_count": 12
        }
      ],
      "source": [
        "X_train.shape"
      ]
    },
    {
      "cell_type": "code",
      "execution_count": 13,
      "metadata": {
        "ExecuteTime": {
          "end_time": "2022-05-23T14:37:11.897926Z",
          "start_time": "2022-05-23T14:37:11.894542Z"
        },
        "scrolled": true,
        "id": "IyH2XoyRVMpC",
        "outputId": "27a6b836-1247-4191-94f6-72268dee29c1",
        "colab": {
          "base_uri": "https://localhost:8080/"
        }
      },
      "outputs": [
        {
          "output_type": "execute_result",
          "data": {
            "text/plain": [
              "(240,)"
            ]
          },
          "metadata": {},
          "execution_count": 13
        }
      ],
      "source": [
        "y_train.shape"
      ]
    },
    {
      "cell_type": "markdown",
      "metadata": {
        "id": "fNf9MK9tVMpC"
      },
      "source": [
        "Above we instantiate Keras' ImageDataGenerator which will scale each pixel's values down to a value of 1. Next we import the data and separate into the images themselves and their respective labels. Finally we split it into a train and test dataset."
      ]
    },
    {
      "cell_type": "markdown",
      "metadata": {
        "id": "KjCHLRtrVMpC"
      },
      "source": [
        "### Image Augmentation"
      ]
    },
    {
      "cell_type": "markdown",
      "metadata": {
        "id": "awA4mx5rVMpC"
      },
      "source": [
        "Because we have such a small dataset it is important to use image augmentation to artificially expand the training dataset. Below we do several forms of data augmentation individually before combining the techniques at the end."
      ]
    },
    {
      "cell_type": "markdown",
      "metadata": {
        "id": "dSXIKgZ_VMpC"
      },
      "source": [
        "#### Zoom Augmentation"
      ]
    },
    {
      "cell_type": "markdown",
      "metadata": {
        "id": "7Src6KPVVMpC"
      },
      "source": [
        "The first technique we explore is zoom range. Entering a range of values, .25 and 1 in this case, randomly applies a zoom to each image within that range."
      ]
    },
    {
      "cell_type": "code",
      "execution_count": 45,
      "metadata": {
        "ExecuteTime": {
          "end_time": "2022-05-23T14:37:11.925857Z",
          "start_time": "2022-05-23T14:37:11.901105Z"
        },
        "id": "RjujmkZjVMpC"
      },
      "outputs": [],
      "source": [
        "aug = ImageDataGenerator(zoom_range=[.25,1])\n",
        "aug.fit(X_train)\n",
        "aug_data = aug.flow(X_train, y_train, batch_size=240)"
      ]
    },
    {
      "cell_type": "code",
      "execution_count": 46,
      "metadata": {
        "ExecuteTime": {
          "end_time": "2022-05-23T14:37:12.810455Z",
          "start_time": "2022-05-23T14:37:11.926820Z"
        },
        "id": "aj8qvOS0VMpC"
      },
      "outputs": [],
      "source": [
        "aug_images, aug_labels = next(aug_data)"
      ]
    },
    {
      "cell_type": "code",
      "execution_count": 47,
      "metadata": {
        "ExecuteTime": {
          "end_time": "2022-05-23T14:37:12.814052Z",
          "start_time": "2022-05-23T14:37:12.811562Z"
        },
        "id": "nV0e-1mtVMpC",
        "outputId": "0f3c84d5-99c4-4dce-c843-8b05dbb0fca3",
        "colab": {
          "base_uri": "https://localhost:8080/"
        }
      },
      "outputs": [
        {
          "output_type": "execute_result",
          "data": {
            "text/plain": [
              "(240, 256, 256, 1)"
            ]
          },
          "metadata": {},
          "execution_count": 47
        }
      ],
      "source": [
        "aug_images.shape"
      ]
    },
    {
      "cell_type": "code",
      "execution_count": 48,
      "metadata": {
        "ExecuteTime": {
          "end_time": "2022-05-23T14:37:12.816951Z",
          "start_time": "2022-05-23T14:37:12.814825Z"
        },
        "scrolled": false,
        "id": "HitjcbxcVMpC",
        "outputId": "33f64314-18aa-4347-eb88-3e3fc997eb80",
        "colab": {
          "base_uri": "https://localhost:8080/"
        }
      },
      "outputs": [
        {
          "output_type": "execute_result",
          "data": {
            "text/plain": [
              "(240,)"
            ]
          },
          "metadata": {},
          "execution_count": 48
        }
      ],
      "source": [
        "aug_labels.shape"
      ]
    },
    {
      "cell_type": "code",
      "execution_count": 49,
      "metadata": {
        "ExecuteTime": {
          "end_time": "2022-05-23T14:37:12.822840Z",
          "start_time": "2022-05-23T14:37:12.817656Z"
        },
        "scrolled": true,
        "id": "XpH8jFWvVMpC",
        "outputId": "a9cbd98e-deea-4495-dcdb-b834882cded2",
        "colab": {
          "base_uri": "https://localhost:8080/",
          "height": 0
        }
      },
      "outputs": [
        {
          "output_type": "execute_result",
          "data": {
            "text/plain": [
              "<PIL.Image.Image image mode=L size=256x256 at 0x7F2A01C1EA50>"
            ],
            "image/png": "[encoded data removed]"
          },
          "metadata": {},
          "execution_count": 49
        }
      ],
      "source": [
        "array_to_img(aug_images[0])"
      ]
    },
    {
      "cell_type": "code",
      "execution_count": 50,
      "metadata": {
        "ExecuteTime": {
          "end_time": "2022-05-23T14:37:12.870297Z",
          "start_time": "2022-05-23T14:37:12.823934Z"
        },
        "id": "OZfqxBbFVMpD"
      },
      "outputs": [],
      "source": [
        "new_images1 = np.concatenate([X_train, aug_images])\n",
        "new_labels1 = np.concatenate([y_train, aug_labels])"
      ]
    },
    {
      "cell_type": "code",
      "execution_count": 51,
      "metadata": {
        "ExecuteTime": {
          "end_time": "2022-05-23T14:37:12.875326Z",
          "start_time": "2022-05-23T14:37:12.871437Z"
        },
        "id": "kz_W3IftVMpD",
        "outputId": "41a937f7-f7bc-4b68-eb59-647f60e34905",
        "colab": {
          "base_uri": "https://localhost:8080/"
        }
      },
      "outputs": [
        {
          "output_type": "execute_result",
          "data": {
            "text/plain": [
              "(480, 256, 256, 1)"
            ]
          },
          "metadata": {},
          "execution_count": 51
        }
      ],
      "source": [
        "new_images1.shape"
      ]
    },
    {
      "cell_type": "code",
      "execution_count": 52,
      "metadata": {
        "ExecuteTime": {
          "end_time": "2022-05-23T14:37:12.879471Z",
          "start_time": "2022-05-23T14:37:12.876344Z"
        },
        "scrolled": true,
        "id": "4SBvqi0mVMpD",
        "outputId": "3759ecca-215e-4ef1-db38-924257e19d30",
        "colab": {
          "base_uri": "https://localhost:8080/"
        }
      },
      "outputs": [
        {
          "output_type": "execute_result",
          "data": {
            "text/plain": [
              "(480,)"
            ]
          },
          "metadata": {},
          "execution_count": 52
        }
      ],
      "source": [
        "new_labels1.shape"
      ]
    },
    {
      "cell_type": "markdown",
      "metadata": {
        "id": "fOXrvLp2VMpD"
      },
      "source": [
        "#### Width Augmentation"
      ]
    },
    {
      "cell_type": "markdown",
      "metadata": {
        "id": "y2WYL6XeVMpD"
      },
      "source": [
        "The next method for augmentation used was width shift range. With a range of .3 the images will be randomly assigned a width down to .3 of the original image size. "
      ]
    },
    {
      "cell_type": "code",
      "execution_count": 53,
      "metadata": {
        "ExecuteTime": {
          "end_time": "2022-05-23T14:37:12.904430Z",
          "start_time": "2022-05-23T14:37:12.880692Z"
        },
        "id": "vRXsAvgpVMpD"
      },
      "outputs": [],
      "source": [
        "aug = ImageDataGenerator(width_shift_range=.3)\n",
        "aug.fit(X_train)\n",
        "aug2_data = aug.flow(X_train, y_train, batch_size=240)"
      ]
    },
    {
      "cell_type": "code",
      "execution_count": 54,
      "metadata": {
        "ExecuteTime": {
          "end_time": "2022-05-23T14:37:13.836303Z",
          "start_time": "2022-05-23T14:37:12.905556Z"
        },
        "id": "5JsawItTVMpD"
      },
      "outputs": [],
      "source": [
        "aug2_images, aug2_labels = next(aug2_data)"
      ]
    },
    {
      "cell_type": "code",
      "execution_count": 55,
      "metadata": {
        "ExecuteTime": {
          "end_time": "2022-05-23T14:37:13.970198Z",
          "start_time": "2022-05-23T14:37:13.837257Z"
        },
        "id": "tTYNA-_FVMpD"
      },
      "outputs": [],
      "source": [
        "new_images2 = np.concatenate([new_images1, aug2_images])\n",
        "new_labels2 = np.concatenate([new_labels1, aug2_labels])"
      ]
    },
    {
      "cell_type": "markdown",
      "metadata": {
        "id": "yTt4dtS0VMpD"
      },
      "source": [
        "#### Height Augmentation"
      ]
    },
    {
      "cell_type": "markdown",
      "metadata": {
        "id": "B_3cqar6VMpD"
      },
      "source": [
        "The next method for augmentation used was height shift range. With a range of .3 the images will be randomly assigned a height down to .3 of the original image size."
      ]
    },
    {
      "cell_type": "code",
      "execution_count": 56,
      "metadata": {
        "ExecuteTime": {
          "end_time": "2022-05-23T14:37:13.994817Z",
          "start_time": "2022-05-23T14:37:13.971519Z"
        },
        "id": "JMp9DIJdVMpD"
      },
      "outputs": [],
      "source": [
        "aug = ImageDataGenerator(height_shift_range=.3)\n",
        "aug.fit(X_train)\n",
        "aug3_data = aug.flow(X_train, y_train, batch_size=240)"
      ]
    },
    {
      "cell_type": "code",
      "execution_count": 57,
      "metadata": {
        "ExecuteTime": {
          "end_time": "2022-05-23T14:37:14.909526Z",
          "start_time": "2022-05-23T14:37:13.995765Z"
        },
        "id": "fkHjqgyzVMpD"
      },
      "outputs": [],
      "source": [
        "aug3_images, aug3_labels = next(aug3_data)"
      ]
    },
    {
      "cell_type": "code",
      "execution_count": 58,
      "metadata": {
        "ExecuteTime": {
          "end_time": "2022-05-23T14:37:15.082265Z",
          "start_time": "2022-05-23T14:37:14.910455Z"
        },
        "id": "8LLpw__3VMpD"
      },
      "outputs": [],
      "source": [
        "new_images3 = np.concatenate([new_images2, aug3_images])\n",
        "new_labels3 = np.concatenate([new_labels2, aug3_labels])"
      ]
    },
    {
      "cell_type": "markdown",
      "metadata": {
        "ExecuteTime": {
          "end_time": "2022-05-18T18:10:53.996172Z",
          "start_time": "2022-05-18T18:10:53.989621Z"
        },
        "id": "-CzmvIhBVMpD"
      },
      "source": [
        "#### Rotation Augmentation"
      ]
    },
    {
      "cell_type": "markdown",
      "metadata": {
        "ExecuteTime": {
          "end_time": "2022-05-20T18:31:05.497987Z",
          "start_time": "2022-05-20T18:31:05.418085Z"
        },
        "id": "Zc9ICCBUVMpD"
      },
      "source": [
        "Next we apply a random rotation to each image up to 30 degrees."
      ]
    },
    {
      "cell_type": "code",
      "execution_count": 59,
      "metadata": {
        "ExecuteTime": {
          "end_time": "2022-05-23T14:37:15.104454Z",
          "start_time": "2022-05-23T14:37:15.083345Z"
        },
        "id": "r2wYlSbGVMpD"
      },
      "outputs": [],
      "source": [
        "aug = ImageDataGenerator(rotation_range=30)\n",
        "aug.fit(X_train)\n",
        "aug4_data = aug.flow(X_train, y_train, batch_size=240)"
      ]
    },
    {
      "cell_type": "code",
      "execution_count": 60,
      "metadata": {
        "ExecuteTime": {
          "end_time": "2022-05-23T14:37:16.015689Z",
          "start_time": "2022-05-23T14:37:15.105400Z"
        },
        "id": "Eltvmy_pVMpD"
      },
      "outputs": [],
      "source": [
        "aug4_images, aug4_labels = next(aug4_data)"
      ]
    },
    {
      "cell_type": "code",
      "execution_count": 61,
      "metadata": {
        "ExecuteTime": {
          "end_time": "2022-05-23T14:37:16.227785Z",
          "start_time": "2022-05-23T14:37:16.016782Z"
        },
        "id": "7Oyz8kNFVMpD"
      },
      "outputs": [],
      "source": [
        "new_images4 = np.concatenate([new_images3, aug4_images])\n",
        "new_labels4 = np.concatenate([new_labels3, aug4_labels])"
      ]
    },
    {
      "cell_type": "markdown",
      "metadata": {
        "id": "zrVoakjgVMpE"
      },
      "source": [
        "#### Shear Augmentation"
      ]
    },
    {
      "cell_type": "markdown",
      "metadata": {
        "id": "4MhkPjfRVMpE"
      },
      "source": [
        "We then apply a random shear value to each image. This angles the corners of each image up to 30 degrees."
      ]
    },
    {
      "cell_type": "code",
      "execution_count": 62,
      "metadata": {
        "ExecuteTime": {
          "end_time": "2022-05-23T14:37:16.271825Z",
          "start_time": "2022-05-23T14:37:16.228737Z"
        },
        "id": "A98t7WqlVMpE"
      },
      "outputs": [],
      "source": [
        "aug = ImageDataGenerator(shear_range=30)\n",
        "aug.fit(X_train)\n",
        "aug5_data = aug.flow(X_train, y_train, batch_size=240)"
      ]
    },
    {
      "cell_type": "code",
      "execution_count": 63,
      "metadata": {
        "ExecuteTime": {
          "end_time": "2022-05-23T14:37:17.170867Z",
          "start_time": "2022-05-23T14:37:16.272764Z"
        },
        "id": "4Vy3Qkq1VMpE"
      },
      "outputs": [],
      "source": [
        "aug5_images, aug5_labels = next(aug5_data)"
      ]
    },
    {
      "cell_type": "code",
      "execution_count": 64,
      "metadata": {
        "ExecuteTime": {
          "end_time": "2022-05-23T14:37:17.493386Z",
          "start_time": "2022-05-23T14:37:17.172084Z"
        },
        "id": "Zo08rN86VMpE"
      },
      "outputs": [],
      "source": [
        "new_images5 = np.concatenate([new_images4, aug5_images])\n",
        "new_labels5 = np.concatenate([new_labels4, aug5_labels])"
      ]
    },
    {
      "cell_type": "markdown",
      "metadata": {
        "id": "vPAJLxNgVMpE"
      },
      "source": [
        "#### Brightness Augmentation"
      ]
    },
    {
      "cell_type": "markdown",
      "metadata": {
        "ExecuteTime": {
          "end_time": "2022-05-20T18:49:59.247310Z",
          "start_time": "2022-05-20T18:49:59.202157Z"
        },
        "id": "q--F3ZLOVMpE"
      },
      "source": [
        "Finally we have brightness augmentation. This applies a random brightness shift within the provided range. "
      ]
    },
    {
      "cell_type": "code",
      "execution_count": 65,
      "metadata": {
        "ExecuteTime": {
          "end_time": "2022-05-23T14:37:17.518943Z",
          "start_time": "2022-05-23T14:37:17.494551Z"
        },
        "id": "P9euYu32VMpE"
      },
      "outputs": [],
      "source": [
        "aug = ImageDataGenerator(brightness_range=(1,2))\n",
        "aug.fit(X_train)\n",
        "aug5_data = aug.flow(X_train, y_train, batch_size=240)"
      ]
    },
    {
      "cell_type": "code",
      "execution_count": 66,
      "metadata": {
        "ExecuteTime": {
          "end_time": "2022-05-23T14:37:17.599761Z",
          "start_time": "2022-05-23T14:37:17.519903Z"
        },
        "id": "I8FjcCHlVMpE"
      },
      "outputs": [],
      "source": [
        "aug6_images, aug6_labels = next(aug5_data)"
      ]
    },
    {
      "cell_type": "code",
      "execution_count": 67,
      "metadata": {
        "ExecuteTime": {
          "end_time": "2022-05-23T14:37:17.933568Z",
          "start_time": "2022-05-23T14:37:17.600704Z"
        },
        "id": "crrsJuFCVMpE"
      },
      "outputs": [],
      "source": [
        "new_images6 = np.concatenate([new_images5, aug6_images])\n",
        "new_labels6 = np.concatenate([new_labels5, aug6_labels])"
      ]
    },
    {
      "cell_type": "code",
      "execution_count": 68,
      "metadata": {
        "ExecuteTime": {
          "end_time": "2022-05-23T14:37:17.940498Z",
          "start_time": "2022-05-23T14:37:17.936520Z"
        },
        "id": "LbIctUqMVMpE",
        "outputId": "bfd15a71-aea2-47be-82e6-cf7362c084aa",
        "colab": {
          "base_uri": "https://localhost:8080/"
        }
      },
      "outputs": [
        {
          "output_type": "execute_result",
          "data": {
            "text/plain": [
              "(1680,)"
            ]
          },
          "metadata": {},
          "execution_count": 68
        }
      ],
      "source": [
        "new_labels6.shape"
      ]
    },
    {
      "cell_type": "markdown",
      "metadata": {
        "id": "PraGgowOVMpE"
      },
      "source": [
        "#### A little bit of everything Augmentation"
      ]
    },
    {
      "cell_type": "markdown",
      "metadata": {
        "id": "oeWeNkeEVMpE"
      },
      "source": [
        "Now that we have augmented each image with a single augmentation, we will again augment all images with a combination of each augmentation. "
      ]
    },
    {
      "cell_type": "code",
      "execution_count": 69,
      "metadata": {
        "ExecuteTime": {
          "end_time": "2022-05-23T14:37:23.897668Z",
          "start_time": "2022-05-23T14:37:23.306209Z"
        },
        "id": "3KKktYHYVMpE"
      },
      "outputs": [],
      "source": [
        "aug = ImageDataGenerator(zoom_range=[.7,.9], width_shift_range=.15, height_shift_range=.15, rotation_range=15, shear_range=15, brightness_range=(1,1.5))\n",
        "aug.fit(new_images6)\n",
        "aug_data_final = aug.flow(new_images6, new_labels6, batch_size=1680)"
      ]
    },
    {
      "cell_type": "code",
      "execution_count": 70,
      "metadata": {
        "ExecuteTime": {
          "end_time": "2022-05-23T14:37:31.294868Z",
          "start_time": "2022-05-23T14:37:24.067101Z"
        },
        "id": "YRPNXMZnVMpE"
      },
      "outputs": [],
      "source": [
        "aug_final_images, aug_final_labels = next(aug_data_final)"
      ]
    },
    {
      "cell_type": "code",
      "execution_count": 71,
      "metadata": {
        "ExecuteTime": {
          "end_time": "2022-05-23T14:37:32.008243Z",
          "start_time": "2022-05-23T14:37:31.297280Z"
        },
        "id": "bmTXvNIBVMpE"
      },
      "outputs": [],
      "source": [
        "final_images = np.concatenate([new_images6, aug_final_images])\n",
        "final_labels = np.concatenate([new_labels6, aug_final_labels])"
      ]
    },
    {
      "cell_type": "code",
      "execution_count": 72,
      "metadata": {
        "ExecuteTime": {
          "end_time": "2022-05-23T14:37:32.015100Z",
          "start_time": "2022-05-23T14:37:32.009292Z"
        },
        "id": "RmyXE3t_VMpE",
        "outputId": "d0c2f4af-4999-44b1-b742-76f9ec016177",
        "colab": {
          "base_uri": "https://localhost:8080/"
        }
      },
      "outputs": [
        {
          "output_type": "execute_result",
          "data": {
            "text/plain": [
              "(3360, 256, 256, 1)"
            ]
          },
          "metadata": {},
          "execution_count": 72
        }
      ],
      "source": [
        "final_images.shape"
      ]
    },
    {
      "cell_type": "code",
      "execution_count": 73,
      "metadata": {
        "ExecuteTime": {
          "end_time": "2022-05-23T14:37:32.019455Z",
          "start_time": "2022-05-23T14:37:32.016958Z"
        },
        "id": "PSMlqrLQVMpE",
        "outputId": "9ae57f9d-66da-4545-b14a-6659dc0806a5",
        "colab": {
          "base_uri": "https://localhost:8080/"
        }
      },
      "outputs": [
        {
          "output_type": "execute_result",
          "data": {
            "text/plain": [
              "(3360,)"
            ]
          },
          "metadata": {},
          "execution_count": 73
        }
      ],
      "source": [
        "final_labels.shape"
      ]
    },
    {
      "cell_type": "code",
      "execution_count": 74,
      "metadata": {
        "ExecuteTime": {
          "end_time": "2022-05-23T14:37:32.033769Z",
          "start_time": "2022-05-23T14:37:32.020208Z"
        },
        "id": "XcGO7NBlVMpE",
        "outputId": "d9db7f84-d7ec-4641-c10a-fe0101469d41",
        "colab": {
          "base_uri": "https://localhost:8080/",
          "height": 0
        }
      },
      "outputs": [
        {
          "output_type": "execute_result",
          "data": {
            "text/plain": [
              "<PIL.Image.Image image mode=L size=256x256 at 0x7F296A96AB50>"
            ],
            "image/png": "[encoded data removed]"
          },
          "metadata": {},
          "execution_count": 74
        }
      ],
      "source": [
        "array_to_img(final_images[0])"
      ]
    },
    {
      "cell_type": "code",
      "execution_count": 75,
      "metadata": {
        "ExecuteTime": {
          "end_time": "2022-05-23T14:37:32.040012Z",
          "start_time": "2022-05-23T14:37:32.034835Z"
        },
        "id": "Etb2N03MVMpE",
        "outputId": "c18e8083-8b29-4aa1-8870-d4c0cba0f1fc",
        "colab": {
          "base_uri": "https://localhost:8080/"
        }
      },
      "outputs": [
        {
          "output_type": "execute_result",
          "data": {
            "text/plain": [
              "1.0"
            ]
          },
          "metadata": {},
          "execution_count": 75
        }
      ],
      "source": [
        "final_labels[0]"
      ]
    },
    {
      "cell_type": "markdown",
      "metadata": {
        "id": "z50UnX6lVMpF"
      },
      "source": [
        "## Modeling"
      ]
    },
    {
      "cell_type": "markdown",
      "metadata": {
        "id": "lbMYrdYYVMpF"
      },
      "source": [
        "### Dummy Model"
      ]
    },
    {
      "cell_type": "markdown",
      "metadata": {
        "id": "EEgVJQHHVMpF"
      },
      "source": [
        "Our first model will be a baseline model for comparison. We will utilize Sklearn's DummyClassifier which uses the most frequent class as it's prediction. "
      ]
    },
    {
      "cell_type": "code",
      "execution_count": 76,
      "metadata": {
        "ExecuteTime": {
          "end_time": "2022-05-23T14:37:35.366797Z",
          "start_time": "2022-05-23T14:37:35.332169Z"
        },
        "id": "qP00hpPcVMpF",
        "outputId": "72db3fb1-5ec6-42f6-dda6-79959eb20e2c",
        "colab": {
          "base_uri": "https://localhost:8080/"
        }
      },
      "outputs": [
        {
          "output_type": "execute_result",
          "data": {
            "text/plain": [
              "DummyClassifier(strategy='most_frequent')"
            ]
          },
          "metadata": {},
          "execution_count": 76
        }
      ],
      "source": [
        "dummy_model = DummyClassifier(strategy='most_frequent')\n",
        "dummy_model.fit(final_images, final_labels)"
      ]
    },
    {
      "cell_type": "code",
      "execution_count": 77,
      "metadata": {
        "ExecuteTime": {
          "end_time": "2022-05-23T14:37:35.762069Z",
          "start_time": "2022-05-23T14:37:35.728654Z"
        },
        "id": "8KQp_KtPVMpF"
      },
      "outputs": [],
      "source": [
        "dummy_preds = dummy_model.predict(X_test)\n",
        "\n",
        "dummy_acc = dummy_model.score(X_test, y_test)"
      ]
    },
    {
      "cell_type": "code",
      "execution_count": 78,
      "metadata": {
        "ExecuteTime": {
          "end_time": "2022-05-23T14:37:36.158514Z",
          "start_time": "2022-05-23T14:37:36.146852Z"
        },
        "id": "C7rlitmuVMpF",
        "outputId": "5d2b306a-b0da-4b45-f936-f5f2223d345c",
        "colab": {
          "base_uri": "https://localhost:8080/"
        }
      },
      "outputs": [
        {
          "output_type": "execute_result",
          "data": {
            "text/plain": [
              "0.43333333333333335"
            ]
          },
          "metadata": {},
          "execution_count": 78
        }
      ],
      "source": [
        "dummy_acc"
      ]
    },
    {
      "cell_type": "markdown",
      "metadata": {
        "id": "YnH0P0uyVMpF"
      },
      "source": [
        "### Scikit Learn Keras Classifier"
      ]
    },
    {
      "cell_type": "code",
      "execution_count": 79,
      "metadata": {
        "ExecuteTime": {
          "end_time": "2022-05-23T13:39:25.574306Z",
          "start_time": "2022-05-23T13:39:25.527391Z"
        },
        "id": "yo69jkvCVMpF"
      },
      "outputs": [],
      "source": [
        "adam = Adam(learning_rate=.0001)"
      ]
    },
    {
      "cell_type": "code",
      "execution_count": 80,
      "metadata": {
        "ExecuteTime": {
          "end_time": "2022-05-23T13:39:26.015659Z",
          "start_time": "2022-05-23T13:39:25.989022Z"
        },
        "id": "JC3SRpEPVMpF"
      },
      "outputs": [],
      "source": [
        "def build_model():\n",
        "    model = Sequential()\n",
        "\n",
        "    model.add(layers.Conv2D(16, (3,3), activation='relu', input_shape=(256,256,1)))\n",
        "    model.add(layers.MaxPool2D())\n",
        "    model.add(layers.Dropout(0.2))\n",
        "\n",
        "    model.add(layers.Conv2D(32, 3, activation='relu'))\n",
        "    model.add(layers.MaxPool2D())\n",
        "\n",
        "    model.add(layers.Flatten())\n",
        "\n",
        "    model.add(layers.Dense(64, activation='relu'))\n",
        "\n",
        "    model.add(layers.Dense(128, activation='relu'))\n",
        "    model.add(layers.Dropout(0.2))\n",
        "\n",
        "    model.add(layers.Dense(64, activation='relu'))\n",
        "\n",
        "    model.add(layers.Dense(32, activation='relu'))\n",
        "\n",
        "    model.add(layers.Dense(1, activation='sigmoid'))\n",
        "\n",
        "    model.compile(optimizer=adam,\n",
        "                  loss='binary_crossentropy',\n",
        "                  metrics=['accuracy'])\n",
        "    \n",
        "    return model"
      ]
    },
    {
      "cell_type": "code",
      "execution_count": 81,
      "metadata": {
        "ExecuteTime": {
          "end_time": "2022-05-23T13:39:27.328450Z",
          "start_time": "2022-05-23T13:39:27.313083Z"
        },
        "id": "frclz_Y5VMpF",
        "outputId": "37bf3415-a4f7-4df3-9e58-0f4a48728d28",
        "colab": {
          "base_uri": "https://localhost:8080/"
        }
      },
      "outputs": [
        {
          "output_type": "stream",
          "name": "stderr",
          "text": [
            "/usr/local/lib/python3.7/dist-packages/ipykernel_launcher.py:4: DeprecationWarning: KerasClassifier is deprecated, use Sci-Keras (https://github.com/adriangb/scikeras) instead. See https://www.adriangb.com/scikeras/stable/migration.html for help migrating.\n",
            "  after removing the cwd from sys.path.\n"
          ]
        }
      ],
      "source": [
        "model3 = scikit_learn.KerasClassifier(build_model,\n",
        "                                          epochs=25,\n",
        "                                          batch_size=32,\n",
        "                                          verbose=2)"
      ]
    },
    {
      "cell_type": "code",
      "execution_count": 82,
      "metadata": {
        "ExecuteTime": {
          "end_time": "2022-05-19T18:41:59.855237Z",
          "start_time": "2022-05-19T18:41:36.681608Z"
        },
        "collapsed": true,
        "id": "eLUikXN1VMpF",
        "outputId": "f0c6e74d-6cb0-4ca6-bcf6-9500bd83dfbe",
        "colab": {
          "base_uri": "https://localhost:8080/"
        }
      },
      "outputs": [
        {
          "output_type": "stream",
          "name": "stdout",
          "text": [
            "Epoch 1/25\n",
            "84/84 - 12s - loss: 13.0918 - accuracy: 0.5089 - 12s/epoch - 144ms/step\n",
            "Epoch 2/25\n",
            "84/84 - 2s - loss: 0.7071 - accuracy: 0.5153 - 2s/epoch - 18ms/step\n",
            "Epoch 3/25\n",
            "84/84 - 2s - loss: 0.6931 - accuracy: 0.5160 - 2s/epoch - 18ms/step\n",
            "Epoch 4/25\n",
            "84/84 - 2s - loss: 0.6930 - accuracy: 0.5160 - 2s/epoch - 18ms/step\n",
            "Epoch 5/25\n",
            "84/84 - 2s - loss: 0.7194 - accuracy: 0.5134 - 2s/epoch - 18ms/step\n",
            "Epoch 6/25\n",
            "84/84 - 2s - loss: 0.6929 - accuracy: 0.5160 - 2s/epoch - 18ms/step\n",
            "Epoch 7/25\n",
            "84/84 - 2s - loss: 0.6929 - accuracy: 0.5160 - 2s/epoch - 18ms/step\n",
            "Epoch 8/25\n",
            "84/84 - 2s - loss: 0.6928 - accuracy: 0.5164 - 2s/epoch - 18ms/step\n",
            "Epoch 9/25\n",
            "84/84 - 2s - loss: 0.6928 - accuracy: 0.5164 - 2s/epoch - 18ms/step\n",
            "Epoch 10/25\n",
            "84/84 - 2s - loss: 0.6928 - accuracy: 0.5164 - 2s/epoch - 18ms/step\n",
            "Epoch 11/25\n",
            "84/84 - 2s - loss: 0.6928 - accuracy: 0.5164 - 2s/epoch - 18ms/step\n",
            "Epoch 12/25\n",
            "84/84 - 2s - loss: 0.6928 - accuracy: 0.5164 - 2s/epoch - 18ms/step\n",
            "Epoch 13/25\n",
            "84/84 - 2s - loss: 0.6927 - accuracy: 0.5164 - 2s/epoch - 18ms/step\n",
            "Epoch 14/25\n",
            "84/84 - 2s - loss: 0.6927 - accuracy: 0.5164 - 2s/epoch - 18ms/step\n",
            "Epoch 15/25\n",
            "84/84 - 2s - loss: 0.6927 - accuracy: 0.5164 - 2s/epoch - 18ms/step\n",
            "Epoch 16/25\n",
            "84/84 - 2s - loss: 0.6926 - accuracy: 0.5164 - 2s/epoch - 18ms/step\n",
            "Epoch 17/25\n",
            "84/84 - 2s - loss: 0.6927 - accuracy: 0.5164 - 2s/epoch - 18ms/step\n",
            "Epoch 18/25\n",
            "84/84 - 2s - loss: 0.6926 - accuracy: 0.5164 - 2s/epoch - 18ms/step\n",
            "Epoch 19/25\n",
            "84/84 - 2s - loss: 0.6926 - accuracy: 0.5164 - 2s/epoch - 18ms/step\n",
            "Epoch 20/25\n",
            "84/84 - 2s - loss: 0.6926 - accuracy: 0.5164 - 2s/epoch - 18ms/step\n",
            "Epoch 21/25\n",
            "84/84 - 2s - loss: 0.6926 - accuracy: 0.5164 - 2s/epoch - 18ms/step\n",
            "Epoch 22/25\n",
            "84/84 - 2s - loss: 0.6926 - accuracy: 0.5164 - 2s/epoch - 18ms/step\n",
            "Epoch 23/25\n",
            "84/84 - 2s - loss: 0.6925 - accuracy: 0.5164 - 2s/epoch - 18ms/step\n",
            "Epoch 24/25\n",
            "84/84 - 2s - loss: 0.6925 - accuracy: 0.5164 - 2s/epoch - 18ms/step\n",
            "Epoch 25/25\n",
            "84/84 - 2s - loss: 0.6925 - accuracy: 0.5164 - 2s/epoch - 18ms/step\n",
            "21/21 - 0s - loss: 0.6925 - accuracy: 0.5193 - 329ms/epoch - 16ms/step\n",
            "Epoch 1/25\n",
            "84/84 - 2s - loss: 14.0853 - accuracy: 0.5052 - 2s/epoch - 24ms/step\n",
            "Epoch 2/25\n",
            "84/84 - 2s - loss: 0.7281 - accuracy: 0.5045 - 2s/epoch - 18ms/step\n",
            "Epoch 3/25\n",
            "84/84 - 2s - loss: 0.7001 - accuracy: 0.5037 - 2s/epoch - 18ms/step\n",
            "Epoch 4/25\n",
            "84/84 - 2s - loss: 0.6974 - accuracy: 0.5160 - 2s/epoch - 18ms/step\n",
            "Epoch 5/25\n",
            "84/84 - 2s - loss: 0.6870 - accuracy: 0.5171 - 2s/epoch - 18ms/step\n",
            "Epoch 6/25\n",
            "84/84 - 2s - loss: 0.6740 - accuracy: 0.5342 - 2s/epoch - 18ms/step\n",
            "Epoch 7/25\n",
            "84/84 - 2s - loss: 0.6640 - accuracy: 0.5521 - 2s/epoch - 18ms/step\n",
            "Epoch 8/25\n",
            "84/84 - 2s - loss: 0.6526 - accuracy: 0.5588 - 2s/epoch - 18ms/step\n",
            "Epoch 9/25\n",
            "84/84 - 2s - loss: 0.6323 - accuracy: 0.5792 - 2s/epoch - 18ms/step\n",
            "Epoch 10/25\n",
            "84/84 - 2s - loss: 0.6103 - accuracy: 0.6053 - 2s/epoch - 18ms/step\n",
            "Epoch 11/25\n",
            "84/84 - 2s - loss: 0.5868 - accuracy: 0.6257 - 2s/epoch - 18ms/step\n",
            "Epoch 12/25\n",
            "84/84 - 2s - loss: 0.5696 - accuracy: 0.6529 - 2s/epoch - 18ms/step\n",
            "Epoch 13/25\n",
            "84/84 - 2s - loss: 0.5597 - accuracy: 0.6484 - 2s/epoch - 18ms/step\n",
            "Epoch 14/25\n",
            "84/84 - 2s - loss: 0.5443 - accuracy: 0.6611 - 2s/epoch - 18ms/step\n",
            "Epoch 15/25\n",
            "84/84 - 2s - loss: 0.5321 - accuracy: 0.6815 - 2s/epoch - 18ms/step\n",
            "Epoch 16/25\n",
            "84/84 - 2s - loss: 0.5092 - accuracy: 0.6860 - 2s/epoch - 18ms/step\n",
            "Epoch 17/25\n",
            "84/84 - 2s - loss: 0.5042 - accuracy: 0.7028 - 2s/epoch - 18ms/step\n",
            "Epoch 18/25\n",
            "84/84 - 2s - loss: 0.4976 - accuracy: 0.7158 - 2s/epoch - 18ms/step\n",
            "Epoch 19/25\n",
            "84/84 - 2s - loss: 0.4798 - accuracy: 0.7299 - 2s/epoch - 18ms/step\n",
            "Epoch 20/25\n",
            "84/84 - 2s - loss: 0.4694 - accuracy: 0.7325 - 2s/epoch - 18ms/step\n",
            "Epoch 21/25\n",
            "84/84 - 2s - loss: 0.4616 - accuracy: 0.7385 - 2s/epoch - 18ms/step\n",
            "Epoch 22/25\n",
            "84/84 - 2s - loss: 0.4412 - accuracy: 0.7567 - 2s/epoch - 18ms/step\n",
            "Epoch 23/25\n",
            "84/84 - 2s - loss: 0.4333 - accuracy: 0.7679 - 2s/epoch - 18ms/step\n",
            "Epoch 24/25\n",
            "84/84 - 2s - loss: 0.4058 - accuracy: 0.7779 - 2s/epoch - 18ms/step\n",
            "Epoch 25/25\n",
            "84/84 - 2s - loss: 0.4060 - accuracy: 0.7716 - 2s/epoch - 18ms/step\n",
            "21/21 - 0s - loss: 0.6672 - accuracy: 0.5714 - 317ms/epoch - 15ms/step\n",
            "Epoch 1/25\n",
            "84/84 - 2s - loss: 9.6904 - accuracy: 0.4926 - 2s/epoch - 27ms/step\n",
            "Epoch 2/25\n",
            "84/84 - 2s - loss: 0.7117 - accuracy: 0.4955 - 2s/epoch - 18ms/step\n",
            "Epoch 3/25\n",
            "84/84 - 2s - loss: 0.6857 - accuracy: 0.5335 - 2s/epoch - 18ms/step\n",
            "Epoch 4/25\n",
            "84/84 - 2s - loss: 0.6776 - accuracy: 0.5394 - 2s/epoch - 18ms/step\n",
            "Epoch 5/25\n",
            "84/84 - 2s - loss: 0.6677 - accuracy: 0.5577 - 2s/epoch - 18ms/step\n",
            "Epoch 6/25\n",
            "84/84 - 2s - loss: 0.6587 - accuracy: 0.5584 - 2s/epoch - 18ms/step\n",
            "Epoch 7/25\n",
            "84/84 - 2s - loss: 0.6417 - accuracy: 0.5789 - 2s/epoch - 18ms/step\n",
            "Epoch 8/25\n",
            "84/84 - 2s - loss: 0.6255 - accuracy: 0.5915 - 2s/epoch - 18ms/step\n",
            "Epoch 9/25\n",
            "84/84 - 2s - loss: 0.6178 - accuracy: 0.5885 - 2s/epoch - 18ms/step\n",
            "Epoch 10/25\n",
            "84/84 - 2s - loss: 0.6057 - accuracy: 0.5919 - 2s/epoch - 18ms/step\n",
            "Epoch 11/25\n",
            "84/84 - 2s - loss: 0.5911 - accuracy: 0.6131 - 2s/epoch - 18ms/step\n",
            "Epoch 12/25\n",
            "84/84 - 2s - loss: 0.5755 - accuracy: 0.6518 - 2s/epoch - 18ms/step\n",
            "Epoch 13/25\n",
            "84/84 - 2s - loss: 0.5684 - accuracy: 0.6633 - 2s/epoch - 18ms/step\n",
            "Epoch 14/25\n",
            "84/84 - 2s - loss: 0.5557 - accuracy: 0.6830 - 2s/epoch - 18ms/step\n",
            "Epoch 15/25\n",
            "84/84 - 2s - loss: 0.5435 - accuracy: 0.7039 - 2s/epoch - 18ms/step\n",
            "Epoch 16/25\n",
            "84/84 - 2s - loss: 0.5265 - accuracy: 0.7158 - 2s/epoch - 18ms/step\n",
            "Epoch 17/25\n",
            "84/84 - 2s - loss: 0.5074 - accuracy: 0.7374 - 2s/epoch - 18ms/step\n",
            "Epoch 18/25\n",
            "84/84 - 2s - loss: 0.4887 - accuracy: 0.7452 - 2s/epoch - 18ms/step\n",
            "Epoch 19/25\n",
            "84/84 - 2s - loss: 0.4711 - accuracy: 0.7600 - 2s/epoch - 18ms/step\n",
            "Epoch 20/25\n",
            "84/84 - 2s - loss: 0.4469 - accuracy: 0.7708 - 2s/epoch - 18ms/step\n",
            "Epoch 21/25\n",
            "84/84 - 2s - loss: 0.4204 - accuracy: 0.7950 - 2s/epoch - 18ms/step\n",
            "Epoch 22/25\n",
            "84/84 - 2s - loss: 0.4105 - accuracy: 0.7894 - 2s/epoch - 18ms/step\n",
            "Epoch 23/25\n",
            "84/84 - 2s - loss: 0.3970 - accuracy: 0.8077 - 2s/epoch - 18ms/step\n",
            "Epoch 24/25\n",
            "84/84 - 2s - loss: 0.3655 - accuracy: 0.8196 - 2s/epoch - 19ms/step\n",
            "Epoch 25/25\n",
            "84/84 - 2s - loss: 0.3423 - accuracy: 0.8397 - 2s/epoch - 18ms/step\n",
            "21/21 - 0s - loss: 2.7832 - accuracy: 0.6354 - 325ms/epoch - 15ms/step\n",
            "Epoch 1/25\n",
            "84/84 - 2s - loss: 9.4601 - accuracy: 0.5015 - 2s/epoch - 25ms/step\n",
            "Epoch 2/25\n",
            "84/84 - 2s - loss: 0.6888 - accuracy: 0.5201 - 2s/epoch - 18ms/step\n",
            "Epoch 3/25\n",
            "84/84 - 2s - loss: 0.6528 - accuracy: 0.5618 - 2s/epoch - 18ms/step\n",
            "Epoch 4/25\n",
            "84/84 - 2s - loss: 0.6317 - accuracy: 0.5911 - 2s/epoch - 18ms/step\n",
            "Epoch 5/25\n",
            "84/84 - 2s - loss: 0.6057 - accuracy: 0.6257 - 2s/epoch - 18ms/step\n",
            "Epoch 6/25\n",
            "84/84 - 2s - loss: 0.5798 - accuracy: 0.6652 - 2s/epoch - 18ms/step\n",
            "Epoch 7/25\n",
            "84/84 - 2s - loss: 0.5640 - accuracy: 0.6789 - 2s/epoch - 18ms/step\n",
            "Epoch 8/25\n",
            "84/84 - 2s - loss: 0.5400 - accuracy: 0.7124 - 2s/epoch - 18ms/step\n",
            "Epoch 9/25\n",
            "84/84 - 2s - loss: 0.5090 - accuracy: 0.7340 - 2s/epoch - 18ms/step\n",
            "Epoch 10/25\n",
            "84/84 - 2s - loss: 0.4870 - accuracy: 0.7545 - 2s/epoch - 18ms/step\n",
            "Epoch 11/25\n",
            "84/84 - 2s - loss: 0.4625 - accuracy: 0.7675 - 2s/epoch - 18ms/step\n",
            "Epoch 12/25\n",
            "84/84 - 2s - loss: 0.4291 - accuracy: 0.7798 - 2s/epoch - 18ms/step\n",
            "Epoch 13/25\n",
            "84/84 - 2s - loss: 0.4161 - accuracy: 0.7935 - 2s/epoch - 18ms/step\n",
            "Epoch 14/25\n",
            "84/84 - 2s - loss: 0.4146 - accuracy: 0.7999 - 2s/epoch - 18ms/step\n",
            "Epoch 15/25\n",
            "84/84 - 2s - loss: 0.3620 - accuracy: 0.8177 - 2s/epoch - 18ms/step\n",
            "Epoch 16/25\n",
            "84/84 - 2s - loss: 0.3556 - accuracy: 0.8326 - 2s/epoch - 18ms/step\n",
            "Epoch 17/25\n",
            "84/84 - 2s - loss: 0.3521 - accuracy: 0.8497 - 2s/epoch - 18ms/step\n",
            "Epoch 18/25\n",
            "84/84 - 2s - loss: 0.3414 - accuracy: 0.8557 - 2s/epoch - 18ms/step\n",
            "Epoch 19/25\n",
            "84/84 - 2s - loss: 0.2867 - accuracy: 0.8590 - 2s/epoch - 18ms/step\n",
            "Epoch 20/25\n",
            "84/84 - 2s - loss: 0.2845 - accuracy: 0.8687 - 2s/epoch - 18ms/step\n",
            "Epoch 21/25\n",
            "84/84 - 2s - loss: 0.2630 - accuracy: 0.8821 - 2s/epoch - 18ms/step\n",
            "Epoch 22/25\n",
            "84/84 - 2s - loss: 0.2485 - accuracy: 0.8884 - 2s/epoch - 18ms/step\n",
            "Epoch 23/25\n",
            "84/84 - 2s - loss: 0.2343 - accuracy: 0.8958 - 2s/epoch - 18ms/step\n",
            "Epoch 24/25\n",
            "84/84 - 2s - loss: 0.2149 - accuracy: 0.9115 - 2s/epoch - 18ms/step\n",
            "Epoch 25/25\n",
            "84/84 - 2s - loss: 0.1955 - accuracy: 0.9222 - 2s/epoch - 18ms/step\n",
            "21/21 - 0s - loss: 7.5557 - accuracy: 0.5432 - 342ms/epoch - 16ms/step\n",
            "Epoch 1/25\n",
            "84/84 - 2s - loss: 10.0691 - accuracy: 0.5037 - 2s/epoch - 25ms/step\n",
            "Epoch 2/25\n",
            "84/84 - 2s - loss: 0.7158 - accuracy: 0.5260 - 2s/epoch - 19ms/step\n",
            "Epoch 3/25\n",
            "84/84 - 2s - loss: 0.6967 - accuracy: 0.5279 - 2s/epoch - 19ms/step\n",
            "Epoch 4/25\n",
            "84/84 - 2s - loss: 0.6619 - accuracy: 0.5610 - 2s/epoch - 19ms/step\n",
            "Epoch 5/25\n",
            "84/84 - 2s - loss: 0.6436 - accuracy: 0.5707 - 2s/epoch - 19ms/step\n",
            "Epoch 6/25\n",
            "84/84 - 2s - loss: 0.6166 - accuracy: 0.5908 - 2s/epoch - 18ms/step\n",
            "Epoch 7/25\n",
            "84/84 - 2s - loss: 0.6035 - accuracy: 0.6291 - 2s/epoch - 18ms/step\n",
            "Epoch 8/25\n",
            "84/84 - 2s - loss: 0.5904 - accuracy: 0.6336 - 2s/epoch - 18ms/step\n",
            "Epoch 9/25\n",
            "84/84 - 2s - loss: 0.5739 - accuracy: 0.6499 - 2s/epoch - 19ms/step\n",
            "Epoch 10/25\n",
            "84/84 - 2s - loss: 0.5650 - accuracy: 0.6637 - 2s/epoch - 19ms/step\n",
            "Epoch 11/25\n",
            "84/84 - 2s - loss: 0.5546 - accuracy: 0.6864 - 2s/epoch - 18ms/step\n",
            "Epoch 12/25\n",
            "84/84 - 2s - loss: 0.5399 - accuracy: 0.7102 - 2s/epoch - 18ms/step\n",
            "Epoch 13/25\n",
            "84/84 - 2s - loss: 0.5256 - accuracy: 0.7180 - 2s/epoch - 19ms/step\n",
            "Epoch 14/25\n",
            "84/84 - 2s - loss: 0.4974 - accuracy: 0.7362 - 2s/epoch - 18ms/step\n",
            "Epoch 15/25\n",
            "84/84 - 2s - loss: 0.4867 - accuracy: 0.7411 - 2s/epoch - 18ms/step\n",
            "Epoch 16/25\n",
            "84/84 - 2s - loss: 0.4542 - accuracy: 0.7530 - 2s/epoch - 18ms/step\n",
            "Epoch 17/25\n",
            "84/84 - 2s - loss: 0.4096 - accuracy: 0.7656 - 2s/epoch - 18ms/step\n",
            "Epoch 18/25\n",
            "84/84 - 2s - loss: 0.4100 - accuracy: 0.7872 - 2s/epoch - 18ms/step\n",
            "Epoch 19/25\n",
            "84/84 - 2s - loss: 0.3689 - accuracy: 0.8080 - 2s/epoch - 18ms/step\n",
            "Epoch 20/25\n",
            "84/84 - 2s - loss: 0.3334 - accuracy: 0.8378 - 2s/epoch - 19ms/step\n",
            "Epoch 21/25\n",
            "84/84 - 2s - loss: 0.3065 - accuracy: 0.8415 - 2s/epoch - 19ms/step\n",
            "Epoch 22/25\n",
            "84/84 - 2s - loss: 0.2954 - accuracy: 0.8627 - 2s/epoch - 18ms/step\n",
            "Epoch 23/25\n",
            "84/84 - 2s - loss: 0.2721 - accuracy: 0.8720 - 2s/epoch - 18ms/step\n",
            "Epoch 24/25\n",
            "84/84 - 2s - loss: 0.2487 - accuracy: 0.8958 - 2s/epoch - 18ms/step\n",
            "Epoch 25/25\n",
            "84/84 - 2s - loss: 0.2401 - accuracy: 0.8973 - 2s/epoch - 18ms/step\n",
            "21/21 - 0s - loss: 4.3862 - accuracy: 0.4911 - 316ms/epoch - 15ms/step\n"
          ]
        }
      ],
      "source": [
        "model3_cv_results = cross_val_score(model3, final_images, final_labels)"
      ]
    },
    {
      "cell_type": "code",
      "execution_count": 83,
      "metadata": {
        "id": "aPXnj9znVMpF",
        "outputId": "a6c0e863-d1d5-4b17-def5-6dfa9ab942eb",
        "colab": {
          "base_uri": "https://localhost:8080/"
        }
      },
      "outputs": [
        {
          "output_type": "execute_result",
          "data": {
            "text/plain": [
              "0.5520833432674408"
            ]
          },
          "metadata": {},
          "execution_count": 83
        }
      ],
      "source": [
        "model3_cv_results.mean()"
      ]
    },
    {
      "cell_type": "code",
      "execution_count": 84,
      "metadata": {
        "id": "-d4wqzcVVMpF"
      },
      "outputs": [],
      "source": [
        "model3_cv_pickle = 'drive/MyDrive/model3_cv_pickle.sav'\n",
        "pickle.dump(model3_cv_results, open(model3_cv_pickle, 'wb'))"
      ]
    },
    {
      "cell_type": "code",
      "execution_count": 86,
      "metadata": {
        "id": "tW110Eh5VMpF",
        "outputId": "e214c1ef-4382-4130-8d61-77b213e23026",
        "colab": {
          "base_uri": "https://localhost:8080/"
        }
      },
      "outputs": [
        {
          "output_type": "stream",
          "name": "stdout",
          "text": [
            "Epoch 1/25\n",
            "84/84 - 3s - loss: 17.3632 - accuracy: 0.5115 - val_loss: 0.6912 - val_accuracy: 0.5283 - 3s/epoch - 31ms/step\n",
            "Epoch 2/25\n",
            "84/84 - 2s - loss: 0.7120 - accuracy: 0.5063 - val_loss: 0.6920 - val_accuracy: 0.5312 - 2s/epoch - 22ms/step\n",
            "Epoch 3/25\n",
            "84/84 - 2s - loss: 0.6949 - accuracy: 0.5193 - val_loss: 0.6906 - val_accuracy: 0.5491 - 2s/epoch - 20ms/step\n",
            "Epoch 4/25\n",
            "84/84 - 2s - loss: 0.6787 - accuracy: 0.5458 - val_loss: 0.6876 - val_accuracy: 0.5580 - 2s/epoch - 22ms/step\n",
            "Epoch 5/25\n",
            "84/84 - 2s - loss: 0.6698 - accuracy: 0.5398 - val_loss: 0.6990 - val_accuracy: 0.5595 - 2s/epoch - 20ms/step\n",
            "Epoch 6/25\n",
            "84/84 - 2s - loss: 0.6467 - accuracy: 0.5688 - val_loss: 0.7256 - val_accuracy: 0.5506 - 2s/epoch - 20ms/step\n",
            "Epoch 7/25\n",
            "84/84 - 2s - loss: 0.6243 - accuracy: 0.6057 - val_loss: 0.8080 - val_accuracy: 0.5551 - 2s/epoch - 20ms/step\n",
            "Epoch 8/25\n",
            "84/84 - 2s - loss: 0.5922 - accuracy: 0.6369 - val_loss: 0.9427 - val_accuracy: 0.5595 - 2s/epoch - 22ms/step\n",
            "Epoch 9/25\n",
            "84/84 - 2s - loss: 0.5634 - accuracy: 0.6611 - val_loss: 1.3726 - val_accuracy: 0.5595 - 2s/epoch - 20ms/step\n",
            "Epoch 10/25\n",
            "84/84 - 2s - loss: 0.5400 - accuracy: 0.6693 - val_loss: 1.3864 - val_accuracy: 0.5432 - 2s/epoch - 22ms/step\n",
            "Epoch 11/25\n",
            "84/84 - 2s - loss: 0.5303 - accuracy: 0.6860 - val_loss: 1.2326 - val_accuracy: 0.5119 - 2s/epoch - 20ms/step\n",
            "Epoch 12/25\n",
            "84/84 - 2s - loss: 0.5113 - accuracy: 0.6931 - val_loss: 1.7537 - val_accuracy: 0.5238 - 2s/epoch - 21ms/step\n",
            "Epoch 13/25\n",
            "84/84 - 2s - loss: 0.4848 - accuracy: 0.7076 - val_loss: 1.9764 - val_accuracy: 0.5104 - 2s/epoch - 20ms/step\n",
            "Epoch 14/25\n",
            "84/84 - 2s - loss: 0.4629 - accuracy: 0.7347 - val_loss: 2.5297 - val_accuracy: 0.5104 - 2s/epoch - 22ms/step\n",
            "Epoch 15/25\n",
            "84/84 - 2s - loss: 0.4428 - accuracy: 0.7433 - val_loss: 2.0634 - val_accuracy: 0.5179 - 2s/epoch - 22ms/step\n",
            "Epoch 16/25\n",
            "84/84 - 2s - loss: 0.4159 - accuracy: 0.7686 - val_loss: 2.8726 - val_accuracy: 0.5208 - 2s/epoch - 23ms/step\n",
            "Epoch 17/25\n",
            "84/84 - 2s - loss: 0.4036 - accuracy: 0.7794 - val_loss: 3.1815 - val_accuracy: 0.5149 - 2s/epoch - 22ms/step\n",
            "Epoch 18/25\n",
            "84/84 - 2s - loss: 0.3787 - accuracy: 0.7913 - val_loss: 3.1495 - val_accuracy: 0.5089 - 2s/epoch - 20ms/step\n",
            "Epoch 19/25\n",
            "84/84 - 2s - loss: 0.3715 - accuracy: 0.7928 - val_loss: 3.0219 - val_accuracy: 0.5134 - 2s/epoch - 22ms/step\n",
            "Epoch 20/25\n",
            "84/84 - 2s - loss: 0.3365 - accuracy: 0.8244 - val_loss: 4.2191 - val_accuracy: 0.5149 - 2s/epoch - 22ms/step\n",
            "Epoch 21/25\n",
            "84/84 - 2s - loss: 0.3456 - accuracy: 0.8278 - val_loss: 2.8142 - val_accuracy: 0.5134 - 2s/epoch - 21ms/step\n",
            "Epoch 22/25\n",
            "84/84 - 2s - loss: 0.3267 - accuracy: 0.8356 - val_loss: 2.7464 - val_accuracy: 0.5283 - 2s/epoch - 21ms/step\n",
            "Epoch 23/25\n",
            "84/84 - 2s - loss: 0.3182 - accuracy: 0.8423 - val_loss: 2.9560 - val_accuracy: 0.5179 - 2s/epoch - 22ms/step\n",
            "Epoch 24/25\n",
            "84/84 - 2s - loss: 0.2968 - accuracy: 0.8504 - val_loss: 3.6517 - val_accuracy: 0.5074 - 2s/epoch - 22ms/step\n",
            "Epoch 25/25\n",
            "84/84 - 2s - loss: 0.2786 - accuracy: 0.8478 - val_loss: 3.5563 - val_accuracy: 0.5149 - 2s/epoch - 22ms/step\n"
          ]
        }
      ],
      "source": [
        "model3_results = model3.fit(final_images, final_labels, validation_split=.2)"
      ]
    },
    {
      "cell_type": "code",
      "source": [
        "model3_results_pickle = 'drive/MyDrive/model3_results_pickle.sav'\n",
        "pickle.dump(model3_results, open(model3_results_pickle, 'wb'))"
      ],
      "metadata": {
        "id": "Ae7jQFKsRPfn",
        "outputId": "1376f085-659d-4ce0-8699-c58d16042e11",
        "colab": {
          "base_uri": "https://localhost:8080/"
        }
      },
      "execution_count": 87,
      "outputs": [
        {
          "output_type": "stream",
          "name": "stdout",
          "text": [
            "INFO:tensorflow:Assets written to: ram://4caee986-216d-4ae1-8c5a-e15160ab6794/assets\n"
          ]
        }
      ]
    },
    {
      "cell_type": "code",
      "execution_count": 88,
      "metadata": {
        "id": "FfxfRlmGVMpF",
        "outputId": "358e3f36-a4a0-4d80-a49e-145663a22467",
        "colab": {
          "base_uri": "https://localhost:8080/"
        }
      },
      "outputs": [
        {
          "output_type": "stream",
          "name": "stdout",
          "text": [
            "INFO:tensorflow:Assets written to: ram://4e771816-c35a-4c14-9ae9-ae4921cfcac2/assets\n"
          ]
        }
      ],
      "source": [
        "model3_pickle = 'drive/MyDrive/model3_pickle.sav'\n",
        "pickle.dump(model3, open(model3_pickle, 'wb'))"
      ]
    },
    {
      "cell_type": "code",
      "source": [
        ""
      ],
      "metadata": {
        "id": "YmpD9fMzuXg-"
      },
      "execution_count": null,
      "outputs": []
    }
  ],
  "metadata": {
    "kernelspec": {
      "display_name": "tf-test",
      "language": "python",
      "name": "tf-test"
    },
    "language_info": {
      "codemirror_mode": {
        "name": "ipython",
        "version": 3
      },
      "file_extension": ".py",
      "mimetype": "text/x-python",
      "name": "python",
      "nbconvert_exporter": "python",
      "pygments_lexer": "ipython3",
      "version": "3.6.13"
    },
    "toc": {
      "base_numbering": 1,
      "nav_menu": {},
      "number_sections": true,
      "sideBar": true,
      "skip_h1_title": false,
      "title_cell": "Table of Contents",
      "title_sidebar": "Contents",
      "toc_cell": false,
      "toc_position": {},
      "toc_section_display": true,
      "toc_window_display": false
    },
    "colab": {
      "name": "Model3_Notebook.ipynb",
      "provenance": []
    },
    "accelerator": "GPU"
  },
  "nbformat": 4,
  "nbformat_minor": 0
}