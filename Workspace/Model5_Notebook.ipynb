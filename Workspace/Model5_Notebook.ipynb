{
  "cells": [
    {
      "cell_type": "markdown",
      "metadata": {
        "id": "0u7YTY_2VMo5"
      },
      "source": [
        "# Signature Classification"
      ]
    },
    {
      "cell_type": "markdown",
      "metadata": {
        "id": "xjUEM33ZVMo8"
      },
      "source": [
        "![img](https://github.com/ZachRauch/Signature_Classification/blob/main/images/signature_banner.jpeg?raw=1)"
      ]
    },
    {
      "cell_type": "markdown",
      "metadata": {
        "id": "pMutZcPfVMo8"
      },
      "source": [
        "## Overview"
      ]
    },
    {
      "cell_type": "markdown",
      "metadata": {
        "id": "A3nz0P2pVMo8"
      },
      "source": [
        "The aim of this analysis is to identify fraudulent signatures in a dataset. My audience here is _______. Using just a small dataset with only 300 sample I was able to create a "
      ]
    },
    {
      "cell_type": "markdown",
      "metadata": {
        "id": "zTaZIfQdVMo8"
      },
      "source": [
        "## Business Problem"
      ]
    },
    {
      "cell_type": "markdown",
      "metadata": {
        "id": "Mb3CrM7uVMo9"
      },
      "source": [
        "Currently institutions and businesses recognize signatures as the primary way of authenticating transactions. Signatures are used to sign checks, authorize documents and contracts, and validate credit card transactions. According to recent studies, check fraud costs banks about $900M a year with 22 percent of all fraudulent checks attributed to signature fraud. Therefor, creating an algorithm to identify signature fraud is a valuable asset. "
      ]
    },
    {
      "cell_type": "code",
      "execution_count": null,
      "metadata": {
        "id": "BOSvcOrbVMo9"
      },
      "outputs": [],
      "source": [
        ""
      ]
    },
    {
      "cell_type": "markdown",
      "metadata": {
        "id": "yPdUjdUbVMo-"
      },
      "source": [
        "## Imports"
      ]
    },
    {
      "cell_type": "code",
      "execution_count": 1,
      "metadata": {
        "ExecuteTime": {
          "end_time": "2022-05-23T14:37:08.394347Z",
          "start_time": "2022-05-23T14:37:04.340878Z"
        },
        "id": "nVM33V7MVMo-"
      },
      "outputs": [],
      "source": [
        "import pandas as pd\n",
        "import numpy as np\n",
        "import matplotlib.pyplot as plt\n",
        "%matplotlib inline\n",
        "import seaborn as sns\n",
        "import tensorflow \n",
        "from tensorflow.keras.models import Sequential\n",
        "import zipfile\n",
        "\n",
        "from tensorflow import keras\n",
        "from tensorflow.keras.preprocessing.image import ImageDataGenerator, array_to_img, img_to_array, load_img\n",
        "from tensorflow.keras import models, layers, optimizers, metrics, regularizers, losses\n",
        "from tensorflow.keras.wrappers import scikit_learn\n",
        "from tensorflow.keras.wrappers.scikit_learn import KerasClassifier\n",
        "from tensorflow.keras.applications import VGG16\n",
        "\n",
        "from sklearn.model_selection import train_test_split, cross_val_score\n",
        "from sklearn.dummy import DummyClassifier\n",
        "from tensorflow.keras.optimizers import SGD, Adam\n",
        "\n",
        "import pickle\n",
        "\n",
        "np.random.seed(42)"
      ]
    },
    {
      "cell_type": "markdown",
      "metadata": {
        "id": "ZIokb6aUVMo_"
      },
      "source": [
        "## Colab Necessary Code"
      ]
    },
    {
      "cell_type": "markdown",
      "metadata": {
        "id": "7oNb5f32VMpA"
      },
      "source": [
        "Google Colab was used to help streamline the modeling process. Modeling using Convolutional Neural Networks can be computationally expensive, so if you would like to run this notebook faster, I would recommend creating a Colab account and storing the data, discussed below, in a Google Drive file. "
      ]
    },
    {
      "cell_type": "code",
      "execution_count": null,
      "metadata": {
        "ExecuteTime": {
          "end_time": "2022-05-23T14:37:08.397228Z",
          "start_time": "2022-05-23T14:37:08.395733Z"
        },
        "colab": {
          "base_uri": "https://localhost:8080/"
        },
        "id": "tU9iM7l-VMpA",
        "outputId": "049e43ad-6e5a-4982-c1bc-548a84a8c808"
      },
      "outputs": [
        {
          "output_type": "stream",
          "name": "stdout",
          "text": [
            "Mounted at /content/drive\n"
          ]
        }
      ],
      "source": [
        "from google.colab import drive\n",
        "drive.mount('/content/drive')"
      ]
    },
    {
      "cell_type": "code",
      "execution_count": null,
      "metadata": {
        "ExecuteTime": {
          "end_time": "2022-05-23T14:37:08.399434Z",
          "start_time": "2022-05-23T14:37:08.398072Z"
        },
        "colab": {
          "base_uri": "https://localhost:8080/"
        },
        "id": "AHvTlFr9VMpA",
        "outputId": "65492a15-bb08-4b68-8c4b-c7b09d328366"
      },
      "outputs": [
        {
          "output_type": "stream",
          "name": "stdout",
          "text": [
            "Looking in indexes: https://pypi.org/simple, https://us-python.pkg.dev/colab-wheels/public/simple/\n",
            "Collecting unzip\n",
            "  Downloading unzip-1.0.0.tar.gz (704 bytes)\n",
            "Building wheels for collected packages: unzip\n",
            "  Building wheel for unzip (setup.py) ... \u001b[?25l\u001b[?25hdone\n",
            "  Created wheel for unzip: filename=unzip-1.0.0-py3-none-any.whl size=1319 sha256=9a23786fde6526dff3a7c4a50de2965dc067ecaba7738808f437ad0505e9b134\n",
            "  Stored in directory: /root/.cache/pip/wheels/c5/05/b3/f7b36dbaaf76de31b718cde792c953bfd11d2414a72f204b56\n",
            "Successfully built unzip\n",
            "Installing collected packages: unzip\n",
            "Successfully installed unzip-1.0.0\n",
            "Archive:  /content/drive/MyDrive/signatures.zip\n",
            "  inflating: Dataset_Signature_Final/Dataset/dataset1/forge/02100001.png  \n",
            "  inflating: Dataset_Signature_Final/Dataset/dataset1/forge/02100002.png  \n",
            "  inflating: Dataset_Signature_Final/Dataset/dataset1/forge/02100003.png  \n",
            "  inflating: Dataset_Signature_Final/Dataset/dataset1/forge/02100004.png  \n",
            "  inflating: Dataset_Signature_Final/Dataset/dataset1/forge/02100005.png  \n",
            "  inflating: Dataset_Signature_Final/Dataset/dataset1/forge/02100006.png  \n",
            "  inflating: Dataset_Signature_Final/Dataset/dataset1/forge/02100007.png  \n",
            "  inflating: Dataset_Signature_Final/Dataset/dataset1/forge/02100008.png  \n",
            "  inflating: Dataset_Signature_Final/Dataset/dataset1/forge/02100009.png  \n",
            "  inflating: Dataset_Signature_Final/Dataset/dataset1/forge/02100010.png  \n",
            "  inflating: Dataset_Signature_Final/Dataset/dataset1/forge/02100011.png  \n",
            "  inflating: Dataset_Signature_Final/Dataset/dataset1/forge/02100012.png  \n",
            "  inflating: Dataset_Signature_Final/Dataset/dataset1/forge/02101001.png  \n",
            "  inflating: Dataset_Signature_Final/Dataset/dataset1/forge/02101002.png  \n",
            "  inflating: Dataset_Signature_Final/Dataset/dataset1/forge/02101003.png  \n",
            "  inflating: Dataset_Signature_Final/Dataset/dataset1/forge/02101004.png  \n",
            "  inflating: Dataset_Signature_Final/Dataset/dataset1/forge/02101005.png  \n",
            "  inflating: Dataset_Signature_Final/Dataset/dataset1/forge/02101006.png  \n",
            "  inflating: Dataset_Signature_Final/Dataset/dataset1/forge/02101007.png  \n",
            "  inflating: Dataset_Signature_Final/Dataset/dataset1/forge/02101008.png  \n",
            "  inflating: Dataset_Signature_Final/Dataset/dataset1/forge/02101009.png  \n",
            "  inflating: Dataset_Signature_Final/Dataset/dataset1/forge/02101010.png  \n",
            "  inflating: Dataset_Signature_Final/Dataset/dataset1/forge/02101011.png  \n",
            "  inflating: Dataset_Signature_Final/Dataset/dataset1/forge/02101012.png  \n",
            "  inflating: Dataset_Signature_Final/Dataset/dataset1/forge/02102001.png  \n",
            "  inflating: Dataset_Signature_Final/Dataset/dataset1/forge/02102002.png  \n",
            "  inflating: Dataset_Signature_Final/Dataset/dataset1/forge/02102003.png  \n",
            "  inflating: Dataset_Signature_Final/Dataset/dataset1/forge/02102004.png  \n",
            "  inflating: Dataset_Signature_Final/Dataset/dataset1/forge/02102005.png  \n",
            "  inflating: Dataset_Signature_Final/Dataset/dataset1/forge/02102006.png  \n",
            "  inflating: Dataset_Signature_Final/Dataset/dataset1/forge/02102007.png  \n",
            "  inflating: Dataset_Signature_Final/Dataset/dataset1/forge/02102008.png  \n",
            "  inflating: Dataset_Signature_Final/Dataset/dataset1/forge/02102009.png  \n",
            "  inflating: Dataset_Signature_Final/Dataset/dataset1/forge/02102010.png  \n",
            "  inflating: Dataset_Signature_Final/Dataset/dataset1/forge/02102011.png  \n",
            "  inflating: Dataset_Signature_Final/Dataset/dataset1/forge/02102012.png  \n",
            "  inflating: Dataset_Signature_Final/Dataset/dataset1/forge/02103001.png  \n",
            "  inflating: Dataset_Signature_Final/Dataset/dataset1/forge/02103002.png  \n",
            "  inflating: Dataset_Signature_Final/Dataset/dataset1/forge/02103003.png  \n",
            "  inflating: Dataset_Signature_Final/Dataset/dataset1/forge/02103004.png  \n",
            "  inflating: Dataset_Signature_Final/Dataset/dataset1/forge/02103005.png  \n",
            "  inflating: Dataset_Signature_Final/Dataset/dataset1/forge/02103006.png  \n",
            "  inflating: Dataset_Signature_Final/Dataset/dataset1/forge/02103007.png  \n",
            "  inflating: Dataset_Signature_Final/Dataset/dataset1/forge/02103008.png  \n",
            "  inflating: Dataset_Signature_Final/Dataset/dataset1/forge/02103009.png  \n",
            "  inflating: Dataset_Signature_Final/Dataset/dataset1/forge/02103010.png  \n",
            "  inflating: Dataset_Signature_Final/Dataset/dataset1/forge/02103011.png  \n",
            "  inflating: Dataset_Signature_Final/Dataset/dataset1/forge/02103012.png  \n",
            "  inflating: Dataset_Signature_Final/Dataset/dataset1/forge/02104001.png  \n",
            "  inflating: Dataset_Signature_Final/Dataset/dataset1/forge/02104002.png  \n",
            "  inflating: Dataset_Signature_Final/Dataset/dataset1/forge/02104003.png  \n",
            "  inflating: Dataset_Signature_Final/Dataset/dataset1/forge/02104004.png  \n",
            "  inflating: Dataset_Signature_Final/Dataset/dataset1/forge/02104005.png  \n",
            "  inflating: Dataset_Signature_Final/Dataset/dataset1/forge/02104006.png  \n",
            "  inflating: Dataset_Signature_Final/Dataset/dataset1/forge/02104007.png  \n",
            "  inflating: Dataset_Signature_Final/Dataset/dataset1/forge/02104008.png  \n",
            "  inflating: Dataset_Signature_Final/Dataset/dataset1/forge/02104009.png  \n",
            "  inflating: Dataset_Signature_Final/Dataset/dataset1/forge/02104010.png  \n",
            "  inflating: Dataset_Signature_Final/Dataset/dataset1/forge/02104011.png  \n",
            "  inflating: Dataset_Signature_Final/Dataset/dataset1/forge/02104012.png  \n",
            "  inflating: Dataset_Signature_Final/Dataset/dataset1/real/00100001.png  \n",
            "  inflating: Dataset_Signature_Final/Dataset/dataset1/real/00101001.png  \n",
            "  inflating: Dataset_Signature_Final/Dataset/dataset1/real/00102001.png  \n",
            "  inflating: Dataset_Signature_Final/Dataset/dataset1/real/00103001.png  \n",
            "  inflating: Dataset_Signature_Final/Dataset/dataset1/real/00104001.png  \n",
            "  inflating: Dataset_Signature_Final/Dataset/dataset1/real/00200002.png  \n",
            "  inflating: Dataset_Signature_Final/Dataset/dataset1/real/00201002.png  \n",
            "  inflating: Dataset_Signature_Final/Dataset/dataset1/real/00202002.png  \n",
            "  inflating: Dataset_Signature_Final/Dataset/dataset1/real/00203002.png  \n",
            "  inflating: Dataset_Signature_Final/Dataset/dataset1/real/00204002.png  \n",
            "  inflating: Dataset_Signature_Final/Dataset/dataset1/real/00300003.png  \n",
            "  inflating: Dataset_Signature_Final/Dataset/dataset1/real/00301003.png  \n",
            "  inflating: Dataset_Signature_Final/Dataset/dataset1/real/00302003.png  \n",
            "  inflating: Dataset_Signature_Final/Dataset/dataset1/real/00303003.png  \n",
            "  inflating: Dataset_Signature_Final/Dataset/dataset1/real/00304003.png  \n",
            "  inflating: Dataset_Signature_Final/Dataset/dataset1/real/00400004.png  \n",
            "  inflating: Dataset_Signature_Final/Dataset/dataset1/real/00401004.png  \n",
            "  inflating: Dataset_Signature_Final/Dataset/dataset1/real/00402004.png  \n",
            "  inflating: Dataset_Signature_Final/Dataset/dataset1/real/00403004.png  \n",
            "  inflating: Dataset_Signature_Final/Dataset/dataset1/real/00404004.png  \n",
            "  inflating: Dataset_Signature_Final/Dataset/dataset1/real/00500005.png  \n",
            "  inflating: Dataset_Signature_Final/Dataset/dataset1/real/00501005.png  \n",
            "  inflating: Dataset_Signature_Final/Dataset/dataset1/real/00502005.png  \n",
            "  inflating: Dataset_Signature_Final/Dataset/dataset1/real/00503005.png  \n",
            "  inflating: Dataset_Signature_Final/Dataset/dataset1/real/00504005.png  \n",
            "  inflating: Dataset_Signature_Final/Dataset/dataset1/real/00600006.png  \n",
            "  inflating: Dataset_Signature_Final/Dataset/dataset1/real/00601006.png  \n",
            "  inflating: Dataset_Signature_Final/Dataset/dataset1/real/00602006.png  \n",
            "  inflating: Dataset_Signature_Final/Dataset/dataset1/real/00603006.png  \n",
            "  inflating: Dataset_Signature_Final/Dataset/dataset1/real/00604006.png  \n",
            "  inflating: Dataset_Signature_Final/Dataset/dataset1/real/00700007.png  \n",
            "  inflating: Dataset_Signature_Final/Dataset/dataset1/real/00701007.png  \n",
            "  inflating: Dataset_Signature_Final/Dataset/dataset1/real/00702007.png  \n",
            "  inflating: Dataset_Signature_Final/Dataset/dataset1/real/00703007.png  \n",
            "  inflating: Dataset_Signature_Final/Dataset/dataset1/real/00704007.png  \n",
            "  inflating: Dataset_Signature_Final/Dataset/dataset1/real/00800008.png  \n",
            "  inflating: Dataset_Signature_Final/Dataset/dataset1/real/00801008.png  \n",
            "  inflating: Dataset_Signature_Final/Dataset/dataset1/real/00802008.png  \n",
            "  inflating: Dataset_Signature_Final/Dataset/dataset1/real/00803008.png  \n",
            "  inflating: Dataset_Signature_Final/Dataset/dataset1/real/00804008.png  \n",
            "  inflating: Dataset_Signature_Final/Dataset/dataset1/real/00900009.png  \n",
            "  inflating: Dataset_Signature_Final/Dataset/dataset1/real/00901009.png  \n",
            "  inflating: Dataset_Signature_Final/Dataset/dataset1/real/00902009.png  \n",
            "  inflating: Dataset_Signature_Final/Dataset/dataset1/real/00903009.png  \n",
            "  inflating: Dataset_Signature_Final/Dataset/dataset1/real/00904009.png  \n",
            "  inflating: Dataset_Signature_Final/Dataset/dataset1/real/01000010.png  \n",
            "  inflating: Dataset_Signature_Final/Dataset/dataset1/real/01001010.png  \n",
            "  inflating: Dataset_Signature_Final/Dataset/dataset1/real/01002010.png  \n",
            "  inflating: Dataset_Signature_Final/Dataset/dataset1/real/01003010.png  \n",
            "  inflating: Dataset_Signature_Final/Dataset/dataset1/real/01004010.png  \n",
            "  inflating: Dataset_Signature_Final/Dataset/dataset1/real/01100011.png  \n",
            "  inflating: Dataset_Signature_Final/Dataset/dataset1/real/01101011.png  \n",
            "  inflating: Dataset_Signature_Final/Dataset/dataset1/real/01102011.png  \n",
            "  inflating: Dataset_Signature_Final/Dataset/dataset1/real/01103011.png  \n",
            "  inflating: Dataset_Signature_Final/Dataset/dataset1/real/01104011.png  \n",
            "  inflating: Dataset_Signature_Final/Dataset/dataset1/real/01200012.png  \n",
            "  inflating: Dataset_Signature_Final/Dataset/dataset1/real/01201012.png  \n",
            "  inflating: Dataset_Signature_Final/Dataset/dataset1/real/01202012.png  \n",
            "  inflating: Dataset_Signature_Final/Dataset/dataset1/real/01203012.png  \n",
            "  inflating: Dataset_Signature_Final/Dataset/dataset1/real/01204012.png  \n",
            "  inflating: Dataset_Signature_Final/Dataset/dataset2/forge/02101003.png  \n",
            "  inflating: Dataset_Signature_Final/Dataset/dataset2/forge/02101004.png  \n",
            "  inflating: Dataset_Signature_Final/Dataset/dataset2/forge/02101005.png  \n",
            "  inflating: Dataset_Signature_Final/Dataset/dataset2/forge/02101006.png  \n",
            "  inflating: Dataset_Signature_Final/Dataset/dataset2/forge/02101007.png  \n",
            "  inflating: Dataset_Signature_Final/Dataset/dataset2/forge/02101008.png  \n",
            "  inflating: Dataset_Signature_Final/Dataset/dataset2/forge/02101009.png  \n",
            "  inflating: Dataset_Signature_Final/Dataset/dataset2/forge/02101011.png  \n",
            "  inflating: Dataset_Signature_Final/Dataset/dataset2/forge/02101012.png  \n",
            "  inflating: Dataset_Signature_Final/Dataset/dataset2/forge/02102003.png  \n",
            "  inflating: Dataset_Signature_Final/Dataset/dataset2/forge/02102004.png  \n",
            "  inflating: Dataset_Signature_Final/Dataset/dataset2/forge/02102005.png  \n",
            "  inflating: Dataset_Signature_Final/Dataset/dataset2/forge/02102006.png  \n",
            "  inflating: Dataset_Signature_Final/Dataset/dataset2/forge/02102007.png  \n",
            "  inflating: Dataset_Signature_Final/Dataset/dataset2/forge/02102008.png  \n",
            "  inflating: Dataset_Signature_Final/Dataset/dataset2/forge/02102009.png  \n",
            "  inflating: Dataset_Signature_Final/Dataset/dataset2/forge/02102011.png  \n",
            "  inflating: Dataset_Signature_Final/Dataset/dataset2/forge/02102012.png  \n",
            "  inflating: Dataset_Signature_Final/Dataset/dataset2/forge/02103003.png  \n",
            "  inflating: Dataset_Signature_Final/Dataset/dataset2/forge/02103004.png  \n",
            "  inflating: Dataset_Signature_Final/Dataset/dataset2/forge/02103005.png  \n",
            "  inflating: Dataset_Signature_Final/Dataset/dataset2/forge/02103006.png  \n",
            "  inflating: Dataset_Signature_Final/Dataset/dataset2/forge/02103007.png  \n",
            "  inflating: Dataset_Signature_Final/Dataset/dataset2/forge/02103008.png  \n",
            "  inflating: Dataset_Signature_Final/Dataset/dataset2/forge/02103009.png  \n",
            "  inflating: Dataset_Signature_Final/Dataset/dataset2/forge/02103011.png  \n",
            "  inflating: Dataset_Signature_Final/Dataset/dataset2/forge/02103012.png  \n",
            "  inflating: Dataset_Signature_Final/Dataset/dataset2/forge/02104003.png  \n",
            "  inflating: Dataset_Signature_Final/Dataset/dataset2/forge/02104004.png  \n",
            "  inflating: Dataset_Signature_Final/Dataset/dataset2/forge/02104005.png  \n",
            "  inflating: Dataset_Signature_Final/Dataset/dataset2/forge/02104006.png  \n",
            "  inflating: Dataset_Signature_Final/Dataset/dataset2/forge/02104007.png  \n",
            "  inflating: Dataset_Signature_Final/Dataset/dataset2/forge/02104008.png  \n",
            "  inflating: Dataset_Signature_Final/Dataset/dataset2/forge/02104009.png  \n",
            "  inflating: Dataset_Signature_Final/Dataset/dataset2/forge/02104011.png  \n",
            "  inflating: Dataset_Signature_Final/Dataset/dataset2/forge/02104012.png  \n",
            "  inflating: Dataset_Signature_Final/Dataset/dataset2/forge/02105003.png  \n",
            "  inflating: Dataset_Signature_Final/Dataset/dataset2/forge/02105004.png  \n",
            "  inflating: Dataset_Signature_Final/Dataset/dataset2/forge/02105005.png  \n",
            "  inflating: Dataset_Signature_Final/Dataset/dataset2/forge/02105006.png  \n",
            "  inflating: Dataset_Signature_Final/Dataset/dataset2/forge/02105007.png  \n",
            "  inflating: Dataset_Signature_Final/Dataset/dataset2/forge/02105008.png  \n",
            "  inflating: Dataset_Signature_Final/Dataset/dataset2/forge/02105009.png  \n",
            "  inflating: Dataset_Signature_Final/Dataset/dataset2/forge/02105011.png  \n",
            "  inflating: Dataset_Signature_Final/Dataset/dataset2/forge/02105012.png  \n",
            "  inflating: Dataset_Signature_Final/Dataset/dataset2/forge/02201001.png  \n",
            "  inflating: Dataset_Signature_Final/Dataset/dataset2/forge/02201002.png  \n",
            "  inflating: Dataset_Signature_Final/Dataset/dataset2/forge/02201010.png  \n",
            "  inflating: Dataset_Signature_Final/Dataset/dataset2/forge/02202001.png  \n",
            "  inflating: Dataset_Signature_Final/Dataset/dataset2/forge/02202002.png  \n",
            "  inflating: Dataset_Signature_Final/Dataset/dataset2/forge/02202010.png  \n",
            "  inflating: Dataset_Signature_Final/Dataset/dataset2/forge/02203001.png  \n",
            "  inflating: Dataset_Signature_Final/Dataset/dataset2/forge/02203002.png  \n",
            "  inflating: Dataset_Signature_Final/Dataset/dataset2/forge/02203010.png  \n",
            "  inflating: Dataset_Signature_Final/Dataset/dataset2/forge/02204001.png  \n",
            "  inflating: Dataset_Signature_Final/Dataset/dataset2/forge/02204002.png  \n",
            "  inflating: Dataset_Signature_Final/Dataset/dataset2/forge/02204010.png  \n",
            "  inflating: Dataset_Signature_Final/Dataset/dataset2/forge/02205001.png  \n",
            "  inflating: Dataset_Signature_Final/Dataset/dataset2/forge/02205002.png  \n",
            "  inflating: Dataset_Signature_Final/Dataset/dataset2/forge/02205010.png  \n",
            "  inflating: Dataset_Signature_Final/Dataset/dataset2/real/00101001.png  \n",
            "  inflating: Dataset_Signature_Final/Dataset/dataset2/real/00102001.png  \n",
            "  inflating: Dataset_Signature_Final/Dataset/dataset2/real/00103001.png  \n",
            "  inflating: Dataset_Signature_Final/Dataset/dataset2/real/00104001.png  \n",
            "  inflating: Dataset_Signature_Final/Dataset/dataset2/real/00105001.png  \n",
            "  inflating: Dataset_Signature_Final/Dataset/dataset2/real/00201002.png  \n",
            "  inflating: Dataset_Signature_Final/Dataset/dataset2/real/00202002.png  \n",
            "  inflating: Dataset_Signature_Final/Dataset/dataset2/real/00203002.png  \n",
            "  inflating: Dataset_Signature_Final/Dataset/dataset2/real/00204002.png  \n",
            "  inflating: Dataset_Signature_Final/Dataset/dataset2/real/00205002.png  \n",
            "  inflating: Dataset_Signature_Final/Dataset/dataset2/real/00301003.png  \n",
            "  inflating: Dataset_Signature_Final/Dataset/dataset2/real/00302003.png  \n",
            "  inflating: Dataset_Signature_Final/Dataset/dataset2/real/00303003.png  \n",
            "  inflating: Dataset_Signature_Final/Dataset/dataset2/real/00304003.png  \n",
            "  inflating: Dataset_Signature_Final/Dataset/dataset2/real/00305003.png  \n",
            "  inflating: Dataset_Signature_Final/Dataset/dataset2/real/00401004.png  \n",
            "  inflating: Dataset_Signature_Final/Dataset/dataset2/real/00402004.png  \n",
            "  inflating: Dataset_Signature_Final/Dataset/dataset2/real/00403004.png  \n",
            "  inflating: Dataset_Signature_Final/Dataset/dataset2/real/00404004.png  \n",
            "  inflating: Dataset_Signature_Final/Dataset/dataset2/real/00405004.png  \n",
            "  inflating: Dataset_Signature_Final/Dataset/dataset2/real/00501005.png  \n",
            "  inflating: Dataset_Signature_Final/Dataset/dataset2/real/00502005.png  \n",
            "  inflating: Dataset_Signature_Final/Dataset/dataset2/real/00503005.png  \n",
            "  inflating: Dataset_Signature_Final/Dataset/dataset2/real/00504005.png  \n",
            "  inflating: Dataset_Signature_Final/Dataset/dataset2/real/00505005.png  \n",
            "  inflating: Dataset_Signature_Final/Dataset/dataset2/real/00601006.png  \n",
            "  inflating: Dataset_Signature_Final/Dataset/dataset2/real/00602006.png  \n",
            "  inflating: Dataset_Signature_Final/Dataset/dataset2/real/00603006.png  \n",
            "  inflating: Dataset_Signature_Final/Dataset/dataset2/real/00604006.png  \n",
            "  inflating: Dataset_Signature_Final/Dataset/dataset2/real/00605006.png  \n",
            "  inflating: Dataset_Signature_Final/Dataset/dataset2/real/00701007.png  \n",
            "  inflating: Dataset_Signature_Final/Dataset/dataset2/real/00702007.png  \n",
            "  inflating: Dataset_Signature_Final/Dataset/dataset2/real/00703007.png  \n",
            "  inflating: Dataset_Signature_Final/Dataset/dataset2/real/00704007.png  \n",
            "  inflating: Dataset_Signature_Final/Dataset/dataset2/real/00705007.png  \n",
            "  inflating: Dataset_Signature_Final/Dataset/dataset2/real/00801008.png  \n",
            "  inflating: Dataset_Signature_Final/Dataset/dataset2/real/00802008.png  \n",
            "  inflating: Dataset_Signature_Final/Dataset/dataset2/real/00803008.png  \n",
            "  inflating: Dataset_Signature_Final/Dataset/dataset2/real/00804008.png  \n",
            "  inflating: Dataset_Signature_Final/Dataset/dataset2/real/00805008.png  \n",
            "  inflating: Dataset_Signature_Final/Dataset/dataset2/real/00901009.png  \n",
            "  inflating: Dataset_Signature_Final/Dataset/dataset2/real/00902009.png  \n",
            "  inflating: Dataset_Signature_Final/Dataset/dataset2/real/00903009.png  \n",
            "  inflating: Dataset_Signature_Final/Dataset/dataset2/real/00904009.png  \n",
            "  inflating: Dataset_Signature_Final/Dataset/dataset2/real/00905009.png  \n",
            "  inflating: Dataset_Signature_Final/Dataset/dataset2/real/01001010.png  \n",
            "  inflating: Dataset_Signature_Final/Dataset/dataset2/real/01002010.png  \n",
            "  inflating: Dataset_Signature_Final/Dataset/dataset2/real/01003010.png  \n",
            "  inflating: Dataset_Signature_Final/Dataset/dataset2/real/01004010.png  \n",
            "  inflating: Dataset_Signature_Final/Dataset/dataset2/real/01005010.png  \n",
            "  inflating: Dataset_Signature_Final/Dataset/dataset2/real/01101011.png  \n",
            "  inflating: Dataset_Signature_Final/Dataset/dataset2/real/01102011.png  \n",
            "  inflating: Dataset_Signature_Final/Dataset/dataset2/real/01103011.png  \n",
            "  inflating: Dataset_Signature_Final/Dataset/dataset2/real/01104011.png  \n",
            "  inflating: Dataset_Signature_Final/Dataset/dataset2/real/01105011.png  \n",
            "  inflating: Dataset_Signature_Final/Dataset/dataset2/real/01201012.png  \n",
            "  inflating: Dataset_Signature_Final/Dataset/dataset2/real/01202012.png  \n",
            "  inflating: Dataset_Signature_Final/Dataset/dataset2/real/01203012.png  \n",
            "  inflating: Dataset_Signature_Final/Dataset/dataset2/real/01204012.png  \n",
            "  inflating: Dataset_Signature_Final/Dataset/dataset2/real/01205012.png  \n",
            "  inflating: Dataset_Signature_Final/Dataset/dataset3/forge/00101014.png  \n",
            "  inflating: Dataset_Signature_Final/Dataset/dataset3/forge/00101019.png  \n",
            "  inflating: Dataset_Signature_Final/Dataset/dataset3/forge/00101025.png  \n",
            "  inflating: Dataset_Signature_Final/Dataset/dataset3/forge/00101026.png  \n",
            "  inflating: Dataset_Signature_Final/Dataset/dataset3/forge/00101027.png  \n",
            "  inflating: Dataset_Signature_Final/Dataset/dataset3/forge/00101028.png  \n",
            "  inflating: Dataset_Signature_Final/Dataset/dataset3/forge/00101029.png  \n",
            "  inflating: Dataset_Signature_Final/Dataset/dataset3/forge/00101030.png  \n",
            "  inflating: Dataset_Signature_Final/Dataset/dataset3/forge/00102014.png  \n",
            "  inflating: Dataset_Signature_Final/Dataset/dataset3/forge/00102019.png  \n",
            "  inflating: Dataset_Signature_Final/Dataset/dataset3/forge/00102025.png  \n",
            "  inflating: Dataset_Signature_Final/Dataset/dataset3/forge/00102026.png  \n",
            "  inflating: Dataset_Signature_Final/Dataset/dataset3/forge/00102027.png  \n",
            "  inflating: Dataset_Signature_Final/Dataset/dataset3/forge/00102028.png  \n",
            "  inflating: Dataset_Signature_Final/Dataset/dataset3/forge/00102029.png  \n",
            "  inflating: Dataset_Signature_Final/Dataset/dataset3/forge/00102030.png  \n",
            "  inflating: Dataset_Signature_Final/Dataset/dataset3/forge/00103014.png  \n",
            "  inflating: Dataset_Signature_Final/Dataset/dataset3/forge/00103019.png  \n",
            "  inflating: Dataset_Signature_Final/Dataset/dataset3/forge/00103025.png  \n",
            "  inflating: Dataset_Signature_Final/Dataset/dataset3/forge/00103026.png  \n",
            "  inflating: Dataset_Signature_Final/Dataset/dataset3/forge/00103027.png  \n",
            "  inflating: Dataset_Signature_Final/Dataset/dataset3/forge/00103028.png  \n",
            "  inflating: Dataset_Signature_Final/Dataset/dataset3/forge/00103029.png  \n",
            "  inflating: Dataset_Signature_Final/Dataset/dataset3/forge/00103030.png  \n",
            "  inflating: Dataset_Signature_Final/Dataset/dataset3/forge/00104014.png  \n",
            "  inflating: Dataset_Signature_Final/Dataset/dataset3/forge/00104019.png  \n",
            "  inflating: Dataset_Signature_Final/Dataset/dataset3/forge/00104025.png  \n",
            "  inflating: Dataset_Signature_Final/Dataset/dataset3/forge/00104026.png  \n",
            "  inflating: Dataset_Signature_Final/Dataset/dataset3/forge/00104027.png  \n",
            "  inflating: Dataset_Signature_Final/Dataset/dataset3/forge/00104028.png  \n",
            "  inflating: Dataset_Signature_Final/Dataset/dataset3/forge/00104029.png  \n",
            "  inflating: Dataset_Signature_Final/Dataset/dataset3/forge/00104030.png  \n",
            "  inflating: Dataset_Signature_Final/Dataset/dataset3/forge/00105014.png  \n",
            "  inflating: Dataset_Signature_Final/Dataset/dataset3/forge/00105019.png  \n",
            "  inflating: Dataset_Signature_Final/Dataset/dataset3/forge/00105025.png  \n",
            "  inflating: Dataset_Signature_Final/Dataset/dataset3/forge/00105026.png  \n",
            "  inflating: Dataset_Signature_Final/Dataset/dataset3/forge/00105027.png  \n",
            "  inflating: Dataset_Signature_Final/Dataset/dataset3/forge/00105028.png  \n",
            "  inflating: Dataset_Signature_Final/Dataset/dataset3/forge/00105029.png  \n",
            "  inflating: Dataset_Signature_Final/Dataset/dataset3/forge/00105030.png  \n",
            "  inflating: Dataset_Signature_Final/Dataset/dataset3/forge/00301001.png  \n",
            "  inflating: Dataset_Signature_Final/Dataset/dataset3/forge/00301002.png  \n",
            "  inflating: Dataset_Signature_Final/Dataset/dataset3/forge/00301005.png  \n",
            "  inflating: Dataset_Signature_Final/Dataset/dataset3/forge/00301009.png  \n",
            "  inflating: Dataset_Signature_Final/Dataset/dataset3/forge/00301018.png  \n",
            "  inflating: Dataset_Signature_Final/Dataset/dataset3/forge/00302001.png  \n",
            "  inflating: Dataset_Signature_Final/Dataset/dataset3/forge/00302002.png  \n",
            "  inflating: Dataset_Signature_Final/Dataset/dataset3/forge/00302005.png  \n",
            "  inflating: Dataset_Signature_Final/Dataset/dataset3/forge/00302009.png  \n",
            "  inflating: Dataset_Signature_Final/Dataset/dataset3/forge/00302018.png  \n",
            "  inflating: Dataset_Signature_Final/Dataset/dataset3/forge/00303001.png  \n",
            "  inflating: Dataset_Signature_Final/Dataset/dataset3/forge/00303002.png  \n",
            "  inflating: Dataset_Signature_Final/Dataset/dataset3/forge/00303005.png  \n",
            "  inflating: Dataset_Signature_Final/Dataset/dataset3/forge/00303009.png  \n",
            "  inflating: Dataset_Signature_Final/Dataset/dataset3/forge/00303018.png  \n",
            "  inflating: Dataset_Signature_Final/Dataset/dataset3/forge/00304001.png  \n",
            "  inflating: Dataset_Signature_Final/Dataset/dataset3/forge/00304002.png  \n",
            "  inflating: Dataset_Signature_Final/Dataset/dataset3/forge/00304005.png  \n",
            "  inflating: Dataset_Signature_Final/Dataset/dataset3/forge/00304009.png  \n",
            "  inflating: Dataset_Signature_Final/Dataset/dataset3/forge/00304018.png  \n",
            "  inflating: Dataset_Signature_Final/Dataset/dataset3/forge/00305001.png  \n",
            "  inflating: Dataset_Signature_Final/Dataset/dataset3/forge/00305002.png  \n",
            "  inflating: Dataset_Signature_Final/Dataset/dataset3/forge/00305005.png  \n",
            "  inflating: Dataset_Signature_Final/Dataset/dataset3/forge/00305009.png  \n",
            "  inflating: Dataset_Signature_Final/Dataset/dataset3/forge/00305018.png  \n",
            "  inflating: Dataset_Signature_Final/Dataset/dataset3/forge/00401003.png  \n",
            "  inflating: Dataset_Signature_Final/Dataset/dataset3/forge/00401007.png  \n",
            "  inflating: Dataset_Signature_Final/Dataset/dataset3/forge/00401013.png  \n",
            "  inflating: Dataset_Signature_Final/Dataset/dataset3/forge/00401024.png  \n",
            "  inflating: Dataset_Signature_Final/Dataset/dataset3/forge/00402003.png  \n",
            "  inflating: Dataset_Signature_Final/Dataset/dataset3/forge/00402007.png  \n",
            "  inflating: Dataset_Signature_Final/Dataset/dataset3/forge/00402013.png  \n",
            "  inflating: Dataset_Signature_Final/Dataset/dataset3/forge/00402024.png  \n",
            "  inflating: Dataset_Signature_Final/Dataset/dataset3/forge/00403003.png  \n",
            "  inflating: Dataset_Signature_Final/Dataset/dataset3/forge/00403007.png  \n",
            "  inflating: Dataset_Signature_Final/Dataset/dataset3/forge/00403013.png  \n",
            "  inflating: Dataset_Signature_Final/Dataset/dataset3/forge/00403024.png  \n",
            "  inflating: Dataset_Signature_Final/Dataset/dataset3/forge/00404003.png  \n",
            "  inflating: Dataset_Signature_Final/Dataset/dataset3/forge/00404007.png  \n",
            "  inflating: Dataset_Signature_Final/Dataset/dataset3/forge/00404013.png  \n",
            "  inflating: Dataset_Signature_Final/Dataset/dataset3/forge/00404024.png  \n",
            "  inflating: Dataset_Signature_Final/Dataset/dataset3/forge/00405003.png  \n",
            "  inflating: Dataset_Signature_Final/Dataset/dataset3/forge/00405007.png  \n",
            "  inflating: Dataset_Signature_Final/Dataset/dataset3/forge/00405013.png  \n",
            "  inflating: Dataset_Signature_Final/Dataset/dataset3/forge/00405024.png  \n",
            "  inflating: Dataset_Signature_Final/Dataset/dataset3/forge/00501015.png  \n",
            "  inflating: Dataset_Signature_Final/Dataset/dataset3/forge/00501022.png  \n",
            "  inflating: Dataset_Signature_Final/Dataset/dataset3/forge/00502015.png  \n",
            "  inflating: Dataset_Signature_Final/Dataset/dataset3/forge/00502022.png  \n",
            "  inflating: Dataset_Signature_Final/Dataset/dataset3/forge/00503015.png  \n",
            "  inflating: Dataset_Signature_Final/Dataset/dataset3/forge/00503022.png  \n",
            "  inflating: Dataset_Signature_Final/Dataset/dataset3/forge/00504015.png  \n",
            "  inflating: Dataset_Signature_Final/Dataset/dataset3/forge/00504022.png  \n",
            "  inflating: Dataset_Signature_Final/Dataset/dataset3/forge/00505015.png  \n",
            "  inflating: Dataset_Signature_Final/Dataset/dataset3/forge/00505022.png  \n",
            "  inflating: Dataset_Signature_Final/Dataset/dataset3/forge/00701011.png  \n",
            "  inflating: Dataset_Signature_Final/Dataset/dataset3/forge/00701023.png  \n",
            "  inflating: Dataset_Signature_Final/Dataset/dataset3/forge/00702011.png  \n",
            "  inflating: Dataset_Signature_Final/Dataset/dataset3/forge/00702023.png  \n",
            "  inflating: Dataset_Signature_Final/Dataset/dataset3/forge/00703011.png  \n",
            "  inflating: Dataset_Signature_Final/Dataset/dataset3/forge/00703023.png  \n",
            "  inflating: Dataset_Signature_Final/Dataset/dataset3/forge/00704011.png  \n",
            "  inflating: Dataset_Signature_Final/Dataset/dataset3/forge/00704023.png  \n",
            "  inflating: Dataset_Signature_Final/Dataset/dataset3/forge/00705011.png  \n",
            "  inflating: Dataset_Signature_Final/Dataset/dataset3/forge/00705023.png  \n",
            "  inflating: Dataset_Signature_Final/Dataset/dataset3/forge/01101012.png  \n",
            "  inflating: Dataset_Signature_Final/Dataset/dataset3/forge/01101016.png  \n",
            "  inflating: Dataset_Signature_Final/Dataset/dataset3/forge/01102012.png  \n",
            "  inflating: Dataset_Signature_Final/Dataset/dataset3/forge/01102016.png  \n",
            "  inflating: Dataset_Signature_Final/Dataset/dataset3/forge/01103012.png  \n",
            "  inflating: Dataset_Signature_Final/Dataset/dataset3/forge/01103016.png  \n",
            "  inflating: Dataset_Signature_Final/Dataset/dataset3/forge/01104012.png  \n",
            "  inflating: Dataset_Signature_Final/Dataset/dataset3/forge/01104016.png  \n",
            "  inflating: Dataset_Signature_Final/Dataset/dataset3/forge/01105012.png  \n",
            "  inflating: Dataset_Signature_Final/Dataset/dataset3/forge/01105016.png  \n",
            "  inflating: Dataset_Signature_Final/Dataset/dataset3/forge/01201021.png  \n",
            "  inflating: Dataset_Signature_Final/Dataset/dataset3/forge/01202021.png  \n",
            "  inflating: Dataset_Signature_Final/Dataset/dataset3/forge/01203021.png  \n",
            "  inflating: Dataset_Signature_Final/Dataset/dataset3/forge/01204021.png  \n",
            "  inflating: Dataset_Signature_Final/Dataset/dataset3/forge/01205021.png  \n",
            "  inflating: Dataset_Signature_Final/Dataset/dataset3/forge/01301017.png  \n",
            "  inflating: Dataset_Signature_Final/Dataset/dataset3/forge/01302017.png  \n",
            "  inflating: Dataset_Signature_Final/Dataset/dataset3/forge/01303017.png  \n",
            "  inflating: Dataset_Signature_Final/Dataset/dataset3/forge/01304017.png  \n",
            "  inflating: Dataset_Signature_Final/Dataset/dataset3/forge/01305017.png  \n",
            "  inflating: Dataset_Signature_Final/Dataset/dataset3/forge/01701020.png  \n",
            "  inflating: Dataset_Signature_Final/Dataset/dataset3/forge/01702020.png  \n",
            "  inflating: Dataset_Signature_Final/Dataset/dataset3/forge/01703020.png  \n",
            "  inflating: Dataset_Signature_Final/Dataset/dataset3/forge/01704020.png  \n",
            "  inflating: Dataset_Signature_Final/Dataset/dataset3/forge/01705020.png  \n",
            "  inflating: Dataset_Signature_Final/Dataset/dataset3/forge/02301008.png  \n",
            "  inflating: Dataset_Signature_Final/Dataset/dataset3/forge/02303008.png  \n",
            "  inflating: Dataset_Signature_Final/Dataset/dataset3/forge/02304008.png  \n",
            "  inflating: Dataset_Signature_Final/Dataset/dataset3/forge/02305008.png  \n",
            "  inflating: Dataset_Signature_Final/Dataset/dataset3/forge/02306008.png  \n",
            "  inflating: Dataset_Signature_Final/Dataset/dataset3/forge/02501010.png  \n",
            "  inflating: Dataset_Signature_Final/Dataset/dataset3/forge/02502010.png  \n",
            "  inflating: Dataset_Signature_Final/Dataset/dataset3/forge/02503010.png  \n",
            "  inflating: Dataset_Signature_Final/Dataset/dataset3/forge/02504010.png  \n",
            "  inflating: Dataset_Signature_Final/Dataset/dataset3/forge/02505009.png  \n",
            "  inflating: Dataset_Signature_Final/Dataset/dataset3/forge/03301006.png  \n",
            "  inflating: Dataset_Signature_Final/Dataset/dataset3/forge/03302006.png  \n",
            "  inflating: Dataset_Signature_Final/Dataset/dataset3/forge/03303006.png  \n",
            "  inflating: Dataset_Signature_Final/Dataset/dataset3/forge/03304006.png  \n",
            "  inflating: Dataset_Signature_Final/Dataset/dataset3/forge/03305006.png  \n",
            "  inflating: Dataset_Signature_Final/Dataset/dataset3/forge/08801004.png  \n",
            "  inflating: Dataset_Signature_Final/Dataset/dataset3/forge/08802004.png  \n",
            "  inflating: Dataset_Signature_Final/Dataset/dataset3/forge/08803004.png  \n",
            "  inflating: Dataset_Signature_Final/Dataset/dataset3/forge/08804004.png  \n",
            "  inflating: Dataset_Signature_Final/Dataset/dataset3/forge/08805004.png  \n",
            "  inflating: Dataset_Signature_Final/Dataset/dataset3/real/00101001.png  \n",
            "  inflating: Dataset_Signature_Final/Dataset/dataset3/real/00102001.png  \n",
            "  inflating: Dataset_Signature_Final/Dataset/dataset3/real/00103001.png  \n",
            "  inflating: Dataset_Signature_Final/Dataset/dataset3/real/00104001.png  \n",
            "  inflating: Dataset_Signature_Final/Dataset/dataset3/real/00105001.png  \n",
            "  inflating: Dataset_Signature_Final/Dataset/dataset3/real/00201002.png  \n",
            "  inflating: Dataset_Signature_Final/Dataset/dataset3/real/00202002.png  \n",
            "  inflating: Dataset_Signature_Final/Dataset/dataset3/real/00203002.png  \n",
            "  inflating: Dataset_Signature_Final/Dataset/dataset3/real/00204002.png  \n",
            "  inflating: Dataset_Signature_Final/Dataset/dataset3/real/00205002.png  \n",
            "  inflating: Dataset_Signature_Final/Dataset/dataset3/real/00301003.png  \n",
            "  inflating: Dataset_Signature_Final/Dataset/dataset3/real/00302003.png  \n",
            "  inflating: Dataset_Signature_Final/Dataset/dataset3/real/00303003.png  \n",
            "  inflating: Dataset_Signature_Final/Dataset/dataset3/real/00304003.png  \n",
            "  inflating: Dataset_Signature_Final/Dataset/dataset3/real/00305003.png  \n",
            "  inflating: Dataset_Signature_Final/Dataset/dataset3/real/00401004.png  \n",
            "  inflating: Dataset_Signature_Final/Dataset/dataset3/real/00402004.png  \n",
            "  inflating: Dataset_Signature_Final/Dataset/dataset3/real/00403004.png  \n",
            "  inflating: Dataset_Signature_Final/Dataset/dataset3/real/00404004.png  \n",
            "  inflating: Dataset_Signature_Final/Dataset/dataset3/real/00405004.png  \n",
            "  inflating: Dataset_Signature_Final/Dataset/dataset3/real/00501005.png  \n",
            "  inflating: Dataset_Signature_Final/Dataset/dataset3/real/00502005.png  \n",
            "  inflating: Dataset_Signature_Final/Dataset/dataset3/real/00503005.png  \n",
            "  inflating: Dataset_Signature_Final/Dataset/dataset3/real/00504005.png  \n",
            "  inflating: Dataset_Signature_Final/Dataset/dataset3/real/00505005.png  \n",
            "  inflating: Dataset_Signature_Final/Dataset/dataset3/real/00601006.png  \n",
            "  inflating: Dataset_Signature_Final/Dataset/dataset3/real/00602006.png  \n",
            "  inflating: Dataset_Signature_Final/Dataset/dataset3/real/00603006.png  \n",
            "  inflating: Dataset_Signature_Final/Dataset/dataset3/real/00604006.png  \n",
            "  inflating: Dataset_Signature_Final/Dataset/dataset3/real/00605006.png  \n",
            "  inflating: Dataset_Signature_Final/Dataset/dataset3/real/00701007.png  \n",
            "  inflating: Dataset_Signature_Final/Dataset/dataset3/real/00702007.png  \n",
            "  inflating: Dataset_Signature_Final/Dataset/dataset3/real/00703007.png  \n",
            "  inflating: Dataset_Signature_Final/Dataset/dataset3/real/00704007.png  \n",
            "  inflating: Dataset_Signature_Final/Dataset/dataset3/real/00705007.png  \n",
            "  inflating: Dataset_Signature_Final/Dataset/dataset3/real/00801008.png  \n",
            "  inflating: Dataset_Signature_Final/Dataset/dataset3/real/00802008.png  \n",
            "  inflating: Dataset_Signature_Final/Dataset/dataset3/real/00803008.png  \n",
            "  inflating: Dataset_Signature_Final/Dataset/dataset3/real/00804008.png  \n",
            "  inflating: Dataset_Signature_Final/Dataset/dataset3/real/00805008.png  \n",
            "  inflating: Dataset_Signature_Final/Dataset/dataset3/real/00901009.png  \n",
            "  inflating: Dataset_Signature_Final/Dataset/dataset3/real/00902009.png  \n",
            "  inflating: Dataset_Signature_Final/Dataset/dataset3/real/00903009.png  \n",
            "  inflating: Dataset_Signature_Final/Dataset/dataset3/real/00904009.png  \n",
            "  inflating: Dataset_Signature_Final/Dataset/dataset3/real/00905009.png  \n",
            "  inflating: Dataset_Signature_Final/Dataset/dataset3/real/01001010.png  \n",
            "  inflating: Dataset_Signature_Final/Dataset/dataset3/real/01002010.png  \n",
            "  inflating: Dataset_Signature_Final/Dataset/dataset3/real/01003010.png  \n",
            "  inflating: Dataset_Signature_Final/Dataset/dataset3/real/01004010.png  \n",
            "  inflating: Dataset_Signature_Final/Dataset/dataset3/real/01005010.png  \n",
            "  inflating: Dataset_Signature_Final/Dataset/dataset3/real/01101011.png  \n",
            "  inflating: Dataset_Signature_Final/Dataset/dataset3/real/01102011.png  \n",
            "  inflating: Dataset_Signature_Final/Dataset/dataset3/real/01103011.png  \n",
            "  inflating: Dataset_Signature_Final/Dataset/dataset3/real/01104011.png  \n",
            "  inflating: Dataset_Signature_Final/Dataset/dataset3/real/01105011.png  \n",
            "  inflating: Dataset_Signature_Final/Dataset/dataset3/real/01201012.png  \n",
            "  inflating: Dataset_Signature_Final/Dataset/dataset3/real/01202012.png  \n",
            "  inflating: Dataset_Signature_Final/Dataset/dataset3/real/01203012.png  \n",
            "  inflating: Dataset_Signature_Final/Dataset/dataset3/real/01204012.png  \n",
            "  inflating: Dataset_Signature_Final/Dataset/dataset3/real/01205012.png  \n",
            "  inflating: Dataset_Signature_Final/Dataset/dataset3/real/01301013.png  \n",
            "  inflating: Dataset_Signature_Final/Dataset/dataset3/real/01302013.png  \n",
            "  inflating: Dataset_Signature_Final/Dataset/dataset3/real/01303013.png  \n",
            "  inflating: Dataset_Signature_Final/Dataset/dataset3/real/01304013.png  \n",
            "  inflating: Dataset_Signature_Final/Dataset/dataset3/real/01305013.png  \n",
            "  inflating: Dataset_Signature_Final/Dataset/dataset3/real/01401014.png  \n",
            "  inflating: Dataset_Signature_Final/Dataset/dataset3/real/01402014.png  \n",
            "  inflating: Dataset_Signature_Final/Dataset/dataset3/real/01403014.png  \n",
            "  inflating: Dataset_Signature_Final/Dataset/dataset3/real/01404014.png  \n",
            "  inflating: Dataset_Signature_Final/Dataset/dataset3/real/01405014.png  \n",
            "  inflating: Dataset_Signature_Final/Dataset/dataset3/real/01501015.png  \n",
            "  inflating: Dataset_Signature_Final/Dataset/dataset3/real/01502015.png  \n",
            "  inflating: Dataset_Signature_Final/Dataset/dataset3/real/01503015.png  \n",
            "  inflating: Dataset_Signature_Final/Dataset/dataset3/real/01504015.png  \n",
            "  inflating: Dataset_Signature_Final/Dataset/dataset3/real/01505015.png  \n",
            "  inflating: Dataset_Signature_Final/Dataset/dataset3/real/01601016.png  \n",
            "  inflating: Dataset_Signature_Final/Dataset/dataset3/real/01602016.png  \n",
            "  inflating: Dataset_Signature_Final/Dataset/dataset3/real/01603016.png  \n",
            "  inflating: Dataset_Signature_Final/Dataset/dataset3/real/01604016.png  \n",
            "  inflating: Dataset_Signature_Final/Dataset/dataset3/real/01605016.png  \n",
            "  inflating: Dataset_Signature_Final/Dataset/dataset3/real/01701017.png  \n",
            "  inflating: Dataset_Signature_Final/Dataset/dataset3/real/01702017.png  \n",
            "  inflating: Dataset_Signature_Final/Dataset/dataset3/real/01703017.png  \n",
            "  inflating: Dataset_Signature_Final/Dataset/dataset3/real/01704017.png  \n",
            "  inflating: Dataset_Signature_Final/Dataset/dataset3/real/01705017.png  \n",
            "  inflating: Dataset_Signature_Final/Dataset/dataset3/real/01801018.png  \n",
            "  inflating: Dataset_Signature_Final/Dataset/dataset3/real/01802018.png  \n",
            "  inflating: Dataset_Signature_Final/Dataset/dataset3/real/01803018.png  \n",
            "  inflating: Dataset_Signature_Final/Dataset/dataset3/real/01804018.png  \n",
            "  inflating: Dataset_Signature_Final/Dataset/dataset3/real/01805018.png  \n",
            "  inflating: Dataset_Signature_Final/Dataset/dataset3/real/01901019.png  \n",
            "  inflating: Dataset_Signature_Final/Dataset/dataset3/real/01902019.png  \n",
            "  inflating: Dataset_Signature_Final/Dataset/dataset3/real/01903019.png  \n",
            "  inflating: Dataset_Signature_Final/Dataset/dataset3/real/01904019.png  \n",
            "  inflating: Dataset_Signature_Final/Dataset/dataset3/real/01905019.png  \n",
            "  inflating: Dataset_Signature_Final/Dataset/dataset3/real/02001020.png  \n",
            "  inflating: Dataset_Signature_Final/Dataset/dataset3/real/02002020.png  \n",
            "  inflating: Dataset_Signature_Final/Dataset/dataset3/real/02003020.png  \n",
            "  inflating: Dataset_Signature_Final/Dataset/dataset3/real/02004020.png  \n",
            "  inflating: Dataset_Signature_Final/Dataset/dataset3/real/02005020.png  \n",
            "  inflating: Dataset_Signature_Final/Dataset/dataset3/real/02101021.png  \n",
            "  inflating: Dataset_Signature_Final/Dataset/dataset3/real/02102021.png  \n",
            "  inflating: Dataset_Signature_Final/Dataset/dataset3/real/02103021.png  \n",
            "  inflating: Dataset_Signature_Final/Dataset/dataset3/real/02104021.png  \n",
            "  inflating: Dataset_Signature_Final/Dataset/dataset3/real/02105021.png  \n",
            "  inflating: Dataset_Signature_Final/Dataset/dataset3/real/02201022.png  \n",
            "  inflating: Dataset_Signature_Final/Dataset/dataset3/real/02202022.png  \n",
            "  inflating: Dataset_Signature_Final/Dataset/dataset3/real/02203022.png  \n",
            "  inflating: Dataset_Signature_Final/Dataset/dataset3/real/02204022.png  \n",
            "  inflating: Dataset_Signature_Final/Dataset/dataset3/real/02205022.png  \n",
            "  inflating: Dataset_Signature_Final/Dataset/dataset3/real/02301023.png  \n",
            "  inflating: Dataset_Signature_Final/Dataset/dataset3/real/02302023.png  \n",
            "  inflating: Dataset_Signature_Final/Dataset/dataset3/real/02303023.png  \n",
            "  inflating: Dataset_Signature_Final/Dataset/dataset3/real/02304023.png  \n",
            "  inflating: Dataset_Signature_Final/Dataset/dataset3/real/02305023.png  \n",
            "  inflating: Dataset_Signature_Final/Dataset/dataset3/real/02401024.png  \n",
            "  inflating: Dataset_Signature_Final/Dataset/dataset3/real/02402024.png  \n",
            "  inflating: Dataset_Signature_Final/Dataset/dataset3/real/02403024.png  \n",
            "  inflating: Dataset_Signature_Final/Dataset/dataset3/real/02404024.png  \n",
            "  inflating: Dataset_Signature_Final/Dataset/dataset3/real/02405024.png  \n",
            "  inflating: Dataset_Signature_Final/Dataset/dataset3/real/02501025.png  \n",
            "  inflating: Dataset_Signature_Final/Dataset/dataset3/real/02502025.png  \n",
            "  inflating: Dataset_Signature_Final/Dataset/dataset3/real/02503025.png  \n",
            "  inflating: Dataset_Signature_Final/Dataset/dataset3/real/02504025.png  \n",
            "  inflating: Dataset_Signature_Final/Dataset/dataset3/real/02505025.png  \n",
            "  inflating: Dataset_Signature_Final/Dataset/dataset3/real/02601026.png  \n",
            "  inflating: Dataset_Signature_Final/Dataset/dataset3/real/02602026.png  \n",
            "  inflating: Dataset_Signature_Final/Dataset/dataset3/real/02603026.png  \n",
            "  inflating: Dataset_Signature_Final/Dataset/dataset3/real/02604026.png  \n",
            "  inflating: Dataset_Signature_Final/Dataset/dataset3/real/02605026.png  \n",
            "  inflating: Dataset_Signature_Final/Dataset/dataset3/real/02701027.png  \n",
            "  inflating: Dataset_Signature_Final/Dataset/dataset3/real/02702027.png  \n",
            "  inflating: Dataset_Signature_Final/Dataset/dataset3/real/02703027.png  \n",
            "  inflating: Dataset_Signature_Final/Dataset/dataset3/real/02704027.png  \n",
            "  inflating: Dataset_Signature_Final/Dataset/dataset3/real/02705027.png  \n",
            "  inflating: Dataset_Signature_Final/Dataset/dataset3/real/02801028.png  \n",
            "  inflating: Dataset_Signature_Final/Dataset/dataset3/real/02802028.png  \n",
            "  inflating: Dataset_Signature_Final/Dataset/dataset3/real/02803028.png  \n",
            "  inflating: Dataset_Signature_Final/Dataset/dataset3/real/02804028.png  \n",
            "  inflating: Dataset_Signature_Final/Dataset/dataset3/real/02805028.png  \n",
            "  inflating: Dataset_Signature_Final/Dataset/dataset3/real/02901029.png  \n",
            "  inflating: Dataset_Signature_Final/Dataset/dataset3/real/02902029.png  \n",
            "  inflating: Dataset_Signature_Final/Dataset/dataset3/real/02903029.png  \n",
            "  inflating: Dataset_Signature_Final/Dataset/dataset3/real/02904029.png  \n",
            "  inflating: Dataset_Signature_Final/Dataset/dataset3/real/02905029.png  \n",
            "  inflating: Dataset_Signature_Final/Dataset/dataset3/real/03001030.png  \n",
            "  inflating: Dataset_Signature_Final/Dataset/dataset3/real/03002030.png  \n",
            "  inflating: Dataset_Signature_Final/Dataset/dataset3/real/03003030.png  \n",
            "  inflating: Dataset_Signature_Final/Dataset/dataset3/real/03004030.png  \n",
            "  inflating: Dataset_Signature_Final/Dataset/dataset3/real/03005030.png  \n",
            "  inflating: Dataset_Signature_Final/Dataset/dataset4/forge/00301002.png  \n",
            "  inflating: Dataset_Signature_Final/Dataset/dataset4/forge/00301035.png  \n",
            "  inflating: Dataset_Signature_Final/Dataset/dataset4/forge/00301046.png  \n",
            "  inflating: Dataset_Signature_Final/Dataset/dataset4/forge/00302002.png  \n",
            "  inflating: Dataset_Signature_Final/Dataset/dataset4/forge/00302035.png  \n",
            "  inflating: Dataset_Signature_Final/Dataset/dataset4/forge/00302046.png  \n",
            "  inflating: Dataset_Signature_Final/Dataset/dataset4/forge/00303002.png  \n",
            "  inflating: Dataset_Signature_Final/Dataset/dataset4/forge/00303035.png  \n",
            "  inflating: Dataset_Signature_Final/Dataset/dataset4/forge/00303046.png  \n",
            "  inflating: Dataset_Signature_Final/Dataset/dataset4/forge/00304002.png  \n",
            "  inflating: Dataset_Signature_Final/Dataset/dataset4/forge/00304035.png  \n",
            "  inflating: Dataset_Signature_Final/Dataset/dataset4/forge/00304046.png  \n",
            "  inflating: Dataset_Signature_Final/Dataset/dataset4/forge/00305002.png  \n",
            "  inflating: Dataset_Signature_Final/Dataset/dataset4/forge/00305035.png  \n",
            "  inflating: Dataset_Signature_Final/Dataset/dataset4/forge/00305046.png  \n",
            "  inflating: Dataset_Signature_Final/Dataset/dataset4/forge/00401024.png  \n",
            "  inflating: Dataset_Signature_Final/Dataset/dataset4/forge/00401044.png  \n",
            "  inflating: Dataset_Signature_Final/Dataset/dataset4/forge/00401063.png  \n",
            "  inflating: Dataset_Signature_Final/Dataset/dataset4/forge/00401092.png  \n",
            "  inflating: Dataset_Signature_Final/Dataset/dataset4/forge/00402024.png  \n",
            "  inflating: Dataset_Signature_Final/Dataset/dataset4/forge/00402044.png  \n",
            "  inflating: Dataset_Signature_Final/Dataset/dataset4/forge/00402063.png  \n",
            "  inflating: Dataset_Signature_Final/Dataset/dataset4/forge/00402092.png  \n",
            "  inflating: Dataset_Signature_Final/Dataset/dataset4/forge/00403024.png  \n",
            "  inflating: Dataset_Signature_Final/Dataset/dataset4/forge/00403044.png  \n",
            "  inflating: Dataset_Signature_Final/Dataset/dataset4/forge/00403063.png  \n",
            "  inflating: Dataset_Signature_Final/Dataset/dataset4/forge/00403092.png  \n",
            "  inflating: Dataset_Signature_Final/Dataset/dataset4/forge/00404024.png  \n",
            "  inflating: Dataset_Signature_Final/Dataset/dataset4/forge/00404044.png  \n",
            "  inflating: Dataset_Signature_Final/Dataset/dataset4/forge/00404063.png  \n",
            "  inflating: Dataset_Signature_Final/Dataset/dataset4/forge/00404092.png  \n",
            "  inflating: Dataset_Signature_Final/Dataset/dataset4/forge/00405024.png  \n",
            "  inflating: Dataset_Signature_Final/Dataset/dataset4/forge/00405044.png  \n",
            "  inflating: Dataset_Signature_Final/Dataset/dataset4/forge/00405063.png  \n",
            "  inflating: Dataset_Signature_Final/Dataset/dataset4/forge/00405092.png  \n",
            "  inflating: Dataset_Signature_Final/Dataset/dataset4/forge/01601077.png  \n",
            "  inflating: Dataset_Signature_Final/Dataset/dataset4/forge/01601089.png  \n",
            "  inflating: Dataset_Signature_Final/Dataset/dataset4/forge/01602033.png  \n",
            "  inflating: Dataset_Signature_Final/Dataset/dataset4/forge/01602077.png  \n",
            "  inflating: Dataset_Signature_Final/Dataset/dataset4/forge/01602089.png  \n",
            "  inflating: Dataset_Signature_Final/Dataset/dataset4/forge/01603033.png  \n",
            "  inflating: Dataset_Signature_Final/Dataset/dataset4/forge/01603077.png  \n",
            "  inflating: Dataset_Signature_Final/Dataset/dataset4/forge/01603089.png  \n",
            "  inflating: Dataset_Signature_Final/Dataset/dataset4/forge/01604033.png  \n",
            "  inflating: Dataset_Signature_Final/Dataset/dataset4/forge/01604077.png  \n",
            "  inflating: Dataset_Signature_Final/Dataset/dataset4/forge/01604089.png  \n",
            "  inflating: Dataset_Signature_Final/Dataset/dataset4/forge/01605033.png  \n",
            "  inflating: Dataset_Signature_Final/Dataset/dataset4/forge/01605077.png  \n",
            "  inflating: Dataset_Signature_Final/Dataset/dataset4/forge/01605089.png  \n",
            "  inflating: Dataset_Signature_Final/Dataset/dataset4/forge/01701033.png  \n",
            "  inflating: Dataset_Signature_Final/Dataset/dataset4/forge/02301008.png  \n",
            "  inflating: Dataset_Signature_Final/Dataset/dataset4/forge/02301070.png  \n",
            "  inflating: Dataset_Signature_Final/Dataset/dataset4/forge/02301093.png  \n",
            "  inflating: Dataset_Signature_Final/Dataset/dataset4/forge/02302008.png  \n",
            "  inflating: Dataset_Signature_Final/Dataset/dataset4/forge/02302070.png  \n",
            "  inflating: Dataset_Signature_Final/Dataset/dataset4/forge/02302093.png  \n",
            "  inflating: Dataset_Signature_Final/Dataset/dataset4/forge/02303008.png  \n",
            "  inflating: Dataset_Signature_Final/Dataset/dataset4/forge/02303070.png  \n",
            "  inflating: Dataset_Signature_Final/Dataset/dataset4/forge/02303093.png  \n",
            "  inflating: Dataset_Signature_Final/Dataset/dataset4/forge/02304008.png  \n",
            "  inflating: Dataset_Signature_Final/Dataset/dataset4/forge/02304070.png  \n",
            "  inflating: Dataset_Signature_Final/Dataset/dataset4/forge/02304093.png  \n",
            "  inflating: Dataset_Signature_Final/Dataset/dataset4/forge/02305008.png  \n",
            "  inflating: Dataset_Signature_Final/Dataset/dataset4/forge/02305070.png  \n",
            "  inflating: Dataset_Signature_Final/Dataset/dataset4/forge/02305093.png  \n",
            "  inflating: Dataset_Signature_Final/Dataset/dataset4/forge/03201084.png  \n",
            "  inflating: Dataset_Signature_Final/Dataset/dataset4/forge/03201085.png  \n",
            "  inflating: Dataset_Signature_Final/Dataset/dataset4/forge/03201086.png  \n",
            "  inflating: Dataset_Signature_Final/Dataset/dataset4/forge/03202084.png  \n",
            "  inflating: Dataset_Signature_Final/Dataset/dataset4/forge/03202085.png  \n",
            "  inflating: Dataset_Signature_Final/Dataset/dataset4/forge/03202086.png  \n",
            "  inflating: Dataset_Signature_Final/Dataset/dataset4/forge/03203084.png  \n",
            "  inflating: Dataset_Signature_Final/Dataset/dataset4/forge/03203085.png  \n",
            "  inflating: Dataset_Signature_Final/Dataset/dataset4/forge/03203086.png  \n",
            "  inflating: Dataset_Signature_Final/Dataset/dataset4/forge/03204084.png  \n",
            "  inflating: Dataset_Signature_Final/Dataset/dataset4/forge/03204085.png  \n",
            "  inflating: Dataset_Signature_Final/Dataset/dataset4/forge/03204086.png  \n",
            "  inflating: Dataset_Signature_Final/Dataset/dataset4/forge/03205084.png  \n",
            "  inflating: Dataset_Signature_Final/Dataset/dataset4/forge/03205085.png  \n",
            "  inflating: Dataset_Signature_Final/Dataset/dataset4/forge/03205086.png  \n",
            "  inflating: Dataset_Signature_Final/Dataset/dataset4/forge/06101016.png  \n",
            "  inflating: Dataset_Signature_Final/Dataset/dataset4/forge/06101071.png  \n",
            "  inflating: Dataset_Signature_Final/Dataset/dataset4/forge/06102016.png  \n",
            "  inflating: Dataset_Signature_Final/Dataset/dataset4/forge/06102071.png  \n",
            "  inflating: Dataset_Signature_Final/Dataset/dataset4/forge/06103016.png  \n",
            "  inflating: Dataset_Signature_Final/Dataset/dataset4/forge/06103071.png  \n",
            "  inflating: Dataset_Signature_Final/Dataset/dataset4/forge/06104016.png  \n",
            "  inflating: Dataset_Signature_Final/Dataset/dataset4/forge/06104071.png  \n",
            "  inflating: Dataset_Signature_Final/Dataset/dataset4/forge/06105016.png  \n",
            "  inflating: Dataset_Signature_Final/Dataset/dataset4/forge/06105071.png  \n",
            "  inflating: Dataset_Signature_Final/Dataset/dataset4/real1/00201002.png  \n",
            "  inflating: Dataset_Signature_Final/Dataset/dataset4/real1/00202002.png  \n",
            "  inflating: Dataset_Signature_Final/Dataset/dataset4/real1/00203002.png  \n",
            "  inflating: Dataset_Signature_Final/Dataset/dataset4/real1/00204002.png  \n",
            "  inflating: Dataset_Signature_Final/Dataset/dataset4/real1/00205002.png  \n",
            "  inflating: Dataset_Signature_Final/Dataset/dataset4/real1/00801008.png  \n",
            "  inflating: Dataset_Signature_Final/Dataset/dataset4/real1/00802008.png  \n",
            "  inflating: Dataset_Signature_Final/Dataset/dataset4/real1/00803008.png  \n",
            "  inflating: Dataset_Signature_Final/Dataset/dataset4/real1/00804008.png  \n",
            "  inflating: Dataset_Signature_Final/Dataset/dataset4/real1/00805008.png  \n",
            "  inflating: Dataset_Signature_Final/Dataset/dataset4/real1/01601016.png  \n",
            "  inflating: Dataset_Signature_Final/Dataset/dataset4/real1/01602016.png  \n",
            "  inflating: Dataset_Signature_Final/Dataset/dataset4/real1/01603016.png  \n",
            "  inflating: Dataset_Signature_Final/Dataset/dataset4/real1/01604016.png  \n",
            "  inflating: Dataset_Signature_Final/Dataset/dataset4/real1/01605016.png  \n",
            "  inflating: Dataset_Signature_Final/Dataset/dataset4/real1/02401024.png  \n",
            "  inflating: Dataset_Signature_Final/Dataset/dataset4/real1/02402024.png  \n",
            "  inflating: Dataset_Signature_Final/Dataset/dataset4/real1/02403024.png  \n",
            "  inflating: Dataset_Signature_Final/Dataset/dataset4/real1/02404024.png  \n",
            "  inflating: Dataset_Signature_Final/Dataset/dataset4/real1/02405024.png  \n",
            "  inflating: Dataset_Signature_Final/Dataset/dataset4/real1/03301033.png  \n",
            "  inflating: Dataset_Signature_Final/Dataset/dataset4/real1/03302033.png  \n",
            "  inflating: Dataset_Signature_Final/Dataset/dataset4/real1/03303033.png  \n",
            "  inflating: Dataset_Signature_Final/Dataset/dataset4/real1/03304033.png  \n",
            "  inflating: Dataset_Signature_Final/Dataset/dataset4/real1/03305033.png  \n",
            "  inflating: Dataset_Signature_Final/Dataset/dataset4/real1/03501035.png  \n",
            "  inflating: Dataset_Signature_Final/Dataset/dataset4/real1/03502035.png  \n",
            "  inflating: Dataset_Signature_Final/Dataset/dataset4/real1/03503035.png  \n",
            "  inflating: Dataset_Signature_Final/Dataset/dataset4/real1/03504035.png  \n",
            "  inflating: Dataset_Signature_Final/Dataset/dataset4/real1/03505035.png  \n",
            "  inflating: Dataset_Signature_Final/Dataset/dataset4/real1/04401044.png  \n",
            "  inflating: Dataset_Signature_Final/Dataset/dataset4/real1/04402044.png  \n",
            "  inflating: Dataset_Signature_Final/Dataset/dataset4/real1/04403044.png  \n",
            "  inflating: Dataset_Signature_Final/Dataset/dataset4/real1/04404044.png  \n",
            "  inflating: Dataset_Signature_Final/Dataset/dataset4/real1/04405044.png  \n",
            "  inflating: Dataset_Signature_Final/Dataset/dataset4/real1/04601046.png  \n",
            "  inflating: Dataset_Signature_Final/Dataset/dataset4/real1/04602046.png  \n",
            "  inflating: Dataset_Signature_Final/Dataset/dataset4/real1/04603046.png  \n",
            "  inflating: Dataset_Signature_Final/Dataset/dataset4/real1/04604046.png  \n",
            "  inflating: Dataset_Signature_Final/Dataset/dataset4/real1/04605046.png  \n",
            "  inflating: Dataset_Signature_Final/Dataset/dataset4/real1/06301063.png  \n",
            "  inflating: Dataset_Signature_Final/Dataset/dataset4/real1/06302063.png  \n",
            "  inflating: Dataset_Signature_Final/Dataset/dataset4/real1/06303063.png  \n",
            "  inflating: Dataset_Signature_Final/Dataset/dataset4/real1/06304063.png  \n",
            "  inflating: Dataset_Signature_Final/Dataset/dataset4/real1/06305063.png  \n",
            "  inflating: Dataset_Signature_Final/Dataset/dataset4/real1/07001070.png  \n",
            "  inflating: Dataset_Signature_Final/Dataset/dataset4/real1/07002070.png  \n",
            "  inflating: Dataset_Signature_Final/Dataset/dataset4/real1/07003070.png  \n",
            "  inflating: Dataset_Signature_Final/Dataset/dataset4/real1/07004070.png  \n",
            "  inflating: Dataset_Signature_Final/Dataset/dataset4/real1/07005070.png  \n",
            "  inflating: Dataset_Signature_Final/Dataset/dataset4/real1/07101071.png  \n",
            "  inflating: Dataset_Signature_Final/Dataset/dataset4/real1/07102071.png  \n",
            "  inflating: Dataset_Signature_Final/Dataset/dataset4/real1/07103071.png  \n",
            "  inflating: Dataset_Signature_Final/Dataset/dataset4/real1/07104071.png  \n",
            "  inflating: Dataset_Signature_Final/Dataset/dataset4/real1/07105071.png  \n",
            "  inflating: Dataset_Signature_Final/Dataset/dataset4/real1/07701077.png  \n",
            "  inflating: Dataset_Signature_Final/Dataset/dataset4/real1/07702077.png  \n",
            "  inflating: Dataset_Signature_Final/Dataset/dataset4/real1/07703077.png  \n",
            "  inflating: Dataset_Signature_Final/Dataset/dataset4/real1/07704077.png  \n",
            "  inflating: Dataset_Signature_Final/Dataset/dataset4/real1/07705077.png  \n",
            "  inflating: Dataset_Signature_Final/Dataset/dataset4/real1/08401084.png  \n",
            "  inflating: Dataset_Signature_Final/Dataset/dataset4/real1/08402084.png  \n",
            "  inflating: Dataset_Signature_Final/Dataset/dataset4/real1/08403084.png  \n",
            "  inflating: Dataset_Signature_Final/Dataset/dataset4/real1/08404084.png  \n",
            "  inflating: Dataset_Signature_Final/Dataset/dataset4/real1/08405084.png  \n",
            "  inflating: Dataset_Signature_Final/Dataset/dataset4/real1/08501085.png  \n",
            "  inflating: Dataset_Signature_Final/Dataset/dataset4/real1/08502085.png  \n",
            "  inflating: Dataset_Signature_Final/Dataset/dataset4/real1/08503085.png  \n",
            "  inflating: Dataset_Signature_Final/Dataset/dataset4/real1/08504085.png  \n",
            "  inflating: Dataset_Signature_Final/Dataset/dataset4/real1/08505085.png  \n",
            "  inflating: Dataset_Signature_Final/Dataset/dataset4/real1/08601086.png  \n",
            "  inflating: Dataset_Signature_Final/Dataset/dataset4/real1/08602086.png  \n",
            "  inflating: Dataset_Signature_Final/Dataset/dataset4/real1/08603086.png  \n",
            "  inflating: Dataset_Signature_Final/Dataset/dataset4/real1/08604086.png  \n",
            "  inflating: Dataset_Signature_Final/Dataset/dataset4/real1/08605086.png  \n",
            "  inflating: Dataset_Signature_Final/Dataset/dataset4/real1/08901089.png  \n",
            "  inflating: Dataset_Signature_Final/Dataset/dataset4/real1/08902089.png  \n",
            "  inflating: Dataset_Signature_Final/Dataset/dataset4/real1/08903089.png  \n",
            "  inflating: Dataset_Signature_Final/Dataset/dataset4/real1/08904089.png  \n",
            "  inflating: Dataset_Signature_Final/Dataset/dataset4/real1/08905089.png  \n",
            "  inflating: Dataset_Signature_Final/Dataset/dataset4/real1/09201092.png  \n",
            "  inflating: Dataset_Signature_Final/Dataset/dataset4/real1/09202092.png  \n",
            "  inflating: Dataset_Signature_Final/Dataset/dataset4/real1/09203092.png  \n",
            "  inflating: Dataset_Signature_Final/Dataset/dataset4/real1/09204092.png  \n",
            "  inflating: Dataset_Signature_Final/Dataset/dataset4/real1/09205092.png  \n",
            "  inflating: Dataset_Signature_Final/Dataset/dataset4/real1/09301093.png  \n",
            "  inflating: Dataset_Signature_Final/Dataset/dataset4/real1/09302093.png  \n",
            "  inflating: Dataset_Signature_Final/Dataset/dataset4/real1/09303093.png  \n",
            "  inflating: Dataset_Signature_Final/Dataset/dataset4/real1/09304093.png  \n",
            "  inflating: Dataset_Signature_Final/Dataset/dataset4/real1/09305093.png  \n",
            "  inflating: dataset_signature_final/Dataset/dataset1/forge/02100001.png  \n",
            "  inflating: dataset_signature_final/Dataset/dataset1/forge/02100002.png  \n",
            "  inflating: dataset_signature_final/Dataset/dataset1/forge/02100003.png  \n",
            "  inflating: dataset_signature_final/Dataset/dataset1/forge/02100004.png  \n",
            "  inflating: dataset_signature_final/Dataset/dataset1/forge/02100005.png  \n",
            "  inflating: dataset_signature_final/Dataset/dataset1/forge/02100006.png  \n",
            "  inflating: dataset_signature_final/Dataset/dataset1/forge/02100007.png  \n",
            "  inflating: dataset_signature_final/Dataset/dataset1/forge/02100008.png  \n",
            "  inflating: dataset_signature_final/Dataset/dataset1/forge/02100009.png  \n",
            "  inflating: dataset_signature_final/Dataset/dataset1/forge/02100010.png  \n",
            "  inflating: dataset_signature_final/Dataset/dataset1/forge/02100011.png  \n",
            "  inflating: dataset_signature_final/Dataset/dataset1/forge/02100012.png  \n",
            "  inflating: dataset_signature_final/Dataset/dataset1/forge/02101001.png  \n",
            "  inflating: dataset_signature_final/Dataset/dataset1/forge/02101002.png  \n",
            "  inflating: dataset_signature_final/Dataset/dataset1/forge/02101003.png  \n",
            "  inflating: dataset_signature_final/Dataset/dataset1/forge/02101004.png  \n",
            "  inflating: dataset_signature_final/Dataset/dataset1/forge/02101005.png  \n",
            "  inflating: dataset_signature_final/Dataset/dataset1/forge/02101006.png  \n",
            "  inflating: dataset_signature_final/Dataset/dataset1/forge/02101007.png  \n",
            "  inflating: dataset_signature_final/Dataset/dataset1/forge/02101008.png  \n",
            "  inflating: dataset_signature_final/Dataset/dataset1/forge/02101009.png  \n",
            "  inflating: dataset_signature_final/Dataset/dataset1/forge/02101010.png  \n",
            "  inflating: dataset_signature_final/Dataset/dataset1/forge/02101011.png  \n",
            "  inflating: dataset_signature_final/Dataset/dataset1/forge/02101012.png  \n",
            "  inflating: dataset_signature_final/Dataset/dataset1/forge/02102001.png  \n",
            "  inflating: dataset_signature_final/Dataset/dataset1/forge/02102002.png  \n",
            "  inflating: dataset_signature_final/Dataset/dataset1/forge/02102003.png  \n",
            "  inflating: dataset_signature_final/Dataset/dataset1/forge/02102004.png  \n",
            "  inflating: dataset_signature_final/Dataset/dataset1/forge/02102005.png  \n",
            "  inflating: dataset_signature_final/Dataset/dataset1/forge/02102006.png  \n",
            "  inflating: dataset_signature_final/Dataset/dataset1/forge/02102007.png  \n",
            "  inflating: dataset_signature_final/Dataset/dataset1/forge/02102008.png  \n",
            "  inflating: dataset_signature_final/Dataset/dataset1/forge/02102009.png  \n",
            "  inflating: dataset_signature_final/Dataset/dataset1/forge/02102010.png  \n",
            "  inflating: dataset_signature_final/Dataset/dataset1/forge/02102011.png  \n",
            "  inflating: dataset_signature_final/Dataset/dataset1/forge/02102012.png  \n",
            "  inflating: dataset_signature_final/Dataset/dataset1/forge/02103001.png  \n",
            "  inflating: dataset_signature_final/Dataset/dataset1/forge/02103002.png  \n",
            "  inflating: dataset_signature_final/Dataset/dataset1/forge/02103003.png  \n",
            "  inflating: dataset_signature_final/Dataset/dataset1/forge/02103004.png  \n",
            "  inflating: dataset_signature_final/Dataset/dataset1/forge/02103005.png  \n",
            "  inflating: dataset_signature_final/Dataset/dataset1/forge/02103006.png  \n",
            "  inflating: dataset_signature_final/Dataset/dataset1/forge/02103007.png  \n",
            "  inflating: dataset_signature_final/Dataset/dataset1/forge/02103008.png  \n",
            "  inflating: dataset_signature_final/Dataset/dataset1/forge/02103009.png  \n",
            "  inflating: dataset_signature_final/Dataset/dataset1/forge/02103010.png  \n",
            "  inflating: dataset_signature_final/Dataset/dataset1/forge/02103011.png  \n",
            "  inflating: dataset_signature_final/Dataset/dataset1/forge/02103012.png  \n",
            "  inflating: dataset_signature_final/Dataset/dataset1/forge/02104001.png  \n",
            "  inflating: dataset_signature_final/Dataset/dataset1/forge/02104002.png  \n",
            "  inflating: dataset_signature_final/Dataset/dataset1/forge/02104003.png  \n",
            "  inflating: dataset_signature_final/Dataset/dataset1/forge/02104004.png  \n",
            "  inflating: dataset_signature_final/Dataset/dataset1/forge/02104005.png  \n",
            "  inflating: dataset_signature_final/Dataset/dataset1/forge/02104006.png  \n",
            "  inflating: dataset_signature_final/Dataset/dataset1/forge/02104007.png  \n",
            "  inflating: dataset_signature_final/Dataset/dataset1/forge/02104008.png  \n",
            "  inflating: dataset_signature_final/Dataset/dataset1/forge/02104009.png  \n",
            "  inflating: dataset_signature_final/Dataset/dataset1/forge/02104010.png  \n",
            "  inflating: dataset_signature_final/Dataset/dataset1/forge/02104011.png  \n",
            "  inflating: dataset_signature_final/Dataset/dataset1/forge/02104012.png  \n",
            "  inflating: dataset_signature_final/Dataset/dataset1/real/00100001.png  \n",
            "  inflating: dataset_signature_final/Dataset/dataset1/real/00101001.png  \n",
            "  inflating: dataset_signature_final/Dataset/dataset1/real/00102001.png  \n",
            "  inflating: dataset_signature_final/Dataset/dataset1/real/00103001.png  \n",
            "  inflating: dataset_signature_final/Dataset/dataset1/real/00104001.png  \n",
            "  inflating: dataset_signature_final/Dataset/dataset1/real/00200002.png  \n",
            "  inflating: dataset_signature_final/Dataset/dataset1/real/00201002.png  \n",
            "  inflating: dataset_signature_final/Dataset/dataset1/real/00202002.png  \n",
            "  inflating: dataset_signature_final/Dataset/dataset1/real/00203002.png  \n",
            "  inflating: dataset_signature_final/Dataset/dataset1/real/00204002.png  \n",
            "  inflating: dataset_signature_final/Dataset/dataset1/real/00300003.png  \n",
            "  inflating: dataset_signature_final/Dataset/dataset1/real/00301003.png  \n",
            "  inflating: dataset_signature_final/Dataset/dataset1/real/00302003.png  \n",
            "  inflating: dataset_signature_final/Dataset/dataset1/real/00303003.png  \n",
            "  inflating: dataset_signature_final/Dataset/dataset1/real/00304003.png  \n",
            "  inflating: dataset_signature_final/Dataset/dataset1/real/00400004.png  \n",
            "  inflating: dataset_signature_final/Dataset/dataset1/real/00401004.png  \n",
            "  inflating: dataset_signature_final/Dataset/dataset1/real/00402004.png  \n",
            "  inflating: dataset_signature_final/Dataset/dataset1/real/00403004.png  \n",
            "  inflating: dataset_signature_final/Dataset/dataset1/real/00404004.png  \n",
            "  inflating: dataset_signature_final/Dataset/dataset1/real/00500005.png  \n",
            "  inflating: dataset_signature_final/Dataset/dataset1/real/00501005.png  \n",
            "  inflating: dataset_signature_final/Dataset/dataset1/real/00502005.png  \n",
            "  inflating: dataset_signature_final/Dataset/dataset1/real/00503005.png  \n",
            "  inflating: dataset_signature_final/Dataset/dataset1/real/00504005.png  \n",
            "  inflating: dataset_signature_final/Dataset/dataset1/real/00600006.png  \n",
            "  inflating: dataset_signature_final/Dataset/dataset1/real/00601006.png  \n",
            "  inflating: dataset_signature_final/Dataset/dataset1/real/00602006.png  \n",
            "  inflating: dataset_signature_final/Dataset/dataset1/real/00603006.png  \n",
            "  inflating: dataset_signature_final/Dataset/dataset1/real/00604006.png  \n",
            "  inflating: dataset_signature_final/Dataset/dataset1/real/00700007.png  \n",
            "  inflating: dataset_signature_final/Dataset/dataset1/real/00701007.png  \n",
            "  inflating: dataset_signature_final/Dataset/dataset1/real/00702007.png  \n",
            "  inflating: dataset_signature_final/Dataset/dataset1/real/00703007.png  \n",
            "  inflating: dataset_signature_final/Dataset/dataset1/real/00704007.png  \n",
            "  inflating: dataset_signature_final/Dataset/dataset1/real/00800008.png  \n",
            "  inflating: dataset_signature_final/Dataset/dataset1/real/00801008.png  \n",
            "  inflating: dataset_signature_final/Dataset/dataset1/real/00802008.png  \n",
            "  inflating: dataset_signature_final/Dataset/dataset1/real/00803008.png  \n",
            "  inflating: dataset_signature_final/Dataset/dataset1/real/00804008.png  \n",
            "  inflating: dataset_signature_final/Dataset/dataset1/real/00900009.png  \n",
            "  inflating: dataset_signature_final/Dataset/dataset1/real/00901009.png  \n",
            "  inflating: dataset_signature_final/Dataset/dataset1/real/00902009.png  \n",
            "  inflating: dataset_signature_final/Dataset/dataset1/real/00903009.png  \n",
            "  inflating: dataset_signature_final/Dataset/dataset1/real/00904009.png  \n",
            "  inflating: dataset_signature_final/Dataset/dataset1/real/01000010.png  \n",
            "  inflating: dataset_signature_final/Dataset/dataset1/real/01001010.png  \n",
            "  inflating: dataset_signature_final/Dataset/dataset1/real/01002010.png  \n",
            "  inflating: dataset_signature_final/Dataset/dataset1/real/01003010.png  \n",
            "  inflating: dataset_signature_final/Dataset/dataset1/real/01004010.png  \n",
            "  inflating: dataset_signature_final/Dataset/dataset1/real/01100011.png  \n",
            "  inflating: dataset_signature_final/Dataset/dataset1/real/01101011.png  \n",
            "  inflating: dataset_signature_final/Dataset/dataset1/real/01102011.png  \n",
            "  inflating: dataset_signature_final/Dataset/dataset1/real/01103011.png  \n",
            "  inflating: dataset_signature_final/Dataset/dataset1/real/01104011.png  \n",
            "  inflating: dataset_signature_final/Dataset/dataset1/real/01200012.png  \n",
            "  inflating: dataset_signature_final/Dataset/dataset1/real/01201012.png  \n",
            "  inflating: dataset_signature_final/Dataset/dataset1/real/01202012.png  \n",
            "  inflating: dataset_signature_final/Dataset/dataset1/real/01203012.png  \n",
            "  inflating: dataset_signature_final/Dataset/dataset1/real/01204012.png  \n",
            "  inflating: dataset_signature_final/Dataset/dataset2/forge/02101003.png  \n",
            "  inflating: dataset_signature_final/Dataset/dataset2/forge/02101004.png  \n",
            "  inflating: dataset_signature_final/Dataset/dataset2/forge/02101005.png  \n",
            "  inflating: dataset_signature_final/Dataset/dataset2/forge/02101006.png  \n",
            "  inflating: dataset_signature_final/Dataset/dataset2/forge/02101007.png  \n",
            "  inflating: dataset_signature_final/Dataset/dataset2/forge/02101008.png  \n",
            "  inflating: dataset_signature_final/Dataset/dataset2/forge/02101009.png  \n",
            "  inflating: dataset_signature_final/Dataset/dataset2/forge/02101011.png  \n",
            "  inflating: dataset_signature_final/Dataset/dataset2/forge/02101012.png  \n",
            "  inflating: dataset_signature_final/Dataset/dataset2/forge/02102003.png  \n",
            "  inflating: dataset_signature_final/Dataset/dataset2/forge/02102004.png  \n",
            "  inflating: dataset_signature_final/Dataset/dataset2/forge/02102005.png  \n",
            "  inflating: dataset_signature_final/Dataset/dataset2/forge/02102006.png  \n",
            "  inflating: dataset_signature_final/Dataset/dataset2/forge/02102007.png  \n",
            "  inflating: dataset_signature_final/Dataset/dataset2/forge/02102008.png  \n",
            "  inflating: dataset_signature_final/Dataset/dataset2/forge/02102009.png  \n",
            "  inflating: dataset_signature_final/Dataset/dataset2/forge/02102011.png  \n",
            "  inflating: dataset_signature_final/Dataset/dataset2/forge/02102012.png  \n",
            "  inflating: dataset_signature_final/Dataset/dataset2/forge/02103003.png  \n",
            "  inflating: dataset_signature_final/Dataset/dataset2/forge/02103004.png  \n",
            "  inflating: dataset_signature_final/Dataset/dataset2/forge/02103005.png  \n",
            "  inflating: dataset_signature_final/Dataset/dataset2/forge/02103006.png  \n",
            "  inflating: dataset_signature_final/Dataset/dataset2/forge/02103007.png  \n",
            "  inflating: dataset_signature_final/Dataset/dataset2/forge/02103008.png  \n",
            "  inflating: dataset_signature_final/Dataset/dataset2/forge/02103009.png  \n",
            "  inflating: dataset_signature_final/Dataset/dataset2/forge/02103011.png  \n",
            "  inflating: dataset_signature_final/Dataset/dataset2/forge/02103012.png  \n",
            "  inflating: dataset_signature_final/Dataset/dataset2/forge/02104003.png  \n",
            "  inflating: dataset_signature_final/Dataset/dataset2/forge/02104004.png  \n",
            "  inflating: dataset_signature_final/Dataset/dataset2/forge/02104005.png  \n",
            "  inflating: dataset_signature_final/Dataset/dataset2/forge/02104006.png  \n",
            "  inflating: dataset_signature_final/Dataset/dataset2/forge/02104007.png  \n",
            "  inflating: dataset_signature_final/Dataset/dataset2/forge/02104008.png  \n",
            "  inflating: dataset_signature_final/Dataset/dataset2/forge/02104009.png  \n",
            "  inflating: dataset_signature_final/Dataset/dataset2/forge/02104011.png  \n",
            "  inflating: dataset_signature_final/Dataset/dataset2/forge/02104012.png  \n",
            "  inflating: dataset_signature_final/Dataset/dataset2/forge/02105003.png  \n",
            "  inflating: dataset_signature_final/Dataset/dataset2/forge/02105004.png  \n",
            "  inflating: dataset_signature_final/Dataset/dataset2/forge/02105005.png  \n",
            "  inflating: dataset_signature_final/Dataset/dataset2/forge/02105006.png  \n",
            "  inflating: dataset_signature_final/Dataset/dataset2/forge/02105007.png  \n",
            "  inflating: dataset_signature_final/Dataset/dataset2/forge/02105008.png  \n",
            "  inflating: dataset_signature_final/Dataset/dataset2/forge/02105009.png  \n",
            "  inflating: dataset_signature_final/Dataset/dataset2/forge/02105011.png  \n",
            "  inflating: dataset_signature_final/Dataset/dataset2/forge/02105012.png  \n",
            "  inflating: dataset_signature_final/Dataset/dataset2/forge/02201001.png  \n",
            "  inflating: dataset_signature_final/Dataset/dataset2/forge/02201002.png  \n",
            "  inflating: dataset_signature_final/Dataset/dataset2/forge/02201010.png  \n",
            "  inflating: dataset_signature_final/Dataset/dataset2/forge/02202001.png  \n",
            "  inflating: dataset_signature_final/Dataset/dataset2/forge/02202002.png  \n",
            "  inflating: dataset_signature_final/Dataset/dataset2/forge/02202010.png  \n",
            "  inflating: dataset_signature_final/Dataset/dataset2/forge/02203001.png  \n",
            "  inflating: dataset_signature_final/Dataset/dataset2/forge/02203002.png  \n",
            "  inflating: dataset_signature_final/Dataset/dataset2/forge/02203010.png  \n",
            "  inflating: dataset_signature_final/Dataset/dataset2/forge/02204001.png  \n",
            "  inflating: dataset_signature_final/Dataset/dataset2/forge/02204002.png  \n",
            "  inflating: dataset_signature_final/Dataset/dataset2/forge/02204010.png  \n",
            "  inflating: dataset_signature_final/Dataset/dataset2/forge/02205001.png  \n",
            "  inflating: dataset_signature_final/Dataset/dataset2/forge/02205002.png  \n",
            "  inflating: dataset_signature_final/Dataset/dataset2/forge/02205010.png  \n",
            "  inflating: dataset_signature_final/Dataset/dataset2/real/00101001.png  \n",
            "  inflating: dataset_signature_final/Dataset/dataset2/real/00102001.png  \n",
            "  inflating: dataset_signature_final/Dataset/dataset2/real/00103001.png  \n",
            "  inflating: dataset_signature_final/Dataset/dataset2/real/00104001.png  \n",
            "  inflating: dataset_signature_final/Dataset/dataset2/real/00105001.png  \n",
            "  inflating: dataset_signature_final/Dataset/dataset2/real/00201002.png  \n",
            "  inflating: dataset_signature_final/Dataset/dataset2/real/00202002.png  \n",
            "  inflating: dataset_signature_final/Dataset/dataset2/real/00203002.png  \n",
            "  inflating: dataset_signature_final/Dataset/dataset2/real/00204002.png  \n",
            "  inflating: dataset_signature_final/Dataset/dataset2/real/00205002.png  \n",
            "  inflating: dataset_signature_final/Dataset/dataset2/real/00301003.png  \n",
            "  inflating: dataset_signature_final/Dataset/dataset2/real/00302003.png  \n",
            "  inflating: dataset_signature_final/Dataset/dataset2/real/00303003.png  \n",
            "  inflating: dataset_signature_final/Dataset/dataset2/real/00304003.png  \n",
            "  inflating: dataset_signature_final/Dataset/dataset2/real/00305003.png  \n",
            "  inflating: dataset_signature_final/Dataset/dataset2/real/00401004.png  \n",
            "  inflating: dataset_signature_final/Dataset/dataset2/real/00402004.png  \n",
            "  inflating: dataset_signature_final/Dataset/dataset2/real/00403004.png  \n",
            "  inflating: dataset_signature_final/Dataset/dataset2/real/00404004.png  \n",
            "  inflating: dataset_signature_final/Dataset/dataset2/real/00405004.png  \n",
            "  inflating: dataset_signature_final/Dataset/dataset2/real/00501005.png  \n",
            "  inflating: dataset_signature_final/Dataset/dataset2/real/00502005.png  \n",
            "  inflating: dataset_signature_final/Dataset/dataset2/real/00503005.png  \n",
            "  inflating: dataset_signature_final/Dataset/dataset2/real/00504005.png  \n",
            "  inflating: dataset_signature_final/Dataset/dataset2/real/00505005.png  \n",
            "  inflating: dataset_signature_final/Dataset/dataset2/real/00601006.png  \n",
            "  inflating: dataset_signature_final/Dataset/dataset2/real/00602006.png  \n",
            "  inflating: dataset_signature_final/Dataset/dataset2/real/00603006.png  \n",
            "  inflating: dataset_signature_final/Dataset/dataset2/real/00604006.png  \n",
            "  inflating: dataset_signature_final/Dataset/dataset2/real/00605006.png  \n",
            "  inflating: dataset_signature_final/Dataset/dataset2/real/00701007.png  \n",
            "  inflating: dataset_signature_final/Dataset/dataset2/real/00702007.png  \n",
            "  inflating: dataset_signature_final/Dataset/dataset2/real/00703007.png  \n",
            "  inflating: dataset_signature_final/Dataset/dataset2/real/00704007.png  \n",
            "  inflating: dataset_signature_final/Dataset/dataset2/real/00705007.png  \n",
            "  inflating: dataset_signature_final/Dataset/dataset2/real/00801008.png  \n",
            "  inflating: dataset_signature_final/Dataset/dataset2/real/00802008.png  \n",
            "  inflating: dataset_signature_final/Dataset/dataset2/real/00803008.png  \n",
            "  inflating: dataset_signature_final/Dataset/dataset2/real/00804008.png  \n",
            "  inflating: dataset_signature_final/Dataset/dataset2/real/00805008.png  \n",
            "  inflating: dataset_signature_final/Dataset/dataset2/real/00901009.png  \n",
            "  inflating: dataset_signature_final/Dataset/dataset2/real/00902009.png  \n",
            "  inflating: dataset_signature_final/Dataset/dataset2/real/00903009.png  \n",
            "  inflating: dataset_signature_final/Dataset/dataset2/real/00904009.png  \n",
            "  inflating: dataset_signature_final/Dataset/dataset2/real/00905009.png  \n",
            "  inflating: dataset_signature_final/Dataset/dataset2/real/01001010.png  \n",
            "  inflating: dataset_signature_final/Dataset/dataset2/real/01002010.png  \n",
            "  inflating: dataset_signature_final/Dataset/dataset2/real/01003010.png  \n",
            "  inflating: dataset_signature_final/Dataset/dataset2/real/01004010.png  \n",
            "  inflating: dataset_signature_final/Dataset/dataset2/real/01005010.png  \n",
            "  inflating: dataset_signature_final/Dataset/dataset2/real/01101011.png  \n",
            "  inflating: dataset_signature_final/Dataset/dataset2/real/01102011.png  \n",
            "  inflating: dataset_signature_final/Dataset/dataset2/real/01103011.png  \n",
            "  inflating: dataset_signature_final/Dataset/dataset2/real/01104011.png  \n",
            "  inflating: dataset_signature_final/Dataset/dataset2/real/01105011.png  \n",
            "  inflating: dataset_signature_final/Dataset/dataset2/real/01201012.png  \n",
            "  inflating: dataset_signature_final/Dataset/dataset2/real/01202012.png  \n",
            "  inflating: dataset_signature_final/Dataset/dataset2/real/01203012.png  \n",
            "  inflating: dataset_signature_final/Dataset/dataset2/real/01204012.png  \n",
            "  inflating: dataset_signature_final/Dataset/dataset2/real/01205012.png  \n",
            "  inflating: dataset_signature_final/Dataset/dataset3/forge/00101014.png  \n",
            "  inflating: dataset_signature_final/Dataset/dataset3/forge/00101019.png  \n",
            "  inflating: dataset_signature_final/Dataset/dataset3/forge/00101025.png  \n",
            "  inflating: dataset_signature_final/Dataset/dataset3/forge/00101026.png  \n",
            "  inflating: dataset_signature_final/Dataset/dataset3/forge/00101027.png  \n",
            "  inflating: dataset_signature_final/Dataset/dataset3/forge/00101028.png  \n",
            "  inflating: dataset_signature_final/Dataset/dataset3/forge/00101029.png  \n",
            "  inflating: dataset_signature_final/Dataset/dataset3/forge/00101030.png  \n",
            "  inflating: dataset_signature_final/Dataset/dataset3/forge/00102014.png  \n",
            "  inflating: dataset_signature_final/Dataset/dataset3/forge/00102019.png  \n",
            "  inflating: dataset_signature_final/Dataset/dataset3/forge/00102025.png  \n",
            "  inflating: dataset_signature_final/Dataset/dataset3/forge/00102026.png  \n",
            "  inflating: dataset_signature_final/Dataset/dataset3/forge/00102027.png  \n",
            "  inflating: dataset_signature_final/Dataset/dataset3/forge/00102028.png  \n",
            "  inflating: dataset_signature_final/Dataset/dataset3/forge/00102029.png  \n",
            "  inflating: dataset_signature_final/Dataset/dataset3/forge/00102030.png  \n",
            "  inflating: dataset_signature_final/Dataset/dataset3/forge/00103014.png  \n",
            "  inflating: dataset_signature_final/Dataset/dataset3/forge/00103019.png  \n",
            "  inflating: dataset_signature_final/Dataset/dataset3/forge/00103025.png  \n",
            "  inflating: dataset_signature_final/Dataset/dataset3/forge/00103026.png  \n",
            "  inflating: dataset_signature_final/Dataset/dataset3/forge/00103027.png  \n",
            "  inflating: dataset_signature_final/Dataset/dataset3/forge/00103028.png  \n",
            "  inflating: dataset_signature_final/Dataset/dataset3/forge/00103029.png  \n",
            "  inflating: dataset_signature_final/Dataset/dataset3/forge/00103030.png  \n",
            "  inflating: dataset_signature_final/Dataset/dataset3/forge/00104014.png  \n",
            "  inflating: dataset_signature_final/Dataset/dataset3/forge/00104019.png  \n",
            "  inflating: dataset_signature_final/Dataset/dataset3/forge/00104025.png  \n",
            "  inflating: dataset_signature_final/Dataset/dataset3/forge/00104026.png  \n",
            "  inflating: dataset_signature_final/Dataset/dataset3/forge/00104027.png  \n",
            "  inflating: dataset_signature_final/Dataset/dataset3/forge/00104028.png  \n",
            "  inflating: dataset_signature_final/Dataset/dataset3/forge/00104029.png  \n",
            "  inflating: dataset_signature_final/Dataset/dataset3/forge/00104030.png  \n",
            "  inflating: dataset_signature_final/Dataset/dataset3/forge/00105014.png  \n",
            "  inflating: dataset_signature_final/Dataset/dataset3/forge/00105019.png  \n",
            "  inflating: dataset_signature_final/Dataset/dataset3/forge/00105025.png  \n",
            "  inflating: dataset_signature_final/Dataset/dataset3/forge/00105026.png  \n",
            "  inflating: dataset_signature_final/Dataset/dataset3/forge/00105027.png  \n",
            "  inflating: dataset_signature_final/Dataset/dataset3/forge/00105028.png  \n",
            "  inflating: dataset_signature_final/Dataset/dataset3/forge/00105029.png  \n",
            "  inflating: dataset_signature_final/Dataset/dataset3/forge/00105030.png  \n",
            "  inflating: dataset_signature_final/Dataset/dataset3/forge/00301001.png  \n",
            "  inflating: dataset_signature_final/Dataset/dataset3/forge/00301002.png  \n",
            "  inflating: dataset_signature_final/Dataset/dataset3/forge/00301005.png  \n",
            "  inflating: dataset_signature_final/Dataset/dataset3/forge/00301009.png  \n",
            "  inflating: dataset_signature_final/Dataset/dataset3/forge/00301018.png  \n",
            "  inflating: dataset_signature_final/Dataset/dataset3/forge/00302001.png  \n",
            "  inflating: dataset_signature_final/Dataset/dataset3/forge/00302002.png  \n",
            "  inflating: dataset_signature_final/Dataset/dataset3/forge/00302005.png  \n",
            "  inflating: dataset_signature_final/Dataset/dataset3/forge/00302009.png  \n",
            "  inflating: dataset_signature_final/Dataset/dataset3/forge/00302018.png  \n",
            "  inflating: dataset_signature_final/Dataset/dataset3/forge/00303001.png  \n",
            "  inflating: dataset_signature_final/Dataset/dataset3/forge/00303002.png  \n",
            "  inflating: dataset_signature_final/Dataset/dataset3/forge/00303005.png  \n",
            "  inflating: dataset_signature_final/Dataset/dataset3/forge/00303009.png  \n",
            "  inflating: dataset_signature_final/Dataset/dataset3/forge/00303018.png  \n",
            "  inflating: dataset_signature_final/Dataset/dataset3/forge/00304001.png  \n",
            "  inflating: dataset_signature_final/Dataset/dataset3/forge/00304002.png  \n",
            "  inflating: dataset_signature_final/Dataset/dataset3/forge/00304005.png  \n",
            "  inflating: dataset_signature_final/Dataset/dataset3/forge/00304009.png  \n",
            "  inflating: dataset_signature_final/Dataset/dataset3/forge/00304018.png  \n",
            "  inflating: dataset_signature_final/Dataset/dataset3/forge/00305001.png  \n",
            "  inflating: dataset_signature_final/Dataset/dataset3/forge/00305002.png  \n",
            "  inflating: dataset_signature_final/Dataset/dataset3/forge/00305005.png  \n",
            "  inflating: dataset_signature_final/Dataset/dataset3/forge/00305009.png  \n",
            "  inflating: dataset_signature_final/Dataset/dataset3/forge/00305018.png  \n",
            "  inflating: dataset_signature_final/Dataset/dataset3/forge/00401003.png  \n",
            "  inflating: dataset_signature_final/Dataset/dataset3/forge/00401007.png  \n",
            "  inflating: dataset_signature_final/Dataset/dataset3/forge/00401013.png  \n",
            "  inflating: dataset_signature_final/Dataset/dataset3/forge/00401024.png  \n",
            "  inflating: dataset_signature_final/Dataset/dataset3/forge/00402003.png  \n",
            "  inflating: dataset_signature_final/Dataset/dataset3/forge/00402007.png  \n",
            "  inflating: dataset_signature_final/Dataset/dataset3/forge/00402013.png  \n",
            "  inflating: dataset_signature_final/Dataset/dataset3/forge/00402024.png  \n",
            "  inflating: dataset_signature_final/Dataset/dataset3/forge/00403003.png  \n",
            "  inflating: dataset_signature_final/Dataset/dataset3/forge/00403007.png  \n",
            "  inflating: dataset_signature_final/Dataset/dataset3/forge/00403013.png  \n",
            "  inflating: dataset_signature_final/Dataset/dataset3/forge/00403024.png  \n",
            "  inflating: dataset_signature_final/Dataset/dataset3/forge/00404003.png  \n",
            "  inflating: dataset_signature_final/Dataset/dataset3/forge/00404007.png  \n",
            "  inflating: dataset_signature_final/Dataset/dataset3/forge/00404013.png  \n",
            "  inflating: dataset_signature_final/Dataset/dataset3/forge/00404024.png  \n",
            "  inflating: dataset_signature_final/Dataset/dataset3/forge/00405003.png  \n",
            "  inflating: dataset_signature_final/Dataset/dataset3/forge/00405007.png  \n",
            "  inflating: dataset_signature_final/Dataset/dataset3/forge/00405013.png  \n",
            "  inflating: dataset_signature_final/Dataset/dataset3/forge/00405024.png  \n",
            "  inflating: dataset_signature_final/Dataset/dataset3/forge/00501015.png  \n",
            "  inflating: dataset_signature_final/Dataset/dataset3/forge/00501022.png  \n",
            "  inflating: dataset_signature_final/Dataset/dataset3/forge/00502015.png  \n",
            "  inflating: dataset_signature_final/Dataset/dataset3/forge/00502022.png  \n",
            "  inflating: dataset_signature_final/Dataset/dataset3/forge/00503015.png  \n",
            "  inflating: dataset_signature_final/Dataset/dataset3/forge/00503022.png  \n",
            "  inflating: dataset_signature_final/Dataset/dataset3/forge/00504015.png  \n",
            "  inflating: dataset_signature_final/Dataset/dataset3/forge/00504022.png  \n",
            "  inflating: dataset_signature_final/Dataset/dataset3/forge/00505015.png  \n",
            "  inflating: dataset_signature_final/Dataset/dataset3/forge/00505022.png  \n",
            "  inflating: dataset_signature_final/Dataset/dataset3/forge/00701011.png  \n",
            "  inflating: dataset_signature_final/Dataset/dataset3/forge/00701023.png  \n",
            "  inflating: dataset_signature_final/Dataset/dataset3/forge/00702011.png  \n",
            "  inflating: dataset_signature_final/Dataset/dataset3/forge/00702023.png  \n",
            "  inflating: dataset_signature_final/Dataset/dataset3/forge/00703011.png  \n",
            "  inflating: dataset_signature_final/Dataset/dataset3/forge/00703023.png  \n",
            "  inflating: dataset_signature_final/Dataset/dataset3/forge/00704011.png  \n",
            "  inflating: dataset_signature_final/Dataset/dataset3/forge/00704023.png  \n",
            "  inflating: dataset_signature_final/Dataset/dataset3/forge/00705011.png  \n",
            "  inflating: dataset_signature_final/Dataset/dataset3/forge/00705023.png  \n",
            "  inflating: dataset_signature_final/Dataset/dataset3/forge/01101012.png  \n",
            "  inflating: dataset_signature_final/Dataset/dataset3/forge/01101016.png  \n",
            "  inflating: dataset_signature_final/Dataset/dataset3/forge/01102012.png  \n",
            "  inflating: dataset_signature_final/Dataset/dataset3/forge/01102016.png  \n",
            "  inflating: dataset_signature_final/Dataset/dataset3/forge/01103012.png  \n",
            "  inflating: dataset_signature_final/Dataset/dataset3/forge/01103016.png  \n",
            "  inflating: dataset_signature_final/Dataset/dataset3/forge/01104012.png  \n",
            "  inflating: dataset_signature_final/Dataset/dataset3/forge/01104016.png  \n",
            "  inflating: dataset_signature_final/Dataset/dataset3/forge/01105012.png  \n",
            "  inflating: dataset_signature_final/Dataset/dataset3/forge/01105016.png  \n",
            "  inflating: dataset_signature_final/Dataset/dataset3/forge/01201021.png  \n",
            "  inflating: dataset_signature_final/Dataset/dataset3/forge/01202021.png  \n",
            "  inflating: dataset_signature_final/Dataset/dataset3/forge/01203021.png  \n",
            "  inflating: dataset_signature_final/Dataset/dataset3/forge/01204021.png  \n",
            "  inflating: dataset_signature_final/Dataset/dataset3/forge/01205021.png  \n",
            "  inflating: dataset_signature_final/Dataset/dataset3/forge/01301017.png  \n",
            "  inflating: dataset_signature_final/Dataset/dataset3/forge/01302017.png  \n",
            "  inflating: dataset_signature_final/Dataset/dataset3/forge/01303017.png  \n",
            "  inflating: dataset_signature_final/Dataset/dataset3/forge/01304017.png  \n",
            "  inflating: dataset_signature_final/Dataset/dataset3/forge/01305017.png  \n",
            "  inflating: dataset_signature_final/Dataset/dataset3/forge/01701020.png  \n",
            "  inflating: dataset_signature_final/Dataset/dataset3/forge/01702020.png  \n",
            "  inflating: dataset_signature_final/Dataset/dataset3/forge/01703020.png  \n",
            "  inflating: dataset_signature_final/Dataset/dataset3/forge/01704020.png  \n",
            "  inflating: dataset_signature_final/Dataset/dataset3/forge/01705020.png  \n",
            "  inflating: dataset_signature_final/Dataset/dataset3/forge/02301008.png  \n",
            "  inflating: dataset_signature_final/Dataset/dataset3/forge/02303008.png  \n",
            "  inflating: dataset_signature_final/Dataset/dataset3/forge/02304008.png  \n",
            "  inflating: dataset_signature_final/Dataset/dataset3/forge/02305008.png  \n",
            "  inflating: dataset_signature_final/Dataset/dataset3/forge/02306008.png  \n",
            "  inflating: dataset_signature_final/Dataset/dataset3/forge/02501010.png  \n",
            "  inflating: dataset_signature_final/Dataset/dataset3/forge/02502010.png  \n",
            "  inflating: dataset_signature_final/Dataset/dataset3/forge/02503010.png  \n",
            "  inflating: dataset_signature_final/Dataset/dataset3/forge/02504010.png  \n",
            "  inflating: dataset_signature_final/Dataset/dataset3/forge/02505009.png  \n",
            "  inflating: dataset_signature_final/Dataset/dataset3/forge/03301006.png  \n",
            "  inflating: dataset_signature_final/Dataset/dataset3/forge/03302006.png  \n",
            "  inflating: dataset_signature_final/Dataset/dataset3/forge/03303006.png  \n",
            "  inflating: dataset_signature_final/Dataset/dataset3/forge/03304006.png  \n",
            "  inflating: dataset_signature_final/Dataset/dataset3/forge/03305006.png  \n",
            "  inflating: dataset_signature_final/Dataset/dataset3/forge/08801004.png  \n",
            "  inflating: dataset_signature_final/Dataset/dataset3/forge/08802004.png  \n",
            "  inflating: dataset_signature_final/Dataset/dataset3/forge/08803004.png  \n",
            "  inflating: dataset_signature_final/Dataset/dataset3/forge/08804004.png  \n",
            "  inflating: dataset_signature_final/Dataset/dataset3/forge/08805004.png  \n",
            "  inflating: dataset_signature_final/Dataset/dataset3/real/00101001.png  \n",
            "  inflating: dataset_signature_final/Dataset/dataset3/real/00102001.png  \n",
            "  inflating: dataset_signature_final/Dataset/dataset3/real/00103001.png  \n",
            "  inflating: dataset_signature_final/Dataset/dataset3/real/00104001.png  \n",
            "  inflating: dataset_signature_final/Dataset/dataset3/real/00105001.png  \n",
            "  inflating: dataset_signature_final/Dataset/dataset3/real/00201002.png  \n",
            "  inflating: dataset_signature_final/Dataset/dataset3/real/00202002.png  \n",
            "  inflating: dataset_signature_final/Dataset/dataset3/real/00203002.png  \n",
            "  inflating: dataset_signature_final/Dataset/dataset3/real/00204002.png  \n",
            "  inflating: dataset_signature_final/Dataset/dataset3/real/00205002.png  \n",
            "  inflating: dataset_signature_final/Dataset/dataset3/real/00301003.png  \n",
            "  inflating: dataset_signature_final/Dataset/dataset3/real/00302003.png  \n",
            "  inflating: dataset_signature_final/Dataset/dataset3/real/00303003.png  \n",
            "  inflating: dataset_signature_final/Dataset/dataset3/real/00304003.png  \n",
            "  inflating: dataset_signature_final/Dataset/dataset3/real/00305003.png  \n",
            "  inflating: dataset_signature_final/Dataset/dataset3/real/00401004.png  \n",
            "  inflating: dataset_signature_final/Dataset/dataset3/real/00402004.png  \n",
            "  inflating: dataset_signature_final/Dataset/dataset3/real/00403004.png  \n",
            "  inflating: dataset_signature_final/Dataset/dataset3/real/00404004.png  \n",
            "  inflating: dataset_signature_final/Dataset/dataset3/real/00405004.png  \n",
            "  inflating: dataset_signature_final/Dataset/dataset3/real/00501005.png  \n",
            "  inflating: dataset_signature_final/Dataset/dataset3/real/00502005.png  \n",
            "  inflating: dataset_signature_final/Dataset/dataset3/real/00503005.png  \n",
            "  inflating: dataset_signature_final/Dataset/dataset3/real/00504005.png  \n",
            "  inflating: dataset_signature_final/Dataset/dataset3/real/00505005.png  \n",
            "  inflating: dataset_signature_final/Dataset/dataset3/real/00601006.png  \n",
            "  inflating: dataset_signature_final/Dataset/dataset3/real/00602006.png  \n",
            "  inflating: dataset_signature_final/Dataset/dataset3/real/00603006.png  \n",
            "  inflating: dataset_signature_final/Dataset/dataset3/real/00604006.png  \n",
            "  inflating: dataset_signature_final/Dataset/dataset3/real/00605006.png  \n",
            "  inflating: dataset_signature_final/Dataset/dataset3/real/00701007.png  \n",
            "  inflating: dataset_signature_final/Dataset/dataset3/real/00702007.png  \n",
            "  inflating: dataset_signature_final/Dataset/dataset3/real/00703007.png  \n",
            "  inflating: dataset_signature_final/Dataset/dataset3/real/00704007.png  \n",
            "  inflating: dataset_signature_final/Dataset/dataset3/real/00705007.png  \n",
            "  inflating: dataset_signature_final/Dataset/dataset3/real/00801008.png  \n",
            "  inflating: dataset_signature_final/Dataset/dataset3/real/00802008.png  \n",
            "  inflating: dataset_signature_final/Dataset/dataset3/real/00803008.png  \n",
            "  inflating: dataset_signature_final/Dataset/dataset3/real/00804008.png  \n",
            "  inflating: dataset_signature_final/Dataset/dataset3/real/00805008.png  \n",
            "  inflating: dataset_signature_final/Dataset/dataset3/real/00901009.png  \n",
            "  inflating: dataset_signature_final/Dataset/dataset3/real/00902009.png  \n",
            "  inflating: dataset_signature_final/Dataset/dataset3/real/00903009.png  \n",
            "  inflating: dataset_signature_final/Dataset/dataset3/real/00904009.png  \n",
            "  inflating: dataset_signature_final/Dataset/dataset3/real/00905009.png  \n",
            "  inflating: dataset_signature_final/Dataset/dataset3/real/01001010.png  \n",
            "  inflating: dataset_signature_final/Dataset/dataset3/real/01002010.png  \n",
            "  inflating: dataset_signature_final/Dataset/dataset3/real/01003010.png  \n",
            "  inflating: dataset_signature_final/Dataset/dataset3/real/01004010.png  \n",
            "  inflating: dataset_signature_final/Dataset/dataset3/real/01005010.png  \n",
            "  inflating: dataset_signature_final/Dataset/dataset3/real/01101011.png  \n",
            "  inflating: dataset_signature_final/Dataset/dataset3/real/01102011.png  \n",
            "  inflating: dataset_signature_final/Dataset/dataset3/real/01103011.png  \n",
            "  inflating: dataset_signature_final/Dataset/dataset3/real/01104011.png  \n",
            "  inflating: dataset_signature_final/Dataset/dataset3/real/01105011.png  \n",
            "  inflating: dataset_signature_final/Dataset/dataset3/real/01201012.png  \n",
            "  inflating: dataset_signature_final/Dataset/dataset3/real/01202012.png  \n",
            "  inflating: dataset_signature_final/Dataset/dataset3/real/01203012.png  \n",
            "  inflating: dataset_signature_final/Dataset/dataset3/real/01204012.png  \n",
            "  inflating: dataset_signature_final/Dataset/dataset3/real/01205012.png  \n",
            "  inflating: dataset_signature_final/Dataset/dataset3/real/01301013.png  \n",
            "  inflating: dataset_signature_final/Dataset/dataset3/real/01302013.png  \n",
            "  inflating: dataset_signature_final/Dataset/dataset3/real/01303013.png  \n",
            "  inflating: dataset_signature_final/Dataset/dataset3/real/01304013.png  \n",
            "  inflating: dataset_signature_final/Dataset/dataset3/real/01305013.png  \n",
            "  inflating: dataset_signature_final/Dataset/dataset3/real/01401014.png  \n",
            "  inflating: dataset_signature_final/Dataset/dataset3/real/01402014.png  \n",
            "  inflating: dataset_signature_final/Dataset/dataset3/real/01403014.png  \n",
            "  inflating: dataset_signature_final/Dataset/dataset3/real/01404014.png  \n",
            "  inflating: dataset_signature_final/Dataset/dataset3/real/01405014.png  \n",
            "  inflating: dataset_signature_final/Dataset/dataset3/real/01501015.png  \n",
            "  inflating: dataset_signature_final/Dataset/dataset3/real/01502015.png  \n",
            "  inflating: dataset_signature_final/Dataset/dataset3/real/01503015.png  \n",
            "  inflating: dataset_signature_final/Dataset/dataset3/real/01504015.png  \n",
            "  inflating: dataset_signature_final/Dataset/dataset3/real/01505015.png  \n",
            "  inflating: dataset_signature_final/Dataset/dataset3/real/01601016.png  \n",
            "  inflating: dataset_signature_final/Dataset/dataset3/real/01602016.png  \n",
            "  inflating: dataset_signature_final/Dataset/dataset3/real/01603016.png  \n",
            "  inflating: dataset_signature_final/Dataset/dataset3/real/01604016.png  \n",
            "  inflating: dataset_signature_final/Dataset/dataset3/real/01605016.png  \n",
            "  inflating: dataset_signature_final/Dataset/dataset3/real/01701017.png  \n",
            "  inflating: dataset_signature_final/Dataset/dataset3/real/01702017.png  \n",
            "  inflating: dataset_signature_final/Dataset/dataset3/real/01703017.png  \n",
            "  inflating: dataset_signature_final/Dataset/dataset3/real/01704017.png  \n",
            "  inflating: dataset_signature_final/Dataset/dataset3/real/01705017.png  \n",
            "  inflating: dataset_signature_final/Dataset/dataset3/real/01801018.png  \n",
            "  inflating: dataset_signature_final/Dataset/dataset3/real/01802018.png  \n",
            "  inflating: dataset_signature_final/Dataset/dataset3/real/01803018.png  \n",
            "  inflating: dataset_signature_final/Dataset/dataset3/real/01804018.png  \n",
            "  inflating: dataset_signature_final/Dataset/dataset3/real/01805018.png  \n",
            "  inflating: dataset_signature_final/Dataset/dataset3/real/01901019.png  \n",
            "  inflating: dataset_signature_final/Dataset/dataset3/real/01902019.png  \n",
            "  inflating: dataset_signature_final/Dataset/dataset3/real/01903019.png  \n",
            "  inflating: dataset_signature_final/Dataset/dataset3/real/01904019.png  \n",
            "  inflating: dataset_signature_final/Dataset/dataset3/real/01905019.png  \n",
            "  inflating: dataset_signature_final/Dataset/dataset3/real/02001020.png  \n",
            "  inflating: dataset_signature_final/Dataset/dataset3/real/02002020.png  \n",
            "  inflating: dataset_signature_final/Dataset/dataset3/real/02003020.png  \n",
            "  inflating: dataset_signature_final/Dataset/dataset3/real/02004020.png  \n",
            "  inflating: dataset_signature_final/Dataset/dataset3/real/02005020.png  \n",
            "  inflating: dataset_signature_final/Dataset/dataset3/real/02101021.png  \n",
            "  inflating: dataset_signature_final/Dataset/dataset3/real/02102021.png  \n",
            "  inflating: dataset_signature_final/Dataset/dataset3/real/02103021.png  \n",
            "  inflating: dataset_signature_final/Dataset/dataset3/real/02104021.png  \n",
            "  inflating: dataset_signature_final/Dataset/dataset3/real/02105021.png  \n",
            "  inflating: dataset_signature_final/Dataset/dataset3/real/02201022.png  \n",
            "  inflating: dataset_signature_final/Dataset/dataset3/real/02202022.png  \n",
            "  inflating: dataset_signature_final/Dataset/dataset3/real/02203022.png  \n",
            "  inflating: dataset_signature_final/Dataset/dataset3/real/02204022.png  \n",
            "  inflating: dataset_signature_final/Dataset/dataset3/real/02205022.png  \n",
            "  inflating: dataset_signature_final/Dataset/dataset3/real/02301023.png  \n",
            "  inflating: dataset_signature_final/Dataset/dataset3/real/02302023.png  \n",
            "  inflating: dataset_signature_final/Dataset/dataset3/real/02303023.png  \n",
            "  inflating: dataset_signature_final/Dataset/dataset3/real/02304023.png  \n",
            "  inflating: dataset_signature_final/Dataset/dataset3/real/02305023.png  \n",
            "  inflating: dataset_signature_final/Dataset/dataset3/real/02401024.png  \n",
            "  inflating: dataset_signature_final/Dataset/dataset3/real/02402024.png  \n",
            "  inflating: dataset_signature_final/Dataset/dataset3/real/02403024.png  \n",
            "  inflating: dataset_signature_final/Dataset/dataset3/real/02404024.png  \n",
            "  inflating: dataset_signature_final/Dataset/dataset3/real/02405024.png  \n",
            "  inflating: dataset_signature_final/Dataset/dataset3/real/02501025.png  \n",
            "  inflating: dataset_signature_final/Dataset/dataset3/real/02502025.png  \n",
            "  inflating: dataset_signature_final/Dataset/dataset3/real/02503025.png  \n",
            "  inflating: dataset_signature_final/Dataset/dataset3/real/02504025.png  \n",
            "  inflating: dataset_signature_final/Dataset/dataset3/real/02505025.png  \n",
            "  inflating: dataset_signature_final/Dataset/dataset3/real/02601026.png  \n",
            "  inflating: dataset_signature_final/Dataset/dataset3/real/02602026.png  \n",
            "  inflating: dataset_signature_final/Dataset/dataset3/real/02603026.png  \n",
            "  inflating: dataset_signature_final/Dataset/dataset3/real/02604026.png  \n",
            "  inflating: dataset_signature_final/Dataset/dataset3/real/02605026.png  \n",
            "  inflating: dataset_signature_final/Dataset/dataset3/real/02701027.png  \n",
            "  inflating: dataset_signature_final/Dataset/dataset3/real/02702027.png  \n",
            "  inflating: dataset_signature_final/Dataset/dataset3/real/02703027.png  \n",
            "  inflating: dataset_signature_final/Dataset/dataset3/real/02704027.png  \n",
            "  inflating: dataset_signature_final/Dataset/dataset3/real/02705027.png  \n",
            "  inflating: dataset_signature_final/Dataset/dataset3/real/02801028.png  \n",
            "  inflating: dataset_signature_final/Dataset/dataset3/real/02802028.png  \n",
            "  inflating: dataset_signature_final/Dataset/dataset3/real/02803028.png  \n",
            "  inflating: dataset_signature_final/Dataset/dataset3/real/02804028.png  \n",
            "  inflating: dataset_signature_final/Dataset/dataset3/real/02805028.png  \n",
            "  inflating: dataset_signature_final/Dataset/dataset3/real/02901029.png  \n",
            "  inflating: dataset_signature_final/Dataset/dataset3/real/02902029.png  \n",
            "  inflating: dataset_signature_final/Dataset/dataset3/real/02903029.png  \n",
            "  inflating: dataset_signature_final/Dataset/dataset3/real/02904029.png  \n",
            "  inflating: dataset_signature_final/Dataset/dataset3/real/02905029.png  \n",
            "  inflating: dataset_signature_final/Dataset/dataset3/real/03001030.png  \n",
            "  inflating: dataset_signature_final/Dataset/dataset3/real/03002030.png  \n",
            "  inflating: dataset_signature_final/Dataset/dataset3/real/03003030.png  \n",
            "  inflating: dataset_signature_final/Dataset/dataset3/real/03004030.png  \n",
            "  inflating: dataset_signature_final/Dataset/dataset3/real/03005030.png  \n",
            "  inflating: dataset_signature_final/Dataset/dataset4/forge/00301002.png  \n",
            "  inflating: dataset_signature_final/Dataset/dataset4/forge/00301035.png  \n",
            "  inflating: dataset_signature_final/Dataset/dataset4/forge/00301046.png  \n",
            "  inflating: dataset_signature_final/Dataset/dataset4/forge/00302002.png  \n",
            "  inflating: dataset_signature_final/Dataset/dataset4/forge/00302035.png  \n",
            "  inflating: dataset_signature_final/Dataset/dataset4/forge/00302046.png  \n",
            "  inflating: dataset_signature_final/Dataset/dataset4/forge/00303002.png  \n",
            "  inflating: dataset_signature_final/Dataset/dataset4/forge/00303035.png  \n",
            "  inflating: dataset_signature_final/Dataset/dataset4/forge/00303046.png  \n",
            "  inflating: dataset_signature_final/Dataset/dataset4/forge/00304002.png  \n",
            "  inflating: dataset_signature_final/Dataset/dataset4/forge/00304035.png  \n",
            "  inflating: dataset_signature_final/Dataset/dataset4/forge/00304046.png  \n",
            "  inflating: dataset_signature_final/Dataset/dataset4/forge/00305002.png  \n",
            "  inflating: dataset_signature_final/Dataset/dataset4/forge/00305035.png  \n",
            "  inflating: dataset_signature_final/Dataset/dataset4/forge/00305046.png  \n",
            "  inflating: dataset_signature_final/Dataset/dataset4/forge/00401024.png  \n",
            "  inflating: dataset_signature_final/Dataset/dataset4/forge/00401044.png  \n",
            "  inflating: dataset_signature_final/Dataset/dataset4/forge/00401063.png  \n",
            "  inflating: dataset_signature_final/Dataset/dataset4/forge/00401092.png  \n",
            "  inflating: dataset_signature_final/Dataset/dataset4/forge/00402024.png  \n",
            "  inflating: dataset_signature_final/Dataset/dataset4/forge/00402044.png  \n",
            "  inflating: dataset_signature_final/Dataset/dataset4/forge/00402063.png  \n",
            "  inflating: dataset_signature_final/Dataset/dataset4/forge/00402092.png  \n",
            "  inflating: dataset_signature_final/Dataset/dataset4/forge/00403024.png  \n",
            "  inflating: dataset_signature_final/Dataset/dataset4/forge/00403044.png  \n",
            "  inflating: dataset_signature_final/Dataset/dataset4/forge/00403063.png  \n",
            "  inflating: dataset_signature_final/Dataset/dataset4/forge/00403092.png  \n",
            "  inflating: dataset_signature_final/Dataset/dataset4/forge/00404024.png  \n",
            "  inflating: dataset_signature_final/Dataset/dataset4/forge/00404044.png  \n",
            "  inflating: dataset_signature_final/Dataset/dataset4/forge/00404063.png  \n",
            "  inflating: dataset_signature_final/Dataset/dataset4/forge/00404092.png  \n",
            "  inflating: dataset_signature_final/Dataset/dataset4/forge/00405024.png  \n",
            "  inflating: dataset_signature_final/Dataset/dataset4/forge/00405044.png  \n",
            "  inflating: dataset_signature_final/Dataset/dataset4/forge/00405063.png  \n",
            "  inflating: dataset_signature_final/Dataset/dataset4/forge/00405092.png  \n",
            "  inflating: dataset_signature_final/Dataset/dataset4/forge/01601077.png  \n",
            "  inflating: dataset_signature_final/Dataset/dataset4/forge/01601089.png  \n",
            "  inflating: dataset_signature_final/Dataset/dataset4/forge/01602033.png  \n",
            "  inflating: dataset_signature_final/Dataset/dataset4/forge/01602077.png  \n",
            "  inflating: dataset_signature_final/Dataset/dataset4/forge/01602089.png  \n",
            "  inflating: dataset_signature_final/Dataset/dataset4/forge/01603033.png  \n",
            "  inflating: dataset_signature_final/Dataset/dataset4/forge/01603077.png  \n",
            "  inflating: dataset_signature_final/Dataset/dataset4/forge/01603089.png  \n",
            "  inflating: dataset_signature_final/Dataset/dataset4/forge/01604033.png  \n",
            "  inflating: dataset_signature_final/Dataset/dataset4/forge/01604077.png  \n",
            "  inflating: dataset_signature_final/Dataset/dataset4/forge/01604089.png  \n",
            "  inflating: dataset_signature_final/Dataset/dataset4/forge/01605033.png  \n",
            "  inflating: dataset_signature_final/Dataset/dataset4/forge/01605077.png  \n",
            "  inflating: dataset_signature_final/Dataset/dataset4/forge/01605089.png  \n",
            "  inflating: dataset_signature_final/Dataset/dataset4/forge/01701033.png  \n",
            "  inflating: dataset_signature_final/Dataset/dataset4/forge/02301008.png  \n",
            "  inflating: dataset_signature_final/Dataset/dataset4/forge/02301070.png  \n",
            "  inflating: dataset_signature_final/Dataset/dataset4/forge/02301093.png  \n",
            "  inflating: dataset_signature_final/Dataset/dataset4/forge/02302008.png  \n",
            "  inflating: dataset_signature_final/Dataset/dataset4/forge/02302070.png  \n",
            "  inflating: dataset_signature_final/Dataset/dataset4/forge/02302093.png  \n",
            "  inflating: dataset_signature_final/Dataset/dataset4/forge/02303008.png  \n",
            "  inflating: dataset_signature_final/Dataset/dataset4/forge/02303070.png  \n",
            "  inflating: dataset_signature_final/Dataset/dataset4/forge/02303093.png  \n",
            "  inflating: dataset_signature_final/Dataset/dataset4/forge/02304008.png  \n",
            "  inflating: dataset_signature_final/Dataset/dataset4/forge/02304070.png  \n",
            "  inflating: dataset_signature_final/Dataset/dataset4/forge/02304093.png  \n",
            "  inflating: dataset_signature_final/Dataset/dataset4/forge/02305008.png  \n",
            "  inflating: dataset_signature_final/Dataset/dataset4/forge/02305070.png  \n",
            "  inflating: dataset_signature_final/Dataset/dataset4/forge/02305093.png  \n",
            "  inflating: dataset_signature_final/Dataset/dataset4/forge/03201084.png  \n",
            "  inflating: dataset_signature_final/Dataset/dataset4/forge/03201085.png  \n",
            "  inflating: dataset_signature_final/Dataset/dataset4/forge/03201086.png  \n",
            "  inflating: dataset_signature_final/Dataset/dataset4/forge/03202084.png  \n",
            "  inflating: dataset_signature_final/Dataset/dataset4/forge/03202085.png  \n",
            "  inflating: dataset_signature_final/Dataset/dataset4/forge/03202086.png  \n",
            "  inflating: dataset_signature_final/Dataset/dataset4/forge/03203084.png  \n",
            "  inflating: dataset_signature_final/Dataset/dataset4/forge/03203085.png  \n",
            "  inflating: dataset_signature_final/Dataset/dataset4/forge/03203086.png  \n",
            "  inflating: dataset_signature_final/Dataset/dataset4/forge/03204084.png  \n",
            "  inflating: dataset_signature_final/Dataset/dataset4/forge/03204085.png  \n",
            "  inflating: dataset_signature_final/Dataset/dataset4/forge/03204086.png  \n",
            "  inflating: dataset_signature_final/Dataset/dataset4/forge/03205084.png  \n",
            "  inflating: dataset_signature_final/Dataset/dataset4/forge/03205085.png  \n",
            "  inflating: dataset_signature_final/Dataset/dataset4/forge/03205086.png  \n",
            "  inflating: dataset_signature_final/Dataset/dataset4/forge/06101016.png  \n",
            "  inflating: dataset_signature_final/Dataset/dataset4/forge/06101071.png  \n",
            "  inflating: dataset_signature_final/Dataset/dataset4/forge/06102016.png  \n",
            "  inflating: dataset_signature_final/Dataset/dataset4/forge/06102071.png  \n",
            "  inflating: dataset_signature_final/Dataset/dataset4/forge/06103016.png  \n",
            "  inflating: dataset_signature_final/Dataset/dataset4/forge/06103071.png  \n",
            "  inflating: dataset_signature_final/Dataset/dataset4/forge/06104016.png  \n",
            "  inflating: dataset_signature_final/Dataset/dataset4/forge/06104071.png  \n",
            "  inflating: dataset_signature_final/Dataset/dataset4/forge/06105016.png  \n",
            "  inflating: dataset_signature_final/Dataset/dataset4/forge/06105071.png  \n",
            "  inflating: dataset_signature_final/Dataset/dataset4/real1/00201002.png  \n",
            "  inflating: dataset_signature_final/Dataset/dataset4/real1/00202002.png  \n",
            "  inflating: dataset_signature_final/Dataset/dataset4/real1/00203002.png  \n",
            "  inflating: dataset_signature_final/Dataset/dataset4/real1/00204002.png  \n",
            "  inflating: dataset_signature_final/Dataset/dataset4/real1/00205002.png  \n",
            "  inflating: dataset_signature_final/Dataset/dataset4/real1/00801008.png  \n",
            "  inflating: dataset_signature_final/Dataset/dataset4/real1/00802008.png  \n",
            "  inflating: dataset_signature_final/Dataset/dataset4/real1/00803008.png  \n",
            "  inflating: dataset_signature_final/Dataset/dataset4/real1/00804008.png  \n",
            "  inflating: dataset_signature_final/Dataset/dataset4/real1/00805008.png  \n",
            "  inflating: dataset_signature_final/Dataset/dataset4/real1/01601016.png  \n",
            "  inflating: dataset_signature_final/Dataset/dataset4/real1/01602016.png  \n",
            "  inflating: dataset_signature_final/Dataset/dataset4/real1/01603016.png  \n",
            "  inflating: dataset_signature_final/Dataset/dataset4/real1/01604016.png  \n",
            "  inflating: dataset_signature_final/Dataset/dataset4/real1/01605016.png  \n",
            "  inflating: dataset_signature_final/Dataset/dataset4/real1/02401024.png  \n",
            "  inflating: dataset_signature_final/Dataset/dataset4/real1/02402024.png  \n",
            "  inflating: dataset_signature_final/Dataset/dataset4/real1/02403024.png  \n",
            "  inflating: dataset_signature_final/Dataset/dataset4/real1/02404024.png  \n",
            "  inflating: dataset_signature_final/Dataset/dataset4/real1/02405024.png  \n",
            "  inflating: dataset_signature_final/Dataset/dataset4/real1/03301033.png  \n",
            "  inflating: dataset_signature_final/Dataset/dataset4/real1/03302033.png  \n",
            "  inflating: dataset_signature_final/Dataset/dataset4/real1/03303033.png  \n",
            "  inflating: dataset_signature_final/Dataset/dataset4/real1/03304033.png  \n",
            "  inflating: dataset_signature_final/Dataset/dataset4/real1/03305033.png  \n",
            "  inflating: dataset_signature_final/Dataset/dataset4/real1/03501035.png  \n",
            "  inflating: dataset_signature_final/Dataset/dataset4/real1/03502035.png  \n",
            "  inflating: dataset_signature_final/Dataset/dataset4/real1/03503035.png  \n",
            "  inflating: dataset_signature_final/Dataset/dataset4/real1/03504035.png  \n",
            "  inflating: dataset_signature_final/Dataset/dataset4/real1/03505035.png  \n",
            "  inflating: dataset_signature_final/Dataset/dataset4/real1/04401044.png  \n",
            "  inflating: dataset_signature_final/Dataset/dataset4/real1/04402044.png  \n",
            "  inflating: dataset_signature_final/Dataset/dataset4/real1/04403044.png  \n",
            "  inflating: dataset_signature_final/Dataset/dataset4/real1/04404044.png  \n",
            "  inflating: dataset_signature_final/Dataset/dataset4/real1/04405044.png  \n",
            "  inflating: dataset_signature_final/Dataset/dataset4/real1/04601046.png  \n",
            "  inflating: dataset_signature_final/Dataset/dataset4/real1/04602046.png  \n",
            "  inflating: dataset_signature_final/Dataset/dataset4/real1/04603046.png  \n",
            "  inflating: dataset_signature_final/Dataset/dataset4/real1/04604046.png  \n",
            "  inflating: dataset_signature_final/Dataset/dataset4/real1/04605046.png  \n",
            "  inflating: dataset_signature_final/Dataset/dataset4/real1/06301063.png  \n",
            "  inflating: dataset_signature_final/Dataset/dataset4/real1/06302063.png  \n",
            "  inflating: dataset_signature_final/Dataset/dataset4/real1/06303063.png  \n",
            "  inflating: dataset_signature_final/Dataset/dataset4/real1/06304063.png  \n",
            "  inflating: dataset_signature_final/Dataset/dataset4/real1/06305063.png  \n",
            "  inflating: dataset_signature_final/Dataset/dataset4/real1/07001070.png  \n",
            "  inflating: dataset_signature_final/Dataset/dataset4/real1/07002070.png  \n",
            "  inflating: dataset_signature_final/Dataset/dataset4/real1/07003070.png  \n",
            "  inflating: dataset_signature_final/Dataset/dataset4/real1/07004070.png  \n",
            "  inflating: dataset_signature_final/Dataset/dataset4/real1/07005070.png  \n",
            "  inflating: dataset_signature_final/Dataset/dataset4/real1/07101071.png  \n",
            "  inflating: dataset_signature_final/Dataset/dataset4/real1/07102071.png  \n",
            "  inflating: dataset_signature_final/Dataset/dataset4/real1/07103071.png  \n",
            "  inflating: dataset_signature_final/Dataset/dataset4/real1/07104071.png  \n",
            "  inflating: dataset_signature_final/Dataset/dataset4/real1/07105071.png  \n",
            "  inflating: dataset_signature_final/Dataset/dataset4/real1/07701077.png  \n",
            "  inflating: dataset_signature_final/Dataset/dataset4/real1/07702077.png  \n",
            "  inflating: dataset_signature_final/Dataset/dataset4/real1/07703077.png  \n",
            "  inflating: dataset_signature_final/Dataset/dataset4/real1/07704077.png  \n",
            "  inflating: dataset_signature_final/Dataset/dataset4/real1/07705077.png  \n",
            "  inflating: dataset_signature_final/Dataset/dataset4/real1/08401084.png  \n",
            "  inflating: dataset_signature_final/Dataset/dataset4/real1/08402084.png  \n",
            "  inflating: dataset_signature_final/Dataset/dataset4/real1/08403084.png  \n",
            "  inflating: dataset_signature_final/Dataset/dataset4/real1/08404084.png  \n",
            "  inflating: dataset_signature_final/Dataset/dataset4/real1/08405084.png  \n",
            "  inflating: dataset_signature_final/Dataset/dataset4/real1/08501085.png  \n",
            "  inflating: dataset_signature_final/Dataset/dataset4/real1/08502085.png  \n",
            "  inflating: dataset_signature_final/Dataset/dataset4/real1/08503085.png  \n",
            "  inflating: dataset_signature_final/Dataset/dataset4/real1/08504085.png  \n",
            "  inflating: dataset_signature_final/Dataset/dataset4/real1/08505085.png  \n",
            "  inflating: dataset_signature_final/Dataset/dataset4/real1/08601086.png  \n",
            "  inflating: dataset_signature_final/Dataset/dataset4/real1/08602086.png  \n",
            "  inflating: dataset_signature_final/Dataset/dataset4/real1/08603086.png  \n",
            "  inflating: dataset_signature_final/Dataset/dataset4/real1/08604086.png  \n",
            "  inflating: dataset_signature_final/Dataset/dataset4/real1/08605086.png  \n",
            "  inflating: dataset_signature_final/Dataset/dataset4/real1/08901089.png  \n",
            "  inflating: dataset_signature_final/Dataset/dataset4/real1/08902089.png  \n",
            "  inflating: dataset_signature_final/Dataset/dataset4/real1/08903089.png  \n",
            "  inflating: dataset_signature_final/Dataset/dataset4/real1/08904089.png  \n",
            "  inflating: dataset_signature_final/Dataset/dataset4/real1/08905089.png  \n",
            "  inflating: dataset_signature_final/Dataset/dataset4/real1/09201092.png  \n",
            "  inflating: dataset_signature_final/Dataset/dataset4/real1/09202092.png  \n",
            "  inflating: dataset_signature_final/Dataset/dataset4/real1/09203092.png  \n",
            "  inflating: dataset_signature_final/Dataset/dataset4/real1/09204092.png  \n",
            "  inflating: dataset_signature_final/Dataset/dataset4/real1/09205092.png  \n",
            "  inflating: dataset_signature_final/Dataset/dataset4/real1/09301093.png  \n",
            "  inflating: dataset_signature_final/Dataset/dataset4/real1/09302093.png  \n",
            "  inflating: dataset_signature_final/Dataset/dataset4/real1/09303093.png  \n",
            "  inflating: dataset_signature_final/Dataset/dataset4/real1/09304093.png  \n",
            "  inflating: dataset_signature_final/Dataset/dataset4/real1/09305093.png  \n",
            "  inflating: sample_Signature/sample_Signature/README.txt.txt  \n",
            "  inflating: sample_Signature/sample_Signature/forged/NFI-00101014.png  \n",
            "  inflating: sample_Signature/sample_Signature/forged/NFI-00101019.png  \n",
            "  inflating: sample_Signature/sample_Signature/forged/NFI-00101025.PNG  \n",
            "  inflating: sample_Signature/sample_Signature/forged/NFI-00101026.PNG  \n",
            "  inflating: sample_Signature/sample_Signature/forged/NFI-00101027.PNG  \n",
            "  inflating: sample_Signature/sample_Signature/forged/NFI-00101028.PNG  \n",
            "  inflating: sample_Signature/sample_Signature/forged/NFI-00101029.PNG  \n",
            "  inflating: sample_Signature/sample_Signature/forged/NFI-00101030.PNG  \n",
            "  inflating: sample_Signature/sample_Signature/forged/NFI-00102014.png  \n",
            "  inflating: sample_Signature/sample_Signature/forged/NFI-00102019.png  \n",
            "  inflating: sample_Signature/sample_Signature/forged/NFI-00102025.PNG  \n",
            "  inflating: sample_Signature/sample_Signature/forged/NFI-00102026.PNG  \n",
            "  inflating: sample_Signature/sample_Signature/forged/NFI-00102027.PNG  \n",
            "  inflating: sample_Signature/sample_Signature/forged/NFI-00102028.PNG  \n",
            "  inflating: sample_Signature/sample_Signature/forged/NFI-00102029.PNG  \n",
            "  inflating: sample_Signature/sample_Signature/forged/NFI-00102030.PNG  \n",
            "  inflating: sample_Signature/sample_Signature/forged/NFI-00103014.png  \n",
            "  inflating: sample_Signature/sample_Signature/forged/NFI-00103019.png  \n",
            "  inflating: sample_Signature/sample_Signature/forged/NFI-00103025.PNG  \n",
            "  inflating: sample_Signature/sample_Signature/forged/NFI-00103026.PNG  \n",
            "  inflating: sample_Signature/sample_Signature/forged/NFI-00103027.PNG  \n",
            "  inflating: sample_Signature/sample_Signature/forged/NFI-00103028.PNG  \n",
            "  inflating: sample_Signature/sample_Signature/forged/NFI-00103029.PNG  \n",
            "  inflating: sample_Signature/sample_Signature/forged/NFI-00103030.PNG  \n",
            "  inflating: sample_Signature/sample_Signature/forged/NFI-00104014.png  \n",
            "  inflating: sample_Signature/sample_Signature/forged/NFI-00104019.png  \n",
            "  inflating: sample_Signature/sample_Signature/forged/NFI-00104025.PNG  \n",
            "  inflating: sample_Signature/sample_Signature/forged/NFI-00104026.PNG  \n",
            "  inflating: sample_Signature/sample_Signature/forged/NFI-00104027.PNG  \n",
            "  inflating: sample_Signature/sample_Signature/forged/NFI-00104028.PNG  \n",
            "  inflating: sample_Signature/sample_Signature/forged/NFI-00104029.PNG  \n",
            "  inflating: sample_Signature/sample_Signature/forged/NFI-00104030.PNG  \n",
            "  inflating: sample_Signature/sample_Signature/forged/NFI-00105014.png  \n",
            "  inflating: sample_Signature/sample_Signature/forged/NFI-00105019.png  \n",
            "  inflating: sample_Signature/sample_Signature/forged/NFI-00105025.PNG  \n",
            "  inflating: sample_Signature/sample_Signature/forged/NFI-00105026.PNG  \n",
            "  inflating: sample_Signature/sample_Signature/forged/NFI-00105027.PNG  \n",
            "  inflating: sample_Signature/sample_Signature/forged/NFI-00105028.PNG  \n",
            "  inflating: sample_Signature/sample_Signature/forged/NFI-00105029.PNG  \n",
            "  inflating: sample_Signature/sample_Signature/forged/NFI-00105030.PNG  \n",
            "  inflating: sample_Signature/sample_Signature/forged/NFI-00301001.png  \n",
            "  inflating: sample_Signature/sample_Signature/forged/NFI-00301002.png  \n",
            "  inflating: sample_Signature/sample_Signature/forged/NFI-00301005.png  \n",
            "  inflating: sample_Signature/sample_Signature/forged/NFI-00301009.png  \n",
            "  inflating: sample_Signature/sample_Signature/forged/NFI-00301018.png  \n",
            "  inflating: sample_Signature/sample_Signature/forged/NFI-00302001.png  \n",
            "  inflating: sample_Signature/sample_Signature/forged/NFI-00302002.png  \n",
            "  inflating: sample_Signature/sample_Signature/forged/NFI-00302005.png  \n",
            "  inflating: sample_Signature/sample_Signature/forged/NFI-00302009.png  \n",
            "  inflating: sample_Signature/sample_Signature/forged/NFI-00302018.png  \n",
            "  inflating: sample_Signature/sample_Signature/forged/NFI-00303001.png  \n",
            "  inflating: sample_Signature/sample_Signature/forged/NFI-00303002.png  \n",
            "  inflating: sample_Signature/sample_Signature/forged/NFI-00303005.png  \n",
            "  inflating: sample_Signature/sample_Signature/forged/NFI-00303009.png  \n",
            "  inflating: sample_Signature/sample_Signature/forged/NFI-00303018.png  \n",
            "  inflating: sample_Signature/sample_Signature/forged/NFI-00304001.png  \n",
            "  inflating: sample_Signature/sample_Signature/forged/NFI-00304002.png  \n",
            "  inflating: sample_Signature/sample_Signature/forged/NFI-00304005.png  \n",
            "  inflating: sample_Signature/sample_Signature/forged/NFI-00304009.png  \n",
            "  inflating: sample_Signature/sample_Signature/forged/NFI-00304018.png  \n",
            "  inflating: sample_Signature/sample_Signature/forged/NFI-00305001.png  \n",
            "  inflating: sample_Signature/sample_Signature/forged/NFI-00305002.png  \n",
            "  inflating: sample_Signature/sample_Signature/forged/NFI-00305005.png  \n",
            "  inflating: sample_Signature/sample_Signature/forged/NFI-00305009.png  \n",
            "  inflating: sample_Signature/sample_Signature/forged/NFI-00305018.png  \n",
            "  inflating: sample_Signature/sample_Signature/forged/NFI-00401003.png  \n",
            "  inflating: sample_Signature/sample_Signature/forged/NFI-00401007.png  \n",
            "  inflating: sample_Signature/sample_Signature/forged/NFI-00401013.png  \n",
            "  inflating: sample_Signature/sample_Signature/forged/NFI-00401024.png  \n",
            "  inflating: sample_Signature/sample_Signature/forged/NFI-00402003.png  \n",
            "  inflating: sample_Signature/sample_Signature/forged/NFI-00402007.png  \n",
            "  inflating: sample_Signature/sample_Signature/forged/NFI-00402013.png  \n",
            "  inflating: sample_Signature/sample_Signature/forged/NFI-00402024.png  \n",
            "  inflating: sample_Signature/sample_Signature/forged/NFI-00403003.png  \n",
            "  inflating: sample_Signature/sample_Signature/forged/NFI-00403007.png  \n",
            "  inflating: sample_Signature/sample_Signature/forged/NFI-00403013.png  \n",
            "  inflating: sample_Signature/sample_Signature/forged/NFI-00403024.png  \n",
            "  inflating: sample_Signature/sample_Signature/forged/NFI-00404003.png  \n",
            "  inflating: sample_Signature/sample_Signature/forged/NFI-00404007.png  \n",
            "  inflating: sample_Signature/sample_Signature/forged/NFI-00404013.png  \n",
            "  inflating: sample_Signature/sample_Signature/forged/NFI-00404024.png  \n",
            "  inflating: sample_Signature/sample_Signature/forged/NFI-00405003.png  \n",
            "  inflating: sample_Signature/sample_Signature/forged/NFI-00405007.png  \n",
            "  inflating: sample_Signature/sample_Signature/forged/NFI-00405013.png  \n",
            "  inflating: sample_Signature/sample_Signature/forged/NFI-00405024.png  \n",
            "  inflating: sample_Signature/sample_Signature/forged/NFI-00501015.png  \n",
            "  inflating: sample_Signature/sample_Signature/forged/NFI-00501022.png  \n",
            "  inflating: sample_Signature/sample_Signature/forged/NFI-00502015.png  \n",
            "  inflating: sample_Signature/sample_Signature/forged/NFI-00502022.png  \n",
            "  inflating: sample_Signature/sample_Signature/forged/NFI-00503015.png  \n",
            "  inflating: sample_Signature/sample_Signature/forged/NFI-00503022.png  \n",
            "  inflating: sample_Signature/sample_Signature/forged/NFI-00504015.png  \n",
            "  inflating: sample_Signature/sample_Signature/forged/NFI-00504022.png  \n",
            "  inflating: sample_Signature/sample_Signature/forged/NFI-00505015.png  \n",
            "  inflating: sample_Signature/sample_Signature/forged/NFI-00505022.png  \n",
            "  inflating: sample_Signature/sample_Signature/forged/NFI-00701011.png  \n",
            "  inflating: sample_Signature/sample_Signature/forged/NFI-00701023.png  \n",
            "  inflating: sample_Signature/sample_Signature/forged/NFI-00702011.png  \n",
            "  inflating: sample_Signature/sample_Signature/forged/NFI-00702023.png  \n",
            "  inflating: sample_Signature/sample_Signature/forged/NFI-00703011.png  \n",
            "  inflating: sample_Signature/sample_Signature/forged/NFI-00703023.png  \n",
            "  inflating: sample_Signature/sample_Signature/forged/NFI-00704011.png  \n",
            "  inflating: sample_Signature/sample_Signature/forged/NFI-00704023.png  \n",
            "  inflating: sample_Signature/sample_Signature/forged/NFI-00705011.png  \n",
            "  inflating: sample_Signature/sample_Signature/forged/NFI-00705023.png  \n",
            "  inflating: sample_Signature/sample_Signature/forged/NFI-01101012.png  \n",
            "  inflating: sample_Signature/sample_Signature/forged/NFI-01101016.png  \n",
            "  inflating: sample_Signature/sample_Signature/forged/NFI-01102012.png  \n",
            "  inflating: sample_Signature/sample_Signature/forged/NFI-01102016.png  \n",
            "  inflating: sample_Signature/sample_Signature/forged/NFI-01103012.png  \n",
            "  inflating: sample_Signature/sample_Signature/forged/NFI-01103016.png  \n",
            "  inflating: sample_Signature/sample_Signature/forged/NFI-01104012.png  \n",
            "  inflating: sample_Signature/sample_Signature/forged/NFI-01104016.png  \n",
            "  inflating: sample_Signature/sample_Signature/forged/NFI-01105012.png  \n",
            "  inflating: sample_Signature/sample_Signature/forged/NFI-01105016.png  \n",
            "  inflating: sample_Signature/sample_Signature/forged/NFI-01201021.png  \n",
            "  inflating: sample_Signature/sample_Signature/forged/NFI-01202021.png  \n",
            "  inflating: sample_Signature/sample_Signature/forged/NFI-01203021.png  \n",
            "  inflating: sample_Signature/sample_Signature/forged/NFI-01204021.png  \n",
            "  inflating: sample_Signature/sample_Signature/forged/NFI-01205021.png  \n",
            "  inflating: sample_Signature/sample_Signature/forged/NFI-01301017.png  \n",
            "  inflating: sample_Signature/sample_Signature/forged/NFI-01302017.png  \n",
            "  inflating: sample_Signature/sample_Signature/forged/NFI-01303017.png  \n",
            "  inflating: sample_Signature/sample_Signature/forged/NFI-01304017.png  \n",
            "  inflating: sample_Signature/sample_Signature/forged/NFI-01305017.png  \n",
            "  inflating: sample_Signature/sample_Signature/forged/NFI-01701020.png  \n",
            "  inflating: sample_Signature/sample_Signature/forged/NFI-01702020.png  \n",
            "  inflating: sample_Signature/sample_Signature/forged/NFI-01703020.png  \n",
            "  inflating: sample_Signature/sample_Signature/forged/NFI-01704020.png  \n",
            "  inflating: sample_Signature/sample_Signature/forged/NFI-01705020.png  \n",
            "  inflating: sample_Signature/sample_Signature/forged/NFI-02301008.png  \n",
            "  inflating: sample_Signature/sample_Signature/forged/NFI-02303008.png  \n",
            "  inflating: sample_Signature/sample_Signature/forged/NFI-02304008.png  \n",
            "  inflating: sample_Signature/sample_Signature/forged/NFI-02305008.png  \n",
            "  inflating: sample_Signature/sample_Signature/forged/NFI-02306008.png  \n",
            "  inflating: sample_Signature/sample_Signature/forged/NFI-02501010.png  \n",
            "  inflating: sample_Signature/sample_Signature/forged/NFI-02502010.png  \n",
            "  inflating: sample_Signature/sample_Signature/forged/NFI-02503010.png  \n",
            "  inflating: sample_Signature/sample_Signature/forged/NFI-02504010.png  \n",
            "  inflating: sample_Signature/sample_Signature/forged/NFI-02505009.png  \n",
            "  inflating: sample_Signature/sample_Signature/forged/NFI-03301006.png  \n",
            "  inflating: sample_Signature/sample_Signature/forged/NFI-03302006.png  \n",
            "  inflating: sample_Signature/sample_Signature/forged/NFI-03303006.png  \n",
            "  inflating: sample_Signature/sample_Signature/forged/NFI-03304006.png  \n",
            "  inflating: sample_Signature/sample_Signature/forged/NFI-03305006.png  \n",
            "  inflating: sample_Signature/sample_Signature/forged/NFI-08801004.png  \n",
            "  inflating: sample_Signature/sample_Signature/forged/NFI-08802004.png  \n",
            "  inflating: sample_Signature/sample_Signature/forged/NFI-08803004.png  \n",
            "  inflating: sample_Signature/sample_Signature/forged/NFI-08804004.png  \n",
            "  inflating: sample_Signature/sample_Signature/forged/NFI-08805004.png  \n",
            "  inflating: sample_Signature/sample_Signature/genuine/NFI-00101001.png  \n",
            "  inflating: sample_Signature/sample_Signature/genuine/NFI-00102001.png  \n",
            "  inflating: sample_Signature/sample_Signature/genuine/NFI-00103001.png  \n",
            "  inflating: sample_Signature/sample_Signature/genuine/NFI-00104001.png  \n",
            "  inflating: sample_Signature/sample_Signature/genuine/NFI-00105001.png  \n",
            "  inflating: sample_Signature/sample_Signature/genuine/NFI-00201002.png  \n",
            "  inflating: sample_Signature/sample_Signature/genuine/NFI-00202002.png  \n",
            "  inflating: sample_Signature/sample_Signature/genuine/NFI-00203002.png  \n",
            "  inflating: sample_Signature/sample_Signature/genuine/NFI-00204002.png  \n",
            "  inflating: sample_Signature/sample_Signature/genuine/NFI-00205002.png  \n",
            "  inflating: sample_Signature/sample_Signature/genuine/NFI-00301003.png  \n",
            "  inflating: sample_Signature/sample_Signature/genuine/NFI-00302003.png  \n",
            "  inflating: sample_Signature/sample_Signature/genuine/NFI-00303003.png  \n",
            "  inflating: sample_Signature/sample_Signature/genuine/NFI-00304003.png  \n",
            "  inflating: sample_Signature/sample_Signature/genuine/NFI-00305003.png  \n",
            "  inflating: sample_Signature/sample_Signature/genuine/NFI-00401004.png  \n",
            "  inflating: sample_Signature/sample_Signature/genuine/NFI-00402004.png  \n",
            "  inflating: sample_Signature/sample_Signature/genuine/NFI-00403004.png  \n",
            "  inflating: sample_Signature/sample_Signature/genuine/NFI-00404004.png  \n",
            "  inflating: sample_Signature/sample_Signature/genuine/NFI-00405004.png  \n",
            "  inflating: sample_Signature/sample_Signature/genuine/NFI-00501005.png  \n",
            "  inflating: sample_Signature/sample_Signature/genuine/NFI-00502005.png  \n",
            "  inflating: sample_Signature/sample_Signature/genuine/NFI-00503005.png  \n",
            "  inflating: sample_Signature/sample_Signature/genuine/NFI-00504005.png  \n",
            "  inflating: sample_Signature/sample_Signature/genuine/NFI-00505005.png  \n",
            "  inflating: sample_Signature/sample_Signature/genuine/NFI-00601006.png  \n",
            "  inflating: sample_Signature/sample_Signature/genuine/NFI-00602006.png  \n",
            "  inflating: sample_Signature/sample_Signature/genuine/NFI-00603006.png  \n",
            "  inflating: sample_Signature/sample_Signature/genuine/NFI-00604006.png  \n",
            "  inflating: sample_Signature/sample_Signature/genuine/NFI-00605006.png  \n",
            "  inflating: sample_Signature/sample_Signature/genuine/NFI-00701007.png  \n",
            "  inflating: sample_Signature/sample_Signature/genuine/NFI-00702007.png  \n",
            "  inflating: sample_Signature/sample_Signature/genuine/NFI-00703007.png  \n",
            "  inflating: sample_Signature/sample_Signature/genuine/NFI-00704007.png  \n",
            "  inflating: sample_Signature/sample_Signature/genuine/NFI-00705007.png  \n",
            "  inflating: sample_Signature/sample_Signature/genuine/NFI-00801008.png  \n",
            "  inflating: sample_Signature/sample_Signature/genuine/NFI-00802008.png  \n",
            "  inflating: sample_Signature/sample_Signature/genuine/NFI-00803008.png  \n",
            "  inflating: sample_Signature/sample_Signature/genuine/NFI-00804008.png  \n",
            "  inflating: sample_Signature/sample_Signature/genuine/NFI-00805008.png  \n",
            "  inflating: sample_Signature/sample_Signature/genuine/NFI-00901009.png  \n",
            "  inflating: sample_Signature/sample_Signature/genuine/NFI-00902009.png  \n",
            "  inflating: sample_Signature/sample_Signature/genuine/NFI-00903009.png  \n",
            "  inflating: sample_Signature/sample_Signature/genuine/NFI-00904009.png  \n",
            "  inflating: sample_Signature/sample_Signature/genuine/NFI-00905009.png  \n",
            "  inflating: sample_Signature/sample_Signature/genuine/NFI-01001010.png  \n",
            "  inflating: sample_Signature/sample_Signature/genuine/NFI-01002010.png  \n",
            "  inflating: sample_Signature/sample_Signature/genuine/NFI-01003010.png  \n",
            "  inflating: sample_Signature/sample_Signature/genuine/NFI-01004010.png  \n",
            "  inflating: sample_Signature/sample_Signature/genuine/NFI-01005010.png  \n",
            "  inflating: sample_Signature/sample_Signature/genuine/NFI-01101011.png  \n",
            "  inflating: sample_Signature/sample_Signature/genuine/NFI-01102011.png  \n",
            "  inflating: sample_Signature/sample_Signature/genuine/NFI-01103011.png  \n",
            "  inflating: sample_Signature/sample_Signature/genuine/NFI-01104011.png  \n",
            "  inflating: sample_Signature/sample_Signature/genuine/NFI-01105011.png  \n",
            "  inflating: sample_Signature/sample_Signature/genuine/NFI-01201012.png  \n",
            "  inflating: sample_Signature/sample_Signature/genuine/NFI-01202012.png  \n",
            "  inflating: sample_Signature/sample_Signature/genuine/NFI-01203012.png  \n",
            "  inflating: sample_Signature/sample_Signature/genuine/NFI-01204012.png  \n",
            "  inflating: sample_Signature/sample_Signature/genuine/NFI-01205012.png  \n",
            "  inflating: sample_Signature/sample_Signature/genuine/NFI-01301013.png  \n",
            "  inflating: sample_Signature/sample_Signature/genuine/NFI-01302013.png  \n",
            "  inflating: sample_Signature/sample_Signature/genuine/NFI-01303013.png  \n",
            "  inflating: sample_Signature/sample_Signature/genuine/NFI-01304013.png  \n",
            "  inflating: sample_Signature/sample_Signature/genuine/NFI-01305013.png  \n",
            "  inflating: sample_Signature/sample_Signature/genuine/NFI-01401014.png  \n",
            "  inflating: sample_Signature/sample_Signature/genuine/NFI-01402014.png  \n",
            "  inflating: sample_Signature/sample_Signature/genuine/NFI-01403014.png  \n",
            "  inflating: sample_Signature/sample_Signature/genuine/NFI-01404014.png  \n",
            "  inflating: sample_Signature/sample_Signature/genuine/NFI-01405014.png  \n",
            "  inflating: sample_Signature/sample_Signature/genuine/NFI-01501015.png  \n",
            "  inflating: sample_Signature/sample_Signature/genuine/NFI-01502015.png  \n",
            "  inflating: sample_Signature/sample_Signature/genuine/NFI-01503015.png  \n",
            "  inflating: sample_Signature/sample_Signature/genuine/NFI-01504015.png  \n",
            "  inflating: sample_Signature/sample_Signature/genuine/NFI-01505015.png  \n",
            "  inflating: sample_Signature/sample_Signature/genuine/NFI-01601016.png  \n",
            "  inflating: sample_Signature/sample_Signature/genuine/NFI-01602016.png  \n",
            "  inflating: sample_Signature/sample_Signature/genuine/NFI-01603016.png  \n",
            "  inflating: sample_Signature/sample_Signature/genuine/NFI-01604016.png  \n",
            "  inflating: sample_Signature/sample_Signature/genuine/NFI-01605016.png  \n",
            "  inflating: sample_Signature/sample_Signature/genuine/NFI-01701017.png  \n",
            "  inflating: sample_Signature/sample_Signature/genuine/NFI-01702017.png  \n",
            "  inflating: sample_Signature/sample_Signature/genuine/NFI-01703017.png  \n",
            "  inflating: sample_Signature/sample_Signature/genuine/NFI-01704017.png  \n",
            "  inflating: sample_Signature/sample_Signature/genuine/NFI-01705017.png  \n",
            "  inflating: sample_Signature/sample_Signature/genuine/NFI-01801018.png  \n",
            "  inflating: sample_Signature/sample_Signature/genuine/NFI-01802018.png  \n",
            "  inflating: sample_Signature/sample_Signature/genuine/NFI-01803018.png  \n",
            "  inflating: sample_Signature/sample_Signature/genuine/NFI-01804018.png  \n",
            "  inflating: sample_Signature/sample_Signature/genuine/NFI-01805018.png  \n",
            "  inflating: sample_Signature/sample_Signature/genuine/NFI-01901019.png  \n",
            "  inflating: sample_Signature/sample_Signature/genuine/NFI-01902019.png  \n",
            "  inflating: sample_Signature/sample_Signature/genuine/NFI-01903019.png  \n",
            "  inflating: sample_Signature/sample_Signature/genuine/NFI-01904019.png  \n",
            "  inflating: sample_Signature/sample_Signature/genuine/NFI-01905019.png  \n",
            "  inflating: sample_Signature/sample_Signature/genuine/NFI-02001020.png  \n",
            "  inflating: sample_Signature/sample_Signature/genuine/NFI-02002020.png  \n",
            "  inflating: sample_Signature/sample_Signature/genuine/NFI-02003020.png  \n",
            "  inflating: sample_Signature/sample_Signature/genuine/NFI-02004020.png  \n",
            "  inflating: sample_Signature/sample_Signature/genuine/NFI-02005020.png  \n",
            "  inflating: sample_Signature/sample_Signature/genuine/NFI-02101021.png  \n",
            "  inflating: sample_Signature/sample_Signature/genuine/NFI-02102021.png  \n",
            "  inflating: sample_Signature/sample_Signature/genuine/NFI-02103021.png  \n",
            "  inflating: sample_Signature/sample_Signature/genuine/NFI-02104021.png  \n",
            "  inflating: sample_Signature/sample_Signature/genuine/NFI-02105021.png  \n",
            "  inflating: sample_Signature/sample_Signature/genuine/NFI-02201022.png  \n",
            "  inflating: sample_Signature/sample_Signature/genuine/NFI-02202022.png  \n",
            "  inflating: sample_Signature/sample_Signature/genuine/NFI-02203022.png  \n",
            "  inflating: sample_Signature/sample_Signature/genuine/NFI-02204022.png  \n",
            "  inflating: sample_Signature/sample_Signature/genuine/NFI-02205022.png  \n",
            "  inflating: sample_Signature/sample_Signature/genuine/NFI-02301023.png  \n",
            "  inflating: sample_Signature/sample_Signature/genuine/NFI-02302023.png  \n",
            "  inflating: sample_Signature/sample_Signature/genuine/NFI-02303023.png  \n",
            "  inflating: sample_Signature/sample_Signature/genuine/NFI-02304023.png  \n",
            "  inflating: sample_Signature/sample_Signature/genuine/NFI-02305023.png  \n",
            "  inflating: sample_Signature/sample_Signature/genuine/NFI-02401024.png  \n",
            "  inflating: sample_Signature/sample_Signature/genuine/NFI-02402024.png  \n",
            "  inflating: sample_Signature/sample_Signature/genuine/NFI-02403024.png  \n",
            "  inflating: sample_Signature/sample_Signature/genuine/NFI-02404024.png  \n",
            "  inflating: sample_Signature/sample_Signature/genuine/NFI-02405024.png  \n",
            "  inflating: sample_Signature/sample_Signature/genuine/NFI-02501025.PNG  \n",
            "  inflating: sample_Signature/sample_Signature/genuine/NFI-02502025.PNG  \n",
            "  inflating: sample_Signature/sample_Signature/genuine/NFI-02503025.PNG  \n",
            "  inflating: sample_Signature/sample_Signature/genuine/NFI-02504025.PNG  \n",
            "  inflating: sample_Signature/sample_Signature/genuine/NFI-02505025.PNG  \n",
            "  inflating: sample_Signature/sample_Signature/genuine/NFI-02601026.PNG  \n",
            "  inflating: sample_Signature/sample_Signature/genuine/NFI-02602026.PNG  \n",
            "  inflating: sample_Signature/sample_Signature/genuine/NFI-02603026.PNG  \n",
            "  inflating: sample_Signature/sample_Signature/genuine/NFI-02604026.PNG  \n",
            "  inflating: sample_Signature/sample_Signature/genuine/NFI-02605026.PNG  \n",
            "  inflating: sample_Signature/sample_Signature/genuine/NFI-02701027.PNG  \n",
            "  inflating: sample_Signature/sample_Signature/genuine/NFI-02702027.PNG  \n",
            "  inflating: sample_Signature/sample_Signature/genuine/NFI-02703027.PNG  \n",
            "  inflating: sample_Signature/sample_Signature/genuine/NFI-02704027.PNG  \n",
            "  inflating: sample_Signature/sample_Signature/genuine/NFI-02705027.PNG  \n",
            "  inflating: sample_Signature/sample_Signature/genuine/NFI-02801028.PNG  \n",
            "  inflating: sample_Signature/sample_Signature/genuine/NFI-02802028.PNG  \n",
            "  inflating: sample_Signature/sample_Signature/genuine/NFI-02803028.PNG  \n",
            "  inflating: sample_Signature/sample_Signature/genuine/NFI-02804028.PNG  \n",
            "  inflating: sample_Signature/sample_Signature/genuine/NFI-02805028.PNG  \n",
            "  inflating: sample_Signature/sample_Signature/genuine/NFI-02901029.PNG  \n",
            "  inflating: sample_Signature/sample_Signature/genuine/NFI-02902029.PNG  \n",
            "  inflating: sample_Signature/sample_Signature/genuine/NFI-02903029.PNG  \n",
            "  inflating: sample_Signature/sample_Signature/genuine/NFI-02904029.PNG  \n",
            "  inflating: sample_Signature/sample_Signature/genuine/NFI-02905029.PNG  \n",
            "  inflating: sample_Signature/sample_Signature/genuine/NFI-03001030.PNG  \n",
            "  inflating: sample_Signature/sample_Signature/genuine/NFI-03002030.PNG  \n",
            "  inflating: sample_Signature/sample_Signature/genuine/NFI-03003030.PNG  \n",
            "  inflating: sample_Signature/sample_Signature/genuine/NFI-03004030.PNG  \n",
            "  inflating: sample_Signature/sample_Signature/genuine/NFI-03005030.PNG  \n",
            "  inflating: sample_signature/sample_Signature/README.txt.txt  \n",
            "  inflating: sample_signature/sample_Signature/forged/NFI-00101014.png  \n",
            "  inflating: sample_signature/sample_Signature/forged/NFI-00101019.png  \n",
            "  inflating: sample_signature/sample_Signature/forged/NFI-00101025.PNG  \n",
            "  inflating: sample_signature/sample_Signature/forged/NFI-00101026.PNG  \n",
            "  inflating: sample_signature/sample_Signature/forged/NFI-00101027.PNG  \n",
            "  inflating: sample_signature/sample_Signature/forged/NFI-00101028.PNG  \n",
            "  inflating: sample_signature/sample_Signature/forged/NFI-00101029.PNG  \n",
            "  inflating: sample_signature/sample_Signature/forged/NFI-00101030.PNG  \n",
            "  inflating: sample_signature/sample_Signature/forged/NFI-00102014.png  \n",
            "  inflating: sample_signature/sample_Signature/forged/NFI-00102019.png  \n",
            "  inflating: sample_signature/sample_Signature/forged/NFI-00102025.PNG  \n",
            "  inflating: sample_signature/sample_Signature/forged/NFI-00102026.PNG  \n",
            "  inflating: sample_signature/sample_Signature/forged/NFI-00102027.PNG  \n",
            "  inflating: sample_signature/sample_Signature/forged/NFI-00102028.PNG  \n",
            "  inflating: sample_signature/sample_Signature/forged/NFI-00102029.PNG  \n",
            "  inflating: sample_signature/sample_Signature/forged/NFI-00102030.PNG  \n",
            "  inflating: sample_signature/sample_Signature/forged/NFI-00103014.png  \n",
            "  inflating: sample_signature/sample_Signature/forged/NFI-00103019.png  \n",
            "  inflating: sample_signature/sample_Signature/forged/NFI-00103025.PNG  \n",
            "  inflating: sample_signature/sample_Signature/forged/NFI-00103026.PNG  \n",
            "  inflating: sample_signature/sample_Signature/forged/NFI-00103027.PNG  \n",
            "  inflating: sample_signature/sample_Signature/forged/NFI-00103028.PNG  \n",
            "  inflating: sample_signature/sample_Signature/forged/NFI-00103029.PNG  \n",
            "  inflating: sample_signature/sample_Signature/forged/NFI-00103030.PNG  \n",
            "  inflating: sample_signature/sample_Signature/forged/NFI-00104014.png  \n",
            "  inflating: sample_signature/sample_Signature/forged/NFI-00104019.png  \n",
            "  inflating: sample_signature/sample_Signature/forged/NFI-00104025.PNG  \n",
            "  inflating: sample_signature/sample_Signature/forged/NFI-00104026.PNG  \n",
            "  inflating: sample_signature/sample_Signature/forged/NFI-00104027.PNG  \n",
            "  inflating: sample_signature/sample_Signature/forged/NFI-00104028.PNG  \n",
            "  inflating: sample_signature/sample_Signature/forged/NFI-00104029.PNG  \n",
            "  inflating: sample_signature/sample_Signature/forged/NFI-00104030.PNG  \n",
            "  inflating: sample_signature/sample_Signature/forged/NFI-00105014.png  \n",
            "  inflating: sample_signature/sample_Signature/forged/NFI-00105019.png  \n",
            "  inflating: sample_signature/sample_Signature/forged/NFI-00105025.PNG  \n",
            "  inflating: sample_signature/sample_Signature/forged/NFI-00105026.PNG  \n",
            "  inflating: sample_signature/sample_Signature/forged/NFI-00105027.PNG  \n",
            "  inflating: sample_signature/sample_Signature/forged/NFI-00105028.PNG  \n",
            "  inflating: sample_signature/sample_Signature/forged/NFI-00105029.PNG  \n",
            "  inflating: sample_signature/sample_Signature/forged/NFI-00105030.PNG  \n",
            "  inflating: sample_signature/sample_Signature/forged/NFI-00301001.png  \n",
            "  inflating: sample_signature/sample_Signature/forged/NFI-00301002.png  \n",
            "  inflating: sample_signature/sample_Signature/forged/NFI-00301005.png  \n",
            "  inflating: sample_signature/sample_Signature/forged/NFI-00301009.png  \n",
            "  inflating: sample_signature/sample_Signature/forged/NFI-00301018.png  \n",
            "  inflating: sample_signature/sample_Signature/forged/NFI-00302001.png  \n",
            "  inflating: sample_signature/sample_Signature/forged/NFI-00302002.png  \n",
            "  inflating: sample_signature/sample_Signature/forged/NFI-00302005.png  \n",
            "  inflating: sample_signature/sample_Signature/forged/NFI-00302009.png  \n",
            "  inflating: sample_signature/sample_Signature/forged/NFI-00302018.png  \n",
            "  inflating: sample_signature/sample_Signature/forged/NFI-00303001.png  \n",
            "  inflating: sample_signature/sample_Signature/forged/NFI-00303002.png  \n",
            "  inflating: sample_signature/sample_Signature/forged/NFI-00303005.png  \n",
            "  inflating: sample_signature/sample_Signature/forged/NFI-00303009.png  \n",
            "  inflating: sample_signature/sample_Signature/forged/NFI-00303018.png  \n",
            "  inflating: sample_signature/sample_Signature/forged/NFI-00304001.png  \n",
            "  inflating: sample_signature/sample_Signature/forged/NFI-00304002.png  \n",
            "  inflating: sample_signature/sample_Signature/forged/NFI-00304005.png  \n",
            "  inflating: sample_signature/sample_Signature/forged/NFI-00304009.png  \n",
            "  inflating: sample_signature/sample_Signature/forged/NFI-00304018.png  \n",
            "  inflating: sample_signature/sample_Signature/forged/NFI-00305001.png  \n",
            "  inflating: sample_signature/sample_Signature/forged/NFI-00305002.png  \n",
            "  inflating: sample_signature/sample_Signature/forged/NFI-00305005.png  \n",
            "  inflating: sample_signature/sample_Signature/forged/NFI-00305009.png  \n",
            "  inflating: sample_signature/sample_Signature/forged/NFI-00305018.png  \n",
            "  inflating: sample_signature/sample_Signature/forged/NFI-00401003.png  \n",
            "  inflating: sample_signature/sample_Signature/forged/NFI-00401007.png  \n",
            "  inflating: sample_signature/sample_Signature/forged/NFI-00401013.png  \n",
            "  inflating: sample_signature/sample_Signature/forged/NFI-00401024.png  \n",
            "  inflating: sample_signature/sample_Signature/forged/NFI-00402003.png  \n",
            "  inflating: sample_signature/sample_Signature/forged/NFI-00402007.png  \n",
            "  inflating: sample_signature/sample_Signature/forged/NFI-00402013.png  \n",
            "  inflating: sample_signature/sample_Signature/forged/NFI-00402024.png  \n",
            "  inflating: sample_signature/sample_Signature/forged/NFI-00403003.png  \n",
            "  inflating: sample_signature/sample_Signature/forged/NFI-00403007.png  \n",
            "  inflating: sample_signature/sample_Signature/forged/NFI-00403013.png  \n",
            "  inflating: sample_signature/sample_Signature/forged/NFI-00403024.png  \n",
            "  inflating: sample_signature/sample_Signature/forged/NFI-00404003.png  \n",
            "  inflating: sample_signature/sample_Signature/forged/NFI-00404007.png  \n",
            "  inflating: sample_signature/sample_Signature/forged/NFI-00404013.png  \n",
            "  inflating: sample_signature/sample_Signature/forged/NFI-00404024.png  \n",
            "  inflating: sample_signature/sample_Signature/forged/NFI-00405003.png  \n",
            "  inflating: sample_signature/sample_Signature/forged/NFI-00405007.png  \n",
            "  inflating: sample_signature/sample_Signature/forged/NFI-00405013.png  \n",
            "  inflating: sample_signature/sample_Signature/forged/NFI-00405024.png  \n",
            "  inflating: sample_signature/sample_Signature/forged/NFI-00501015.png  \n",
            "  inflating: sample_signature/sample_Signature/forged/NFI-00501022.png  \n",
            "  inflating: sample_signature/sample_Signature/forged/NFI-00502015.png  \n",
            "  inflating: sample_signature/sample_Signature/forged/NFI-00502022.png  \n",
            "  inflating: sample_signature/sample_Signature/forged/NFI-00503015.png  \n",
            "  inflating: sample_signature/sample_Signature/forged/NFI-00503022.png  \n",
            "  inflating: sample_signature/sample_Signature/forged/NFI-00504015.png  \n",
            "  inflating: sample_signature/sample_Signature/forged/NFI-00504022.png  \n",
            "  inflating: sample_signature/sample_Signature/forged/NFI-00505015.png  \n",
            "  inflating: sample_signature/sample_Signature/forged/NFI-00505022.png  \n",
            "  inflating: sample_signature/sample_Signature/forged/NFI-00701011.png  \n",
            "  inflating: sample_signature/sample_Signature/forged/NFI-00701023.png  \n",
            "  inflating: sample_signature/sample_Signature/forged/NFI-00702011.png  \n",
            "  inflating: sample_signature/sample_Signature/forged/NFI-00702023.png  \n",
            "  inflating: sample_signature/sample_Signature/forged/NFI-00703011.png  \n",
            "  inflating: sample_signature/sample_Signature/forged/NFI-00703023.png  \n",
            "  inflating: sample_signature/sample_Signature/forged/NFI-00704011.png  \n",
            "  inflating: sample_signature/sample_Signature/forged/NFI-00704023.png  \n",
            "  inflating: sample_signature/sample_Signature/forged/NFI-00705011.png  \n",
            "  inflating: sample_signature/sample_Signature/forged/NFI-00705023.png  \n",
            "  inflating: sample_signature/sample_Signature/forged/NFI-01101012.png  \n",
            "  inflating: sample_signature/sample_Signature/forged/NFI-01101016.png  \n",
            "  inflating: sample_signature/sample_Signature/forged/NFI-01102012.png  \n",
            "  inflating: sample_signature/sample_Signature/forged/NFI-01102016.png  \n",
            "  inflating: sample_signature/sample_Signature/forged/NFI-01103012.png  \n",
            "  inflating: sample_signature/sample_Signature/forged/NFI-01103016.png  \n",
            "  inflating: sample_signature/sample_Signature/forged/NFI-01104012.png  \n",
            "  inflating: sample_signature/sample_Signature/forged/NFI-01104016.png  \n",
            "  inflating: sample_signature/sample_Signature/forged/NFI-01105012.png  \n",
            "  inflating: sample_signature/sample_Signature/forged/NFI-01105016.png  \n",
            "  inflating: sample_signature/sample_Signature/forged/NFI-01201021.png  \n",
            "  inflating: sample_signature/sample_Signature/forged/NFI-01202021.png  \n",
            "  inflating: sample_signature/sample_Signature/forged/NFI-01203021.png  \n",
            "  inflating: sample_signature/sample_Signature/forged/NFI-01204021.png  \n",
            "  inflating: sample_signature/sample_Signature/forged/NFI-01205021.png  \n",
            "  inflating: sample_signature/sample_Signature/forged/NFI-01301017.png  \n",
            "  inflating: sample_signature/sample_Signature/forged/NFI-01302017.png  \n",
            "  inflating: sample_signature/sample_Signature/forged/NFI-01303017.png  \n",
            "  inflating: sample_signature/sample_Signature/forged/NFI-01304017.png  \n",
            "  inflating: sample_signature/sample_Signature/forged/NFI-01305017.png  \n",
            "  inflating: sample_signature/sample_Signature/forged/NFI-01701020.png  \n",
            "  inflating: sample_signature/sample_Signature/forged/NFI-01702020.png  \n",
            "  inflating: sample_signature/sample_Signature/forged/NFI-01703020.png  \n",
            "  inflating: sample_signature/sample_Signature/forged/NFI-01704020.png  \n",
            "  inflating: sample_signature/sample_Signature/forged/NFI-01705020.png  \n",
            "  inflating: sample_signature/sample_Signature/forged/NFI-02301008.png  \n",
            "  inflating: sample_signature/sample_Signature/forged/NFI-02303008.png  \n",
            "  inflating: sample_signature/sample_Signature/forged/NFI-02304008.png  \n",
            "  inflating: sample_signature/sample_Signature/forged/NFI-02305008.png  \n",
            "  inflating: sample_signature/sample_Signature/forged/NFI-02306008.png  \n",
            "  inflating: sample_signature/sample_Signature/forged/NFI-02501010.png  \n",
            "  inflating: sample_signature/sample_Signature/forged/NFI-02502010.png  \n",
            "  inflating: sample_signature/sample_Signature/forged/NFI-02503010.png  \n",
            "  inflating: sample_signature/sample_Signature/forged/NFI-02504010.png  \n",
            "  inflating: sample_signature/sample_Signature/forged/NFI-02505009.png  \n",
            "  inflating: sample_signature/sample_Signature/forged/NFI-03301006.png  \n",
            "  inflating: sample_signature/sample_Signature/forged/NFI-03302006.png  \n",
            "  inflating: sample_signature/sample_Signature/forged/NFI-03303006.png  \n",
            "  inflating: sample_signature/sample_Signature/forged/NFI-03304006.png  \n",
            "  inflating: sample_signature/sample_Signature/forged/NFI-03305006.png  \n",
            "  inflating: sample_signature/sample_Signature/forged/NFI-08801004.png  \n",
            "  inflating: sample_signature/sample_Signature/forged/NFI-08802004.png  \n",
            "  inflating: sample_signature/sample_Signature/forged/NFI-08803004.png  \n",
            "  inflating: sample_signature/sample_Signature/forged/NFI-08804004.png  \n",
            "  inflating: sample_signature/sample_Signature/forged/NFI-08805004.png  \n",
            "  inflating: sample_signature/sample_Signature/genuine/NFI-00101001.png  \n",
            "  inflating: sample_signature/sample_Signature/genuine/NFI-00102001.png  \n",
            "  inflating: sample_signature/sample_Signature/genuine/NFI-00103001.png  \n",
            "  inflating: sample_signature/sample_Signature/genuine/NFI-00104001.png  \n",
            "  inflating: sample_signature/sample_Signature/genuine/NFI-00105001.png  \n",
            "  inflating: sample_signature/sample_Signature/genuine/NFI-00201002.png  \n",
            "  inflating: sample_signature/sample_Signature/genuine/NFI-00202002.png  \n",
            "  inflating: sample_signature/sample_Signature/genuine/NFI-00203002.png  \n",
            "  inflating: sample_signature/sample_Signature/genuine/NFI-00204002.png  \n",
            "  inflating: sample_signature/sample_Signature/genuine/NFI-00205002.png  \n",
            "  inflating: sample_signature/sample_Signature/genuine/NFI-00301003.png  \n",
            "  inflating: sample_signature/sample_Signature/genuine/NFI-00302003.png  \n",
            "  inflating: sample_signature/sample_Signature/genuine/NFI-00303003.png  \n",
            "  inflating: sample_signature/sample_Signature/genuine/NFI-00304003.png  \n",
            "  inflating: sample_signature/sample_Signature/genuine/NFI-00305003.png  \n",
            "  inflating: sample_signature/sample_Signature/genuine/NFI-00401004.png  \n",
            "  inflating: sample_signature/sample_Signature/genuine/NFI-00402004.png  \n",
            "  inflating: sample_signature/sample_Signature/genuine/NFI-00403004.png  \n",
            "  inflating: sample_signature/sample_Signature/genuine/NFI-00404004.png  \n",
            "  inflating: sample_signature/sample_Signature/genuine/NFI-00405004.png  \n",
            "  inflating: sample_signature/sample_Signature/genuine/NFI-00501005.png  \n",
            "  inflating: sample_signature/sample_Signature/genuine/NFI-00502005.png  \n",
            "  inflating: sample_signature/sample_Signature/genuine/NFI-00503005.png  \n",
            "  inflating: sample_signature/sample_Signature/genuine/NFI-00504005.png  \n",
            "  inflating: sample_signature/sample_Signature/genuine/NFI-00505005.png  \n",
            "  inflating: sample_signature/sample_Signature/genuine/NFI-00601006.png  \n",
            "  inflating: sample_signature/sample_Signature/genuine/NFI-00602006.png  \n",
            "  inflating: sample_signature/sample_Signature/genuine/NFI-00603006.png  \n",
            "  inflating: sample_signature/sample_Signature/genuine/NFI-00604006.png  \n",
            "  inflating: sample_signature/sample_Signature/genuine/NFI-00605006.png  \n",
            "  inflating: sample_signature/sample_Signature/genuine/NFI-00701007.png  \n",
            "  inflating: sample_signature/sample_Signature/genuine/NFI-00702007.png  \n",
            "  inflating: sample_signature/sample_Signature/genuine/NFI-00703007.png  \n",
            "  inflating: sample_signature/sample_Signature/genuine/NFI-00704007.png  \n",
            "  inflating: sample_signature/sample_Signature/genuine/NFI-00705007.png  \n",
            "  inflating: sample_signature/sample_Signature/genuine/NFI-00801008.png  \n",
            "  inflating: sample_signature/sample_Signature/genuine/NFI-00802008.png  \n",
            "  inflating: sample_signature/sample_Signature/genuine/NFI-00803008.png  \n",
            "  inflating: sample_signature/sample_Signature/genuine/NFI-00804008.png  \n",
            "  inflating: sample_signature/sample_Signature/genuine/NFI-00805008.png  \n",
            "  inflating: sample_signature/sample_Signature/genuine/NFI-00901009.png  \n",
            "  inflating: sample_signature/sample_Signature/genuine/NFI-00902009.png  \n",
            "  inflating: sample_signature/sample_Signature/genuine/NFI-00903009.png  \n",
            "  inflating: sample_signature/sample_Signature/genuine/NFI-00904009.png  \n",
            "  inflating: sample_signature/sample_Signature/genuine/NFI-00905009.png  \n",
            "  inflating: sample_signature/sample_Signature/genuine/NFI-01001010.png  \n",
            "  inflating: sample_signature/sample_Signature/genuine/NFI-01002010.png  \n",
            "  inflating: sample_signature/sample_Signature/genuine/NFI-01003010.png  \n",
            "  inflating: sample_signature/sample_Signature/genuine/NFI-01004010.png  \n",
            "  inflating: sample_signature/sample_Signature/genuine/NFI-01005010.png  \n",
            "  inflating: sample_signature/sample_Signature/genuine/NFI-01101011.png  \n",
            "  inflating: sample_signature/sample_Signature/genuine/NFI-01102011.png  \n",
            "  inflating: sample_signature/sample_Signature/genuine/NFI-01103011.png  \n",
            "  inflating: sample_signature/sample_Signature/genuine/NFI-01104011.png  \n",
            "  inflating: sample_signature/sample_Signature/genuine/NFI-01105011.png  \n",
            "  inflating: sample_signature/sample_Signature/genuine/NFI-01201012.png  \n",
            "  inflating: sample_signature/sample_Signature/genuine/NFI-01202012.png  \n",
            "  inflating: sample_signature/sample_Signature/genuine/NFI-01203012.png  \n",
            "  inflating: sample_signature/sample_Signature/genuine/NFI-01204012.png  \n",
            "  inflating: sample_signature/sample_Signature/genuine/NFI-01205012.png  \n",
            "  inflating: sample_signature/sample_Signature/genuine/NFI-01301013.png  \n",
            "  inflating: sample_signature/sample_Signature/genuine/NFI-01302013.png  \n",
            "  inflating: sample_signature/sample_Signature/genuine/NFI-01303013.png  \n",
            "  inflating: sample_signature/sample_Signature/genuine/NFI-01304013.png  \n",
            "  inflating: sample_signature/sample_Signature/genuine/NFI-01305013.png  \n",
            "  inflating: sample_signature/sample_Signature/genuine/NFI-01401014.png  \n",
            "  inflating: sample_signature/sample_Signature/genuine/NFI-01402014.png  \n",
            "  inflating: sample_signature/sample_Signature/genuine/NFI-01403014.png  \n",
            "  inflating: sample_signature/sample_Signature/genuine/NFI-01404014.png  \n",
            "  inflating: sample_signature/sample_Signature/genuine/NFI-01405014.png  \n",
            "  inflating: sample_signature/sample_Signature/genuine/NFI-01501015.png  \n",
            "  inflating: sample_signature/sample_Signature/genuine/NFI-01502015.png  \n",
            "  inflating: sample_signature/sample_Signature/genuine/NFI-01503015.png  \n",
            "  inflating: sample_signature/sample_Signature/genuine/NFI-01504015.png  \n",
            "  inflating: sample_signature/sample_Signature/genuine/NFI-01505015.png  \n",
            "  inflating: sample_signature/sample_Signature/genuine/NFI-01601016.png  \n",
            "  inflating: sample_signature/sample_Signature/genuine/NFI-01602016.png  \n",
            "  inflating: sample_signature/sample_Signature/genuine/NFI-01603016.png  \n",
            "  inflating: sample_signature/sample_Signature/genuine/NFI-01604016.png  \n",
            "  inflating: sample_signature/sample_Signature/genuine/NFI-01605016.png  \n",
            "  inflating: sample_signature/sample_Signature/genuine/NFI-01701017.png  \n",
            "  inflating: sample_signature/sample_Signature/genuine/NFI-01702017.png  \n",
            "  inflating: sample_signature/sample_Signature/genuine/NFI-01703017.png  \n",
            "  inflating: sample_signature/sample_Signature/genuine/NFI-01704017.png  \n",
            "  inflating: sample_signature/sample_Signature/genuine/NFI-01705017.png  \n",
            "  inflating: sample_signature/sample_Signature/genuine/NFI-01801018.png  \n",
            "  inflating: sample_signature/sample_Signature/genuine/NFI-01802018.png  \n",
            "  inflating: sample_signature/sample_Signature/genuine/NFI-01803018.png  \n",
            "  inflating: sample_signature/sample_Signature/genuine/NFI-01804018.png  \n",
            "  inflating: sample_signature/sample_Signature/genuine/NFI-01805018.png  \n",
            "  inflating: sample_signature/sample_Signature/genuine/NFI-01901019.png  \n",
            "  inflating: sample_signature/sample_Signature/genuine/NFI-01902019.png  \n",
            "  inflating: sample_signature/sample_Signature/genuine/NFI-01903019.png  \n",
            "  inflating: sample_signature/sample_Signature/genuine/NFI-01904019.png  \n",
            "  inflating: sample_signature/sample_Signature/genuine/NFI-01905019.png  \n",
            "  inflating: sample_signature/sample_Signature/genuine/NFI-02001020.png  \n",
            "  inflating: sample_signature/sample_Signature/genuine/NFI-02002020.png  \n",
            "  inflating: sample_signature/sample_Signature/genuine/NFI-02003020.png  \n",
            "  inflating: sample_signature/sample_Signature/genuine/NFI-02004020.png  \n",
            "  inflating: sample_signature/sample_Signature/genuine/NFI-02005020.png  \n",
            "  inflating: sample_signature/sample_Signature/genuine/NFI-02101021.png  \n",
            "  inflating: sample_signature/sample_Signature/genuine/NFI-02102021.png  \n",
            "  inflating: sample_signature/sample_Signature/genuine/NFI-02103021.png  \n",
            "  inflating: sample_signature/sample_Signature/genuine/NFI-02104021.png  \n",
            "  inflating: sample_signature/sample_Signature/genuine/NFI-02105021.png  \n",
            "  inflating: sample_signature/sample_Signature/genuine/NFI-02201022.png  \n",
            "  inflating: sample_signature/sample_Signature/genuine/NFI-02202022.png  \n",
            "  inflating: sample_signature/sample_Signature/genuine/NFI-02203022.png  \n",
            "  inflating: sample_signature/sample_Signature/genuine/NFI-02204022.png  \n",
            "  inflating: sample_signature/sample_Signature/genuine/NFI-02205022.png  \n",
            "  inflating: sample_signature/sample_Signature/genuine/NFI-02301023.png  \n",
            "  inflating: sample_signature/sample_Signature/genuine/NFI-02302023.png  \n",
            "  inflating: sample_signature/sample_Signature/genuine/NFI-02303023.png  \n",
            "  inflating: sample_signature/sample_Signature/genuine/NFI-02304023.png  \n",
            "  inflating: sample_signature/sample_Signature/genuine/NFI-02305023.png  \n",
            "  inflating: sample_signature/sample_Signature/genuine/NFI-02401024.png  \n",
            "  inflating: sample_signature/sample_Signature/genuine/NFI-02402024.png  \n",
            "  inflating: sample_signature/sample_Signature/genuine/NFI-02403024.png  \n",
            "  inflating: sample_signature/sample_Signature/genuine/NFI-02404024.png  \n",
            "  inflating: sample_signature/sample_Signature/genuine/NFI-02405024.png  \n",
            "  inflating: sample_signature/sample_Signature/genuine/NFI-02501025.PNG  \n",
            "  inflating: sample_signature/sample_Signature/genuine/NFI-02502025.PNG  \n",
            "  inflating: sample_signature/sample_Signature/genuine/NFI-02503025.PNG  \n",
            "  inflating: sample_signature/sample_Signature/genuine/NFI-02504025.PNG  \n",
            "  inflating: sample_signature/sample_Signature/genuine/NFI-02505025.PNG  \n",
            "  inflating: sample_signature/sample_Signature/genuine/NFI-02601026.PNG  \n",
            "  inflating: sample_signature/sample_Signature/genuine/NFI-02602026.PNG  \n",
            "  inflating: sample_signature/sample_Signature/genuine/NFI-02603026.PNG  \n",
            "  inflating: sample_signature/sample_Signature/genuine/NFI-02604026.PNG  \n",
            "  inflating: sample_signature/sample_Signature/genuine/NFI-02605026.PNG  \n",
            "  inflating: sample_signature/sample_Signature/genuine/NFI-02701027.PNG  \n",
            "  inflating: sample_signature/sample_Signature/genuine/NFI-02702027.PNG  \n",
            "  inflating: sample_signature/sample_Signature/genuine/NFI-02703027.PNG  \n",
            "  inflating: sample_signature/sample_Signature/genuine/NFI-02704027.PNG  \n",
            "  inflating: sample_signature/sample_Signature/genuine/NFI-02705027.PNG  \n",
            "  inflating: sample_signature/sample_Signature/genuine/NFI-02801028.PNG  \n",
            "  inflating: sample_signature/sample_Signature/genuine/NFI-02802028.PNG  \n",
            "  inflating: sample_signature/sample_Signature/genuine/NFI-02803028.PNG  \n",
            "  inflating: sample_signature/sample_Signature/genuine/NFI-02804028.PNG  \n",
            "  inflating: sample_signature/sample_Signature/genuine/NFI-02805028.PNG  \n",
            "  inflating: sample_signature/sample_Signature/genuine/NFI-02901029.PNG  \n",
            "  inflating: sample_signature/sample_Signature/genuine/NFI-02902029.PNG  \n",
            "  inflating: sample_signature/sample_Signature/genuine/NFI-02903029.PNG  \n",
            "  inflating: sample_signature/sample_Signature/genuine/NFI-02904029.PNG  \n",
            "  inflating: sample_signature/sample_Signature/genuine/NFI-02905029.PNG  \n",
            "  inflating: sample_signature/sample_Signature/genuine/NFI-03001030.PNG  \n",
            "  inflating: sample_signature/sample_Signature/genuine/NFI-03002030.PNG  \n",
            "  inflating: sample_signature/sample_Signature/genuine/NFI-03003030.PNG  \n",
            "  inflating: sample_signature/sample_Signature/genuine/NFI-03004030.PNG  \n",
            "  inflating: sample_signature/sample_Signature/genuine/NFI-03005030.PNG  \n"
          ]
        }
      ],
      "source": [
        "!pip install unzip\n",
        "import unzip\n",
        "!unzip /content/drive/MyDrive/signatures.zip "
      ]
    },
    {
      "cell_type": "markdown",
      "metadata": {
        "id": "VXjqDovJVMpA"
      },
      "source": [
        "## Data"
      ]
    },
    {
      "cell_type": "markdown",
      "metadata": {
        "id": "2xfU2eEtVMpA"
      },
      "source": [
        "The data used in this notebook can be found [here](https://www.kaggle.com/datasets/divyanshrai/handwritten-signatures). The dataset contains just 300 samples of genuine and forged signatures from 30 people, of which 50 percent are genuine and 50 percent are forged. "
      ]
    },
    {
      "cell_type": "code",
      "execution_count": 7,
      "metadata": {
        "ExecuteTime": {
          "end_time": "2022-05-23T14:37:08.402015Z",
          "start_time": "2022-05-23T14:37:08.400250Z"
        },
        "id": "teE595ANVMpA"
      },
      "outputs": [],
      "source": [
        "# instantiate ImageDataGenerator scaling each pixel's values down to a scale of 1\n",
        "img = ImageDataGenerator(rescale=1/255)"
      ]
    },
    {
      "cell_type": "code",
      "execution_count": 8,
      "metadata": {
        "ExecuteTime": {
          "end_time": "2022-05-23T14:37:08.405039Z",
          "start_time": "2022-05-23T14:37:08.403576Z"
        },
        "id": "koM9NmKQVMpB"
      },
      "outputs": [],
      "source": [
        "# data_path = '../Data/sample_Signature/sample_Signature/'\n",
        "# For Colab \n",
        "data_path = '/content/sample_Signature/sample_Signature/'"
      ]
    },
    {
      "cell_type": "code",
      "execution_count": 9,
      "metadata": {
        "ExecuteTime": {
          "end_time": "2022-05-23T14:37:08.517937Z",
          "start_time": "2022-05-23T14:37:08.406114Z"
        },
        "colab": {
          "base_uri": "https://localhost:8080/"
        },
        "id": "_0ozmoZ0VMpB",
        "outputId": "2934f49e-4adf-4db7-89c5-2cba5b5023d3",
        "scrolled": false
      },
      "outputs": [
        {
          "output_type": "stream",
          "name": "stdout",
          "text": [
            "Found 300 images belonging to 2 classes.\n"
          ]
        }
      ],
      "source": [
        "from ctypes import resize\n",
        "# Importing the data\n",
        "data = img.flow_from_directory(data_path, color_mode='rgb',\\\n",
        "                               batch_size=300, class_mode='binary', target_size=(224,224))"
      ]
    },
    {
      "cell_type": "code",
      "execution_count": 10,
      "metadata": {
        "ExecuteTime": {
          "end_time": "2022-05-23T14:37:08.526273Z",
          "start_time": "2022-05-23T14:37:08.519403Z"
        },
        "colab": {
          "base_uri": "https://localhost:8080/"
        },
        "id": "Z4x8cSpYVMpB",
        "outputId": "92bd24dd-77a6-4f1d-d903-8c360f41a908"
      },
      "outputs": [
        {
          "output_type": "execute_result",
          "data": {
            "text/plain": [
              "{'forged': 0, 'genuine': 1}"
            ]
          },
          "metadata": {},
          "execution_count": 10
        }
      ],
      "source": [
        "data.class_indices"
      ]
    },
    {
      "cell_type": "code",
      "execution_count": 11,
      "metadata": {
        "ExecuteTime": {
          "end_time": "2022-05-23T14:37:11.825565Z",
          "start_time": "2022-05-23T14:37:08.527770Z"
        },
        "id": "6qJmZYLlVMpB"
      },
      "outputs": [],
      "source": [
        "data_images, data_labels = next(data)"
      ]
    },
    {
      "cell_type": "code",
      "execution_count": 12,
      "metadata": {
        "ExecuteTime": {
          "end_time": "2022-05-23T14:37:11.829359Z",
          "start_time": "2022-05-23T14:37:11.826636Z"
        },
        "colab": {
          "base_uri": "https://localhost:8080/"
        },
        "id": "eHOpWE8fVMpB",
        "outputId": "14b61278-c38b-4555-8fd4-bf44f5cd5a0a"
      },
      "outputs": [
        {
          "output_type": "execute_result",
          "data": {
            "text/plain": [
              "(300, 224, 224, 3)"
            ]
          },
          "metadata": {},
          "execution_count": 12
        }
      ],
      "source": [
        "data_images.shape"
      ]
    },
    {
      "cell_type": "code",
      "execution_count": 13,
      "metadata": {
        "ExecuteTime": {
          "end_time": "2022-05-23T14:37:11.832271Z",
          "start_time": "2022-05-23T14:37:11.830100Z"
        },
        "colab": {
          "base_uri": "https://localhost:8080/"
        },
        "id": "RQFzzw2wVMpB",
        "outputId": "243576f0-70ff-4e28-f774-1064b366cda7"
      },
      "outputs": [
        {
          "output_type": "execute_result",
          "data": {
            "text/plain": [
              "(300,)"
            ]
          },
          "metadata": {},
          "execution_count": 13
        }
      ],
      "source": [
        "data_labels.shape"
      ]
    },
    {
      "cell_type": "code",
      "execution_count": 14,
      "metadata": {
        "ExecuteTime": {
          "end_time": "2022-05-23T14:37:11.888774Z",
          "start_time": "2022-05-23T14:37:11.833177Z"
        },
        "id": "Eae0xFITVMpC"
      },
      "outputs": [],
      "source": [
        "X_train, X_test, y_train, y_test = train_test_split( \\\n",
        "            data_images, data_labels, random_state=42, test_size=.2)"
      ]
    },
    {
      "cell_type": "code",
      "execution_count": 15,
      "metadata": {
        "ExecuteTime": {
          "end_time": "2022-05-23T14:37:11.893566Z",
          "start_time": "2022-05-23T14:37:11.890017Z"
        },
        "colab": {
          "base_uri": "https://localhost:8080/"
        },
        "id": "NMHbV_qeVMpC",
        "outputId": "850f96f2-5faf-42ec-a62b-bf2386c892b3"
      },
      "outputs": [
        {
          "output_type": "execute_result",
          "data": {
            "text/plain": [
              "(240, 224, 224, 3)"
            ]
          },
          "metadata": {},
          "execution_count": 15
        }
      ],
      "source": [
        "X_train.shape"
      ]
    },
    {
      "cell_type": "code",
      "execution_count": 16,
      "metadata": {
        "ExecuteTime": {
          "end_time": "2022-05-23T14:37:11.897926Z",
          "start_time": "2022-05-23T14:37:11.894542Z"
        },
        "colab": {
          "base_uri": "https://localhost:8080/"
        },
        "id": "IyH2XoyRVMpC",
        "outputId": "21a32347-5221-4586-add7-db5c4c708d1d",
        "scrolled": true
      },
      "outputs": [
        {
          "output_type": "execute_result",
          "data": {
            "text/plain": [
              "(240,)"
            ]
          },
          "metadata": {},
          "execution_count": 16
        }
      ],
      "source": [
        "y_train.shape"
      ]
    },
    {
      "cell_type": "markdown",
      "metadata": {
        "id": "fNf9MK9tVMpC"
      },
      "source": [
        "Above we instantiate Keras' ImageDataGenerator which will scale each pixel's values down to a value of 1. Next we import the data and separate into the images themselves and their respective labels. Finally we split it into a train and test dataset."
      ]
    },
    {
      "cell_type": "markdown",
      "metadata": {
        "id": "KjCHLRtrVMpC"
      },
      "source": [
        "### Image Augmentation"
      ]
    },
    {
      "cell_type": "markdown",
      "metadata": {
        "id": "awA4mx5rVMpC"
      },
      "source": [
        "Because we have such a small dataset it is important to use image augmentation to artificially expand the training dataset. Below we do several forms of data augmentation individually before combining the techniques at the end."
      ]
    },
    {
      "cell_type": "markdown",
      "metadata": {
        "id": "dSXIKgZ_VMpC"
      },
      "source": [
        "#### Zoom Augmentation"
      ]
    },
    {
      "cell_type": "markdown",
      "metadata": {
        "id": "7Src6KPVVMpC"
      },
      "source": [
        "The first technique we explore is zoom range. Entering a range of values, .25 and 1 in this case, randomly applies a zoom to each image within that range."
      ]
    },
    {
      "cell_type": "code",
      "execution_count": 17,
      "metadata": {
        "ExecuteTime": {
          "end_time": "2022-05-23T14:37:11.925857Z",
          "start_time": "2022-05-23T14:37:11.901105Z"
        },
        "id": "RjujmkZjVMpC"
      },
      "outputs": [],
      "source": [
        "aug = ImageDataGenerator(zoom_range=[.25,1])\n",
        "aug.fit(X_train)\n",
        "aug_data = aug.flow(X_train, y_train, batch_size=240)"
      ]
    },
    {
      "cell_type": "code",
      "execution_count": 18,
      "metadata": {
        "ExecuteTime": {
          "end_time": "2022-05-23T14:37:12.810455Z",
          "start_time": "2022-05-23T14:37:11.926820Z"
        },
        "id": "aj8qvOS0VMpC"
      },
      "outputs": [],
      "source": [
        "aug_images, aug_labels = next(aug_data)"
      ]
    },
    {
      "cell_type": "code",
      "execution_count": 19,
      "metadata": {
        "ExecuteTime": {
          "end_time": "2022-05-23T14:37:12.814052Z",
          "start_time": "2022-05-23T14:37:12.811562Z"
        },
        "colab": {
          "base_uri": "https://localhost:8080/"
        },
        "id": "nV0e-1mtVMpC",
        "outputId": "a2b14e90-d116-4952-81ee-32b4edd459b0"
      },
      "outputs": [
        {
          "output_type": "execute_result",
          "data": {
            "text/plain": [
              "(240, 224, 224, 3)"
            ]
          },
          "metadata": {},
          "execution_count": 19
        }
      ],
      "source": [
        "aug_images.shape"
      ]
    },
    {
      "cell_type": "code",
      "execution_count": 20,
      "metadata": {
        "ExecuteTime": {
          "end_time": "2022-05-23T14:37:12.816951Z",
          "start_time": "2022-05-23T14:37:12.814825Z"
        },
        "colab": {
          "base_uri": "https://localhost:8080/"
        },
        "id": "HitjcbxcVMpC",
        "outputId": "f74395dd-f2a9-48db-9efe-7c3cab754f20",
        "scrolled": false
      },
      "outputs": [
        {
          "output_type": "execute_result",
          "data": {
            "text/plain": [
              "(240,)"
            ]
          },
          "metadata": {},
          "execution_count": 20
        }
      ],
      "source": [
        "aug_labels.shape"
      ]
    },
    {
      "cell_type": "code",
      "execution_count": 21,
      "metadata": {
        "ExecuteTime": {
          "end_time": "2022-05-23T14:37:12.822840Z",
          "start_time": "2022-05-23T14:37:12.817656Z"
        },
        "colab": {
          "base_uri": "https://localhost:8080/",
          "height": 0
        },
        "id": "XpH8jFWvVMpC",
        "outputId": "8fe61a40-8467-431c-c48e-eb69156ceb0e",
        "scrolled": true
      },
      "outputs": [
        {
          "output_type": "execute_result",
          "data": {
            "text/plain": [
              "<PIL.Image.Image image mode=RGB size=224x224 at 0x7F395026C350>"
            ],
            "image/png": "[encoded data removed]"
          },
          "metadata": {},
          "execution_count": 21
        }
      ],
      "source": [
        "array_to_img(aug_images[0])"
      ]
    },
    {
      "cell_type": "code",
      "execution_count": 22,
      "metadata": {
        "ExecuteTime": {
          "end_time": "2022-05-23T14:37:12.870297Z",
          "start_time": "2022-05-23T14:37:12.823934Z"
        },
        "id": "OZfqxBbFVMpD"
      },
      "outputs": [],
      "source": [
        "new_images1 = np.concatenate([X_train, aug_images])\n",
        "new_labels1 = np.concatenate([y_train, aug_labels])"
      ]
    },
    {
      "cell_type": "code",
      "execution_count": 23,
      "metadata": {
        "ExecuteTime": {
          "end_time": "2022-05-23T14:37:12.875326Z",
          "start_time": "2022-05-23T14:37:12.871437Z"
        },
        "colab": {
          "base_uri": "https://localhost:8080/"
        },
        "id": "kz_W3IftVMpD",
        "outputId": "07f079c5-5259-4c4d-8849-a6f4f6888b76"
      },
      "outputs": [
        {
          "output_type": "execute_result",
          "data": {
            "text/plain": [
              "(480, 224, 224, 3)"
            ]
          },
          "metadata": {},
          "execution_count": 23
        }
      ],
      "source": [
        "new_images1.shape"
      ]
    },
    {
      "cell_type": "code",
      "execution_count": 24,
      "metadata": {
        "ExecuteTime": {
          "end_time": "2022-05-23T14:37:12.879471Z",
          "start_time": "2022-05-23T14:37:12.876344Z"
        },
        "colab": {
          "base_uri": "https://localhost:8080/"
        },
        "id": "4SBvqi0mVMpD",
        "outputId": "847ead18-d8ee-4b28-b9e8-22062287251e",
        "scrolled": true
      },
      "outputs": [
        {
          "output_type": "execute_result",
          "data": {
            "text/plain": [
              "(480,)"
            ]
          },
          "metadata": {},
          "execution_count": 24
        }
      ],
      "source": [
        "new_labels1.shape"
      ]
    },
    {
      "cell_type": "markdown",
      "metadata": {
        "id": "fOXrvLp2VMpD"
      },
      "source": [
        "#### Width Augmentation"
      ]
    },
    {
      "cell_type": "markdown",
      "metadata": {
        "id": "y2WYL6XeVMpD"
      },
      "source": [
        "The next method for augmentation used was width shift range. With a range of .3 the images will be randomly assigned a width down to .3 of the original image size. "
      ]
    },
    {
      "cell_type": "code",
      "execution_count": 25,
      "metadata": {
        "ExecuteTime": {
          "end_time": "2022-05-23T14:37:12.904430Z",
          "start_time": "2022-05-23T14:37:12.880692Z"
        },
        "id": "vRXsAvgpVMpD"
      },
      "outputs": [],
      "source": [
        "aug = ImageDataGenerator(width_shift_range=.3)\n",
        "aug.fit(X_train)\n",
        "aug2_data = aug.flow(X_train, y_train, batch_size=240)"
      ]
    },
    {
      "cell_type": "code",
      "execution_count": 26,
      "metadata": {
        "ExecuteTime": {
          "end_time": "2022-05-23T14:37:13.836303Z",
          "start_time": "2022-05-23T14:37:12.905556Z"
        },
        "id": "5JsawItTVMpD"
      },
      "outputs": [],
      "source": [
        "aug2_images, aug2_labels = next(aug2_data)"
      ]
    },
    {
      "cell_type": "code",
      "execution_count": 27,
      "metadata": {
        "ExecuteTime": {
          "end_time": "2022-05-23T14:37:13.970198Z",
          "start_time": "2022-05-23T14:37:13.837257Z"
        },
        "id": "tTYNA-_FVMpD"
      },
      "outputs": [],
      "source": [
        "new_images2 = np.concatenate([new_images1, aug2_images])\n",
        "new_labels2 = np.concatenate([new_labels1, aug2_labels])"
      ]
    },
    {
      "cell_type": "markdown",
      "metadata": {
        "id": "yTt4dtS0VMpD"
      },
      "source": [
        "#### Height Augmentation"
      ]
    },
    {
      "cell_type": "markdown",
      "metadata": {
        "id": "B_3cqar6VMpD"
      },
      "source": [
        "The next method for augmentation used was height shift range. With a range of .3 the images will be randomly assigned a height down to .3 of the original image size."
      ]
    },
    {
      "cell_type": "code",
      "execution_count": 28,
      "metadata": {
        "ExecuteTime": {
          "end_time": "2022-05-23T14:37:13.994817Z",
          "start_time": "2022-05-23T14:37:13.971519Z"
        },
        "id": "JMp9DIJdVMpD"
      },
      "outputs": [],
      "source": [
        "aug = ImageDataGenerator(height_shift_range=.3)\n",
        "aug.fit(X_train)\n",
        "aug3_data = aug.flow(X_train, y_train, batch_size=240)"
      ]
    },
    {
      "cell_type": "code",
      "execution_count": 29,
      "metadata": {
        "ExecuteTime": {
          "end_time": "2022-05-23T14:37:14.909526Z",
          "start_time": "2022-05-23T14:37:13.995765Z"
        },
        "id": "fkHjqgyzVMpD"
      },
      "outputs": [],
      "source": [
        "aug3_images, aug3_labels = next(aug3_data)"
      ]
    },
    {
      "cell_type": "code",
      "execution_count": 30,
      "metadata": {
        "ExecuteTime": {
          "end_time": "2022-05-23T14:37:15.082265Z",
          "start_time": "2022-05-23T14:37:14.910455Z"
        },
        "id": "8LLpw__3VMpD"
      },
      "outputs": [],
      "source": [
        "new_images3 = np.concatenate([new_images2, aug3_images])\n",
        "new_labels3 = np.concatenate([new_labels2, aug3_labels])"
      ]
    },
    {
      "cell_type": "markdown",
      "metadata": {
        "ExecuteTime": {
          "end_time": "2022-05-18T18:10:53.996172Z",
          "start_time": "2022-05-18T18:10:53.989621Z"
        },
        "id": "-CzmvIhBVMpD"
      },
      "source": [
        "#### Rotation Augmentation"
      ]
    },
    {
      "cell_type": "markdown",
      "metadata": {
        "ExecuteTime": {
          "end_time": "2022-05-20T18:31:05.497987Z",
          "start_time": "2022-05-20T18:31:05.418085Z"
        },
        "id": "Zc9ICCBUVMpD"
      },
      "source": [
        "Next we apply a random rotation to each image up to 30 degrees."
      ]
    },
    {
      "cell_type": "code",
      "execution_count": 31,
      "metadata": {
        "ExecuteTime": {
          "end_time": "2022-05-23T14:37:15.104454Z",
          "start_time": "2022-05-23T14:37:15.083345Z"
        },
        "id": "r2wYlSbGVMpD"
      },
      "outputs": [],
      "source": [
        "aug = ImageDataGenerator(rotation_range=30)\n",
        "aug.fit(X_train)\n",
        "aug4_data = aug.flow(X_train, y_train, batch_size=240)"
      ]
    },
    {
      "cell_type": "code",
      "execution_count": 32,
      "metadata": {
        "ExecuteTime": {
          "end_time": "2022-05-23T14:37:16.015689Z",
          "start_time": "2022-05-23T14:37:15.105400Z"
        },
        "id": "Eltvmy_pVMpD"
      },
      "outputs": [],
      "source": [
        "aug4_images, aug4_labels = next(aug4_data)"
      ]
    },
    {
      "cell_type": "code",
      "execution_count": 33,
      "metadata": {
        "ExecuteTime": {
          "end_time": "2022-05-23T14:37:16.227785Z",
          "start_time": "2022-05-23T14:37:16.016782Z"
        },
        "id": "7Oyz8kNFVMpD"
      },
      "outputs": [],
      "source": [
        "new_images4 = np.concatenate([new_images3, aug4_images])\n",
        "new_labels4 = np.concatenate([new_labels3, aug4_labels])"
      ]
    },
    {
      "cell_type": "markdown",
      "metadata": {
        "id": "zrVoakjgVMpE"
      },
      "source": [
        "#### Shear Augmentation"
      ]
    },
    {
      "cell_type": "markdown",
      "metadata": {
        "id": "4MhkPjfRVMpE"
      },
      "source": [
        "We then apply a random shear value to each image. This angles the corners of each image up to 30 degrees."
      ]
    },
    {
      "cell_type": "code",
      "execution_count": 34,
      "metadata": {
        "ExecuteTime": {
          "end_time": "2022-05-23T14:37:16.271825Z",
          "start_time": "2022-05-23T14:37:16.228737Z"
        },
        "id": "A98t7WqlVMpE"
      },
      "outputs": [],
      "source": [
        "aug = ImageDataGenerator(shear_range=30)\n",
        "aug.fit(X_train)\n",
        "aug5_data = aug.flow(X_train, y_train, batch_size=240)"
      ]
    },
    {
      "cell_type": "code",
      "execution_count": 35,
      "metadata": {
        "ExecuteTime": {
          "end_time": "2022-05-23T14:37:17.170867Z",
          "start_time": "2022-05-23T14:37:16.272764Z"
        },
        "id": "4Vy3Qkq1VMpE"
      },
      "outputs": [],
      "source": [
        "aug5_images, aug5_labels = next(aug5_data)"
      ]
    },
    {
      "cell_type": "code",
      "execution_count": 36,
      "metadata": {
        "ExecuteTime": {
          "end_time": "2022-05-23T14:37:17.493386Z",
          "start_time": "2022-05-23T14:37:17.172084Z"
        },
        "id": "Zo08rN86VMpE"
      },
      "outputs": [],
      "source": [
        "new_images5 = np.concatenate([new_images4, aug5_images])\n",
        "new_labels5 = np.concatenate([new_labels4, aug5_labels])"
      ]
    },
    {
      "cell_type": "markdown",
      "metadata": {
        "id": "vPAJLxNgVMpE"
      },
      "source": [
        "#### Brightness Augmentation"
      ]
    },
    {
      "cell_type": "markdown",
      "metadata": {
        "ExecuteTime": {
          "end_time": "2022-05-20T18:49:59.247310Z",
          "start_time": "2022-05-20T18:49:59.202157Z"
        },
        "id": "q--F3ZLOVMpE"
      },
      "source": [
        "Finally we have brightness augmentation. This applies a random brightness shift within the provided range. "
      ]
    },
    {
      "cell_type": "code",
      "execution_count": 37,
      "metadata": {
        "ExecuteTime": {
          "end_time": "2022-05-23T14:37:17.518943Z",
          "start_time": "2022-05-23T14:37:17.494551Z"
        },
        "id": "P9euYu32VMpE"
      },
      "outputs": [],
      "source": [
        "aug = ImageDataGenerator(brightness_range=(1,2))\n",
        "aug.fit(X_train)\n",
        "aug5_data = aug.flow(X_train, y_train, batch_size=240)"
      ]
    },
    {
      "cell_type": "code",
      "execution_count": 38,
      "metadata": {
        "ExecuteTime": {
          "end_time": "2022-05-23T14:37:17.599761Z",
          "start_time": "2022-05-23T14:37:17.519903Z"
        },
        "id": "I8FjcCHlVMpE"
      },
      "outputs": [],
      "source": [
        "aug6_images, aug6_labels = next(aug5_data)"
      ]
    },
    {
      "cell_type": "code",
      "execution_count": 39,
      "metadata": {
        "ExecuteTime": {
          "end_time": "2022-05-23T14:37:17.933568Z",
          "start_time": "2022-05-23T14:37:17.600704Z"
        },
        "id": "crrsJuFCVMpE"
      },
      "outputs": [],
      "source": [
        "new_images6 = np.concatenate([new_images5, aug6_images])\n",
        "new_labels6 = np.concatenate([new_labels5, aug6_labels])"
      ]
    },
    {
      "cell_type": "code",
      "execution_count": 40,
      "metadata": {
        "ExecuteTime": {
          "end_time": "2022-05-23T14:37:17.940498Z",
          "start_time": "2022-05-23T14:37:17.936520Z"
        },
        "colab": {
          "base_uri": "https://localhost:8080/"
        },
        "id": "LbIctUqMVMpE",
        "outputId": "255b21ae-141e-44ca-ac3c-c65f0ffed010"
      },
      "outputs": [
        {
          "output_type": "execute_result",
          "data": {
            "text/plain": [
              "(1680,)"
            ]
          },
          "metadata": {},
          "execution_count": 40
        }
      ],
      "source": [
        "new_labels6.shape"
      ]
    },
    {
      "cell_type": "markdown",
      "metadata": {
        "id": "PraGgowOVMpE"
      },
      "source": [
        "#### A little bit of everything Augmentation"
      ]
    },
    {
      "cell_type": "markdown",
      "metadata": {
        "id": "oeWeNkeEVMpE"
      },
      "source": [
        "Now that we have augmented each image with a single augmentation, we will again augment all images with a combination of each augmentation. "
      ]
    },
    {
      "cell_type": "code",
      "execution_count": 41,
      "metadata": {
        "ExecuteTime": {
          "end_time": "2022-05-23T14:37:23.897668Z",
          "start_time": "2022-05-23T14:37:23.306209Z"
        },
        "id": "3KKktYHYVMpE"
      },
      "outputs": [],
      "source": [
        "aug = ImageDataGenerator(zoom_range=[.7,.9], width_shift_range=.15, height_shift_range=.15, rotation_range=15, shear_range=15, brightness_range=(1,1.5))\n",
        "aug.fit(new_images6)\n",
        "aug_data_final = aug.flow(new_images6, new_labels6, batch_size=1680)"
      ]
    },
    {
      "cell_type": "code",
      "execution_count": 42,
      "metadata": {
        "ExecuteTime": {
          "end_time": "2022-05-23T14:37:31.294868Z",
          "start_time": "2022-05-23T14:37:24.067101Z"
        },
        "id": "YRPNXMZnVMpE"
      },
      "outputs": [],
      "source": [
        "aug_final_images, aug_final_labels = next(aug_data_final)"
      ]
    },
    {
      "cell_type": "code",
      "execution_count": 43,
      "metadata": {
        "ExecuteTime": {
          "end_time": "2022-05-23T14:37:32.008243Z",
          "start_time": "2022-05-23T14:37:31.297280Z"
        },
        "id": "bmTXvNIBVMpE"
      },
      "outputs": [],
      "source": [
        "final_images = np.concatenate([new_images6, aug_final_images])\n",
        "final_labels = np.concatenate([new_labels6, aug_final_labels])"
      ]
    },
    {
      "cell_type": "code",
      "execution_count": 44,
      "metadata": {
        "ExecuteTime": {
          "end_time": "2022-05-23T14:37:32.015100Z",
          "start_time": "2022-05-23T14:37:32.009292Z"
        },
        "colab": {
          "base_uri": "https://localhost:8080/"
        },
        "id": "RmyXE3t_VMpE",
        "outputId": "b59fd7e8-8802-4119-92c5-b4c243f58766"
      },
      "outputs": [
        {
          "output_type": "execute_result",
          "data": {
            "text/plain": [
              "(3360, 224, 224, 3)"
            ]
          },
          "metadata": {},
          "execution_count": 44
        }
      ],
      "source": [
        "final_images.shape"
      ]
    },
    {
      "cell_type": "code",
      "execution_count": 45,
      "metadata": {
        "ExecuteTime": {
          "end_time": "2022-05-23T14:37:32.019455Z",
          "start_time": "2022-05-23T14:37:32.016958Z"
        },
        "colab": {
          "base_uri": "https://localhost:8080/"
        },
        "id": "PSMlqrLQVMpE",
        "outputId": "9a9dc3d0-7a22-4620-ad95-754292db29c7"
      },
      "outputs": [
        {
          "output_type": "execute_result",
          "data": {
            "text/plain": [
              "(3360,)"
            ]
          },
          "metadata": {},
          "execution_count": 45
        }
      ],
      "source": [
        "final_labels.shape"
      ]
    },
    {
      "cell_type": "code",
      "execution_count": 46,
      "metadata": {
        "ExecuteTime": {
          "end_time": "2022-05-23T14:37:32.033769Z",
          "start_time": "2022-05-23T14:37:32.020208Z"
        },
        "colab": {
          "base_uri": "https://localhost:8080/",
          "height": 0
        },
        "id": "XcGO7NBlVMpE",
        "outputId": "6fdc4c39-3abd-4aef-d6bc-0be8bf3fb6ae"
      },
      "outputs": [
        {
          "output_type": "execute_result",
          "data": {
            "text/plain": [
              "<PIL.Image.Image image mode=RGB size=224x224 at 0x7F395028EE10>"
            ],
            "image/png": "[encoded data removed]"
          },
          "metadata": {},
          "execution_count": 46
        }
      ],
      "source": [
        "array_to_img(final_images[0])"
      ]
    },
    {
      "cell_type": "code",
      "execution_count": 47,
      "metadata": {
        "ExecuteTime": {
          "end_time": "2022-05-23T14:37:32.040012Z",
          "start_time": "2022-05-23T14:37:32.034835Z"
        },
        "colab": {
          "base_uri": "https://localhost:8080/"
        },
        "id": "Etb2N03MVMpE",
        "outputId": "e4ed16ee-c33e-4f7d-dda6-0b26377c24cf"
      },
      "outputs": [
        {
          "output_type": "execute_result",
          "data": {
            "text/plain": [
              "1.0"
            ]
          },
          "metadata": {},
          "execution_count": 47
        }
      ],
      "source": [
        "final_labels[0]"
      ]
    },
    {
      "cell_type": "markdown",
      "metadata": {
        "id": "z50UnX6lVMpF"
      },
      "source": [
        "## Modeling"
      ]
    },
    {
      "cell_type": "markdown",
      "metadata": {
        "id": "YnH0P0uyVMpF"
      },
      "source": [
        "### VGG16"
      ]
    },
    {
      "cell_type": "code",
      "source": [
        "vgg16 = VGG16(input_shape=(224,224, 3), classes=1, include_top=False, classifier_activation='sigmoid')"
      ],
      "metadata": {
        "id": "cPOB01hREsps"
      },
      "execution_count": 2,
      "outputs": []
    },
    {
      "cell_type": "code",
      "source": [
        "model5 = Sequential()"
      ],
      "metadata": {
        "id": "-kegpMBlXOJC"
      },
      "execution_count": 3,
      "outputs": []
    },
    {
      "cell_type": "code",
      "source": [
        "model5.add(vgg16)"
      ],
      "metadata": {
        "id": "U4QV_G9cEsnJ"
      },
      "execution_count": 4,
      "outputs": []
    },
    {
      "cell_type": "code",
      "source": [
        "model5.add(layers.Flatten())\n",
        "model5.add(layers.Dense(1, activation='sigmoid'))"
      ],
      "metadata": {
        "id": "4ypFC6jUEskx"
      },
      "execution_count": 5,
      "outputs": []
    },
    {
      "cell_type": "code",
      "source": [
        "adam = Adam(learning_rate=.0001)\n",
        "model5.compile(optimizer=adam,\n",
        "                  loss='binary_crossentropy',\n",
        "                  metrics=['accuracy'])"
      ],
      "metadata": {
        "id": "cI28WF7bYhAv"
      },
      "execution_count": 6,
      "outputs": []
    },
    {
      "cell_type": "code",
      "source": [
        "model5_results = model5.fit(final_images, final_labels, validation_split=.2)"
      ],
      "metadata": {
        "id": "FY-ZBlXSUNWW",
        "outputId": "0ef1ab7f-caab-41ed-88b2-f4025d9e1b1c",
        "colab": {
          "base_uri": "https://localhost:8080/"
        }
      },
      "execution_count": 48,
      "outputs": [
        {
          "output_type": "stream",
          "name": "stdout",
          "text": [
            "84/84 [==============================] - 35s 277ms/step - loss: 0.7598 - accuracy: 0.5108 - val_loss: 0.6888 - val_accuracy: 0.5551\n"
          ]
        }
      ]
    },
    {
      "cell_type": "code",
      "execution_count": null,
      "metadata": {
        "colab": {
          "base_uri": "https://localhost:8080/"
        },
        "id": "aPXnj9znVMpF",
        "outputId": "8c17abb8-c3fa-4878-ca84-732d6a5a153e"
      },
      "outputs": [
        {
          "output_type": "execute_result",
          "data": {
            "text/plain": [
              "0.5166666626930236"
            ]
          },
          "metadata": {},
          "execution_count": 50
        }
      ],
      "source": [
        "# model5_cv_results.mean()"
      ]
    },
    {
      "cell_type": "code",
      "execution_count": null,
      "metadata": {
        "id": "-d4wqzcVVMpF"
      },
      "outputs": [],
      "source": [
        "# model5_cv_pickle = 'drive/MyDrive/model5_cv_pickle.sav'\n",
        "# pickle.dump(model5_cv_results, open(model5_cv_pickle, 'wb'))"
      ]
    },
    {
      "cell_type": "code",
      "execution_count": 49,
      "metadata": {
        "colab": {
          "base_uri": "https://localhost:8080/"
        },
        "id": "Ae7jQFKsRPfn",
        "outputId": "6474f74a-7dac-4549-be3b-ce93c4f5c8b7"
      },
      "outputs": [
        {
          "output_type": "stream",
          "name": "stdout",
          "text": [
            "INFO:tensorflow:Assets written to: ram://201ba7f7-9458-4565-af61-106c8fffd99e/assets\n"
          ]
        }
      ],
      "source": [
        "model5_results_pickle = 'drive/MyDrive/model5_results_pickle.sav'\n",
        "pickle.dump(model5_results, open(model5_results_pickle, 'wb'))"
      ]
    },
    {
      "cell_type": "code",
      "execution_count": 50,
      "metadata": {
        "colab": {
          "base_uri": "https://localhost:8080/"
        },
        "id": "FfxfRlmGVMpF",
        "outputId": "f57dd526-2816-4b17-c6fe-9cec98386560"
      },
      "outputs": [
        {
          "output_type": "stream",
          "name": "stdout",
          "text": [
            "INFO:tensorflow:Assets written to: ram://b4147f38-5ce0-44fe-b7e9-2ad8d3964f64/assets\n"
          ]
        }
      ],
      "source": [
        "model5_pickle = 'drive/MyDrive/model5_pickle.sav'\n",
        "pickle.dump(model5, open(model5_pickle, 'wb'))"
      ]
    },
    {
      "cell_type": "code",
      "source": [
        ""
      ],
      "metadata": {
        "id": "Fmzqq7XbzXAs"
      },
      "execution_count": null,
      "outputs": []
    }
  ],
  "metadata": {
    "accelerator": "GPU",
    "colab": {
      "name": "Model3_Notebook.ipynb",
      "provenance": []
    },
    "kernelspec": {
      "display_name": "tf-test",
      "language": "python",
      "name": "tf-test"
    },
    "language_info": {
      "codemirror_mode": {
        "name": "ipython",
        "version": 3
      },
      "file_extension": ".py",
      "mimetype": "text/x-python",
      "name": "python",
      "nbconvert_exporter": "python",
      "pygments_lexer": "ipython3",
      "version": "3.6.13"
    },
    "toc": {
      "base_numbering": 1,
      "nav_menu": {},
      "number_sections": true,
      "sideBar": true,
      "skip_h1_title": false,
      "title_cell": "Table of Contents",
      "title_sidebar": "Contents",
      "toc_cell": false,
      "toc_position": {},
      "toc_section_display": true,
      "toc_window_display": false
    }
  },
  "nbformat": 4,
  "nbformat_minor": 0
}