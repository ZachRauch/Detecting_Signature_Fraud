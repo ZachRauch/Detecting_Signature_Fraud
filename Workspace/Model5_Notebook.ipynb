{
  "cells": [
    {
      "cell_type": "markdown",
      "metadata": {
        "id": "0u7YTY_2VMo5"
      },
      "source": [
        "# Signature Classification"
      ]
    },
    {
      "cell_type": "markdown",
      "metadata": {
        "id": "xjUEM33ZVMo8"
      },
      "source": [
        "![img](https://github.com/ZachRauch/Signature_Classification/blob/main/images/signature_banner.jpeg?raw=1)"
      ]
    },
    {
      "cell_type": "markdown",
      "metadata": {
        "id": "pMutZcPfVMo8"
      },
      "source": [
        "## Overview"
      ]
    },
    {
      "cell_type": "markdown",
      "metadata": {
        "id": "A3nz0P2pVMo8"
      },
      "source": [
        "The aim of this analysis is to identify fraudulent signatures in a dataset. My audience here is _______. Using just a small dataset with only 300 sample I was able to create a "
      ]
    },
    {
      "cell_type": "markdown",
      "metadata": {
        "id": "zTaZIfQdVMo8"
      },
      "source": [
        "## Business Problem"
      ]
    },
    {
      "cell_type": "markdown",
      "metadata": {
        "id": "Mb3CrM7uVMo9"
      },
      "source": [
        "Currently institutions and businesses recognize signatures as the primary way of authenticating transactions. Signatures are used to sign checks, authorize documents and contracts, and validate credit card transactions. According to recent studies, check fraud costs banks about $900M a year with 22 percent of all fraudulent checks attributed to signature fraud. Therefor, creating an algorithm to identify signature fraud is a valuable asset. "
      ]
    },
    {
      "cell_type": "code",
      "execution_count": null,
      "metadata": {
        "id": "BOSvcOrbVMo9"
      },
      "outputs": [],
      "source": [
        ""
      ]
    },
    {
      "cell_type": "markdown",
      "metadata": {
        "id": "yPdUjdUbVMo-"
      },
      "source": [
        "## Imports"
      ]
    },
    {
      "cell_type": "code",
      "execution_count": 1,
      "metadata": {
        "ExecuteTime": {
          "end_time": "2022-05-23T14:37:08.394347Z",
          "start_time": "2022-05-23T14:37:04.340878Z"
        },
        "id": "nVM33V7MVMo-"
      },
      "outputs": [],
      "source": [
        "import pandas as pd\n",
        "import numpy as np\n",
        "import matplotlib.pyplot as plt\n",
        "%matplotlib inline\n",
        "import seaborn as sns\n",
        "import tensorflow as tf\n",
        "from tensorflow.keras.models import Sequential\n",
        "import zipfile\n",
        "from tensorflow.keras.preprocessing.image import ImageDataGenerator, array_to_img, img_to_array, load_img\n",
        "from tensorflow.keras import models, layers, optimizers, metrics, regularizers, losses\n",
        "from tensorflow.keras.wrappers import scikit_learn\n",
        "from tensorflow.keras.regularizers import l2\n",
        "from tensorflow.keras.callbacks import ModelCheckpoint\n",
        "from tensorflow.keras.applications import VGG16\n",
        "\n",
        "from sklearn.model_selection import train_test_split, cross_val_score\n",
        "from sklearn.dummy import DummyClassifier\n",
        "from sklearn.metrics import auc, recall_score, precision_score, \\\n",
        "                            confusion_matrix, plot_confusion_matrix, \\\n",
        "                            roc_auc_score, roc_curve\n",
        "from tensorflow.keras.optimizers import SGD, Adam\n",
        "import pickle\n",
        "\n",
        "\n",
        "seed = 777\n",
        "tf.random.set_seed(seed)\n",
        "np.random.seed(seed)"
      ]
    },
    {
      "cell_type": "markdown",
      "metadata": {
        "id": "ZIokb6aUVMo_"
      },
      "source": [
        "## Colab Necessary Code"
      ]
    },
    {
      "cell_type": "markdown",
      "metadata": {
        "id": "7oNb5f32VMpA"
      },
      "source": [
        "Google Colab was used to help streamline the modeling process. Modeling using Convolutional Neural Networks can be computationally expensive, so if you would like to run this notebook faster, I would recommend creating a Colab account and storing the data, discussed below, in a Google Drive file. "
      ]
    },
    {
      "cell_type": "code",
      "execution_count": 2,
      "metadata": {
        "ExecuteTime": {
          "end_time": "2022-05-23T14:37:08.397228Z",
          "start_time": "2022-05-23T14:37:08.395733Z"
        },
        "colab": {
          "base_uri": "https://localhost:8080/"
        },
        "id": "tU9iM7l-VMpA",
        "outputId": "e3b06af4-a59b-407d-d1bb-d26b05f06e50"
      },
      "outputs": [
        {
          "output_type": "stream",
          "name": "stdout",
          "text": [
            "Mounted at /content/drive\n"
          ]
        }
      ],
      "source": [
        "from google.colab import drive\n",
        "drive.mount('/content/drive')"
      ]
    },
    {
      "cell_type": "markdown",
      "metadata": {
        "id": "VXjqDovJVMpA"
      },
      "source": [
        "## Data"
      ]
    },
    {
      "cell_type": "markdown",
      "metadata": {
        "id": "2xfU2eEtVMpA"
      },
      "source": [
        "The data used in this notebook can be found [here](https://www.kaggle.com/datasets/divyanshrai/handwritten-signatures). The dataset contains just 300 samples of genuine and forged signatures from 30 people, of which 50 percent are genuine and 50 percent are forged. "
      ]
    },
    {
      "cell_type": "code",
      "execution_count": 2,
      "metadata": {
        "ExecuteTime": {
          "end_time": "2022-05-23T14:37:08.402015Z",
          "start_time": "2022-05-23T14:37:08.400250Z"
        },
        "id": "teE595ANVMpA"
      },
      "outputs": [],
      "source": [
        "# instantiate ImageDataGenerator scaling each pixel's values down to a scale of 1\n",
        "img = ImageDataGenerator(rescale=1/255)"
      ]
    },
    {
      "cell_type": "code",
      "execution_count": 3,
      "metadata": {
        "ExecuteTime": {
          "end_time": "2022-05-23T14:37:08.405039Z",
          "start_time": "2022-05-23T14:37:08.403576Z"
        },
        "id": "koM9NmKQVMpB"
      },
      "outputs": [],
      "source": [
        "# data_path = '../Data/sample_Signature/sample_Signature/'\n",
        "# For Colab \n",
        "data_path = '/content/drive/MyDrive/sample_Signature/sample_Signature/'"
      ]
    },
    {
      "cell_type": "code",
      "execution_count": 4,
      "metadata": {
        "ExecuteTime": {
          "end_time": "2022-05-23T14:37:08.517937Z",
          "start_time": "2022-05-23T14:37:08.406114Z"
        },
        "colab": {
          "base_uri": "https://localhost:8080/"
        },
        "id": "_0ozmoZ0VMpB",
        "outputId": "a1e430f3-b35e-4d25-e946-4604fee62ca3",
        "scrolled": false
      },
      "outputs": [
        {
          "output_type": "stream",
          "name": "stdout",
          "text": [
            "Found 300 images belonging to 2 classes.\n"
          ]
        }
      ],
      "source": [
        "from ctypes import resize\n",
        "# Importing the data\n",
        "data = img.flow_from_directory(data_path, color_mode='rgb',\\\n",
        "                               batch_size=300, class_mode='binary', target_size=(224,224))"
      ]
    },
    {
      "cell_type": "code",
      "execution_count": 5,
      "metadata": {
        "ExecuteTime": {
          "end_time": "2022-05-23T14:37:08.526273Z",
          "start_time": "2022-05-23T14:37:08.519403Z"
        },
        "colab": {
          "base_uri": "https://localhost:8080/"
        },
        "id": "Z4x8cSpYVMpB",
        "outputId": "a6266f76-1106-4d76-bbc9-d937327df7d2"
      },
      "outputs": [
        {
          "output_type": "execute_result",
          "data": {
            "text/plain": [
              "{'forged': 0, 'genuine': 1}"
            ]
          },
          "metadata": {},
          "execution_count": 5
        }
      ],
      "source": [
        "data.class_indices"
      ]
    },
    {
      "cell_type": "code",
      "execution_count": 6,
      "metadata": {
        "ExecuteTime": {
          "end_time": "2022-05-23T14:37:11.825565Z",
          "start_time": "2022-05-23T14:37:08.527770Z"
        },
        "id": "6qJmZYLlVMpB"
      },
      "outputs": [],
      "source": [
        "data_images, data_labels = next(data)"
      ]
    },
    {
      "cell_type": "code",
      "execution_count": 7,
      "metadata": {
        "ExecuteTime": {
          "end_time": "2022-05-23T14:37:11.829359Z",
          "start_time": "2022-05-23T14:37:11.826636Z"
        },
        "colab": {
          "base_uri": "https://localhost:8080/"
        },
        "id": "eHOpWE8fVMpB",
        "outputId": "123c5d7a-cce9-4e0b-c5d2-0a8e0c8efc1e"
      },
      "outputs": [
        {
          "output_type": "execute_result",
          "data": {
            "text/plain": [
              "(300, 224, 224, 3)"
            ]
          },
          "metadata": {},
          "execution_count": 7
        }
      ],
      "source": [
        "data_images.shape"
      ]
    },
    {
      "cell_type": "code",
      "execution_count": 8,
      "metadata": {
        "ExecuteTime": {
          "end_time": "2022-05-23T14:37:11.832271Z",
          "start_time": "2022-05-23T14:37:11.830100Z"
        },
        "colab": {
          "base_uri": "https://localhost:8080/"
        },
        "id": "RQFzzw2wVMpB",
        "outputId": "da0a0630-35b0-49ed-9034-b609c7a6d084"
      },
      "outputs": [
        {
          "output_type": "execute_result",
          "data": {
            "text/plain": [
              "(300,)"
            ]
          },
          "metadata": {},
          "execution_count": 8
        }
      ],
      "source": [
        "data_labels.shape"
      ]
    },
    {
      "cell_type": "code",
      "execution_count": 9,
      "metadata": {
        "ExecuteTime": {
          "end_time": "2022-05-23T14:37:11.888774Z",
          "start_time": "2022-05-23T14:37:11.833177Z"
        },
        "id": "Eae0xFITVMpC"
      },
      "outputs": [],
      "source": [
        "X_train, X_test, y_train, y_test = train_test_split( \\\n",
        "            data_images, data_labels, random_state=seed, test_size=.2)"
      ]
    },
    {
      "cell_type": "code",
      "execution_count": 10,
      "metadata": {
        "ExecuteTime": {
          "end_time": "2022-05-23T14:37:11.893566Z",
          "start_time": "2022-05-23T14:37:11.890017Z"
        },
        "colab": {
          "base_uri": "https://localhost:8080/"
        },
        "id": "NMHbV_qeVMpC",
        "outputId": "f1cc517e-f271-458a-95ca-046d48120410"
      },
      "outputs": [
        {
          "output_type": "execute_result",
          "data": {
            "text/plain": [
              "(240, 224, 224, 3)"
            ]
          },
          "metadata": {},
          "execution_count": 10
        }
      ],
      "source": [
        "X_train.shape"
      ]
    },
    {
      "cell_type": "code",
      "execution_count": 11,
      "metadata": {
        "ExecuteTime": {
          "end_time": "2022-05-23T14:37:11.897926Z",
          "start_time": "2022-05-23T14:37:11.894542Z"
        },
        "colab": {
          "base_uri": "https://localhost:8080/"
        },
        "id": "IyH2XoyRVMpC",
        "outputId": "dc7cbdfd-34c3-42eb-b3be-f458baa9de64",
        "scrolled": true
      },
      "outputs": [
        {
          "output_type": "execute_result",
          "data": {
            "text/plain": [
              "(240,)"
            ]
          },
          "metadata": {},
          "execution_count": 11
        }
      ],
      "source": [
        "y_train.shape"
      ]
    },
    {
      "cell_type": "markdown",
      "metadata": {
        "id": "fNf9MK9tVMpC"
      },
      "source": [
        "Above we instantiate Keras' ImageDataGenerator which will scale each pixel's values down to a value of 1. Next we import the data and separate into the images themselves and their respective labels. Finally we split it into a train and test dataset."
      ]
    },
    {
      "cell_type": "markdown",
      "metadata": {
        "id": "KjCHLRtrVMpC"
      },
      "source": [
        "### Image Augmentation"
      ]
    },
    {
      "cell_type": "markdown",
      "metadata": {
        "id": "awA4mx5rVMpC"
      },
      "source": [
        "Because we have such a small dataset it is important to use image augmentation to artificially expand the training dataset. Below we do several forms of data augmentation individually before combining the techniques at the end."
      ]
    },
    {
      "cell_type": "markdown",
      "metadata": {
        "id": "dSXIKgZ_VMpC"
      },
      "source": [
        "#### Zoom Augmentation"
      ]
    },
    {
      "cell_type": "markdown",
      "metadata": {
        "id": "7Src6KPVVMpC"
      },
      "source": [
        "The first technique we explore is zoom range. Entering a range of values, .25 and 1 in this case, randomly applies a zoom to each image within that range."
      ]
    },
    {
      "cell_type": "code",
      "execution_count": 12,
      "metadata": {
        "ExecuteTime": {
          "end_time": "2022-05-23T14:37:11.925857Z",
          "start_time": "2022-05-23T14:37:11.901105Z"
        },
        "id": "RjujmkZjVMpC"
      },
      "outputs": [],
      "source": [
        "aug = ImageDataGenerator(zoom_range=[.25,1])\n",
        "aug.fit(X_train)\n",
        "aug_data = aug.flow(X_train, y_train, batch_size=240)"
      ]
    },
    {
      "cell_type": "code",
      "execution_count": 13,
      "metadata": {
        "ExecuteTime": {
          "end_time": "2022-05-23T14:37:12.810455Z",
          "start_time": "2022-05-23T14:37:11.926820Z"
        },
        "id": "aj8qvOS0VMpC"
      },
      "outputs": [],
      "source": [
        "aug_images, aug_labels = next(aug_data)"
      ]
    },
    {
      "cell_type": "code",
      "execution_count": 14,
      "metadata": {
        "ExecuteTime": {
          "end_time": "2022-05-23T14:37:12.814052Z",
          "start_time": "2022-05-23T14:37:12.811562Z"
        },
        "colab": {
          "base_uri": "https://localhost:8080/"
        },
        "id": "nV0e-1mtVMpC",
        "outputId": "5a400ea5-6c33-4797-9596-34fd11fc4ab8"
      },
      "outputs": [
        {
          "output_type": "execute_result",
          "data": {
            "text/plain": [
              "(240, 224, 224, 3)"
            ]
          },
          "metadata": {},
          "execution_count": 14
        }
      ],
      "source": [
        "aug_images.shape"
      ]
    },
    {
      "cell_type": "code",
      "execution_count": 15,
      "metadata": {
        "ExecuteTime": {
          "end_time": "2022-05-23T14:37:12.816951Z",
          "start_time": "2022-05-23T14:37:12.814825Z"
        },
        "colab": {
          "base_uri": "https://localhost:8080/"
        },
        "id": "HitjcbxcVMpC",
        "outputId": "eaae808a-c72d-4fe8-e455-50819125f57a",
        "scrolled": false
      },
      "outputs": [
        {
          "output_type": "execute_result",
          "data": {
            "text/plain": [
              "(240,)"
            ]
          },
          "metadata": {},
          "execution_count": 15
        }
      ],
      "source": [
        "aug_labels.shape"
      ]
    },
    {
      "cell_type": "code",
      "execution_count": 16,
      "metadata": {
        "ExecuteTime": {
          "end_time": "2022-05-23T14:37:12.822840Z",
          "start_time": "2022-05-23T14:37:12.817656Z"
        },
        "colab": {
          "base_uri": "https://localhost:8080/",
          "height": 0
        },
        "id": "XpH8jFWvVMpC",
        "outputId": "f7aa77ab-401f-4aee-84d3-9e3d43b54be9",
        "scrolled": true
      },
      "outputs": [
        {
          "output_type": "execute_result",
          "data": {
            "text/plain": [
              "<PIL.Image.Image image mode=RGB size=224x224 at 0x7F41F5C15F10>"
            ],
            "image/png": "[encoded data removed]"
          },
          "metadata": {},
          "execution_count": 16
        }
      ],
      "source": [
        "array_to_img(aug_images[0])"
      ]
    },
    {
      "cell_type": "code",
      "execution_count": 17,
      "metadata": {
        "ExecuteTime": {
          "end_time": "2022-05-23T14:37:12.870297Z",
          "start_time": "2022-05-23T14:37:12.823934Z"
        },
        "id": "OZfqxBbFVMpD"
      },
      "outputs": [],
      "source": [
        "new_images1 = np.concatenate([X_train, aug_images])\n",
        "new_labels1 = np.concatenate([y_train, aug_labels])"
      ]
    },
    {
      "cell_type": "code",
      "execution_count": 18,
      "metadata": {
        "ExecuteTime": {
          "end_time": "2022-05-23T14:37:12.875326Z",
          "start_time": "2022-05-23T14:37:12.871437Z"
        },
        "colab": {
          "base_uri": "https://localhost:8080/"
        },
        "id": "kz_W3IftVMpD",
        "outputId": "7a306560-1712-4142-a625-63ad10c0668e"
      },
      "outputs": [
        {
          "output_type": "execute_result",
          "data": {
            "text/plain": [
              "(480, 224, 224, 3)"
            ]
          },
          "metadata": {},
          "execution_count": 18
        }
      ],
      "source": [
        "new_images1.shape"
      ]
    },
    {
      "cell_type": "code",
      "execution_count": 19,
      "metadata": {
        "ExecuteTime": {
          "end_time": "2022-05-23T14:37:12.879471Z",
          "start_time": "2022-05-23T14:37:12.876344Z"
        },
        "colab": {
          "base_uri": "https://localhost:8080/"
        },
        "id": "4SBvqi0mVMpD",
        "outputId": "318790fd-9edc-4874-a83b-c9fd4c892ac4",
        "scrolled": true
      },
      "outputs": [
        {
          "output_type": "execute_result",
          "data": {
            "text/plain": [
              "(480,)"
            ]
          },
          "metadata": {},
          "execution_count": 19
        }
      ],
      "source": [
        "new_labels1.shape"
      ]
    },
    {
      "cell_type": "markdown",
      "metadata": {
        "id": "fOXrvLp2VMpD"
      },
      "source": [
        "#### Width Augmentation"
      ]
    },
    {
      "cell_type": "markdown",
      "metadata": {
        "id": "y2WYL6XeVMpD"
      },
      "source": [
        "The next method for augmentation used was width shift range. With a range of .3 the images will be randomly assigned a width down to .3 of the original image size. "
      ]
    },
    {
      "cell_type": "code",
      "execution_count": 20,
      "metadata": {
        "ExecuteTime": {
          "end_time": "2022-05-23T14:37:12.904430Z",
          "start_time": "2022-05-23T14:37:12.880692Z"
        },
        "id": "vRXsAvgpVMpD"
      },
      "outputs": [],
      "source": [
        "aug = ImageDataGenerator(width_shift_range=.3)\n",
        "aug.fit(X_train)\n",
        "aug2_data = aug.flow(X_train, y_train, batch_size=240)"
      ]
    },
    {
      "cell_type": "code",
      "execution_count": 21,
      "metadata": {
        "ExecuteTime": {
          "end_time": "2022-05-23T14:37:13.836303Z",
          "start_time": "2022-05-23T14:37:12.905556Z"
        },
        "id": "5JsawItTVMpD"
      },
      "outputs": [],
      "source": [
        "aug2_images, aug2_labels = next(aug2_data)"
      ]
    },
    {
      "cell_type": "code",
      "execution_count": 22,
      "metadata": {
        "ExecuteTime": {
          "end_time": "2022-05-23T14:37:13.970198Z",
          "start_time": "2022-05-23T14:37:13.837257Z"
        },
        "id": "tTYNA-_FVMpD"
      },
      "outputs": [],
      "source": [
        "new_images2 = np.concatenate([new_images1, aug2_images])\n",
        "new_labels2 = np.concatenate([new_labels1, aug2_labels])"
      ]
    },
    {
      "cell_type": "markdown",
      "metadata": {
        "id": "yTt4dtS0VMpD"
      },
      "source": [
        "#### Height Augmentation"
      ]
    },
    {
      "cell_type": "markdown",
      "metadata": {
        "id": "B_3cqar6VMpD"
      },
      "source": [
        "The next method for augmentation used was height shift range. With a range of .3 the images will be randomly assigned a height down to .3 of the original image size."
      ]
    },
    {
      "cell_type": "code",
      "execution_count": 23,
      "metadata": {
        "ExecuteTime": {
          "end_time": "2022-05-23T14:37:13.994817Z",
          "start_time": "2022-05-23T14:37:13.971519Z"
        },
        "id": "JMp9DIJdVMpD"
      },
      "outputs": [],
      "source": [
        "aug = ImageDataGenerator(height_shift_range=.3)\n",
        "aug.fit(X_train)\n",
        "aug3_data = aug.flow(X_train, y_train, batch_size=240)"
      ]
    },
    {
      "cell_type": "code",
      "execution_count": 24,
      "metadata": {
        "ExecuteTime": {
          "end_time": "2022-05-23T14:37:14.909526Z",
          "start_time": "2022-05-23T14:37:13.995765Z"
        },
        "id": "fkHjqgyzVMpD"
      },
      "outputs": [],
      "source": [
        "aug3_images, aug3_labels = next(aug3_data)"
      ]
    },
    {
      "cell_type": "code",
      "execution_count": 25,
      "metadata": {
        "ExecuteTime": {
          "end_time": "2022-05-23T14:37:15.082265Z",
          "start_time": "2022-05-23T14:37:14.910455Z"
        },
        "id": "8LLpw__3VMpD"
      },
      "outputs": [],
      "source": [
        "new_images3 = np.concatenate([new_images2, aug3_images])\n",
        "new_labels3 = np.concatenate([new_labels2, aug3_labels])"
      ]
    },
    {
      "cell_type": "markdown",
      "metadata": {
        "ExecuteTime": {
          "end_time": "2022-05-18T18:10:53.996172Z",
          "start_time": "2022-05-18T18:10:53.989621Z"
        },
        "id": "-CzmvIhBVMpD"
      },
      "source": [
        "#### Rotation Augmentation"
      ]
    },
    {
      "cell_type": "markdown",
      "metadata": {
        "ExecuteTime": {
          "end_time": "2022-05-20T18:31:05.497987Z",
          "start_time": "2022-05-20T18:31:05.418085Z"
        },
        "id": "Zc9ICCBUVMpD"
      },
      "source": [
        "Next we apply a random rotation to each image up to 30 degrees."
      ]
    },
    {
      "cell_type": "code",
      "execution_count": 26,
      "metadata": {
        "ExecuteTime": {
          "end_time": "2022-05-23T14:37:15.104454Z",
          "start_time": "2022-05-23T14:37:15.083345Z"
        },
        "id": "r2wYlSbGVMpD"
      },
      "outputs": [],
      "source": [
        "aug = ImageDataGenerator(rotation_range=30)\n",
        "aug.fit(X_train)\n",
        "aug4_data = aug.flow(X_train, y_train, batch_size=240)"
      ]
    },
    {
      "cell_type": "code",
      "execution_count": 27,
      "metadata": {
        "ExecuteTime": {
          "end_time": "2022-05-23T14:37:16.015689Z",
          "start_time": "2022-05-23T14:37:15.105400Z"
        },
        "id": "Eltvmy_pVMpD"
      },
      "outputs": [],
      "source": [
        "aug4_images, aug4_labels = next(aug4_data)"
      ]
    },
    {
      "cell_type": "code",
      "execution_count": 28,
      "metadata": {
        "ExecuteTime": {
          "end_time": "2022-05-23T14:37:16.227785Z",
          "start_time": "2022-05-23T14:37:16.016782Z"
        },
        "id": "7Oyz8kNFVMpD"
      },
      "outputs": [],
      "source": [
        "new_images4 = np.concatenate([new_images3, aug4_images])\n",
        "new_labels4 = np.concatenate([new_labels3, aug4_labels])"
      ]
    },
    {
      "cell_type": "markdown",
      "metadata": {
        "id": "zrVoakjgVMpE"
      },
      "source": [
        "#### Shear Augmentation"
      ]
    },
    {
      "cell_type": "markdown",
      "metadata": {
        "id": "4MhkPjfRVMpE"
      },
      "source": [
        "We then apply a random shear value to each image. This angles the corners of each image up to 30 degrees."
      ]
    },
    {
      "cell_type": "code",
      "execution_count": 29,
      "metadata": {
        "ExecuteTime": {
          "end_time": "2022-05-23T14:37:16.271825Z",
          "start_time": "2022-05-23T14:37:16.228737Z"
        },
        "id": "A98t7WqlVMpE"
      },
      "outputs": [],
      "source": [
        "aug = ImageDataGenerator(shear_range=30)\n",
        "aug.fit(X_train)\n",
        "aug5_data = aug.flow(X_train, y_train, batch_size=240)"
      ]
    },
    {
      "cell_type": "code",
      "execution_count": 30,
      "metadata": {
        "ExecuteTime": {
          "end_time": "2022-05-23T14:37:17.170867Z",
          "start_time": "2022-05-23T14:37:16.272764Z"
        },
        "id": "4Vy3Qkq1VMpE"
      },
      "outputs": [],
      "source": [
        "aug5_images, aug5_labels = next(aug5_data)"
      ]
    },
    {
      "cell_type": "code",
      "execution_count": 31,
      "metadata": {
        "ExecuteTime": {
          "end_time": "2022-05-23T14:37:17.493386Z",
          "start_time": "2022-05-23T14:37:17.172084Z"
        },
        "id": "Zo08rN86VMpE"
      },
      "outputs": [],
      "source": [
        "new_images5 = np.concatenate([new_images4, aug5_images])\n",
        "new_labels5 = np.concatenate([new_labels4, aug5_labels])"
      ]
    },
    {
      "cell_type": "markdown",
      "metadata": {
        "id": "vPAJLxNgVMpE"
      },
      "source": [
        "#### Brightness Augmentation"
      ]
    },
    {
      "cell_type": "markdown",
      "metadata": {
        "ExecuteTime": {
          "end_time": "2022-05-20T18:49:59.247310Z",
          "start_time": "2022-05-20T18:49:59.202157Z"
        },
        "id": "q--F3ZLOVMpE"
      },
      "source": [
        "Finally we have brightness augmentation. This applies a random brightness shift within the provided range. "
      ]
    },
    {
      "cell_type": "code",
      "execution_count": 32,
      "metadata": {
        "ExecuteTime": {
          "end_time": "2022-05-23T14:37:17.518943Z",
          "start_time": "2022-05-23T14:37:17.494551Z"
        },
        "id": "P9euYu32VMpE"
      },
      "outputs": [],
      "source": [
        "aug = ImageDataGenerator(brightness_range=(1,2))\n",
        "aug.fit(X_train)\n",
        "aug5_data = aug.flow(X_train, y_train, batch_size=240)"
      ]
    },
    {
      "cell_type": "code",
      "execution_count": 33,
      "metadata": {
        "ExecuteTime": {
          "end_time": "2022-05-23T14:37:17.599761Z",
          "start_time": "2022-05-23T14:37:17.519903Z"
        },
        "id": "I8FjcCHlVMpE"
      },
      "outputs": [],
      "source": [
        "aug6_images, aug6_labels = next(aug5_data)"
      ]
    },
    {
      "cell_type": "code",
      "execution_count": 34,
      "metadata": {
        "ExecuteTime": {
          "end_time": "2022-05-23T14:37:17.933568Z",
          "start_time": "2022-05-23T14:37:17.600704Z"
        },
        "id": "crrsJuFCVMpE"
      },
      "outputs": [],
      "source": [
        "new_images6 = np.concatenate([new_images5, aug6_images])\n",
        "new_labels6 = np.concatenate([new_labels5, aug6_labels])"
      ]
    },
    {
      "cell_type": "code",
      "execution_count": 35,
      "metadata": {
        "ExecuteTime": {
          "end_time": "2022-05-23T14:37:17.940498Z",
          "start_time": "2022-05-23T14:37:17.936520Z"
        },
        "colab": {
          "base_uri": "https://localhost:8080/"
        },
        "id": "LbIctUqMVMpE",
        "outputId": "ecc85fee-6519-48a8-e966-97fed3045e61"
      },
      "outputs": [
        {
          "output_type": "execute_result",
          "data": {
            "text/plain": [
              "(1680,)"
            ]
          },
          "metadata": {},
          "execution_count": 35
        }
      ],
      "source": [
        "new_labels6.shape"
      ]
    },
    {
      "cell_type": "markdown",
      "metadata": {
        "id": "PraGgowOVMpE"
      },
      "source": [
        "#### A little bit of everything Augmentation"
      ]
    },
    {
      "cell_type": "markdown",
      "metadata": {
        "id": "oeWeNkeEVMpE"
      },
      "source": [
        "Now that we have augmented each image with a single augmentation, we will again augment all images with a combination of each augmentation. "
      ]
    },
    {
      "cell_type": "code",
      "execution_count": 36,
      "metadata": {
        "ExecuteTime": {
          "end_time": "2022-05-23T14:37:23.897668Z",
          "start_time": "2022-05-23T14:37:23.306209Z"
        },
        "id": "3KKktYHYVMpE"
      },
      "outputs": [],
      "source": [
        "aug = ImageDataGenerator(zoom_range=[.7,.9], width_shift_range=.15, height_shift_range=.15, rotation_range=15, shear_range=15, brightness_range=(1,1.5))\n",
        "aug.fit(new_images6)\n",
        "aug_data_final = aug.flow(new_images6, new_labels6, batch_size=1680)"
      ]
    },
    {
      "cell_type": "code",
      "execution_count": 37,
      "metadata": {
        "ExecuteTime": {
          "end_time": "2022-05-23T14:37:31.294868Z",
          "start_time": "2022-05-23T14:37:24.067101Z"
        },
        "id": "YRPNXMZnVMpE"
      },
      "outputs": [],
      "source": [
        "aug_final_images, aug_final_labels = next(aug_data_final)"
      ]
    },
    {
      "cell_type": "code",
      "execution_count": 38,
      "metadata": {
        "ExecuteTime": {
          "end_time": "2022-05-23T14:37:32.008243Z",
          "start_time": "2022-05-23T14:37:31.297280Z"
        },
        "id": "bmTXvNIBVMpE"
      },
      "outputs": [],
      "source": [
        "final_images = np.concatenate([new_images6, aug_final_images])\n",
        "final_labels = np.concatenate([new_labels6, aug_final_labels])"
      ]
    },
    {
      "cell_type": "code",
      "execution_count": 39,
      "metadata": {
        "ExecuteTime": {
          "end_time": "2022-05-23T14:37:32.015100Z",
          "start_time": "2022-05-23T14:37:32.009292Z"
        },
        "colab": {
          "base_uri": "https://localhost:8080/"
        },
        "id": "RmyXE3t_VMpE",
        "outputId": "61f6f6d7-7702-400e-a002-f8c0c5df7cdf"
      },
      "outputs": [
        {
          "output_type": "execute_result",
          "data": {
            "text/plain": [
              "(3360, 224, 224, 3)"
            ]
          },
          "metadata": {},
          "execution_count": 39
        }
      ],
      "source": [
        "final_images.shape"
      ]
    },
    {
      "cell_type": "code",
      "execution_count": 40,
      "metadata": {
        "ExecuteTime": {
          "end_time": "2022-05-23T14:37:32.019455Z",
          "start_time": "2022-05-23T14:37:32.016958Z"
        },
        "colab": {
          "base_uri": "https://localhost:8080/"
        },
        "id": "PSMlqrLQVMpE",
        "outputId": "4162a8de-b9ba-4097-c06e-31f5796da6dd"
      },
      "outputs": [
        {
          "output_type": "execute_result",
          "data": {
            "text/plain": [
              "(3360,)"
            ]
          },
          "metadata": {},
          "execution_count": 40
        }
      ],
      "source": [
        "final_labels.shape"
      ]
    },
    {
      "cell_type": "code",
      "execution_count": 41,
      "metadata": {
        "ExecuteTime": {
          "end_time": "2022-05-23T14:37:32.033769Z",
          "start_time": "2022-05-23T14:37:32.020208Z"
        },
        "colab": {
          "base_uri": "https://localhost:8080/",
          "height": 0
        },
        "id": "XcGO7NBlVMpE",
        "outputId": "b34639eb-d617-4d4c-eb39-7e2ec4beac13"
      },
      "outputs": [
        {
          "output_type": "execute_result",
          "data": {
            "text/plain": [
              "<PIL.Image.Image image mode=RGB size=224x224 at 0x7F41F5C37150>"
            ],
            "image/png": "[encoded data removed]"
          },
          "metadata": {},
          "execution_count": 41
        }
      ],
      "source": [
        "array_to_img(final_images[0])"
      ]
    },
    {
      "cell_type": "code",
      "execution_count": 42,
      "metadata": {
        "ExecuteTime": {
          "end_time": "2022-05-23T14:37:32.040012Z",
          "start_time": "2022-05-23T14:37:32.034835Z"
        },
        "colab": {
          "base_uri": "https://localhost:8080/"
        },
        "id": "Etb2N03MVMpE",
        "outputId": "89f9fd8d-c5d4-4260-dae8-26b0d8eca9d9"
      },
      "outputs": [
        {
          "output_type": "execute_result",
          "data": {
            "text/plain": [
              "0.0"
            ]
          },
          "metadata": {},
          "execution_count": 42
        }
      ],
      "source": [
        "final_labels[0]"
      ]
    },
    {
      "cell_type": "markdown",
      "metadata": {
        "id": "z50UnX6lVMpF"
      },
      "source": [
        "## Modeling"
      ]
    },
    {
      "cell_type": "markdown",
      "metadata": {
        "id": "YnH0P0uyVMpF"
      },
      "source": [
        "### VGG16"
      ]
    },
    {
      "cell_type": "code",
      "source": [
        "vgg16 = VGG16(input_shape=(224,224, 3), classes=1, include_top=False, classifier_activation='sigmoid')"
      ],
      "metadata": {
        "id": "cPOB01hREsps"
      },
      "execution_count": 43,
      "outputs": []
    },
    {
      "cell_type": "code",
      "source": [
        "model5 = Sequential()"
      ],
      "metadata": {
        "id": "-kegpMBlXOJC"
      },
      "execution_count": 44,
      "outputs": []
    },
    {
      "cell_type": "code",
      "source": [
        "model5.add(vgg16)"
      ],
      "metadata": {
        "id": "U4QV_G9cEsnJ"
      },
      "execution_count": 45,
      "outputs": []
    },
    {
      "cell_type": "code",
      "source": [
        "model5.add(layers.Flatten())\n",
        "model5.add(layers.Dense(1, activation='sigmoid'))"
      ],
      "metadata": {
        "id": "4ypFC6jUEskx"
      },
      "execution_count": 46,
      "outputs": []
    },
    {
      "cell_type": "code",
      "source": [
        "adam = Adam(learning_rate=.0001)\n",
        "model5.compile(optimizer=adam,\n",
        "                  loss='binary_crossentropy',\n",
        "                  metrics=['accuracy'])"
      ],
      "metadata": {
        "id": "cI28WF7bYhAv"
      },
      "execution_count": 47,
      "outputs": []
    },
    {
      "cell_type": "code",
      "source": [
        "model5.fit(final_images, final_labels, validation_split=.2)"
      ],
      "metadata": {
        "id": "FY-ZBlXSUNWW",
        "outputId": "cd991258-0cc3-4e89-bc79-d079a6d1e1db",
        "colab": {
          "base_uri": "https://localhost:8080/"
        }
      },
      "execution_count": 48,
      "outputs": [
        {
          "output_type": "stream",
          "name": "stdout",
          "text": [
            "84/84 [==============================] - 35s 261ms/step - loss: 0.7940 - accuracy: 0.5246 - val_loss: 0.6848 - val_accuracy: 0.5357\n"
          ]
        },
        {
          "output_type": "execute_result",
          "data": {
            "text/plain": [
              "<keras.callbacks.History at 0x7f41f54f7590>"
            ]
          },
          "metadata": {},
          "execution_count": 48
        }
      ]
    },
    {
      "cell_type": "code",
      "source": [
        "model5.fit(final_images, final_labels, validation_split=.2)"
      ],
      "metadata": {
        "id": "ws84HI-eNxA2",
        "outputId": "5a6eb189-1727-4d66-aeb3-f8a682e0559d",
        "colab": {
          "base_uri": "https://localhost:8080/"
        }
      },
      "execution_count": null,
      "outputs": [
        {
          "output_type": "stream",
          "name": "stdout",
          "text": [
            "84/84 [==============================] - ETA: 0s - loss: 0.6805 - accuracy: 0.5655"
          ]
        }
      ]
    },
    {
      "cell_type": "code",
      "source": [
        "model5.fit(final_images, final_labels, validation_split=.2)"
      ],
      "metadata": {
        "id": "oTRS8F4POiWo",
        "outputId": "92db639f-0ff1-45fd-8092-f8f853b7f9fc",
        "colab": {
          "base_uri": "https://localhost:8080/"
        }
      },
      "execution_count": 53,
      "outputs": [
        {
          "output_type": "stream",
          "name": "stdout",
          "text": [
            "84/84 [==============================] - 22s 258ms/step - loss: 0.6442 - accuracy: 0.6217 - val_loss: 0.6692 - val_accuracy: 0.5670\n"
          ]
        },
        {
          "output_type": "execute_result",
          "data": {
            "text/plain": [
              "<keras.callbacks.History at 0x7f78cda88cd0>"
            ]
          },
          "metadata": {},
          "execution_count": 53
        }
      ]
    },
    {
      "cell_type": "code",
      "execution_count": 49,
      "metadata": {
        "colab": {
          "base_uri": "https://localhost:8080/"
        },
        "id": "FfxfRlmGVMpF",
        "outputId": "43f60aae-85a8-402e-bb59-b81429e91248"
      },
      "outputs": [
        {
          "output_type": "stream",
          "name": "stdout",
          "text": [
            "INFO:tensorflow:Assets written to: ram://a7a8a6c2-a978-4acb-98be-72ba8d0d55b2/assets\n"
          ]
        }
      ],
      "source": [
        "model5_pickle = 'drive/MyDrive/model5_pickle.sav'\n",
        "pickle.dump(model5, open(model5_pickle, 'wb'))"
      ]
    },
    {
      "cell_type": "code",
      "source": [
        ""
      ],
      "metadata": {
        "id": "Fmzqq7XbzXAs"
      },
      "execution_count": null,
      "outputs": []
    }
  ],
  "metadata": {
    "accelerator": "GPU",
    "colab": {
      "name": "Model3_Notebook.ipynb",
      "provenance": []
    },
    "kernelspec": {
      "display_name": "tf-test",
      "language": "python",
      "name": "tf-test"
    },
    "language_info": {
      "codemirror_mode": {
        "name": "ipython",
        "version": 3
      },
      "file_extension": ".py",
      "mimetype": "text/x-python",
      "name": "python",
      "nbconvert_exporter": "python",
      "pygments_lexer": "ipython3",
      "version": "3.6.13"
    },
    "toc": {
      "base_numbering": 1,
      "nav_menu": {},
      "number_sections": true,
      "sideBar": true,
      "skip_h1_title": false,
      "title_cell": "Table of Contents",
      "title_sidebar": "Contents",
      "toc_cell": false,
      "toc_position": {},
      "toc_section_display": true,
      "toc_window_display": false
    }
  },
  "nbformat": 4,
  "nbformat_minor": 0
}